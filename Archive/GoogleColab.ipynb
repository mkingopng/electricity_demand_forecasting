{
 "cells": [
  {
   "cell_type": "markdown",
   "metadata": {
    "id": "KvzS9oPYBJQZ"
   },
   "source": [
    "<a href=\"https://colab.research.google.com/github/UNSW-ZZSC9020/project/blob/main/src/GoogleColab.ipynb\" target=\"_parent\">\n",
    "  <img src=\"https://colab.research.google.com/assets/colab-badge.svg\" alt=\"Open In Colab\"/>\n",
    "</a>"
   ]
  },
  {
   "cell_type": "markdown",
   "metadata": {},
   "source": [
    "# Welcome to ZZSC9020\n",
    "\n",
    "This Python notebook shows how to clone the course GitHub repository on Google Colab.\n",
    "\n",
    "You can develop your data analysis on Google Colab without downloading the data to your computer."
   ]
  },
  {
   "cell_type": "code",
   "execution_count": 7,
   "metadata": {
    "colab": {
     "base_uri": "https://localhost:8080/"
    },
    "id": "brynNOEi6FzS",
    "outputId": "41c6d4a4-bc13-4b14-c75c-951705efe1fb",
    "ExecuteTime": {
     "end_time": "2024-04-14T07:01:08.037682Z",
     "start_time": "2024-04-14T07:01:08.035665Z"
    }
   },
   "source": [
    "# Clone the ZZSC9020 project repository from GitHub\n",
    "# !git clone https://github.com/UNSW-ZZSC9020/project.git"
   ],
   "outputs": []
  },
  {
   "cell_type": "code",
   "execution_count": 8,
   "metadata": {
    "id": "44VdVtiX7Ukn",
    "ExecuteTime": {
     "end_time": "2024-04-14T07:01:08.392689Z",
     "start_time": "2024-04-14T07:01:08.049577Z"
    }
   },
   "source": [
    "# Create a data folder\n",
    "!mkdir -p data\n",
    "# Joint forecast demand_nsw files into a single file. \n",
    "!cd data\n",
    "!cat forecastdemand_nsw.csv.zip.part* > forecastdemand_nsw_csv.zip\n",
    "# fix_me: i fixed this once, why is i it not working?"
   ],
   "outputs": []
  },
  {
   "cell_type": "code",
   "execution_count": 9,
   "metadata": {
    "colab": {
     "base_uri": "https://localhost:8080/"
    },
    "id": "GdnC6dlz8agZ",
    "outputId": "fee967de-019b-44d9-83c0-526577b1baf0",
    "ExecuteTime": {
     "end_time": "2024-04-14T07:01:08.739984Z",
     "start_time": "2024-04-14T07:01:08.393920Z"
    }
   },
   "source": [
    "# Unzip the data files into the data folder\n",
    "!unzip data/forecastdemand_nsw_csv.zip -d data\n",
    "!unzip project/data/temperature_nsw_csv.zip -d data\n",
    "!unzip project/data/totaldemand_nsw_csv.zip -d data\n",
    "\n",
    "# Remove forecastdemand_nsw.csv.zip\n",
    "# !rm data/forecastdemand_nsw_csv.zip"
   ],
   "outputs": []
  }
 ],
 "metadata": {
  "colab": {
   "collapsed_sections": [],
   "name": "GoogleColab.ipynb",
   "provenance": []
  },
  "kernelspec": {
   "display_name": "Python 3",
   "language": "python",
   "name": "python3"
  },
  "language_info": {
   "codemirror_mode": {
    "name": "ipython",
    "version": 3
   },
   "file_extension": ".py",
   "mimetype": "text/x-python",
   "name": "python",
   "nbconvert_exporter": "python",
   "pygments_lexer": "ipython3",
   "version": "3.6.12"
  }
 },
 "nbformat": 4,
 "nbformat_minor": 1
}
