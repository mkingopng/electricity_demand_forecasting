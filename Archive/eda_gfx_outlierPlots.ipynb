{
 "cells": [
  {
   "cell_type": "code",
   "id": "initial_id",
   "metadata": {
    "collapsed": true,
    "ExecuteTime": {
     "end_time": "2024-04-18T14:08:31.701317Z",
     "start_time": "2024-04-18T14:08:31.698017Z"
    }
   },
   "source": [
    "import pandas as pd\n",
    "import matplotlib.pyplot as plt"
   ],
   "execution_count": 1,
   "outputs": []
  },
  {
   "metadata": {
    "ExecuteTime": {
     "end_time": "2024-04-18T14:08:31.858962Z",
     "start_time": "2024-04-18T14:08:31.701317Z"
    }
   },
   "cell_type": "code",
   "source": [
    "link = './../data/NSW/nsw_df.parquet'\n",
    "nsw_df = pd.read_parquet(link)\n",
    "nsw_df.head(2)"
   ],
   "id": "7b7a7575d516f2b6",
   "execution_count": 2,
   "outputs": []
  },
  {
   "metadata": {
    "ExecuteTime": {
     "end_time": "2024-04-18T14:08:31.937031Z",
     "start_time": "2024-04-18T14:08:31.858962Z"
    }
   },
   "cell_type": "code",
   "source": [
    "c_map = {'Summer':'red', 'Autumn':'brown', 'Winter':'blue', 'Spring':'orange'}\n",
    "nsw_df['season_name'] = nsw_df['month'].map(lambda m: 'Summer' if m in [1, 2, 12] else ('Autumn' if m in [3, 4, 5] else ('Winter' if m in [6, 7, 8] else 'Spring'))).astype('category')"
   ],
   "id": "601b5bd80e0b9a96",
   "execution_count": 3,
   "outputs": []
  },
  {
   "metadata": {
    "ExecuteTime": {
     "end_time": "2024-04-18T14:08:31.943291Z",
     "start_time": "2024-04-18T14:08:31.938147Z"
    }
   },
   "cell_type": "code",
   "source": [
    "temp_highest_allowed = 35.16\n",
    "temp_lowest_allowed = -0.1"
   ],
   "id": "70538f3ef86aed10",
   "execution_count": 4,
   "outputs": []
  },
  {
   "metadata": {
    "ExecuteTime": {
     "end_time": "2024-04-18T14:08:31.951607Z",
     "start_time": "2024-04-18T14:08:31.943709Z"
    }
   },
   "cell_type": "code",
   "source": [
    "def outlier_plot(df=nsw_df, var_name='TOTALDEMAND', hue='season', color_map='viridis', legend_title='legend', axis_units='kW'):\n",
    "    # Main Scatter Plot\n",
    "    plt.figure(figsize=(15, 6))\n",
    "    for group in df[hue].unique():\n",
    "        df_grouped = df[df[hue] == group]\n",
    "        plt.scatter(df_grouped.index, df_grouped[var_name], c=color_map[group], edgecolor='white') #, s=20, alpha=0.7)\n",
    "   \n",
    "    # Legend\n",
    "    plt.legend(title=legend_title.title(), loc='lower right', frameon=True, labels=df[hue].unique())\n",
    "    \n",
    "    # Labelling Axis / Title\n",
    "    plt.grid(True) #Grid\n",
    "    plt.xlabel(f'Time')\n",
    "    plt.ylabel(f'{var_name.title()} ({axis_units})')\n",
    "    plt.title(f'Time Graph: {var_name.title()}')\n",
    "    \n",
    "    return None"
   ],
   "id": "e153b6a69b25e548",
   "execution_count": 5,
   "outputs": []
  },
  {
   "metadata": {
    "ExecuteTime": {
     "end_time": "2024-04-18T14:08:33.530234Z",
     "start_time": "2024-04-18T14:08:31.951607Z"
    }
   },
   "cell_type": "code",
   "source": "outlier_plot(df=nsw_df.loc['2012':'2014'],var_name='TOTALDEMAND', hue='season_name', color_map=c_map, legend_title='season')",
   "id": "35dda3af4892e837",
   "execution_count": 6,
   "outputs": []
  },
  {
   "metadata": {
    "ExecuteTime": {
     "end_time": "2024-04-17T03:05:53.376669Z",
     "start_time": "2024-04-17T03:05:52.008317Z"
    }
   },
   "cell_type": "code",
   "source": "outlier_plot(var_name='TEMPERATURE', hue='season_name', axis_units='°C', color_map=c_map,  legend_title='season')",
   "id": "d15acf9afd265c20",
   "execution_count": 72,
   "outputs": []
  },
  {
   "metadata": {
    "ExecuteTime": {
     "end_time": "2024-04-17T09:59:37.580013Z",
     "start_time": "2024-04-17T09:59:36.810773Z"
    }
   },
   "cell_type": "code",
   "source": [
    "c_map_weekdays = {\"Monday\": \"red\", \"Tuesday\": \"blue\", \"Wednesday\": \"green\", \"Thursday\": \"orange\", \"Friday\": \"purple\", \"Saturday\": \"brown\", \"Sunday\": \"black\"}\n",
    "\n",
    "c_map_weekdays = {\"Monday\": \"brown\", \"Tuesday\": \"brown\", \"Wednesday\": \"brown\", \"Thursday\": \"brown\", \"Friday\": \"brown\", \"Saturday\": \"orange\", \"Sunday\": \"orange\"}\n",
    "nsw_df['day_names'] = nsw_df.index.day_name().astype('category')\n",
    "outlier_plot(df=nsw_df.loc['2015'], var_name='TEMPERATURE', hue='day_names', axis_units='°C', color_map=c_map_weekdays,  legend_title='day of week')"
   ],
   "id": "6bbc2c43226292d",
   "execution_count": 75,
   "outputs": []
  }
 ],
 "metadata": {
  "kernelspec": {
   "display_name": "Python 3",
   "language": "python",
   "name": "python3"
  },
  "language_info": {
   "codemirror_mode": {
    "name": "ipython",
    "version": 2
   },
   "file_extension": ".py",
   "mimetype": "text/x-python",
   "name": "python",
   "nbconvert_exporter": "python",
   "pygments_lexer": "ipython2",
   "version": "2.7.6"
  }
 },
 "nbformat": 4,
 "nbformat_minor": 5
}
