{
 "cells": [
  {
   "cell_type": "markdown",
   "source": [
    "# How accurate is AEMO's forecast right now?"
   ],
   "metadata": {
    "collapsed": false
   },
   "id": "634684f63acab24e"
  },
  {
   "cell_type": "code",
   "execution_count": 1,
   "id": "initial_id",
   "metadata": {
    "collapsed": true,
    "ExecuteTime": {
     "end_time": "2024-04-09T09:28:28.148923Z",
     "start_time": "2024-04-09T09:28:27.882057Z"
    }
   },
   "outputs": [],
   "source": [
    "import pandas as pd\n",
    "import numpy as np\n",
    "\n",
    "# load the data\n",
    "df = pd.read_parquet('./../data/NSW/nsw_df.parquet')"
   ]
  },
  {
   "cell_type": "code",
   "outputs": [],
   "source": [
    "# calc absolute differences\n",
    "absolute_differences = np.abs(df['TOTALDEMAND'] - df['FORECASTDEMAND'])"
   ],
   "metadata": {
    "collapsed": false,
    "ExecuteTime": {
     "end_time": "2024-04-09T09:28:28.153733Z",
     "start_time": "2024-04-09T09:28:28.149924Z"
    }
   },
   "id": "ec4b785a077fda9a",
   "execution_count": 2
  },
  {
   "cell_type": "code",
   "outputs": [],
   "source": [
    "# Calc MAE\n",
    "mae = absolute_differences.mean()"
   ],
   "metadata": {
    "collapsed": false,
    "ExecuteTime": {
     "end_time": "2024-04-09T09:28:28.161272Z",
     "start_time": "2024-04-09T09:28:28.154448Z"
    }
   },
   "id": "bd8dede02953dc61",
   "execution_count": 3
  },
  {
   "cell_type": "code",
   "outputs": [
    {
     "name": "stdout",
     "output_type": "stream",
     "text": [
      "Mean Absolute Error (MAE): 150.61393577380875\n"
     ]
    }
   ],
   "source": [
    "print(f\"Mean Absolute Error (MAE): {mae}\")"
   ],
   "metadata": {
    "collapsed": false,
    "ExecuteTime": {
     "end_time": "2024-04-09T09:28:28.174587Z",
     "start_time": "2024-04-09T09:28:28.161839Z"
    }
   },
   "id": "cb0e27dfcc6e496a",
   "execution_count": 4
  },
  {
   "cell_type": "markdown",
   "source": [
    "# So, a better forecast means an MAE lower than 150"
   ],
   "metadata": {
    "collapsed": false
   },
   "id": "f885ceaa72ba0e6d"
  }
 ],
 "metadata": {
  "kernelspec": {
   "display_name": "Python 3",
   "language": "python",
   "name": "python3"
  },
  "language_info": {
   "codemirror_mode": {
    "name": "ipython",
    "version": 2
   },
   "file_extension": ".py",
   "mimetype": "text/x-python",
   "name": "python",
   "nbconvert_exporter": "python",
   "pygments_lexer": "ipython2",
   "version": "2.7.6"
  }
 },
 "nbformat": 4,
 "nbformat_minor": 5
}
