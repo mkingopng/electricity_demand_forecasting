{
 "cells": [
  {
   "cell_type": "code",
   "execution_count": 1,
   "id": "initial_id",
   "metadata": {
    "collapsed": true,
    "ExecuteTime": {
     "end_time": "2024-04-05T10:23:48.051873Z",
     "start_time": "2024-04-05T10:23:47.943017Z"
    }
   },
   "source": [
    "import xgboost as xgb\n",
    "from xgboost.callback import TrainingCallback\n",
    "import pandas as pd\n",
    "import numpy as np\n",
    "from sklearn.metrics import mean_absolute_error\n",
    "from sklearn.model_selection import TimeSeriesSplit, GridSearchCV, ParameterGrid\n",
    "from sklearn.base import clone\n",
    "# import wandb\n",
    "import matplotlib.pyplot as plt"
   ],
   "outputs": []
  },
  {
   "cell_type": "code",
   "source": [
    "class CFG:\n",
    "    n_in = 6\n",
    "    n_test = 336\n",
    "    wandb_project_name = 'electricity_demand_forecasting'\n",
    "    wandb_run_name = 'xgboost'"
   ],
   "metadata": {
    "collapsed": false,
    "ExecuteTime": {
     "end_time": "2024-04-05T10:23:48.054427Z",
     "start_time": "2024-04-05T10:23:48.052601Z"
    }
   },
   "id": "87b77842828a092a",
   "execution_count": 2,
   "outputs": []
  },
  {
   "cell_type": "code",
   "source": [
    "class WandbCallback(TrainingCallback):\n",
    "    def __init__(self, period=1):\n",
    "        self.period = period\n",
    "\n",
    "    def after_iteration(self, model, epoch, evals_log):\n",
    "        if epoch % self.period == 0:\n",
    "            # Assuming 'mae' is being logged. Adjust if a different metric name is used.\n",
    "            mae = evals_log['train']['mae'][-1]\n",
    "            # wandb.log({'train-mae': mae})\n",
    "        return False"
   ],
   "metadata": {
    "collapsed": false,
    "ExecuteTime": {
     "end_time": "2024-04-05T10:23:48.058039Z",
     "start_time": "2024-04-05T10:23:48.055053Z"
    }
   },
   "id": "7ce9c90da54b643c",
   "execution_count": 3,
   "outputs": []
  },
  {
   "cell_type": "code",
   "source": [
    "def series_to_supervised(data, n_in=1, n_out=1, dropnan=True, target_var='TOTALDEMAND'):\n",
    "    n_vars = 1 if type(data) is list else data.shape[1]\n",
    "    df = pd.DataFrame(data)\n",
    "    cols, names = list(), list()\n",
    "    \n",
    "    # Input sequence (t-n, ... t-1)\n",
    "    for i in range(n_in, 0, -1):\n",
    "        cols.append(df.drop(columns=target_var).shift(i))\n",
    "        names += [('%s(t-%d)' % (df.columns[j], i)) for j in range(n_vars) if df.columns[j] != target_var]\n",
    "    \n",
    "    # Forecast sequence (t+1, ... t+n_out-1), only for predictors, not target\n",
    "    # Note: We adjust n_out to n_out-1 to make room for the actual target variable at t\n",
    "    for i in range(1, n_out):\n",
    "        cols.append(df.drop(columns=target_var).shift(-i))\n",
    "        names += [('%s(t+%d)' % (df.columns[j], i)) for j in range(n_vars) if df.columns[j] != target_var]\n",
    "\n",
    "    # Add the target variable column at t (current timestep)\n",
    "    cols.append(df[[target_var]])\n",
    "    names.append('%s(t)' % target_var)\n",
    "    \n",
    "    # Combine everything\n",
    "    agg = pd.concat(cols, axis=1)\n",
    "    agg.columns = names\n",
    "    \n",
    "    # Drop rows with NaN values\n",
    "    if dropnan:\n",
    "        agg.dropna(inplace=True)\n",
    "    \n",
    "    return agg"
   ],
   "metadata": {
    "collapsed": false,
    "ExecuteTime": {
     "end_time": "2024-04-05T10:23:48.061974Z",
     "start_time": "2024-04-05T10:23:48.058587Z"
    }
   },
   "id": "da3b8ed39caecef",
   "execution_count": 4,
   "outputs": []
  },
  {
   "cell_type": "code",
   "source": [
    "def train_test_split(data, n_test):\n",
    "    return data[:-n_test, :], data[-n_test:, :]"
   ],
   "metadata": {
    "collapsed": false,
    "ExecuteTime": {
     "end_time": "2024-04-05T10:23:48.066323Z",
     "start_time": "2024-04-05T10:23:48.062527Z"
    }
   },
   "id": "eb283db89d320ad5",
   "execution_count": 5,
   "outputs": []
  },
  {
   "cell_type": "code",
   "source": [
    "def diy_cv(model, param_grid, splits, trainX, trainy):\n",
    "    best_score = float(\"inf\")\n",
    "    best_params = None\n",
    "    for params in ParameterGrid(param_grid):\n",
    "        scores = []\n",
    "        for train_idx, val_idx in splits.split(trainX):\n",
    "            clone_model = clone(model)\n",
    "            clone_model.set_params(**params)\n",
    "            X_train_fold, y_train_fold = trainX.iloc[train_idx], trainy.iloc[train_idx]  # Corrected to use .iloc for trainy\n",
    "            X_val_fold, y_val_fold = trainX.iloc[val_idx], trainy.iloc[val_idx]  # Corrected to use .iloc for trainy\n",
    "            clone_model.fit(X_train_fold, y_train_fold)\n",
    "            predictions = clone_model.predict(X_val_fold)\n",
    "            score = mean_absolute_error(y_val_fold, predictions)\n",
    "            scores.append(score)\n",
    "        avg_score = np.mean(scores)\n",
    "        if avg_score < best_score:\n",
    "            best_score = avg_score\n",
    "            best_params = params\n",
    "        print(f\"Params: {params}, Avg MAE: {avg_score}\")\n",
    "    return best_params, best_score"
   ],
   "metadata": {
    "collapsed": false,
    "ExecuteTime": {
     "end_time": "2024-04-05T10:23:48.069944Z",
     "start_time": "2024-04-05T10:23:48.066882Z"
    }
   },
   "id": "a19eb561b7e08f39",
   "execution_count": 6,
   "outputs": []
  },
  {
   "cell_type": "code",
   "source": [
    "# def log_evaluation(period=1, show_stdv=True):\n",
    "#     def callback(env):\n",
    "#         if env.iteration % period == 0:\n",
    "#             # wandb.log({\"Training MAE\": env.evaluation_result_list[0][1], \"Validation MAE\": env.evaluation_result_list[1][1]})\n",
    "#     return callback"
   ],
   "metadata": {
    "collapsed": false,
    "ExecuteTime": {
     "end_time": "2024-04-05T10:23:48.074112Z",
     "start_time": "2024-04-05T10:23:48.070586Z"
    }
   },
   "id": "830434d798a0b030",
   "execution_count": 7,
   "outputs": []
  },
  {
   "cell_type": "code",
   "source": [
    "# def wandb_callback():\n",
    "#     def callback(env):\n",
    "#         for i, eval_result in enumerate(env.evaluation_result_list):# wandb.log({f\"{eval_result[0]}-{eval_result[1]}\": eval_result[2]})\n",
    "#     return callback"
   ],
   "metadata": {
    "collapsed": false,
    "ExecuteTime": {
     "end_time": "2024-04-05T10:23:48.077475Z",
     "start_time": "2024-04-05T10:23:48.075620Z"
    }
   },
   "id": "d5baa1d24987bfc7",
   "execution_count": 8,
   "outputs": []
  },
  {
   "cell_type": "code",
   "source": [
    "CFG = CFG()"
   ],
   "metadata": {
    "collapsed": false,
    "ExecuteTime": {
     "end_time": "2024-04-05T10:23:48.086842Z",
     "start_time": "2024-04-05T10:23:48.078035Z"
    }
   },
   "id": "69a3feab2d20334e",
   "execution_count": 9,
   "outputs": []
  },
  {
   "cell_type": "code",
   "source": [
    "config_dict = {\n",
    "        \"n_in\": 6,\n",
    "        \"n_test\": 30,\n",
    "        \"wandb_project_name\": 'electricity_demand_forecasting',\n",
    "        \"wandb_run_name\": 'xgboost',\n",
    "        \"param_grid\": {\n",
    "            'max_depth': [3, 5, 7],\n",
    "            'learning_rate': [0.01, 0.1, 0.3],\n",
    "            'n_estimators': [100, 500, 1000],\n",
    "        }\n",
    "    }"
   ],
   "metadata": {
    "collapsed": false,
    "ExecuteTime": {
     "end_time": "2024-04-05T10:23:48.096391Z",
     "start_time": "2024-04-05T10:23:48.087407Z"
    }
   },
   "id": "d46900943db9958e",
   "execution_count": 10,
   "outputs": []
  },
  {
   "cell_type": "code",
   "source": [
    "# initialize W&B\n",
    "# wandb.init(\n",
    "#     project=CFG.wandb_project_name,\n",
    "#     name=CFG.wandb_run_name,\n",
    "#     config=config_dict\n",
    "# )"
   ],
   "metadata": {
    "collapsed": false,
    "ExecuteTime": {
     "end_time": "2024-04-05T10:23:48.105760Z",
     "start_time": "2024-04-05T10:23:48.096853Z"
    }
   },
   "id": "f8975f6d5d97e818",
   "execution_count": 11,
   "outputs": []
  },
  {
   "cell_type": "code",
   "source": [
    "# load data\n",
    "df = pd.read_csv('./../data/NSW/final_df.csv', index_col=0)"
   ],
   "metadata": {
    "collapsed": false,
    "ExecuteTime": {
     "end_time": "2024-04-05T10:23:48.386798Z",
     "start_time": "2024-04-05T10:23:48.106174Z"
    }
   },
   "id": "86593834b67c9f0d",
   "execution_count": 12,
   "outputs": []
  },
  {
   "cell_type": "code",
   "source": [
    "df"
   ],
   "metadata": {
    "collapsed": false,
    "ExecuteTime": {
     "end_time": "2024-04-05T10:23:48.433035Z",
     "start_time": "2024-04-05T10:23:48.387465Z"
    }
   },
   "id": "907efcaced7d9a02",
   "execution_count": 13,
   "outputs": []
  },
  {
   "cell_type": "code",
   "source": [
    "# prepare data\n",
    "data = series_to_supervised(df, n_in=CFG.n_in, n_out=1, dropnan=True, target_var='TOTALDEMAND')\n",
    "data"
   ],
   "metadata": {
    "collapsed": false,
    "ExecuteTime": {
     "end_time": "2024-04-05T10:23:48.710017Z",
     "start_time": "2024-04-05T10:23:48.433584Z"
    }
   },
   "id": "588fccf197e2d17f",
   "execution_count": 14,
   "outputs": []
  },
  {
   "cell_type": "code",
   "source": [
    "# Assuming `data` is your DataFrame after calling series_to_supervised\n",
    "last_column = data.columns[-1]\n",
    "\n",
    "if last_column == 'TOTALDEMAND(t)':\n",
    "    print(\"The target variable is in the right position.\")\n",
    "else:\n",
    "    print(f\"The target variable is not in the right position, the last column is: {last_column}\")"
   ],
   "metadata": {
    "collapsed": false,
    "ExecuteTime": {
     "end_time": "2024-04-05T10:23:48.712610Z",
     "start_time": "2024-04-05T10:23:48.710539Z"
    }
   },
   "id": "1097394b3f27d056",
   "execution_count": 15,
   "outputs": []
  },
  {
   "cell_type": "code",
   "source": [
    "n_obs = CFG.n_in * len(df.columns)\n",
    "n_obs"
   ],
   "metadata": {
    "collapsed": false,
    "ExecuteTime": {
     "end_time": "2024-04-05T10:23:48.790813Z",
     "start_time": "2024-04-05T10:23:48.713196Z"
    }
   },
   "id": "45078c3d526e1469",
   "execution_count": 16,
   "outputs": []
  },
  {
   "cell_type": "code",
   "source": [
    "# split into input and outputs, with the last CFG.n_test rows for testing\n",
    "train, test = train_test_split(data.values, CFG.n_test)\n",
    "trainX, trainy = train[:, :-1], train[:, -1]\n",
    "testX, testy = test[:, :-1], test[:, -1]"
   ],
   "metadata": {
    "collapsed": false,
    "ExecuteTime": {
     "end_time": "2024-04-05T10:23:48.817493Z",
     "start_time": "2024-04-05T10:23:48.791371Z"
    }
   },
   "id": "1bdeaca98e0ff107",
   "execution_count": 17,
   "outputs": []
  },
  {
   "cell_type": "code",
   "source": [
    "train"
   ],
   "metadata": {
    "collapsed": false,
    "ExecuteTime": {
     "end_time": "2024-04-05T10:23:48.820602Z",
     "start_time": "2024-04-05T10:23:48.818101Z"
    }
   },
   "id": "9d628662be47f9cd",
   "execution_count": 18,
   "outputs": []
  },
  {
   "cell_type": "code",
   "source": [
    "test"
   ],
   "metadata": {
    "collapsed": false,
    "ExecuteTime": {
     "end_time": "2024-04-05T10:23:48.824961Z",
     "start_time": "2024-04-05T10:23:48.821061Z"
    }
   },
   "id": "ecdcefef7ad14f1c",
   "execution_count": 19,
   "outputs": []
  },
  {
   "cell_type": "code",
   "source": [
    "# further split training into train and validation sets for early stopping\n",
    "# nominally use the last 10% of the training data as validation\n",
    "n_val = int(len(trainX) * 0.1)\n",
    "trainX, valX = trainX[:-n_val], trainX[-n_val:]\n",
    "trainy, valy = trainy[:-n_val], trainy[-n_val:]"
   ],
   "metadata": {
    "collapsed": false,
    "ExecuteTime": {
     "end_time": "2024-04-05T10:23:48.827970Z",
     "start_time": "2024-04-05T10:23:48.825554Z"
    }
   },
   "id": "41aa99873826789e",
   "execution_count": 20,
   "outputs": []
  },
  {
   "cell_type": "code",
   "source": [
    "n_val"
   ],
   "metadata": {
    "collapsed": false,
    "ExecuteTime": {
     "end_time": "2024-04-05T10:23:48.831932Z",
     "start_time": "2024-04-05T10:23:48.828609Z"
    }
   },
   "id": "c9ac598f2af50606",
   "execution_count": 21,
   "outputs": []
  },
  {
   "cell_type": "code",
   "source": [
    "trainX"
   ],
   "metadata": {
    "collapsed": false,
    "ExecuteTime": {
     "end_time": "2024-04-05T10:23:48.839083Z",
     "start_time": "2024-04-05T10:23:48.832439Z"
    }
   },
   "id": "1424444e5a55ee6a",
   "execution_count": 22,
   "outputs": []
  },
  {
   "cell_type": "code",
   "source": [
    "valX"
   ],
   "metadata": {
    "collapsed": false,
    "ExecuteTime": {
     "end_time": "2024-04-05T10:23:48.849056Z",
     "start_time": "2024-04-05T10:23:48.839546Z"
    }
   },
   "id": "4a6847391300abc2",
   "execution_count": 23,
   "outputs": []
  },
  {
   "cell_type": "code",
   "source": [
    "trainy"
   ],
   "metadata": {
    "collapsed": false,
    "ExecuteTime": {
     "end_time": "2024-04-05T10:23:48.859178Z",
     "start_time": "2024-04-05T10:23:48.849504Z"
    }
   },
   "id": "cdd0632c910f526f",
   "execution_count": 24,
   "outputs": []
  },
  {
   "cell_type": "code",
   "source": [
    "valy"
   ],
   "metadata": {
    "collapsed": false,
    "ExecuteTime": {
     "end_time": "2024-04-05T10:23:48.868715Z",
     "start_time": "2024-04-05T10:23:48.859659Z"
    }
   },
   "id": "86ded59299f6437f",
   "execution_count": 25,
   "outputs": []
  },
  {
   "cell_type": "code",
   "source": [
    "# Convert the datasets into DMatrix format\n",
    "dtrain = xgb.DMatrix(trainX, label=trainy)\n",
    "dval = xgb.DMatrix(valX, label=valy)  # validation set\n",
    "dtest = xgb.DMatrix(testX)  # test set for final evaluation"
   ],
   "metadata": {
    "collapsed": false,
    "ExecuteTime": {
     "end_time": "2024-04-05T10:23:49.048068Z",
     "start_time": "2024-04-05T10:23:48.869171Z"
    }
   },
   "id": "4f9df66dc51412f2",
   "execution_count": 26,
   "outputs": []
  },
  {
   "cell_type": "code",
   "source": [
    "dtrain"
   ],
   "metadata": {
    "collapsed": false,
    "ExecuteTime": {
     "end_time": "2024-04-05T10:23:49.053813Z",
     "start_time": "2024-04-05T10:23:49.051633Z"
    }
   },
   "id": "154b4ef1ad4a4719",
   "execution_count": 27,
   "outputs": []
  },
  {
   "cell_type": "code",
   "source": [
    "dval"
   ],
   "metadata": {
    "collapsed": false,
    "ExecuteTime": {
     "end_time": "2024-04-05T10:23:49.136106Z",
     "start_time": "2024-04-05T10:23:49.054325Z"
    }
   },
   "id": "9f59901fa7945258",
   "execution_count": 28,
   "outputs": []
  },
  {
   "cell_type": "code",
   "source": [
    "dtest"
   ],
   "metadata": {
    "collapsed": false,
    "ExecuteTime": {
     "end_time": "2024-04-05T10:23:49.145824Z",
     "start_time": "2024-04-05T10:23:49.136657Z"
    }
   },
   "id": "40c4af8b4e4d1d23",
   "execution_count": 29,
   "outputs": []
  },
  {
   "cell_type": "code",
   "source": [
    "# def model parameters\n",
    "params = {\n",
    "    'max_depth': 3,\n",
    "    'learning_rate': 0.01,\n",
    "    'n_estimators': 1000,\n",
    "    'objective': 'reg:squarederror',\n",
    "    'eval_metric': 'mae'\n",
    "}  # example params, adjust based on best_params if you're using them"
   ],
   "metadata": {
    "collapsed": false,
    "ExecuteTime": {
     "end_time": "2024-04-05T10:23:49.153567Z",
     "start_time": "2024-04-05T10:23:49.146300Z"
    }
   },
   "id": "c668707d1e67ac7a",
   "execution_count": 30,
   "outputs": []
  },
  {
   "cell_type": "code",
   "source": [
    "# train the model\n",
    "bst = xgb.train(\n",
    "    params,\n",
    "    dtrain,\n",
    "    num_boost_round=1000,\n",
    "    evals=[(dtrain, 'train'), (dval, 'eval')],\n",
    "    # add validation set in evals if available\n",
    "    early_stopping_rounds=50,\n",
    "    callbacks=[WandbCallback()]\n",
    ")"
   ],
   "metadata": {
    "collapsed": false,
    "ExecuteTime": {
     "end_time": "2024-04-05T10:24:28.805037Z",
     "start_time": "2024-04-05T10:23:49.154062Z"
    }
   },
   "id": "73cc599c58a25ad5",
   "execution_count": 31,
   "outputs": []
  },
  {
   "cell_type": "code",
   "source": [
    "# evaluate the model\n",
    "yhat = bst.predict(dtest)\n",
    "error = mean_absolute_error(testy, yhat)"
   ],
   "metadata": {
    "collapsed": false,
    "ExecuteTime": {
     "end_time": "2024-04-05T10:24:28.819683Z",
     "start_time": "2024-04-05T10:24:28.805745Z"
    }
   },
   "id": "26add5041c6bb9b7",
   "execution_count": 32,
   "outputs": []
  },
  {
   "cell_type": "code",
   "source": [
    "# assuming yhat is the prediction array and testy is the actual target\n",
    "# values from the test set\n",
    "actual = testy\n",
    "predicted = yhat"
   ],
   "metadata": {
    "collapsed": false,
    "ExecuteTime": {
     "end_time": "2024-04-05T10:24:28.821852Z",
     "start_time": "2024-04-05T10:24:28.820342Z"
    }
   },
   "id": "a69143576488a944",
   "execution_count": 33,
   "outputs": []
  },
  {
   "cell_type": "code",
   "source": [
    "# generate a time index for plotting.\n",
    "# since we have 30-minute intervals, this can be represented similarly\n",
    "# assuming the test set starts immediately after your training and\n",
    "# val sets, we can calculate the start date as follows\n",
    "# this requires your original DataFrame (df) to have a datetime index\n",
    "test_start_date = df.index[-len(testy)]  # get the start date for test set"
   ],
   "metadata": {
    "collapsed": false,
    "ExecuteTime": {
     "end_time": "2024-04-05T10:24:28.830694Z",
     "start_time": "2024-04-05T10:24:28.822308Z"
    }
   },
   "id": "f85fa300f8bef904",
   "execution_count": 34,
   "outputs": []
  },
  {
   "cell_type": "code",
   "source": [
    "# generate a date range for the test set\n",
    "test_dates = pd.date_range(\n",
    "    start=test_start_date,\n",
    "    periods=len(testy),\n",
    "    freq='30min'\n",
    ")"
   ],
   "metadata": {
    "collapsed": false,
    "ExecuteTime": {
     "end_time": "2024-04-05T10:24:28.841046Z",
     "start_time": "2024-04-05T10:24:28.832504Z"
    }
   },
   "id": "98eeeaa679d3a68",
   "execution_count": 35,
   "outputs": []
  },
  {
   "cell_type": "code",
   "source": [
    "# Plotting\n",
    "plt.figure(figsize=(15, 7))\n",
    "plt.plot(test_dates, actual, label='Actual', marker='.', linestyle='-',\n",
    "             linewidth=1.0)\n",
    "plt.plot(test_dates, predicted, label='Predicted', marker='.',\n",
    "             linestyle='--', linewidth=1.0)\n",
    "plt.title('Test Set: Actual vs Predicted Demand')\n",
    "plt.xlabel('Date Time')\n",
    "plt.ylabel('Total Demand')\n",
    "plt.legend()\n",
    "plt.tight_layout()"
   ],
   "metadata": {
    "collapsed": false,
    "ExecuteTime": {
     "end_time": "2024-04-05T10:24:29.121820Z",
     "start_time": "2024-04-05T10:24:28.841591Z"
    }
   },
   "id": "31ebd25235cb612d",
   "execution_count": 36,
   "outputs": []
  },
  {
   "cell_type": "code",
   "source": [
    "# can focus on a smaller time frame for a more detailed view\n",
    "# plt.xlim([pd.Timestamp('2010-08-05'), pd.Timestamp('2010-08-12')])"
   ],
   "metadata": {
    "collapsed": false,
    "ExecuteTime": {
     "end_time": "2024-04-05T10:24:29.123998Z",
     "start_time": "2024-04-05T10:24:29.122517Z"
    }
   },
   "id": "4e75a7ccae0752",
   "execution_count": 37,
   "outputs": []
  },
  {
   "cell_type": "code",
   "source": [
    "plt.show()"
   ],
   "metadata": {
    "collapsed": false,
    "ExecuteTime": {
     "end_time": "2024-04-05T10:24:29.205351Z",
     "start_time": "2024-04-05T10:24:29.124597Z"
    }
   },
   "id": "a80ea41bcd8bdeff",
   "execution_count": 38,
   "outputs": []
  },
  {
   "cell_type": "code",
   "source": [
    "# close the plot to free up memory\n",
    "plt.close()"
   ],
   "metadata": {
    "collapsed": false,
    "ExecuteTime": {
     "end_time": "2024-04-05T10:24:29.215104Z",
     "start_time": "2024-04-05T10:24:29.206028Z"
    }
   },
   "id": "7c0f090c6d83720a",
   "execution_count": 39,
   "outputs": []
  },
  {
   "cell_type": "code",
   "source": [
    "# log the test MAE\n",
    "# wandb.log({\"Test MAE\": error})"
   ],
   "metadata": {
    "collapsed": false,
    "ExecuteTime": {
     "end_time": "2024-04-05T10:24:29.229263Z",
     "start_time": "2024-04-05T10:24:29.215640Z"
    }
   },
   "id": "fa7fbb578a992326",
   "execution_count": 40,
   "outputs": []
  },
  {
   "cell_type": "code",
   "source": [
    "# finish the W&B run\n",
    "# wandb.finish()"
   ],
   "metadata": {
    "collapsed": false,
    "ExecuteTime": {
     "end_time": "2024-04-05T10:24:29.239026Z",
     "start_time": "2024-04-05T10:24:29.229807Z"
    }
   },
   "id": "10da23e5074b8600",
   "execution_count": 41,
   "outputs": []
  }
 ],
 "metadata": {
  "kernelspec": {
   "display_name": "Python 3",
   "language": "python",
   "name": "python3"
  },
  "language_info": {
   "codemirror_mode": {
    "name": "ipython",
    "version": 2
   },
   "file_extension": ".py",
   "mimetype": "text/x-python",
   "name": "python",
   "nbconvert_exporter": "python",
   "pygments_lexer": "ipython2",
   "version": "2.7.6"
  }
 },
 "nbformat": 4,
 "nbformat_minor": 5
}
