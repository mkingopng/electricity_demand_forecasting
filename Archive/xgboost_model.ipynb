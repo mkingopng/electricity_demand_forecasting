{
 "cells": [
  {
   "cell_type": "code",
   "execution_count": 1,
   "id": "initial_id",
   "metadata": {
    "collapsed": true,
    "ExecuteTime": {
     "end_time": "2024-04-05T10:23:48.051873Z",
     "start_time": "2024-04-05T10:23:47.943017Z"
    }
   },
   "outputs": [],
   "source": [
    "import xgboost as xgb\n",
    "from xgboost.callback import TrainingCallback\n",
    "import pandas as pd\n",
    "import numpy as np\n",
    "from sklearn.metrics import mean_absolute_error\n",
    "from sklearn.model_selection import TimeSeriesSplit, GridSearchCV, ParameterGrid\n",
    "from sklearn.base import clone\n",
    "# import wandb\n",
    "import matplotlib.pyplot as plt"
   ]
  },
  {
   "cell_type": "code",
   "outputs": [],
   "source": [
    "class CFG:\n",
    "    n_in = 6\n",
    "    n_test = 336\n",
    "    wandb_project_name = 'electricity_demand_forecasting'\n",
    "    wandb_run_name = 'xgboost'"
   ],
   "metadata": {
    "collapsed": false,
    "ExecuteTime": {
     "end_time": "2024-04-05T10:23:48.054427Z",
     "start_time": "2024-04-05T10:23:48.052601Z"
    }
   },
   "id": "87b77842828a092a",
   "execution_count": 2
  },
  {
   "cell_type": "code",
   "outputs": [],
   "source": [
    "class WandbCallback(TrainingCallback):\n",
    "    def __init__(self, period=1):\n",
    "        self.period = period\n",
    "\n",
    "    def after_iteration(self, model, epoch, evals_log):\n",
    "        if epoch % self.period == 0:\n",
    "            # Assuming 'mae' is being logged. Adjust if a different metric name is used.\n",
    "            mae = evals_log['train']['mae'][-1]\n",
    "            # wandb.log({'train-mae': mae})\n",
    "        return False"
   ],
   "metadata": {
    "collapsed": false,
    "ExecuteTime": {
     "end_time": "2024-04-05T10:23:48.058039Z",
     "start_time": "2024-04-05T10:23:48.055053Z"
    }
   },
   "id": "7ce9c90da54b643c",
   "execution_count": 3
  },
  {
   "cell_type": "code",
   "outputs": [],
   "source": [
    "def series_to_supervised(data, n_in=1, n_out=1, dropnan=True, target_var='TOTALDEMAND'):\n",
    "    n_vars = 1 if type(data) is list else data.shape[1]\n",
    "    df = pd.DataFrame(data)\n",
    "    cols, names = list(), list()\n",
    "    \n",
    "    # Input sequence (t-n, ... t-1)\n",
    "    for i in range(n_in, 0, -1):\n",
    "        cols.append(df.drop(columns=target_var).shift(i))\n",
    "        names += [('%s(t-%d)' % (df.columns[j], i)) for j in range(n_vars) if df.columns[j] != target_var]\n",
    "    \n",
    "    # Forecast sequence (t+1, ... t+n_out-1), only for predictors, not target\n",
    "    # Note: We adjust n_out to n_out-1 to make room for the actual target variable at t\n",
    "    for i in range(1, n_out):\n",
    "        cols.append(df.drop(columns=target_var).shift(-i))\n",
    "        names += [('%s(t+%d)' % (df.columns[j], i)) for j in range(n_vars) if df.columns[j] != target_var]\n",
    "\n",
    "    # Add the target variable column at t (current timestep)\n",
    "    cols.append(df[[target_var]])\n",
    "    names.append('%s(t)' % target_var)\n",
    "    \n",
    "    # Combine everything\n",
    "    agg = pd.concat(cols, axis=1)\n",
    "    agg.columns = names\n",
    "    \n",
    "    # Drop rows with NaN values\n",
    "    if dropnan:\n",
    "        agg.dropna(inplace=True)\n",
    "    \n",
    "    return agg"
   ],
   "metadata": {
    "collapsed": false,
    "ExecuteTime": {
     "end_time": "2024-04-05T10:23:48.061974Z",
     "start_time": "2024-04-05T10:23:48.058587Z"
    }
   },
   "id": "da3b8ed39caecef",
   "execution_count": 4
  },
  {
   "cell_type": "code",
   "outputs": [],
   "source": [
    "def train_test_split(data, n_test):\n",
    "    return data[:-n_test, :], data[-n_test:, :]"
   ],
   "metadata": {
    "collapsed": false,
    "ExecuteTime": {
     "end_time": "2024-04-05T10:23:48.066323Z",
     "start_time": "2024-04-05T10:23:48.062527Z"
    }
   },
   "id": "eb283db89d320ad5",
   "execution_count": 5
  },
  {
   "cell_type": "code",
   "outputs": [],
   "source": [
    "def diy_cv(model, param_grid, splits, trainX, trainy):\n",
    "    best_score = float(\"inf\")\n",
    "    best_params = None\n",
    "    for params in ParameterGrid(param_grid):\n",
    "        scores = []\n",
    "        for train_idx, val_idx in splits.split(trainX):\n",
    "            clone_model = clone(model)\n",
    "            clone_model.set_params(**params)\n",
    "            X_train_fold, y_train_fold = trainX.iloc[train_idx], trainy.iloc[train_idx]  # Corrected to use .iloc for trainy\n",
    "            X_val_fold, y_val_fold = trainX.iloc[val_idx], trainy.iloc[val_idx]  # Corrected to use .iloc for trainy\n",
    "            clone_model.fit(X_train_fold, y_train_fold)\n",
    "            predictions = clone_model.predict(X_val_fold)\n",
    "            score = mean_absolute_error(y_val_fold, predictions)\n",
    "            scores.append(score)\n",
    "        avg_score = np.mean(scores)\n",
    "        if avg_score < best_score:\n",
    "            best_score = avg_score\n",
    "            best_params = params\n",
    "        print(f\"Params: {params}, Avg MAE: {avg_score}\")\n",
    "    return best_params, best_score"
   ],
   "metadata": {
    "collapsed": false,
    "ExecuteTime": {
     "end_time": "2024-04-05T10:23:48.069944Z",
     "start_time": "2024-04-05T10:23:48.066882Z"
    }
   },
   "id": "a19eb561b7e08f39",
   "execution_count": 6
  },
  {
   "cell_type": "code",
   "outputs": [],
   "source": [
    "# def log_evaluation(period=1, show_stdv=True):\n",
    "#     def callback(env):\n",
    "#         if env.iteration % period == 0:\n",
    "#             # wandb.log({\"Training MAE\": env.evaluation_result_list[0][1], \"Validation MAE\": env.evaluation_result_list[1][1]})\n",
    "#     return callback"
   ],
   "metadata": {
    "collapsed": false,
    "ExecuteTime": {
     "end_time": "2024-04-05T10:23:48.074112Z",
     "start_time": "2024-04-05T10:23:48.070586Z"
    }
   },
   "id": "830434d798a0b030",
   "execution_count": 7
  },
  {
   "cell_type": "code",
   "outputs": [],
   "source": [
    "# def wandb_callback():\n",
    "#     def callback(env):\n",
    "#         for i, eval_result in enumerate(env.evaluation_result_list):# wandb.log({f\"{eval_result[0]}-{eval_result[1]}\": eval_result[2]})\n",
    "#     return callback"
   ],
   "metadata": {
    "collapsed": false,
    "ExecuteTime": {
     "end_time": "2024-04-05T10:23:48.077475Z",
     "start_time": "2024-04-05T10:23:48.075620Z"
    }
   },
   "id": "d5baa1d24987bfc7",
   "execution_count": 8
  },
  {
   "cell_type": "code",
   "outputs": [],
   "source": [
    "CFG = CFG()"
   ],
   "metadata": {
    "collapsed": false,
    "ExecuteTime": {
     "end_time": "2024-04-05T10:23:48.086842Z",
     "start_time": "2024-04-05T10:23:48.078035Z"
    }
   },
   "id": "69a3feab2d20334e",
   "execution_count": 9
  },
  {
   "cell_type": "code",
   "outputs": [],
   "source": [
    "config_dict = {\n",
    "        \"n_in\": 6,\n",
    "        \"n_test\": 30,\n",
    "        \"wandb_project_name\": 'electricity_demand_forecasting',\n",
    "        \"wandb_run_name\": 'xgboost',\n",
    "        \"param_grid\": {\n",
    "            'max_depth': [3, 5, 7],\n",
    "            'learning_rate': [0.01, 0.1, 0.3],\n",
    "            'n_estimators': [100, 500, 1000],\n",
    "        }\n",
    "    }"
   ],
   "metadata": {
    "collapsed": false,
    "ExecuteTime": {
     "end_time": "2024-04-05T10:23:48.096391Z",
     "start_time": "2024-04-05T10:23:48.087407Z"
    }
   },
   "id": "d46900943db9958e",
   "execution_count": 10
  },
  {
   "cell_type": "code",
   "outputs": [],
   "source": [
    "# initialize W&B\n",
    "# wandb.init(\n",
    "#     project=CFG.wandb_project_name,\n",
    "#     name=CFG.wandb_run_name,\n",
    "#     config=config_dict\n",
    "# )"
   ],
   "metadata": {
    "collapsed": false,
    "ExecuteTime": {
     "end_time": "2024-04-05T10:23:48.105760Z",
     "start_time": "2024-04-05T10:23:48.096853Z"
    }
   },
   "id": "f8975f6d5d97e818",
   "execution_count": 11
  },
  {
   "cell_type": "code",
   "outputs": [],
   "source": [
    "# load data\n",
    "df = pd.read_csv('./../data/NSW/final_df.csv', index_col=0)"
   ],
   "metadata": {
    "collapsed": false,
    "ExecuteTime": {
     "end_time": "2024-04-05T10:23:48.386798Z",
     "start_time": "2024-04-05T10:23:48.106174Z"
    }
   },
   "id": "86593834b67c9f0d",
   "execution_count": 12
  },
  {
   "cell_type": "code",
   "outputs": [
    {
     "data": {
      "text/plain": "                     PREDISPATCHSEQNO  PERIODID  FORECASTDEMAND  TOTALDEMAND  \\\nUnnamed: 0                                                                     \n2010-01-01 00:30:00      2.009123e+09      36.5     7680.510417      7809.31   \n2010-01-01 01:00:00      2.009123e+09      37.0     7428.971370      7483.69   \n2010-01-01 01:30:00      2.009123e+09      37.5     7084.802162      7117.23   \n2010-01-01 02:00:00      2.009123e+09      38.0     6751.369600      6812.03   \n2010-01-01 02:30:00      2.009123e+09      38.5     6484.270789      6544.33   \n...                               ...       ...             ...          ...   \n2021-03-17 22:00:00      2.021032e+09      34.0     7317.702687      7419.77   \n2021-03-17 22:30:00      2.021032e+09      34.5     7266.887647      7417.91   \n2021-03-17 23:00:00      2.021032e+09      35.0     7173.866522      7287.32   \n2021-03-17 23:30:00      2.021032e+09      35.5     7043.236857      7172.39   \n2021-03-18 00:00:00      2.021032e+09      36.0     6961.076901      7094.51   \n\n                     TEMPERATURE  totaldemand_x    rrp  \\\nUnnamed: 0                                               \n2010-01-01 00:30:00         22.9        7809.31  21.50   \n2010-01-01 01:00:00         22.6        7483.69  20.98   \n2010-01-01 01:30:00         22.5        7117.23  20.06   \n2010-01-01 02:00:00         22.5        6812.03  17.93   \n2010-01-01 02:30:00         22.4        6544.33  17.43   \n...                          ...            ...    ...   \n2021-03-17 22:00:00         19.7        7419.77  32.00   \n2021-03-17 22:30:00         19.5        7417.91  37.01   \n2021-03-17 23:00:00         19.1        7287.32  34.49   \n2021-03-17 23:30:00         18.8        7172.39  32.55   \n2021-03-18 00:00:00         18.6        7094.51  32.63   \n\n                     smoothed_FORECASTDEMAND  smoothed_TOTALDEMAND  \\\nUnnamed: 0                                                           \n2010-01-01 00:30:00              7699.974365           7781.995417   \n2010-01-01 01:00:00              7690.566078           7773.996250   \n2010-01-01 01:30:00              7681.336748           7766.966458   \n2010-01-01 02:00:00              7672.747139           7760.413125   \n2010-01-01 02:30:00              7665.716673           7756.316458   \n...                                      ...                   ...   \n2021-03-17 22:00:00              7400.366626           7422.855208   \n2021-03-17 22:30:00              7399.723912           7424.357917   \n2021-03-17 23:00:00              7399.132502           7425.781458   \n2021-03-17 23:30:00              7398.573481           7428.187917   \n2021-03-18 00:00:00              7398.131553           7430.172917   \n\n                     smoothed_TEMPERATURE  ...  normalized_FORECASTDEMAND  \\\nUnnamed: 0                                 ...                              \n2010-01-01 00:30:00             25.233333  ...                  -0.325943   \n2010-01-01 01:00:00             25.266667  ...                  -0.518995   \n2010-01-01 01:30:00             25.302083  ...                  -0.783139   \n2010-01-01 02:00:00             25.335417  ...                  -1.039043   \n2010-01-01 02:30:00             25.366667  ...                  -1.244036   \n...                                   ...  ...                        ...   \n2021-03-17 22:00:00             19.712500  ...                  -0.604392   \n2021-03-17 22:30:00             19.691667  ...                  -0.643392   \n2021-03-17 23:00:00             19.666667  ...                  -0.714784   \n2021-03-17 23:30:00             19.647917  ...                  -0.815040   \n2021-03-18 00:00:00             19.633333  ...                  -0.878096   \n\n                     normalized_TEMPERATURE  totaldemand_y  dow  doy  year  \\\nUnnamed: 0                                                                   \n2010-01-01 00:30:00                0.916251        7809.31    4    1  2010   \n2010-01-01 01:00:00                0.865312        7483.69    4    1  2010   \n2010-01-01 01:30:00                0.848332        7117.23    4    1  2010   \n2010-01-01 02:00:00                0.848332        6812.03    4    1  2010   \n2010-01-01 02:30:00                0.831352        6544.33    4    1  2010   \n...                                     ...            ...  ...  ...   ...   \n2021-03-17 22:00:00                0.372894        7419.77    2   76  2021   \n2021-03-17 22:30:00                0.338934        7417.91    2   76  2021   \n2021-03-17 23:00:00                0.271015        7287.32    2   76  2021   \n2021-03-17 23:30:00                0.220075        7172.39    2   76  2021   \n2021-03-18 00:00:00                0.186115        7094.51    3   77  2021   \n\n                     month  quarter  hour  season  \nUnnamed: 0                                         \n2010-01-01 00:30:00      1        1     0       1  \n2010-01-01 01:00:00      1        1     1       1  \n2010-01-01 01:30:00      1        1     1       1  \n2010-01-01 02:00:00      1        1     2       1  \n2010-01-01 02:30:00      1        1     2       1  \n...                    ...      ...   ...     ...  \n2021-03-17 22:00:00      3        1    22       2  \n2021-03-17 22:30:00      3        1    22       2  \n2021-03-17 23:00:00      3        1    23       2  \n2021-03-17 23:30:00      3        1    23       2  \n2021-03-18 00:00:00      3        1     0       2  \n\n[194589 rows x 21 columns]",
      "text/html": "<div>\n<style scoped>\n    .dataframe tbody tr th:only-of-type {\n        vertical-align: middle;\n    }\n\n    .dataframe tbody tr th {\n        vertical-align: top;\n    }\n\n    .dataframe thead th {\n        text-align: right;\n    }\n</style>\n<table border=\"1\" class=\"dataframe\">\n  <thead>\n    <tr style=\"text-align: right;\">\n      <th></th>\n      <th>PREDISPATCHSEQNO</th>\n      <th>PERIODID</th>\n      <th>FORECASTDEMAND</th>\n      <th>TOTALDEMAND</th>\n      <th>TEMPERATURE</th>\n      <th>totaldemand_x</th>\n      <th>rrp</th>\n      <th>smoothed_FORECASTDEMAND</th>\n      <th>smoothed_TOTALDEMAND</th>\n      <th>smoothed_TEMPERATURE</th>\n      <th>...</th>\n      <th>normalized_FORECASTDEMAND</th>\n      <th>normalized_TEMPERATURE</th>\n      <th>totaldemand_y</th>\n      <th>dow</th>\n      <th>doy</th>\n      <th>year</th>\n      <th>month</th>\n      <th>quarter</th>\n      <th>hour</th>\n      <th>season</th>\n    </tr>\n    <tr>\n      <th>Unnamed: 0</th>\n      <th></th>\n      <th></th>\n      <th></th>\n      <th></th>\n      <th></th>\n      <th></th>\n      <th></th>\n      <th></th>\n      <th></th>\n      <th></th>\n      <th></th>\n      <th></th>\n      <th></th>\n      <th></th>\n      <th></th>\n      <th></th>\n      <th></th>\n      <th></th>\n      <th></th>\n      <th></th>\n      <th></th>\n    </tr>\n  </thead>\n  <tbody>\n    <tr>\n      <th>2010-01-01 00:30:00</th>\n      <td>2.009123e+09</td>\n      <td>36.5</td>\n      <td>7680.510417</td>\n      <td>7809.31</td>\n      <td>22.9</td>\n      <td>7809.31</td>\n      <td>21.50</td>\n      <td>7699.974365</td>\n      <td>7781.995417</td>\n      <td>25.233333</td>\n      <td>...</td>\n      <td>-0.325943</td>\n      <td>0.916251</td>\n      <td>7809.31</td>\n      <td>4</td>\n      <td>1</td>\n      <td>2010</td>\n      <td>1</td>\n      <td>1</td>\n      <td>0</td>\n      <td>1</td>\n    </tr>\n    <tr>\n      <th>2010-01-01 01:00:00</th>\n      <td>2.009123e+09</td>\n      <td>37.0</td>\n      <td>7428.971370</td>\n      <td>7483.69</td>\n      <td>22.6</td>\n      <td>7483.69</td>\n      <td>20.98</td>\n      <td>7690.566078</td>\n      <td>7773.996250</td>\n      <td>25.266667</td>\n      <td>...</td>\n      <td>-0.518995</td>\n      <td>0.865312</td>\n      <td>7483.69</td>\n      <td>4</td>\n      <td>1</td>\n      <td>2010</td>\n      <td>1</td>\n      <td>1</td>\n      <td>1</td>\n      <td>1</td>\n    </tr>\n    <tr>\n      <th>2010-01-01 01:30:00</th>\n      <td>2.009123e+09</td>\n      <td>37.5</td>\n      <td>7084.802162</td>\n      <td>7117.23</td>\n      <td>22.5</td>\n      <td>7117.23</td>\n      <td>20.06</td>\n      <td>7681.336748</td>\n      <td>7766.966458</td>\n      <td>25.302083</td>\n      <td>...</td>\n      <td>-0.783139</td>\n      <td>0.848332</td>\n      <td>7117.23</td>\n      <td>4</td>\n      <td>1</td>\n      <td>2010</td>\n      <td>1</td>\n      <td>1</td>\n      <td>1</td>\n      <td>1</td>\n    </tr>\n    <tr>\n      <th>2010-01-01 02:00:00</th>\n      <td>2.009123e+09</td>\n      <td>38.0</td>\n      <td>6751.369600</td>\n      <td>6812.03</td>\n      <td>22.5</td>\n      <td>6812.03</td>\n      <td>17.93</td>\n      <td>7672.747139</td>\n      <td>7760.413125</td>\n      <td>25.335417</td>\n      <td>...</td>\n      <td>-1.039043</td>\n      <td>0.848332</td>\n      <td>6812.03</td>\n      <td>4</td>\n      <td>1</td>\n      <td>2010</td>\n      <td>1</td>\n      <td>1</td>\n      <td>2</td>\n      <td>1</td>\n    </tr>\n    <tr>\n      <th>2010-01-01 02:30:00</th>\n      <td>2.009123e+09</td>\n      <td>38.5</td>\n      <td>6484.270789</td>\n      <td>6544.33</td>\n      <td>22.4</td>\n      <td>6544.33</td>\n      <td>17.43</td>\n      <td>7665.716673</td>\n      <td>7756.316458</td>\n      <td>25.366667</td>\n      <td>...</td>\n      <td>-1.244036</td>\n      <td>0.831352</td>\n      <td>6544.33</td>\n      <td>4</td>\n      <td>1</td>\n      <td>2010</td>\n      <td>1</td>\n      <td>1</td>\n      <td>2</td>\n      <td>1</td>\n    </tr>\n    <tr>\n      <th>...</th>\n      <td>...</td>\n      <td>...</td>\n      <td>...</td>\n      <td>...</td>\n      <td>...</td>\n      <td>...</td>\n      <td>...</td>\n      <td>...</td>\n      <td>...</td>\n      <td>...</td>\n      <td>...</td>\n      <td>...</td>\n      <td>...</td>\n      <td>...</td>\n      <td>...</td>\n      <td>...</td>\n      <td>...</td>\n      <td>...</td>\n      <td>...</td>\n      <td>...</td>\n      <td>...</td>\n    </tr>\n    <tr>\n      <th>2021-03-17 22:00:00</th>\n      <td>2.021032e+09</td>\n      <td>34.0</td>\n      <td>7317.702687</td>\n      <td>7419.77</td>\n      <td>19.7</td>\n      <td>7419.77</td>\n      <td>32.00</td>\n      <td>7400.366626</td>\n      <td>7422.855208</td>\n      <td>19.712500</td>\n      <td>...</td>\n      <td>-0.604392</td>\n      <td>0.372894</td>\n      <td>7419.77</td>\n      <td>2</td>\n      <td>76</td>\n      <td>2021</td>\n      <td>3</td>\n      <td>1</td>\n      <td>22</td>\n      <td>2</td>\n    </tr>\n    <tr>\n      <th>2021-03-17 22:30:00</th>\n      <td>2.021032e+09</td>\n      <td>34.5</td>\n      <td>7266.887647</td>\n      <td>7417.91</td>\n      <td>19.5</td>\n      <td>7417.91</td>\n      <td>37.01</td>\n      <td>7399.723912</td>\n      <td>7424.357917</td>\n      <td>19.691667</td>\n      <td>...</td>\n      <td>-0.643392</td>\n      <td>0.338934</td>\n      <td>7417.91</td>\n      <td>2</td>\n      <td>76</td>\n      <td>2021</td>\n      <td>3</td>\n      <td>1</td>\n      <td>22</td>\n      <td>2</td>\n    </tr>\n    <tr>\n      <th>2021-03-17 23:00:00</th>\n      <td>2.021032e+09</td>\n      <td>35.0</td>\n      <td>7173.866522</td>\n      <td>7287.32</td>\n      <td>19.1</td>\n      <td>7287.32</td>\n      <td>34.49</td>\n      <td>7399.132502</td>\n      <td>7425.781458</td>\n      <td>19.666667</td>\n      <td>...</td>\n      <td>-0.714784</td>\n      <td>0.271015</td>\n      <td>7287.32</td>\n      <td>2</td>\n      <td>76</td>\n      <td>2021</td>\n      <td>3</td>\n      <td>1</td>\n      <td>23</td>\n      <td>2</td>\n    </tr>\n    <tr>\n      <th>2021-03-17 23:30:00</th>\n      <td>2.021032e+09</td>\n      <td>35.5</td>\n      <td>7043.236857</td>\n      <td>7172.39</td>\n      <td>18.8</td>\n      <td>7172.39</td>\n      <td>32.55</td>\n      <td>7398.573481</td>\n      <td>7428.187917</td>\n      <td>19.647917</td>\n      <td>...</td>\n      <td>-0.815040</td>\n      <td>0.220075</td>\n      <td>7172.39</td>\n      <td>2</td>\n      <td>76</td>\n      <td>2021</td>\n      <td>3</td>\n      <td>1</td>\n      <td>23</td>\n      <td>2</td>\n    </tr>\n    <tr>\n      <th>2021-03-18 00:00:00</th>\n      <td>2.021032e+09</td>\n      <td>36.0</td>\n      <td>6961.076901</td>\n      <td>7094.51</td>\n      <td>18.6</td>\n      <td>7094.51</td>\n      <td>32.63</td>\n      <td>7398.131553</td>\n      <td>7430.172917</td>\n      <td>19.633333</td>\n      <td>...</td>\n      <td>-0.878096</td>\n      <td>0.186115</td>\n      <td>7094.51</td>\n      <td>3</td>\n      <td>77</td>\n      <td>2021</td>\n      <td>3</td>\n      <td>1</td>\n      <td>0</td>\n      <td>2</td>\n    </tr>\n  </tbody>\n</table>\n<p>194589 rows × 21 columns</p>\n</div>"
     },
     "execution_count": 13,
     "metadata": {},
     "output_type": "execute_result"
    }
   ],
   "source": [
    "df"
   ],
   "metadata": {
    "collapsed": false,
    "ExecuteTime": {
     "end_time": "2024-04-05T10:23:48.433035Z",
     "start_time": "2024-04-05T10:23:48.387465Z"
    }
   },
   "id": "907efcaced7d9a02",
   "execution_count": 13
  },
  {
   "cell_type": "code",
   "outputs": [
    {
     "data": {
      "text/plain": "                     PREDISPATCHSEQNO(t-6)  PERIODID(t-6)  \\\nUnnamed: 0                                                  \n2010-01-01 03:30:00           2.009123e+09           36.5   \n2010-01-01 04:00:00           2.009123e+09           37.0   \n2010-01-01 04:30:00           2.009123e+09           37.5   \n2010-01-01 05:00:00           2.009123e+09           38.0   \n2010-01-01 05:30:00           2.009123e+09           38.5   \n...                                    ...            ...   \n2021-03-17 22:00:00           2.021032e+09           31.0   \n2021-03-17 22:30:00           2.021032e+09           31.5   \n2021-03-17 23:00:00           2.021032e+09           32.0   \n2021-03-17 23:30:00           2.021032e+09           32.5   \n2021-03-18 00:00:00           2.021032e+09           33.0   \n\n                     FORECASTDEMAND(t-6)  TEMPERATURE(t-6)  \\\nUnnamed: 0                                                   \n2010-01-01 03:30:00          7680.510417              22.9   \n2010-01-01 04:00:00          7428.971370              22.6   \n2010-01-01 04:30:00          7084.802162              22.5   \n2010-01-01 05:00:00          6751.369600              22.5   \n2010-01-01 05:30:00          6484.270789              22.4   \n...                                  ...               ...   \n2021-03-17 22:00:00          8300.884262              18.5   \n2021-03-17 22:30:00          8091.210484              18.3   \n2021-03-17 23:00:00          7879.343175              18.4   \n2021-03-17 23:30:00          7686.533125              18.1   \n2021-03-18 00:00:00          7482.453231              19.2   \n\n                     totaldemand_x(t-6)  rrp(t-6)  \\\nUnnamed: 0                                          \n2010-01-01 03:30:00             7809.31     21.50   \n2010-01-01 04:00:00             7483.69     20.98   \n2010-01-01 04:30:00             7117.23     20.06   \n2010-01-01 05:00:00             6812.03     17.93   \n2010-01-01 05:30:00             6544.33     17.43   \n...                                 ...       ...   \n2021-03-17 22:00:00             8397.93     58.50   \n2021-03-17 22:30:00             8271.57     38.60   \n2021-03-17 23:00:00             7995.89     37.88   \n2021-03-17 23:30:00             7735.99     33.19   \n2021-03-18 00:00:00             7560.98     32.99   \n\n                     smoothed_FORECASTDEMAND(t-6)  smoothed_TOTALDEMAND(t-6)  \\\nUnnamed: 0                                                                     \n2010-01-01 03:30:00                   7699.974365                7781.995417   \n2010-01-01 04:00:00                   7690.566078                7773.996250   \n2010-01-01 04:30:00                   7681.336748                7766.966458   \n2010-01-01 05:00:00                   7672.747139                7760.413125   \n2010-01-01 05:30:00                   7665.716673                7756.316458   \n...                                           ...                        ...   \n2021-03-17 22:00:00                   7407.168942                7419.845000   \n2021-03-17 22:30:00                   7405.521852                7421.368750   \n2021-03-17 23:00:00                   7403.973151                7421.027500   \n2021-03-17 23:30:00                   7402.636280                7420.194583   \n2021-03-18 00:00:00                   7401.583129                7421.058958   \n\n                     smoothed_TEMPERATURE(t-6)  normalized_TOTALDEMAND(t-6)  \\\nUnnamed: 0                                                                    \n2010-01-01 03:30:00                  25.233333                    -0.232608   \n2010-01-01 04:00:00                  25.266667                    -0.483133   \n2010-01-01 04:30:00                  25.302083                    -0.765079   \n2010-01-01 05:00:00                  25.335417                    -0.999894   \n2010-01-01 05:30:00                  25.366667                    -1.205856   \n...                                        ...                          ...   \n2021-03-17 22:00:00                  19.835417                     0.220263   \n2021-03-17 22:30:00                  19.806250                     0.123045   \n2021-03-17 23:00:00                  19.779167                    -0.089058   \n2021-03-17 23:30:00                  19.747917                    -0.289019   \n2021-03-18 00:00:00                  19.735417                    -0.423668   \n\n                     ...  normalized_TEMPERATURE(t-1)  totaldemand_y(t-1)  \\\nUnnamed: 0           ...                                                    \n2010-01-01 03:30:00  ...                     0.814372             6377.32   \n2010-01-01 04:00:00  ...                     0.814372             6282.85   \n2010-01-01 04:30:00  ...                     0.780412             6211.49   \n2010-01-01 05:00:00  ...                     0.797392             6248.31   \n2010-01-01 05:30:00  ...                     0.797392             6198.61   \n...                  ...                          ...                 ...   \n2021-03-17 22:00:00  ...                     0.372894             7503.12   \n2021-03-17 22:30:00  ...                     0.372894             7419.77   \n2021-03-17 23:00:00  ...                     0.338934             7417.91   \n2021-03-17 23:30:00  ...                     0.271015             7287.32   \n2021-03-18 00:00:00  ...                     0.220075             7172.39   \n\n                     dow(t-1)  doy(t-1)  year(t-1)  month(t-1)  quarter(t-1)  \\\nUnnamed: 0                                                                     \n2010-01-01 03:30:00       4.0       1.0     2010.0         1.0           1.0   \n2010-01-01 04:00:00       4.0       1.0     2010.0         1.0           1.0   \n2010-01-01 04:30:00       4.0       1.0     2010.0         1.0           1.0   \n2010-01-01 05:00:00       4.0       1.0     2010.0         1.0           1.0   \n2010-01-01 05:30:00       4.0       1.0     2010.0         1.0           1.0   \n...                       ...       ...        ...         ...           ...   \n2021-03-17 22:00:00       2.0      76.0     2021.0         3.0           1.0   \n2021-03-17 22:30:00       2.0      76.0     2021.0         3.0           1.0   \n2021-03-17 23:00:00       2.0      76.0     2021.0         3.0           1.0   \n2021-03-17 23:30:00       2.0      76.0     2021.0         3.0           1.0   \n2021-03-18 00:00:00       2.0      76.0     2021.0         3.0           1.0   \n\n                     hour(t-1)  season(t-1)  TOTALDEMAND(t)  \nUnnamed: 0                                                   \n2010-01-01 03:30:00        3.0          1.0         6282.85  \n2010-01-01 04:00:00        3.0          1.0         6211.49  \n2010-01-01 04:30:00        4.0          1.0         6248.31  \n2010-01-01 05:00:00        4.0          1.0         6198.61  \n2010-01-01 05:30:00        5.0          1.0         6237.35  \n...                        ...          ...             ...  \n2021-03-17 22:00:00       21.0          2.0         7419.77  \n2021-03-17 22:30:00       22.0          2.0         7417.91  \n2021-03-17 23:00:00       22.0          2.0         7287.32  \n2021-03-17 23:30:00       23.0          2.0         7172.39  \n2021-03-18 00:00:00       23.0          2.0         7094.51  \n\n[194583 rows x 121 columns]",
      "text/html": "<div>\n<style scoped>\n    .dataframe tbody tr th:only-of-type {\n        vertical-align: middle;\n    }\n\n    .dataframe tbody tr th {\n        vertical-align: top;\n    }\n\n    .dataframe thead th {\n        text-align: right;\n    }\n</style>\n<table border=\"1\" class=\"dataframe\">\n  <thead>\n    <tr style=\"text-align: right;\">\n      <th></th>\n      <th>PREDISPATCHSEQNO(t-6)</th>\n      <th>PERIODID(t-6)</th>\n      <th>FORECASTDEMAND(t-6)</th>\n      <th>TEMPERATURE(t-6)</th>\n      <th>totaldemand_x(t-6)</th>\n      <th>rrp(t-6)</th>\n      <th>smoothed_FORECASTDEMAND(t-6)</th>\n      <th>smoothed_TOTALDEMAND(t-6)</th>\n      <th>smoothed_TEMPERATURE(t-6)</th>\n      <th>normalized_TOTALDEMAND(t-6)</th>\n      <th>...</th>\n      <th>normalized_TEMPERATURE(t-1)</th>\n      <th>totaldemand_y(t-1)</th>\n      <th>dow(t-1)</th>\n      <th>doy(t-1)</th>\n      <th>year(t-1)</th>\n      <th>month(t-1)</th>\n      <th>quarter(t-1)</th>\n      <th>hour(t-1)</th>\n      <th>season(t-1)</th>\n      <th>TOTALDEMAND(t)</th>\n    </tr>\n    <tr>\n      <th>Unnamed: 0</th>\n      <th></th>\n      <th></th>\n      <th></th>\n      <th></th>\n      <th></th>\n      <th></th>\n      <th></th>\n      <th></th>\n      <th></th>\n      <th></th>\n      <th></th>\n      <th></th>\n      <th></th>\n      <th></th>\n      <th></th>\n      <th></th>\n      <th></th>\n      <th></th>\n      <th></th>\n      <th></th>\n      <th></th>\n    </tr>\n  </thead>\n  <tbody>\n    <tr>\n      <th>2010-01-01 03:30:00</th>\n      <td>2.009123e+09</td>\n      <td>36.5</td>\n      <td>7680.510417</td>\n      <td>22.9</td>\n      <td>7809.31</td>\n      <td>21.50</td>\n      <td>7699.974365</td>\n      <td>7781.995417</td>\n      <td>25.233333</td>\n      <td>-0.232608</td>\n      <td>...</td>\n      <td>0.814372</td>\n      <td>6377.32</td>\n      <td>4.0</td>\n      <td>1.0</td>\n      <td>2010.0</td>\n      <td>1.0</td>\n      <td>1.0</td>\n      <td>3.0</td>\n      <td>1.0</td>\n      <td>6282.85</td>\n    </tr>\n    <tr>\n      <th>2010-01-01 04:00:00</th>\n      <td>2.009123e+09</td>\n      <td>37.0</td>\n      <td>7428.971370</td>\n      <td>22.6</td>\n      <td>7483.69</td>\n      <td>20.98</td>\n      <td>7690.566078</td>\n      <td>7773.996250</td>\n      <td>25.266667</td>\n      <td>-0.483133</td>\n      <td>...</td>\n      <td>0.814372</td>\n      <td>6282.85</td>\n      <td>4.0</td>\n      <td>1.0</td>\n      <td>2010.0</td>\n      <td>1.0</td>\n      <td>1.0</td>\n      <td>3.0</td>\n      <td>1.0</td>\n      <td>6211.49</td>\n    </tr>\n    <tr>\n      <th>2010-01-01 04:30:00</th>\n      <td>2.009123e+09</td>\n      <td>37.5</td>\n      <td>7084.802162</td>\n      <td>22.5</td>\n      <td>7117.23</td>\n      <td>20.06</td>\n      <td>7681.336748</td>\n      <td>7766.966458</td>\n      <td>25.302083</td>\n      <td>-0.765079</td>\n      <td>...</td>\n      <td>0.780412</td>\n      <td>6211.49</td>\n      <td>4.0</td>\n      <td>1.0</td>\n      <td>2010.0</td>\n      <td>1.0</td>\n      <td>1.0</td>\n      <td>4.0</td>\n      <td>1.0</td>\n      <td>6248.31</td>\n    </tr>\n    <tr>\n      <th>2010-01-01 05:00:00</th>\n      <td>2.009123e+09</td>\n      <td>38.0</td>\n      <td>6751.369600</td>\n      <td>22.5</td>\n      <td>6812.03</td>\n      <td>17.93</td>\n      <td>7672.747139</td>\n      <td>7760.413125</td>\n      <td>25.335417</td>\n      <td>-0.999894</td>\n      <td>...</td>\n      <td>0.797392</td>\n      <td>6248.31</td>\n      <td>4.0</td>\n      <td>1.0</td>\n      <td>2010.0</td>\n      <td>1.0</td>\n      <td>1.0</td>\n      <td>4.0</td>\n      <td>1.0</td>\n      <td>6198.61</td>\n    </tr>\n    <tr>\n      <th>2010-01-01 05:30:00</th>\n      <td>2.009123e+09</td>\n      <td>38.5</td>\n      <td>6484.270789</td>\n      <td>22.4</td>\n      <td>6544.33</td>\n      <td>17.43</td>\n      <td>7665.716673</td>\n      <td>7756.316458</td>\n      <td>25.366667</td>\n      <td>-1.205856</td>\n      <td>...</td>\n      <td>0.797392</td>\n      <td>6198.61</td>\n      <td>4.0</td>\n      <td>1.0</td>\n      <td>2010.0</td>\n      <td>1.0</td>\n      <td>1.0</td>\n      <td>5.0</td>\n      <td>1.0</td>\n      <td>6237.35</td>\n    </tr>\n    <tr>\n      <th>...</th>\n      <td>...</td>\n      <td>...</td>\n      <td>...</td>\n      <td>...</td>\n      <td>...</td>\n      <td>...</td>\n      <td>...</td>\n      <td>...</td>\n      <td>...</td>\n      <td>...</td>\n      <td>...</td>\n      <td>...</td>\n      <td>...</td>\n      <td>...</td>\n      <td>...</td>\n      <td>...</td>\n      <td>...</td>\n      <td>...</td>\n      <td>...</td>\n      <td>...</td>\n      <td>...</td>\n    </tr>\n    <tr>\n      <th>2021-03-17 22:00:00</th>\n      <td>2.021032e+09</td>\n      <td>31.0</td>\n      <td>8300.884262</td>\n      <td>18.5</td>\n      <td>8397.93</td>\n      <td>58.50</td>\n      <td>7407.168942</td>\n      <td>7419.845000</td>\n      <td>19.835417</td>\n      <td>0.220263</td>\n      <td>...</td>\n      <td>0.372894</td>\n      <td>7503.12</td>\n      <td>2.0</td>\n      <td>76.0</td>\n      <td>2021.0</td>\n      <td>3.0</td>\n      <td>1.0</td>\n      <td>21.0</td>\n      <td>2.0</td>\n      <td>7419.77</td>\n    </tr>\n    <tr>\n      <th>2021-03-17 22:30:00</th>\n      <td>2.021032e+09</td>\n      <td>31.5</td>\n      <td>8091.210484</td>\n      <td>18.3</td>\n      <td>8271.57</td>\n      <td>38.60</td>\n      <td>7405.521852</td>\n      <td>7421.368750</td>\n      <td>19.806250</td>\n      <td>0.123045</td>\n      <td>...</td>\n      <td>0.372894</td>\n      <td>7419.77</td>\n      <td>2.0</td>\n      <td>76.0</td>\n      <td>2021.0</td>\n      <td>3.0</td>\n      <td>1.0</td>\n      <td>22.0</td>\n      <td>2.0</td>\n      <td>7417.91</td>\n    </tr>\n    <tr>\n      <th>2021-03-17 23:00:00</th>\n      <td>2.021032e+09</td>\n      <td>32.0</td>\n      <td>7879.343175</td>\n      <td>18.4</td>\n      <td>7995.89</td>\n      <td>37.88</td>\n      <td>7403.973151</td>\n      <td>7421.027500</td>\n      <td>19.779167</td>\n      <td>-0.089058</td>\n      <td>...</td>\n      <td>0.338934</td>\n      <td>7417.91</td>\n      <td>2.0</td>\n      <td>76.0</td>\n      <td>2021.0</td>\n      <td>3.0</td>\n      <td>1.0</td>\n      <td>22.0</td>\n      <td>2.0</td>\n      <td>7287.32</td>\n    </tr>\n    <tr>\n      <th>2021-03-17 23:30:00</th>\n      <td>2.021032e+09</td>\n      <td>32.5</td>\n      <td>7686.533125</td>\n      <td>18.1</td>\n      <td>7735.99</td>\n      <td>33.19</td>\n      <td>7402.636280</td>\n      <td>7420.194583</td>\n      <td>19.747917</td>\n      <td>-0.289019</td>\n      <td>...</td>\n      <td>0.271015</td>\n      <td>7287.32</td>\n      <td>2.0</td>\n      <td>76.0</td>\n      <td>2021.0</td>\n      <td>3.0</td>\n      <td>1.0</td>\n      <td>23.0</td>\n      <td>2.0</td>\n      <td>7172.39</td>\n    </tr>\n    <tr>\n      <th>2021-03-18 00:00:00</th>\n      <td>2.021032e+09</td>\n      <td>33.0</td>\n      <td>7482.453231</td>\n      <td>19.2</td>\n      <td>7560.98</td>\n      <td>32.99</td>\n      <td>7401.583129</td>\n      <td>7421.058958</td>\n      <td>19.735417</td>\n      <td>-0.423668</td>\n      <td>...</td>\n      <td>0.220075</td>\n      <td>7172.39</td>\n      <td>2.0</td>\n      <td>76.0</td>\n      <td>2021.0</td>\n      <td>3.0</td>\n      <td>1.0</td>\n      <td>23.0</td>\n      <td>2.0</td>\n      <td>7094.51</td>\n    </tr>\n  </tbody>\n</table>\n<p>194583 rows × 121 columns</p>\n</div>"
     },
     "execution_count": 14,
     "metadata": {},
     "output_type": "execute_result"
    }
   ],
   "source": [
    "# prepare data\n",
    "data = series_to_supervised(df, n_in=CFG.n_in, n_out=1, dropnan=True, target_var='TOTALDEMAND')\n",
    "data"
   ],
   "metadata": {
    "collapsed": false,
    "ExecuteTime": {
     "end_time": "2024-04-05T10:23:48.710017Z",
     "start_time": "2024-04-05T10:23:48.433584Z"
    }
   },
   "id": "588fccf197e2d17f",
   "execution_count": 14
  },
  {
   "cell_type": "code",
   "outputs": [
    {
     "name": "stdout",
     "output_type": "stream",
     "text": [
      "The target variable is in the right position.\n"
     ]
    }
   ],
   "source": [
    "# Assuming `data` is your DataFrame after calling series_to_supervised\n",
    "last_column = data.columns[-1]\n",
    "\n",
    "if last_column == 'TOTALDEMAND(t)':\n",
    "    print(\"The target variable is in the right position.\")\n",
    "else:\n",
    "    print(f\"The target variable is not in the right position, the last column is: {last_column}\")"
   ],
   "metadata": {
    "collapsed": false,
    "ExecuteTime": {
     "end_time": "2024-04-05T10:23:48.712610Z",
     "start_time": "2024-04-05T10:23:48.710539Z"
    }
   },
   "id": "1097394b3f27d056",
   "execution_count": 15
  },
  {
   "cell_type": "code",
   "outputs": [
    {
     "data": {
      "text/plain": "126"
     },
     "execution_count": 16,
     "metadata": {},
     "output_type": "execute_result"
    }
   ],
   "source": [
    "n_obs = CFG.n_in * len(df.columns)\n",
    "n_obs"
   ],
   "metadata": {
    "collapsed": false,
    "ExecuteTime": {
     "end_time": "2024-04-05T10:23:48.790813Z",
     "start_time": "2024-04-05T10:23:48.713196Z"
    }
   },
   "id": "45078c3d526e1469",
   "execution_count": 16
  },
  {
   "cell_type": "code",
   "outputs": [],
   "source": [
    "# split into input and outputs, with the last CFG.n_test rows for testing\n",
    "train, test = train_test_split(data.values, CFG.n_test)\n",
    "trainX, trainy = train[:, :-1], train[:, -1]\n",
    "testX, testy = test[:, :-1], test[:, -1]"
   ],
   "metadata": {
    "collapsed": false,
    "ExecuteTime": {
     "end_time": "2024-04-05T10:23:48.817493Z",
     "start_time": "2024-04-05T10:23:48.791371Z"
    }
   },
   "id": "1bdeaca98e0ff107",
   "execution_count": 17
  },
  {
   "cell_type": "code",
   "outputs": [
    {
     "data": {
      "text/plain": "array([[2.00912308e+09, 3.65000000e+01, 7.68051042e+03, ...,\n        3.00000000e+00, 1.00000000e+00, 6.28285000e+03],\n       [2.00912308e+09, 3.70000000e+01, 7.42897137e+03, ...,\n        3.00000000e+00, 1.00000000e+00, 6.21149000e+03],\n       [2.00912308e+09, 3.75000000e+01, 7.08480216e+03, ...,\n        4.00000000e+00, 1.00000000e+00, 6.24831000e+03],\n       ...,\n       [2.02103098e+09, 3.20000000e+01, 8.35780143e+03, ...,\n        2.20000000e+01, 2.00000000e+00, 7.46171000e+03],\n       [2.02103098e+09, 3.25000000e+01, 8.14708703e+03, ...,\n        2.30000000e+01, 2.00000000e+00, 7.33309000e+03],\n       [2.02103098e+09, 3.30000000e+01, 7.90779769e+03, ...,\n        2.30000000e+01, 2.00000000e+00, 7.26008000e+03]])"
     },
     "execution_count": 18,
     "metadata": {},
     "output_type": "execute_result"
    }
   ],
   "source": [
    "train"
   ],
   "metadata": {
    "collapsed": false,
    "ExecuteTime": {
     "end_time": "2024-04-05T10:23:48.820602Z",
     "start_time": "2024-04-05T10:23:48.818101Z"
    }
   },
   "id": "9d628662be47f9cd",
   "execution_count": 18
  },
  {
   "cell_type": "code",
   "outputs": [
    {
     "data": {
      "text/plain": "array([[2.02103098e+09, 3.35000000e+01, 7.77401788e+03, ...,\n        0.00000000e+00, 2.00000000e+00, 7.04749000e+03],\n       [2.02103098e+09, 3.40000000e+01, 7.63264955e+03, ...,\n        0.00000000e+00, 2.00000000e+00, 6.82460000e+03],\n       [2.02103098e+09, 3.45000000e+01, 7.57508441e+03, ...,\n        1.00000000e+00, 2.00000000e+00, 6.53974000e+03],\n       ...,\n       [2.02103168e+09, 3.20000000e+01, 7.87934317e+03, ...,\n        2.20000000e+01, 2.00000000e+00, 7.28732000e+03],\n       [2.02103168e+09, 3.25000000e+01, 7.68653312e+03, ...,\n        2.30000000e+01, 2.00000000e+00, 7.17239000e+03],\n       [2.02103168e+09, 3.30000000e+01, 7.48245323e+03, ...,\n        2.30000000e+01, 2.00000000e+00, 7.09451000e+03]])"
     },
     "execution_count": 19,
     "metadata": {},
     "output_type": "execute_result"
    }
   ],
   "source": [
    "test"
   ],
   "metadata": {
    "collapsed": false,
    "ExecuteTime": {
     "end_time": "2024-04-05T10:23:48.824961Z",
     "start_time": "2024-04-05T10:23:48.821061Z"
    }
   },
   "id": "ecdcefef7ad14f1c",
   "execution_count": 19
  },
  {
   "cell_type": "code",
   "outputs": [],
   "source": [
    "# further split training into train and validation sets for early stopping\n",
    "# nominally use the last 10% of the training data as validation\n",
    "n_val = int(len(trainX) * 0.1)\n",
    "trainX, valX = trainX[:-n_val], trainX[-n_val:]\n",
    "trainy, valy = trainy[:-n_val], trainy[-n_val:]"
   ],
   "metadata": {
    "collapsed": false,
    "ExecuteTime": {
     "end_time": "2024-04-05T10:23:48.827970Z",
     "start_time": "2024-04-05T10:23:48.825554Z"
    }
   },
   "id": "41aa99873826789e",
   "execution_count": 20
  },
  {
   "cell_type": "code",
   "outputs": [
    {
     "data": {
      "text/plain": "19424"
     },
     "execution_count": 21,
     "metadata": {},
     "output_type": "execute_result"
    }
   ],
   "source": [
    "n_val"
   ],
   "metadata": {
    "collapsed": false,
    "ExecuteTime": {
     "end_time": "2024-04-05T10:23:48.831932Z",
     "start_time": "2024-04-05T10:23:48.828609Z"
    }
   },
   "id": "c9ac598f2af50606",
   "execution_count": 21
  },
  {
   "cell_type": "code",
   "outputs": [
    {
     "data": {
      "text/plain": "array([[2.00912308e+09, 3.65000000e+01, 7.68051042e+03, ...,\n        1.00000000e+00, 3.00000000e+00, 1.00000000e+00],\n       [2.00912308e+09, 3.70000000e+01, 7.42897137e+03, ...,\n        1.00000000e+00, 3.00000000e+00, 1.00000000e+00],\n       [2.00912308e+09, 3.75000000e+01, 7.08480216e+03, ...,\n        1.00000000e+00, 4.00000000e+00, 1.00000000e+00],\n       ...,\n       [2.02001299e+09, 3.90000000e+01, 6.94945065e+03, ...,\n        1.00000000e+00, 5.00000000e+00, 1.00000000e+00],\n       [2.02001299e+09, 3.95000000e+01, 6.93836500e+03, ...,\n        1.00000000e+00, 6.00000000e+00, 1.00000000e+00],\n       [2.02001299e+09, 4.00000000e+01, 6.99316722e+03, ...,\n        1.00000000e+00, 6.00000000e+00, 1.00000000e+00]])"
     },
     "execution_count": 22,
     "metadata": {},
     "output_type": "execute_result"
    }
   ],
   "source": [
    "trainX"
   ],
   "metadata": {
    "collapsed": false,
    "ExecuteTime": {
     "end_time": "2024-04-05T10:23:48.839083Z",
     "start_time": "2024-04-05T10:23:48.832439Z"
    }
   },
   "id": "1424444e5a55ee6a",
   "execution_count": 22
  },
  {
   "cell_type": "code",
   "outputs": [
    {
     "data": {
      "text/plain": "array([[2.02001304e+09, 1.65000000e+01, 7.17521187e+03, ...,\n        1.00000000e+00, 7.00000000e+00, 1.00000000e+00],\n       [2.02001304e+09, 1.70000000e+01, 7.39736636e+03, ...,\n        1.00000000e+00, 7.00000000e+00, 1.00000000e+00],\n       [2.02001304e+09, 1.75000000e+01, 7.79420529e+03, ...,\n        1.00000000e+00, 8.00000000e+00, 1.00000000e+00],\n       ...,\n       [2.02103098e+09, 3.20000000e+01, 8.35780143e+03, ...,\n        1.00000000e+00, 2.20000000e+01, 2.00000000e+00],\n       [2.02103098e+09, 3.25000000e+01, 8.14708703e+03, ...,\n        1.00000000e+00, 2.30000000e+01, 2.00000000e+00],\n       [2.02103098e+09, 3.30000000e+01, 7.90779769e+03, ...,\n        1.00000000e+00, 2.30000000e+01, 2.00000000e+00]])"
     },
     "execution_count": 23,
     "metadata": {},
     "output_type": "execute_result"
    }
   ],
   "source": [
    "valX"
   ],
   "metadata": {
    "collapsed": false,
    "ExecuteTime": {
     "end_time": "2024-04-05T10:23:48.849056Z",
     "start_time": "2024-04-05T10:23:48.839546Z"
    }
   },
   "id": "4a6847391300abc2",
   "execution_count": 23
  },
  {
   "cell_type": "code",
   "outputs": [
    {
     "data": {
      "text/plain": "array([6282.85, 6211.49, 6248.31, ..., 8321.65, 8769.52, 9072.87])"
     },
     "execution_count": 24,
     "metadata": {},
     "output_type": "execute_result"
    }
   ],
   "source": [
    "trainy"
   ],
   "metadata": {
    "collapsed": false,
    "ExecuteTime": {
     "end_time": "2024-04-05T10:23:48.859178Z",
     "start_time": "2024-04-05T10:23:48.849504Z"
    }
   },
   "id": "cdd0632c910f526f",
   "execution_count": 24
  },
  {
   "cell_type": "code",
   "outputs": [
    {
     "data": {
      "text/plain": "array([9396.38, 9493.16, 9644.86, ..., 7461.71, 7333.09, 7260.08])"
     },
     "execution_count": 25,
     "metadata": {},
     "output_type": "execute_result"
    }
   ],
   "source": [
    "valy"
   ],
   "metadata": {
    "collapsed": false,
    "ExecuteTime": {
     "end_time": "2024-04-05T10:23:48.868715Z",
     "start_time": "2024-04-05T10:23:48.859659Z"
    }
   },
   "id": "86ded59299f6437f",
   "execution_count": 25
  },
  {
   "cell_type": "code",
   "outputs": [],
   "source": [
    "# Convert the datasets into DMatrix format\n",
    "dtrain = xgb.DMatrix(trainX, label=trainy)\n",
    "dval = xgb.DMatrix(valX, label=valy)  # validation set\n",
    "dtest = xgb.DMatrix(testX)  # test set for final evaluation"
   ],
   "metadata": {
    "collapsed": false,
    "ExecuteTime": {
     "end_time": "2024-04-05T10:23:49.048068Z",
     "start_time": "2024-04-05T10:23:48.869171Z"
    }
   },
   "id": "4f9df66dc51412f2",
   "execution_count": 26
  },
  {
   "cell_type": "code",
   "outputs": [
    {
     "data": {
      "text/plain": "<xgboost.core.DMatrix at 0x75cb7c3c9220>"
     },
     "execution_count": 27,
     "metadata": {},
     "output_type": "execute_result"
    }
   ],
   "source": [
    "dtrain"
   ],
   "metadata": {
    "collapsed": false,
    "ExecuteTime": {
     "end_time": "2024-04-05T10:23:49.053813Z",
     "start_time": "2024-04-05T10:23:49.051633Z"
    }
   },
   "id": "154b4ef1ad4a4719",
   "execution_count": 27
  },
  {
   "cell_type": "code",
   "outputs": [
    {
     "data": {
      "text/plain": "<xgboost.core.DMatrix at 0x75cba0548d40>"
     },
     "execution_count": 28,
     "metadata": {},
     "output_type": "execute_result"
    }
   ],
   "source": [
    "dval"
   ],
   "metadata": {
    "collapsed": false,
    "ExecuteTime": {
     "end_time": "2024-04-05T10:23:49.136106Z",
     "start_time": "2024-04-05T10:23:49.054325Z"
    }
   },
   "id": "9f59901fa7945258",
   "execution_count": 28
  },
  {
   "cell_type": "code",
   "outputs": [
    {
     "data": {
      "text/plain": "<xgboost.core.DMatrix at 0x75cba051f380>"
     },
     "execution_count": 29,
     "metadata": {},
     "output_type": "execute_result"
    }
   ],
   "source": [
    "dtest"
   ],
   "metadata": {
    "collapsed": false,
    "ExecuteTime": {
     "end_time": "2024-04-05T10:23:49.145824Z",
     "start_time": "2024-04-05T10:23:49.136657Z"
    }
   },
   "id": "40c4af8b4e4d1d23",
   "execution_count": 29
  },
  {
   "cell_type": "code",
   "outputs": [],
   "source": [
    "# def model parameters\n",
    "params = {\n",
    "    'max_depth': 3,\n",
    "    'learning_rate': 0.01,\n",
    "    'n_estimators': 1000,\n",
    "    'objective': 'reg:squarederror',\n",
    "    'eval_metric': 'mae'\n",
    "}  # example params, adjust based on best_params if you're using them"
   ],
   "metadata": {
    "collapsed": false,
    "ExecuteTime": {
     "end_time": "2024-04-05T10:23:49.153567Z",
     "start_time": "2024-04-05T10:23:49.146300Z"
    }
   },
   "id": "c668707d1e67ac7a",
   "execution_count": 30
  },
  {
   "cell_type": "code",
   "outputs": [
    {
     "name": "stderr",
     "output_type": "stream",
     "text": [
      "/home/noone/.cache/pypoetry/virtualenvs/team-0-5QTAbJ9E-py3.12/lib/python3.12/site-packages/xgboost/core.py:160: UserWarning: [20:23:49] WARNING: /workspace/src/learner.cc:742: \n",
      "Parameters: { \"n_estimators\" } are not used.\n",
      "\n",
      "  warnings.warn(smsg, UserWarning)\n"
     ]
    },
    {
     "name": "stdout",
     "output_type": "stream",
     "text": [
      "[0]\ttrain-mae:1029.71838\teval-mae:1085.42572\n",
      "[1]\ttrain-mae:1019.84671\teval-mae:1075.07167\n",
      "[2]\ttrain-mae:1010.08216\teval-mae:1064.82953\n",
      "[3]\ttrain-mae:1000.42136\teval-mae:1054.69328\n",
      "[4]\ttrain-mae:990.85890\teval-mae:1044.66755\n",
      "[5]\ttrain-mae:981.38553\teval-mae:1034.71479\n",
      "[6]\ttrain-mae:972.02592\teval-mae:1024.88953\n",
      "[7]\ttrain-mae:962.74642\teval-mae:1015.14121\n",
      "[8]\ttrain-mae:953.57069\teval-mae:1005.51265\n",
      "[9]\ttrain-mae:944.48731\teval-mae:995.97544\n",
      "[10]\ttrain-mae:935.48384\teval-mae:986.50828\n",
      "[11]\ttrain-mae:926.59807\teval-mae:977.16965\n",
      "[12]\ttrain-mae:917.78015\teval-mae:967.90007\n",
      "[13]\ttrain-mae:909.06011\teval-mae:958.71678\n",
      "[14]\ttrain-mae:900.43600\teval-mae:949.63450\n",
      "[15]\ttrain-mae:891.89124\teval-mae:940.64144\n",
      "[16]\ttrain-mae:883.44728\teval-mae:931.74879\n",
      "[17]\ttrain-mae:875.08290\teval-mae:922.93852\n",
      "[18]\ttrain-mae:866.83271\teval-mae:914.26362\n",
      "[19]\ttrain-mae:858.62735\teval-mae:905.62882\n",
      "[20]\ttrain-mae:850.51686\teval-mae:897.09063\n",
      "[21]\ttrain-mae:842.48755\teval-mae:888.63717\n",
      "[22]\ttrain-mae:834.53365\teval-mae:880.25894\n",
      "[23]\ttrain-mae:826.67960\teval-mae:871.99341\n",
      "[24]\ttrain-mae:818.88169\teval-mae:863.77289\n",
      "[25]\ttrain-mae:811.21159\teval-mae:855.69580\n",
      "[26]\ttrain-mae:803.57834\teval-mae:847.64618\n",
      "[27]\ttrain-mae:796.02271\teval-mae:839.68240\n",
      "[28]\ttrain-mae:788.55554\teval-mae:831.81963\n",
      "[29]\ttrain-mae:781.15201\teval-mae:824.02084\n",
      "[30]\ttrain-mae:773.86084\teval-mae:816.33717\n",
      "[31]\ttrain-mae:766.61099\teval-mae:808.68759\n",
      "[32]\ttrain-mae:759.44592\teval-mae:801.12308\n",
      "[33]\ttrain-mae:752.38153\teval-mae:793.65137\n",
      "[34]\ttrain-mae:745.35822\teval-mae:786.25527\n",
      "[35]\ttrain-mae:738.41414\teval-mae:778.93134\n",
      "[36]\ttrain-mae:731.52011\teval-mae:771.65081\n",
      "[37]\ttrain-mae:724.76134\teval-mae:764.51768\n",
      "[38]\ttrain-mae:718.00938\teval-mae:757.37778\n",
      "[39]\ttrain-mae:711.33512\teval-mae:750.36489\n",
      "[40]\ttrain-mae:704.78576\teval-mae:743.45014\n",
      "[41]\ttrain-mae:698.26564\teval-mae:736.57755\n",
      "[42]\ttrain-mae:691.78962\teval-mae:729.73449\n",
      "[43]\ttrain-mae:685.43802\teval-mae:723.02670\n",
      "[44]\ttrain-mae:679.11924\teval-mae:716.34760\n",
      "[45]\ttrain-mae:672.84809\teval-mae:709.76104\n",
      "[46]\ttrain-mae:666.63369\teval-mae:703.19367\n",
      "[47]\ttrain-mae:660.51774\teval-mae:696.74124\n",
      "[48]\ttrain-mae:654.48237\teval-mae:690.34872\n",
      "[49]\ttrain-mae:648.47046\teval-mae:684.02240\n",
      "[50]\ttrain-mae:642.47956\teval-mae:677.94505\n",
      "[51]\ttrain-mae:636.64845\teval-mae:671.77688\n",
      "[52]\ttrain-mae:630.82423\teval-mae:665.64981\n",
      "[53]\ttrain-mae:625.06551\teval-mae:659.85397\n",
      "[54]\ttrain-mae:619.41308\teval-mae:653.86309\n",
      "[55]\ttrain-mae:613.75605\teval-mae:648.02553\n",
      "[56]\ttrain-mae:608.14705\teval-mae:642.38428\n",
      "[57]\ttrain-mae:602.61729\teval-mae:636.81771\n",
      "[58]\ttrain-mae:597.12044\teval-mae:631.27084\n",
      "[59]\ttrain-mae:591.75510\teval-mae:625.58026\n",
      "[60]\ttrain-mae:586.44178\teval-mae:619.95729\n",
      "[61]\ttrain-mae:581.11780\teval-mae:614.59091\n",
      "[62]\ttrain-mae:575.84994\teval-mae:609.14511\n",
      "[63]\ttrain-mae:570.64254\teval-mae:603.90326\n",
      "[64]\ttrain-mae:565.49249\teval-mae:598.65988\n",
      "[65]\ttrain-mae:560.35877\teval-mae:593.44141\n",
      "[66]\ttrain-mae:555.32471\teval-mae:588.30027\n",
      "[67]\ttrain-mae:550.32269\teval-mae:583.25813\n",
      "[68]\ttrain-mae:545.39827\teval-mae:578.29558\n",
      "[69]\ttrain-mae:540.49166\teval-mae:573.20451\n",
      "[70]\ttrain-mae:535.61132\teval-mae:568.23066\n",
      "[71]\ttrain-mae:530.81814\teval-mae:563.34052\n",
      "[72]\ttrain-mae:526.07969\teval-mae:558.30244\n",
      "[73]\ttrain-mae:521.38761\teval-mae:553.46955\n",
      "[74]\ttrain-mae:516.73221\teval-mae:548.75827\n",
      "[75]\ttrain-mae:512.12803\teval-mae:544.09891\n",
      "[76]\ttrain-mae:507.58333\teval-mae:539.45472\n",
      "[77]\ttrain-mae:503.00577\teval-mae:534.74301\n",
      "[78]\ttrain-mae:498.49502\teval-mae:530.08622\n",
      "[79]\ttrain-mae:494.06304\teval-mae:525.78441\n",
      "[80]\ttrain-mae:489.63024\teval-mae:521.20529\n",
      "[81]\ttrain-mae:485.26282\teval-mae:516.87279\n",
      "[82]\ttrain-mae:480.98214\teval-mae:512.73490\n",
      "[83]\ttrain-mae:476.75380\teval-mae:508.43987\n",
      "[84]\ttrain-mae:472.53359\teval-mae:504.33908\n",
      "[85]\ttrain-mae:468.35373\teval-mae:500.02086\n",
      "[86]\ttrain-mae:464.19600\teval-mae:495.71800\n",
      "[87]\ttrain-mae:460.14213\teval-mae:491.76263\n",
      "[88]\ttrain-mae:456.07634\teval-mae:487.55168\n",
      "[89]\ttrain-mae:452.07223\teval-mae:483.56294\n",
      "[90]\ttrain-mae:448.10585\teval-mae:479.70433\n",
      "[91]\ttrain-mae:444.18320\teval-mae:475.67160\n",
      "[92]\ttrain-mae:440.28401\teval-mae:471.61755\n",
      "[93]\ttrain-mae:436.42146\teval-mae:467.85948\n",
      "[94]\ttrain-mae:432.60627\teval-mae:463.89198\n",
      "[95]\ttrain-mae:428.90670\teval-mae:460.12753\n",
      "[96]\ttrain-mae:425.18602\teval-mae:456.54600\n",
      "[97]\ttrain-mae:421.49116\teval-mae:452.68636\n",
      "[98]\ttrain-mae:417.83844\teval-mae:448.87098\n",
      "[99]\ttrain-mae:414.23860\teval-mae:445.36503\n",
      "[100]\ttrain-mae:410.66370\teval-mae:441.63407\n",
      "[101]\ttrain-mae:407.13001\teval-mae:437.94720\n",
      "[102]\ttrain-mae:403.63577\teval-mae:434.27844\n",
      "[103]\ttrain-mae:400.18239\teval-mae:430.90582\n",
      "[104]\ttrain-mae:396.76316\teval-mae:427.32276\n",
      "[105]\ttrain-mae:393.38178\teval-mae:423.76353\n",
      "[106]\ttrain-mae:390.04149\teval-mae:420.51461\n",
      "[107]\ttrain-mae:386.74328\teval-mae:417.04879\n",
      "[108]\ttrain-mae:383.47170\teval-mae:413.87056\n",
      "[109]\ttrain-mae:380.27371\teval-mae:410.65612\n",
      "[110]\ttrain-mae:377.06371\teval-mae:407.48312\n",
      "[111]\ttrain-mae:373.90294\teval-mae:404.36183\n",
      "[112]\ttrain-mae:370.74750\teval-mae:401.00994\n",
      "[113]\ttrain-mae:367.62614\teval-mae:397.96727\n",
      "[114]\ttrain-mae:364.52529\teval-mae:394.71514\n",
      "[115]\ttrain-mae:361.49462\teval-mae:391.76319\n",
      "[116]\ttrain-mae:358.56179\teval-mae:388.87481\n",
      "[117]\ttrain-mae:355.54255\teval-mae:385.94238\n",
      "[118]\ttrain-mae:352.61900\teval-mae:382.86976\n",
      "[119]\ttrain-mae:349.74173\teval-mae:380.00457\n",
      "[120]\ttrain-mae:346.81381\teval-mae:377.16369\n",
      "[121]\ttrain-mae:343.98432\teval-mae:374.17473\n",
      "[122]\ttrain-mae:341.16964\teval-mae:371.44408\n",
      "[123]\ttrain-mae:338.43550\teval-mae:368.71229\n",
      "[124]\ttrain-mae:335.68570\teval-mae:365.84964\n",
      "[125]\ttrain-mae:332.97295\teval-mae:363.18884\n",
      "[126]\ttrain-mae:330.28638\teval-mae:360.39459\n",
      "[127]\ttrain-mae:327.63278\teval-mae:357.74548\n",
      "[128]\ttrain-mae:324.97278\teval-mae:355.21456\n",
      "[129]\ttrain-mae:322.36018\teval-mae:352.69123\n",
      "[130]\ttrain-mae:319.80095\teval-mae:350.13607\n",
      "[131]\ttrain-mae:317.25689\teval-mae:347.48691\n",
      "[132]\ttrain-mae:314.73575\teval-mae:344.83701\n",
      "[133]\ttrain-mae:312.23560\teval-mae:342.43907\n",
      "[134]\ttrain-mae:309.75952\teval-mae:339.99317\n",
      "[135]\ttrain-mae:307.36328\teval-mae:337.59368\n",
      "[136]\ttrain-mae:304.95390\teval-mae:335.08893\n",
      "[137]\ttrain-mae:302.56002\teval-mae:332.58624\n",
      "[138]\ttrain-mae:300.19075\teval-mae:330.22809\n",
      "[139]\ttrain-mae:297.84459\teval-mae:327.96368\n",
      "[140]\ttrain-mae:295.50476\teval-mae:325.70463\n",
      "[141]\ttrain-mae:293.19862\teval-mae:323.41542\n",
      "[142]\ttrain-mae:290.94100\teval-mae:321.06182\n",
      "[143]\ttrain-mae:288.69307\teval-mae:318.83516\n",
      "[144]\ttrain-mae:286.49091\teval-mae:316.53058\n",
      "[145]\ttrain-mae:284.28673\teval-mae:314.38691\n",
      "[146]\ttrain-mae:282.11336\teval-mae:312.11272\n",
      "[147]\ttrain-mae:280.01170\teval-mae:310.04326\n",
      "[148]\ttrain-mae:277.86381\teval-mae:307.99927\n",
      "[149]\ttrain-mae:275.77496\teval-mae:305.84447\n",
      "[150]\ttrain-mae:273.69063\teval-mae:303.79496\n",
      "[151]\ttrain-mae:271.63500\teval-mae:301.80714\n",
      "[152]\ttrain-mae:269.61229\teval-mae:299.87914\n",
      "[153]\ttrain-mae:267.56670\teval-mae:297.70806\n",
      "[154]\ttrain-mae:265.55134\teval-mae:295.75712\n",
      "[155]\ttrain-mae:263.57930\teval-mae:293.71705\n",
      "[156]\ttrain-mae:261.63730\teval-mae:291.67932\n",
      "[157]\ttrain-mae:259.75083\teval-mae:289.85935\n",
      "[158]\ttrain-mae:257.84680\teval-mae:287.99057\n",
      "[159]\ttrain-mae:255.95984\teval-mae:286.16225\n",
      "[160]\ttrain-mae:254.08730\teval-mae:284.19765\n",
      "[161]\ttrain-mae:252.25005\teval-mae:282.27322\n",
      "[162]\ttrain-mae:250.46148\teval-mae:280.54739\n",
      "[163]\ttrain-mae:248.67900\teval-mae:278.84394\n",
      "[164]\ttrain-mae:246.89243\teval-mae:277.09713\n",
      "[165]\ttrain-mae:245.10828\teval-mae:275.23832\n",
      "[166]\ttrain-mae:243.32174\teval-mae:273.40129\n",
      "[167]\ttrain-mae:241.61674\teval-mae:271.55671\n",
      "[168]\ttrain-mae:239.94949\teval-mae:269.95452\n",
      "[169]\ttrain-mae:238.26100\teval-mae:268.23177\n",
      "[170]\ttrain-mae:236.55496\teval-mae:266.44057\n",
      "[171]\ttrain-mae:234.91536\teval-mae:264.80426\n",
      "[172]\ttrain-mae:233.27918\teval-mae:263.13304\n",
      "[173]\ttrain-mae:231.66089\teval-mae:261.62136\n",
      "[174]\ttrain-mae:230.08000\teval-mae:259.96802\n",
      "[175]\ttrain-mae:228.51158\teval-mae:258.40179\n",
      "[176]\ttrain-mae:226.99310\teval-mae:256.75332\n",
      "[177]\ttrain-mae:225.45136\teval-mae:255.30683\n",
      "[178]\ttrain-mae:223.88683\teval-mae:253.67021\n",
      "[179]\ttrain-mae:222.38937\teval-mae:252.06855\n",
      "[180]\ttrain-mae:220.90223\teval-mae:250.50830\n",
      "[181]\ttrain-mae:219.44285\teval-mae:249.10030\n",
      "[182]\ttrain-mae:218.03425\teval-mae:247.58264\n",
      "[183]\ttrain-mae:216.66709\teval-mae:246.26426\n",
      "[184]\ttrain-mae:215.25931\teval-mae:244.89402\n",
      "[185]\ttrain-mae:213.83091\teval-mae:243.37274\n",
      "[186]\ttrain-mae:212.44373\teval-mae:241.92350\n",
      "[187]\ttrain-mae:211.12344\teval-mae:240.60687\n",
      "[188]\ttrain-mae:209.78677\teval-mae:239.30221\n",
      "[189]\ttrain-mae:208.48461\teval-mae:237.90731\n",
      "[190]\ttrain-mae:207.15519\teval-mae:236.59329\n",
      "[191]\ttrain-mae:205.80517\teval-mae:235.15276\n",
      "[192]\ttrain-mae:204.47632\teval-mae:233.73238\n",
      "[193]\ttrain-mae:203.19647\teval-mae:232.36106\n",
      "[194]\ttrain-mae:201.92898\teval-mae:231.18559\n",
      "[195]\ttrain-mae:200.67517\teval-mae:229.83200\n",
      "[196]\ttrain-mae:199.45849\teval-mae:228.57144\n",
      "[197]\ttrain-mae:198.18805\teval-mae:227.21059\n",
      "[198]\ttrain-mae:196.93784\teval-mae:225.88359\n",
      "[199]\ttrain-mae:195.78327\teval-mae:224.74235\n",
      "[200]\ttrain-mae:194.55455\teval-mae:223.49383\n",
      "[201]\ttrain-mae:193.40920\teval-mae:222.25795\n",
      "[202]\ttrain-mae:192.27849\teval-mae:221.08351\n",
      "[203]\ttrain-mae:191.10292\teval-mae:219.81990\n",
      "[204]\ttrain-mae:189.94978\teval-mae:218.60007\n",
      "[205]\ttrain-mae:188.84868\teval-mae:217.40993\n",
      "[206]\ttrain-mae:187.73263\teval-mae:216.36270\n",
      "[207]\ttrain-mae:186.60201\teval-mae:215.17639\n",
      "[208]\ttrain-mae:185.55230\teval-mae:214.15232\n",
      "[209]\ttrain-mae:184.46479\teval-mae:212.98620\n",
      "[210]\ttrain-mae:183.42611\teval-mae:211.98934\n",
      "[211]\ttrain-mae:182.37118\teval-mae:210.94446\n",
      "[212]\ttrain-mae:181.33765\teval-mae:209.82244\n",
      "[213]\ttrain-mae:180.32730\teval-mae:208.89584\n",
      "[214]\ttrain-mae:179.34014\teval-mae:207.84989\n",
      "[215]\ttrain-mae:178.36738\teval-mae:206.92073\n",
      "[216]\ttrain-mae:177.39723\teval-mae:205.94579\n",
      "[217]\ttrain-mae:176.39148\teval-mae:204.88979\n",
      "[218]\ttrain-mae:175.44162\teval-mae:203.88645\n",
      "[219]\ttrain-mae:174.51930\teval-mae:202.99183\n",
      "[220]\ttrain-mae:173.59801\teval-mae:202.10027\n",
      "[221]\ttrain-mae:172.68453\teval-mae:201.25616\n",
      "[222]\ttrain-mae:171.80029\teval-mae:200.40682\n",
      "[223]\ttrain-mae:170.93695\teval-mae:199.51267\n",
      "[224]\ttrain-mae:170.06725\teval-mae:198.66711\n",
      "[225]\ttrain-mae:169.18652\teval-mae:197.72352\n",
      "[226]\ttrain-mae:168.31760\teval-mae:196.81950\n",
      "[227]\ttrain-mae:167.46504\teval-mae:196.03901\n",
      "[228]\ttrain-mae:166.58414\teval-mae:195.10092\n",
      "[229]\ttrain-mae:165.76771\teval-mae:194.30740\n",
      "[230]\ttrain-mae:164.95126\teval-mae:193.51813\n",
      "[231]\ttrain-mae:164.15640\teval-mae:192.71163\n",
      "[232]\ttrain-mae:163.38304\teval-mae:191.93156\n",
      "[233]\ttrain-mae:162.57272\teval-mae:191.08970\n",
      "[234]\ttrain-mae:161.75855\teval-mae:190.20144\n",
      "[235]\ttrain-mae:160.96809\teval-mae:189.37700\n",
      "[236]\ttrain-mae:160.21975\teval-mae:188.64561\n",
      "[237]\ttrain-mae:159.47100\teval-mae:187.91513\n",
      "[238]\ttrain-mae:158.68917\teval-mae:187.06924\n",
      "[239]\ttrain-mae:157.94695\teval-mae:186.30410\n",
      "[240]\ttrain-mae:157.23450\teval-mae:185.60633\n",
      "[241]\ttrain-mae:156.50657\teval-mae:184.87922\n",
      "[242]\ttrain-mae:155.76474\teval-mae:184.09441\n",
      "[243]\ttrain-mae:155.07001\teval-mae:183.38877\n",
      "[244]\ttrain-mae:154.37004\teval-mae:182.69756\n",
      "[245]\ttrain-mae:153.69791\teval-mae:181.97322\n",
      "[246]\ttrain-mae:153.02914\teval-mae:181.24869\n",
      "[247]\ttrain-mae:152.31083\teval-mae:180.48357\n",
      "[248]\ttrain-mae:151.65541\teval-mae:179.80217\n",
      "[249]\ttrain-mae:150.99810\teval-mae:179.14289\n",
      "[250]\ttrain-mae:150.34539\teval-mae:178.48362\n",
      "[251]\ttrain-mae:149.68415\teval-mae:177.78946\n",
      "[252]\ttrain-mae:149.05678\teval-mae:177.16072\n",
      "[253]\ttrain-mae:148.40592\teval-mae:176.56419\n",
      "[254]\ttrain-mae:147.81326\teval-mae:175.94461\n",
      "[255]\ttrain-mae:147.20642\teval-mae:175.33175\n",
      "[256]\ttrain-mae:146.56231\teval-mae:174.66802\n",
      "[257]\ttrain-mae:145.93475\teval-mae:173.98449\n",
      "[258]\ttrain-mae:145.35573\teval-mae:173.40532\n",
      "[259]\ttrain-mae:144.75837\teval-mae:172.84686\n",
      "[260]\ttrain-mae:144.16647\teval-mae:172.22334\n",
      "[261]\ttrain-mae:143.57767\teval-mae:171.55646\n",
      "[262]\ttrain-mae:143.00162\teval-mae:171.01479\n",
      "[263]\ttrain-mae:142.39208\teval-mae:170.29437\n",
      "[264]\ttrain-mae:141.83257\teval-mae:169.63800\n",
      "[265]\ttrain-mae:141.27728\teval-mae:168.99581\n",
      "[266]\ttrain-mae:140.71508\teval-mae:168.34926\n",
      "[267]\ttrain-mae:140.15058\teval-mae:167.83694\n",
      "[268]\ttrain-mae:139.57286\teval-mae:167.17066\n",
      "[269]\ttrain-mae:139.03017\teval-mae:166.56824\n",
      "[270]\ttrain-mae:138.50672\teval-mae:165.98281\n",
      "[271]\ttrain-mae:137.96664\teval-mae:165.40435\n",
      "[272]\ttrain-mae:137.42968\teval-mae:164.79774\n",
      "[273]\ttrain-mae:136.95617\teval-mae:164.26837\n",
      "[274]\ttrain-mae:136.45038\teval-mae:163.76931\n",
      "[275]\ttrain-mae:135.92048\teval-mae:163.14684\n",
      "[276]\ttrain-mae:135.41582\teval-mae:162.56550\n",
      "[277]\ttrain-mae:134.91902\teval-mae:162.02790\n",
      "[278]\ttrain-mae:134.43908\teval-mae:161.46546\n",
      "[279]\ttrain-mae:133.94562\teval-mae:161.01378\n",
      "[280]\ttrain-mae:133.46389\teval-mae:160.43303\n",
      "[281]\ttrain-mae:132.97466\teval-mae:159.83034\n",
      "[282]\ttrain-mae:132.50065\teval-mae:159.28880\n",
      "[283]\ttrain-mae:132.04939\teval-mae:158.75392\n",
      "[284]\ttrain-mae:131.58574\teval-mae:158.24077\n",
      "[285]\ttrain-mae:131.13828\teval-mae:157.75026\n",
      "[286]\ttrain-mae:130.70909\teval-mae:157.22238\n",
      "[287]\ttrain-mae:130.26588\teval-mae:156.71729\n",
      "[288]\ttrain-mae:129.82152\teval-mae:156.29751\n",
      "[289]\ttrain-mae:129.38925\teval-mae:155.75268\n",
      "[290]\ttrain-mae:128.95727\teval-mae:155.26362\n",
      "[291]\ttrain-mae:128.52677\teval-mae:154.72779\n",
      "[292]\ttrain-mae:128.11542\teval-mae:154.27006\n",
      "[293]\ttrain-mae:127.70236\teval-mae:153.74346\n",
      "[294]\ttrain-mae:127.29161\teval-mae:153.34187\n",
      "[295]\ttrain-mae:126.89608\teval-mae:152.83925\n",
      "[296]\ttrain-mae:126.49957\teval-mae:152.36867\n",
      "[297]\ttrain-mae:126.10409\teval-mae:151.90016\n",
      "[298]\ttrain-mae:125.72497\teval-mae:151.45644\n",
      "[299]\ttrain-mae:125.33805\teval-mae:151.08031\n",
      "[300]\ttrain-mae:124.97069\teval-mae:150.59960\n",
      "[301]\ttrain-mae:124.59469\teval-mae:150.23129\n",
      "[302]\ttrain-mae:124.22185\teval-mae:149.86321\n",
      "[303]\ttrain-mae:123.85825\teval-mae:149.39204\n",
      "[304]\ttrain-mae:123.50119\teval-mae:149.00520\n",
      "[305]\ttrain-mae:123.14298\teval-mae:148.57588\n",
      "[306]\ttrain-mae:122.80917\teval-mae:148.16083\n",
      "[307]\ttrain-mae:122.46211\teval-mae:147.76405\n",
      "[308]\ttrain-mae:122.13562\teval-mae:147.38917\n",
      "[309]\ttrain-mae:121.79817\teval-mae:147.00074\n",
      "[310]\ttrain-mae:121.46002\teval-mae:146.59158\n",
      "[311]\ttrain-mae:121.13863\teval-mae:146.20401\n",
      "[312]\ttrain-mae:120.81286\teval-mae:145.79445\n",
      "[313]\ttrain-mae:120.48540\teval-mae:145.40384\n",
      "[314]\ttrain-mae:120.17577\teval-mae:145.02951\n",
      "[315]\ttrain-mae:119.86600\teval-mae:144.63595\n",
      "[316]\ttrain-mae:119.53996\teval-mae:144.22019\n",
      "[317]\ttrain-mae:119.24794\teval-mae:143.90889\n",
      "[318]\ttrain-mae:118.95352\teval-mae:143.53098\n",
      "[319]\ttrain-mae:118.66769\teval-mae:143.18139\n",
      "[320]\ttrain-mae:118.38656\teval-mae:142.85845\n",
      "[321]\ttrain-mae:118.09989\teval-mae:142.49855\n",
      "[322]\ttrain-mae:117.82867\teval-mae:142.16277\n",
      "[323]\ttrain-mae:117.52444\teval-mae:141.78239\n",
      "[324]\ttrain-mae:117.23511\teval-mae:141.37836\n",
      "[325]\ttrain-mae:116.95252\teval-mae:141.06739\n",
      "[326]\ttrain-mae:116.68331\teval-mae:140.73608\n",
      "[327]\ttrain-mae:116.38508\teval-mae:140.42732\n",
      "[328]\ttrain-mae:116.13077\teval-mae:140.09815\n",
      "[329]\ttrain-mae:115.88228\teval-mae:139.78435\n",
      "[330]\ttrain-mae:115.61870\teval-mae:139.47005\n",
      "[331]\ttrain-mae:115.34730\teval-mae:139.06427\n",
      "[332]\ttrain-mae:115.07505\teval-mae:138.77478\n",
      "[333]\ttrain-mae:114.82687\teval-mae:138.46416\n",
      "[334]\ttrain-mae:114.55707\teval-mae:138.15698\n",
      "[335]\ttrain-mae:114.32509\teval-mae:137.89566\n",
      "[336]\ttrain-mae:114.07243\teval-mae:137.54931\n",
      "[337]\ttrain-mae:113.81422\teval-mae:137.24635\n",
      "[338]\ttrain-mae:113.58316\teval-mae:136.94639\n",
      "[339]\ttrain-mae:113.34240\teval-mae:136.68154\n",
      "[340]\ttrain-mae:113.11154\teval-mae:136.38743\n",
      "[341]\ttrain-mae:112.87008\teval-mae:136.02939\n",
      "[342]\ttrain-mae:112.62973\teval-mae:135.76505\n",
      "[343]\ttrain-mae:112.41482\teval-mae:135.53748\n",
      "[344]\ttrain-mae:112.16527\teval-mae:135.22063\n",
      "[345]\ttrain-mae:111.94182\teval-mae:134.92217\n",
      "[346]\ttrain-mae:111.72700\teval-mae:134.61845\n",
      "[347]\ttrain-mae:111.52355\teval-mae:134.35152\n",
      "[348]\ttrain-mae:111.29962\teval-mae:134.09444\n",
      "[349]\ttrain-mae:111.06728\teval-mae:133.83720\n",
      "[350]\ttrain-mae:110.84950\teval-mae:133.51798\n",
      "[351]\ttrain-mae:110.62798\teval-mae:133.23784\n",
      "[352]\ttrain-mae:110.44322\teval-mae:133.01519\n",
      "[353]\ttrain-mae:110.23033\teval-mae:132.75609\n",
      "[354]\ttrain-mae:110.02355\teval-mae:132.48922\n",
      "[355]\ttrain-mae:109.83826\teval-mae:132.24034\n",
      "[356]\ttrain-mae:109.62125\teval-mae:131.98450\n",
      "[357]\ttrain-mae:109.40829\teval-mae:131.74388\n",
      "[358]\ttrain-mae:109.21462\teval-mae:131.47314\n",
      "[359]\ttrain-mae:109.00323\teval-mae:131.25501\n",
      "[360]\ttrain-mae:108.80328\teval-mae:130.96725\n",
      "[361]\ttrain-mae:108.59580\teval-mae:130.74638\n",
      "[362]\ttrain-mae:108.39113\teval-mae:130.51082\n",
      "[363]\ttrain-mae:108.21797\teval-mae:130.28036\n",
      "[364]\ttrain-mae:108.03062\teval-mae:129.99041\n",
      "[365]\ttrain-mae:107.85088\teval-mae:129.84264\n",
      "[366]\ttrain-mae:107.64064\teval-mae:129.59086\n",
      "[367]\ttrain-mae:107.45945\teval-mae:129.36830\n",
      "[368]\ttrain-mae:107.26704\teval-mae:129.14289\n",
      "[369]\ttrain-mae:107.07964\teval-mae:128.89887\n",
      "[370]\ttrain-mae:106.78435\teval-mae:128.57837\n",
      "[371]\ttrain-mae:106.60170\teval-mae:128.34619\n",
      "[372]\ttrain-mae:106.31207\teval-mae:128.02992\n",
      "[373]\ttrain-mae:106.12911\teval-mae:127.81252\n",
      "[374]\ttrain-mae:105.98203\teval-mae:127.63159\n",
      "[375]\ttrain-mae:105.81788\teval-mae:127.37256\n",
      "[376]\ttrain-mae:105.64059\teval-mae:127.15960\n",
      "[377]\ttrain-mae:105.36002\teval-mae:126.85780\n",
      "[378]\ttrain-mae:105.18664\teval-mae:126.68535\n",
      "[379]\ttrain-mae:104.97943\teval-mae:126.40805\n",
      "[380]\ttrain-mae:104.80812\teval-mae:126.20113\n",
      "[381]\ttrain-mae:104.64782\teval-mae:126.00748\n",
      "[382]\ttrain-mae:104.39437\teval-mae:125.72087\n",
      "[383]\ttrain-mae:104.22571\teval-mae:125.52652\n",
      "[384]\ttrain-mae:103.97774\teval-mae:125.24616\n",
      "[385]\ttrain-mae:103.81746\teval-mae:125.07701\n",
      "[386]\ttrain-mae:103.67071\teval-mae:124.84365\n",
      "[387]\ttrain-mae:103.50576\teval-mae:124.62612\n",
      "[388]\ttrain-mae:103.35725\teval-mae:124.44182\n",
      "[389]\ttrain-mae:103.08575\teval-mae:124.15383\n",
      "[390]\ttrain-mae:102.96014\teval-mae:123.99434\n",
      "[391]\ttrain-mae:102.82233\teval-mae:123.76578\n",
      "[392]\ttrain-mae:102.67168\teval-mae:123.57938\n",
      "[393]\ttrain-mae:102.53887\teval-mae:123.43576\n",
      "[394]\ttrain-mae:102.27597\teval-mae:123.15848\n",
      "[395]\ttrain-mae:102.12228\teval-mae:122.98244\n",
      "[396]\ttrain-mae:101.97449\teval-mae:122.78655\n",
      "[397]\ttrain-mae:101.71498\teval-mae:122.51612\n",
      "[398]\ttrain-mae:101.57905\teval-mae:122.34183\n",
      "[399]\ttrain-mae:101.33383\teval-mae:122.06842\n",
      "[400]\ttrain-mae:101.19040\teval-mae:121.85339\n",
      "[401]\ttrain-mae:101.05434\teval-mae:121.67261\n",
      "[402]\ttrain-mae:100.91506\teval-mae:121.50744\n",
      "[403]\ttrain-mae:100.78179\teval-mae:121.33521\n",
      "[404]\ttrain-mae:100.54446\teval-mae:121.07202\n",
      "[405]\ttrain-mae:100.41235\teval-mae:120.94035\n",
      "[406]\ttrain-mae:100.29211\teval-mae:120.74187\n",
      "[407]\ttrain-mae:100.16367\teval-mae:120.56126\n",
      "[408]\ttrain-mae:100.04357\teval-mae:120.42975\n",
      "[409]\ttrain-mae:99.83140\teval-mae:120.18320\n",
      "[410]\ttrain-mae:99.71047\teval-mae:120.03166\n",
      "[411]\ttrain-mae:99.58265\teval-mae:119.87315\n",
      "[412]\ttrain-mae:99.44496\teval-mae:119.68752\n",
      "[413]\ttrain-mae:99.32737\teval-mae:119.54001\n",
      "[414]\ttrain-mae:99.10715\teval-mae:119.31008\n",
      "[415]\ttrain-mae:98.98444\teval-mae:119.16576\n",
      "[416]\ttrain-mae:98.77186\teval-mae:118.93701\n",
      "[417]\ttrain-mae:98.66721\teval-mae:118.82491\n",
      "[418]\ttrain-mae:98.54690\teval-mae:118.66933\n",
      "[419]\ttrain-mae:98.43075\teval-mae:118.52541\n",
      "[420]\ttrain-mae:98.20834\teval-mae:118.28965\n",
      "[421]\ttrain-mae:98.09289\teval-mae:118.13911\n",
      "[422]\ttrain-mae:97.98653\teval-mae:117.95948\n",
      "[423]\ttrain-mae:97.88144\teval-mae:117.83449\n",
      "[424]\ttrain-mae:97.76860\teval-mae:117.69545\n",
      "[425]\ttrain-mae:97.54908\teval-mae:117.46502\n",
      "[426]\ttrain-mae:97.44053\teval-mae:117.33916\n",
      "[427]\ttrain-mae:97.32643\teval-mae:117.22147\n",
      "[428]\ttrain-mae:97.21640\teval-mae:117.07556\n",
      "[429]\ttrain-mae:97.10477\teval-mae:116.93288\n",
      "[430]\ttrain-mae:96.90715\teval-mae:116.72602\n",
      "[431]\ttrain-mae:96.80493\teval-mae:116.58429\n",
      "[432]\ttrain-mae:96.68794\teval-mae:116.43511\n",
      "[433]\ttrain-mae:96.58613\teval-mae:116.31828\n",
      "[434]\ttrain-mae:96.48210\teval-mae:116.17482\n",
      "[435]\ttrain-mae:96.37642\teval-mae:116.07152\n",
      "[436]\ttrain-mae:96.27965\teval-mae:115.93596\n",
      "[437]\ttrain-mae:96.18016\teval-mae:115.78849\n",
      "[438]\ttrain-mae:96.07154\teval-mae:115.66771\n",
      "[439]\ttrain-mae:95.97296\teval-mae:115.53416\n",
      "[440]\ttrain-mae:95.87450\teval-mae:115.42732\n",
      "[441]\ttrain-mae:95.70047\teval-mae:115.22902\n",
      "[442]\ttrain-mae:95.58920\teval-mae:115.07589\n",
      "[443]\ttrain-mae:95.49355\teval-mae:114.94533\n",
      "[444]\ttrain-mae:95.40144\teval-mae:114.83939\n",
      "[445]\ttrain-mae:95.30571\teval-mae:114.74415\n",
      "[446]\ttrain-mae:95.20202\teval-mae:114.61561\n",
      "[447]\ttrain-mae:95.10455\teval-mae:114.51060\n",
      "[448]\ttrain-mae:94.93701\teval-mae:114.31832\n",
      "[449]\ttrain-mae:94.85247\teval-mae:114.20321\n",
      "[450]\ttrain-mae:94.76040\teval-mae:114.09294\n",
      "[451]\ttrain-mae:94.64546\teval-mae:113.95910\n",
      "[452]\ttrain-mae:94.56122\teval-mae:113.86513\n",
      "[453]\ttrain-mae:94.39912\teval-mae:113.67754\n",
      "[454]\ttrain-mae:94.31809\teval-mae:113.53198\n",
      "[455]\ttrain-mae:94.22714\teval-mae:113.42850\n",
      "[456]\ttrain-mae:94.14854\teval-mae:113.28592\n",
      "[457]\ttrain-mae:94.04816\teval-mae:113.14314\n",
      "[458]\ttrain-mae:93.96423\teval-mae:113.03580\n",
      "[459]\ttrain-mae:93.88252\teval-mae:112.95685\n",
      "[460]\ttrain-mae:93.80639\teval-mae:112.84024\n",
      "[461]\ttrain-mae:93.72051\teval-mae:112.75644\n",
      "[462]\ttrain-mae:93.63806\teval-mae:112.66501\n",
      "[463]\ttrain-mae:93.55365\teval-mae:112.55526\n",
      "[464]\ttrain-mae:93.44803\teval-mae:112.43313\n",
      "[465]\ttrain-mae:93.37530\teval-mae:112.29863\n",
      "[466]\ttrain-mae:93.27810\teval-mae:112.15335\n",
      "[467]\ttrain-mae:93.20636\teval-mae:112.04234\n",
      "[468]\ttrain-mae:93.11143\teval-mae:111.90033\n",
      "[469]\ttrain-mae:93.03154\teval-mae:111.79246\n",
      "[470]\ttrain-mae:92.95698\teval-mae:111.69335\n",
      "[471]\ttrain-mae:92.88038\teval-mae:111.60821\n",
      "[472]\ttrain-mae:92.79964\teval-mae:111.50752\n",
      "[473]\ttrain-mae:92.71123\teval-mae:111.38860\n",
      "[474]\ttrain-mae:92.63742\teval-mae:111.29666\n",
      "[475]\ttrain-mae:92.56153\teval-mae:111.19369\n",
      "[476]\ttrain-mae:92.49247\teval-mae:111.10957\n",
      "[477]\ttrain-mae:92.41500\teval-mae:111.01159\n",
      "[478]\ttrain-mae:92.33493\teval-mae:110.90824\n",
      "[479]\ttrain-mae:92.26562\teval-mae:110.84149\n",
      "[480]\ttrain-mae:92.19044\teval-mae:110.74568\n",
      "[481]\ttrain-mae:92.04267\teval-mae:110.56588\n",
      "[482]\ttrain-mae:91.98625\teval-mae:110.46802\n",
      "[483]\ttrain-mae:91.89989\teval-mae:110.33914\n",
      "[484]\ttrain-mae:91.84127\teval-mae:110.25259\n",
      "[485]\ttrain-mae:91.77598\teval-mae:110.16020\n",
      "[486]\ttrain-mae:91.68467\teval-mae:110.05569\n",
      "[487]\ttrain-mae:91.62233\teval-mae:109.95455\n",
      "[488]\ttrain-mae:91.54868\teval-mae:109.86697\n",
      "[489]\ttrain-mae:91.48312\teval-mae:109.78828\n",
      "[490]\ttrain-mae:91.41265\teval-mae:109.69726\n",
      "[491]\ttrain-mae:91.33913\teval-mae:109.60513\n",
      "[492]\ttrain-mae:91.28707\teval-mae:109.53147\n",
      "[493]\ttrain-mae:91.21833\teval-mae:109.44585\n",
      "[494]\ttrain-mae:91.13878\teval-mae:109.32649\n",
      "[495]\ttrain-mae:91.08834\teval-mae:109.24910\n",
      "[496]\ttrain-mae:91.02148\teval-mae:109.16529\n",
      "[497]\ttrain-mae:90.88940\teval-mae:109.03015\n",
      "[498]\ttrain-mae:90.84247\teval-mae:108.95566\n",
      "[499]\ttrain-mae:90.75579\teval-mae:108.85702\n",
      "[500]\ttrain-mae:90.69536\teval-mae:108.78864\n",
      "[501]\ttrain-mae:90.56544\teval-mae:108.65599\n",
      "[502]\ttrain-mae:90.49728\teval-mae:108.57059\n",
      "[503]\ttrain-mae:90.45226\teval-mae:108.49851\n",
      "[504]\ttrain-mae:90.35359\teval-mae:108.38320\n",
      "[505]\ttrain-mae:90.29803\teval-mae:108.32490\n",
      "[506]\ttrain-mae:90.23907\teval-mae:108.24800\n",
      "[507]\ttrain-mae:90.11355\teval-mae:108.10580\n",
      "[508]\ttrain-mae:90.07072\teval-mae:108.03811\n",
      "[509]\ttrain-mae:89.94849\teval-mae:107.89700\n",
      "[510]\ttrain-mae:89.90255\teval-mae:107.83162\n",
      "[511]\ttrain-mae:89.84818\teval-mae:107.76015\n",
      "[512]\ttrain-mae:89.72546\teval-mae:107.62772\n",
      "[513]\ttrain-mae:89.68480\teval-mae:107.56345\n",
      "[514]\ttrain-mae:89.56441\teval-mae:107.42749\n",
      "[515]\ttrain-mae:89.49325\teval-mae:107.32108\n",
      "[516]\ttrain-mae:89.45622\teval-mae:107.25779\n",
      "[517]\ttrain-mae:89.39215\teval-mae:107.19377\n",
      "[518]\ttrain-mae:89.26620\teval-mae:107.05026\n",
      "[519]\ttrain-mae:89.21106\teval-mae:107.00376\n",
      "[520]\ttrain-mae:89.09167\teval-mae:106.88334\n",
      "[521]\ttrain-mae:89.02138\teval-mae:106.77687\n",
      "[522]\ttrain-mae:88.97274\teval-mae:106.71140\n",
      "[523]\ttrain-mae:88.90703\teval-mae:106.67573\n",
      "[524]\ttrain-mae:88.79250\teval-mae:106.55169\n",
      "[525]\ttrain-mae:88.73162\teval-mae:106.47517\n",
      "[526]\ttrain-mae:88.67675\teval-mae:106.42961\n",
      "[527]\ttrain-mae:88.62589\teval-mae:106.35934\n",
      "[528]\ttrain-mae:88.51451\teval-mae:106.22726\n",
      "[529]\ttrain-mae:88.44945\teval-mae:106.14240\n",
      "[530]\ttrain-mae:88.39497\teval-mae:106.09842\n",
      "[531]\ttrain-mae:88.34918\teval-mae:106.03602\n",
      "[532]\ttrain-mae:88.23310\teval-mae:105.90394\n",
      "[533]\ttrain-mae:88.19513\teval-mae:105.83248\n",
      "[534]\ttrain-mae:88.12988\teval-mae:105.74410\n",
      "[535]\ttrain-mae:88.07315\teval-mae:105.71029\n",
      "[536]\ttrain-mae:88.01815\teval-mae:105.66130\n",
      "[537]\ttrain-mae:87.94977\teval-mae:105.57194\n",
      "[538]\ttrain-mae:87.88841\teval-mae:105.49217\n",
      "[539]\ttrain-mae:87.82658\teval-mae:105.45962\n",
      "[540]\ttrain-mae:87.76346\teval-mae:105.37551\n",
      "[541]\ttrain-mae:87.71315\teval-mae:105.30624\n",
      "[542]\ttrain-mae:87.65170\teval-mae:105.21128\n",
      "[543]\ttrain-mae:87.61919\teval-mae:105.15644\n",
      "[544]\ttrain-mae:87.50474\teval-mae:105.03430\n",
      "[545]\ttrain-mae:87.46921\teval-mae:104.97793\n",
      "[546]\ttrain-mae:87.42156\teval-mae:104.91144\n",
      "[547]\ttrain-mae:87.37331\teval-mae:104.83119\n",
      "[548]\ttrain-mae:87.31608\teval-mae:104.80261\n",
      "[549]\ttrain-mae:87.26894\teval-mae:104.73665\n",
      "[550]\ttrain-mae:87.21687\teval-mae:104.67046\n",
      "[551]\ttrain-mae:87.17172\teval-mae:104.59788\n",
      "[552]\ttrain-mae:87.06569\teval-mae:104.48616\n",
      "[553]\ttrain-mae:87.02030\teval-mae:104.44712\n",
      "[554]\ttrain-mae:86.91823\teval-mae:104.33350\n",
      "[555]\ttrain-mae:86.86575\teval-mae:104.24713\n",
      "[556]\ttrain-mae:86.81024\teval-mae:104.21674\n",
      "[557]\ttrain-mae:86.74787\teval-mae:104.17961\n",
      "[558]\ttrain-mae:86.68902\teval-mae:104.10270\n",
      "[559]\ttrain-mae:86.65705\teval-mae:104.05161\n",
      "[560]\ttrain-mae:86.55409\teval-mae:103.94399\n",
      "[561]\ttrain-mae:86.50314\teval-mae:103.85979\n",
      "[562]\ttrain-mae:86.40493\teval-mae:103.74978\n",
      "[563]\ttrain-mae:86.35677\teval-mae:103.72542\n",
      "[564]\ttrain-mae:86.31267\teval-mae:103.67942\n",
      "[565]\ttrain-mae:86.26358\teval-mae:103.61515\n",
      "[566]\ttrain-mae:86.20820\teval-mae:103.58517\n",
      "[567]\ttrain-mae:86.13133\teval-mae:103.49040\n",
      "[568]\ttrain-mae:86.09635\teval-mae:103.43249\n",
      "[569]\ttrain-mae:85.99271\teval-mae:103.31520\n",
      "[570]\ttrain-mae:85.95178\teval-mae:103.26290\n",
      "[571]\ttrain-mae:85.91532\teval-mae:103.22955\n",
      "[572]\ttrain-mae:85.84119\teval-mae:103.13378\n",
      "[573]\ttrain-mae:85.80530\teval-mae:103.08189\n",
      "[574]\ttrain-mae:85.72659\teval-mae:103.00934\n",
      "[575]\ttrain-mae:85.62753\teval-mae:102.90648\n",
      "[576]\ttrain-mae:85.58147\teval-mae:102.82462\n",
      "[577]\ttrain-mae:85.55430\teval-mae:102.78480\n",
      "[578]\ttrain-mae:85.45767\teval-mae:102.68859\n",
      "[579]\ttrain-mae:85.42261\teval-mae:102.65640\n",
      "[580]\ttrain-mae:85.33063\teval-mae:102.55286\n",
      "[581]\ttrain-mae:85.29483\teval-mae:102.53704\n",
      "[582]\ttrain-mae:85.26570\teval-mae:102.49778\n",
      "[583]\ttrain-mae:85.22533\teval-mae:102.42128\n",
      "[584]\ttrain-mae:85.19784\teval-mae:102.37560\n",
      "[585]\ttrain-mae:85.10530\teval-mae:102.27518\n",
      "[586]\ttrain-mae:85.05793\teval-mae:102.24899\n",
      "[587]\ttrain-mae:84.99874\teval-mae:102.17919\n",
      "[588]\ttrain-mae:84.96147\teval-mae:102.11449\n",
      "[589]\ttrain-mae:84.86888\teval-mae:102.00498\n",
      "[590]\ttrain-mae:84.81777\teval-mae:101.97149\n",
      "[591]\ttrain-mae:84.77378\teval-mae:101.90797\n",
      "[592]\ttrain-mae:84.73995\teval-mae:101.89360\n",
      "[593]\ttrain-mae:84.68050\teval-mae:101.82435\n",
      "[594]\ttrain-mae:84.65431\teval-mae:101.78107\n",
      "[595]\ttrain-mae:84.56144\teval-mae:101.68981\n",
      "[596]\ttrain-mae:84.51644\teval-mae:101.66708\n",
      "[597]\ttrain-mae:84.46336\teval-mae:101.61900\n",
      "[598]\ttrain-mae:84.43834\teval-mae:101.57150\n",
      "[599]\ttrain-mae:84.38984\teval-mae:101.53988\n",
      "[600]\ttrain-mae:84.33271\teval-mae:101.47302\n",
      "[601]\ttrain-mae:84.30352\teval-mae:101.41831\n",
      "[602]\ttrain-mae:84.20061\teval-mae:101.31977\n",
      "[603]\ttrain-mae:84.15711\teval-mae:101.29835\n",
      "[604]\ttrain-mae:84.12096\teval-mae:101.22772\n",
      "[605]\ttrain-mae:84.07015\teval-mae:101.18207\n",
      "[606]\ttrain-mae:84.04630\teval-mae:101.13614\n",
      "[607]\ttrain-mae:83.99933\teval-mae:101.10706\n",
      "[608]\ttrain-mae:83.97105\teval-mae:101.06305\n",
      "[609]\ttrain-mae:83.91815\teval-mae:100.99913\n",
      "[610]\ttrain-mae:83.89235\teval-mae:100.94847\n",
      "[611]\ttrain-mae:83.80691\teval-mae:100.85710\n",
      "[612]\ttrain-mae:83.76531\teval-mae:100.83617\n",
      "[613]\ttrain-mae:83.73889\teval-mae:100.78437\n",
      "[614]\ttrain-mae:83.65137\teval-mae:100.70281\n",
      "[615]\ttrain-mae:83.60657\teval-mae:100.67373\n",
      "[616]\ttrain-mae:83.55789\teval-mae:100.63077\n",
      "[617]\ttrain-mae:83.53503\teval-mae:100.58519\n",
      "[618]\ttrain-mae:83.49475\teval-mae:100.56463\n",
      "[619]\ttrain-mae:83.44394\teval-mae:100.49917\n",
      "[620]\ttrain-mae:83.36871\teval-mae:100.39761\n",
      "[621]\ttrain-mae:83.35218\teval-mae:100.36589\n",
      "[622]\ttrain-mae:83.30827\teval-mae:100.33977\n",
      "[623]\ttrain-mae:83.26120\teval-mae:100.29842\n",
      "[624]\ttrain-mae:83.22882\teval-mae:100.22488\n",
      "[625]\ttrain-mae:83.14299\teval-mae:100.13107\n",
      "[626]\ttrain-mae:83.12512\teval-mae:100.09623\n",
      "[627]\ttrain-mae:83.08683\teval-mae:100.07606\n",
      "[628]\ttrain-mae:83.00197\teval-mae:99.98352\n",
      "[629]\ttrain-mae:82.98065\teval-mae:99.93783\n",
      "[630]\ttrain-mae:82.93827\teval-mae:99.91276\n",
      "[631]\ttrain-mae:82.89003\teval-mae:99.85427\n",
      "[632]\ttrain-mae:82.80666\teval-mae:99.76253\n",
      "[633]\ttrain-mae:82.78540\teval-mae:99.71957\n",
      "[634]\ttrain-mae:82.74418\teval-mae:99.69440\n",
      "[635]\ttrain-mae:82.71935\teval-mae:99.64530\n",
      "[636]\ttrain-mae:82.63750\teval-mae:99.56071\n",
      "[637]\ttrain-mae:82.60078\teval-mae:99.54130\n",
      "[638]\ttrain-mae:82.52098\teval-mae:99.45310\n",
      "[639]\ttrain-mae:82.48151\teval-mae:99.42781\n",
      "[640]\ttrain-mae:82.44601\teval-mae:99.34621\n",
      "[641]\ttrain-mae:82.42362\teval-mae:99.30010\n",
      "[642]\ttrain-mae:82.37696\teval-mae:99.23918\n",
      "[643]\ttrain-mae:82.35169\teval-mae:99.18767\n",
      "[644]\ttrain-mae:82.27199\teval-mae:99.11240\n",
      "[645]\ttrain-mae:82.23686\teval-mae:99.09531\n",
      "[646]\ttrain-mae:82.21015\teval-mae:99.01899\n",
      "[647]\ttrain-mae:82.17567\teval-mae:99.00071\n",
      "[648]\ttrain-mae:82.15214\teval-mae:98.97568\n",
      "[649]\ttrain-mae:82.12753\teval-mae:98.95622\n",
      "[650]\ttrain-mae:82.08398\teval-mae:98.91811\n",
      "[651]\ttrain-mae:82.03398\teval-mae:98.86894\n",
      "[652]\ttrain-mae:82.01116\teval-mae:98.84424\n",
      "[653]\ttrain-mae:81.99518\teval-mae:98.80654\n",
      "[654]\ttrain-mae:81.95232\teval-mae:98.76847\n",
      "[655]\ttrain-mae:81.90644\teval-mae:98.72654\n",
      "[656]\ttrain-mae:81.85930\teval-mae:98.64211\n",
      "[657]\ttrain-mae:81.83969\teval-mae:98.57374\n",
      "[658]\ttrain-mae:81.81171\teval-mae:98.54702\n",
      "[659]\ttrain-mae:81.78492\teval-mae:98.49344\n",
      "[660]\ttrain-mae:81.74191\teval-mae:98.39698\n",
      "[661]\ttrain-mae:81.70933\teval-mae:98.37948\n",
      "[662]\ttrain-mae:81.66502\teval-mae:98.32926\n",
      "[663]\ttrain-mae:81.61945\teval-mae:98.20849\n",
      "[664]\ttrain-mae:81.54332\teval-mae:98.12518\n",
      "[665]\ttrain-mae:81.50879\teval-mae:98.10342\n",
      "[666]\ttrain-mae:81.49408\teval-mae:98.07286\n",
      "[667]\ttrain-mae:81.46280\teval-mae:98.05774\n",
      "[668]\ttrain-mae:81.44430\teval-mae:98.01895\n",
      "[669]\ttrain-mae:81.37152\teval-mae:97.93843\n",
      "[670]\ttrain-mae:81.32925\teval-mae:97.89870\n",
      "[671]\ttrain-mae:81.28500\teval-mae:97.82051\n",
      "[672]\ttrain-mae:81.24355\teval-mae:97.78680\n",
      "[673]\ttrain-mae:81.21305\teval-mae:97.70963\n",
      "[674]\ttrain-mae:81.18341\teval-mae:97.69334\n",
      "[675]\ttrain-mae:81.16702\teval-mae:97.65635\n",
      "[676]\ttrain-mae:81.12409\teval-mae:97.57970\n",
      "[677]\ttrain-mae:81.08570\teval-mae:97.49220\n",
      "[678]\ttrain-mae:81.06137\teval-mae:97.47353\n",
      "[679]\ttrain-mae:81.02038\teval-mae:97.42366\n",
      "[680]\ttrain-mae:80.99054\teval-mae:97.41035\n",
      "[681]\ttrain-mae:80.94995\teval-mae:97.33558\n",
      "[682]\ttrain-mae:80.90980\teval-mae:97.28656\n",
      "[683]\ttrain-mae:80.88165\teval-mae:97.27241\n",
      "[684]\ttrain-mae:80.86031\teval-mae:97.23074\n",
      "[685]\ttrain-mae:80.81759\teval-mae:97.11480\n",
      "[686]\ttrain-mae:80.79851\teval-mae:97.09872\n",
      "[687]\ttrain-mae:80.75873\teval-mae:97.02535\n",
      "[688]\ttrain-mae:80.71891\teval-mae:96.98987\n",
      "[689]\ttrain-mae:80.70408\teval-mae:96.95610\n",
      "[690]\ttrain-mae:80.68120\teval-mae:96.94284\n",
      "[691]\ttrain-mae:80.63222\teval-mae:96.85329\n",
      "[692]\ttrain-mae:80.60412\teval-mae:96.78109\n",
      "[693]\ttrain-mae:80.56582\teval-mae:96.70939\n",
      "[694]\ttrain-mae:80.52684\teval-mae:96.67780\n",
      "[695]\ttrain-mae:80.49904\teval-mae:96.66363\n",
      "[696]\ttrain-mae:80.47684\teval-mae:96.65072\n",
      "[697]\ttrain-mae:80.43597\teval-mae:96.55754\n",
      "[698]\ttrain-mae:80.39394\teval-mae:96.44371\n",
      "[699]\ttrain-mae:80.36537\teval-mae:96.43150\n",
      "[700]\ttrain-mae:80.32815\teval-mae:96.36120\n",
      "[701]\ttrain-mae:80.30177\teval-mae:96.29200\n",
      "[702]\ttrain-mae:80.26381\teval-mae:96.26353\n",
      "[703]\ttrain-mae:80.21700\teval-mae:96.17601\n",
      "[704]\ttrain-mae:80.19918\teval-mae:96.16130\n",
      "[705]\ttrain-mae:80.17935\teval-mae:96.12809\n",
      "[706]\ttrain-mae:80.15934\teval-mae:96.11319\n",
      "[707]\ttrain-mae:80.13791\teval-mae:96.10121\n",
      "[708]\ttrain-mae:80.10178\teval-mae:96.03230\n",
      "[709]\ttrain-mae:80.07432\teval-mae:96.01999\n",
      "[710]\ttrain-mae:80.04971\teval-mae:95.94926\n",
      "[711]\ttrain-mae:80.00971\teval-mae:95.83848\n",
      "[712]\ttrain-mae:79.97227\teval-mae:95.80473\n",
      "[713]\ttrain-mae:79.95417\teval-mae:95.76727\n",
      "[714]\ttrain-mae:79.93977\teval-mae:95.75563\n",
      "[715]\ttrain-mae:79.91583\teval-mae:95.68957\n",
      "[716]\ttrain-mae:79.89513\teval-mae:95.67792\n",
      "[717]\ttrain-mae:79.85030\teval-mae:95.59093\n",
      "[718]\ttrain-mae:79.83605\teval-mae:95.57896\n",
      "[719]\ttrain-mae:79.81424\teval-mae:95.54083\n",
      "[720]\ttrain-mae:79.78173\teval-mae:95.50007\n",
      "[721]\ttrain-mae:79.76206\teval-mae:95.47318\n",
      "[722]\ttrain-mae:79.74462\teval-mae:95.43694\n",
      "[723]\ttrain-mae:79.71017\teval-mae:95.40464\n",
      "[724]\ttrain-mae:79.67205\teval-mae:95.37816\n",
      "[725]\ttrain-mae:79.65575\teval-mae:95.36465\n",
      "[726]\ttrain-mae:79.63684\teval-mae:95.33797\n",
      "[727]\ttrain-mae:79.61886\teval-mae:95.32505\n",
      "[728]\ttrain-mae:79.59770\teval-mae:95.28801\n",
      "[729]\ttrain-mae:79.51212\teval-mae:95.20306\n",
      "[730]\ttrain-mae:79.46442\teval-mae:95.16677\n",
      "[731]\ttrain-mae:79.42639\teval-mae:95.06065\n",
      "[732]\ttrain-mae:79.34273\teval-mae:94.97754\n",
      "[733]\ttrain-mae:79.30549\teval-mae:94.87289\n",
      "[734]\ttrain-mae:79.27931\teval-mae:94.85935\n",
      "[735]\ttrain-mae:79.26065\teval-mae:94.82795\n",
      "[736]\ttrain-mae:79.17891\teval-mae:94.74627\n",
      "[737]\ttrain-mae:79.15995\teval-mae:94.73601\n",
      "[738]\ttrain-mae:79.12373\teval-mae:94.63308\n",
      "[739]\ttrain-mae:79.09766\teval-mae:94.62034\n",
      "[740]\ttrain-mae:79.07783\teval-mae:94.59161\n",
      "[741]\ttrain-mae:79.05530\teval-mae:94.56704\n",
      "[742]\ttrain-mae:79.04281\teval-mae:94.55617\n",
      "[743]\ttrain-mae:79.02552\teval-mae:94.52616\n",
      "[744]\ttrain-mae:78.99863\teval-mae:94.48103\n",
      "[745]\ttrain-mae:78.92952\teval-mae:94.40679\n",
      "[746]\ttrain-mae:78.88056\teval-mae:94.35454\n",
      "[747]\ttrain-mae:78.86129\teval-mae:94.32670\n",
      "[748]\ttrain-mae:78.84217\teval-mae:94.29212\n",
      "[749]\ttrain-mae:78.75094\teval-mae:94.20749\n",
      "[750]\ttrain-mae:78.73674\teval-mae:94.19749\n",
      "[751]\ttrain-mae:78.68874\teval-mae:94.14607\n",
      "[752]\ttrain-mae:78.67067\teval-mae:94.13645\n",
      "[753]\ttrain-mae:78.65621\teval-mae:94.12596\n",
      "[754]\ttrain-mae:78.63794\teval-mae:94.09450\n",
      "[755]\ttrain-mae:78.62068\teval-mae:94.06547\n",
      "[756]\ttrain-mae:78.58349\teval-mae:94.02518\n",
      "[757]\ttrain-mae:78.54879\teval-mae:93.92547\n",
      "[758]\ttrain-mae:78.46120\teval-mae:93.84826\n",
      "[759]\ttrain-mae:78.42695\teval-mae:93.75049\n",
      "[760]\ttrain-mae:78.40217\teval-mae:93.73722\n",
      "[761]\ttrain-mae:78.31509\teval-mae:93.65624\n",
      "[762]\ttrain-mae:78.29646\teval-mae:93.62955\n",
      "[763]\ttrain-mae:78.28355\teval-mae:93.62046\n",
      "[764]\ttrain-mae:78.25886\teval-mae:93.57585\n",
      "[765]\ttrain-mae:78.24275\teval-mae:93.54540\n",
      "[766]\ttrain-mae:78.19677\teval-mae:93.49608\n",
      "[767]\ttrain-mae:78.11288\teval-mae:93.42177\n",
      "[768]\ttrain-mae:78.08263\teval-mae:93.39345\n",
      "[769]\ttrain-mae:78.07149\teval-mae:93.38362\n",
      "[770]\ttrain-mae:78.05329\teval-mae:93.35800\n",
      "[771]\ttrain-mae:78.02942\teval-mae:93.31421\n",
      "[772]\ttrain-mae:77.99142\teval-mae:93.26813\n",
      "[773]\ttrain-mae:77.97452\teval-mae:93.23956\n",
      "[774]\ttrain-mae:77.94586\teval-mae:93.21625\n",
      "[775]\ttrain-mae:77.93309\teval-mae:93.20720\n",
      "[776]\ttrain-mae:77.91312\teval-mae:93.18503\n",
      "[777]\ttrain-mae:77.88682\teval-mae:93.16237\n",
      "[778]\ttrain-mae:77.87031\teval-mae:93.15394\n",
      "[779]\ttrain-mae:77.84083\teval-mae:93.12847\n",
      "[780]\ttrain-mae:77.82852\teval-mae:93.10727\n",
      "[781]\ttrain-mae:77.81211\teval-mae:93.07935\n",
      "[782]\ttrain-mae:77.78937\teval-mae:93.03654\n",
      "[783]\ttrain-mae:77.75346\teval-mae:93.00231\n",
      "[784]\ttrain-mae:77.72396\teval-mae:92.94838\n",
      "[785]\ttrain-mae:77.65145\teval-mae:92.85691\n",
      "[786]\ttrain-mae:77.62359\teval-mae:92.83487\n",
      "[787]\ttrain-mae:77.60915\teval-mae:92.79809\n",
      "[788]\ttrain-mae:77.59203\teval-mae:92.76864\n",
      "[789]\ttrain-mae:77.56082\teval-mae:92.73860\n",
      "[790]\ttrain-mae:77.55150\teval-mae:92.72994\n",
      "[791]\ttrain-mae:77.47973\teval-mae:92.63072\n",
      "[792]\ttrain-mae:77.45718\teval-mae:92.61824\n",
      "[793]\ttrain-mae:77.43013\teval-mae:92.59665\n",
      "[794]\ttrain-mae:77.41934\teval-mae:92.58975\n",
      "[795]\ttrain-mae:77.39080\teval-mae:92.53809\n",
      "[796]\ttrain-mae:77.32018\teval-mae:92.44579\n",
      "[797]\ttrain-mae:77.28499\teval-mae:92.40242\n",
      "[798]\ttrain-mae:77.25797\teval-mae:92.37656\n",
      "[799]\ttrain-mae:77.24416\teval-mae:92.34079\n",
      "[800]\ttrain-mae:77.17633\teval-mae:92.25438\n",
      "[801]\ttrain-mae:77.16569\teval-mae:92.24663\n",
      "[802]\ttrain-mae:77.14380\teval-mae:92.23542\n",
      "[803]\ttrain-mae:77.12294\teval-mae:92.19652\n",
      "[804]\ttrain-mae:77.10927\teval-mae:92.15494\n",
      "[805]\ttrain-mae:77.08007\teval-mae:92.12880\n",
      "[806]\ttrain-mae:77.06532\teval-mae:92.12138\n",
      "[807]\ttrain-mae:77.05378\teval-mae:92.11519\n",
      "[808]\ttrain-mae:77.02304\teval-mae:92.08342\n",
      "[809]\ttrain-mae:77.01428\teval-mae:92.07509\n",
      "[810]\ttrain-mae:76.99987\teval-mae:92.04949\n",
      "[811]\ttrain-mae:76.93253\teval-mae:91.95343\n",
      "[812]\ttrain-mae:76.90647\teval-mae:91.93042\n",
      "[813]\ttrain-mae:76.89310\teval-mae:91.88892\n",
      "[814]\ttrain-mae:76.82832\teval-mae:91.80621\n",
      "[815]\ttrain-mae:76.81933\teval-mae:91.79773\n",
      "[816]\ttrain-mae:76.79519\teval-mae:91.78041\n",
      "[817]\ttrain-mae:76.77809\teval-mae:91.76109\n",
      "[818]\ttrain-mae:76.75130\teval-mae:91.74062\n",
      "[819]\ttrain-mae:76.68645\teval-mae:91.65028\n",
      "[820]\ttrain-mae:76.67577\teval-mae:91.64152\n",
      "[821]\ttrain-mae:76.66095\teval-mae:91.63420\n",
      "[822]\ttrain-mae:76.62906\teval-mae:91.60727\n",
      "[823]\ttrain-mae:76.61617\teval-mae:91.57700\n",
      "[824]\ttrain-mae:76.59653\teval-mae:91.53934\n",
      "[825]\ttrain-mae:76.56908\teval-mae:91.51361\n",
      "[826]\ttrain-mae:76.56029\teval-mae:91.50832\n",
      "[827]\ttrain-mae:76.53053\teval-mae:91.47676\n",
      "[828]\ttrain-mae:76.51254\teval-mae:91.46436\n",
      "[829]\ttrain-mae:76.48680\teval-mae:91.41637\n",
      "[830]\ttrain-mae:76.47341\teval-mae:91.39286\n",
      "[831]\ttrain-mae:76.44211\teval-mae:91.35638\n",
      "[832]\ttrain-mae:76.42437\teval-mae:91.34482\n",
      "[833]\ttrain-mae:76.39353\teval-mae:91.31909\n",
      "[834]\ttrain-mae:76.38025\teval-mae:91.29504\n",
      "[835]\ttrain-mae:76.35596\teval-mae:91.27374\n",
      "[836]\ttrain-mae:76.29408\teval-mae:91.18409\n",
      "[837]\ttrain-mae:76.28216\teval-mae:91.15122\n",
      "[838]\ttrain-mae:76.25527\teval-mae:91.11408\n",
      "[839]\ttrain-mae:76.24054\teval-mae:91.10471\n",
      "[840]\ttrain-mae:76.21622\teval-mae:91.05891\n",
      "[841]\ttrain-mae:76.15693\teval-mae:90.98221\n",
      "[842]\ttrain-mae:76.13694\teval-mae:90.96933\n",
      "[843]\ttrain-mae:76.12069\teval-mae:90.95812\n",
      "[844]\ttrain-mae:76.10549\teval-mae:90.93540\n",
      "[845]\ttrain-mae:76.09379\teval-mae:90.89701\n",
      "[846]\ttrain-mae:76.08612\teval-mae:90.88894\n",
      "[847]\ttrain-mae:76.06034\teval-mae:90.86483\n",
      "[848]\ttrain-mae:76.04278\teval-mae:90.85372\n",
      "[849]\ttrain-mae:76.02714\teval-mae:90.83607\n",
      "[850]\ttrain-mae:76.00772\teval-mae:90.82686\n",
      "[851]\ttrain-mae:75.99362\teval-mae:90.81814\n",
      "[852]\ttrain-mae:75.98144\teval-mae:90.79790\n",
      "[853]\ttrain-mae:75.95442\teval-mae:90.71313\n",
      "[854]\ttrain-mae:75.92570\teval-mae:90.68936\n",
      "[855]\ttrain-mae:75.91334\teval-mae:90.66799\n",
      "[856]\ttrain-mae:75.88401\teval-mae:90.63213\n",
      "[857]\ttrain-mae:75.87020\teval-mae:90.62350\n",
      "[858]\ttrain-mae:75.84202\teval-mae:90.60025\n",
      "[859]\ttrain-mae:75.82451\teval-mae:90.56787\n",
      "[860]\ttrain-mae:75.81366\teval-mae:90.53220\n",
      "[861]\ttrain-mae:75.80057\teval-mae:90.52384\n",
      "[862]\ttrain-mae:75.79313\teval-mae:90.51436\n",
      "[863]\ttrain-mae:75.77027\teval-mae:90.49440\n",
      "[864]\ttrain-mae:75.75833\teval-mae:90.47325\n",
      "[865]\ttrain-mae:75.73827\teval-mae:90.37817\n",
      "[866]\ttrain-mae:75.72635\teval-mae:90.37085\n",
      "[867]\ttrain-mae:75.70661\teval-mae:90.35515\n",
      "[868]\ttrain-mae:75.69131\teval-mae:90.32991\n",
      "[869]\ttrain-mae:75.66889\teval-mae:90.28788\n",
      "[870]\ttrain-mae:75.60926\teval-mae:90.22852\n",
      "[871]\ttrain-mae:75.59759\teval-mae:90.22112\n",
      "[872]\ttrain-mae:75.57250\teval-mae:90.18709\n",
      "[873]\ttrain-mae:75.54570\teval-mae:90.16498\n",
      "[874]\ttrain-mae:75.53466\teval-mae:90.13532\n",
      "[875]\ttrain-mae:75.52377\teval-mae:90.12816\n",
      "[876]\ttrain-mae:75.49656\teval-mae:90.09468\n",
      "[877]\ttrain-mae:75.48963\teval-mae:90.08726\n",
      "[878]\ttrain-mae:75.46902\teval-mae:90.06789\n",
      "[879]\ttrain-mae:75.45753\teval-mae:90.04896\n",
      "[880]\ttrain-mae:75.43131\teval-mae:90.02717\n",
      "[881]\ttrain-mae:75.42124\teval-mae:89.99350\n",
      "[882]\ttrain-mae:75.39287\teval-mae:89.94646\n",
      "[883]\ttrain-mae:75.37147\teval-mae:89.92907\n",
      "[884]\ttrain-mae:75.36028\teval-mae:89.92204\n",
      "[885]\ttrain-mae:75.34489\teval-mae:89.90004\n",
      "[886]\ttrain-mae:75.32775\teval-mae:89.86627\n",
      "[887]\ttrain-mae:75.31596\teval-mae:89.85821\n",
      "[888]\ttrain-mae:75.30361\teval-mae:89.84328\n",
      "[889]\ttrain-mae:75.28245\teval-mae:89.80368\n",
      "[890]\ttrain-mae:75.25766\teval-mae:89.77806\n",
      "[891]\ttrain-mae:75.20377\teval-mae:89.70777\n",
      "[892]\ttrain-mae:75.19030\teval-mae:89.69702\n",
      "[893]\ttrain-mae:75.17315\teval-mae:89.66157\n",
      "[894]\ttrain-mae:75.14690\teval-mae:89.63685\n",
      "[895]\ttrain-mae:75.09058\teval-mae:89.58042\n",
      "[896]\ttrain-mae:75.08120\teval-mae:89.57265\n",
      "[897]\ttrain-mae:75.06280\teval-mae:89.56275\n",
      "[898]\ttrain-mae:75.05645\teval-mae:89.55442\n",
      "[899]\ttrain-mae:75.02895\teval-mae:89.50827\n",
      "[900]\ttrain-mae:75.00426\teval-mae:89.48737\n",
      "[901]\ttrain-mae:74.98227\teval-mae:89.44348\n",
      "[902]\ttrain-mae:74.93109\teval-mae:89.37640\n",
      "[903]\ttrain-mae:74.90832\teval-mae:89.34476\n",
      "[904]\ttrain-mae:74.89794\teval-mae:89.33797\n",
      "[905]\ttrain-mae:74.88709\teval-mae:89.32532\n",
      "[906]\ttrain-mae:74.87088\teval-mae:89.29627\n",
      "[907]\ttrain-mae:74.83968\teval-mae:89.25045\n",
      "[908]\ttrain-mae:74.78589\teval-mae:89.19645\n",
      "[909]\ttrain-mae:74.76227\teval-mae:89.17687\n",
      "[910]\ttrain-mae:74.75148\teval-mae:89.16949\n",
      "[911]\ttrain-mae:74.74096\teval-mae:89.15190\n",
      "[912]\ttrain-mae:74.72212\teval-mae:89.13966\n",
      "[913]\ttrain-mae:74.70453\teval-mae:89.12265\n",
      "[914]\ttrain-mae:74.69792\teval-mae:89.11414\n",
      "[915]\ttrain-mae:74.67530\teval-mae:89.09479\n",
      "[916]\ttrain-mae:74.66407\teval-mae:89.08769\n",
      "[917]\ttrain-mae:74.64848\teval-mae:89.05308\n",
      "[918]\ttrain-mae:74.63129\teval-mae:89.03632\n",
      "[919]\ttrain-mae:74.60829\teval-mae:88.96076\n",
      "[920]\ttrain-mae:74.59584\teval-mae:88.95076\n",
      "[921]\ttrain-mae:74.58533\teval-mae:88.94355\n",
      "[922]\ttrain-mae:74.57384\teval-mae:88.92995\n",
      "[923]\ttrain-mae:74.55515\teval-mae:88.90384\n",
      "[924]\ttrain-mae:74.54492\teval-mae:88.88651\n",
      "[925]\ttrain-mae:74.51982\teval-mae:88.85731\n",
      "[926]\ttrain-mae:74.49792\teval-mae:88.78293\n",
      "[927]\ttrain-mae:74.48828\teval-mae:88.77670\n",
      "[928]\ttrain-mae:74.47321\teval-mae:88.74366\n",
      "[929]\ttrain-mae:74.45608\teval-mae:88.72993\n",
      "[930]\ttrain-mae:74.43366\teval-mae:88.66657\n",
      "[931]\ttrain-mae:74.42507\teval-mae:88.64668\n",
      "[932]\ttrain-mae:74.40728\teval-mae:88.63524\n",
      "[933]\ttrain-mae:74.37855\teval-mae:88.61025\n",
      "[934]\ttrain-mae:74.36802\teval-mae:88.60291\n",
      "[935]\ttrain-mae:74.35366\teval-mae:88.58291\n",
      "[936]\ttrain-mae:74.33985\teval-mae:88.56573\n",
      "[937]\ttrain-mae:74.33110\teval-mae:88.55697\n",
      "[938]\ttrain-mae:74.31262\teval-mae:88.53851\n",
      "[939]\ttrain-mae:74.29824\teval-mae:88.51147\n",
      "[940]\ttrain-mae:74.27737\teval-mae:88.48025\n",
      "[941]\ttrain-mae:74.26475\teval-mae:88.46284\n",
      "[942]\ttrain-mae:74.25667\teval-mae:88.44225\n",
      "[943]\ttrain-mae:74.24484\teval-mae:88.43402\n",
      "[944]\ttrain-mae:74.23524\teval-mae:88.41759\n",
      "[945]\ttrain-mae:74.20905\teval-mae:88.37342\n",
      "[946]\ttrain-mae:74.19744\teval-mae:88.35832\n",
      "[947]\ttrain-mae:74.17494\teval-mae:88.32608\n",
      "[948]\ttrain-mae:74.16565\teval-mae:88.31914\n",
      "[949]\ttrain-mae:74.14834\teval-mae:88.29468\n",
      "[950]\ttrain-mae:74.11532\teval-mae:88.24974\n",
      "[951]\ttrain-mae:74.10288\teval-mae:88.23050\n",
      "[952]\ttrain-mae:74.07521\teval-mae:88.20610\n",
      "[953]\ttrain-mae:74.06030\teval-mae:88.17759\n",
      "[954]\ttrain-mae:74.05386\teval-mae:88.15747\n",
      "[955]\ttrain-mae:74.04001\teval-mae:88.13172\n",
      "[956]\ttrain-mae:74.02443\teval-mae:88.11619\n",
      "[957]\ttrain-mae:74.01665\teval-mae:88.10207\n",
      "[958]\ttrain-mae:74.00869\teval-mae:88.08467\n",
      "[959]\ttrain-mae:73.99597\teval-mae:88.06632\n",
      "[960]\ttrain-mae:73.97931\teval-mae:88.04282\n",
      "[961]\ttrain-mae:73.96316\teval-mae:88.02522\n",
      "[962]\ttrain-mae:73.94228\teval-mae:87.95755\n",
      "[963]\ttrain-mae:73.93397\teval-mae:87.94950\n",
      "[964]\ttrain-mae:73.92646\teval-mae:87.93210\n",
      "[965]\ttrain-mae:73.90138\teval-mae:87.91028\n",
      "[966]\ttrain-mae:73.88786\teval-mae:87.89129\n",
      "[967]\ttrain-mae:73.87549\teval-mae:87.87544\n",
      "[968]\ttrain-mae:73.86632\teval-mae:87.86780\n",
      "[969]\ttrain-mae:73.84948\teval-mae:87.86012\n",
      "[970]\ttrain-mae:73.82204\teval-mae:87.83351\n",
      "[971]\ttrain-mae:73.80908\teval-mae:87.80877\n",
      "[972]\ttrain-mae:73.79005\teval-mae:87.78066\n",
      "[973]\ttrain-mae:73.78253\teval-mae:87.76250\n",
      "[974]\ttrain-mae:73.77252\teval-mae:87.75389\n",
      "[975]\ttrain-mae:73.74110\teval-mae:87.71047\n",
      "[976]\ttrain-mae:73.71524\teval-mae:87.66890\n",
      "[977]\ttrain-mae:73.67068\teval-mae:87.60645\n",
      "[978]\ttrain-mae:73.65907\teval-mae:87.58844\n",
      "[979]\ttrain-mae:73.64970\teval-mae:87.58273\n",
      "[980]\ttrain-mae:73.63221\teval-mae:87.57095\n",
      "[981]\ttrain-mae:73.62079\teval-mae:87.55298\n",
      "[982]\ttrain-mae:73.60917\teval-mae:87.53665\n",
      "[983]\ttrain-mae:73.59979\teval-mae:87.53153\n",
      "[984]\ttrain-mae:73.59087\teval-mae:87.51660\n",
      "[985]\ttrain-mae:73.57520\teval-mae:87.50198\n",
      "[986]\ttrain-mae:73.56169\teval-mae:87.47293\n",
      "[987]\ttrain-mae:73.53143\teval-mae:87.42932\n",
      "[988]\ttrain-mae:73.48063\teval-mae:87.38351\n",
      "[989]\ttrain-mae:73.46155\teval-mae:87.31821\n",
      "[990]\ttrain-mae:73.45400\teval-mae:87.30189\n",
      "[991]\ttrain-mae:73.42999\teval-mae:87.28107\n",
      "[992]\ttrain-mae:73.41776\teval-mae:87.26451\n",
      "[993]\ttrain-mae:73.40143\teval-mae:87.22802\n",
      "[994]\ttrain-mae:73.37454\teval-mae:87.18212\n",
      "[995]\ttrain-mae:73.36486\teval-mae:87.16807\n",
      "[996]\ttrain-mae:73.35805\teval-mae:87.15287\n",
      "[997]\ttrain-mae:73.34875\teval-mae:87.14523\n",
      "[998]\ttrain-mae:73.33160\teval-mae:87.13328\n",
      "[999]\ttrain-mae:73.32349\teval-mae:87.12749\n"
     ]
    }
   ],
   "source": [
    "# train the model\n",
    "bst = xgb.train(\n",
    "    params,\n",
    "    dtrain,\n",
    "    num_boost_round=1000,\n",
    "    evals=[(dtrain, 'train'), (dval, 'eval')],\n",
    "    # add validation set in evals if available\n",
    "    early_stopping_rounds=50,\n",
    "    callbacks=[WandbCallback()]\n",
    ")"
   ],
   "metadata": {
    "collapsed": false,
    "ExecuteTime": {
     "end_time": "2024-04-05T10:24:28.805037Z",
     "start_time": "2024-04-05T10:23:49.154062Z"
    }
   },
   "id": "73cc599c58a25ad5",
   "execution_count": 31
  },
  {
   "cell_type": "code",
   "outputs": [],
   "source": [
    "# evaluate the model\n",
    "yhat = bst.predict(dtest)\n",
    "error = mean_absolute_error(testy, yhat)"
   ],
   "metadata": {
    "collapsed": false,
    "ExecuteTime": {
     "end_time": "2024-04-05T10:24:28.819683Z",
     "start_time": "2024-04-05T10:24:28.805745Z"
    }
   },
   "id": "26add5041c6bb9b7",
   "execution_count": 32
  },
  {
   "cell_type": "code",
   "outputs": [],
   "source": [
    "# assuming yhat is the prediction array and testy is the actual target\n",
    "# values from the test set\n",
    "actual = testy\n",
    "predicted = yhat"
   ],
   "metadata": {
    "collapsed": false,
    "ExecuteTime": {
     "end_time": "2024-04-05T10:24:28.821852Z",
     "start_time": "2024-04-05T10:24:28.820342Z"
    }
   },
   "id": "a69143576488a944",
   "execution_count": 33
  },
  {
   "cell_type": "code",
   "outputs": [],
   "source": [
    "# generate a time index for plotting.\n",
    "# since we have 30-minute intervals, this can be represented similarly\n",
    "# assuming the test set starts immediately after your training and\n",
    "# val sets, we can calculate the start date as follows\n",
    "# this requires your original DataFrame (df) to have a datetime index\n",
    "test_start_date = df.index[-len(testy)]  # get the start date for test set"
   ],
   "metadata": {
    "collapsed": false,
    "ExecuteTime": {
     "end_time": "2024-04-05T10:24:28.830694Z",
     "start_time": "2024-04-05T10:24:28.822308Z"
    }
   },
   "id": "f85fa300f8bef904",
   "execution_count": 34
  },
  {
   "cell_type": "code",
   "outputs": [],
   "source": [
    "# generate a date range for the test set\n",
    "test_dates = pd.date_range(\n",
    "    start=test_start_date,\n",
    "    periods=len(testy),\n",
    "    freq='30min'\n",
    ")"
   ],
   "metadata": {
    "collapsed": false,
    "ExecuteTime": {
     "end_time": "2024-04-05T10:24:28.841046Z",
     "start_time": "2024-04-05T10:24:28.832504Z"
    }
   },
   "id": "98eeeaa679d3a68",
   "execution_count": 35
  },
  {
   "cell_type": "code",
   "outputs": [
    {
     "data": {
      "text/plain": "<Figure size 1500x700 with 1 Axes>",
      "image/png": "[encoded data removed]"
     },
     "metadata": {},
     "output_type": "display_data"
    }
   ],
   "source": [
    "# Plotting\n",
    "plt.figure(figsize=(15, 7))\n",
    "plt.plot(test_dates, actual, label='Actual', marker='.', linestyle='-',\n",
    "             linewidth=1.0)\n",
    "plt.plot(test_dates, predicted, label='Predicted', marker='.',\n",
    "             linestyle='--', linewidth=1.0)\n",
    "plt.title('Test Set: Actual vs Predicted Demand')\n",
    "plt.xlabel('Date Time')\n",
    "plt.ylabel('Total Demand')\n",
    "plt.legend()\n",
    "plt.tight_layout()"
   ],
   "metadata": {
    "collapsed": false,
    "ExecuteTime": {
     "end_time": "2024-04-05T10:24:29.121820Z",
     "start_time": "2024-04-05T10:24:28.841591Z"
    }
   },
   "id": "31ebd25235cb612d",
   "execution_count": 36
  },
  {
   "cell_type": "code",
   "outputs": [],
   "source": [
    "# can focus on a smaller time frame for a more detailed view\n",
    "# plt.xlim([pd.Timestamp('2010-08-05'), pd.Timestamp('2010-08-12')])"
   ],
   "metadata": {
    "collapsed": false,
    "ExecuteTime": {
     "end_time": "2024-04-05T10:24:29.123998Z",
     "start_time": "2024-04-05T10:24:29.122517Z"
    }
   },
   "id": "4e75a7ccae0752",
   "execution_count": 37
  },
  {
   "cell_type": "code",
   "outputs": [],
   "source": [
    "plt.show()"
   ],
   "metadata": {
    "collapsed": false,
    "ExecuteTime": {
     "end_time": "2024-04-05T10:24:29.205351Z",
     "start_time": "2024-04-05T10:24:29.124597Z"
    }
   },
   "id": "a80ea41bcd8bdeff",
   "execution_count": 38
  },
  {
   "cell_type": "code",
   "outputs": [],
   "source": [
    "# close the plot to free up memory\n",
    "plt.close()"
   ],
   "metadata": {
    "collapsed": false,
    "ExecuteTime": {
     "end_time": "2024-04-05T10:24:29.215104Z",
     "start_time": "2024-04-05T10:24:29.206028Z"
    }
   },
   "id": "7c0f090c6d83720a",
   "execution_count": 39
  },
  {
   "cell_type": "code",
   "outputs": [],
   "source": [
    "# log the test MAE\n",
    "# wandb.log({\"Test MAE\": error})"
   ],
   "metadata": {
    "collapsed": false,
    "ExecuteTime": {
     "end_time": "2024-04-05T10:24:29.229263Z",
     "start_time": "2024-04-05T10:24:29.215640Z"
    }
   },
   "id": "fa7fbb578a992326",
   "execution_count": 40
  },
  {
   "cell_type": "code",
   "outputs": [],
   "source": [
    "# finish the W&B run\n",
    "# wandb.finish()"
   ],
   "metadata": {
    "collapsed": false,
    "ExecuteTime": {
     "end_time": "2024-04-05T10:24:29.239026Z",
     "start_time": "2024-04-05T10:24:29.229807Z"
    }
   },
   "id": "10da23e5074b8600",
   "execution_count": 41
  }
 ],
 "metadata": {
  "kernelspec": {
   "display_name": "Python 3",
   "language": "python",
   "name": "python3"
  },
  "language_info": {
   "codemirror_mode": {
    "name": "ipython",
    "version": 2
   },
   "file_extension": ".py",
   "mimetype": "text/x-python",
   "name": "python",
   "nbconvert_exporter": "python",
   "pygments_lexer": "ipython2",
   "version": "2.7.6"
  }
 },
 "nbformat": 4,
 "nbformat_minor": 5
}
