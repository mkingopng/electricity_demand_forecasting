{
 "cells": [
  {
   "cell_type": "code",
   "execution_count": 1,
   "id": "initial_id",
   "metadata": {
    "collapsed": true,
    "ExecuteTime": {
     "end_time": "2024-03-28T10:42:17.867296Z",
     "start_time": "2024-03-28T10:42:17.198717Z"
    }
   },
   "source": [
    "import pandas as pd\n",
    "import os\n",
    "import matplotlib.pyplot as plt\n",
    "import statsmodels.api as sm"
   ],
   "outputs": []
  },
  {
   "cell_type": "code",
   "source": [
    "# general settings\n",
    "class CFG:\n",
    "    \"\"\"\n",
    "    Configuration class\n",
    "    \"\"\"\n",
    "    data_path = './../data'\n",
    "    img_dim1 = 20\n",
    "    img_dim2 = 10\n",
    "    \n",
    "    \n",
    "plt.style.use('fivethirtyeight')   \n",
    "plt.rcParams.update({'figure.figsize': (CFG.img_dim1, CFG.img_dim2)}) "
   ],
   "metadata": {
    "collapsed": false,
    "ExecuteTime": {
     "end_time": "2024-03-28T10:42:17.869994Z",
     "start_time": "2024-03-28T10:42:17.867910Z"
    }
   },
   "id": "2ef4fd18b059e1c1",
   "execution_count": 2,
   "outputs": []
  },
  {
   "cell_type": "code",
   "source": [
    "nsw_totaldemand = pd.read_csv(\n",
    "    os.path.join(CFG.data_path, 'NSW', 'totaldemand_nsw.csv'), \n",
    "    parse_dates=['DATETIME'], \n",
    "    dayfirst=True\n",
    ")"
   ],
   "metadata": {
    "collapsed": false,
    "ExecuteTime": {
     "end_time": "2024-03-28T10:42:18.245569Z",
     "start_time": "2024-03-28T10:42:17.870641Z"
    }
   },
   "id": "ebe5d743c28557b1",
   "execution_count": 3,
   "outputs": []
  },
  {
   "cell_type": "markdown",
   "source": [
    "set datetime as index"
   ],
   "metadata": {
    "collapsed": false
   },
   "id": "dc79b0d11c78231a"
  },
  {
   "cell_type": "code",
   "source": [
    "nsw_totaldemand.set_index('DATETIME', inplace=True)"
   ],
   "metadata": {
    "collapsed": false,
    "ExecuteTime": {
     "end_time": "2024-03-28T10:42:18.248385Z",
     "start_time": "2024-03-28T10:42:18.246240Z"
    }
   },
   "id": "afb6e7b315e1d02c",
   "execution_count": 4,
   "outputs": []
  },
  {
   "cell_type": "markdown",
   "source": [
    "deal with na values as this method doesn't like na"
   ],
   "metadata": {
    "collapsed": false
   },
   "id": "9a22720a6c3f8e39"
  },
  {
   "cell_type": "code",
   "source": [
    "nsw_totaldemand = nsw_totaldemand['TOTALDEMAND'].dropna(axis=0, inplace=False)"
   ],
   "metadata": {
    "collapsed": false,
    "ExecuteTime": {
     "end_time": "2024-03-28T10:42:18.253110Z",
     "start_time": "2024-03-28T10:42:18.248911Z"
    }
   },
   "id": "aa6860fbdb00463e",
   "execution_count": 5,
   "outputs": []
  },
  {
   "cell_type": "code",
   "source": [
    "if not pd.infer_freq(nsw_totaldemand.index):\n",
    "    new_index = pd.date_range(start=nsw_totaldemand.index.min(), end=nsw_totaldemand.index.max(), freq='30min')\n",
    "    nsw_totaldemand = nsw_totaldemand.reindex(new_index, method='nearest')"
   ],
   "metadata": {
    "collapsed": false,
    "ExecuteTime": {
     "end_time": "2024-03-28T10:42:18.256818Z",
     "start_time": "2024-03-28T10:42:18.253580Z"
    }
   },
   "id": "2be452799644cde2",
   "execution_count": 6,
   "outputs": []
  },
  {
   "cell_type": "markdown",
   "source": [
    "## Decomposition\n",
    "- 48 indicates that we expect a daily pattern, and we have 30 min sample intervals\n",
    "- i expect to change this"
   ],
   "metadata": {
    "collapsed": false
   },
   "id": "a460bb7028915cce"
  },
  {
   "cell_type": "code",
   "source": [
    "decomposition = sm.tsa.seasonal_decompose(\n",
    "    nsw_totaldemand, \n",
    "    model='additive', \n",
    "    period=48\n",
    ")"
   ],
   "metadata": {
    "collapsed": false,
    "ExecuteTime": {
     "end_time": "2024-03-28T10:42:18.263805Z",
     "start_time": "2024-03-28T10:42:18.257304Z"
    }
   },
   "id": "bbcbddf7e74dfd9",
   "execution_count": 7,
   "outputs": []
  },
  {
   "cell_type": "code",
   "source": [
    "fig = decomposition.plot()\n",
    "fig.set_size_inches(CFG.img_dim1, CFG.img_dim2)\n",
    "plt.show()"
   ],
   "metadata": {
    "collapsed": false,
    "ExecuteTime": {
     "end_time": "2024-03-28T10:42:19.490251Z",
     "start_time": "2024-03-28T10:42:18.264367Z"
    }
   },
   "id": "2b8dea30dfe224df",
   "execution_count": 8,
   "outputs": []
  },
  {
   "cell_type": "markdown",
   "source": [
    "## Dependence"
   ],
   "metadata": {
    "collapsed": false
   },
   "id": "67536a66ed3819ca"
  },
  {
   "cell_type": "code",
   "source": [],
   "metadata": {
    "collapsed": false,
    "ExecuteTime": {
     "end_time": "2024-03-28T10:42:19.492201Z",
     "start_time": "2024-03-28T10:42:19.490872Z"
    }
   },
   "id": "6488a34c8c1d3a8a",
   "execution_count": 8,
   "outputs": []
  },
  {
   "cell_type": "markdown",
   "source": [
    "## stationarity"
   ],
   "metadata": {
    "collapsed": false
   },
   "id": "86dbcee390117fd7"
  },
  {
   "cell_type": "code",
   "source": [],
   "metadata": {
    "collapsed": false,
    "ExecuteTime": {
     "end_time": "2024-03-28T10:42:19.494343Z",
     "start_time": "2024-03-28T10:42:19.493173Z"
    }
   },
   "id": "f3ab3ceb8213c802",
   "execution_count": 8,
   "outputs": []
  },
  {
   "cell_type": "markdown",
   "source": [
    "## ACF / PACF"
   ],
   "metadata": {
    "collapsed": false
   },
   "id": "bfe4b27d741ee315"
  },
  {
   "cell_type": "code",
   "source": [],
   "metadata": {
    "collapsed": false,
    "ExecuteTime": {
     "end_time": "2024-03-28T10:42:19.495976Z",
     "start_time": "2024-03-28T10:42:19.494847Z"
    }
   },
   "id": "12e1947596c4ee88",
   "execution_count": 8,
   "outputs": []
  },
  {
   "cell_type": "markdown",
   "source": [
    "## AD Fuller"
   ],
   "metadata": {
    "collapsed": false
   },
   "id": "e399fe44989faae6"
  },
  {
   "cell_type": "code",
   "source": [],
   "metadata": {
    "collapsed": false,
    "ExecuteTime": {
     "end_time": "2024-03-28T10:42:19.497574Z",
     "start_time": "2024-03-28T10:42:19.496425Z"
    }
   },
   "id": "89dd17ff3772ff38",
   "execution_count": 8,
   "outputs": []
  },
  {
   "cell_type": "markdown",
   "source": [
    "## log transformation"
   ],
   "metadata": {
    "collapsed": false
   },
   "id": "f5f808bd52e6198f"
  },
  {
   "cell_type": "code",
   "source": [],
   "metadata": {
    "collapsed": false,
    "ExecuteTime": {
     "end_time": "2024-03-28T10:42:19.499146Z",
     "start_time": "2024-03-28T10:42:19.498007Z"
    }
   },
   "id": "4a1a91cc6796e028",
   "execution_count": 8,
   "outputs": []
  },
  {
   "cell_type": "markdown",
   "source": [
    "## "
   ],
   "metadata": {
    "collapsed": false
   },
   "id": "bce3363a35770ed4"
  }
 ],
 "metadata": {
  "kernelspec": {
   "display_name": "Python 3",
   "language": "python",
   "name": "python3"
  },
  "language_info": {
   "codemirror_mode": {
    "name": "ipython",
    "version": 2
   },
   "file_extension": ".py",
   "mimetype": "text/x-python",
   "name": "python",
   "nbconvert_exporter": "python",
   "pygments_lexer": "ipython2",
   "version": "2.7.6"
  }
 },
 "nbformat": 4,
 "nbformat_minor": 5
}
