{
 "cells": [
  {
   "cell_type": "code",
   "execution_count": 1,
   "id": "initial_id",
   "metadata": {
    "collapsed": true,
    "ExecuteTime": {
     "end_time": "2024-03-21T13:38:44.792548Z",
     "start_time": "2024-03-21T13:38:44.395840Z"
    }
   },
   "outputs": [],
   "source": [
    "import pandas as pd\n",
    "import os"
   ]
  },
  {
   "cell_type": "code",
   "outputs": [],
   "source": [
    "data_path = './../data'"
   ],
   "metadata": {
    "collapsed": false,
    "ExecuteTime": {
     "end_time": "2024-03-21T13:38:44.795025Z",
     "start_time": "2024-03-21T13:38:44.793394Z"
    }
   },
   "id": "a2f8fff9d34b72cf",
   "execution_count": 2
  },
  {
   "cell_type": "markdown",
   "source": [
    "# Table of Contents\n",
    "1. [Victoria Forecast Demand](#1)\n",
    "2. [SA Forecast Demand](#2)\n",
    "3. [QLD Forecast Demand](#3)\n",
    "4. [QLD Temperatures](#4)\n",
    "5. [SA Temperatures](#5)\n",
    "6. [Victoria Temperature](#6)\n",
    "7. [QLD Total Demand](#qld-total-demand)\n",
    "8. [SA Total Demand](#sa-total-demand)\n",
    "9. [Victoria Total Demand](#victoria-total-demand)\n",
    "10. [NSW Forecast Demand](#nsw-forecast-demand)\n",
    "11. [NSW temperature](#nsw-temperature)\n",
    "12. [NSW Total Demand](#nsw-total-demand)\n"
   ],
   "metadata": {
    "collapsed": false
   },
   "id": "e89b4b94139327df"
  },
  {
   "cell_type": "markdown",
   "source": [],
   "metadata": {
    "collapsed": false
   },
   "id": "2d2de0c89e49ba19"
  },
  {
   "cell_type": "markdown",
   "source": [
    "# 1: operational demand actual, half-hourly, consolidated"
   ],
   "metadata": {
    "collapsed": false
   },
   "id": "764841b4cdf350f7"
  },
  {
   "cell_type": "code",
   "outputs": [
    {
     "data": {
      "text/plain": "   I  OPERATIONAL_DEMAND  ACTUAL  3 REGIONID   INTERVAL_DATETIME  \\\n0  D  OPERATIONAL_DEMAND  ACTUAL  3     NSW1 2023-09-19 08:00:00   \n1  D  OPERATIONAL_DEMAND  ACTUAL  3     QLD1 2023-09-19 08:00:00   \n2  D  OPERATIONAL_DEMAND  ACTUAL  3      SA1 2023-09-19 08:00:00   \n3  D  OPERATIONAL_DEMAND  ACTUAL  3     TAS1 2023-09-19 08:00:00   \n4  D  OPERATIONAL_DEMAND  ACTUAL  3     VIC1 2023-09-19 08:00:00   \n\n   OPERATIONAL_DEMAND.1  OPERATIONAL_DEMAND_ADJUSTMENT  WDR_ESTIMATE  \\\n0                  6860                              0             0   \n1                  5745                              0             0   \n2                  1290                              0             0   \n3                  1253                              0             0   \n4                  4896                              0             0   \n\n          LASTCHANGED  \n0 2023-09-19 08:00:01  \n1 2023-09-19 08:00:01  \n2 2023-09-19 08:00:01  \n3 2023-09-19 08:00:01  \n4 2023-09-19 08:00:01  ",
      "text/html": "<div>\n<style scoped>\n    .dataframe tbody tr th:only-of-type {\n        vertical-align: middle;\n    }\n\n    .dataframe tbody tr th {\n        vertical-align: top;\n    }\n\n    .dataframe thead th {\n        text-align: right;\n    }\n</style>\n<table border=\"1\" class=\"dataframe\">\n  <thead>\n    <tr style=\"text-align: right;\">\n      <th></th>\n      <th>I</th>\n      <th>OPERATIONAL_DEMAND</th>\n      <th>ACTUAL</th>\n      <th>3</th>\n      <th>REGIONID</th>\n      <th>INTERVAL_DATETIME</th>\n      <th>OPERATIONAL_DEMAND.1</th>\n      <th>OPERATIONAL_DEMAND_ADJUSTMENT</th>\n      <th>WDR_ESTIMATE</th>\n      <th>LASTCHANGED</th>\n    </tr>\n  </thead>\n  <tbody>\n    <tr>\n      <th>0</th>\n      <td>D</td>\n      <td>OPERATIONAL_DEMAND</td>\n      <td>ACTUAL</td>\n      <td>3</td>\n      <td>NSW1</td>\n      <td>2023-09-19 08:00:00</td>\n      <td>6860</td>\n      <td>0</td>\n      <td>0</td>\n      <td>2023-09-19 08:00:01</td>\n    </tr>\n    <tr>\n      <th>1</th>\n      <td>D</td>\n      <td>OPERATIONAL_DEMAND</td>\n      <td>ACTUAL</td>\n      <td>3</td>\n      <td>QLD1</td>\n      <td>2023-09-19 08:00:00</td>\n      <td>5745</td>\n      <td>0</td>\n      <td>0</td>\n      <td>2023-09-19 08:00:01</td>\n    </tr>\n    <tr>\n      <th>2</th>\n      <td>D</td>\n      <td>OPERATIONAL_DEMAND</td>\n      <td>ACTUAL</td>\n      <td>3</td>\n      <td>SA1</td>\n      <td>2023-09-19 08:00:00</td>\n      <td>1290</td>\n      <td>0</td>\n      <td>0</td>\n      <td>2023-09-19 08:00:01</td>\n    </tr>\n    <tr>\n      <th>3</th>\n      <td>D</td>\n      <td>OPERATIONAL_DEMAND</td>\n      <td>ACTUAL</td>\n      <td>3</td>\n      <td>TAS1</td>\n      <td>2023-09-19 08:00:00</td>\n      <td>1253</td>\n      <td>0</td>\n      <td>0</td>\n      <td>2023-09-19 08:00:01</td>\n    </tr>\n    <tr>\n      <th>4</th>\n      <td>D</td>\n      <td>OPERATIONAL_DEMAND</td>\n      <td>ACTUAL</td>\n      <td>3</td>\n      <td>VIC1</td>\n      <td>2023-09-19 08:00:00</td>\n      <td>4896</td>\n      <td>0</td>\n      <td>0</td>\n      <td>2023-09-19 08:00:01</td>\n    </tr>\n  </tbody>\n</table>\n</div>"
     },
     "execution_count": 145,
     "metadata": {},
     "output_type": "execute_result"
    }
   ],
   "source": [
    "df1 = pd.read_csv(os.path.join(data_path, 'operational_demand_actual_hh_consolidated.csv'), parse_dates=['INTERVAL_DATETIME', 'LASTCHANGED'], )\n",
    "df1.head()"
   ],
   "metadata": {
    "collapsed": false,
    "ExecuteTime": {
     "end_time": "2024-03-21T13:39:08.159956Z",
     "start_time": "2024-03-21T13:39:07.998788Z"
    }
   },
   "id": "3c08bdb2145ee986",
   "execution_count": 145
  },
  {
   "cell_type": "code",
   "outputs": [
    {
     "data": {
      "text/plain": "       I  OPERATIONAL_DEMAND  ACTUAL  3 REGIONID   INTERVAL_DATETIME  \\\n96900  D  OPERATIONAL_DEMAND  ACTUAL  3     NSW1 2023-03-04 03:00:00   \n96901  D  OPERATIONAL_DEMAND  ACTUAL  3     QLD1 2023-03-04 03:00:00   \n96902  D  OPERATIONAL_DEMAND  ACTUAL  3      SA1 2023-03-04 03:00:00   \n96903  D  OPERATIONAL_DEMAND  ACTUAL  3     TAS1 2023-03-04 03:00:00   \n96904  D  OPERATIONAL_DEMAND  ACTUAL  3     VIC1 2023-03-04 03:00:00   \n\n       OPERATIONAL_DEMAND.1  OPERATIONAL_DEMAND_ADJUSTMENT  WDR_ESTIMATE  \\\n96900                  6392                              0             0   \n96901                  5680                              0             0   \n96902                  1197                              0             0   \n96903                   999                              0             0   \n96904                  3981                              0             0   \n\n              LASTCHANGED  \n96900 2023-03-04 03:00:01  \n96901 2023-03-04 03:00:01  \n96902 2023-03-04 03:00:01  \n96903 2023-03-04 03:00:01  \n96904 2023-03-04 03:00:01  ",
      "text/html": "<div>\n<style scoped>\n    .dataframe tbody tr th:only-of-type {\n        vertical-align: middle;\n    }\n\n    .dataframe tbody tr th {\n        vertical-align: top;\n    }\n\n    .dataframe thead th {\n        text-align: right;\n    }\n</style>\n<table border=\"1\" class=\"dataframe\">\n  <thead>\n    <tr style=\"text-align: right;\">\n      <th></th>\n      <th>I</th>\n      <th>OPERATIONAL_DEMAND</th>\n      <th>ACTUAL</th>\n      <th>3</th>\n      <th>REGIONID</th>\n      <th>INTERVAL_DATETIME</th>\n      <th>OPERATIONAL_DEMAND.1</th>\n      <th>OPERATIONAL_DEMAND_ADJUSTMENT</th>\n      <th>WDR_ESTIMATE</th>\n      <th>LASTCHANGED</th>\n    </tr>\n  </thead>\n  <tbody>\n    <tr>\n      <th>96900</th>\n      <td>D</td>\n      <td>OPERATIONAL_DEMAND</td>\n      <td>ACTUAL</td>\n      <td>3</td>\n      <td>NSW1</td>\n      <td>2023-03-04 03:00:00</td>\n      <td>6392</td>\n      <td>0</td>\n      <td>0</td>\n      <td>2023-03-04 03:00:01</td>\n    </tr>\n    <tr>\n      <th>96901</th>\n      <td>D</td>\n      <td>OPERATIONAL_DEMAND</td>\n      <td>ACTUAL</td>\n      <td>3</td>\n      <td>QLD1</td>\n      <td>2023-03-04 03:00:00</td>\n      <td>5680</td>\n      <td>0</td>\n      <td>0</td>\n      <td>2023-03-04 03:00:01</td>\n    </tr>\n    <tr>\n      <th>96902</th>\n      <td>D</td>\n      <td>OPERATIONAL_DEMAND</td>\n      <td>ACTUAL</td>\n      <td>3</td>\n      <td>SA1</td>\n      <td>2023-03-04 03:00:00</td>\n      <td>1197</td>\n      <td>0</td>\n      <td>0</td>\n      <td>2023-03-04 03:00:01</td>\n    </tr>\n    <tr>\n      <th>96903</th>\n      <td>D</td>\n      <td>OPERATIONAL_DEMAND</td>\n      <td>ACTUAL</td>\n      <td>3</td>\n      <td>TAS1</td>\n      <td>2023-03-04 03:00:00</td>\n      <td>999</td>\n      <td>0</td>\n      <td>0</td>\n      <td>2023-03-04 03:00:01</td>\n    </tr>\n    <tr>\n      <th>96904</th>\n      <td>D</td>\n      <td>OPERATIONAL_DEMAND</td>\n      <td>ACTUAL</td>\n      <td>3</td>\n      <td>VIC1</td>\n      <td>2023-03-04 03:00:00</td>\n      <td>3981</td>\n      <td>0</td>\n      <td>0</td>\n      <td>2023-03-04 03:00:01</td>\n    </tr>\n  </tbody>\n</table>\n</div>"
     },
     "execution_count": 146,
     "metadata": {},
     "output_type": "execute_result"
    }
   ],
   "source": [
    "df1.tail()"
   ],
   "metadata": {
    "collapsed": false,
    "ExecuteTime": {
     "end_time": "2024-03-21T13:39:08.164857Z",
     "start_time": "2024-03-21T13:39:08.160575Z"
    }
   },
   "id": "2d570bc2d600d9a",
   "execution_count": 146
  },
  {
   "cell_type": "code",
   "outputs": [
    {
     "name": "stdout",
     "output_type": "stream",
     "text": [
      "<class 'pandas.core.frame.DataFrame'>\n",
      "RangeIndex: 96905 entries, 0 to 96904\n",
      "Data columns (total 10 columns):\n",
      " #   Column                         Non-Null Count  Dtype         \n",
      "---  ------                         --------------  -----         \n",
      " 0   I                              96905 non-null  object        \n",
      " 1   OPERATIONAL_DEMAND             96905 non-null  object        \n",
      " 2   ACTUAL                         96905 non-null  object        \n",
      " 3   3                              96905 non-null  int64         \n",
      " 4   REGIONID                       96905 non-null  object        \n",
      " 5   INTERVAL_DATETIME              96905 non-null  datetime64[ns]\n",
      " 6   OPERATIONAL_DEMAND.1           96905 non-null  int64         \n",
      " 7   OPERATIONAL_DEMAND_ADJUSTMENT  96905 non-null  int64         \n",
      " 8   WDR_ESTIMATE                   96905 non-null  int64         \n",
      " 9   LASTCHANGED                    96905 non-null  datetime64[ns]\n",
      "dtypes: datetime64[ns](2), int64(4), object(4)\n",
      "memory usage: 7.4+ MB\n"
     ]
    }
   ],
   "source": [
    "df1.info()"
   ],
   "metadata": {
    "collapsed": false,
    "ExecuteTime": {
     "end_time": "2024-03-21T13:39:08.184394Z",
     "start_time": "2024-03-21T13:39:08.165381Z"
    }
   },
   "id": "d82263b3d289e984",
   "execution_count": 147
  },
  {
   "cell_type": "code",
   "outputs": [
    {
     "data": {
      "text/plain": "             3              INTERVAL_DATETIME  OPERATIONAL_DEMAND.1  \\\ncount  96905.0                          96905          96905.000000   \nmean       3.0  2023-08-28 17:02:50.889015040           4229.114256   \nmin        3.0            2023-02-05 00:00:00            -26.000000   \n25%        3.0            2023-05-20 00:30:00           1287.000000   \n50%        3.0            2023-08-28 23:00:00           4591.000000   \n75%        3.0            2023-12-07 21:30:00           6472.000000   \nmax        3.0            2024-03-17 20:00:00          13643.000000   \nstd        0.0                            NaN           2763.717754   \n\n       OPERATIONAL_DEMAND_ADJUSTMENT  WDR_ESTIMATE  \\\ncount                        96905.0  96905.000000   \nmean                             0.0      0.005913   \nmin                              0.0      0.000000   \n25%                              0.0      0.000000   \n50%                              0.0      0.000000   \n75%                              0.0      0.000000   \nmax                              0.0     21.000000   \nstd                              0.0      0.242607   \n\n                         LASTCHANGED  \ncount                          96905  \nmean   2023-08-28 17:02:52.190919424  \nmin              2023-02-05 00:00:02  \n25%              2023-05-20 00:30:01  \n50%              2023-08-28 23:00:01  \n75%              2023-12-07 21:30:01  \nmax              2024-03-17 20:00:01  \nstd                              NaN  ",
      "text/html": "<div>\n<style scoped>\n    .dataframe tbody tr th:only-of-type {\n        vertical-align: middle;\n    }\n\n    .dataframe tbody tr th {\n        vertical-align: top;\n    }\n\n    .dataframe thead th {\n        text-align: right;\n    }\n</style>\n<table border=\"1\" class=\"dataframe\">\n  <thead>\n    <tr style=\"text-align: right;\">\n      <th></th>\n      <th>3</th>\n      <th>INTERVAL_DATETIME</th>\n      <th>OPERATIONAL_DEMAND.1</th>\n      <th>OPERATIONAL_DEMAND_ADJUSTMENT</th>\n      <th>WDR_ESTIMATE</th>\n      <th>LASTCHANGED</th>\n    </tr>\n  </thead>\n  <tbody>\n    <tr>\n      <th>count</th>\n      <td>96905.0</td>\n      <td>96905</td>\n      <td>96905.000000</td>\n      <td>96905.0</td>\n      <td>96905.000000</td>\n      <td>96905</td>\n    </tr>\n    <tr>\n      <th>mean</th>\n      <td>3.0</td>\n      <td>2023-08-28 17:02:50.889015040</td>\n      <td>4229.114256</td>\n      <td>0.0</td>\n      <td>0.005913</td>\n      <td>2023-08-28 17:02:52.190919424</td>\n    </tr>\n    <tr>\n      <th>min</th>\n      <td>3.0</td>\n      <td>2023-02-05 00:00:00</td>\n      <td>-26.000000</td>\n      <td>0.0</td>\n      <td>0.000000</td>\n      <td>2023-02-05 00:00:02</td>\n    </tr>\n    <tr>\n      <th>25%</th>\n      <td>3.0</td>\n      <td>2023-05-20 00:30:00</td>\n      <td>1287.000000</td>\n      <td>0.0</td>\n      <td>0.000000</td>\n      <td>2023-05-20 00:30:01</td>\n    </tr>\n    <tr>\n      <th>50%</th>\n      <td>3.0</td>\n      <td>2023-08-28 23:00:00</td>\n      <td>4591.000000</td>\n      <td>0.0</td>\n      <td>0.000000</td>\n      <td>2023-08-28 23:00:01</td>\n    </tr>\n    <tr>\n      <th>75%</th>\n      <td>3.0</td>\n      <td>2023-12-07 21:30:00</td>\n      <td>6472.000000</td>\n      <td>0.0</td>\n      <td>0.000000</td>\n      <td>2023-12-07 21:30:01</td>\n    </tr>\n    <tr>\n      <th>max</th>\n      <td>3.0</td>\n      <td>2024-03-17 20:00:00</td>\n      <td>13643.000000</td>\n      <td>0.0</td>\n      <td>21.000000</td>\n      <td>2024-03-17 20:00:01</td>\n    </tr>\n    <tr>\n      <th>std</th>\n      <td>0.0</td>\n      <td>NaN</td>\n      <td>2763.717754</td>\n      <td>0.0</td>\n      <td>0.242607</td>\n      <td>NaN</td>\n    </tr>\n  </tbody>\n</table>\n</div>"
     },
     "execution_count": 148,
     "metadata": {},
     "output_type": "execute_result"
    }
   ],
   "source": [
    "df1.describe()"
   ],
   "metadata": {
    "collapsed": false,
    "ExecuteTime": {
     "end_time": "2024-03-21T13:39:08.198760Z",
     "start_time": "2024-03-21T13:39:08.184969Z"
    }
   },
   "id": "968af03092a49be4",
   "execution_count": 148
  },
  {
   "cell_type": "code",
   "outputs": [
    {
     "data": {
      "text/plain": "(96905, 10)"
     },
     "execution_count": 149,
     "metadata": {},
     "output_type": "execute_result"
    }
   ],
   "source": [
    "df1.shape"
   ],
   "metadata": {
    "collapsed": false,
    "ExecuteTime": {
     "end_time": "2024-03-21T13:39:08.201147Z",
     "start_time": "2024-03-21T13:39:08.199296Z"
    }
   },
   "id": "4cbe81ca7420caa",
   "execution_count": 149
  },
  {
   "cell_type": "code",
   "outputs": [
    {
     "data": {
      "text/plain": "I                                0\nOPERATIONAL_DEMAND               0\nACTUAL                           0\n3                                0\nREGIONID                         0\nINTERVAL_DATETIME                0\nOPERATIONAL_DEMAND.1             0\nOPERATIONAL_DEMAND_ADJUSTMENT    0\nWDR_ESTIMATE                     0\nLASTCHANGED                      0\ndtype: int64"
     },
     "execution_count": 150,
     "metadata": {},
     "output_type": "execute_result"
    }
   ],
   "source": [
    "df1.isnull().sum()"
   ],
   "metadata": {
    "collapsed": false,
    "ExecuteTime": {
     "end_time": "2024-03-21T13:39:08.219774Z",
     "start_time": "2024-03-21T13:39:08.201625Z"
    }
   },
   "id": "dfd3044c650deec",
   "execution_count": 150
  },
  {
   "cell_type": "code",
   "outputs": [
    {
     "data": {
      "text/plain": "I                                0\nOPERATIONAL_DEMAND               0\nACTUAL                           0\n3                                0\nREGIONID                         0\nINTERVAL_DATETIME                0\nOPERATIONAL_DEMAND.1             0\nOPERATIONAL_DEMAND_ADJUSTMENT    0\nWDR_ESTIMATE                     0\nLASTCHANGED                      0\ndtype: int64"
     },
     "execution_count": 151,
     "metadata": {},
     "output_type": "execute_result"
    }
   ],
   "source": [
    "df1.isna().sum()"
   ],
   "metadata": {
    "collapsed": false,
    "ExecuteTime": {
     "end_time": "2024-03-21T13:39:08.244126Z",
     "start_time": "2024-03-21T13:39:08.220303Z"
    }
   },
   "id": "4f49526a4065d08a",
   "execution_count": 151
  },
  {
   "cell_type": "markdown",
   "source": [
    "# 2: operational demand forecast, half-hourly, consolidated"
   ],
   "metadata": {
    "collapsed": false
   },
   "id": "9d2c264cb16b023b"
  },
  {
   "cell_type": "code",
   "outputs": [
    {
     "data": {
      "text/plain": "   I  OPERATIONAL_DEMAND  FORECAST  1 REGIONID   INTERVAL_DATETIME  \\\n0  D  OPERATIONAL_DEMAND  FORECAST  1     NSW1 2023-07-10 23:00:00   \n1  D  OPERATIONAL_DEMAND  FORECAST  1     NSW1 2023-07-10 23:30:00   \n2  D  OPERATIONAL_DEMAND  FORECAST  1     NSW1 2023-07-11 00:00:00   \n3  D  OPERATIONAL_DEMAND  FORECAST  1     NSW1 2023-07-11 00:30:00   \n4  D  OPERATIONAL_DEMAND  FORECAST  1     NSW1 2023-07-11 01:00:00   \n\n            LOAD_DATE  OPERATIONAL_DEMAND_POE10  OPERATIONAL_DEMAND_POE50  \\\n0 2023-07-10 22:27:39                    9090.0                      8950   \n1 2023-07-10 22:27:39                    8912.0                      8753   \n2 2023-07-10 22:27:39                    8788.0                      8608   \n3 2023-07-10 22:27:39                    8642.0                      8444   \n4 2023-07-10 22:27:39                    8486.0                      8270   \n\n   OPERATIONAL_DEMAND_POE90         LASTCHANGED  \n0                    8810.0 2023-07-10 22:27:39  \n1                    8593.0 2023-07-10 22:27:39  \n2                    8429.0 2023-07-10 22:27:39  \n3                    8246.0 2023-07-10 22:27:39  \n4                    8055.0 2023-07-10 22:27:39  ",
      "text/html": "<div>\n<style scoped>\n    .dataframe tbody tr th:only-of-type {\n        vertical-align: middle;\n    }\n\n    .dataframe tbody tr th {\n        vertical-align: top;\n    }\n\n    .dataframe thead th {\n        text-align: right;\n    }\n</style>\n<table border=\"1\" class=\"dataframe\">\n  <thead>\n    <tr style=\"text-align: right;\">\n      <th></th>\n      <th>I</th>\n      <th>OPERATIONAL_DEMAND</th>\n      <th>FORECAST</th>\n      <th>1</th>\n      <th>REGIONID</th>\n      <th>INTERVAL_DATETIME</th>\n      <th>LOAD_DATE</th>\n      <th>OPERATIONAL_DEMAND_POE10</th>\n      <th>OPERATIONAL_DEMAND_POE50</th>\n      <th>OPERATIONAL_DEMAND_POE90</th>\n      <th>LASTCHANGED</th>\n    </tr>\n  </thead>\n  <tbody>\n    <tr>\n      <th>0</th>\n      <td>D</td>\n      <td>OPERATIONAL_DEMAND</td>\n      <td>FORECAST</td>\n      <td>1</td>\n      <td>NSW1</td>\n      <td>2023-07-10 23:00:00</td>\n      <td>2023-07-10 22:27:39</td>\n      <td>9090.0</td>\n      <td>8950</td>\n      <td>8810.0</td>\n      <td>2023-07-10 22:27:39</td>\n    </tr>\n    <tr>\n      <th>1</th>\n      <td>D</td>\n      <td>OPERATIONAL_DEMAND</td>\n      <td>FORECAST</td>\n      <td>1</td>\n      <td>NSW1</td>\n      <td>2023-07-10 23:30:00</td>\n      <td>2023-07-10 22:27:39</td>\n      <td>8912.0</td>\n      <td>8753</td>\n      <td>8593.0</td>\n      <td>2023-07-10 22:27:39</td>\n    </tr>\n    <tr>\n      <th>2</th>\n      <td>D</td>\n      <td>OPERATIONAL_DEMAND</td>\n      <td>FORECAST</td>\n      <td>1</td>\n      <td>NSW1</td>\n      <td>2023-07-11 00:00:00</td>\n      <td>2023-07-10 22:27:39</td>\n      <td>8788.0</td>\n      <td>8608</td>\n      <td>8429.0</td>\n      <td>2023-07-10 22:27:39</td>\n    </tr>\n    <tr>\n      <th>3</th>\n      <td>D</td>\n      <td>OPERATIONAL_DEMAND</td>\n      <td>FORECAST</td>\n      <td>1</td>\n      <td>NSW1</td>\n      <td>2023-07-11 00:30:00</td>\n      <td>2023-07-10 22:27:39</td>\n      <td>8642.0</td>\n      <td>8444</td>\n      <td>8246.0</td>\n      <td>2023-07-10 22:27:39</td>\n    </tr>\n    <tr>\n      <th>4</th>\n      <td>D</td>\n      <td>OPERATIONAL_DEMAND</td>\n      <td>FORECAST</td>\n      <td>1</td>\n      <td>NSW1</td>\n      <td>2023-07-11 01:00:00</td>\n      <td>2023-07-10 22:27:39</td>\n      <td>8486.0</td>\n      <td>8270</td>\n      <td>8055.0</td>\n      <td>2023-07-10 22:27:39</td>\n    </tr>\n  </tbody>\n</table>\n</div>"
     },
     "execution_count": 152,
     "metadata": {},
     "output_type": "execute_result"
    }
   ],
   "source": [
    "df2 = pd.read_csv(\n",
    "    os.path.join(data_path, 'operational_demand_forecast_hh_consolidated.csv'), \n",
    "    parse_dates=['INTERVAL_DATETIME', 'LOAD_DATE', 'LASTCHANGED'],\n",
    ")\n",
    "df2.head()"
   ],
   "metadata": {
    "collapsed": false,
    "ExecuteTime": {
     "end_time": "2024-03-21T13:39:49.520999Z",
     "start_time": "2024-03-21T13:39:08.244657Z"
    }
   },
   "id": "ac09edf4d1f6f297",
   "execution_count": 152
  },
  {
   "cell_type": "code",
   "outputs": [
    {
     "data": {
      "text/plain": "          I  OPERATIONAL_DEMAND  FORECAST  1 REGIONID   INTERVAL_DATETIME  \\\n39982240  D  OPERATIONAL_DEMAND  FORECAST  1     VIC1 2023-12-29 22:00:00   \n39982241  D  OPERATIONAL_DEMAND  FORECAST  1     VIC1 2023-12-29 22:30:00   \n39982242  D  OPERATIONAL_DEMAND  FORECAST  1     VIC1 2023-12-29 23:00:00   \n39982243  D  OPERATIONAL_DEMAND  FORECAST  1     VIC1 2023-12-29 23:30:00   \n39982244  D  OPERATIONAL_DEMAND  FORECAST  1     VIC1 2023-12-30 00:00:00   \n\n                   LOAD_DATE  OPERATIONAL_DEMAND_POE10  \\\n39982240 2023-12-21 06:57:31                    4707.0   \n39982241 2023-12-21 06:57:31                    4641.0   \n39982242 2023-12-21 06:57:31                    4604.0   \n39982243 2023-12-21 06:57:31                    4705.0   \n39982244 2023-12-21 06:57:31                    4677.0   \n\n          OPERATIONAL_DEMAND_POE50  OPERATIONAL_DEMAND_POE90  \\\n39982240                      4376                    4044.0   \n39982241                      4314                    3987.0   \n39982242                      4280                    3956.0   \n39982243                      4374                    4043.0   \n39982244                      4348                    4018.0   \n\n                 LASTCHANGED  \n39982240 2023-12-21 06:57:31  \n39982241 2023-12-21 06:57:31  \n39982242 2023-12-21 06:57:31  \n39982243 2023-12-21 06:57:31  \n39982244 2023-12-21 06:57:31  ",
      "text/html": "<div>\n<style scoped>\n    .dataframe tbody tr th:only-of-type {\n        vertical-align: middle;\n    }\n\n    .dataframe tbody tr th {\n        vertical-align: top;\n    }\n\n    .dataframe thead th {\n        text-align: right;\n    }\n</style>\n<table border=\"1\" class=\"dataframe\">\n  <thead>\n    <tr style=\"text-align: right;\">\n      <th></th>\n      <th>I</th>\n      <th>OPERATIONAL_DEMAND</th>\n      <th>FORECAST</th>\n      <th>1</th>\n      <th>REGIONID</th>\n      <th>INTERVAL_DATETIME</th>\n      <th>LOAD_DATE</th>\n      <th>OPERATIONAL_DEMAND_POE10</th>\n      <th>OPERATIONAL_DEMAND_POE50</th>\n      <th>OPERATIONAL_DEMAND_POE90</th>\n      <th>LASTCHANGED</th>\n    </tr>\n  </thead>\n  <tbody>\n    <tr>\n      <th>39982240</th>\n      <td>D</td>\n      <td>OPERATIONAL_DEMAND</td>\n      <td>FORECAST</td>\n      <td>1</td>\n      <td>VIC1</td>\n      <td>2023-12-29 22:00:00</td>\n      <td>2023-12-21 06:57:31</td>\n      <td>4707.0</td>\n      <td>4376</td>\n      <td>4044.0</td>\n      <td>2023-12-21 06:57:31</td>\n    </tr>\n    <tr>\n      <th>39982241</th>\n      <td>D</td>\n      <td>OPERATIONAL_DEMAND</td>\n      <td>FORECAST</td>\n      <td>1</td>\n      <td>VIC1</td>\n      <td>2023-12-29 22:30:00</td>\n      <td>2023-12-21 06:57:31</td>\n      <td>4641.0</td>\n      <td>4314</td>\n      <td>3987.0</td>\n      <td>2023-12-21 06:57:31</td>\n    </tr>\n    <tr>\n      <th>39982242</th>\n      <td>D</td>\n      <td>OPERATIONAL_DEMAND</td>\n      <td>FORECAST</td>\n      <td>1</td>\n      <td>VIC1</td>\n      <td>2023-12-29 23:00:00</td>\n      <td>2023-12-21 06:57:31</td>\n      <td>4604.0</td>\n      <td>4280</td>\n      <td>3956.0</td>\n      <td>2023-12-21 06:57:31</td>\n    </tr>\n    <tr>\n      <th>39982243</th>\n      <td>D</td>\n      <td>OPERATIONAL_DEMAND</td>\n      <td>FORECAST</td>\n      <td>1</td>\n      <td>VIC1</td>\n      <td>2023-12-29 23:30:00</td>\n      <td>2023-12-21 06:57:31</td>\n      <td>4705.0</td>\n      <td>4374</td>\n      <td>4043.0</td>\n      <td>2023-12-21 06:57:31</td>\n    </tr>\n    <tr>\n      <th>39982244</th>\n      <td>D</td>\n      <td>OPERATIONAL_DEMAND</td>\n      <td>FORECAST</td>\n      <td>1</td>\n      <td>VIC1</td>\n      <td>2023-12-30 00:00:00</td>\n      <td>2023-12-21 06:57:31</td>\n      <td>4677.0</td>\n      <td>4348</td>\n      <td>4018.0</td>\n      <td>2023-12-21 06:57:31</td>\n    </tr>\n  </tbody>\n</table>\n</div>"
     },
     "execution_count": 153,
     "metadata": {},
     "output_type": "execute_result"
    }
   ],
   "source": [
    "df2.tail()"
   ],
   "metadata": {
    "collapsed": false,
    "ExecuteTime": {
     "end_time": "2024-03-21T13:39:49.526674Z",
     "start_time": "2024-03-21T13:39:49.521560Z"
    }
   },
   "id": "3c81d98c0d43e955",
   "execution_count": 153
  },
  {
   "cell_type": "code",
   "outputs": [
    {
     "name": "stdout",
     "output_type": "stream",
     "text": [
      "<class 'pandas.core.frame.DataFrame'>\n",
      "RangeIndex: 39982245 entries, 0 to 39982244\n",
      "Data columns (total 11 columns):\n",
      " #   Column                    Dtype         \n",
      "---  ------                    -----         \n",
      " 0   I                         object        \n",
      " 1   OPERATIONAL_DEMAND        object        \n",
      " 2   FORECAST                  object        \n",
      " 3   1                         int64         \n",
      " 4   REGIONID                  object        \n",
      " 5   INTERVAL_DATETIME         datetime64[ns]\n",
      " 6   LOAD_DATE                 datetime64[ns]\n",
      " 7   OPERATIONAL_DEMAND_POE10  float64       \n",
      " 8   OPERATIONAL_DEMAND_POE50  int64         \n",
      " 9   OPERATIONAL_DEMAND_POE90  float64       \n",
      " 10  LASTCHANGED               datetime64[ns]\n",
      "dtypes: datetime64[ns](3), float64(2), int64(2), object(4)\n",
      "memory usage: 3.3+ GB\n"
     ]
    }
   ],
   "source": [
    "df2.info()"
   ],
   "metadata": {
    "collapsed": false,
    "ExecuteTime": {
     "end_time": "2024-03-21T13:39:49.607314Z",
     "start_time": "2024-03-21T13:39:49.527128Z"
    }
   },
   "id": "a50469a260218bae",
   "execution_count": 154
  },
  {
   "cell_type": "code",
   "outputs": [
    {
     "data": {
      "text/plain": "                1              INTERVAL_DATETIME  \\\ncount  39982245.0                       39982245   \nmean          1.0  2023-08-31 16:04:20.799421440   \nmin           1.0            2023-02-05 00:30:00   \n25%           1.0            2023-05-21 22:30:00   \n50%           1.0            2023-08-31 16:00:00   \n75%           1.0            2023-12-11 09:30:00   \nmax           1.0            2024-03-26 00:00:00   \nstd           0.0                            NaN   \n\n                           LOAD_DATE  OPERATIONAL_DEMAND_POE10  \\\ncount                       39982245              3.998224e+07   \nmean   2023-08-27 09:16:58.416956416              4.457400e+03   \nmin              2023-02-04 23:27:41             -3.150000e+02   \n25%              2023-05-17 15:57:58              1.383000e+03   \n50%              2023-08-27 08:57:32              4.867000e+03   \n75%              2023-12-07 02:27:32              6.755000e+03   \nmax              2024-03-17 19:57:42              1.472900e+04   \nstd                              NaN              2.884793e+03   \n\n       OPERATIONAL_DEMAND_POE50  OPERATIONAL_DEMAND_POE90  \\\ncount              3.998224e+07              3.998224e+07   \nmean               4.229406e+03              4.001412e+03   \nmin               -3.020000e+02             -2.890000e+02   \n25%                1.291000e+03              1.202000e+03   \n50%                4.600000e+03              4.326000e+03   \n75%                6.444000e+03              6.136000e+03   \nmax                1.393900e+04              1.340800e+04   \nstd                2.757393e+03              2.633886e+03   \n\n                         LASTCHANGED  \ncount                       39982245  \nmean   2023-08-27 09:16:58.416956416  \nmin              2023-02-04 23:27:41  \n25%              2023-05-17 15:57:58  \n50%              2023-08-27 08:57:32  \n75%              2023-12-07 02:27:32  \nmax              2024-03-17 19:57:42  \nstd                              NaN  ",
      "text/html": "<div>\n<style scoped>\n    .dataframe tbody tr th:only-of-type {\n        vertical-align: middle;\n    }\n\n    .dataframe tbody tr th {\n        vertical-align: top;\n    }\n\n    .dataframe thead th {\n        text-align: right;\n    }\n</style>\n<table border=\"1\" class=\"dataframe\">\n  <thead>\n    <tr style=\"text-align: right;\">\n      <th></th>\n      <th>1</th>\n      <th>INTERVAL_DATETIME</th>\n      <th>LOAD_DATE</th>\n      <th>OPERATIONAL_DEMAND_POE10</th>\n      <th>OPERATIONAL_DEMAND_POE50</th>\n      <th>OPERATIONAL_DEMAND_POE90</th>\n      <th>LASTCHANGED</th>\n    </tr>\n  </thead>\n  <tbody>\n    <tr>\n      <th>count</th>\n      <td>39982245.0</td>\n      <td>39982245</td>\n      <td>39982245</td>\n      <td>3.998224e+07</td>\n      <td>3.998224e+07</td>\n      <td>3.998224e+07</td>\n      <td>39982245</td>\n    </tr>\n    <tr>\n      <th>mean</th>\n      <td>1.0</td>\n      <td>2023-08-31 16:04:20.799421440</td>\n      <td>2023-08-27 09:16:58.416956416</td>\n      <td>4.457400e+03</td>\n      <td>4.229406e+03</td>\n      <td>4.001412e+03</td>\n      <td>2023-08-27 09:16:58.416956416</td>\n    </tr>\n    <tr>\n      <th>min</th>\n      <td>1.0</td>\n      <td>2023-02-05 00:30:00</td>\n      <td>2023-02-04 23:27:41</td>\n      <td>-3.150000e+02</td>\n      <td>-3.020000e+02</td>\n      <td>-2.890000e+02</td>\n      <td>2023-02-04 23:27:41</td>\n    </tr>\n    <tr>\n      <th>25%</th>\n      <td>1.0</td>\n      <td>2023-05-21 22:30:00</td>\n      <td>2023-05-17 15:57:58</td>\n      <td>1.383000e+03</td>\n      <td>1.291000e+03</td>\n      <td>1.202000e+03</td>\n      <td>2023-05-17 15:57:58</td>\n    </tr>\n    <tr>\n      <th>50%</th>\n      <td>1.0</td>\n      <td>2023-08-31 16:00:00</td>\n      <td>2023-08-27 08:57:32</td>\n      <td>4.867000e+03</td>\n      <td>4.600000e+03</td>\n      <td>4.326000e+03</td>\n      <td>2023-08-27 08:57:32</td>\n    </tr>\n    <tr>\n      <th>75%</th>\n      <td>1.0</td>\n      <td>2023-12-11 09:30:00</td>\n      <td>2023-12-07 02:27:32</td>\n      <td>6.755000e+03</td>\n      <td>6.444000e+03</td>\n      <td>6.136000e+03</td>\n      <td>2023-12-07 02:27:32</td>\n    </tr>\n    <tr>\n      <th>max</th>\n      <td>1.0</td>\n      <td>2024-03-26 00:00:00</td>\n      <td>2024-03-17 19:57:42</td>\n      <td>1.472900e+04</td>\n      <td>1.393900e+04</td>\n      <td>1.340800e+04</td>\n      <td>2024-03-17 19:57:42</td>\n    </tr>\n    <tr>\n      <th>std</th>\n      <td>0.0</td>\n      <td>NaN</td>\n      <td>NaN</td>\n      <td>2.884793e+03</td>\n      <td>2.757393e+03</td>\n      <td>2.633886e+03</td>\n      <td>NaN</td>\n    </tr>\n  </tbody>\n</table>\n</div>"
     },
     "execution_count": 155,
     "metadata": {},
     "output_type": "execute_result"
    }
   ],
   "source": [
    "df2.describe()"
   ],
   "metadata": {
    "collapsed": false,
    "ExecuteTime": {
     "end_time": "2024-03-21T13:39:52.765264Z",
     "start_time": "2024-03-21T13:39:49.607836Z"
    }
   },
   "id": "10eff878dbf19f03",
   "execution_count": 155
  },
  {
   "cell_type": "code",
   "outputs": [
    {
     "data": {
      "text/plain": "(39982245, 11)"
     },
     "execution_count": 156,
     "metadata": {},
     "output_type": "execute_result"
    }
   ],
   "source": [
    "df2.shape"
   ],
   "metadata": {
    "collapsed": false,
    "ExecuteTime": {
     "end_time": "2024-03-21T13:39:52.767877Z",
     "start_time": "2024-03-21T13:39:52.765905Z"
    }
   },
   "id": "7488dbd1e49cc0c3",
   "execution_count": 156
  },
  {
   "cell_type": "code",
   "outputs": [
    {
     "data": {
      "text/plain": "I                           0\nOPERATIONAL_DEMAND          0\nFORECAST                    0\n1                           0\nREGIONID                    0\nINTERVAL_DATETIME           0\nLOAD_DATE                   0\nOPERATIONAL_DEMAND_POE10    0\nOPERATIONAL_DEMAND_POE50    0\nOPERATIONAL_DEMAND_POE90    0\nLASTCHANGED                 0\ndtype: int64"
     },
     "execution_count": 157,
     "metadata": {},
     "output_type": "execute_result"
    }
   ],
   "source": [
    "df2.isnull().sum()"
   ],
   "metadata": {
    "collapsed": false,
    "ExecuteTime": {
     "end_time": "2024-03-21T13:39:56.203158Z",
     "start_time": "2024-03-21T13:39:52.768340Z"
    }
   },
   "id": "dd756da93004d2f7",
   "execution_count": 157
  },
  {
   "cell_type": "code",
   "outputs": [
    {
     "data": {
      "text/plain": "I                           0\nOPERATIONAL_DEMAND          0\nFORECAST                    0\n1                           0\nREGIONID                    0\nINTERVAL_DATETIME           0\nLOAD_DATE                   0\nOPERATIONAL_DEMAND_POE10    0\nOPERATIONAL_DEMAND_POE50    0\nOPERATIONAL_DEMAND_POE90    0\nLASTCHANGED                 0\ndtype: int64"
     },
     "execution_count": 158,
     "metadata": {},
     "output_type": "execute_result"
    }
   ],
   "source": [
    "df2.isna().sum()"
   ],
   "metadata": {
    "collapsed": false,
    "ExecuteTime": {
     "end_time": "2024-03-21T13:39:59.499935Z",
     "start_time": "2024-03-21T13:39:56.203820Z"
    }
   },
   "id": "726b03ca3fe34b71",
   "execution_count": 158
  },
  {
   "cell_type": "markdown",
   "source": [
    "# 3"
   ],
   "metadata": {
    "collapsed": false
   },
   "id": "323a6f63624ae55"
  },
  {
   "cell_type": "code",
   "outputs": [],
   "source": [
    "df3 = pd.read_csv(\n",
    "    os.path.join(data_path, 'public_actual_operational_demand_five_min_consolidated.csv'), \n",
    "    parse_dates=['INTERVAL_DATETIME', 'LASTCHANGED']\n",
    ")"
   ],
   "metadata": {
    "collapsed": false,
    "ExecuteTime": {
     "end_time": "2024-03-21T13:40:24.396195Z",
     "start_time": "2024-03-21T13:39:59.500565Z"
    }
   },
   "id": "a5a9d60cbcb93f46",
   "execution_count": 159
  },
  {
   "cell_type": "code",
   "outputs": [
    {
     "data": {
      "text/plain": "   I  OPERATIONAL_DEMAND  ACTUAL5M  1 REGIONID   INTERVAL_DATETIME  \\\n0  D  OPERATIONAL_DEMAND  ACTUAL5M  1     NSW1 2023-03-17 00:05:00   \n1  D  OPERATIONAL_DEMAND  ACTUAL5M  1     NSW1 2023-03-17 00:10:00   \n2  D  OPERATIONAL_DEMAND  ACTUAL5M  1     NSW1 2023-03-17 00:15:00   \n3  D  OPERATIONAL_DEMAND  ACTUAL5M  1     NSW1 2023-03-17 00:20:00   \n4  D  OPERATIONAL_DEMAND  ACTUAL5M  1     NSW1 2023-03-17 00:25:00   \n\n   OPERATIONAL_DEMAND.1  OPERATIONAL_DEMAND_ADJUSTMENT  WDR_ESTIMATE  \\\n0                  7886                              0             0   \n1                  7836                              0             0   \n2                  7786                              0             0   \n3                  7735                              0             0   \n4                  7685                              0             0   \n\n          LASTCHANGED  \n0 2023-03-17 00:30:01  \n1 2023-03-17 00:30:01  \n2 2023-03-17 00:30:01  \n3 2023-03-17 00:30:01  \n4 2023-03-17 00:30:01  ",
      "text/html": "<div>\n<style scoped>\n    .dataframe tbody tr th:only-of-type {\n        vertical-align: middle;\n    }\n\n    .dataframe tbody tr th {\n        vertical-align: top;\n    }\n\n    .dataframe thead th {\n        text-align: right;\n    }\n</style>\n<table border=\"1\" class=\"dataframe\">\n  <thead>\n    <tr style=\"text-align: right;\">\n      <th></th>\n      <th>I</th>\n      <th>OPERATIONAL_DEMAND</th>\n      <th>ACTUAL5M</th>\n      <th>1</th>\n      <th>REGIONID</th>\n      <th>INTERVAL_DATETIME</th>\n      <th>OPERATIONAL_DEMAND.1</th>\n      <th>OPERATIONAL_DEMAND_ADJUSTMENT</th>\n      <th>WDR_ESTIMATE</th>\n      <th>LASTCHANGED</th>\n    </tr>\n  </thead>\n  <tbody>\n    <tr>\n      <th>0</th>\n      <td>D</td>\n      <td>OPERATIONAL_DEMAND</td>\n      <td>ACTUAL5M</td>\n      <td>1</td>\n      <td>NSW1</td>\n      <td>2023-03-17 00:05:00</td>\n      <td>7886</td>\n      <td>0</td>\n      <td>0</td>\n      <td>2023-03-17 00:30:01</td>\n    </tr>\n    <tr>\n      <th>1</th>\n      <td>D</td>\n      <td>OPERATIONAL_DEMAND</td>\n      <td>ACTUAL5M</td>\n      <td>1</td>\n      <td>NSW1</td>\n      <td>2023-03-17 00:10:00</td>\n      <td>7836</td>\n      <td>0</td>\n      <td>0</td>\n      <td>2023-03-17 00:30:01</td>\n    </tr>\n    <tr>\n      <th>2</th>\n      <td>D</td>\n      <td>OPERATIONAL_DEMAND</td>\n      <td>ACTUAL5M</td>\n      <td>1</td>\n      <td>NSW1</td>\n      <td>2023-03-17 00:15:00</td>\n      <td>7786</td>\n      <td>0</td>\n      <td>0</td>\n      <td>2023-03-17 00:30:01</td>\n    </tr>\n    <tr>\n      <th>3</th>\n      <td>D</td>\n      <td>OPERATIONAL_DEMAND</td>\n      <td>ACTUAL5M</td>\n      <td>1</td>\n      <td>NSW1</td>\n      <td>2023-03-17 00:20:00</td>\n      <td>7735</td>\n      <td>0</td>\n      <td>0</td>\n      <td>2023-03-17 00:30:01</td>\n    </tr>\n    <tr>\n      <th>4</th>\n      <td>D</td>\n      <td>OPERATIONAL_DEMAND</td>\n      <td>ACTUAL5M</td>\n      <td>1</td>\n      <td>NSW1</td>\n      <td>2023-03-17 00:25:00</td>\n      <td>7685</td>\n      <td>0</td>\n      <td>0</td>\n      <td>2023-03-17 00:30:01</td>\n    </tr>\n  </tbody>\n</table>\n</div>"
     },
     "execution_count": 160,
     "metadata": {},
     "output_type": "execute_result"
    }
   ],
   "source": [
    "df3.head()"
   ],
   "metadata": {
    "collapsed": false,
    "ExecuteTime": {
     "end_time": "2024-03-21T13:40:24.401528Z",
     "start_time": "2024-03-21T13:40:24.396910Z"
    }
   },
   "id": "905c557ce5f253",
   "execution_count": 160
  },
  {
   "cell_type": "code",
   "outputs": [
    {
     "data": {
      "text/plain": "          I  OPERATIONAL_DEMAND  ACTUAL5M  1 REGIONID   INTERVAL_DATETIME  \\\n25331755  D  OPERATIONAL_DEMAND  ACTUAL5M  1     VIC1 2024-03-16 20:10:00   \n25331756  D  OPERATIONAL_DEMAND  ACTUAL5M  1     VIC1 2024-03-16 20:15:00   \n25331757  D  OPERATIONAL_DEMAND  ACTUAL5M  1     VIC1 2024-03-16 20:20:00   \n25331758  D  OPERATIONAL_DEMAND  ACTUAL5M  1     VIC1 2024-03-16 20:25:00   \n25331759  D  OPERATIONAL_DEMAND  ACTUAL5M  1     VIC1 2024-03-16 20:30:00   \n\n          OPERATIONAL_DEMAND.1  OPERATIONAL_DEMAND_ADJUSTMENT  WDR_ESTIMATE  \\\n25331755                  5375                              0             0   \n25331756                  5343                              0             0   \n25331757                  5311                              0             0   \n25331758                  5279                              0             0   \n25331759                  5247                              0             0   \n\n                 LASTCHANGED  \n25331755 2024-03-16 20:30:02  \n25331756 2024-03-16 20:30:02  \n25331757 2024-03-16 20:30:02  \n25331758 2024-03-16 20:30:02  \n25331759 2024-03-16 20:30:02  ",
      "text/html": "<div>\n<style scoped>\n    .dataframe tbody tr th:only-of-type {\n        vertical-align: middle;\n    }\n\n    .dataframe tbody tr th {\n        vertical-align: top;\n    }\n\n    .dataframe thead th {\n        text-align: right;\n    }\n</style>\n<table border=\"1\" class=\"dataframe\">\n  <thead>\n    <tr style=\"text-align: right;\">\n      <th></th>\n      <th>I</th>\n      <th>OPERATIONAL_DEMAND</th>\n      <th>ACTUAL5M</th>\n      <th>1</th>\n      <th>REGIONID</th>\n      <th>INTERVAL_DATETIME</th>\n      <th>OPERATIONAL_DEMAND.1</th>\n      <th>OPERATIONAL_DEMAND_ADJUSTMENT</th>\n      <th>WDR_ESTIMATE</th>\n      <th>LASTCHANGED</th>\n    </tr>\n  </thead>\n  <tbody>\n    <tr>\n      <th>25331755</th>\n      <td>D</td>\n      <td>OPERATIONAL_DEMAND</td>\n      <td>ACTUAL5M</td>\n      <td>1</td>\n      <td>VIC1</td>\n      <td>2024-03-16 20:10:00</td>\n      <td>5375</td>\n      <td>0</td>\n      <td>0</td>\n      <td>2024-03-16 20:30:02</td>\n    </tr>\n    <tr>\n      <th>25331756</th>\n      <td>D</td>\n      <td>OPERATIONAL_DEMAND</td>\n      <td>ACTUAL5M</td>\n      <td>1</td>\n      <td>VIC1</td>\n      <td>2024-03-16 20:15:00</td>\n      <td>5343</td>\n      <td>0</td>\n      <td>0</td>\n      <td>2024-03-16 20:30:02</td>\n    </tr>\n    <tr>\n      <th>25331757</th>\n      <td>D</td>\n      <td>OPERATIONAL_DEMAND</td>\n      <td>ACTUAL5M</td>\n      <td>1</td>\n      <td>VIC1</td>\n      <td>2024-03-16 20:20:00</td>\n      <td>5311</td>\n      <td>0</td>\n      <td>0</td>\n      <td>2024-03-16 20:30:02</td>\n    </tr>\n    <tr>\n      <th>25331758</th>\n      <td>D</td>\n      <td>OPERATIONAL_DEMAND</td>\n      <td>ACTUAL5M</td>\n      <td>1</td>\n      <td>VIC1</td>\n      <td>2024-03-16 20:25:00</td>\n      <td>5279</td>\n      <td>0</td>\n      <td>0</td>\n      <td>2024-03-16 20:30:02</td>\n    </tr>\n    <tr>\n      <th>25331759</th>\n      <td>D</td>\n      <td>OPERATIONAL_DEMAND</td>\n      <td>ACTUAL5M</td>\n      <td>1</td>\n      <td>VIC1</td>\n      <td>2024-03-16 20:30:00</td>\n      <td>5247</td>\n      <td>0</td>\n      <td>0</td>\n      <td>2024-03-16 20:30:02</td>\n    </tr>\n  </tbody>\n</table>\n</div>"
     },
     "execution_count": 161,
     "metadata": {},
     "output_type": "execute_result"
    }
   ],
   "source": [
    "df3.tail()"
   ],
   "metadata": {
    "collapsed": false,
    "ExecuteTime": {
     "end_time": "2024-03-21T13:40:24.484012Z",
     "start_time": "2024-03-21T13:40:24.401951Z"
    }
   },
   "id": "f1ccba4173426ecb",
   "execution_count": 161
  },
  {
   "cell_type": "code",
   "outputs": [
    {
     "name": "stdout",
     "output_type": "stream",
     "text": [
      "<class 'pandas.core.frame.DataFrame'>\n",
      "RangeIndex: 25331760 entries, 0 to 25331759\n",
      "Data columns (total 10 columns):\n",
      " #   Column                         Dtype         \n",
      "---  ------                         -----         \n",
      " 0   I                              object        \n",
      " 1   OPERATIONAL_DEMAND             object        \n",
      " 2   ACTUAL5M                       object        \n",
      " 3   1                              int64         \n",
      " 4   REGIONID                       object        \n",
      " 5   INTERVAL_DATETIME              datetime64[ns]\n",
      " 6   OPERATIONAL_DEMAND.1           int64         \n",
      " 7   OPERATIONAL_DEMAND_ADJUSTMENT  int64         \n",
      " 8   WDR_ESTIMATE                   int64         \n",
      " 9   LASTCHANGED                    datetime64[ns]\n",
      "dtypes: datetime64[ns](2), int64(4), object(4)\n",
      "memory usage: 1.9+ GB\n"
     ]
    }
   ],
   "source": [
    "df3.info()"
   ],
   "metadata": {
    "collapsed": false,
    "ExecuteTime": {
     "end_time": "2024-03-21T13:40:24.495220Z",
     "start_time": "2024-03-21T13:40:24.484885Z"
    }
   },
   "id": "7f3f053eec222517",
   "execution_count": 162
  },
  {
   "cell_type": "code",
   "outputs": [
    {
     "data": {
      "text/plain": "                1              INTERVAL_DATETIME  OPERATIONAL_DEMAND.1  \\\ncount  25331760.0                       25331760          2.533176e+07   \nmean          1.0  2023-09-16 02:24:55.135422720          4.222741e+03   \nmin           1.0            2023-03-16 00:05:00         -2.600000e+01   \n25%           1.0            2023-06-16 11:30:00          1.294000e+03   \n50%           1.0            2023-09-16 02:25:00          4.588000e+03   \n75%           1.0            2023-12-16 17:20:00          6.458000e+03   \nmax           1.0            2024-03-17 20:00:00          1.364300e+04   \nstd           0.0                            NaN          2.756310e+03   \n\n       OPERATIONAL_DEMAND_ADJUSTMENT  WDR_ESTIMATE  \\\ncount                     25331760.0  2.533176e+07   \nmean                             0.0  5.305277e-03   \nmin                              0.0  0.000000e+00   \n25%                              0.0  0.000000e+00   \n50%                              0.0  0.000000e+00   \n75%                              0.0  0.000000e+00   \nmax                              0.0  2.100000e+01   \nstd                              0.0  2.150852e-01   \n\n                         LASTCHANGED  \ncount                       25331760  \nmean   2023-09-16 02:37:26.451251456  \nmin              2023-03-16 00:30:01  \n25%              2023-06-16 11:30:03  \n50%              2023-09-16 02:30:01  \n75%              2023-12-16 17:30:01  \nmax              2024-03-17 20:00:01  \nstd                              NaN  ",
      "text/html": "<div>\n<style scoped>\n    .dataframe tbody tr th:only-of-type {\n        vertical-align: middle;\n    }\n\n    .dataframe tbody tr th {\n        vertical-align: top;\n    }\n\n    .dataframe thead th {\n        text-align: right;\n    }\n</style>\n<table border=\"1\" class=\"dataframe\">\n  <thead>\n    <tr style=\"text-align: right;\">\n      <th></th>\n      <th>1</th>\n      <th>INTERVAL_DATETIME</th>\n      <th>OPERATIONAL_DEMAND.1</th>\n      <th>OPERATIONAL_DEMAND_ADJUSTMENT</th>\n      <th>WDR_ESTIMATE</th>\n      <th>LASTCHANGED</th>\n    </tr>\n  </thead>\n  <tbody>\n    <tr>\n      <th>count</th>\n      <td>25331760.0</td>\n      <td>25331760</td>\n      <td>2.533176e+07</td>\n      <td>25331760.0</td>\n      <td>2.533176e+07</td>\n      <td>25331760</td>\n    </tr>\n    <tr>\n      <th>mean</th>\n      <td>1.0</td>\n      <td>2023-09-16 02:24:55.135422720</td>\n      <td>4.222741e+03</td>\n      <td>0.0</td>\n      <td>5.305277e-03</td>\n      <td>2023-09-16 02:37:26.451251456</td>\n    </tr>\n    <tr>\n      <th>min</th>\n      <td>1.0</td>\n      <td>2023-03-16 00:05:00</td>\n      <td>-2.600000e+01</td>\n      <td>0.0</td>\n      <td>0.000000e+00</td>\n      <td>2023-03-16 00:30:01</td>\n    </tr>\n    <tr>\n      <th>25%</th>\n      <td>1.0</td>\n      <td>2023-06-16 11:30:00</td>\n      <td>1.294000e+03</td>\n      <td>0.0</td>\n      <td>0.000000e+00</td>\n      <td>2023-06-16 11:30:03</td>\n    </tr>\n    <tr>\n      <th>50%</th>\n      <td>1.0</td>\n      <td>2023-09-16 02:25:00</td>\n      <td>4.588000e+03</td>\n      <td>0.0</td>\n      <td>0.000000e+00</td>\n      <td>2023-09-16 02:30:01</td>\n    </tr>\n    <tr>\n      <th>75%</th>\n      <td>1.0</td>\n      <td>2023-12-16 17:20:00</td>\n      <td>6.458000e+03</td>\n      <td>0.0</td>\n      <td>0.000000e+00</td>\n      <td>2023-12-16 17:30:01</td>\n    </tr>\n    <tr>\n      <th>max</th>\n      <td>1.0</td>\n      <td>2024-03-17 20:00:00</td>\n      <td>1.364300e+04</td>\n      <td>0.0</td>\n      <td>2.100000e+01</td>\n      <td>2024-03-17 20:00:01</td>\n    </tr>\n    <tr>\n      <th>std</th>\n      <td>0.0</td>\n      <td>NaN</td>\n      <td>2.756310e+03</td>\n      <td>0.0</td>\n      <td>2.150852e-01</td>\n      <td>NaN</td>\n    </tr>\n  </tbody>\n</table>\n</div>"
     },
     "execution_count": 163,
     "metadata": {},
     "output_type": "execute_result"
    }
   ],
   "source": [
    "df3.describe()"
   ],
   "metadata": {
    "collapsed": false,
    "ExecuteTime": {
     "end_time": "2024-03-21T13:40:25.895339Z",
     "start_time": "2024-03-21T13:40:24.495758Z"
    }
   },
   "id": "254df0d6cfb160bd",
   "execution_count": 163
  },
  {
   "cell_type": "code",
   "outputs": [
    {
     "data": {
      "text/plain": "(25331760, 10)"
     },
     "execution_count": 164,
     "metadata": {},
     "output_type": "execute_result"
    }
   ],
   "source": [
    "df3.shape"
   ],
   "metadata": {
    "collapsed": false,
    "ExecuteTime": {
     "end_time": "2024-03-21T13:40:25.897962Z",
     "start_time": "2024-03-21T13:40:25.895951Z"
    }
   },
   "id": "ab4c7312ece16ddb",
   "execution_count": 164
  },
  {
   "cell_type": "code",
   "outputs": [
    {
     "data": {
      "text/plain": "I                                0\nOPERATIONAL_DEMAND               0\nACTUAL5M                         0\n1                                0\nREGIONID                         0\nINTERVAL_DATETIME                0\nOPERATIONAL_DEMAND.1             0\nOPERATIONAL_DEMAND_ADJUSTMENT    0\nWDR_ESTIMATE                     0\nLASTCHANGED                      0\ndtype: int64"
     },
     "execution_count": 165,
     "metadata": {},
     "output_type": "execute_result"
    }
   ],
   "source": [
    "df3.isnull().sum()"
   ],
   "metadata": {
    "collapsed": false,
    "ExecuteTime": {
     "end_time": "2024-03-21T13:40:28.093830Z",
     "start_time": "2024-03-21T13:40:25.898472Z"
    }
   },
   "id": "3a697c47a36fac1b",
   "execution_count": 165
  },
  {
   "cell_type": "code",
   "outputs": [
    {
     "data": {
      "text/plain": "I                                0\nOPERATIONAL_DEMAND               0\nACTUAL5M                         0\n1                                0\nREGIONID                         0\nINTERVAL_DATETIME                0\nOPERATIONAL_DEMAND.1             0\nOPERATIONAL_DEMAND_ADJUSTMENT    0\nWDR_ESTIMATE                     0\nLASTCHANGED                      0\ndtype: int64"
     },
     "execution_count": 166,
     "metadata": {},
     "output_type": "execute_result"
    }
   ],
   "source": [
    "df3.isna().sum()"
   ],
   "metadata": {
    "collapsed": false,
    "ExecuteTime": {
     "end_time": "2024-03-21T13:40:30.141115Z",
     "start_time": "2024-03-21T13:40:28.094376Z"
    }
   },
   "id": "341c7b37850e6ff9",
   "execution_count": 166
  },
  {
   "cell_type": "markdown",
   "source": [
    "# 4"
   ],
   "metadata": {
    "collapsed": false
   },
   "id": "7def59034c1bb7b4"
  },
  {
   "cell_type": "code",
   "outputs": [],
   "source": [
    "df4 = pd.read_csv(\n",
    "    os.path.join(data_path, 'public_prices_consolidated.csv'), \n",
    "    parse_dates=['SETTLEMENTDATE']\n",
    ")"
   ],
   "metadata": {
    "collapsed": false,
    "ExecuteTime": {
     "end_time": "2024-03-21T13:40:32.364342Z",
     "start_time": "2024-03-21T13:40:30.141696Z"
    }
   },
   "id": "918482740ad78951",
   "execution_count": 167
  },
  {
   "cell_type": "code",
   "outputs": [
    {
     "data": {
      "text/plain": "   I  DREGION  Unnamed: 2  2      SETTLEMENTDATE  RUNNO REGIONID  \\\n0  D  DREGION         NaN  2 2024-01-23 04:05:00      1     NSW1   \n1  D  DREGION         NaN  2 2024-01-23 04:05:00      1     QLD1   \n2  D  DREGION         NaN  2 2024-01-23 04:05:00      1      SA1   \n3  D  DREGION         NaN  2 2024-01-23 04:05:00      1     TAS1   \n4  D  DREGION         NaN  2 2024-01-23 04:05:00      1     VIC1   \n\n   INTERVENTION       RRP  EEP  ...  LOWER6SECAPCFLAG  LOWER60SECRRP  \\\n0             0  41.81844    0  ...                 0           0.45   \n1             0  62.73000    0  ...                 0           0.45   \n2             0  34.16184    0  ...                 0           0.45   \n3             0  53.71593    0  ...                 0           0.45   \n4             0  34.94000    0  ...                 0           0.45   \n\n   LOWER60SECROP  LOWER60SECAPCFLAG  LOWER5MINRRP  LOWER5MINROP  \\\n0           0.45                  0           0.0           0.0   \n1           0.45                  0           0.0           0.0   \n2           0.45                  0           0.0           0.0   \n3           0.45                  0           0.0           0.0   \n4           0.45                  0           0.0           0.0   \n\n   LOWER5MINAPCFLAG  LOWERREGRRP  LOWERREGROP  LOWERREGAPCFLAG  \n0                 0         3.76         3.76                0  \n1                 0         3.76         3.76                0  \n2                 0         3.76         3.76                0  \n3                 0         2.65         2.65                0  \n4                 0         3.76         3.76                0  \n\n[5 rows x 120 columns]",
      "text/html": "<div>\n<style scoped>\n    .dataframe tbody tr th:only-of-type {\n        vertical-align: middle;\n    }\n\n    .dataframe tbody tr th {\n        vertical-align: top;\n    }\n\n    .dataframe thead th {\n        text-align: right;\n    }\n</style>\n<table border=\"1\" class=\"dataframe\">\n  <thead>\n    <tr style=\"text-align: right;\">\n      <th></th>\n      <th>I</th>\n      <th>DREGION</th>\n      <th>Unnamed: 2</th>\n      <th>2</th>\n      <th>SETTLEMENTDATE</th>\n      <th>RUNNO</th>\n      <th>REGIONID</th>\n      <th>INTERVENTION</th>\n      <th>RRP</th>\n      <th>EEP</th>\n      <th>...</th>\n      <th>LOWER6SECAPCFLAG</th>\n      <th>LOWER60SECRRP</th>\n      <th>LOWER60SECROP</th>\n      <th>LOWER60SECAPCFLAG</th>\n      <th>LOWER5MINRRP</th>\n      <th>LOWER5MINROP</th>\n      <th>LOWER5MINAPCFLAG</th>\n      <th>LOWERREGRRP</th>\n      <th>LOWERREGROP</th>\n      <th>LOWERREGAPCFLAG</th>\n    </tr>\n  </thead>\n  <tbody>\n    <tr>\n      <th>0</th>\n      <td>D</td>\n      <td>DREGION</td>\n      <td>NaN</td>\n      <td>2</td>\n      <td>2024-01-23 04:05:00</td>\n      <td>1</td>\n      <td>NSW1</td>\n      <td>0</td>\n      <td>41.81844</td>\n      <td>0</td>\n      <td>...</td>\n      <td>0</td>\n      <td>0.45</td>\n      <td>0.45</td>\n      <td>0</td>\n      <td>0.0</td>\n      <td>0.0</td>\n      <td>0</td>\n      <td>3.76</td>\n      <td>3.76</td>\n      <td>0</td>\n    </tr>\n    <tr>\n      <th>1</th>\n      <td>D</td>\n      <td>DREGION</td>\n      <td>NaN</td>\n      <td>2</td>\n      <td>2024-01-23 04:05:00</td>\n      <td>1</td>\n      <td>QLD1</td>\n      <td>0</td>\n      <td>62.73000</td>\n      <td>0</td>\n      <td>...</td>\n      <td>0</td>\n      <td>0.45</td>\n      <td>0.45</td>\n      <td>0</td>\n      <td>0.0</td>\n      <td>0.0</td>\n      <td>0</td>\n      <td>3.76</td>\n      <td>3.76</td>\n      <td>0</td>\n    </tr>\n    <tr>\n      <th>2</th>\n      <td>D</td>\n      <td>DREGION</td>\n      <td>NaN</td>\n      <td>2</td>\n      <td>2024-01-23 04:05:00</td>\n      <td>1</td>\n      <td>SA1</td>\n      <td>0</td>\n      <td>34.16184</td>\n      <td>0</td>\n      <td>...</td>\n      <td>0</td>\n      <td>0.45</td>\n      <td>0.45</td>\n      <td>0</td>\n      <td>0.0</td>\n      <td>0.0</td>\n      <td>0</td>\n      <td>3.76</td>\n      <td>3.76</td>\n      <td>0</td>\n    </tr>\n    <tr>\n      <th>3</th>\n      <td>D</td>\n      <td>DREGION</td>\n      <td>NaN</td>\n      <td>2</td>\n      <td>2024-01-23 04:05:00</td>\n      <td>1</td>\n      <td>TAS1</td>\n      <td>0</td>\n      <td>53.71593</td>\n      <td>0</td>\n      <td>...</td>\n      <td>0</td>\n      <td>0.45</td>\n      <td>0.45</td>\n      <td>0</td>\n      <td>0.0</td>\n      <td>0.0</td>\n      <td>0</td>\n      <td>2.65</td>\n      <td>2.65</td>\n      <td>0</td>\n    </tr>\n    <tr>\n      <th>4</th>\n      <td>D</td>\n      <td>DREGION</td>\n      <td>NaN</td>\n      <td>2</td>\n      <td>2024-01-23 04:05:00</td>\n      <td>1</td>\n      <td>VIC1</td>\n      <td>0</td>\n      <td>34.94000</td>\n      <td>0</td>\n      <td>...</td>\n      <td>0</td>\n      <td>0.45</td>\n      <td>0.45</td>\n      <td>0</td>\n      <td>0.0</td>\n      <td>0.0</td>\n      <td>0</td>\n      <td>3.76</td>\n      <td>3.76</td>\n      <td>0</td>\n    </tr>\n  </tbody>\n</table>\n<p>5 rows × 120 columns</p>\n</div>"
     },
     "execution_count": 168,
     "metadata": {},
     "output_type": "execute_result"
    }
   ],
   "source": [
    "df4.head()"
   ],
   "metadata": {
    "collapsed": false,
    "ExecuteTime": {
     "end_time": "2024-03-21T13:40:32.373409Z",
     "start_time": "2024-03-21T13:40:32.364978Z"
    }
   },
   "id": "dd18f7148187136d",
   "execution_count": 168
  },
  {
   "cell_type": "code",
   "outputs": [
    {
     "data": {
      "text/plain": "        I  DREGION  Unnamed: 2  2      SETTLEMENTDATE  RUNNO REGIONID  \\\n633745  D  DREGION         NaN  2 2024-02-26 04:00:00      1     NSW1   \n633746  D  DREGION         NaN  2 2024-02-26 04:00:00      1     QLD1   \n633747  D  DREGION         NaN  2 2024-02-26 04:00:00      1      SA1   \n633748  D  DREGION         NaN  2 2024-02-26 04:00:00      1     TAS1   \n633749  D  DREGION         NaN  2 2024-02-26 04:00:00      1     VIC1   \n\n        INTERVENTION       RRP  EEP  ...  LOWER6SECAPCFLAG  LOWER60SECRRP  \\\n633745             0  68.00000    0  ...                 0           0.39   \n633746             0  70.92975    0  ...                 0           0.39   \n633747             0  50.43366    0  ...                 0           0.39   \n633748             0  68.21000    0  ...                 0           0.39   \n633749             0  35.95003    0  ...                 0           0.39   \n\n        LOWER60SECROP  LOWER60SECAPCFLAG  LOWER5MINRRP  LOWER5MINROP  \\\n633745           0.39                  0           0.0           0.0   \n633746           0.39                  0           0.0           0.0   \n633747           0.39                  0           0.0           0.0   \n633748           0.39                  0           0.0           0.0   \n633749           0.39                  0           0.0           0.0   \n\n        LOWER5MINAPCFLAG  LOWERREGRRP  LOWERREGROP  LOWERREGAPCFLAG  \n633745                 0         3.75         3.75                0  \n633746                 0         3.75         3.75                0  \n633747                 0         3.75         3.75                0  \n633748                 0         3.70         3.70                0  \n633749                 0         3.75         3.75                0  \n\n[5 rows x 120 columns]",
      "text/html": "<div>\n<style scoped>\n    .dataframe tbody tr th:only-of-type {\n        vertical-align: middle;\n    }\n\n    .dataframe tbody tr th {\n        vertical-align: top;\n    }\n\n    .dataframe thead th {\n        text-align: right;\n    }\n</style>\n<table border=\"1\" class=\"dataframe\">\n  <thead>\n    <tr style=\"text-align: right;\">\n      <th></th>\n      <th>I</th>\n      <th>DREGION</th>\n      <th>Unnamed: 2</th>\n      <th>2</th>\n      <th>SETTLEMENTDATE</th>\n      <th>RUNNO</th>\n      <th>REGIONID</th>\n      <th>INTERVENTION</th>\n      <th>RRP</th>\n      <th>EEP</th>\n      <th>...</th>\n      <th>LOWER6SECAPCFLAG</th>\n      <th>LOWER60SECRRP</th>\n      <th>LOWER60SECROP</th>\n      <th>LOWER60SECAPCFLAG</th>\n      <th>LOWER5MINRRP</th>\n      <th>LOWER5MINROP</th>\n      <th>LOWER5MINAPCFLAG</th>\n      <th>LOWERREGRRP</th>\n      <th>LOWERREGROP</th>\n      <th>LOWERREGAPCFLAG</th>\n    </tr>\n  </thead>\n  <tbody>\n    <tr>\n      <th>633745</th>\n      <td>D</td>\n      <td>DREGION</td>\n      <td>NaN</td>\n      <td>2</td>\n      <td>2024-02-26 04:00:00</td>\n      <td>1</td>\n      <td>NSW1</td>\n      <td>0</td>\n      <td>68.00000</td>\n      <td>0</td>\n      <td>...</td>\n      <td>0</td>\n      <td>0.39</td>\n      <td>0.39</td>\n      <td>0</td>\n      <td>0.0</td>\n      <td>0.0</td>\n      <td>0</td>\n      <td>3.75</td>\n      <td>3.75</td>\n      <td>0</td>\n    </tr>\n    <tr>\n      <th>633746</th>\n      <td>D</td>\n      <td>DREGION</td>\n      <td>NaN</td>\n      <td>2</td>\n      <td>2024-02-26 04:00:00</td>\n      <td>1</td>\n      <td>QLD1</td>\n      <td>0</td>\n      <td>70.92975</td>\n      <td>0</td>\n      <td>...</td>\n      <td>0</td>\n      <td>0.39</td>\n      <td>0.39</td>\n      <td>0</td>\n      <td>0.0</td>\n      <td>0.0</td>\n      <td>0</td>\n      <td>3.75</td>\n      <td>3.75</td>\n      <td>0</td>\n    </tr>\n    <tr>\n      <th>633747</th>\n      <td>D</td>\n      <td>DREGION</td>\n      <td>NaN</td>\n      <td>2</td>\n      <td>2024-02-26 04:00:00</td>\n      <td>1</td>\n      <td>SA1</td>\n      <td>0</td>\n      <td>50.43366</td>\n      <td>0</td>\n      <td>...</td>\n      <td>0</td>\n      <td>0.39</td>\n      <td>0.39</td>\n      <td>0</td>\n      <td>0.0</td>\n      <td>0.0</td>\n      <td>0</td>\n      <td>3.75</td>\n      <td>3.75</td>\n      <td>0</td>\n    </tr>\n    <tr>\n      <th>633748</th>\n      <td>D</td>\n      <td>DREGION</td>\n      <td>NaN</td>\n      <td>2</td>\n      <td>2024-02-26 04:00:00</td>\n      <td>1</td>\n      <td>TAS1</td>\n      <td>0</td>\n      <td>68.21000</td>\n      <td>0</td>\n      <td>...</td>\n      <td>0</td>\n      <td>0.39</td>\n      <td>0.39</td>\n      <td>0</td>\n      <td>0.0</td>\n      <td>0.0</td>\n      <td>0</td>\n      <td>3.70</td>\n      <td>3.70</td>\n      <td>0</td>\n    </tr>\n    <tr>\n      <th>633749</th>\n      <td>D</td>\n      <td>DREGION</td>\n      <td>NaN</td>\n      <td>2</td>\n      <td>2024-02-26 04:00:00</td>\n      <td>1</td>\n      <td>VIC1</td>\n      <td>0</td>\n      <td>35.95003</td>\n      <td>0</td>\n      <td>...</td>\n      <td>0</td>\n      <td>0.39</td>\n      <td>0.39</td>\n      <td>0</td>\n      <td>0.0</td>\n      <td>0.0</td>\n      <td>0</td>\n      <td>3.75</td>\n      <td>3.75</td>\n      <td>0</td>\n    </tr>\n  </tbody>\n</table>\n<p>5 rows × 120 columns</p>\n</div>"
     },
     "execution_count": 169,
     "metadata": {},
     "output_type": "execute_result"
    }
   ],
   "source": [
    "df4.tail()"
   ],
   "metadata": {
    "collapsed": false,
    "ExecuteTime": {
     "end_time": "2024-03-21T13:40:32.461366Z",
     "start_time": "2024-03-21T13:40:32.373906Z"
    }
   },
   "id": "901d5c165be1a750",
   "execution_count": 169
  },
  {
   "cell_type": "code",
   "outputs": [
    {
     "data": {
      "text/plain": "I                           object\nDREGION                     object\nUnnamed: 2                 float64\n2                            int64\nSETTLEMENTDATE      datetime64[ns]\n                         ...      \nLOWER5MINROP               float64\nLOWER5MINAPCFLAG             int64\nLOWERREGRRP                float64\nLOWERREGROP                float64\nLOWERREGAPCFLAG              int64\nLength: 120, dtype: object"
     },
     "execution_count": 170,
     "metadata": {},
     "output_type": "execute_result"
    }
   ],
   "source": [
    "df4.dtypes"
   ],
   "metadata": {
    "collapsed": false,
    "ExecuteTime": {
     "end_time": "2024-03-21T13:40:32.472159Z",
     "start_time": "2024-03-21T13:40:32.461849Z"
    }
   },
   "id": "1f784d63c64af7fa",
   "execution_count": 170
  },
  {
   "cell_type": "code",
   "outputs": [
    {
     "data": {
      "text/plain": "(633750, 120)"
     },
     "execution_count": 171,
     "metadata": {},
     "output_type": "execute_result"
    }
   ],
   "source": [
    "df4.shape"
   ],
   "metadata": {
    "collapsed": false,
    "ExecuteTime": {
     "end_time": "2024-03-21T13:40:32.482103Z",
     "start_time": "2024-03-21T13:40:32.472672Z"
    }
   },
   "id": "ccdeac53d0b61538",
   "execution_count": 171
  },
  {
   "cell_type": "code",
   "outputs": [
    {
     "name": "stdout",
     "output_type": "stream",
     "text": [
      "<class 'pandas.core.frame.DataFrame'>\n",
      "RangeIndex: 633750 entries, 0 to 633749\n",
      "Columns: 120 entries, I to LOWERREGAPCFLAG\n",
      "dtypes: datetime64[ns](1), float64(101), int64(15), object(3)\n",
      "memory usage: 580.2+ MB\n"
     ]
    }
   ],
   "source": [
    "df4.info()"
   ],
   "metadata": {
    "collapsed": false,
    "ExecuteTime": {
     "end_time": "2024-03-21T13:40:32.497317Z",
     "start_time": "2024-03-21T13:40:32.482527Z"
    }
   },
   "id": "6a03aae6135ee80c",
   "execution_count": 172
  },
  {
   "cell_type": "code",
   "outputs": [
    {
     "data": {
      "text/plain": "       Unnamed: 2         2                 SETTLEMENTDATE     RUNNO  \\\ncount         0.0  633750.0                         633750  633750.0   \nmean          NaN       2.0  2023-08-09 23:19:24.347929344       1.0   \nmin           NaN       2.0            2023-01-01 04:05:00       1.0   \n25%           NaN       2.0            2023-04-22 02:10:00       1.0   \n50%           NaN       2.0            2023-08-10 02:47:30       1.0   \n75%           NaN       2.0            2023-11-28 03:25:00       1.0   \nmax           NaN       2.0            2024-03-17 04:00:00       1.0   \nstd           NaN       0.0                            NaN       0.0   \n\n        INTERVENTION            RRP       EEP           ROP        APCFLAG  \\\ncount  633750.000000  633750.000000  633750.0  6.337500e+05  633750.000000   \nmean        0.000237      76.137472       0.0  9.643399e+01       0.005901   \nmin         0.000000    -999.999470       0.0 -9.999995e+02       0.000000   \n25%         0.000000      19.120000       0.0  1.912000e+01       0.000000   \n50%         0.000000      62.611005       0.0  6.261016e+01       0.000000   \n75%         0.000000     100.020000       0.0  1.000200e+02       0.000000   \nmax         1.000000   16600.000000       0.0  2.325000e+06      20.000000   \nstd         0.015383     330.481367       0.0  4.183949e+03       0.297604   \n\n       MARKETSUSPENDEDFLAG  ...  LOWER6SECAPCFLAG  LOWER60SECRRP  \\\ncount        633750.000000  ...     633750.000000  633750.000000   \nmean              0.000732  ...          0.000013       3.615498   \nmin               0.000000  ...          0.000000       0.000000   \n25%               0.000000  ...          0.000000       0.380000   \n50%               0.000000  ...          0.000000       0.390000   \n75%               0.000000  ...          0.000000       1.400000   \nmax               2.000000  ...          4.000000   16600.000000   \nstd               0.035030  ...          0.007106      59.854095   \n\n       LOWER60SECROP  LOWER60SECAPCFLAG   LOWER5MINRRP   LOWER5MINROP  \\\ncount  633750.000000           633750.0  633750.000000  633750.000000   \nmean        3.615225                0.0       1.655954       1.655891   \nmin         0.000000                0.0       0.000000       0.000000   \n25%         0.380000                0.0       0.150000       0.150000   \n50%         0.390000                0.0       0.390000       0.390000   \n75%         1.400000                0.0       0.410000       0.410000   \nmax     16600.000000                0.0     999.000000     999.000000   \nstd        59.854106                0.0       5.647249       5.647262   \n\n       LOWER5MINAPCFLAG    LOWERREGRRP    LOWERREGROP  LOWERREGAPCFLAG  \ncount          633750.0  633750.000000  633750.000000    633750.000000  \nmean                0.0       8.262021       8.497738         0.000006  \nmin                 0.0       0.000000       0.000000         0.000000  \n25%                 0.0       3.610000       3.610000         0.000000  \n50%                 0.0       3.990000       3.990000         0.000000  \n75%                 0.0       7.120000       7.120000         0.000000  \nmax                 0.0   16600.000000  166009.880000         4.000000  \nstd                 0.0      27.012011     209.229543         0.005025  \n\n[8 rows x 117 columns]",
      "text/html": "<div>\n<style scoped>\n    .dataframe tbody tr th:only-of-type {\n        vertical-align: middle;\n    }\n\n    .dataframe tbody tr th {\n        vertical-align: top;\n    }\n\n    .dataframe thead th {\n        text-align: right;\n    }\n</style>\n<table border=\"1\" class=\"dataframe\">\n  <thead>\n    <tr style=\"text-align: right;\">\n      <th></th>\n      <th>Unnamed: 2</th>\n      <th>2</th>\n      <th>SETTLEMENTDATE</th>\n      <th>RUNNO</th>\n      <th>INTERVENTION</th>\n      <th>RRP</th>\n      <th>EEP</th>\n      <th>ROP</th>\n      <th>APCFLAG</th>\n      <th>MARKETSUSPENDEDFLAG</th>\n      <th>...</th>\n      <th>LOWER6SECAPCFLAG</th>\n      <th>LOWER60SECRRP</th>\n      <th>LOWER60SECROP</th>\n      <th>LOWER60SECAPCFLAG</th>\n      <th>LOWER5MINRRP</th>\n      <th>LOWER5MINROP</th>\n      <th>LOWER5MINAPCFLAG</th>\n      <th>LOWERREGRRP</th>\n      <th>LOWERREGROP</th>\n      <th>LOWERREGAPCFLAG</th>\n    </tr>\n  </thead>\n  <tbody>\n    <tr>\n      <th>count</th>\n      <td>0.0</td>\n      <td>633750.0</td>\n      <td>633750</td>\n      <td>633750.0</td>\n      <td>633750.000000</td>\n      <td>633750.000000</td>\n      <td>633750.0</td>\n      <td>6.337500e+05</td>\n      <td>633750.000000</td>\n      <td>633750.000000</td>\n      <td>...</td>\n      <td>633750.000000</td>\n      <td>633750.000000</td>\n      <td>633750.000000</td>\n      <td>633750.0</td>\n      <td>633750.000000</td>\n      <td>633750.000000</td>\n      <td>633750.0</td>\n      <td>633750.000000</td>\n      <td>633750.000000</td>\n      <td>633750.000000</td>\n    </tr>\n    <tr>\n      <th>mean</th>\n      <td>NaN</td>\n      <td>2.0</td>\n      <td>2023-08-09 23:19:24.347929344</td>\n      <td>1.0</td>\n      <td>0.000237</td>\n      <td>76.137472</td>\n      <td>0.0</td>\n      <td>9.643399e+01</td>\n      <td>0.005901</td>\n      <td>0.000732</td>\n      <td>...</td>\n      <td>0.000013</td>\n      <td>3.615498</td>\n      <td>3.615225</td>\n      <td>0.0</td>\n      <td>1.655954</td>\n      <td>1.655891</td>\n      <td>0.0</td>\n      <td>8.262021</td>\n      <td>8.497738</td>\n      <td>0.000006</td>\n    </tr>\n    <tr>\n      <th>min</th>\n      <td>NaN</td>\n      <td>2.0</td>\n      <td>2023-01-01 04:05:00</td>\n      <td>1.0</td>\n      <td>0.000000</td>\n      <td>-999.999470</td>\n      <td>0.0</td>\n      <td>-9.999995e+02</td>\n      <td>0.000000</td>\n      <td>0.000000</td>\n      <td>...</td>\n      <td>0.000000</td>\n      <td>0.000000</td>\n      <td>0.000000</td>\n      <td>0.0</td>\n      <td>0.000000</td>\n      <td>0.000000</td>\n      <td>0.0</td>\n      <td>0.000000</td>\n      <td>0.000000</td>\n      <td>0.000000</td>\n    </tr>\n    <tr>\n      <th>25%</th>\n      <td>NaN</td>\n      <td>2.0</td>\n      <td>2023-04-22 02:10:00</td>\n      <td>1.0</td>\n      <td>0.000000</td>\n      <td>19.120000</td>\n      <td>0.0</td>\n      <td>1.912000e+01</td>\n      <td>0.000000</td>\n      <td>0.000000</td>\n      <td>...</td>\n      <td>0.000000</td>\n      <td>0.380000</td>\n      <td>0.380000</td>\n      <td>0.0</td>\n      <td>0.150000</td>\n      <td>0.150000</td>\n      <td>0.0</td>\n      <td>3.610000</td>\n      <td>3.610000</td>\n      <td>0.000000</td>\n    </tr>\n    <tr>\n      <th>50%</th>\n      <td>NaN</td>\n      <td>2.0</td>\n      <td>2023-08-10 02:47:30</td>\n      <td>1.0</td>\n      <td>0.000000</td>\n      <td>62.611005</td>\n      <td>0.0</td>\n      <td>6.261016e+01</td>\n      <td>0.000000</td>\n      <td>0.000000</td>\n      <td>...</td>\n      <td>0.000000</td>\n      <td>0.390000</td>\n      <td>0.390000</td>\n      <td>0.0</td>\n      <td>0.390000</td>\n      <td>0.390000</td>\n      <td>0.0</td>\n      <td>3.990000</td>\n      <td>3.990000</td>\n      <td>0.000000</td>\n    </tr>\n    <tr>\n      <th>75%</th>\n      <td>NaN</td>\n      <td>2.0</td>\n      <td>2023-11-28 03:25:00</td>\n      <td>1.0</td>\n      <td>0.000000</td>\n      <td>100.020000</td>\n      <td>0.0</td>\n      <td>1.000200e+02</td>\n      <td>0.000000</td>\n      <td>0.000000</td>\n      <td>...</td>\n      <td>0.000000</td>\n      <td>1.400000</td>\n      <td>1.400000</td>\n      <td>0.0</td>\n      <td>0.410000</td>\n      <td>0.410000</td>\n      <td>0.0</td>\n      <td>7.120000</td>\n      <td>7.120000</td>\n      <td>0.000000</td>\n    </tr>\n    <tr>\n      <th>max</th>\n      <td>NaN</td>\n      <td>2.0</td>\n      <td>2024-03-17 04:00:00</td>\n      <td>1.0</td>\n      <td>1.000000</td>\n      <td>16600.000000</td>\n      <td>0.0</td>\n      <td>2.325000e+06</td>\n      <td>20.000000</td>\n      <td>2.000000</td>\n      <td>...</td>\n      <td>4.000000</td>\n      <td>16600.000000</td>\n      <td>16600.000000</td>\n      <td>0.0</td>\n      <td>999.000000</td>\n      <td>999.000000</td>\n      <td>0.0</td>\n      <td>16600.000000</td>\n      <td>166009.880000</td>\n      <td>4.000000</td>\n    </tr>\n    <tr>\n      <th>std</th>\n      <td>NaN</td>\n      <td>0.0</td>\n      <td>NaN</td>\n      <td>0.0</td>\n      <td>0.015383</td>\n      <td>330.481367</td>\n      <td>0.0</td>\n      <td>4.183949e+03</td>\n      <td>0.297604</td>\n      <td>0.035030</td>\n      <td>...</td>\n      <td>0.007106</td>\n      <td>59.854095</td>\n      <td>59.854106</td>\n      <td>0.0</td>\n      <td>5.647249</td>\n      <td>5.647262</td>\n      <td>0.0</td>\n      <td>27.012011</td>\n      <td>209.229543</td>\n      <td>0.005025</td>\n    </tr>\n  </tbody>\n</table>\n<p>8 rows × 117 columns</p>\n</div>"
     },
     "execution_count": 173,
     "metadata": {},
     "output_type": "execute_result"
    }
   ],
   "source": [
    "df4.describe()"
   ],
   "metadata": {
    "collapsed": false,
    "ExecuteTime": {
     "end_time": "2024-03-21T13:40:33.426427Z",
     "start_time": "2024-03-21T13:40:32.497955Z"
    }
   },
   "id": "d314539848416b3e",
   "execution_count": 173
  },
  {
   "cell_type": "code",
   "outputs": [
    {
     "data": {
      "text/plain": "I                        0\nDREGION                  0\nUnnamed: 2          633750\n2                        0\nSETTLEMENTDATE           0\n                     ...  \nLOWER5MINROP             0\nLOWER5MINAPCFLAG         0\nLOWERREGRRP              0\nLOWERREGROP              0\nLOWERREGAPCFLAG          0\nLength: 120, dtype: int64"
     },
     "execution_count": 174,
     "metadata": {},
     "output_type": "execute_result"
    }
   ],
   "source": [
    "df4.isnull().sum()"
   ],
   "metadata": {
    "collapsed": false,
    "ExecuteTime": {
     "end_time": "2024-03-21T13:40:33.502404Z",
     "start_time": "2024-03-21T13:40:33.426984Z"
    }
   },
   "id": "75c83355605bc285",
   "execution_count": 174
  },
  {
   "cell_type": "code",
   "outputs": [
    {
     "data": {
      "text/plain": "I                        0\nDREGION                  0\nUnnamed: 2          633750\n2                        0\nSETTLEMENTDATE           0\n                     ...  \nLOWER5MINROP             0\nLOWER5MINAPCFLAG         0\nLOWERREGRRP              0\nLOWERREGROP              0\nLOWERREGAPCFLAG          0\nLength: 120, dtype: int64"
     },
     "execution_count": 175,
     "metadata": {},
     "output_type": "execute_result"
    }
   ],
   "source": [
    "df4.isna().sum()"
   ],
   "metadata": {
    "collapsed": false,
    "ExecuteTime": {
     "end_time": "2024-03-21T13:40:33.583559Z",
     "start_time": "2024-03-21T13:40:33.502965Z"
    }
   },
   "id": "76f780292fe2c730",
   "execution_count": 175
  }
 ],
 "metadata": {
  "kernelspec": {
   "display_name": "Python 3",
   "language": "python",
   "name": "python3"
  },
  "language_info": {
   "codemirror_mode": {
    "name": "ipython",
    "version": 2
   },
   "file_extension": ".py",
   "mimetype": "text/x-python",
   "name": "python",
   "nbconvert_exporter": "python",
   "pygments_lexer": "ipython2",
   "version": "2.7.6"
  }
 },
 "nbformat": 4,
 "nbformat_minor": 5
}
