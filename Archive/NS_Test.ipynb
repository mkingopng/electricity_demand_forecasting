{
 "cells": [
  {
   "cell_type": "markdown",
   "id": "cea85179",
   "metadata": {},
   "source": [
    "# Things to do: \n",
    "- Lag Variable function updates\n",
    "- Plotting total demand by 30min and group by week day\n",
    "- Outlier handling: How we want to approach outliers found (Trimming, Capping, Discretization) \n",
    "- Plot demand vs season\n",
    "- CDD & HDD and what does it do?"
   ]
  },
  {
   "cell_type": "code",
   "source": [
    "import pandas as pd\n",
    "import os\n",
    "import numpy as np\n",
    "import seaborn as sns\n",
    "import matplotlib.pyplot as plt\n",
    "import warnings"
   ],
   "metadata": {
    "collapsed": false,
    "ExecuteTime": {
     "end_time": "2024-04-05T10:14:39.521053Z",
     "start_time": "2024-04-05T10:14:39.519118Z"
    }
   },
   "id": "b5bb5db3f4edff41",
   "execution_count": 147,
   "outputs": []
  },
  {
   "cell_type": "code",
   "execution_count": 148,
   "id": "ffc73291",
   "metadata": {
    "ExecuteTime": {
     "end_time": "2024-04-05T10:14:39.904464Z",
     "start_time": "2024-04-05T10:14:39.902576Z"
    }
   },
   "source": [
    "warnings.filterwarnings('ignore')"
   ],
   "outputs": []
  },
  {
   "cell_type": "code",
   "execution_count": 149,
   "id": "63d2d0b7",
   "metadata": {
    "ExecuteTime": {
     "end_time": "2024-04-05T10:14:39.988538Z",
     "start_time": "2024-04-05T10:14:39.948156Z"
    }
   },
   "source": [
    "# pd.options.display.max_columns = 50\n",
    "# pd.options.display.max_rows = 50\n",
    "# pd.options.display.width = 120\n",
    "# pd.options.display.float_format = '{:.2f}'.format"
   ],
   "outputs": []
  },
  {
   "cell_type": "markdown",
   "id": "707329d7",
   "metadata": {},
   "source": [
    "# Loading Data\n",
    "Loading data from the processed and combined csv file into the dataframe to commence preprocessing and cleansing."
   ]
  },
  {
   "cell_type": "code",
   "execution_count": 150,
   "id": "516bd525",
   "metadata": {
    "ExecuteTime": {
     "end_time": "2024-04-05T10:14:39.998708Z",
     "start_time": "2024-04-05T10:14:39.989366Z"
    }
   },
   "source": [
    "source_data = r'./../data/NSW/processed_data.csv'  \n",
    "# todo: this comes from my earlier stuff, need to add this work to that. no point in having 2 files"
   ],
   "outputs": []
  },
  {
   "cell_type": "code",
   "execution_count": 151,
   "id": "d88fa43c",
   "metadata": {
    "ExecuteTime": {
     "end_time": "2024-04-05T10:14:40.262785Z",
     "start_time": "2024-04-05T10:14:40.015200Z"
    }
   },
   "source": [
    "source_df = pd.read_csv(source_data).set_index('Unnamed: 0')\n",
    "source_df"
   ],
   "outputs": []
  },
  {
   "cell_type": "markdown",
   "id": "bccb9b78",
   "metadata": {},
   "source": [
    "Checking if there are any NA values that we need to take into considering or drop the columns completely since data has been smoothed."
   ]
  },
  {
   "cell_type": "code",
   "execution_count": 152,
   "id": "9b20cab6",
   "metadata": {
    "ExecuteTime": {
     "end_time": "2024-04-05T10:14:40.267862Z",
     "start_time": "2024-04-05T10:14:40.263499Z"
    }
   },
   "source": [
    "source_df.isna().sum()"
   ],
   "outputs": []
  },
  {
   "cell_type": "code",
   "execution_count": 153,
   "id": "741f3c15",
   "metadata": {
    "ExecuteTime": {
     "end_time": "2024-04-05T10:14:40.345628Z",
     "start_time": "2024-04-05T10:14:40.268352Z"
    }
   },
   "source": [
    "source_df.columns"
   ],
   "outputs": []
  },
  {
   "cell_type": "code",
   "execution_count": 154,
   "id": "c207feba",
   "metadata": {
    "ExecuteTime": {
     "end_time": "2024-04-05T10:14:40.349869Z",
     "start_time": "2024-04-05T10:14:40.346600Z"
    }
   },
   "source": [
    "source_df.dtypes"
   ],
   "outputs": []
  },
  {
   "cell_type": "code",
   "execution_count": 155,
   "id": "550b968a",
   "metadata": {
    "ExecuteTime": {
     "end_time": "2024-04-05T10:14:40.353101Z",
     "start_time": "2024-04-05T10:14:40.350352Z"
    }
   },
   "source": [
    "updated_df = source_df"
   ],
   "outputs": []
  },
  {
   "cell_type": "code",
   "execution_count": 156,
   "id": "6d1a86b9",
   "metadata": {
    "ExecuteTime": {
     "end_time": "2024-04-05T10:14:40.358454Z",
     "start_time": "2024-04-05T10:14:40.353637Z"
    }
   },
   "source": [
    "updated_df.index"
   ],
   "outputs": []
  },
  {
   "cell_type": "code",
   "execution_count": 157,
   "id": "1f3d8d82",
   "metadata": {
    "ExecuteTime": {
     "end_time": "2024-04-05T10:14:40.384918Z",
     "start_time": "2024-04-05T10:14:40.358913Z"
    }
   },
   "source": [
    "updated_df.index=pd.to_datetime(updated_df.index)"
   ],
   "outputs": []
  },
  {
   "cell_type": "code",
   "source": [
    "updated_df.isna().sum()"
   ],
   "metadata": {
    "collapsed": false,
    "ExecuteTime": {
     "end_time": "2024-04-05T10:56:13.640437Z",
     "start_time": "2024-04-05T10:56:13.635761Z"
    }
   },
   "id": "7bd7e205da9dad2c",
   "execution_count": 218,
   "outputs": []
  },
  {
   "cell_type": "markdown",
   "id": "86a2895c",
   "metadata": {},
   "source": [
    "Dropped Forecast_Daily and TotalDemand_daily - contained 33 N/A's."
   ]
  },
  {
   "cell_type": "code",
   "execution_count": 158,
   "id": "e498aaf1",
   "metadata": {
    "ExecuteTime": {
     "end_time": "2024-04-05T10:14:40.406657Z",
     "start_time": "2024-04-05T10:14:40.385498Z"
    }
   },
   "source": [
    "updated_df.drop(['FORECASTDEMAND_daily', 'TOTALDEMAND_daily'], axis=1, inplace=True)"
   ],
   "outputs": []
  },
  {
   "cell_type": "code",
   "execution_count": 159,
   "id": "05eb6023",
   "metadata": {
    "ExecuteTime": {
     "end_time": "2024-04-05T10:14:40.420041Z",
     "start_time": "2024-04-05T10:14:40.407172Z"
    }
   },
   "source": [
    "updated_df.isna().sum()"
   ],
   "outputs": []
  },
  {
   "cell_type": "code",
   "execution_count": 160,
   "id": "e5883a9d",
   "metadata": {
    "ExecuteTime": {
     "end_time": "2024-04-05T10:14:40.433890Z",
     "start_time": "2024-04-05T10:14:40.421002Z"
    }
   },
   "source": [
    "updated_df"
   ],
   "outputs": []
  },
  {
   "cell_type": "code",
   "execution_count": 161,
   "id": "5c4b0e33",
   "metadata": {
    "ExecuteTime": {
     "end_time": "2024-04-05T10:14:40.448774Z",
     "start_time": "2024-04-05T10:14:40.434390Z"
    }
   },
   "source": [
    "updated_df.head()"
   ],
   "outputs": []
  },
  {
   "cell_type": "markdown",
   "id": "007334d1",
   "metadata": {},
   "source": [
    "# Feature Engineering\n",
    "\n",
    "## DateTime Features\n",
    "The following section creates date time features."
   ]
  },
  {
   "cell_type": "code",
   "execution_count": 162,
   "id": "1cf9f423",
   "metadata": {
    "ExecuteTime": {
     "end_time": "2024-04-05T10:14:40.475853Z",
     "start_time": "2024-04-05T10:14:40.449321Z"
    }
   },
   "source": [
    "demand = updated_df.copy()\n",
    "demand = demand[['totaldemand']]\n",
    "demand.loc[:, 'dow'] = demand.index.dayofweek\n",
    "demand.loc[:, 'doy'] = demand.index.dayofyear\n",
    "demand.loc[:, 'year'] = demand.index.year\n",
    "demand.loc[:, 'month'] = demand.index.month\n",
    "demand.loc[:, 'quarter'] = demand.index.quarter\n",
    "demand.loc[:, 'hour'] = demand.index.hour\n"
   ],
   "outputs": []
  },
  {
   "cell_type": "code",
   "execution_count": 163,
   "id": "84355550",
   "metadata": {
    "ExecuteTime": {
     "end_time": "2024-04-05T10:14:40.480549Z",
     "start_time": "2024-04-05T10:14:40.476506Z"
    }
   },
   "source": [
    "demand.head()"
   ],
   "outputs": []
  },
  {
   "cell_type": "code",
   "execution_count": 164,
   "id": "560829b6",
   "metadata": {
    "ExecuteTime": {
     "end_time": "2024-04-05T10:14:40.529297Z",
     "start_time": "2024-04-05T10:14:40.523539Z"
    }
   },
   "source": [
    "demand.iloc[45: 60]"
   ],
   "outputs": []
  },
  {
   "cell_type": "markdown",
   "id": "18d01ca6",
   "metadata": {},
   "source": [
    "Merge to the updated_df"
   ]
  },
  {
   "cell_type": "code",
   "execution_count": 165,
   "id": "f6b0b5cc",
   "metadata": {
    "ExecuteTime": {
     "end_time": "2024-04-05T10:14:40.573318Z",
     "start_time": "2024-04-05T10:14:40.569453Z"
    }
   },
   "source": [
    "demand.isna().sum()"
   ],
   "outputs": []
  },
  {
   "cell_type": "code",
   "execution_count": 166,
   "id": "3d743da4",
   "metadata": {
    "ExecuteTime": {
     "end_time": "2024-04-05T10:14:40.696361Z",
     "start_time": "2024-04-05T10:14:40.693037Z"
    }
   },
   "source": [
    "demand.index"
   ],
   "outputs": []
  },
  {
   "cell_type": "code",
   "execution_count": 167,
   "id": "32cfb165",
   "metadata": {
    "ExecuteTime": {
     "end_time": "2024-04-05T10:14:40.776645Z",
     "start_time": "2024-04-05T10:14:40.770401Z"
    }
   },
   "source": [
    "final_df = pd.merge(updated_df, demand, left_index=True, right_index=True)"
   ],
   "outputs": []
  },
  {
   "cell_type": "code",
   "execution_count": 168,
   "id": "6586ec15",
   "metadata": {
    "ExecuteTime": {
     "end_time": "2024-04-05T10:14:41.042558Z",
     "start_time": "2024-04-05T10:14:41.030295Z"
    }
   },
   "source": [
    "final_df"
   ],
   "outputs": []
  },
  {
   "cell_type": "code",
   "execution_count": 169,
   "id": "94c39226",
   "metadata": {
    "ExecuteTime": {
     "end_time": "2024-04-05T10:14:41.205293Z",
     "start_time": "2024-04-05T10:14:41.200395Z"
    }
   },
   "source": [
    "final_df.isna().sum()"
   ],
   "outputs": []
  },
  {
   "cell_type": "code",
   "execution_count": 170,
   "id": "6e2d953e",
   "metadata": {
    "ExecuteTime": {
     "end_time": "2024-04-05T10:14:41.235125Z",
     "start_time": "2024-04-05T10:14:41.231999Z"
    }
   },
   "source": [
    "final_df.index"
   ],
   "outputs": []
  },
  {
   "cell_type": "markdown",
   "id": "56cf1537",
   "metadata": {},
   "source": [
    "## Adding Season Data\n",
    "Season data being added to the dataframe before the final_df is created and exported to csv."
   ]
  },
  {
   "cell_type": "code",
   "execution_count": 171,
   "id": "fe96d71e",
   "metadata": {
    "ExecuteTime": {
     "end_time": "2024-04-05T10:14:41.329833Z",
     "start_time": "2024-04-05T10:14:41.278987Z"
    }
   },
   "source": [
    "final_df['season'] = final_df['month'].apply(lambda month: 1 if month in [12, 1, 2] else\n",
    "                                  (2 if month in [3, 4, 5] else\n",
    "                                  (3 if month in [6, 7, 8] else\n",
    "                                  (4 if month in [9, 10, 11] else None))))"
   ],
   "outputs": []
  },
  {
   "cell_type": "code",
   "execution_count": 172,
   "id": "70864bca",
   "metadata": {
    "ExecuteTime": {
     "end_time": "2024-04-05T10:14:41.332978Z",
     "start_time": "2024-04-05T10:14:41.330607Z"
    }
   },
   "source": [
    "final_df.index"
   ],
   "outputs": []
  },
  {
   "cell_type": "code",
   "execution_count": 173,
   "id": "9216c11e",
   "metadata": {
    "ExecuteTime": {
     "end_time": "2024-04-05T10:14:41.523752Z",
     "start_time": "2024-04-05T10:14:41.514296Z"
    }
   },
   "source": [
    "final_df.head()"
   ],
   "outputs": []
  },
  {
   "cell_type": "markdown",
   "id": "2036d2c8",
   "metadata": {},
   "source": [
    "# Exporting Dataframe to CSV\n",
    "The final dataframe is being exported to csv so that it can be used for additional analysis and modelling."
   ]
  },
  {
   "cell_type": "code",
   "execution_count": 174,
   "id": "42f5136d2450ca07",
   "metadata": {
    "ExecuteTime": {
     "end_time": "2024-04-05T10:14:41.607704Z",
     "start_time": "2024-04-05T10:14:41.564622Z"
    }
   },
   "source": [
    "# final_df.to_csv(os.path.join('./../data/NSW', 'final_df.csv'))\n",
    "# todo: this is what i have been working on but i need to add the later work"
   ],
   "outputs": []
  },
  {
   "cell_type": "markdown",
   "id": "3cef3837",
   "metadata": {},
   "source": [
    "## Degree Days"
   ]
  },
  {
   "cell_type": "code",
   "execution_count": 175,
   "id": "9e01969b",
   "metadata": {
    "ExecuteTime": {
     "end_time": "2024-04-05T10:14:41.623056Z",
     "start_time": "2024-04-05T10:14:41.618106Z"
    }
   },
   "source": [
    "def Degree_Days2(df, HDD_ct=17, CDD_ct=19.5):\n",
    "    Tbar = df.resample('24H', offset='21H').mean() # Mean from 9pm (day i-1) - 9pm (day i)\n",
    "    DD = pd.DataFrame(index=df.index, columns=['HDD', 'CDD'])\n",
    "    for i in range(0,Tbar.shape[0]):\n",
    "        DD['HDD'].iloc[48*(i):48*(i+1)] = max(0, HDD_ct-Tbar.iloc[i])\n",
    "        DD['CDD'].iloc[48*(i):48*(i+1)] = max(0, Tbar.iloc[i]-CDD_ct)\n",
    "    return Tbar, DD"
   ],
   "outputs": []
  },
  {
   "cell_type": "code",
   "execution_count": 176,
   "id": "928ba5e9",
   "metadata": {
    "ExecuteTime": {
     "end_time": "2024-04-05T10:14:47.886067Z",
     "start_time": "2024-04-05T10:14:41.649237Z"
    }
   },
   "source": [
    "Degree_Days2(final_df['TEMPERATURE'])"
   ],
   "outputs": []
  },
  {
   "cell_type": "code",
   "execution_count": 177,
   "id": "f4676fe2",
   "metadata": {
    "ExecuteTime": {
     "end_time": "2024-04-05T10:14:54.005732Z",
     "start_time": "2024-04-05T10:14:47.886987Z"
    }
   },
   "source": [
    "Tbar, DD = Degree_Days2(final_df['TEMPERATURE'])\n",
    "final_df['HDD'] = DD['HDD']\n",
    "final_df['CDD'] = DD['CDD']\n",
    "# fix_me: this is a daily metric for now. repeat same value for each 30 min sample on that day\n",
    "# fix_me: can we combine these so we don't have 0 values?"
   ],
   "outputs": []
  },
  {
   "cell_type": "code",
   "execution_count": 178,
   "id": "c9a9cd67",
   "metadata": {
    "ExecuteTime": {
     "end_time": "2024-04-05T10:14:54.008752Z",
     "start_time": "2024-04-05T10:14:54.006400Z"
    }
   },
   "source": [
    "Tbar.isna().sum()"
   ],
   "outputs": []
  },
  {
   "cell_type": "code",
   "execution_count": 179,
   "id": "be640338",
   "metadata": {
    "ExecuteTime": {
     "end_time": "2024-04-05T10:14:54.030362Z",
     "start_time": "2024-04-05T10:14:54.009658Z"
    }
   },
   "source": [
    "DD.isna().sum()"
   ],
   "outputs": []
  },
  {
   "cell_type": "code",
   "execution_count": 180,
   "id": "5ff93b8e",
   "metadata": {
    "ExecuteTime": {
     "end_time": "2024-04-05T10:14:54.038859Z",
     "start_time": "2024-04-05T10:14:54.030921Z"
    }
   },
   "source": [
    "DD['HDD']"
   ],
   "outputs": []
  },
  {
   "cell_type": "code",
   "source": [
    "Tbar"
   ],
   "metadata": {
    "collapsed": false,
    "ExecuteTime": {
     "end_time": "2024-04-05T10:14:54.043642Z",
     "start_time": "2024-04-05T10:14:54.039446Z"
    }
   },
   "id": "a9f8b0fbbe1ecca0",
   "execution_count": 181,
   "outputs": []
  },
  {
   "cell_type": "code",
   "execution_count": 182,
   "id": "942d63ba",
   "metadata": {
    "ExecuteTime": {
     "end_time": "2024-04-05T10:14:54.206404Z",
     "start_time": "2024-04-05T10:14:54.044236Z"
    }
   },
   "source": [
    "plt.plot(DD.iloc[1: 10000])\n",
    "plt.title(\"Degree Days\")\n",
    "plt.xlabel(\"Time\")\n",
    "plt.ylabel(\"Degrees °C\")\n",
    "plt.legend()\n",
    "plt.show()\n",
    "# todo: fix warnings\n",
    "# todo: these are the plotted CDD and HDD vars"
   ],
   "outputs": []
  },
  {
   "cell_type": "markdown",
   "id": "7e861dd6",
   "metadata": {
    "ExecuteTime": {
     "end_time": "2024-04-03T02:47:06.915490Z",
     "start_time": "2024-04-03T02:47:06.914185Z"
    }
   },
   "source": [
    "# Outliers\n",
    "Outlier detection is a method used to find unusual or abnormal data points in a data set. \n",
    "Methods of treating outliers:\n",
    "- **Trimming**: removing the data from the dataset\n",
    "- **Capping**: For instance, if we decide on a specific value, any data point above or below that value is considered an outlier. \n",
    "- **Discretization**: create groups and categorise the outliers into specific group making them follow the same behavior as the other points in that group."
   ]
  },
  {
   "cell_type": "markdown",
   "id": "94f81485",
   "metadata": {},
   "source": [
    "## Temperature\n",
    "The following section looks at the outlier identification within the Temperature column of our dataframe."
   ]
  },
  {
   "cell_type": "code",
   "execution_count": 183,
   "id": "61efd5eb",
   "metadata": {
    "ExecuteTime": {
     "end_time": "2024-04-05T10:14:54.209476Z",
     "start_time": "2024-04-05T10:14:54.207038Z"
    }
   },
   "source": [
    "temp_df = final_df[['TEMPERATURE', 'month', 'season']]"
   ],
   "outputs": []
  },
  {
   "cell_type": "markdown",
   "id": "94514590",
   "metadata": {},
   "source": [
    "### ScatterPlot of Temperature"
   ]
  },
  {
   "cell_type": "code",
   "execution_count": 184,
   "id": "7920262c",
   "metadata": {
    "ExecuteTime": {
     "end_time": "2024-04-05T10:14:58.075190Z",
     "start_time": "2024-04-05T10:14:54.210052Z"
    }
   },
   "source": [
    "plt.figure(figsize=(20, 10))\n",
    "sns.scatterplot(data=temp_df, x='Unnamed: 0', y='TEMPERATURE', hue='season')\n",
    "plt.title('Temperature ScatterPlot')\n",
    "plt.xlabel('Date')\n",
    "plt.ylabel('Temperature')\n",
    "plt.show()"
   ],
   "outputs": []
  },
  {
   "cell_type": "markdown",
   "id": "51584256",
   "metadata": {},
   "source": [
    "### Boxplot of Temperature\n",
    "The boxplot is a method which allows for the easy visualisation of outliers within a given dataset. It can be seen that there are a number of data points within temperature which are at the very extreme and could be considered as outliers."
   ]
  },
  {
   "cell_type": "code",
   "execution_count": 185,
   "id": "54ff9c9f",
   "metadata": {
    "ExecuteTime": {
     "end_time": "2024-04-05T10:14:58.362375Z",
     "start_time": "2024-04-05T10:14:58.076648Z"
    }
   },
   "source": [
    "plt.figure(figsize=(20, 10))\n",
    "sns.boxplot(data=temp_df, x='season', y='TEMPERATURE', hue='season')\n",
    "plt.show()"
   ],
   "outputs": []
  },
  {
   "cell_type": "markdown",
   "id": "f06fb3b3",
   "metadata": {},
   "source": [
    "## Temperature Outliers\n",
    "The following sections looks further into the outliers for temperature which were identified in the temperature column of our datasets."
   ]
  },
  {
   "cell_type": "code",
   "execution_count": 186,
   "id": "f49d5c3b",
   "metadata": {
    "ExecuteTime": {
     "end_time": "2024-04-05T10:14:58.366930Z",
     "start_time": "2024-04-05T10:14:58.363140Z"
    }
   },
   "source": [
    "temp_highest_allowed = round(temp_df['TEMPERATURE'].mean() + 3 * temp_df['TEMPERATURE'].std(), 2)\n",
    "temp_lowest_allowed = round(temp_df['TEMPERATURE'].mean() - 3 * temp_df['TEMPERATURE'].std(), 2)\n",
    "print('Highest Allowed:', temp_highest_allowed)\n",
    "print('Lowest Allowed:', temp_lowest_allowed)"
   ],
   "outputs": []
  },
  {
   "cell_type": "code",
   "execution_count": 187,
   "id": "3b50b2bb",
   "metadata": {
    "ExecuteTime": {
     "end_time": "2024-04-05T10:14:58.449655Z",
     "start_time": "2024-04-05T10:14:58.367556Z"
    }
   },
   "source": [
    "temp_outliers = temp_df[(temp_df['TEMPERATURE'] > temp_highest_allowed) | (temp_df['TEMPERATURE'] < temp_lowest_allowed)]\n",
    "print('Total Rows:', len(temp_outliers))"
   ],
   "outputs": []
  },
  {
   "cell_type": "markdown",
   "source": [
    "how do we treat these?\n",
    "- cap"
   ],
   "metadata": {
    "collapsed": false
   },
   "id": "19fbe3250befff6b"
  },
  {
   "cell_type": "code",
   "source": [
    "# todo: create a separate temp column, check with if statement, cap values if outside threshold\n",
    "# final_df.loc['2013-02-01']  # problem\n",
    "# final_df.loc['2016-07-15']  # there is a problem from 16 - 18\n",
    "# todo: somehow we need to check that that each day has 48 samples"
   ],
   "metadata": {
    "collapsed": false,
    "ExecuteTime": {
     "end_time": "2024-04-05T10:14:58.459072Z",
     "start_time": "2024-04-05T10:14:58.450413Z"
    }
   },
   "id": "cb2d5830e85d022a",
   "execution_count": 188,
   "outputs": []
  },
  {
   "cell_type": "code",
   "execution_count": 189,
   "id": "23ccb241",
   "metadata": {
    "ExecuteTime": {
     "end_time": "2024-04-05T10:14:58.691184Z",
     "start_time": "2024-04-05T10:14:58.459844Z"
    }
   },
   "source": [
    "plt.figure(figsize=(20, 10))\n",
    "sns.scatterplot(data=temp_outliers, x='Unnamed: 0', y='TEMPERATURE', hue='season')\n",
    "plt.title('Temperature Outliers ScatterPlot')\n",
    "plt.xlabel('Date')\n",
    "plt.ylabel('Temperature')\n",
    "plt.show()"
   ],
   "outputs": []
  },
  {
   "cell_type": "code",
   "execution_count": 190,
   "id": "740239c3",
   "metadata": {
    "ExecuteTime": {
     "end_time": "2024-04-05T10:14:58.693737Z",
     "start_time": "2024-04-05T10:14:58.691879Z"
    }
   },
   "source": [
    "temp_month_df = temp_df[[]]\n",
    "# fix_me: what was the plan here? "
   ],
   "outputs": []
  },
  {
   "cell_type": "markdown",
   "id": "c707227e",
   "metadata": {},
   "source": [
    "### High Temperature Values\n",
    "Outliers were identified for temperature values and high temperature outliers are more frequent from Nov to March. Indicating that during this period predictions may be less accurate."
   ]
  },
  {
   "cell_type": "code",
   "execution_count": 191,
   "id": "2b763acc",
   "metadata": {
    "ExecuteTime": {
     "end_time": "2024-04-05T10:14:58.772396Z",
     "start_time": "2024-04-05T10:14:58.694322Z"
    }
   },
   "source": [
    "high_outliers = temp_outliers.loc[temp_outliers['TEMPERATURE'] > temp_highest_allowed]\n",
    "t_high_df = high_outliers['month'].value_counts()\n",
    "t_high_df = t_high_df.reset_index()\n",
    "t_high_df.columns = ['Month', 'Count']\n",
    "t_high_df_sorted = t_high_df.sort_values(by='Month', ascending=True)\n",
    "print(t_high_df_sorted)"
   ],
   "outputs": []
  },
  {
   "cell_type": "code",
   "execution_count": 192,
   "id": "384a9e8c",
   "metadata": {
    "ExecuteTime": {
     "end_time": "2024-04-05T10:14:58.896193Z",
     "start_time": "2024-04-05T10:14:58.773110Z"
    }
   },
   "source": [
    "# histogram\n",
    "plt.figure(figsize=(15, 10))\n",
    "sns.barplot(data=t_high_df_sorted, x='Month', y='Count')\n",
    "plt.title('Distribution of High Temperature Outliers')\n",
    "plt.show()"
   ],
   "outputs": []
  },
  {
   "cell_type": "markdown",
   "id": "9b866fb4",
   "metadata": {},
   "source": [
    "### Low Temperature Values\n",
    "Lower tempature variations are far less those outliers observed for higher temperature variations. Lower tempature values can be found in June and July (Winter periods)."
   ]
  },
  {
   "cell_type": "code",
   "execution_count": 193,
   "id": "386719d1",
   "metadata": {
    "ExecuteTime": {
     "end_time": "2024-04-05T10:14:58.900432Z",
     "start_time": "2024-04-05T10:14:58.896765Z"
    }
   },
   "source": [
    "low_outliers = temp_outliers.loc[temp_outliers['TEMPERATURE'] < temp_lowest_allowed]\n",
    "t_low_df = low_outliers['month'].value_counts()\n",
    "t_low_df = t_low_df.reset_index()\n",
    "t_low_df.columns = ['Month','Count']\n",
    "t_low_df_sorted = t_low_df.sort_values(by='Month', ascending=True)\n",
    "print(t_low_df_sorted)"
   ],
   "outputs": []
  },
  {
   "cell_type": "code",
   "execution_count": 194,
   "id": "4000978c",
   "metadata": {
    "ExecuteTime": {
     "end_time": "2024-04-05T10:14:59.067581Z",
     "start_time": "2024-04-05T10:14:58.900937Z"
    }
   },
   "source": [
    "# Histogram\n",
    "plt.figure(figsize=(15, 10))\n",
    "sns.barplot(data=t_low_df, x='Month', y='Count')\n",
    "plt.title('Distribution of Low Temperature Outliers')\n",
    "plt.show()"
   ],
   "outputs": []
  },
  {
   "cell_type": "markdown",
   "id": "76a6383e",
   "metadata": {},
   "source": [
    "Now that we know what the upper and lower caps are, we can apply capping to the outliers. This effectively means that we replace any values which exceed the upper and lower limits are replaced with the upper and lower limit respectively."
   ]
  },
  {
   "cell_type": "code",
   "execution_count": 195,
   "id": "9e8d6c6b",
   "metadata": {
    "ExecuteTime": {
     "end_time": "2024-04-05T10:14:59.069847Z",
     "start_time": "2024-04-05T10:14:59.068296Z"
    }
   },
   "source": [
    "# final_df['TEMPERATURE'] = np.where(final_df['TEMPERATURE']>temp_highest_allowed,temp_highest_allowed, np.where(final_df['TEMPERATURE']<temp_lowest_allowed,temp_lowest_allowed,final_df['TEMPERATURE']))"
   ],
   "outputs": []
  },
  {
   "cell_type": "code",
   "execution_count": 196,
   "id": "f8a4436a",
   "metadata": {
    "ExecuteTime": {
     "end_time": "2024-04-05T10:14:59.075597Z",
     "start_time": "2024-04-05T10:14:59.070363Z"
    }
   },
   "source": [
    "# final_df_temp_highest = round(final_df['TEMPERATURE'].mean() + 3*final_df['TEMPERATURE'].std(),2)\n",
    "# final_df_temp_lowest = round(final_df['TEMPERATURE'].mean() - 3*final_df['TEMPERATURE'].std(),2)\n",
    "# print(final_df_temp_highest)\n",
    "# print(final_df_temp_lowest)"
   ],
   "outputs": []
  },
  {
   "cell_type": "markdown",
   "id": "62820090",
   "metadata": {},
   "source": [
    "## Price\n",
    "The following sections looks at the outliers which might exist in the price data points which we are going to be using for future modelling."
   ]
  },
  {
   "cell_type": "code",
   "execution_count": 197,
   "id": "c3fe170b",
   "metadata": {
    "ExecuteTime": {
     "end_time": "2024-04-05T10:14:59.086883Z",
     "start_time": "2024-04-05T10:14:59.076139Z"
    }
   },
   "source": [
    "price_outlier_df = final_df[['rrp', 'month', 'season']]\n",
    "# print(price_outlier_df)"
   ],
   "outputs": []
  },
  {
   "cell_type": "markdown",
   "id": "6352f3ff",
   "metadata": {},
   "source": [
    "### Scatterplot of Price"
   ]
  },
  {
   "cell_type": "code",
   "execution_count": 198,
   "id": "163d18ed",
   "metadata": {
    "ExecuteTime": {
     "end_time": "2024-04-05T10:15:02.957885Z",
     "start_time": "2024-04-05T10:14:59.087413Z"
    }
   },
   "source": [
    "plt.figure(figsize=(20, 10))\n",
    "sns.scatterplot(data=price_outlier_df, x='Unnamed: 0', y='rrp', hue='season')\n",
    "plt.title('Price ScatterPlot')\n",
    "plt.xlabel('Date')\n",
    "plt.ylabel('Price')\n",
    "plt.show()"
   ],
   "outputs": []
  },
  {
   "cell_type": "markdown",
   "id": "435acc81",
   "metadata": {},
   "source": [
    "### Price Outlier Analysis\n",
    "Copying the values which are identified as outliers to a dataframe to analyse a little further."
   ]
  },
  {
   "cell_type": "code",
   "execution_count": 199,
   "id": "d1c413f4",
   "metadata": {
    "ExecuteTime": {
     "end_time": "2024-04-05T10:15:02.961623Z",
     "start_time": "2024-04-05T10:15:02.958473Z"
    }
   },
   "source": [
    "price_highest_allowed = round(price_outlier_df['rrp'].mean() + 3 * price_outlier_df['rrp'].std(), 2)\n",
    "price_lowest_allowed = round(price_outlier_df['rrp'].mean() - 3 * price_outlier_df['rrp'].std(), 2)"
   ],
   "outputs": []
  },
  {
   "cell_type": "code",
   "execution_count": 200,
   "id": "259ccfdf",
   "metadata": {
    "ExecuteTime": {
     "end_time": "2024-04-05T10:15:03.060467Z",
     "start_time": "2024-04-05T10:15:02.962133Z"
    }
   },
   "source": [
    "price_outliers = price_outlier_df[(price_outlier_df['rrp']>price_highest_allowed) | (price_outlier_df['rrp']<price_lowest_allowed)]\n",
    "print(len(price_outliers))"
   ],
   "outputs": []
  },
  {
   "cell_type": "code",
   "source": [
    "price_outliers"
   ],
   "metadata": {
    "collapsed": false,
    "ExecuteTime": {
     "end_time": "2024-04-05T10:15:03.075572Z",
     "start_time": "2024-04-05T10:15:03.060999Z"
    }
   },
   "id": "739d7a896459d105",
   "execution_count": 201,
   "outputs": []
  },
  {
   "cell_type": "code",
   "execution_count": 202,
   "id": "c420fc53",
   "metadata": {
    "ExecuteTime": {
     "end_time": "2024-04-05T10:15:03.262865Z",
     "start_time": "2024-04-05T10:15:03.076631Z"
    }
   },
   "source": [
    "plt.figure(figsize=(20, 10))\n",
    "sns.scatterplot(data=price_outliers,x='month', y='rrp', hue='season')\n",
    "plt.title('Scatterplot of Price by Month')\n",
    "plt.legend()\n",
    "plt.show()"
   ],
   "outputs": []
  },
  {
   "cell_type": "markdown",
   "id": "f9df2f22",
   "metadata": {},
   "source": [
    "#### Price Outlier by Month"
   ]
  },
  {
   "cell_type": "code",
   "execution_count": 203,
   "id": "1c71ac3f",
   "metadata": {
    "ExecuteTime": {
     "end_time": "2024-04-05T10:15:03.267238Z",
     "start_time": "2024-04-05T10:15:03.264554Z"
    }
   },
   "source": [
    "# low_outliers = temp_outliers.loc[temp_outliers['TEMPERATURE']<temp_lowest_allowed]\n",
    "price_out_df = price_outliers['month'].value_counts()\n",
    "price_out_df = price_out_df.reset_index()\n",
    "price_out_df.columns = ['Month', 'Count']\n",
    "price_out_df_sorted = price_out_df.sort_values(by='Month', ascending=True)\n",
    "# print(price_out_df_sorted)"
   ],
   "outputs": []
  },
  {
   "cell_type": "code",
   "execution_count": 204,
   "id": "f74fa393",
   "metadata": {
    "ExecuteTime": {
     "end_time": "2024-04-05T10:15:03.417528Z",
     "start_time": "2024-04-05T10:15:03.267755Z"
    }
   },
   "source": [
    "# Histogram\n",
    "plt.figure(figsize=(15, 10))\n",
    "sns.barplot(data=price_out_df_sorted, x='Month', y='Count')\n",
    "plt.title('Distribution of Price Outliers')\n",
    "plt.show()"
   ],
   "outputs": []
  },
  {
   "cell_type": "markdown",
   "id": "b1be7835",
   "metadata": {},
   "source": [
    "## Total Demand"
   ]
  },
  {
   "cell_type": "code",
   "execution_count": 205,
   "id": "6bb3af8f",
   "metadata": {
    "ExecuteTime": {
     "end_time": "2024-04-05T10:15:03.421871Z",
     "start_time": "2024-04-05T10:15:03.418149Z"
    }
   },
   "source": [
    "total_demand_highest_allowed = round(final_df['TOTALDEMAND'].mean() + 3 * final_df['TOTALDEMAND'].std(), 2)\n",
    "total_demand_lowest_allowed = round(final_df['TOTALDEMAND'].mean() - 3 * final_df['TOTALDEMAND'].std(), 2)\n",
    "print(total_demand_highest_allowed)\n",
    "print(total_demand_lowest_allowed)"
   ],
   "outputs": []
  },
  {
   "cell_type": "code",
   "execution_count": 206,
   "id": "d00e3f4a",
   "metadata": {
    "ExecuteTime": {
     "end_time": "2024-04-05T10:15:03.430779Z",
     "start_time": "2024-04-05T10:15:03.422420Z"
    }
   },
   "source": [
    "total_demand_outliers = final_df[(final_df['TOTALDEMAND'] > total_demand_highest_allowed) | (final_df['TOTALDEMAND'] < total_demand_lowest_allowed)]\n",
    "print(len(total_demand_outliers))"
   ],
   "outputs": []
  },
  {
   "cell_type": "code",
   "execution_count": 207,
   "id": "0c9e97a5",
   "metadata": {
    "ExecuteTime": {
     "end_time": "2024-04-05T10:15:03.625586Z",
     "start_time": "2024-04-05T10:15:03.431316Z"
    }
   },
   "source": [
    "plt.figure(figsize=(20, 10))\n",
    "plt.scatter(\n",
    "    total_demand_outliers.index, \n",
    "    total_demand_outliers['TOTALDEMAND'], \n",
    "    c=total_demand_outliers['month']\n",
    ")\n",
    "plt.legend()\n",
    "plt.show()"
   ],
   "outputs": []
  },
  {
   "cell_type": "code",
   "execution_count": 208,
   "id": "b2f8a1e1",
   "metadata": {
    "ExecuteTime": {
     "end_time": "2024-04-05T10:15:03.628349Z",
     "start_time": "2024-04-05T10:15:03.626133Z"
    }
   },
   "source": [
    "print(total_demand_outliers['month'].value_counts())\n",
    "#ToDO: Sort values by month\n",
    "# reluctant to mess with TOTALDEMAND unless there is a really solid justification"
   ],
   "outputs": []
  },
  {
   "cell_type": "markdown",
   "id": "08138b10",
   "metadata": {},
   "source": [
    "Total Demand outliers can be seen during the months from Nov to Feb. "
   ]
  },
  {
   "cell_type": "markdown",
   "id": "fee05fb8",
   "metadata": {},
   "source": [
    "## Outlier Handling\n",
    "Outlier handling shall be done using isolation forest."
   ]
  },
  {
   "cell_type": "code",
   "execution_count": 209,
   "id": "cc96b38d",
   "metadata": {
    "ExecuteTime": {
     "end_time": "2024-04-05T10:15:04.031986Z",
     "start_time": "2024-04-05T10:15:03.628878Z"
    }
   },
   "source": [
    "from sklearn.ensemble import IsolationForest"
   ],
   "outputs": []
  },
  {
   "cell_type": "code",
   "execution_count": 210,
   "id": "05ecac04",
   "metadata": {
    "ExecuteTime": {
     "end_time": "2024-04-05T10:15:04.035304Z",
     "start_time": "2024-04-05T10:15:04.032646Z"
    }
   },
   "source": [
    "handle_outliers = final_df[['TEMPERATURE', 'rrp', 'TOTALDEMAND', 'month', 'season']]"
   ],
   "outputs": []
  },
  {
   "cell_type": "code",
   "source": [
    "final_df"
   ],
   "metadata": {
    "collapsed": false,
    "ExecuteTime": {
     "end_time": "2024-04-05T11:24:43.951076Z",
     "start_time": "2024-04-05T11:24:43.914200Z"
    }
   },
   "id": "12a19d4047702c06",
   "execution_count": 220,
   "outputs": []
  },
  {
   "cell_type": "code",
   "execution_count": 211,
   "id": "7401dde6",
   "metadata": {
    "ExecuteTime": {
     "end_time": "2024-04-05T10:15:05.412884Z",
     "start_time": "2024-04-05T10:15:04.035876Z"
    }
   },
   "source": [
    "random_state = np.random.RandomState(42)\n",
    "\n",
    "model = IsolationForest(\n",
    "    n_estimators=100, \n",
    "    max_samples='auto', \n",
    "    contamination=float(0.003)\n",
    ")\n",
    "\n",
    "model.fit(handle_outliers[['TEMPERATURE']])\n",
    "print(model.get_params())\n",
    "handle_outliers['Iso_forest_scores'] = model.decision_function(handle_outliers[['TEMPERATURE']])\n",
    "handle_outliers['anomaly_score'] = model.predict(handle_outliers[['TEMPERATURE']])\n",
    "handle_outliers[handle_outliers['anomaly_score'] == -1].head()\n",
    "anomaly_df = handle_outliers[handle_outliers['anomaly_score'] == -1]\n",
    "no_anomaly_df = handle_outliers[handle_outliers['anomaly_score'] == 1]"
   ],
   "outputs": []
  },
  {
   "cell_type": "code",
   "source": [
    "anomaly_df.columns"
   ],
   "metadata": {
    "collapsed": false,
    "ExecuteTime": {
     "end_time": "2024-04-05T10:15:05.416101Z",
     "start_time": "2024-04-05T10:15:05.413753Z"
    }
   },
   "id": "2433bbf9e91d73ea",
   "execution_count": 212,
   "outputs": []
  },
  {
   "cell_type": "code",
   "source": [
    "anomaly_df"
   ],
   "metadata": {
    "collapsed": false,
    "ExecuteTime": {
     "end_time": "2024-04-05T10:15:05.504133Z",
     "start_time": "2024-04-05T10:15:05.416658Z"
    }
   },
   "id": "471a031110326643",
   "execution_count": 213,
   "outputs": []
  },
  {
   "cell_type": "code",
   "execution_count": 214,
   "id": "6992f3e0",
   "metadata": {
    "ExecuteTime": {
     "end_time": "2024-04-05T10:15:05.517152Z",
     "start_time": "2024-04-05T10:15:05.504783Z"
    }
   },
   "source": [
    "print('Total Anomalies:', len(anomaly_df))\n",
    "print('Total non-Anomaly:', len(no_anomaly_df))"
   ],
   "outputs": []
  },
  {
   "cell_type": "markdown",
   "id": "1ab24002",
   "metadata": {},
   "source": [
    "## Lag Variables (Data Engineering)\n"
   ]
  },
  {
   "cell_type": "code",
   "execution_count": 215,
   "id": "73976b17",
   "metadata": {
    "ExecuteTime": {
     "end_time": "2024-04-05T10:15:05.527390Z",
     "start_time": "2024-04-05T10:15:05.517800Z"
    }
   },
   "source": [
    "# def lag_variable(df, n, var_name):\n",
    "#     \"\"\"\n",
    "#     Creates a lag variable, linear interpolation for NA values created in the shift\n",
    "#     Parameters:\n",
    "#         df (dataframe): pandas df\n",
    "#         n (int): lag size\n",
    "#         var_name (str): name of variable\n",
    "        \n",
    "#     Returns:\n",
    "#         pd.series with index matching df\n",
    "#     \"\"\"\n",
    "#     #Shifting the variable\n",
    "#     varShifted = df[var_name].shift(n)\n",
    "    \n",
    "#     #Dealing With NA - median of all the other matching timestamps\n",
    "#     varShifted = varShifted.interpolate(method='linear', limit_direction='both', axis=0)\n",
    "#     print(varShifted)\n",
    "    \n",
    "#     return varShifted"
   ],
   "outputs": []
  },
  {
   "cell_type": "code",
   "execution_count": 216,
   "id": "0036ce0d",
   "metadata": {
    "ExecuteTime": {
     "end_time": "2024-04-05T10:15:05.539316Z",
     "start_time": "2024-04-05T10:15:05.528006Z"
    }
   },
   "source": [
    "lag_test = final_df['TEMPERATURE'].shift(2)\n",
    "lag_test\n",
    "# todo: new var?"
   ],
   "outputs": []
  },
  {
   "cell_type": "code",
   "execution_count": 217,
   "id": "64ea5d73",
   "metadata": {
    "ExecuteTime": {
     "end_time": "2024-04-05T10:15:05.552261Z",
     "start_time": "2024-04-05T10:15:05.539896Z"
    }
   },
   "source": [
    "varShifted = final_df['TEMPERATURE'].shift(2)\n",
    "varShifted = varShifted.interpolate(method='linear', limit_direction='both', axis=0)\n",
    "varShifted\n",
    "# todo: new var?"
   ],
   "outputs": []
  }
 ],
 "metadata": {
  "kernelspec": {
   "display_name": "Python 3 (ipykernel)",
   "language": "python",
   "name": "python3"
  },
  "language_info": {
   "codemirror_mode": {
    "name": "ipython",
    "version": 3
   },
   "file_extension": ".py",
   "mimetype": "text/x-python",
   "name": "python",
   "nbconvert_exporter": "python",
   "pygments_lexer": "ipython3",
   "version": "3.9.12"
  }
 },
 "nbformat": 4,
 "nbformat_minor": 5
}
