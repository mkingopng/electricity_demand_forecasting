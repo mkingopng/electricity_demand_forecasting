{
 "cells": [
  {
   "cell_type": "code",
   "id": "initial_id",
   "metadata": {
    "collapsed": true,
    "ExecuteTime": {
     "end_time": "2024-04-17T02:00:56.810192Z",
     "start_time": "2024-04-17T02:00:56.638060Z"
    }
   },
   "source": [
    "import pandas as pd\n",
    "import matplotlib.pyplot as plt\n",
    "\n",
    "# Make sure you define the colour map you want search for '# Setting up Colour Map and season_name column for nsw_df'\n",
    "\n",
    "link = './../data/NSW/nsw_df.parquet'\n",
    "nsw_df = pd.read_parquet(link)"
   ],
   "execution_count": 57,
   "outputs": []
  },
  {
   "metadata": {
    "ExecuteTime": {
     "end_time": "2024-04-17T02:00:57.715192Z",
     "start_time": "2024-04-17T02:00:57.689986Z"
    }
   },
   "cell_type": "code",
   "source": "nsw_df.head(2)",
   "id": "eb917a13faa1c66f",
   "execution_count": 58,
   "outputs": []
  },
  {
   "metadata": {
    "ExecuteTime": {
     "end_time": "2024-04-17T11:34:40.614051Z",
     "start_time": "2024-04-17T11:34:40.518171Z"
    }
   },
   "cell_type": "code",
   "source": [
    "def lag_plot(df=nsw_df, var_name='TOTALDEMAND', hue='season', lag=1, color_map='viridis', legend_title='legend'):\n",
    "    # Generates a scatterplot lag plot\n",
    "    \n",
    "    # Main Scatter Plot\n",
    "    for group in df[hue].unique():\n",
    "        df_grouped = df[df[hue] == group]\n",
    "        plt.scatter(df_grouped[var_name], df_grouped.shift(lag)[var_name], c=color_map[group], s=20, alpha=0.7)\n",
    "    \n",
    "    # Legend\n",
    "    plt.legend(title=legend_title.title(), loc='lower right', frameon=True, labels=df[hue].unique())\n",
    "        \n",
    "    # Labelling Axis / Title\n",
    "    plt.grid(True) #Grid\n",
    "    plt.xlabel(f'{var_name.title()}(i)')\n",
    "    plt.ylabel(f'{var_name.title()}(i+{str(lag)})')\n",
    "    #plt.title(f'Lag {lag} Plot: {var_name.title()}(i) vs {var_name.title()}(i+{str(lag)})')\n",
    "    plt.title(f'Lag {lag} Plot: Relationship of lagged version of {var_name.title()}')\n",
    "    \n",
    "    #Axis Limits   \n",
    "    plt.xlim(min(df[var_name].min(), df.shift(lag)[var_name].min()), max(df[var_name].max(), df.shift(lag)[var_name].max()))\n",
    "    plt.ylim(min(df[var_name].min(), df.shift(lag)[var_name].min()), max(df[var_name].max(), df.shift(lag)[var_name].max()))\n",
    "    \n",
    "    #Correlation Value Display\n",
    "    plt.text(df[var_name].min() + 0.08 * df[var_name].min(), df[var_name].max() - 0.08 * df[var_name].max(),\n",
    "             f'r={df[var_name].corr(df.shift(lag)[var_name]):.2f}', va='top', ha='left', fontsize=15,\n",
    "             bbox=dict(facecolor='white', edgecolor='black', boxstyle='round,pad=0.5'))\n",
    "    \n",
    "    # Adding line Y=X\n",
    "    plt.axline((0, 0), slope=1, color='black', linestyle='--')\n",
    "    return None"
   ],
   "id": "f1f89f6e1c534fe",
   "execution_count": 65,
   "outputs": []
  },
  {
   "metadata": {
    "ExecuteTime": {
     "end_time": "2024-04-17T11:34:57.045069Z",
     "start_time": "2024-04-17T11:34:56.988507Z"
    }
   },
   "cell_type": "code",
   "source": [
    "# Setting up Colour Map and season_name column for nsw_df\n",
    "c_map = {'Summer':'red', 'Autumn':'brown', 'Winter':'blue', 'Spring':'orange'}\n",
    "nsw_df['season_name'] = nsw_df['month'].map(lambda m: 'Summer' if m in [1, 2, 12] else ('Autumn' if m in [3, 4, 5] else ('Winter' if m in [6, 7, 8] else 'Spring'))).astype('category')"
   ],
   "id": "9cc09132da0c1d07",
   "execution_count": 67,
   "outputs": []
  },
  {
   "metadata": {
    "ExecuteTime": {
     "end_time": "2024-04-17T11:35:02.294599Z",
     "start_time": "2024-04-17T11:34:59.592167Z"
    }
   },
   "cell_type": "code",
   "source": "lag_plot(df=nsw_df, var_name='TOTALDEMAND', hue='season_name', lag=1, color_map=c_map, legend_title='season')",
   "id": "53465ff4baea26c7",
   "execution_count": 68,
   "outputs": []
  },
  {
   "metadata": {
    "ExecuteTime": {
     "end_time": "2024-04-17T02:01:07.156292Z",
     "start_time": "2024-04-17T02:01:05.818416Z"
    }
   },
   "cell_type": "code",
   "source": "lag_plot(df=nsw_df, var_name='TOTALDEMAND', hue='season_name', lag=2, color_map=c_map, legend_title='season')",
   "id": "f0bd4ae30c72ea54",
   "execution_count": 62,
   "outputs": []
  },
  {
   "metadata": {
    "ExecuteTime": {
     "end_time": "2024-04-17T02:01:12.743493Z",
     "start_time": "2024-04-17T02:01:11.600511Z"
    }
   },
   "cell_type": "code",
   "source": "lag_plot(df=nsw_df, var_name='TOTALDEMAND', hue='season_name', lag=3, color_map=c_map, legend_title='season')",
   "id": "3f112643851c1449",
   "execution_count": 63,
   "outputs": []
  },
  {
   "metadata": {
    "ExecuteTime": {
     "end_time": "2024-04-17T02:01:16.781226Z",
     "start_time": "2024-04-17T02:01:15.527002Z"
    }
   },
   "cell_type": "code",
   "source": "lag_plot(df=nsw_df, var_name='TOTALDEMAND', hue='season_name', lag=4, color_map=c_map, legend_title='season')",
   "id": "b258cd40b594bef0",
   "execution_count": 64,
   "outputs": []
  }
 ],
 "metadata": {
  "kernelspec": {
   "display_name": "Python 3",
   "language": "python",
   "name": "python3"
  },
  "language_info": {
   "codemirror_mode": {
    "name": "ipython",
    "version": 2
   },
   "file_extension": ".py",
   "mimetype": "text/x-python",
   "name": "python",
   "nbconvert_exporter": "python",
   "pygments_lexer": "ipython2",
   "version": "2.7.6"
  }
 },
 "nbformat": 4,
 "nbformat_minor": 5
}
