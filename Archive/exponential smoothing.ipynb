{
 "cells": [
  {
   "cell_type": "code",
   "execution_count": 28,
   "id": "initial_id",
   "metadata": {
    "collapsed": true,
    "ExecuteTime": {
     "end_time": "2024-04-05T06:15:40.440458Z",
     "start_time": "2024-04-05T06:15:40.437734Z"
    }
   },
   "source": [
    "import warnings\n",
    "import os\n",
    "import itertools\n",
    "import pandas as pd\n",
    "import numpy as np\n",
    "from random import random, gauss\n",
    "import statsmodels.api as sm\n",
    "from pandas.plotting import autocorrelation_plot\n",
    "from statsmodels.graphics.tsaplots import plot_acf, plot_pacf\n",
    "from statsmodels.tsa.holtwinters import SimpleExpSmoothing, ExponentialSmoothing, Holt\n",
    "\n",
    "import matplotlib.pyplot as plt\n",
    "plt.style.use('fivethirtyeight') \n",
    "\n",
    "import warnings\n",
    "warnings.simplefilter(action='ignore', category= FutureWarning)"
   ],
   "outputs": []
  },
  {
   "cell_type": "code",
   "source": [
    "# general settings\n",
    "class CFG:\n",
    "    data_folder = './../data/NSW/'\n",
    "    img_dim1 = 20\n",
    "    img_dim2 = 10\n",
    "        \n",
    "# adjust the parameters for displayed figures    \n",
    "plt.rcParams.update({'figure.figsize': (CFG.img_dim1,CFG.img_dim2)})"
   ],
   "metadata": {
    "collapsed": false,
    "ExecuteTime": {
     "end_time": "2024-04-05T06:15:40.543548Z",
     "start_time": "2024-04-05T06:15:40.541479Z"
    }
   },
   "id": "eaca4d59755fce32",
   "execution_count": 29,
   "outputs": []
  },
  {
   "cell_type": "markdown",
   "source": [
    "# "
   ],
   "metadata": {
    "collapsed": false
   },
   "id": "e9ddd6469b2d8c11"
  },
  {
   "cell_type": "code",
   "source": [
    "# Adjusted code to load the DataFrame\n",
    "df = pd.read_csv(\n",
    "    os.path.join(CFG.data_folder, 'final_df.csv'),\n",
    "    index_col=0,\n",
    "    parse_dates=True  # Ensure the index is parsed as datetime\n",
    ")\n",
    "\n",
    "# Clean up column names if necessary\n",
    "df.columns = df.columns.str.strip()\n",
    "\n",
    "# Ensure the index is named 'date'\n",
    "df.index.name = 'date'\n",
    "\n",
    "# Select the 'TOTALDEMAND' column\n",
    "df = df[['TOTALDEMAND']]\n",
    "\n",
    "# Step 1: Find the latest date in your index\n",
    "latest_date = df.index.max()\n",
    "\n",
    "# Step 2: Calculate the cutoff date (12 months earlier)\n",
    "cutoff_date = latest_date - pd.DateOffset(months=12)\n",
    "\n",
    "# Step 3: Select rows from the last 12 months\n",
    "subset_df = df.loc[cutoff_date:]\n",
    "df.head()"
   ],
   "metadata": {
    "collapsed": false,
    "ExecuteTime": {
     "end_time": "2024-04-05T06:15:40.818272Z",
     "start_time": "2024-04-05T06:15:40.553877Z"
    }
   },
   "id": "a796994bda24f3c4",
   "execution_count": 30,
   "outputs": []
  },
  {
   "cell_type": "code",
   "source": [
    "df.plot()"
   ],
   "metadata": {
    "collapsed": false,
    "ExecuteTime": {
     "end_time": "2024-04-05T06:15:41.657893Z",
     "start_time": "2024-04-05T06:15:40.819056Z"
    }
   },
   "id": "3dd85322df14af22",
   "execution_count": 31,
   "outputs": []
  },
  {
   "cell_type": "markdown",
   "source": [
    "start with decomposition to get an understanding of the dynamics"
   ],
   "metadata": {
    "collapsed": false
   },
   "id": "f0e261770ac08f87"
  },
  {
   "cell_type": "markdown",
   "source": [
    "# 24 hour decomposition"
   ],
   "metadata": {
    "collapsed": false
   },
   "id": "e45f476fbeccc1b"
  },
  {
   "cell_type": "code",
   "source": [
    "%%time\n",
    "daily_decomp = sm.tsa.seasonal_decompose(\n",
    "    subset_df, \n",
    "    period=96\n",
    ")\n",
    "fig1 = daily_decomp.plot()\n",
    "plt.show()"
   ],
   "metadata": {
    "collapsed": false,
    "ExecuteTime": {
     "end_time": "2024-04-05T06:15:42.238760Z",
     "start_time": "2024-04-05T06:15:41.658477Z"
    }
   },
   "id": "7ee7170531c6507d",
   "execution_count": 32,
   "outputs": []
  },
  {
   "cell_type": "markdown",
   "source": [
    "# 7 day decomposition"
   ],
   "metadata": {
    "collapsed": false
   },
   "id": "d7032ca8900df7a6"
  },
  {
   "cell_type": "code",
   "source": [
    "%%time\n",
    "week_decomp = sm.tsa.seasonal_decompose(\n",
    "    subset_df, \n",
    "    period=336\n",
    ")\n",
    "fig2 = week_decomp.plot()\n",
    "plt.show()"
   ],
   "metadata": {
    "collapsed": false,
    "ExecuteTime": {
     "end_time": "2024-04-05T06:15:42.823851Z",
     "start_time": "2024-04-05T06:15:42.239703Z"
    }
   },
   "id": "e7a7f31c24bf61da",
   "execution_count": 33,
   "outputs": []
  },
  {
   "cell_type": "markdown",
   "source": [
    "# 3 month decomposition"
   ],
   "metadata": {
    "collapsed": false
   },
   "id": "f2b7f758f88bca81"
  },
  {
   "cell_type": "code",
   "source": [
    "%%time\n",
    "three_month_decomp = sm.tsa.seasonal_decompose(\n",
    "    subset_df, \n",
    "    period=4383\n",
    ")\n",
    "fig3 = three_month_decomp.plot()\n",
    "plt.show()"
   ],
   "metadata": {
    "collapsed": false,
    "ExecuteTime": {
     "end_time": "2024-04-05T06:15:43.471292Z",
     "start_time": "2024-04-05T06:15:42.824429Z"
    }
   },
   "id": "fdb254e04a5c7e1b",
   "execution_count": 34,
   "outputs": []
  },
  {
   "cell_type": "markdown",
   "source": [
    "split data into test / train"
   ],
   "metadata": {
    "collapsed": false
   },
   "id": "ba3968a36575029d"
  },
  {
   "cell_type": "code",
   "source": [
    "cutoff_date = '2021-12-31'  # fix_me\n",
    "xtrain, xvalid  = df.loc[df.index <= cutoff_date], df.loc[df.index > cutoff_date]\n",
    "print(xtrain.shape, xvalid.shape)"
   ],
   "metadata": {
    "collapsed": false,
    "ExecuteTime": {
     "end_time": "2024-04-05T06:15:43.475472Z",
     "start_time": "2024-04-05T06:15:43.471857Z"
    }
   },
   "id": "69a1e36befadab59",
   "execution_count": 35,
   "outputs": []
  },
  {
   "cell_type": "markdown",
   "source": [
    "# fit the holt winders model"
   ],
   "metadata": {
    "collapsed": false
   },
   "id": "12b9df2120e4ab75"
  },
  {
   "cell_type": "code",
   "source": [
    "fit1 = ExponentialSmoothing(\n",
    "    xtrain['value'].values, \n",
    "    seasonal_periods=48, \n",
    "    trend='mul', \n",
    "    seasonal='mul'\n",
    ")\n",
    "fit1 = fit1.fit(use_boxcox=True)"
   ],
   "metadata": {
    "collapsed": false,
    "ExecuteTime": {
     "end_time": "2024-04-05T06:15:43.573699Z",
     "start_time": "2024-04-05T06:15:43.475979Z"
    }
   },
   "id": "743b3c6b7c096e63",
   "execution_count": 36,
   "outputs": []
  },
  {
   "cell_type": "markdown",
   "source": [
    "examine the parameters"
   ],
   "metadata": {
    "collapsed": false
   },
   "id": "9a75fb8d1d5d8b2c"
  },
  {
   "cell_type": "code",
   "source": [
    "fit1.params_formatted"
   ],
   "metadata": {
    "collapsed": false
   },
   "id": "a8f739490a44a70",
   "execution_count": null,
   "outputs": []
  },
  {
   "cell_type": "markdown",
   "source": [
    "# what do the residuals look like?"
   ],
   "metadata": {
    "collapsed": false
   },
   "id": "6dc20e27cfd5338e"
  },
  {
   "cell_type": "code",
   "source": [
    "prediction = fit1.forecast(len(xvalid)).copy()\n",
    "\n",
    "xresiduals = xvalid['value'] - prediction\n",
    "plot_acf(xresiduals, lags=25)\n",
    "print()"
   ],
   "metadata": {
    "collapsed": false
   },
   "id": "df17753729692412",
   "execution_count": null,
   "outputs": []
  },
  {
   "cell_type": "markdown",
   "source": [
    "# PACF"
   ],
   "metadata": {
    "collapsed": false
   },
   "id": "d997a9e3311c4641"
  },
  {
   "cell_type": "code",
   "source": [
    "plot_pacf(\n",
    "    xresiduals, \n",
    "    lags=25\n",
    ")\n",
    "print()"
   ],
   "metadata": {
    "collapsed": false
   },
   "id": "36c21bc86061d719",
   "execution_count": null,
   "outputs": []
  },
  {
   "cell_type": "markdown",
   "source": [
    "# prediction plot"
   ],
   "metadata": {
    "collapsed": false
   },
   "id": "c6a20667e82a6a23"
  },
  {
   "cell_type": "code",
   "source": [
    "xvalid['prediction'] = prediction\n",
    "xvalid.plot()"
   ],
   "metadata": {
    "collapsed": false
   },
   "id": "949c387e969d3d95",
   "execution_count": null,
   "outputs": []
  }
 ],
 "metadata": {
  "kernelspec": {
   "display_name": "Python 3",
   "language": "python",
   "name": "python3"
  },
  "language_info": {
   "codemirror_mode": {
    "name": "ipython",
    "version": 2
   },
   "file_extension": ".py",
   "mimetype": "text/x-python",
   "name": "python",
   "nbconvert_exporter": "python",
   "pygments_lexer": "ipython2",
   "version": "2.7.6"
  }
 },
 "nbformat": 4,
 "nbformat_minor": 5
}
