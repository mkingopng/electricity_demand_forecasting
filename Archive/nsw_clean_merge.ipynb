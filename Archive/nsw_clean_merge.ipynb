{
 "cells": [
  {
   "cell_type": "markdown",
   "source": [
    "- we need to check & temperature\n",
    "- we can get pricing data (Noel)\n",
    "- we should try to establish the accuracy of current forecast demand vs actual\n",
    "- temperature data...\n",
    "- what does AEMO say? residential & commercial demand, temperature, \n",
    "- we should start by replicating the AEMO\n",
    "- spectral analysis reading from william\n",
    "- "
   ],
   "metadata": {
    "collapsed": false
   },
   "id": "3806e6ba05d06743"
  },
  {
   "cell_type": "code",
   "execution_count": 1,
   "id": "initial_id",
   "metadata": {
    "collapsed": true,
    "ExecuteTime": {
     "end_time": "2024-03-29T21:55:14.754420Z",
     "start_time": "2024-03-29T21:55:14.477687Z"
    }
   },
   "outputs": [],
   "source": [
    "import pandas as pd\n",
    "from pandas.plotting import autocorrelation_plot\n",
    "import os\n",
    "import matplotlib.pyplot as plt\n",
    "import seaborn as sns\n",
    "import statsmodels.api as sm\n",
    "import statsmodels.formula.api as smf"
   ]
  },
  {
   "cell_type": "code",
   "outputs": [],
   "source": [
    "# general settings\n",
    "class CFG:\n",
    "    data_path = './../data'\n",
    "    img_dim1 = 20\n",
    "    img_dim2 = 10\n",
    "    \n",
    "\n",
    "# adjust the parameters for displayed figures\n",
    "plt.style.use('fivethirtyeight')\n",
    "plt.rcParams.update({'figure.figsize': (CFG.img_dim1, CFG.img_dim2)})  "
   ],
   "metadata": {
    "collapsed": false,
    "ExecuteTime": {
     "end_time": "2024-03-29T21:55:14.760813Z",
     "start_time": "2024-03-29T21:55:14.756035Z"
    }
   },
   "id": "c2bb2619f95fc798",
   "execution_count": 2
  },
  {
   "cell_type": "markdown",
   "source": [
    "## NSW Forecast Demand"
   ],
   "metadata": {
    "collapsed": false
   },
   "id": "cf008303c901d238"
  },
  {
   "cell_type": "code",
   "outputs": [],
   "source": [
    "nsw_forecastdemand = pd.read_csv(\n",
    "    os.path.join(CFG.data_path, 'NSW', 'forecastdemand_nsw.csv'), \n",
    "    parse_dates=['LASTCHANGED', 'DATETIME']\n",
    ")"
   ],
   "metadata": {
    "collapsed": false,
    "ExecuteTime": {
     "end_time": "2024-03-29T21:55:23.963338Z",
     "start_time": "2024-03-29T21:55:14.761605Z"
    }
   },
   "id": "2aca373f3db6f9ad",
   "execution_count": 3
  },
  {
   "cell_type": "code",
   "outputs": [
    {
     "data": {
      "text/plain": "   PREDISPATCHSEQNO REGIONID  PERIODID  FORECASTDEMAND         LASTCHANGED  \\\n0        2009123018     NSW1        71         7832.04 2009-12-30 12:31:49   \n1        2009123019     NSW1        70         7832.04 2009-12-30 13:01:43   \n2        2009123020     NSW1        69         7832.03 2009-12-30 13:31:36   \n3        2009123021     NSW1        68         7832.03 2009-12-30 14:01:44   \n4        2009123022     NSW1        67         7830.96 2009-12-30 14:31:35   \n5        2009123023     NSW1        66         7842.03 2009-12-30 15:01:42   \n6        2009123024     NSW1        65         7841.08 2009-12-30 15:31:50   \n7        2009123025     NSW1        64         7842.07 2009-12-30 16:01:43   \n8        2009123026     NSW1        63         7841.90 2009-12-30 16:31:34   \n9        2009123027     NSW1        62         7841.90 2009-12-30 17:01:39   \n\n    DATETIME  \n0 2010-01-01  \n1 2010-01-01  \n2 2010-01-01  \n3 2010-01-01  \n4 2010-01-01  \n5 2010-01-01  \n6 2010-01-01  \n7 2010-01-01  \n8 2010-01-01  \n9 2010-01-01  ",
      "text/html": "<div>\n<style scoped>\n    .dataframe tbody tr th:only-of-type {\n        vertical-align: middle;\n    }\n\n    .dataframe tbody tr th {\n        vertical-align: top;\n    }\n\n    .dataframe thead th {\n        text-align: right;\n    }\n</style>\n<table border=\"1\" class=\"dataframe\">\n  <thead>\n    <tr style=\"text-align: right;\">\n      <th></th>\n      <th>PREDISPATCHSEQNO</th>\n      <th>REGIONID</th>\n      <th>PERIODID</th>\n      <th>FORECASTDEMAND</th>\n      <th>LASTCHANGED</th>\n      <th>DATETIME</th>\n    </tr>\n  </thead>\n  <tbody>\n    <tr>\n      <th>0</th>\n      <td>2009123018</td>\n      <td>NSW1</td>\n      <td>71</td>\n      <td>7832.04</td>\n      <td>2009-12-30 12:31:49</td>\n      <td>2010-01-01</td>\n    </tr>\n    <tr>\n      <th>1</th>\n      <td>2009123019</td>\n      <td>NSW1</td>\n      <td>70</td>\n      <td>7832.04</td>\n      <td>2009-12-30 13:01:43</td>\n      <td>2010-01-01</td>\n    </tr>\n    <tr>\n      <th>2</th>\n      <td>2009123020</td>\n      <td>NSW1</td>\n      <td>69</td>\n      <td>7832.03</td>\n      <td>2009-12-30 13:31:36</td>\n      <td>2010-01-01</td>\n    </tr>\n    <tr>\n      <th>3</th>\n      <td>2009123021</td>\n      <td>NSW1</td>\n      <td>68</td>\n      <td>7832.03</td>\n      <td>2009-12-30 14:01:44</td>\n      <td>2010-01-01</td>\n    </tr>\n    <tr>\n      <th>4</th>\n      <td>2009123022</td>\n      <td>NSW1</td>\n      <td>67</td>\n      <td>7830.96</td>\n      <td>2009-12-30 14:31:35</td>\n      <td>2010-01-01</td>\n    </tr>\n    <tr>\n      <th>5</th>\n      <td>2009123023</td>\n      <td>NSW1</td>\n      <td>66</td>\n      <td>7842.03</td>\n      <td>2009-12-30 15:01:42</td>\n      <td>2010-01-01</td>\n    </tr>\n    <tr>\n      <th>6</th>\n      <td>2009123024</td>\n      <td>NSW1</td>\n      <td>65</td>\n      <td>7841.08</td>\n      <td>2009-12-30 15:31:50</td>\n      <td>2010-01-01</td>\n    </tr>\n    <tr>\n      <th>7</th>\n      <td>2009123025</td>\n      <td>NSW1</td>\n      <td>64</td>\n      <td>7842.07</td>\n      <td>2009-12-30 16:01:43</td>\n      <td>2010-01-01</td>\n    </tr>\n    <tr>\n      <th>8</th>\n      <td>2009123026</td>\n      <td>NSW1</td>\n      <td>63</td>\n      <td>7841.90</td>\n      <td>2009-12-30 16:31:34</td>\n      <td>2010-01-01</td>\n    </tr>\n    <tr>\n      <th>9</th>\n      <td>2009123027</td>\n      <td>NSW1</td>\n      <td>62</td>\n      <td>7841.90</td>\n      <td>2009-12-30 17:01:39</td>\n      <td>2010-01-01</td>\n    </tr>\n  </tbody>\n</table>\n</div>"
     },
     "execution_count": 4,
     "metadata": {},
     "output_type": "execute_result"
    }
   ],
   "source": [
    "nsw_forecastdemand.head(10)"
   ],
   "metadata": {
    "collapsed": false,
    "ExecuteTime": {
     "end_time": "2024-03-29T21:55:23.973710Z",
     "start_time": "2024-03-29T21:55:23.964184Z"
    }
   },
   "id": "53bb74339eefcd46",
   "execution_count": 4
  },
  {
   "cell_type": "code",
   "outputs": [
    {
     "data": {
      "text/plain": "          PREDISPATCHSEQNO REGIONID  PERIODID  FORECASTDEMAND  \\\n10906014        2021031736     NSW1         5         7028.45   \n10906015        2021031737     NSW1         4         7041.65   \n10906016        2021031738     NSW1         3         7087.60   \n10906017        2021031739     NSW1         2         7087.28   \n10906018        2021031740     NSW1         1         7126.37   \n\n                 LASTCHANGED   DATETIME  \n10906014 2021-03-17 21:31:31 2021-03-18  \n10906015 2021-03-17 22:01:34 2021-03-18  \n10906016 2021-03-17 22:31:36 2021-03-18  \n10906017 2021-03-17 23:01:36 2021-03-18  \n10906018 2021-03-17 23:31:33 2021-03-18  ",
      "text/html": "<div>\n<style scoped>\n    .dataframe tbody tr th:only-of-type {\n        vertical-align: middle;\n    }\n\n    .dataframe tbody tr th {\n        vertical-align: top;\n    }\n\n    .dataframe thead th {\n        text-align: right;\n    }\n</style>\n<table border=\"1\" class=\"dataframe\">\n  <thead>\n    <tr style=\"text-align: right;\">\n      <th></th>\n      <th>PREDISPATCHSEQNO</th>\n      <th>REGIONID</th>\n      <th>PERIODID</th>\n      <th>FORECASTDEMAND</th>\n      <th>LASTCHANGED</th>\n      <th>DATETIME</th>\n    </tr>\n  </thead>\n  <tbody>\n    <tr>\n      <th>10906014</th>\n      <td>2021031736</td>\n      <td>NSW1</td>\n      <td>5</td>\n      <td>7028.45</td>\n      <td>2021-03-17 21:31:31</td>\n      <td>2021-03-18</td>\n    </tr>\n    <tr>\n      <th>10906015</th>\n      <td>2021031737</td>\n      <td>NSW1</td>\n      <td>4</td>\n      <td>7041.65</td>\n      <td>2021-03-17 22:01:34</td>\n      <td>2021-03-18</td>\n    </tr>\n    <tr>\n      <th>10906016</th>\n      <td>2021031738</td>\n      <td>NSW1</td>\n      <td>3</td>\n      <td>7087.60</td>\n      <td>2021-03-17 22:31:36</td>\n      <td>2021-03-18</td>\n    </tr>\n    <tr>\n      <th>10906017</th>\n      <td>2021031739</td>\n      <td>NSW1</td>\n      <td>2</td>\n      <td>7087.28</td>\n      <td>2021-03-17 23:01:36</td>\n      <td>2021-03-18</td>\n    </tr>\n    <tr>\n      <th>10906018</th>\n      <td>2021031740</td>\n      <td>NSW1</td>\n      <td>1</td>\n      <td>7126.37</td>\n      <td>2021-03-17 23:31:33</td>\n      <td>2021-03-18</td>\n    </tr>\n  </tbody>\n</table>\n</div>"
     },
     "execution_count": 5,
     "metadata": {},
     "output_type": "execute_result"
    }
   ],
   "source": [
    "nsw_forecastdemand.tail()"
   ],
   "metadata": {
    "collapsed": false,
    "ExecuteTime": {
     "end_time": "2024-03-29T21:55:23.979688Z",
     "start_time": "2024-03-29T21:55:23.974385Z"
    }
   },
   "id": "136002d88e82ee85",
   "execution_count": 5
  },
  {
   "cell_type": "code",
   "outputs": [
    {
     "name": "stdout",
     "output_type": "stream",
     "text": [
      "<class 'pandas.core.frame.DataFrame'>\n",
      "RangeIndex: 10906019 entries, 0 to 10906018\n",
      "Data columns (total 6 columns):\n",
      " #   Column            Dtype         \n",
      "---  ------            -----         \n",
      " 0   PREDISPATCHSEQNO  int64         \n",
      " 1   REGIONID          object        \n",
      " 2   PERIODID          int64         \n",
      " 3   FORECASTDEMAND    float64       \n",
      " 4   LASTCHANGED       datetime64[ns]\n",
      " 5   DATETIME          datetime64[ns]\n",
      "dtypes: datetime64[ns](2), float64(1), int64(2), object(1)\n",
      "memory usage: 499.2+ MB\n"
     ]
    }
   ],
   "source": [
    "nsw_forecastdemand.info()"
   ],
   "metadata": {
    "collapsed": false,
    "ExecuteTime": {
     "end_time": "2024-03-29T21:55:23.989162Z",
     "start_time": "2024-03-29T21:55:23.980319Z"
    }
   },
   "id": "b82dc3c30b78f0e5",
   "execution_count": 6
  },
  {
   "cell_type": "code",
   "outputs": [
    {
     "data": {
      "text/plain": "count    1.090602e+07\nmean     8.066719e+03\nstd      1.315959e+03\nmin      4.422460e+03\n25%      7.077970e+03\n50%      8.007550e+03\n75%      8.925610e+03\nmax      1.473666e+04\nName: FORECASTDEMAND, dtype: float64"
     },
     "execution_count": 7,
     "metadata": {},
     "output_type": "execute_result"
    }
   ],
   "source": [
    "nsw_forecastdemand['FORECASTDEMAND'].describe()"
   ],
   "metadata": {
    "collapsed": false,
    "ExecuteTime": {
     "end_time": "2024-03-29T21:55:24.159051Z",
     "start_time": "2024-03-29T21:55:23.990534Z"
    }
   },
   "id": "f497e772d6dda571",
   "execution_count": 7
  },
  {
   "cell_type": "code",
   "outputs": [
    {
     "data": {
      "text/plain": "(10906019, 6)"
     },
     "execution_count": 8,
     "metadata": {},
     "output_type": "execute_result"
    }
   ],
   "source": [
    "nsw_forecastdemand.shape"
   ],
   "metadata": {
    "collapsed": false,
    "ExecuteTime": {
     "end_time": "2024-03-29T21:55:24.161939Z",
     "start_time": "2024-03-29T21:55:24.159736Z"
    }
   },
   "id": "f84660284a900dbf",
   "execution_count": 8
  },
  {
   "cell_type": "code",
   "outputs": [
    {
     "data": {
      "text/plain": "PREDISPATCHSEQNO             2009123018\nREGIONID                           NSW1\nPERIODID                              1\nFORECASTDEMAND                  4422.46\nLASTCHANGED         2009-12-30 12:31:49\nDATETIME            2010-01-01 00:00:00\ndtype: object"
     },
     "execution_count": 9,
     "metadata": {},
     "output_type": "execute_result"
    }
   ],
   "source": [
    "nsw_forecastdemand.min()"
   ],
   "metadata": {
    "collapsed": false,
    "ExecuteTime": {
     "end_time": "2024-03-29T21:55:24.539873Z",
     "start_time": "2024-03-29T21:55:24.162510Z"
    }
   },
   "id": "6fffbd35c5fe6398",
   "execution_count": 9
  },
  {
   "cell_type": "code",
   "outputs": [
    {
     "data": {
      "text/plain": "PREDISPATCHSEQNO             2021031740\nREGIONID                           NSW1\nPERIODID                             79\nFORECASTDEMAND                 14736.66\nLASTCHANGED         2021-03-17 23:31:33\nDATETIME            2021-03-18 00:00:00\ndtype: object"
     },
     "execution_count": 10,
     "metadata": {},
     "output_type": "execute_result"
    }
   ],
   "source": [
    "nsw_forecastdemand.max()"
   ],
   "metadata": {
    "collapsed": false,
    "ExecuteTime": {
     "end_time": "2024-03-29T21:55:24.905361Z",
     "start_time": "2024-03-29T21:55:24.540579Z"
    }
   },
   "id": "1ea21f2cbadbecb5",
   "execution_count": 10
  },
  {
   "cell_type": "code",
   "outputs": [
    {
     "data": {
      "text/plain": "PREDISPATCHSEQNO    0\nREGIONID            0\nPERIODID            0\nFORECASTDEMAND      0\nLASTCHANGED         0\nDATETIME            0\ndtype: int64"
     },
     "execution_count": 11,
     "metadata": {},
     "output_type": "execute_result"
    }
   ],
   "source": [
    "nsw_forecastdemand.isnull().sum()"
   ],
   "metadata": {
    "collapsed": false,
    "ExecuteTime": {
     "end_time": "2024-03-29T21:55:25.149528Z",
     "start_time": "2024-03-29T21:55:24.906094Z"
    }
   },
   "id": "797134c7ed9dd4b9",
   "execution_count": 11
  },
  {
   "cell_type": "code",
   "outputs": [
    {
     "data": {
      "text/plain": "PREDISPATCHSEQNO    0\nREGIONID            0\nPERIODID            0\nFORECASTDEMAND      0\nLASTCHANGED         0\nDATETIME            0\ndtype: int64"
     },
     "execution_count": 12,
     "metadata": {},
     "output_type": "execute_result"
    }
   ],
   "source": [
    "nsw_forecastdemand.isna().sum()"
   ],
   "metadata": {
    "collapsed": false,
    "ExecuteTime": {
     "end_time": "2024-03-29T21:55:25.393344Z",
     "start_time": "2024-03-29T21:55:25.150188Z"
    }
   },
   "id": "c0b341526a3af11b",
   "execution_count": 12
  },
  {
   "cell_type": "code",
   "outputs": [
    {
     "data": {
      "text/plain": "PREDISPATCHSEQNO    196571\nREGIONID                 1\nPERIODID                79\nFORECASTDEMAND      681384\nLASTCHANGED         196571\nDATETIME            196513\ndtype: int64"
     },
     "execution_count": 13,
     "metadata": {},
     "output_type": "execute_result"
    }
   ],
   "source": [
    "nsw_forecastdemand.nunique()"
   ],
   "metadata": {
    "collapsed": false,
    "ExecuteTime": {
     "end_time": "2024-03-29T21:55:25.951708Z",
     "start_time": "2024-03-29T21:55:25.394089Z"
    }
   },
   "id": "2deb11cffe2a65fa",
   "execution_count": 13
  },
  {
   "cell_type": "code",
   "outputs": [
    {
     "data": {
      "text/plain": "PREDISPATCHSEQNO             int64\nREGIONID                    object\nPERIODID                     int64\nFORECASTDEMAND             float64\nLASTCHANGED         datetime64[ns]\nDATETIME            datetime64[ns]\ndtype: object"
     },
     "execution_count": 14,
     "metadata": {},
     "output_type": "execute_result"
    }
   ],
   "source": [
    "nsw_forecastdemand.dtypes"
   ],
   "metadata": {
    "collapsed": false,
    "ExecuteTime": {
     "end_time": "2024-03-29T21:55:25.954863Z",
     "start_time": "2024-03-29T21:55:25.952348Z"
    }
   },
   "id": "849e624285690d07",
   "execution_count": 14
  },
  {
   "cell_type": "markdown",
   "source": [
    "## NSW temperature"
   ],
   "metadata": {
    "collapsed": false
   },
   "id": "cc08193babded221"
  },
  {
   "cell_type": "code",
   "outputs": [],
   "source": [
    "nsw_temperature = pd.read_csv(\n",
    "    os.path.join(CFG.data_path, 'NSW', 'temperature_nsw.csv'), \n",
    "    parse_dates=['DATETIME'], \n",
    "    dayfirst=True\n",
    ")"
   ],
   "metadata": {
    "collapsed": false,
    "ExecuteTime": {
     "end_time": "2024-03-29T21:55:26.510768Z",
     "start_time": "2024-03-29T21:55:25.955422Z"
    }
   },
   "id": "a640330de9e81684",
   "execution_count": 15
  },
  {
   "cell_type": "code",
   "outputs": [],
   "source": [
    "nsw_temperature['DATE'] = pd.to_datetime(nsw_temperature['DATETIME'])"
   ],
   "metadata": {
    "collapsed": false,
    "ExecuteTime": {
     "end_time": "2024-03-29T21:55:26.516878Z",
     "start_time": "2024-03-29T21:55:26.511546Z"
    }
   },
   "id": "ed31a126284f2995",
   "execution_count": 16
  },
  {
   "cell_type": "code",
   "outputs": [
    {
     "data": {
      "text/plain": "LOCATION               object\nDATETIME       datetime64[ns]\nTEMPERATURE           float64\nDATE           datetime64[ns]\ndtype: object"
     },
     "execution_count": 17,
     "metadata": {},
     "output_type": "execute_result"
    }
   ],
   "source": [
    "nsw_temperature.dtypes"
   ],
   "metadata": {
    "collapsed": false,
    "ExecuteTime": {
     "end_time": "2024-03-29T21:55:26.589053Z",
     "start_time": "2024-03-29T21:55:26.517483Z"
    }
   },
   "id": "870e427a20bf494a",
   "execution_count": 17
  },
  {
   "cell_type": "code",
   "outputs": [
    {
     "data": {
      "text/plain": "                     TEMPERATURE\nDATE                            \n2010-01-01 00:00:00        23.10\n2010-01-01 00:30:00        22.80\n2010-01-01 01:00:00        22.60\n2010-01-01 01:30:00        22.50\n2010-01-01 02:00:00        22.50\n...                          ...\n2021-03-17 22:00:00        19.70\n2021-03-17 22:30:00        19.50\n2021-03-17 23:00:00        19.05\n2021-03-17 23:30:00        18.80\n2021-03-18 00:00:00        18.60\n\n[196513 rows x 1 columns]",
      "text/html": "<div>\n<style scoped>\n    .dataframe tbody tr th:only-of-type {\n        vertical-align: middle;\n    }\n\n    .dataframe tbody tr th {\n        vertical-align: top;\n    }\n\n    .dataframe thead th {\n        text-align: right;\n    }\n</style>\n<table border=\"1\" class=\"dataframe\">\n  <thead>\n    <tr style=\"text-align: right;\">\n      <th></th>\n      <th>TEMPERATURE</th>\n    </tr>\n    <tr>\n      <th>DATE</th>\n      <th></th>\n    </tr>\n  </thead>\n  <tbody>\n    <tr>\n      <th>2010-01-01 00:00:00</th>\n      <td>23.10</td>\n    </tr>\n    <tr>\n      <th>2010-01-01 00:30:00</th>\n      <td>22.80</td>\n    </tr>\n    <tr>\n      <th>2010-01-01 01:00:00</th>\n      <td>22.60</td>\n    </tr>\n    <tr>\n      <th>2010-01-01 01:30:00</th>\n      <td>22.50</td>\n    </tr>\n    <tr>\n      <th>2010-01-01 02:00:00</th>\n      <td>22.50</td>\n    </tr>\n    <tr>\n      <th>...</th>\n      <td>...</td>\n    </tr>\n    <tr>\n      <th>2021-03-17 22:00:00</th>\n      <td>19.70</td>\n    </tr>\n    <tr>\n      <th>2021-03-17 22:30:00</th>\n      <td>19.50</td>\n    </tr>\n    <tr>\n      <th>2021-03-17 23:00:00</th>\n      <td>19.05</td>\n    </tr>\n    <tr>\n      <th>2021-03-17 23:30:00</th>\n      <td>18.80</td>\n    </tr>\n    <tr>\n      <th>2021-03-18 00:00:00</th>\n      <td>18.60</td>\n    </tr>\n  </tbody>\n</table>\n<p>196513 rows × 1 columns</p>\n</div>"
     },
     "execution_count": 18,
     "metadata": {},
     "output_type": "execute_result"
    }
   ],
   "source": [
    "nsw_temperature[['DATE', 'TEMPERATURE']].set_index('DATE').resample('30min').mean()"
   ],
   "metadata": {
    "collapsed": false,
    "ExecuteTime": {
     "end_time": "2024-03-29T21:55:26.609662Z",
     "start_time": "2024-03-29T21:55:26.589654Z"
    }
   },
   "id": "75305deb91541df6",
   "execution_count": 18
  },
  {
   "cell_type": "code",
   "outputs": [],
   "source": [
    "# nsw_temperature.groupby(pd.Grouper(key='DATE', freq='30min')).mean().reset_index()"
   ],
   "metadata": {
    "collapsed": false,
    "ExecuteTime": {
     "end_time": "2024-03-29T21:55:26.613232Z",
     "start_time": "2024-03-29T21:55:26.610348Z"
    }
   },
   "id": "5de0e5a6d6d71c44",
   "execution_count": 19
  },
  {
   "cell_type": "code",
   "outputs": [
    {
     "data": {
      "text/plain": "    LOCATION            DATETIME  TEMPERATURE                DATE\n0  Bankstown 2010-01-01 00:00:00         23.1 2010-01-01 00:00:00\n1  Bankstown 2010-01-01 00:01:00         23.1 2010-01-01 00:01:00\n2  Bankstown 2010-01-01 00:30:00         22.9 2010-01-01 00:30:00\n3  Bankstown 2010-01-01 00:50:00         22.7 2010-01-01 00:50:00\n4  Bankstown 2010-01-01 01:00:00         22.6 2010-01-01 01:00:00\n5  Bankstown 2010-01-01 01:30:00         22.5 2010-01-01 01:30:00\n6  Bankstown 2010-01-01 02:00:00         22.5 2010-01-01 02:00:00\n7  Bankstown 2010-01-01 02:30:00         22.4 2010-01-01 02:30:00\n8  Bankstown 2010-01-01 03:00:00         22.3 2010-01-01 03:00:00\n9  Bankstown 2010-01-01 03:30:00         22.3 2010-01-01 03:30:00",
      "text/html": "<div>\n<style scoped>\n    .dataframe tbody tr th:only-of-type {\n        vertical-align: middle;\n    }\n\n    .dataframe tbody tr th {\n        vertical-align: top;\n    }\n\n    .dataframe thead th {\n        text-align: right;\n    }\n</style>\n<table border=\"1\" class=\"dataframe\">\n  <thead>\n    <tr style=\"text-align: right;\">\n      <th></th>\n      <th>LOCATION</th>\n      <th>DATETIME</th>\n      <th>TEMPERATURE</th>\n      <th>DATE</th>\n    </tr>\n  </thead>\n  <tbody>\n    <tr>\n      <th>0</th>\n      <td>Bankstown</td>\n      <td>2010-01-01 00:00:00</td>\n      <td>23.1</td>\n      <td>2010-01-01 00:00:00</td>\n    </tr>\n    <tr>\n      <th>1</th>\n      <td>Bankstown</td>\n      <td>2010-01-01 00:01:00</td>\n      <td>23.1</td>\n      <td>2010-01-01 00:01:00</td>\n    </tr>\n    <tr>\n      <th>2</th>\n      <td>Bankstown</td>\n      <td>2010-01-01 00:30:00</td>\n      <td>22.9</td>\n      <td>2010-01-01 00:30:00</td>\n    </tr>\n    <tr>\n      <th>3</th>\n      <td>Bankstown</td>\n      <td>2010-01-01 00:50:00</td>\n      <td>22.7</td>\n      <td>2010-01-01 00:50:00</td>\n    </tr>\n    <tr>\n      <th>4</th>\n      <td>Bankstown</td>\n      <td>2010-01-01 01:00:00</td>\n      <td>22.6</td>\n      <td>2010-01-01 01:00:00</td>\n    </tr>\n    <tr>\n      <th>5</th>\n      <td>Bankstown</td>\n      <td>2010-01-01 01:30:00</td>\n      <td>22.5</td>\n      <td>2010-01-01 01:30:00</td>\n    </tr>\n    <tr>\n      <th>6</th>\n      <td>Bankstown</td>\n      <td>2010-01-01 02:00:00</td>\n      <td>22.5</td>\n      <td>2010-01-01 02:00:00</td>\n    </tr>\n    <tr>\n      <th>7</th>\n      <td>Bankstown</td>\n      <td>2010-01-01 02:30:00</td>\n      <td>22.4</td>\n      <td>2010-01-01 02:30:00</td>\n    </tr>\n    <tr>\n      <th>8</th>\n      <td>Bankstown</td>\n      <td>2010-01-01 03:00:00</td>\n      <td>22.3</td>\n      <td>2010-01-01 03:00:00</td>\n    </tr>\n    <tr>\n      <th>9</th>\n      <td>Bankstown</td>\n      <td>2010-01-01 03:30:00</td>\n      <td>22.3</td>\n      <td>2010-01-01 03:30:00</td>\n    </tr>\n  </tbody>\n</table>\n</div>"
     },
     "execution_count": 20,
     "metadata": {},
     "output_type": "execute_result"
    }
   ],
   "source": [
    "nsw_temperature.head(10)"
   ],
   "metadata": {
    "collapsed": false,
    "ExecuteTime": {
     "end_time": "2024-03-29T21:55:26.625549Z",
     "start_time": "2024-03-29T21:55:26.613808Z"
    }
   },
   "id": "7576c21900c45ed3",
   "execution_count": 20
  },
  {
   "cell_type": "code",
   "outputs": [
    {
     "data": {
      "text/plain": "         LOCATION            DATETIME  TEMPERATURE                DATE\n220316  Bankstown 2021-03-17 21:00:00         19.2 2021-03-17 21:00:00\n220317  Bankstown 2021-03-17 21:01:00         18.4 2021-03-17 21:01:00\n220318  Bankstown 2021-03-17 21:30:00         19.7 2021-03-17 21:30:00\n220319  Bankstown 2021-03-17 22:00:00         19.7 2021-03-17 22:00:00\n220320  Bankstown 2021-03-17 22:30:00         19.5 2021-03-17 22:30:00\n220321  Bankstown 2021-03-17 23:00:00         19.1 2021-03-17 23:00:00\n220322  Bankstown 2021-03-17 23:20:00         19.0 2021-03-17 23:20:00\n220323  Bankstown 2021-03-17 23:30:00         18.8 2021-03-17 23:30:00\n220324  Bankstown 2021-03-17 23:34:00         18.8 2021-03-17 23:34:00\n220325  Bankstown 2021-03-18 00:00:00         18.6 2021-03-18 00:00:00",
      "text/html": "<div>\n<style scoped>\n    .dataframe tbody tr th:only-of-type {\n        vertical-align: middle;\n    }\n\n    .dataframe tbody tr th {\n        vertical-align: top;\n    }\n\n    .dataframe thead th {\n        text-align: right;\n    }\n</style>\n<table border=\"1\" class=\"dataframe\">\n  <thead>\n    <tr style=\"text-align: right;\">\n      <th></th>\n      <th>LOCATION</th>\n      <th>DATETIME</th>\n      <th>TEMPERATURE</th>\n      <th>DATE</th>\n    </tr>\n  </thead>\n  <tbody>\n    <tr>\n      <th>220316</th>\n      <td>Bankstown</td>\n      <td>2021-03-17 21:00:00</td>\n      <td>19.2</td>\n      <td>2021-03-17 21:00:00</td>\n    </tr>\n    <tr>\n      <th>220317</th>\n      <td>Bankstown</td>\n      <td>2021-03-17 21:01:00</td>\n      <td>18.4</td>\n      <td>2021-03-17 21:01:00</td>\n    </tr>\n    <tr>\n      <th>220318</th>\n      <td>Bankstown</td>\n      <td>2021-03-17 21:30:00</td>\n      <td>19.7</td>\n      <td>2021-03-17 21:30:00</td>\n    </tr>\n    <tr>\n      <th>220319</th>\n      <td>Bankstown</td>\n      <td>2021-03-17 22:00:00</td>\n      <td>19.7</td>\n      <td>2021-03-17 22:00:00</td>\n    </tr>\n    <tr>\n      <th>220320</th>\n      <td>Bankstown</td>\n      <td>2021-03-17 22:30:00</td>\n      <td>19.5</td>\n      <td>2021-03-17 22:30:00</td>\n    </tr>\n    <tr>\n      <th>220321</th>\n      <td>Bankstown</td>\n      <td>2021-03-17 23:00:00</td>\n      <td>19.1</td>\n      <td>2021-03-17 23:00:00</td>\n    </tr>\n    <tr>\n      <th>220322</th>\n      <td>Bankstown</td>\n      <td>2021-03-17 23:20:00</td>\n      <td>19.0</td>\n      <td>2021-03-17 23:20:00</td>\n    </tr>\n    <tr>\n      <th>220323</th>\n      <td>Bankstown</td>\n      <td>2021-03-17 23:30:00</td>\n      <td>18.8</td>\n      <td>2021-03-17 23:30:00</td>\n    </tr>\n    <tr>\n      <th>220324</th>\n      <td>Bankstown</td>\n      <td>2021-03-17 23:34:00</td>\n      <td>18.8</td>\n      <td>2021-03-17 23:34:00</td>\n    </tr>\n    <tr>\n      <th>220325</th>\n      <td>Bankstown</td>\n      <td>2021-03-18 00:00:00</td>\n      <td>18.6</td>\n      <td>2021-03-18 00:00:00</td>\n    </tr>\n  </tbody>\n</table>\n</div>"
     },
     "execution_count": 21,
     "metadata": {},
     "output_type": "execute_result"
    }
   ],
   "source": [
    "nsw_temperature.tail(10)"
   ],
   "metadata": {
    "collapsed": false,
    "ExecuteTime": {
     "end_time": "2024-03-29T21:55:26.638414Z",
     "start_time": "2024-03-29T21:55:26.626165Z"
    }
   },
   "id": "db7ae64dd3bb99ad",
   "execution_count": 21
  },
  {
   "cell_type": "code",
   "outputs": [
    {
     "name": "stdout",
     "output_type": "stream",
     "text": [
      "<class 'pandas.core.frame.DataFrame'>\n",
      "RangeIndex: 220326 entries, 0 to 220325\n",
      "Data columns (total 4 columns):\n",
      " #   Column       Non-Null Count   Dtype         \n",
      "---  ------       --------------   -----         \n",
      " 0   LOCATION     220326 non-null  object        \n",
      " 1   DATETIME     220326 non-null  datetime64[ns]\n",
      " 2   TEMPERATURE  220326 non-null  float64       \n",
      " 3   DATE         220326 non-null  datetime64[ns]\n",
      "dtypes: datetime64[ns](2), float64(1), object(1)\n",
      "memory usage: 6.7+ MB\n"
     ]
    }
   ],
   "source": [
    "nsw_temperature.info()"
   ],
   "metadata": {
    "collapsed": false,
    "ExecuteTime": {
     "end_time": "2024-03-29T21:55:26.657045Z",
     "start_time": "2024-03-29T21:55:26.641844Z"
    }
   },
   "id": "f3bf79281129fb56",
   "execution_count": 22
  },
  {
   "cell_type": "code",
   "outputs": [
    {
     "data": {
      "text/plain": "count    220326.000000\nmean         17.418827\nstd           5.849763\nmin          -1.300000\n25%          13.400000\n50%          17.700000\n75%          21.300000\nmax          44.700000\nName: TEMPERATURE, dtype: float64"
     },
     "execution_count": 23,
     "metadata": {},
     "output_type": "execute_result"
    }
   ],
   "source": [
    "nsw_temperature['TEMPERATURE'].describe()"
   ],
   "metadata": {
    "collapsed": false,
    "ExecuteTime": {
     "end_time": "2024-03-29T21:55:26.667147Z",
     "start_time": "2024-03-29T21:55:26.657851Z"
    }
   },
   "id": "354f6fedc12bc206",
   "execution_count": 23
  },
  {
   "cell_type": "code",
   "outputs": [
    {
     "data": {
      "text/plain": "(220326, 4)"
     },
     "execution_count": 24,
     "metadata": {},
     "output_type": "execute_result"
    }
   ],
   "source": [
    "nsw_temperature.shape"
   ],
   "metadata": {
    "collapsed": false,
    "ExecuteTime": {
     "end_time": "2024-03-29T21:55:26.669835Z",
     "start_time": "2024-03-29T21:55:26.667816Z"
    }
   },
   "id": "3ada1a9a636fa4d2",
   "execution_count": 24
  },
  {
   "cell_type": "code",
   "outputs": [
    {
     "data": {
      "text/plain": "LOCATION                 Bankstown\nDATETIME       2010-01-01 00:00:00\nTEMPERATURE                   -1.3\nDATE           2010-01-01 00:00:00\ndtype: object"
     },
     "execution_count": 25,
     "metadata": {},
     "output_type": "execute_result"
    }
   ],
   "source": [
    "nsw_temperature.min()"
   ],
   "metadata": {
    "collapsed": false,
    "ExecuteTime": {
     "end_time": "2024-03-29T21:55:26.692766Z",
     "start_time": "2024-03-29T21:55:26.670358Z"
    }
   },
   "id": "e9e151649e0d5d11",
   "execution_count": 25
  },
  {
   "cell_type": "code",
   "outputs": [
    {
     "data": {
      "text/plain": "LOCATION                 Bankstown\nDATETIME       2021-03-18 00:00:00\nTEMPERATURE                   44.7\nDATE           2021-03-18 00:00:00\ndtype: object"
     },
     "execution_count": 26,
     "metadata": {},
     "output_type": "execute_result"
    }
   ],
   "source": [
    "nsw_temperature.max()"
   ],
   "metadata": {
    "collapsed": false,
    "ExecuteTime": {
     "end_time": "2024-03-29T21:55:26.706643Z",
     "start_time": "2024-03-29T21:55:26.693459Z"
    }
   },
   "id": "5b62417f3ff514f",
   "execution_count": 26
  },
  {
   "cell_type": "code",
   "outputs": [
    {
     "data": {
      "text/plain": "LOCATION       0\nDATETIME       0\nTEMPERATURE    0\nDATE           0\ndtype: int64"
     },
     "execution_count": 27,
     "metadata": {},
     "output_type": "execute_result"
    }
   ],
   "source": [
    "nsw_temperature.isnull().sum()"
   ],
   "metadata": {
    "collapsed": false,
    "ExecuteTime": {
     "end_time": "2024-03-29T21:55:26.717658Z",
     "start_time": "2024-03-29T21:55:26.707264Z"
    }
   },
   "id": "8be3f6070e9182d6",
   "execution_count": 27
  },
  {
   "cell_type": "code",
   "outputs": [
    {
     "data": {
      "text/plain": "LOCATION       0\nDATETIME       0\nTEMPERATURE    0\nDATE           0\ndtype: int64"
     },
     "execution_count": 28,
     "metadata": {},
     "output_type": "execute_result"
    }
   ],
   "source": [
    "nsw_temperature.isna().sum()"
   ],
   "metadata": {
    "collapsed": false,
    "ExecuteTime": {
     "end_time": "2024-03-29T21:55:26.731113Z",
     "start_time": "2024-03-29T21:55:26.718215Z"
    }
   },
   "id": "c6cad7ed839ef51",
   "execution_count": 28
  },
  {
   "cell_type": "code",
   "outputs": [
    {
     "data": {
      "text/plain": "LOCATION            1\nDATETIME       220313\nTEMPERATURE       439\nDATE           220313\ndtype: int64"
     },
     "execution_count": 29,
     "metadata": {},
     "output_type": "execute_result"
    }
   ],
   "source": [
    "nsw_temperature.nunique()"
   ],
   "metadata": {
    "collapsed": false,
    "ExecuteTime": {
     "end_time": "2024-03-29T21:55:26.756322Z",
     "start_time": "2024-03-29T21:55:26.731677Z"
    }
   },
   "id": "5c0e6c3e16f2f338",
   "execution_count": 29
  },
  {
   "cell_type": "code",
   "outputs": [
    {
     "data": {
      "text/plain": "LOCATION               object\nDATETIME       datetime64[ns]\nTEMPERATURE           float64\nDATE           datetime64[ns]\ndtype: object"
     },
     "execution_count": 30,
     "metadata": {},
     "output_type": "execute_result"
    }
   ],
   "source": [
    "nsw_temperature.dtypes"
   ],
   "metadata": {
    "collapsed": false,
    "ExecuteTime": {
     "end_time": "2024-03-29T21:55:26.759392Z",
     "start_time": "2024-03-29T21:55:26.756964Z"
    }
   },
   "id": "370b68fae58fb6bb",
   "execution_count": 30
  },
  {
   "cell_type": "markdown",
   "source": [
    "## NSW Total Demand"
   ],
   "metadata": {
    "collapsed": false
   },
   "id": "f2b679e6da2a678e"
  },
  {
   "cell_type": "code",
   "outputs": [],
   "source": [
    "nsw_totaldemand = pd.read_csv(\n",
    "    os.path.join(CFG.data_path, 'NSW', 'totaldemand_nsw.csv'), \n",
    "    parse_dates=['DATETIME'], \n",
    "    dayfirst=True\n",
    ")"
   ],
   "metadata": {
    "collapsed": false,
    "ExecuteTime": {
     "end_time": "2024-03-29T21:55:27.218677Z",
     "start_time": "2024-03-29T21:55:26.759949Z"
    }
   },
   "id": "8558a6cdf94fb75e",
   "execution_count": 31
  },
  {
   "cell_type": "code",
   "outputs": [
    {
     "data": {
      "text/plain": "             DATETIME  TOTALDEMAND REGIONID\n0 2010-01-01 00:00:00      8038.00     NSW1\n1 2010-01-01 00:30:00      7809.31     NSW1\n2 2010-01-01 01:00:00      7483.69     NSW1\n3 2010-01-01 01:30:00      7117.23     NSW1\n4 2010-01-01 02:00:00      6812.03     NSW1",
      "text/html": "<div>\n<style scoped>\n    .dataframe tbody tr th:only-of-type {\n        vertical-align: middle;\n    }\n\n    .dataframe tbody tr th {\n        vertical-align: top;\n    }\n\n    .dataframe thead th {\n        text-align: right;\n    }\n</style>\n<table border=\"1\" class=\"dataframe\">\n  <thead>\n    <tr style=\"text-align: right;\">\n      <th></th>\n      <th>DATETIME</th>\n      <th>TOTALDEMAND</th>\n      <th>REGIONID</th>\n    </tr>\n  </thead>\n  <tbody>\n    <tr>\n      <th>0</th>\n      <td>2010-01-01 00:00:00</td>\n      <td>8038.00</td>\n      <td>NSW1</td>\n    </tr>\n    <tr>\n      <th>1</th>\n      <td>2010-01-01 00:30:00</td>\n      <td>7809.31</td>\n      <td>NSW1</td>\n    </tr>\n    <tr>\n      <th>2</th>\n      <td>2010-01-01 01:00:00</td>\n      <td>7483.69</td>\n      <td>NSW1</td>\n    </tr>\n    <tr>\n      <th>3</th>\n      <td>2010-01-01 01:30:00</td>\n      <td>7117.23</td>\n      <td>NSW1</td>\n    </tr>\n    <tr>\n      <th>4</th>\n      <td>2010-01-01 02:00:00</td>\n      <td>6812.03</td>\n      <td>NSW1</td>\n    </tr>\n  </tbody>\n</table>\n</div>"
     },
     "execution_count": 32,
     "metadata": {},
     "output_type": "execute_result"
    }
   ],
   "source": [
    "nsw_totaldemand.head()"
   ],
   "metadata": {
    "collapsed": false,
    "ExecuteTime": {
     "end_time": "2024-03-29T21:55:27.223170Z",
     "start_time": "2024-03-29T21:55:27.219438Z"
    }
   },
   "id": "f4e72c07eb99b07b",
   "execution_count": 32
  },
  {
   "cell_type": "code",
   "outputs": [
    {
     "data": {
      "text/plain": "                  DATETIME  TOTALDEMAND REGIONID\n196508 2021-03-17 22:00:00      7419.77     NSW1\n196509 2021-03-17 22:30:00      7417.91     NSW1\n196510 2021-03-17 23:00:00      7287.32     NSW1\n196511 2021-03-17 23:30:00      7172.39     NSW1\n196512 2021-03-18 00:00:00      7094.51     NSW1",
      "text/html": "<div>\n<style scoped>\n    .dataframe tbody tr th:only-of-type {\n        vertical-align: middle;\n    }\n\n    .dataframe tbody tr th {\n        vertical-align: top;\n    }\n\n    .dataframe thead th {\n        text-align: right;\n    }\n</style>\n<table border=\"1\" class=\"dataframe\">\n  <thead>\n    <tr style=\"text-align: right;\">\n      <th></th>\n      <th>DATETIME</th>\n      <th>TOTALDEMAND</th>\n      <th>REGIONID</th>\n    </tr>\n  </thead>\n  <tbody>\n    <tr>\n      <th>196508</th>\n      <td>2021-03-17 22:00:00</td>\n      <td>7419.77</td>\n      <td>NSW1</td>\n    </tr>\n    <tr>\n      <th>196509</th>\n      <td>2021-03-17 22:30:00</td>\n      <td>7417.91</td>\n      <td>NSW1</td>\n    </tr>\n    <tr>\n      <th>196510</th>\n      <td>2021-03-17 23:00:00</td>\n      <td>7287.32</td>\n      <td>NSW1</td>\n    </tr>\n    <tr>\n      <th>196511</th>\n      <td>2021-03-17 23:30:00</td>\n      <td>7172.39</td>\n      <td>NSW1</td>\n    </tr>\n    <tr>\n      <th>196512</th>\n      <td>2021-03-18 00:00:00</td>\n      <td>7094.51</td>\n      <td>NSW1</td>\n    </tr>\n  </tbody>\n</table>\n</div>"
     },
     "execution_count": 33,
     "metadata": {},
     "output_type": "execute_result"
    }
   ],
   "source": [
    "nsw_totaldemand.tail()"
   ],
   "metadata": {
    "collapsed": false,
    "ExecuteTime": {
     "end_time": "2024-03-29T21:55:27.295552Z",
     "start_time": "2024-03-29T21:55:27.223710Z"
    }
   },
   "id": "e2d3468d5061cf41",
   "execution_count": 33
  },
  {
   "cell_type": "code",
   "outputs": [
    {
     "name": "stdout",
     "output_type": "stream",
     "text": [
      "<class 'pandas.core.frame.DataFrame'>\n",
      "RangeIndex: 196513 entries, 0 to 196512\n",
      "Data columns (total 3 columns):\n",
      " #   Column       Non-Null Count   Dtype         \n",
      "---  ------       --------------   -----         \n",
      " 0   DATETIME     196513 non-null  datetime64[ns]\n",
      " 1   TOTALDEMAND  196513 non-null  float64       \n",
      " 2   REGIONID     196513 non-null  object        \n",
      "dtypes: datetime64[ns](1), float64(1), object(1)\n",
      "memory usage: 4.5+ MB\n"
     ]
    }
   ],
   "source": [
    "nsw_totaldemand.info()"
   ],
   "metadata": {
    "collapsed": false,
    "ExecuteTime": {
     "end_time": "2024-03-29T21:55:27.311262Z",
     "start_time": "2024-03-29T21:55:27.296243Z"
    }
   },
   "id": "681e4062d87c3776",
   "execution_count": 34
  },
  {
   "cell_type": "code",
   "outputs": [
    {
     "data": {
      "text/plain": "count    196513.000000\nmean       8113.145859\nstd        1299.532774\nmin        5074.630000\n25%        7150.070000\n50%        8053.230000\n75%        8958.550000\nmax       14579.860000\nName: TOTALDEMAND, dtype: float64"
     },
     "execution_count": 35,
     "metadata": {},
     "output_type": "execute_result"
    }
   ],
   "source": [
    "nsw_totaldemand['TOTALDEMAND'].describe()"
   ],
   "metadata": {
    "collapsed": false,
    "ExecuteTime": {
     "end_time": "2024-03-29T21:55:27.318512Z",
     "start_time": "2024-03-29T21:55:27.311888Z"
    }
   },
   "id": "e55c534c0b180b3d",
   "execution_count": 35
  },
  {
   "cell_type": "code",
   "outputs": [
    {
     "data": {
      "text/plain": "(196513, 3)"
     },
     "execution_count": 36,
     "metadata": {},
     "output_type": "execute_result"
    }
   ],
   "source": [
    "nsw_totaldemand.shape"
   ],
   "metadata": {
    "collapsed": false,
    "ExecuteTime": {
     "end_time": "2024-03-29T21:55:27.321316Z",
     "start_time": "2024-03-29T21:55:27.319111Z"
    }
   },
   "id": "fc750c3c10fa1728",
   "execution_count": 36
  },
  {
   "cell_type": "code",
   "outputs": [
    {
     "data": {
      "text/plain": "DATETIME       2010-01-01 00:00:00\nTOTALDEMAND                5074.63\nREGIONID                      NSW1\ndtype: object"
     },
     "execution_count": 37,
     "metadata": {},
     "output_type": "execute_result"
    }
   ],
   "source": [
    "nsw_totaldemand.min()"
   ],
   "metadata": {
    "collapsed": false,
    "ExecuteTime": {
     "end_time": "2024-03-29T21:55:27.335014Z",
     "start_time": "2024-03-29T21:55:27.321854Z"
    }
   },
   "id": "71f63695bf4e1b8f",
   "execution_count": 37
  },
  {
   "cell_type": "code",
   "outputs": [
    {
     "data": {
      "text/plain": "DATETIME       2021-03-18 00:00:00\nTOTALDEMAND               14579.86\nREGIONID                      NSW1\ndtype: object"
     },
     "execution_count": 38,
     "metadata": {},
     "output_type": "execute_result"
    }
   ],
   "source": [
    "nsw_totaldemand.max()"
   ],
   "metadata": {
    "collapsed": false,
    "ExecuteTime": {
     "end_time": "2024-03-29T21:55:27.343544Z",
     "start_time": "2024-03-29T21:55:27.335595Z"
    }
   },
   "id": "d9cfce3032926002",
   "execution_count": 38
  },
  {
   "cell_type": "code",
   "outputs": [
    {
     "data": {
      "text/plain": "DATETIME       0\nTOTALDEMAND    0\nREGIONID       0\ndtype: int64"
     },
     "execution_count": 39,
     "metadata": {},
     "output_type": "execute_result"
    }
   ],
   "source": [
    "nsw_totaldemand.isnull().sum()"
   ],
   "metadata": {
    "collapsed": false,
    "ExecuteTime": {
     "end_time": "2024-03-29T21:55:27.350723Z",
     "start_time": "2024-03-29T21:55:27.344078Z"
    }
   },
   "id": "b23744a8dc6b5376",
   "execution_count": 39
  },
  {
   "cell_type": "code",
   "outputs": [
    {
     "data": {
      "text/plain": "DATETIME       0\nTOTALDEMAND    0\nREGIONID       0\ndtype: int64"
     },
     "execution_count": 40,
     "metadata": {},
     "output_type": "execute_result"
    }
   ],
   "source": [
    "nsw_totaldemand.isna().sum()"
   ],
   "metadata": {
    "collapsed": false,
    "ExecuteTime": {
     "end_time": "2024-03-29T21:55:27.361897Z",
     "start_time": "2024-03-29T21:55:27.351299Z"
    }
   },
   "id": "ffa4adc5a6c74292",
   "execution_count": 40
  },
  {
   "cell_type": "code",
   "outputs": [
    {
     "data": {
      "text/plain": "DATETIME       196513\nTOTALDEMAND    160515\nREGIONID            1\ndtype: int64"
     },
     "execution_count": 41,
     "metadata": {},
     "output_type": "execute_result"
    }
   ],
   "source": [
    "nsw_totaldemand.nunique()"
   ],
   "metadata": {
    "collapsed": false,
    "ExecuteTime": {
     "end_time": "2024-03-29T21:55:27.377308Z",
     "start_time": "2024-03-29T21:55:27.362460Z"
    }
   },
   "id": "3a4e45db53d1f985",
   "execution_count": 41
  },
  {
   "cell_type": "code",
   "outputs": [
    {
     "data": {
      "text/plain": "DATETIME       datetime64[ns]\nTOTALDEMAND           float64\nREGIONID               object\ndtype: object"
     },
     "execution_count": 42,
     "metadata": {},
     "output_type": "execute_result"
    }
   ],
   "source": [
    "nsw_totaldemand.dtypes"
   ],
   "metadata": {
    "collapsed": false,
    "ExecuteTime": {
     "end_time": "2024-03-29T21:55:27.381119Z",
     "start_time": "2024-03-29T21:55:27.377945Z"
    }
   },
   "id": "674217cbe3f28c3",
   "execution_count": 42
  },
  {
   "cell_type": "markdown",
   "source": [
    "## merge step 1"
   ],
   "metadata": {
    "collapsed": false
   },
   "id": "13120e134b3dcf60"
  },
  {
   "cell_type": "code",
   "outputs": [],
   "source": [
    "merged_df = pd.merge(\n",
    "    nsw_totaldemand[['DATETIME', 'TOTALDEMAND']], \n",
    "    nsw_forecastdemand[['FORECASTDEMAND', 'DATETIME']], \n",
    "    on=['DATETIME'],\n",
    "    how='inner'\n",
    ")\n",
    "\n",
    "# fix_me: need to group by 30min and then merge dataframes together. left inner join is not great. drop location column"
   ],
   "metadata": {
    "collapsed": false,
    "ExecuteTime": {
     "end_time": "2024-03-29T21:55:27.668535Z",
     "start_time": "2024-03-29T21:55:27.381626Z"
    }
   },
   "id": "cd3bac8adc87bb3",
   "execution_count": 43
  },
  {
   "cell_type": "code",
   "outputs": [
    {
     "data": {
      "text/plain": "              DATETIME  TOTALDEMAND  FORECASTDEMAND\n0  2010-01-01 00:00:00      8038.00         7832.04\n1  2010-01-01 00:00:00      8038.00         7832.04\n2  2010-01-01 00:00:00      8038.00         7832.03\n3  2010-01-01 00:00:00      8038.00         7832.03\n4  2010-01-01 00:00:00      8038.00         7830.96\n..                 ...          ...             ...\n95 2010-01-01 00:30:00      7809.31         7715.68\n96 2010-01-01 00:30:00      7809.31         7716.52\n97 2010-01-01 00:30:00      7809.31         7716.82\n98 2010-01-01 00:30:00      7809.31         7709.87\n99 2010-01-01 00:30:00      7809.31         7709.95\n\n[100 rows x 3 columns]",
      "text/html": "<div>\n<style scoped>\n    .dataframe tbody tr th:only-of-type {\n        vertical-align: middle;\n    }\n\n    .dataframe tbody tr th {\n        vertical-align: top;\n    }\n\n    .dataframe thead th {\n        text-align: right;\n    }\n</style>\n<table border=\"1\" class=\"dataframe\">\n  <thead>\n    <tr style=\"text-align: right;\">\n      <th></th>\n      <th>DATETIME</th>\n      <th>TOTALDEMAND</th>\n      <th>FORECASTDEMAND</th>\n    </tr>\n  </thead>\n  <tbody>\n    <tr>\n      <th>0</th>\n      <td>2010-01-01 00:00:00</td>\n      <td>8038.00</td>\n      <td>7832.04</td>\n    </tr>\n    <tr>\n      <th>1</th>\n      <td>2010-01-01 00:00:00</td>\n      <td>8038.00</td>\n      <td>7832.04</td>\n    </tr>\n    <tr>\n      <th>2</th>\n      <td>2010-01-01 00:00:00</td>\n      <td>8038.00</td>\n      <td>7832.03</td>\n    </tr>\n    <tr>\n      <th>3</th>\n      <td>2010-01-01 00:00:00</td>\n      <td>8038.00</td>\n      <td>7832.03</td>\n    </tr>\n    <tr>\n      <th>4</th>\n      <td>2010-01-01 00:00:00</td>\n      <td>8038.00</td>\n      <td>7830.96</td>\n    </tr>\n    <tr>\n      <th>...</th>\n      <td>...</td>\n      <td>...</td>\n      <td>...</td>\n    </tr>\n    <tr>\n      <th>95</th>\n      <td>2010-01-01 00:30:00</td>\n      <td>7809.31</td>\n      <td>7715.68</td>\n    </tr>\n    <tr>\n      <th>96</th>\n      <td>2010-01-01 00:30:00</td>\n      <td>7809.31</td>\n      <td>7716.52</td>\n    </tr>\n    <tr>\n      <th>97</th>\n      <td>2010-01-01 00:30:00</td>\n      <td>7809.31</td>\n      <td>7716.82</td>\n    </tr>\n    <tr>\n      <th>98</th>\n      <td>2010-01-01 00:30:00</td>\n      <td>7809.31</td>\n      <td>7709.87</td>\n    </tr>\n    <tr>\n      <th>99</th>\n      <td>2010-01-01 00:30:00</td>\n      <td>7809.31</td>\n      <td>7709.95</td>\n    </tr>\n  </tbody>\n</table>\n<p>100 rows × 3 columns</p>\n</div>"
     },
     "execution_count": 44,
     "metadata": {},
     "output_type": "execute_result"
    }
   ],
   "source": [
    "merged_df.head(100)"
   ],
   "metadata": {
    "collapsed": false,
    "ExecuteTime": {
     "end_time": "2024-03-29T21:55:27.674262Z",
     "start_time": "2024-03-29T21:55:27.669316Z"
    }
   },
   "id": "936d5fda3166bec",
   "execution_count": 44
  },
  {
   "cell_type": "code",
   "outputs": [
    {
     "data": {
      "text/plain": "DATETIME          0\nTOTALDEMAND       0\nFORECASTDEMAND    0\ndtype: int64"
     },
     "execution_count": 45,
     "metadata": {},
     "output_type": "execute_result"
    }
   ],
   "source": [
    "merged_df.isnull().sum()"
   ],
   "metadata": {
    "collapsed": false,
    "ExecuteTime": {
     "end_time": "2024-03-29T21:55:27.745248Z",
     "start_time": "2024-03-29T21:55:27.674833Z"
    }
   },
   "id": "65911525b9843734",
   "execution_count": 45
  },
  {
   "cell_type": "markdown",
   "source": [
    "## merge step 2"
   ],
   "metadata": {
    "collapsed": false
   },
   "id": "3e369850c7ee846d"
  },
  {
   "cell_type": "code",
   "outputs": [
    {
     "ename": "KeyError",
     "evalue": "'DATE'",
     "output_type": "error",
     "traceback": [
      "\u001B[0;31m---------------------------------------------------------------------------\u001B[0m",
      "\u001B[0;31mKeyError\u001B[0m                                  Traceback (most recent call last)",
      "\u001B[0;32m/tmp/ipykernel_26195/3471500933.py\u001B[0m in \u001B[0;36m?\u001B[0;34m()\u001B[0m\n\u001B[0;32m----> 1\u001B[0;31m nsw_df = pd.merge(\n\u001B[0m\u001B[1;32m      2\u001B[0m     \u001B[0mmerged_df\u001B[0m\u001B[0;34m,\u001B[0m\u001B[0;34m\u001B[0m\u001B[0;34m\u001B[0m\u001B[0m\n\u001B[1;32m      3\u001B[0m     \u001B[0mnsw_temperature\u001B[0m\u001B[0;34m[\u001B[0m\u001B[0;34m[\u001B[0m\u001B[0;34m'DATE'\u001B[0m\u001B[0;34m,\u001B[0m \u001B[0;34m'TEMPERATURE'\u001B[0m\u001B[0;34m]\u001B[0m\u001B[0;34m]\u001B[0m\u001B[0;34m,\u001B[0m\u001B[0;34m\u001B[0m\u001B[0;34m\u001B[0m\u001B[0m\n\u001B[1;32m      4\u001B[0m     \u001B[0mon\u001B[0m\u001B[0;34m=\u001B[0m\u001B[0;34m'DATE'\u001B[0m\u001B[0;34m,\u001B[0m\u001B[0;34m\u001B[0m\u001B[0;34m\u001B[0m\u001B[0m\n",
      "\u001B[0;32m~/.cache/pypoetry/virtualenvs/team-0-5QTAbJ9E-py3.12/lib/python3.12/site-packages/pandas/core/reshape/merge.py\u001B[0m in \u001B[0;36m?\u001B[0;34m(left, right, how, on, left_on, right_on, left_index, right_index, sort, suffixes, copy, indicator, validate)\u001B[0m\n\u001B[1;32m    166\u001B[0m             \u001B[0mvalidate\u001B[0m\u001B[0;34m=\u001B[0m\u001B[0mvalidate\u001B[0m\u001B[0;34m,\u001B[0m\u001B[0;34m\u001B[0m\u001B[0;34m\u001B[0m\u001B[0m\n\u001B[1;32m    167\u001B[0m             \u001B[0mcopy\u001B[0m\u001B[0;34m=\u001B[0m\u001B[0mcopy\u001B[0m\u001B[0;34m,\u001B[0m\u001B[0;34m\u001B[0m\u001B[0;34m\u001B[0m\u001B[0m\n\u001B[1;32m    168\u001B[0m         \u001B[0;34m)\u001B[0m\u001B[0;34m\u001B[0m\u001B[0;34m\u001B[0m\u001B[0m\n\u001B[1;32m    169\u001B[0m     \u001B[0;32melse\u001B[0m\u001B[0;34m:\u001B[0m\u001B[0;34m\u001B[0m\u001B[0;34m\u001B[0m\u001B[0m\n\u001B[0;32m--> 170\u001B[0;31m         op = _MergeOperation(\n\u001B[0m\u001B[1;32m    171\u001B[0m             \u001B[0mleft_df\u001B[0m\u001B[0;34m,\u001B[0m\u001B[0;34m\u001B[0m\u001B[0;34m\u001B[0m\u001B[0m\n\u001B[1;32m    172\u001B[0m             \u001B[0mright_df\u001B[0m\u001B[0;34m,\u001B[0m\u001B[0;34m\u001B[0m\u001B[0;34m\u001B[0m\u001B[0m\n\u001B[1;32m    173\u001B[0m             \u001B[0mhow\u001B[0m\u001B[0;34m=\u001B[0m\u001B[0mhow\u001B[0m\u001B[0;34m,\u001B[0m\u001B[0;34m\u001B[0m\u001B[0;34m\u001B[0m\u001B[0m\n",
      "\u001B[0;32m~/.cache/pypoetry/virtualenvs/team-0-5QTAbJ9E-py3.12/lib/python3.12/site-packages/pandas/core/reshape/merge.py\u001B[0m in \u001B[0;36m?\u001B[0;34m(self, left, right, how, on, left_on, right_on, left_index, right_index, sort, suffixes, indicator, validate)\u001B[0m\n\u001B[1;32m    790\u001B[0m             \u001B[0mself\u001B[0m\u001B[0;34m.\u001B[0m\u001B[0mright_join_keys\u001B[0m\u001B[0;34m,\u001B[0m\u001B[0;34m\u001B[0m\u001B[0;34m\u001B[0m\u001B[0m\n\u001B[1;32m    791\u001B[0m             \u001B[0mself\u001B[0m\u001B[0;34m.\u001B[0m\u001B[0mjoin_names\u001B[0m\u001B[0;34m,\u001B[0m\u001B[0;34m\u001B[0m\u001B[0;34m\u001B[0m\u001B[0m\n\u001B[1;32m    792\u001B[0m             \u001B[0mleft_drop\u001B[0m\u001B[0;34m,\u001B[0m\u001B[0;34m\u001B[0m\u001B[0;34m\u001B[0m\u001B[0m\n\u001B[1;32m    793\u001B[0m             \u001B[0mright_drop\u001B[0m\u001B[0;34m,\u001B[0m\u001B[0;34m\u001B[0m\u001B[0;34m\u001B[0m\u001B[0m\n\u001B[0;32m--> 794\u001B[0;31m         \u001B[0;34m)\u001B[0m \u001B[0;34m=\u001B[0m \u001B[0mself\u001B[0m\u001B[0;34m.\u001B[0m\u001B[0m_get_merge_keys\u001B[0m\u001B[0;34m(\u001B[0m\u001B[0;34m)\u001B[0m\u001B[0;34m\u001B[0m\u001B[0;34m\u001B[0m\u001B[0m\n\u001B[0m\u001B[1;32m    795\u001B[0m \u001B[0;34m\u001B[0m\u001B[0m\n\u001B[1;32m    796\u001B[0m         \u001B[0;32mif\u001B[0m \u001B[0mleft_drop\u001B[0m\u001B[0;34m:\u001B[0m\u001B[0;34m\u001B[0m\u001B[0;34m\u001B[0m\u001B[0m\n\u001B[1;32m    797\u001B[0m             \u001B[0mself\u001B[0m\u001B[0;34m.\u001B[0m\u001B[0mleft\u001B[0m \u001B[0;34m=\u001B[0m \u001B[0mself\u001B[0m\u001B[0;34m.\u001B[0m\u001B[0mleft\u001B[0m\u001B[0;34m.\u001B[0m\u001B[0m_drop_labels_or_levels\u001B[0m\u001B[0;34m(\u001B[0m\u001B[0mleft_drop\u001B[0m\u001B[0;34m)\u001B[0m\u001B[0;34m\u001B[0m\u001B[0;34m\u001B[0m\u001B[0m\n",
      "\u001B[0;32m~/.cache/pypoetry/virtualenvs/team-0-5QTAbJ9E-py3.12/lib/python3.12/site-packages/pandas/core/reshape/merge.py\u001B[0m in \u001B[0;36m?\u001B[0;34m(self)\u001B[0m\n\u001B[1;32m   1306\u001B[0m                     \u001B[0;32mif\u001B[0m \u001B[0mlk\u001B[0m \u001B[0;32mis\u001B[0m \u001B[0;32mnot\u001B[0m \u001B[0;32mNone\u001B[0m\u001B[0;34m:\u001B[0m\u001B[0;34m\u001B[0m\u001B[0;34m\u001B[0m\u001B[0m\n\u001B[1;32m   1307\u001B[0m                         \u001B[0;31m# Then we're either Hashable or a wrong-length arraylike,\u001B[0m\u001B[0;34m\u001B[0m\u001B[0;34m\u001B[0m\u001B[0m\n\u001B[1;32m   1308\u001B[0m                         \u001B[0;31m#  the latter of which will raise\u001B[0m\u001B[0;34m\u001B[0m\u001B[0;34m\u001B[0m\u001B[0m\n\u001B[1;32m   1309\u001B[0m                         \u001B[0mlk\u001B[0m \u001B[0;34m=\u001B[0m \u001B[0mcast\u001B[0m\u001B[0;34m(\u001B[0m\u001B[0mHashable\u001B[0m\u001B[0;34m,\u001B[0m \u001B[0mlk\u001B[0m\u001B[0;34m)\u001B[0m\u001B[0;34m\u001B[0m\u001B[0;34m\u001B[0m\u001B[0m\n\u001B[0;32m-> 1310\u001B[0;31m                         \u001B[0mleft_keys\u001B[0m\u001B[0;34m.\u001B[0m\u001B[0mappend\u001B[0m\u001B[0;34m(\u001B[0m\u001B[0mleft\u001B[0m\u001B[0;34m.\u001B[0m\u001B[0m_get_label_or_level_values\u001B[0m\u001B[0;34m(\u001B[0m\u001B[0mlk\u001B[0m\u001B[0;34m)\u001B[0m\u001B[0;34m)\u001B[0m\u001B[0;34m\u001B[0m\u001B[0;34m\u001B[0m\u001B[0m\n\u001B[0m\u001B[1;32m   1311\u001B[0m                         \u001B[0mjoin_names\u001B[0m\u001B[0;34m.\u001B[0m\u001B[0mappend\u001B[0m\u001B[0;34m(\u001B[0m\u001B[0mlk\u001B[0m\u001B[0;34m)\u001B[0m\u001B[0;34m\u001B[0m\u001B[0;34m\u001B[0m\u001B[0m\n\u001B[1;32m   1312\u001B[0m                     \u001B[0;32melse\u001B[0m\u001B[0;34m:\u001B[0m\u001B[0;34m\u001B[0m\u001B[0;34m\u001B[0m\u001B[0m\n\u001B[1;32m   1313\u001B[0m                         \u001B[0;31m# work-around for merge_asof(left_index=True)\u001B[0m\u001B[0;34m\u001B[0m\u001B[0;34m\u001B[0m\u001B[0m\n",
      "\u001B[0;32m~/.cache/pypoetry/virtualenvs/team-0-5QTAbJ9E-py3.12/lib/python3.12/site-packages/pandas/core/generic.py\u001B[0m in \u001B[0;36m?\u001B[0;34m(self, key, axis)\u001B[0m\n\u001B[1;32m   1906\u001B[0m             \u001B[0mvalues\u001B[0m \u001B[0;34m=\u001B[0m \u001B[0mself\u001B[0m\u001B[0;34m.\u001B[0m\u001B[0mxs\u001B[0m\u001B[0;34m(\u001B[0m\u001B[0mkey\u001B[0m\u001B[0;34m,\u001B[0m \u001B[0maxis\u001B[0m\u001B[0;34m=\u001B[0m\u001B[0mother_axes\u001B[0m\u001B[0;34m[\u001B[0m\u001B[0;36m0\u001B[0m\u001B[0;34m]\u001B[0m\u001B[0;34m)\u001B[0m\u001B[0;34m.\u001B[0m\u001B[0m_values\u001B[0m\u001B[0;34m\u001B[0m\u001B[0;34m\u001B[0m\u001B[0m\n\u001B[1;32m   1907\u001B[0m         \u001B[0;32melif\u001B[0m \u001B[0mself\u001B[0m\u001B[0;34m.\u001B[0m\u001B[0m_is_level_reference\u001B[0m\u001B[0;34m(\u001B[0m\u001B[0mkey\u001B[0m\u001B[0;34m,\u001B[0m \u001B[0maxis\u001B[0m\u001B[0;34m=\u001B[0m\u001B[0maxis\u001B[0m\u001B[0;34m)\u001B[0m\u001B[0;34m:\u001B[0m\u001B[0;34m\u001B[0m\u001B[0;34m\u001B[0m\u001B[0m\n\u001B[1;32m   1908\u001B[0m             \u001B[0mvalues\u001B[0m \u001B[0;34m=\u001B[0m \u001B[0mself\u001B[0m\u001B[0;34m.\u001B[0m\u001B[0maxes\u001B[0m\u001B[0;34m[\u001B[0m\u001B[0maxis\u001B[0m\u001B[0;34m]\u001B[0m\u001B[0;34m.\u001B[0m\u001B[0mget_level_values\u001B[0m\u001B[0;34m(\u001B[0m\u001B[0mkey\u001B[0m\u001B[0;34m)\u001B[0m\u001B[0;34m.\u001B[0m\u001B[0m_values\u001B[0m\u001B[0;34m\u001B[0m\u001B[0;34m\u001B[0m\u001B[0m\n\u001B[1;32m   1909\u001B[0m         \u001B[0;32melse\u001B[0m\u001B[0;34m:\u001B[0m\u001B[0;34m\u001B[0m\u001B[0;34m\u001B[0m\u001B[0m\n\u001B[0;32m-> 1910\u001B[0;31m             \u001B[0;32mraise\u001B[0m \u001B[0mKeyError\u001B[0m\u001B[0;34m(\u001B[0m\u001B[0mkey\u001B[0m\u001B[0;34m)\u001B[0m\u001B[0;34m\u001B[0m\u001B[0;34m\u001B[0m\u001B[0m\n\u001B[0m\u001B[1;32m   1911\u001B[0m \u001B[0;34m\u001B[0m\u001B[0m\n\u001B[1;32m   1912\u001B[0m         \u001B[0;31m# Check for duplicates\u001B[0m\u001B[0;34m\u001B[0m\u001B[0;34m\u001B[0m\u001B[0m\n\u001B[1;32m   1913\u001B[0m         \u001B[0;32mif\u001B[0m \u001B[0mvalues\u001B[0m\u001B[0;34m.\u001B[0m\u001B[0mndim\u001B[0m \u001B[0;34m>\u001B[0m \u001B[0;36m1\u001B[0m\u001B[0;34m:\u001B[0m\u001B[0;34m\u001B[0m\u001B[0;34m\u001B[0m\u001B[0m\n",
      "\u001B[0;31mKeyError\u001B[0m: 'DATE'"
     ]
    }
   ],
   "source": [
    "nsw_df = pd.merge(\n",
    "    merged_df, \n",
    "    nsw_temperature[['DATE', 'TEMPERATURE']],\n",
    "    on='DATE', \n",
    "    how='outer'\n",
    ")\n",
    "\n",
    "# fix_me: the sampling rate instead of using inner join, which drops about 26k rows.\n",
    "#  bucketing\n",
    "#  groupby, fill using mean? or dropna to keep to the 30 min interval? \n",
    "#  we need to get special days\n",
    "#  we need to get the temperature data\n",
    "#  we need to get the pricing data"
   ],
   "metadata": {
    "collapsed": false,
    "ExecuteTime": {
     "end_time": "2024-03-29T21:55:27.847485Z",
     "start_time": "2024-03-29T21:55:27.745963Z"
    }
   },
   "id": "2ef33897bd4f7abd",
   "execution_count": 46
  },
  {
   "cell_type": "markdown",
   "source": [
    "## Quick Check of merged df"
   ],
   "metadata": {
    "collapsed": false
   },
   "id": "bc255725133f7ba1"
  },
  {
   "cell_type": "code",
   "outputs": [],
   "source": [
    "nsw_df.isnull().sum()"
   ],
   "metadata": {
    "collapsed": false
   },
   "id": "5d0a65676517143",
   "execution_count": null
  },
  {
   "cell_type": "code",
   "outputs": [],
   "source": [
    "nsw_df.head(5)"
   ],
   "metadata": {
    "collapsed": false
   },
   "id": "254dfa406648c149",
   "execution_count": null
  },
  {
   "cell_type": "code",
   "outputs": [],
   "source": [
    "nsw_df.tail(5)"
   ],
   "metadata": {
    "collapsed": false
   },
   "id": "a2097071873c83f6",
   "execution_count": null
  },
  {
   "cell_type": "code",
   "outputs": [],
   "source": [
    "nsw_df.shape"
   ],
   "metadata": {
    "collapsed": false
   },
   "id": "faa275c9985c65fc",
   "execution_count": null
  },
  {
   "cell_type": "code",
   "outputs": [],
   "source": [
    "nsw_df.info()"
   ],
   "metadata": {
    "collapsed": false
   },
   "id": "204ef2766a3fda54",
   "execution_count": null
  },
  {
   "cell_type": "code",
   "outputs": [],
   "source": [
    "# nsw_df.min()"
   ],
   "metadata": {
    "collapsed": false
   },
   "id": "cf9c317892348ec1",
   "execution_count": null
  },
  {
   "cell_type": "code",
   "outputs": [],
   "source": [
    "# nsw_df.max()"
   ],
   "metadata": {
    "collapsed": false
   },
   "id": "2ad22828ca350ad7",
   "execution_count": null
  },
  {
   "cell_type": "code",
   "outputs": [],
   "source": [
    "nsw_df.describe()"
   ],
   "metadata": {
    "collapsed": false
   },
   "id": "2220229aa54148ca",
   "execution_count": null
  },
  {
   "cell_type": "code",
   "outputs": [],
   "source": [
    "nsw_df.nunique()"
   ],
   "metadata": {
    "collapsed": false
   },
   "id": "fb2d264b743b080a",
   "execution_count": null
  },
  {
   "cell_type": "code",
   "outputs": [],
   "source": [
    "nsw_df.dtypes"
   ],
   "metadata": {
    "collapsed": false
   },
   "id": "a07543b85ab86e60",
   "execution_count": null
  },
  {
   "cell_type": "code",
   "outputs": [],
   "source": [
    "nsw_df.isna().sum()"
   ],
   "metadata": {
    "collapsed": false
   },
   "id": "7350d4b779e23e9f",
   "execution_count": null
  },
  {
   "cell_type": "code",
   "outputs": [],
   "source": [
    "nsw_df.to_parquet(\n",
    "    os.path.join(CFG.data_path, 'NSW', 'nsw_df.parquet'),\n",
    "    engine='pyarrow', \n",
    "    compression='snappy'\n",
    ")"
   ],
   "metadata": {
    "collapsed": false
   },
   "id": "abd5180a06079f95",
   "execution_count": null
  },
  {
   "cell_type": "code",
   "outputs": [],
   "source": [
    "nsw_df.to_csv(\n",
    "    os.path.join(CFG.data_path, 'NSW', 'nsw_df.csv'), \n",
    "    header=True\n",
    ")"
   ],
   "metadata": {
    "collapsed": false
   },
   "id": "89f35e92d307493a",
   "execution_count": null
  },
  {
   "cell_type": "code",
   "outputs": [],
   "source": [],
   "metadata": {
    "collapsed": false
   },
   "id": "89a4f2324e04b715",
   "execution_count": null
  },
  {
   "cell_type": "markdown",
   "source": [
    "## "
   ],
   "metadata": {
    "collapsed": false
   },
   "id": "203ac14325d17d88"
  },
  {
   "cell_type": "markdown",
   "source": [
    "## Plots"
   ],
   "metadata": {
    "collapsed": false
   },
   "id": "6ebb2ccda136a0dd"
  },
  {
   "cell_type": "code",
   "outputs": [],
   "source": [
    "plt.figure(figsize=(14, 7))\n",
    "plt.plot(nsw_df['DATETIME'], nsw_df['FORECASTDEMAND'], label='Forecast Demand')\n",
    "plt.plot(nsw_df['DATETIME'], nsw_df['TOTALDEMAND'], label='Actual Demand', alpha=0.7)\n",
    "plt.xlabel('Datetime')\n",
    "plt.ylabel('Price')\n",
    "plt.title('Forecast vs Actual Price Over Time')\n",
    "plt.legend()\n",
    "plt.show()"
   ],
   "metadata": {
    "collapsed": false
   },
   "id": "8711c4a72379037f",
   "execution_count": null
  },
  {
   "cell_type": "code",
   "outputs": [],
   "source": [
    "plt.figure(figsize=(14, 7))\n",
    "plt.plot(nsw_df['DATETIME'], nsw_df['TEMPERATURE'], color='orange', label='TEMPERATURE')\n",
    "plt.xlabel('Datetime')\n",
    "plt.ylabel('Temperature')\n",
    "plt.title('Temperature Over Time')\n",
    "plt.legend()\n",
    "plt.show()"
   ],
   "metadata": {
    "collapsed": false
   },
   "id": "246eb6bca585621d",
   "execution_count": null
  },
  {
   "cell_type": "markdown",
   "source": [
    "## scatter plot"
   ],
   "metadata": {
    "collapsed": false
   },
   "id": "bfdd618e599892fb"
  },
  {
   "cell_type": "code",
   "outputs": [],
   "source": [
    "plt.figure(figsize=(10, 6))\n",
    "plt.scatter(nsw_df['TEMPERATURE'], nsw_df['TOTALDEMAND'], label='Actual Demand', alpha=0.5)\n",
    "plt.scatter(nsw_df['TEMPERATURE'], nsw_df['FORECASTDEMAND'], label='Forecast Demand', alpha=0.5)\n",
    "plt.xlabel('Temperature')\n",
    "plt.ylabel('Demand')\n",
    "plt.title('Temperature vs Demand')\n",
    "plt.legend()\n",
    "plt.show()"
   ],
   "metadata": {
    "collapsed": false
   },
   "id": "63d37012969891a4",
   "execution_count": null
  },
  {
   "cell_type": "markdown",
   "source": [
    "## Box plot"
   ],
   "metadata": {
    "collapsed": false
   },
   "id": "cb32a76e0ea92ac8"
  },
  {
   "cell_type": "code",
   "outputs": [],
   "source": [
    "plt.figure(figsize=(12, 6))\n",
    "nsw_df[['FORECASTDEMAND', 'TOTALDEMAND', 'TEMPERATURE']].plot(kind='box')\n",
    "plt.title('Distribution of Prices and Temperature')\n",
    "plt.show()"
   ],
   "metadata": {
    "collapsed": false
   },
   "id": "898e33fc77e7390b",
   "execution_count": null
  },
  {
   "cell_type": "markdown",
   "source": [
    "## Histogram"
   ],
   "metadata": {
    "collapsed": false
   },
   "id": "4c7284cb8970c59d"
  },
  {
   "cell_type": "code",
   "outputs": [],
   "source": [
    "plt.figure(figsize=(14, 7))\n",
    "nsw_df['TOTALDEMAND'].hist(alpha=0.7, label='Actual Price', bins=20)\n",
    "nsw_df['FORECASTDEMAND'].hist(alpha=0.5, label='Forecast Price', bins=20)\n",
    "plt.xlabel('Demand')\n",
    "plt.ylabel('Frequency')\n",
    "plt.title('Frequency Distribution of Demand')\n",
    "plt.legend()\n",
    "plt.show()"
   ],
   "metadata": {
    "collapsed": false
   },
   "id": "711ee4d7df116b54",
   "execution_count": null
  },
  {
   "cell_type": "code",
   "outputs": [],
   "source": [
    "plt.figure(figsize=(10, 5))\n",
    "nsw_df['TEMPERATURE'].hist(color='orange', bins=20)\n",
    "plt.xlabel('Temperature')\n",
    "plt.ylabel('Frequency')\n",
    "plt.title('Frequency Distribution of Temperature')\n",
    "plt.show()"
   ],
   "metadata": {
    "collapsed": false
   },
   "id": "534fed349bfa8971",
   "execution_count": null
  },
  {
   "cell_type": "markdown",
   "source": [
    "## Correlation "
   ],
   "metadata": {
    "collapsed": false
   },
   "id": "4212d7ea8789b294"
  },
  {
   "cell_type": "code",
   "outputs": [],
   "source": [
    "plt.figure(figsize=(8, 6))\n",
    "sns.heatmap(nsw_df[['FORECASTDEMAND', 'TOTALDEMAND', 'TEMPERATURE']].corr(), annot=True, cmap='coolwarm')\n",
    "plt.title('Correlation Heatmap')\n",
    "plt.show()"
   ],
   "metadata": {
    "collapsed": false
   },
   "id": "5668c7191db28dd5",
   "execution_count": null
  },
  {
   "cell_type": "markdown",
   "source": [
    "## seasonal decomposition (additive)\n",
    "It's important to have a defined frequency (e.g., 'H' for hourly, 'D' for daily). Let's assume it's hourly data for this example"
   ],
   "metadata": {
    "collapsed": false
   },
   "id": "ef85f74b9e535b8b"
  },
  {
   "cell_type": "code",
   "outputs": [],
   "source": [
    "nsw_df = nsw_df.asfreq('30min')"
   ],
   "metadata": {
    "collapsed": false
   },
   "id": "9badfaf927a2b672",
   "execution_count": null
  },
  {
   "cell_type": "markdown",
   "source": [
    "Now, choose the demand for electricity for decomposition"
   ],
   "metadata": {
    "collapsed": false
   },
   "id": "f385bdb5202f34cc"
  },
  {
   "cell_type": "code",
   "outputs": [],
   "source": [
    "ts = nsw_df['TOTALDEMAND']  # fix_me: missing values\n",
    "ts.head()"
   ],
   "metadata": {
    "collapsed": false
   },
   "id": "4cabc8d1a7c3006b",
   "execution_count": null
  },
  {
   "cell_type": "code",
   "outputs": [],
   "source": [
    "ts.isnull().sum()"
   ],
   "metadata": {
    "collapsed": false
   },
   "id": "7b35955305a39abf",
   "execution_count": null
  },
  {
   "cell_type": "code",
   "outputs": [],
   "source": [
    "ts.isna().sum()"
   ],
   "metadata": {
    "collapsed": false
   },
   "id": "8812ddff2bc6d421",
   "execution_count": null
  },
  {
   "cell_type": "markdown",
   "source": [
    "Perform seasonal decomposition. \n",
    "compare `model`=`multiplicative` vs `model`=`additive` if necessary"
   ],
   "metadata": {
    "collapsed": false
   },
   "id": "b28ffcebcb1edaa4"
  },
  {
   "cell_type": "code",
   "outputs": [],
   "source": [
    "decomposition = sm.tsa.seasonal_decompose(ts, model='additive')   \n",
    "# fix_me: deal with missing values, temporarily using ffill"
   ],
   "metadata": {
    "collapsed": false
   },
   "id": "1dc23504b7c26bb",
   "execution_count": null
  },
  {
   "cell_type": "markdown",
   "source": [
    "Plot the decomposed components of the time series"
   ],
   "metadata": {
    "collapsed": false
   },
   "id": "f692108faf17eab8"
  },
  {
   "cell_type": "code",
   "outputs": [],
   "source": [
    "fig = decomposition.plot()\n",
    "plt.show()"
   ],
   "metadata": {
    "collapsed": false
   },
   "id": "268a5a2a219f6aac"
  },
  {
   "cell_type": "markdown",
   "source": [
    "## additive vs multiplicative relationships between components"
   ],
   "metadata": {
    "collapsed": false
   },
   "id": "f30ce9c252a13c70"
  }
 ],
 "metadata": {
  "kernelspec": {
   "display_name": "Python 3",
   "language": "python",
   "name": "python3"
  },
  "language_info": {
   "codemirror_mode": {
    "name": "ipython",
    "version": 2
   },
   "file_extension": ".py",
   "mimetype": "text/x-python",
   "name": "python",
   "nbconvert_exporter": "python",
   "pygments_lexer": "ipython2",
   "version": "2.7.6"
  }
 },
 "nbformat": 4,
 "nbformat_minor": 5
}
