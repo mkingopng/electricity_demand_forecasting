{
 "cells": [
  {
   "cell_type": "markdown",
   "source": [
    "- we need to check & temperature\n",
    "- we can get pricing data (Noel)\n",
    "- we should try to establish the accuracy of current forecast demand vs actual\n",
    "- temperature data...\n",
    "- what does AEMO say? residential & commercial demand, temperature, \n",
    "- we should start by replicating the AEMO\n",
    "- spectral analysis reading from william\n",
    "- "
   ],
   "metadata": {
    "collapsed": false
   },
   "id": "3806e6ba05d06743"
  },
  {
   "cell_type": "code",
   "execution_count": 1,
   "id": "initial_id",
   "metadata": {
    "collapsed": true,
    "ExecuteTime": {
     "end_time": "2024-03-29T21:55:14.754420Z",
     "start_time": "2024-03-29T21:55:14.477687Z"
    }
   },
   "source": [
    "import pandas as pd\n",
    "from pandas.plotting import autocorrelation_plot\n",
    "import os\n",
    "import matplotlib.pyplot as plt\n",
    "import seaborn as sns\n",
    "import statsmodels.api as sm\n",
    "import statsmodels.formula.api as smf"
   ],
   "outputs": []
  },
  {
   "cell_type": "code",
   "source": [
    "# general settings\n",
    "class CFG:\n",
    "    data_path = './../data'\n",
    "    img_dim1 = 20\n",
    "    img_dim2 = 10\n",
    "    \n",
    "\n",
    "# adjust the parameters for displayed figures\n",
    "plt.style.use('fivethirtyeight')\n",
    "plt.rcParams.update({'figure.figsize': (CFG.img_dim1, CFG.img_dim2)})  "
   ],
   "metadata": {
    "collapsed": false,
    "ExecuteTime": {
     "end_time": "2024-03-29T21:55:14.760813Z",
     "start_time": "2024-03-29T21:55:14.756035Z"
    }
   },
   "id": "c2bb2619f95fc798",
   "execution_count": 2,
   "outputs": []
  },
  {
   "cell_type": "markdown",
   "source": [
    "## NSW Forecast Demand"
   ],
   "metadata": {
    "collapsed": false
   },
   "id": "cf008303c901d238"
  },
  {
   "cell_type": "code",
   "source": [
    "nsw_forecastdemand = pd.read_csv(\n",
    "    os.path.join(CFG.data_path, 'NSW', 'forecastdemand_nsw.csv'), \n",
    "    parse_dates=['LASTCHANGED', 'DATETIME']\n",
    ")"
   ],
   "metadata": {
    "collapsed": false,
    "ExecuteTime": {
     "end_time": "2024-03-29T21:55:23.963338Z",
     "start_time": "2024-03-29T21:55:14.761605Z"
    }
   },
   "id": "2aca373f3db6f9ad",
   "execution_count": 3,
   "outputs": []
  },
  {
   "cell_type": "code",
   "source": [
    "nsw_forecastdemand.head(10)"
   ],
   "metadata": {
    "collapsed": false,
    "ExecuteTime": {
     "end_time": "2024-03-29T21:55:23.973710Z",
     "start_time": "2024-03-29T21:55:23.964184Z"
    }
   },
   "id": "53bb74339eefcd46",
   "execution_count": 4,
   "outputs": []
  },
  {
   "cell_type": "code",
   "source": [
    "nsw_forecastdemand.tail()"
   ],
   "metadata": {
    "collapsed": false,
    "ExecuteTime": {
     "end_time": "2024-03-29T21:55:23.979688Z",
     "start_time": "2024-03-29T21:55:23.974385Z"
    }
   },
   "id": "136002d88e82ee85",
   "execution_count": 5,
   "outputs": []
  },
  {
   "cell_type": "code",
   "source": [
    "nsw_forecastdemand.info()"
   ],
   "metadata": {
    "collapsed": false,
    "ExecuteTime": {
     "end_time": "2024-03-29T21:55:23.989162Z",
     "start_time": "2024-03-29T21:55:23.980319Z"
    }
   },
   "id": "b82dc3c30b78f0e5",
   "execution_count": 6,
   "outputs": []
  },
  {
   "cell_type": "code",
   "source": [
    "nsw_forecastdemand['FORECASTDEMAND'].describe()"
   ],
   "metadata": {
    "collapsed": false,
    "ExecuteTime": {
     "end_time": "2024-03-29T21:55:24.159051Z",
     "start_time": "2024-03-29T21:55:23.990534Z"
    }
   },
   "id": "f497e772d6dda571",
   "execution_count": 7,
   "outputs": []
  },
  {
   "cell_type": "code",
   "source": [
    "nsw_forecastdemand.shape"
   ],
   "metadata": {
    "collapsed": false,
    "ExecuteTime": {
     "end_time": "2024-03-29T21:55:24.161939Z",
     "start_time": "2024-03-29T21:55:24.159736Z"
    }
   },
   "id": "f84660284a900dbf",
   "execution_count": 8,
   "outputs": []
  },
  {
   "cell_type": "code",
   "source": [
    "nsw_forecastdemand.min()"
   ],
   "metadata": {
    "collapsed": false,
    "ExecuteTime": {
     "end_time": "2024-03-29T21:55:24.539873Z",
     "start_time": "2024-03-29T21:55:24.162510Z"
    }
   },
   "id": "6fffbd35c5fe6398",
   "execution_count": 9,
   "outputs": []
  },
  {
   "cell_type": "code",
   "source": [
    "nsw_forecastdemand.max()"
   ],
   "metadata": {
    "collapsed": false,
    "ExecuteTime": {
     "end_time": "2024-03-29T21:55:24.905361Z",
     "start_time": "2024-03-29T21:55:24.540579Z"
    }
   },
   "id": "1ea21f2cbadbecb5",
   "execution_count": 10,
   "outputs": []
  },
  {
   "cell_type": "code",
   "source": [
    "nsw_forecastdemand.isnull().sum()"
   ],
   "metadata": {
    "collapsed": false,
    "ExecuteTime": {
     "end_time": "2024-03-29T21:55:25.149528Z",
     "start_time": "2024-03-29T21:55:24.906094Z"
    }
   },
   "id": "797134c7ed9dd4b9",
   "execution_count": 11,
   "outputs": []
  },
  {
   "cell_type": "code",
   "source": [
    "nsw_forecastdemand.isna().sum()"
   ],
   "metadata": {
    "collapsed": false,
    "ExecuteTime": {
     "end_time": "2024-03-29T21:55:25.393344Z",
     "start_time": "2024-03-29T21:55:25.150188Z"
    }
   },
   "id": "c0b341526a3af11b",
   "execution_count": 12,
   "outputs": []
  },
  {
   "cell_type": "code",
   "source": [
    "nsw_forecastdemand.nunique()"
   ],
   "metadata": {
    "collapsed": false,
    "ExecuteTime": {
     "end_time": "2024-03-29T21:55:25.951708Z",
     "start_time": "2024-03-29T21:55:25.394089Z"
    }
   },
   "id": "2deb11cffe2a65fa",
   "execution_count": 13,
   "outputs": []
  },
  {
   "cell_type": "code",
   "source": [
    "nsw_forecastdemand.dtypes"
   ],
   "metadata": {
    "collapsed": false,
    "ExecuteTime": {
     "end_time": "2024-03-29T21:55:25.954863Z",
     "start_time": "2024-03-29T21:55:25.952348Z"
    }
   },
   "id": "849e624285690d07",
   "execution_count": 14,
   "outputs": []
  },
  {
   "cell_type": "markdown",
   "source": [
    "## NSW temperature"
   ],
   "metadata": {
    "collapsed": false
   },
   "id": "cc08193babded221"
  },
  {
   "cell_type": "code",
   "source": [
    "nsw_temperature = pd.read_csv(\n",
    "    os.path.join(CFG.data_path, 'NSW', 'temperature_nsw.csv'), \n",
    "    parse_dates=['DATETIME'], \n",
    "    dayfirst=True\n",
    ")"
   ],
   "metadata": {
    "collapsed": false,
    "ExecuteTime": {
     "end_time": "2024-03-29T21:55:26.510768Z",
     "start_time": "2024-03-29T21:55:25.955422Z"
    }
   },
   "id": "a640330de9e81684",
   "execution_count": 15,
   "outputs": []
  },
  {
   "cell_type": "code",
   "source": [
    "nsw_temperature['DATE'] = pd.to_datetime(nsw_temperature['DATETIME'])"
   ],
   "metadata": {
    "collapsed": false,
    "ExecuteTime": {
     "end_time": "2024-03-29T21:55:26.516878Z",
     "start_time": "2024-03-29T21:55:26.511546Z"
    }
   },
   "id": "ed31a126284f2995",
   "execution_count": 16,
   "outputs": []
  },
  {
   "cell_type": "code",
   "source": [
    "nsw_temperature.dtypes"
   ],
   "metadata": {
    "collapsed": false,
    "ExecuteTime": {
     "end_time": "2024-03-29T21:55:26.589053Z",
     "start_time": "2024-03-29T21:55:26.517483Z"
    }
   },
   "id": "870e427a20bf494a",
   "execution_count": 17,
   "outputs": []
  },
  {
   "cell_type": "code",
   "source": [
    "nsw_temperature[['DATE', 'TEMPERATURE']].set_index('DATE').resample('30min').mean()"
   ],
   "metadata": {
    "collapsed": false,
    "ExecuteTime": {
     "end_time": "2024-03-29T21:55:26.609662Z",
     "start_time": "2024-03-29T21:55:26.589654Z"
    }
   },
   "id": "75305deb91541df6",
   "execution_count": 18,
   "outputs": []
  },
  {
   "cell_type": "code",
   "source": [
    "# nsw_temperature.groupby(pd.Grouper(key='DATE', freq='30min')).mean().reset_index()"
   ],
   "metadata": {
    "collapsed": false,
    "ExecuteTime": {
     "end_time": "2024-03-29T21:55:26.613232Z",
     "start_time": "2024-03-29T21:55:26.610348Z"
    }
   },
   "id": "5de0e5a6d6d71c44",
   "execution_count": 19,
   "outputs": []
  },
  {
   "cell_type": "code",
   "source": [
    "nsw_temperature.head(10)"
   ],
   "metadata": {
    "collapsed": false,
    "ExecuteTime": {
     "end_time": "2024-03-29T21:55:26.625549Z",
     "start_time": "2024-03-29T21:55:26.613808Z"
    }
   },
   "id": "7576c21900c45ed3",
   "execution_count": 20,
   "outputs": []
  },
  {
   "cell_type": "code",
   "source": [
    "nsw_temperature.tail(10)"
   ],
   "metadata": {
    "collapsed": false,
    "ExecuteTime": {
     "end_time": "2024-03-29T21:55:26.638414Z",
     "start_time": "2024-03-29T21:55:26.626165Z"
    }
   },
   "id": "db7ae64dd3bb99ad",
   "execution_count": 21,
   "outputs": []
  },
  {
   "cell_type": "code",
   "source": [
    "nsw_temperature.info()"
   ],
   "metadata": {
    "collapsed": false,
    "ExecuteTime": {
     "end_time": "2024-03-29T21:55:26.657045Z",
     "start_time": "2024-03-29T21:55:26.641844Z"
    }
   },
   "id": "f3bf79281129fb56",
   "execution_count": 22,
   "outputs": []
  },
  {
   "cell_type": "code",
   "source": [
    "nsw_temperature['TEMPERATURE'].describe()"
   ],
   "metadata": {
    "collapsed": false,
    "ExecuteTime": {
     "end_time": "2024-03-29T21:55:26.667147Z",
     "start_time": "2024-03-29T21:55:26.657851Z"
    }
   },
   "id": "354f6fedc12bc206",
   "execution_count": 23,
   "outputs": []
  },
  {
   "cell_type": "code",
   "source": [
    "nsw_temperature.shape"
   ],
   "metadata": {
    "collapsed": false,
    "ExecuteTime": {
     "end_time": "2024-03-29T21:55:26.669835Z",
     "start_time": "2024-03-29T21:55:26.667816Z"
    }
   },
   "id": "3ada1a9a636fa4d2",
   "execution_count": 24,
   "outputs": []
  },
  {
   "cell_type": "code",
   "source": [
    "nsw_temperature.min()"
   ],
   "metadata": {
    "collapsed": false,
    "ExecuteTime": {
     "end_time": "2024-03-29T21:55:26.692766Z",
     "start_time": "2024-03-29T21:55:26.670358Z"
    }
   },
   "id": "e9e151649e0d5d11",
   "execution_count": 25,
   "outputs": []
  },
  {
   "cell_type": "code",
   "source": [
    "nsw_temperature.max()"
   ],
   "metadata": {
    "collapsed": false,
    "ExecuteTime": {
     "end_time": "2024-03-29T21:55:26.706643Z",
     "start_time": "2024-03-29T21:55:26.693459Z"
    }
   },
   "id": "5b62417f3ff514f",
   "execution_count": 26,
   "outputs": []
  },
  {
   "cell_type": "code",
   "source": [
    "nsw_temperature.isnull().sum()"
   ],
   "metadata": {
    "collapsed": false,
    "ExecuteTime": {
     "end_time": "2024-03-29T21:55:26.717658Z",
     "start_time": "2024-03-29T21:55:26.707264Z"
    }
   },
   "id": "8be3f6070e9182d6",
   "execution_count": 27,
   "outputs": []
  },
  {
   "cell_type": "code",
   "source": [
    "nsw_temperature.isna().sum()"
   ],
   "metadata": {
    "collapsed": false,
    "ExecuteTime": {
     "end_time": "2024-03-29T21:55:26.731113Z",
     "start_time": "2024-03-29T21:55:26.718215Z"
    }
   },
   "id": "c6cad7ed839ef51",
   "execution_count": 28,
   "outputs": []
  },
  {
   "cell_type": "code",
   "source": [
    "nsw_temperature.nunique()"
   ],
   "metadata": {
    "collapsed": false,
    "ExecuteTime": {
     "end_time": "2024-03-29T21:55:26.756322Z",
     "start_time": "2024-03-29T21:55:26.731677Z"
    }
   },
   "id": "5c0e6c3e16f2f338",
   "execution_count": 29,
   "outputs": []
  },
  {
   "cell_type": "code",
   "source": [
    "nsw_temperature.dtypes"
   ],
   "metadata": {
    "collapsed": false,
    "ExecuteTime": {
     "end_time": "2024-03-29T21:55:26.759392Z",
     "start_time": "2024-03-29T21:55:26.756964Z"
    }
   },
   "id": "370b68fae58fb6bb",
   "execution_count": 30,
   "outputs": []
  },
  {
   "cell_type": "markdown",
   "source": [
    "## NSW Total Demand"
   ],
   "metadata": {
    "collapsed": false
   },
   "id": "f2b679e6da2a678e"
  },
  {
   "cell_type": "code",
   "source": [
    "nsw_totaldemand = pd.read_csv(\n",
    "    os.path.join(CFG.data_path, 'NSW', 'totaldemand_nsw.csv'), \n",
    "    parse_dates=['DATETIME'], \n",
    "    dayfirst=True\n",
    ")"
   ],
   "metadata": {
    "collapsed": false,
    "ExecuteTime": {
     "end_time": "2024-03-29T21:55:27.218677Z",
     "start_time": "2024-03-29T21:55:26.759949Z"
    }
   },
   "id": "8558a6cdf94fb75e",
   "execution_count": 31,
   "outputs": []
  },
  {
   "cell_type": "code",
   "source": [
    "nsw_totaldemand.head()"
   ],
   "metadata": {
    "collapsed": false,
    "ExecuteTime": {
     "end_time": "2024-03-29T21:55:27.223170Z",
     "start_time": "2024-03-29T21:55:27.219438Z"
    }
   },
   "id": "f4e72c07eb99b07b",
   "execution_count": 32,
   "outputs": []
  },
  {
   "cell_type": "code",
   "source": [
    "nsw_totaldemand.tail()"
   ],
   "metadata": {
    "collapsed": false,
    "ExecuteTime": {
     "end_time": "2024-03-29T21:55:27.295552Z",
     "start_time": "2024-03-29T21:55:27.223710Z"
    }
   },
   "id": "e2d3468d5061cf41",
   "execution_count": 33,
   "outputs": []
  },
  {
   "cell_type": "code",
   "source": [
    "nsw_totaldemand.info()"
   ],
   "metadata": {
    "collapsed": false,
    "ExecuteTime": {
     "end_time": "2024-03-29T21:55:27.311262Z",
     "start_time": "2024-03-29T21:55:27.296243Z"
    }
   },
   "id": "681e4062d87c3776",
   "execution_count": 34,
   "outputs": []
  },
  {
   "cell_type": "code",
   "source": [
    "nsw_totaldemand['TOTALDEMAND'].describe()"
   ],
   "metadata": {
    "collapsed": false,
    "ExecuteTime": {
     "end_time": "2024-03-29T21:55:27.318512Z",
     "start_time": "2024-03-29T21:55:27.311888Z"
    }
   },
   "id": "e55c534c0b180b3d",
   "execution_count": 35,
   "outputs": []
  },
  {
   "cell_type": "code",
   "source": [
    "nsw_totaldemand.shape"
   ],
   "metadata": {
    "collapsed": false,
    "ExecuteTime": {
     "end_time": "2024-03-29T21:55:27.321316Z",
     "start_time": "2024-03-29T21:55:27.319111Z"
    }
   },
   "id": "fc750c3c10fa1728",
   "execution_count": 36,
   "outputs": []
  },
  {
   "cell_type": "code",
   "source": [
    "nsw_totaldemand.min()"
   ],
   "metadata": {
    "collapsed": false,
    "ExecuteTime": {
     "end_time": "2024-03-29T21:55:27.335014Z",
     "start_time": "2024-03-29T21:55:27.321854Z"
    }
   },
   "id": "71f63695bf4e1b8f",
   "execution_count": 37,
   "outputs": []
  },
  {
   "cell_type": "code",
   "source": [
    "nsw_totaldemand.max()"
   ],
   "metadata": {
    "collapsed": false,
    "ExecuteTime": {
     "end_time": "2024-03-29T21:55:27.343544Z",
     "start_time": "2024-03-29T21:55:27.335595Z"
    }
   },
   "id": "d9cfce3032926002",
   "execution_count": 38,
   "outputs": []
  },
  {
   "cell_type": "code",
   "source": [
    "nsw_totaldemand.isnull().sum()"
   ],
   "metadata": {
    "collapsed": false,
    "ExecuteTime": {
     "end_time": "2024-03-29T21:55:27.350723Z",
     "start_time": "2024-03-29T21:55:27.344078Z"
    }
   },
   "id": "b23744a8dc6b5376",
   "execution_count": 39,
   "outputs": []
  },
  {
   "cell_type": "code",
   "source": [
    "nsw_totaldemand.isna().sum()"
   ],
   "metadata": {
    "collapsed": false,
    "ExecuteTime": {
     "end_time": "2024-03-29T21:55:27.361897Z",
     "start_time": "2024-03-29T21:55:27.351299Z"
    }
   },
   "id": "ffa4adc5a6c74292",
   "execution_count": 40,
   "outputs": []
  },
  {
   "cell_type": "code",
   "source": [
    "nsw_totaldemand.nunique()"
   ],
   "metadata": {
    "collapsed": false,
    "ExecuteTime": {
     "end_time": "2024-03-29T21:55:27.377308Z",
     "start_time": "2024-03-29T21:55:27.362460Z"
    }
   },
   "id": "3a4e45db53d1f985",
   "execution_count": 41,
   "outputs": []
  },
  {
   "cell_type": "code",
   "source": [
    "nsw_totaldemand.dtypes"
   ],
   "metadata": {
    "collapsed": false,
    "ExecuteTime": {
     "end_time": "2024-03-29T21:55:27.381119Z",
     "start_time": "2024-03-29T21:55:27.377945Z"
    }
   },
   "id": "674217cbe3f28c3",
   "execution_count": 42,
   "outputs": []
  },
  {
   "cell_type": "markdown",
   "source": [
    "## merge step 1"
   ],
   "metadata": {
    "collapsed": false
   },
   "id": "13120e134b3dcf60"
  },
  {
   "cell_type": "code",
   "source": [
    "merged_df = pd.merge(\n",
    "    nsw_totaldemand[['DATETIME', 'TOTALDEMAND']], \n",
    "    nsw_forecastdemand[['FORECASTDEMAND', 'DATETIME']], \n",
    "    on=['DATETIME'],\n",
    "    how='inner'\n",
    ")\n",
    "\n",
    "# fix_me: need to group by 30min and then merge dataframes together. left inner join is not great. drop location column"
   ],
   "metadata": {
    "collapsed": false,
    "ExecuteTime": {
     "end_time": "2024-03-29T21:55:27.668535Z",
     "start_time": "2024-03-29T21:55:27.381626Z"
    }
   },
   "id": "cd3bac8adc87bb3",
   "execution_count": 43,
   "outputs": []
  },
  {
   "cell_type": "code",
   "source": [
    "merged_df.head(100)"
   ],
   "metadata": {
    "collapsed": false,
    "ExecuteTime": {
     "end_time": "2024-03-29T21:55:27.674262Z",
     "start_time": "2024-03-29T21:55:27.669316Z"
    }
   },
   "id": "936d5fda3166bec",
   "execution_count": 44,
   "outputs": []
  },
  {
   "cell_type": "code",
   "source": [
    "merged_df.isnull().sum()"
   ],
   "metadata": {
    "collapsed": false,
    "ExecuteTime": {
     "end_time": "2024-03-29T21:55:27.745248Z",
     "start_time": "2024-03-29T21:55:27.674833Z"
    }
   },
   "id": "65911525b9843734",
   "execution_count": 45,
   "outputs": []
  },
  {
   "cell_type": "markdown",
   "source": [
    "## merge step 2"
   ],
   "metadata": {
    "collapsed": false
   },
   "id": "3e369850c7ee846d"
  },
  {
   "cell_type": "code",
   "source": [
    "nsw_df = pd.merge(\n",
    "    merged_df, \n",
    "    nsw_temperature[['DATE', 'TEMPERATURE']],\n",
    "    on='DATE', \n",
    "    how='outer'\n",
    ")\n",
    "\n",
    "# fix_me: the sampling rate instead of using inner join, which drops about 26k rows.\n",
    "#  bucketing\n",
    "#  groupby, fill using mean? or dropna to keep to the 30 min interval? \n",
    "#  we need to get special days\n",
    "#  we need to get the temperature data\n",
    "#  we need to get the pricing data"
   ],
   "metadata": {
    "collapsed": false,
    "ExecuteTime": {
     "end_time": "2024-03-29T21:55:27.847485Z",
     "start_time": "2024-03-29T21:55:27.745963Z"
    }
   },
   "id": "2ef33897bd4f7abd",
   "execution_count": 46,
   "outputs": []
  },
  {
   "cell_type": "markdown",
   "source": [
    "## Quick Check of merged df"
   ],
   "metadata": {
    "collapsed": false
   },
   "id": "bc255725133f7ba1"
  },
  {
   "cell_type": "code",
   "source": [
    "nsw_df.isnull().sum()"
   ],
   "metadata": {
    "collapsed": false
   },
   "id": "5d0a65676517143",
   "execution_count": null,
   "outputs": []
  },
  {
   "cell_type": "code",
   "source": [
    "nsw_df.head(5)"
   ],
   "metadata": {
    "collapsed": false
   },
   "id": "254dfa406648c149",
   "execution_count": null,
   "outputs": []
  },
  {
   "cell_type": "code",
   "source": [
    "nsw_df.tail(5)"
   ],
   "metadata": {
    "collapsed": false
   },
   "id": "a2097071873c83f6",
   "execution_count": null,
   "outputs": []
  },
  {
   "cell_type": "code",
   "source": [
    "nsw_df.shape"
   ],
   "metadata": {
    "collapsed": false
   },
   "id": "faa275c9985c65fc",
   "execution_count": null,
   "outputs": []
  },
  {
   "cell_type": "code",
   "source": [
    "nsw_df.info()"
   ],
   "metadata": {
    "collapsed": false
   },
   "id": "204ef2766a3fda54",
   "execution_count": null,
   "outputs": []
  },
  {
   "cell_type": "code",
   "source": [
    "# nsw_df.min()"
   ],
   "metadata": {
    "collapsed": false
   },
   "id": "cf9c317892348ec1",
   "execution_count": null,
   "outputs": []
  },
  {
   "cell_type": "code",
   "source": [
    "# nsw_df.max()"
   ],
   "metadata": {
    "collapsed": false
   },
   "id": "2ad22828ca350ad7",
   "execution_count": null,
   "outputs": []
  },
  {
   "cell_type": "code",
   "source": [
    "nsw_df.describe()"
   ],
   "metadata": {
    "collapsed": false
   },
   "id": "2220229aa54148ca",
   "execution_count": null,
   "outputs": []
  },
  {
   "cell_type": "code",
   "source": [
    "nsw_df.nunique()"
   ],
   "metadata": {
    "collapsed": false
   },
   "id": "fb2d264b743b080a",
   "execution_count": null,
   "outputs": []
  },
  {
   "cell_type": "code",
   "source": [
    "nsw_df.dtypes"
   ],
   "metadata": {
    "collapsed": false
   },
   "id": "a07543b85ab86e60",
   "execution_count": null,
   "outputs": []
  },
  {
   "cell_type": "code",
   "source": [
    "nsw_df.isna().sum()"
   ],
   "metadata": {
    "collapsed": false
   },
   "id": "7350d4b779e23e9f",
   "execution_count": null,
   "outputs": []
  },
  {
   "cell_type": "code",
   "source": [
    "nsw_df.to_parquet(\n",
    "    os.path.join(CFG.data_path, 'NSW', 'nsw_df.parquet'),\n",
    "    engine='pyarrow', \n",
    "    compression='snappy'\n",
    ")"
   ],
   "metadata": {
    "collapsed": false
   },
   "id": "abd5180a06079f95",
   "execution_count": null,
   "outputs": []
  },
  {
   "cell_type": "code",
   "source": [
    "nsw_df.to_csv(\n",
    "    os.path.join(CFG.data_path, 'NSW', 'nsw_df.csv'), \n",
    "    header=True\n",
    ")"
   ],
   "metadata": {
    "collapsed": false
   },
   "id": "89f35e92d307493a",
   "execution_count": null,
   "outputs": []
  },
  {
   "cell_type": "code",
   "source": [],
   "metadata": {
    "collapsed": false
   },
   "id": "89a4f2324e04b715",
   "execution_count": null,
   "outputs": []
  },
  {
   "cell_type": "markdown",
   "source": [
    "## "
   ],
   "metadata": {
    "collapsed": false
   },
   "id": "203ac14325d17d88"
  },
  {
   "cell_type": "markdown",
   "source": [
    "## Plots"
   ],
   "metadata": {
    "collapsed": false
   },
   "id": "6ebb2ccda136a0dd"
  },
  {
   "cell_type": "code",
   "source": [
    "plt.figure(figsize=(14, 7))\n",
    "plt.plot(nsw_df['DATETIME'], nsw_df['FORECASTDEMAND'], label='Forecast Demand')\n",
    "plt.plot(nsw_df['DATETIME'], nsw_df['TOTALDEMAND'], label='Actual Demand', alpha=0.7)\n",
    "plt.xlabel('Datetime')\n",
    "plt.ylabel('Price')\n",
    "plt.title('Forecast vs Actual Price Over Time')\n",
    "plt.legend()\n",
    "plt.show()"
   ],
   "metadata": {
    "collapsed": false
   },
   "id": "8711c4a72379037f",
   "execution_count": null,
   "outputs": []
  },
  {
   "cell_type": "code",
   "source": [
    "plt.figure(figsize=(14, 7))\n",
    "plt.plot(nsw_df['DATETIME'], nsw_df['TEMPERATURE'], color='orange', label='TEMPERATURE')\n",
    "plt.xlabel('Datetime')\n",
    "plt.ylabel('Temperature')\n",
    "plt.title('Temperature Over Time')\n",
    "plt.legend()\n",
    "plt.show()"
   ],
   "metadata": {
    "collapsed": false
   },
   "id": "246eb6bca585621d",
   "execution_count": null,
   "outputs": []
  },
  {
   "cell_type": "markdown",
   "source": [
    "## scatter plot"
   ],
   "metadata": {
    "collapsed": false
   },
   "id": "bfdd618e599892fb"
  },
  {
   "cell_type": "code",
   "source": [
    "plt.figure(figsize=(10, 6))\n",
    "plt.scatter(nsw_df['TEMPERATURE'], nsw_df['TOTALDEMAND'], label='Actual Demand', alpha=0.5)\n",
    "plt.scatter(nsw_df['TEMPERATURE'], nsw_df['FORECASTDEMAND'], label='Forecast Demand', alpha=0.5)\n",
    "plt.xlabel('Temperature')\n",
    "plt.ylabel('Demand')\n",
    "plt.title('Temperature vs Demand')\n",
    "plt.legend()\n",
    "plt.show()"
   ],
   "metadata": {
    "collapsed": false
   },
   "id": "63d37012969891a4",
   "execution_count": null,
   "outputs": []
  },
  {
   "cell_type": "markdown",
   "source": [
    "## Box plot"
   ],
   "metadata": {
    "collapsed": false
   },
   "id": "cb32a76e0ea92ac8"
  },
  {
   "cell_type": "code",
   "source": [
    "plt.figure(figsize=(12, 6))\n",
    "nsw_df[['FORECASTDEMAND', 'TOTALDEMAND', 'TEMPERATURE']].plot(kind='box')\n",
    "plt.title('Distribution of Prices and Temperature')\n",
    "plt.show()"
   ],
   "metadata": {
    "collapsed": false
   },
   "id": "898e33fc77e7390b",
   "execution_count": null,
   "outputs": []
  },
  {
   "cell_type": "markdown",
   "source": [
    "## Histogram"
   ],
   "metadata": {
    "collapsed": false
   },
   "id": "4c7284cb8970c59d"
  },
  {
   "cell_type": "code",
   "source": [
    "plt.figure(figsize=(14, 7))\n",
    "nsw_df['TOTALDEMAND'].hist(alpha=0.7, label='Actual Price', bins=20)\n",
    "nsw_df['FORECASTDEMAND'].hist(alpha=0.5, label='Forecast Price', bins=20)\n",
    "plt.xlabel('Demand')\n",
    "plt.ylabel('Frequency')\n",
    "plt.title('Frequency Distribution of Demand')\n",
    "plt.legend()\n",
    "plt.show()"
   ],
   "metadata": {
    "collapsed": false
   },
   "id": "711ee4d7df116b54",
   "execution_count": null,
   "outputs": []
  },
  {
   "cell_type": "code",
   "source": [
    "plt.figure(figsize=(10, 5))\n",
    "nsw_df['TEMPERATURE'].hist(color='orange', bins=20)\n",
    "plt.xlabel('Temperature')\n",
    "plt.ylabel('Frequency')\n",
    "plt.title('Frequency Distribution of Temperature')\n",
    "plt.show()"
   ],
   "metadata": {
    "collapsed": false
   },
   "id": "534fed349bfa8971",
   "execution_count": null,
   "outputs": []
  },
  {
   "cell_type": "markdown",
   "source": [
    "## Correlation "
   ],
   "metadata": {
    "collapsed": false
   },
   "id": "4212d7ea8789b294"
  },
  {
   "cell_type": "code",
   "source": [
    "plt.figure(figsize=(8, 6))\n",
    "sns.heatmap(nsw_df[['FORECASTDEMAND', 'TOTALDEMAND', 'TEMPERATURE']].corr(), annot=True, cmap='coolwarm')\n",
    "plt.title('Correlation Heatmap')\n",
    "plt.show()"
   ],
   "metadata": {
    "collapsed": false
   },
   "id": "5668c7191db28dd5",
   "execution_count": null,
   "outputs": []
  },
  {
   "cell_type": "markdown",
   "source": [
    "## seasonal decomposition (additive)\n",
    "It's important to have a defined frequency (e.g., 'H' for hourly, 'D' for daily). Let's assume it's hourly data for this example"
   ],
   "metadata": {
    "collapsed": false
   },
   "id": "ef85f74b9e535b8b"
  },
  {
   "cell_type": "code",
   "source": [
    "nsw_df = nsw_df.asfreq('30min')"
   ],
   "metadata": {
    "collapsed": false
   },
   "id": "9badfaf927a2b672",
   "execution_count": null,
   "outputs": []
  },
  {
   "cell_type": "markdown",
   "source": [
    "Now, choose the demand for electricity for decomposition"
   ],
   "metadata": {
    "collapsed": false
   },
   "id": "f385bdb5202f34cc"
  },
  {
   "cell_type": "code",
   "source": [
    "ts = nsw_df['TOTALDEMAND']  # fix_me: missing values\n",
    "ts.head()"
   ],
   "metadata": {
    "collapsed": false
   },
   "id": "4cabc8d1a7c3006b",
   "execution_count": null,
   "outputs": []
  },
  {
   "cell_type": "code",
   "source": [
    "ts.isnull().sum()"
   ],
   "metadata": {
    "collapsed": false
   },
   "id": "7b35955305a39abf",
   "execution_count": null,
   "outputs": []
  },
  {
   "cell_type": "code",
   "source": [
    "ts.isna().sum()"
   ],
   "metadata": {
    "collapsed": false
   },
   "id": "8812ddff2bc6d421",
   "execution_count": null,
   "outputs": []
  },
  {
   "cell_type": "markdown",
   "source": [
    "Perform seasonal decomposition. \n",
    "compare `model`=`multiplicative` vs `model`=`additive` if necessary"
   ],
   "metadata": {
    "collapsed": false
   },
   "id": "b28ffcebcb1edaa4"
  },
  {
   "cell_type": "code",
   "source": [
    "decomposition = sm.tsa.seasonal_decompose(ts, model='additive')   \n",
    "# fix_me: deal with missing values, temporarily using ffill"
   ],
   "metadata": {
    "collapsed": false
   },
   "id": "1dc23504b7c26bb",
   "execution_count": null,
   "outputs": []
  },
  {
   "cell_type": "markdown",
   "source": [
    "Plot the decomposed components of the time series"
   ],
   "metadata": {
    "collapsed": false
   },
   "id": "f692108faf17eab8"
  },
  {
   "cell_type": "code",
   "source": [
    "fig = decomposition.plot()\n",
    "plt.show()"
   ],
   "metadata": {
    "collapsed": false
   },
   "id": "268a5a2a219f6aac",
   "execution_count": null,
   "outputs": []
  },
  {
   "cell_type": "markdown",
   "source": [
    "## additive vs multiplicative relationships between components"
   ],
   "metadata": {
    "collapsed": false
   },
   "id": "f30ce9c252a13c70"
  }
 ],
 "metadata": {
  "kernelspec": {
   "display_name": "Python 3",
   "language": "python",
   "name": "python3"
  },
  "language_info": {
   "codemirror_mode": {
    "name": "ipython",
    "version": 2
   },
   "file_extension": ".py",
   "mimetype": "text/x-python",
   "name": "python",
   "nbconvert_exporter": "python",
   "pygments_lexer": "ipython2",
   "version": "2.7.6"
  }
 },
 "nbformat": 4,
 "nbformat_minor": 5
}
