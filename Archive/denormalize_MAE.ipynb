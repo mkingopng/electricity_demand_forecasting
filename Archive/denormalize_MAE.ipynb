{
 "cells": [
  {
   "cell_type": "code",
   "execution_count": 1,
   "id": "initial_id",
   "metadata": {
    "collapsed": true,
    "ExecuteTime": {
     "end_time": "2024-04-09T01:05:58.352131Z",
     "start_time": "2024-04-09T01:05:57.870010Z"
    }
   },
   "outputs": [],
   "source": [
    "from sklearn.preprocessing import StandardScaler\n",
    "import pandas as pd\n",
    "import numpy as np\n",
    "\n",
    "nsw_df = pd.read_parquet('./../data/NSW/nsw_df.parquet')"
   ]
  },
  {
   "cell_type": "code",
   "outputs": [],
   "source": [
    "cutoff_date = nsw_df.index.max() - pd.Timedelta(days=7)"
   ],
   "metadata": {
    "collapsed": false,
    "ExecuteTime": {
     "end_time": "2024-04-09T01:05:58.354938Z",
     "start_time": "2024-04-09T01:05:58.352962Z"
    }
   },
   "id": "653688baa039aa8",
   "execution_count": 2
  },
  {
   "cell_type": "code",
   "outputs": [],
   "source": [
    "test_df = nsw_df[nsw_df.index > cutoff_date]"
   ],
   "metadata": {
    "collapsed": false,
    "ExecuteTime": {
     "end_time": "2024-04-09T01:05:58.363138Z",
     "start_time": "2024-04-09T01:05:58.355470Z"
    }
   },
   "id": "3661f15bef9a5ecf",
   "execution_count": 3
  },
  {
   "cell_type": "code",
   "outputs": [],
   "source": [
    "true_y = test_df['TOTALDEMAND'].values"
   ],
   "metadata": {
    "collapsed": false,
    "ExecuteTime": {
     "end_time": "2024-04-09T01:05:58.369671Z",
     "start_time": "2024-04-09T01:05:58.363668Z"
    }
   },
   "id": "b447f7997b63f35b",
   "execution_count": 4
  },
  {
   "cell_type": "code",
   "outputs": [],
   "source": [
    "true_y_reshaped = true_y.reshape(-1, 1)"
   ],
   "metadata": {
    "collapsed": false,
    "ExecuteTime": {
     "end_time": "2024-04-09T01:05:58.374996Z",
     "start_time": "2024-04-09T01:05:58.370505Z"
    }
   },
   "id": "be37f8ea98b19f91",
   "execution_count": 5
  },
  {
   "cell_type": "code",
   "outputs": [],
   "source": [
    "scaler_y = StandardScaler()\n",
    "y_true_scaled = scaler_y.fit_transform(true_y_reshaped.reshape(-1, 1))"
   ],
   "metadata": {
    "collapsed": false,
    "ExecuteTime": {
     "end_time": "2024-04-09T01:05:58.383163Z",
     "start_time": "2024-04-09T01:05:58.375564Z"
    }
   },
   "id": "55a1162792660ca2",
   "execution_count": 6
  },
  {
   "cell_type": "code",
   "outputs": [],
   "source": [
    "# normalized MAE from model\n",
    "normalized_mae = 0.2"
   ],
   "metadata": {
    "collapsed": false,
    "ExecuteTime": {
     "end_time": "2024-04-09T01:05:58.390571Z",
     "start_time": "2024-04-09T01:05:58.383701Z"
    }
   },
   "id": "dca09cc72a080fb2",
   "execution_count": 7
  },
  {
   "cell_type": "code",
   "outputs": [],
   "source": [
    "# Denormalizing the MAE\n",
    "denormalized_mae = normalized_mae * scaler_y.scale_[0]"
   ],
   "metadata": {
    "collapsed": false,
    "ExecuteTime": {
     "end_time": "2024-04-09T01:05:58.395666Z",
     "start_time": "2024-04-09T01:05:58.391115Z"
    }
   },
   "id": "5a9a415831239ebb",
   "execution_count": 8
  },
  {
   "cell_type": "code",
   "outputs": [
    {
     "name": "stdout",
     "output_type": "stream",
     "text": [
      "Denormalized MAE: 166.512598590828\n"
     ]
    }
   ],
   "source": [
    "print(f\"Denormalized MAE: {denormalized_mae}\")"
   ],
   "metadata": {
    "collapsed": false,
    "ExecuteTime": {
     "end_time": "2024-04-09T01:05:58.403278Z",
     "start_time": "2024-04-09T01:05:58.396148Z"
    }
   },
   "id": "10f5953242528a71",
   "execution_count": 9
  }
 ],
 "metadata": {
  "kernelspec": {
   "display_name": "Python 3",
   "language": "python",
   "name": "python3"
  },
  "language_info": {
   "codemirror_mode": {
    "name": "ipython",
    "version": 2
   },
   "file_extension": ".py",
   "mimetype": "text/x-python",
   "name": "python",
   "nbconvert_exporter": "python",
   "pygments_lexer": "ipython2",
   "version": "2.7.6"
  }
 },
 "nbformat": 4,
 "nbformat_minor": 5
}
