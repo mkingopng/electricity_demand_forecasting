{
 "cells": [
  {
   "cell_type": "code",
   "execution_count": 4,
   "id": "initial_id",
   "metadata": {
    "collapsed": true,
    "ExecuteTime": {
     "end_time": "2024-03-28T05:40:02.027900Z",
     "start_time": "2024-03-28T05:40:01.830653Z"
    }
   },
   "outputs": [],
   "source": [
    "import pandas as pd\n",
    "import os\n",
    "import matplotlib.pyplot as plt"
   ]
  },
  {
   "cell_type": "code",
   "outputs": [],
   "source": [
    "# general settings\n",
    "class CFG:\n",
    "    \"\"\"\n",
    "    Configuration class\n",
    "    \"\"\"\n",
    "    data_path = './../data'\n",
    "    img_dim1 = 20\n",
    "    img_dim2 = 10\n",
    "    \n",
    "    \n",
    "plt.style.use('fivethirtyeight')   \n",
    "plt.rcParams.update({'figure.figsize': (CFG.img_dim1, CFG.img_dim2)})"
   ],
   "metadata": {
    "collapsed": false,
    "ExecuteTime": {
     "end_time": "2024-03-28T05:40:02.030826Z",
     "start_time": "2024-03-28T05:40:02.028703Z"
    }
   },
   "id": "63c8f76951f8a606",
   "execution_count": 5
  },
  {
   "cell_type": "code",
   "outputs": [],
   "source": [
    "df = pd.read_parquet(\n",
    "    os.path.join(CFG.data_path, 'operational_demand_actual_hh_consolidated.parquet'))"
   ],
   "metadata": {
    "collapsed": false,
    "ExecuteTime": {
     "end_time": "2024-03-28T05:40:02.045006Z",
     "start_time": "2024-03-28T05:40:02.031357Z"
    }
   },
   "id": "e6113c7392831b05",
   "execution_count": 6
  },
  {
   "cell_type": "code",
   "outputs": [
    {
     "data": {
      "text/plain": "   I  OPERATIONAL_DEMAND  ACTUAL  3 REGIONID   INTERVAL_DATETIME  \\\n0  D  OPERATIONAL_DEMAND  ACTUAL  3     NSW1 2023-09-19 08:00:00   \n1  D  OPERATIONAL_DEMAND  ACTUAL  3     QLD1 2023-09-19 08:00:00   \n2  D  OPERATIONAL_DEMAND  ACTUAL  3      SA1 2023-09-19 08:00:00   \n3  D  OPERATIONAL_DEMAND  ACTUAL  3     TAS1 2023-09-19 08:00:00   \n4  D  OPERATIONAL_DEMAND  ACTUAL  3     VIC1 2023-09-19 08:00:00   \n\n   OPERATIONAL_DEMAND.1  OPERATIONAL_DEMAND_ADJUSTMENT  WDR_ESTIMATE  \\\n0                  6860                              0             0   \n1                  5745                              0             0   \n2                  1290                              0             0   \n3                  1253                              0             0   \n4                  4896                              0             0   \n\n          LASTCHANGED  \n0 2023-09-19 08:00:01  \n1 2023-09-19 08:00:01  \n2 2023-09-19 08:00:01  \n3 2023-09-19 08:00:01  \n4 2023-09-19 08:00:01  ",
      "text/html": "<div>\n<style scoped>\n    .dataframe tbody tr th:only-of-type {\n        vertical-align: middle;\n    }\n\n    .dataframe tbody tr th {\n        vertical-align: top;\n    }\n\n    .dataframe thead th {\n        text-align: right;\n    }\n</style>\n<table border=\"1\" class=\"dataframe\">\n  <thead>\n    <tr style=\"text-align: right;\">\n      <th></th>\n      <th>I</th>\n      <th>OPERATIONAL_DEMAND</th>\n      <th>ACTUAL</th>\n      <th>3</th>\n      <th>REGIONID</th>\n      <th>INTERVAL_DATETIME</th>\n      <th>OPERATIONAL_DEMAND.1</th>\n      <th>OPERATIONAL_DEMAND_ADJUSTMENT</th>\n      <th>WDR_ESTIMATE</th>\n      <th>LASTCHANGED</th>\n    </tr>\n  </thead>\n  <tbody>\n    <tr>\n      <th>0</th>\n      <td>D</td>\n      <td>OPERATIONAL_DEMAND</td>\n      <td>ACTUAL</td>\n      <td>3</td>\n      <td>NSW1</td>\n      <td>2023-09-19 08:00:00</td>\n      <td>6860</td>\n      <td>0</td>\n      <td>0</td>\n      <td>2023-09-19 08:00:01</td>\n    </tr>\n    <tr>\n      <th>1</th>\n      <td>D</td>\n      <td>OPERATIONAL_DEMAND</td>\n      <td>ACTUAL</td>\n      <td>3</td>\n      <td>QLD1</td>\n      <td>2023-09-19 08:00:00</td>\n      <td>5745</td>\n      <td>0</td>\n      <td>0</td>\n      <td>2023-09-19 08:00:01</td>\n    </tr>\n    <tr>\n      <th>2</th>\n      <td>D</td>\n      <td>OPERATIONAL_DEMAND</td>\n      <td>ACTUAL</td>\n      <td>3</td>\n      <td>SA1</td>\n      <td>2023-09-19 08:00:00</td>\n      <td>1290</td>\n      <td>0</td>\n      <td>0</td>\n      <td>2023-09-19 08:00:01</td>\n    </tr>\n    <tr>\n      <th>3</th>\n      <td>D</td>\n      <td>OPERATIONAL_DEMAND</td>\n      <td>ACTUAL</td>\n      <td>3</td>\n      <td>TAS1</td>\n      <td>2023-09-19 08:00:00</td>\n      <td>1253</td>\n      <td>0</td>\n      <td>0</td>\n      <td>2023-09-19 08:00:01</td>\n    </tr>\n    <tr>\n      <th>4</th>\n      <td>D</td>\n      <td>OPERATIONAL_DEMAND</td>\n      <td>ACTUAL</td>\n      <td>3</td>\n      <td>VIC1</td>\n      <td>2023-09-19 08:00:00</td>\n      <td>4896</td>\n      <td>0</td>\n      <td>0</td>\n      <td>2023-09-19 08:00:01</td>\n    </tr>\n  </tbody>\n</table>\n</div>"
     },
     "execution_count": 7,
     "metadata": {},
     "output_type": "execute_result"
    }
   ],
   "source": [
    "df.head()"
   ],
   "metadata": {
    "collapsed": false,
    "ExecuteTime": {
     "end_time": "2024-03-28T05:40:02.050212Z",
     "start_time": "2024-03-28T05:40:02.045797Z"
    }
   },
   "id": "224ccc604557e7ba",
   "execution_count": 7
  },
  {
   "cell_type": "code",
   "outputs": [],
   "source": [
    "df.tail()"
   ],
   "metadata": {
    "collapsed": false
   },
   "id": "195257932e122997"
  },
  {
   "cell_type": "code",
   "outputs": [],
   "source": [
    "df.shape"
   ],
   "metadata": {
    "collapsed": false
   },
   "id": "e5b8051810659489"
  },
  {
   "cell_type": "code",
   "outputs": [
    {
     "name": "stdout",
     "output_type": "stream",
     "text": [
      "<class 'pandas.core.frame.DataFrame'>\n",
      "RangeIndex: 96905 entries, 0 to 96904\n",
      "Data columns (total 10 columns):\n",
      " #   Column                         Non-Null Count  Dtype         \n",
      "---  ------                         --------------  -----         \n",
      " 0   I                              96905 non-null  object        \n",
      " 1   OPERATIONAL_DEMAND             96905 non-null  object        \n",
      " 2   ACTUAL                         96905 non-null  object        \n",
      " 3   3                              96905 non-null  int64         \n",
      " 4   REGIONID                       96905 non-null  object        \n",
      " 5   INTERVAL_DATETIME              96905 non-null  datetime64[ns]\n",
      " 6   OPERATIONAL_DEMAND.1           96905 non-null  int64         \n",
      " 7   OPERATIONAL_DEMAND_ADJUSTMENT  96905 non-null  int64         \n",
      " 8   WDR_ESTIMATE                   96905 non-null  int64         \n",
      " 9   LASTCHANGED                    96905 non-null  datetime64[ns]\n",
      "dtypes: datetime64[ns](2), int64(4), object(4)\n",
      "memory usage: 7.4+ MB\n"
     ]
    }
   ],
   "source": [
    "df.info()"
   ],
   "metadata": {
    "collapsed": false,
    "ExecuteTime": {
     "end_time": "2024-03-28T05:40:02.064645Z",
     "start_time": "2024-03-28T05:40:02.050652Z"
    }
   },
   "id": "100d7ba39c6c0afb",
   "execution_count": 8
  },
  {
   "cell_type": "code",
   "outputs": [
    {
     "data": {
      "text/plain": "             3              INTERVAL_DATETIME  OPERATIONAL_DEMAND.1  \\\ncount  96905.0                          96905          96905.000000   \nmean       3.0  2023-08-28 17:02:50.889015040           4229.114256   \nmin        3.0            2023-02-05 00:00:00            -26.000000   \n25%        3.0            2023-05-20 00:30:00           1287.000000   \n50%        3.0            2023-08-28 23:00:00           4591.000000   \n75%        3.0            2023-12-07 21:30:00           6472.000000   \nmax        3.0            2024-03-17 20:00:00          13643.000000   \nstd        0.0                            NaN           2763.717754   \n\n       OPERATIONAL_DEMAND_ADJUSTMENT  WDR_ESTIMATE  \\\ncount                        96905.0  96905.000000   \nmean                             0.0      0.005913   \nmin                              0.0      0.000000   \n25%                              0.0      0.000000   \n50%                              0.0      0.000000   \n75%                              0.0      0.000000   \nmax                              0.0     21.000000   \nstd                              0.0      0.242607   \n\n                         LASTCHANGED  \ncount                          96905  \nmean   2023-08-28 17:02:52.190919424  \nmin              2023-02-05 00:00:02  \n25%              2023-05-20 00:30:01  \n50%              2023-08-28 23:00:01  \n75%              2023-12-07 21:30:01  \nmax              2024-03-17 20:00:01  \nstd                              NaN  ",
      "text/html": "<div>\n<style scoped>\n    .dataframe tbody tr th:only-of-type {\n        vertical-align: middle;\n    }\n\n    .dataframe tbody tr th {\n        vertical-align: top;\n    }\n\n    .dataframe thead th {\n        text-align: right;\n    }\n</style>\n<table border=\"1\" class=\"dataframe\">\n  <thead>\n    <tr style=\"text-align: right;\">\n      <th></th>\n      <th>3</th>\n      <th>INTERVAL_DATETIME</th>\n      <th>OPERATIONAL_DEMAND.1</th>\n      <th>OPERATIONAL_DEMAND_ADJUSTMENT</th>\n      <th>WDR_ESTIMATE</th>\n      <th>LASTCHANGED</th>\n    </tr>\n  </thead>\n  <tbody>\n    <tr>\n      <th>count</th>\n      <td>96905.0</td>\n      <td>96905</td>\n      <td>96905.000000</td>\n      <td>96905.0</td>\n      <td>96905.000000</td>\n      <td>96905</td>\n    </tr>\n    <tr>\n      <th>mean</th>\n      <td>3.0</td>\n      <td>2023-08-28 17:02:50.889015040</td>\n      <td>4229.114256</td>\n      <td>0.0</td>\n      <td>0.005913</td>\n      <td>2023-08-28 17:02:52.190919424</td>\n    </tr>\n    <tr>\n      <th>min</th>\n      <td>3.0</td>\n      <td>2023-02-05 00:00:00</td>\n      <td>-26.000000</td>\n      <td>0.0</td>\n      <td>0.000000</td>\n      <td>2023-02-05 00:00:02</td>\n    </tr>\n    <tr>\n      <th>25%</th>\n      <td>3.0</td>\n      <td>2023-05-20 00:30:00</td>\n      <td>1287.000000</td>\n      <td>0.0</td>\n      <td>0.000000</td>\n      <td>2023-05-20 00:30:01</td>\n    </tr>\n    <tr>\n      <th>50%</th>\n      <td>3.0</td>\n      <td>2023-08-28 23:00:00</td>\n      <td>4591.000000</td>\n      <td>0.0</td>\n      <td>0.000000</td>\n      <td>2023-08-28 23:00:01</td>\n    </tr>\n    <tr>\n      <th>75%</th>\n      <td>3.0</td>\n      <td>2023-12-07 21:30:00</td>\n      <td>6472.000000</td>\n      <td>0.0</td>\n      <td>0.000000</td>\n      <td>2023-12-07 21:30:01</td>\n    </tr>\n    <tr>\n      <th>max</th>\n      <td>3.0</td>\n      <td>2024-03-17 20:00:00</td>\n      <td>13643.000000</td>\n      <td>0.0</td>\n      <td>21.000000</td>\n      <td>2024-03-17 20:00:01</td>\n    </tr>\n    <tr>\n      <th>std</th>\n      <td>0.0</td>\n      <td>NaN</td>\n      <td>2763.717754</td>\n      <td>0.0</td>\n      <td>0.242607</td>\n      <td>NaN</td>\n    </tr>\n  </tbody>\n</table>\n</div>"
     },
     "execution_count": 9,
     "metadata": {},
     "output_type": "execute_result"
    }
   ],
   "source": [
    "df.describe()"
   ],
   "metadata": {
    "collapsed": false,
    "ExecuteTime": {
     "end_time": "2024-03-28T05:40:02.087673Z",
     "start_time": "2024-03-28T05:40:02.065140Z"
    }
   },
   "id": "4cf98c9106ee1248",
   "execution_count": 9
  },
  {
   "cell_type": "code",
   "outputs": [
    {
     "data": {
      "text/plain": "Timestamp('2023-02-05 00:00:00')"
     },
     "execution_count": 10,
     "metadata": {},
     "output_type": "execute_result"
    }
   ],
   "source": [
    "df['INTERVAL_DATETIME'].min()"
   ],
   "metadata": {
    "collapsed": false,
    "ExecuteTime": {
     "end_time": "2024-03-28T05:40:02.090180Z",
     "start_time": "2024-03-28T05:40:02.088218Z"
    }
   },
   "id": "7cb3310091a1b471",
   "execution_count": 10
  },
  {
   "cell_type": "code",
   "outputs": [
    {
     "data": {
      "text/plain": "Timestamp('2024-03-17 20:00:00')"
     },
     "execution_count": 11,
     "metadata": {},
     "output_type": "execute_result"
    }
   ],
   "source": [
    "df['INTERVAL_DATETIME'].max()"
   ],
   "metadata": {
    "collapsed": false,
    "ExecuteTime": {
     "end_time": "2024-03-28T05:40:02.100183Z",
     "start_time": "2024-03-28T05:40:02.090647Z"
    }
   },
   "id": "6025936c4d27c29b",
   "execution_count": 11
  }
 ],
 "metadata": {
  "kernelspec": {
   "display_name": "Python 3",
   "language": "python",
   "name": "python3"
  },
  "language_info": {
   "codemirror_mode": {
    "name": "ipython",
    "version": 2
   },
   "file_extension": ".py",
   "mimetype": "text/x-python",
   "name": "python",
   "nbconvert_exporter": "python",
   "pygments_lexer": "ipython2",
   "version": "2.7.6"
  }
 },
 "nbformat": 4,
 "nbformat_minor": 5
}
