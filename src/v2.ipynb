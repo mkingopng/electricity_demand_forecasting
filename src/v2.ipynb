{
 "cells": [
  {
   "cell_type": "code",
   "execution_count": null,
   "id": "initial_id",
   "metadata": {
    "collapsed": true
   },
   "outputs": [],
   "source": [
    "import pandas as pd\n",
    "import numpy as np\n",
    "from pandas.plotting import autocorrelation_plot\n",
    "import os\n",
    "import matplotlib.pyplot as plt\n",
    "import plotly.express as px\n",
    "import functools\n",
    "import seaborn as sns\n",
    "from scipy.stats import zscore\n",
    "from statsmodels.tsa.seasonal import seasonal_decompose\n",
    "import statsmodels.graphics.tsaplots as tsa\n",
    "import statsmodels.api as sm\n",
    "import statsmodels.formula.api as smf"
   ]
  },
  {
   "cell_type": "code",
   "execution_count": null,
   "id": "ba303a9914e81f1d",
   "metadata": {
    "collapsed": false
   },
   "outputs": [],
   "source": [
    "class CFG:\n",
    "    data_path = './../data'\n",
    "    img_dim1 = 20\n",
    "    img_dim2 = 10\n",
    "    \n",
    "# todo: make for the visualisations\n",
    "plt.style.use('fivethirtyeight')\n",
    "plt.rcParams.update({'figure.figsize': (CFG.img_dim1, CFG.img_dim2)})"
   ]
  },
  {
   "cell_type": "markdown",
   "id": "9dfecca48785eac6",
   "metadata": {
    "collapsed": false
   },
   "source": [
    "# load NSW forecast demand"
   ]
  },
  {
   "cell_type": "code",
   "execution_count": null,
   "id": "b007dd8673e54f80",
   "metadata": {
    "collapsed": false
   },
   "outputs": [],
   "source": [
    "nsw_forecastdemand = pd.read_csv(\n",
    "    os.path.join(CFG.data_path, 'NSW', 'forecastdemand_nsw.csv'), \n",
    "    parse_dates=['LASTCHANGED', 'DATETIME']\n",
    ")"
   ]
  },
  {
   "cell_type": "code",
   "execution_count": null,
   "id": "173c9c1405dc5c25",
   "metadata": {
    "collapsed": false
   },
   "outputs": [],
   "source": [
    "# nsw_forecastdemand.head()"
   ]
  },
  {
   "cell_type": "markdown",
   "id": "89680299339ccc20",
   "metadata": {
    "collapsed": false
   },
   "source": [
    "\n",
    "- we should try to understand what `periodid` represents\n",
    "- for now we will `groupby` datetime and use `mean()` as the agg function"
   ]
  },
  {
   "cell_type": "code",
   "execution_count": null,
   "id": "64d06f69ecc99b02",
   "metadata": {
    "collapsed": false
   },
   "outputs": [],
   "source": [
    "nsw_forecastdemand = nsw_forecastdemand.groupby('DATETIME').agg({'FORECASTDEMAND': 'mean'}).reset_index()"
   ]
  },
  {
   "cell_type": "markdown",
   "id": "47488090e9d0da8d",
   "metadata": {
    "collapsed": false
   },
   "source": [
    "- reset the index to datetime"
   ]
  },
  {
   "cell_type": "code",
   "execution_count": null,
   "id": "3b758aad7b372efa",
   "metadata": {
    "collapsed": false
   },
   "outputs": [],
   "source": [
    "nsw_forecastdemand.set_index('DATETIME', inplace=True)"
   ]
  },
  {
   "cell_type": "markdown",
   "id": "67f3e43abdd098b0",
   "metadata": {
    "collapsed": false
   },
   "source": [
    "- do we need any data aside from forecast demand and datetime? I don't see any value in `PREDISPATCHSEQNO`, `REGIONID`, `LASTCHANGED` and of course `PERIODID` disappears"
   ]
  },
  {
   "cell_type": "code",
   "execution_count": null,
   "id": "7f8cfb578823e8b5",
   "metadata": {
    "collapsed": false
   },
   "outputs": [],
   "source": [
    "# nsw_forecastdemand.head()"
   ]
  },
  {
   "cell_type": "markdown",
   "id": "8bb0c18832c0bb84",
   "metadata": {
    "collapsed": false
   },
   "source": [
    "## load NSW actual demand"
   ]
  },
  {
   "cell_type": "code",
   "execution_count": null,
   "id": "f41d1bf3a1a7bd",
   "metadata": {
    "collapsed": false
   },
   "outputs": [],
   "source": [
    "nsw_totaldemand = pd.read_csv(\n",
    "    os.path.join(CFG.data_path, 'NSW', 'totaldemand_nsw.csv'), \n",
    "    parse_dates=['DATETIME'],\n",
    "    dayfirst=True,\n",
    "    index_col='DATETIME',\n",
    "    usecols=['DATETIME', 'TOTALDEMAND']\n",
    ")"
   ]
  },
  {
   "cell_type": "code",
   "execution_count": null,
   "id": "fd862c4a751c4a56",
   "metadata": {
    "collapsed": false
   },
   "outputs": [],
   "source": [
    "# nsw_totaldemand.head()"
   ]
  },
  {
   "cell_type": "markdown",
   "id": "b1ebf8ab5e407fc2",
   "metadata": {
    "collapsed": false
   },
   "source": [
    "# load NSW temperature"
   ]
  },
  {
   "cell_type": "code",
   "execution_count": null,
   "id": "bd512c503be41066",
   "metadata": {
    "collapsed": false
   },
   "outputs": [],
   "source": [
    "nsw_temperature = pd.read_csv(\n",
    "    os.path.join(CFG.data_path, 'NSW', 'temperature_nsw.csv'), \n",
    "    parse_dates=['DATETIME'], \n",
    "    dayfirst=True,\n",
    "    index_col='DATETIME',\n",
    "    usecols=['DATETIME', 'TEMPERATURE']\n",
    ")"
   ]
  },
  {
   "cell_type": "code",
   "execution_count": null,
   "id": "780bb45b2ed4f717",
   "metadata": {
    "collapsed": false
   },
   "outputs": [],
   "source": [
    "# nsw_temperature.head()"
   ]
  },
  {
   "cell_type": "markdown",
   "source": [
    "# Price data"
   ],
   "metadata": {
    "collapsed": false
   },
   "id": "7fe15e9079ff2838"
  },
  {
   "cell_type": "code",
   "outputs": [],
   "source": [
    "price_df = pd.read_csv(\n",
    "    os.path.join(CFG.data_path, 'price_cleaned_data.csv'), \n",
    "    parse_dates=['date']\n",
    ").set_index('date', inplace=False)"
   ],
   "metadata": {
    "collapsed": false
   },
   "id": "b72a7f96f0fefcaf",
   "execution_count": null
  },
  {
   "cell_type": "code",
   "outputs": [],
   "source": [
    "# price_df.head()"
   ],
   "metadata": {
    "collapsed": false
   },
   "id": "df2949d4770479a7",
   "execution_count": null
  },
  {
   "cell_type": "markdown",
   "id": "7824094120a03b7c",
   "metadata": {
    "collapsed": false
   },
   "source": [
    "# merge"
   ]
  },
  {
   "cell_type": "code",
   "execution_count": null,
   "id": "c6e67d3484078cd0",
   "metadata": {
    "collapsed": false
   },
   "outputs": [],
   "source": [
    "dfs = [nsw_totaldemand, nsw_forecastdemand, nsw_temperature, price_df]"
   ]
  },
  {
   "cell_type": "code",
   "execution_count": null,
   "id": "ba35b216e823d60c",
   "metadata": {
    "collapsed": false
   },
   "outputs": [],
   "source": [
    "nsw_df = functools.reduce(\n",
    "    lambda left, right: \n",
    "    pd.merge(\n",
    "        left, \n",
    "        right, \n",
    "        left_index=True, \n",
    "        right_index=True, \n",
    "        how='inner'\n",
    "    ), dfs\n",
    ")"
   ]
  },
  {
   "cell_type": "code",
   "execution_count": null,
   "id": "453e902310b4f2b1",
   "metadata": {
    "collapsed": false
   },
   "outputs": [],
   "source": [
    "# nsw_df.head()"
   ]
  },
  {
   "cell_type": "markdown",
   "id": "19f21040121e70d2",
   "metadata": {
    "collapsed": false
   },
   "source": [
    "# EDA"
   ]
  },
  {
   "cell_type": "code",
   "execution_count": null,
   "id": "ad032d93149abc16",
   "metadata": {
    "collapsed": false
   },
   "outputs": [],
   "source": [
    "nsw_df.describe()"
   ]
  },
  {
   "cell_type": "code",
   "execution_count": null,
   "id": "a69442b9c176d0b7",
   "metadata": {
    "collapsed": false
   },
   "outputs": [],
   "source": [
    "nsw_df.corr()"
   ]
  },
  {
   "cell_type": "code",
   "execution_count": null,
   "id": "203feef92437089f",
   "metadata": {
    "collapsed": false
   },
   "outputs": [],
   "source": [
    "sns.heatmap(nsw_df.corr(), annot=True, cmap='coolwarm')"
   ]
  },
  {
   "cell_type": "code",
   "execution_count": null,
   "id": "dfc72cf3",
   "metadata": {},
   "outputs": [],
   "source": [
    "from utils import plot_correlation_heatmap ### also imports plot settings for the whole script\n",
    "plot_correlation_heatmap(nsw_df)"
   ]
  },
  {
   "cell_type": "markdown",
   "id": "be970c6b201afeba",
   "metadata": {
    "collapsed": false
   },
   "source": [
    "# Forecast and actual demand over time"
   ]
  },
  {
   "cell_type": "code",
   "execution_count": null,
   "id": "bbf2d0c68fbfc0a9",
   "metadata": {
    "collapsed": false
   },
   "outputs": [],
   "source": [
    "plt.figure(figsize=(CFG.img_dim1, CFG.img_dim2))\n",
    "\n",
    "daily_avg_actual = nsw_df['TOTALDEMAND'].resample('D').mean()\n",
    "daily_avg_forecast = nsw_df['FORECASTDEMAND'].resample('D').mean()\n",
    "\n",
    "plt.plot(\n",
    "    daily_avg_actual.index, \n",
    "    daily_avg_actual, \n",
    "    label='Actual Demand - Daily Avg', \n",
    "    color='red', \n",
    "    alpha=0.5\n",
    ")\n",
    "\n",
    "plt.plot(\n",
    "    daily_avg_forecast.index, \n",
    "    daily_avg_forecast, \n",
    "    label='Forecast Demand - Daily Avg', \n",
    "    color='blue', \n",
    "    alpha=0.5\n",
    ")\n",
    "\n",
    "plt.plot(\n",
    "    daily_avg_forecast.index, \n",
    "    daily_avg_forecast - daily_avg_actual, \n",
    "    label='Difference (Forecast - Actual)', \n",
    "    color='green', \n",
    "    alpha=0.5\n",
    ")\n",
    "\n",
    "plt.xlabel('Datetime')\n",
    "plt.ylabel('Demand')\n",
    "plt.title('Forecast vs Actual Demand Over Time - Daily Averages')\n",
    "plt.legend()\n",
    "plt.show()\n",
    "\n",
    "# fix_me: add a time slider to zoom in, append the daily averaged and error to the df "
   ]
  },
  {
   "cell_type": "code",
   "outputs": [],
   "source": [
    "nsw_df['daily_avg_actual'] = daily_avg_actual\n",
    "nsw_df['daily_avg_forecast'] = daily_avg_forecast\n",
    "nsw_df['forecast_error'] = daily_avg_forecast - daily_avg_actual  # todo: definition of accuracy - MSE, RMSE, MAPE, MAE"
   ],
   "metadata": {
    "collapsed": false
   },
   "id": "2349573fc3374191",
   "execution_count": null
  },
  {
   "cell_type": "code",
   "outputs": [],
   "source": [],
   "metadata": {
    "collapsed": false
   },
   "id": "a031a627164ebceb"
  },
  {
   "cell_type": "code",
   "outputs": [],
   "source": [
    "nsw_df.head()"
   ],
   "metadata": {
    "collapsed": false
   },
   "id": "ff861ec70f4daa67",
   "execution_count": null
  },
  {
   "cell_type": "markdown",
   "id": "e927024d808b6fb2",
   "metadata": {
    "collapsed": false
   },
   "source": [
    "# Forecast Demand over time\n",
    "I've made some changes to try to improve this plot:\n",
    "- **Smoothing**: The plot is quite noisy, so applying a rolling mean (moving average) can help to smooth out short-term fluctuations and highlight longer-term trends.\n",
    "- **Highlighting Peaks and Troughs**: You could programmatically identify and annotate significant peaks and troughs to draw attention to them.\n",
    "- **Resampling**: If the data is too dense, consider resampling it to a larger time frame, such as daily or weekly averages."
   ]
  },
  {
   "cell_type": "code",
   "execution_count": null,
   "id": "742ce6ebe68d2b8e",
   "metadata": {
    "collapsed": false
   },
   "outputs": [],
   "source": [
    "plt.figure(figsize=(CFG.img_dim1, CFG.img_dim2))\n",
    "rolling_window = 48\n",
    "nsw_df['smoothed_forecast_demand'] = nsw_df['FORECASTDEMAND'].rolling(window=rolling_window).mean()\n",
    "nsw_df_daily = nsw_df['FORECASTDEMAND'].resample('D').mean()\n",
    "\n",
    "#\n",
    "plt.plot(\n",
    "    nsw_df['FORECASTDEMAND'], \n",
    "    label='Original Forecast Demand', \n",
    "    alpha=0.5\n",
    ")\n",
    "\n",
    "# \n",
    "plt.plot(\n",
    "    nsw_df['smoothed_forecast_demand'], \n",
    "    label='Smoothed Forecast Demand', \n",
    "    color='red', \n",
    "    alpha=0.8\n",
    ")\n",
    "\n",
    "# \n",
    "plt.plot(\n",
    "    nsw_df_daily.index, \n",
    "    nsw_df_daily, \n",
    "    label='Daily Average Forecast Demand', \n",
    "    color='orange', \n",
    "    alpha=0.8\n",
    ")\n",
    "\n",
    "plt.xlabel('Datetime')\n",
    "plt.ylabel('Demand')\n",
    "plt.title('Forecast Demand Over Time - daily averages and smoothed')\n",
    "plt.grid(True)\n",
    "plt.legend()\n",
    "plt.show()"
   ]
  },
  {
   "cell_type": "markdown",
   "id": "c0ba1da7746d91b3",
   "metadata": {
    "collapsed": false
   },
   "source": [
    "## Observations\n",
    "The plot layers three time series: \n",
    "- the original forecast demand, \n",
    "- the smoothed forecast demand, \n",
    "- and the daily average forecast demand. \n",
    "\n",
    "Here are some potential conclusions and observations I draw from this plot:\n",
    "\n",
    "1. **Volatility**: The original forecast demand shows significant volatility, as indicated by the frequent and sometimes sharp peaks and valleys.\n",
    "\n",
    "2. **Smoothing Effect**: The smoothed forecast demand (the line in red) has reduced the short-term fluctuations, making the underlying trends more visible. It appears to follow the central tendency of the original forecast, reducing the impact of extreme values.\n",
    "\n",
    "3. **Daily Patterns**: The daily average forecast demand (the line in yellow) simplifies the data to show the trend within each day, abstracting away the half-hourly variations. This line highlights the overall daily movement in demand without the noise of intra-day fluctuations.\n",
    "\n",
    "4. **Long-term Trends**: Despite the daily and smoothed variations, there seems to be a consistent pattern that repeats over a longer cycle, perhaps weekly or seasonally, which would be worth investigating further.\n",
    "\n",
    "5. **Comparative Analysis**: By overlaying the smoothed and daily averaged data over the original forecast demand, it's possible to compare short-term variations to longer-term patterns. This can be crucial for understanding both normal daily operations and the impact of specific events or anomalies.\n",
    "\n",
    "6. **Anomaly Identification**: The points where the original demand significantly diverges from its smoothed or daily average counterpart may indicate anomalies or special events that caused unusual demand (such as holidays, heatwaves, etc.).\n",
    "\n",
    "For further analysis, I should investigate the causes of the peaks and troughs in more detail, especially the outliers. For example, examining corresponding temperature data, special events, or other external factors could provide insights into why demand might spike or dip at various points in time."
   ]
  },
  {
   "cell_type": "markdown",
   "id": "c513a37255a3d611",
   "metadata": {
    "collapsed": false
   },
   "source": [
    "# Total Demand over time"
   ]
  },
  {
   "cell_type": "code",
   "execution_count": null,
   "id": "c18defdcdc1ca7b1",
   "metadata": {
    "collapsed": false
   },
   "outputs": [],
   "source": [
    "plt.figure(figsize=(CFG.img_dim1, CFG.img_dim2))\n",
    "\n",
    "nsw_df_daily = nsw_df['TOTALDEMAND'].resample('D').mean()\n",
    "rolling_window = 48\n",
    "nsw_df['smoothed_total_demand'] = nsw_df['TOTALDEMAND'].rolling(window=rolling_window).mean()\n",
    "\n",
    "plt.plot(\n",
    "    nsw_df['TOTALDEMAND'], \n",
    "    label='Actual Demand', \n",
    "    color='red', \n",
    "    alpha=0.3\n",
    ")\n",
    "\n",
    "plt.plot(\n",
    "    nsw_df.index, \n",
    "    nsw_df['smoothed_total_demand'], \n",
    "    label='Smoothed Actual Demand', \n",
    "    color='blue', \n",
    "    alpha=0.7\n",
    ")\n",
    "\n",
    "plt.plot(\n",
    "    nsw_df_daily.index, \n",
    "    nsw_df_daily, \n",
    "    label='Daily Average Demand', \n",
    "    color='yellow', \n",
    "    alpha=1.0, \n",
    "    linewidth=2\n",
    ")\n",
    "\n",
    "plt.xlabel('Datetime')\n",
    "plt.ylabel('Demand')\n",
    "plt.title('Actual Demand Over Time - Daily Averages and Smoothed')\n",
    "\n",
    "plt.grid(True)\n",
    "plt.legend()\n",
    "plt.show()"
   ]
  },
  {
   "cell_type": "markdown",
   "id": "a427b48a4f84d83",
   "metadata": {
    "collapsed": false
   },
   "source": [
    "## Observations\n",
    "This plot, which shows actual demand over time along with its daily average and smoothed version, include:\n",
    "\n",
    "1. **Cyclical Patterns**: There are visible patterns that repeat over time, which may correspond to weekly, monthly, or seasonal cycles in electricity demand.\n",
    "\n",
    "2. **Daily Variations**: The daily average demand (in yellow) shows how demand fluctuates on a day-to-day basis. This line smooths out the intraday variations and reveals the general movement of demand throughout the dataset's timeline.\n",
    "\n",
    "3. **Trend Indication**: The smoothed actual demand (in blue) helps to identify the underlying trend by minimizing the impact of short-term fluctuations. This can provide insights into longer-term movements in demand, such as gradual increases or decreases over the years.\n",
    "\n",
    "4. **Peak Demand Periods**: There are significant spikes in actual demand (in red) that stand out above the smoothed and daily average trends. These peaks could indicate days of particularly high demand, which could be due to extreme weather, special events, or other factors.\n",
    "\n",
    "5. **Volatility**: The red peaks suggest periods of high volatility in actual demand. Understanding the factors contributing to this volatility could be crucial for grid management and planning.\n",
    "\n",
    "6. **Data Density**: The plot is dense and hard to interpret in detail, particularly over such a long timeframe. A more granular view (e.g., looking at shorter periods) is likely provide more actionable insights. This should be the next task for me\n",
    "\n",
    "7. **Anomalies and Outliers**: The actual demand has several outliers which are significantly different from the smoothed trend and daily average. These could represent data anomalies that may need to be investigated further.\n",
    "\n",
    "To better understand the demand patterns and to make informed decisions, I should segment the data into different periods (such as by year, season, week and day), and analyse it in conjunction with other relevant data (like temperature or economic activity)."
   ]
  },
  {
   "cell_type": "markdown",
   "id": "2650edd006db1434",
   "metadata": {
    "collapsed": false
   },
   "source": [
    "# Temperature over time"
   ]
  },
  {
   "cell_type": "code",
   "execution_count": null,
   "id": "971b30c5f60a442c",
   "metadata": {
    "collapsed": false
   },
   "outputs": [],
   "source": [
    "rolling_window = 48  # this should be changed. 48 represents 24 hours\n",
    "# \n",
    "nsw_df['smoothed_temperature'] = nsw_df['TEMPERATURE'].rolling(window=rolling_window).mean()\n",
    "\n",
    "plt.figure(figsize=(CFG.img_dim1, CFG.img_dim2))\n",
    "\n",
    "# original temperature\n",
    "plt.plot(\n",
    "    nsw_df.index, \n",
    "    nsw_df['TEMPERATURE'], \n",
    "    color='orange', \n",
    "    alpha=0.5, \n",
    "    label='Original Temperature'\n",
    ")\n",
    "\n",
    "# smoothed temperature\n",
    "plt.plot(\n",
    "    nsw_df.index, \n",
    "    nsw_df['smoothed_temperature'], \n",
    "    color='red', \n",
    "    label='Smoothed Temperature'\n",
    ")\n",
    "\n",
    "plt.xlabel('Datetime')\n",
    "plt.ylabel('Temperature (°C)')\n",
    "plt.title('Temperature Over Time with Smoothed Curve')\n",
    "plt.legend()\n",
    "plt.show()"
   ]
  },
  {
   "cell_type": "markdown",
   "id": "2b8f78b6bf1a2e5d",
   "metadata": {
    "collapsed": false
   },
   "source": [
    "## Observations\n",
    "- tbc"
   ]
  },
  {
   "cell_type": "markdown",
   "id": "444a82d5e721894d",
   "metadata": {
    "collapsed": false
   },
   "source": [
    "# Scatter Plot: Temperature vs Demand\n",
    "- to see if higher or lower temperatures correlate with higher or lower demand\n",
    "- it looks like the line of best fit is quadratic to me"
   ]
  },
  {
   "cell_type": "code",
   "execution_count": null,
   "id": "b49cbb3ad651638f",
   "metadata": {
    "collapsed": false
   },
   "outputs": [],
   "source": [
    "plt.figure(figsize=(CFG.img_dim1, CFG.img_dim2))\n",
    "\n",
    "# temperature vs total demand\n",
    "sns.scatterplot(\n",
    "    x='TEMPERATURE', \n",
    "    y='TOTALDEMAND', \n",
    "    data=nsw_df, \n",
    "    alpha=0.3\n",
    ")\n",
    "\n",
    "# fit and plot a polynomial regression with order 2 (quadratic)\n",
    "sns.regplot(\n",
    "    x='TEMPERATURE', \n",
    "    y='TOTALDEMAND', \n",
    "    data=nsw_df, \n",
    "    order=2, \n",
    "    scatter=False, \n",
    "    color='red'\n",
    ")\n",
    "\n",
    "plt.xlabel('Temperature (°C)', fontsize=12)\n",
    "plt.ylabel('Total Demand (MW)', fontsize=12)\n",
    "plt.title('Total Demand vs. Temperature', fontsize=14)\n",
    "plt.grid(True)\n",
    "plt.tight_layout()\n",
    "plt.show()\n",
    "# fix_me: add a color gradient to show the temperature"
   ]
  },
  {
   "cell_type": "markdown",
   "id": "5d3b85faca9c5443",
   "metadata": {
    "collapsed": false
   },
   "source": [
    "## Observations\n",
    "The scatter plot shows Total Demand plotted against Temperature, with a quadratic trend line indicating the general pattern of the relationship between these two variables. Here are some observations we can infer from this plot:\n",
    "\n",
    "1. **Non-linear Relationship**: There appears to be a non-linear, possibly quadratic relationship between temperature and total demand. Demand increases with temperature up to a certain point, after which it seems to plateau or even decline slightly.\n",
    "\n",
    "2. **Increased Demand at Moderate Temperatures**: The highest total demand occurs at moderate temperatures, not at the extremes. This could indicate that the most energy-intensive activities (like heating and cooling) occur in a moderate temperature range.\n",
    "\n",
    "3. **Lower Demand at Temperature Extremes**: There is a spread of demand at lower and higher temperatures, but the peaks are not as pronounced as in the moderate range. At low temperatures, this might mean adequate insulation or less need for electric heating. At high temperatures, it could imply that not all cooling is electric, or there may be a cap on how much cooling can be achieved.\n",
    "\n",
    "4. **Possible Threshold Effect**: The trend line suggests that after a certain temperature threshold, increases in temperature do not result in significant increases in demand. This could be due to behavioral changes, energy-efficiency measures, or the saturation of cooling systems.\n",
    "\n",
    "5. **Data Spread**: The considerable spread of data points at all temperature levels suggests that factors other than temperature also significantly influence total demand.\n",
    "\n",
    "6. **High Variability**: There's significant variability in demand at specific temperatures, indicated by the vertical spread of points. This could be due to time-of-day effects, different days of the week, or other variables not accounted for in this two-dimensional plot."
   ]
  },
  {
   "cell_type": "markdown",
   "id": "b3f122a73045624b",
   "metadata": {
    "collapsed": false
   },
   "source": [
    "# Scatter plot: Total demand vs time of day (temp as color)\n",
    "To visualize demand patterns at different times of the day."
   ]
  },
  {
   "cell_type": "code",
   "execution_count": null,
   "id": "cbd62e2981d2b6dc",
   "metadata": {
    "collapsed": false
   },
   "outputs": [],
   "source": [
    "# new feature\n",
    "nsw_df['minutes_past_midnight'] = nsw_df.index.hour * 60 + nsw_df.index.minute"
   ]
  },
  {
   "cell_type": "code",
   "execution_count": null,
   "id": "c3620d10f6e3328a",
   "metadata": {
    "collapsed": false
   },
   "outputs": [],
   "source": [
    "plt.figure(figsize=(CFG.img_dim1, CFG.img_dim2))\n",
    "\n",
    "# temperature, time and total demand\n",
    "plt.scatter(\n",
    "    nsw_df['minutes_past_midnight'], \n",
    "    nsw_df['TOTALDEMAND'], \n",
    "    c=nsw_df['TEMPERATURE'], \n",
    "    alpha=0.6, \n",
    "    cmap='coolwarm', \n",
    "    s=20\n",
    ")  \n",
    "\n",
    "plt.colorbar(label='Temperature (°C)')\n",
    "plt.xlabel('Time of Day', fontsize=12)\n",
    "plt.ylabel('Total Demand (MW)', fontsize=12)\n",
    "plt.title('Total Demand vs. Time of Day', fontsize=14)\n",
    "plt.grid(True)\n",
    "tick_positions = range(0, 1441, 60)\n",
    "tick_labels = [f'{h:02d}:00' for h in range(24)] + ['00:00']\n",
    "plt.xticks(ticks=tick_positions, labels=tick_labels, rotation=45)\n",
    "plt.tight_layout()\n",
    "plt.show()"
   ]
  },
  {
   "cell_type": "markdown",
   "id": "e23477e1e7a081c8",
   "metadata": {
    "collapsed": false
   },
   "source": [
    "## Observations\n",
    "1. **Demand Peaks**: It appears that there are two distinct peaks in electricity demand, likely corresponding to morning and evening hours. This is a common pattern in electricity usage, often related to increased activity as people prepare for work and school, and then again as they come home and use more appliances.\n",
    "\n",
    "2. **Temperature Influence**: The color gradient indicates a relationship between temperature and total demand. Warmer colors at higher demand levels could suggest higher energy usage during warmer temperatures, which might be due to air conditioning and cooling systems.\n",
    "\n",
    "3. **Cooler Temperatures**: At cooler temperatures (blue points), demand seems less intense compared to warmer temperatures, which might indicate less energy usage for heating compared to cooling, or it could suggest that the data is from a region where cooling needs are greater than heating needs.\n",
    "\n",
    "4. **Demand Troughs**: There are clear periods where demand is lower, likely during the night when most activities cease, and there's little need for lighting and appliances.\n",
    "\n",
    "5. **Midday Patterns**: There's a visible increase in demand around midday, which could be due to usage in commercial buildings or by industrial processes.\n",
    "\n",
    "6. **Temperature Variability**: There's a spread of temperature values across all times, but particularly so during the times of peak demand. This suggests that on days with higher temperatures, the peaks in demand might be more pronounced.\n",
    "\n",
    "7. **Intraday Variability**: There's significant variability in demand at any given time, which could be influenced by various factors including but not limited to temperature, such as the day of the week, holidays, or specific events."
   ]
  },
  {
   "cell_type": "markdown",
   "id": "55ac1f2c9ed24d4e",
   "metadata": {
    "collapsed": false
   },
   "source": [
    "# Scatter plot: Temperature vs Total Demand vs Forecast Demand"
   ]
  },
  {
   "cell_type": "code",
   "execution_count": null,
   "id": "d7660b519ff0793a",
   "metadata": {
    "collapsed": false
   },
   "outputs": [],
   "source": [
    "plt.figure(figsize=(CFG.img_dim1, CFG.img_dim2))\n",
    "\n",
    "# total demand vs temperature\n",
    "sns.scatterplot(\n",
    "    x=nsw_df['TEMPERATURE'] + np.random.uniform(-0.15, 0.15, size=len(nsw_df)), \n",
    "    y=nsw_df['TOTALDEMAND'], \n",
    "    label='Total Demand', \n",
    "    alpha=0.6,\n",
    "    s=20,\n",
    "    edgecolor='none'\n",
    ")\n",
    "\n",
    "# forecast demand vs temperature\n",
    "sns.scatterplot(\n",
    "    x=nsw_df['TEMPERATURE'] + np.random.uniform(-0.15, 0.15, size=len(nsw_df)), \n",
    "    y=nsw_df['FORECASTDEMAND'], \n",
    "    label='Forecast Demand', \n",
    "    alpha=0.6,\n",
    "    s=20,\n",
    "    edgecolor='none'\n",
    ")\n",
    "\n",
    "plt.xlabel('Temperature (°C)', fontsize=14)\n",
    "plt.ylabel('Demand (MW)', fontsize=14)\n",
    "plt.title('Temperature vs Demand', fontsize=18)\n",
    "plt.legend(loc='upper right', bbox_to_anchor=(1.15, 1))\n",
    "plt.grid(True)\n",
    "plt.tight_layout()\n",
    "plt.show()"
   ]
  },
  {
   "cell_type": "markdown",
   "id": "28d4f447d4a1ccb9",
   "metadata": {
    "collapsed": false
   },
   "source": [
    "## Observations\n",
    "The plot illustrates Total Demand and Forecast Demand as they relate to Temperature, depicted in different colours for comparison. Here’s what we can interpret from this plot:\n",
    "\n",
    "1. **Forecast vs. Actual Demand**: Both total and forecast demand show a similar trend with temperature, suggesting the forecasting model is generally capturing the temperature-related variability in demand. However, the non-overlapping areas highlight where the forecast demand significantly deviates from the actual demand. This could occur during unexpected temperature fluctuations or when other factors influencing demand are not accounted for in the forecasting model.\n",
    "\n",
    "2. **Spread of Forecast**: The forecast demand data points are spread across a wide range of the actual demand values, especially at mid-range temperatures. This could indicate potential inaccuracies in the forecast during those conditions, or it might reflect natural variability in demand that isn't fully captured by temperature alone.\n",
    "\n",
    "3. **Higher Temperatures**: At higher temperatures, both total and forecast demand are elevated, which typically corresponds with increased use of cooling systems. The forecasts appear to follow this trend. However, it also looks like the model may be less accurate under extreme temperature conditions where the behavior of the demand might be less predictable or more volatile.\n",
    "\n",
    "4. **Lower Temperatures**: Similarly, increased demand at lower temperatures is likely due to heating needs. The forecast demand also follows this trend. similar comment to high temps\n",
    "\n",
    "5. **Concentration of Data**: There seems to be a dense concentration of data points at certain temperatures, indicating common temperature ranges for the dataset. Less dense areas also represent areas that are less accurate.\n",
    "\n",
    "6. **Discrepancies**: There are noticeable discrepancies between forecast and actual demand at certain temperatures. Why\n",
    "\n",
    "7. **Model Performance**: The overlay of forecast on actual demand can be used to evaluate the performance of the forecasting model across the temperature range. The closer the fit, the better the model is at capturing the impact of temperature on demand.\n",
    "\n",
    "8. **Temperature Extremes**: Both demand values tend to be higher at the temperature extremes, suggesting a U-shaped relationship where both heating and cooling drive up energy demand.\n",
    "\n",
    "This visual comparison is valuable for understanding how well the forecasting model performs relative to actual demand. "
   ]
  },
  {
   "cell_type": "markdown",
   "id": "cd9180929ce52b8",
   "metadata": {
    "collapsed": false
   },
   "source": [
    "# Histogram: total demand distribution\n",
    "to get an idea of the most common demand levels"
   ]
  },
  {
   "cell_type": "code",
   "execution_count": null,
   "id": "d5597d94b9c55468",
   "metadata": {
    "collapsed": false
   },
   "outputs": [],
   "source": [
    "nsw_df['TOTALDEMAND'].hist(bins=50)\n",
    "plt.xlabel('Total Demand')\n",
    "plt.ylabel('Frequency')\n",
    "plt.title('Distribution of Total Demand')\n",
    "plt.show()"
   ]
  },
  {
   "cell_type": "markdown",
   "id": "b4a07f85662d2b6b",
   "metadata": {
    "collapsed": false
   },
   "source": [
    "## Histogram: temperature distribution"
   ]
  },
  {
   "cell_type": "code",
   "execution_count": null,
   "id": "258d203218fce478",
   "metadata": {
    "collapsed": false
   },
   "outputs": [],
   "source": [
    "nsw_df['TEMPERATURE'].hist(bins=50, color='orange')\n",
    "plt.xlabel('Total Demand')\n",
    "plt.ylabel('Frequency')\n",
    "plt.title('Distribution of Total Demand')\n",
    "plt.show()"
   ]
  },
  {
   "cell_type": "markdown",
   "id": "2847e71b9803e7fb",
   "metadata": {
    "collapsed": false
   },
   "source": [
    "# KDE of Total demand\n",
    "to see the probability density of the total demand levels"
   ]
  },
  {
   "cell_type": "code",
   "execution_count": null,
   "id": "8845f8c8e2215f91",
   "metadata": {
    "collapsed": false
   },
   "outputs": [],
   "source": [
    "nsw_df['TOTALDEMAND'].plot(kind='kde')\n",
    "plt.xlabel('Total Demand')\n",
    "plt.title('KDE of Total Demand')\n",
    "plt.show()"
   ]
  },
  {
   "cell_type": "markdown",
   "id": "82bc1e37be93a724",
   "metadata": {
    "collapsed": false
   },
   "source": [
    "# Autocorrelation plot"
   ]
  },
  {
   "cell_type": "code",
   "execution_count": null,
   "id": "10138da8cf68f173",
   "metadata": {
    "collapsed": false
   },
   "outputs": [],
   "source": [
    "plt.figure(figsize=(CFG.img_dim1, CFG.img_dim2))\n",
    "max_lags = 96\n",
    "autocorrelation_values = [nsw_df['TOTALDEMAND'].autocorr(lag=i) for i in range(max_lags)]\n",
    "plt.plot(autocorrelation_values, marker='o')\n",
    "plt.xlabel('Lags')\n",
    "plt.ylabel('Autocorrelation')\n",
    "plt.title('Autocorrelation of Total Demand up to lag {}'.format(max_lags))\n",
    "plt.show()"
   ]
  },
  {
   "cell_type": "markdown",
   "id": "3fee2e85b2e08e45",
   "metadata": {
    "collapsed": false
   },
   "source": [
    "## Observations\n",
    "For half-hourly data, 96 lags represent a full two days. From the autocorrelation plot, we can make some key interpretations:\n",
    "\n",
    "1. **High Initial Autocorrelation**: The autocorrelation starts at 1 (as it must, since this represents correlation with itself at lag 0) and remains high over the initial lags, which suggests that the demand data is strongly influenced by its immediate past values. This could be due to consistent patterns of demand across adjacent time intervals.\n",
    "\n",
    "2. **Daily Seasonality**: The peak in autocorrelation at lag 48 (which represents a full day's lag for half-hourly data) indicates a strong daily seasonal pattern. The demand at the same time on one day is highly correlated with the demand at the same time on the next day.\n",
    "\n",
    "3. **Two-Day Cycle**: The second peak at lag 96 shows that the demand also correlates with itself two days apart. This reinforces the daily seasonality and suggests a stable pattern of demand that repeats every 48 half-hour period.\n",
    "\n",
    "4. **Troughs at Intermediate Lags**: The troughs at lags that are halfway between the peaks (around 24 and 72) may suggest a less significant correlation at these intermediate points. This could be due to the contrast between daytime and nighttime demand or the differences in demand patterns between workdays and non-workdays.\n",
    "\n",
    "This autocorrelation structure indicates that any models for forecasting or analysis should account for daily seasonality. Time series models such as ARIMA with seasonal components or machine learning models with lagged features might be well-suited to capture and predict these patterns."
   ]
  },
  {
   "cell_type": "markdown",
   "id": "6798ce49348059a8",
   "metadata": {
    "collapsed": false
   },
   "source": [
    "# Boxplot\n",
    "I'm now using z-score normalisation instead of log transform because temperature contains zero and negative values"
   ]
  },
  {
   "cell_type": "code",
   "execution_count": null,
   "id": "46f393702f125806",
   "metadata": {
    "collapsed": false
   },
   "outputs": [],
   "source": [
    "# Apply z-score normalization\n",
    "nsw_df['normalised_total_demand'] = zscore(nsw_df['TOTALDEMAND'])\n",
    "nsw_df['normalised_forecast_demand'] = zscore(nsw_df['FORECASTDEMAND'])\n",
    "nsw_df['normalised_temperature'] = zscore(nsw_df['TEMPERATURE'])\n",
    "\n",
    "# Plot the box plots for the normalized values\n",
    "plt.figure(figsize=(CFG.img_dim1, CFG.img_dim2))\n",
    "plt.boxplot(\n",
    "    [\n",
    "        nsw_df['normalised_total_demand'], \n",
    "        nsw_df['normalised_forecast_demand'],\n",
    "        nsw_df['normalised_temperature']\n",
    "    ],\n",
    "    labels=['Normalised Total Demand', 'Normalised Forecast Demand', 'Normalised Temperature']\n",
    ")\n",
    "plt.title('Normalised Distributions of Demand and Temperature')\n",
    "plt.show()"
   ]
  },
  {
   "cell_type": "markdown",
   "id": "2490b9d76d5d2821",
   "metadata": {
    "collapsed": false
   },
   "source": [
    "## Observations\n",
    "Based on the box plot for the normalised distributions of Total Demand, Forecast Demand, and Temperature:\n",
    "\n",
    "1. **Central Tendency**: The median of the Total Demand and Forecast Demand (indicated by the line in the middle of the box) are at or near zero, which is expected after normalization. It seems the median for Temperature is also close to zero after normalization.\n",
    "\n",
    "2. **Variability**: The interquartile range (IQR, represented by the box) is more extended for Total Demand compared to Forecast Demand, indicating greater variability in actual demand. The IQR for Temperature appears much smaller, suggesting less variability relative to its mean.\n",
    "\n",
    "3. **Outliers**: The presence of outliers is indicated by the points beyond the whiskers in both Total Demand and Forecast Demand. These are individual data points that lie beyond the typical range (1.5 times the IQR).\n",
    "\n",
    "4. **Symmetry**: The distributions for both demand variables appear reasonably symmetrical around their median, though Total Demand has a notable number of high outliers.\n",
    "\n",
    "5. **Comparison of Distributions**: The fact that both demands have similar box heights (IQRs) but Total Demand has more outliers could indicate that extreme values are more common in the actual demand than forecasted. \n",
    "\n",
    "6. **Temperature Distribution**: Even though the temperature is normalized, the small IQR and the presence of outliers suggest that there are times when the temperature is significantly different from the mean temperature."
   ]
  },
  {
   "cell_type": "markdown",
   "id": "d4fdfc9b3d113aee",
   "metadata": {
    "collapsed": false
   },
   "source": [
    "# Decomposition"
   ]
  },
  {
   "cell_type": "code",
   "execution_count": null,
   "id": "dea125d5c1525742",
   "metadata": {
    "collapsed": false
   },
   "outputs": [],
   "source": [
    "res = seasonal_decompose(\n",
    "    nsw_df['TOTALDEMAND'], \n",
    "    model='additive', \n",
    "    period=48\n",
    ")\n",
    "res.plot()"
   ]
  },
  {
   "cell_type": "markdown",
   "id": "aa9e4bc78cebe669",
   "metadata": {
    "collapsed": false
   },
   "source": [
    "# Decomposition of 1 year of data"
   ]
  },
  {
   "cell_type": "code",
   "execution_count": null,
   "id": "e3ca9be15fa8ceef",
   "metadata": {
    "collapsed": false
   },
   "outputs": [],
   "source": [
    "one_year_data = nsw_df.loc['2020']\n",
    "res_one_year = seasonal_decompose(\n",
    "    one_year_data['TOTALDEMAND'], \n",
    "    model='additive', \n",
    "    period=48\n",
    ")\n",
    "res_one_year.plot()"
   ]
  },
  {
   "cell_type": "markdown",
   "id": "6b23a3237158dc0d",
   "metadata": {
    "collapsed": false
   },
   "source": [
    "### decompose for one week"
   ]
  },
  {
   "cell_type": "code",
   "execution_count": null,
   "id": "5cc07c582ab524ae",
   "metadata": {
    "collapsed": false
   },
   "outputs": [],
   "source": [
    "one_week_data = nsw_df['2020-01-01':'2020-01-07']\n",
    "res_one_week = seasonal_decompose(\n",
    "    one_week_data['TOTALDEMAND'], \n",
    "    model='additive', \n",
    "    period=48\n",
    ")\n",
    "res_one_week.plot()"
   ]
  },
  {
   "cell_type": "markdown",
   "id": "46b68201dab65f71",
   "metadata": {
    "collapsed": false
   },
   "source": [
    "### Decompose for 2 days"
   ]
  },
  {
   "cell_type": "code",
   "execution_count": null,
   "id": "a5de48f78476e2c2",
   "metadata": {
    "collapsed": false
   },
   "outputs": [],
   "source": [
    "one_day_data = nsw_df['2020-01-01 00:00:00':'2020-01-02 23:30:00']\n",
    "res_one_day = seasonal_decompose(\n",
    "    one_day_data['TOTALDEMAND'], \n",
    "    model='additive',\n",
    "    period=48\n",
    ")\n",
    "res_one_day.plot()"
   ]
  },
  {
   "cell_type": "code",
   "execution_count": null,
   "id": "78df602e",
   "metadata": {},
   "outputs": [],
   "source": [
    "nsw_df\n",
    "# todo: check whether there are duplicates"
   ]
  },
  {
   "cell_type": "code",
   "execution_count": null,
   "id": "ead61bb5",
   "metadata": {},
   "outputs": [],
   "source": [
    "from utils import KalmanFilterAverage, KalmanFilterRegression, half_life\n",
    "# state_means, _ = KalmanFilterRegression(self.KalmanFilterAverage(x),\n",
    "#                                     self.KalmanFilterAverage(y), delta=1e-7)\n",
    "from pykalman import KalmanFilter\n",
    "test = nsw_df['TOTALDEMAND']\n",
    "\n",
    "# Smoothing the input data helps to reduce the impact of random noise in the \n",
    "# data and produce a more stable estimate of the underlying trend, \n",
    "# which can lead to more accurate and reliable estimates of the system's state.\n",
    "\n",
    "# Construct a Kalman filter\n",
    "kf = KalmanFilter(transition_matrices = [1],\n",
    "    observation_matrices = [1],\n",
    "    initial_state_mean = 0,\n",
    "    initial_state_covariance = 1,\n",
    "    observation_covariance=1,\n",
    "    transition_covariance=.01\n",
    "    )\n",
    "# Use the observed values of the price to get a rolling mean\n",
    "state_means, _ = kf.filter(test.values)\n",
    "state_means = pd.Series(state_means.flatten(), index=test.index)\n",
    "\n",
    "nsw_df['TOTALDEMAND'].plot(alpha=0.5, label='Real Demand Data')\n",
    "state_means.plot(label='Kalman Smoothed')\n",
    "plt.legend()\n"
   ]
  },
  {
   "cell_type": "markdown",
   "id": "8421e8eae80b7ec7",
   "metadata": {
    "collapsed": false
   },
   "source": [
    "# Rolling statistics"
   ]
  },
  {
   "cell_type": "code",
   "execution_count": null,
   "id": "e1cf1c540017771f",
   "metadata": {
    "collapsed": false
   },
   "outputs": [],
   "source": []
  },
  {
   "cell_type": "markdown",
   "id": "7d2915d075f0e0d7",
   "metadata": {
    "collapsed": false
   },
   "source": [
    "# autocorrelation analysis (ACF and PACF)"
   ]
  },
  {
   "cell_type": "code",
   "execution_count": null,
   "id": "fedfaac11408a47",
   "metadata": {
    "collapsed": false
   },
   "outputs": [],
   "source": [
    "tsa.plot_acf(nsw_df['TOTALDEMAND'])\n",
    "plt.show()"
   ]
  },
  {
   "cell_type": "code",
   "outputs": [],
   "source": [
    "tsa.plot_pacf(nsw_df['TOTALDEMAND'])\n",
    "plt.show()"
   ],
   "metadata": {
    "collapsed": false
   },
   "id": "9d02487e9ab5a921",
   "execution_count": null
  },
  {
   "cell_type": "markdown",
   "id": "7d3b8d65239f2e2",
   "metadata": {
    "collapsed": false
   },
   "source": [
    "# Quarter / month / Day / Hour breakdown"
   ]
  },
  {
   "cell_type": "code",
   "execution_count": null,
   "id": "c27297a29c7a69d4",
   "metadata": {
    "collapsed": false
   },
   "outputs": [],
   "source": []
  },
  {
   "cell_type": "markdown",
   "id": "adce3403a0d390fb",
   "metadata": {
    "collapsed": false
   },
   "source": [
    "# How can we measure the current accuracy of the forecast demand vs actual demand?"
   ]
  },
  {
   "cell_type": "code",
   "execution_count": null,
   "id": "b57dd7bf3b1919ba",
   "metadata": {
    "collapsed": false
   },
   "outputs": [],
   "source": []
  },
  {
   "cell_type": "markdown",
   "id": "cf724da772d76f13",
   "metadata": {
    "collapsed": false
   },
   "source": [
    "# How can i do decomposition, seasonality etc? Is that part of feature engineering or EDA?"
   ]
  },
  {
   "cell_type": "code",
   "execution_count": null,
   "id": "8387ac371b9510f9",
   "metadata": {
    "collapsed": false
   },
   "outputs": [],
   "source": []
  },
  {
   "cell_type": "markdown",
   "id": "b372fdc394d016fa",
   "metadata": {
    "collapsed": false
   },
   "source": [
    "# Data Cleaning"
   ]
  },
  {
   "cell_type": "code",
   "execution_count": null,
   "id": "62679afdf823c599",
   "metadata": {
    "collapsed": false
   },
   "outputs": [],
   "source": []
  },
  {
   "cell_type": "markdown",
   "id": "cac54eac0c7b6e3f",
   "metadata": {
    "collapsed": false
   },
   "source": [
    "# Feature Engineering - Date-Time Features"
   ]
  },
  {
   "cell_type": "code",
   "execution_count": null,
   "id": "2b3c7f7d",
   "metadata": {},
   "outputs": [],
   "source": [
    "demand = nsw_df[['TOTALDEMAND']].copy()\n",
    "demand.loc[:, 'dow'] = demand.index.dayofweek\n",
    "demand.loc[:, 'doy'] = demand.index.dayofyear\n",
    "demand.loc[:, 'year'] = demand.index.year\n",
    "demand.loc[:, 'month'] = demand.index.month\n",
    "demand.loc[:, 'quarter'] = demand.index.quarter\n",
    "demand.loc[:, 'hour'] = demand.index.hour\n",
    "# todo: half hour\n",
    "# todo: deal with the Nans, \n",
    "# todo: datetime as index\n",
    "# demand.loc[:, 'weekday'] = demand.index.weekday_names  ## errors\n",
    "# demand.loc[:, 'woy'] = demand.index.weekofyear  ## errors\n",
    "demand.loc[:, 'dom'] = demand.index.day"
   ]
  },
  {
   "cell_type": "code",
   "outputs": [],
   "source": [
    "nsw_df_dt = nsw_df.merge(demand)\n",
    "nsw_df_dt  # todo: needs more work"
   ],
   "metadata": {
    "collapsed": false
   },
   "id": "8b7b5b0f0d5b9096",
   "execution_count": null
  },
  {
   "cell_type": "markdown",
   "id": "691d7e3fff8b6f06",
   "metadata": {
    "collapsed": false
   },
   "source": [
    "# Model Selection & Development"
   ]
  },
  {
   "cell_type": "code",
   "execution_count": null,
   "id": "f56cdecd241eea8d",
   "metadata": {
    "collapsed": false
   },
   "outputs": [],
   "source": [
    "# todo: export to csv & parquet"
   ]
  },
  {
   "cell_type": "markdown",
   "id": "a87d8b1b8c2f9498",
   "metadata": {
    "collapsed": false
   },
   "source": [
    "# model tuning and evaluation"
   ]
  },
  {
   "cell_type": "code",
   "execution_count": null,
   "id": "9d4177eb2f3bdc01",
   "metadata": {
    "collapsed": false
   },
   "outputs": [],
   "source": []
  },
  {
   "cell_type": "markdown",
   "id": "3c4ea16e4c927659",
   "metadata": {
    "collapsed": false
   },
   "source": [
    "# insights and action"
   ]
  }
 ],
 "metadata": {
  "kernelspec": {
   "display_name": "Python 3",
   "language": "python",
   "name": "python3"
  },
  "language_info": {
   "codemirror_mode": {
    "name": "ipython",
    "version": 3
   },
   "file_extension": ".py",
   "mimetype": "text/x-python",
   "name": "python",
   "nbconvert_exporter": "python",
   "pygments_lexer": "ipython3",
   "version": "3.10.11"
  }
 },
 "nbformat": 4,
 "nbformat_minor": 5
}
