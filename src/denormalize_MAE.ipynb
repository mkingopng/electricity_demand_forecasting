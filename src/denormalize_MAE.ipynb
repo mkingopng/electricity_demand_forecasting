{
 "cells": [
  {
   "cell_type": "code",
   "execution_count": 10,
   "id": "initial_id",
   "metadata": {
    "collapsed": true,
    "ExecuteTime": {
     "end_time": "2024-04-07T08:47:18.244720Z",
     "start_time": "2024-04-07T08:47:18.222519Z"
    }
   },
   "outputs": [],
   "source": [
    "from sklearn.preprocessing import StandardScaler\n",
    "import pandas as pd\n",
    "import numpy as np\n",
    "\n",
    "nsw_df = pd.read_parquet('./../data/NSW/nsw_df.parquet')"
   ]
  },
  {
   "cell_type": "code",
   "outputs": [],
   "source": [
    "cutoff_date = nsw_df.index.max() - pd.Timedelta(days=7)"
   ],
   "metadata": {
    "collapsed": false,
    "ExecuteTime": {
     "end_time": "2024-04-07T08:47:18.248055Z",
     "start_time": "2024-04-07T08:47:18.245738Z"
    }
   },
   "id": "653688baa039aa8",
   "execution_count": 11
  },
  {
   "cell_type": "code",
   "outputs": [],
   "source": [
    "test_df = nsw_df[nsw_df.index > cutoff_date]"
   ],
   "metadata": {
    "collapsed": false,
    "ExecuteTime": {
     "end_time": "2024-04-07T08:47:18.251873Z",
     "start_time": "2024-04-07T08:47:18.248848Z"
    }
   },
   "id": "3661f15bef9a5ecf",
   "execution_count": 12
  },
  {
   "cell_type": "code",
   "outputs": [],
   "source": [
    "true_y = test_df['TOTALDEMAND'].values"
   ],
   "metadata": {
    "collapsed": false,
    "ExecuteTime": {
     "end_time": "2024-04-07T08:47:18.255261Z",
     "start_time": "2024-04-07T08:47:18.253393Z"
    }
   },
   "id": "b447f7997b63f35b",
   "execution_count": 13
  },
  {
   "cell_type": "code",
   "outputs": [],
   "source": [
    "true_y_reshaped = true_y.reshape(-1, 1)"
   ],
   "metadata": {
    "collapsed": false,
    "ExecuteTime": {
     "end_time": "2024-04-07T08:47:18.258690Z",
     "start_time": "2024-04-07T08:47:18.256047Z"
    }
   },
   "id": "be37f8ea98b19f91",
   "execution_count": 14
  },
  {
   "cell_type": "code",
   "outputs": [],
   "source": [
    "scaler_y = StandardScaler()\n",
    "y_true_scaled = scaler_y.fit_transform(true_y_reshaped.reshape(-1, 1))"
   ],
   "metadata": {
    "collapsed": false,
    "ExecuteTime": {
     "end_time": "2024-04-07T08:47:18.265558Z",
     "start_time": "2024-04-07T08:47:18.259242Z"
    }
   },
   "id": "55a1162792660ca2",
   "execution_count": 15
  },
  {
   "cell_type": "code",
   "outputs": [],
   "source": [
    "# normalized MAE from model\n",
    "normalized_mae = 0.1"
   ],
   "metadata": {
    "collapsed": false,
    "ExecuteTime": {
     "end_time": "2024-04-07T08:47:18.279420Z",
     "start_time": "2024-04-07T08:47:18.266332Z"
    }
   },
   "id": "dca09cc72a080fb2",
   "execution_count": 16
  },
  {
   "cell_type": "code",
   "outputs": [],
   "source": [
    "# Denormalizing the MAE\n",
    "denormalized_mae = normalized_mae * scaler_y.scale_[0]"
   ],
   "metadata": {
    "collapsed": false,
    "ExecuteTime": {
     "end_time": "2024-04-07T08:47:18.295821Z",
     "start_time": "2024-04-07T08:47:18.280034Z"
    }
   },
   "id": "5a9a415831239ebb",
   "execution_count": 17
  },
  {
   "cell_type": "code",
   "outputs": [
    {
     "name": "stdout",
     "output_type": "stream",
     "text": [
      "Denormalized MAE: 83.256299295414\n"
     ]
    }
   ],
   "source": [
    "print(f\"Denormalized MAE: {denormalized_mae}\")"
   ],
   "metadata": {
    "collapsed": false,
    "ExecuteTime": {
     "end_time": "2024-04-07T08:47:18.305588Z",
     "start_time": "2024-04-07T08:47:18.296464Z"
    }
   },
   "id": "10f5953242528a71",
   "execution_count": 18
  }
 ],
 "metadata": {
  "kernelspec": {
   "display_name": "Python 3",
   "language": "python",
   "name": "python3"
  },
  "language_info": {
   "codemirror_mode": {
    "name": "ipython",
    "version": 2
   },
   "file_extension": ".py",
   "mimetype": "text/x-python",
   "name": "python",
   "nbconvert_exporter": "python",
   "pygments_lexer": "ipython2",
   "version": "2.7.6"
  }
 },
 "nbformat": 4,
 "nbformat_minor": 5
}
