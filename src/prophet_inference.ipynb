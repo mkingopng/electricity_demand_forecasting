{
 "cells": [
  {
   "metadata": {},
   "cell_type": "markdown",
   "source": [
    "# Prophet model\n",
    "Prophet model is already trained and saved. Code is preset to inference/prediction mode. To train the model, go to `prophet_model.config.CFG` and change the value of train from `train=False` to `train=True`"
   ],
   "id": "511c945c9f2d738f"
  },
  {
   "metadata": {},
   "cell_type": "code",
   "outputs": [],
   "execution_count": null,
   "source": [
    "from prophet_model.main import main, visualizer\n",
    "from prophet_model import model"
   ],
   "id": "6eb823476b009917"
  },
  {
   "metadata": {},
   "cell_type": "code",
   "outputs": [],
   "execution_count": null,
   "source": "df_val = main(train_mode=False)",
   "id": "52a633c619e03e7d"
  },
  {
   "metadata": {},
   "cell_type": "code",
   "outputs": [],
   "execution_count": null,
   "source": "forecast = model.predict(df_val)",
   "id": "2600939319914e1e"
  },
  {
   "metadata": {},
   "cell_type": "code",
   "outputs": [],
   "execution_count": null,
   "source": "visualizer.plot_change_points(model.model, forecast)",
   "id": "53f0d5e2ab09ff9f"
  },
  {
   "metadata": {},
   "cell_type": "code",
   "outputs": [],
   "execution_count": null,
   "source": "visualizer.plot_forecast_vs_actual(forecast, df_val)",
   "id": "d6ed087a5fe77162"
  },
  {
   "metadata": {},
   "cell_type": "code",
   "outputs": [],
   "execution_count": null,
   "source": "visualizer.plot_components(model.model, forecast)",
   "id": "ced075f5fd5cce97"
  }
 ],
 "metadata": {
  "kernelspec": {
   "display_name": "Python 3",
   "language": "python",
   "name": "python3"
  },
  "language_info": {
   "codemirror_mode": {
    "name": "ipython",
    "version": 2
   },
   "file_extension": ".py",
   "mimetype": "text/x-python",
   "name": "python",
   "nbconvert_exporter": "python",
   "pygments_lexer": "ipython2",
   "version": "2.7.6"
  }
 },
 "nbformat": 4,
 "nbformat_minor": 5
}
