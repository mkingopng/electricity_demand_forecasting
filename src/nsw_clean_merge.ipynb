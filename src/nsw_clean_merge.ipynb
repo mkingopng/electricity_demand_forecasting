{
 "cells": [
  {
   "cell_type": "code",
   "execution_count": 1384,
   "id": "initial_id",
   "metadata": {
    "collapsed": true,
    "ExecuteTime": {
     "end_time": "2024-03-25T09:32:42.915881Z",
     "start_time": "2024-03-25T09:32:42.914112Z"
    }
   },
   "outputs": [],
   "source": [
    "import pandas as pd\n",
    "import os"
   ]
  },
  {
   "cell_type": "code",
   "outputs": [],
   "source": [
    "# general settings\n",
    "class CFG:\n",
    "    data_path = './../data'\n",
    "    img_dim1 = 20\n",
    "    img_dim2 = 10"
   ],
   "metadata": {
    "collapsed": false,
    "ExecuteTime": {
     "end_time": "2024-03-25T09:32:43.210984Z",
     "start_time": "2024-03-25T09:32:43.209230Z"
    }
   },
   "id": "c2bb2619f95fc798",
   "execution_count": 1385
  },
  {
   "cell_type": "markdown",
   "source": [
    "## NSW Forecast Demand"
   ],
   "metadata": {
    "collapsed": false
   },
   "id": "cf008303c901d238"
  },
  {
   "cell_type": "code",
   "outputs": [],
   "source": [
    "nsw_forecastdemand = pd.read_csv(\n",
    "    os.path.join(CFG.data_path, 'NSW', 'forecastdemand_nsw.csv'), \n",
    "    parse_dates=['LASTCHANGED', 'DATETIME']\n",
    ")"
   ],
   "metadata": {
    "collapsed": false,
    "ExecuteTime": {
     "end_time": "2024-03-25T09:32:48.841544Z",
     "start_time": "2024-03-25T09:32:43.238300Z"
    }
   },
   "id": "2aca373f3db6f9ad",
   "execution_count": 1386
  },
  {
   "cell_type": "code",
   "outputs": [
    {
     "data": {
      "text/plain": "   PREDISPATCHSEQNO REGIONID  PERIODID  FORECASTDEMAND         LASTCHANGED  \\\n0        2009123018     NSW1        71         7832.04 2009-12-30 12:31:49   \n1        2009123019     NSW1        70         7832.04 2009-12-30 13:01:43   \n2        2009123020     NSW1        69         7832.03 2009-12-30 13:31:36   \n3        2009123021     NSW1        68         7832.03 2009-12-30 14:01:44   \n4        2009123022     NSW1        67         7830.96 2009-12-30 14:31:35   \n\n    DATETIME  \n0 2010-01-01  \n1 2010-01-01  \n2 2010-01-01  \n3 2010-01-01  \n4 2010-01-01  ",
      "text/html": "<div>\n<style scoped>\n    .dataframe tbody tr th:only-of-type {\n        vertical-align: middle;\n    }\n\n    .dataframe tbody tr th {\n        vertical-align: top;\n    }\n\n    .dataframe thead th {\n        text-align: right;\n    }\n</style>\n<table border=\"1\" class=\"dataframe\">\n  <thead>\n    <tr style=\"text-align: right;\">\n      <th></th>\n      <th>PREDISPATCHSEQNO</th>\n      <th>REGIONID</th>\n      <th>PERIODID</th>\n      <th>FORECASTDEMAND</th>\n      <th>LASTCHANGED</th>\n      <th>DATETIME</th>\n    </tr>\n  </thead>\n  <tbody>\n    <tr>\n      <th>0</th>\n      <td>2009123018</td>\n      <td>NSW1</td>\n      <td>71</td>\n      <td>7832.04</td>\n      <td>2009-12-30 12:31:49</td>\n      <td>2010-01-01</td>\n    </tr>\n    <tr>\n      <th>1</th>\n      <td>2009123019</td>\n      <td>NSW1</td>\n      <td>70</td>\n      <td>7832.04</td>\n      <td>2009-12-30 13:01:43</td>\n      <td>2010-01-01</td>\n    </tr>\n    <tr>\n      <th>2</th>\n      <td>2009123020</td>\n      <td>NSW1</td>\n      <td>69</td>\n      <td>7832.03</td>\n      <td>2009-12-30 13:31:36</td>\n      <td>2010-01-01</td>\n    </tr>\n    <tr>\n      <th>3</th>\n      <td>2009123021</td>\n      <td>NSW1</td>\n      <td>68</td>\n      <td>7832.03</td>\n      <td>2009-12-30 14:01:44</td>\n      <td>2010-01-01</td>\n    </tr>\n    <tr>\n      <th>4</th>\n      <td>2009123022</td>\n      <td>NSW1</td>\n      <td>67</td>\n      <td>7830.96</td>\n      <td>2009-12-30 14:31:35</td>\n      <td>2010-01-01</td>\n    </tr>\n  </tbody>\n</table>\n</div>"
     },
     "execution_count": 1387,
     "metadata": {},
     "output_type": "execute_result"
    }
   ],
   "source": [
    "nsw_forecastdemand.head()"
   ],
   "metadata": {
    "collapsed": false,
    "ExecuteTime": {
     "end_time": "2024-03-25T09:32:48.846807Z",
     "start_time": "2024-03-25T09:32:48.842376Z"
    }
   },
   "id": "53bb74339eefcd46",
   "execution_count": 1387
  },
  {
   "cell_type": "code",
   "outputs": [
    {
     "data": {
      "text/plain": "          PREDISPATCHSEQNO REGIONID  PERIODID  FORECASTDEMAND  \\\n10906014        2021031736     NSW1         5         7028.45   \n10906015        2021031737     NSW1         4         7041.65   \n10906016        2021031738     NSW1         3         7087.60   \n10906017        2021031739     NSW1         2         7087.28   \n10906018        2021031740     NSW1         1         7126.37   \n\n                 LASTCHANGED   DATETIME  \n10906014 2021-03-17 21:31:31 2021-03-18  \n10906015 2021-03-17 22:01:34 2021-03-18  \n10906016 2021-03-17 22:31:36 2021-03-18  \n10906017 2021-03-17 23:01:36 2021-03-18  \n10906018 2021-03-17 23:31:33 2021-03-18  ",
      "text/html": "<div>\n<style scoped>\n    .dataframe tbody tr th:only-of-type {\n        vertical-align: middle;\n    }\n\n    .dataframe tbody tr th {\n        vertical-align: top;\n    }\n\n    .dataframe thead th {\n        text-align: right;\n    }\n</style>\n<table border=\"1\" class=\"dataframe\">\n  <thead>\n    <tr style=\"text-align: right;\">\n      <th></th>\n      <th>PREDISPATCHSEQNO</th>\n      <th>REGIONID</th>\n      <th>PERIODID</th>\n      <th>FORECASTDEMAND</th>\n      <th>LASTCHANGED</th>\n      <th>DATETIME</th>\n    </tr>\n  </thead>\n  <tbody>\n    <tr>\n      <th>10906014</th>\n      <td>2021031736</td>\n      <td>NSW1</td>\n      <td>5</td>\n      <td>7028.45</td>\n      <td>2021-03-17 21:31:31</td>\n      <td>2021-03-18</td>\n    </tr>\n    <tr>\n      <th>10906015</th>\n      <td>2021031737</td>\n      <td>NSW1</td>\n      <td>4</td>\n      <td>7041.65</td>\n      <td>2021-03-17 22:01:34</td>\n      <td>2021-03-18</td>\n    </tr>\n    <tr>\n      <th>10906016</th>\n      <td>2021031738</td>\n      <td>NSW1</td>\n      <td>3</td>\n      <td>7087.60</td>\n      <td>2021-03-17 22:31:36</td>\n      <td>2021-03-18</td>\n    </tr>\n    <tr>\n      <th>10906017</th>\n      <td>2021031739</td>\n      <td>NSW1</td>\n      <td>2</td>\n      <td>7087.28</td>\n      <td>2021-03-17 23:01:36</td>\n      <td>2021-03-18</td>\n    </tr>\n    <tr>\n      <th>10906018</th>\n      <td>2021031740</td>\n      <td>NSW1</td>\n      <td>1</td>\n      <td>7126.37</td>\n      <td>2021-03-17 23:31:33</td>\n      <td>2021-03-18</td>\n    </tr>\n  </tbody>\n</table>\n</div>"
     },
     "execution_count": 1388,
     "metadata": {},
     "output_type": "execute_result"
    }
   ],
   "source": [
    "nsw_forecastdemand.tail()"
   ],
   "metadata": {
    "collapsed": false,
    "ExecuteTime": {
     "end_time": "2024-03-25T09:32:48.855128Z",
     "start_time": "2024-03-25T09:32:48.847290Z"
    }
   },
   "id": "136002d88e82ee85",
   "execution_count": 1388
  },
  {
   "cell_type": "code",
   "outputs": [
    {
     "name": "stdout",
     "output_type": "stream",
     "text": [
      "<class 'pandas.core.frame.DataFrame'>\n",
      "RangeIndex: 10906019 entries, 0 to 10906018\n",
      "Data columns (total 6 columns):\n",
      " #   Column            Dtype         \n",
      "---  ------            -----         \n",
      " 0   PREDISPATCHSEQNO  int64         \n",
      " 1   REGIONID          object        \n",
      " 2   PERIODID          int64         \n",
      " 3   FORECASTDEMAND    float64       \n",
      " 4   LASTCHANGED       datetime64[ns]\n",
      " 5   DATETIME          datetime64[ns]\n",
      "dtypes: datetime64[ns](2), float64(1), int64(2), object(1)\n",
      "memory usage: 499.2+ MB\n"
     ]
    }
   ],
   "source": [
    "nsw_forecastdemand.info()"
   ],
   "metadata": {
    "collapsed": false,
    "ExecuteTime": {
     "end_time": "2024-03-25T09:32:48.863591Z",
     "start_time": "2024-03-25T09:32:48.855867Z"
    }
   },
   "id": "b82dc3c30b78f0e5",
   "execution_count": 1389
  },
  {
   "cell_type": "code",
   "outputs": [
    {
     "data": {
      "text/plain": "count    1.090602e+07\nmean     8.066719e+03\nstd      1.315959e+03\nmin      4.422460e+03\n25%      7.077970e+03\n50%      8.007550e+03\n75%      8.925610e+03\nmax      1.473666e+04\nName: FORECASTDEMAND, dtype: float64"
     },
     "execution_count": 1390,
     "metadata": {},
     "output_type": "execute_result"
    }
   ],
   "source": [
    "nsw_forecastdemand['FORECASTDEMAND'].describe()"
   ],
   "metadata": {
    "collapsed": false,
    "ExecuteTime": {
     "end_time": "2024-03-25T09:32:49.012313Z",
     "start_time": "2024-03-25T09:32:48.864063Z"
    }
   },
   "id": "f497e772d6dda571",
   "execution_count": 1390
  },
  {
   "cell_type": "code",
   "outputs": [
    {
     "data": {
      "text/plain": "(10906019, 6)"
     },
     "execution_count": 1391,
     "metadata": {},
     "output_type": "execute_result"
    }
   ],
   "source": [
    "nsw_forecastdemand.shape"
   ],
   "metadata": {
    "collapsed": false,
    "ExecuteTime": {
     "end_time": "2024-03-25T09:32:49.015080Z",
     "start_time": "2024-03-25T09:32:49.012972Z"
    }
   },
   "id": "f84660284a900dbf",
   "execution_count": 1391
  },
  {
   "cell_type": "code",
   "outputs": [
    {
     "data": {
      "text/plain": "PREDISPATCHSEQNO             2009123018\nREGIONID                           NSW1\nPERIODID                              1\nFORECASTDEMAND                  4422.46\nLASTCHANGED         2009-12-30 12:31:49\nDATETIME            2010-01-01 00:00:00\ndtype: object"
     },
     "execution_count": 1392,
     "metadata": {},
     "output_type": "execute_result"
    }
   ],
   "source": [
    "nsw_forecastdemand.min()"
   ],
   "metadata": {
    "collapsed": false,
    "ExecuteTime": {
     "end_time": "2024-03-25T09:32:49.406774Z",
     "start_time": "2024-03-25T09:32:49.015578Z"
    }
   },
   "id": "6fffbd35c5fe6398",
   "execution_count": 1392
  },
  {
   "cell_type": "code",
   "outputs": [
    {
     "data": {
      "text/plain": "PREDISPATCHSEQNO             2021031740\nREGIONID                           NSW1\nPERIODID                             79\nFORECASTDEMAND                 14736.66\nLASTCHANGED         2021-03-17 23:31:33\nDATETIME            2021-03-18 00:00:00\ndtype: object"
     },
     "execution_count": 1393,
     "metadata": {},
     "output_type": "execute_result"
    }
   ],
   "source": [
    "nsw_forecastdemand.max()"
   ],
   "metadata": {
    "collapsed": false,
    "ExecuteTime": {
     "end_time": "2024-03-25T09:32:49.798968Z",
     "start_time": "2024-03-25T09:32:49.407545Z"
    }
   },
   "id": "1ea21f2cbadbecb5",
   "execution_count": 1393
  },
  {
   "cell_type": "code",
   "outputs": [
    {
     "data": {
      "text/plain": "PREDISPATCHSEQNO    0\nREGIONID            0\nPERIODID            0\nFORECASTDEMAND      0\nLASTCHANGED         0\nDATETIME            0\ndtype: int64"
     },
     "execution_count": 1394,
     "metadata": {},
     "output_type": "execute_result"
    }
   ],
   "source": [
    "nsw_forecastdemand.isnull().sum()"
   ],
   "metadata": {
    "collapsed": false,
    "ExecuteTime": {
     "end_time": "2024-03-25T09:32:50.032165Z",
     "start_time": "2024-03-25T09:32:49.799626Z"
    }
   },
   "id": "797134c7ed9dd4b9",
   "execution_count": 1394
  },
  {
   "cell_type": "code",
   "outputs": [
    {
     "data": {
      "text/plain": "PREDISPATCHSEQNO    0\nREGIONID            0\nPERIODID            0\nFORECASTDEMAND      0\nLASTCHANGED         0\nDATETIME            0\ndtype: int64"
     },
     "execution_count": 1395,
     "metadata": {},
     "output_type": "execute_result"
    }
   ],
   "source": [
    "nsw_forecastdemand.isna().sum()"
   ],
   "metadata": {
    "collapsed": false,
    "ExecuteTime": {
     "end_time": "2024-03-25T09:32:50.276912Z",
     "start_time": "2024-03-25T09:32:50.033648Z"
    }
   },
   "id": "c0b341526a3af11b",
   "execution_count": 1395
  },
  {
   "cell_type": "code",
   "outputs": [
    {
     "data": {
      "text/plain": "PREDISPATCHSEQNO    196571\nREGIONID                 1\nPERIODID                79\nFORECASTDEMAND      681384\nLASTCHANGED         196571\nDATETIME            196513\ndtype: int64"
     },
     "execution_count": 1396,
     "metadata": {},
     "output_type": "execute_result"
    }
   ],
   "source": [
    "nsw_forecastdemand.nunique()"
   ],
   "metadata": {
    "collapsed": false,
    "ExecuteTime": {
     "end_time": "2024-03-25T09:32:50.810458Z",
     "start_time": "2024-03-25T09:32:50.277637Z"
    }
   },
   "id": "2deb11cffe2a65fa",
   "execution_count": 1396
  },
  {
   "cell_type": "code",
   "outputs": [
    {
     "data": {
      "text/plain": "PREDISPATCHSEQNO             int64\nREGIONID                    object\nPERIODID                     int64\nFORECASTDEMAND             float64\nLASTCHANGED         datetime64[ns]\nDATETIME            datetime64[ns]\ndtype: object"
     },
     "execution_count": 1397,
     "metadata": {},
     "output_type": "execute_result"
    }
   ],
   "source": [
    "nsw_forecastdemand.dtypes"
   ],
   "metadata": {
    "collapsed": false,
    "ExecuteTime": {
     "end_time": "2024-03-25T09:32:50.813556Z",
     "start_time": "2024-03-25T09:32:50.811022Z"
    }
   },
   "id": "849e624285690d07",
   "execution_count": 1397
  },
  {
   "cell_type": "markdown",
   "source": [
    "## NSW temperature"
   ],
   "metadata": {
    "collapsed": false
   },
   "id": "cc08193babded221"
  },
  {
   "cell_type": "code",
   "outputs": [],
   "source": [
    "nsw_temperature = pd.read_csv(\n",
    "    os.path.join(CFG.data_path, 'NSW', 'temperature_nsw.csv'), \n",
    "    parse_dates=['DATETIME'], \n",
    "    dayfirst=True\n",
    ")"
   ],
   "metadata": {
    "collapsed": false,
    "ExecuteTime": {
     "end_time": "2024-03-25T09:32:51.232281Z",
     "start_time": "2024-03-25T09:32:50.814062Z"
    }
   },
   "id": "a640330de9e81684",
   "execution_count": 1398
  },
  {
   "cell_type": "code",
   "outputs": [
    {
     "data": {
      "text/plain": "    LOCATION            DATETIME  TEMPERATURE\n0  Bankstown 2010-01-01 00:00:00         23.1\n1  Bankstown 2010-01-01 00:01:00         23.1\n2  Bankstown 2010-01-01 00:30:00         22.9\n3  Bankstown 2010-01-01 00:50:00         22.7\n4  Bankstown 2010-01-01 01:00:00         22.6\n5  Bankstown 2010-01-01 01:30:00         22.5\n6  Bankstown 2010-01-01 02:00:00         22.5\n7  Bankstown 2010-01-01 02:30:00         22.4\n8  Bankstown 2010-01-01 03:00:00         22.3\n9  Bankstown 2010-01-01 03:30:00         22.3",
      "text/html": "<div>\n<style scoped>\n    .dataframe tbody tr th:only-of-type {\n        vertical-align: middle;\n    }\n\n    .dataframe tbody tr th {\n        vertical-align: top;\n    }\n\n    .dataframe thead th {\n        text-align: right;\n    }\n</style>\n<table border=\"1\" class=\"dataframe\">\n  <thead>\n    <tr style=\"text-align: right;\">\n      <th></th>\n      <th>LOCATION</th>\n      <th>DATETIME</th>\n      <th>TEMPERATURE</th>\n    </tr>\n  </thead>\n  <tbody>\n    <tr>\n      <th>0</th>\n      <td>Bankstown</td>\n      <td>2010-01-01 00:00:00</td>\n      <td>23.1</td>\n    </tr>\n    <tr>\n      <th>1</th>\n      <td>Bankstown</td>\n      <td>2010-01-01 00:01:00</td>\n      <td>23.1</td>\n    </tr>\n    <tr>\n      <th>2</th>\n      <td>Bankstown</td>\n      <td>2010-01-01 00:30:00</td>\n      <td>22.9</td>\n    </tr>\n    <tr>\n      <th>3</th>\n      <td>Bankstown</td>\n      <td>2010-01-01 00:50:00</td>\n      <td>22.7</td>\n    </tr>\n    <tr>\n      <th>4</th>\n      <td>Bankstown</td>\n      <td>2010-01-01 01:00:00</td>\n      <td>22.6</td>\n    </tr>\n    <tr>\n      <th>5</th>\n      <td>Bankstown</td>\n      <td>2010-01-01 01:30:00</td>\n      <td>22.5</td>\n    </tr>\n    <tr>\n      <th>6</th>\n      <td>Bankstown</td>\n      <td>2010-01-01 02:00:00</td>\n      <td>22.5</td>\n    </tr>\n    <tr>\n      <th>7</th>\n      <td>Bankstown</td>\n      <td>2010-01-01 02:30:00</td>\n      <td>22.4</td>\n    </tr>\n    <tr>\n      <th>8</th>\n      <td>Bankstown</td>\n      <td>2010-01-01 03:00:00</td>\n      <td>22.3</td>\n    </tr>\n    <tr>\n      <th>9</th>\n      <td>Bankstown</td>\n      <td>2010-01-01 03:30:00</td>\n      <td>22.3</td>\n    </tr>\n  </tbody>\n</table>\n</div>"
     },
     "execution_count": 1399,
     "metadata": {},
     "output_type": "execute_result"
    }
   ],
   "source": [
    "nsw_temperature.head(10)"
   ],
   "metadata": {
    "collapsed": false,
    "ExecuteTime": {
     "end_time": "2024-03-25T09:32:51.236815Z",
     "start_time": "2024-03-25T09:32:51.232891Z"
    }
   },
   "id": "7576c21900c45ed3",
   "execution_count": 1399
  },
  {
   "cell_type": "code",
   "outputs": [
    {
     "data": {
      "text/plain": "         LOCATION            DATETIME  TEMPERATURE\n220316  Bankstown 2021-03-17 21:00:00         19.2\n220317  Bankstown 2021-03-17 21:01:00         18.4\n220318  Bankstown 2021-03-17 21:30:00         19.7\n220319  Bankstown 2021-03-17 22:00:00         19.7\n220320  Bankstown 2021-03-17 22:30:00         19.5\n220321  Bankstown 2021-03-17 23:00:00         19.1\n220322  Bankstown 2021-03-17 23:20:00         19.0\n220323  Bankstown 2021-03-17 23:30:00         18.8\n220324  Bankstown 2021-03-17 23:34:00         18.8\n220325  Bankstown 2021-03-18 00:00:00         18.6",
      "text/html": "<div>\n<style scoped>\n    .dataframe tbody tr th:only-of-type {\n        vertical-align: middle;\n    }\n\n    .dataframe tbody tr th {\n        vertical-align: top;\n    }\n\n    .dataframe thead th {\n        text-align: right;\n    }\n</style>\n<table border=\"1\" class=\"dataframe\">\n  <thead>\n    <tr style=\"text-align: right;\">\n      <th></th>\n      <th>LOCATION</th>\n      <th>DATETIME</th>\n      <th>TEMPERATURE</th>\n    </tr>\n  </thead>\n  <tbody>\n    <tr>\n      <th>220316</th>\n      <td>Bankstown</td>\n      <td>2021-03-17 21:00:00</td>\n      <td>19.2</td>\n    </tr>\n    <tr>\n      <th>220317</th>\n      <td>Bankstown</td>\n      <td>2021-03-17 21:01:00</td>\n      <td>18.4</td>\n    </tr>\n    <tr>\n      <th>220318</th>\n      <td>Bankstown</td>\n      <td>2021-03-17 21:30:00</td>\n      <td>19.7</td>\n    </tr>\n    <tr>\n      <th>220319</th>\n      <td>Bankstown</td>\n      <td>2021-03-17 22:00:00</td>\n      <td>19.7</td>\n    </tr>\n    <tr>\n      <th>220320</th>\n      <td>Bankstown</td>\n      <td>2021-03-17 22:30:00</td>\n      <td>19.5</td>\n    </tr>\n    <tr>\n      <th>220321</th>\n      <td>Bankstown</td>\n      <td>2021-03-17 23:00:00</td>\n      <td>19.1</td>\n    </tr>\n    <tr>\n      <th>220322</th>\n      <td>Bankstown</td>\n      <td>2021-03-17 23:20:00</td>\n      <td>19.0</td>\n    </tr>\n    <tr>\n      <th>220323</th>\n      <td>Bankstown</td>\n      <td>2021-03-17 23:30:00</td>\n      <td>18.8</td>\n    </tr>\n    <tr>\n      <th>220324</th>\n      <td>Bankstown</td>\n      <td>2021-03-17 23:34:00</td>\n      <td>18.8</td>\n    </tr>\n    <tr>\n      <th>220325</th>\n      <td>Bankstown</td>\n      <td>2021-03-18 00:00:00</td>\n      <td>18.6</td>\n    </tr>\n  </tbody>\n</table>\n</div>"
     },
     "execution_count": 1400,
     "metadata": {},
     "output_type": "execute_result"
    }
   ],
   "source": [
    "nsw_temperature.tail(10)"
   ],
   "metadata": {
    "collapsed": false,
    "ExecuteTime": {
     "end_time": "2024-03-25T09:32:51.242557Z",
     "start_time": "2024-03-25T09:32:51.237270Z"
    }
   },
   "id": "db7ae64dd3bb99ad",
   "execution_count": 1400
  },
  {
   "cell_type": "code",
   "outputs": [
    {
     "name": "stdout",
     "output_type": "stream",
     "text": [
      "<class 'pandas.core.frame.DataFrame'>\n",
      "RangeIndex: 220326 entries, 0 to 220325\n",
      "Data columns (total 3 columns):\n",
      " #   Column       Non-Null Count   Dtype         \n",
      "---  ------       --------------   -----         \n",
      " 0   LOCATION     220326 non-null  object        \n",
      " 1   DATETIME     220326 non-null  datetime64[ns]\n",
      " 2   TEMPERATURE  220326 non-null  float64       \n",
      "dtypes: datetime64[ns](1), float64(1), object(1)\n",
      "memory usage: 5.0+ MB\n"
     ]
    }
   ],
   "source": [
    "nsw_temperature.info()"
   ],
   "metadata": {
    "collapsed": false,
    "ExecuteTime": {
     "end_time": "2024-03-25T09:32:51.258987Z",
     "start_time": "2024-03-25T09:32:51.243049Z"
    }
   },
   "id": "f3bf79281129fb56",
   "execution_count": 1401
  },
  {
   "cell_type": "code",
   "outputs": [
    {
     "data": {
      "text/plain": "count    220326.000000\nmean         17.418827\nstd           5.849763\nmin          -1.300000\n25%          13.400000\n50%          17.700000\n75%          21.300000\nmax          44.700000\nName: TEMPERATURE, dtype: float64"
     },
     "execution_count": 1402,
     "metadata": {},
     "output_type": "execute_result"
    }
   ],
   "source": [
    "nsw_temperature['TEMPERATURE'].describe()"
   ],
   "metadata": {
    "collapsed": false,
    "ExecuteTime": {
     "end_time": "2024-03-25T09:32:51.271045Z",
     "start_time": "2024-03-25T09:32:51.259520Z"
    }
   },
   "id": "354f6fedc12bc206",
   "execution_count": 1402
  },
  {
   "cell_type": "code",
   "outputs": [
    {
     "data": {
      "text/plain": "(220326, 3)"
     },
     "execution_count": 1403,
     "metadata": {},
     "output_type": "execute_result"
    }
   ],
   "source": [
    "nsw_temperature.shape"
   ],
   "metadata": {
    "collapsed": false,
    "ExecuteTime": {
     "end_time": "2024-03-25T09:32:51.276784Z",
     "start_time": "2024-03-25T09:32:51.271699Z"
    }
   },
   "id": "3ada1a9a636fa4d2",
   "execution_count": 1403
  },
  {
   "cell_type": "code",
   "outputs": [
    {
     "data": {
      "text/plain": "LOCATION                 Bankstown\nDATETIME       2010-01-01 00:00:00\nTEMPERATURE                   -1.3\ndtype: object"
     },
     "execution_count": 1404,
     "metadata": {},
     "output_type": "execute_result"
    }
   ],
   "source": [
    "nsw_temperature.min()"
   ],
   "metadata": {
    "collapsed": false,
    "ExecuteTime": {
     "end_time": "2024-03-25T09:32:51.294164Z",
     "start_time": "2024-03-25T09:32:51.277430Z"
    }
   },
   "id": "e9e151649e0d5d11",
   "execution_count": 1404
  },
  {
   "cell_type": "code",
   "outputs": [
    {
     "data": {
      "text/plain": "LOCATION                 Bankstown\nDATETIME       2021-03-18 00:00:00\nTEMPERATURE                   44.7\ndtype: object"
     },
     "execution_count": 1405,
     "metadata": {},
     "output_type": "execute_result"
    }
   ],
   "source": [
    "nsw_temperature.max()"
   ],
   "metadata": {
    "collapsed": false,
    "ExecuteTime": {
     "end_time": "2024-03-25T09:32:51.309337Z",
     "start_time": "2024-03-25T09:32:51.294855Z"
    }
   },
   "id": "5b62417f3ff514f",
   "execution_count": 1405
  },
  {
   "cell_type": "code",
   "outputs": [
    {
     "data": {
      "text/plain": "LOCATION       0\nDATETIME       0\nTEMPERATURE    0\ndtype: int64"
     },
     "execution_count": 1406,
     "metadata": {},
     "output_type": "execute_result"
    }
   ],
   "source": [
    "nsw_temperature.isnull().sum()"
   ],
   "metadata": {
    "collapsed": false,
    "ExecuteTime": {
     "end_time": "2024-03-25T09:32:51.330056Z",
     "start_time": "2024-03-25T09:32:51.309982Z"
    }
   },
   "id": "8be3f6070e9182d6",
   "execution_count": 1406
  },
  {
   "cell_type": "code",
   "outputs": [
    {
     "data": {
      "text/plain": "LOCATION       0\nDATETIME       0\nTEMPERATURE    0\ndtype: int64"
     },
     "execution_count": 1407,
     "metadata": {},
     "output_type": "execute_result"
    }
   ],
   "source": [
    "nsw_temperature.isna().sum()"
   ],
   "metadata": {
    "collapsed": false,
    "ExecuteTime": {
     "end_time": "2024-03-25T09:32:51.344480Z",
     "start_time": "2024-03-25T09:32:51.330599Z"
    }
   },
   "id": "c6cad7ed839ef51",
   "execution_count": 1407
  },
  {
   "cell_type": "code",
   "outputs": [
    {
     "data": {
      "text/plain": "LOCATION            1\nDATETIME       220313\nTEMPERATURE       439\ndtype: int64"
     },
     "execution_count": 1408,
     "metadata": {},
     "output_type": "execute_result"
    }
   ],
   "source": [
    "nsw_temperature.nunique()"
   ],
   "metadata": {
    "collapsed": false,
    "ExecuteTime": {
     "end_time": "2024-03-25T09:32:51.359581Z",
     "start_time": "2024-03-25T09:32:51.345044Z"
    }
   },
   "id": "5c0e6c3e16f2f338",
   "execution_count": 1408
  },
  {
   "cell_type": "code",
   "outputs": [
    {
     "data": {
      "text/plain": "LOCATION               object\nDATETIME       datetime64[ns]\nTEMPERATURE           float64\ndtype: object"
     },
     "execution_count": 1409,
     "metadata": {},
     "output_type": "execute_result"
    }
   ],
   "source": [
    "nsw_temperature.dtypes"
   ],
   "metadata": {
    "collapsed": false,
    "ExecuteTime": {
     "end_time": "2024-03-25T09:32:51.362431Z",
     "start_time": "2024-03-25T09:32:51.360120Z"
    }
   },
   "id": "370b68fae58fb6bb",
   "execution_count": 1409
  },
  {
   "cell_type": "markdown",
   "source": [
    "## NSW Total Demand"
   ],
   "metadata": {
    "collapsed": false
   },
   "id": "f2b679e6da2a678e"
  },
  {
   "cell_type": "code",
   "outputs": [],
   "source": [
    "nsw_totaldemand = pd.read_csv(\n",
    "    os.path.join(CFG.data_path, 'NSW', 'totaldemand_nsw.csv'), \n",
    "    parse_dates=['DATETIME'], \n",
    "    dayfirst=True\n",
    ")"
   ],
   "metadata": {
    "collapsed": false,
    "ExecuteTime": {
     "end_time": "2024-03-25T09:32:51.756619Z",
     "start_time": "2024-03-25T09:32:51.362925Z"
    }
   },
   "id": "8558a6cdf94fb75e",
   "execution_count": 1410
  },
  {
   "cell_type": "code",
   "outputs": [
    {
     "data": {
      "text/plain": "             DATETIME  TOTALDEMAND REGIONID\n0 2010-01-01 00:00:00      8038.00     NSW1\n1 2010-01-01 00:30:00      7809.31     NSW1\n2 2010-01-01 01:00:00      7483.69     NSW1\n3 2010-01-01 01:30:00      7117.23     NSW1\n4 2010-01-01 02:00:00      6812.03     NSW1",
      "text/html": "<div>\n<style scoped>\n    .dataframe tbody tr th:only-of-type {\n        vertical-align: middle;\n    }\n\n    .dataframe tbody tr th {\n        vertical-align: top;\n    }\n\n    .dataframe thead th {\n        text-align: right;\n    }\n</style>\n<table border=\"1\" class=\"dataframe\">\n  <thead>\n    <tr style=\"text-align: right;\">\n      <th></th>\n      <th>DATETIME</th>\n      <th>TOTALDEMAND</th>\n      <th>REGIONID</th>\n    </tr>\n  </thead>\n  <tbody>\n    <tr>\n      <th>0</th>\n      <td>2010-01-01 00:00:00</td>\n      <td>8038.00</td>\n      <td>NSW1</td>\n    </tr>\n    <tr>\n      <th>1</th>\n      <td>2010-01-01 00:30:00</td>\n      <td>7809.31</td>\n      <td>NSW1</td>\n    </tr>\n    <tr>\n      <th>2</th>\n      <td>2010-01-01 01:00:00</td>\n      <td>7483.69</td>\n      <td>NSW1</td>\n    </tr>\n    <tr>\n      <th>3</th>\n      <td>2010-01-01 01:30:00</td>\n      <td>7117.23</td>\n      <td>NSW1</td>\n    </tr>\n    <tr>\n      <th>4</th>\n      <td>2010-01-01 02:00:00</td>\n      <td>6812.03</td>\n      <td>NSW1</td>\n    </tr>\n  </tbody>\n</table>\n</div>"
     },
     "execution_count": 1411,
     "metadata": {},
     "output_type": "execute_result"
    }
   ],
   "source": [
    "nsw_totaldemand.head()"
   ],
   "metadata": {
    "collapsed": false,
    "ExecuteTime": {
     "end_time": "2024-03-25T09:32:51.761224Z",
     "start_time": "2024-03-25T09:32:51.757238Z"
    }
   },
   "id": "f4e72c07eb99b07b",
   "execution_count": 1411
  },
  {
   "cell_type": "code",
   "outputs": [
    {
     "data": {
      "text/plain": "                  DATETIME  TOTALDEMAND REGIONID\n196508 2021-03-17 22:00:00      7419.77     NSW1\n196509 2021-03-17 22:30:00      7417.91     NSW1\n196510 2021-03-17 23:00:00      7287.32     NSW1\n196511 2021-03-17 23:30:00      7172.39     NSW1\n196512 2021-03-18 00:00:00      7094.51     NSW1",
      "text/html": "<div>\n<style scoped>\n    .dataframe tbody tr th:only-of-type {\n        vertical-align: middle;\n    }\n\n    .dataframe tbody tr th {\n        vertical-align: top;\n    }\n\n    .dataframe thead th {\n        text-align: right;\n    }\n</style>\n<table border=\"1\" class=\"dataframe\">\n  <thead>\n    <tr style=\"text-align: right;\">\n      <th></th>\n      <th>DATETIME</th>\n      <th>TOTALDEMAND</th>\n      <th>REGIONID</th>\n    </tr>\n  </thead>\n  <tbody>\n    <tr>\n      <th>196508</th>\n      <td>2021-03-17 22:00:00</td>\n      <td>7419.77</td>\n      <td>NSW1</td>\n    </tr>\n    <tr>\n      <th>196509</th>\n      <td>2021-03-17 22:30:00</td>\n      <td>7417.91</td>\n      <td>NSW1</td>\n    </tr>\n    <tr>\n      <th>196510</th>\n      <td>2021-03-17 23:00:00</td>\n      <td>7287.32</td>\n      <td>NSW1</td>\n    </tr>\n    <tr>\n      <th>196511</th>\n      <td>2021-03-17 23:30:00</td>\n      <td>7172.39</td>\n      <td>NSW1</td>\n    </tr>\n    <tr>\n      <th>196512</th>\n      <td>2021-03-18 00:00:00</td>\n      <td>7094.51</td>\n      <td>NSW1</td>\n    </tr>\n  </tbody>\n</table>\n</div>"
     },
     "execution_count": 1412,
     "metadata": {},
     "output_type": "execute_result"
    }
   ],
   "source": [
    "nsw_totaldemand.tail()"
   ],
   "metadata": {
    "collapsed": false,
    "ExecuteTime": {
     "end_time": "2024-03-25T09:32:51.767194Z",
     "start_time": "2024-03-25T09:32:51.761855Z"
    }
   },
   "id": "e2d3468d5061cf41",
   "execution_count": 1412
  },
  {
   "cell_type": "code",
   "outputs": [
    {
     "name": "stdout",
     "output_type": "stream",
     "text": [
      "<class 'pandas.core.frame.DataFrame'>\n",
      "RangeIndex: 196513 entries, 0 to 196512\n",
      "Data columns (total 3 columns):\n",
      " #   Column       Non-Null Count   Dtype         \n",
      "---  ------       --------------   -----         \n",
      " 0   DATETIME     196513 non-null  datetime64[ns]\n",
      " 1   TOTALDEMAND  196513 non-null  float64       \n",
      " 2   REGIONID     196513 non-null  object        \n",
      "dtypes: datetime64[ns](1), float64(1), object(1)\n",
      "memory usage: 4.5+ MB\n"
     ]
    }
   ],
   "source": [
    "nsw_totaldemand.info()"
   ],
   "metadata": {
    "collapsed": false,
    "ExecuteTime": {
     "end_time": "2024-03-25T09:32:51.776756Z",
     "start_time": "2024-03-25T09:32:51.769004Z"
    }
   },
   "id": "681e4062d87c3776",
   "execution_count": 1413
  },
  {
   "cell_type": "code",
   "outputs": [
    {
     "data": {
      "text/plain": "count    196513.000000\nmean       8113.145859\nstd        1299.532774\nmin        5074.630000\n25%        7150.070000\n50%        8053.230000\n75%        8958.550000\nmax       14579.860000\nName: TOTALDEMAND, dtype: float64"
     },
     "execution_count": 1414,
     "metadata": {},
     "output_type": "execute_result"
    }
   ],
   "source": [
    "nsw_totaldemand['TOTALDEMAND'].describe()"
   ],
   "metadata": {
    "collapsed": false,
    "ExecuteTime": {
     "end_time": "2024-03-25T09:32:51.784199Z",
     "start_time": "2024-03-25T09:32:51.777277Z"
    }
   },
   "id": "e55c534c0b180b3d",
   "execution_count": 1414
  },
  {
   "cell_type": "code",
   "outputs": [
    {
     "data": {
      "text/plain": "(196513, 3)"
     },
     "execution_count": 1415,
     "metadata": {},
     "output_type": "execute_result"
    }
   ],
   "source": [
    "nsw_totaldemand.shape"
   ],
   "metadata": {
    "collapsed": false,
    "ExecuteTime": {
     "end_time": "2024-03-25T09:32:51.788381Z",
     "start_time": "2024-03-25T09:32:51.785030Z"
    }
   },
   "id": "fc750c3c10fa1728",
   "execution_count": 1415
  },
  {
   "cell_type": "code",
   "outputs": [
    {
     "data": {
      "text/plain": "DATETIME       2010-01-01 00:00:00\nTOTALDEMAND                5074.63\nREGIONID                      NSW1\ndtype: object"
     },
     "execution_count": 1416,
     "metadata": {},
     "output_type": "execute_result"
    }
   ],
   "source": [
    "nsw_totaldemand.min()"
   ],
   "metadata": {
    "collapsed": false,
    "ExecuteTime": {
     "end_time": "2024-03-25T09:32:51.805360Z",
     "start_time": "2024-03-25T09:32:51.789069Z"
    }
   },
   "id": "71f63695bf4e1b8f",
   "execution_count": 1416
  },
  {
   "cell_type": "code",
   "outputs": [
    {
     "data": {
      "text/plain": "DATETIME       2021-03-18 00:00:00\nTOTALDEMAND               14579.86\nREGIONID                      NSW1\ndtype: object"
     },
     "execution_count": 1417,
     "metadata": {},
     "output_type": "execute_result"
    }
   ],
   "source": [
    "nsw_totaldemand.max()"
   ],
   "metadata": {
    "collapsed": false,
    "ExecuteTime": {
     "end_time": "2024-03-25T09:32:51.814915Z",
     "start_time": "2024-03-25T09:32:51.805946Z"
    }
   },
   "id": "d9cfce3032926002",
   "execution_count": 1417
  },
  {
   "cell_type": "code",
   "outputs": [
    {
     "data": {
      "text/plain": "DATETIME       0\nTOTALDEMAND    0\nREGIONID       0\ndtype: int64"
     },
     "execution_count": 1418,
     "metadata": {},
     "output_type": "execute_result"
    }
   ],
   "source": [
    "nsw_totaldemand.isnull().sum()"
   ],
   "metadata": {
    "collapsed": false,
    "ExecuteTime": {
     "end_time": "2024-03-25T09:32:51.827582Z",
     "start_time": "2024-03-25T09:32:51.815449Z"
    }
   },
   "id": "b23744a8dc6b5376",
   "execution_count": 1418
  },
  {
   "cell_type": "code",
   "outputs": [
    {
     "data": {
      "text/plain": "DATETIME       0\nTOTALDEMAND    0\nREGIONID       0\ndtype: int64"
     },
     "execution_count": 1419,
     "metadata": {},
     "output_type": "execute_result"
    }
   ],
   "source": [
    "nsw_totaldemand.isna().sum()"
   ],
   "metadata": {
    "collapsed": false,
    "ExecuteTime": {
     "end_time": "2024-03-25T09:32:51.836813Z",
     "start_time": "2024-03-25T09:32:51.828076Z"
    }
   },
   "id": "ffa4adc5a6c74292",
   "execution_count": 1419
  },
  {
   "cell_type": "code",
   "outputs": [
    {
     "data": {
      "text/plain": "DATETIME       196513\nTOTALDEMAND    160515\nREGIONID            1\ndtype: int64"
     },
     "execution_count": 1420,
     "metadata": {},
     "output_type": "execute_result"
    }
   ],
   "source": [
    "nsw_totaldemand.nunique()"
   ],
   "metadata": {
    "collapsed": false,
    "ExecuteTime": {
     "end_time": "2024-03-25T09:32:51.854525Z",
     "start_time": "2024-03-25T09:32:51.837301Z"
    }
   },
   "id": "3a4e45db53d1f985",
   "execution_count": 1420
  },
  {
   "cell_type": "code",
   "outputs": [
    {
     "data": {
      "text/plain": "DATETIME       datetime64[ns]\nTOTALDEMAND           float64\nREGIONID               object\ndtype: object"
     },
     "execution_count": 1421,
     "metadata": {},
     "output_type": "execute_result"
    }
   ],
   "source": [
    "nsw_totaldemand.dtypes"
   ],
   "metadata": {
    "collapsed": false,
    "ExecuteTime": {
     "end_time": "2024-03-25T09:32:51.857386Z",
     "start_time": "2024-03-25T09:32:51.855052Z"
    }
   },
   "id": "674217cbe3f28c3",
   "execution_count": 1421
  },
  {
   "cell_type": "markdown",
   "source": [
    "## merge step 1"
   ],
   "metadata": {
    "collapsed": false
   },
   "id": "13120e134b3dcf60"
  },
  {
   "cell_type": "code",
   "outputs": [
    {
     "data": {
      "text/plain": "    DATETIME  TOTALDEMAND REGIONID  PREDISPATCHSEQNO  PERIODID  \\\n0 2010-01-01       8038.0     NSW1        2009123018        71   \n1 2010-01-01       8038.0     NSW1        2009123019        70   \n2 2010-01-01       8038.0     NSW1        2009123020        69   \n3 2010-01-01       8038.0     NSW1        2009123021        68   \n4 2010-01-01       8038.0     NSW1        2009123022        67   \n\n   FORECASTDEMAND         LASTCHANGED  \n0         7832.04 2009-12-30 12:31:49  \n1         7832.04 2009-12-30 13:01:43  \n2         7832.03 2009-12-30 13:31:36  \n3         7832.03 2009-12-30 14:01:44  \n4         7830.96 2009-12-30 14:31:35  ",
      "text/html": "<div>\n<style scoped>\n    .dataframe tbody tr th:only-of-type {\n        vertical-align: middle;\n    }\n\n    .dataframe tbody tr th {\n        vertical-align: top;\n    }\n\n    .dataframe thead th {\n        text-align: right;\n    }\n</style>\n<table border=\"1\" class=\"dataframe\">\n  <thead>\n    <tr style=\"text-align: right;\">\n      <th></th>\n      <th>DATETIME</th>\n      <th>TOTALDEMAND</th>\n      <th>REGIONID</th>\n      <th>PREDISPATCHSEQNO</th>\n      <th>PERIODID</th>\n      <th>FORECASTDEMAND</th>\n      <th>LASTCHANGED</th>\n    </tr>\n  </thead>\n  <tbody>\n    <tr>\n      <th>0</th>\n      <td>2010-01-01</td>\n      <td>8038.0</td>\n      <td>NSW1</td>\n      <td>2009123018</td>\n      <td>71</td>\n      <td>7832.04</td>\n      <td>2009-12-30 12:31:49</td>\n    </tr>\n    <tr>\n      <th>1</th>\n      <td>2010-01-01</td>\n      <td>8038.0</td>\n      <td>NSW1</td>\n      <td>2009123019</td>\n      <td>70</td>\n      <td>7832.04</td>\n      <td>2009-12-30 13:01:43</td>\n    </tr>\n    <tr>\n      <th>2</th>\n      <td>2010-01-01</td>\n      <td>8038.0</td>\n      <td>NSW1</td>\n      <td>2009123020</td>\n      <td>69</td>\n      <td>7832.03</td>\n      <td>2009-12-30 13:31:36</td>\n    </tr>\n    <tr>\n      <th>3</th>\n      <td>2010-01-01</td>\n      <td>8038.0</td>\n      <td>NSW1</td>\n      <td>2009123021</td>\n      <td>68</td>\n      <td>7832.03</td>\n      <td>2009-12-30 14:01:44</td>\n    </tr>\n    <tr>\n      <th>4</th>\n      <td>2010-01-01</td>\n      <td>8038.0</td>\n      <td>NSW1</td>\n      <td>2009123022</td>\n      <td>67</td>\n      <td>7830.96</td>\n      <td>2009-12-30 14:31:35</td>\n    </tr>\n  </tbody>\n</table>\n</div>"
     },
     "execution_count": 1422,
     "metadata": {},
     "output_type": "execute_result"
    }
   ],
   "source": [
    "merged_df = pd.merge(\n",
    "    nsw_totaldemand[['DATETIME', 'TOTALDEMAND', 'REGIONID']], \n",
    "    nsw_forecastdemand[['PREDISPATCHSEQNO', 'REGIONID', 'PERIODID', 'FORECASTDEMAND', 'LASTCHANGED', 'DATETIME']], \n",
    "    on=['DATETIME', 'REGIONID'], \n",
    "    how='outer'\n",
    ")\n",
    "merged_df.head()"
   ],
   "metadata": {
    "collapsed": false,
    "ExecuteTime": {
     "end_time": "2024-03-25T09:32:52.989612Z",
     "start_time": "2024-03-25T09:32:51.857893Z"
    }
   },
   "id": "cd3bac8adc87bb3",
   "execution_count": 1422
  },
  {
   "cell_type": "code",
   "outputs": [
    {
     "data": {
      "text/plain": "DATETIME            0\nTOTALDEMAND         0\nREGIONID            0\nPREDISPATCHSEQNO    0\nPERIODID            0\nFORECASTDEMAND      0\nLASTCHANGED         0\ndtype: int64"
     },
     "execution_count": 1423,
     "metadata": {},
     "output_type": "execute_result"
    }
   ],
   "source": [
    "merged_df.isnull().sum()"
   ],
   "metadata": {
    "collapsed": false,
    "ExecuteTime": {
     "end_time": "2024-03-25T09:32:53.234086Z",
     "start_time": "2024-03-25T09:32:52.990172Z"
    }
   },
   "id": "65911525b9843734",
   "execution_count": 1423
  },
  {
   "cell_type": "markdown",
   "source": [
    "## merge step 2"
   ],
   "metadata": {
    "collapsed": false
   },
   "id": "3e369850c7ee846d"
  },
  {
   "cell_type": "code",
   "outputs": [],
   "source": [
    "nsw_df = pd.merge(\n",
    "    merged_df, \n",
    "    nsw_temperature[['LOCATION', 'DATETIME', 'TEMPERATURE']], \n",
    "    on='DATETIME', \n",
    "    how='inner'\n",
    ")"
   ],
   "metadata": {
    "collapsed": false,
    "ExecuteTime": {
     "end_time": "2024-03-25T09:32:54.086311Z",
     "start_time": "2024-03-25T09:32:53.234838Z"
    }
   },
   "id": "2ef33897bd4f7abd",
   "execution_count": 1424
  },
  {
   "cell_type": "markdown",
   "source": [
    "## Quick Check of merged df"
   ],
   "metadata": {
    "collapsed": false
   },
   "id": "bc255725133f7ba1"
  },
  {
   "cell_type": "code",
   "outputs": [
    {
     "data": {
      "text/plain": "DATETIME            0\nTOTALDEMAND         0\nREGIONID            0\nPREDISPATCHSEQNO    0\nPERIODID            0\nFORECASTDEMAND      0\nLASTCHANGED         0\nLOCATION            0\nTEMPERATURE         0\ndtype: int64"
     },
     "execution_count": 1425,
     "metadata": {},
     "output_type": "execute_result"
    }
   ],
   "source": [
    "nsw_df.isnull().sum()"
   ],
   "metadata": {
    "collapsed": false,
    "ExecuteTime": {
     "end_time": "2024-03-25T09:32:54.549292Z",
     "start_time": "2024-03-25T09:32:54.087037Z"
    }
   },
   "id": "5d0a65676517143",
   "execution_count": 1425
  },
  {
   "cell_type": "code",
   "outputs": [
    {
     "data": {
      "text/plain": "    DATETIME  TOTALDEMAND REGIONID  PREDISPATCHSEQNO  PERIODID  \\\n0 2010-01-01       8038.0     NSW1        2009123018        71   \n1 2010-01-01       8038.0     NSW1        2009123019        70   \n2 2010-01-01       8038.0     NSW1        2009123020        69   \n3 2010-01-01       8038.0     NSW1        2009123021        68   \n4 2010-01-01       8038.0     NSW1        2009123022        67   \n\n   FORECASTDEMAND         LASTCHANGED   LOCATION  TEMPERATURE  \n0         7832.04 2009-12-30 12:31:49  Bankstown         23.1  \n1         7832.04 2009-12-30 13:01:43  Bankstown         23.1  \n2         7832.03 2009-12-30 13:31:36  Bankstown         23.1  \n3         7832.03 2009-12-30 14:01:44  Bankstown         23.1  \n4         7830.96 2009-12-30 14:31:35  Bankstown         23.1  ",
      "text/html": "<div>\n<style scoped>\n    .dataframe tbody tr th:only-of-type {\n        vertical-align: middle;\n    }\n\n    .dataframe tbody tr th {\n        vertical-align: top;\n    }\n\n    .dataframe thead th {\n        text-align: right;\n    }\n</style>\n<table border=\"1\" class=\"dataframe\">\n  <thead>\n    <tr style=\"text-align: right;\">\n      <th></th>\n      <th>DATETIME</th>\n      <th>TOTALDEMAND</th>\n      <th>REGIONID</th>\n      <th>PREDISPATCHSEQNO</th>\n      <th>PERIODID</th>\n      <th>FORECASTDEMAND</th>\n      <th>LASTCHANGED</th>\n      <th>LOCATION</th>\n      <th>TEMPERATURE</th>\n    </tr>\n  </thead>\n  <tbody>\n    <tr>\n      <th>0</th>\n      <td>2010-01-01</td>\n      <td>8038.0</td>\n      <td>NSW1</td>\n      <td>2009123018</td>\n      <td>71</td>\n      <td>7832.04</td>\n      <td>2009-12-30 12:31:49</td>\n      <td>Bankstown</td>\n      <td>23.1</td>\n    </tr>\n    <tr>\n      <th>1</th>\n      <td>2010-01-01</td>\n      <td>8038.0</td>\n      <td>NSW1</td>\n      <td>2009123019</td>\n      <td>70</td>\n      <td>7832.04</td>\n      <td>2009-12-30 13:01:43</td>\n      <td>Bankstown</td>\n      <td>23.1</td>\n    </tr>\n    <tr>\n      <th>2</th>\n      <td>2010-01-01</td>\n      <td>8038.0</td>\n      <td>NSW1</td>\n      <td>2009123020</td>\n      <td>69</td>\n      <td>7832.03</td>\n      <td>2009-12-30 13:31:36</td>\n      <td>Bankstown</td>\n      <td>23.1</td>\n    </tr>\n    <tr>\n      <th>3</th>\n      <td>2010-01-01</td>\n      <td>8038.0</td>\n      <td>NSW1</td>\n      <td>2009123021</td>\n      <td>68</td>\n      <td>7832.03</td>\n      <td>2009-12-30 14:01:44</td>\n      <td>Bankstown</td>\n      <td>23.1</td>\n    </tr>\n    <tr>\n      <th>4</th>\n      <td>2010-01-01</td>\n      <td>8038.0</td>\n      <td>NSW1</td>\n      <td>2009123022</td>\n      <td>67</td>\n      <td>7830.96</td>\n      <td>2009-12-30 14:31:35</td>\n      <td>Bankstown</td>\n      <td>23.1</td>\n    </tr>\n  </tbody>\n</table>\n</div>"
     },
     "execution_count": 1426,
     "metadata": {},
     "output_type": "execute_result"
    }
   ],
   "source": [
    "nsw_df.head(5)"
   ],
   "metadata": {
    "collapsed": false,
    "ExecuteTime": {
     "end_time": "2024-03-25T09:32:54.555189Z",
     "start_time": "2024-03-25T09:32:54.549921Z"
    }
   },
   "id": "254dfa406648c149",
   "execution_count": 1426
  },
  {
   "cell_type": "code",
   "outputs": [
    {
     "data": {
      "text/plain": "           DATETIME  TOTALDEMAND REGIONID  PREDISPATCHSEQNO  PERIODID  \\\n10875931 2021-03-18      7094.51     NSW1        2021031736         5   \n10875932 2021-03-18      7094.51     NSW1        2021031737         4   \n10875933 2021-03-18      7094.51     NSW1        2021031738         3   \n10875934 2021-03-18      7094.51     NSW1        2021031739         2   \n10875935 2021-03-18      7094.51     NSW1        2021031740         1   \n\n          FORECASTDEMAND         LASTCHANGED   LOCATION  TEMPERATURE  \n10875931         7028.45 2021-03-17 21:31:31  Bankstown         18.6  \n10875932         7041.65 2021-03-17 22:01:34  Bankstown         18.6  \n10875933         7087.60 2021-03-17 22:31:36  Bankstown         18.6  \n10875934         7087.28 2021-03-17 23:01:36  Bankstown         18.6  \n10875935         7126.37 2021-03-17 23:31:33  Bankstown         18.6  ",
      "text/html": "<div>\n<style scoped>\n    .dataframe tbody tr th:only-of-type {\n        vertical-align: middle;\n    }\n\n    .dataframe tbody tr th {\n        vertical-align: top;\n    }\n\n    .dataframe thead th {\n        text-align: right;\n    }\n</style>\n<table border=\"1\" class=\"dataframe\">\n  <thead>\n    <tr style=\"text-align: right;\">\n      <th></th>\n      <th>DATETIME</th>\n      <th>TOTALDEMAND</th>\n      <th>REGIONID</th>\n      <th>PREDISPATCHSEQNO</th>\n      <th>PERIODID</th>\n      <th>FORECASTDEMAND</th>\n      <th>LASTCHANGED</th>\n      <th>LOCATION</th>\n      <th>TEMPERATURE</th>\n    </tr>\n  </thead>\n  <tbody>\n    <tr>\n      <th>10875931</th>\n      <td>2021-03-18</td>\n      <td>7094.51</td>\n      <td>NSW1</td>\n      <td>2021031736</td>\n      <td>5</td>\n      <td>7028.45</td>\n      <td>2021-03-17 21:31:31</td>\n      <td>Bankstown</td>\n      <td>18.6</td>\n    </tr>\n    <tr>\n      <th>10875932</th>\n      <td>2021-03-18</td>\n      <td>7094.51</td>\n      <td>NSW1</td>\n      <td>2021031737</td>\n      <td>4</td>\n      <td>7041.65</td>\n      <td>2021-03-17 22:01:34</td>\n      <td>Bankstown</td>\n      <td>18.6</td>\n    </tr>\n    <tr>\n      <th>10875933</th>\n      <td>2021-03-18</td>\n      <td>7094.51</td>\n      <td>NSW1</td>\n      <td>2021031738</td>\n      <td>3</td>\n      <td>7087.60</td>\n      <td>2021-03-17 22:31:36</td>\n      <td>Bankstown</td>\n      <td>18.6</td>\n    </tr>\n    <tr>\n      <th>10875934</th>\n      <td>2021-03-18</td>\n      <td>7094.51</td>\n      <td>NSW1</td>\n      <td>2021031739</td>\n      <td>2</td>\n      <td>7087.28</td>\n      <td>2021-03-17 23:01:36</td>\n      <td>Bankstown</td>\n      <td>18.6</td>\n    </tr>\n    <tr>\n      <th>10875935</th>\n      <td>2021-03-18</td>\n      <td>7094.51</td>\n      <td>NSW1</td>\n      <td>2021031740</td>\n      <td>1</td>\n      <td>7126.37</td>\n      <td>2021-03-17 23:31:33</td>\n      <td>Bankstown</td>\n      <td>18.6</td>\n    </tr>\n  </tbody>\n</table>\n</div>"
     },
     "execution_count": 1427,
     "metadata": {},
     "output_type": "execute_result"
    }
   ],
   "source": [
    "nsw_df.tail(5)"
   ],
   "metadata": {
    "collapsed": false,
    "ExecuteTime": {
     "end_time": "2024-03-25T09:32:54.562137Z",
     "start_time": "2024-03-25T09:32:54.555799Z"
    }
   },
   "id": "a2097071873c83f6",
   "execution_count": 1427
  },
  {
   "cell_type": "code",
   "outputs": [
    {
     "data": {
      "text/plain": "(10875936, 9)"
     },
     "execution_count": 1428,
     "metadata": {},
     "output_type": "execute_result"
    }
   ],
   "source": [
    "nsw_df.shape"
   ],
   "metadata": {
    "collapsed": false,
    "ExecuteTime": {
     "end_time": "2024-03-25T09:32:54.572479Z",
     "start_time": "2024-03-25T09:32:54.562719Z"
    }
   },
   "id": "faa275c9985c65fc",
   "execution_count": 1428
  },
  {
   "cell_type": "code",
   "outputs": [
    {
     "name": "stdout",
     "output_type": "stream",
     "text": [
      "<class 'pandas.core.frame.DataFrame'>\n",
      "RangeIndex: 10875936 entries, 0 to 10875935\n",
      "Data columns (total 9 columns):\n",
      " #   Column            Dtype         \n",
      "---  ------            -----         \n",
      " 0   DATETIME          datetime64[ns]\n",
      " 1   TOTALDEMAND       float64       \n",
      " 2   REGIONID          object        \n",
      " 3   PREDISPATCHSEQNO  int64         \n",
      " 4   PERIODID          int64         \n",
      " 5   FORECASTDEMAND    float64       \n",
      " 6   LASTCHANGED       datetime64[ns]\n",
      " 7   LOCATION          object        \n",
      " 8   TEMPERATURE       float64       \n",
      "dtypes: datetime64[ns](2), float64(3), int64(2), object(2)\n",
      "memory usage: 746.8+ MB\n"
     ]
    }
   ],
   "source": [
    "nsw_df.info()"
   ],
   "metadata": {
    "collapsed": false,
    "ExecuteTime": {
     "end_time": "2024-03-25T09:32:54.584065Z",
     "start_time": "2024-03-25T09:32:54.573056Z"
    }
   },
   "id": "204ef2766a3fda54",
   "execution_count": 1429
  },
  {
   "cell_type": "code",
   "outputs": [
    {
     "data": {
      "text/plain": "        TOTALDEMAND  FORECASTDEMAND   TEMPERATURE\ncount  1.087594e+07    1.087594e+07  1.087594e+07\nmean   8.068822e+03    8.065356e+03  1.734190e+01\nstd    1.308772e+03    1.315479e+03  5.819157e+00\nmin    5.074630e+03    4.422460e+03 -1.300000e+00\n25%    7.096550e+03    7.077090e+03  1.330000e+01\n50%    8.000520e+03    8.006240e+03  1.770000e+01\n75%    8.913610e+03    8.923600e+03  2.130000e+01\nmax    1.457986e+04    1.473666e+04  4.470000e+01",
      "text/html": "<div>\n<style scoped>\n    .dataframe tbody tr th:only-of-type {\n        vertical-align: middle;\n    }\n\n    .dataframe tbody tr th {\n        vertical-align: top;\n    }\n\n    .dataframe thead th {\n        text-align: right;\n    }\n</style>\n<table border=\"1\" class=\"dataframe\">\n  <thead>\n    <tr style=\"text-align: right;\">\n      <th></th>\n      <th>TOTALDEMAND</th>\n      <th>FORECASTDEMAND</th>\n      <th>TEMPERATURE</th>\n    </tr>\n  </thead>\n  <tbody>\n    <tr>\n      <th>count</th>\n      <td>1.087594e+07</td>\n      <td>1.087594e+07</td>\n      <td>1.087594e+07</td>\n    </tr>\n    <tr>\n      <th>mean</th>\n      <td>8.068822e+03</td>\n      <td>8.065356e+03</td>\n      <td>1.734190e+01</td>\n    </tr>\n    <tr>\n      <th>std</th>\n      <td>1.308772e+03</td>\n      <td>1.315479e+03</td>\n      <td>5.819157e+00</td>\n    </tr>\n    <tr>\n      <th>min</th>\n      <td>5.074630e+03</td>\n      <td>4.422460e+03</td>\n      <td>-1.300000e+00</td>\n    </tr>\n    <tr>\n      <th>25%</th>\n      <td>7.096550e+03</td>\n      <td>7.077090e+03</td>\n      <td>1.330000e+01</td>\n    </tr>\n    <tr>\n      <th>50%</th>\n      <td>8.000520e+03</td>\n      <td>8.006240e+03</td>\n      <td>1.770000e+01</td>\n    </tr>\n    <tr>\n      <th>75%</th>\n      <td>8.913610e+03</td>\n      <td>8.923600e+03</td>\n      <td>2.130000e+01</td>\n    </tr>\n    <tr>\n      <th>max</th>\n      <td>1.457986e+04</td>\n      <td>1.473666e+04</td>\n      <td>4.470000e+01</td>\n    </tr>\n  </tbody>\n</table>\n</div>"
     },
     "execution_count": 1430,
     "metadata": {},
     "output_type": "execute_result"
    }
   ],
   "source": [
    "nsw_df[['TOTALDEMAND', 'FORECASTDEMAND', 'TEMPERATURE']].describe()"
   ],
   "metadata": {
    "collapsed": false,
    "ExecuteTime": {
     "end_time": "2024-03-25T09:32:55.157400Z",
     "start_time": "2024-03-25T09:32:54.584620Z"
    }
   },
   "id": "2220229aa54148ca",
   "execution_count": 1430
  },
  {
   "cell_type": "code",
   "outputs": [
    {
     "data": {
      "text/plain": "DATETIME            195934\nTOTALDEMAND         160133\nREGIONID                 1\nPREDISPATCHSEQNO    196435\nPERIODID                79\nFORECASTDEMAND      681046\nLASTCHANGED         196435\nLOCATION                 1\nTEMPERATURE            438\ndtype: int64"
     },
     "execution_count": 1431,
     "metadata": {},
     "output_type": "execute_result"
    }
   ],
   "source": [
    "nsw_df.nunique()"
   ],
   "metadata": {
    "collapsed": false,
    "ExecuteTime": {
     "end_time": "2024-03-25T09:32:56.115762Z",
     "start_time": "2024-03-25T09:32:55.157978Z"
    }
   },
   "id": "fb2d264b743b080a",
   "execution_count": 1431
  },
  {
   "cell_type": "code",
   "outputs": [
    {
     "data": {
      "text/plain": "DATETIME            datetime64[ns]\nTOTALDEMAND                float64\nREGIONID                    object\nPREDISPATCHSEQNO             int64\nPERIODID                     int64\nFORECASTDEMAND             float64\nLASTCHANGED         datetime64[ns]\nLOCATION                    object\nTEMPERATURE                float64\ndtype: object"
     },
     "execution_count": 1432,
     "metadata": {},
     "output_type": "execute_result"
    }
   ],
   "source": [
    "nsw_df.dtypes"
   ],
   "metadata": {
    "collapsed": false,
    "ExecuteTime": {
     "end_time": "2024-03-25T09:32:56.118903Z",
     "start_time": "2024-03-25T09:32:56.116321Z"
    }
   },
   "id": "a07543b85ab86e60",
   "execution_count": 1432
  },
  {
   "cell_type": "code",
   "outputs": [
    {
     "data": {
      "text/plain": "DATETIME            0\nTOTALDEMAND         0\nREGIONID            0\nPREDISPATCHSEQNO    0\nPERIODID            0\nFORECASTDEMAND      0\nLASTCHANGED         0\nLOCATION            0\nTEMPERATURE         0\ndtype: int64"
     },
     "execution_count": 1433,
     "metadata": {},
     "output_type": "execute_result"
    }
   ],
   "source": [
    "nsw_df.isna().sum()"
   ],
   "metadata": {
    "collapsed": false,
    "ExecuteTime": {
     "end_time": "2024-03-25T09:32:56.615787Z",
     "start_time": "2024-03-25T09:32:56.119373Z"
    }
   },
   "id": "7350d4b779e23e9f",
   "execution_count": 1433
  },
  {
   "cell_type": "code",
   "outputs": [],
   "source": [
    "nsw_df.to_parquet(\n",
    "    os.path.join(CFG.data_path, 'NSW', 'nsw_df.parquet')\n",
    ")  # once the data is cleaned and merged, save it as a parquet file."
   ],
   "metadata": {
    "collapsed": false,
    "ExecuteTime": {
     "end_time": "2024-03-25T09:32:58.735273Z",
     "start_time": "2024-03-25T09:32:56.616525Z"
    }
   },
   "id": "abd5180a06079f95",
   "execution_count": 1434
  }
 ],
 "metadata": {
  "kernelspec": {
   "display_name": "Python 3",
   "language": "python",
   "name": "python3"
  },
  "language_info": {
   "codemirror_mode": {
    "name": "ipython",
    "version": 2
   },
   "file_extension": ".py",
   "mimetype": "text/x-python",
   "name": "python",
   "nbconvert_exporter": "python",
   "pygments_lexer": "ipython2",
   "version": "2.7.6"
  }
 },
 "nbformat": 4,
 "nbformat_minor": 5
}
