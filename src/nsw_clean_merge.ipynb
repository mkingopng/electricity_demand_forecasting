{
 "cells": [
  {
   "cell_type": "code",
   "execution_count": 87,
   "id": "initial_id",
   "metadata": {
    "collapsed": true,
    "ExecuteTime": {
     "end_time": "2024-03-28T00:29:12.227619Z",
     "start_time": "2024-03-28T00:29:12.225547Z"
    }
   },
   "outputs": [],
   "source": [
    "import pandas as pd\n",
    "from pandas.plotting import autocorrelation_plot\n",
    "import os\n",
    "import matplotlib.pyplot as plt\n",
    "import seaborn as sns\n",
    "import statsmodels.api as sm\n",
    "import statsmodels.formula.api as smf"
   ]
  },
  {
   "cell_type": "code",
   "outputs": [],
   "source": [
    "# general settings\n",
    "class CFG:\n",
    "    data_path = './../data'\n",
    "    img_dim1 = 20\n",
    "    img_dim2 = 10\n",
    "    \n",
    "    \n",
    "# adjust the parameters for displayed figures\n",
    "plt.style.use('fivethirtyeight')\n",
    "plt.rcParams.update({'figure.figsize': (CFG.img_dim1, CFG.img_dim2)})  "
   ],
   "metadata": {
    "collapsed": false,
    "ExecuteTime": {
     "end_time": "2024-03-28T00:29:12.712996Z",
     "start_time": "2024-03-28T00:29:12.710904Z"
    }
   },
   "id": "c2bb2619f95fc798",
   "execution_count": 89
  },
  {
   "cell_type": "markdown",
   "source": [
    "## NSW Forecast Demand"
   ],
   "metadata": {
    "collapsed": false
   },
   "id": "cf008303c901d238"
  },
  {
   "cell_type": "code",
   "outputs": [],
   "source": [
    "nsw_forecastdemand = pd.read_csv(\n",
    "    os.path.join(CFG.data_path, 'NSW', 'forecastdemand_nsw.csv'), \n",
    "    parse_dates=['LASTCHANGED', 'DATETIME']\n",
    ")"
   ],
   "metadata": {
    "collapsed": false,
    "ExecuteTime": {
     "end_time": "2024-03-28T00:29:18.269348Z",
     "start_time": "2024-03-28T00:29:12.742894Z"
    }
   },
   "id": "2aca373f3db6f9ad",
   "execution_count": 90
  },
  {
   "cell_type": "code",
   "outputs": [
    {
     "data": {
      "text/plain": "   PREDISPATCHSEQNO REGIONID  PERIODID  FORECASTDEMAND         LASTCHANGED  \\\n0        2009123018     NSW1        71         7832.04 2009-12-30 12:31:49   \n1        2009123019     NSW1        70         7832.04 2009-12-30 13:01:43   \n2        2009123020     NSW1        69         7832.03 2009-12-30 13:31:36   \n3        2009123021     NSW1        68         7832.03 2009-12-30 14:01:44   \n4        2009123022     NSW1        67         7830.96 2009-12-30 14:31:35   \n\n    DATETIME  \n0 2010-01-01  \n1 2010-01-01  \n2 2010-01-01  \n3 2010-01-01  \n4 2010-01-01  ",
      "text/html": "<div>\n<style scoped>\n    .dataframe tbody tr th:only-of-type {\n        vertical-align: middle;\n    }\n\n    .dataframe tbody tr th {\n        vertical-align: top;\n    }\n\n    .dataframe thead th {\n        text-align: right;\n    }\n</style>\n<table border=\"1\" class=\"dataframe\">\n  <thead>\n    <tr style=\"text-align: right;\">\n      <th></th>\n      <th>PREDISPATCHSEQNO</th>\n      <th>REGIONID</th>\n      <th>PERIODID</th>\n      <th>FORECASTDEMAND</th>\n      <th>LASTCHANGED</th>\n      <th>DATETIME</th>\n    </tr>\n  </thead>\n  <tbody>\n    <tr>\n      <th>0</th>\n      <td>2009123018</td>\n      <td>NSW1</td>\n      <td>71</td>\n      <td>7832.04</td>\n      <td>2009-12-30 12:31:49</td>\n      <td>2010-01-01</td>\n    </tr>\n    <tr>\n      <th>1</th>\n      <td>2009123019</td>\n      <td>NSW1</td>\n      <td>70</td>\n      <td>7832.04</td>\n      <td>2009-12-30 13:01:43</td>\n      <td>2010-01-01</td>\n    </tr>\n    <tr>\n      <th>2</th>\n      <td>2009123020</td>\n      <td>NSW1</td>\n      <td>69</td>\n      <td>7832.03</td>\n      <td>2009-12-30 13:31:36</td>\n      <td>2010-01-01</td>\n    </tr>\n    <tr>\n      <th>3</th>\n      <td>2009123021</td>\n      <td>NSW1</td>\n      <td>68</td>\n      <td>7832.03</td>\n      <td>2009-12-30 14:01:44</td>\n      <td>2010-01-01</td>\n    </tr>\n    <tr>\n      <th>4</th>\n      <td>2009123022</td>\n      <td>NSW1</td>\n      <td>67</td>\n      <td>7830.96</td>\n      <td>2009-12-30 14:31:35</td>\n      <td>2010-01-01</td>\n    </tr>\n  </tbody>\n</table>\n</div>"
     },
     "execution_count": 91,
     "metadata": {},
     "output_type": "execute_result"
    }
   ],
   "source": [
    "nsw_forecastdemand.head()"
   ],
   "metadata": {
    "collapsed": false,
    "ExecuteTime": {
     "end_time": "2024-03-28T00:29:18.276940Z",
     "start_time": "2024-03-28T00:29:18.270550Z"
    }
   },
   "id": "53bb74339eefcd46",
   "execution_count": 91
  },
  {
   "cell_type": "code",
   "outputs": [
    {
     "data": {
      "text/plain": "          PREDISPATCHSEQNO REGIONID  PERIODID  FORECASTDEMAND  \\\n10906014        2021031736     NSW1         5         7028.45   \n10906015        2021031737     NSW1         4         7041.65   \n10906016        2021031738     NSW1         3         7087.60   \n10906017        2021031739     NSW1         2         7087.28   \n10906018        2021031740     NSW1         1         7126.37   \n\n                 LASTCHANGED   DATETIME  \n10906014 2021-03-17 21:31:31 2021-03-18  \n10906015 2021-03-17 22:01:34 2021-03-18  \n10906016 2021-03-17 22:31:36 2021-03-18  \n10906017 2021-03-17 23:01:36 2021-03-18  \n10906018 2021-03-17 23:31:33 2021-03-18  ",
      "text/html": "<div>\n<style scoped>\n    .dataframe tbody tr th:only-of-type {\n        vertical-align: middle;\n    }\n\n    .dataframe tbody tr th {\n        vertical-align: top;\n    }\n\n    .dataframe thead th {\n        text-align: right;\n    }\n</style>\n<table border=\"1\" class=\"dataframe\">\n  <thead>\n    <tr style=\"text-align: right;\">\n      <th></th>\n      <th>PREDISPATCHSEQNO</th>\n      <th>REGIONID</th>\n      <th>PERIODID</th>\n      <th>FORECASTDEMAND</th>\n      <th>LASTCHANGED</th>\n      <th>DATETIME</th>\n    </tr>\n  </thead>\n  <tbody>\n    <tr>\n      <th>10906014</th>\n      <td>2021031736</td>\n      <td>NSW1</td>\n      <td>5</td>\n      <td>7028.45</td>\n      <td>2021-03-17 21:31:31</td>\n      <td>2021-03-18</td>\n    </tr>\n    <tr>\n      <th>10906015</th>\n      <td>2021031737</td>\n      <td>NSW1</td>\n      <td>4</td>\n      <td>7041.65</td>\n      <td>2021-03-17 22:01:34</td>\n      <td>2021-03-18</td>\n    </tr>\n    <tr>\n      <th>10906016</th>\n      <td>2021031738</td>\n      <td>NSW1</td>\n      <td>3</td>\n      <td>7087.60</td>\n      <td>2021-03-17 22:31:36</td>\n      <td>2021-03-18</td>\n    </tr>\n    <tr>\n      <th>10906017</th>\n      <td>2021031739</td>\n      <td>NSW1</td>\n      <td>2</td>\n      <td>7087.28</td>\n      <td>2021-03-17 23:01:36</td>\n      <td>2021-03-18</td>\n    </tr>\n    <tr>\n      <th>10906018</th>\n      <td>2021031740</td>\n      <td>NSW1</td>\n      <td>1</td>\n      <td>7126.37</td>\n      <td>2021-03-17 23:31:33</td>\n      <td>2021-03-18</td>\n    </tr>\n  </tbody>\n</table>\n</div>"
     },
     "execution_count": 92,
     "metadata": {},
     "output_type": "execute_result"
    }
   ],
   "source": [
    "nsw_forecastdemand.tail()"
   ],
   "metadata": {
    "collapsed": false,
    "ExecuteTime": {
     "end_time": "2024-03-28T00:29:18.290856Z",
     "start_time": "2024-03-28T00:29:18.277855Z"
    }
   },
   "id": "136002d88e82ee85",
   "execution_count": 92
  },
  {
   "cell_type": "code",
   "outputs": [
    {
     "name": "stdout",
     "output_type": "stream",
     "text": [
      "<class 'pandas.core.frame.DataFrame'>\n",
      "RangeIndex: 10906019 entries, 0 to 10906018\n",
      "Data columns (total 6 columns):\n",
      " #   Column            Dtype         \n",
      "---  ------            -----         \n",
      " 0   PREDISPATCHSEQNO  int64         \n",
      " 1   REGIONID          object        \n",
      " 2   PERIODID          int64         \n",
      " 3   FORECASTDEMAND    float64       \n",
      " 4   LASTCHANGED       datetime64[ns]\n",
      " 5   DATETIME          datetime64[ns]\n",
      "dtypes: datetime64[ns](2), float64(1), int64(2), object(1)\n",
      "memory usage: 499.2+ MB\n"
     ]
    }
   ],
   "source": [
    "nsw_forecastdemand.info()"
   ],
   "metadata": {
    "collapsed": false,
    "ExecuteTime": {
     "end_time": "2024-03-28T00:29:18.301705Z",
     "start_time": "2024-03-28T00:29:18.291882Z"
    }
   },
   "id": "b82dc3c30b78f0e5",
   "execution_count": 93
  },
  {
   "cell_type": "code",
   "outputs": [
    {
     "data": {
      "text/plain": "count    1.090602e+07\nmean     8.066719e+03\nstd      1.315959e+03\nmin      4.422460e+03\n25%      7.077970e+03\n50%      8.007550e+03\n75%      8.925610e+03\nmax      1.473666e+04\nName: FORECASTDEMAND, dtype: float64"
     },
     "execution_count": 94,
     "metadata": {},
     "output_type": "execute_result"
    }
   ],
   "source": [
    "nsw_forecastdemand['FORECASTDEMAND'].describe()"
   ],
   "metadata": {
    "collapsed": false,
    "ExecuteTime": {
     "end_time": "2024-03-28T00:29:18.471403Z",
     "start_time": "2024-03-28T00:29:18.302433Z"
    }
   },
   "id": "f497e772d6dda571",
   "execution_count": 94
  },
  {
   "cell_type": "code",
   "outputs": [
    {
     "data": {
      "text/plain": "(10906019, 6)"
     },
     "execution_count": 95,
     "metadata": {},
     "output_type": "execute_result"
    }
   ],
   "source": [
    "nsw_forecastdemand.shape"
   ],
   "metadata": {
    "collapsed": false,
    "ExecuteTime": {
     "end_time": "2024-03-28T00:29:18.475291Z",
     "start_time": "2024-03-28T00:29:18.472361Z"
    }
   },
   "id": "f84660284a900dbf",
   "execution_count": 95
  },
  {
   "cell_type": "code",
   "outputs": [
    {
     "data": {
      "text/plain": "PREDISPATCHSEQNO             2009123018\nREGIONID                           NSW1\nPERIODID                              1\nFORECASTDEMAND                  4422.46\nLASTCHANGED         2009-12-30 12:31:49\nDATETIME            2010-01-01 00:00:00\ndtype: object"
     },
     "execution_count": 96,
     "metadata": {},
     "output_type": "execute_result"
    }
   ],
   "source": [
    "nsw_forecastdemand.min()"
   ],
   "metadata": {
    "collapsed": false,
    "ExecuteTime": {
     "end_time": "2024-03-28T00:29:18.884057Z",
     "start_time": "2024-03-28T00:29:18.476034Z"
    }
   },
   "id": "6fffbd35c5fe6398",
   "execution_count": 96
  },
  {
   "cell_type": "code",
   "outputs": [
    {
     "data": {
      "text/plain": "PREDISPATCHSEQNO             2021031740\nREGIONID                           NSW1\nPERIODID                             79\nFORECASTDEMAND                 14736.66\nLASTCHANGED         2021-03-17 23:31:33\nDATETIME            2021-03-18 00:00:00\ndtype: object"
     },
     "execution_count": 97,
     "metadata": {},
     "output_type": "execute_result"
    }
   ],
   "source": [
    "nsw_forecastdemand.max()"
   ],
   "metadata": {
    "collapsed": false,
    "ExecuteTime": {
     "end_time": "2024-03-28T00:29:19.263897Z",
     "start_time": "2024-03-28T00:29:18.884789Z"
    }
   },
   "id": "1ea21f2cbadbecb5",
   "execution_count": 97
  },
  {
   "cell_type": "code",
   "outputs": [
    {
     "data": {
      "text/plain": "PREDISPATCHSEQNO    0\nREGIONID            0\nPERIODID            0\nFORECASTDEMAND      0\nLASTCHANGED         0\nDATETIME            0\ndtype: int64"
     },
     "execution_count": 98,
     "metadata": {},
     "output_type": "execute_result"
    }
   ],
   "source": [
    "nsw_forecastdemand.isnull().sum()"
   ],
   "metadata": {
    "collapsed": false,
    "ExecuteTime": {
     "end_time": "2024-03-28T00:29:19.501946Z",
     "start_time": "2024-03-28T00:29:19.265121Z"
    }
   },
   "id": "797134c7ed9dd4b9",
   "execution_count": 98
  },
  {
   "cell_type": "code",
   "outputs": [
    {
     "data": {
      "text/plain": "PREDISPATCHSEQNO    0\nREGIONID            0\nPERIODID            0\nFORECASTDEMAND      0\nLASTCHANGED         0\nDATETIME            0\ndtype: int64"
     },
     "execution_count": 99,
     "metadata": {},
     "output_type": "execute_result"
    }
   ],
   "source": [
    "nsw_forecastdemand.isna().sum()"
   ],
   "metadata": {
    "collapsed": false,
    "ExecuteTime": {
     "end_time": "2024-03-28T00:29:19.738796Z",
     "start_time": "2024-03-28T00:29:19.503197Z"
    }
   },
   "id": "c0b341526a3af11b",
   "execution_count": 99
  },
  {
   "cell_type": "code",
   "outputs": [
    {
     "data": {
      "text/plain": "PREDISPATCHSEQNO    196571\nREGIONID                 1\nPERIODID                79\nFORECASTDEMAND      681384\nLASTCHANGED         196571\nDATETIME            196513\ndtype: int64"
     },
     "execution_count": 100,
     "metadata": {},
     "output_type": "execute_result"
    }
   ],
   "source": [
    "nsw_forecastdemand.nunique()"
   ],
   "metadata": {
    "collapsed": false,
    "ExecuteTime": {
     "end_time": "2024-03-28T00:29:20.404284Z",
     "start_time": "2024-03-28T00:29:19.739336Z"
    }
   },
   "id": "2deb11cffe2a65fa",
   "execution_count": 100
  },
  {
   "cell_type": "code",
   "outputs": [
    {
     "data": {
      "text/plain": "PREDISPATCHSEQNO             int64\nREGIONID                    object\nPERIODID                     int64\nFORECASTDEMAND             float64\nLASTCHANGED         datetime64[ns]\nDATETIME            datetime64[ns]\ndtype: object"
     },
     "execution_count": 101,
     "metadata": {},
     "output_type": "execute_result"
    }
   ],
   "source": [
    "nsw_forecastdemand.dtypes"
   ],
   "metadata": {
    "collapsed": false,
    "ExecuteTime": {
     "end_time": "2024-03-28T00:29:20.408106Z",
     "start_time": "2024-03-28T00:29:20.405040Z"
    }
   },
   "id": "849e624285690d07",
   "execution_count": 101
  },
  {
   "cell_type": "markdown",
   "source": [
    "## NSW temperature"
   ],
   "metadata": {
    "collapsed": false
   },
   "id": "cc08193babded221"
  },
  {
   "cell_type": "code",
   "outputs": [],
   "source": [
    "nsw_temperature = pd.read_csv(\n",
    "    os.path.join(CFG.data_path, 'NSW', 'temperature_nsw.csv'), \n",
    "    parse_dates=['DATETIME'], \n",
    "    dayfirst=True\n",
    ")"
   ],
   "metadata": {
    "collapsed": false,
    "ExecuteTime": {
     "end_time": "2024-03-28T00:29:20.836657Z",
     "start_time": "2024-03-28T00:29:20.408751Z"
    }
   },
   "id": "a640330de9e81684",
   "execution_count": 102
  },
  {
   "cell_type": "code",
   "outputs": [
    {
     "data": {
      "text/plain": "    LOCATION            DATETIME  TEMPERATURE\n0  Bankstown 2010-01-01 00:00:00         23.1\n1  Bankstown 2010-01-01 00:01:00         23.1\n2  Bankstown 2010-01-01 00:30:00         22.9\n3  Bankstown 2010-01-01 00:50:00         22.7\n4  Bankstown 2010-01-01 01:00:00         22.6\n5  Bankstown 2010-01-01 01:30:00         22.5\n6  Bankstown 2010-01-01 02:00:00         22.5\n7  Bankstown 2010-01-01 02:30:00         22.4\n8  Bankstown 2010-01-01 03:00:00         22.3\n9  Bankstown 2010-01-01 03:30:00         22.3",
      "text/html": "<div>\n<style scoped>\n    .dataframe tbody tr th:only-of-type {\n        vertical-align: middle;\n    }\n\n    .dataframe tbody tr th {\n        vertical-align: top;\n    }\n\n    .dataframe thead th {\n        text-align: right;\n    }\n</style>\n<table border=\"1\" class=\"dataframe\">\n  <thead>\n    <tr style=\"text-align: right;\">\n      <th></th>\n      <th>LOCATION</th>\n      <th>DATETIME</th>\n      <th>TEMPERATURE</th>\n    </tr>\n  </thead>\n  <tbody>\n    <tr>\n      <th>0</th>\n      <td>Bankstown</td>\n      <td>2010-01-01 00:00:00</td>\n      <td>23.1</td>\n    </tr>\n    <tr>\n      <th>1</th>\n      <td>Bankstown</td>\n      <td>2010-01-01 00:01:00</td>\n      <td>23.1</td>\n    </tr>\n    <tr>\n      <th>2</th>\n      <td>Bankstown</td>\n      <td>2010-01-01 00:30:00</td>\n      <td>22.9</td>\n    </tr>\n    <tr>\n      <th>3</th>\n      <td>Bankstown</td>\n      <td>2010-01-01 00:50:00</td>\n      <td>22.7</td>\n    </tr>\n    <tr>\n      <th>4</th>\n      <td>Bankstown</td>\n      <td>2010-01-01 01:00:00</td>\n      <td>22.6</td>\n    </tr>\n    <tr>\n      <th>5</th>\n      <td>Bankstown</td>\n      <td>2010-01-01 01:30:00</td>\n      <td>22.5</td>\n    </tr>\n    <tr>\n      <th>6</th>\n      <td>Bankstown</td>\n      <td>2010-01-01 02:00:00</td>\n      <td>22.5</td>\n    </tr>\n    <tr>\n      <th>7</th>\n      <td>Bankstown</td>\n      <td>2010-01-01 02:30:00</td>\n      <td>22.4</td>\n    </tr>\n    <tr>\n      <th>8</th>\n      <td>Bankstown</td>\n      <td>2010-01-01 03:00:00</td>\n      <td>22.3</td>\n    </tr>\n    <tr>\n      <th>9</th>\n      <td>Bankstown</td>\n      <td>2010-01-01 03:30:00</td>\n      <td>22.3</td>\n    </tr>\n  </tbody>\n</table>\n</div>"
     },
     "execution_count": 103,
     "metadata": {},
     "output_type": "execute_result"
    }
   ],
   "source": [
    "nsw_temperature.head(10)"
   ],
   "metadata": {
    "collapsed": false,
    "ExecuteTime": {
     "end_time": "2024-03-28T00:29:20.842220Z",
     "start_time": "2024-03-28T00:29:20.837280Z"
    }
   },
   "id": "7576c21900c45ed3",
   "execution_count": 103
  },
  {
   "cell_type": "code",
   "outputs": [
    {
     "data": {
      "text/plain": "         LOCATION            DATETIME  TEMPERATURE\n220316  Bankstown 2021-03-17 21:00:00         19.2\n220317  Bankstown 2021-03-17 21:01:00         18.4\n220318  Bankstown 2021-03-17 21:30:00         19.7\n220319  Bankstown 2021-03-17 22:00:00         19.7\n220320  Bankstown 2021-03-17 22:30:00         19.5\n220321  Bankstown 2021-03-17 23:00:00         19.1\n220322  Bankstown 2021-03-17 23:20:00         19.0\n220323  Bankstown 2021-03-17 23:30:00         18.8\n220324  Bankstown 2021-03-17 23:34:00         18.8\n220325  Bankstown 2021-03-18 00:00:00         18.6",
      "text/html": "<div>\n<style scoped>\n    .dataframe tbody tr th:only-of-type {\n        vertical-align: middle;\n    }\n\n    .dataframe tbody tr th {\n        vertical-align: top;\n    }\n\n    .dataframe thead th {\n        text-align: right;\n    }\n</style>\n<table border=\"1\" class=\"dataframe\">\n  <thead>\n    <tr style=\"text-align: right;\">\n      <th></th>\n      <th>LOCATION</th>\n      <th>DATETIME</th>\n      <th>TEMPERATURE</th>\n    </tr>\n  </thead>\n  <tbody>\n    <tr>\n      <th>220316</th>\n      <td>Bankstown</td>\n      <td>2021-03-17 21:00:00</td>\n      <td>19.2</td>\n    </tr>\n    <tr>\n      <th>220317</th>\n      <td>Bankstown</td>\n      <td>2021-03-17 21:01:00</td>\n      <td>18.4</td>\n    </tr>\n    <tr>\n      <th>220318</th>\n      <td>Bankstown</td>\n      <td>2021-03-17 21:30:00</td>\n      <td>19.7</td>\n    </tr>\n    <tr>\n      <th>220319</th>\n      <td>Bankstown</td>\n      <td>2021-03-17 22:00:00</td>\n      <td>19.7</td>\n    </tr>\n    <tr>\n      <th>220320</th>\n      <td>Bankstown</td>\n      <td>2021-03-17 22:30:00</td>\n      <td>19.5</td>\n    </tr>\n    <tr>\n      <th>220321</th>\n      <td>Bankstown</td>\n      <td>2021-03-17 23:00:00</td>\n      <td>19.1</td>\n    </tr>\n    <tr>\n      <th>220322</th>\n      <td>Bankstown</td>\n      <td>2021-03-17 23:20:00</td>\n      <td>19.0</td>\n    </tr>\n    <tr>\n      <th>220323</th>\n      <td>Bankstown</td>\n      <td>2021-03-17 23:30:00</td>\n      <td>18.8</td>\n    </tr>\n    <tr>\n      <th>220324</th>\n      <td>Bankstown</td>\n      <td>2021-03-17 23:34:00</td>\n      <td>18.8</td>\n    </tr>\n    <tr>\n      <th>220325</th>\n      <td>Bankstown</td>\n      <td>2021-03-18 00:00:00</td>\n      <td>18.6</td>\n    </tr>\n  </tbody>\n</table>\n</div>"
     },
     "execution_count": 104,
     "metadata": {},
     "output_type": "execute_result"
    }
   ],
   "source": [
    "nsw_temperature.tail(10)"
   ],
   "metadata": {
    "collapsed": false,
    "ExecuteTime": {
     "end_time": "2024-03-28T00:29:20.855190Z",
     "start_time": "2024-03-28T00:29:20.842852Z"
    }
   },
   "id": "db7ae64dd3bb99ad",
   "execution_count": 104
  },
  {
   "cell_type": "code",
   "outputs": [
    {
     "name": "stdout",
     "output_type": "stream",
     "text": [
      "<class 'pandas.core.frame.DataFrame'>\n",
      "RangeIndex: 220326 entries, 0 to 220325\n",
      "Data columns (total 3 columns):\n",
      " #   Column       Non-Null Count   Dtype         \n",
      "---  ------       --------------   -----         \n",
      " 0   LOCATION     220326 non-null  object        \n",
      " 1   DATETIME     220326 non-null  datetime64[ns]\n",
      " 2   TEMPERATURE  220326 non-null  float64       \n",
      "dtypes: datetime64[ns](1), float64(1), object(1)\n",
      "memory usage: 5.0+ MB\n"
     ]
    }
   ],
   "source": [
    "nsw_temperature.info()"
   ],
   "metadata": {
    "collapsed": false,
    "ExecuteTime": {
     "end_time": "2024-03-28T00:29:20.874746Z",
     "start_time": "2024-03-28T00:29:20.855818Z"
    }
   },
   "id": "f3bf79281129fb56",
   "execution_count": 105
  },
  {
   "cell_type": "code",
   "outputs": [
    {
     "data": {
      "text/plain": "count    220326.000000\nmean         17.418827\nstd           5.849763\nmin          -1.300000\n25%          13.400000\n50%          17.700000\n75%          21.300000\nmax          44.700000\nName: TEMPERATURE, dtype: float64"
     },
     "execution_count": 106,
     "metadata": {},
     "output_type": "execute_result"
    }
   ],
   "source": [
    "nsw_temperature['TEMPERATURE'].describe()"
   ],
   "metadata": {
    "collapsed": false,
    "ExecuteTime": {
     "end_time": "2024-03-28T00:29:20.886474Z",
     "start_time": "2024-03-28T00:29:20.875434Z"
    }
   },
   "id": "354f6fedc12bc206",
   "execution_count": 106
  },
  {
   "cell_type": "code",
   "outputs": [
    {
     "data": {
      "text/plain": "(220326, 3)"
     },
     "execution_count": 107,
     "metadata": {},
     "output_type": "execute_result"
    }
   ],
   "source": [
    "nsw_temperature.shape"
   ],
   "metadata": {
    "collapsed": false,
    "ExecuteTime": {
     "end_time": "2024-03-28T00:29:20.890839Z",
     "start_time": "2024-03-28T00:29:20.887147Z"
    }
   },
   "id": "3ada1a9a636fa4d2",
   "execution_count": 107
  },
  {
   "cell_type": "code",
   "outputs": [
    {
     "data": {
      "text/plain": "LOCATION                 Bankstown\nDATETIME       2010-01-01 00:00:00\nTEMPERATURE                   -1.3\ndtype: object"
     },
     "execution_count": 108,
     "metadata": {},
     "output_type": "execute_result"
    }
   ],
   "source": [
    "nsw_temperature.min()"
   ],
   "metadata": {
    "collapsed": false,
    "ExecuteTime": {
     "end_time": "2024-03-28T00:29:20.907117Z",
     "start_time": "2024-03-28T00:29:20.891479Z"
    }
   },
   "id": "e9e151649e0d5d11",
   "execution_count": 108
  },
  {
   "cell_type": "code",
   "outputs": [
    {
     "data": {
      "text/plain": "LOCATION                 Bankstown\nDATETIME       2021-03-18 00:00:00\nTEMPERATURE                   44.7\ndtype: object"
     },
     "execution_count": 109,
     "metadata": {},
     "output_type": "execute_result"
    }
   ],
   "source": [
    "nsw_temperature.max()"
   ],
   "metadata": {
    "collapsed": false,
    "ExecuteTime": {
     "end_time": "2024-03-28T00:29:20.922439Z",
     "start_time": "2024-03-28T00:29:20.907653Z"
    }
   },
   "id": "5b62417f3ff514f",
   "execution_count": 109
  },
  {
   "cell_type": "code",
   "outputs": [
    {
     "data": {
      "text/plain": "LOCATION       0\nDATETIME       0\nTEMPERATURE    0\ndtype: int64"
     },
     "execution_count": 110,
     "metadata": {},
     "output_type": "execute_result"
    }
   ],
   "source": [
    "nsw_temperature.isnull().sum()"
   ],
   "metadata": {
    "collapsed": false,
    "ExecuteTime": {
     "end_time": "2024-03-28T00:29:20.931101Z",
     "start_time": "2024-03-28T00:29:20.922965Z"
    }
   },
   "id": "8be3f6070e9182d6",
   "execution_count": 110
  },
  {
   "cell_type": "code",
   "outputs": [
    {
     "data": {
      "text/plain": "LOCATION       0\nDATETIME       0\nTEMPERATURE    0\ndtype: int64"
     },
     "execution_count": 111,
     "metadata": {},
     "output_type": "execute_result"
    }
   ],
   "source": [
    "nsw_temperature.isna().sum()"
   ],
   "metadata": {
    "collapsed": false,
    "ExecuteTime": {
     "end_time": "2024-03-28T00:29:20.938496Z",
     "start_time": "2024-03-28T00:29:20.931572Z"
    }
   },
   "id": "c6cad7ed839ef51",
   "execution_count": 111
  },
  {
   "cell_type": "code",
   "outputs": [
    {
     "data": {
      "text/plain": "LOCATION            1\nDATETIME       220313\nTEMPERATURE       439\ndtype: int64"
     },
     "execution_count": 112,
     "metadata": {},
     "output_type": "execute_result"
    }
   ],
   "source": [
    "nsw_temperature.nunique()"
   ],
   "metadata": {
    "collapsed": false,
    "ExecuteTime": {
     "end_time": "2024-03-28T00:29:20.952560Z",
     "start_time": "2024-03-28T00:29:20.939025Z"
    }
   },
   "id": "5c0e6c3e16f2f338",
   "execution_count": 112
  },
  {
   "cell_type": "code",
   "outputs": [
    {
     "data": {
      "text/plain": "LOCATION               object\nDATETIME       datetime64[ns]\nTEMPERATURE           float64\ndtype: object"
     },
     "execution_count": 113,
     "metadata": {},
     "output_type": "execute_result"
    }
   ],
   "source": [
    "nsw_temperature.dtypes"
   ],
   "metadata": {
    "collapsed": false,
    "ExecuteTime": {
     "end_time": "2024-03-28T00:29:20.955671Z",
     "start_time": "2024-03-28T00:29:20.953160Z"
    }
   },
   "id": "370b68fae58fb6bb",
   "execution_count": 113
  },
  {
   "cell_type": "markdown",
   "source": [
    "## NSW Total Demand"
   ],
   "metadata": {
    "collapsed": false
   },
   "id": "f2b679e6da2a678e"
  },
  {
   "cell_type": "code",
   "outputs": [],
   "source": [
    "nsw_totaldemand = pd.read_csv(\n",
    "    os.path.join(CFG.data_path, 'NSW', 'totaldemand_nsw.csv'), \n",
    "    parse_dates=['DATETIME'], \n",
    "    dayfirst=True\n",
    ")"
   ],
   "metadata": {
    "collapsed": false,
    "ExecuteTime": {
     "end_time": "2024-03-28T00:29:21.312743Z",
     "start_time": "2024-03-28T00:29:20.956128Z"
    }
   },
   "id": "8558a6cdf94fb75e",
   "execution_count": 114
  },
  {
   "cell_type": "code",
   "outputs": [
    {
     "data": {
      "text/plain": "             DATETIME  TOTALDEMAND REGIONID\n0 2010-01-01 00:00:00      8038.00     NSW1\n1 2010-01-01 00:30:00      7809.31     NSW1\n2 2010-01-01 01:00:00      7483.69     NSW1\n3 2010-01-01 01:30:00      7117.23     NSW1\n4 2010-01-01 02:00:00      6812.03     NSW1",
      "text/html": "<div>\n<style scoped>\n    .dataframe tbody tr th:only-of-type {\n        vertical-align: middle;\n    }\n\n    .dataframe tbody tr th {\n        vertical-align: top;\n    }\n\n    .dataframe thead th {\n        text-align: right;\n    }\n</style>\n<table border=\"1\" class=\"dataframe\">\n  <thead>\n    <tr style=\"text-align: right;\">\n      <th></th>\n      <th>DATETIME</th>\n      <th>TOTALDEMAND</th>\n      <th>REGIONID</th>\n    </tr>\n  </thead>\n  <tbody>\n    <tr>\n      <th>0</th>\n      <td>2010-01-01 00:00:00</td>\n      <td>8038.00</td>\n      <td>NSW1</td>\n    </tr>\n    <tr>\n      <th>1</th>\n      <td>2010-01-01 00:30:00</td>\n      <td>7809.31</td>\n      <td>NSW1</td>\n    </tr>\n    <tr>\n      <th>2</th>\n      <td>2010-01-01 01:00:00</td>\n      <td>7483.69</td>\n      <td>NSW1</td>\n    </tr>\n    <tr>\n      <th>3</th>\n      <td>2010-01-01 01:30:00</td>\n      <td>7117.23</td>\n      <td>NSW1</td>\n    </tr>\n    <tr>\n      <th>4</th>\n      <td>2010-01-01 02:00:00</td>\n      <td>6812.03</td>\n      <td>NSW1</td>\n    </tr>\n  </tbody>\n</table>\n</div>"
     },
     "execution_count": 115,
     "metadata": {},
     "output_type": "execute_result"
    }
   ],
   "source": [
    "nsw_totaldemand.head()"
   ],
   "metadata": {
    "collapsed": false,
    "ExecuteTime": {
     "end_time": "2024-03-28T00:29:21.317022Z",
     "start_time": "2024-03-28T00:29:21.313362Z"
    }
   },
   "id": "f4e72c07eb99b07b",
   "execution_count": 115
  },
  {
   "cell_type": "code",
   "outputs": [
    {
     "data": {
      "text/plain": "                  DATETIME  TOTALDEMAND REGIONID\n196508 2021-03-17 22:00:00      7419.77     NSW1\n196509 2021-03-17 22:30:00      7417.91     NSW1\n196510 2021-03-17 23:00:00      7287.32     NSW1\n196511 2021-03-17 23:30:00      7172.39     NSW1\n196512 2021-03-18 00:00:00      7094.51     NSW1",
      "text/html": "<div>\n<style scoped>\n    .dataframe tbody tr th:only-of-type {\n        vertical-align: middle;\n    }\n\n    .dataframe tbody tr th {\n        vertical-align: top;\n    }\n\n    .dataframe thead th {\n        text-align: right;\n    }\n</style>\n<table border=\"1\" class=\"dataframe\">\n  <thead>\n    <tr style=\"text-align: right;\">\n      <th></th>\n      <th>DATETIME</th>\n      <th>TOTALDEMAND</th>\n      <th>REGIONID</th>\n    </tr>\n  </thead>\n  <tbody>\n    <tr>\n      <th>196508</th>\n      <td>2021-03-17 22:00:00</td>\n      <td>7419.77</td>\n      <td>NSW1</td>\n    </tr>\n    <tr>\n      <th>196509</th>\n      <td>2021-03-17 22:30:00</td>\n      <td>7417.91</td>\n      <td>NSW1</td>\n    </tr>\n    <tr>\n      <th>196510</th>\n      <td>2021-03-17 23:00:00</td>\n      <td>7287.32</td>\n      <td>NSW1</td>\n    </tr>\n    <tr>\n      <th>196511</th>\n      <td>2021-03-17 23:30:00</td>\n      <td>7172.39</td>\n      <td>NSW1</td>\n    </tr>\n    <tr>\n      <th>196512</th>\n      <td>2021-03-18 00:00:00</td>\n      <td>7094.51</td>\n      <td>NSW1</td>\n    </tr>\n  </tbody>\n</table>\n</div>"
     },
     "execution_count": 116,
     "metadata": {},
     "output_type": "execute_result"
    }
   ],
   "source": [
    "nsw_totaldemand.tail()"
   ],
   "metadata": {
    "collapsed": false,
    "ExecuteTime": {
     "end_time": "2024-03-28T00:29:21.328487Z",
     "start_time": "2024-03-28T00:29:21.317532Z"
    }
   },
   "id": "e2d3468d5061cf41",
   "execution_count": 116
  },
  {
   "cell_type": "code",
   "outputs": [
    {
     "name": "stdout",
     "output_type": "stream",
     "text": [
      "<class 'pandas.core.frame.DataFrame'>\n",
      "RangeIndex: 196513 entries, 0 to 196512\n",
      "Data columns (total 3 columns):\n",
      " #   Column       Non-Null Count   Dtype         \n",
      "---  ------       --------------   -----         \n",
      " 0   DATETIME     196513 non-null  datetime64[ns]\n",
      " 1   TOTALDEMAND  196513 non-null  float64       \n",
      " 2   REGIONID     196513 non-null  object        \n",
      "dtypes: datetime64[ns](1), float64(1), object(1)\n",
      "memory usage: 4.5+ MB\n"
     ]
    }
   ],
   "source": [
    "nsw_totaldemand.info()"
   ],
   "metadata": {
    "collapsed": false,
    "ExecuteTime": {
     "end_time": "2024-03-28T00:29:21.343960Z",
     "start_time": "2024-03-28T00:29:21.330365Z"
    }
   },
   "id": "681e4062d87c3776",
   "execution_count": 117
  },
  {
   "cell_type": "code",
   "outputs": [
    {
     "data": {
      "text/plain": "count    196513.000000\nmean       8113.145859\nstd        1299.532774\nmin        5074.630000\n25%        7150.070000\n50%        8053.230000\n75%        8958.550000\nmax       14579.860000\nName: TOTALDEMAND, dtype: float64"
     },
     "execution_count": 118,
     "metadata": {},
     "output_type": "execute_result"
    }
   ],
   "source": [
    "nsw_totaldemand['TOTALDEMAND'].describe()"
   ],
   "metadata": {
    "collapsed": false,
    "ExecuteTime": {
     "end_time": "2024-03-28T00:29:21.352057Z",
     "start_time": "2024-03-28T00:29:21.344458Z"
    }
   },
   "id": "e55c534c0b180b3d",
   "execution_count": 118
  },
  {
   "cell_type": "code",
   "outputs": [
    {
     "data": {
      "text/plain": "(196513, 3)"
     },
     "execution_count": 119,
     "metadata": {},
     "output_type": "execute_result"
    }
   ],
   "source": [
    "nsw_totaldemand.shape"
   ],
   "metadata": {
    "collapsed": false,
    "ExecuteTime": {
     "end_time": "2024-03-28T00:29:21.356960Z",
     "start_time": "2024-03-28T00:29:21.352518Z"
    }
   },
   "id": "fc750c3c10fa1728",
   "execution_count": 119
  },
  {
   "cell_type": "code",
   "outputs": [
    {
     "data": {
      "text/plain": "DATETIME       2010-01-01 00:00:00\nTOTALDEMAND                5074.63\nREGIONID                      NSW1\ndtype: object"
     },
     "execution_count": 120,
     "metadata": {},
     "output_type": "execute_result"
    }
   ],
   "source": [
    "nsw_totaldemand.min()"
   ],
   "metadata": {
    "collapsed": false,
    "ExecuteTime": {
     "end_time": "2024-03-28T00:29:21.373377Z",
     "start_time": "2024-03-28T00:29:21.357375Z"
    }
   },
   "id": "71f63695bf4e1b8f",
   "execution_count": 120
  },
  {
   "cell_type": "code",
   "outputs": [
    {
     "data": {
      "text/plain": "DATETIME       2021-03-18 00:00:00\nTOTALDEMAND               14579.86\nREGIONID                      NSW1\ndtype: object"
     },
     "execution_count": 121,
     "metadata": {},
     "output_type": "execute_result"
    }
   ],
   "source": [
    "nsw_totaldemand.max()"
   ],
   "metadata": {
    "collapsed": false,
    "ExecuteTime": {
     "end_time": "2024-03-28T00:29:21.382110Z",
     "start_time": "2024-03-28T00:29:21.373872Z"
    }
   },
   "id": "d9cfce3032926002",
   "execution_count": 121
  },
  {
   "cell_type": "code",
   "outputs": [
    {
     "data": {
      "text/plain": "DATETIME       0\nTOTALDEMAND    0\nREGIONID       0\ndtype: int64"
     },
     "execution_count": 122,
     "metadata": {},
     "output_type": "execute_result"
    }
   ],
   "source": [
    "nsw_totaldemand.isnull().sum()"
   ],
   "metadata": {
    "collapsed": false,
    "ExecuteTime": {
     "end_time": "2024-03-28T00:29:21.389581Z",
     "start_time": "2024-03-28T00:29:21.382582Z"
    }
   },
   "id": "b23744a8dc6b5376",
   "execution_count": 122
  },
  {
   "cell_type": "code",
   "outputs": [
    {
     "data": {
      "text/plain": "DATETIME       0\nTOTALDEMAND    0\nREGIONID       0\ndtype: int64"
     },
     "execution_count": 123,
     "metadata": {},
     "output_type": "execute_result"
    }
   ],
   "source": [
    "nsw_totaldemand.isna().sum()"
   ],
   "metadata": {
    "collapsed": false,
    "ExecuteTime": {
     "end_time": "2024-03-28T00:29:21.400033Z",
     "start_time": "2024-03-28T00:29:21.390074Z"
    }
   },
   "id": "ffa4adc5a6c74292",
   "execution_count": 123
  },
  {
   "cell_type": "code",
   "outputs": [
    {
     "data": {
      "text/plain": "DATETIME       196513\nTOTALDEMAND    160515\nREGIONID            1\ndtype: int64"
     },
     "execution_count": 124,
     "metadata": {},
     "output_type": "execute_result"
    }
   ],
   "source": [
    "nsw_totaldemand.nunique()"
   ],
   "metadata": {
    "collapsed": false,
    "ExecuteTime": {
     "end_time": "2024-03-28T00:29:21.415986Z",
     "start_time": "2024-03-28T00:29:21.400642Z"
    }
   },
   "id": "3a4e45db53d1f985",
   "execution_count": 124
  },
  {
   "cell_type": "code",
   "outputs": [
    {
     "data": {
      "text/plain": "DATETIME       datetime64[ns]\nTOTALDEMAND           float64\nREGIONID               object\ndtype: object"
     },
     "execution_count": 125,
     "metadata": {},
     "output_type": "execute_result"
    }
   ],
   "source": [
    "nsw_totaldemand.dtypes"
   ],
   "metadata": {
    "collapsed": false,
    "ExecuteTime": {
     "end_time": "2024-03-28T00:29:21.419101Z",
     "start_time": "2024-03-28T00:29:21.416595Z"
    }
   },
   "id": "674217cbe3f28c3",
   "execution_count": 125
  },
  {
   "cell_type": "markdown",
   "source": [
    "## merge step 1"
   ],
   "metadata": {
    "collapsed": false
   },
   "id": "13120e134b3dcf60"
  },
  {
   "cell_type": "code",
   "outputs": [
    {
     "data": {
      "text/plain": "    DATETIME  TOTALDEMAND REGIONID  PREDISPATCHSEQNO  PERIODID  \\\n0 2010-01-01       8038.0     NSW1        2009123018        71   \n1 2010-01-01       8038.0     NSW1        2009123019        70   \n2 2010-01-01       8038.0     NSW1        2009123020        69   \n3 2010-01-01       8038.0     NSW1        2009123021        68   \n4 2010-01-01       8038.0     NSW1        2009123022        67   \n\n   FORECASTDEMAND         LASTCHANGED  \n0         7832.04 2009-12-30 12:31:49  \n1         7832.04 2009-12-30 13:01:43  \n2         7832.03 2009-12-30 13:31:36  \n3         7832.03 2009-12-30 14:01:44  \n4         7830.96 2009-12-30 14:31:35  ",
      "text/html": "<div>\n<style scoped>\n    .dataframe tbody tr th:only-of-type {\n        vertical-align: middle;\n    }\n\n    .dataframe tbody tr th {\n        vertical-align: top;\n    }\n\n    .dataframe thead th {\n        text-align: right;\n    }\n</style>\n<table border=\"1\" class=\"dataframe\">\n  <thead>\n    <tr style=\"text-align: right;\">\n      <th></th>\n      <th>DATETIME</th>\n      <th>TOTALDEMAND</th>\n      <th>REGIONID</th>\n      <th>PREDISPATCHSEQNO</th>\n      <th>PERIODID</th>\n      <th>FORECASTDEMAND</th>\n      <th>LASTCHANGED</th>\n    </tr>\n  </thead>\n  <tbody>\n    <tr>\n      <th>0</th>\n      <td>2010-01-01</td>\n      <td>8038.0</td>\n      <td>NSW1</td>\n      <td>2009123018</td>\n      <td>71</td>\n      <td>7832.04</td>\n      <td>2009-12-30 12:31:49</td>\n    </tr>\n    <tr>\n      <th>1</th>\n      <td>2010-01-01</td>\n      <td>8038.0</td>\n      <td>NSW1</td>\n      <td>2009123019</td>\n      <td>70</td>\n      <td>7832.04</td>\n      <td>2009-12-30 13:01:43</td>\n    </tr>\n    <tr>\n      <th>2</th>\n      <td>2010-01-01</td>\n      <td>8038.0</td>\n      <td>NSW1</td>\n      <td>2009123020</td>\n      <td>69</td>\n      <td>7832.03</td>\n      <td>2009-12-30 13:31:36</td>\n    </tr>\n    <tr>\n      <th>3</th>\n      <td>2010-01-01</td>\n      <td>8038.0</td>\n      <td>NSW1</td>\n      <td>2009123021</td>\n      <td>68</td>\n      <td>7832.03</td>\n      <td>2009-12-30 14:01:44</td>\n    </tr>\n    <tr>\n      <th>4</th>\n      <td>2010-01-01</td>\n      <td>8038.0</td>\n      <td>NSW1</td>\n      <td>2009123022</td>\n      <td>67</td>\n      <td>7830.96</td>\n      <td>2009-12-30 14:31:35</td>\n    </tr>\n  </tbody>\n</table>\n</div>"
     },
     "execution_count": 126,
     "metadata": {},
     "output_type": "execute_result"
    }
   ],
   "source": [
    "merged_df = pd.merge(\n",
    "    nsw_totaldemand[['DATETIME', 'TOTALDEMAND', 'REGIONID']], \n",
    "    nsw_forecastdemand[['PREDISPATCHSEQNO', 'REGIONID', 'PERIODID', 'FORECASTDEMAND', 'LASTCHANGED', 'DATETIME']], \n",
    "    on=['DATETIME', 'REGIONID'], \n",
    "    how='outer'\n",
    ")\n",
    "merged_df.head()"
   ],
   "metadata": {
    "collapsed": false,
    "ExecuteTime": {
     "end_time": "2024-03-28T00:29:22.623417Z",
     "start_time": "2024-03-28T00:29:21.419574Z"
    }
   },
   "id": "cd3bac8adc87bb3",
   "execution_count": 126
  },
  {
   "cell_type": "code",
   "outputs": [
    {
     "data": {
      "text/plain": "DATETIME            0\nTOTALDEMAND         0\nREGIONID            0\nPREDISPATCHSEQNO    0\nPERIODID            0\nFORECASTDEMAND      0\nLASTCHANGED         0\ndtype: int64"
     },
     "execution_count": 127,
     "metadata": {},
     "output_type": "execute_result"
    }
   ],
   "source": [
    "merged_df.isnull().sum()"
   ],
   "metadata": {
    "collapsed": false,
    "ExecuteTime": {
     "end_time": "2024-03-28T00:29:22.867454Z",
     "start_time": "2024-03-28T00:29:22.624049Z"
    }
   },
   "id": "65911525b9843734",
   "execution_count": 127
  },
  {
   "cell_type": "markdown",
   "source": [
    "## merge step 2"
   ],
   "metadata": {
    "collapsed": false
   },
   "id": "3e369850c7ee846d"
  },
  {
   "cell_type": "code",
   "outputs": [],
   "source": [
    "nsw_df = pd.merge(\n",
    "    merged_df, \n",
    "    nsw_temperature[['LOCATION', 'DATETIME', 'TEMPERATURE']], \n",
    "    on='DATETIME', \n",
    "    how='inner'\n",
    ")  # fix_me: the sampling rate instead of using inner join, which drops about 26k rows. groupby, fill using mean? or dropna to keep to the 30 min interval?"
   ],
   "metadata": {
    "collapsed": false,
    "ExecuteTime": {
     "end_time": "2024-03-28T00:29:23.814641Z",
     "start_time": "2024-03-28T00:29:22.868064Z"
    }
   },
   "id": "2ef33897bd4f7abd",
   "execution_count": 128
  },
  {
   "cell_type": "markdown",
   "source": [
    "## Quick Check of merged df"
   ],
   "metadata": {
    "collapsed": false
   },
   "id": "bc255725133f7ba1"
  },
  {
   "cell_type": "code",
   "outputs": [
    {
     "data": {
      "text/plain": "DATETIME            0\nTOTALDEMAND         0\nREGIONID            0\nPREDISPATCHSEQNO    0\nPERIODID            0\nFORECASTDEMAND      0\nLASTCHANGED         0\nLOCATION            0\nTEMPERATURE         0\ndtype: int64"
     },
     "execution_count": 129,
     "metadata": {},
     "output_type": "execute_result"
    }
   ],
   "source": [
    "nsw_df.isnull().sum()"
   ],
   "metadata": {
    "collapsed": false,
    "ExecuteTime": {
     "end_time": "2024-03-28T00:29:24.276627Z",
     "start_time": "2024-03-28T00:29:23.815327Z"
    }
   },
   "id": "5d0a65676517143",
   "execution_count": 129
  },
  {
   "cell_type": "code",
   "outputs": [
    {
     "data": {
      "text/plain": "    DATETIME  TOTALDEMAND REGIONID  PREDISPATCHSEQNO  PERIODID  \\\n0 2010-01-01       8038.0     NSW1        2009123018        71   \n1 2010-01-01       8038.0     NSW1        2009123019        70   \n2 2010-01-01       8038.0     NSW1        2009123020        69   \n3 2010-01-01       8038.0     NSW1        2009123021        68   \n4 2010-01-01       8038.0     NSW1        2009123022        67   \n\n   FORECASTDEMAND         LASTCHANGED   LOCATION  TEMPERATURE  \n0         7832.04 2009-12-30 12:31:49  Bankstown         23.1  \n1         7832.04 2009-12-30 13:01:43  Bankstown         23.1  \n2         7832.03 2009-12-30 13:31:36  Bankstown         23.1  \n3         7832.03 2009-12-30 14:01:44  Bankstown         23.1  \n4         7830.96 2009-12-30 14:31:35  Bankstown         23.1  ",
      "text/html": "<div>\n<style scoped>\n    .dataframe tbody tr th:only-of-type {\n        vertical-align: middle;\n    }\n\n    .dataframe tbody tr th {\n        vertical-align: top;\n    }\n\n    .dataframe thead th {\n        text-align: right;\n    }\n</style>\n<table border=\"1\" class=\"dataframe\">\n  <thead>\n    <tr style=\"text-align: right;\">\n      <th></th>\n      <th>DATETIME</th>\n      <th>TOTALDEMAND</th>\n      <th>REGIONID</th>\n      <th>PREDISPATCHSEQNO</th>\n      <th>PERIODID</th>\n      <th>FORECASTDEMAND</th>\n      <th>LASTCHANGED</th>\n      <th>LOCATION</th>\n      <th>TEMPERATURE</th>\n    </tr>\n  </thead>\n  <tbody>\n    <tr>\n      <th>0</th>\n      <td>2010-01-01</td>\n      <td>8038.0</td>\n      <td>NSW1</td>\n      <td>2009123018</td>\n      <td>71</td>\n      <td>7832.04</td>\n      <td>2009-12-30 12:31:49</td>\n      <td>Bankstown</td>\n      <td>23.1</td>\n    </tr>\n    <tr>\n      <th>1</th>\n      <td>2010-01-01</td>\n      <td>8038.0</td>\n      <td>NSW1</td>\n      <td>2009123019</td>\n      <td>70</td>\n      <td>7832.04</td>\n      <td>2009-12-30 13:01:43</td>\n      <td>Bankstown</td>\n      <td>23.1</td>\n    </tr>\n    <tr>\n      <th>2</th>\n      <td>2010-01-01</td>\n      <td>8038.0</td>\n      <td>NSW1</td>\n      <td>2009123020</td>\n      <td>69</td>\n      <td>7832.03</td>\n      <td>2009-12-30 13:31:36</td>\n      <td>Bankstown</td>\n      <td>23.1</td>\n    </tr>\n    <tr>\n      <th>3</th>\n      <td>2010-01-01</td>\n      <td>8038.0</td>\n      <td>NSW1</td>\n      <td>2009123021</td>\n      <td>68</td>\n      <td>7832.03</td>\n      <td>2009-12-30 14:01:44</td>\n      <td>Bankstown</td>\n      <td>23.1</td>\n    </tr>\n    <tr>\n      <th>4</th>\n      <td>2010-01-01</td>\n      <td>8038.0</td>\n      <td>NSW1</td>\n      <td>2009123022</td>\n      <td>67</td>\n      <td>7830.96</td>\n      <td>2009-12-30 14:31:35</td>\n      <td>Bankstown</td>\n      <td>23.1</td>\n    </tr>\n  </tbody>\n</table>\n</div>"
     },
     "execution_count": 130,
     "metadata": {},
     "output_type": "execute_result"
    }
   ],
   "source": [
    "nsw_df.head(5)"
   ],
   "metadata": {
    "collapsed": false,
    "ExecuteTime": {
     "end_time": "2024-03-28T00:29:24.282214Z",
     "start_time": "2024-03-28T00:29:24.277230Z"
    }
   },
   "id": "254dfa406648c149",
   "execution_count": 130
  },
  {
   "cell_type": "code",
   "outputs": [
    {
     "data": {
      "text/plain": "           DATETIME  TOTALDEMAND REGIONID  PREDISPATCHSEQNO  PERIODID  \\\n10875931 2021-03-18      7094.51     NSW1        2021031736         5   \n10875932 2021-03-18      7094.51     NSW1        2021031737         4   \n10875933 2021-03-18      7094.51     NSW1        2021031738         3   \n10875934 2021-03-18      7094.51     NSW1        2021031739         2   \n10875935 2021-03-18      7094.51     NSW1        2021031740         1   \n\n          FORECASTDEMAND         LASTCHANGED   LOCATION  TEMPERATURE  \n10875931         7028.45 2021-03-17 21:31:31  Bankstown         18.6  \n10875932         7041.65 2021-03-17 22:01:34  Bankstown         18.6  \n10875933         7087.60 2021-03-17 22:31:36  Bankstown         18.6  \n10875934         7087.28 2021-03-17 23:01:36  Bankstown         18.6  \n10875935         7126.37 2021-03-17 23:31:33  Bankstown         18.6  ",
      "text/html": "<div>\n<style scoped>\n    .dataframe tbody tr th:only-of-type {\n        vertical-align: middle;\n    }\n\n    .dataframe tbody tr th {\n        vertical-align: top;\n    }\n\n    .dataframe thead th {\n        text-align: right;\n    }\n</style>\n<table border=\"1\" class=\"dataframe\">\n  <thead>\n    <tr style=\"text-align: right;\">\n      <th></th>\n      <th>DATETIME</th>\n      <th>TOTALDEMAND</th>\n      <th>REGIONID</th>\n      <th>PREDISPATCHSEQNO</th>\n      <th>PERIODID</th>\n      <th>FORECASTDEMAND</th>\n      <th>LASTCHANGED</th>\n      <th>LOCATION</th>\n      <th>TEMPERATURE</th>\n    </tr>\n  </thead>\n  <tbody>\n    <tr>\n      <th>10875931</th>\n      <td>2021-03-18</td>\n      <td>7094.51</td>\n      <td>NSW1</td>\n      <td>2021031736</td>\n      <td>5</td>\n      <td>7028.45</td>\n      <td>2021-03-17 21:31:31</td>\n      <td>Bankstown</td>\n      <td>18.6</td>\n    </tr>\n    <tr>\n      <th>10875932</th>\n      <td>2021-03-18</td>\n      <td>7094.51</td>\n      <td>NSW1</td>\n      <td>2021031737</td>\n      <td>4</td>\n      <td>7041.65</td>\n      <td>2021-03-17 22:01:34</td>\n      <td>Bankstown</td>\n      <td>18.6</td>\n    </tr>\n    <tr>\n      <th>10875933</th>\n      <td>2021-03-18</td>\n      <td>7094.51</td>\n      <td>NSW1</td>\n      <td>2021031738</td>\n      <td>3</td>\n      <td>7087.60</td>\n      <td>2021-03-17 22:31:36</td>\n      <td>Bankstown</td>\n      <td>18.6</td>\n    </tr>\n    <tr>\n      <th>10875934</th>\n      <td>2021-03-18</td>\n      <td>7094.51</td>\n      <td>NSW1</td>\n      <td>2021031739</td>\n      <td>2</td>\n      <td>7087.28</td>\n      <td>2021-03-17 23:01:36</td>\n      <td>Bankstown</td>\n      <td>18.6</td>\n    </tr>\n    <tr>\n      <th>10875935</th>\n      <td>2021-03-18</td>\n      <td>7094.51</td>\n      <td>NSW1</td>\n      <td>2021031740</td>\n      <td>1</td>\n      <td>7126.37</td>\n      <td>2021-03-17 23:31:33</td>\n      <td>Bankstown</td>\n      <td>18.6</td>\n    </tr>\n  </tbody>\n</table>\n</div>"
     },
     "execution_count": 131,
     "metadata": {},
     "output_type": "execute_result"
    }
   ],
   "source": [
    "nsw_df.tail(5)"
   ],
   "metadata": {
    "collapsed": false,
    "ExecuteTime": {
     "end_time": "2024-03-28T00:29:24.289441Z",
     "start_time": "2024-03-28T00:29:24.282705Z"
    }
   },
   "id": "a2097071873c83f6",
   "execution_count": 131
  },
  {
   "cell_type": "code",
   "outputs": [
    {
     "data": {
      "text/plain": "(10875936, 9)"
     },
     "execution_count": 132,
     "metadata": {},
     "output_type": "execute_result"
    }
   ],
   "source": [
    "nsw_df.shape"
   ],
   "metadata": {
    "collapsed": false,
    "ExecuteTime": {
     "end_time": "2024-03-28T00:29:24.304924Z",
     "start_time": "2024-03-28T00:29:24.289888Z"
    }
   },
   "id": "faa275c9985c65fc",
   "execution_count": 132
  },
  {
   "cell_type": "code",
   "outputs": [
    {
     "name": "stdout",
     "output_type": "stream",
     "text": [
      "<class 'pandas.core.frame.DataFrame'>\n",
      "RangeIndex: 10875936 entries, 0 to 10875935\n",
      "Data columns (total 9 columns):\n",
      " #   Column            Dtype         \n",
      "---  ------            -----         \n",
      " 0   DATETIME          datetime64[ns]\n",
      " 1   TOTALDEMAND       float64       \n",
      " 2   REGIONID          object        \n",
      " 3   PREDISPATCHSEQNO  int64         \n",
      " 4   PERIODID          int64         \n",
      " 5   FORECASTDEMAND    float64       \n",
      " 6   LASTCHANGED       datetime64[ns]\n",
      " 7   LOCATION          object        \n",
      " 8   TEMPERATURE       float64       \n",
      "dtypes: datetime64[ns](2), float64(3), int64(2), object(2)\n",
      "memory usage: 746.8+ MB\n"
     ]
    }
   ],
   "source": [
    "nsw_df.info()"
   ],
   "metadata": {
    "collapsed": false,
    "ExecuteTime": {
     "end_time": "2024-03-28T00:29:24.310089Z",
     "start_time": "2024-03-28T00:29:24.305345Z"
    }
   },
   "id": "204ef2766a3fda54",
   "execution_count": 133
  },
  {
   "cell_type": "code",
   "outputs": [],
   "source": [
    "# nsw_df.min()"
   ],
   "metadata": {
    "collapsed": false,
    "ExecuteTime": {
     "end_time": "2024-03-28T00:29:24.313228Z",
     "start_time": "2024-03-28T00:29:24.310530Z"
    }
   },
   "id": "cf9c317892348ec1",
   "execution_count": 134
  },
  {
   "cell_type": "code",
   "outputs": [],
   "source": [
    "# nsw_df.max()"
   ],
   "metadata": {
    "collapsed": false,
    "ExecuteTime": {
     "end_time": "2024-03-28T00:29:24.316362Z",
     "start_time": "2024-03-28T00:29:24.313645Z"
    }
   },
   "id": "2ad22828ca350ad7",
   "execution_count": 135
  },
  {
   "cell_type": "code",
   "outputs": [
    {
     "data": {
      "text/plain": "                            DATETIME   TOTALDEMAND  PREDISPATCHSEQNO  \\\ncount                       10875936  1.087594e+07      1.087594e+07   \nmean   2015-08-12 04:46:37.677055488  8.068822e+03      2.015182e+09   \nmin              2010-01-01 00:00:00  5.074630e+03      2.009123e+09   \n25%              2012-10-23 20:00:00  7.096550e+03      2.012102e+09   \n50%              2015-08-10 12:30:00  8.000520e+03      2.015081e+09   \n75%              2018-06-01 06:30:00  8.913610e+03      2.018053e+09   \nmax              2021-03-18 00:00:00  1.457986e+04      2.021032e+09   \nstd                              NaN  1.308772e+03      3.233143e+06   \n\n           PERIODID  FORECASTDEMAND                    LASTCHANGED  \\\ncount  1.087594e+07    1.087594e+07                       10875936   \nmean   2.998090e+01    8.065356e+03  2015-08-11 13:48:30.096613888   \nmin    1.000000e+00    4.422460e+03            2009-12-30 12:31:49   \n25%    1.400000e+01    7.077090e+03            2012-10-23 03:31:23   \n50%    2.800000e+01    8.006240e+03            2015-08-09 20:01:29   \n75%    4.400000e+01    8.923600e+03            2018-05-31 16:31:25   \nmax    7.900000e+01    1.473666e+04            2021-03-17 23:31:33   \nstd    1.869701e+01    1.315479e+03                            NaN   \n\n        TEMPERATURE  \ncount  1.087594e+07  \nmean   1.734190e+01  \nmin   -1.300000e+00  \n25%    1.330000e+01  \n50%    1.770000e+01  \n75%    2.130000e+01  \nmax    4.470000e+01  \nstd    5.819157e+00  ",
      "text/html": "<div>\n<style scoped>\n    .dataframe tbody tr th:only-of-type {\n        vertical-align: middle;\n    }\n\n    .dataframe tbody tr th {\n        vertical-align: top;\n    }\n\n    .dataframe thead th {\n        text-align: right;\n    }\n</style>\n<table border=\"1\" class=\"dataframe\">\n  <thead>\n    <tr style=\"text-align: right;\">\n      <th></th>\n      <th>DATETIME</th>\n      <th>TOTALDEMAND</th>\n      <th>PREDISPATCHSEQNO</th>\n      <th>PERIODID</th>\n      <th>FORECASTDEMAND</th>\n      <th>LASTCHANGED</th>\n      <th>TEMPERATURE</th>\n    </tr>\n  </thead>\n  <tbody>\n    <tr>\n      <th>count</th>\n      <td>10875936</td>\n      <td>1.087594e+07</td>\n      <td>1.087594e+07</td>\n      <td>1.087594e+07</td>\n      <td>1.087594e+07</td>\n      <td>10875936</td>\n      <td>1.087594e+07</td>\n    </tr>\n    <tr>\n      <th>mean</th>\n      <td>2015-08-12 04:46:37.677055488</td>\n      <td>8.068822e+03</td>\n      <td>2.015182e+09</td>\n      <td>2.998090e+01</td>\n      <td>8.065356e+03</td>\n      <td>2015-08-11 13:48:30.096613888</td>\n      <td>1.734190e+01</td>\n    </tr>\n    <tr>\n      <th>min</th>\n      <td>2010-01-01 00:00:00</td>\n      <td>5.074630e+03</td>\n      <td>2.009123e+09</td>\n      <td>1.000000e+00</td>\n      <td>4.422460e+03</td>\n      <td>2009-12-30 12:31:49</td>\n      <td>-1.300000e+00</td>\n    </tr>\n    <tr>\n      <th>25%</th>\n      <td>2012-10-23 20:00:00</td>\n      <td>7.096550e+03</td>\n      <td>2.012102e+09</td>\n      <td>1.400000e+01</td>\n      <td>7.077090e+03</td>\n      <td>2012-10-23 03:31:23</td>\n      <td>1.330000e+01</td>\n    </tr>\n    <tr>\n      <th>50%</th>\n      <td>2015-08-10 12:30:00</td>\n      <td>8.000520e+03</td>\n      <td>2.015081e+09</td>\n      <td>2.800000e+01</td>\n      <td>8.006240e+03</td>\n      <td>2015-08-09 20:01:29</td>\n      <td>1.770000e+01</td>\n    </tr>\n    <tr>\n      <th>75%</th>\n      <td>2018-06-01 06:30:00</td>\n      <td>8.913610e+03</td>\n      <td>2.018053e+09</td>\n      <td>4.400000e+01</td>\n      <td>8.923600e+03</td>\n      <td>2018-05-31 16:31:25</td>\n      <td>2.130000e+01</td>\n    </tr>\n    <tr>\n      <th>max</th>\n      <td>2021-03-18 00:00:00</td>\n      <td>1.457986e+04</td>\n      <td>2.021032e+09</td>\n      <td>7.900000e+01</td>\n      <td>1.473666e+04</td>\n      <td>2021-03-17 23:31:33</td>\n      <td>4.470000e+01</td>\n    </tr>\n    <tr>\n      <th>std</th>\n      <td>NaN</td>\n      <td>1.308772e+03</td>\n      <td>3.233143e+06</td>\n      <td>1.869701e+01</td>\n      <td>1.315479e+03</td>\n      <td>NaN</td>\n      <td>5.819157e+00</td>\n    </tr>\n  </tbody>\n</table>\n</div>"
     },
     "execution_count": 136,
     "metadata": {},
     "output_type": "execute_result"
    }
   ],
   "source": [
    "nsw_df.describe()"
   ],
   "metadata": {
    "collapsed": false,
    "ExecuteTime": {
     "end_time": "2024-03-28T00:29:25.539925Z",
     "start_time": "2024-03-28T00:29:24.316779Z"
    }
   },
   "id": "2220229aa54148ca",
   "execution_count": 136
  },
  {
   "cell_type": "code",
   "outputs": [
    {
     "data": {
      "text/plain": "DATETIME            195934\nTOTALDEMAND         160133\nREGIONID                 1\nPREDISPATCHSEQNO    196435\nPERIODID                79\nFORECASTDEMAND      681046\nLASTCHANGED         196435\nLOCATION                 1\nTEMPERATURE            438\ndtype: int64"
     },
     "execution_count": 137,
     "metadata": {},
     "output_type": "execute_result"
    }
   ],
   "source": [
    "nsw_df.nunique()"
   ],
   "metadata": {
    "collapsed": false,
    "ExecuteTime": {
     "end_time": "2024-03-28T00:29:26.614271Z",
     "start_time": "2024-03-28T00:29:25.540481Z"
    }
   },
   "id": "fb2d264b743b080a",
   "execution_count": 137
  },
  {
   "cell_type": "code",
   "outputs": [
    {
     "data": {
      "text/plain": "DATETIME            datetime64[ns]\nTOTALDEMAND                float64\nREGIONID                    object\nPREDISPATCHSEQNO             int64\nPERIODID                     int64\nFORECASTDEMAND             float64\nLASTCHANGED         datetime64[ns]\nLOCATION                    object\nTEMPERATURE                float64\ndtype: object"
     },
     "execution_count": 138,
     "metadata": {},
     "output_type": "execute_result"
    }
   ],
   "source": [
    "nsw_df.dtypes"
   ],
   "metadata": {
    "collapsed": false,
    "ExecuteTime": {
     "end_time": "2024-03-28T00:29:26.617649Z",
     "start_time": "2024-03-28T00:29:26.614966Z"
    }
   },
   "id": "a07543b85ab86e60",
   "execution_count": 138
  },
  {
   "cell_type": "code",
   "outputs": [
    {
     "data": {
      "text/plain": "DATETIME            0\nTOTALDEMAND         0\nREGIONID            0\nPREDISPATCHSEQNO    0\nPERIODID            0\nFORECASTDEMAND      0\nLASTCHANGED         0\nLOCATION            0\nTEMPERATURE         0\ndtype: int64"
     },
     "execution_count": 139,
     "metadata": {},
     "output_type": "execute_result"
    }
   ],
   "source": [
    "nsw_df.isna().sum()"
   ],
   "metadata": {
    "collapsed": false,
    "ExecuteTime": {
     "end_time": "2024-03-28T00:29:27.086371Z",
     "start_time": "2024-03-28T00:29:26.618406Z"
    }
   },
   "id": "7350d4b779e23e9f",
   "execution_count": 139
  },
  {
   "cell_type": "code",
   "outputs": [],
   "source": [
    "nsw_df.to_parquet(\n",
    "    os.path.join(CFG.data_path, 'NSW', 'nsw_df.parquet'),\n",
    "    engine='pyarrow', \n",
    "    compression='snappy'\n",
    ")"
   ],
   "metadata": {
    "collapsed": false,
    "ExecuteTime": {
     "end_time": "2024-03-28T00:29:40.248458Z",
     "start_time": "2024-03-28T00:29:38.142969Z"
    }
   },
   "id": "abd5180a06079f95",
   "execution_count": 141
  },
  {
   "cell_type": "code",
   "outputs": [],
   "source": [
    "nsw_df.to_csv(\n",
    "    os.path.join(CFG.data_path, 'NSW', 'nsw_df.csv'), \n",
    "    header=True\n",
    ")"
   ],
   "metadata": {
    "collapsed": false,
    "ExecuteTime": {
     "end_time": "2024-03-28T00:30:19.209973Z",
     "start_time": "2024-03-28T00:29:43.683689Z"
    }
   },
   "id": "89f35e92d307493a",
   "execution_count": 142
  },
  {
   "cell_type": "code",
   "outputs": [],
   "source": [],
   "metadata": {
    "collapsed": false
   },
   "id": "89a4f2324e04b715"
  },
  {
   "cell_type": "markdown",
   "source": [
    "## "
   ],
   "metadata": {
    "collapsed": false
   },
   "id": "203ac14325d17d88"
  },
  {
   "cell_type": "markdown",
   "source": [
    "## Plots"
   ],
   "metadata": {
    "collapsed": false
   },
   "id": "6ebb2ccda136a0dd"
  },
  {
   "cell_type": "code",
   "outputs": [],
   "source": [
    "plt.figure(figsize=(14, 7))\n",
    "plt.plot(nsw_df['DATETIME'], nsw_df['FORECASTDEMAND'], label='Forecast Demand')\n",
    "plt.plot(nsw_df['DATETIME'], nsw_df['TOTALDEMAND'], label='Actual Demand', alpha=0.7)\n",
    "plt.xlabel('Datetime')\n",
    "plt.ylabel('Price')\n",
    "plt.title('Forecast vs Actual Price Over Time')\n",
    "plt.legend()\n",
    "plt.show()"
   ],
   "metadata": {
    "collapsed": false
   },
   "id": "8711c4a72379037f",
   "execution_count": null
  },
  {
   "cell_type": "code",
   "outputs": [],
   "source": [
    "plt.figure(figsize=(14, 7))\n",
    "plt.plot(nsw_df['DATETIME'], nsw_df['TEMPERATURE'], color='orange', label='TEMPERATURE')\n",
    "plt.xlabel('Datetime')\n",
    "plt.ylabel('Temperature')\n",
    "plt.title('Temperature Over Time')\n",
    "plt.legend()\n",
    "plt.show()"
   ],
   "metadata": {
    "collapsed": false
   },
   "id": "246eb6bca585621d",
   "execution_count": null
  },
  {
   "cell_type": "markdown",
   "source": [
    "## scatter plot"
   ],
   "metadata": {
    "collapsed": false
   },
   "id": "bfdd618e599892fb"
  },
  {
   "cell_type": "code",
   "outputs": [],
   "source": [
    "plt.figure(figsize=(10, 6))\n",
    "plt.scatter(nsw_df['TEMPERATURE'], nsw_df['TOTALDEMAND'], label='Actual Demand', alpha=0.5)\n",
    "plt.scatter(nsw_df['TEMPERATURE'], nsw_df['FORECASTDEMAND'], label='Forecast Demand', alpha=0.5)\n",
    "plt.xlabel('Temperature')\n",
    "plt.ylabel('Demand')\n",
    "plt.title('Temperature vs Demand')\n",
    "plt.legend()\n",
    "plt.show()"
   ],
   "metadata": {
    "collapsed": false
   },
   "id": "63d37012969891a4",
   "execution_count": null
  },
  {
   "cell_type": "markdown",
   "source": [
    "## Box plot"
   ],
   "metadata": {
    "collapsed": false
   },
   "id": "cb32a76e0ea92ac8"
  },
  {
   "cell_type": "code",
   "outputs": [],
   "source": [
    "plt.figure(figsize=(12, 6))\n",
    "nsw_df[['FORECASTDEMAND', 'TOTALDEMAND', 'TEMPERATURE']].plot(kind='box')\n",
    "plt.title('Distribution of Prices and Temperature')\n",
    "plt.show()"
   ],
   "metadata": {
    "collapsed": false
   },
   "id": "898e33fc77e7390b",
   "execution_count": null
  },
  {
   "cell_type": "markdown",
   "source": [
    "## Histogram"
   ],
   "metadata": {
    "collapsed": false
   },
   "id": "4c7284cb8970c59d"
  },
  {
   "cell_type": "code",
   "outputs": [],
   "source": [
    "plt.figure(figsize=(14, 7))\n",
    "nsw_df['TOTALDEMAND'].hist(alpha=0.7, label='Actual Price', bins=20)\n",
    "nsw_df['FORECASTDEMAND'].hist(alpha=0.5, label='Forecast Price', bins=20)\n",
    "plt.xlabel('Demand')\n",
    "plt.ylabel('Frequency')\n",
    "plt.title('Frequency Distribution of Demand')\n",
    "plt.legend()\n",
    "plt.show()"
   ],
   "metadata": {
    "collapsed": false
   },
   "id": "711ee4d7df116b54",
   "execution_count": null
  },
  {
   "cell_type": "code",
   "outputs": [],
   "source": [
    "plt.figure(figsize=(10, 5))\n",
    "nsw_df['TEMPERATURE'].hist(color='orange', bins=20)\n",
    "plt.xlabel('Temperature')\n",
    "plt.ylabel('Frequency')\n",
    "plt.title('Frequency Distribution of Temperature')\n",
    "plt.show()"
   ],
   "metadata": {
    "collapsed": false
   },
   "id": "534fed349bfa8971",
   "execution_count": null
  },
  {
   "cell_type": "markdown",
   "source": [
    "## Correlation "
   ],
   "metadata": {
    "collapsed": false
   },
   "id": "4212d7ea8789b294"
  },
  {
   "cell_type": "code",
   "outputs": [],
   "source": [
    "plt.figure(figsize=(8, 6))\n",
    "sns.heatmap(nsw_df[['FORECASTDEMAND', 'TOTALDEMAND', 'TEMPERATURE']].corr(), annot=True, cmap='coolwarm')\n",
    "plt.title('Correlation Heatmap')\n",
    "plt.show()"
   ],
   "metadata": {
    "collapsed": false
   },
   "id": "5668c7191db28dd5",
   "execution_count": null
  },
  {
   "cell_type": "markdown",
   "source": [
    "## seasonal decomposition (additive)\n",
    "It's important to have a defined frequency (e.g., 'H' for hourly, 'D' for daily). Let's assume it's hourly data for this example"
   ],
   "metadata": {
    "collapsed": false
   },
   "id": "ef85f74b9e535b8b"
  },
  {
   "cell_type": "code",
   "outputs": [],
   "source": [
    "nsw_df = nsw_df.asfreq('30min')"
   ],
   "metadata": {
    "collapsed": false
   },
   "id": "9badfaf927a2b672",
   "execution_count": null
  },
  {
   "cell_type": "markdown",
   "source": [
    "Now, choose the demand for electricity for decomposition"
   ],
   "metadata": {
    "collapsed": false
   },
   "id": "f385bdb5202f34cc"
  },
  {
   "cell_type": "code",
   "outputs": [],
   "source": [
    "ts = nsw_df['TOTALDEMAND']  # fix_me: missing values\n",
    "ts.head()"
   ],
   "metadata": {
    "collapsed": false
   },
   "id": "4cabc8d1a7c3006b",
   "execution_count": null
  },
  {
   "cell_type": "code",
   "outputs": [],
   "source": [
    "ts.isnull().sum()"
   ],
   "metadata": {
    "collapsed": false
   },
   "id": "7b35955305a39abf",
   "execution_count": null
  },
  {
   "cell_type": "code",
   "outputs": [],
   "source": [
    "ts.isna().sum()"
   ],
   "metadata": {
    "collapsed": false
   },
   "id": "8812ddff2bc6d421",
   "execution_count": null
  },
  {
   "cell_type": "markdown",
   "source": [
    "Perform seasonal decomposition. \n",
    "compare `model`=`multiplicative` vs `model`=`additive` if necessary"
   ],
   "metadata": {
    "collapsed": false
   },
   "id": "b28ffcebcb1edaa4"
  },
  {
   "cell_type": "code",
   "outputs": [],
   "source": [
    "decomposition = sm.tsa.seasonal_decompose(ts, model='additive')   \n",
    "# fix_me: deal with missing values, temporarily using ffill"
   ],
   "metadata": {
    "collapsed": false
   },
   "id": "1dc23504b7c26bb",
   "execution_count": null
  },
  {
   "cell_type": "markdown",
   "source": [
    "Plot the decomposed components of the time series"
   ],
   "metadata": {
    "collapsed": false
   },
   "id": "f692108faf17eab8"
  },
  {
   "cell_type": "code",
   "outputs": [],
   "source": [
    "fig = decomposition.plot()\n",
    "plt.show()"
   ],
   "metadata": {
    "collapsed": false
   },
   "id": "268a5a2a219f6aac"
  },
  {
   "cell_type": "markdown",
   "source": [
    "## additive vs multiplicative relationships between components"
   ],
   "metadata": {
    "collapsed": false
   },
   "id": "f30ce9c252a13c70"
  }
 ],
 "metadata": {
  "kernelspec": {
   "display_name": "Python 3",
   "language": "python",
   "name": "python3"
  },
  "language_info": {
   "codemirror_mode": {
    "name": "ipython",
    "version": 2
   },
   "file_extension": ".py",
   "mimetype": "text/x-python",
   "name": "python",
   "nbconvert_exporter": "python",
   "pygments_lexer": "ipython2",
   "version": "2.7.6"
  }
 },
 "nbformat": 4,
 "nbformat_minor": 5
}
