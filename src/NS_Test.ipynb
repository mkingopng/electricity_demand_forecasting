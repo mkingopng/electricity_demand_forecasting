{
 "cells": [
  {
   "cell_type": "code",
   "execution_count": 1,
   "id": "ffc73291",
   "metadata": {},
   "outputs": [],
   "source": [
    "import pandas as pd\n",
    "import os\n",
    "import numpy as np\n",
    "import seaborn as sns\n",
    "import matplotlib.pyplot as plt"
   ]
  },
  {
   "cell_type": "code",
   "execution_count": 2,
   "id": "63d2d0b7",
   "metadata": {},
   "outputs": [],
   "source": [
    "pd.options.display.max_columns = 50\n",
    "pd.options.display.max_rows = 50\n",
    "pd.options.display.width = 120\n",
    "pd.options.display.float_format = '{:.2f}'.format"
   ]
  },
  {
   "cell_type": "code",
   "execution_count": 3,
   "id": "516bd525",
   "metadata": {},
   "outputs": [],
   "source": [
    "source_data = r'./../data/NSW/processed_data.csv'"
   ]
  },
  {
   "cell_type": "code",
   "execution_count": 4,
   "id": "d88fa43c",
   "metadata": {},
   "outputs": [
    {
     "name": "stdout",
     "output_type": "stream",
     "text": [
      "                     PREDISPATCHSEQNO  PERIODID  FORECASTDEMAND  TOTALDEMAND  TEMPERATURE  totaldemand   rrp  \\\n",
      "Unnamed: 0                                                                                                     \n",
      "2010-01-01 00:30:00     2009123083.11     36.50         7680.51      7809.31        22.90      7809.31 21.50   \n",
      "2010-01-01 01:00:00     2009123083.92     37.00         7428.97      7483.69        22.60      7483.69 20.98   \n",
      "2010-01-01 01:30:00     2009123084.72     37.50         7084.80      7117.23        22.50      7117.23 20.06   \n",
      "2010-01-01 02:00:00     2009123085.51     38.00         6751.37      6812.03        22.50      6812.03 17.93   \n",
      "2010-01-01 02:30:00     2009123086.29     38.50         6484.27      6544.33        22.40      6544.33 17.43   \n",
      "...                               ...       ...             ...          ...          ...          ...   ...   \n",
      "2021-03-17 22:00:00     2021031678.94     34.00         7317.70      7419.77        19.70      7419.77 32.00   \n",
      "2021-03-17 22:30:00     2021031679.79     34.50         7266.89      7417.91        19.50      7417.91 37.01   \n",
      "2021-03-17 23:00:00     2021031680.64     35.00         7173.87      7287.32        19.10      7287.32 34.49   \n",
      "2021-03-17 23:30:00     2021031681.47     35.50         7043.24      7172.39        18.80      7172.39 32.55   \n",
      "2021-03-18 00:00:00     2021031682.30     36.00         6961.08      7094.51        18.60      7094.51 32.63   \n",
      "\n",
      "                     smoothed_FORECASTDEMAND  smoothed_TOTALDEMAND  smoothed_TEMPERATURE  FORECASTDEMAND_daily  \\\n",
      "Unnamed: 0                                                                                                       \n",
      "2010-01-01 00:30:00                  7699.97               7782.00                 25.23               7804.67   \n",
      "2010-01-01 01:00:00                  7690.57               7774.00                 25.27               7804.67   \n",
      "2010-01-01 01:30:00                  7681.34               7766.97                 25.30               7804.67   \n",
      "2010-01-01 02:00:00                  7672.75               7760.41                 25.34               7804.67   \n",
      "2010-01-01 02:30:00                  7665.72               7756.32                 25.37               7804.67   \n",
      "...                                      ...                   ...                   ...                   ...   \n",
      "2021-03-17 22:00:00                  7400.37               7422.86                 19.71               6961.08   \n",
      "2021-03-17 22:30:00                  7399.72               7424.36                 19.69               6961.08   \n",
      "2021-03-17 23:00:00                  7399.13               7425.78                 19.67               6961.08   \n",
      "2021-03-17 23:30:00                  7398.57               7428.19                 19.65               6961.08   \n",
      "2021-03-18 00:00:00                  7398.13               7430.17                 19.63               6961.08   \n",
      "\n",
      "                     TOTALDEMAND_daily  normalized_TOTALDEMAND  normalized_FORECASTDEMAND  normalized_TEMPERATURE  \n",
      "Unnamed: 0                                                                                                         \n",
      "2010-01-01 00:30:00            8017.46                   -0.23                      -0.33                    0.92  \n",
      "2010-01-01 01:00:00            8017.46                   -0.48                      -0.52                    0.87  \n",
      "2010-01-01 01:30:00            8017.46                   -0.77                      -0.78                    0.85  \n",
      "2010-01-01 02:00:00            8017.46                   -1.00                      -1.04                    0.85  \n",
      "2010-01-01 02:30:00            8017.46                   -1.21                      -1.24                    0.83  \n",
      "...                                ...                     ...                        ...                     ...  \n",
      "2021-03-17 22:00:00            7094.51                   -0.53                      -0.60                    0.37  \n",
      "2021-03-17 22:30:00            7094.51                   -0.53                      -0.64                    0.34  \n",
      "2021-03-17 23:00:00            7094.51                   -0.63                      -0.71                    0.27  \n",
      "2021-03-17 23:30:00            7094.51                   -0.72                      -0.82                    0.22  \n",
      "2021-03-18 00:00:00            7094.51                   -0.78                      -0.88                    0.19  \n",
      "\n",
      "[194589 rows x 15 columns]\n"
     ]
    }
   ],
   "source": [
    "source_df = pd.read_csv(source_data).set_index('Unnamed: 0')\n",
    "print(source_df)"
   ]
  },
  {
   "cell_type": "code",
   "execution_count": 5,
   "id": "9b20cab6",
   "metadata": {},
   "outputs": [
    {
     "name": "stdout",
     "output_type": "stream",
     "text": [
      "PREDISPATCHSEQNO              0\n",
      "PERIODID                      0\n",
      "FORECASTDEMAND                0\n",
      "TOTALDEMAND                   0\n",
      "TEMPERATURE                   0\n",
      "totaldemand                   0\n",
      "rrp                           0\n",
      "smoothed_FORECASTDEMAND       0\n",
      "smoothed_TOTALDEMAND          0\n",
      "smoothed_TEMPERATURE          0\n",
      "FORECASTDEMAND_daily         33\n",
      "TOTALDEMAND_daily            33\n",
      "normalized_TOTALDEMAND        0\n",
      "normalized_FORECASTDEMAND     0\n",
      "normalized_TEMPERATURE        0\n",
      "dtype: int64\n"
     ]
    }
   ],
   "source": [
    "print(source_df.isna().sum())"
   ]
  },
  {
   "cell_type": "code",
   "execution_count": 6,
   "id": "741f3c15",
   "metadata": {},
   "outputs": [
    {
     "name": "stdout",
     "output_type": "stream",
     "text": [
      "Index(['PREDISPATCHSEQNO', 'PERIODID', 'FORECASTDEMAND', 'TOTALDEMAND', 'TEMPERATURE', 'totaldemand', 'rrp',\n",
      "       'smoothed_FORECASTDEMAND', 'smoothed_TOTALDEMAND', 'smoothed_TEMPERATURE', 'FORECASTDEMAND_daily',\n",
      "       'TOTALDEMAND_daily', 'normalized_TOTALDEMAND', 'normalized_FORECASTDEMAND', 'normalized_TEMPERATURE'],\n",
      "      dtype='object')\n"
     ]
    }
   ],
   "source": [
    "print(source_df.columns)"
   ]
  },
  {
   "cell_type": "code",
   "execution_count": 7,
   "id": "d70e399c",
   "metadata": {},
   "outputs": [
    {
     "name": "stdout",
     "output_type": "stream",
     "text": [
      "                     PREDISPATCHSEQNO  PERIODID  FORECASTDEMAND  TOTALDEMAND  TEMPERATURE  totaldemand   rrp  \\\n",
      "Unnamed: 0                                                                                                     \n",
      "2010-01-01 00:30:00     2009123083.11     36.50         7680.51      7809.31        22.90      7809.31 21.50   \n",
      "2010-01-01 01:00:00     2009123083.92     37.00         7428.97      7483.69        22.60      7483.69 20.98   \n",
      "2010-01-01 01:30:00     2009123084.72     37.50         7084.80      7117.23        22.50      7117.23 20.06   \n",
      "2010-01-01 02:00:00     2009123085.51     38.00         6751.37      6812.03        22.50      6812.03 17.93   \n",
      "2010-01-01 02:30:00     2009123086.29     38.50         6484.27      6544.33        22.40      6544.33 17.43   \n",
      "...                               ...       ...             ...          ...          ...          ...   ...   \n",
      "2021-03-17 22:00:00     2021031678.94     34.00         7317.70      7419.77        19.70      7419.77 32.00   \n",
      "2021-03-17 22:30:00     2021031679.79     34.50         7266.89      7417.91        19.50      7417.91 37.01   \n",
      "2021-03-17 23:00:00     2021031680.64     35.00         7173.87      7287.32        19.10      7287.32 34.49   \n",
      "2021-03-17 23:30:00     2021031681.47     35.50         7043.24      7172.39        18.80      7172.39 32.55   \n",
      "2021-03-18 00:00:00     2021031682.30     36.00         6961.08      7094.51        18.60      7094.51 32.63   \n",
      "\n",
      "                     smoothed_FORECASTDEMAND  smoothed_TOTALDEMAND  smoothed_TEMPERATURE  FORECASTDEMAND_daily  \\\n",
      "Unnamed: 0                                                                                                       \n",
      "2010-01-01 00:30:00                  7699.97               7782.00                 25.23               7804.67   \n",
      "2010-01-01 01:00:00                  7690.57               7774.00                 25.27               7804.67   \n",
      "2010-01-01 01:30:00                  7681.34               7766.97                 25.30               7804.67   \n",
      "2010-01-01 02:00:00                  7672.75               7760.41                 25.34               7804.67   \n",
      "2010-01-01 02:30:00                  7665.72               7756.32                 25.37               7804.67   \n",
      "...                                      ...                   ...                   ...                   ...   \n",
      "2021-03-17 22:00:00                  7400.37               7422.86                 19.71               6961.08   \n",
      "2021-03-17 22:30:00                  7399.72               7424.36                 19.69               6961.08   \n",
      "2021-03-17 23:00:00                  7399.13               7425.78                 19.67               6961.08   \n",
      "2021-03-17 23:30:00                  7398.57               7428.19                 19.65               6961.08   \n",
      "2021-03-18 00:00:00                  7398.13               7430.17                 19.63               6961.08   \n",
      "\n",
      "                     TOTALDEMAND_daily  normalized_TOTALDEMAND  normalized_FORECASTDEMAND  normalized_TEMPERATURE  \n",
      "Unnamed: 0                                                                                                         \n",
      "2010-01-01 00:30:00            8017.46                   -0.23                      -0.33                    0.92  \n",
      "2010-01-01 01:00:00            8017.46                   -0.48                      -0.52                    0.87  \n",
      "2010-01-01 01:30:00            8017.46                   -0.77                      -0.78                    0.85  \n",
      "2010-01-01 02:00:00            8017.46                   -1.00                      -1.04                    0.85  \n",
      "2010-01-01 02:30:00            8017.46                   -1.21                      -1.24                    0.83  \n",
      "...                                ...                     ...                        ...                     ...  \n",
      "2021-03-17 22:00:00            7094.51                   -0.53                      -0.60                    0.37  \n",
      "2021-03-17 22:30:00            7094.51                   -0.53                      -0.64                    0.34  \n",
      "2021-03-17 23:00:00            7094.51                   -0.63                      -0.71                    0.27  \n",
      "2021-03-17 23:30:00            7094.51                   -0.72                      -0.82                    0.22  \n",
      "2021-03-18 00:00:00            7094.51                   -0.78                      -0.88                    0.19  \n",
      "\n",
      "[194589 rows x 15 columns]\n"
     ]
    }
   ],
   "source": [
    "print(source_df)"
   ]
  },
  {
   "cell_type": "code",
   "execution_count": 8,
   "id": "5084fd39",
   "metadata": {},
   "outputs": [],
   "source": [
    "# updated_df.rename(columns = {'Unnamed: 0':'datetime'},inplace=True)"
   ]
  },
  {
   "cell_type": "code",
   "execution_count": 9,
   "id": "c207feba",
   "metadata": {},
   "outputs": [
    {
     "name": "stdout",
     "output_type": "stream",
     "text": [
      "PREDISPATCHSEQNO             float64\n",
      "PERIODID                     float64\n",
      "FORECASTDEMAND               float64\n",
      "TOTALDEMAND                  float64\n",
      "TEMPERATURE                  float64\n",
      "totaldemand                  float64\n",
      "rrp                          float64\n",
      "smoothed_FORECASTDEMAND      float64\n",
      "smoothed_TOTALDEMAND         float64\n",
      "smoothed_TEMPERATURE         float64\n",
      "FORECASTDEMAND_daily         float64\n",
      "TOTALDEMAND_daily            float64\n",
      "normalized_TOTALDEMAND       float64\n",
      "normalized_FORECASTDEMAND    float64\n",
      "normalized_TEMPERATURE       float64\n",
      "dtype: object\n"
     ]
    }
   ],
   "source": [
    "print(source_df.dtypes)"
   ]
  },
  {
   "cell_type": "code",
   "execution_count": 10,
   "id": "507f8274",
   "metadata": {},
   "outputs": [],
   "source": [
    "# source_df.set_index('datetime')"
   ]
  },
  {
   "cell_type": "code",
   "execution_count": 11,
   "id": "550b968a",
   "metadata": {},
   "outputs": [],
   "source": [
    "updated_df = source_df"
   ]
  },
  {
   "cell_type": "code",
   "execution_count": 12,
   "id": "6d1a86b9",
   "metadata": {},
   "outputs": [
    {
     "name": "stdout",
     "output_type": "stream",
     "text": [
      "Index(['2010-01-01 00:30:00', '2010-01-01 01:00:00', '2010-01-01 01:30:00', '2010-01-01 02:00:00',\n",
      "       '2010-01-01 02:30:00', '2010-01-01 03:00:00', '2010-01-01 03:30:00', '2010-01-01 04:00:00',\n",
      "       '2010-01-01 04:30:00', '2010-01-01 05:00:00',\n",
      "       ...\n",
      "       '2021-03-17 19:30:00', '2021-03-17 20:00:00', '2021-03-17 20:30:00', '2021-03-17 21:00:00',\n",
      "       '2021-03-17 21:30:00', '2021-03-17 22:00:00', '2021-03-17 22:30:00', '2021-03-17 23:00:00',\n",
      "       '2021-03-17 23:30:00', '2021-03-18 00:00:00'],\n",
      "      dtype='object', name='Unnamed: 0', length=194589)\n"
     ]
    }
   ],
   "source": [
    "print(updated_df.index)"
   ]
  },
  {
   "cell_type": "code",
   "execution_count": 13,
   "id": "1f3d8d82",
   "metadata": {},
   "outputs": [],
   "source": [
    "updated_df.index=pd.to_datetime(updated_df.index)"
   ]
  },
  {
   "cell_type": "markdown",
   "id": "86a2895c",
   "metadata": {},
   "source": [
    "Dropped Forecast_Daily and TotalDemand_daily - contained 33 N/A's."
   ]
  },
  {
   "cell_type": "code",
   "execution_count": 14,
   "id": "e498aaf1",
   "metadata": {},
   "outputs": [],
   "source": [
    "updated_df.drop(['FORECASTDEMAND_daily','TOTALDEMAND_daily'],axis=1,inplace=True)"
   ]
  },
  {
   "cell_type": "code",
   "execution_count": 15,
   "id": "05eb6023",
   "metadata": {},
   "outputs": [
    {
     "name": "stdout",
     "output_type": "stream",
     "text": [
      "PREDISPATCHSEQNO             0\n",
      "PERIODID                     0\n",
      "FORECASTDEMAND               0\n",
      "TOTALDEMAND                  0\n",
      "TEMPERATURE                  0\n",
      "totaldemand                  0\n",
      "rrp                          0\n",
      "smoothed_FORECASTDEMAND      0\n",
      "smoothed_TOTALDEMAND         0\n",
      "smoothed_TEMPERATURE         0\n",
      "normalized_TOTALDEMAND       0\n",
      "normalized_FORECASTDEMAND    0\n",
      "normalized_TEMPERATURE       0\n",
      "dtype: int64\n"
     ]
    }
   ],
   "source": [
    "print(updated_df.isna().sum())"
   ]
  },
  {
   "cell_type": "code",
   "execution_count": 16,
   "id": "e5883a9d",
   "metadata": {},
   "outputs": [
    {
     "data": {
      "text/html": [
       "<div>\n",
       "<style scoped>\n",
       "    .dataframe tbody tr th:only-of-type {\n",
       "        vertical-align: middle;\n",
       "    }\n",
       "\n",
       "    .dataframe tbody tr th {\n",
       "        vertical-align: top;\n",
       "    }\n",
       "\n",
       "    .dataframe thead th {\n",
       "        text-align: right;\n",
       "    }\n",
       "</style>\n",
       "<table border=\"1\" class=\"dataframe\">\n",
       "  <thead>\n",
       "    <tr style=\"text-align: right;\">\n",
       "      <th></th>\n",
       "      <th>PREDISPATCHSEQNO</th>\n",
       "      <th>PERIODID</th>\n",
       "      <th>FORECASTDEMAND</th>\n",
       "      <th>TOTALDEMAND</th>\n",
       "      <th>TEMPERATURE</th>\n",
       "      <th>totaldemand</th>\n",
       "      <th>rrp</th>\n",
       "      <th>smoothed_FORECASTDEMAND</th>\n",
       "      <th>smoothed_TOTALDEMAND</th>\n",
       "      <th>smoothed_TEMPERATURE</th>\n",
       "      <th>normalized_TOTALDEMAND</th>\n",
       "      <th>normalized_FORECASTDEMAND</th>\n",
       "      <th>normalized_TEMPERATURE</th>\n",
       "    </tr>\n",
       "    <tr>\n",
       "      <th>Unnamed: 0</th>\n",
       "      <th></th>\n",
       "      <th></th>\n",
       "      <th></th>\n",
       "      <th></th>\n",
       "      <th></th>\n",
       "      <th></th>\n",
       "      <th></th>\n",
       "      <th></th>\n",
       "      <th></th>\n",
       "      <th></th>\n",
       "      <th></th>\n",
       "      <th></th>\n",
       "      <th></th>\n",
       "    </tr>\n",
       "  </thead>\n",
       "  <tbody>\n",
       "    <tr>\n",
       "      <th>2010-01-01 00:30:00</th>\n",
       "      <td>2009123083.11</td>\n",
       "      <td>36.50</td>\n",
       "      <td>7680.51</td>\n",
       "      <td>7809.31</td>\n",
       "      <td>22.90</td>\n",
       "      <td>7809.31</td>\n",
       "      <td>21.50</td>\n",
       "      <td>7699.97</td>\n",
       "      <td>7782.00</td>\n",
       "      <td>25.23</td>\n",
       "      <td>-0.23</td>\n",
       "      <td>-0.33</td>\n",
       "      <td>0.92</td>\n",
       "    </tr>\n",
       "    <tr>\n",
       "      <th>2010-01-01 01:00:00</th>\n",
       "      <td>2009123083.92</td>\n",
       "      <td>37.00</td>\n",
       "      <td>7428.97</td>\n",
       "      <td>7483.69</td>\n",
       "      <td>22.60</td>\n",
       "      <td>7483.69</td>\n",
       "      <td>20.98</td>\n",
       "      <td>7690.57</td>\n",
       "      <td>7774.00</td>\n",
       "      <td>25.27</td>\n",
       "      <td>-0.48</td>\n",
       "      <td>-0.52</td>\n",
       "      <td>0.87</td>\n",
       "    </tr>\n",
       "    <tr>\n",
       "      <th>2010-01-01 01:30:00</th>\n",
       "      <td>2009123084.72</td>\n",
       "      <td>37.50</td>\n",
       "      <td>7084.80</td>\n",
       "      <td>7117.23</td>\n",
       "      <td>22.50</td>\n",
       "      <td>7117.23</td>\n",
       "      <td>20.06</td>\n",
       "      <td>7681.34</td>\n",
       "      <td>7766.97</td>\n",
       "      <td>25.30</td>\n",
       "      <td>-0.77</td>\n",
       "      <td>-0.78</td>\n",
       "      <td>0.85</td>\n",
       "    </tr>\n",
       "    <tr>\n",
       "      <th>2010-01-01 02:00:00</th>\n",
       "      <td>2009123085.51</td>\n",
       "      <td>38.00</td>\n",
       "      <td>6751.37</td>\n",
       "      <td>6812.03</td>\n",
       "      <td>22.50</td>\n",
       "      <td>6812.03</td>\n",
       "      <td>17.93</td>\n",
       "      <td>7672.75</td>\n",
       "      <td>7760.41</td>\n",
       "      <td>25.34</td>\n",
       "      <td>-1.00</td>\n",
       "      <td>-1.04</td>\n",
       "      <td>0.85</td>\n",
       "    </tr>\n",
       "    <tr>\n",
       "      <th>2010-01-01 02:30:00</th>\n",
       "      <td>2009123086.29</td>\n",
       "      <td>38.50</td>\n",
       "      <td>6484.27</td>\n",
       "      <td>6544.33</td>\n",
       "      <td>22.40</td>\n",
       "      <td>6544.33</td>\n",
       "      <td>17.43</td>\n",
       "      <td>7665.72</td>\n",
       "      <td>7756.32</td>\n",
       "      <td>25.37</td>\n",
       "      <td>-1.21</td>\n",
       "      <td>-1.24</td>\n",
       "      <td>0.83</td>\n",
       "    </tr>\n",
       "    <tr>\n",
       "      <th>...</th>\n",
       "      <td>...</td>\n",
       "      <td>...</td>\n",
       "      <td>...</td>\n",
       "      <td>...</td>\n",
       "      <td>...</td>\n",
       "      <td>...</td>\n",
       "      <td>...</td>\n",
       "      <td>...</td>\n",
       "      <td>...</td>\n",
       "      <td>...</td>\n",
       "      <td>...</td>\n",
       "      <td>...</td>\n",
       "      <td>...</td>\n",
       "    </tr>\n",
       "    <tr>\n",
       "      <th>2021-03-17 22:00:00</th>\n",
       "      <td>2021031678.94</td>\n",
       "      <td>34.00</td>\n",
       "      <td>7317.70</td>\n",
       "      <td>7419.77</td>\n",
       "      <td>19.70</td>\n",
       "      <td>7419.77</td>\n",
       "      <td>32.00</td>\n",
       "      <td>7400.37</td>\n",
       "      <td>7422.86</td>\n",
       "      <td>19.71</td>\n",
       "      <td>-0.53</td>\n",
       "      <td>-0.60</td>\n",
       "      <td>0.37</td>\n",
       "    </tr>\n",
       "    <tr>\n",
       "      <th>2021-03-17 22:30:00</th>\n",
       "      <td>2021031679.79</td>\n",
       "      <td>34.50</td>\n",
       "      <td>7266.89</td>\n",
       "      <td>7417.91</td>\n",
       "      <td>19.50</td>\n",
       "      <td>7417.91</td>\n",
       "      <td>37.01</td>\n",
       "      <td>7399.72</td>\n",
       "      <td>7424.36</td>\n",
       "      <td>19.69</td>\n",
       "      <td>-0.53</td>\n",
       "      <td>-0.64</td>\n",
       "      <td>0.34</td>\n",
       "    </tr>\n",
       "    <tr>\n",
       "      <th>2021-03-17 23:00:00</th>\n",
       "      <td>2021031680.64</td>\n",
       "      <td>35.00</td>\n",
       "      <td>7173.87</td>\n",
       "      <td>7287.32</td>\n",
       "      <td>19.10</td>\n",
       "      <td>7287.32</td>\n",
       "      <td>34.49</td>\n",
       "      <td>7399.13</td>\n",
       "      <td>7425.78</td>\n",
       "      <td>19.67</td>\n",
       "      <td>-0.63</td>\n",
       "      <td>-0.71</td>\n",
       "      <td>0.27</td>\n",
       "    </tr>\n",
       "    <tr>\n",
       "      <th>2021-03-17 23:30:00</th>\n",
       "      <td>2021031681.47</td>\n",
       "      <td>35.50</td>\n",
       "      <td>7043.24</td>\n",
       "      <td>7172.39</td>\n",
       "      <td>18.80</td>\n",
       "      <td>7172.39</td>\n",
       "      <td>32.55</td>\n",
       "      <td>7398.57</td>\n",
       "      <td>7428.19</td>\n",
       "      <td>19.65</td>\n",
       "      <td>-0.72</td>\n",
       "      <td>-0.82</td>\n",
       "      <td>0.22</td>\n",
       "    </tr>\n",
       "    <tr>\n",
       "      <th>2021-03-18 00:00:00</th>\n",
       "      <td>2021031682.30</td>\n",
       "      <td>36.00</td>\n",
       "      <td>6961.08</td>\n",
       "      <td>7094.51</td>\n",
       "      <td>18.60</td>\n",
       "      <td>7094.51</td>\n",
       "      <td>32.63</td>\n",
       "      <td>7398.13</td>\n",
       "      <td>7430.17</td>\n",
       "      <td>19.63</td>\n",
       "      <td>-0.78</td>\n",
       "      <td>-0.88</td>\n",
       "      <td>0.19</td>\n",
       "    </tr>\n",
       "  </tbody>\n",
       "</table>\n",
       "<p>194589 rows × 13 columns</p>\n",
       "</div>"
      ],
      "text/plain": [
       "                     PREDISPATCHSEQNO  PERIODID  FORECASTDEMAND  TOTALDEMAND  TEMPERATURE  totaldemand   rrp  \\\n",
       "Unnamed: 0                                                                                                     \n",
       "2010-01-01 00:30:00     2009123083.11     36.50         7680.51      7809.31        22.90      7809.31 21.50   \n",
       "2010-01-01 01:00:00     2009123083.92     37.00         7428.97      7483.69        22.60      7483.69 20.98   \n",
       "2010-01-01 01:30:00     2009123084.72     37.50         7084.80      7117.23        22.50      7117.23 20.06   \n",
       "2010-01-01 02:00:00     2009123085.51     38.00         6751.37      6812.03        22.50      6812.03 17.93   \n",
       "2010-01-01 02:30:00     2009123086.29     38.50         6484.27      6544.33        22.40      6544.33 17.43   \n",
       "...                               ...       ...             ...          ...          ...          ...   ...   \n",
       "2021-03-17 22:00:00     2021031678.94     34.00         7317.70      7419.77        19.70      7419.77 32.00   \n",
       "2021-03-17 22:30:00     2021031679.79     34.50         7266.89      7417.91        19.50      7417.91 37.01   \n",
       "2021-03-17 23:00:00     2021031680.64     35.00         7173.87      7287.32        19.10      7287.32 34.49   \n",
       "2021-03-17 23:30:00     2021031681.47     35.50         7043.24      7172.39        18.80      7172.39 32.55   \n",
       "2021-03-18 00:00:00     2021031682.30     36.00         6961.08      7094.51        18.60      7094.51 32.63   \n",
       "\n",
       "                     smoothed_FORECASTDEMAND  smoothed_TOTALDEMAND  smoothed_TEMPERATURE  normalized_TOTALDEMAND  \\\n",
       "Unnamed: 0                                                                                                         \n",
       "2010-01-01 00:30:00                  7699.97               7782.00                 25.23                   -0.23   \n",
       "2010-01-01 01:00:00                  7690.57               7774.00                 25.27                   -0.48   \n",
       "2010-01-01 01:30:00                  7681.34               7766.97                 25.30                   -0.77   \n",
       "2010-01-01 02:00:00                  7672.75               7760.41                 25.34                   -1.00   \n",
       "2010-01-01 02:30:00                  7665.72               7756.32                 25.37                   -1.21   \n",
       "...                                      ...                   ...                   ...                     ...   \n",
       "2021-03-17 22:00:00                  7400.37               7422.86                 19.71                   -0.53   \n",
       "2021-03-17 22:30:00                  7399.72               7424.36                 19.69                   -0.53   \n",
       "2021-03-17 23:00:00                  7399.13               7425.78                 19.67                   -0.63   \n",
       "2021-03-17 23:30:00                  7398.57               7428.19                 19.65                   -0.72   \n",
       "2021-03-18 00:00:00                  7398.13               7430.17                 19.63                   -0.78   \n",
       "\n",
       "                     normalized_FORECASTDEMAND  normalized_TEMPERATURE  \n",
       "Unnamed: 0                                                              \n",
       "2010-01-01 00:30:00                      -0.33                    0.92  \n",
       "2010-01-01 01:00:00                      -0.52                    0.87  \n",
       "2010-01-01 01:30:00                      -0.78                    0.85  \n",
       "2010-01-01 02:00:00                      -1.04                    0.85  \n",
       "2010-01-01 02:30:00                      -1.24                    0.83  \n",
       "...                                        ...                     ...  \n",
       "2021-03-17 22:00:00                      -0.60                    0.37  \n",
       "2021-03-17 22:30:00                      -0.64                    0.34  \n",
       "2021-03-17 23:00:00                      -0.71                    0.27  \n",
       "2021-03-17 23:30:00                      -0.82                    0.22  \n",
       "2021-03-18 00:00:00                      -0.88                    0.19  \n",
       "\n",
       "[194589 rows x 13 columns]"
      ]
     },
     "execution_count": 16,
     "metadata": {},
     "output_type": "execute_result"
    }
   ],
   "source": [
    "updated_df"
   ]
  },
  {
   "cell_type": "code",
   "execution_count": 17,
   "id": "6b7c4d26",
   "metadata": {},
   "outputs": [],
   "source": [
    "# updated_df.set_index('datetime')"
   ]
  },
  {
   "cell_type": "code",
   "execution_count": 18,
   "id": "6811a037",
   "metadata": {},
   "outputs": [],
   "source": [
    "# new_df = updated_df"
   ]
  },
  {
   "cell_type": "code",
   "execution_count": 19,
   "id": "5c4b0e33",
   "metadata": {},
   "outputs": [
    {
     "name": "stdout",
     "output_type": "stream",
     "text": [
      "                     PREDISPATCHSEQNO  PERIODID  FORECASTDEMAND  TOTALDEMAND  TEMPERATURE  totaldemand   rrp  \\\n",
      "Unnamed: 0                                                                                                     \n",
      "2010-01-01 00:30:00     2009123083.11     36.50         7680.51      7809.31        22.90      7809.31 21.50   \n",
      "2010-01-01 01:00:00     2009123083.92     37.00         7428.97      7483.69        22.60      7483.69 20.98   \n",
      "2010-01-01 01:30:00     2009123084.72     37.50         7084.80      7117.23        22.50      7117.23 20.06   \n",
      "2010-01-01 02:00:00     2009123085.51     38.00         6751.37      6812.03        22.50      6812.03 17.93   \n",
      "2010-01-01 02:30:00     2009123086.29     38.50         6484.27      6544.33        22.40      6544.33 17.43   \n",
      "\n",
      "                     smoothed_FORECASTDEMAND  smoothed_TOTALDEMAND  smoothed_TEMPERATURE  normalized_TOTALDEMAND  \\\n",
      "Unnamed: 0                                                                                                         \n",
      "2010-01-01 00:30:00                  7699.97               7782.00                 25.23                   -0.23   \n",
      "2010-01-01 01:00:00                  7690.57               7774.00                 25.27                   -0.48   \n",
      "2010-01-01 01:30:00                  7681.34               7766.97                 25.30                   -0.77   \n",
      "2010-01-01 02:00:00                  7672.75               7760.41                 25.34                   -1.00   \n",
      "2010-01-01 02:30:00                  7665.72               7756.32                 25.37                   -1.21   \n",
      "\n",
      "                     normalized_FORECASTDEMAND  normalized_TEMPERATURE  \n",
      "Unnamed: 0                                                              \n",
      "2010-01-01 00:30:00                      -0.33                    0.92  \n",
      "2010-01-01 01:00:00                      -0.52                    0.87  \n",
      "2010-01-01 01:30:00                      -0.78                    0.85  \n",
      "2010-01-01 02:00:00                      -1.04                    0.85  \n",
      "2010-01-01 02:30:00                      -1.24                    0.83  \n"
     ]
    }
   ],
   "source": [
    "print(updated_df.head())"
   ]
  },
  {
   "cell_type": "code",
   "execution_count": 20,
   "id": "1cf9f423",
   "metadata": {},
   "outputs": [],
   "source": [
    "demand = updated_df.copy()\n",
    "demand = demand[['totaldemand']]\n",
    "demand.loc[:, 'dow'] = demand.index.dayofweek\n",
    "demand.loc[:, 'doy'] = demand.index.dayofyear\n",
    "demand.loc[:, 'year'] = demand.index.year\n",
    "demand.loc[:, 'month'] = demand.index.month\n",
    "demand.loc[:, 'quarter'] = demand.index.quarter\n",
    "demand.loc[:, 'hour'] = demand.index.hour\n"
   ]
  },
  {
   "cell_type": "code",
   "execution_count": 21,
   "id": "84355550",
   "metadata": {},
   "outputs": [
    {
     "name": "stdout",
     "output_type": "stream",
     "text": [
      "                     totaldemand  dow  doy  year  month  quarter  hour\n",
      "Unnamed: 0                                                            \n",
      "2010-01-01 00:30:00      7809.31    4    1  2010      1        1     0\n",
      "2010-01-01 01:00:00      7483.69    4    1  2010      1        1     1\n",
      "2010-01-01 01:30:00      7117.23    4    1  2010      1        1     1\n",
      "2010-01-01 02:00:00      6812.03    4    1  2010      1        1     2\n",
      "2010-01-01 02:30:00      6544.33    4    1  2010      1        1     2\n"
     ]
    }
   ],
   "source": [
    "print(demand.head())"
   ]
  },
  {
   "cell_type": "code",
   "execution_count": 22,
   "id": "560829b6",
   "metadata": {},
   "outputs": [
    {
     "name": "stdout",
     "output_type": "stream",
     "text": [
      "                     totaldemand  dow  doy  year  month  quarter  hour\n",
      "Unnamed: 0                                                            \n",
      "2010-01-01 23:00:00      8041.77    4    1  2010      1        1    23\n",
      "2010-01-01 23:30:00      7782.68    4    1  2010      1        1    23\n",
      "2010-01-02 00:00:00      7574.85    5    2  2010      1        1     0\n",
      "2010-01-02 00:30:00      7343.30    5    2  2010      1        1     0\n",
      "2010-01-02 01:00:00      7099.73    5    2  2010      1        1     1\n",
      "2010-01-02 01:30:00      6779.80    5    2  2010      1        1     1\n",
      "2010-01-02 02:00:00      6497.47    5    2  2010      1        1     2\n",
      "2010-01-02 02:30:00      6347.69    5    2  2010      1        1     2\n",
      "2010-01-02 03:00:00      6223.64    5    2  2010      1        1     3\n",
      "2010-01-02 03:30:00      6182.07    5    2  2010      1        1     3\n",
      "2010-01-02 04:00:00      6140.82    5    2  2010      1        1     4\n",
      "2010-01-02 04:30:00      6224.48    5    2  2010      1        1     4\n",
      "2010-01-02 05:00:00      6260.00    5    2  2010      1        1     5\n",
      "2010-01-02 05:30:00      6336.20    5    2  2010      1        1     5\n",
      "2010-01-02 06:00:00      6470.82    5    2  2010      1        1     6\n"
     ]
    }
   ],
   "source": [
    "print(demand.iloc[45:60])"
   ]
  },
  {
   "cell_type": "markdown",
   "id": "18d01ca6",
   "metadata": {},
   "source": [
    "Merge to the updated_df"
   ]
  },
  {
   "cell_type": "code",
   "execution_count": 23,
   "id": "f6b0b5cc",
   "metadata": {},
   "outputs": [
    {
     "name": "stdout",
     "output_type": "stream",
     "text": [
      "totaldemand    0\n",
      "dow            0\n",
      "doy            0\n",
      "year           0\n",
      "month          0\n",
      "quarter        0\n",
      "hour           0\n",
      "dtype: int64\n"
     ]
    }
   ],
   "source": [
    "print(demand.isna().sum())"
   ]
  },
  {
   "cell_type": "code",
   "execution_count": 24,
   "id": "3d743da4",
   "metadata": {},
   "outputs": [
    {
     "name": "stdout",
     "output_type": "stream",
     "text": [
      "DatetimeIndex(['2010-01-01 00:30:00', '2010-01-01 01:00:00', '2010-01-01 01:30:00', '2010-01-01 02:00:00',\n",
      "               '2010-01-01 02:30:00', '2010-01-01 03:00:00', '2010-01-01 03:30:00', '2010-01-01 04:00:00',\n",
      "               '2010-01-01 04:30:00', '2010-01-01 05:00:00',\n",
      "               ...\n",
      "               '2021-03-17 19:30:00', '2021-03-17 20:00:00', '2021-03-17 20:30:00', '2021-03-17 21:00:00',\n",
      "               '2021-03-17 21:30:00', '2021-03-17 22:00:00', '2021-03-17 22:30:00', '2021-03-17 23:00:00',\n",
      "               '2021-03-17 23:30:00', '2021-03-18 00:00:00'],\n",
      "              dtype='datetime64[ns]', name='Unnamed: 0', length=194589, freq=None)\n"
     ]
    }
   ],
   "source": [
    "print(demand.index)"
   ]
  },
  {
   "cell_type": "code",
   "execution_count": 25,
   "id": "32cfb165",
   "metadata": {},
   "outputs": [],
   "source": [
    "final_df = pd.merge(updated_df,demand, left_index =True, right_index=True)"
   ]
  },
  {
   "cell_type": "code",
   "execution_count": 26,
   "id": "6586ec15",
   "metadata": {},
   "outputs": [
    {
     "name": "stdout",
     "output_type": "stream",
     "text": [
      "                     PREDISPATCHSEQNO  PERIODID  FORECASTDEMAND  TOTALDEMAND  TEMPERATURE  totaldemand_x   rrp  \\\n",
      "Unnamed: 0                                                                                                       \n",
      "2010-01-01 00:30:00     2009123083.11     36.50         7680.51      7809.31        22.90        7809.31 21.50   \n",
      "2010-01-01 01:00:00     2009123083.92     37.00         7428.97      7483.69        22.60        7483.69 20.98   \n",
      "2010-01-01 01:30:00     2009123084.72     37.50         7084.80      7117.23        22.50        7117.23 20.06   \n",
      "2010-01-01 02:00:00     2009123085.51     38.00         6751.37      6812.03        22.50        6812.03 17.93   \n",
      "2010-01-01 02:30:00     2009123086.29     38.50         6484.27      6544.33        22.40        6544.33 17.43   \n",
      "...                               ...       ...             ...          ...          ...            ...   ...   \n",
      "2021-03-17 22:00:00     2021031678.94     34.00         7317.70      7419.77        19.70        7419.77 32.00   \n",
      "2021-03-17 22:30:00     2021031679.79     34.50         7266.89      7417.91        19.50        7417.91 37.01   \n",
      "2021-03-17 23:00:00     2021031680.64     35.00         7173.87      7287.32        19.10        7287.32 34.49   \n",
      "2021-03-17 23:30:00     2021031681.47     35.50         7043.24      7172.39        18.80        7172.39 32.55   \n",
      "2021-03-18 00:00:00     2021031682.30     36.00         6961.08      7094.51        18.60        7094.51 32.63   \n",
      "\n",
      "                     smoothed_FORECASTDEMAND  smoothed_TOTALDEMAND  smoothed_TEMPERATURE  normalized_TOTALDEMAND  \\\n",
      "Unnamed: 0                                                                                                         \n",
      "2010-01-01 00:30:00                  7699.97               7782.00                 25.23                   -0.23   \n",
      "2010-01-01 01:00:00                  7690.57               7774.00                 25.27                   -0.48   \n",
      "2010-01-01 01:30:00                  7681.34               7766.97                 25.30                   -0.77   \n",
      "2010-01-01 02:00:00                  7672.75               7760.41                 25.34                   -1.00   \n",
      "2010-01-01 02:30:00                  7665.72               7756.32                 25.37                   -1.21   \n",
      "...                                      ...                   ...                   ...                     ...   \n",
      "2021-03-17 22:00:00                  7400.37               7422.86                 19.71                   -0.53   \n",
      "2021-03-17 22:30:00                  7399.72               7424.36                 19.69                   -0.53   \n",
      "2021-03-17 23:00:00                  7399.13               7425.78                 19.67                   -0.63   \n",
      "2021-03-17 23:30:00                  7398.57               7428.19                 19.65                   -0.72   \n",
      "2021-03-18 00:00:00                  7398.13               7430.17                 19.63                   -0.78   \n",
      "\n",
      "                     normalized_FORECASTDEMAND  normalized_TEMPERATURE  totaldemand_y  dow  doy  year  month  quarter  \\\n",
      "Unnamed: 0                                                                                                              \n",
      "2010-01-01 00:30:00                      -0.33                    0.92        7809.31    4    1  2010      1        1   \n",
      "2010-01-01 01:00:00                      -0.52                    0.87        7483.69    4    1  2010      1        1   \n",
      "2010-01-01 01:30:00                      -0.78                    0.85        7117.23    4    1  2010      1        1   \n",
      "2010-01-01 02:00:00                      -1.04                    0.85        6812.03    4    1  2010      1        1   \n",
      "2010-01-01 02:30:00                      -1.24                    0.83        6544.33    4    1  2010      1        1   \n",
      "...                                        ...                     ...            ...  ...  ...   ...    ...      ...   \n",
      "2021-03-17 22:00:00                      -0.60                    0.37        7419.77    2   76  2021      3        1   \n",
      "2021-03-17 22:30:00                      -0.64                    0.34        7417.91    2   76  2021      3        1   \n",
      "2021-03-17 23:00:00                      -0.71                    0.27        7287.32    2   76  2021      3        1   \n",
      "2021-03-17 23:30:00                      -0.82                    0.22        7172.39    2   76  2021      3        1   \n",
      "2021-03-18 00:00:00                      -0.88                    0.19        7094.51    3   77  2021      3        1   \n",
      "\n",
      "                     hour  \n",
      "Unnamed: 0                 \n",
      "2010-01-01 00:30:00     0  \n",
      "2010-01-01 01:00:00     1  \n",
      "2010-01-01 01:30:00     1  \n",
      "2010-01-01 02:00:00     2  \n",
      "2010-01-01 02:30:00     2  \n",
      "...                   ...  \n",
      "2021-03-17 22:00:00    22  \n",
      "2021-03-17 22:30:00    22  \n",
      "2021-03-17 23:00:00    23  \n",
      "2021-03-17 23:30:00    23  \n",
      "2021-03-18 00:00:00     0  \n",
      "\n",
      "[194589 rows x 20 columns]\n"
     ]
    }
   ],
   "source": [
    "print(final_df)"
   ]
  },
  {
   "cell_type": "code",
   "execution_count": 27,
   "id": "94c39226",
   "metadata": {},
   "outputs": [
    {
     "name": "stdout",
     "output_type": "stream",
     "text": [
      "PREDISPATCHSEQNO             0\n",
      "PERIODID                     0\n",
      "FORECASTDEMAND               0\n",
      "TOTALDEMAND                  0\n",
      "TEMPERATURE                  0\n",
      "totaldemand_x                0\n",
      "rrp                          0\n",
      "smoothed_FORECASTDEMAND      0\n",
      "smoothed_TOTALDEMAND         0\n",
      "smoothed_TEMPERATURE         0\n",
      "normalized_TOTALDEMAND       0\n",
      "normalized_FORECASTDEMAND    0\n",
      "normalized_TEMPERATURE       0\n",
      "totaldemand_y                0\n",
      "dow                          0\n",
      "doy                          0\n",
      "year                         0\n",
      "month                        0\n",
      "quarter                      0\n",
      "hour                         0\n",
      "dtype: int64\n"
     ]
    }
   ],
   "source": [
    "print(final_df.isna().sum())"
   ]
  },
  {
   "cell_type": "code",
   "execution_count": 28,
   "id": "6e2d953e",
   "metadata": {},
   "outputs": [
    {
     "name": "stdout",
     "output_type": "stream",
     "text": [
      "DatetimeIndex(['2010-01-01 00:30:00', '2010-01-01 01:00:00', '2010-01-01 01:30:00', '2010-01-01 02:00:00',\n",
      "               '2010-01-01 02:30:00', '2010-01-01 03:00:00', '2010-01-01 03:30:00', '2010-01-01 04:00:00',\n",
      "               '2010-01-01 04:30:00', '2010-01-01 05:00:00',\n",
      "               ...\n",
      "               '2021-03-17 19:30:00', '2021-03-17 20:00:00', '2021-03-17 20:30:00', '2021-03-17 21:00:00',\n",
      "               '2021-03-17 21:30:00', '2021-03-17 22:00:00', '2021-03-17 22:30:00', '2021-03-17 23:00:00',\n",
      "               '2021-03-17 23:30:00', '2021-03-18 00:00:00'],\n",
      "              dtype='datetime64[ns]', name='Unnamed: 0', length=194589, freq=None)\n"
     ]
    }
   ],
   "source": [
    "print(final_df.index)"
   ]
  },
  {
   "cell_type": "code",
   "execution_count": 29,
   "id": "fe96d71e",
   "metadata": {},
   "outputs": [],
   "source": [
    "final_df['season'] = final_df['month'].apply(lambda month: 1 if month in [12, 1, 2] else\n",
    "                                  (2 if month in [3, 4, 5] else\n",
    "                                  (3 if month in [6, 7, 8] else\n",
    "                                  (4 if month in [9, 10, 11] else None))))"
   ]
  },
  {
   "cell_type": "code",
   "execution_count": 30,
   "id": "70864bca",
   "metadata": {},
   "outputs": [
    {
     "name": "stdout",
     "output_type": "stream",
     "text": [
      "DatetimeIndex(['2010-01-01 00:30:00', '2010-01-01 01:00:00', '2010-01-01 01:30:00', '2010-01-01 02:00:00',\n",
      "               '2010-01-01 02:30:00', '2010-01-01 03:00:00', '2010-01-01 03:30:00', '2010-01-01 04:00:00',\n",
      "               '2010-01-01 04:30:00', '2010-01-01 05:00:00',\n",
      "               ...\n",
      "               '2021-03-17 19:30:00', '2021-03-17 20:00:00', '2021-03-17 20:30:00', '2021-03-17 21:00:00',\n",
      "               '2021-03-17 21:30:00', '2021-03-17 22:00:00', '2021-03-17 22:30:00', '2021-03-17 23:00:00',\n",
      "               '2021-03-17 23:30:00', '2021-03-18 00:00:00'],\n",
      "              dtype='datetime64[ns]', name='Unnamed: 0', length=194589, freq=None)\n"
     ]
    }
   ],
   "source": [
    "print(final_df.index)"
   ]
  },
  {
   "cell_type": "code",
   "execution_count": 31,
   "id": "9216c11e",
   "metadata": {},
   "outputs": [
    {
     "name": "stdout",
     "output_type": "stream",
     "text": [
      "                     PREDISPATCHSEQNO  PERIODID  FORECASTDEMAND  TOTALDEMAND  TEMPERATURE  totaldemand_x   rrp  \\\n",
      "Unnamed: 0                                                                                                       \n",
      "2010-01-01 00:30:00     2009123083.11     36.50         7680.51      7809.31        22.90        7809.31 21.50   \n",
      "2010-01-01 01:00:00     2009123083.92     37.00         7428.97      7483.69        22.60        7483.69 20.98   \n",
      "2010-01-01 01:30:00     2009123084.72     37.50         7084.80      7117.23        22.50        7117.23 20.06   \n",
      "2010-01-01 02:00:00     2009123085.51     38.00         6751.37      6812.03        22.50        6812.03 17.93   \n",
      "2010-01-01 02:30:00     2009123086.29     38.50         6484.27      6544.33        22.40        6544.33 17.43   \n",
      "...                               ...       ...             ...          ...          ...            ...   ...   \n",
      "2021-03-17 22:00:00     2021031678.94     34.00         7317.70      7419.77        19.70        7419.77 32.00   \n",
      "2021-03-17 22:30:00     2021031679.79     34.50         7266.89      7417.91        19.50        7417.91 37.01   \n",
      "2021-03-17 23:00:00     2021031680.64     35.00         7173.87      7287.32        19.10        7287.32 34.49   \n",
      "2021-03-17 23:30:00     2021031681.47     35.50         7043.24      7172.39        18.80        7172.39 32.55   \n",
      "2021-03-18 00:00:00     2021031682.30     36.00         6961.08      7094.51        18.60        7094.51 32.63   \n",
      "\n",
      "                     smoothed_FORECASTDEMAND  smoothed_TOTALDEMAND  smoothed_TEMPERATURE  normalized_TOTALDEMAND  \\\n",
      "Unnamed: 0                                                                                                         \n",
      "2010-01-01 00:30:00                  7699.97               7782.00                 25.23                   -0.23   \n",
      "2010-01-01 01:00:00                  7690.57               7774.00                 25.27                   -0.48   \n",
      "2010-01-01 01:30:00                  7681.34               7766.97                 25.30                   -0.77   \n",
      "2010-01-01 02:00:00                  7672.75               7760.41                 25.34                   -1.00   \n",
      "2010-01-01 02:30:00                  7665.72               7756.32                 25.37                   -1.21   \n",
      "...                                      ...                   ...                   ...                     ...   \n",
      "2021-03-17 22:00:00                  7400.37               7422.86                 19.71                   -0.53   \n",
      "2021-03-17 22:30:00                  7399.72               7424.36                 19.69                   -0.53   \n",
      "2021-03-17 23:00:00                  7399.13               7425.78                 19.67                   -0.63   \n",
      "2021-03-17 23:30:00                  7398.57               7428.19                 19.65                   -0.72   \n",
      "2021-03-18 00:00:00                  7398.13               7430.17                 19.63                   -0.78   \n",
      "\n",
      "                     normalized_FORECASTDEMAND  normalized_TEMPERATURE  totaldemand_y  dow  doy  year  month  quarter  \\\n",
      "Unnamed: 0                                                                                                              \n",
      "2010-01-01 00:30:00                      -0.33                    0.92        7809.31    4    1  2010      1        1   \n",
      "2010-01-01 01:00:00                      -0.52                    0.87        7483.69    4    1  2010      1        1   \n",
      "2010-01-01 01:30:00                      -0.78                    0.85        7117.23    4    1  2010      1        1   \n",
      "2010-01-01 02:00:00                      -1.04                    0.85        6812.03    4    1  2010      1        1   \n",
      "2010-01-01 02:30:00                      -1.24                    0.83        6544.33    4    1  2010      1        1   \n",
      "...                                        ...                     ...            ...  ...  ...   ...    ...      ...   \n",
      "2021-03-17 22:00:00                      -0.60                    0.37        7419.77    2   76  2021      3        1   \n",
      "2021-03-17 22:30:00                      -0.64                    0.34        7417.91    2   76  2021      3        1   \n",
      "2021-03-17 23:00:00                      -0.71                    0.27        7287.32    2   76  2021      3        1   \n",
      "2021-03-17 23:30:00                      -0.82                    0.22        7172.39    2   76  2021      3        1   \n",
      "2021-03-18 00:00:00                      -0.88                    0.19        7094.51    3   77  2021      3        1   \n",
      "\n",
      "                     hour  season  \n",
      "Unnamed: 0                         \n",
      "2010-01-01 00:30:00     0       1  \n",
      "2010-01-01 01:00:00     1       1  \n",
      "2010-01-01 01:30:00     1       1  \n",
      "2010-01-01 02:00:00     2       1  \n",
      "2010-01-01 02:30:00     2       1  \n",
      "...                   ...     ...  \n",
      "2021-03-17 22:00:00    22       2  \n",
      "2021-03-17 22:30:00    22       2  \n",
      "2021-03-17 23:00:00    23       2  \n",
      "2021-03-17 23:30:00    23       2  \n",
      "2021-03-18 00:00:00     0       2  \n",
      "\n",
      "[194589 rows x 21 columns]\n"
     ]
    }
   ],
   "source": [
    "print(final_df)"
   ]
  },
  {
   "cell_type": "code",
   "execution_count": 32,
   "id": "9e01969b",
   "metadata": {},
   "outputs": [],
   "source": [
    "def Degree_Days2(df, HDD_ct=17, CDD_ct=19.5):\n",
    "    Tbar = df.resample('24H', offset='21H').mean() # Mean from 9pm (day i-1) - 9pm (day i)\n",
    "    DD = pd.DataFrame(index=df.index, columns=['HDD', 'CDD'])\n",
    "    for i in range(0,Tbar.shape[0]):\n",
    "        DD['HDD'].iloc[48*(i):48*(i+1)] = max(0, HDD_ct-Tbar.iloc[i])\n",
    "        DD['CDD'].iloc[48*(i):48*(i+1)] = max(0, Tbar.iloc[i]-CDD_ct)\n",
    "    return Tbar, DD"
   ]
  },
  {
   "cell_type": "code",
   "execution_count": 33,
   "id": "928ba5e9",
   "metadata": {},
   "outputs": [
    {
     "data": {
      "text/plain": [
       "(Unnamed: 0\n",
       " 2009-12-31 21:00:00   25.26\n",
       " 2010-01-01 21:00:00   25.09\n",
       " 2010-01-02 21:00:00   19.94\n",
       " 2010-01-03 21:00:00   20.61\n",
       " 2010-01-04 21:00:00   22.43\n",
       "                        ... \n",
       " 2021-03-13 21:00:00   19.38\n",
       " 2021-03-14 21:00:00   17.14\n",
       " 2021-03-15 21:00:00   17.51\n",
       " 2021-03-16 21:00:00   19.75\n",
       " 2021-03-17 21:00:00   19.23\n",
       " Freq: 24H, Name: TEMPERATURE, Length: 4095, dtype: float64,\n",
       "                     HDD  CDD\n",
       " Unnamed: 0                  \n",
       " 2010-01-01 00:30:00   0 5.76\n",
       " 2010-01-01 01:00:00   0 5.76\n",
       " 2010-01-01 01:30:00   0 5.76\n",
       " 2010-01-01 02:00:00   0 5.76\n",
       " 2010-01-01 02:30:00   0 5.76\n",
       " ...                  ..  ...\n",
       " 2021-03-17 22:00:00   0 4.42\n",
       " 2021-03-17 22:30:00   0 4.42\n",
       " 2021-03-17 23:00:00   0 4.42\n",
       " 2021-03-17 23:30:00   0 4.42\n",
       " 2021-03-18 00:00:00   0 4.42\n",
       " \n",
       " [194589 rows x 2 columns])"
      ]
     },
     "execution_count": 33,
     "metadata": {},
     "output_type": "execute_result"
    }
   ],
   "source": [
    "Degree_Days2(final_df['TEMPERATURE'])"
   ]
  },
  {
   "cell_type": "code",
   "execution_count": 34,
   "id": "f4676fe2",
   "metadata": {},
   "outputs": [],
   "source": [
    "Tbar, DD = Degree_Days2(final_df['TEMPERATURE'])"
   ]
  },
  {
   "cell_type": "code",
   "execution_count": 35,
   "id": "c9a9cd67",
   "metadata": {},
   "outputs": [
    {
     "name": "stdout",
     "output_type": "stream",
     "text": [
      "30\n"
     ]
    }
   ],
   "source": [
    "print(Tbar.isna().sum())"
   ]
  },
  {
   "cell_type": "code",
   "execution_count": 36,
   "id": "be640338",
   "metadata": {},
   "outputs": [
    {
     "name": "stdout",
     "output_type": "stream",
     "text": [
      "HDD    0\n",
      "CDD    0\n",
      "dtype: int64\n"
     ]
    }
   ],
   "source": [
    "print(DD.isna().sum())"
   ]
  },
  {
   "cell_type": "code",
   "execution_count": 37,
   "id": "5ff93b8e",
   "metadata": {},
   "outputs": [
    {
     "name": "stdout",
     "output_type": "stream",
     "text": [
      "Unnamed: 0\n",
      "2010-01-01 00:30:00    0\n",
      "2010-01-01 01:00:00    0\n",
      "2010-01-01 01:30:00    0\n",
      "2010-01-01 02:00:00    0\n",
      "2010-01-01 02:30:00    0\n",
      "                      ..\n",
      "2021-03-17 22:00:00    0\n",
      "2021-03-17 22:30:00    0\n",
      "2021-03-17 23:00:00    0\n",
      "2021-03-17 23:30:00    0\n",
      "2021-03-18 00:00:00    0\n",
      "Name: HDD, Length: 194589, dtype: object\n"
     ]
    }
   ],
   "source": [
    "print(DD['HDD'])"
   ]
  },
  {
   "cell_type": "code",
   "execution_count": 43,
   "id": "942d63ba",
   "metadata": {},
   "outputs": [
    {
     "name": "stderr",
     "output_type": "stream",
     "text": [
      "No artists with labels found to put in legend.  Note that artists whose label start with an underscore are ignored when legend() is called with no argument.\n"
     ]
    },
    {
     "data": {
      "image/png": "[encoded data removed]",
      "text/plain": [
       "<Figure size 432x288 with 1 Axes>"
      ]
     },
     "metadata": {
      "needs_background": "light"
     },
     "output_type": "display_data"
    }
   ],
   "source": [
    "plt.plot(DD.iloc[1:10000])\n",
    "plt.title(\"Degree Days\")\n",
    "plt.xlabel(\"Time\")\n",
    "plt.ylabel(\"Degrees °C\")\n",
    "plt.legend()\n",
    "plt.show()"
   ]
  },
  {
   "cell_type": "code",
   "execution_count": null,
   "id": "6b7acb65",
   "metadata": {},
   "outputs": [],
   "source": []
  }
 ],
 "metadata": {
  "kernelspec": {
   "display_name": "Python 3 (ipykernel)",
   "language": "python",
   "name": "python3"
  },
  "language_info": {
   "codemirror_mode": {
    "name": "ipython",
    "version": 3
   },
   "file_extension": ".py",
   "mimetype": "text/x-python",
   "name": "python",
   "nbconvert_exporter": "python",
   "pygments_lexer": "ipython3",
   "version": "3.9.12"
  }
 },
 "nbformat": 4,
 "nbformat_minor": 5
}
