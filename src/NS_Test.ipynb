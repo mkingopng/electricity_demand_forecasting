{
 "cells": [
  {
   "cell_type": "markdown",
   "id": "cea85179",
   "metadata": {},
   "source": [
    "# Things to do: \n",
    "- What is CDD and HDD and what does it do?\n",
    "- Lag Variable function updates\n",
    "- Plotting total demand by 30min and group by week day\n",
    "- Outlier handling: How we want to approach outliers found (Trimming, Capping, Discretization) \n",
    "- Plot demand vs season"
   ]
  },
  {
   "cell_type": "code",
   "execution_count": 1,
   "id": "b5bb5db3f4edff41",
   "metadata": {
    "ExecuteTime": {
     "end_time": "2024-04-05T08:35:50.011803Z",
     "start_time": "2024-04-05T08:35:50.009693Z"
    }
   },
   "source": [
    "import pandas as pd\n",
    "import os\n",
    "import numpy as np\n",
    "import seaborn as sns\n",
    "import matplotlib.pyplot as plt\n",
    "import warnings"
   ],
   "outputs": []
  },
  {
   "cell_type": "code",
   "execution_count": 2,
   "id": "ffc73291",
   "metadata": {
    "ExecuteTime": {
     "end_time": "2024-04-05T08:35:50.350079Z",
     "start_time": "2024-04-05T08:35:50.348222Z"
    }
   },
   "source": [
    "warnings.filterwarnings('ignore')"
   ],
   "outputs": []
  },
  {
   "cell_type": "code",
   "execution_count": 3,
   "id": "63d2d0b7",
   "metadata": {
    "ExecuteTime": {
     "end_time": "2024-04-05T08:35:50.356350Z",
     "start_time": "2024-04-05T08:35:50.354926Z"
    }
   },
   "source": [
    "# pd.options.display.max_columns = 50\n",
    "# pd.options.display.max_rows = 50\n",
    "# pd.options.display.width = 120\n",
    "# pd.options.display.float_format = '{:.2f}'.format"
   ],
   "outputs": []
  },
  {
   "cell_type": "markdown",
   "id": "707329d7",
   "metadata": {},
   "source": [
    "# Loading Data\n",
    "Loading data from the processed and combined csv file into the dataframe to commence preprocessing and cleansing."
   ]
  },
  {
   "cell_type": "code",
   "execution_count": 4,
   "id": "516bd525",
   "metadata": {
    "ExecuteTime": {
     "end_time": "2024-04-05T08:35:50.367072Z",
     "start_time": "2024-04-05T08:35:50.365424Z"
    }
   },
   "source": [
    "source_data = r'./../data/NSW/processed_data.csv'  \n",
    "# todo: this comes from my earlier stuff, need to add this work to that. no point in having 2 files"
   ],
   "outputs": []
  },
  {
   "cell_type": "code",
   "execution_count": 5,
   "id": "d88fa43c",
   "metadata": {
    "ExecuteTime": {
     "end_time": "2024-04-05T08:35:50.664193Z",
     "start_time": "2024-04-05T08:35:50.388137Z"
    }
   },
   "source": [
    "source_df = pd.read_csv(source_data).set_index('Unnamed: 0')\n",
    "source_df"
   ],
   "outputs": []
  },
  {
   "cell_type": "markdown",
   "id": "bccb9b78",
   "metadata": {},
   "source": [
    "Checking if there are any NA values that we need to take into considering or drop the columns completely since data has been smoothed."
   ]
  },
  {
   "cell_type": "code",
   "execution_count": 6,
   "id": "9b20cab6",
   "metadata": {
    "ExecuteTime": {
     "end_time": "2024-04-05T08:35:50.669020Z",
     "start_time": "2024-04-05T08:35:50.665010Z"
    }
   },
   "source": [
    "source_df.isna().sum()"
   ],
   "outputs": []
  },
  {
   "cell_type": "code",
   "execution_count": 7,
   "id": "741f3c15",
   "metadata": {
    "ExecuteTime": {
     "end_time": "2024-04-05T08:35:50.745688Z",
     "start_time": "2024-04-05T08:35:50.669508Z"
    }
   },
   "source": [
    "source_df.columns"
   ],
   "outputs": []
  },
  {
   "cell_type": "code",
   "execution_count": 8,
   "id": "c207feba",
   "metadata": {
    "ExecuteTime": {
     "end_time": "2024-04-05T08:35:50.755485Z",
     "start_time": "2024-04-05T08:35:50.746515Z"
    }
   },
   "source": [
    "source_df.dtypes"
   ],
   "outputs": []
  },
  {
   "cell_type": "code",
   "execution_count": 9,
   "id": "550b968a",
   "metadata": {
    "ExecuteTime": {
     "end_time": "2024-04-05T08:35:50.764526Z",
     "start_time": "2024-04-05T08:35:50.755953Z"
    }
   },
   "source": [
    "updated_df = source_df"
   ],
   "outputs": []
  },
  {
   "cell_type": "code",
   "execution_count": 10,
   "id": "6d1a86b9",
   "metadata": {
    "ExecuteTime": {
     "end_time": "2024-04-05T08:35:50.775352Z",
     "start_time": "2024-04-05T08:35:50.765004Z"
    }
   },
   "source": [
    "updated_df.index"
   ],
   "outputs": []
  },
  {
   "cell_type": "code",
   "execution_count": 11,
   "id": "1f3d8d82",
   "metadata": {
    "ExecuteTime": {
     "end_time": "2024-04-05T08:35:50.812593Z",
     "start_time": "2024-04-05T08:35:50.776069Z"
    }
   },
   "source": [
    "updated_df.index=pd.to_datetime(updated_df.index)"
   ],
   "outputs": []
  },
  {
   "cell_type": "markdown",
   "id": "86a2895c",
   "metadata": {},
   "source": [
    "Dropped Forecast_Daily and TotalDemand_daily - contained 33 N/A's."
   ]
  },
  {
   "cell_type": "code",
   "execution_count": 12,
   "id": "e498aaf1",
   "metadata": {
    "ExecuteTime": {
     "end_time": "2024-04-05T08:35:50.820036Z",
     "start_time": "2024-04-05T08:35:50.813202Z"
    }
   },
   "source": [
    "updated_df.drop(['FORECASTDEMAND_daily', 'TOTALDEMAND_daily'], axis=1, inplace=True)"
   ],
   "outputs": []
  },
  {
   "cell_type": "code",
   "execution_count": 13,
   "id": "05eb6023",
   "metadata": {
    "ExecuteTime": {
     "end_time": "2024-04-05T08:35:50.824355Z",
     "start_time": "2024-04-05T08:35:50.820643Z"
    }
   },
   "source": [
    "updated_df.isna().sum()"
   ],
   "outputs": []
  },
  {
   "cell_type": "code",
   "execution_count": 14,
   "id": "e5883a9d",
   "metadata": {
    "ExecuteTime": {
     "end_time": "2024-04-05T08:35:50.833608Z",
     "start_time": "2024-04-05T08:35:50.825531Z"
    }
   },
   "source": [
    "updated_df"
   ],
   "outputs": []
  },
  {
   "cell_type": "code",
   "execution_count": 15,
   "id": "5c4b0e33",
   "metadata": {
    "ExecuteTime": {
     "end_time": "2024-04-05T08:35:50.839346Z",
     "start_time": "2024-04-05T08:35:50.834109Z"
    }
   },
   "source": [
    "updated_df.head()"
   ],
   "outputs": []
  },
  {
   "cell_type": "markdown",
   "id": "007334d1",
   "metadata": {},
   "source": [
    "# Feature Engineering\n",
    "\n",
    "## DateTime Features\n",
    "The following section creates date time features."
   ]
  },
  {
   "cell_type": "code",
   "execution_count": 16,
   "id": "1cf9f423",
   "metadata": {
    "ExecuteTime": {
     "end_time": "2024-04-05T08:35:50.861098Z",
     "start_time": "2024-04-05T08:35:50.839833Z"
    }
   },
   "source": [
    "demand = updated_df.copy()\n",
    "demand = demand[['totaldemand']]\n",
    "demand.loc[:, 'dow'] = demand.index.dayofweek\n",
    "demand.loc[:, 'doy'] = demand.index.dayofyear\n",
    "demand.loc[:, 'year'] = demand.index.year\n",
    "demand.loc[:, 'month'] = demand.index.month\n",
    "demand.loc[:, 'quarter'] = demand.index.quarter\n",
    "demand.loc[:, 'hour'] = demand.index.hour\n"
   ],
   "outputs": []
  },
  {
   "cell_type": "code",
   "execution_count": 17,
   "id": "84355550",
   "metadata": {
    "ExecuteTime": {
     "end_time": "2024-04-05T08:35:50.864432Z",
     "start_time": "2024-04-05T08:35:50.861652Z"
    }
   },
   "source": [
    "demand.head()"
   ],
   "outputs": []
  },
  {
   "cell_type": "code",
   "execution_count": 18,
   "id": "560829b6",
   "metadata": {
    "ExecuteTime": {
     "end_time": "2024-04-05T08:35:50.869230Z",
     "start_time": "2024-04-05T08:35:50.864916Z"
    }
   },
   "source": [
    "demand.iloc[45: 60]"
   ],
   "outputs": []
  },
  {
   "cell_type": "markdown",
   "id": "18d01ca6",
   "metadata": {},
   "source": [
    "Merge to the updated_df"
   ]
  },
  {
   "cell_type": "code",
   "execution_count": 19,
   "id": "f6b0b5cc",
   "metadata": {
    "ExecuteTime": {
     "end_time": "2024-04-05T08:35:50.873798Z",
     "start_time": "2024-04-05T08:35:50.869707Z"
    }
   },
   "source": [
    "demand.isna().sum()"
   ],
   "outputs": []
  },
  {
   "cell_type": "code",
   "execution_count": 20,
   "id": "3d743da4",
   "metadata": {
    "ExecuteTime": {
     "end_time": "2024-04-05T08:35:50.879709Z",
     "start_time": "2024-04-05T08:35:50.874254Z"
    }
   },
   "source": [
    "demand.index"
   ],
   "outputs": []
  },
  {
   "cell_type": "code",
   "execution_count": 21,
   "id": "32cfb165",
   "metadata": {
    "ExecuteTime": {
     "end_time": "2024-04-05T08:35:50.891878Z",
     "start_time": "2024-04-05T08:35:50.880161Z"
    }
   },
   "source": [
    "final_df = pd.merge(updated_df, demand, left_index=True, right_index=True)"
   ],
   "outputs": []
  },
  {
   "cell_type": "code",
   "execution_count": 22,
   "id": "6586ec15",
   "metadata": {
    "ExecuteTime": {
     "end_time": "2024-04-05T08:35:50.905167Z",
     "start_time": "2024-04-05T08:35:50.892520Z"
    }
   },
   "source": [
    "final_df"
   ],
   "outputs": []
  },
  {
   "cell_type": "code",
   "execution_count": 23,
   "id": "94c39226",
   "metadata": {
    "ExecuteTime": {
     "end_time": "2024-04-05T08:35:50.917407Z",
     "start_time": "2024-04-05T08:35:50.905633Z"
    }
   },
   "source": [
    "# final_df.isna().sum()"
   ],
   "outputs": []
  },
  {
   "cell_type": "code",
   "execution_count": 24,
   "id": "6e2d953e",
   "metadata": {
    "ExecuteTime": {
     "end_time": "2024-04-05T08:35:50.924183Z",
     "start_time": "2024-04-05T08:35:50.917884Z"
    }
   },
   "source": [
    "# final_df.index"
   ],
   "outputs": []
  },
  {
   "cell_type": "markdown",
   "id": "56cf1537",
   "metadata": {},
   "source": [
    "## Adding Season Data\n",
    "Season data being added to the dataframe before the final_df is created and exported to csv."
   ]
  },
  {
   "cell_type": "code",
   "execution_count": 25,
   "id": "fe96d71e",
   "metadata": {
    "ExecuteTime": {
     "end_time": "2024-04-05T08:35:50.977872Z",
     "start_time": "2024-04-05T08:35:50.924642Z"
    }
   },
   "source": [
    "final_df['season'] = final_df['month'].apply(lambda month: 1 if month in [12, 1, 2] else\n",
    "                                  (2 if month in [3, 4, 5] else\n",
    "                                  (3 if month in [6, 7, 8] else\n",
    "                                  (4 if month in [9, 10, 11] else None))))"
   ],
   "outputs": []
  },
  {
   "cell_type": "code",
   "execution_count": 26,
   "id": "70864bca",
   "metadata": {
    "ExecuteTime": {
     "end_time": "2024-04-05T08:35:50.980243Z",
     "start_time": "2024-04-05T08:35:50.978379Z"
    }
   },
   "source": [
    "final_df.index"
   ],
   "outputs": []
  },
  {
   "cell_type": "code",
   "execution_count": 27,
   "id": "9216c11e",
   "metadata": {
    "ExecuteTime": {
     "end_time": "2024-04-05T08:35:50.994979Z",
     "start_time": "2024-04-05T08:35:50.980721Z"
    }
   },
   "source": [
    "final_df.head()"
   ],
   "outputs": []
  },
  {
   "cell_type": "markdown",
   "id": "2036d2c8",
   "metadata": {},
   "source": [
    "# Exporting Dataframe to CSV\n",
    "The final dataframe is being exported to csv so that it can be used for additional analysis and modelling."
   ]
  },
  {
   "cell_type": "code",
   "execution_count": 28,
   "id": "42f5136d2450ca07",
   "metadata": {
    "ExecuteTime": {
     "end_time": "2024-04-05T08:35:50.997855Z",
     "start_time": "2024-04-05T08:35:50.995453Z"
    }
   },
   "source": [
    "# final_df.to_csv(os.path.join('./../data/NSW', 'final_df.csv'))\n",
    "# todo: this is what i have been working on but i need to add the later work"
   ],
   "outputs": []
  },
  {
   "cell_type": "markdown",
   "id": "3cef3837",
   "metadata": {},
   "source": [
    "## Degree Days"
   ]
  },
  {
   "cell_type": "code",
   "execution_count": 29,
   "id": "9e01969b",
   "metadata": {
    "ExecuteTime": {
     "end_time": "2024-04-05T08:35:51.001398Z",
     "start_time": "2024-04-05T08:35:50.998328Z"
    }
   },
   "source": [
    "def Degree_Days2(df, HDD_ct=17, CDD_ct=19.5):\n",
    "    Tbar = df.resample('24H', offset='21H').mean() # Mean from 9pm (day i-1) - 9pm (day i)\n",
    "    DD = pd.DataFrame(index=df.index, columns=['HDD', 'CDD'])\n",
    "    for i in range(0,Tbar.shape[0]):\n",
    "        DD['HDD'].iloc[48*(i):48*(i+1)] = max(0, HDD_ct-Tbar.iloc[i])\n",
    "        DD['CDD'].iloc[48*(i):48*(i+1)] = max(0, Tbar.iloc[i]-CDD_ct)\n",
    "    return Tbar, DD"
   ],
   "outputs": []
  },
  {
   "cell_type": "code",
   "execution_count": 30,
   "id": "928ba5e9",
   "metadata": {
    "ExecuteTime": {
     "end_time": "2024-04-05T08:35:57.236755Z",
     "start_time": "2024-04-05T08:35:51.001853Z"
    }
   },
   "source": [
    "Degree_Days2(final_df['TEMPERATURE'])"
   ],
   "outputs": []
  },
  {
   "cell_type": "code",
   "execution_count": 31,
   "id": "f4676fe2",
   "metadata": {
    "ExecuteTime": {
     "end_time": "2024-04-05T08:36:03.426446Z",
     "start_time": "2024-04-05T08:35:57.237317Z"
    }
   },
   "source": [
    "Tbar, DD = Degree_Days2(final_df['TEMPERATURE'])\n",
    "# todo: is Tbar a new variable?"
   ],
   "outputs": []
  },
  {
   "cell_type": "code",
   "execution_count": 32,
   "id": "c9a9cd67",
   "metadata": {
    "ExecuteTime": {
     "end_time": "2024-04-05T08:36:03.430430Z",
     "start_time": "2024-04-05T08:36:03.428452Z"
    }
   },
   "source": [
    "Tbar.isna().sum()"
   ],
   "outputs": []
  },
  {
   "cell_type": "code",
   "execution_count": 33,
   "id": "be640338",
   "metadata": {
    "ExecuteTime": {
     "end_time": "2024-04-05T08:36:03.518170Z",
     "start_time": "2024-04-05T08:36:03.430889Z"
    }
   },
   "source": [
    "DD.isna().sum()"
   ],
   "outputs": []
  },
  {
   "cell_type": "code",
   "execution_count": 34,
   "id": "5ff93b8e",
   "metadata": {
    "ExecuteTime": {
     "end_time": "2024-04-05T08:36:03.527401Z",
     "start_time": "2024-04-05T08:36:03.518649Z"
    }
   },
   "source": [
    "DD['HDD']"
   ],
   "outputs": []
  },
  {
   "cell_type": "code",
   "execution_count": 35,
   "id": "942d63ba",
   "metadata": {
    "ExecuteTime": {
     "end_time": "2024-04-05T08:36:03.696623Z",
     "start_time": "2024-04-05T08:36:03.527845Z"
    }
   },
   "source": [
    "plt.plot(DD.iloc[1: 10000])\n",
    "plt.title(\"Degree Days\")\n",
    "plt.xlabel(\"Time\")\n",
    "plt.ylabel(\"Degrees °C\")\n",
    "plt.legend()\n",
    "plt.show()\n",
    "# todo: fix warnings\n",
    "# todo: are these new vars that need to be added to final_df?"
   ],
   "outputs": []
  },
  {
   "cell_type": "markdown",
   "id": "7e861dd6",
   "metadata": {
    "ExecuteTime": {
     "end_time": "2024-04-03T02:47:06.915490Z",
     "start_time": "2024-04-03T02:47:06.914185Z"
    }
   },
   "source": [
    "# Outliers\n",
    "Outlier detection is a method used to find unusual or abnormal data points in a data set. \n",
    "Methods of treating outliers:\n",
    "- Trimming: removing the data from the dataset\n",
    "- Capping:For instance, if we decide on a specific value, any data point above or below that value is considered an outlier. \n",
    "- Discretization: create groups and categorise the outliers into specific group making them follow the same behavior as the other points in that group."
   ]
  },
  {
   "cell_type": "markdown",
   "id": "94f81485",
   "metadata": {},
   "source": [
    "## Temperature\n",
    "The following section looks at the outlier identification within the Temperature column of our dataframe."
   ]
  },
  {
   "cell_type": "code",
   "execution_count": 36,
   "id": "61efd5eb",
   "metadata": {
    "ExecuteTime": {
     "end_time": "2024-04-05T08:36:03.699468Z",
     "start_time": "2024-04-05T08:36:03.697180Z"
    }
   },
   "source": [
    "temp_df = final_df[['TEMPERATURE', 'month', 'season']]"
   ],
   "outputs": []
  },
  {
   "cell_type": "markdown",
   "id": "94514590",
   "metadata": {},
   "source": [
    "### ScatterPlot of Temperature"
   ]
  },
  {
   "cell_type": "code",
   "execution_count": 37,
   "id": "7920262c",
   "metadata": {
    "ExecuteTime": {
     "end_time": "2024-04-05T08:36:07.651871Z",
     "start_time": "2024-04-05T08:36:03.699963Z"
    }
   },
   "source": [
    "plt.figure(figsize=(20, 10))\n",
    "sns.scatterplot(data=temp_df, x='Unnamed: 0', y='TEMPERATURE', hue='season')\n",
    "plt.title('Temperature ScatterPlot')\n",
    "plt.xlabel('Date')\n",
    "plt.ylabel('Temperature')\n",
    "plt.show()"
   ],
   "outputs": []
  },
  {
   "cell_type": "markdown",
   "id": "51584256",
   "metadata": {},
   "source": [
    "### Boxplot of Temperature\n",
    "The boxplot is a method which allows for the easy visualisation of outliers within a given dataset. It can be seen that there are a number of data points within temperature which are at the very extreme and could be considered as outliers."
   ]
  },
  {
   "cell_type": "code",
   "execution_count": 38,
   "id": "54ff9c9f",
   "metadata": {
    "ExecuteTime": {
     "end_time": "2024-04-05T08:36:07.936853Z",
     "start_time": "2024-04-05T08:36:07.652595Z"
    }
   },
   "source": [
    "plt.figure(figsize=(20, 10))\n",
    "sns.boxplot(data=temp_df, x='season', y='TEMPERATURE', hue='season')\n",
    "plt.title('Box Plot of Temperature against seasons')\n",
    "plt.xlabel('SEASONS')\n",
    "plt.ylabel('TEMPERATURE')\n",
    "plt.show()\n",
    "# todo: is season a new variable?"
   ],
   "outputs": []
  },
  {
   "cell_type": "code",
   "execution_count": 39,
   "id": "d50af60d",
   "metadata": {},
   "source": [
    "plt.figure(figsize=(20,10))\n",
    "sns.boxplot(data=temp_df[temp_df['season']==4], x='month', y='TEMPERATURE')\n",
    "plt.title('Winter Months vs Temperature')\n",
    "plt.show()"
   ],
   "outputs": []
  },
  {
   "cell_type": "code",
   "execution_count": 40,
   "id": "4d64567d",
   "metadata": {},
   "source": [
    "plt.figure(figsize=(20,10))\n",
    "sns.boxplot(data=temp_df[temp_df['season']==1], x='month', y='TEMPERATURE')\n",
    "plt.title('Summer Months vs Temperature')\n",
    "plt.show()"
   ],
   "outputs": []
  },
  {
   "cell_type": "code",
   "execution_count": 41,
   "id": "5b40acaf",
   "metadata": {},
   "source": [
    "plt.figure(figsize=(20,10))\n",
    "sns.boxplot(data=temp_df[temp_df['season']==2], x='month', y='TEMPERATURE')\n",
    "plt.title('Autumn Months vs Temperature')\n",
    "plt.show()"
   ],
   "outputs": []
  },
  {
   "cell_type": "code",
   "execution_count": 42,
   "id": "e54943da",
   "metadata": {},
   "source": [
    "plt.figure(figsize=(20,10))\n",
    "sns.boxplot(data=temp_df[temp_df['season']==3], x='month', y='TEMPERATURE')\n",
    "plt.title('Spring Months vs Temperature')\n",
    "plt.show()"
   ],
   "outputs": []
  },
  {
   "cell_type": "code",
   "execution_count": 43,
   "id": "d7fc2c2d",
   "metadata": {},
   "source": [
    "plt.figure(figsize=(20, 10))\n",
    "sns.scatterplot(data=final_df[final_df['season']==1], x='Unnamed: 0', y='TEMPERATURE', hue='season')\n",
    "plt.title('Temperature Outliers ScatterPlot')\n",
    "plt.xlabel('Date')\n",
    "plt.ylabel('Temperature')\n",
    "plt.show()"
   ],
   "outputs": []
  },
  {
   "cell_type": "markdown",
   "id": "f06fb3b3",
   "metadata": {},
   "source": [
    "## Temperature Outliers\n",
    "The following sections looks further into the outliers for temperature which were identified in the temperature column of our datasets."
   ]
  },
  {
   "cell_type": "code",
   "execution_count": 44,
   "id": "f49d5c3b",
   "metadata": {
    "ExecuteTime": {
     "end_time": "2024-04-05T08:36:07.940810Z",
     "start_time": "2024-04-05T08:36:07.937418Z"
    }
   },
   "source": [
    "temp_highest_allowed = round(temp_df['TEMPERATURE'].mean() + 3 * temp_df['TEMPERATURE'].std(), 2)\n",
    "temp_lowest_allowed = round(temp_df['TEMPERATURE'].mean() - 3 * temp_df['TEMPERATURE'].std(), 2)\n",
    "print('Highest Allowed:', temp_highest_allowed)\n",
    "print('Lowest Allowed:', temp_lowest_allowed)"
   ],
   "outputs": []
  },
  {
   "cell_type": "code",
   "execution_count": 45,
   "id": "3b50b2bb",
   "metadata": {
    "ExecuteTime": {
     "end_time": "2024-04-05T08:36:08.018045Z",
     "start_time": "2024-04-05T08:36:07.941273Z"
    }
   },
   "source": [
    "temp_outliers = temp_df[(temp_df['TEMPERATURE']>temp_highest_allowed) | (temp_df['TEMPERATURE'] < temp_lowest_allowed)]\n",
    "print('Total Rows:', len(temp_outliers))"
   ],
   "outputs": []
  },
  {
   "cell_type": "code",
   "execution_count": 46,
   "id": "23ccb241",
   "metadata": {
    "ExecuteTime": {
     "end_time": "2024-04-05T08:36:08.240341Z",
     "start_time": "2024-04-05T08:36:08.018626Z"
    }
   },
   "source": [
    "plt.figure(figsize=(20, 10))\n",
    "sns.scatterplot(data=temp_outliers, x='Unnamed: 0', y='TEMPERATURE', hue='season')\n",
    "plt.title('Temperature Outliers ScatterPlot')\n",
    "plt.xlabel('Date')\n",
    "plt.ylabel('Temperature')\n",
    "plt.show()"
   ],
   "outputs": []
  },
  {
   "cell_type": "code",
   "execution_count": 47,
   "id": "740239c3",
   "metadata": {
    "ExecuteTime": {
     "end_time": "2024-04-05T08:36:08.242953Z",
     "start_time": "2024-04-05T08:36:08.241018Z"
    }
   },
   "source": [
    "temp_month_df = temp_df[[]]\n",
    "# fix_me: what was the plan here? "
   ],
   "outputs": []
  },
  {
   "cell_type": "markdown",
   "id": "c707227e",
   "metadata": {},
   "source": [
    "### High Temperature Values\n",
    "Outliers were identified for temperature values and high temperature outliers are more frequent from Nov to March. Indicating that during this period predictions may be less accurate."
   ]
  },
  {
   "cell_type": "code",
   "execution_count": 48,
   "id": "2b763acc",
   "metadata": {
    "ExecuteTime": {
     "end_time": "2024-04-05T08:36:08.328948Z",
     "start_time": "2024-04-05T08:36:08.243474Z"
    }
   },
   "source": [
    "high_outliers = temp_outliers.loc[temp_outliers['TEMPERATURE'] > temp_highest_allowed]\n",
    "t_high_df = high_outliers['month'].value_counts()\n",
    "t_high_df = t_high_df.reset_index()\n",
    "t_high_df.columns = ['Month','Count']\n",
    "t_high_df_sorted = t_high_df.sort_values(by='Month', ascending=True)\n",
    "# print(test_df_sorted)\n",
    "# fix_me: problem here with undefined dfs"
   ],
   "outputs": []
  },
  {
   "cell_type": "code",
   "execution_count": 49,
   "id": "384a9e8c",
   "metadata": {},
   "source": [
    "# histogram\n",
    "plt.figure(figsize=(15, 10))\n",
    "sns.barplot(data=t_high_df_sorted, x='Month', y='Count')\n",
    "plt.title('Distribution of High Temperature Outliers')\n",
    "plt.show()"
   ],
   "outputs": []
  },
  {
   "cell_type": "markdown",
   "id": "9b866fb4",
   "metadata": {},
   "source": [
    "### Low Temperature Values\n",
    "Lower tempature variations are far less those outliers observed for higher temperature variations. Lower tempature values can be found in June and July (Winter periods)."
   ]
  },
  {
   "cell_type": "code",
   "execution_count": 50,
   "id": "386719d1",
   "metadata": {},
   "source": [
    "low_outliers = temp_outliers.loc[temp_outliers['TEMPERATURE'] < temp_lowest_allowed]\n",
    "t_low_df = low_outliers['month'].value_counts()\n",
    "t_low_df = t_low_df.reset_index()\n",
    "t_low_df.columns = ['Month','Count']\n",
    "t_low_df_sorted = t_low_df.sort_values(by='Month', ascending=True)\n",
    "print(t_low_df_sorted)"
   ],
   "outputs": []
  },
  {
   "cell_type": "code",
   "execution_count": 51,
   "id": "4000978c",
   "metadata": {},
   "source": [
    "#Histogram\n",
    "plt.figure(figsize=(15,10))\n",
    "sns.barplot(data=t_low_df, x='Month', y='Count')\n",
    "plt.title('Distribution of Low Temperature Outliers')\n",
    "plt.show()"
   ],
   "outputs": []
  },
  {
   "cell_type": "markdown",
   "id": "76a6383e",
   "metadata": {},
   "source": [
    "Now that we know what the upper and lower caps are, we can apply capping to the outliers. This effectively means that we replace any values which exceed the upper and lower limits are replaced with the upper and lower limit respectively."
   ]
  },
  {
   "cell_type": "code",
   "execution_count": 52,
   "id": "9e8d6c6b",
   "metadata": {},
   "source": [
    "# final_df['TEMPERATURE'] = np.where(final_df['TEMPERATURE']>temp_highest_allowed,temp_highest_allowed, np.where(final_df['TEMPERATURE']<temp_lowest_allowed,temp_lowest_allowed,final_df['TEMPERATURE']))"
   ],
   "outputs": []
  },
  {
   "cell_type": "code",
   "execution_count": 53,
   "id": "f8a4436a",
   "metadata": {},
   "source": [
    "# final_df_temp_highest = round(final_df['TEMPERATURE'].mean() + 3*final_df['TEMPERATURE'].std(),2)\n",
    "# final_df_temp_lowest = round(final_df['TEMPERATURE'].mean() - 3*final_df['TEMPERATURE'].std(),2)\n",
    "# print(final_df_temp_highest)\n",
    "# print(final_df_temp_lowest)"
   ],
   "outputs": []
  },
  {
   "cell_type": "markdown",
   "id": "62820090",
   "metadata": {},
   "source": [
    "## Price\n",
    "The following sections looks at the outliers which might exist in the price data points which we are going to be using for future modelling."
   ]
  },
  {
   "cell_type": "code",
   "execution_count": 54,
   "id": "c3fe170b",
   "metadata": {},
   "source": [
    "price_outlier_df = final_df[['rrp', 'month', 'season']]\n",
    "# print(price_outlier_df)"
   ],
   "outputs": []
  },
  {
   "cell_type": "markdown",
   "id": "6352f3ff",
   "metadata": {},
   "source": [
    "### Scatterplot of Price"
   ]
  },
  {
   "cell_type": "code",
   "execution_count": 55,
   "id": "163d18ed",
   "metadata": {},
   "source": [
    "plt.figure(figsize=(20, 10))\n",
    "sns.scatterplot(data=price_outlier_df, x='Unnamed: 0', y='rrp', hue='season')\n",
    "plt.title('Price ScatterPlot')\n",
    "plt.xlabel('Date')\n",
    "plt.ylabel('Price')\n",
    "plt.show()"
   ],
   "outputs": []
  },
  {
   "cell_type": "markdown",
   "id": "435acc81",
   "metadata": {},
   "source": [
    "### Price Outlier Analysis\n",
    "Copying the values which are identified as outliers to a dataframe to analyse a little further."
   ]
  },
  {
   "cell_type": "code",
   "execution_count": 56,
   "id": "d1c413f4",
   "metadata": {},
   "source": [
    "price_highest_allowed = round(price_outlier_df['rrp'].mean() + 3 * price_outlier_df['rrp'].std(), 2)\n",
    "price_lowest_allowed = round(price_outlier_df['rrp'].mean() - 3 * price_outlier_df['rrp'].std(), 2)"
   ],
   "outputs": []
  },
  {
   "cell_type": "code",
   "execution_count": 57,
   "id": "259ccfdf",
   "metadata": {},
   "source": [
    "price_outliers = price_outlier_df[(price_outlier_df['rrp']>price_highest_allowed) | (price_outlier_df['rrp']<price_lowest_allowed)]\n",
    "print(len(price_outliers))"
   ],
   "outputs": []
  },
  {
   "cell_type": "code",
   "execution_count": 58,
   "id": "739d7a896459d105",
   "metadata": {},
   "source": [
    "price_outliers"
   ],
   "outputs": []
  },
  {
   "cell_type": "code",
   "execution_count": 59,
   "id": "c420fc53",
   "metadata": {},
   "source": [
    "plt.figure(figsize=(20, 10))\n",
    "sns.scatterplot(data=price_outliers,x='month', y='rrp', hue='season')\n",
    "plt.title('Scatterplot of Price by Month')\n",
    "plt.legend()\n",
    "plt.show()"
   ],
   "outputs": []
  },
  {
   "cell_type": "markdown",
   "id": "f9df2f22",
   "metadata": {},
   "source": [
    "#### Price Outlier by Month"
   ]
  },
  {
   "cell_type": "code",
   "execution_count": 60,
   "id": "1c71ac3f",
   "metadata": {},
   "source": [
    "# low_outliers = temp_outliers.loc[temp_outliers['TEMPERATURE']<temp_lowest_allowed]\n",
    "price_out_df = price_outliers['month'].value_counts()\n",
    "price_out_df = price_out_df.reset_index()\n",
    "price_out_df.columns = ['Month', 'Count']\n",
    "price_out_df_sorted = price_out_df.sort_values(by='Month', ascending=True)\n",
    "# print(price_out_df_sorted)"
   ],
   "outputs": []
  },
  {
   "cell_type": "code",
   "execution_count": 61,
   "id": "f74fa393",
   "metadata": {},
   "source": [
    "# Histogram\n",
    "plt.figure(figsize=(15, 10))\n",
    "sns.barplot(data=price_out_df_sorted, x='Month', y='Count')\n",
    "plt.title('Distribution of Price Outliers')\n",
    "plt.show()"
   ],
   "outputs": []
  },
  {
   "cell_type": "markdown",
   "id": "b1be7835",
   "metadata": {},
   "source": [
    "## Total Demand"
   ]
  },
  {
   "cell_type": "code",
   "execution_count": 62,
   "id": "6bb3af8f",
   "metadata": {},
   "source": [
    "total_demand_highest_allowed = round(final_df['TOTALDEMAND'].mean() + 3 * final_df['TOTALDEMAND'].std(), 2)\n",
    "total_demand_lowest_allowed = round(final_df['TOTALDEMAND'].mean() - 3 * final_df['TOTALDEMAND'].std(), 2)\n",
    "print(total_demand_highest_allowed)\n",
    "print(total_demand_lowest_allowed)"
   ],
   "outputs": []
  },
  {
   "cell_type": "code",
   "execution_count": 63,
   "id": "d00e3f4a",
   "metadata": {},
   "source": [
    "total_demand_outliers = final_df[(final_df['TOTALDEMAND'] > total_demand_highest_allowed) | (final_df['TOTALDEMAND'] < total_demand_lowest_allowed)]\n",
    "print(len(total_demand_outliers))"
   ],
   "outputs": []
  },
  {
   "cell_type": "code",
   "execution_count": 64,
   "id": "0c9e97a5",
   "metadata": {},
   "source": [
    "plt.figure(figsize=(20, 10))\n",
    "plt.scatter(\n",
    "    total_demand_outliers.index, \n",
    "    total_demand_outliers['TOTALDEMAND'], \n",
    "    c=total_demand_outliers['month']\n",
    ")\n",
    "plt.legend()\n",
    "plt.show()"
   ],
   "outputs": []
  },
  {
   "cell_type": "code",
   "execution_count": 65,
   "id": "b2f8a1e1",
   "metadata": {},
   "source": [
    "print(total_demand_outliers['month'].value_counts())\n",
    "#ToDO: Sort values by month"
   ],
   "outputs": []
  },
  {
   "cell_type": "markdown",
   "id": "08138b10",
   "metadata": {},
   "source": [
    "Total Demand outliers can be seen during the months from Nov to Feb. "
   ]
  },
  {
   "cell_type": "code",
   "execution_count": 66,
   "id": "cc96b38d",
   "metadata": {},
   "source": [
    "from sklearn.ensemble import IsolationForest"
   ],
   "outputs": []
  },
  {
   "cell_type": "code",
   "execution_count": 67,
   "id": "05ecac04",
   "metadata": {},
   "source": [
    "handle_outliers = final_df[['TEMPERATURE', 'rrp', 'TOTALDEMAND', 'month', 'season']]"
   ],
   "outputs": []
  },
  {
   "cell_type": "code",
   "execution_count": 68,
   "id": "7401dde6",
   "metadata": {},
   "source": [
    "random_state = np.random.RandomState(42)\n",
    "\n",
    "model = IsolationForest(\n",
    "    n_estimators=100, \n",
    "    max_samples='auto', \n",
    "    contamination=float(0.003)\n",
    ")\n",
    "\n",
    "model.fit(handle_outliers[['TEMPERATURE']])\n",
    "print(model.get_params())\n",
    "handle_outliers['Iso_forest_scores'] = model.decision_function(handle_outliers[['TEMPERATURE']])\n",
    "handle_outliers['anomaly_score'] = model.predict(handle_outliers[['TEMPERATURE']])\n",
    "handle_outliers[handle_outliers['anomaly_score'] == -1].head()\n",
    "anomaly_df = handle_outliers[handle_outliers['anomaly_score'] == -1]\n",
    "no_anomaly_df = handle_outliers[handle_outliers['anomaly_score'] == 1]"
   ],
   "outputs": []
  },
  {
   "cell_type": "code",
   "execution_count": 69,
   "id": "2433bbf9e91d73ea",
   "metadata": {},
   "source": [
    "anomaly_df.columns"
   ],
   "outputs": []
  },
  {
   "cell_type": "code",
   "execution_count": 70,
   "id": "471a031110326643",
   "metadata": {},
   "source": [
    "anomaly_df"
   ],
   "outputs": []
  },
  {
   "cell_type": "code",
   "execution_count": 71,
   "id": "6992f3e0",
   "metadata": {},
   "source": [
    "print('Total Anomalies:', len(anomaly_df))\n",
    "print('Total non-Anomaly:', len(no_anomaly_df))"
   ],
   "outputs": []
  },
  {
   "cell_type": "markdown",
   "id": "04bb1840",
   "metadata": {},
   "source": [
    "## Temperature Data - Checking Observations per Day\n",
    "Where the dates were grouped, the number of observations were counted and if the number of expected observations is less than 48 the rows related to this date are dropped.\n",
    "- 5 minute intervals = (24 * 60)/5 = 288 observations (per day)\n",
    "- 30 minute intervals = (24*60)/30 = 48 observations (per day)\n",
    "\n",
    "30 days of data are missing from the observations.\n",
    "30 days -> 30*48 = 1440\n",
    "\n",
    "Final_df\n",
    "- Has this been cleaned and outlier handling been done\n",
    "\n",
    "Check temperature data for missing observations.\n"
   ]
  },
  {
   "cell_type": "code",
   "execution_count": 155,
   "id": "d2c0abc8",
   "metadata": {},
   "source": [
    "temp_data = r'./../data/NSW/temperature_nsw.csv' \n",
    "temp = pd.read_csv(temp_data)\n",
    "print(temp.shape[0])\n",
    "temp = temp[['DATETIME','TEMPERATURE']]\n",
    "temp.index = pd.to_datetime(temp.index)\n",
    "temp.index = temp.index.strftime('%Y-%m-%d')\n",
    "\n",
    "temp.set_index('DATETIME',inplace=True)\n",
    "temp.index = pd.to_datetime(temp.index)"
   ],
   "outputs": []
  },
  {
   "cell_type": "code",
   "execution_count": 124,
   "id": "948a738e",
   "metadata": {},
   "source": [
    "temp['date'] = temp.index.date\n",
    "temp['time'] = temp.index.time\n",
    "\n",
    "#Sorting index to get days of months together - previously sorted by month\n",
    "temp.sort_index(ascending=True,inplace=True)\n",
    "\n",
    "temp_resampled = temp.resample('30min').mean()\n",
    "print(temp_resampled.shape[0])\n",
    "print(temp_resampled.tail())\n",
    "\n"
   ],
   "outputs": []
  },
  {
   "cell_type": "code",
   "execution_count": 169,
   "id": "c50598ef",
   "metadata": {},
   "source": [
    "temp_obs = temp_resampled.groupby(temp_resampled.index.date).size().reset_index(name='obs_count')\n",
    "temp_obs.set_index('index',inplace=True)\n",
    "print(temp_obs)"
   ],
   "outputs": []
  },
  {
   "cell_type": "code",
   "execution_count": 170,
   "id": "82f7d523",
   "metadata": {},
   "source": [
    "temp_obs.index = pd.to_datetime(temp_obs.index)\n",
    "temp_obs = temp_obs[temp_obs.index == '2013-02-02']\n",
    "print(temp_obs)"
   ],
   "outputs": []
  },
  {
   "cell_type": "code",
   "execution_count": 171,
   "id": "467ec740",
   "metadata": {},
   "source": [
    "print(temp_obs[temp_obs['obs_count']>48])"
   ],
   "outputs": []
  },
  {
   "cell_type": "markdown",
   "id": "b5f29491",
   "metadata": {},
   "source": [
    "We are only missing days of data where complete observations are missing - there are consistently 48 readings per day."
   ]
  },
  {
   "cell_type": "code",
   "execution_count": 172,
   "id": "c0e91f37",
   "metadata": {},
   "source": [
    "temp_df = final_df[['TEMPERATURE', 'month', 'season']]\n",
    "print(temp_df.head())"
   ],
   "outputs": []
  },
  {
   "cell_type": "code",
   "execution_count": 173,
   "id": "bd22e4a5",
   "metadata": {},
   "source": [
    "test_obs = temp_df.groupby(temp_df.index.date).size().reset_index(name='obs_count')\n",
    "print(test_obs)"
   ],
   "outputs": []
  },
  {
   "cell_type": "code",
   "execution_count": 174,
   "id": "2aa77c89",
   "metadata": {},
   "source": [
    "test_obs = test_obs[test_obs['obs_count']<48]\n",
    "print(test_obs.head(161))\n",
    "print(test_obs.shape[0])"
   ],
   "outputs": []
  },
  {
   "cell_type": "markdown",
   "id": "77394feb",
   "metadata": {},
   "source": [
    "There are some differences for dates between the raw temp data and final_df. This could be attributed to data loss during condolidation of dataframes, there are 161 impacted dates."
   ]
  }
 ],
 "metadata": {
  "kernelspec": {
   "display_name": "Python 3 (ipykernel)",
   "language": "python",
   "name": "python3"
  },
  "language_info": {
   "codemirror_mode": {
    "name": "ipython",
    "version": 3
   },
   "file_extension": ".py",
   "mimetype": "text/x-python",
   "name": "python",
   "nbconvert_exporter": "python",
   "pygments_lexer": "ipython3",
   "version": "3.9.12"
  }
 },
 "nbformat": 4,
 "nbformat_minor": 5
}
