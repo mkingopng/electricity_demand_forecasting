{
 "cells": [
  {
   "cell_type": "markdown",
   "id": "01a6f477",
   "metadata": {},
   "source": [
    "# Things to do: \n",
    "- Lag Variable function updates\n",
    "- Plotting total demand by 30min and group by week day\n",
    "- Outlier handling: How we want to approach outliers found (Trimming, Capping, Discretization) \n",
    "- Plot demand vs season"
   ]
  },
  {
   "cell_type": "code",
   "execution_count": 1,
   "id": "ffc73291",
   "metadata": {
    "ExecuteTime": {
     "end_time": "2024-04-03T02:46:51.841604Z",
     "start_time": "2024-04-03T02:46:51.839404Z"
    }
   },
   "outputs": [],
   "source": [
    "import pandas as pd\n",
    "import os\n",
    "import numpy as np\n",
    "import seaborn as sns\n",
    "import matplotlib.pyplot as plt"
   ]
  },
  {
   "cell_type": "code",
   "execution_count": 2,
   "id": "63d2d0b7",
   "metadata": {
    "ExecuteTime": {
     "end_time": "2024-04-03T02:46:51.973013Z",
     "start_time": "2024-04-03T02:46:51.970928Z"
    }
   },
   "outputs": [],
   "source": [
    "# pd.options.display.max_columns = 50\n",
    "# pd.options.display.max_rows = 50\n",
    "# pd.options.display.width = 120\n",
    "# pd.options.display.float_format = '{:.2f}'.format"
   ]
  },
  {
   "cell_type": "markdown",
   "id": "5b2f74c0",
   "metadata": {},
   "source": [
    "# Loading Data\n",
    "Loading data from the processed and combined csv file into the dataframe to commence preprocessing and cleansing."
   ]
  },
  {
   "cell_type": "code",
   "execution_count": 3,
   "id": "516bd525",
   "metadata": {
    "ExecuteTime": {
     "end_time": "2024-04-03T02:46:51.979498Z",
     "start_time": "2024-04-03T02:46:51.977966Z"
    }
   },
   "outputs": [],
   "source": [
    "source_data = r'./../data/NSW/processed_data.csv'"
   ]
  },
  {
   "cell_type": "code",
   "execution_count": 4,
   "id": "d88fa43c",
   "metadata": {
    "ExecuteTime": {
     "end_time": "2024-04-03T02:46:52.236557Z",
     "start_time": "2024-04-03T02:46:51.981352Z"
    }
   },
   "outputs": [],
   "source": [
    "source_df = pd.read_csv(source_data).set_index('Unnamed: 0')\n",
    "# print(source_df)"
   ]
  },
  {
   "cell_type": "markdown",
   "id": "c679ec02",
   "metadata": {},
   "source": [
    "Checking if there are any NA values that we need to take into considering or drop the columns completely since data has been smoothed."
   ]
  },
  {
   "cell_type": "code",
   "execution_count": 5,
   "id": "9b20cab6",
   "metadata": {
    "ExecuteTime": {
     "end_time": "2024-04-03T02:46:52.240832Z",
     "start_time": "2024-04-03T02:46:52.237272Z"
    }
   },
   "outputs": [
    {
     "name": "stdout",
     "output_type": "stream",
     "text": [
      "PREDISPATCHSEQNO              0\n",
      "PERIODID                      0\n",
      "FORECASTDEMAND                0\n",
      "TOTALDEMAND                   0\n",
      "TEMPERATURE                   0\n",
      "totaldemand                   0\n",
      "rrp                           0\n",
      "smoothed_FORECASTDEMAND       0\n",
      "smoothed_TOTALDEMAND          0\n",
      "smoothed_TEMPERATURE          0\n",
      "FORECASTDEMAND_daily         33\n",
      "TOTALDEMAND_daily            33\n",
      "normalized_TOTALDEMAND        0\n",
      "normalized_FORECASTDEMAND     0\n",
      "normalized_TEMPERATURE        0\n",
      "dtype: int64\n"
     ]
    }
   ],
   "source": [
    "print(source_df.isna().sum())"
   ]
  },
  {
   "cell_type": "code",
   "execution_count": 6,
   "id": "741f3c15",
   "metadata": {
    "ExecuteTime": {
     "end_time": "2024-04-03T02:46:52.249179Z",
     "start_time": "2024-04-03T02:46:52.241346Z"
    }
   },
   "outputs": [
    {
     "name": "stdout",
     "output_type": "stream",
     "text": [
      "Index(['PREDISPATCHSEQNO', 'PERIODID', 'FORECASTDEMAND', 'TOTALDEMAND',\n",
      "       'TEMPERATURE', 'totaldemand', 'rrp', 'smoothed_FORECASTDEMAND',\n",
      "       'smoothed_TOTALDEMAND', 'smoothed_TEMPERATURE', 'FORECASTDEMAND_daily',\n",
      "       'TOTALDEMAND_daily', 'normalized_TOTALDEMAND',\n",
      "       'normalized_FORECASTDEMAND', 'normalized_TEMPERATURE'],\n",
      "      dtype='object')\n"
     ]
    }
   ],
   "source": [
    "print(source_df.columns)"
   ]
  },
  {
   "cell_type": "code",
   "execution_count": 7,
   "id": "c207feba",
   "metadata": {
    "ExecuteTime": {
     "end_time": "2024-04-03T02:46:52.283019Z",
     "start_time": "2024-04-03T02:46:52.273042Z"
    }
   },
   "outputs": [
    {
     "name": "stdout",
     "output_type": "stream",
     "text": [
      "PREDISPATCHSEQNO             float64\n",
      "PERIODID                     float64\n",
      "FORECASTDEMAND               float64\n",
      "TOTALDEMAND                  float64\n",
      "TEMPERATURE                  float64\n",
      "totaldemand                  float64\n",
      "rrp                          float64\n",
      "smoothed_FORECASTDEMAND      float64\n",
      "smoothed_TOTALDEMAND         float64\n",
      "smoothed_TEMPERATURE         float64\n",
      "FORECASTDEMAND_daily         float64\n",
      "TOTALDEMAND_daily            float64\n",
      "normalized_TOTALDEMAND       float64\n",
      "normalized_FORECASTDEMAND    float64\n",
      "normalized_TEMPERATURE       float64\n",
      "dtype: object\n"
     ]
    }
   ],
   "source": [
    "print(source_df.dtypes)"
   ]
  },
  {
   "cell_type": "code",
   "execution_count": 8,
   "id": "550b968a",
   "metadata": {
    "ExecuteTime": {
     "end_time": "2024-04-03T02:46:52.302672Z",
     "start_time": "2024-04-03T02:46:52.293333Z"
    }
   },
   "outputs": [],
   "source": [
    "updated_df = source_df"
   ]
  },
  {
   "cell_type": "code",
   "execution_count": 9,
   "id": "6d1a86b9",
   "metadata": {
    "ExecuteTime": {
     "end_time": "2024-04-03T02:46:52.314339Z",
     "start_time": "2024-04-03T02:46:52.303304Z"
    }
   },
   "outputs": [
    {
     "name": "stdout",
     "output_type": "stream",
     "text": [
      "Index(['2010-01-01 00:30:00', '2010-01-01 01:00:00', '2010-01-01 01:30:00',\n",
      "       '2010-01-01 02:00:00', '2010-01-01 02:30:00', '2010-01-01 03:00:00',\n",
      "       '2010-01-01 03:30:00', '2010-01-01 04:00:00', '2010-01-01 04:30:00',\n",
      "       '2010-01-01 05:00:00',\n",
      "       ...\n",
      "       '2021-03-17 19:30:00', '2021-03-17 20:00:00', '2021-03-17 20:30:00',\n",
      "       '2021-03-17 21:00:00', '2021-03-17 21:30:00', '2021-03-17 22:00:00',\n",
      "       '2021-03-17 22:30:00', '2021-03-17 23:00:00', '2021-03-17 23:30:00',\n",
      "       '2021-03-18 00:00:00'],\n",
      "      dtype='object', name='Unnamed: 0', length=194589)\n"
     ]
    }
   ],
   "source": [
    "print(updated_df.index)"
   ]
  },
  {
   "cell_type": "code",
   "execution_count": 10,
   "id": "1f3d8d82",
   "metadata": {
    "ExecuteTime": {
     "end_time": "2024-04-03T02:46:52.345129Z",
     "start_time": "2024-04-03T02:46:52.315864Z"
    }
   },
   "outputs": [],
   "source": [
    "updated_df.index=pd.to_datetime(updated_df.index)"
   ]
  },
  {
   "cell_type": "markdown",
   "id": "86a2895c",
   "metadata": {},
   "source": [
    "Dropped Forecast_Daily and TotalDemand_daily - contained 33 N/A's."
   ]
  },
  {
   "cell_type": "code",
   "execution_count": 11,
   "id": "e498aaf1",
   "metadata": {
    "ExecuteTime": {
     "end_time": "2024-04-03T02:46:52.351861Z",
     "start_time": "2024-04-03T02:46:52.345791Z"
    }
   },
   "outputs": [],
   "source": [
    "updated_df.drop(['FORECASTDEMAND_daily','TOTALDEMAND_daily'],axis=1,inplace=True)"
   ]
  },
  {
   "cell_type": "code",
   "execution_count": 12,
   "id": "05eb6023",
   "metadata": {
    "ExecuteTime": {
     "end_time": "2024-04-03T02:46:52.355794Z",
     "start_time": "2024-04-03T02:46:52.352417Z"
    }
   },
   "outputs": [
    {
     "name": "stdout",
     "output_type": "stream",
     "text": [
      "PREDISPATCHSEQNO             0\n",
      "PERIODID                     0\n",
      "FORECASTDEMAND               0\n",
      "TOTALDEMAND                  0\n",
      "TEMPERATURE                  0\n",
      "totaldemand                  0\n",
      "rrp                          0\n",
      "smoothed_FORECASTDEMAND      0\n",
      "smoothed_TOTALDEMAND         0\n",
      "smoothed_TEMPERATURE         0\n",
      "normalized_TOTALDEMAND       0\n",
      "normalized_FORECASTDEMAND    0\n",
      "normalized_TEMPERATURE       0\n",
      "dtype: int64\n"
     ]
    }
   ],
   "source": [
    "print(updated_df.isna().sum())"
   ]
  },
  {
   "cell_type": "code",
   "execution_count": 13,
   "id": "e5883a9d",
   "metadata": {
    "ExecuteTime": {
     "end_time": "2024-04-03T02:46:52.362275Z",
     "start_time": "2024-04-03T02:46:52.356314Z"
    }
   },
   "outputs": [
    {
     "data": {
      "text/html": [
       "<div>\n",
       "<style scoped>\n",
       "    .dataframe tbody tr th:only-of-type {\n",
       "        vertical-align: middle;\n",
       "    }\n",
       "\n",
       "    .dataframe tbody tr th {\n",
       "        vertical-align: top;\n",
       "    }\n",
       "\n",
       "    .dataframe thead th {\n",
       "        text-align: right;\n",
       "    }\n",
       "</style>\n",
       "<table border=\"1\" class=\"dataframe\">\n",
       "  <thead>\n",
       "    <tr style=\"text-align: right;\">\n",
       "      <th></th>\n",
       "      <th>PREDISPATCHSEQNO</th>\n",
       "      <th>PERIODID</th>\n",
       "      <th>FORECASTDEMAND</th>\n",
       "      <th>TOTALDEMAND</th>\n",
       "      <th>TEMPERATURE</th>\n",
       "      <th>totaldemand</th>\n",
       "      <th>rrp</th>\n",
       "      <th>smoothed_FORECASTDEMAND</th>\n",
       "      <th>smoothed_TOTALDEMAND</th>\n",
       "      <th>smoothed_TEMPERATURE</th>\n",
       "      <th>normalized_TOTALDEMAND</th>\n",
       "      <th>normalized_FORECASTDEMAND</th>\n",
       "      <th>normalized_TEMPERATURE</th>\n",
       "    </tr>\n",
       "    <tr>\n",
       "      <th>Unnamed: 0</th>\n",
       "      <th></th>\n",
       "      <th></th>\n",
       "      <th></th>\n",
       "      <th></th>\n",
       "      <th></th>\n",
       "      <th></th>\n",
       "      <th></th>\n",
       "      <th></th>\n",
       "      <th></th>\n",
       "      <th></th>\n",
       "      <th></th>\n",
       "      <th></th>\n",
       "      <th></th>\n",
       "    </tr>\n",
       "  </thead>\n",
       "  <tbody>\n",
       "    <tr>\n",
       "      <th>2010-01-01 00:30:00</th>\n",
       "      <td>2.009123e+09</td>\n",
       "      <td>36.5</td>\n",
       "      <td>7680.510417</td>\n",
       "      <td>7809.31</td>\n",
       "      <td>22.9</td>\n",
       "      <td>7809.31</td>\n",
       "      <td>21.50</td>\n",
       "      <td>7699.974365</td>\n",
       "      <td>7781.995417</td>\n",
       "      <td>25.233333</td>\n",
       "      <td>-0.232608</td>\n",
       "      <td>-0.325943</td>\n",
       "      <td>0.916251</td>\n",
       "    </tr>\n",
       "    <tr>\n",
       "      <th>2010-01-01 01:00:00</th>\n",
       "      <td>2.009123e+09</td>\n",
       "      <td>37.0</td>\n",
       "      <td>7428.971370</td>\n",
       "      <td>7483.69</td>\n",
       "      <td>22.6</td>\n",
       "      <td>7483.69</td>\n",
       "      <td>20.98</td>\n",
       "      <td>7690.566078</td>\n",
       "      <td>7773.996250</td>\n",
       "      <td>25.266667</td>\n",
       "      <td>-0.483133</td>\n",
       "      <td>-0.518995</td>\n",
       "      <td>0.865312</td>\n",
       "    </tr>\n",
       "    <tr>\n",
       "      <th>2010-01-01 01:30:00</th>\n",
       "      <td>2.009123e+09</td>\n",
       "      <td>37.5</td>\n",
       "      <td>7084.802162</td>\n",
       "      <td>7117.23</td>\n",
       "      <td>22.5</td>\n",
       "      <td>7117.23</td>\n",
       "      <td>20.06</td>\n",
       "      <td>7681.336748</td>\n",
       "      <td>7766.966458</td>\n",
       "      <td>25.302083</td>\n",
       "      <td>-0.765079</td>\n",
       "      <td>-0.783139</td>\n",
       "      <td>0.848332</td>\n",
       "    </tr>\n",
       "    <tr>\n",
       "      <th>2010-01-01 02:00:00</th>\n",
       "      <td>2.009123e+09</td>\n",
       "      <td>38.0</td>\n",
       "      <td>6751.369600</td>\n",
       "      <td>6812.03</td>\n",
       "      <td>22.5</td>\n",
       "      <td>6812.03</td>\n",
       "      <td>17.93</td>\n",
       "      <td>7672.747139</td>\n",
       "      <td>7760.413125</td>\n",
       "      <td>25.335417</td>\n",
       "      <td>-0.999894</td>\n",
       "      <td>-1.039043</td>\n",
       "      <td>0.848332</td>\n",
       "    </tr>\n",
       "    <tr>\n",
       "      <th>2010-01-01 02:30:00</th>\n",
       "      <td>2.009123e+09</td>\n",
       "      <td>38.5</td>\n",
       "      <td>6484.270789</td>\n",
       "      <td>6544.33</td>\n",
       "      <td>22.4</td>\n",
       "      <td>6544.33</td>\n",
       "      <td>17.43</td>\n",
       "      <td>7665.716673</td>\n",
       "      <td>7756.316458</td>\n",
       "      <td>25.366667</td>\n",
       "      <td>-1.205856</td>\n",
       "      <td>-1.244036</td>\n",
       "      <td>0.831352</td>\n",
       "    </tr>\n",
       "    <tr>\n",
       "      <th>...</th>\n",
       "      <td>...</td>\n",
       "      <td>...</td>\n",
       "      <td>...</td>\n",
       "      <td>...</td>\n",
       "      <td>...</td>\n",
       "      <td>...</td>\n",
       "      <td>...</td>\n",
       "      <td>...</td>\n",
       "      <td>...</td>\n",
       "      <td>...</td>\n",
       "      <td>...</td>\n",
       "      <td>...</td>\n",
       "      <td>...</td>\n",
       "    </tr>\n",
       "    <tr>\n",
       "      <th>2021-03-17 22:00:00</th>\n",
       "      <td>2.021032e+09</td>\n",
       "      <td>34.0</td>\n",
       "      <td>7317.702687</td>\n",
       "      <td>7419.77</td>\n",
       "      <td>19.7</td>\n",
       "      <td>7419.77</td>\n",
       "      <td>32.00</td>\n",
       "      <td>7400.366626</td>\n",
       "      <td>7422.855208</td>\n",
       "      <td>19.712500</td>\n",
       "      <td>-0.532312</td>\n",
       "      <td>-0.604392</td>\n",
       "      <td>0.372894</td>\n",
       "    </tr>\n",
       "    <tr>\n",
       "      <th>2021-03-17 22:30:00</th>\n",
       "      <td>2.021032e+09</td>\n",
       "      <td>34.5</td>\n",
       "      <td>7266.887647</td>\n",
       "      <td>7417.91</td>\n",
       "      <td>19.5</td>\n",
       "      <td>7417.91</td>\n",
       "      <td>37.01</td>\n",
       "      <td>7399.723912</td>\n",
       "      <td>7424.357917</td>\n",
       "      <td>19.691667</td>\n",
       "      <td>-0.533743</td>\n",
       "      <td>-0.643392</td>\n",
       "      <td>0.338934</td>\n",
       "    </tr>\n",
       "    <tr>\n",
       "      <th>2021-03-17 23:00:00</th>\n",
       "      <td>2.021032e+09</td>\n",
       "      <td>35.0</td>\n",
       "      <td>7173.866522</td>\n",
       "      <td>7287.32</td>\n",
       "      <td>19.1</td>\n",
       "      <td>7287.32</td>\n",
       "      <td>34.49</td>\n",
       "      <td>7399.132502</td>\n",
       "      <td>7425.781458</td>\n",
       "      <td>19.666667</td>\n",
       "      <td>-0.634216</td>\n",
       "      <td>-0.714784</td>\n",
       "      <td>0.271015</td>\n",
       "    </tr>\n",
       "    <tr>\n",
       "      <th>2021-03-17 23:30:00</th>\n",
       "      <td>2.021032e+09</td>\n",
       "      <td>35.5</td>\n",
       "      <td>7043.236857</td>\n",
       "      <td>7172.39</td>\n",
       "      <td>18.8</td>\n",
       "      <td>7172.39</td>\n",
       "      <td>32.55</td>\n",
       "      <td>7398.573481</td>\n",
       "      <td>7428.187917</td>\n",
       "      <td>19.647917</td>\n",
       "      <td>-0.722640</td>\n",
       "      <td>-0.815040</td>\n",
       "      <td>0.220075</td>\n",
       "    </tr>\n",
       "    <tr>\n",
       "      <th>2021-03-18 00:00:00</th>\n",
       "      <td>2.021032e+09</td>\n",
       "      <td>36.0</td>\n",
       "      <td>6961.076901</td>\n",
       "      <td>7094.51</td>\n",
       "      <td>18.6</td>\n",
       "      <td>7094.51</td>\n",
       "      <td>32.63</td>\n",
       "      <td>7398.131553</td>\n",
       "      <td>7430.172917</td>\n",
       "      <td>19.633333</td>\n",
       "      <td>-0.782560</td>\n",
       "      <td>-0.878096</td>\n",
       "      <td>0.186115</td>\n",
       "    </tr>\n",
       "  </tbody>\n",
       "</table>\n",
       "<p>194589 rows × 13 columns</p>\n",
       "</div>"
      ],
      "text/plain": [
       "                     PREDISPATCHSEQNO  PERIODID  FORECASTDEMAND  TOTALDEMAND  \\\n",
       "Unnamed: 0                                                                     \n",
       "2010-01-01 00:30:00      2.009123e+09      36.5     7680.510417      7809.31   \n",
       "2010-01-01 01:00:00      2.009123e+09      37.0     7428.971370      7483.69   \n",
       "2010-01-01 01:30:00      2.009123e+09      37.5     7084.802162      7117.23   \n",
       "2010-01-01 02:00:00      2.009123e+09      38.0     6751.369600      6812.03   \n",
       "2010-01-01 02:30:00      2.009123e+09      38.5     6484.270789      6544.33   \n",
       "...                               ...       ...             ...          ...   \n",
       "2021-03-17 22:00:00      2.021032e+09      34.0     7317.702687      7419.77   \n",
       "2021-03-17 22:30:00      2.021032e+09      34.5     7266.887647      7417.91   \n",
       "2021-03-17 23:00:00      2.021032e+09      35.0     7173.866522      7287.32   \n",
       "2021-03-17 23:30:00      2.021032e+09      35.5     7043.236857      7172.39   \n",
       "2021-03-18 00:00:00      2.021032e+09      36.0     6961.076901      7094.51   \n",
       "\n",
       "                     TEMPERATURE  totaldemand    rrp  smoothed_FORECASTDEMAND  \\\n",
       "Unnamed: 0                                                                      \n",
       "2010-01-01 00:30:00         22.9      7809.31  21.50              7699.974365   \n",
       "2010-01-01 01:00:00         22.6      7483.69  20.98              7690.566078   \n",
       "2010-01-01 01:30:00         22.5      7117.23  20.06              7681.336748   \n",
       "2010-01-01 02:00:00         22.5      6812.03  17.93              7672.747139   \n",
       "2010-01-01 02:30:00         22.4      6544.33  17.43              7665.716673   \n",
       "...                          ...          ...    ...                      ...   \n",
       "2021-03-17 22:00:00         19.7      7419.77  32.00              7400.366626   \n",
       "2021-03-17 22:30:00         19.5      7417.91  37.01              7399.723912   \n",
       "2021-03-17 23:00:00         19.1      7287.32  34.49              7399.132502   \n",
       "2021-03-17 23:30:00         18.8      7172.39  32.55              7398.573481   \n",
       "2021-03-18 00:00:00         18.6      7094.51  32.63              7398.131553   \n",
       "\n",
       "                     smoothed_TOTALDEMAND  smoothed_TEMPERATURE  \\\n",
       "Unnamed: 0                                                        \n",
       "2010-01-01 00:30:00           7781.995417             25.233333   \n",
       "2010-01-01 01:00:00           7773.996250             25.266667   \n",
       "2010-01-01 01:30:00           7766.966458             25.302083   \n",
       "2010-01-01 02:00:00           7760.413125             25.335417   \n",
       "2010-01-01 02:30:00           7756.316458             25.366667   \n",
       "...                                   ...                   ...   \n",
       "2021-03-17 22:00:00           7422.855208             19.712500   \n",
       "2021-03-17 22:30:00           7424.357917             19.691667   \n",
       "2021-03-17 23:00:00           7425.781458             19.666667   \n",
       "2021-03-17 23:30:00           7428.187917             19.647917   \n",
       "2021-03-18 00:00:00           7430.172917             19.633333   \n",
       "\n",
       "                     normalized_TOTALDEMAND  normalized_FORECASTDEMAND  \\\n",
       "Unnamed: 0                                                               \n",
       "2010-01-01 00:30:00               -0.232608                  -0.325943   \n",
       "2010-01-01 01:00:00               -0.483133                  -0.518995   \n",
       "2010-01-01 01:30:00               -0.765079                  -0.783139   \n",
       "2010-01-01 02:00:00               -0.999894                  -1.039043   \n",
       "2010-01-01 02:30:00               -1.205856                  -1.244036   \n",
       "...                                     ...                        ...   \n",
       "2021-03-17 22:00:00               -0.532312                  -0.604392   \n",
       "2021-03-17 22:30:00               -0.533743                  -0.643392   \n",
       "2021-03-17 23:00:00               -0.634216                  -0.714784   \n",
       "2021-03-17 23:30:00               -0.722640                  -0.815040   \n",
       "2021-03-18 00:00:00               -0.782560                  -0.878096   \n",
       "\n",
       "                     normalized_TEMPERATURE  \n",
       "Unnamed: 0                                   \n",
       "2010-01-01 00:30:00                0.916251  \n",
       "2010-01-01 01:00:00                0.865312  \n",
       "2010-01-01 01:30:00                0.848332  \n",
       "2010-01-01 02:00:00                0.848332  \n",
       "2010-01-01 02:30:00                0.831352  \n",
       "...                                     ...  \n",
       "2021-03-17 22:00:00                0.372894  \n",
       "2021-03-17 22:30:00                0.338934  \n",
       "2021-03-17 23:00:00                0.271015  \n",
       "2021-03-17 23:30:00                0.220075  \n",
       "2021-03-18 00:00:00                0.186115  \n",
       "\n",
       "[194589 rows x 13 columns]"
      ]
     },
     "execution_count": 13,
     "metadata": {},
     "output_type": "execute_result"
    }
   ],
   "source": [
    "updated_df"
   ]
  },
  {
   "cell_type": "code",
   "execution_count": 14,
   "id": "5c4b0e33",
   "metadata": {
    "ExecuteTime": {
     "end_time": "2024-04-03T02:46:52.374087Z",
     "start_time": "2024-04-03T02:46:52.369246Z"
    }
   },
   "outputs": [
    {
     "name": "stdout",
     "output_type": "stream",
     "text": [
      "                     PREDISPATCHSEQNO  PERIODID  FORECASTDEMAND  TOTALDEMAND  \\\n",
      "Unnamed: 0                                                                     \n",
      "2010-01-01 00:30:00      2.009123e+09      36.5     7680.510417      7809.31   \n",
      "2010-01-01 01:00:00      2.009123e+09      37.0     7428.971370      7483.69   \n",
      "2010-01-01 01:30:00      2.009123e+09      37.5     7084.802162      7117.23   \n",
      "2010-01-01 02:00:00      2.009123e+09      38.0     6751.369600      6812.03   \n",
      "2010-01-01 02:30:00      2.009123e+09      38.5     6484.270789      6544.33   \n",
      "\n",
      "                     TEMPERATURE  totaldemand    rrp  smoothed_FORECASTDEMAND  \\\n",
      "Unnamed: 0                                                                      \n",
      "2010-01-01 00:30:00         22.9      7809.31  21.50              7699.974365   \n",
      "2010-01-01 01:00:00         22.6      7483.69  20.98              7690.566078   \n",
      "2010-01-01 01:30:00         22.5      7117.23  20.06              7681.336748   \n",
      "2010-01-01 02:00:00         22.5      6812.03  17.93              7672.747139   \n",
      "2010-01-01 02:30:00         22.4      6544.33  17.43              7665.716673   \n",
      "\n",
      "                     smoothed_TOTALDEMAND  smoothed_TEMPERATURE  \\\n",
      "Unnamed: 0                                                        \n",
      "2010-01-01 00:30:00           7781.995417             25.233333   \n",
      "2010-01-01 01:00:00           7773.996250             25.266667   \n",
      "2010-01-01 01:30:00           7766.966458             25.302083   \n",
      "2010-01-01 02:00:00           7760.413125             25.335417   \n",
      "2010-01-01 02:30:00           7756.316458             25.366667   \n",
      "\n",
      "                     normalized_TOTALDEMAND  normalized_FORECASTDEMAND  \\\n",
      "Unnamed: 0                                                               \n",
      "2010-01-01 00:30:00               -0.232608                  -0.325943   \n",
      "2010-01-01 01:00:00               -0.483133                  -0.518995   \n",
      "2010-01-01 01:30:00               -0.765079                  -0.783139   \n",
      "2010-01-01 02:00:00               -0.999894                  -1.039043   \n",
      "2010-01-01 02:30:00               -1.205856                  -1.244036   \n",
      "\n",
      "                     normalized_TEMPERATURE  \n",
      "Unnamed: 0                                   \n",
      "2010-01-01 00:30:00                0.916251  \n",
      "2010-01-01 01:00:00                0.865312  \n",
      "2010-01-01 01:30:00                0.848332  \n",
      "2010-01-01 02:00:00                0.848332  \n",
      "2010-01-01 02:30:00                0.831352  \n"
     ]
    }
   ],
   "source": [
    "print(updated_df.head())"
   ]
  },
  {
   "cell_type": "markdown",
   "id": "ad206826",
   "metadata": {},
   "source": [
    "# Feature Engineering\n",
    "\n",
    "## DateTime Features\n",
    "The following section creates date time features."
   ]
  },
  {
   "cell_type": "code",
   "execution_count": 15,
   "id": "1cf9f423",
   "metadata": {
    "ExecuteTime": {
     "end_time": "2024-04-03T02:46:52.398832Z",
     "start_time": "2024-04-03T02:46:52.374603Z"
    }
   },
   "outputs": [],
   "source": [
    "demand = updated_df.copy()\n",
    "demand = demand[['totaldemand']]\n",
    "demand.loc[:, 'dow'] = demand.index.dayofweek\n",
    "demand.loc[:, 'doy'] = demand.index.dayofyear\n",
    "demand.loc[:, 'year'] = demand.index.year\n",
    "demand.loc[:, 'month'] = demand.index.month\n",
    "demand.loc[:, 'quarter'] = demand.index.quarter\n",
    "demand.loc[:, 'hour'] = demand.index.hour\n"
   ]
  },
  {
   "cell_type": "code",
   "execution_count": 16,
   "id": "84355550",
   "metadata": {
    "ExecuteTime": {
     "end_time": "2024-04-03T02:46:52.402151Z",
     "start_time": "2024-04-03T02:46:52.399431Z"
    }
   },
   "outputs": [
    {
     "name": "stdout",
     "output_type": "stream",
     "text": [
      "                     totaldemand  dow  doy  year  month  quarter  hour\n",
      "Unnamed: 0                                                            \n",
      "2010-01-01 00:30:00      7809.31    4    1  2010      1        1     0\n",
      "2010-01-01 01:00:00      7483.69    4    1  2010      1        1     1\n",
      "2010-01-01 01:30:00      7117.23    4    1  2010      1        1     1\n",
      "2010-01-01 02:00:00      6812.03    4    1  2010      1        1     2\n",
      "2010-01-01 02:30:00      6544.33    4    1  2010      1        1     2\n"
     ]
    }
   ],
   "source": [
    "print(demand.head())"
   ]
  },
  {
   "cell_type": "code",
   "execution_count": 17,
   "id": "560829b6",
   "metadata": {
    "ExecuteTime": {
     "end_time": "2024-04-03T02:46:52.413430Z",
     "start_time": "2024-04-03T02:46:52.402649Z"
    }
   },
   "outputs": [
    {
     "name": "stdout",
     "output_type": "stream",
     "text": [
      "                     totaldemand  dow  doy  year  month  quarter  hour\n",
      "Unnamed: 0                                                            \n",
      "2010-01-01 23:00:00      8041.77    4    1  2010      1        1    23\n",
      "2010-01-01 23:30:00      7782.68    4    1  2010      1        1    23\n",
      "2010-01-02 00:00:00      7574.85    5    2  2010      1        1     0\n",
      "2010-01-02 00:30:00      7343.30    5    2  2010      1        1     0\n",
      "2010-01-02 01:00:00      7099.73    5    2  2010      1        1     1\n",
      "2010-01-02 01:30:00      6779.80    5    2  2010      1        1     1\n",
      "2010-01-02 02:00:00      6497.47    5    2  2010      1        1     2\n",
      "2010-01-02 02:30:00      6347.69    5    2  2010      1        1     2\n",
      "2010-01-02 03:00:00      6223.64    5    2  2010      1        1     3\n",
      "2010-01-02 03:30:00      6182.07    5    2  2010      1        1     3\n",
      "2010-01-02 04:00:00      6140.82    5    2  2010      1        1     4\n",
      "2010-01-02 04:30:00      6224.48    5    2  2010      1        1     4\n",
      "2010-01-02 05:00:00      6260.00    5    2  2010      1        1     5\n",
      "2010-01-02 05:30:00      6336.20    5    2  2010      1        1     5\n",
      "2010-01-02 06:00:00      6470.82    5    2  2010      1        1     6\n"
     ]
    }
   ],
   "source": [
    "print(demand.iloc[45:60])"
   ]
  },
  {
   "cell_type": "markdown",
   "id": "18d01ca6",
   "metadata": {},
   "source": [
    "Merge to the updated_df"
   ]
  },
  {
   "cell_type": "code",
   "execution_count": 18,
   "id": "f6b0b5cc",
   "metadata": {
    "ExecuteTime": {
     "end_time": "2024-04-03T02:46:52.424265Z",
     "start_time": "2024-04-03T02:46:52.413962Z"
    }
   },
   "outputs": [
    {
     "name": "stdout",
     "output_type": "stream",
     "text": [
      "totaldemand    0\n",
      "dow            0\n",
      "doy            0\n",
      "year           0\n",
      "month          0\n",
      "quarter        0\n",
      "hour           0\n",
      "dtype: int64\n"
     ]
    }
   ],
   "source": [
    "print(demand.isna().sum())"
   ]
  },
  {
   "cell_type": "code",
   "execution_count": 19,
   "id": "3d743da4",
   "metadata": {
    "ExecuteTime": {
     "end_time": "2024-04-03T02:46:52.433879Z",
     "start_time": "2024-04-03T02:46:52.424967Z"
    }
   },
   "outputs": [
    {
     "name": "stdout",
     "output_type": "stream",
     "text": [
      "DatetimeIndex(['2010-01-01 00:30:00', '2010-01-01 01:00:00',\n",
      "               '2010-01-01 01:30:00', '2010-01-01 02:00:00',\n",
      "               '2010-01-01 02:30:00', '2010-01-01 03:00:00',\n",
      "               '2010-01-01 03:30:00', '2010-01-01 04:00:00',\n",
      "               '2010-01-01 04:30:00', '2010-01-01 05:00:00',\n",
      "               ...\n",
      "               '2021-03-17 19:30:00', '2021-03-17 20:00:00',\n",
      "               '2021-03-17 20:30:00', '2021-03-17 21:00:00',\n",
      "               '2021-03-17 21:30:00', '2021-03-17 22:00:00',\n",
      "               '2021-03-17 22:30:00', '2021-03-17 23:00:00',\n",
      "               '2021-03-17 23:30:00', '2021-03-18 00:00:00'],\n",
      "              dtype='datetime64[ns]', name='Unnamed: 0', length=194589, freq=None)\n"
     ]
    }
   ],
   "source": [
    "print(demand.index)"
   ]
  },
  {
   "cell_type": "code",
   "execution_count": 20,
   "id": "32cfb165",
   "metadata": {
    "ExecuteTime": {
     "end_time": "2024-04-03T02:46:52.447371Z",
     "start_time": "2024-04-03T02:46:52.434360Z"
    }
   },
   "outputs": [],
   "source": [
    "final_df = pd.merge(updated_df, demand, left_index =True, right_index=True)"
   ]
  },
  {
   "cell_type": "code",
   "execution_count": 21,
   "id": "6586ec15",
   "metadata": {
    "ExecuteTime": {
     "end_time": "2024-04-03T02:46:52.454797Z",
     "start_time": "2024-04-03T02:46:52.447853Z"
    }
   },
   "outputs": [
    {
     "name": "stdout",
     "output_type": "stream",
     "text": [
      "                     PREDISPATCHSEQNO  PERIODID  FORECASTDEMAND  TOTALDEMAND  \\\n",
      "Unnamed: 0                                                                     \n",
      "2010-01-01 00:30:00      2.009123e+09      36.5     7680.510417      7809.31   \n",
      "2010-01-01 01:00:00      2.009123e+09      37.0     7428.971370      7483.69   \n",
      "2010-01-01 01:30:00      2.009123e+09      37.5     7084.802162      7117.23   \n",
      "2010-01-01 02:00:00      2.009123e+09      38.0     6751.369600      6812.03   \n",
      "2010-01-01 02:30:00      2.009123e+09      38.5     6484.270789      6544.33   \n",
      "...                               ...       ...             ...          ...   \n",
      "2021-03-17 22:00:00      2.021032e+09      34.0     7317.702687      7419.77   \n",
      "2021-03-17 22:30:00      2.021032e+09      34.5     7266.887647      7417.91   \n",
      "2021-03-17 23:00:00      2.021032e+09      35.0     7173.866522      7287.32   \n",
      "2021-03-17 23:30:00      2.021032e+09      35.5     7043.236857      7172.39   \n",
      "2021-03-18 00:00:00      2.021032e+09      36.0     6961.076901      7094.51   \n",
      "\n",
      "                     TEMPERATURE  totaldemand_x    rrp  \\\n",
      "Unnamed: 0                                               \n",
      "2010-01-01 00:30:00         22.9        7809.31  21.50   \n",
      "2010-01-01 01:00:00         22.6        7483.69  20.98   \n",
      "2010-01-01 01:30:00         22.5        7117.23  20.06   \n",
      "2010-01-01 02:00:00         22.5        6812.03  17.93   \n",
      "2010-01-01 02:30:00         22.4        6544.33  17.43   \n",
      "...                          ...            ...    ...   \n",
      "2021-03-17 22:00:00         19.7        7419.77  32.00   \n",
      "2021-03-17 22:30:00         19.5        7417.91  37.01   \n",
      "2021-03-17 23:00:00         19.1        7287.32  34.49   \n",
      "2021-03-17 23:30:00         18.8        7172.39  32.55   \n",
      "2021-03-18 00:00:00         18.6        7094.51  32.63   \n",
      "\n",
      "                     smoothed_FORECASTDEMAND  smoothed_TOTALDEMAND  \\\n",
      "Unnamed: 0                                                           \n",
      "2010-01-01 00:30:00              7699.974365           7781.995417   \n",
      "2010-01-01 01:00:00              7690.566078           7773.996250   \n",
      "2010-01-01 01:30:00              7681.336748           7766.966458   \n",
      "2010-01-01 02:00:00              7672.747139           7760.413125   \n",
      "2010-01-01 02:30:00              7665.716673           7756.316458   \n",
      "...                                      ...                   ...   \n",
      "2021-03-17 22:00:00              7400.366626           7422.855208   \n",
      "2021-03-17 22:30:00              7399.723912           7424.357917   \n",
      "2021-03-17 23:00:00              7399.132502           7425.781458   \n",
      "2021-03-17 23:30:00              7398.573481           7428.187917   \n",
      "2021-03-18 00:00:00              7398.131553           7430.172917   \n",
      "\n",
      "                     smoothed_TEMPERATURE  normalized_TOTALDEMAND  \\\n",
      "Unnamed: 0                                                          \n",
      "2010-01-01 00:30:00             25.233333               -0.232608   \n",
      "2010-01-01 01:00:00             25.266667               -0.483133   \n",
      "2010-01-01 01:30:00             25.302083               -0.765079   \n",
      "2010-01-01 02:00:00             25.335417               -0.999894   \n",
      "2010-01-01 02:30:00             25.366667               -1.205856   \n",
      "...                                   ...                     ...   \n",
      "2021-03-17 22:00:00             19.712500               -0.532312   \n",
      "2021-03-17 22:30:00             19.691667               -0.533743   \n",
      "2021-03-17 23:00:00             19.666667               -0.634216   \n",
      "2021-03-17 23:30:00             19.647917               -0.722640   \n",
      "2021-03-18 00:00:00             19.633333               -0.782560   \n",
      "\n",
      "                     normalized_FORECASTDEMAND  normalized_TEMPERATURE  \\\n",
      "Unnamed: 0                                                               \n",
      "2010-01-01 00:30:00                  -0.325943                0.916251   \n",
      "2010-01-01 01:00:00                  -0.518995                0.865312   \n",
      "2010-01-01 01:30:00                  -0.783139                0.848332   \n",
      "2010-01-01 02:00:00                  -1.039043                0.848332   \n",
      "2010-01-01 02:30:00                  -1.244036                0.831352   \n",
      "...                                        ...                     ...   \n",
      "2021-03-17 22:00:00                  -0.604392                0.372894   \n",
      "2021-03-17 22:30:00                  -0.643392                0.338934   \n",
      "2021-03-17 23:00:00                  -0.714784                0.271015   \n",
      "2021-03-17 23:30:00                  -0.815040                0.220075   \n",
      "2021-03-18 00:00:00                  -0.878096                0.186115   \n",
      "\n",
      "                     totaldemand_y  dow  doy  year  month  quarter  hour  \n",
      "Unnamed: 0                                                                \n",
      "2010-01-01 00:30:00        7809.31    4    1  2010      1        1     0  \n",
      "2010-01-01 01:00:00        7483.69    4    1  2010      1        1     1  \n",
      "2010-01-01 01:30:00        7117.23    4    1  2010      1        1     1  \n",
      "2010-01-01 02:00:00        6812.03    4    1  2010      1        1     2  \n",
      "2010-01-01 02:30:00        6544.33    4    1  2010      1        1     2  \n",
      "...                            ...  ...  ...   ...    ...      ...   ...  \n",
      "2021-03-17 22:00:00        7419.77    2   76  2021      3        1    22  \n",
      "2021-03-17 22:30:00        7417.91    2   76  2021      3        1    22  \n",
      "2021-03-17 23:00:00        7287.32    2   76  2021      3        1    23  \n",
      "2021-03-17 23:30:00        7172.39    2   76  2021      3        1    23  \n",
      "2021-03-18 00:00:00        7094.51    3   77  2021      3        1     0  \n",
      "\n",
      "[194589 rows x 20 columns]\n"
     ]
    }
   ],
   "source": [
    "print(final_df)"
   ]
  },
  {
   "cell_type": "code",
   "execution_count": 22,
   "id": "94c39226",
   "metadata": {
    "ExecuteTime": {
     "end_time": "2024-04-03T02:46:52.466733Z",
     "start_time": "2024-04-03T02:46:52.455299Z"
    }
   },
   "outputs": [
    {
     "name": "stdout",
     "output_type": "stream",
     "text": [
      "PREDISPATCHSEQNO             0\n",
      "PERIODID                     0\n",
      "FORECASTDEMAND               0\n",
      "TOTALDEMAND                  0\n",
      "TEMPERATURE                  0\n",
      "totaldemand_x                0\n",
      "rrp                          0\n",
      "smoothed_FORECASTDEMAND      0\n",
      "smoothed_TOTALDEMAND         0\n",
      "smoothed_TEMPERATURE         0\n",
      "normalized_TOTALDEMAND       0\n",
      "normalized_FORECASTDEMAND    0\n",
      "normalized_TEMPERATURE       0\n",
      "totaldemand_y                0\n",
      "dow                          0\n",
      "doy                          0\n",
      "year                         0\n",
      "month                        0\n",
      "quarter                      0\n",
      "hour                         0\n",
      "dtype: int64\n"
     ]
    }
   ],
   "source": [
    "print(final_df.isna().sum())"
   ]
  },
  {
   "cell_type": "code",
   "execution_count": 23,
   "id": "6e2d953e",
   "metadata": {
    "ExecuteTime": {
     "end_time": "2024-04-03T02:46:52.474698Z",
     "start_time": "2024-04-03T02:46:52.467201Z"
    }
   },
   "outputs": [
    {
     "name": "stdout",
     "output_type": "stream",
     "text": [
      "DatetimeIndex(['2010-01-01 00:30:00', '2010-01-01 01:00:00',\n",
      "               '2010-01-01 01:30:00', '2010-01-01 02:00:00',\n",
      "               '2010-01-01 02:30:00', '2010-01-01 03:00:00',\n",
      "               '2010-01-01 03:30:00', '2010-01-01 04:00:00',\n",
      "               '2010-01-01 04:30:00', '2010-01-01 05:00:00',\n",
      "               ...\n",
      "               '2021-03-17 19:30:00', '2021-03-17 20:00:00',\n",
      "               '2021-03-17 20:30:00', '2021-03-17 21:00:00',\n",
      "               '2021-03-17 21:30:00', '2021-03-17 22:00:00',\n",
      "               '2021-03-17 22:30:00', '2021-03-17 23:00:00',\n",
      "               '2021-03-17 23:30:00', '2021-03-18 00:00:00'],\n",
      "              dtype='datetime64[ns]', name='Unnamed: 0', length=194589, freq=None)\n"
     ]
    }
   ],
   "source": [
    "print(final_df.index)"
   ]
  },
  {
   "cell_type": "markdown",
   "id": "38cc0fbf",
   "metadata": {},
   "source": [
    "## Adding Season Data\n",
    "Season data being added to the dataframe before the final_df is created and exported to csv."
   ]
  },
  {
   "cell_type": "code",
   "execution_count": 24,
   "id": "fe96d71e",
   "metadata": {
    "ExecuteTime": {
     "end_time": "2024-04-03T02:46:52.518088Z",
     "start_time": "2024-04-03T02:46:52.475204Z"
    }
   },
   "outputs": [],
   "source": [
    "final_df['season'] = final_df['month'].apply(lambda month: 1 if month in [12, 1, 2] else\n",
    "                                  (2 if month in [3, 4, 5] else\n",
    "                                  (3 if month in [6, 7, 8] else\n",
    "                                  (4 if month in [9, 10, 11] else None))))"
   ]
  },
  {
   "cell_type": "code",
   "execution_count": 25,
   "id": "70864bca",
   "metadata": {
    "ExecuteTime": {
     "end_time": "2024-04-03T02:46:52.520500Z",
     "start_time": "2024-04-03T02:46:52.518637Z"
    }
   },
   "outputs": [
    {
     "name": "stdout",
     "output_type": "stream",
     "text": [
      "DatetimeIndex(['2010-01-01 00:30:00', '2010-01-01 01:00:00',\n",
      "               '2010-01-01 01:30:00', '2010-01-01 02:00:00',\n",
      "               '2010-01-01 02:30:00', '2010-01-01 03:00:00',\n",
      "               '2010-01-01 03:30:00', '2010-01-01 04:00:00',\n",
      "               '2010-01-01 04:30:00', '2010-01-01 05:00:00',\n",
      "               ...\n",
      "               '2021-03-17 19:30:00', '2021-03-17 20:00:00',\n",
      "               '2021-03-17 20:30:00', '2021-03-17 21:00:00',\n",
      "               '2021-03-17 21:30:00', '2021-03-17 22:00:00',\n",
      "               '2021-03-17 22:30:00', '2021-03-17 23:00:00',\n",
      "               '2021-03-17 23:30:00', '2021-03-18 00:00:00'],\n",
      "              dtype='datetime64[ns]', name='Unnamed: 0', length=194589, freq=None)\n"
     ]
    }
   ],
   "source": [
    "print(final_df.index)"
   ]
  },
  {
   "cell_type": "code",
   "execution_count": 26,
   "id": "9216c11e",
   "metadata": {
    "ExecuteTime": {
     "end_time": "2024-04-03T02:46:52.528109Z",
     "start_time": "2024-04-03T02:46:52.521923Z"
    }
   },
   "outputs": [
    {
     "data": {
      "text/html": [
       "<div>\n",
       "<style scoped>\n",
       "    .dataframe tbody tr th:only-of-type {\n",
       "        vertical-align: middle;\n",
       "    }\n",
       "\n",
       "    .dataframe tbody tr th {\n",
       "        vertical-align: top;\n",
       "    }\n",
       "\n",
       "    .dataframe thead th {\n",
       "        text-align: right;\n",
       "    }\n",
       "</style>\n",
       "<table border=\"1\" class=\"dataframe\">\n",
       "  <thead>\n",
       "    <tr style=\"text-align: right;\">\n",
       "      <th></th>\n",
       "      <th>PREDISPATCHSEQNO</th>\n",
       "      <th>PERIODID</th>\n",
       "      <th>FORECASTDEMAND</th>\n",
       "      <th>TOTALDEMAND</th>\n",
       "      <th>TEMPERATURE</th>\n",
       "      <th>totaldemand_x</th>\n",
       "      <th>rrp</th>\n",
       "      <th>smoothed_FORECASTDEMAND</th>\n",
       "      <th>smoothed_TOTALDEMAND</th>\n",
       "      <th>smoothed_TEMPERATURE</th>\n",
       "      <th>...</th>\n",
       "      <th>normalized_FORECASTDEMAND</th>\n",
       "      <th>normalized_TEMPERATURE</th>\n",
       "      <th>totaldemand_y</th>\n",
       "      <th>dow</th>\n",
       "      <th>doy</th>\n",
       "      <th>year</th>\n",
       "      <th>month</th>\n",
       "      <th>quarter</th>\n",
       "      <th>hour</th>\n",
       "      <th>season</th>\n",
       "    </tr>\n",
       "    <tr>\n",
       "      <th>Unnamed: 0</th>\n",
       "      <th></th>\n",
       "      <th></th>\n",
       "      <th></th>\n",
       "      <th></th>\n",
       "      <th></th>\n",
       "      <th></th>\n",
       "      <th></th>\n",
       "      <th></th>\n",
       "      <th></th>\n",
       "      <th></th>\n",
       "      <th></th>\n",
       "      <th></th>\n",
       "      <th></th>\n",
       "      <th></th>\n",
       "      <th></th>\n",
       "      <th></th>\n",
       "      <th></th>\n",
       "      <th></th>\n",
       "      <th></th>\n",
       "      <th></th>\n",
       "      <th></th>\n",
       "    </tr>\n",
       "  </thead>\n",
       "  <tbody>\n",
       "    <tr>\n",
       "      <th>2010-01-01 00:30:00</th>\n",
       "      <td>2.009123e+09</td>\n",
       "      <td>36.5</td>\n",
       "      <td>7680.510417</td>\n",
       "      <td>7809.31</td>\n",
       "      <td>22.9</td>\n",
       "      <td>7809.31</td>\n",
       "      <td>21.50</td>\n",
       "      <td>7699.974365</td>\n",
       "      <td>7781.995417</td>\n",
       "      <td>25.233333</td>\n",
       "      <td>...</td>\n",
       "      <td>-0.325943</td>\n",
       "      <td>0.916251</td>\n",
       "      <td>7809.31</td>\n",
       "      <td>4</td>\n",
       "      <td>1</td>\n",
       "      <td>2010</td>\n",
       "      <td>1</td>\n",
       "      <td>1</td>\n",
       "      <td>0</td>\n",
       "      <td>1</td>\n",
       "    </tr>\n",
       "    <tr>\n",
       "      <th>2010-01-01 01:00:00</th>\n",
       "      <td>2.009123e+09</td>\n",
       "      <td>37.0</td>\n",
       "      <td>7428.971370</td>\n",
       "      <td>7483.69</td>\n",
       "      <td>22.6</td>\n",
       "      <td>7483.69</td>\n",
       "      <td>20.98</td>\n",
       "      <td>7690.566078</td>\n",
       "      <td>7773.996250</td>\n",
       "      <td>25.266667</td>\n",
       "      <td>...</td>\n",
       "      <td>-0.518995</td>\n",
       "      <td>0.865312</td>\n",
       "      <td>7483.69</td>\n",
       "      <td>4</td>\n",
       "      <td>1</td>\n",
       "      <td>2010</td>\n",
       "      <td>1</td>\n",
       "      <td>1</td>\n",
       "      <td>1</td>\n",
       "      <td>1</td>\n",
       "    </tr>\n",
       "    <tr>\n",
       "      <th>2010-01-01 01:30:00</th>\n",
       "      <td>2.009123e+09</td>\n",
       "      <td>37.5</td>\n",
       "      <td>7084.802162</td>\n",
       "      <td>7117.23</td>\n",
       "      <td>22.5</td>\n",
       "      <td>7117.23</td>\n",
       "      <td>20.06</td>\n",
       "      <td>7681.336748</td>\n",
       "      <td>7766.966458</td>\n",
       "      <td>25.302083</td>\n",
       "      <td>...</td>\n",
       "      <td>-0.783139</td>\n",
       "      <td>0.848332</td>\n",
       "      <td>7117.23</td>\n",
       "      <td>4</td>\n",
       "      <td>1</td>\n",
       "      <td>2010</td>\n",
       "      <td>1</td>\n",
       "      <td>1</td>\n",
       "      <td>1</td>\n",
       "      <td>1</td>\n",
       "    </tr>\n",
       "    <tr>\n",
       "      <th>2010-01-01 02:00:00</th>\n",
       "      <td>2.009123e+09</td>\n",
       "      <td>38.0</td>\n",
       "      <td>6751.369600</td>\n",
       "      <td>6812.03</td>\n",
       "      <td>22.5</td>\n",
       "      <td>6812.03</td>\n",
       "      <td>17.93</td>\n",
       "      <td>7672.747139</td>\n",
       "      <td>7760.413125</td>\n",
       "      <td>25.335417</td>\n",
       "      <td>...</td>\n",
       "      <td>-1.039043</td>\n",
       "      <td>0.848332</td>\n",
       "      <td>6812.03</td>\n",
       "      <td>4</td>\n",
       "      <td>1</td>\n",
       "      <td>2010</td>\n",
       "      <td>1</td>\n",
       "      <td>1</td>\n",
       "      <td>2</td>\n",
       "      <td>1</td>\n",
       "    </tr>\n",
       "    <tr>\n",
       "      <th>2010-01-01 02:30:00</th>\n",
       "      <td>2.009123e+09</td>\n",
       "      <td>38.5</td>\n",
       "      <td>6484.270789</td>\n",
       "      <td>6544.33</td>\n",
       "      <td>22.4</td>\n",
       "      <td>6544.33</td>\n",
       "      <td>17.43</td>\n",
       "      <td>7665.716673</td>\n",
       "      <td>7756.316458</td>\n",
       "      <td>25.366667</td>\n",
       "      <td>...</td>\n",
       "      <td>-1.244036</td>\n",
       "      <td>0.831352</td>\n",
       "      <td>6544.33</td>\n",
       "      <td>4</td>\n",
       "      <td>1</td>\n",
       "      <td>2010</td>\n",
       "      <td>1</td>\n",
       "      <td>1</td>\n",
       "      <td>2</td>\n",
       "      <td>1</td>\n",
       "    </tr>\n",
       "  </tbody>\n",
       "</table>\n",
       "<p>5 rows × 21 columns</p>\n",
       "</div>"
      ],
      "text/plain": [
       "                     PREDISPATCHSEQNO  PERIODID  FORECASTDEMAND  TOTALDEMAND  \\\n",
       "Unnamed: 0                                                                     \n",
       "2010-01-01 00:30:00      2.009123e+09      36.5     7680.510417      7809.31   \n",
       "2010-01-01 01:00:00      2.009123e+09      37.0     7428.971370      7483.69   \n",
       "2010-01-01 01:30:00      2.009123e+09      37.5     7084.802162      7117.23   \n",
       "2010-01-01 02:00:00      2.009123e+09      38.0     6751.369600      6812.03   \n",
       "2010-01-01 02:30:00      2.009123e+09      38.5     6484.270789      6544.33   \n",
       "\n",
       "                     TEMPERATURE  totaldemand_x    rrp  \\\n",
       "Unnamed: 0                                               \n",
       "2010-01-01 00:30:00         22.9        7809.31  21.50   \n",
       "2010-01-01 01:00:00         22.6        7483.69  20.98   \n",
       "2010-01-01 01:30:00         22.5        7117.23  20.06   \n",
       "2010-01-01 02:00:00         22.5        6812.03  17.93   \n",
       "2010-01-01 02:30:00         22.4        6544.33  17.43   \n",
       "\n",
       "                     smoothed_FORECASTDEMAND  smoothed_TOTALDEMAND  \\\n",
       "Unnamed: 0                                                           \n",
       "2010-01-01 00:30:00              7699.974365           7781.995417   \n",
       "2010-01-01 01:00:00              7690.566078           7773.996250   \n",
       "2010-01-01 01:30:00              7681.336748           7766.966458   \n",
       "2010-01-01 02:00:00              7672.747139           7760.413125   \n",
       "2010-01-01 02:30:00              7665.716673           7756.316458   \n",
       "\n",
       "                     smoothed_TEMPERATURE  ...  normalized_FORECASTDEMAND  \\\n",
       "Unnamed: 0                                 ...                              \n",
       "2010-01-01 00:30:00             25.233333  ...                  -0.325943   \n",
       "2010-01-01 01:00:00             25.266667  ...                  -0.518995   \n",
       "2010-01-01 01:30:00             25.302083  ...                  -0.783139   \n",
       "2010-01-01 02:00:00             25.335417  ...                  -1.039043   \n",
       "2010-01-01 02:30:00             25.366667  ...                  -1.244036   \n",
       "\n",
       "                     normalized_TEMPERATURE  totaldemand_y  dow  doy  year  \\\n",
       "Unnamed: 0                                                                   \n",
       "2010-01-01 00:30:00                0.916251        7809.31    4    1  2010   \n",
       "2010-01-01 01:00:00                0.865312        7483.69    4    1  2010   \n",
       "2010-01-01 01:30:00                0.848332        7117.23    4    1  2010   \n",
       "2010-01-01 02:00:00                0.848332        6812.03    4    1  2010   \n",
       "2010-01-01 02:30:00                0.831352        6544.33    4    1  2010   \n",
       "\n",
       "                     month  quarter  hour  season  \n",
       "Unnamed: 0                                         \n",
       "2010-01-01 00:30:00      1        1     0       1  \n",
       "2010-01-01 01:00:00      1        1     1       1  \n",
       "2010-01-01 01:30:00      1        1     1       1  \n",
       "2010-01-01 02:00:00      1        1     2       1  \n",
       "2010-01-01 02:30:00      1        1     2       1  \n",
       "\n",
       "[5 rows x 21 columns]"
      ]
     },
     "execution_count": 26,
     "metadata": {},
     "output_type": "execute_result"
    }
   ],
   "source": [
    "final_df.head()"
   ]
  },
  {
   "cell_type": "markdown",
   "id": "7c2cb10b",
   "metadata": {},
   "source": [
    "# Exporting Dataframe to CSV\n",
    "The final dataframe is being exported to csv so that it can be used for additional analysis and modelling."
   ]
  },
  {
   "cell_type": "code",
   "execution_count": 27,
   "id": "42f5136d2450ca07",
   "metadata": {
    "ExecuteTime": {
     "end_time": "2024-04-03T02:46:54.233507Z",
     "start_time": "2024-04-03T02:46:52.528574Z"
    }
   },
   "outputs": [],
   "source": [
    "# final_df.to_csv(os.path.join('./../data/NSW', 'final_df.csv'))"
   ]
  },
  {
   "cell_type": "markdown",
   "id": "b7cbb751",
   "metadata": {},
   "source": [
    "## Degree Days"
   ]
  },
  {
   "cell_type": "code",
   "execution_count": 28,
   "id": "9e01969b",
   "metadata": {
    "ExecuteTime": {
     "end_time": "2024-04-03T02:46:54.236562Z",
     "start_time": "2024-04-03T02:46:54.234197Z"
    }
   },
   "outputs": [],
   "source": [
    "def Degree_Days2(df, HDD_ct=17, CDD_ct=19.5):\n",
    "    Tbar = df.resample('24H', offset='21H').mean() # Mean from 9pm (day i-1) - 9pm (day i)\n",
    "    DD = pd.DataFrame(index=df.index, columns=['HDD', 'CDD'])\n",
    "    for i in range(0,Tbar.shape[0]):\n",
    "        DD['HDD'].iloc[48*(i):48*(i+1)] = max(0, HDD_ct-Tbar.iloc[i])\n",
    "        DD['CDD'].iloc[48*(i):48*(i+1)] = max(0, Tbar.iloc[i]-CDD_ct)\n",
    "    return Tbar, DD"
   ]
  },
  {
   "cell_type": "code",
   "execution_count": 29,
   "id": "928ba5e9",
   "metadata": {
    "ExecuteTime": {
     "end_time": "2024-04-03T02:47:00.498634Z",
     "start_time": "2024-04-03T02:46:54.237121Z"
    }
   },
   "outputs": [
    {
     "data": {
      "text/plain": [
       "(Unnamed: 0\n",
       " 2009-12-31 21:00:00    25.263415\n",
       " 2010-01-01 21:00:00    25.093750\n",
       " 2010-01-02 21:00:00    19.943750\n",
       " 2010-01-03 21:00:00    20.610417\n",
       " 2010-01-04 21:00:00    22.425000\n",
       "                          ...    \n",
       " 2021-03-13 21:00:00    19.379167\n",
       " 2021-03-14 21:00:00    17.135417\n",
       " 2021-03-15 21:00:00    17.508333\n",
       " 2021-03-16 21:00:00    19.747917\n",
       " 2021-03-17 21:00:00    19.228571\n",
       " Freq: 24H, Name: TEMPERATURE, Length: 4095, dtype: float64,\n",
       "                     HDD       CDD\n",
       " Unnamed: 0                       \n",
       " 2010-01-01 00:30:00   0  5.763415\n",
       " 2010-01-01 01:00:00   0  5.763415\n",
       " 2010-01-01 01:30:00   0  5.763415\n",
       " 2010-01-01 02:00:00   0  5.763415\n",
       " 2010-01-01 02:30:00   0  5.763415\n",
       " ...                  ..       ...\n",
       " 2021-03-17 22:00:00   0  4.420833\n",
       " 2021-03-17 22:30:00   0  4.420833\n",
       " 2021-03-17 23:00:00   0  4.420833\n",
       " 2021-03-17 23:30:00   0  4.420833\n",
       " 2021-03-18 00:00:00   0  4.420833\n",
       " \n",
       " [194589 rows x 2 columns])"
      ]
     },
     "execution_count": 29,
     "metadata": {},
     "output_type": "execute_result"
    }
   ],
   "source": [
    "Degree_Days2(final_df['TEMPERATURE'])"
   ]
  },
  {
   "cell_type": "code",
   "execution_count": 30,
   "id": "f4676fe2",
   "metadata": {
    "ExecuteTime": {
     "end_time": "2024-04-03T02:47:06.692999Z",
     "start_time": "2024-04-03T02:47:00.499243Z"
    }
   },
   "outputs": [],
   "source": [
    "Tbar, DD = Degree_Days2(final_df['TEMPERATURE'])"
   ]
  },
  {
   "cell_type": "code",
   "execution_count": 31,
   "id": "c9a9cd67",
   "metadata": {
    "ExecuteTime": {
     "end_time": "2024-04-03T02:47:06.696629Z",
     "start_time": "2024-04-03T02:47:06.693990Z"
    }
   },
   "outputs": [
    {
     "name": "stdout",
     "output_type": "stream",
     "text": [
      "30\n"
     ]
    }
   ],
   "source": [
    "print(Tbar.isna().sum())"
   ]
  },
  {
   "cell_type": "code",
   "execution_count": 32,
   "id": "be640338",
   "metadata": {
    "ExecuteTime": {
     "end_time": "2024-04-03T02:47:06.717423Z",
     "start_time": "2024-04-03T02:47:06.697507Z"
    }
   },
   "outputs": [
    {
     "name": "stdout",
     "output_type": "stream",
     "text": [
      "HDD    0\n",
      "CDD    0\n",
      "dtype: int64\n"
     ]
    }
   ],
   "source": [
    "print(DD.isna().sum())"
   ]
  },
  {
   "cell_type": "code",
   "execution_count": 33,
   "id": "5ff93b8e",
   "metadata": {
    "ExecuteTime": {
     "end_time": "2024-04-03T02:47:06.727450Z",
     "start_time": "2024-04-03T02:47:06.718064Z"
    }
   },
   "outputs": [
    {
     "name": "stdout",
     "output_type": "stream",
     "text": [
      "Unnamed: 0\n",
      "2010-01-01 00:30:00    0\n",
      "2010-01-01 01:00:00    0\n",
      "2010-01-01 01:30:00    0\n",
      "2010-01-01 02:00:00    0\n",
      "2010-01-01 02:30:00    0\n",
      "                      ..\n",
      "2021-03-17 22:00:00    0\n",
      "2021-03-17 22:30:00    0\n",
      "2021-03-17 23:00:00    0\n",
      "2021-03-17 23:30:00    0\n",
      "2021-03-18 00:00:00    0\n",
      "Name: HDD, Length: 194589, dtype: object\n"
     ]
    }
   ],
   "source": [
    "print(DD['HDD'])"
   ]
  },
  {
   "cell_type": "code",
   "execution_count": 34,
   "id": "942d63ba",
   "metadata": {
    "ExecuteTime": {
     "end_time": "2024-04-03T02:47:06.913640Z",
     "start_time": "2024-04-03T02:47:06.727915Z"
    }
   },
   "outputs": [
    {
     "name": "stderr",
     "output_type": "stream",
     "text": [
      "No artists with labels found to put in legend.  Note that artists whose label start with an underscore are ignored when legend() is called with no argument.\n"
     ]
    },
    {
     "data": {
      "image/png": "[encoded data removed]",
      "text/plain": [
       "<Figure size 432x288 with 1 Axes>"
      ]
     },
     "metadata": {
      "needs_background": "light"
     },
     "output_type": "display_data"
    }
   ],
   "source": [
    "plt.plot(DD.iloc[1:10000])\n",
    "plt.title(\"Degree Days\")\n",
    "plt.xlabel(\"Time\")\n",
    "plt.ylabel(\"Degrees °C\")\n",
    "plt.legend()\n",
    "plt.show()"
   ]
  },
  {
   "cell_type": "markdown",
   "id": "31f78d1f",
   "metadata": {
    "ExecuteTime": {
     "end_time": "2024-04-03T02:47:06.915490Z",
     "start_time": "2024-04-03T02:47:06.914185Z"
    }
   },
   "source": [
    "# Outliers\n",
    "Outlier detection is a method used to find unusual or abnormal data points in a data set. \n",
    "Methods of treating outliers:\n",
    "- Trimming: removing the data from the dataset\n",
    "- Capping:For instance, if we decide on a specific value, any data point above or below that value is considered an outlier. \n",
    "- Discretization: create groups and categorise the outliers into specific group making them follow the same behavior as the other points in that group."
   ]
  },
  {
   "cell_type": "markdown",
   "id": "1ac24541",
   "metadata": {},
   "source": [
    "## Temperature\n",
    "Outlier handling of temperature"
   ]
  },
  {
   "cell_type": "code",
   "execution_count": 35,
   "id": "c20cdbf9",
   "metadata": {},
   "outputs": [
    {
     "name": "stdout",
     "output_type": "stream",
     "text": [
      "Highest Allowed: 35.17\n",
      "Lowest Allowed: -0.16\n"
     ]
    }
   ],
   "source": [
    "temp_highest_allowed = round(final_df['TEMPERATURE'].mean() + 3*final_df['TEMPERATURE'].std(),2)\n",
    "temp_lowest_allowed = round(final_df['TEMPERATURE'].mean() - 3*final_df['TEMPERATURE'].std(),2)\n",
    "print('Highest Allowed:',temp_highest_allowed)\n",
    "print('Lowest Allowed:',temp_lowest_allowed)"
   ]
  },
  {
   "cell_type": "code",
   "execution_count": 37,
   "id": "c4deb3aa",
   "metadata": {},
   "outputs": [
    {
     "name": "stdout",
     "output_type": "stream",
     "text": [
      "Total Rows: 569\n"
     ]
    }
   ],
   "source": [
    "temp_outliers = final_df[(final_df['TEMPERATURE']>temp_highest_allowed) | (final_df['TEMPERATURE']<temp_lowest_allowed)]\n",
    "print('Total Rows:',len(temp_outliers))"
   ]
  },
  {
   "cell_type": "code",
   "execution_count": 38,
   "id": "8b8bebd6",
   "metadata": {},
   "outputs": [
    {
     "data": {
      "image/png": "[encoded data removed]",
      "text/plain": [
       "<Figure size 432x288 with 1 Axes>"
      ]
     },
     "metadata": {
      "needs_background": "light"
     },
     "output_type": "display_data"
    }
   ],
   "source": [
    "plt.scatter(temp_outliers.index, temp_outliers['TEMPERATURE'],c=temp_outliers['month'])\n",
    "plt.title('Temperature Outliers')\n",
    "plt.xlabel('Date')\n",
    "plt.ylabel('Temperature')\n",
    "plt.show()\n",
    "\n",
    "\n",
    "#TO DO: Add month legend onto plot"
   ]
  },
  {
   "cell_type": "markdown",
   "id": "c012ab02",
   "metadata": {},
   "source": [
    "##### High Temperature Values\n",
    "Outliers were identified for temperature values and high temperature outliers are more frequent from Nov to March. Indicating that during this period predictions may be less accurate."
   ]
  },
  {
   "cell_type": "code",
   "execution_count": 43,
   "id": "dc5ee398",
   "metadata": {},
   "outputs": [
    {
     "name": "stdout",
     "output_type": "stream",
     "text": [
      "1     209\n",
      "2     129\n",
      "11    100\n",
      "12     81\n",
      "3      20\n",
      "10     14\n",
      "4       1\n",
      "Name: month, dtype: int64\n"
     ]
    }
   ],
   "source": [
    "high_outliers = temp_outliers.loc[temp_outliers['TEMPERATURE']>temp_highest_allowed]\n",
    "print(high_outliers['month'].value_counts())\n",
    "\n",
    "#To DO: Create histogram for outliers for highest"
   ]
  },
  {
   "cell_type": "markdown",
   "id": "27bdc6c9",
   "metadata": {},
   "source": [
    "##### Low Temperature Values\n",
    "Lower tempature variations are far less those outliers observed for higher temperature variations. Lower tempature values can be found in June and July (Winter periods)."
   ]
  },
  {
   "cell_type": "code",
   "execution_count": 44,
   "id": "496045d0",
   "metadata": {},
   "outputs": [],
   "source": [
    "low_outliers = temp_outliers.loc[temp_outliers['TEMPERATURE']<temp_lowest_allowed]"
   ]
  },
  {
   "cell_type": "code",
   "execution_count": 45,
   "id": "829b3541",
   "metadata": {},
   "outputs": [
    {
     "name": "stdout",
     "output_type": "stream",
     "text": [
      "7    10\n",
      "6     5\n",
      "Name: month, dtype: int64\n"
     ]
    }
   ],
   "source": [
    "print(low_outliers['month'].value_counts())\n",
    "# TO DO: Create Histogram"
   ]
  },
  {
   "cell_type": "code",
   "execution_count": 46,
   "id": "5f9869b8",
   "metadata": {},
   "outputs": [
    {
     "data": {
      "image/png": "[encoded data removed]",
      "text/plain": [
       "<Figure size 432x288 with 1 Axes>"
      ]
     },
     "metadata": {
      "needs_background": "light"
     },
     "output_type": "display_data"
    }
   ],
   "source": [
    "plt.scatter(low_outliers.index,low_outliers['TEMPERATURE'])\n",
    "plt.show()"
   ]
  },
  {
   "cell_type": "markdown",
   "id": "e2d1caf1",
   "metadata": {},
   "source": [
    "Now that we know what the upper and lower caps are, we can apply capping to the outliers. This effectively means that we replace any values which exceed the upper and lower limits are replaced with the upper and lower limit respectively."
   ]
  },
  {
   "cell_type": "code",
   "execution_count": 47,
   "id": "238c47a8",
   "metadata": {},
   "outputs": [],
   "source": [
    "final_df['TEMPERATURE'] = np.where(final_df['TEMPERATURE']>temp_highest_allowed,temp_highest_allowed, np.where(final_df['TEMPERATURE']<temp_lowest_allowed,temp_lowest_allowed,final_df['TEMPERATURE']))"
   ]
  },
  {
   "cell_type": "code",
   "execution_count": 48,
   "id": "8f2655e9",
   "metadata": {},
   "outputs": [
    {
     "name": "stdout",
     "output_type": "stream",
     "text": [
      "35.09\n",
      "-0.1\n"
     ]
    }
   ],
   "source": [
    "final_df_temp_highest = round(final_df['TEMPERATURE'].mean() + 3*final_df['TEMPERATURE'].std(),2)\n",
    "final_df_temp_lowest = round(final_df['TEMPERATURE'].mean() - 3*final_df['TEMPERATURE'].std(),2)\n",
    "print(final_df_temp_highest)\n",
    "print(final_df_temp_lowest)"
   ]
  },
  {
   "cell_type": "markdown",
   "id": "12502416",
   "metadata": {},
   "source": [
    "## Price"
   ]
  },
  {
   "cell_type": "code",
   "execution_count": 49,
   "id": "1a32b4eb",
   "metadata": {},
   "outputs": [],
   "source": [
    "price_highest_allowed = round(final_df['rrp'].mean() + 3*final_df['rrp'].std(),2)\n",
    "price_lowest_allowed = round(final_df['rrp'].mean() - 3*final_df['rrp'].std(),2)"
   ]
  },
  {
   "cell_type": "code",
   "execution_count": 50,
   "id": "b468f3b7",
   "metadata": {},
   "outputs": [
    {
     "name": "stdout",
     "output_type": "stream",
     "text": [
      "533.88\n",
      "-419.91\n"
     ]
    }
   ],
   "source": [
    "print(price_highest_allowed)\n",
    "print(price_lowest_allowed)"
   ]
  },
  {
   "cell_type": "code",
   "execution_count": 53,
   "id": "b4db5905",
   "metadata": {},
   "outputs": [
    {
     "name": "stdout",
     "output_type": "stream",
     "text": [
      "151\n"
     ]
    }
   ],
   "source": [
    "price_outliers = final_df[(final_df['rrp']>price_highest_allowed) | (final_df['rrp']<price_lowest_allowed)]\n",
    "print(len(price_outliers))"
   ]
  },
  {
   "cell_type": "code",
   "execution_count": 54,
   "id": "a661efc5",
   "metadata": {},
   "outputs": [
    {
     "name": "stderr",
     "output_type": "stream",
     "text": [
      "No artists with labels found to put in legend.  Note that artists whose label start with an underscore are ignored when legend() is called with no argument.\n"
     ]
    },
    {
     "data": {
      "image/png": "[encoded data removed]",
      "text/plain": [
       "<Figure size 432x288 with 1 Axes>"
      ]
     },
     "metadata": {
      "needs_background": "light"
     },
     "output_type": "display_data"
    }
   ],
   "source": [
    "plt.scatter(price_outliers.index, price_outliers['rrp'],c=price_outliers['month'])\n",
    "plt.legend()\n",
    "plt.show()"
   ]
  },
  {
   "cell_type": "code",
   "execution_count": 55,
   "id": "63edd0cb",
   "metadata": {},
   "outputs": [
    {
     "name": "stdout",
     "output_type": "stream",
     "text": [
      "2     53\n",
      "1     50\n",
      "11    14\n",
      "12    14\n",
      "6      9\n",
      "8      3\n",
      "5      2\n",
      "9      2\n",
      "10     2\n",
      "3      1\n",
      "4      1\n",
      "Name: month, dtype: int64\n"
     ]
    }
   ],
   "source": [
    "print(price_outliers['month'].value_counts())"
   ]
  },
  {
   "cell_type": "markdown",
   "id": "d627007a",
   "metadata": {},
   "source": [
    "We can see that the price 'spike' during the months from Nov to Feb which aligns with the temperature outliers."
   ]
  },
  {
   "cell_type": "markdown",
   "id": "36908af9",
   "metadata": {},
   "source": [
    "## Total Demand"
   ]
  },
  {
   "cell_type": "code",
   "execution_count": 56,
   "id": "616ddb5a",
   "metadata": {},
   "outputs": [
    {
     "name": "stdout",
     "output_type": "stream",
     "text": [
      "12010.91\n",
      "4212.38\n"
     ]
    }
   ],
   "source": [
    "total_demand_highest_allowed = round(final_df['TOTALDEMAND'].mean() + 3*final_df['TOTALDEMAND'].std(),2)\n",
    "total_demand_lowest_allowed = round(final_df['TOTALDEMAND'].mean() - 3*final_df['TOTALDEMAND'].std(),2)\n",
    "print(total_demand_highest_allowed)\n",
    "print(total_demand_lowest_allowed)"
   ]
  },
  {
   "cell_type": "code",
   "execution_count": 58,
   "id": "e6914167",
   "metadata": {},
   "outputs": [
    {
     "name": "stdout",
     "output_type": "stream",
     "text": [
      "871\n"
     ]
    }
   ],
   "source": [
    "total_demand_outliers = final_df[(final_df['TOTALDEMAND']>total_demand_highest_allowed) | (final_df['TOTALDEMAND']<total_demand_lowest_allowed)]\n",
    "print(len(total_demand_outliers))"
   ]
  },
  {
   "cell_type": "code",
   "execution_count": 59,
   "id": "2ede15b9",
   "metadata": {},
   "outputs": [
    {
     "name": "stderr",
     "output_type": "stream",
     "text": [
      "No artists with labels found to put in legend.  Note that artists whose label start with an underscore are ignored when legend() is called with no argument.\n"
     ]
    },
    {
     "data": {
      "image/png": "[encoded data removed]",
      "text/plain": [
       "<Figure size 432x288 with 1 Axes>"
      ]
     },
     "metadata": {
      "needs_background": "light"
     },
     "output_type": "display_data"
    }
   ],
   "source": [
    "plt.scatter(total_demand_outliers.index, total_demand_outliers['TOTALDEMAND'],c=total_demand_outliers['month'])\n",
    "plt.legend()\n",
    "plt.show()"
   ]
  },
  {
   "cell_type": "code",
   "execution_count": 60,
   "id": "c5afb45a",
   "metadata": {},
   "outputs": [
    {
     "name": "stdout",
     "output_type": "stream",
     "text": [
      "1     407\n",
      "2     279\n",
      "7      71\n",
      "6      64\n",
      "12     32\n",
      "11      9\n",
      "8       6\n",
      "3       2\n",
      "5       1\n",
      "Name: month, dtype: int64\n"
     ]
    }
   ],
   "source": [
    "print(total_demand_outliers['month'].value_counts())\n",
    "#To DO: Sort values by month"
   ]
  },
  {
   "cell_type": "markdown",
   "id": "7e1ec8c7",
   "metadata": {},
   "source": [
    "Total Demand outliers can be seen during the months from Nov to Feb. "
   ]
  },
  {
   "cell_type": "markdown",
   "id": "385b52f0",
   "metadata": {},
   "source": [
    "## Lag Variables (Data Engineering)\n"
   ]
  },
  {
   "cell_type": "code",
   "execution_count": 61,
   "id": "82010d1c",
   "metadata": {},
   "outputs": [],
   "source": [
    "# def lag_variable(df, n, var_name):\n",
    "#     \"\"\"\n",
    "#     Creates a lag variable, linear interpolation for NA values created in the shift\n",
    "#     Parameters:\n",
    "#         df (dataframe): pandas df\n",
    "#         n (int): lag size\n",
    "#         var_name (str): name of variable\n",
    "        \n",
    "#     Returns:\n",
    "#         pd.series with index matching df\n",
    "#     \"\"\"\n",
    "#     #Shifting the variable\n",
    "#     varShifted = df[var_name].shift(n)\n",
    "    \n",
    "#     #Dealing With NA - median of all the other matching timestamps\n",
    "#     varShifted = varShifted.interpolate(method='linear', limit_direction='both', axis=0)\n",
    "#     print(varShifted)\n",
    "    \n",
    "#     return varShifted"
   ]
  },
  {
   "cell_type": "code",
   "execution_count": 62,
   "id": "ced23e1d",
   "metadata": {},
   "outputs": [
    {
     "name": "stdout",
     "output_type": "stream",
     "text": [
      "Unnamed: 0\n",
      "2010-01-01 00:30:00     NaN\n",
      "2010-01-01 01:00:00     NaN\n",
      "2010-01-01 01:30:00    22.9\n",
      "2010-01-01 02:00:00    22.6\n",
      "2010-01-01 02:30:00    22.5\n",
      "                       ... \n",
      "2021-03-17 22:00:00    19.2\n",
      "2021-03-17 22:30:00    19.7\n",
      "2021-03-17 23:00:00    19.7\n",
      "2021-03-17 23:30:00    19.5\n",
      "2021-03-18 00:00:00    19.1\n",
      "Name: TEMPERATURE, Length: 194589, dtype: float64\n"
     ]
    }
   ],
   "source": [
    "lag_test = final_df['TEMPERATURE'].shift(2)\n",
    "print(lag_test)"
   ]
  },
  {
   "cell_type": "code",
   "execution_count": 63,
   "id": "3f586f1d",
   "metadata": {},
   "outputs": [
    {
     "name": "stdout",
     "output_type": "stream",
     "text": [
      "Unnamed: 0\n",
      "2010-01-01 00:30:00    22.9\n",
      "2010-01-01 01:00:00    22.9\n",
      "2010-01-01 01:30:00    22.9\n",
      "2010-01-01 02:00:00    22.6\n",
      "2010-01-01 02:30:00    22.5\n",
      "                       ... \n",
      "2021-03-17 22:00:00    19.2\n",
      "2021-03-17 22:30:00    19.7\n",
      "2021-03-17 23:00:00    19.7\n",
      "2021-03-17 23:30:00    19.5\n",
      "2021-03-18 00:00:00    19.1\n",
      "Name: TEMPERATURE, Length: 194589, dtype: float64\n"
     ]
    }
   ],
   "source": [
    "varShifted = final_df['TEMPERATURE'].shift(2)\n",
    "varShifted = varShifted.interpolate(method='linear', limit_direction = 'both',axis=0)\n",
    "print(varShifted)"
   ]
  },
  {
   "cell_type": "code",
   "execution_count": null,
   "id": "6fc7d5e5",
   "metadata": {},
   "outputs": [],
   "source": []
  }
 ],
 "metadata": {
  "kernelspec": {
   "display_name": "Python 3 (ipykernel)",
   "language": "python",
   "name": "python3"
  },
  "language_info": {
   "codemirror_mode": {
    "name": "ipython",
    "version": 3
   },
   "file_extension": ".py",
   "mimetype": "text/x-python",
   "name": "python",
   "nbconvert_exporter": "python",
   "pygments_lexer": "ipython3",
   "version": "3.9.12"
  }
 },
 "nbformat": 4,
 "nbformat_minor": 5
}
