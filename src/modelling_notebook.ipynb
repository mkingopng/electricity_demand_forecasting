{
 "cells": [
  {
   "cell_type": "markdown",
   "source": [
    "# Prophet model\n",
    "Prophet model is already trained and saved. Code is preset to inference/prediction mode. To train the model, go to `prophet_model.config.CFG` and change the value of train from `train=False` to `train=True`"
   ],
   "metadata": {
    "collapsed": false
   },
   "id": "ef94ab946f18c327"
  },
  {
   "cell_type": "code",
   "source": [
    "from prophet_model.main import main, visualizer\n",
    "from prophet_model import model"
   ],
   "metadata": {
    "collapsed": false,
    "ExecuteTime": {
     "end_time": "2024-04-23T11:33:46.764934Z",
     "start_time": "2024-04-23T11:33:43.491191Z"
    }
   },
   "id": "e8c5673ec434db0d",
   "execution_count": 1,
   "outputs": []
  },
  {
   "cell_type": "code",
   "source": "df_val = main(train_mode=False)",
   "metadata": {
    "collapsed": false
   },
   "id": "3aa7e83cea575192",
   "execution_count": null,
   "outputs": []
  },
  {
   "metadata": {},
   "cell_type": "code",
   "source": "forecast = model.predict(df_val)",
   "id": "a9ffb3bfc6e9b1",
   "execution_count": null,
   "outputs": []
  },
  {
   "metadata": {},
   "cell_type": "code",
   "source": "visualizer.plot_change_points(model.model, forecast)",
   "id": "b39cbf839aebbaae",
   "execution_count": null,
   "outputs": []
  },
  {
   "metadata": {},
   "cell_type": "code",
   "source": "visualizer.plot_forecast_vs_actual(forecast, df_val)",
   "id": "c04c57c5c56c6b5f",
   "execution_count": null,
   "outputs": []
  },
  {
   "metadata": {},
   "cell_type": "code",
   "source": "visualizer.plot_components(model.model, forecast)",
   "id": "94cffa447549e3dd",
   "execution_count": null,
   "outputs": []
  },
  {
   "cell_type": "markdown",
   "source": [
    "# XGBoost model\n",
    "Set to 'Prediction' mode, making predictions from a saved model. \n",
    "\n",
    "To change to 'train' mode, go to `xgb_model.config.CFG` and change the value of train from `train=False` to `train=True` "
   ],
   "metadata": {
    "collapsed": false
   },
   "id": "3419cc309cd0fc7b"
  },
  {
   "cell_type": "code",
   "source": [
    "from xgb_model.main import main\n",
    "from xgb_model.visualisation import (initialize_shap_explainer, prepare_shap_explanations, plot_dependence_plots, plot_shap_summary, plot_waterfall_plot, plot_shap_values, plot_beeswarm_plot, plot_decision_plot, plot_actual_vs_predicted, plot_feature_importance)"
   ],
   "metadata": {
    "collapsed": true
   },
   "id": "initial_id",
   "execution_count": null,
   "outputs": []
  },
  {
   "metadata": {},
   "cell_type": "markdown",
   "source": "Initialise the model, validation set and predictions",
   "id": "6f21071d0551ce75"
  },
  {
   "cell_type": "code",
   "source": "model, dval, valy, valX, val_predictions = main()",
   "metadata": {
    "collapsed": false
   },
   "id": "b30c7d392d84e971",
   "execution_count": null,
   "outputs": []
  },
  {
   "metadata": {},
   "cell_type": "code",
   "source": [
    "explainer, shap_values = initialize_shap_explainer(model, dval)\n",
    "explainer, explanation = prepare_shap_explanations(model, valX)  # fix_me"
   ],
   "id": "9bca04265f7074c0",
   "execution_count": null,
   "outputs": []
  },
  {
   "metadata": {},
   "cell_type": "code",
   "source": "print(\"Shape of valX before plotting:\", valX.shape)",
   "id": "cdb1465a2b9cf202",
   "execution_count": null,
   "outputs": []
  },
  {
   "metadata": {},
   "cell_type": "markdown",
   "source": "# plot of actual TOTALDEMAND values vs forecast values",
   "id": "1228406015ae8c4f"
  },
  {
   "metadata": {},
   "cell_type": "code",
   "source": [
    "dates = valX.index\n",
    "plot_actual_vs_predicted(\n",
    "    dates,\n",
    "    valy,\n",
    "    val_predictions,\n",
    "    'validation_actual_vs_predicted.png'\n",
    ")"
   ],
   "id": "ae41ba6479829af2",
   "execution_count": null,
   "outputs": []
  },
  {
   "metadata": {},
   "cell_type": "markdown",
   "source": "# shap summary plot",
   "id": "3b9f6ff3f138a426"
  },
  {
   "metadata": {},
   "cell_type": "code",
   "source": [
    "plot_shap_summary(\n",
    "    explainer,\n",
    "    valX,\n",
    "    image_name='SHAP summary.png'\n",
    ")"
   ],
   "id": "6b261963f3ce5ed4",
   "execution_count": null,
   "outputs": []
  },
  {
   "metadata": {},
   "cell_type": "markdown",
   "source": "# plot SHAP values",
   "id": "984cef706456b334"
  },
  {
   "metadata": {},
   "cell_type": "code",
   "source": [
    "plot_shap_values(\n",
    "    explainer,\n",
    "    valX,\n",
    "    'SHAP Values.png'\n",
    ")"
   ],
   "id": "6c2178ed9b145d23",
   "execution_count": null,
   "outputs": []
  },
  {
   "metadata": {},
   "cell_type": "code",
   "source": [
    "plot_shap_values(\n",
    "    explainer,\n",
    "    valX,\n",
    "    feature_to_exclude='FORECASTDEMAND(t-1)',\n",
    "    image_name='SHAP values excluding feature 0.png'\n",
    ")"
   ],
   "id": "ecbfdd3adf7fa648",
   "execution_count": null,
   "outputs": []
  },
  {
   "metadata": {},
   "cell_type": "markdown",
   "source": "# Dependence plots for feature 1",
   "id": "c4e1336cf83890c2"
  },
  {
   "metadata": {},
   "cell_type": "code",
   "source": [
    "plot_dependence_plots(\n",
    "    explainer,\n",
    "    valX,\n",
    "    feature_index=0,\n",
    "    image_name=\"dependence_plot_feature_0.png\"\n",
    ")"
   ],
   "id": "7963cfa88204f422",
   "execution_count": null,
   "outputs": []
  },
  {
   "metadata": {},
   "cell_type": "markdown",
   "source": "# Dependence plots for feature 2",
   "id": "6c657c542ca5c77a"
  },
  {
   "metadata": {},
   "cell_type": "code",
   "source": [
    "plot_dependence_plots(\n",
    "    explainer,\n",
    "    valX,\n",
    "    feature_index=1,\n",
    "    image_name='dependence_plot_feature_1.png'\n",
    ")"
   ],
   "id": "c92355c9b8473fd5",
   "execution_count": null,
   "outputs": []
  },
  {
   "metadata": {},
   "cell_type": "markdown",
   "source": "# Decision Plot",
   "id": "2aded16d52078568"
  },
  {
   "metadata": {},
   "cell_type": "code",
   "source": [
    "plot_decision_plot(\n",
    "    explainer,\n",
    "    valX,\n",
    "    shap_values,\n",
    "    instance_index=0,\n",
    "    image_name='decision plot.png'\n",
    ")"
   ],
   "id": "86a4c3c63bba85c4",
   "execution_count": null,
   "outputs": []
  },
  {
   "metadata": {},
   "cell_type": "markdown",
   "source": "# Waterfall Plot",
   "id": "bdb714c48cb43da2"
  },
  {
   "metadata": {},
   "cell_type": "code",
   "source": [
    "plot_waterfall_plot(\n",
    "    explanation[1], \n",
    "    image_name='Waterfall Plot.png'\n",
    ")"
   ],
   "id": "5b711bfd79c7e82a",
   "execution_count": null,
   "outputs": []
  },
  {
   "metadata": {},
   "cell_type": "markdown",
   "source": "# Bee Swarm Plot",
   "id": "c58b5a03f76a9ea5"
  },
  {
   "metadata": {},
   "cell_type": "code",
   "source": [
    "plot_beeswarm_plot(\n",
    "    explanation,\n",
    "    image_name='Bee Swarm Plot.png'\n",
    ")"
   ],
   "id": "899a1de0258f9a75",
   "execution_count": null,
   "outputs": []
  },
  {
   "metadata": {},
   "cell_type": "code",
   "source": [
    "plot_feature_importance(\n",
    "    model,\n",
    "    'Feature Importance.png'\n",
    ")  # fix_me:"
   ],
   "id": "e2acaa040fabf579",
   "execution_count": null,
   "outputs": []
  },
  {
   "cell_type": "markdown",
   "source": [
    "# LSTM Model"
   ],
   "metadata": {
    "collapsed": false
   },
   "id": "359913ba76e566f9"
  },
  {
   "cell_type": "code",
   "source": "# todo: refactor LSTM model",
   "metadata": {
    "collapsed": false
   },
   "id": "b84859b144bc6f98",
   "execution_count": null,
   "outputs": []
  }
 ],
 "metadata": {
  "kernelspec": {
   "display_name": "Python 3",
   "language": "python",
   "name": "python3"
  },
  "language_info": {
   "codemirror_mode": {
    "name": "ipython",
    "version": 2
   },
   "file_extension": ".py",
   "mimetype": "text/x-python",
   "name": "python",
   "nbconvert_exporter": "python",
   "pygments_lexer": "ipython2",
   "version": "2.7.6"
  }
 },
 "nbformat": 4,
 "nbformat_minor": 5
}
