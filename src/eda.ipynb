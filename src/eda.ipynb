{
 "cells": [
  {
   "cell_type": "code",
   "execution_count": 1020,
   "id": "initial_id",
   "metadata": {
    "collapsed": true,
    "ExecuteTime": {
     "end_time": "2024-03-14T12:40:14.985851Z",
     "start_time": "2024-03-14T12:40:14.984103Z"
    }
   },
   "outputs": [],
   "source": [
    "import pandas as pd\n",
    "import os"
   ]
  },
  {
   "cell_type": "code",
   "outputs": [],
   "source": [
    "data_path = './../data'"
   ],
   "metadata": {
    "collapsed": false,
    "ExecuteTime": {
     "end_time": "2024-03-14T12:40:17.071386Z",
     "start_time": "2024-03-14T12:40:17.069600Z"
    }
   },
   "id": "a2f8fff9d34b72cf",
   "execution_count": 1021
  },
  {
   "cell_type": "markdown",
   "source": [
    "# Table of Contents\n",
    "1. [Victoria Forecast Demand](#1)\n",
    "2. [SA Forecast Demand](#2)\n",
    "3. [QLD Forecast Demand](#3)\n",
    "4. [QLD Temperatures](#4)\n",
    "5. [SA Temperatures](#5)\n",
    "6. [Victoria Temperature](#6)\n",
    "7. [QLD Total Demand](#qld-total-demand)\n",
    "8. [SA Total Demand](#sa-total-demand)\n",
    "9. [Victoria Total Demand](#victoria-total-demand)\n",
    "10. [NSW Forecast Demand](#nsw-forecast-demand)\n",
    "11. [NSW temperature](#nsw-temperature)\n",
    "12. [NSW Total Demand](#nsw-total-demand)\n"
   ],
   "metadata": {
    "collapsed": false
   },
   "id": "e89b4b94139327df"
  },
  {
   "cell_type": "markdown",
   "source": [],
   "metadata": {
    "collapsed": false
   },
   "id": "2d2de0c89e49ba19"
  },
  {
   "cell_type": "markdown",
   "source": [
    "<a id=\"1\"></a>\n",
    "## Victoria Forecast Demand"
   ],
   "metadata": {
    "collapsed": false
   },
   "id": "6c3f17187f74423c"
  },
  {
   "cell_type": "code",
   "outputs": [
    {
     "name": "stdout",
     "output_type": "stream",
     "text": [
      "CPU times: user 1.99 s, sys: 84.6 ms, total: 2.08 s\n",
      "Wall time: 2.07 s\n"
     ]
    }
   ],
   "source": [
    "%%time\n",
    "vic_forecast_demand = pd.read_csv(os.path.join(data_path, 'Australia', 'a', 'forecastdemand_vic.csv'), parse_dates=['LASTCHANGED', 'DATETIME'])"
   ],
   "metadata": {
    "collapsed": false,
    "ExecuteTime": {
     "end_time": "2024-03-14T12:40:19.233042Z",
     "start_time": "2024-03-14T12:40:17.157126Z"
    }
   },
   "id": "693d10134a52051d",
   "execution_count": 1022
  },
  {
   "cell_type": "code",
   "outputs": [
    {
     "name": "stdout",
     "output_type": "stream",
     "text": [
      "CPU times: user 115 µs, sys: 0 ns, total: 115 µs\n",
      "Wall time: 118 µs\n"
     ]
    },
    {
     "data": {
      "text/plain": "   PREDISPATCHSEQNO REGIONID  PERIODID  FORECASTDEMAND         LASTCHANGED  \\\n0        2016123018     VIC1        71         4160.74 2016-12-30 12:31:25   \n1        2016123018     VIC1        72         3999.64 2016-12-30 12:31:25   \n2        2016123018     VIC1        73         3836.30 2016-12-30 12:31:25   \n3        2016123018     VIC1        74         3681.87 2016-12-30 12:31:25   \n4        2016123018     VIC1        75         3457.38 2016-12-30 12:31:25   \n\n             DATETIME  \n0 2017-01-01 00:00:00  \n1 2017-01-01 00:30:00  \n2 2017-01-01 01:00:00  \n3 2017-01-01 01:30:00  \n4 2017-01-01 02:00:00  ",
      "text/html": "<div>\n<style scoped>\n    .dataframe tbody tr th:only-of-type {\n        vertical-align: middle;\n    }\n\n    .dataframe tbody tr th {\n        vertical-align: top;\n    }\n\n    .dataframe thead th {\n        text-align: right;\n    }\n</style>\n<table border=\"1\" class=\"dataframe\">\n  <thead>\n    <tr style=\"text-align: right;\">\n      <th></th>\n      <th>PREDISPATCHSEQNO</th>\n      <th>REGIONID</th>\n      <th>PERIODID</th>\n      <th>FORECASTDEMAND</th>\n      <th>LASTCHANGED</th>\n      <th>DATETIME</th>\n    </tr>\n  </thead>\n  <tbody>\n    <tr>\n      <th>0</th>\n      <td>2016123018</td>\n      <td>VIC1</td>\n      <td>71</td>\n      <td>4160.74</td>\n      <td>2016-12-30 12:31:25</td>\n      <td>2017-01-01 00:00:00</td>\n    </tr>\n    <tr>\n      <th>1</th>\n      <td>2016123018</td>\n      <td>VIC1</td>\n      <td>72</td>\n      <td>3999.64</td>\n      <td>2016-12-30 12:31:25</td>\n      <td>2017-01-01 00:30:00</td>\n    </tr>\n    <tr>\n      <th>2</th>\n      <td>2016123018</td>\n      <td>VIC1</td>\n      <td>73</td>\n      <td>3836.30</td>\n      <td>2016-12-30 12:31:25</td>\n      <td>2017-01-01 01:00:00</td>\n    </tr>\n    <tr>\n      <th>3</th>\n      <td>2016123018</td>\n      <td>VIC1</td>\n      <td>74</td>\n      <td>3681.87</td>\n      <td>2016-12-30 12:31:25</td>\n      <td>2017-01-01 01:30:00</td>\n    </tr>\n    <tr>\n      <th>4</th>\n      <td>2016123018</td>\n      <td>VIC1</td>\n      <td>75</td>\n      <td>3457.38</td>\n      <td>2016-12-30 12:31:25</td>\n      <td>2017-01-01 02:00:00</td>\n    </tr>\n  </tbody>\n</table>\n</div>"
     },
     "execution_count": 1023,
     "metadata": {},
     "output_type": "execute_result"
    }
   ],
   "source": [
    "%%time\n",
    "vic_forecast_demand.head()"
   ],
   "metadata": {
    "collapsed": false,
    "ExecuteTime": {
     "end_time": "2024-03-14T12:40:19.238417Z",
     "start_time": "2024-03-14T12:40:19.233789Z"
    }
   },
   "id": "4995830024a0bb03",
   "execution_count": 1023
  },
  {
   "cell_type": "code",
   "outputs": [
    {
     "name": "stdout",
     "output_type": "stream",
     "text": [
      "<class 'pandas.core.frame.DataFrame'>\n",
      "RangeIndex: 4095592 entries, 0 to 4095591\n",
      "Data columns (total 6 columns):\n",
      " #   Column            Dtype         \n",
      "---  ------            -----         \n",
      " 0   PREDISPATCHSEQNO  int64         \n",
      " 1   REGIONID          object        \n",
      " 2   PERIODID          int64         \n",
      " 3   FORECASTDEMAND    float64       \n",
      " 4   LASTCHANGED       datetime64[ns]\n",
      " 5   DATETIME          datetime64[ns]\n",
      "dtypes: datetime64[ns](2), float64(1), int64(2), object(1)\n",
      "memory usage: 187.5+ MB\n",
      "CPU times: user 2.25 ms, sys: 0 ns, total: 2.25 ms\n",
      "Wall time: 2.06 ms\n"
     ]
    }
   ],
   "source": [
    "%%time\n",
    "vic_forecast_demand.info()"
   ],
   "metadata": {
    "collapsed": false,
    "ExecuteTime": {
     "end_time": "2024-03-14T12:40:19.325444Z",
     "start_time": "2024-03-14T12:40:19.238869Z"
    }
   },
   "id": "994dbcc22219a50e",
   "execution_count": 1024
  },
  {
   "cell_type": "code",
   "outputs": [
    {
     "name": "stdout",
     "output_type": "stream",
     "text": [
      "CPU times: user 75.7 ms, sys: 0 ns, total: 75.7 ms\n",
      "Wall time: 75.3 ms\n"
     ]
    },
    {
     "data": {
      "text/plain": "count    4.095592e+06\nmean     4.862913e+03\nstd      8.704415e+02\nmin      2.354240e+03\n25%      4.213920e+03\n50%      4.749945e+03\n75%      5.383632e+03\nmax      9.738030e+03\nName: FORECASTDEMAND, dtype: float64"
     },
     "execution_count": 1025,
     "metadata": {},
     "output_type": "execute_result"
    }
   ],
   "source": [
    "%%time\n",
    "vic_forecast_demand['FORECASTDEMAND'].describe()"
   ],
   "metadata": {
    "collapsed": false,
    "ExecuteTime": {
     "end_time": "2024-03-14T12:40:19.411154Z",
     "start_time": "2024-03-14T12:40:19.326285Z"
    }
   },
   "id": "f108624efb1f314e",
   "execution_count": 1025
  },
  {
   "cell_type": "code",
   "outputs": [
    {
     "name": "stdout",
     "output_type": "stream",
     "text": [
      "CPU times: user 8 µs, sys: 0 ns, total: 8 µs\n",
      "Wall time: 9.78 µs\n"
     ]
    },
    {
     "data": {
      "text/plain": "(4095592, 6)"
     },
     "execution_count": 1026,
     "metadata": {},
     "output_type": "execute_result"
    }
   ],
   "source": [
    "%%time\n",
    "vic_forecast_demand.shape"
   ],
   "metadata": {
    "collapsed": false,
    "ExecuteTime": {
     "end_time": "2024-03-14T12:40:19.413968Z",
     "start_time": "2024-03-14T12:40:19.411684Z"
    }
   },
   "id": "6d5cf7f3a7110617",
   "execution_count": 1026
  },
  {
   "cell_type": "code",
   "outputs": [
    {
     "name": "stdout",
     "output_type": "stream",
     "text": [
      "CPU times: user 138 ms, sys: 118 µs, total: 138 ms\n",
      "Wall time: 137 ms\n"
     ]
    },
    {
     "data": {
      "text/plain": "PREDISPATCHSEQNO             2016123018\nREGIONID                           VIC1\nPERIODID                              1\nFORECASTDEMAND                  2354.24\nLASTCHANGED         2016-12-30 12:31:25\nDATETIME            2017-01-01 00:00:00\ndtype: object"
     },
     "execution_count": 1027,
     "metadata": {},
     "output_type": "execute_result"
    }
   ],
   "source": [
    "%%time\n",
    "vic_forecast_demand.min()"
   ],
   "metadata": {
    "collapsed": false,
    "ExecuteTime": {
     "end_time": "2024-03-14T12:40:19.561918Z",
     "start_time": "2024-03-14T12:40:19.414417Z"
    }
   },
   "id": "911135ec51ed1cec",
   "execution_count": 1027
  },
  {
   "cell_type": "code",
   "outputs": [
    {
     "name": "stdout",
     "output_type": "stream",
     "text": [
      "CPU times: user 136 ms, sys: 0 ns, total: 136 ms\n",
      "Wall time: 135 ms\n"
     ]
    },
    {
     "data": {
      "text/plain": "PREDISPATCHSEQNO             2021031740\nREGIONID                           VIC1\nPERIODID                             79\nFORECASTDEMAND                  9738.03\nLASTCHANGED         2021-03-17 23:31:33\nDATETIME            2021-03-19 04:00:00\ndtype: object"
     },
     "execution_count": 1028,
     "metadata": {},
     "output_type": "execute_result"
    }
   ],
   "source": [
    "%%time\n",
    "vic_forecast_demand.max()"
   ],
   "metadata": {
    "collapsed": false,
    "ExecuteTime": {
     "end_time": "2024-03-14T12:40:19.700782Z",
     "start_time": "2024-03-14T12:40:19.562496Z"
    }
   },
   "id": "4d29ea3ecf3d1a83",
   "execution_count": 1028
  },
  {
   "cell_type": "markdown",
   "source": [
    "check for nulls"
   ],
   "metadata": {
    "collapsed": false
   },
   "id": "8b736b1ec16a363"
  },
  {
   "cell_type": "code",
   "outputs": [
    {
     "name": "stdout",
     "output_type": "stream",
     "text": [
      "CPU times: user 92.2 ms, sys: 0 ns, total: 92.2 ms\n",
      "Wall time: 91.4 ms\n"
     ]
    },
    {
     "data": {
      "text/plain": "PREDISPATCHSEQNO    0\nREGIONID            0\nPERIODID            0\nFORECASTDEMAND      0\nLASTCHANGED         0\nDATETIME            0\ndtype: int64"
     },
     "execution_count": 1029,
     "metadata": {},
     "output_type": "execute_result"
    }
   ],
   "source": [
    "%%time\n",
    "vic_forecast_demand.isnull().sum()"
   ],
   "metadata": {
    "collapsed": false,
    "ExecuteTime": {
     "end_time": "2024-03-14T12:40:19.795473Z",
     "start_time": "2024-03-14T12:40:19.701322Z"
    }
   },
   "id": "7839a3208008a160",
   "execution_count": 1029
  },
  {
   "cell_type": "code",
   "outputs": [
    {
     "name": "stdout",
     "output_type": "stream",
     "text": [
      "CPU times: user 87.9 ms, sys: 3.82 ms, total: 91.7 ms\n",
      "Wall time: 90.8 ms\n"
     ]
    },
    {
     "data": {
      "text/plain": "PREDISPATCHSEQNO    0\nREGIONID            0\nPERIODID            0\nFORECASTDEMAND      0\nLASTCHANGED         0\nDATETIME            0\ndtype: int64"
     },
     "execution_count": 1030,
     "metadata": {},
     "output_type": "execute_result"
    }
   ],
   "source": [
    "%%time\n",
    "vic_forecast_demand.isna().sum()"
   ],
   "metadata": {
    "collapsed": false,
    "ExecuteTime": {
     "end_time": "2024-03-14T12:40:19.889798Z",
     "start_time": "2024-03-14T12:40:19.796084Z"
    }
   },
   "id": "d5d2e341feb4827b",
   "execution_count": 1030
  },
  {
   "cell_type": "markdown",
   "source": [
    "number of unique values"
   ],
   "metadata": {
    "collapsed": false
   },
   "id": "f78f7addd9456b13"
  },
  {
   "cell_type": "code",
   "outputs": [
    {
     "data": {
      "text/plain": "PREDISPATCHSEQNO     73836\nREGIONID                 1\nPERIODID                79\nFORECASTDEMAND      430091\nLASTCHANGED          73836\nDATETIME             73833\ndtype: int64"
     },
     "execution_count": 1031,
     "metadata": {},
     "output_type": "execute_result"
    }
   ],
   "source": [
    "vic_forecast_demand.nunique()"
   ],
   "metadata": {
    "collapsed": false,
    "ExecuteTime": {
     "end_time": "2024-03-14T12:40:20.113509Z",
     "start_time": "2024-03-14T12:40:19.891117Z"
    }
   },
   "id": "79810cf215c482db",
   "execution_count": 1031
  },
  {
   "cell_type": "markdown",
   "source": [
    "check for regular intervals"
   ],
   "metadata": {
    "collapsed": false
   },
   "id": "34de60dacd1c7ab5"
  },
  {
   "cell_type": "markdown",
   "source": [
    "checking timestamps"
   ],
   "metadata": {
    "collapsed": false
   },
   "id": "d9e5a12dabd58905"
  },
  {
   "cell_type": "markdown",
   "source": [
    "visual inspection"
   ],
   "metadata": {
    "collapsed": false
   },
   "id": "47a28caa78a668b4"
  },
  {
   "cell_type": "markdown",
   "source": [
    "check data types & do required conversions"
   ],
   "metadata": {
    "collapsed": false
   },
   "id": "87a5a4235bd05d51"
  },
  {
   "cell_type": "markdown",
   "source": [
    "check time stamps"
   ],
   "metadata": {
    "collapsed": false
   },
   "id": "13a853dbf7d11e36"
  },
  {
   "cell_type": "markdown",
   "source": [
    "<a id=\"2\"></a>\n",
    "## SA Forecast Demand"
   ],
   "metadata": {
    "collapsed": false
   },
   "id": "75a633fdee928fc0"
  },
  {
   "cell_type": "code",
   "outputs": [
    {
     "name": "stdout",
     "output_type": "stream",
     "text": [
      "CPU times: user 2 s, sys: 119 ms, total: 2.12 s\n",
      "Wall time: 2.12 s\n"
     ]
    }
   ],
   "source": [
    "%%time\n",
    "sa_forecast_demand = pd.read_csv(os.path.join(data_path, 'Australia', 'b', 'forecastdemand_sa.csv'), parse_dates=['LASTCHANGED', 'DATETIME'])"
   ],
   "metadata": {
    "collapsed": false,
    "ExecuteTime": {
     "end_time": "2024-03-14T12:40:22.236132Z",
     "start_time": "2024-03-14T12:40:20.114323Z"
    }
   },
   "id": "5dafe7e46f0e5720",
   "execution_count": 1032
  },
  {
   "cell_type": "code",
   "outputs": [
    {
     "name": "stdout",
     "output_type": "stream",
     "text": [
      "CPU times: user 111 µs, sys: 0 ns, total: 111 µs\n",
      "Wall time: 98.5 µs\n"
     ]
    },
    {
     "data": {
      "text/plain": "   PREDISPATCHSEQNO REGIONID  PERIODID  FORECASTDEMAND         LASTCHANGED  \\\n0        2016123018      SA1        71         1394.41 2016-12-30 12:31:25   \n1        2016123018      SA1        72         1285.07 2016-12-30 12:31:25   \n2        2016123018      SA1        73         1221.70 2016-12-30 12:31:25   \n3        2016123018      SA1        74         1141.86 2016-12-30 12:31:25   \n4        2016123018      SA1        75         1087.78 2016-12-30 12:31:25   \n\n             DATETIME  \n0 2017-01-01 00:00:00  \n1 2017-01-01 00:30:00  \n2 2017-01-01 01:00:00  \n3 2017-01-01 01:30:00  \n4 2017-01-01 02:00:00  ",
      "text/html": "<div>\n<style scoped>\n    .dataframe tbody tr th:only-of-type {\n        vertical-align: middle;\n    }\n\n    .dataframe tbody tr th {\n        vertical-align: top;\n    }\n\n    .dataframe thead th {\n        text-align: right;\n    }\n</style>\n<table border=\"1\" class=\"dataframe\">\n  <thead>\n    <tr style=\"text-align: right;\">\n      <th></th>\n      <th>PREDISPATCHSEQNO</th>\n      <th>REGIONID</th>\n      <th>PERIODID</th>\n      <th>FORECASTDEMAND</th>\n      <th>LASTCHANGED</th>\n      <th>DATETIME</th>\n    </tr>\n  </thead>\n  <tbody>\n    <tr>\n      <th>0</th>\n      <td>2016123018</td>\n      <td>SA1</td>\n      <td>71</td>\n      <td>1394.41</td>\n      <td>2016-12-30 12:31:25</td>\n      <td>2017-01-01 00:00:00</td>\n    </tr>\n    <tr>\n      <th>1</th>\n      <td>2016123018</td>\n      <td>SA1</td>\n      <td>72</td>\n      <td>1285.07</td>\n      <td>2016-12-30 12:31:25</td>\n      <td>2017-01-01 00:30:00</td>\n    </tr>\n    <tr>\n      <th>2</th>\n      <td>2016123018</td>\n      <td>SA1</td>\n      <td>73</td>\n      <td>1221.70</td>\n      <td>2016-12-30 12:31:25</td>\n      <td>2017-01-01 01:00:00</td>\n    </tr>\n    <tr>\n      <th>3</th>\n      <td>2016123018</td>\n      <td>SA1</td>\n      <td>74</td>\n      <td>1141.86</td>\n      <td>2016-12-30 12:31:25</td>\n      <td>2017-01-01 01:30:00</td>\n    </tr>\n    <tr>\n      <th>4</th>\n      <td>2016123018</td>\n      <td>SA1</td>\n      <td>75</td>\n      <td>1087.78</td>\n      <td>2016-12-30 12:31:25</td>\n      <td>2017-01-01 02:00:00</td>\n    </tr>\n  </tbody>\n</table>\n</div>"
     },
     "execution_count": 1033,
     "metadata": {},
     "output_type": "execute_result"
    }
   ],
   "source": [
    "%%time\n",
    "sa_forecast_demand.head()"
   ],
   "metadata": {
    "collapsed": false,
    "ExecuteTime": {
     "end_time": "2024-03-14T12:40:22.242408Z",
     "start_time": "2024-03-14T12:40:22.236969Z"
    }
   },
   "id": "85ca104fc5687f92",
   "execution_count": 1033
  },
  {
   "cell_type": "code",
   "outputs": [
    {
     "name": "stdout",
     "output_type": "stream",
     "text": [
      "CPU times: user 62 µs, sys: 4 µs, total: 66 µs\n",
      "Wall time: 65.1 µs\n"
     ]
    },
    {
     "data": {
      "text/plain": "         PREDISPATCHSEQNO REGIONID  PERIODID  FORECASTDEMAND  \\\n4095587        2021031740      SA1        53         1228.07   \n4095588        2021031740      SA1        54         1208.17   \n4095589        2021031740      SA1        55         1199.27   \n4095590        2021031740      SA1        56         1194.31   \n4095591        2021031740      SA1        57         1190.41   \n\n                LASTCHANGED            DATETIME  \n4095587 2021-03-17 23:31:33 2021-03-19 02:00:00  \n4095588 2021-03-17 23:31:33 2021-03-19 02:30:00  \n4095589 2021-03-17 23:31:33 2021-03-19 03:00:00  \n4095590 2021-03-17 23:31:33 2021-03-19 03:30:00  \n4095591 2021-03-17 23:31:33 2021-03-19 04:00:00  ",
      "text/html": "<div>\n<style scoped>\n    .dataframe tbody tr th:only-of-type {\n        vertical-align: middle;\n    }\n\n    .dataframe tbody tr th {\n        vertical-align: top;\n    }\n\n    .dataframe thead th {\n        text-align: right;\n    }\n</style>\n<table border=\"1\" class=\"dataframe\">\n  <thead>\n    <tr style=\"text-align: right;\">\n      <th></th>\n      <th>PREDISPATCHSEQNO</th>\n      <th>REGIONID</th>\n      <th>PERIODID</th>\n      <th>FORECASTDEMAND</th>\n      <th>LASTCHANGED</th>\n      <th>DATETIME</th>\n    </tr>\n  </thead>\n  <tbody>\n    <tr>\n      <th>4095587</th>\n      <td>2021031740</td>\n      <td>SA1</td>\n      <td>53</td>\n      <td>1228.07</td>\n      <td>2021-03-17 23:31:33</td>\n      <td>2021-03-19 02:00:00</td>\n    </tr>\n    <tr>\n      <th>4095588</th>\n      <td>2021031740</td>\n      <td>SA1</td>\n      <td>54</td>\n      <td>1208.17</td>\n      <td>2021-03-17 23:31:33</td>\n      <td>2021-03-19 02:30:00</td>\n    </tr>\n    <tr>\n      <th>4095589</th>\n      <td>2021031740</td>\n      <td>SA1</td>\n      <td>55</td>\n      <td>1199.27</td>\n      <td>2021-03-17 23:31:33</td>\n      <td>2021-03-19 03:00:00</td>\n    </tr>\n    <tr>\n      <th>4095590</th>\n      <td>2021031740</td>\n      <td>SA1</td>\n      <td>56</td>\n      <td>1194.31</td>\n      <td>2021-03-17 23:31:33</td>\n      <td>2021-03-19 03:30:00</td>\n    </tr>\n    <tr>\n      <th>4095591</th>\n      <td>2021031740</td>\n      <td>SA1</td>\n      <td>57</td>\n      <td>1190.41</td>\n      <td>2021-03-17 23:31:33</td>\n      <td>2021-03-19 04:00:00</td>\n    </tr>\n  </tbody>\n</table>\n</div>"
     },
     "execution_count": 1034,
     "metadata": {},
     "output_type": "execute_result"
    }
   ],
   "source": [
    "%%time\n",
    "sa_forecast_demand.tail()"
   ],
   "metadata": {
    "collapsed": false,
    "ExecuteTime": {
     "end_time": "2024-03-14T12:40:22.322768Z",
     "start_time": "2024-03-14T12:40:22.243082Z"
    }
   },
   "id": "82cfaf848949ad11",
   "execution_count": 1034
  },
  {
   "cell_type": "code",
   "outputs": [
    {
     "name": "stdout",
     "output_type": "stream",
     "text": [
      "<class 'pandas.core.frame.DataFrame'>\n",
      "RangeIndex: 4095592 entries, 0 to 4095591\n",
      "Data columns (total 6 columns):\n",
      " #   Column            Dtype         \n",
      "---  ------            -----         \n",
      " 0   PREDISPATCHSEQNO  int64         \n",
      " 1   REGIONID          object        \n",
      " 2   PERIODID          int64         \n",
      " 3   FORECASTDEMAND    float64       \n",
      " 4   LASTCHANGED       datetime64[ns]\n",
      " 5   DATETIME          datetime64[ns]\n",
      "dtypes: datetime64[ns](2), float64(1), int64(2), object(1)\n",
      "memory usage: 187.5+ MB\n",
      "CPU times: user 1.77 ms, sys: 21 µs, total: 1.79 ms\n",
      "Wall time: 1.71 ms\n"
     ]
    }
   ],
   "source": [
    "%%time\n",
    "sa_forecast_demand.info()"
   ],
   "metadata": {
    "collapsed": false,
    "ExecuteTime": {
     "end_time": "2024-03-14T12:40:22.335873Z",
     "start_time": "2024-03-14T12:40:22.323788Z"
    }
   },
   "id": "f46b251f40c7f959",
   "execution_count": 1035
  },
  {
   "cell_type": "code",
   "outputs": [
    {
     "name": "stdout",
     "output_type": "stream",
     "text": [
      "CPU times: user 78 ms, sys: 0 ns, total: 78 ms\n",
      "Wall time: 77.7 ms\n"
     ]
    },
    {
     "data": {
      "text/plain": "count    4.095592e+06\nmean     1.299720e+03\nstd      3.293395e+02\nmin      1.198300e+02\n25%      1.103100e+03\n50%      1.269130e+03\n75%      1.463940e+03\nmax      3.161750e+03\nName: FORECASTDEMAND, dtype: float64"
     },
     "execution_count": 1036,
     "metadata": {},
     "output_type": "execute_result"
    }
   ],
   "source": [
    "%%time\n",
    "sa_forecast_demand['FORECASTDEMAND'].describe()"
   ],
   "metadata": {
    "collapsed": false,
    "ExecuteTime": {
     "end_time": "2024-03-14T12:40:22.424655Z",
     "start_time": "2024-03-14T12:40:22.336449Z"
    }
   },
   "id": "6d7d573982c5f7ee",
   "execution_count": 1036
  },
  {
   "cell_type": "code",
   "outputs": [
    {
     "name": "stdout",
     "output_type": "stream",
     "text": [
      "CPU times: user 8 µs, sys: 1 µs, total: 9 µs\n",
      "Wall time: 10.3 µs\n"
     ]
    },
    {
     "data": {
      "text/plain": "(4095592, 6)"
     },
     "execution_count": 1037,
     "metadata": {},
     "output_type": "execute_result"
    }
   ],
   "source": [
    "%%time\n",
    "sa_forecast_demand.shape"
   ],
   "metadata": {
    "collapsed": false,
    "ExecuteTime": {
     "end_time": "2024-03-14T12:40:22.427711Z",
     "start_time": "2024-03-14T12:40:22.425339Z"
    }
   },
   "id": "a9621125501dad6c",
   "execution_count": 1037
  },
  {
   "cell_type": "code",
   "outputs": [
    {
     "name": "stdout",
     "output_type": "stream",
     "text": [
      "CPU times: user 136 ms, sys: 349 µs, total: 137 ms\n",
      "Wall time: 136 ms\n"
     ]
    },
    {
     "data": {
      "text/plain": "PREDISPATCHSEQNO             2016123018\nREGIONID                            SA1\nPERIODID                              1\nFORECASTDEMAND                   119.83\nLASTCHANGED         2016-12-30 12:31:25\nDATETIME            2017-01-01 00:00:00\ndtype: object"
     },
     "execution_count": 1038,
     "metadata": {},
     "output_type": "execute_result"
    }
   ],
   "source": [
    "%%time\n",
    "sa_forecast_demand.min()"
   ],
   "metadata": {
    "collapsed": false,
    "ExecuteTime": {
     "end_time": "2024-03-14T12:40:22.568806Z",
     "start_time": "2024-03-14T12:40:22.428320Z"
    }
   },
   "id": "1b789fc675407f28",
   "execution_count": 1038
  },
  {
   "cell_type": "code",
   "outputs": [
    {
     "name": "stdout",
     "output_type": "stream",
     "text": [
      "CPU times: user 136 ms, sys: 0 ns, total: 136 ms\n",
      "Wall time: 135 ms\n"
     ]
    },
    {
     "data": {
      "text/plain": "PREDISPATCHSEQNO             2021031740\nREGIONID                            SA1\nPERIODID                             79\nFORECASTDEMAND                  3161.75\nLASTCHANGED         2021-03-17 23:31:33\nDATETIME            2021-03-19 04:00:00\ndtype: object"
     },
     "execution_count": 1039,
     "metadata": {},
     "output_type": "execute_result"
    }
   ],
   "source": [
    "%%time\n",
    "sa_forecast_demand.max()"
   ],
   "metadata": {
    "collapsed": false,
    "ExecuteTime": {
     "end_time": "2024-03-14T12:40:22.707271Z",
     "start_time": "2024-03-14T12:40:22.569453Z"
    }
   },
   "id": "bd8c91af09352ce2",
   "execution_count": 1039
  },
  {
   "cell_type": "code",
   "outputs": [
    {
     "name": "stdout",
     "output_type": "stream",
     "text": [
      "CPU times: user 90.7 ms, sys: 188 µs, total: 90.9 ms\n",
      "Wall time: 89.2 ms\n"
     ]
    },
    {
     "data": {
      "text/plain": "PREDISPATCHSEQNO    0\nREGIONID            0\nPERIODID            0\nFORECASTDEMAND      0\nLASTCHANGED         0\nDATETIME            0\ndtype: int64"
     },
     "execution_count": 1040,
     "metadata": {},
     "output_type": "execute_result"
    }
   ],
   "source": [
    "%%time\n",
    "sa_forecast_demand.isnull().sum()"
   ],
   "metadata": {
    "collapsed": false,
    "ExecuteTime": {
     "end_time": "2024-03-14T12:40:22.800177Z",
     "start_time": "2024-03-14T12:40:22.708002Z"
    }
   },
   "id": "32a94037ea4c4bf",
   "execution_count": 1040
  },
  {
   "cell_type": "code",
   "outputs": [
    {
     "name": "stdout",
     "output_type": "stream",
     "text": [
      "CPU times: user 90.2 ms, sys: 152 µs, total: 90.4 ms\n",
      "Wall time: 89.3 ms\n"
     ]
    },
    {
     "data": {
      "text/plain": "PREDISPATCHSEQNO    0\nREGIONID            0\nPERIODID            0\nFORECASTDEMAND      0\nLASTCHANGED         0\nDATETIME            0\ndtype: int64"
     },
     "execution_count": 1041,
     "metadata": {},
     "output_type": "execute_result"
    }
   ],
   "source": [
    "%%time\n",
    "sa_forecast_demand.isna().sum()"
   ],
   "metadata": {
    "collapsed": false,
    "ExecuteTime": {
     "end_time": "2024-03-14T12:40:22.893160Z",
     "start_time": "2024-03-14T12:40:22.800875Z"
    }
   },
   "id": "a0d0f50327313aec",
   "execution_count": 1041
  },
  {
   "cell_type": "code",
   "outputs": [
    {
     "name": "stdout",
     "output_type": "stream",
     "text": [
      "CPU times: user 195 ms, sys: 0 ns, total: 195 ms\n",
      "Wall time: 194 ms\n"
     ]
    },
    {
     "data": {
      "text/plain": "PREDISPATCHSEQNO     73836\nREGIONID                 1\nPERIODID                79\nFORECASTDEMAND      215933\nLASTCHANGED          73836\nDATETIME             73833\ndtype: int64"
     },
     "execution_count": 1042,
     "metadata": {},
     "output_type": "execute_result"
    }
   ],
   "source": [
    "%%time\n",
    "sa_forecast_demand.nunique()"
   ],
   "metadata": {
    "collapsed": false,
    "ExecuteTime": {
     "end_time": "2024-03-14T12:40:23.090889Z",
     "start_time": "2024-03-14T12:40:22.893859Z"
    }
   },
   "id": "9748f6b66eb19498",
   "execution_count": 1042
  },
  {
   "cell_type": "code",
   "outputs": [
    {
     "data": {
      "text/plain": "PREDISPATCHSEQNO             int64\nREGIONID                    object\nPERIODID                     int64\nFORECASTDEMAND             float64\nLASTCHANGED         datetime64[ns]\nDATETIME            datetime64[ns]\ndtype: object"
     },
     "execution_count": 1043,
     "metadata": {},
     "output_type": "execute_result"
    }
   ],
   "source": [
    "sa_forecast_demand.dtypes"
   ],
   "metadata": {
    "collapsed": false,
    "ExecuteTime": {
     "end_time": "2024-03-14T12:40:23.094405Z",
     "start_time": "2024-03-14T12:40:23.091550Z"
    }
   },
   "id": "352e4d105874fb02",
   "execution_count": 1043
  },
  {
   "cell_type": "markdown",
   "source": [
    "<a id=\"3\"></a>\n",
    "## QLD Forecast Demand"
   ],
   "metadata": {
    "collapsed": false
   },
   "id": "bc959cebfeff5380"
  },
  {
   "cell_type": "code",
   "outputs": [],
   "source": [
    "qld_forecast_demand = pd.read_csv(os.path.join(data_path, 'Australia', 'c', 'forecastdemand_qld.csv'), parse_dates=['LASTCHANGED', 'DATETIME'])"
   ],
   "metadata": {
    "collapsed": false,
    "ExecuteTime": {
     "end_time": "2024-03-14T12:40:25.263580Z",
     "start_time": "2024-03-14T12:40:23.094982Z"
    }
   },
   "id": "45c6da34745864fc",
   "execution_count": 1044
  },
  {
   "cell_type": "code",
   "outputs": [
    {
     "data": {
      "text/plain": "   PREDISPATCHSEQNO REGIONID  PERIODID  FORECASTDEMAND         LASTCHANGED  \\\n0        2016123018     QLD1        71         6425.36 2016-12-30 12:31:25   \n1        2016123018     QLD1        72         6193.34 2016-12-30 12:31:25   \n2        2016123018     QLD1        73         6016.45 2016-12-30 12:31:25   \n3        2016123018     QLD1        74         5859.23 2016-12-30 12:31:25   \n4        2016123018     QLD1        75         5767.15 2016-12-30 12:31:25   \n\n             DATETIME  \n0 2017-01-01 00:00:00  \n1 2017-01-01 00:30:00  \n2 2017-01-01 01:00:00  \n3 2017-01-01 01:30:00  \n4 2017-01-01 02:00:00  ",
      "text/html": "<div>\n<style scoped>\n    .dataframe tbody tr th:only-of-type {\n        vertical-align: middle;\n    }\n\n    .dataframe tbody tr th {\n        vertical-align: top;\n    }\n\n    .dataframe thead th {\n        text-align: right;\n    }\n</style>\n<table border=\"1\" class=\"dataframe\">\n  <thead>\n    <tr style=\"text-align: right;\">\n      <th></th>\n      <th>PREDISPATCHSEQNO</th>\n      <th>REGIONID</th>\n      <th>PERIODID</th>\n      <th>FORECASTDEMAND</th>\n      <th>LASTCHANGED</th>\n      <th>DATETIME</th>\n    </tr>\n  </thead>\n  <tbody>\n    <tr>\n      <th>0</th>\n      <td>2016123018</td>\n      <td>QLD1</td>\n      <td>71</td>\n      <td>6425.36</td>\n      <td>2016-12-30 12:31:25</td>\n      <td>2017-01-01 00:00:00</td>\n    </tr>\n    <tr>\n      <th>1</th>\n      <td>2016123018</td>\n      <td>QLD1</td>\n      <td>72</td>\n      <td>6193.34</td>\n      <td>2016-12-30 12:31:25</td>\n      <td>2017-01-01 00:30:00</td>\n    </tr>\n    <tr>\n      <th>2</th>\n      <td>2016123018</td>\n      <td>QLD1</td>\n      <td>73</td>\n      <td>6016.45</td>\n      <td>2016-12-30 12:31:25</td>\n      <td>2017-01-01 01:00:00</td>\n    </tr>\n    <tr>\n      <th>3</th>\n      <td>2016123018</td>\n      <td>QLD1</td>\n      <td>74</td>\n      <td>5859.23</td>\n      <td>2016-12-30 12:31:25</td>\n      <td>2017-01-01 01:30:00</td>\n    </tr>\n    <tr>\n      <th>4</th>\n      <td>2016123018</td>\n      <td>QLD1</td>\n      <td>75</td>\n      <td>5767.15</td>\n      <td>2016-12-30 12:31:25</td>\n      <td>2017-01-01 02:00:00</td>\n    </tr>\n  </tbody>\n</table>\n</div>"
     },
     "execution_count": 1045,
     "metadata": {},
     "output_type": "execute_result"
    }
   ],
   "source": [
    "qld_forecast_demand.head()"
   ],
   "metadata": {
    "collapsed": false,
    "ExecuteTime": {
     "end_time": "2024-03-14T12:40:25.269273Z",
     "start_time": "2024-03-14T12:40:25.264497Z"
    }
   },
   "id": "ec887d9cbaaf9b1e",
   "execution_count": 1045
  },
  {
   "cell_type": "code",
   "outputs": [
    {
     "data": {
      "text/plain": "         PREDISPATCHSEQNO REGIONID  PERIODID  FORECASTDEMAND  \\\n4095587        2021031740     QLD1        53         5600.29   \n4095588        2021031740     QLD1        54         5570.50   \n4095589        2021031740     QLD1        55         5549.37   \n4095590        2021031740     QLD1        56         5545.07   \n4095591        2021031740     QLD1        57         5564.29   \n\n                LASTCHANGED            DATETIME  \n4095587 2021-03-17 23:31:33 2021-03-19 02:00:00  \n4095588 2021-03-17 23:31:33 2021-03-19 02:30:00  \n4095589 2021-03-17 23:31:33 2021-03-19 03:00:00  \n4095590 2021-03-17 23:31:33 2021-03-19 03:30:00  \n4095591 2021-03-17 23:31:33 2021-03-19 04:00:00  ",
      "text/html": "<div>\n<style scoped>\n    .dataframe tbody tr th:only-of-type {\n        vertical-align: middle;\n    }\n\n    .dataframe tbody tr th {\n        vertical-align: top;\n    }\n\n    .dataframe thead th {\n        text-align: right;\n    }\n</style>\n<table border=\"1\" class=\"dataframe\">\n  <thead>\n    <tr style=\"text-align: right;\">\n      <th></th>\n      <th>PREDISPATCHSEQNO</th>\n      <th>REGIONID</th>\n      <th>PERIODID</th>\n      <th>FORECASTDEMAND</th>\n      <th>LASTCHANGED</th>\n      <th>DATETIME</th>\n    </tr>\n  </thead>\n  <tbody>\n    <tr>\n      <th>4095587</th>\n      <td>2021031740</td>\n      <td>QLD1</td>\n      <td>53</td>\n      <td>5600.29</td>\n      <td>2021-03-17 23:31:33</td>\n      <td>2021-03-19 02:00:00</td>\n    </tr>\n    <tr>\n      <th>4095588</th>\n      <td>2021031740</td>\n      <td>QLD1</td>\n      <td>54</td>\n      <td>5570.50</td>\n      <td>2021-03-17 23:31:33</td>\n      <td>2021-03-19 02:30:00</td>\n    </tr>\n    <tr>\n      <th>4095589</th>\n      <td>2021031740</td>\n      <td>QLD1</td>\n      <td>55</td>\n      <td>5549.37</td>\n      <td>2021-03-17 23:31:33</td>\n      <td>2021-03-19 03:00:00</td>\n    </tr>\n    <tr>\n      <th>4095590</th>\n      <td>2021031740</td>\n      <td>QLD1</td>\n      <td>56</td>\n      <td>5545.07</td>\n      <td>2021-03-17 23:31:33</td>\n      <td>2021-03-19 03:30:00</td>\n    </tr>\n    <tr>\n      <th>4095591</th>\n      <td>2021031740</td>\n      <td>QLD1</td>\n      <td>57</td>\n      <td>5564.29</td>\n      <td>2021-03-17 23:31:33</td>\n      <td>2021-03-19 04:00:00</td>\n    </tr>\n  </tbody>\n</table>\n</div>"
     },
     "execution_count": 1046,
     "metadata": {},
     "output_type": "execute_result"
    }
   ],
   "source": [
    "qld_forecast_demand.tail()"
   ],
   "metadata": {
    "collapsed": false,
    "ExecuteTime": {
     "end_time": "2024-03-14T12:40:25.274602Z",
     "start_time": "2024-03-14T12:40:25.269981Z"
    }
   },
   "id": "555e731cc7d0668a",
   "execution_count": 1046
  },
  {
   "cell_type": "code",
   "outputs": [
    {
     "name": "stdout",
     "output_type": "stream",
     "text": [
      "<class 'pandas.core.frame.DataFrame'>\n",
      "RangeIndex: 4095592 entries, 0 to 4095591\n",
      "Data columns (total 6 columns):\n",
      " #   Column            Dtype         \n",
      "---  ------            -----         \n",
      " 0   PREDISPATCHSEQNO  int64         \n",
      " 1   REGIONID          object        \n",
      " 2   PERIODID          int64         \n",
      " 3   FORECASTDEMAND    float64       \n",
      " 4   LASTCHANGED       datetime64[ns]\n",
      " 5   DATETIME          datetime64[ns]\n",
      "dtypes: datetime64[ns](2), float64(1), int64(2), object(1)\n",
      "memory usage: 187.5+ MB\n"
     ]
    }
   ],
   "source": [
    "qld_forecast_demand.info()"
   ],
   "metadata": {
    "collapsed": false,
    "ExecuteTime": {
     "end_time": "2024-03-14T12:40:25.279373Z",
     "start_time": "2024-03-14T12:40:25.275120Z"
    }
   },
   "id": "6d1346901554c9bc",
   "execution_count": 1047
  },
  {
   "cell_type": "code",
   "outputs": [
    {
     "data": {
      "text/plain": "count    4.095592e+06\nmean     6.217552e+03\nstd      8.990330e+02\nmin      3.634990e+03\n25%      5.493320e+03\n50%      6.105220e+03\n75%      6.833010e+03\nmax      1.004541e+04\nName: FORECASTDEMAND, dtype: float64"
     },
     "execution_count": 1048,
     "metadata": {},
     "output_type": "execute_result"
    }
   ],
   "source": [
    "qld_forecast_demand['FORECASTDEMAND'].describe()"
   ],
   "metadata": {
    "collapsed": false,
    "ExecuteTime": {
     "end_time": "2024-03-14T12:40:25.354326Z",
     "start_time": "2024-03-14T12:40:25.279971Z"
    }
   },
   "id": "c8b1c9b67a4aa423",
   "execution_count": 1048
  },
  {
   "cell_type": "code",
   "outputs": [
    {
     "data": {
      "text/plain": "(4095592, 6)"
     },
     "execution_count": 1049,
     "metadata": {},
     "output_type": "execute_result"
    }
   ],
   "source": [
    "qld_forecast_demand.shape"
   ],
   "metadata": {
    "collapsed": false,
    "ExecuteTime": {
     "end_time": "2024-03-14T12:40:25.359117Z",
     "start_time": "2024-03-14T12:40:25.356858Z"
    }
   },
   "id": "6044c5437ea3e726",
   "execution_count": 1049
  },
  {
   "cell_type": "code",
   "outputs": [
    {
     "data": {
      "text/plain": "PREDISPATCHSEQNO             2016123018\nREGIONID                           QLD1\nPERIODID                              1\nFORECASTDEMAND                  3634.99\nLASTCHANGED         2016-12-30 12:31:25\nDATETIME            2017-01-01 00:00:00\ndtype: object"
     },
     "execution_count": 1050,
     "metadata": {},
     "output_type": "execute_result"
    }
   ],
   "source": [
    "qld_forecast_demand.min()"
   ],
   "metadata": {
    "collapsed": false,
    "ExecuteTime": {
     "end_time": "2024-03-14T12:40:25.505821Z",
     "start_time": "2024-03-14T12:40:25.359667Z"
    }
   },
   "id": "2ad2681fd7190a8b",
   "execution_count": 1050
  },
  {
   "cell_type": "code",
   "outputs": [
    {
     "data": {
      "text/plain": "PREDISPATCHSEQNO             2021031740\nREGIONID                           QLD1\nPERIODID                             79\nFORECASTDEMAND                 10045.41\nLASTCHANGED         2021-03-17 23:31:33\nDATETIME            2021-03-19 04:00:00\ndtype: object"
     },
     "execution_count": 1051,
     "metadata": {},
     "output_type": "execute_result"
    }
   ],
   "source": [
    "qld_forecast_demand.max()"
   ],
   "metadata": {
    "collapsed": false,
    "ExecuteTime": {
     "end_time": "2024-03-14T12:40:25.645811Z",
     "start_time": "2024-03-14T12:40:25.506567Z"
    }
   },
   "id": "6a9243f189b698e7",
   "execution_count": 1051
  },
  {
   "cell_type": "code",
   "outputs": [
    {
     "data": {
      "text/plain": "PREDISPATCHSEQNO    0\nREGIONID            0\nPERIODID            0\nFORECASTDEMAND      0\nLASTCHANGED         0\nDATETIME            0\ndtype: int64"
     },
     "execution_count": 1052,
     "metadata": {},
     "output_type": "execute_result"
    }
   ],
   "source": [
    "qld_forecast_demand.isnull().sum()"
   ],
   "metadata": {
    "collapsed": false,
    "ExecuteTime": {
     "end_time": "2024-03-14T12:40:25.738683Z",
     "start_time": "2024-03-14T12:40:25.646549Z"
    }
   },
   "id": "4ce8c077206d6d4d",
   "execution_count": 1052
  },
  {
   "cell_type": "code",
   "outputs": [
    {
     "data": {
      "text/plain": "PREDISPATCHSEQNO    0\nREGIONID            0\nPERIODID            0\nFORECASTDEMAND      0\nLASTCHANGED         0\nDATETIME            0\ndtype: int64"
     },
     "execution_count": 1053,
     "metadata": {},
     "output_type": "execute_result"
    }
   ],
   "source": [
    "qld_forecast_demand.isna().sum()"
   ],
   "metadata": {
    "collapsed": false,
    "ExecuteTime": {
     "end_time": "2024-03-14T12:40:25.831159Z",
     "start_time": "2024-03-14T12:40:25.739402Z"
    }
   },
   "id": "39ccb862a2e09f72",
   "execution_count": 1053
  },
  {
   "cell_type": "code",
   "outputs": [
    {
     "data": {
      "text/plain": "PREDISPATCHSEQNO     73836\nREGIONID                 1\nPERIODID                79\nFORECASTDEMAND      432543\nLASTCHANGED          73836\nDATETIME             73833\ndtype: int64"
     },
     "execution_count": 1054,
     "metadata": {},
     "output_type": "execute_result"
    }
   ],
   "source": [
    "qld_forecast_demand.nunique()"
   ],
   "metadata": {
    "collapsed": false,
    "ExecuteTime": {
     "end_time": "2024-03-14T12:40:26.041062Z",
     "start_time": "2024-03-14T12:40:25.831784Z"
    }
   },
   "id": "27cb70ae8ce11144",
   "execution_count": 1054
  },
  {
   "cell_type": "code",
   "outputs": [
    {
     "data": {
      "text/plain": "PREDISPATCHSEQNO             int64\nREGIONID                    object\nPERIODID                     int64\nFORECASTDEMAND             float64\nLASTCHANGED         datetime64[ns]\nDATETIME            datetime64[ns]\ndtype: object"
     },
     "execution_count": 1055,
     "metadata": {},
     "output_type": "execute_result"
    }
   ],
   "source": [
    "qld_forecast_demand.dtypes"
   ],
   "metadata": {
    "collapsed": false,
    "ExecuteTime": {
     "end_time": "2024-03-14T12:40:26.044479Z",
     "start_time": "2024-03-14T12:40:26.041806Z"
    }
   },
   "id": "e4c6d2370c875841",
   "execution_count": 1055
  },
  {
   "cell_type": "markdown",
   "source": [
    "<a id=\"4\"></a>\n",
    "## QLD Temperatures"
   ],
   "metadata": {
    "collapsed": false
   },
   "id": "15aa2a5e27b420d"
  },
  {
   "cell_type": "code",
   "outputs": [],
   "source": [
    "qld_temperature = pd.read_csv(os.path.join(data_path, 'Australia', 'd', 'temprature_qld.csv'), parse_dates=['DATETIME'], dayfirst=True)"
   ],
   "metadata": {
    "collapsed": false,
    "ExecuteTime": {
     "end_time": "2024-03-14T12:40:26.568183Z",
     "start_time": "2024-03-14T12:40:26.045053Z"
    }
   },
   "id": "eb5ba8fcecb3681f",
   "execution_count": 1056
  },
  {
   "cell_type": "code",
   "outputs": [
    {
     "data": {
      "text/plain": "                       LOCATION            DATETIME  TEMPERATURE\n0  Brisbane Archerfield Airport 2010-01-01 00:00:00         23.6\n1  Brisbane Archerfield Airport 2010-01-01 00:30:00         23.7\n2  Brisbane Archerfield Airport 2010-01-01 01:00:00         23.5\n3  Brisbane Archerfield Airport 2010-01-01 01:30:00         22.6\n4  Brisbane Archerfield Airport 2010-01-01 02:00:00         22.0",
      "text/html": "<div>\n<style scoped>\n    .dataframe tbody tr th:only-of-type {\n        vertical-align: middle;\n    }\n\n    .dataframe tbody tr th {\n        vertical-align: top;\n    }\n\n    .dataframe thead th {\n        text-align: right;\n    }\n</style>\n<table border=\"1\" class=\"dataframe\">\n  <thead>\n    <tr style=\"text-align: right;\">\n      <th></th>\n      <th>LOCATION</th>\n      <th>DATETIME</th>\n      <th>TEMPERATURE</th>\n    </tr>\n  </thead>\n  <tbody>\n    <tr>\n      <th>0</th>\n      <td>Brisbane Archerfield Airport</td>\n      <td>2010-01-01 00:00:00</td>\n      <td>23.6</td>\n    </tr>\n    <tr>\n      <th>1</th>\n      <td>Brisbane Archerfield Airport</td>\n      <td>2010-01-01 00:30:00</td>\n      <td>23.7</td>\n    </tr>\n    <tr>\n      <th>2</th>\n      <td>Brisbane Archerfield Airport</td>\n      <td>2010-01-01 01:00:00</td>\n      <td>23.5</td>\n    </tr>\n    <tr>\n      <th>3</th>\n      <td>Brisbane Archerfield Airport</td>\n      <td>2010-01-01 01:30:00</td>\n      <td>22.6</td>\n    </tr>\n    <tr>\n      <th>4</th>\n      <td>Brisbane Archerfield Airport</td>\n      <td>2010-01-01 02:00:00</td>\n      <td>22.0</td>\n    </tr>\n  </tbody>\n</table>\n</div>"
     },
     "execution_count": 1057,
     "metadata": {},
     "output_type": "execute_result"
    }
   ],
   "source": [
    "qld_temperature.head()"
   ],
   "metadata": {
    "collapsed": false,
    "ExecuteTime": {
     "end_time": "2024-03-14T12:40:26.573365Z",
     "start_time": "2024-03-14T12:40:26.569027Z"
    }
   },
   "id": "43c7ea242169d3c7",
   "execution_count": 1057
  },
  {
   "cell_type": "code",
   "outputs": [
    {
     "data": {
      "text/plain": "                            LOCATION            DATETIME  TEMPERATURE\n208080  Brisbane Archerfield Airport 2021-03-17 22:00:00         19.6\n208081  Brisbane Archerfield Airport 2021-03-17 22:30:00         19.5\n208082  Brisbane Archerfield Airport 2021-03-17 23:00:00         19.4\n208083  Brisbane Archerfield Airport 2021-03-17 23:30:00         19.6\n208084  Brisbane Archerfield Airport 2021-03-18 00:00:00         19.5",
      "text/html": "<div>\n<style scoped>\n    .dataframe tbody tr th:only-of-type {\n        vertical-align: middle;\n    }\n\n    .dataframe tbody tr th {\n        vertical-align: top;\n    }\n\n    .dataframe thead th {\n        text-align: right;\n    }\n</style>\n<table border=\"1\" class=\"dataframe\">\n  <thead>\n    <tr style=\"text-align: right;\">\n      <th></th>\n      <th>LOCATION</th>\n      <th>DATETIME</th>\n      <th>TEMPERATURE</th>\n    </tr>\n  </thead>\n  <tbody>\n    <tr>\n      <th>208080</th>\n      <td>Brisbane Archerfield Airport</td>\n      <td>2021-03-17 22:00:00</td>\n      <td>19.6</td>\n    </tr>\n    <tr>\n      <th>208081</th>\n      <td>Brisbane Archerfield Airport</td>\n      <td>2021-03-17 22:30:00</td>\n      <td>19.5</td>\n    </tr>\n    <tr>\n      <th>208082</th>\n      <td>Brisbane Archerfield Airport</td>\n      <td>2021-03-17 23:00:00</td>\n      <td>19.4</td>\n    </tr>\n    <tr>\n      <th>208083</th>\n      <td>Brisbane Archerfield Airport</td>\n      <td>2021-03-17 23:30:00</td>\n      <td>19.6</td>\n    </tr>\n    <tr>\n      <th>208084</th>\n      <td>Brisbane Archerfield Airport</td>\n      <td>2021-03-18 00:00:00</td>\n      <td>19.5</td>\n    </tr>\n  </tbody>\n</table>\n</div>"
     },
     "execution_count": 1058,
     "metadata": {},
     "output_type": "execute_result"
    }
   ],
   "source": [
    "qld_temperature.tail()"
   ],
   "metadata": {
    "collapsed": false,
    "ExecuteTime": {
     "end_time": "2024-03-14T12:40:26.578618Z",
     "start_time": "2024-03-14T12:40:26.573953Z"
    }
   },
   "id": "5bbc4e4094ed4fdf",
   "execution_count": 1058
  },
  {
   "cell_type": "code",
   "outputs": [
    {
     "name": "stdout",
     "output_type": "stream",
     "text": [
      "<class 'pandas.core.frame.DataFrame'>\n",
      "RangeIndex: 208085 entries, 0 to 208084\n",
      "Data columns (total 3 columns):\n",
      " #   Column       Non-Null Count   Dtype         \n",
      "---  ------       --------------   -----         \n",
      " 0   LOCATION     208085 non-null  object        \n",
      " 1   DATETIME     208085 non-null  datetime64[ns]\n",
      " 2   TEMPERATURE  208085 non-null  float64       \n",
      "dtypes: datetime64[ns](1), float64(1), object(1)\n",
      "memory usage: 4.8+ MB\n"
     ]
    }
   ],
   "source": [
    "qld_temperature.info()"
   ],
   "metadata": {
    "collapsed": false,
    "ExecuteTime": {
     "end_time": "2024-03-14T12:40:26.588075Z",
     "start_time": "2024-03-14T12:40:26.579185Z"
    }
   },
   "id": "2f60f67eccf0b1a8",
   "execution_count": 1059
  },
  {
   "cell_type": "code",
   "outputs": [
    {
     "data": {
      "text/plain": "                            DATETIME    TEMPERATURE\ncount                         208085  208085.000000\nmean   2015-08-14 23:20:54.126438912      20.375972\nmin              2010-01-01 00:00:00       1.300000\n25%              2012-10-18 19:30:00      16.600000\n50%              2015-08-11 07:30:00      20.900000\n75%              2018-06-13 01:00:00      24.300000\nmax              2021-03-18 00:00:00      42.400000\nstd                              NaN       5.586945",
      "text/html": "<div>\n<style scoped>\n    .dataframe tbody tr th:only-of-type {\n        vertical-align: middle;\n    }\n\n    .dataframe tbody tr th {\n        vertical-align: top;\n    }\n\n    .dataframe thead th {\n        text-align: right;\n    }\n</style>\n<table border=\"1\" class=\"dataframe\">\n  <thead>\n    <tr style=\"text-align: right;\">\n      <th></th>\n      <th>DATETIME</th>\n      <th>TEMPERATURE</th>\n    </tr>\n  </thead>\n  <tbody>\n    <tr>\n      <th>count</th>\n      <td>208085</td>\n      <td>208085.000000</td>\n    </tr>\n    <tr>\n      <th>mean</th>\n      <td>2015-08-14 23:20:54.126438912</td>\n      <td>20.375972</td>\n    </tr>\n    <tr>\n      <th>min</th>\n      <td>2010-01-01 00:00:00</td>\n      <td>1.300000</td>\n    </tr>\n    <tr>\n      <th>25%</th>\n      <td>2012-10-18 19:30:00</td>\n      <td>16.600000</td>\n    </tr>\n    <tr>\n      <th>50%</th>\n      <td>2015-08-11 07:30:00</td>\n      <td>20.900000</td>\n    </tr>\n    <tr>\n      <th>75%</th>\n      <td>2018-06-13 01:00:00</td>\n      <td>24.300000</td>\n    </tr>\n    <tr>\n      <th>max</th>\n      <td>2021-03-18 00:00:00</td>\n      <td>42.400000</td>\n    </tr>\n    <tr>\n      <th>std</th>\n      <td>NaN</td>\n      <td>5.586945</td>\n    </tr>\n  </tbody>\n</table>\n</div>"
     },
     "execution_count": 1060,
     "metadata": {},
     "output_type": "execute_result"
    }
   ],
   "source": [
    "qld_temperature.describe()"
   ],
   "metadata": {
    "collapsed": false,
    "ExecuteTime": {
     "end_time": "2024-03-14T12:40:26.599514Z",
     "start_time": "2024-03-14T12:40:26.588747Z"
    }
   },
   "id": "3375c6ba50ac06dd",
   "execution_count": 1060
  },
  {
   "cell_type": "code",
   "outputs": [
    {
     "data": {
      "text/plain": "(208085, 3)"
     },
     "execution_count": 1061,
     "metadata": {},
     "output_type": "execute_result"
    }
   ],
   "source": [
    "qld_temperature.shape"
   ],
   "metadata": {
    "collapsed": false,
    "ExecuteTime": {
     "end_time": "2024-03-14T12:40:26.601960Z",
     "start_time": "2024-03-14T12:40:26.600077Z"
    }
   },
   "id": "b87e0dae797c3c02",
   "execution_count": 1061
  },
  {
   "cell_type": "code",
   "outputs": [
    {
     "data": {
      "text/plain": "LOCATION       Brisbane Archerfield Airport\nDATETIME                2010-01-01 00:00:00\nTEMPERATURE                             1.3\ndtype: object"
     },
     "execution_count": 1062,
     "metadata": {},
     "output_type": "execute_result"
    }
   ],
   "source": [
    "qld_temperature.min()"
   ],
   "metadata": {
    "collapsed": false,
    "ExecuteTime": {
     "end_time": "2024-03-14T12:40:26.618235Z",
     "start_time": "2024-03-14T12:40:26.602502Z"
    }
   },
   "id": "f7bc8ed0cf367ac0",
   "execution_count": 1062
  },
  {
   "cell_type": "code",
   "outputs": [
    {
     "data": {
      "text/plain": "LOCATION       Brisbane Archerfield Airport\nDATETIME                2021-03-18 00:00:00\nTEMPERATURE                            42.4\ndtype: object"
     },
     "execution_count": 1063,
     "metadata": {},
     "output_type": "execute_result"
    }
   ],
   "source": [
    "qld_temperature.max()"
   ],
   "metadata": {
    "collapsed": false,
    "ExecuteTime": {
     "end_time": "2024-03-14T12:40:26.643586Z",
     "start_time": "2024-03-14T12:40:26.618802Z"
    }
   },
   "id": "2e51f02c3f3acc0e",
   "execution_count": 1063
  },
  {
   "cell_type": "code",
   "outputs": [
    {
     "data": {
      "text/plain": "LOCATION       0\nDATETIME       0\nTEMPERATURE    0\ndtype: int64"
     },
     "execution_count": 1064,
     "metadata": {},
     "output_type": "execute_result"
    }
   ],
   "source": [
    "qld_temperature.isnull().sum()"
   ],
   "metadata": {
    "collapsed": false,
    "ExecuteTime": {
     "end_time": "2024-03-14T12:40:26.663615Z",
     "start_time": "2024-03-14T12:40:26.644195Z"
    }
   },
   "id": "e16bd8d0bf8a28bb",
   "execution_count": 1064
  },
  {
   "cell_type": "code",
   "outputs": [
    {
     "data": {
      "text/plain": "LOCATION       0\nDATETIME       0\nTEMPERATURE    0\ndtype: int64"
     },
     "execution_count": 1065,
     "metadata": {},
     "output_type": "execute_result"
    }
   ],
   "source": [
    "qld_temperature.isna().sum()"
   ],
   "metadata": {
    "collapsed": false,
    "ExecuteTime": {
     "end_time": "2024-03-14T12:40:26.682025Z",
     "start_time": "2024-03-14T12:40:26.664218Z"
    }
   },
   "id": "fcf3f580efc05d21",
   "execution_count": 1065
  },
  {
   "cell_type": "code",
   "outputs": [
    {
     "data": {
      "text/plain": "LOCATION            1\nDATETIME       208085\nTEMPERATURE       391\ndtype: int64"
     },
     "execution_count": 1066,
     "metadata": {},
     "output_type": "execute_result"
    }
   ],
   "source": [
    "qld_temperature.nunique()"
   ],
   "metadata": {
    "collapsed": false,
    "ExecuteTime": {
     "end_time": "2024-03-14T12:40:26.701960Z",
     "start_time": "2024-03-14T12:40:26.682688Z"
    }
   },
   "id": "edf3a3620ab853f9",
   "execution_count": 1066
  },
  {
   "cell_type": "code",
   "outputs": [
    {
     "data": {
      "text/plain": "LOCATION               object\nDATETIME       datetime64[ns]\nTEMPERATURE           float64\ndtype: object"
     },
     "execution_count": 1067,
     "metadata": {},
     "output_type": "execute_result"
    }
   ],
   "source": [
    "qld_temperature.dtypes"
   ],
   "metadata": {
    "collapsed": false,
    "ExecuteTime": {
     "end_time": "2024-03-14T12:40:26.705078Z",
     "start_time": "2024-03-14T12:40:26.702673Z"
    }
   },
   "id": "2085d8400f4c6f42",
   "execution_count": 1067
  },
  {
   "cell_type": "markdown",
   "source": [
    "<a id=\"5\"></a>\n",
    "## SA Temperatures"
   ],
   "metadata": {
    "collapsed": false
   },
   "id": "842327a6d18ecea9"
  },
  {
   "cell_type": "code",
   "outputs": [],
   "source": [
    "sa_temperature = pd.read_csv(os.path.join(data_path, 'Australia', 'd', 'temprature_sa.csv'), parse_dates=['DATETIME'], index_col=0)"
   ],
   "metadata": {
    "collapsed": false,
    "ExecuteTime": {
     "end_time": "2024-03-14T12:40:26.819986Z",
     "start_time": "2024-03-14T12:40:26.705645Z"
    }
   },
   "id": "fa25c091d839b212",
   "execution_count": 1068
  },
  {
   "cell_type": "code",
   "outputs": [
    {
     "data": {
      "text/plain": "               LOCATION            DATETIME  TEMPERATURE\n0  Adelaide (Kent Town) 2010-01-01 00:00:00         23.6\n1  Adelaide (Kent Town) 2010-01-01 00:30:00         23.7\n2  Adelaide (Kent Town) 2010-01-01 01:00:00         23.5\n3  Adelaide (Kent Town) 2010-01-01 01:30:00         22.6\n4  Adelaide (Kent Town) 2010-01-01 02:00:00         22.0",
      "text/html": "<div>\n<style scoped>\n    .dataframe tbody tr th:only-of-type {\n        vertical-align: middle;\n    }\n\n    .dataframe tbody tr th {\n        vertical-align: top;\n    }\n\n    .dataframe thead th {\n        text-align: right;\n    }\n</style>\n<table border=\"1\" class=\"dataframe\">\n  <thead>\n    <tr style=\"text-align: right;\">\n      <th></th>\n      <th>LOCATION</th>\n      <th>DATETIME</th>\n      <th>TEMPERATURE</th>\n    </tr>\n  </thead>\n  <tbody>\n    <tr>\n      <th>0</th>\n      <td>Adelaide (Kent Town)</td>\n      <td>2010-01-01 00:00:00</td>\n      <td>23.6</td>\n    </tr>\n    <tr>\n      <th>1</th>\n      <td>Adelaide (Kent Town)</td>\n      <td>2010-01-01 00:30:00</td>\n      <td>23.7</td>\n    </tr>\n    <tr>\n      <th>2</th>\n      <td>Adelaide (Kent Town)</td>\n      <td>2010-01-01 01:00:00</td>\n      <td>23.5</td>\n    </tr>\n    <tr>\n      <th>3</th>\n      <td>Adelaide (Kent Town)</td>\n      <td>2010-01-01 01:30:00</td>\n      <td>22.6</td>\n    </tr>\n    <tr>\n      <th>4</th>\n      <td>Adelaide (Kent Town)</td>\n      <td>2010-01-01 02:00:00</td>\n      <td>22.0</td>\n    </tr>\n  </tbody>\n</table>\n</div>"
     },
     "execution_count": 1069,
     "metadata": {},
     "output_type": "execute_result"
    }
   ],
   "source": [
    "sa_temperature.head()"
   ],
   "metadata": {
    "collapsed": false,
    "ExecuteTime": {
     "end_time": "2024-03-14T12:40:26.824742Z",
     "start_time": "2024-03-14T12:40:26.820774Z"
    }
   },
   "id": "3b7632fe88ea525a",
   "execution_count": 1069
  },
  {
   "cell_type": "code",
   "outputs": [
    {
     "data": {
      "text/plain": "                    LOCATION            DATETIME  TEMPERATURE\n208080  Adelaide (Kent Town) 2021-03-17 22:00:00         19.6\n208081  Adelaide (Kent Town) 2021-03-17 22:30:00         19.5\n208082  Adelaide (Kent Town) 2021-03-17 23:00:00         19.4\n208083  Adelaide (Kent Town) 2021-03-17 23:30:00         19.6\n208084  Adelaide (Kent Town) 2021-03-18 00:00:00         19.5",
      "text/html": "<div>\n<style scoped>\n    .dataframe tbody tr th:only-of-type {\n        vertical-align: middle;\n    }\n\n    .dataframe tbody tr th {\n        vertical-align: top;\n    }\n\n    .dataframe thead th {\n        text-align: right;\n    }\n</style>\n<table border=\"1\" class=\"dataframe\">\n  <thead>\n    <tr style=\"text-align: right;\">\n      <th></th>\n      <th>LOCATION</th>\n      <th>DATETIME</th>\n      <th>TEMPERATURE</th>\n    </tr>\n  </thead>\n  <tbody>\n    <tr>\n      <th>208080</th>\n      <td>Adelaide (Kent Town)</td>\n      <td>2021-03-17 22:00:00</td>\n      <td>19.6</td>\n    </tr>\n    <tr>\n      <th>208081</th>\n      <td>Adelaide (Kent Town)</td>\n      <td>2021-03-17 22:30:00</td>\n      <td>19.5</td>\n    </tr>\n    <tr>\n      <th>208082</th>\n      <td>Adelaide (Kent Town)</td>\n      <td>2021-03-17 23:00:00</td>\n      <td>19.4</td>\n    </tr>\n    <tr>\n      <th>208083</th>\n      <td>Adelaide (Kent Town)</td>\n      <td>2021-03-17 23:30:00</td>\n      <td>19.6</td>\n    </tr>\n    <tr>\n      <th>208084</th>\n      <td>Adelaide (Kent Town)</td>\n      <td>2021-03-18 00:00:00</td>\n      <td>19.5</td>\n    </tr>\n  </tbody>\n</table>\n</div>"
     },
     "execution_count": 1070,
     "metadata": {},
     "output_type": "execute_result"
    }
   ],
   "source": [
    "sa_temperature.tail()"
   ],
   "metadata": {
    "collapsed": false,
    "ExecuteTime": {
     "end_time": "2024-03-14T12:40:26.907239Z",
     "start_time": "2024-03-14T12:40:26.825332Z"
    }
   },
   "id": "79b6bf38812fad04",
   "execution_count": 1070
  },
  {
   "cell_type": "code",
   "outputs": [
    {
     "name": "stdout",
     "output_type": "stream",
     "text": [
      "<class 'pandas.core.frame.DataFrame'>\n",
      "Index: 208085 entries, 0 to 208084\n",
      "Data columns (total 3 columns):\n",
      " #   Column       Non-Null Count   Dtype         \n",
      "---  ------       --------------   -----         \n",
      " 0   LOCATION     208085 non-null  object        \n",
      " 1   DATETIME     208085 non-null  datetime64[ns]\n",
      " 2   TEMPERATURE  208085 non-null  float64       \n",
      "dtypes: datetime64[ns](1), float64(1), object(1)\n",
      "memory usage: 6.4+ MB\n"
     ]
    }
   ],
   "source": [
    "sa_temperature.info()"
   ],
   "metadata": {
    "collapsed": false,
    "ExecuteTime": {
     "end_time": "2024-03-14T12:40:26.923120Z",
     "start_time": "2024-03-14T12:40:26.907885Z"
    }
   },
   "id": "101d8f64763b0821",
   "execution_count": 1071
  },
  {
   "cell_type": "code",
   "outputs": [
    {
     "data": {
      "text/plain": "count    208085.000000\nmean         20.375972\nstd           5.586945\nmin           1.300000\n25%          16.600000\n50%          20.900000\n75%          24.300000\nmax          42.400000\nName: TEMPERATURE, dtype: float64"
     },
     "execution_count": 1072,
     "metadata": {},
     "output_type": "execute_result"
    }
   ],
   "source": [
    "sa_temperature['TEMPERATURE'].describe()"
   ],
   "metadata": {
    "collapsed": false,
    "ExecuteTime": {
     "end_time": "2024-03-14T12:40:26.935050Z",
     "start_time": "2024-03-14T12:40:26.923723Z"
    }
   },
   "id": "db818fa9f0103061",
   "execution_count": 1072
  },
  {
   "cell_type": "code",
   "outputs": [
    {
     "data": {
      "text/plain": "(208085, 3)"
     },
     "execution_count": 1073,
     "metadata": {},
     "output_type": "execute_result"
    }
   ],
   "source": [
    "sa_temperature.shape"
   ],
   "metadata": {
    "collapsed": false,
    "ExecuteTime": {
     "end_time": "2024-03-14T12:40:26.940372Z",
     "start_time": "2024-03-14T12:40:26.935599Z"
    }
   },
   "id": "d06abbfb86da04f1",
   "execution_count": 1073
  },
  {
   "cell_type": "code",
   "outputs": [
    {
     "data": {
      "text/plain": "LOCATION       Adelaide (Kent Town)\nDATETIME        2010-01-01 00:00:00\nTEMPERATURE                     1.3\ndtype: object"
     },
     "execution_count": 1074,
     "metadata": {},
     "output_type": "execute_result"
    }
   ],
   "source": [
    "sa_temperature.min()"
   ],
   "metadata": {
    "collapsed": false,
    "ExecuteTime": {
     "end_time": "2024-03-14T12:40:26.956898Z",
     "start_time": "2024-03-14T12:40:26.940884Z"
    }
   },
   "id": "b5b62b4631d3a57",
   "execution_count": 1074
  },
  {
   "cell_type": "code",
   "outputs": [
    {
     "data": {
      "text/plain": "LOCATION       Adelaide (Kent Town)\nDATETIME        2021-03-18 00:00:00\nTEMPERATURE                    42.4\ndtype: object"
     },
     "execution_count": 1075,
     "metadata": {},
     "output_type": "execute_result"
    }
   ],
   "source": [
    "sa_temperature.max()"
   ],
   "metadata": {
    "collapsed": false,
    "ExecuteTime": {
     "end_time": "2024-03-14T12:40:26.981089Z",
     "start_time": "2024-03-14T12:40:26.957423Z"
    }
   },
   "id": "cd1225b419a53d81",
   "execution_count": 1075
  },
  {
   "cell_type": "code",
   "outputs": [
    {
     "data": {
      "text/plain": "LOCATION       0\nDATETIME       0\nTEMPERATURE    0\ndtype: int64"
     },
     "execution_count": 1076,
     "metadata": {},
     "output_type": "execute_result"
    }
   ],
   "source": [
    "sa_temperature.isnull().sum()"
   ],
   "metadata": {
    "collapsed": false,
    "ExecuteTime": {
     "end_time": "2024-03-14T12:40:27.001033Z",
     "start_time": "2024-03-14T12:40:26.981688Z"
    }
   },
   "id": "bd9e0cf7ac3f2d6e",
   "execution_count": 1076
  },
  {
   "cell_type": "code",
   "outputs": [
    {
     "data": {
      "text/plain": "LOCATION       0\nDATETIME       0\nTEMPERATURE    0\ndtype: int64"
     },
     "execution_count": 1077,
     "metadata": {},
     "output_type": "execute_result"
    }
   ],
   "source": [
    "sa_temperature.isna().sum()"
   ],
   "metadata": {
    "collapsed": false,
    "ExecuteTime": {
     "end_time": "2024-03-14T12:40:27.018563Z",
     "start_time": "2024-03-14T12:40:27.001723Z"
    }
   },
   "id": "7ccd7affccb4c900",
   "execution_count": 1077
  },
  {
   "cell_type": "code",
   "outputs": [
    {
     "data": {
      "text/plain": "LOCATION            1\nDATETIME       208085\nTEMPERATURE       391\ndtype: int64"
     },
     "execution_count": 1078,
     "metadata": {},
     "output_type": "execute_result"
    }
   ],
   "source": [
    "sa_temperature.nunique()"
   ],
   "metadata": {
    "collapsed": false,
    "ExecuteTime": {
     "end_time": "2024-03-14T12:40:27.041399Z",
     "start_time": "2024-03-14T12:40:27.019241Z"
    }
   },
   "id": "bf2bfb0e59e80941",
   "execution_count": 1078
  },
  {
   "cell_type": "code",
   "outputs": [
    {
     "data": {
      "text/plain": "LOCATION               object\nDATETIME       datetime64[ns]\nTEMPERATURE           float64\ndtype: object"
     },
     "execution_count": 1079,
     "metadata": {},
     "output_type": "execute_result"
    }
   ],
   "source": [
    "sa_temperature.dtypes"
   ],
   "metadata": {
    "collapsed": false,
    "ExecuteTime": {
     "end_time": "2024-03-14T12:40:27.045015Z",
     "start_time": "2024-03-14T12:40:27.042104Z"
    }
   },
   "id": "258e3608509aeee8",
   "execution_count": 1079
  },
  {
   "cell_type": "markdown",
   "source": [
    "<a id=\"6\"></a>\n",
    "## Victoria Temperature"
   ],
   "metadata": {
    "collapsed": false
   },
   "id": "4b6a0150c78d5dcf"
  },
  {
   "cell_type": "code",
   "outputs": [],
   "source": [
    "vic_temperature = pd.read_csv(os.path.join(data_path, 'Australia', 'd', 'temprature_vic.csv'), parse_dates=['DATETIME'], dayfirst=True)"
   ],
   "metadata": {
    "collapsed": false,
    "ExecuteTime": {
     "end_time": "2024-03-14T12:40:27.323061Z",
     "start_time": "2024-03-14T12:40:27.045693Z"
    }
   },
   "id": "de740b5c40b6d60b",
   "execution_count": 1080
  },
  {
   "cell_type": "code",
   "outputs": [
    {
     "data": {
      "text/plain": "                   LOCATION            DATETIME  TEMPERATURE\n0  Melbourne (Olympic Park) 2013-05-31 15:00:00         18.2\n1  Melbourne (Olympic Park) 2013-05-31 15:30:00         18.3\n2  Melbourne (Olympic Park) 2013-05-31 16:00:00         18.3\n3  Melbourne (Olympic Park) 2013-05-31 16:30:00         18.3\n4  Melbourne (Olympic Park) 2013-05-31 17:00:00         18.2",
      "text/html": "<div>\n<style scoped>\n    .dataframe tbody tr th:only-of-type {\n        vertical-align: middle;\n    }\n\n    .dataframe tbody tr th {\n        vertical-align: top;\n    }\n\n    .dataframe thead th {\n        text-align: right;\n    }\n</style>\n<table border=\"1\" class=\"dataframe\">\n  <thead>\n    <tr style=\"text-align: right;\">\n      <th></th>\n      <th>LOCATION</th>\n      <th>DATETIME</th>\n      <th>TEMPERATURE</th>\n    </tr>\n  </thead>\n  <tbody>\n    <tr>\n      <th>0</th>\n      <td>Melbourne (Olympic Park)</td>\n      <td>2013-05-31 15:00:00</td>\n      <td>18.2</td>\n    </tr>\n    <tr>\n      <th>1</th>\n      <td>Melbourne (Olympic Park)</td>\n      <td>2013-05-31 15:30:00</td>\n      <td>18.3</td>\n    </tr>\n    <tr>\n      <th>2</th>\n      <td>Melbourne (Olympic Park)</td>\n      <td>2013-05-31 16:00:00</td>\n      <td>18.3</td>\n    </tr>\n    <tr>\n      <th>3</th>\n      <td>Melbourne (Olympic Park)</td>\n      <td>2013-05-31 16:30:00</td>\n      <td>18.3</td>\n    </tr>\n    <tr>\n      <th>4</th>\n      <td>Melbourne (Olympic Park)</td>\n      <td>2013-05-31 17:00:00</td>\n      <td>18.2</td>\n    </tr>\n  </tbody>\n</table>\n</div>"
     },
     "execution_count": 1081,
     "metadata": {},
     "output_type": "execute_result"
    }
   ],
   "source": [
    "vic_temperature.head()"
   ],
   "metadata": {
    "collapsed": false,
    "ExecuteTime": {
     "end_time": "2024-03-14T12:40:27.327503Z",
     "start_time": "2024-03-14T12:40:27.323770Z"
    }
   },
   "id": "70c891e186020566",
   "execution_count": 1081
  },
  {
   "cell_type": "code",
   "outputs": [
    {
     "data": {
      "text/plain": "                        LOCATION            DATETIME  TEMPERATURE\n141676  Melbourne (Olympic Park) 2021-03-17 22:00:00         18.9\n141677  Melbourne (Olympic Park) 2021-03-17 22:30:00         17.9\n141678  Melbourne (Olympic Park) 2021-03-17 23:00:00         17.3\n141679  Melbourne (Olympic Park) 2021-03-17 23:30:00         16.6\n141680  Melbourne (Olympic Park) 2021-03-18 00:00:00         15.8",
      "text/html": "<div>\n<style scoped>\n    .dataframe tbody tr th:only-of-type {\n        vertical-align: middle;\n    }\n\n    .dataframe tbody tr th {\n        vertical-align: top;\n    }\n\n    .dataframe thead th {\n        text-align: right;\n    }\n</style>\n<table border=\"1\" class=\"dataframe\">\n  <thead>\n    <tr style=\"text-align: right;\">\n      <th></th>\n      <th>LOCATION</th>\n      <th>DATETIME</th>\n      <th>TEMPERATURE</th>\n    </tr>\n  </thead>\n  <tbody>\n    <tr>\n      <th>141676</th>\n      <td>Melbourne (Olympic Park)</td>\n      <td>2021-03-17 22:00:00</td>\n      <td>18.9</td>\n    </tr>\n    <tr>\n      <th>141677</th>\n      <td>Melbourne (Olympic Park)</td>\n      <td>2021-03-17 22:30:00</td>\n      <td>17.9</td>\n    </tr>\n    <tr>\n      <th>141678</th>\n      <td>Melbourne (Olympic Park)</td>\n      <td>2021-03-17 23:00:00</td>\n      <td>17.3</td>\n    </tr>\n    <tr>\n      <th>141679</th>\n      <td>Melbourne (Olympic Park)</td>\n      <td>2021-03-17 23:30:00</td>\n      <td>16.6</td>\n    </tr>\n    <tr>\n      <th>141680</th>\n      <td>Melbourne (Olympic Park)</td>\n      <td>2021-03-18 00:00:00</td>\n      <td>15.8</td>\n    </tr>\n  </tbody>\n</table>\n</div>"
     },
     "execution_count": 1082,
     "metadata": {},
     "output_type": "execute_result"
    }
   ],
   "source": [
    "vic_temperature.tail()"
   ],
   "metadata": {
    "collapsed": false,
    "ExecuteTime": {
     "end_time": "2024-03-14T12:40:27.338726Z",
     "start_time": "2024-03-14T12:40:27.328199Z"
    }
   },
   "id": "cad113d642a23bd4",
   "execution_count": 1082
  },
  {
   "cell_type": "code",
   "outputs": [
    {
     "name": "stdout",
     "output_type": "stream",
     "text": [
      "<class 'pandas.core.frame.DataFrame'>\n",
      "RangeIndex: 141681 entries, 0 to 141680\n",
      "Data columns (total 3 columns):\n",
      " #   Column       Non-Null Count   Dtype         \n",
      "---  ------       --------------   -----         \n",
      " 0   LOCATION     141681 non-null  object        \n",
      " 1   DATETIME     141681 non-null  datetime64[ns]\n",
      " 2   TEMPERATURE  141681 non-null  float64       \n",
      "dtypes: datetime64[ns](1), float64(1), object(1)\n",
      "memory usage: 3.2+ MB\n"
     ]
    }
   ],
   "source": [
    "vic_temperature.info()"
   ],
   "metadata": {
    "collapsed": false,
    "ExecuteTime": {
     "end_time": "2024-03-14T12:40:27.355254Z",
     "start_time": "2024-03-14T12:40:27.339285Z"
    }
   },
   "id": "35e447770d8fee3c",
   "execution_count": 1083
  },
  {
   "cell_type": "code",
   "outputs": [
    {
     "data": {
      "text/plain": "count    141681.000000\nmean         15.711337\nstd           5.637641\nmin           0.800000\n25%          11.800000\n50%          14.900000\n75%          18.700000\nmax          43.300000\nName: TEMPERATURE, dtype: float64"
     },
     "execution_count": 1084,
     "metadata": {},
     "output_type": "execute_result"
    }
   ],
   "source": [
    "vic_temperature['TEMPERATURE'].describe()"
   ],
   "metadata": {
    "collapsed": false,
    "ExecuteTime": {
     "end_time": "2024-03-14T12:40:27.361968Z",
     "start_time": "2024-03-14T12:40:27.355978Z"
    }
   },
   "id": "4b34f60260060330",
   "execution_count": 1084
  },
  {
   "cell_type": "code",
   "outputs": [
    {
     "data": {
      "text/plain": "(141681, 3)"
     },
     "execution_count": 1085,
     "metadata": {},
     "output_type": "execute_result"
    }
   ],
   "source": [
    "vic_temperature.shape"
   ],
   "metadata": {
    "collapsed": false,
    "ExecuteTime": {
     "end_time": "2024-03-14T12:40:27.364472Z",
     "start_time": "2024-03-14T12:40:27.362609Z"
    }
   },
   "id": "b0fef9283d61fba8",
   "execution_count": 1085
  },
  {
   "cell_type": "code",
   "outputs": [
    {
     "data": {
      "text/plain": "LOCATION       Melbourne (Olympic Park)\nDATETIME            2013-05-31 15:00:00\nTEMPERATURE                         0.8\ndtype: object"
     },
     "execution_count": 1086,
     "metadata": {},
     "output_type": "execute_result"
    }
   ],
   "source": [
    "vic_temperature.min()"
   ],
   "metadata": {
    "collapsed": false,
    "ExecuteTime": {
     "end_time": "2024-03-14T12:40:27.377168Z",
     "start_time": "2024-03-14T12:40:27.365015Z"
    }
   },
   "id": "2f703d39d6aebe82",
   "execution_count": 1086
  },
  {
   "cell_type": "code",
   "outputs": [
    {
     "data": {
      "text/plain": "LOCATION       Melbourne (Olympic Park)\nDATETIME            2021-03-18 00:00:00\nTEMPERATURE                        43.3\ndtype: object"
     },
     "execution_count": 1087,
     "metadata": {},
     "output_type": "execute_result"
    }
   ],
   "source": [
    "vic_temperature.max()"
   ],
   "metadata": {
    "collapsed": false,
    "ExecuteTime": {
     "end_time": "2024-03-14T12:40:27.389869Z",
     "start_time": "2024-03-14T12:40:27.377899Z"
    }
   },
   "id": "e6f3c616c9851906",
   "execution_count": 1087
  },
  {
   "cell_type": "code",
   "outputs": [
    {
     "data": {
      "text/plain": "LOCATION       0\nDATETIME       0\nTEMPERATURE    0\ndtype: int64"
     },
     "execution_count": 1088,
     "metadata": {},
     "output_type": "execute_result"
    }
   ],
   "source": [
    "vic_temperature.isnull().sum()"
   ],
   "metadata": {
    "collapsed": false,
    "ExecuteTime": {
     "end_time": "2024-03-14T12:40:27.402276Z",
     "start_time": "2024-03-14T12:40:27.390416Z"
    }
   },
   "id": "9a6a87d9bc367223",
   "execution_count": 1088
  },
  {
   "cell_type": "code",
   "outputs": [
    {
     "data": {
      "text/plain": "LOCATION       0\nDATETIME       0\nTEMPERATURE    0\ndtype: int64"
     },
     "execution_count": 1089,
     "metadata": {},
     "output_type": "execute_result"
    }
   ],
   "source": [
    "vic_temperature.isna().sum()"
   ],
   "metadata": {
    "collapsed": false,
    "ExecuteTime": {
     "end_time": "2024-03-14T12:40:27.414536Z",
     "start_time": "2024-03-14T12:40:27.402814Z"
    }
   },
   "id": "22b22a29aa039bc0",
   "execution_count": 1089
  },
  {
   "cell_type": "code",
   "outputs": [
    {
     "data": {
      "text/plain": "LOCATION            1\nDATETIME       141681\nTEMPERATURE       424\ndtype: int64"
     },
     "execution_count": 1090,
     "metadata": {},
     "output_type": "execute_result"
    }
   ],
   "source": [
    "vic_temperature.nunique()"
   ],
   "metadata": {
    "collapsed": false,
    "ExecuteTime": {
     "end_time": "2024-03-14T12:40:27.431568Z",
     "start_time": "2024-03-14T12:40:27.415094Z"
    }
   },
   "id": "d6cc129d2837af82",
   "execution_count": 1090
  },
  {
   "cell_type": "code",
   "outputs": [
    {
     "data": {
      "text/plain": "LOCATION               object\nDATETIME       datetime64[ns]\nTEMPERATURE           float64\ndtype: object"
     },
     "execution_count": 1091,
     "metadata": {},
     "output_type": "execute_result"
    }
   ],
   "source": [
    "vic_temperature.dtypes"
   ],
   "metadata": {
    "collapsed": false,
    "ExecuteTime": {
     "end_time": "2024-03-14T12:40:27.435484Z",
     "start_time": "2024-03-14T12:40:27.432121Z"
    }
   },
   "id": "99cc85a417da565c",
   "execution_count": 1091
  },
  {
   "cell_type": "markdown",
   "source": [
    "## QLD Total Demand"
   ],
   "metadata": {
    "collapsed": false
   },
   "id": "f20d638f38e23992"
  },
  {
   "cell_type": "code",
   "outputs": [],
   "source": [
    "qld_totaldemand = pd.read_csv(os.path.join(data_path, 'Australia', 'd', 'totaldemand_qld.csv'), parse_dates=['DATETIME'])"
   ],
   "metadata": {
    "collapsed": false,
    "ExecuteTime": {
     "end_time": "2024-03-14T12:40:27.530732Z",
     "start_time": "2024-03-14T12:40:27.436008Z"
    }
   },
   "id": "bf47836f1c34ec11",
   "execution_count": 1092
  },
  {
   "cell_type": "code",
   "outputs": [
    {
     "data": {
      "text/plain": "             DATETIME  TOTALDEMAND REGIONID\n0 2010-01-01 00:00:00      5561.21     QLD1\n1 2010-01-01 00:30:00      5422.25     QLD1\n2 2010-01-01 01:00:00      5315.98     QLD1\n3 2010-01-01 01:30:00      5186.70     QLD1\n4 2010-01-01 02:00:00      5050.83     QLD1",
      "text/html": "<div>\n<style scoped>\n    .dataframe tbody tr th:only-of-type {\n        vertical-align: middle;\n    }\n\n    .dataframe tbody tr th {\n        vertical-align: top;\n    }\n\n    .dataframe thead th {\n        text-align: right;\n    }\n</style>\n<table border=\"1\" class=\"dataframe\">\n  <thead>\n    <tr style=\"text-align: right;\">\n      <th></th>\n      <th>DATETIME</th>\n      <th>TOTALDEMAND</th>\n      <th>REGIONID</th>\n    </tr>\n  </thead>\n  <tbody>\n    <tr>\n      <th>0</th>\n      <td>2010-01-01 00:00:00</td>\n      <td>5561.21</td>\n      <td>QLD1</td>\n    </tr>\n    <tr>\n      <th>1</th>\n      <td>2010-01-01 00:30:00</td>\n      <td>5422.25</td>\n      <td>QLD1</td>\n    </tr>\n    <tr>\n      <th>2</th>\n      <td>2010-01-01 01:00:00</td>\n      <td>5315.98</td>\n      <td>QLD1</td>\n    </tr>\n    <tr>\n      <th>3</th>\n      <td>2010-01-01 01:30:00</td>\n      <td>5186.70</td>\n      <td>QLD1</td>\n    </tr>\n    <tr>\n      <th>4</th>\n      <td>2010-01-01 02:00:00</td>\n      <td>5050.83</td>\n      <td>QLD1</td>\n    </tr>\n  </tbody>\n</table>\n</div>"
     },
     "execution_count": 1093,
     "metadata": {},
     "output_type": "execute_result"
    }
   ],
   "source": [
    "qld_totaldemand.head()"
   ],
   "metadata": {
    "collapsed": false,
    "ExecuteTime": {
     "end_time": "2024-03-14T12:40:27.535300Z",
     "start_time": "2024-03-14T12:40:27.531456Z"
    }
   },
   "id": "2d741356595a9191",
   "execution_count": 1093
  },
  {
   "cell_type": "code",
   "outputs": [
    {
     "data": {
      "text/plain": "                  DATETIME  TOTALDEMAND REGIONID\n196508 2021-03-17 22:00:00      6443.62     QLD1\n196509 2021-03-17 22:30:00      6264.63     QLD1\n196510 2021-03-17 23:00:00      6144.16     QLD1\n196511 2021-03-17 23:30:00      5897.64     QLD1\n196512 2021-03-18 00:00:00      5737.03     QLD1",
      "text/html": "<div>\n<style scoped>\n    .dataframe tbody tr th:only-of-type {\n        vertical-align: middle;\n    }\n\n    .dataframe tbody tr th {\n        vertical-align: top;\n    }\n\n    .dataframe thead th {\n        text-align: right;\n    }\n</style>\n<table border=\"1\" class=\"dataframe\">\n  <thead>\n    <tr style=\"text-align: right;\">\n      <th></th>\n      <th>DATETIME</th>\n      <th>TOTALDEMAND</th>\n      <th>REGIONID</th>\n    </tr>\n  </thead>\n  <tbody>\n    <tr>\n      <th>196508</th>\n      <td>2021-03-17 22:00:00</td>\n      <td>6443.62</td>\n      <td>QLD1</td>\n    </tr>\n    <tr>\n      <th>196509</th>\n      <td>2021-03-17 22:30:00</td>\n      <td>6264.63</td>\n      <td>QLD1</td>\n    </tr>\n    <tr>\n      <th>196510</th>\n      <td>2021-03-17 23:00:00</td>\n      <td>6144.16</td>\n      <td>QLD1</td>\n    </tr>\n    <tr>\n      <th>196511</th>\n      <td>2021-03-17 23:30:00</td>\n      <td>5897.64</td>\n      <td>QLD1</td>\n    </tr>\n    <tr>\n      <th>196512</th>\n      <td>2021-03-18 00:00:00</td>\n      <td>5737.03</td>\n      <td>QLD1</td>\n    </tr>\n  </tbody>\n</table>\n</div>"
     },
     "execution_count": 1094,
     "metadata": {},
     "output_type": "execute_result"
    }
   ],
   "source": [
    "qld_totaldemand.tail()"
   ],
   "metadata": {
    "collapsed": false,
    "ExecuteTime": {
     "end_time": "2024-03-14T12:40:27.546698Z",
     "start_time": "2024-03-14T12:40:27.535866Z"
    }
   },
   "id": "52e89422d6050c4b",
   "execution_count": 1094
  },
  {
   "cell_type": "code",
   "outputs": [
    {
     "name": "stdout",
     "output_type": "stream",
     "text": [
      "<class 'pandas.core.frame.DataFrame'>\n",
      "RangeIndex: 196513 entries, 0 to 196512\n",
      "Data columns (total 3 columns):\n",
      " #   Column       Non-Null Count   Dtype         \n",
      "---  ------       --------------   -----         \n",
      " 0   DATETIME     196513 non-null  datetime64[ns]\n",
      " 1   TOTALDEMAND  196513 non-null  float64       \n",
      " 2   REGIONID     196513 non-null  object        \n",
      "dtypes: datetime64[ns](1), float64(1), object(1)\n",
      "memory usage: 4.5+ MB\n"
     ]
    }
   ],
   "source": [
    "qld_totaldemand.info()"
   ],
   "metadata": {
    "collapsed": false,
    "ExecuteTime": {
     "end_time": "2024-03-14T12:40:27.556114Z",
     "start_time": "2024-03-14T12:40:27.547211Z"
    }
   },
   "id": "86afe48fd55ccdc",
   "execution_count": 1095
  },
  {
   "cell_type": "code",
   "outputs": [
    {
     "data": {
      "text/plain": "count    196513.000000\nmean       6026.545773\nstd         868.481406\nmin        3748.240000\n25%        5368.770000\n50%        5993.590000\n75%        6601.290000\nmax        9988.090000\nName: TOTALDEMAND, dtype: float64"
     },
     "execution_count": 1164,
     "metadata": {},
     "output_type": "execute_result"
    }
   ],
   "source": [
    "qld_totaldemand['TOTALDEMAND'].describe()"
   ],
   "metadata": {
    "collapsed": false,
    "ExecuteTime": {
     "end_time": "2024-03-14T12:42:54.948991Z",
     "start_time": "2024-03-14T12:42:54.941904Z"
    }
   },
   "id": "c6fddd6f866f5ca1",
   "execution_count": 1164
  },
  {
   "cell_type": "code",
   "outputs": [
    {
     "data": {
      "text/plain": "(196513, 3)"
     },
     "execution_count": 1097,
     "metadata": {},
     "output_type": "execute_result"
    }
   ],
   "source": [
    "qld_totaldemand.shape"
   ],
   "metadata": {
    "collapsed": false,
    "ExecuteTime": {
     "end_time": "2024-03-14T12:40:27.568227Z",
     "start_time": "2024-03-14T12:40:27.566383Z"
    }
   },
   "id": "f95f761b73b3653b",
   "execution_count": 1097
  },
  {
   "cell_type": "code",
   "outputs": [
    {
     "data": {
      "text/plain": "DATETIME       2010-01-01 00:00:00\nTOTALDEMAND                3748.24\nREGIONID                      QLD1\ndtype: object"
     },
     "execution_count": 1098,
     "metadata": {},
     "output_type": "execute_result"
    }
   ],
   "source": [
    "qld_totaldemand.min()"
   ],
   "metadata": {
    "collapsed": false,
    "ExecuteTime": {
     "end_time": "2024-03-14T12:40:27.578397Z",
     "start_time": "2024-03-14T12:40:27.568739Z"
    }
   },
   "id": "271ff63c6d26c3e5",
   "execution_count": 1098
  },
  {
   "cell_type": "code",
   "outputs": [
    {
     "data": {
      "text/plain": "DATETIME       2021-03-18 00:00:00\nTOTALDEMAND                9988.09\nREGIONID                      QLD1\ndtype: object"
     },
     "execution_count": 1099,
     "metadata": {},
     "output_type": "execute_result"
    }
   ],
   "source": [
    "qld_totaldemand.max()"
   ],
   "metadata": {
    "collapsed": false,
    "ExecuteTime": {
     "end_time": "2024-03-14T12:40:27.587360Z",
     "start_time": "2024-03-14T12:40:27.579133Z"
    }
   },
   "id": "6152177e0f02b07c",
   "execution_count": 1099
  },
  {
   "cell_type": "code",
   "outputs": [
    {
     "data": {
      "text/plain": "DATETIME       0\nTOTALDEMAND    0\nREGIONID       0\ndtype: int64"
     },
     "execution_count": 1100,
     "metadata": {},
     "output_type": "execute_result"
    }
   ],
   "source": [
    "qld_totaldemand.isnull().sum()"
   ],
   "metadata": {
    "collapsed": false,
    "ExecuteTime": {
     "end_time": "2024-03-14T12:40:27.594301Z",
     "start_time": "2024-03-14T12:40:27.587905Z"
    }
   },
   "id": "c7b39e151f95c7df",
   "execution_count": 1100
  },
  {
   "cell_type": "code",
   "outputs": [
    {
     "data": {
      "text/plain": "DATETIME       0\nTOTALDEMAND    0\nREGIONID       0\ndtype: int64"
     },
     "execution_count": 1101,
     "metadata": {},
     "output_type": "execute_result"
    }
   ],
   "source": [
    "qld_totaldemand.isna().sum()"
   ],
   "metadata": {
    "collapsed": false,
    "ExecuteTime": {
     "end_time": "2024-03-14T12:40:27.601503Z",
     "start_time": "2024-03-14T12:40:27.594827Z"
    }
   },
   "id": "d671939c1db5c31d",
   "execution_count": 1101
  },
  {
   "cell_type": "code",
   "outputs": [
    {
     "data": {
      "text/plain": "DATETIME       196513\nTOTALDEMAND    146678\nREGIONID            1\ndtype: int64"
     },
     "execution_count": 1102,
     "metadata": {},
     "output_type": "execute_result"
    }
   ],
   "source": [
    "qld_totaldemand.nunique()"
   ],
   "metadata": {
    "collapsed": false,
    "ExecuteTime": {
     "end_time": "2024-03-14T12:40:27.616834Z",
     "start_time": "2024-03-14T12:40:27.602128Z"
    }
   },
   "id": "3ebd9e1551d5d033",
   "execution_count": 1102
  },
  {
   "cell_type": "code",
   "outputs": [
    {
     "data": {
      "text/plain": "DATETIME       datetime64[ns]\nTOTALDEMAND           float64\nREGIONID               object\ndtype: object"
     },
     "execution_count": 1103,
     "metadata": {},
     "output_type": "execute_result"
    }
   ],
   "source": [
    "qld_totaldemand.dtypes"
   ],
   "metadata": {
    "collapsed": false,
    "ExecuteTime": {
     "end_time": "2024-03-14T12:40:27.623446Z",
     "start_time": "2024-03-14T12:40:27.620904Z"
    }
   },
   "id": "7e9929b26f76ec45",
   "execution_count": 1103
  },
  {
   "cell_type": "markdown",
   "source": [
    "## SA Total Demand"
   ],
   "metadata": {
    "collapsed": false
   },
   "id": "aa04570f6bad42f3"
  },
  {
   "cell_type": "code",
   "outputs": [],
   "source": [
    "sa_totaldemand = pd.read_csv(os.path.join(data_path, 'Australia', 'd', 'totaldemand_sa.csv'), parse_dates=['DATETIME'])"
   ],
   "metadata": {
    "collapsed": false,
    "ExecuteTime": {
     "end_time": "2024-03-14T12:40:27.722362Z",
     "start_time": "2024-03-14T12:40:27.624006Z"
    }
   },
   "id": "809033d96c1e868",
   "execution_count": 1104
  },
  {
   "cell_type": "code",
   "outputs": [
    {
     "data": {
      "text/plain": "             DATETIME  TOTALDEMAND REGIONID\n0 2010-01-01 00:30:00      1385.23      SA1\n1 2010-01-01 01:00:00      1338.53      SA1\n2 2010-01-01 01:30:00      1260.39      SA1\n3 2010-01-01 02:00:00      1189.31      SA1\n4 2010-01-01 02:30:00      1141.12      SA1",
      "text/html": "<div>\n<style scoped>\n    .dataframe tbody tr th:only-of-type {\n        vertical-align: middle;\n    }\n\n    .dataframe tbody tr th {\n        vertical-align: top;\n    }\n\n    .dataframe thead th {\n        text-align: right;\n    }\n</style>\n<table border=\"1\" class=\"dataframe\">\n  <thead>\n    <tr style=\"text-align: right;\">\n      <th></th>\n      <th>DATETIME</th>\n      <th>TOTALDEMAND</th>\n      <th>REGIONID</th>\n    </tr>\n  </thead>\n  <tbody>\n    <tr>\n      <th>0</th>\n      <td>2010-01-01 00:30:00</td>\n      <td>1385.23</td>\n      <td>SA1</td>\n    </tr>\n    <tr>\n      <th>1</th>\n      <td>2010-01-01 01:00:00</td>\n      <td>1338.53</td>\n      <td>SA1</td>\n    </tr>\n    <tr>\n      <th>2</th>\n      <td>2010-01-01 01:30:00</td>\n      <td>1260.39</td>\n      <td>SA1</td>\n    </tr>\n    <tr>\n      <th>3</th>\n      <td>2010-01-01 02:00:00</td>\n      <td>1189.31</td>\n      <td>SA1</td>\n    </tr>\n    <tr>\n      <th>4</th>\n      <td>2010-01-01 02:30:00</td>\n      <td>1141.12</td>\n      <td>SA1</td>\n    </tr>\n  </tbody>\n</table>\n</div>"
     },
     "execution_count": 1105,
     "metadata": {},
     "output_type": "execute_result"
    }
   ],
   "source": [
    "sa_totaldemand.head()"
   ],
   "metadata": {
    "collapsed": false,
    "ExecuteTime": {
     "end_time": "2024-03-14T12:40:27.727542Z",
     "start_time": "2024-03-14T12:40:27.723031Z"
    }
   },
   "id": "7972e25dc1e7d0b1",
   "execution_count": 1105
  },
  {
   "cell_type": "code",
   "outputs": [
    {
     "data": {
      "text/plain": "                  DATETIME  TOTALDEMAND REGIONID\n196507 2021-03-17 22:00:00      1277.91      SA1\n196508 2021-03-17 22:30:00      1226.81      SA1\n196509 2021-03-17 23:00:00      1202.62      SA1\n196510 2021-03-17 23:30:00      1194.34      SA1\n196511 2021-03-18 00:00:00      1340.58      SA1",
      "text/html": "<div>\n<style scoped>\n    .dataframe tbody tr th:only-of-type {\n        vertical-align: middle;\n    }\n\n    .dataframe tbody tr th {\n        vertical-align: top;\n    }\n\n    .dataframe thead th {\n        text-align: right;\n    }\n</style>\n<table border=\"1\" class=\"dataframe\">\n  <thead>\n    <tr style=\"text-align: right;\">\n      <th></th>\n      <th>DATETIME</th>\n      <th>TOTALDEMAND</th>\n      <th>REGIONID</th>\n    </tr>\n  </thead>\n  <tbody>\n    <tr>\n      <th>196507</th>\n      <td>2021-03-17 22:00:00</td>\n      <td>1277.91</td>\n      <td>SA1</td>\n    </tr>\n    <tr>\n      <th>196508</th>\n      <td>2021-03-17 22:30:00</td>\n      <td>1226.81</td>\n      <td>SA1</td>\n    </tr>\n    <tr>\n      <th>196509</th>\n      <td>2021-03-17 23:00:00</td>\n      <td>1202.62</td>\n      <td>SA1</td>\n    </tr>\n    <tr>\n      <th>196510</th>\n      <td>2021-03-17 23:30:00</td>\n      <td>1194.34</td>\n      <td>SA1</td>\n    </tr>\n    <tr>\n      <th>196511</th>\n      <td>2021-03-18 00:00:00</td>\n      <td>1340.58</td>\n      <td>SA1</td>\n    </tr>\n  </tbody>\n</table>\n</div>"
     },
     "execution_count": 1106,
     "metadata": {},
     "output_type": "execute_result"
    }
   ],
   "source": [
    "sa_totaldemand.tail()"
   ],
   "metadata": {
    "collapsed": false,
    "ExecuteTime": {
     "end_time": "2024-03-14T12:40:27.745571Z",
     "start_time": "2024-03-14T12:40:27.728180Z"
    }
   },
   "id": "f37386c9159737b",
   "execution_count": 1106
  },
  {
   "cell_type": "code",
   "outputs": [
    {
     "name": "stdout",
     "output_type": "stream",
     "text": [
      "<class 'pandas.core.frame.DataFrame'>\n",
      "RangeIndex: 196512 entries, 0 to 196511\n",
      "Data columns (total 3 columns):\n",
      " #   Column       Non-Null Count   Dtype         \n",
      "---  ------       --------------   -----         \n",
      " 0   DATETIME     196512 non-null  datetime64[ns]\n",
      " 1   TOTALDEMAND  196512 non-null  float64       \n",
      " 2   REGIONID     196512 non-null  object        \n",
      "dtypes: datetime64[ns](1), float64(1), object(1)\n",
      "memory usage: 4.5+ MB\n"
     ]
    }
   ],
   "source": [
    "sa_totaldemand.info()"
   ],
   "metadata": {
    "collapsed": false,
    "ExecuteTime": {
     "end_time": "2024-03-14T12:40:27.755909Z",
     "start_time": "2024-03-14T12:40:27.746218Z"
    }
   },
   "id": "92be34c822d062bd",
   "execution_count": 1107
  },
  {
   "cell_type": "code",
   "outputs": [
    {
     "data": {
      "text/plain": "count    196512.000000\nmean       1383.901566\nstd         326.494153\nmin          21.890000\n25%        1164.480000\n50%        1346.140000\n75%        1567.342500\nmax        3385.420000\nName: TOTALDEMAND, dtype: float64"
     },
     "execution_count": 1108,
     "metadata": {},
     "output_type": "execute_result"
    }
   ],
   "source": [
    "sa_totaldemand['TOTALDEMAND'].describe()"
   ],
   "metadata": {
    "collapsed": false,
    "ExecuteTime": {
     "end_time": "2024-03-14T12:40:27.762881Z",
     "start_time": "2024-03-14T12:40:27.756440Z"
    }
   },
   "id": "49968faa5518d3a5",
   "execution_count": 1108
  },
  {
   "cell_type": "code",
   "outputs": [
    {
     "data": {
      "text/plain": "(196512, 3)"
     },
     "execution_count": 1109,
     "metadata": {},
     "output_type": "execute_result"
    }
   ],
   "source": [
    "sa_totaldemand.shape"
   ],
   "metadata": {
    "collapsed": false,
    "ExecuteTime": {
     "end_time": "2024-03-14T12:40:27.765180Z",
     "start_time": "2024-03-14T12:40:27.763372Z"
    }
   },
   "id": "6c01eebb7dd52c62",
   "execution_count": 1109
  },
  {
   "cell_type": "code",
   "outputs": [
    {
     "data": {
      "text/plain": "DATETIME       2010-01-01 00:30:00\nTOTALDEMAND                  21.89\nREGIONID                       SA1\ndtype: object"
     },
     "execution_count": 1110,
     "metadata": {},
     "output_type": "execute_result"
    }
   ],
   "source": [
    "sa_totaldemand.min()"
   ],
   "metadata": {
    "collapsed": false,
    "ExecuteTime": {
     "end_time": "2024-03-14T12:40:27.775264Z",
     "start_time": "2024-03-14T12:40:27.765615Z"
    }
   },
   "id": "10daa7f0389295c0",
   "execution_count": 1110
  },
  {
   "cell_type": "code",
   "outputs": [
    {
     "data": {
      "text/plain": "DATETIME       2021-03-18 00:00:00\nTOTALDEMAND                3385.42\nREGIONID                       SA1\ndtype: object"
     },
     "execution_count": 1111,
     "metadata": {},
     "output_type": "execute_result"
    }
   ],
   "source": [
    "sa_totaldemand.max()"
   ],
   "metadata": {
    "collapsed": false,
    "ExecuteTime": {
     "end_time": "2024-03-14T12:40:27.783673Z",
     "start_time": "2024-03-14T12:40:27.775705Z"
    }
   },
   "id": "282a3d9e2e47d14a",
   "execution_count": 1111
  },
  {
   "cell_type": "code",
   "outputs": [
    {
     "data": {
      "text/plain": "DATETIME       0\nTOTALDEMAND    0\nREGIONID       0\ndtype: int64"
     },
     "execution_count": 1112,
     "metadata": {},
     "output_type": "execute_result"
    }
   ],
   "source": [
    "sa_totaldemand.isnull().sum()"
   ],
   "metadata": {
    "collapsed": false,
    "ExecuteTime": {
     "end_time": "2024-03-14T12:40:27.790583Z",
     "start_time": "2024-03-14T12:40:27.784138Z"
    }
   },
   "id": "5053d71deeb557ad",
   "execution_count": 1112
  },
  {
   "cell_type": "code",
   "outputs": [
    {
     "data": {
      "text/plain": "DATETIME       0\nTOTALDEMAND    0\nREGIONID       0\ndtype: int64"
     },
     "execution_count": 1113,
     "metadata": {},
     "output_type": "execute_result"
    }
   ],
   "source": [
    "sa_totaldemand.isna().sum()"
   ],
   "metadata": {
    "collapsed": false,
    "ExecuteTime": {
     "end_time": "2024-03-14T12:40:27.797921Z",
     "start_time": "2024-03-14T12:40:27.791039Z"
    }
   },
   "id": "78254dea96713374",
   "execution_count": 1113
  },
  {
   "cell_type": "code",
   "outputs": [
    {
     "data": {
      "text/plain": "DATETIME       196512\nTOTALDEMAND     95534\nREGIONID            1\ndtype: int64"
     },
     "execution_count": 1114,
     "metadata": {},
     "output_type": "execute_result"
    }
   ],
   "source": [
    "sa_totaldemand.nunique()"
   ],
   "metadata": {
    "collapsed": false,
    "ExecuteTime": {
     "end_time": "2024-03-14T12:40:27.814052Z",
     "start_time": "2024-03-14T12:40:27.798378Z"
    }
   },
   "id": "dc5b2683235183fd",
   "execution_count": 1114
  },
  {
   "cell_type": "code",
   "outputs": [
    {
     "data": {
      "text/plain": "DATETIME       datetime64[ns]\nTOTALDEMAND           float64\nREGIONID               object\ndtype: object"
     },
     "execution_count": 1115,
     "metadata": {},
     "output_type": "execute_result"
    }
   ],
   "source": [
    "sa_totaldemand.dtypes"
   ],
   "metadata": {
    "collapsed": false,
    "ExecuteTime": {
     "end_time": "2024-03-14T12:40:27.816784Z",
     "start_time": "2024-03-14T12:40:27.814543Z"
    }
   },
   "id": "36bbae2be871d283",
   "execution_count": 1115
  },
  {
   "cell_type": "markdown",
   "source": [
    "## Victoria Total Demand"
   ],
   "metadata": {
    "collapsed": false
   },
   "id": "a72f68529954d5ca"
  },
  {
   "cell_type": "code",
   "outputs": [],
   "source": [
    "vic_total_demand = pd.read_csv(os.path.join(data_path, 'Australia', 'd', 'totaldemand_vic.csv'), parse_dates=['DATETIME'])"
   ],
   "metadata": {
    "collapsed": false,
    "ExecuteTime": {
     "end_time": "2024-03-14T12:40:27.913828Z",
     "start_time": "2024-03-14T12:40:27.817250Z"
    }
   },
   "id": "8071b62d4914e9d6",
   "execution_count": 1116
  },
  {
   "cell_type": "code",
   "outputs": [
    {
     "data": {
      "text/plain": "             DATETIME  TOTALDEMAND REGIONID\n0 2010-01-01 00:00:00      5426.12     VIC1\n1 2010-01-01 00:30:00      5111.02     VIC1\n2 2010-01-01 01:00:00      4960.03     VIC1\n3 2010-01-01 01:30:00      5283.40     VIC1\n4 2010-01-01 02:00:00      5046.15     VIC1",
      "text/html": "<div>\n<style scoped>\n    .dataframe tbody tr th:only-of-type {\n        vertical-align: middle;\n    }\n\n    .dataframe tbody tr th {\n        vertical-align: top;\n    }\n\n    .dataframe thead th {\n        text-align: right;\n    }\n</style>\n<table border=\"1\" class=\"dataframe\">\n  <thead>\n    <tr style=\"text-align: right;\">\n      <th></th>\n      <th>DATETIME</th>\n      <th>TOTALDEMAND</th>\n      <th>REGIONID</th>\n    </tr>\n  </thead>\n  <tbody>\n    <tr>\n      <th>0</th>\n      <td>2010-01-01 00:00:00</td>\n      <td>5426.12</td>\n      <td>VIC1</td>\n    </tr>\n    <tr>\n      <th>1</th>\n      <td>2010-01-01 00:30:00</td>\n      <td>5111.02</td>\n      <td>VIC1</td>\n    </tr>\n    <tr>\n      <th>2</th>\n      <td>2010-01-01 01:00:00</td>\n      <td>4960.03</td>\n      <td>VIC1</td>\n    </tr>\n    <tr>\n      <th>3</th>\n      <td>2010-01-01 01:30:00</td>\n      <td>5283.40</td>\n      <td>VIC1</td>\n    </tr>\n    <tr>\n      <th>4</th>\n      <td>2010-01-01 02:00:00</td>\n      <td>5046.15</td>\n      <td>VIC1</td>\n    </tr>\n  </tbody>\n</table>\n</div>"
     },
     "execution_count": 1117,
     "metadata": {},
     "output_type": "execute_result"
    }
   ],
   "source": [
    "vic_total_demand.head()"
   ],
   "metadata": {
    "collapsed": false,
    "ExecuteTime": {
     "end_time": "2024-03-14T12:40:27.918135Z",
     "start_time": "2024-03-14T12:40:27.914435Z"
    }
   },
   "id": "da49618bfec487ab",
   "execution_count": 1117
  },
  {
   "cell_type": "code",
   "outputs": [
    {
     "data": {
      "text/plain": "                  DATETIME  TOTALDEMAND REGIONID\n196508 2021-03-17 22:00:00      4557.56     VIC1\n196509 2021-03-17 22:30:00      4485.95     VIC1\n196510 2021-03-17 23:00:00      4434.62     VIC1\n196511 2021-03-17 23:30:00      4660.85     VIC1\n196512 2021-03-18 00:00:00      4608.85     VIC1",
      "text/html": "<div>\n<style scoped>\n    .dataframe tbody tr th:only-of-type {\n        vertical-align: middle;\n    }\n\n    .dataframe tbody tr th {\n        vertical-align: top;\n    }\n\n    .dataframe thead th {\n        text-align: right;\n    }\n</style>\n<table border=\"1\" class=\"dataframe\">\n  <thead>\n    <tr style=\"text-align: right;\">\n      <th></th>\n      <th>DATETIME</th>\n      <th>TOTALDEMAND</th>\n      <th>REGIONID</th>\n    </tr>\n  </thead>\n  <tbody>\n    <tr>\n      <th>196508</th>\n      <td>2021-03-17 22:00:00</td>\n      <td>4557.56</td>\n      <td>VIC1</td>\n    </tr>\n    <tr>\n      <th>196509</th>\n      <td>2021-03-17 22:30:00</td>\n      <td>4485.95</td>\n      <td>VIC1</td>\n    </tr>\n    <tr>\n      <th>196510</th>\n      <td>2021-03-17 23:00:00</td>\n      <td>4434.62</td>\n      <td>VIC1</td>\n    </tr>\n    <tr>\n      <th>196511</th>\n      <td>2021-03-17 23:30:00</td>\n      <td>4660.85</td>\n      <td>VIC1</td>\n    </tr>\n    <tr>\n      <th>196512</th>\n      <td>2021-03-18 00:00:00</td>\n      <td>4608.85</td>\n      <td>VIC1</td>\n    </tr>\n  </tbody>\n</table>\n</div>"
     },
     "execution_count": 1118,
     "metadata": {},
     "output_type": "execute_result"
    }
   ],
   "source": [
    "vic_total_demand.tail()"
   ],
   "metadata": {
    "collapsed": false,
    "ExecuteTime": {
     "end_time": "2024-03-14T12:40:27.929339Z",
     "start_time": "2024-03-14T12:40:27.918604Z"
    }
   },
   "id": "d69248191cecbfbc",
   "execution_count": 1118
  },
  {
   "cell_type": "code",
   "outputs": [
    {
     "name": "stdout",
     "output_type": "stream",
     "text": [
      "<class 'pandas.core.frame.DataFrame'>\n",
      "RangeIndex: 196513 entries, 0 to 196512\n",
      "Data columns (total 3 columns):\n",
      " #   Column       Non-Null Count   Dtype         \n",
      "---  ------       --------------   -----         \n",
      " 0   DATETIME     196513 non-null  datetime64[ns]\n",
      " 1   TOTALDEMAND  196513 non-null  float64       \n",
      " 2   REGIONID     196513 non-null  object        \n",
      "dtypes: datetime64[ns](1), float64(1), object(1)\n",
      "memory usage: 4.5+ MB\n"
     ]
    }
   ],
   "source": [
    "vic_total_demand.info()"
   ],
   "metadata": {
    "collapsed": false,
    "ExecuteTime": {
     "end_time": "2024-03-14T12:40:27.944720Z",
     "start_time": "2024-03-14T12:40:27.929825Z"
    }
   },
   "id": "fc45a989ca613566",
   "execution_count": 1119
  },
  {
   "cell_type": "code",
   "outputs": [
    {
     "data": {
      "text/plain": "count    196513.000000\nmean       5252.950834\nstd         946.281304\nmin        2307.070000\n25%        4535.420000\n50%        5157.760000\n75%        5909.540000\nmax       10240.220000\nName: TOTALDEMAND, dtype: float64"
     },
     "execution_count": 1120,
     "metadata": {},
     "output_type": "execute_result"
    }
   ],
   "source": [
    "vic_total_demand['TOTALDEMAND'].describe()"
   ],
   "metadata": {
    "collapsed": false,
    "ExecuteTime": {
     "end_time": "2024-03-14T12:40:27.952731Z",
     "start_time": "2024-03-14T12:40:27.945198Z"
    }
   },
   "id": "acf59b1aeb79a169",
   "execution_count": 1120
  },
  {
   "cell_type": "code",
   "outputs": [
    {
     "data": {
      "text/plain": "(196513, 3)"
     },
     "execution_count": 1121,
     "metadata": {},
     "output_type": "execute_result"
    }
   ],
   "source": [
    "vic_total_demand.shape"
   ],
   "metadata": {
    "collapsed": false,
    "ExecuteTime": {
     "end_time": "2024-03-14T12:40:27.956331Z",
     "start_time": "2024-03-14T12:40:27.953193Z"
    }
   },
   "id": "56e70d520d1db9c6",
   "execution_count": 1121
  },
  {
   "cell_type": "code",
   "outputs": [
    {
     "data": {
      "text/plain": "DATETIME       2010-01-01 00:00:00\nTOTALDEMAND                2307.07\nREGIONID                      VIC1\ndtype: object"
     },
     "execution_count": 1122,
     "metadata": {},
     "output_type": "execute_result"
    }
   ],
   "source": [
    "vic_total_demand.min()"
   ],
   "metadata": {
    "collapsed": false,
    "ExecuteTime": {
     "end_time": "2024-03-14T12:40:27.967531Z",
     "start_time": "2024-03-14T12:40:27.956814Z"
    }
   },
   "id": "bef5da5a832a7f8f",
   "execution_count": 1122
  },
  {
   "cell_type": "code",
   "outputs": [
    {
     "data": {
      "text/plain": "DATETIME       2021-03-18 00:00:00\nTOTALDEMAND               10240.22\nREGIONID                      VIC1\ndtype: object"
     },
     "execution_count": 1123,
     "metadata": {},
     "output_type": "execute_result"
    }
   ],
   "source": [
    "vic_total_demand.max()"
   ],
   "metadata": {
    "collapsed": false,
    "ExecuteTime": {
     "end_time": "2024-03-14T12:40:27.975943Z",
     "start_time": "2024-03-14T12:40:27.968014Z"
    }
   },
   "id": "430c7e53c6fb48dc",
   "execution_count": 1123
  },
  {
   "cell_type": "code",
   "outputs": [
    {
     "data": {
      "text/plain": "DATETIME       0\nTOTALDEMAND    0\nREGIONID       0\ndtype: int64"
     },
     "execution_count": 1124,
     "metadata": {},
     "output_type": "execute_result"
    }
   ],
   "source": [
    "vic_total_demand.isnull().sum()"
   ],
   "metadata": {
    "collapsed": false,
    "ExecuteTime": {
     "end_time": "2024-03-14T12:40:27.982666Z",
     "start_time": "2024-03-14T12:40:27.976415Z"
    }
   },
   "id": "fba0584917acccde",
   "execution_count": 1124
  },
  {
   "cell_type": "code",
   "outputs": [
    {
     "data": {
      "text/plain": "DATETIME       0\nTOTALDEMAND    0\nREGIONID       0\ndtype: int64"
     },
     "execution_count": 1125,
     "metadata": {},
     "output_type": "execute_result"
    }
   ],
   "source": [
    "vic_total_demand.isna().sum()"
   ],
   "metadata": {
    "collapsed": false,
    "ExecuteTime": {
     "end_time": "2024-03-14T12:40:27.990057Z",
     "start_time": "2024-03-14T12:40:27.983106Z"
    }
   },
   "id": "1421e5afd11229be",
   "execution_count": 1125
  },
  {
   "cell_type": "code",
   "outputs": [
    {
     "data": {
      "text/plain": "DATETIME       196513\nTOTALDEMAND    149442\nREGIONID            1\ndtype: int64"
     },
     "execution_count": 1126,
     "metadata": {},
     "output_type": "execute_result"
    }
   ],
   "source": [
    "vic_total_demand.nunique()"
   ],
   "metadata": {
    "collapsed": false,
    "ExecuteTime": {
     "end_time": "2024-03-14T12:40:28.005370Z",
     "start_time": "2024-03-14T12:40:27.990537Z"
    }
   },
   "id": "eb42249510174393",
   "execution_count": 1126
  },
  {
   "cell_type": "code",
   "outputs": [
    {
     "data": {
      "text/plain": "DATETIME       datetime64[ns]\nTOTALDEMAND           float64\nREGIONID               object\ndtype: object"
     },
     "execution_count": 1127,
     "metadata": {},
     "output_type": "execute_result"
    }
   ],
   "source": [
    "vic_total_demand.dtypes"
   ],
   "metadata": {
    "collapsed": false,
    "ExecuteTime": {
     "end_time": "2024-03-14T12:40:28.008170Z",
     "start_time": "2024-03-14T12:40:28.005909Z"
    }
   },
   "id": "d590818ef2a976b8",
   "execution_count": 1127
  },
  {
   "cell_type": "markdown",
   "source": [
    "## NSW Forecast Demand"
   ],
   "metadata": {
    "collapsed": false
   },
   "id": "4d5cf7f80f9c834c"
  },
  {
   "cell_type": "code",
   "outputs": [],
   "source": [
    "nsw_forecastdemand = pd.read_csv(os.path.join(data_path, 'NSW', 'forecastdemand_nsw.csv'), parse_dates=['LASTCHANGED', 'DATETIME'])"
   ],
   "metadata": {
    "collapsed": false,
    "ExecuteTime": {
     "end_time": "2024-03-14T12:40:33.827272Z",
     "start_time": "2024-03-14T12:40:28.008663Z"
    }
   },
   "id": "714fb3f4bd4e097d",
   "execution_count": 1128
  },
  {
   "cell_type": "code",
   "outputs": [
    {
     "data": {
      "text/plain": "   PREDISPATCHSEQNO REGIONID  PERIODID  FORECASTDEMAND         LASTCHANGED  \\\n0        2009123018     NSW1        71         7832.04 2009-12-30 12:31:49   \n1        2009123019     NSW1        70         7832.04 2009-12-30 13:01:43   \n2        2009123020     NSW1        69         7832.03 2009-12-30 13:31:36   \n3        2009123021     NSW1        68         7832.03 2009-12-30 14:01:44   \n4        2009123022     NSW1        67         7830.96 2009-12-30 14:31:35   \n\n    DATETIME  \n0 2010-01-01  \n1 2010-01-01  \n2 2010-01-01  \n3 2010-01-01  \n4 2010-01-01  ",
      "text/html": "<div>\n<style scoped>\n    .dataframe tbody tr th:only-of-type {\n        vertical-align: middle;\n    }\n\n    .dataframe tbody tr th {\n        vertical-align: top;\n    }\n\n    .dataframe thead th {\n        text-align: right;\n    }\n</style>\n<table border=\"1\" class=\"dataframe\">\n  <thead>\n    <tr style=\"text-align: right;\">\n      <th></th>\n      <th>PREDISPATCHSEQNO</th>\n      <th>REGIONID</th>\n      <th>PERIODID</th>\n      <th>FORECASTDEMAND</th>\n      <th>LASTCHANGED</th>\n      <th>DATETIME</th>\n    </tr>\n  </thead>\n  <tbody>\n    <tr>\n      <th>0</th>\n      <td>2009123018</td>\n      <td>NSW1</td>\n      <td>71</td>\n      <td>7832.04</td>\n      <td>2009-12-30 12:31:49</td>\n      <td>2010-01-01</td>\n    </tr>\n    <tr>\n      <th>1</th>\n      <td>2009123019</td>\n      <td>NSW1</td>\n      <td>70</td>\n      <td>7832.04</td>\n      <td>2009-12-30 13:01:43</td>\n      <td>2010-01-01</td>\n    </tr>\n    <tr>\n      <th>2</th>\n      <td>2009123020</td>\n      <td>NSW1</td>\n      <td>69</td>\n      <td>7832.03</td>\n      <td>2009-12-30 13:31:36</td>\n      <td>2010-01-01</td>\n    </tr>\n    <tr>\n      <th>3</th>\n      <td>2009123021</td>\n      <td>NSW1</td>\n      <td>68</td>\n      <td>7832.03</td>\n      <td>2009-12-30 14:01:44</td>\n      <td>2010-01-01</td>\n    </tr>\n    <tr>\n      <th>4</th>\n      <td>2009123022</td>\n      <td>NSW1</td>\n      <td>67</td>\n      <td>7830.96</td>\n      <td>2009-12-30 14:31:35</td>\n      <td>2010-01-01</td>\n    </tr>\n  </tbody>\n</table>\n</div>"
     },
     "execution_count": 1129,
     "metadata": {},
     "output_type": "execute_result"
    }
   ],
   "source": [
    "nsw_forecastdemand.head()"
   ],
   "metadata": {
    "collapsed": false,
    "ExecuteTime": {
     "end_time": "2024-03-14T12:40:33.832232Z",
     "start_time": "2024-03-14T12:40:33.827890Z"
    }
   },
   "id": "738cf2feb7fe6ef4",
   "execution_count": 1129
  },
  {
   "cell_type": "code",
   "outputs": [
    {
     "data": {
      "text/plain": "          PREDISPATCHSEQNO REGIONID  PERIODID  FORECASTDEMAND  \\\n10906014        2021031736     NSW1         5         7028.45   \n10906015        2021031737     NSW1         4         7041.65   \n10906016        2021031738     NSW1         3         7087.60   \n10906017        2021031739     NSW1         2         7087.28   \n10906018        2021031740     NSW1         1         7126.37   \n\n                 LASTCHANGED   DATETIME  \n10906014 2021-03-17 21:31:31 2021-03-18  \n10906015 2021-03-17 22:01:34 2021-03-18  \n10906016 2021-03-17 22:31:36 2021-03-18  \n10906017 2021-03-17 23:01:36 2021-03-18  \n10906018 2021-03-17 23:31:33 2021-03-18  ",
      "text/html": "<div>\n<style scoped>\n    .dataframe tbody tr th:only-of-type {\n        vertical-align: middle;\n    }\n\n    .dataframe tbody tr th {\n        vertical-align: top;\n    }\n\n    .dataframe thead th {\n        text-align: right;\n    }\n</style>\n<table border=\"1\" class=\"dataframe\">\n  <thead>\n    <tr style=\"text-align: right;\">\n      <th></th>\n      <th>PREDISPATCHSEQNO</th>\n      <th>REGIONID</th>\n      <th>PERIODID</th>\n      <th>FORECASTDEMAND</th>\n      <th>LASTCHANGED</th>\n      <th>DATETIME</th>\n    </tr>\n  </thead>\n  <tbody>\n    <tr>\n      <th>10906014</th>\n      <td>2021031736</td>\n      <td>NSW1</td>\n      <td>5</td>\n      <td>7028.45</td>\n      <td>2021-03-17 21:31:31</td>\n      <td>2021-03-18</td>\n    </tr>\n    <tr>\n      <th>10906015</th>\n      <td>2021031737</td>\n      <td>NSW1</td>\n      <td>4</td>\n      <td>7041.65</td>\n      <td>2021-03-17 22:01:34</td>\n      <td>2021-03-18</td>\n    </tr>\n    <tr>\n      <th>10906016</th>\n      <td>2021031738</td>\n      <td>NSW1</td>\n      <td>3</td>\n      <td>7087.60</td>\n      <td>2021-03-17 22:31:36</td>\n      <td>2021-03-18</td>\n    </tr>\n    <tr>\n      <th>10906017</th>\n      <td>2021031739</td>\n      <td>NSW1</td>\n      <td>2</td>\n      <td>7087.28</td>\n      <td>2021-03-17 23:01:36</td>\n      <td>2021-03-18</td>\n    </tr>\n    <tr>\n      <th>10906018</th>\n      <td>2021031740</td>\n      <td>NSW1</td>\n      <td>1</td>\n      <td>7126.37</td>\n      <td>2021-03-17 23:31:33</td>\n      <td>2021-03-18</td>\n    </tr>\n  </tbody>\n</table>\n</div>"
     },
     "execution_count": 1130,
     "metadata": {},
     "output_type": "execute_result"
    }
   ],
   "source": [
    "nsw_forecastdemand.tail()"
   ],
   "metadata": {
    "collapsed": false,
    "ExecuteTime": {
     "end_time": "2024-03-14T12:40:33.920130Z",
     "start_time": "2024-03-14T12:40:33.832711Z"
    }
   },
   "id": "95d4b96b1b0a636e",
   "execution_count": 1130
  },
  {
   "cell_type": "code",
   "outputs": [
    {
     "name": "stdout",
     "output_type": "stream",
     "text": [
      "<class 'pandas.core.frame.DataFrame'>\n",
      "RangeIndex: 10906019 entries, 0 to 10906018\n",
      "Data columns (total 6 columns):\n",
      " #   Column            Dtype         \n",
      "---  ------            -----         \n",
      " 0   PREDISPATCHSEQNO  int64         \n",
      " 1   REGIONID          object        \n",
      " 2   PERIODID          int64         \n",
      " 3   FORECASTDEMAND    float64       \n",
      " 4   LASTCHANGED       datetime64[ns]\n",
      " 5   DATETIME          datetime64[ns]\n",
      "dtypes: datetime64[ns](2), float64(1), int64(2), object(1)\n",
      "memory usage: 499.2+ MB\n"
     ]
    }
   ],
   "source": [
    "nsw_forecastdemand.info()"
   ],
   "metadata": {
    "collapsed": false,
    "ExecuteTime": {
     "end_time": "2024-03-14T12:40:33.939491Z",
     "start_time": "2024-03-14T12:40:33.920743Z"
    }
   },
   "id": "807338f77241801a",
   "execution_count": 1131
  },
  {
   "cell_type": "code",
   "outputs": [
    {
     "data": {
      "text/plain": "count    1.090602e+07\nmean     8.066719e+03\nstd      1.315959e+03\nmin      4.422460e+03\n25%      7.077970e+03\n50%      8.007550e+03\n75%      8.925610e+03\nmax      1.473666e+04\nName: FORECASTDEMAND, dtype: float64"
     },
     "execution_count": 1132,
     "metadata": {},
     "output_type": "execute_result"
    }
   ],
   "source": [
    "nsw_forecastdemand['FORECASTDEMAND'].describe()"
   ],
   "metadata": {
    "collapsed": false,
    "ExecuteTime": {
     "end_time": "2024-03-14T12:40:34.096172Z",
     "start_time": "2024-03-14T12:40:33.940036Z"
    }
   },
   "id": "230b5e85ede77e40",
   "execution_count": 1132
  },
  {
   "cell_type": "code",
   "outputs": [
    {
     "data": {
      "text/plain": "(10906019, 6)"
     },
     "execution_count": 1133,
     "metadata": {},
     "output_type": "execute_result"
    }
   ],
   "source": [
    "nsw_forecastdemand.shape"
   ],
   "metadata": {
    "collapsed": false,
    "ExecuteTime": {
     "end_time": "2024-03-14T12:40:34.098713Z",
     "start_time": "2024-03-14T12:40:34.096739Z"
    }
   },
   "id": "ed0a7020b50243f4",
   "execution_count": 1133
  },
  {
   "cell_type": "code",
   "outputs": [
    {
     "data": {
      "text/plain": "PREDISPATCHSEQNO             2009123018\nREGIONID                           NSW1\nPERIODID                              1\nFORECASTDEMAND                  4422.46\nLASTCHANGED         2009-12-30 12:31:49\nDATETIME            2010-01-01 00:00:00\ndtype: object"
     },
     "execution_count": 1134,
     "metadata": {},
     "output_type": "execute_result"
    }
   ],
   "source": [
    "nsw_forecastdemand.min()"
   ],
   "metadata": {
    "collapsed": false,
    "ExecuteTime": {
     "end_time": "2024-03-14T12:40:34.475237Z",
     "start_time": "2024-03-14T12:40:34.099202Z"
    }
   },
   "id": "38c1071e18c36e9f",
   "execution_count": 1134
  },
  {
   "cell_type": "code",
   "outputs": [
    {
     "data": {
      "text/plain": "PREDISPATCHSEQNO             2021031740\nREGIONID                           NSW1\nPERIODID                             79\nFORECASTDEMAND                 14736.66\nLASTCHANGED         2021-03-17 23:31:33\nDATETIME            2021-03-18 00:00:00\ndtype: object"
     },
     "execution_count": 1135,
     "metadata": {},
     "output_type": "execute_result"
    }
   ],
   "source": [
    "nsw_forecastdemand.max()"
   ],
   "metadata": {
    "collapsed": false,
    "ExecuteTime": {
     "end_time": "2024-03-14T12:40:34.857620Z",
     "start_time": "2024-03-14T12:40:34.475783Z"
    }
   },
   "id": "5c9358fe34f093f4",
   "execution_count": 1135
  },
  {
   "cell_type": "code",
   "outputs": [
    {
     "data": {
      "text/plain": "PREDISPATCHSEQNO    0\nREGIONID            0\nPERIODID            0\nFORECASTDEMAND      0\nLASTCHANGED         0\nDATETIME            0\ndtype: int64"
     },
     "execution_count": 1136,
     "metadata": {},
     "output_type": "execute_result"
    }
   ],
   "source": [
    "nsw_forecastdemand.isnull().sum()"
   ],
   "metadata": {
    "collapsed": false,
    "ExecuteTime": {
     "end_time": "2024-03-14T12:40:35.101939Z",
     "start_time": "2024-03-14T12:40:34.858560Z"
    }
   },
   "id": "14ff921264c8f66f",
   "execution_count": 1136
  },
  {
   "cell_type": "code",
   "outputs": [
    {
     "data": {
      "text/plain": "PREDISPATCHSEQNO    0\nREGIONID            0\nPERIODID            0\nFORECASTDEMAND      0\nLASTCHANGED         0\nDATETIME            0\ndtype: int64"
     },
     "execution_count": 1137,
     "metadata": {},
     "output_type": "execute_result"
    }
   ],
   "source": [
    "nsw_forecastdemand.isna().sum()"
   ],
   "metadata": {
    "collapsed": false,
    "ExecuteTime": {
     "end_time": "2024-03-14T12:40:35.343578Z",
     "start_time": "2024-03-14T12:40:35.102492Z"
    }
   },
   "id": "55011353fab20d65",
   "execution_count": 1137
  },
  {
   "cell_type": "code",
   "outputs": [
    {
     "data": {
      "text/plain": "PREDISPATCHSEQNO    196571\nREGIONID                 1\nPERIODID                79\nFORECASTDEMAND      681384\nLASTCHANGED         196571\nDATETIME            196513\ndtype: int64"
     },
     "execution_count": 1138,
     "metadata": {},
     "output_type": "execute_result"
    }
   ],
   "source": [
    "nsw_forecastdemand.nunique()"
   ],
   "metadata": {
    "collapsed": false,
    "ExecuteTime": {
     "end_time": "2024-03-14T12:40:35.978800Z",
     "start_time": "2024-03-14T12:40:35.344206Z"
    }
   },
   "id": "a296e9a8690f05",
   "execution_count": 1138
  },
  {
   "cell_type": "code",
   "outputs": [
    {
     "data": {
      "text/plain": "PREDISPATCHSEQNO             int64\nREGIONID                    object\nPERIODID                     int64\nFORECASTDEMAND             float64\nLASTCHANGED         datetime64[ns]\nDATETIME            datetime64[ns]\ndtype: object"
     },
     "execution_count": 1139,
     "metadata": {},
     "output_type": "execute_result"
    }
   ],
   "source": [
    "nsw_forecastdemand.dtypes"
   ],
   "metadata": {
    "collapsed": false,
    "ExecuteTime": {
     "end_time": "2024-03-14T12:40:35.981906Z",
     "start_time": "2024-03-14T12:40:35.979364Z"
    }
   },
   "id": "76336b1a517dbc8f",
   "execution_count": 1139
  },
  {
   "cell_type": "markdown",
   "source": [
    "## NSW temperature"
   ],
   "metadata": {
    "collapsed": false
   },
   "id": "99d38818860ccd38"
  },
  {
   "cell_type": "code",
   "outputs": [],
   "source": [
    "nsw_temperature = pd.read_csv(os.path.join(data_path, 'NSW', 'temperature_nsw.csv'), parse_dates=['DATETIME'], dayfirst=True)"
   ],
   "metadata": {
    "collapsed": false,
    "ExecuteTime": {
     "end_time": "2024-03-14T12:40:36.471275Z",
     "start_time": "2024-03-14T12:40:35.982376Z"
    }
   },
   "id": "b598cb193002a8d4",
   "execution_count": 1140
  },
  {
   "cell_type": "code",
   "outputs": [
    {
     "data": {
      "text/plain": "    LOCATION            DATETIME  TEMPERATURE\n0  Bankstown 2010-01-01 00:00:00         23.1\n1  Bankstown 2010-01-01 00:01:00         23.1\n2  Bankstown 2010-01-01 00:30:00         22.9\n3  Bankstown 2010-01-01 00:50:00         22.7\n4  Bankstown 2010-01-01 01:00:00         22.6",
      "text/html": "<div>\n<style scoped>\n    .dataframe tbody tr th:only-of-type {\n        vertical-align: middle;\n    }\n\n    .dataframe tbody tr th {\n        vertical-align: top;\n    }\n\n    .dataframe thead th {\n        text-align: right;\n    }\n</style>\n<table border=\"1\" class=\"dataframe\">\n  <thead>\n    <tr style=\"text-align: right;\">\n      <th></th>\n      <th>LOCATION</th>\n      <th>DATETIME</th>\n      <th>TEMPERATURE</th>\n    </tr>\n  </thead>\n  <tbody>\n    <tr>\n      <th>0</th>\n      <td>Bankstown</td>\n      <td>2010-01-01 00:00:00</td>\n      <td>23.1</td>\n    </tr>\n    <tr>\n      <th>1</th>\n      <td>Bankstown</td>\n      <td>2010-01-01 00:01:00</td>\n      <td>23.1</td>\n    </tr>\n    <tr>\n      <th>2</th>\n      <td>Bankstown</td>\n      <td>2010-01-01 00:30:00</td>\n      <td>22.9</td>\n    </tr>\n    <tr>\n      <th>3</th>\n      <td>Bankstown</td>\n      <td>2010-01-01 00:50:00</td>\n      <td>22.7</td>\n    </tr>\n    <tr>\n      <th>4</th>\n      <td>Bankstown</td>\n      <td>2010-01-01 01:00:00</td>\n      <td>22.6</td>\n    </tr>\n  </tbody>\n</table>\n</div>"
     },
     "execution_count": 1141,
     "metadata": {},
     "output_type": "execute_result"
    }
   ],
   "source": [
    "nsw_temperature.head()"
   ],
   "metadata": {
    "collapsed": false,
    "ExecuteTime": {
     "end_time": "2024-03-14T12:40:36.475660Z",
     "start_time": "2024-03-14T12:40:36.471908Z"
    }
   },
   "id": "8db601dfe413b494",
   "execution_count": 1141
  },
  {
   "cell_type": "code",
   "outputs": [
    {
     "data": {
      "text/plain": "         LOCATION            DATETIME  TEMPERATURE\n220321  Bankstown 2021-03-17 23:00:00         19.1\n220322  Bankstown 2021-03-17 23:20:00         19.0\n220323  Bankstown 2021-03-17 23:30:00         18.8\n220324  Bankstown 2021-03-17 23:34:00         18.8\n220325  Bankstown 2021-03-18 00:00:00         18.6",
      "text/html": "<div>\n<style scoped>\n    .dataframe tbody tr th:only-of-type {\n        vertical-align: middle;\n    }\n\n    .dataframe tbody tr th {\n        vertical-align: top;\n    }\n\n    .dataframe thead th {\n        text-align: right;\n    }\n</style>\n<table border=\"1\" class=\"dataframe\">\n  <thead>\n    <tr style=\"text-align: right;\">\n      <th></th>\n      <th>LOCATION</th>\n      <th>DATETIME</th>\n      <th>TEMPERATURE</th>\n    </tr>\n  </thead>\n  <tbody>\n    <tr>\n      <th>220321</th>\n      <td>Bankstown</td>\n      <td>2021-03-17 23:00:00</td>\n      <td>19.1</td>\n    </tr>\n    <tr>\n      <th>220322</th>\n      <td>Bankstown</td>\n      <td>2021-03-17 23:20:00</td>\n      <td>19.0</td>\n    </tr>\n    <tr>\n      <th>220323</th>\n      <td>Bankstown</td>\n      <td>2021-03-17 23:30:00</td>\n      <td>18.8</td>\n    </tr>\n    <tr>\n      <th>220324</th>\n      <td>Bankstown</td>\n      <td>2021-03-17 23:34:00</td>\n      <td>18.8</td>\n    </tr>\n    <tr>\n      <th>220325</th>\n      <td>Bankstown</td>\n      <td>2021-03-18 00:00:00</td>\n      <td>18.6</td>\n    </tr>\n  </tbody>\n</table>\n</div>"
     },
     "execution_count": 1142,
     "metadata": {},
     "output_type": "execute_result"
    }
   ],
   "source": [
    "nsw_temperature.tail()"
   ],
   "metadata": {
    "collapsed": false,
    "ExecuteTime": {
     "end_time": "2024-03-14T12:40:36.565690Z",
     "start_time": "2024-03-14T12:40:36.476099Z"
    }
   },
   "id": "f393b5cbde7f1e18",
   "execution_count": 1142
  },
  {
   "cell_type": "code",
   "outputs": [
    {
     "name": "stdout",
     "output_type": "stream",
     "text": [
      "<class 'pandas.core.frame.DataFrame'>\n",
      "RangeIndex: 220326 entries, 0 to 220325\n",
      "Data columns (total 3 columns):\n",
      " #   Column       Non-Null Count   Dtype         \n",
      "---  ------       --------------   -----         \n",
      " 0   LOCATION     220326 non-null  object        \n",
      " 1   DATETIME     220326 non-null  datetime64[ns]\n",
      " 2   TEMPERATURE  220326 non-null  float64       \n",
      "dtypes: datetime64[ns](1), float64(1), object(1)\n",
      "memory usage: 5.0+ MB\n"
     ]
    }
   ],
   "source": [
    "nsw_temperature.info()"
   ],
   "metadata": {
    "collapsed": false,
    "ExecuteTime": {
     "end_time": "2024-03-14T12:40:36.595089Z",
     "start_time": "2024-03-14T12:40:36.566294Z"
    }
   },
   "id": "613af6013635909e",
   "execution_count": 1143
  },
  {
   "cell_type": "code",
   "outputs": [
    {
     "data": {
      "text/plain": "                            DATETIME    TEMPERATURE\ncount                         220326  220326.000000\nmean   2015-08-16 07:59:12.964243712      17.418827\nmin              2010-01-01 00:00:00      -1.300000\n25%              2012-11-02 23:07:30      13.400000\n50%              2015-08-16 13:45:00      17.700000\n75%              2018-06-03 14:22:30      21.300000\nmax              2021-03-18 00:00:00      44.700000\nstd                              NaN       5.849763",
      "text/html": "<div>\n<style scoped>\n    .dataframe tbody tr th:only-of-type {\n        vertical-align: middle;\n    }\n\n    .dataframe tbody tr th {\n        vertical-align: top;\n    }\n\n    .dataframe thead th {\n        text-align: right;\n    }\n</style>\n<table border=\"1\" class=\"dataframe\">\n  <thead>\n    <tr style=\"text-align: right;\">\n      <th></th>\n      <th>DATETIME</th>\n      <th>TEMPERATURE</th>\n    </tr>\n  </thead>\n  <tbody>\n    <tr>\n      <th>count</th>\n      <td>220326</td>\n      <td>220326.000000</td>\n    </tr>\n    <tr>\n      <th>mean</th>\n      <td>2015-08-16 07:59:12.964243712</td>\n      <td>17.418827</td>\n    </tr>\n    <tr>\n      <th>min</th>\n      <td>2010-01-01 00:00:00</td>\n      <td>-1.300000</td>\n    </tr>\n    <tr>\n      <th>25%</th>\n      <td>2012-11-02 23:07:30</td>\n      <td>13.400000</td>\n    </tr>\n    <tr>\n      <th>50%</th>\n      <td>2015-08-16 13:45:00</td>\n      <td>17.700000</td>\n    </tr>\n    <tr>\n      <th>75%</th>\n      <td>2018-06-03 14:22:30</td>\n      <td>21.300000</td>\n    </tr>\n    <tr>\n      <th>max</th>\n      <td>2021-03-18 00:00:00</td>\n      <td>44.700000</td>\n    </tr>\n    <tr>\n      <th>std</th>\n      <td>NaN</td>\n      <td>5.849763</td>\n    </tr>\n  </tbody>\n</table>\n</div>"
     },
     "execution_count": 1144,
     "metadata": {},
     "output_type": "execute_result"
    }
   ],
   "source": [
    "nsw_temperature.describe()"
   ],
   "metadata": {
    "collapsed": false,
    "ExecuteTime": {
     "end_time": "2024-03-14T12:40:36.612932Z",
     "start_time": "2024-03-14T12:40:36.595702Z"
    }
   },
   "id": "464f7f1c4f6b349e",
   "execution_count": 1144
  },
  {
   "cell_type": "code",
   "outputs": [
    {
     "data": {
      "text/plain": "(220326, 3)"
     },
     "execution_count": 1145,
     "metadata": {},
     "output_type": "execute_result"
    }
   ],
   "source": [
    "nsw_temperature.shape"
   ],
   "metadata": {
    "collapsed": false,
    "ExecuteTime": {
     "end_time": "2024-03-14T12:40:36.615978Z",
     "start_time": "2024-03-14T12:40:36.613601Z"
    }
   },
   "id": "c3acba3c6c3c2afa",
   "execution_count": 1145
  },
  {
   "cell_type": "code",
   "outputs": [
    {
     "data": {
      "text/plain": "LOCATION                 Bankstown\nDATETIME       2010-01-01 00:00:00\nTEMPERATURE                   -1.3\ndtype: object"
     },
     "execution_count": 1146,
     "metadata": {},
     "output_type": "execute_result"
    }
   ],
   "source": [
    "nsw_temperature.min()"
   ],
   "metadata": {
    "collapsed": false,
    "ExecuteTime": {
     "end_time": "2024-03-14T12:40:36.629767Z",
     "start_time": "2024-03-14T12:40:36.616614Z"
    }
   },
   "id": "1eec95181ac5e7cb",
   "execution_count": 1146
  },
  {
   "cell_type": "code",
   "outputs": [
    {
     "data": {
      "text/plain": "LOCATION                 Bankstown\nDATETIME       2021-03-18 00:00:00\nTEMPERATURE                   44.7\ndtype: object"
     },
     "execution_count": 1147,
     "metadata": {},
     "output_type": "execute_result"
    }
   ],
   "source": [
    "nsw_temperature.max()"
   ],
   "metadata": {
    "collapsed": false,
    "ExecuteTime": {
     "end_time": "2024-03-14T12:40:36.641182Z",
     "start_time": "2024-03-14T12:40:36.630377Z"
    }
   },
   "id": "795cc9ceb73a1c33",
   "execution_count": 1147
  },
  {
   "cell_type": "code",
   "outputs": [
    {
     "data": {
      "text/plain": "LOCATION       0\nDATETIME       0\nTEMPERATURE    0\ndtype: int64"
     },
     "execution_count": 1148,
     "metadata": {},
     "output_type": "execute_result"
    }
   ],
   "source": [
    "nsw_temperature.isnull().sum()"
   ],
   "metadata": {
    "collapsed": false,
    "ExecuteTime": {
     "end_time": "2024-03-14T12:40:36.648641Z",
     "start_time": "2024-03-14T12:40:36.641741Z"
    }
   },
   "id": "b12a917928cc5bb",
   "execution_count": 1148
  },
  {
   "cell_type": "code",
   "outputs": [
    {
     "data": {
      "text/plain": "LOCATION       0\nDATETIME       0\nTEMPERATURE    0\ndtype: int64"
     },
     "execution_count": 1149,
     "metadata": {},
     "output_type": "execute_result"
    }
   ],
   "source": [
    "nsw_temperature.isna().sum()"
   ],
   "metadata": {
    "collapsed": false,
    "ExecuteTime": {
     "end_time": "2024-03-14T12:40:36.656255Z",
     "start_time": "2024-03-14T12:40:36.649128Z"
    }
   },
   "id": "3a052dc37be7b9da",
   "execution_count": 1149
  },
  {
   "cell_type": "code",
   "outputs": [
    {
     "data": {
      "text/plain": "LOCATION            1\nDATETIME       220313\nTEMPERATURE       439\ndtype: int64"
     },
     "execution_count": 1150,
     "metadata": {},
     "output_type": "execute_result"
    }
   ],
   "source": [
    "nsw_temperature.nunique()"
   ],
   "metadata": {
    "collapsed": false,
    "ExecuteTime": {
     "end_time": "2024-03-14T12:40:36.670947Z",
     "start_time": "2024-03-14T12:40:36.656688Z"
    }
   },
   "id": "940aa95937db4361",
   "execution_count": 1150
  },
  {
   "cell_type": "code",
   "outputs": [
    {
     "data": {
      "text/plain": "LOCATION               object\nDATETIME       datetime64[ns]\nTEMPERATURE           float64\ndtype: object"
     },
     "execution_count": 1151,
     "metadata": {},
     "output_type": "execute_result"
    }
   ],
   "source": [
    "nsw_temperature.dtypes"
   ],
   "metadata": {
    "collapsed": false,
    "ExecuteTime": {
     "end_time": "2024-03-14T12:40:36.673535Z",
     "start_time": "2024-03-14T12:40:36.671402Z"
    }
   },
   "id": "f2e044ccaec071e7",
   "execution_count": 1151
  },
  {
   "cell_type": "markdown",
   "source": [
    "## NSW Total Demand"
   ],
   "metadata": {
    "collapsed": false
   },
   "id": "fddeec55bae13a78"
  },
  {
   "cell_type": "code",
   "outputs": [],
   "source": [
    "nsw_totaldemand = pd.read_csv(os.path.join(data_path, 'NSW', 'totaldemand_nsw.csv'), parse_dates=['DATETIME'], dayfirst=True)"
   ],
   "metadata": {
    "collapsed": false,
    "ExecuteTime": {
     "end_time": "2024-03-14T12:40:37.045527Z",
     "start_time": "2024-03-14T12:40:36.673946Z"
    }
   },
   "id": "520c0d5a18b723db",
   "execution_count": 1152
  },
  {
   "cell_type": "code",
   "outputs": [
    {
     "data": {
      "text/plain": "             DATETIME  TOTALDEMAND REGIONID\n0 2010-01-01 00:00:00      8038.00     NSW1\n1 2010-01-01 00:30:00      7809.31     NSW1\n2 2010-01-01 01:00:00      7483.69     NSW1\n3 2010-01-01 01:30:00      7117.23     NSW1\n4 2010-01-01 02:00:00      6812.03     NSW1",
      "text/html": "<div>\n<style scoped>\n    .dataframe tbody tr th:only-of-type {\n        vertical-align: middle;\n    }\n\n    .dataframe tbody tr th {\n        vertical-align: top;\n    }\n\n    .dataframe thead th {\n        text-align: right;\n    }\n</style>\n<table border=\"1\" class=\"dataframe\">\n  <thead>\n    <tr style=\"text-align: right;\">\n      <th></th>\n      <th>DATETIME</th>\n      <th>TOTALDEMAND</th>\n      <th>REGIONID</th>\n    </tr>\n  </thead>\n  <tbody>\n    <tr>\n      <th>0</th>\n      <td>2010-01-01 00:00:00</td>\n      <td>8038.00</td>\n      <td>NSW1</td>\n    </tr>\n    <tr>\n      <th>1</th>\n      <td>2010-01-01 00:30:00</td>\n      <td>7809.31</td>\n      <td>NSW1</td>\n    </tr>\n    <tr>\n      <th>2</th>\n      <td>2010-01-01 01:00:00</td>\n      <td>7483.69</td>\n      <td>NSW1</td>\n    </tr>\n    <tr>\n      <th>3</th>\n      <td>2010-01-01 01:30:00</td>\n      <td>7117.23</td>\n      <td>NSW1</td>\n    </tr>\n    <tr>\n      <th>4</th>\n      <td>2010-01-01 02:00:00</td>\n      <td>6812.03</td>\n      <td>NSW1</td>\n    </tr>\n  </tbody>\n</table>\n</div>"
     },
     "execution_count": 1153,
     "metadata": {},
     "output_type": "execute_result"
    }
   ],
   "source": [
    "nsw_totaldemand.head()"
   ],
   "metadata": {
    "collapsed": false,
    "ExecuteTime": {
     "end_time": "2024-03-14T12:40:37.049982Z",
     "start_time": "2024-03-14T12:40:37.046153Z"
    }
   },
   "id": "803af382d328c77f",
   "execution_count": 1153
  },
  {
   "cell_type": "code",
   "outputs": [
    {
     "data": {
      "text/plain": "                  DATETIME  TOTALDEMAND REGIONID\n196508 2021-03-17 22:00:00      7419.77     NSW1\n196509 2021-03-17 22:30:00      7417.91     NSW1\n196510 2021-03-17 23:00:00      7287.32     NSW1\n196511 2021-03-17 23:30:00      7172.39     NSW1\n196512 2021-03-18 00:00:00      7094.51     NSW1",
      "text/html": "<div>\n<style scoped>\n    .dataframe tbody tr th:only-of-type {\n        vertical-align: middle;\n    }\n\n    .dataframe tbody tr th {\n        vertical-align: top;\n    }\n\n    .dataframe thead th {\n        text-align: right;\n    }\n</style>\n<table border=\"1\" class=\"dataframe\">\n  <thead>\n    <tr style=\"text-align: right;\">\n      <th></th>\n      <th>DATETIME</th>\n      <th>TOTALDEMAND</th>\n      <th>REGIONID</th>\n    </tr>\n  </thead>\n  <tbody>\n    <tr>\n      <th>196508</th>\n      <td>2021-03-17 22:00:00</td>\n      <td>7419.77</td>\n      <td>NSW1</td>\n    </tr>\n    <tr>\n      <th>196509</th>\n      <td>2021-03-17 22:30:00</td>\n      <td>7417.91</td>\n      <td>NSW1</td>\n    </tr>\n    <tr>\n      <th>196510</th>\n      <td>2021-03-17 23:00:00</td>\n      <td>7287.32</td>\n      <td>NSW1</td>\n    </tr>\n    <tr>\n      <th>196511</th>\n      <td>2021-03-17 23:30:00</td>\n      <td>7172.39</td>\n      <td>NSW1</td>\n    </tr>\n    <tr>\n      <th>196512</th>\n      <td>2021-03-18 00:00:00</td>\n      <td>7094.51</td>\n      <td>NSW1</td>\n    </tr>\n  </tbody>\n</table>\n</div>"
     },
     "execution_count": 1154,
     "metadata": {},
     "output_type": "execute_result"
    }
   ],
   "source": [
    "nsw_totaldemand.tail()"
   ],
   "metadata": {
    "collapsed": false,
    "ExecuteTime": {
     "end_time": "2024-03-14T12:40:37.057408Z",
     "start_time": "2024-03-14T12:40:37.050618Z"
    }
   },
   "id": "6f28b772bf6f0e3d",
   "execution_count": 1154
  },
  {
   "cell_type": "code",
   "outputs": [
    {
     "name": "stdout",
     "output_type": "stream",
     "text": [
      "<class 'pandas.core.frame.DataFrame'>\n",
      "RangeIndex: 196513 entries, 0 to 196512\n",
      "Data columns (total 3 columns):\n",
      " #   Column       Non-Null Count   Dtype         \n",
      "---  ------       --------------   -----         \n",
      " 0   DATETIME     196513 non-null  datetime64[ns]\n",
      " 1   TOTALDEMAND  196513 non-null  float64       \n",
      " 2   REGIONID     196513 non-null  object        \n",
      "dtypes: datetime64[ns](1), float64(1), object(1)\n",
      "memory usage: 4.5+ MB\n"
     ]
    }
   ],
   "source": [
    "nsw_totaldemand.info()"
   ],
   "metadata": {
    "collapsed": false,
    "ExecuteTime": {
     "end_time": "2024-03-14T12:40:37.071753Z",
     "start_time": "2024-03-14T12:40:37.057983Z"
    }
   },
   "id": "1f4d2cfb03fb670b",
   "execution_count": 1155
  },
  {
   "cell_type": "code",
   "outputs": [
    {
     "data": {
      "text/plain": "count    196513.000000\nmean       8113.145859\nstd        1299.532774\nmin        5074.630000\n25%        7150.070000\n50%        8053.230000\n75%        8958.550000\nmax       14579.860000\nName: TOTALDEMAND, dtype: float64"
     },
     "execution_count": 1156,
     "metadata": {},
     "output_type": "execute_result"
    }
   ],
   "source": [
    "nsw_totaldemand['TOTALDEMAND'].describe()"
   ],
   "metadata": {
    "collapsed": false,
    "ExecuteTime": {
     "end_time": "2024-03-14T12:40:37.078422Z",
     "start_time": "2024-03-14T12:40:37.072249Z"
    }
   },
   "id": "22d877c31ac861d3",
   "execution_count": 1156
  },
  {
   "cell_type": "code",
   "outputs": [
    {
     "data": {
      "text/plain": "(196513, 3)"
     },
     "execution_count": 1157,
     "metadata": {},
     "output_type": "execute_result"
    }
   ],
   "source": [
    "nsw_totaldemand.shape"
   ],
   "metadata": {
    "collapsed": false,
    "ExecuteTime": {
     "end_time": "2024-03-14T12:40:37.080637Z",
     "start_time": "2024-03-14T12:40:37.078887Z"
    }
   },
   "id": "7d357c1d8c977aa2",
   "execution_count": 1157
  },
  {
   "cell_type": "code",
   "outputs": [
    {
     "data": {
      "text/plain": "DATETIME       2010-01-01 00:00:00\nTOTALDEMAND                5074.63\nREGIONID                      NSW1\ndtype: object"
     },
     "execution_count": 1158,
     "metadata": {},
     "output_type": "execute_result"
    }
   ],
   "source": [
    "nsw_totaldemand.min()"
   ],
   "metadata": {
    "collapsed": false,
    "ExecuteTime": {
     "end_time": "2024-03-14T12:40:37.092319Z",
     "start_time": "2024-03-14T12:40:37.081074Z"
    }
   },
   "id": "aa26edff9e6bcee9",
   "execution_count": 1158
  },
  {
   "cell_type": "code",
   "outputs": [
    {
     "data": {
      "text/plain": "DATETIME       2021-03-18 00:00:00\nTOTALDEMAND               14579.86\nREGIONID                      NSW1\ndtype: object"
     },
     "execution_count": 1159,
     "metadata": {},
     "output_type": "execute_result"
    }
   ],
   "source": [
    "nsw_totaldemand.max()"
   ],
   "metadata": {
    "collapsed": false,
    "ExecuteTime": {
     "end_time": "2024-03-14T12:40:37.100559Z",
     "start_time": "2024-03-14T12:40:37.092805Z"
    }
   },
   "id": "508d2afe0bd71767",
   "execution_count": 1159
  },
  {
   "cell_type": "code",
   "outputs": [
    {
     "data": {
      "text/plain": "DATETIME       0\nTOTALDEMAND    0\nREGIONID       0\ndtype: int64"
     },
     "execution_count": 1160,
     "metadata": {},
     "output_type": "execute_result"
    }
   ],
   "source": [
    "nsw_totaldemand.isnull().sum()"
   ],
   "metadata": {
    "collapsed": false,
    "ExecuteTime": {
     "end_time": "2024-03-14T12:40:37.107245Z",
     "start_time": "2024-03-14T12:40:37.101022Z"
    }
   },
   "id": "83b3c21f622d2417",
   "execution_count": 1160
  },
  {
   "cell_type": "code",
   "outputs": [
    {
     "data": {
      "text/plain": "DATETIME       0\nTOTALDEMAND    0\nREGIONID       0\ndtype: int64"
     },
     "execution_count": 1161,
     "metadata": {},
     "output_type": "execute_result"
    }
   ],
   "source": [
    "nsw_totaldemand.isna().sum()"
   ],
   "metadata": {
    "collapsed": false,
    "ExecuteTime": {
     "end_time": "2024-03-14T12:40:37.117686Z",
     "start_time": "2024-03-14T12:40:37.107703Z"
    }
   },
   "id": "46c6cf0be4a89d4c",
   "execution_count": 1161
  },
  {
   "cell_type": "code",
   "outputs": [
    {
     "data": {
      "text/plain": "DATETIME       196513\nTOTALDEMAND    160515\nREGIONID            1\ndtype: int64"
     },
     "execution_count": 1162,
     "metadata": {},
     "output_type": "execute_result"
    }
   ],
   "source": [
    "nsw_totaldemand.nunique()"
   ],
   "metadata": {
    "collapsed": false,
    "ExecuteTime": {
     "end_time": "2024-03-14T12:40:37.135317Z",
     "start_time": "2024-03-14T12:40:37.118162Z"
    }
   },
   "id": "af7e24871b188530",
   "execution_count": 1162
  },
  {
   "cell_type": "code",
   "outputs": [
    {
     "data": {
      "text/plain": "DATETIME       datetime64[ns]\nTOTALDEMAND           float64\nREGIONID               object\ndtype: object"
     },
     "execution_count": 1163,
     "metadata": {},
     "output_type": "execute_result"
    }
   ],
   "source": [
    "nsw_totaldemand.dtypes"
   ],
   "metadata": {
    "collapsed": false,
    "ExecuteTime": {
     "end_time": "2024-03-14T12:40:37.138025Z",
     "start_time": "2024-03-14T12:40:37.135801Z"
    }
   },
   "id": "87552e73732bfe1f",
   "execution_count": 1163
  }
 ],
 "metadata": {
  "kernelspec": {
   "display_name": "Python 3",
   "language": "python",
   "name": "python3"
  },
  "language_info": {
   "codemirror_mode": {
    "name": "ipython",
    "version": 2
   },
   "file_extension": ".py",
   "mimetype": "text/x-python",
   "name": "python",
   "nbconvert_exporter": "python",
   "pygments_lexer": "ipython2",
   "version": "2.7.6"
  }
 },
 "nbformat": 4,
 "nbformat_minor": 5
}
