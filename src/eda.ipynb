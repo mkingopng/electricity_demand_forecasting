{
 "cells": [
  {
   "cell_type": "code",
   "execution_count": null,
   "id": "initial_id",
   "metadata": {
    "collapsed": true
   },
   "outputs": [],
   "source": [
    "import pandas as pd\n",
    "import os"
   ]
  },
  {
   "cell_type": "code",
   "outputs": [],
   "source": [
    "data_path = './../data'"
   ],
   "metadata": {
    "collapsed": false
   },
   "id": "a2f8fff9d34b72cf",
   "execution_count": null
  },
  {
   "cell_type": "markdown",
   "source": [
    "# Table of Contents\n",
    "1. [Victoria Forecast Demand](#victoria-forecast-demand)\n",
    "2. [SA Forecast Demand](#sa-forecast-demand)\n",
    "3. [QLD Forecast Demand](#qld-forecast-demand)\n",
    "4. [QLD Temperatures](#qld-temperatures)\n",
    "5. [SA Temperatures](#sa-temperatures)\n",
    "6. [Victoria Temperature](#victoria-temperature)\n",
    "7. [QLD Total Demand](#qld-total-demand)\n",
    "8. [SA Total Demand](#sa-total-demand)\n",
    "9. [Victoria Total Demand](#victoria-total-demand)\n",
    "10. [NSW Forecast Demand](#nsw-forecast-demand)\n",
    "11. [NSW temperature](#nsw-temperature)\n",
    "12. [NSW Total Demand](#nsw-total-demand)\n"
   ],
   "metadata": {
    "collapsed": false
   },
   "id": "e89b4b94139327df"
  },
  {
   "cell_type": "markdown",
   "source": [],
   "metadata": {
    "collapsed": false
   },
   "id": "2d2de0c89e49ba19"
  },
  {
   "cell_type": "markdown",
   "source": [
    "## Victoria Forecast Demand"
   ],
   "metadata": {
    "collapsed": false
   },
   "id": "6c3f17187f74423c"
  },
  {
   "cell_type": "code",
   "outputs": [],
   "source": [
    "%%time\n",
    "vic_forecast_demand = pd.read_csv(os.path.join(data_path, 'Australia', 'a', 'forecastdemand_vic.csv'))"
   ],
   "metadata": {
    "collapsed": false
   },
   "id": "693d10134a52051d",
   "execution_count": null
  },
  {
   "cell_type": "code",
   "outputs": [],
   "source": [
    "%%time\n",
    "vic_forecast_demand.head()"
   ],
   "metadata": {
    "collapsed": false
   },
   "id": "4995830024a0bb03",
   "execution_count": null
  },
  {
   "cell_type": "code",
   "outputs": [],
   "source": [
    "%%time\n",
    "vic_forecast_demand.info()"
   ],
   "metadata": {
    "collapsed": false
   },
   "id": "994dbcc22219a50e",
   "execution_count": null
  },
  {
   "cell_type": "code",
   "outputs": [],
   "source": [
    "%%time\n",
    "vic_forecast_demand.describe()"
   ],
   "metadata": {
    "collapsed": false
   },
   "id": "f108624efb1f314e",
   "execution_count": null
  },
  {
   "cell_type": "code",
   "outputs": [],
   "source": [
    "%%time\n",
    "vic_forecast_demand.shape"
   ],
   "metadata": {
    "collapsed": false
   },
   "id": "6d5cf7f3a7110617",
   "execution_count": null
  },
  {
   "cell_type": "code",
   "outputs": [],
   "source": [
    "%%time\n",
    "vic_forecast_demand.min()"
   ],
   "metadata": {
    "collapsed": false
   },
   "id": "911135ec51ed1cec",
   "execution_count": null
  },
  {
   "cell_type": "code",
   "outputs": [],
   "source": [
    "%%time\n",
    "vic_forecast_demand.max()"
   ],
   "metadata": {
    "collapsed": false
   },
   "id": "4d29ea3ecf3d1a83",
   "execution_count": null
  },
  {
   "cell_type": "markdown",
   "source": [
    "check for nulls"
   ],
   "metadata": {
    "collapsed": false
   },
   "id": "8b736b1ec16a363"
  },
  {
   "cell_type": "code",
   "outputs": [],
   "source": [
    "%%time\n",
    "vic_forecast_demand.isnull().sum()"
   ],
   "metadata": {
    "collapsed": false
   },
   "id": "7839a3208008a160",
   "execution_count": null
  },
  {
   "cell_type": "code",
   "outputs": [],
   "source": [
    "%%time\n",
    "vic_forecast_demand.isna().sum()"
   ],
   "metadata": {
    "collapsed": false
   },
   "id": "d5d2e341feb4827b",
   "execution_count": null
  },
  {
   "cell_type": "markdown",
   "source": [
    "number of unique values"
   ],
   "metadata": {
    "collapsed": false
   },
   "id": "f78f7addd9456b13"
  },
  {
   "cell_type": "code",
   "outputs": [],
   "source": [
    "vic_forecast_demand.nunique()"
   ],
   "metadata": {
    "collapsed": false
   },
   "id": "79810cf215c482db",
   "execution_count": null
  },
  {
   "cell_type": "markdown",
   "source": [
    "check for regular intervals"
   ],
   "metadata": {
    "collapsed": false
   },
   "id": "34de60dacd1c7ab5"
  },
  {
   "cell_type": "markdown",
   "source": [
    "checking timestamps"
   ],
   "metadata": {
    "collapsed": false
   },
   "id": "d9e5a12dabd58905"
  },
  {
   "cell_type": "markdown",
   "source": [
    "visual inspection"
   ],
   "metadata": {
    "collapsed": false
   },
   "id": "47a28caa78a668b4"
  },
  {
   "cell_type": "markdown",
   "source": [
    "check data types & do required conversions"
   ],
   "metadata": {
    "collapsed": false
   },
   "id": "87a5a4235bd05d51"
  },
  {
   "cell_type": "markdown",
   "source": [
    "check time stamps"
   ],
   "metadata": {
    "collapsed": false
   },
   "id": "13a853dbf7d11e36"
  },
  {
   "cell_type": "markdown",
   "source": [
    "## SA Forecast Demand"
   ],
   "metadata": {
    "collapsed": false
   },
   "id": "75a633fdee928fc0"
  },
  {
   "cell_type": "code",
   "outputs": [],
   "source": [
    "%%time\n",
    "sa_forecast_demand = pd.read_csv(os.path.join(data_path, 'Australia', 'b', 'forecastdemand_sa.csv'))"
   ],
   "metadata": {
    "collapsed": false
   },
   "id": "5dafe7e46f0e5720",
   "execution_count": null
  },
  {
   "cell_type": "code",
   "outputs": [],
   "source": [
    "%%time\n",
    "sa_forecast_demand.head()"
   ],
   "metadata": {
    "collapsed": false
   },
   "id": "85ca104fc5687f92",
   "execution_count": null
  },
  {
   "cell_type": "code",
   "outputs": [],
   "source": [
    "%%time\n",
    "sa_forecast_demand.tail()"
   ],
   "metadata": {
    "collapsed": false
   },
   "id": "82cfaf848949ad11",
   "execution_count": null
  },
  {
   "cell_type": "code",
   "outputs": [],
   "source": [
    "%%time\n",
    "sa_forecast_demand.info()"
   ],
   "metadata": {
    "collapsed": false
   },
   "id": "f46b251f40c7f959",
   "execution_count": null
  },
  {
   "cell_type": "code",
   "outputs": [],
   "source": [
    "%%time\n",
    "sa_forecast_demand.describe()"
   ],
   "metadata": {
    "collapsed": false
   },
   "id": "6d7d573982c5f7ee",
   "execution_count": null
  },
  {
   "cell_type": "code",
   "outputs": [],
   "source": [
    "%%time\n",
    "sa_forecast_demand.shape"
   ],
   "metadata": {
    "collapsed": false
   },
   "id": "a9621125501dad6c",
   "execution_count": null
  },
  {
   "cell_type": "code",
   "outputs": [],
   "source": [
    "%%time\n",
    "sa_forecast_demand.min()"
   ],
   "metadata": {
    "collapsed": false
   },
   "id": "1b789fc675407f28",
   "execution_count": null
  },
  {
   "cell_type": "code",
   "outputs": [],
   "source": [
    "%%time\n",
    "sa_forecast_demand.max()"
   ],
   "metadata": {
    "collapsed": false
   },
   "id": "bd8c91af09352ce2",
   "execution_count": null
  },
  {
   "cell_type": "code",
   "outputs": [],
   "source": [
    "%%time\n",
    "sa_forecast_demand.isnull().sum()"
   ],
   "metadata": {
    "collapsed": false
   },
   "id": "32a94037ea4c4bf",
   "execution_count": null
  },
  {
   "cell_type": "code",
   "outputs": [],
   "source": [
    "%%time\n",
    "sa_forecast_demand.isna().sum()"
   ],
   "metadata": {
    "collapsed": false
   },
   "id": "a0d0f50327313aec",
   "execution_count": null
  },
  {
   "cell_type": "code",
   "outputs": [],
   "source": [
    "%%time\n",
    "sa_forecast_demand.nunique()"
   ],
   "metadata": {
    "collapsed": false
   },
   "id": "9748f6b66eb19498",
   "execution_count": null
  },
  {
   "cell_type": "code",
   "outputs": [],
   "source": [
    "sa_forecast_demand.dtypes"
   ],
   "metadata": {
    "collapsed": false
   },
   "id": "352e4d105874fb02",
   "execution_count": null
  },
  {
   "cell_type": "markdown",
   "source": [
    "## QLD Forecast Demand"
   ],
   "metadata": {
    "collapsed": false
   },
   "id": "bc959cebfeff5380"
  },
  {
   "cell_type": "code",
   "outputs": [],
   "source": [
    "qld_forecast_demand = pd.read_csv(os.path.join(data_path, 'Australia', 'c', 'forecastdemand_qld.csv'))"
   ],
   "metadata": {
    "collapsed": false
   },
   "id": "45c6da34745864fc",
   "execution_count": null
  },
  {
   "cell_type": "code",
   "outputs": [],
   "source": [
    "qld_forecast_demand.head()"
   ],
   "metadata": {
    "collapsed": false
   },
   "id": "ec887d9cbaaf9b1e",
   "execution_count": null
  },
  {
   "cell_type": "code",
   "outputs": [],
   "source": [
    "qld_forecast_demand.tail()"
   ],
   "metadata": {
    "collapsed": false
   },
   "id": "555e731cc7d0668a",
   "execution_count": null
  },
  {
   "cell_type": "code",
   "outputs": [],
   "source": [
    "qld_forecast_demand.info()"
   ],
   "metadata": {
    "collapsed": false
   },
   "id": "6d1346901554c9bc",
   "execution_count": null
  },
  {
   "cell_type": "code",
   "outputs": [],
   "source": [
    "qld_forecast_demand.describe()"
   ],
   "metadata": {
    "collapsed": false
   },
   "id": "c8b1c9b67a4aa423",
   "execution_count": null
  },
  {
   "cell_type": "code",
   "outputs": [],
   "source": [
    "qld_forecast_demand.shape"
   ],
   "metadata": {
    "collapsed": false
   },
   "id": "6044c5437ea3e726",
   "execution_count": null
  },
  {
   "cell_type": "code",
   "outputs": [],
   "source": [
    "qld_forecast_demand.min()"
   ],
   "metadata": {
    "collapsed": false
   },
   "id": "2ad2681fd7190a8b",
   "execution_count": null
  },
  {
   "cell_type": "code",
   "outputs": [],
   "source": [
    "qld_forecast_demand.max()"
   ],
   "metadata": {
    "collapsed": false
   },
   "id": "6a9243f189b698e7",
   "execution_count": null
  },
  {
   "cell_type": "code",
   "outputs": [],
   "source": [
    "qld_forecast_demand.isnull().sum()"
   ],
   "metadata": {
    "collapsed": false
   },
   "id": "4ce8c077206d6d4d",
   "execution_count": null
  },
  {
   "cell_type": "code",
   "outputs": [],
   "source": [
    "qld_forecast_demand.isna().sum()"
   ],
   "metadata": {
    "collapsed": false
   },
   "id": "39ccb862a2e09f72",
   "execution_count": null
  },
  {
   "cell_type": "code",
   "outputs": [],
   "source": [
    "qld_forecast_demand.nunique()"
   ],
   "metadata": {
    "collapsed": false
   },
   "id": "27cb70ae8ce11144",
   "execution_count": null
  },
  {
   "cell_type": "code",
   "outputs": [],
   "source": [
    "qld_forecast_demand.dtypes"
   ],
   "metadata": {
    "collapsed": false
   },
   "id": "e4c6d2370c875841",
   "execution_count": null
  },
  {
   "cell_type": "markdown",
   "source": [
    "## QLD Temperatures"
   ],
   "metadata": {
    "collapsed": false
   },
   "id": "15aa2a5e27b420d"
  },
  {
   "cell_type": "code",
   "outputs": [],
   "source": [
    "qld_temperature = pd.read_csv(os.path.join(data_path, 'Australia', 'd', 'temprature_qld.csv'))"
   ],
   "metadata": {
    "collapsed": false
   },
   "id": "eb5ba8fcecb3681f",
   "execution_count": null
  },
  {
   "cell_type": "code",
   "outputs": [],
   "source": [
    "qld_temperature.head()"
   ],
   "metadata": {
    "collapsed": false
   },
   "id": "43c7ea242169d3c7",
   "execution_count": null
  },
  {
   "cell_type": "code",
   "outputs": [],
   "source": [
    "qld_temperature.tail()"
   ],
   "metadata": {
    "collapsed": false
   },
   "id": "5bbc4e4094ed4fdf",
   "execution_count": null
  },
  {
   "cell_type": "code",
   "outputs": [],
   "source": [
    "qld_temperature.info()"
   ],
   "metadata": {
    "collapsed": false
   },
   "id": "2f60f67eccf0b1a8",
   "execution_count": null
  },
  {
   "cell_type": "code",
   "outputs": [],
   "source": [
    "qld_temperature.describe()"
   ],
   "metadata": {
    "collapsed": false
   },
   "id": "3375c6ba50ac06dd",
   "execution_count": null
  },
  {
   "cell_type": "code",
   "outputs": [],
   "source": [
    "qld_temperature.shape"
   ],
   "metadata": {
    "collapsed": false
   },
   "id": "b87e0dae797c3c02",
   "execution_count": null
  },
  {
   "cell_type": "code",
   "outputs": [],
   "source": [
    "qld_temperature.min()"
   ],
   "metadata": {
    "collapsed": false
   },
   "id": "f7bc8ed0cf367ac0",
   "execution_count": null
  },
  {
   "cell_type": "code",
   "outputs": [],
   "source": [
    "qld_temperature.max()"
   ],
   "metadata": {
    "collapsed": false
   },
   "id": "2e51f02c3f3acc0e",
   "execution_count": null
  },
  {
   "cell_type": "code",
   "outputs": [],
   "source": [
    "qld_temperature.isnull().sum()"
   ],
   "metadata": {
    "collapsed": false
   },
   "id": "e16bd8d0bf8a28bb",
   "execution_count": null
  },
  {
   "cell_type": "code",
   "outputs": [],
   "source": [
    "qld_temperature.isna().sum()"
   ],
   "metadata": {
    "collapsed": false
   },
   "id": "fcf3f580efc05d21",
   "execution_count": null
  },
  {
   "cell_type": "code",
   "outputs": [],
   "source": [
    "qld_temperature.nunique()"
   ],
   "metadata": {
    "collapsed": false
   },
   "id": "edf3a3620ab853f9",
   "execution_count": null
  },
  {
   "cell_type": "code",
   "outputs": [],
   "source": [
    "qld_temperature.dtypes"
   ],
   "metadata": {
    "collapsed": false
   },
   "id": "2085d8400f4c6f42",
   "execution_count": null
  },
  {
   "cell_type": "markdown",
   "source": [
    "## SA Temperatures"
   ],
   "metadata": {
    "collapsed": false
   },
   "id": "842327a6d18ecea9"
  },
  {
   "cell_type": "code",
   "outputs": [],
   "source": [
    "sa_temperature = pd.read_csv(os.path.join(data_path, 'Australia', 'd', 'temprature_sa.csv'))"
   ],
   "metadata": {
    "collapsed": false
   },
   "id": "fa25c091d839b212",
   "execution_count": null
  },
  {
   "cell_type": "code",
   "outputs": [],
   "source": [
    "sa_temperature.head()"
   ],
   "metadata": {
    "collapsed": false
   },
   "id": "3b7632fe88ea525a",
   "execution_count": null
  },
  {
   "cell_type": "code",
   "outputs": [],
   "source": [
    "sa_temperature.tail()"
   ],
   "metadata": {
    "collapsed": false
   },
   "id": "79b6bf38812fad04",
   "execution_count": null
  },
  {
   "cell_type": "code",
   "outputs": [],
   "source": [
    "sa_temperature.info()"
   ],
   "metadata": {
    "collapsed": false
   },
   "id": "101d8f64763b0821",
   "execution_count": null
  },
  {
   "cell_type": "code",
   "outputs": [],
   "source": [
    "sa_temperature.describe()"
   ],
   "metadata": {
    "collapsed": false
   },
   "id": "db818fa9f0103061",
   "execution_count": null
  },
  {
   "cell_type": "code",
   "outputs": [],
   "source": [
    "sa_temperature.shape"
   ],
   "metadata": {
    "collapsed": false
   },
   "id": "d06abbfb86da04f1",
   "execution_count": null
  },
  {
   "cell_type": "code",
   "outputs": [],
   "source": [
    "sa_temperature.min()"
   ],
   "metadata": {
    "collapsed": false
   },
   "id": "b5b62b4631d3a57",
   "execution_count": null
  },
  {
   "cell_type": "code",
   "outputs": [],
   "source": [
    "sa_temperature.max()"
   ],
   "metadata": {
    "collapsed": false
   },
   "id": "cd1225b419a53d81",
   "execution_count": null
  },
  {
   "cell_type": "code",
   "outputs": [],
   "source": [
    "sa_temperature.isnull().sum()"
   ],
   "metadata": {
    "collapsed": false
   },
   "id": "bd9e0cf7ac3f2d6e",
   "execution_count": null
  },
  {
   "cell_type": "code",
   "outputs": [],
   "source": [
    "sa_temperature.isna().sum()"
   ],
   "metadata": {
    "collapsed": false
   },
   "id": "7ccd7affccb4c900",
   "execution_count": null
  },
  {
   "cell_type": "code",
   "outputs": [],
   "source": [
    "sa_temperature.nunique()"
   ],
   "metadata": {
    "collapsed": false
   },
   "id": "bf2bfb0e59e80941",
   "execution_count": null
  },
  {
   "cell_type": "code",
   "outputs": [],
   "source": [
    "sa_temperature.dtypes"
   ],
   "metadata": {
    "collapsed": false
   },
   "id": "258e3608509aeee8",
   "execution_count": null
  },
  {
   "cell_type": "markdown",
   "source": [
    "## Victoria Temperature"
   ],
   "metadata": {
    "collapsed": false
   },
   "id": "4b6a0150c78d5dcf"
  },
  {
   "cell_type": "code",
   "outputs": [],
   "source": [
    "vic_temperature = pd.read_csv(os.path.join(data_path, 'Australia', 'd', 'temprature_vic.csv'))"
   ],
   "metadata": {
    "collapsed": false
   },
   "id": "de740b5c40b6d60b",
   "execution_count": null
  },
  {
   "cell_type": "code",
   "outputs": [],
   "source": [
    "vic_temperature.head()"
   ],
   "metadata": {
    "collapsed": false
   },
   "id": "70c891e186020566",
   "execution_count": null
  },
  {
   "cell_type": "code",
   "outputs": [],
   "source": [
    "vic_temperature.tail()"
   ],
   "metadata": {
    "collapsed": false
   },
   "id": "cad113d642a23bd4",
   "execution_count": null
  },
  {
   "cell_type": "code",
   "outputs": [],
   "source": [
    "vic_temperature.info()"
   ],
   "metadata": {
    "collapsed": false
   },
   "id": "35e447770d8fee3c",
   "execution_count": null
  },
  {
   "cell_type": "code",
   "outputs": [],
   "source": [
    "vic_temperature.describe()"
   ],
   "metadata": {
    "collapsed": false
   },
   "id": "4b34f60260060330",
   "execution_count": null
  },
  {
   "cell_type": "code",
   "outputs": [],
   "source": [
    "vic_temperature.shape"
   ],
   "metadata": {
    "collapsed": false
   },
   "id": "b0fef9283d61fba8",
   "execution_count": null
  },
  {
   "cell_type": "code",
   "outputs": [],
   "source": [
    "vic_temperature.min()"
   ],
   "metadata": {
    "collapsed": false
   },
   "id": "2f703d39d6aebe82",
   "execution_count": null
  },
  {
   "cell_type": "code",
   "outputs": [],
   "source": [
    "vic_temperature.max()"
   ],
   "metadata": {
    "collapsed": false
   },
   "id": "e6f3c616c9851906",
   "execution_count": null
  },
  {
   "cell_type": "code",
   "outputs": [],
   "source": [
    "vic_temperature.isnull().sum()"
   ],
   "metadata": {
    "collapsed": false
   },
   "id": "9a6a87d9bc367223",
   "execution_count": null
  },
  {
   "cell_type": "code",
   "outputs": [],
   "source": [
    "vic_temperature.isna().sum()"
   ],
   "metadata": {
    "collapsed": false
   },
   "id": "22b22a29aa039bc0",
   "execution_count": null
  },
  {
   "cell_type": "code",
   "outputs": [],
   "source": [
    "vic_temperature.nunique()"
   ],
   "metadata": {
    "collapsed": false
   },
   "id": "d6cc129d2837af82",
   "execution_count": null
  },
  {
   "cell_type": "code",
   "outputs": [],
   "source": [
    "vic_temperature.dtypes"
   ],
   "metadata": {
    "collapsed": false
   },
   "id": "99cc85a417da565c",
   "execution_count": null
  },
  {
   "cell_type": "markdown",
   "source": [
    "## QLD Total Demand"
   ],
   "metadata": {
    "collapsed": false
   },
   "id": "f20d638f38e23992"
  },
  {
   "cell_type": "code",
   "outputs": [],
   "source": [
    "qld_totaldemand = pd.read_csv(os.path.join(data_path, 'Australia', 'd', 'totaldemand_qld.csv'))"
   ],
   "metadata": {
    "collapsed": false
   },
   "id": "bf47836f1c34ec11",
   "execution_count": null
  },
  {
   "cell_type": "code",
   "outputs": [],
   "source": [
    "qld_totaldemand.head()"
   ],
   "metadata": {
    "collapsed": false
   },
   "id": "2d741356595a9191",
   "execution_count": null
  },
  {
   "cell_type": "code",
   "outputs": [],
   "source": [
    "qld_totaldemand.tail()"
   ],
   "metadata": {
    "collapsed": false
   },
   "id": "52e89422d6050c4b",
   "execution_count": null
  },
  {
   "cell_type": "code",
   "outputs": [],
   "source": [
    "qld_totaldemand.info()"
   ],
   "metadata": {
    "collapsed": false
   },
   "id": "86afe48fd55ccdc",
   "execution_count": null
  },
  {
   "cell_type": "code",
   "outputs": [],
   "source": [
    "qld_totaldemand.describe()"
   ],
   "metadata": {
    "collapsed": false
   },
   "id": "c6fddd6f866f5ca1",
   "execution_count": null
  },
  {
   "cell_type": "code",
   "outputs": [],
   "source": [
    "qld_totaldemand.shape"
   ],
   "metadata": {
    "collapsed": false
   },
   "id": "f95f761b73b3653b",
   "execution_count": null
  },
  {
   "cell_type": "code",
   "outputs": [],
   "source": [
    "qld_totaldemand.min()"
   ],
   "metadata": {
    "collapsed": false
   },
   "id": "271ff63c6d26c3e5",
   "execution_count": null
  },
  {
   "cell_type": "code",
   "outputs": [],
   "source": [
    "qld_totaldemand.max()"
   ],
   "metadata": {
    "collapsed": false
   },
   "id": "6152177e0f02b07c",
   "execution_count": null
  },
  {
   "cell_type": "code",
   "outputs": [],
   "source": [
    "qld_totaldemand.isnull().sum()"
   ],
   "metadata": {
    "collapsed": false
   },
   "id": "c7b39e151f95c7df",
   "execution_count": null
  },
  {
   "cell_type": "code",
   "outputs": [],
   "source": [
    "qld_totaldemand.isna().sum()"
   ],
   "metadata": {
    "collapsed": false
   },
   "id": "d671939c1db5c31d",
   "execution_count": null
  },
  {
   "cell_type": "code",
   "outputs": [],
   "source": [
    "qld_totaldemand.nunique()"
   ],
   "metadata": {
    "collapsed": false
   },
   "id": "3ebd9e1551d5d033",
   "execution_count": null
  },
  {
   "cell_type": "code",
   "outputs": [],
   "source": [
    "qld_totaldemand.dtypes"
   ],
   "metadata": {
    "collapsed": false
   },
   "id": "7e9929b26f76ec45",
   "execution_count": null
  },
  {
   "cell_type": "markdown",
   "source": [
    "## SA Total Demand"
   ],
   "metadata": {
    "collapsed": false
   },
   "id": "aa04570f6bad42f3"
  },
  {
   "cell_type": "code",
   "outputs": [],
   "source": [
    "sa_totaldemand = pd.read_csv(os.path.join(data_path, 'Australia', 'd', 'totaldemand_sa.csv'))"
   ],
   "metadata": {
    "collapsed": false
   },
   "id": "809033d96c1e868",
   "execution_count": null
  },
  {
   "cell_type": "code",
   "outputs": [],
   "source": [
    "sa_totaldemand.head()"
   ],
   "metadata": {
    "collapsed": false
   },
   "id": "7972e25dc1e7d0b1",
   "execution_count": null
  },
  {
   "cell_type": "code",
   "outputs": [],
   "source": [
    "sa_totaldemand.tail()"
   ],
   "metadata": {
    "collapsed": false
   },
   "id": "f37386c9159737b",
   "execution_count": null
  },
  {
   "cell_type": "code",
   "outputs": [],
   "source": [
    "sa_totaldemand.info()"
   ],
   "metadata": {
    "collapsed": false
   },
   "id": "92be34c822d062bd",
   "execution_count": null
  },
  {
   "cell_type": "code",
   "outputs": [],
   "source": [
    "sa_totaldemand.describe()"
   ],
   "metadata": {
    "collapsed": false
   },
   "id": "49968faa5518d3a5",
   "execution_count": null
  },
  {
   "cell_type": "code",
   "outputs": [],
   "source": [
    "sa_totaldemand.shape"
   ],
   "metadata": {
    "collapsed": false
   },
   "id": "6c01eebb7dd52c62",
   "execution_count": null
  },
  {
   "cell_type": "code",
   "outputs": [],
   "source": [
    "sa_totaldemand.min()"
   ],
   "metadata": {
    "collapsed": false
   },
   "id": "10daa7f0389295c0",
   "execution_count": null
  },
  {
   "cell_type": "code",
   "outputs": [],
   "source": [
    "sa_totaldemand.max()"
   ],
   "metadata": {
    "collapsed": false
   },
   "id": "282a3d9e2e47d14a",
   "execution_count": null
  },
  {
   "cell_type": "code",
   "outputs": [],
   "source": [
    "sa_totaldemand.isnull().sum()"
   ],
   "metadata": {
    "collapsed": false
   },
   "id": "5053d71deeb557ad",
   "execution_count": null
  },
  {
   "cell_type": "code",
   "outputs": [],
   "source": [
    "sa_totaldemand.isna().sum()"
   ],
   "metadata": {
    "collapsed": false
   },
   "id": "78254dea96713374",
   "execution_count": null
  },
  {
   "cell_type": "code",
   "outputs": [],
   "source": [
    "sa_totaldemand.nunique()"
   ],
   "metadata": {
    "collapsed": false
   },
   "id": "dc5b2683235183fd",
   "execution_count": null
  },
  {
   "cell_type": "code",
   "outputs": [],
   "source": [
    "sa_totaldemand.dtypes"
   ],
   "metadata": {
    "collapsed": false
   },
   "id": "36bbae2be871d283",
   "execution_count": null
  },
  {
   "cell_type": "markdown",
   "source": [
    "## Victoria Total Demand"
   ],
   "metadata": {
    "collapsed": false
   },
   "id": "a72f68529954d5ca"
  },
  {
   "cell_type": "code",
   "outputs": [],
   "source": [
    "vic_total_demand = pd.read_csv(os.path.join(data_path, 'Australia', 'd', 'totaldemand_vic.csv'))"
   ],
   "metadata": {
    "collapsed": false
   },
   "id": "8071b62d4914e9d6",
   "execution_count": null
  },
  {
   "cell_type": "code",
   "outputs": [],
   "source": [
    "vic_total_demand.head()"
   ],
   "metadata": {
    "collapsed": false
   },
   "id": "da49618bfec487ab",
   "execution_count": null
  },
  {
   "cell_type": "code",
   "outputs": [],
   "source": [
    "vic_total_demand.tail()"
   ],
   "metadata": {
    "collapsed": false
   },
   "id": "d69248191cecbfbc",
   "execution_count": null
  },
  {
   "cell_type": "code",
   "outputs": [],
   "source": [
    "vic_total_demand.info()"
   ],
   "metadata": {
    "collapsed": false
   },
   "id": "fc45a989ca613566",
   "execution_count": null
  },
  {
   "cell_type": "code",
   "outputs": [],
   "source": [
    "vic_total_demand.describe()"
   ],
   "metadata": {
    "collapsed": false
   },
   "id": "acf59b1aeb79a169",
   "execution_count": null
  },
  {
   "cell_type": "code",
   "outputs": [],
   "source": [
    "vic_total_demand.shape"
   ],
   "metadata": {
    "collapsed": false
   },
   "id": "56e70d520d1db9c6",
   "execution_count": null
  },
  {
   "cell_type": "code",
   "outputs": [],
   "source": [
    "vic_total_demand.min()"
   ],
   "metadata": {
    "collapsed": false
   },
   "id": "bef5da5a832a7f8f",
   "execution_count": null
  },
  {
   "cell_type": "code",
   "outputs": [],
   "source": [
    "vic_total_demand.max()"
   ],
   "metadata": {
    "collapsed": false
   },
   "id": "430c7e53c6fb48dc",
   "execution_count": null
  },
  {
   "cell_type": "code",
   "outputs": [],
   "source": [
    "vic_total_demand.isnull().sum()"
   ],
   "metadata": {
    "collapsed": false
   },
   "id": "fba0584917acccde",
   "execution_count": null
  },
  {
   "cell_type": "code",
   "outputs": [],
   "source": [
    "vic_total_demand.isna().sum()"
   ],
   "metadata": {
    "collapsed": false
   },
   "id": "1421e5afd11229be",
   "execution_count": null
  },
  {
   "cell_type": "code",
   "outputs": [],
   "source": [
    "vic_total_demand.nunique()"
   ],
   "metadata": {
    "collapsed": false
   },
   "id": "eb42249510174393",
   "execution_count": null
  },
  {
   "cell_type": "code",
   "outputs": [],
   "source": [
    "vic_total_demand.dtypes"
   ],
   "metadata": {
    "collapsed": false
   },
   "id": "d590818ef2a976b8",
   "execution_count": null
  },
  {
   "cell_type": "markdown",
   "source": [
    "## NSW Forecast Demand"
   ],
   "metadata": {
    "collapsed": false
   },
   "id": "4d5cf7f80f9c834c"
  },
  {
   "cell_type": "code",
   "outputs": [],
   "source": [
    "nsw_forecastdemand = pd.read_csv(os.path.join(data_path, 'NSW', 'forecastdemand_nsw.csv'))"
   ],
   "metadata": {
    "collapsed": false
   },
   "id": "714fb3f4bd4e097d",
   "execution_count": null
  },
  {
   "cell_type": "code",
   "outputs": [],
   "source": [
    "nsw_forecastdemand.head()"
   ],
   "metadata": {
    "collapsed": false
   },
   "id": "738cf2feb7fe6ef4",
   "execution_count": null
  },
  {
   "cell_type": "code",
   "outputs": [],
   "source": [
    "nsw_forecastdemand.tail()"
   ],
   "metadata": {
    "collapsed": false
   },
   "id": "95d4b96b1b0a636e",
   "execution_count": null
  },
  {
   "cell_type": "code",
   "outputs": [],
   "source": [
    "nsw_forecastdemand.info()"
   ],
   "metadata": {
    "collapsed": false
   },
   "id": "807338f77241801a",
   "execution_count": null
  },
  {
   "cell_type": "code",
   "outputs": [],
   "source": [
    "nsw_forecastdemand.describe()"
   ],
   "metadata": {
    "collapsed": false
   },
   "id": "230b5e85ede77e40",
   "execution_count": null
  },
  {
   "cell_type": "code",
   "outputs": [],
   "source": [
    "nsw_forecastdemand.shape"
   ],
   "metadata": {
    "collapsed": false
   },
   "id": "ed0a7020b50243f4",
   "execution_count": null
  },
  {
   "cell_type": "code",
   "outputs": [],
   "source": [
    "nsw_forecastdemand.min()"
   ],
   "metadata": {
    "collapsed": false
   },
   "id": "38c1071e18c36e9f",
   "execution_count": null
  },
  {
   "cell_type": "code",
   "outputs": [],
   "source": [
    "nsw_forecastdemand.max()"
   ],
   "metadata": {
    "collapsed": false
   },
   "id": "5c9358fe34f093f4",
   "execution_count": null
  },
  {
   "cell_type": "code",
   "outputs": [],
   "source": [
    "nsw_forecastdemand.isnull().sum()"
   ],
   "metadata": {
    "collapsed": false
   },
   "id": "14ff921264c8f66f",
   "execution_count": null
  },
  {
   "cell_type": "code",
   "outputs": [],
   "source": [
    "nsw_forecastdemand.isna().sum()"
   ],
   "metadata": {
    "collapsed": false
   },
   "id": "55011353fab20d65",
   "execution_count": null
  },
  {
   "cell_type": "code",
   "outputs": [],
   "source": [
    "nsw_forecastdemand.nunique()"
   ],
   "metadata": {
    "collapsed": false
   },
   "id": "a296e9a8690f05",
   "execution_count": null
  },
  {
   "cell_type": "code",
   "outputs": [],
   "source": [
    "nsw_forecastdemand.dtypes"
   ],
   "metadata": {
    "collapsed": false
   },
   "id": "76336b1a517dbc8f",
   "execution_count": null
  },
  {
   "cell_type": "markdown",
   "source": [
    "## NSW temperature"
   ],
   "metadata": {
    "collapsed": false
   },
   "id": "99d38818860ccd38"
  },
  {
   "cell_type": "code",
   "outputs": [],
   "source": [
    "nsw_temperature = pd.read_csv(os.path.join(data_path, 'NSW', 'temperature_nsw.csv'))"
   ],
   "metadata": {
    "collapsed": false
   },
   "id": "b598cb193002a8d4",
   "execution_count": null
  },
  {
   "cell_type": "code",
   "outputs": [],
   "source": [
    "nsw_temperature.head()"
   ],
   "metadata": {
    "collapsed": false
   },
   "id": "8db601dfe413b494",
   "execution_count": null
  },
  {
   "cell_type": "code",
   "outputs": [],
   "source": [
    "nsw_temperature.tail()"
   ],
   "metadata": {
    "collapsed": false
   },
   "id": "f393b5cbde7f1e18",
   "execution_count": null
  },
  {
   "cell_type": "code",
   "outputs": [],
   "source": [
    "nsw_temperature.info()"
   ],
   "metadata": {
    "collapsed": false
   },
   "id": "613af6013635909e",
   "execution_count": null
  },
  {
   "cell_type": "code",
   "outputs": [],
   "source": [
    "nsw_temperature.describe()"
   ],
   "metadata": {
    "collapsed": false
   },
   "id": "464f7f1c4f6b349e",
   "execution_count": null
  },
  {
   "cell_type": "code",
   "outputs": [],
   "source": [
    "nsw_temperature.shape"
   ],
   "metadata": {
    "collapsed": false
   },
   "id": "c3acba3c6c3c2afa",
   "execution_count": null
  },
  {
   "cell_type": "code",
   "outputs": [],
   "source": [
    "nsw_temperature.min()"
   ],
   "metadata": {
    "collapsed": false
   },
   "id": "1eec95181ac5e7cb",
   "execution_count": null
  },
  {
   "cell_type": "code",
   "outputs": [],
   "source": [
    "nsw_temperature.max()"
   ],
   "metadata": {
    "collapsed": false
   },
   "id": "795cc9ceb73a1c33",
   "execution_count": null
  },
  {
   "cell_type": "code",
   "outputs": [],
   "source": [
    "nsw_temperature.isnull().sum()"
   ],
   "metadata": {
    "collapsed": false
   },
   "id": "b12a917928cc5bb",
   "execution_count": null
  },
  {
   "cell_type": "code",
   "outputs": [],
   "source": [
    "nsw_temperature.isna().sum()"
   ],
   "metadata": {
    "collapsed": false
   },
   "id": "3a052dc37be7b9da",
   "execution_count": null
  },
  {
   "cell_type": "code",
   "outputs": [],
   "source": [
    "nsw_temperature.nunique()"
   ],
   "metadata": {
    "collapsed": false
   },
   "id": "940aa95937db4361",
   "execution_count": null
  },
  {
   "cell_type": "code",
   "outputs": [],
   "source": [
    "nsw_temperature.dtypes"
   ],
   "metadata": {
    "collapsed": false
   },
   "id": "f2e044ccaec071e7",
   "execution_count": null
  },
  {
   "cell_type": "markdown",
   "source": [
    "## NSW Total Demand"
   ],
   "metadata": {
    "collapsed": false
   },
   "id": "fddeec55bae13a78"
  },
  {
   "cell_type": "code",
   "outputs": [],
   "source": [
    "nsw_totaldemand = pd.read_csv(os.path.join(data_path, 'NSW', 'totaldemand_nsw.csv'))"
   ],
   "metadata": {
    "collapsed": false
   },
   "id": "520c0d5a18b723db",
   "execution_count": null
  },
  {
   "cell_type": "code",
   "outputs": [],
   "source": [
    "nsw_totaldemand.head()"
   ],
   "metadata": {
    "collapsed": false
   },
   "id": "803af382d328c77f",
   "execution_count": null
  },
  {
   "cell_type": "code",
   "outputs": [],
   "source": [
    "nsw_totaldemand.tail()"
   ],
   "metadata": {
    "collapsed": false
   },
   "id": "6f28b772bf6f0e3d",
   "execution_count": null
  },
  {
   "cell_type": "code",
   "outputs": [],
   "source": [
    "nsw_totaldemand.info()"
   ],
   "metadata": {
    "collapsed": false
   },
   "id": "1f4d2cfb03fb670b",
   "execution_count": null
  },
  {
   "cell_type": "code",
   "outputs": [],
   "source": [
    "nsw_totaldemand.describe()"
   ],
   "metadata": {
    "collapsed": false
   },
   "id": "22d877c31ac861d3",
   "execution_count": null
  },
  {
   "cell_type": "code",
   "outputs": [],
   "source": [
    "nsw_totaldemand.shape"
   ],
   "metadata": {
    "collapsed": false
   },
   "id": "7d357c1d8c977aa2",
   "execution_count": null
  },
  {
   "cell_type": "code",
   "outputs": [],
   "source": [
    "nsw_totaldemand.min()"
   ],
   "metadata": {
    "collapsed": false
   },
   "id": "aa26edff9e6bcee9",
   "execution_count": null
  },
  {
   "cell_type": "code",
   "outputs": [],
   "source": [
    "nsw_totaldemand.max()"
   ],
   "metadata": {
    "collapsed": false
   },
   "id": "508d2afe0bd71767",
   "execution_count": null
  },
  {
   "cell_type": "code",
   "outputs": [],
   "source": [
    "nsw_totaldemand.isnull().sum()"
   ],
   "metadata": {
    "collapsed": false
   },
   "id": "83b3c21f622d2417",
   "execution_count": null
  },
  {
   "cell_type": "code",
   "outputs": [],
   "source": [
    "nsw_totaldemand.isna().sum()"
   ],
   "metadata": {
    "collapsed": false
   },
   "id": "46c6cf0be4a89d4c",
   "execution_count": null
  },
  {
   "cell_type": "code",
   "outputs": [],
   "source": [
    "nsw_totaldemand.nunique()"
   ],
   "metadata": {
    "collapsed": false
   },
   "id": "af7e24871b188530",
   "execution_count": null
  },
  {
   "cell_type": "code",
   "outputs": [],
   "source": [
    "nsw_totaldemand.dtypes"
   ],
   "metadata": {
    "collapsed": false
   },
   "id": "87552e73732bfe1f",
   "execution_count": null
  }
 ],
 "metadata": {
  "kernelspec": {
   "display_name": "Python 3",
   "language": "python",
   "name": "python3"
  },
  "language_info": {
   "codemirror_mode": {
    "name": "ipython",
    "version": 2
   },
   "file_extension": ".py",
   "mimetype": "text/x-python",
   "name": "python",
   "nbconvert_exporter": "python",
   "pygments_lexer": "ipython2",
   "version": "2.7.6"
  }
 },
 "nbformat": 4,
 "nbformat_minor": 5
}
