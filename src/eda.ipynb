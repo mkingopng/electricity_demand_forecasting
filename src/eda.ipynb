{
 "cells": [
  {
   "cell_type": "code",
   "execution_count": 1,
   "id": "initial_id",
   "metadata": {
    "collapsed": true,
    "ExecuteTime": {
     "end_time": "2024-03-21T12:37:43.899052Z",
     "start_time": "2024-03-21T12:37:43.498340Z"
    }
   },
   "outputs": [],
   "source": [
    "import pandas as pd\n",
    "import os"
   ]
  },
  {
   "cell_type": "code",
   "outputs": [],
   "source": [
    "data_path = './../data'"
   ],
   "metadata": {
    "collapsed": false,
    "ExecuteTime": {
     "end_time": "2024-03-21T12:37:43.901584Z",
     "start_time": "2024-03-21T12:37:43.899934Z"
    }
   },
   "id": "a2f8fff9d34b72cf",
   "execution_count": 2
  },
  {
   "cell_type": "markdown",
   "source": [
    "# Table of Contents\n",
    "1. [Victoria Forecast Demand](#1)\n",
    "2. [SA Forecast Demand](#2)\n",
    "3. [QLD Forecast Demand](#3)\n",
    "4. [QLD Temperatures](#4)\n",
    "5. [SA Temperatures](#5)\n",
    "6. [Victoria Temperature](#6)\n",
    "7. [QLD Total Demand](#qld-total-demand)\n",
    "8. [SA Total Demand](#sa-total-demand)\n",
    "9. [Victoria Total Demand](#victoria-total-demand)\n",
    "10. [NSW Forecast Demand](#nsw-forecast-demand)\n",
    "11. [NSW temperature](#nsw-temperature)\n",
    "12. [NSW Total Demand](#nsw-total-demand)\n"
   ],
   "metadata": {
    "collapsed": false
   },
   "id": "e89b4b94139327df"
  },
  {
   "cell_type": "markdown",
   "source": [],
   "metadata": {
    "collapsed": false
   },
   "id": "2d2de0c89e49ba19"
  },
  {
   "cell_type": "markdown",
   "source": [
    "<a id=\"1\"></a>\n",
    "## Victoria Forecast Demand"
   ],
   "metadata": {
    "collapsed": false
   },
   "id": "6c3f17187f74423c"
  },
  {
   "cell_type": "code",
   "outputs": [
    {
     "name": "stdout",
     "output_type": "stream",
     "text": [
      "CPU times: user 2.01 s, sys: 286 ms, total: 2.3 s\n",
      "Wall time: 2.5 s\n"
     ]
    }
   ],
   "source": [
    "%%time\n",
    "vic_forecast_demand = pd.read_csv(os.path.join(data_path, 'Australia', 'a', 'forecastdemand_vic.csv'), parse_dates=['LASTCHANGED', 'DATETIME'])"
   ],
   "metadata": {
    "collapsed": false,
    "ExecuteTime": {
     "end_time": "2024-03-21T12:37:46.413189Z",
     "start_time": "2024-03-21T12:37:43.902147Z"
    }
   },
   "id": "693d10134a52051d",
   "execution_count": 3
  },
  {
   "cell_type": "code",
   "outputs": [
    {
     "name": "stdout",
     "output_type": "stream",
     "text": [
      "CPU times: user 137 µs, sys: 0 ns, total: 137 µs\n",
      "Wall time: 141 µs\n"
     ]
    },
    {
     "data": {
      "text/plain": "   PREDISPATCHSEQNO REGIONID  PERIODID  FORECASTDEMAND         LASTCHANGED  \\\n0        2016123018     VIC1        71         4160.74 2016-12-30 12:31:25   \n1        2016123018     VIC1        72         3999.64 2016-12-30 12:31:25   \n2        2016123018     VIC1        73         3836.30 2016-12-30 12:31:25   \n3        2016123018     VIC1        74         3681.87 2016-12-30 12:31:25   \n4        2016123018     VIC1        75         3457.38 2016-12-30 12:31:25   \n\n             DATETIME  \n0 2017-01-01 00:00:00  \n1 2017-01-01 00:30:00  \n2 2017-01-01 01:00:00  \n3 2017-01-01 01:30:00  \n4 2017-01-01 02:00:00  ",
      "text/html": "<div>\n<style scoped>\n    .dataframe tbody tr th:only-of-type {\n        vertical-align: middle;\n    }\n\n    .dataframe tbody tr th {\n        vertical-align: top;\n    }\n\n    .dataframe thead th {\n        text-align: right;\n    }\n</style>\n<table border=\"1\" class=\"dataframe\">\n  <thead>\n    <tr style=\"text-align: right;\">\n      <th></th>\n      <th>PREDISPATCHSEQNO</th>\n      <th>REGIONID</th>\n      <th>PERIODID</th>\n      <th>FORECASTDEMAND</th>\n      <th>LASTCHANGED</th>\n      <th>DATETIME</th>\n    </tr>\n  </thead>\n  <tbody>\n    <tr>\n      <th>0</th>\n      <td>2016123018</td>\n      <td>VIC1</td>\n      <td>71</td>\n      <td>4160.74</td>\n      <td>2016-12-30 12:31:25</td>\n      <td>2017-01-01 00:00:00</td>\n    </tr>\n    <tr>\n      <th>1</th>\n      <td>2016123018</td>\n      <td>VIC1</td>\n      <td>72</td>\n      <td>3999.64</td>\n      <td>2016-12-30 12:31:25</td>\n      <td>2017-01-01 00:30:00</td>\n    </tr>\n    <tr>\n      <th>2</th>\n      <td>2016123018</td>\n      <td>VIC1</td>\n      <td>73</td>\n      <td>3836.30</td>\n      <td>2016-12-30 12:31:25</td>\n      <td>2017-01-01 01:00:00</td>\n    </tr>\n    <tr>\n      <th>3</th>\n      <td>2016123018</td>\n      <td>VIC1</td>\n      <td>74</td>\n      <td>3681.87</td>\n      <td>2016-12-30 12:31:25</td>\n      <td>2017-01-01 01:30:00</td>\n    </tr>\n    <tr>\n      <th>4</th>\n      <td>2016123018</td>\n      <td>VIC1</td>\n      <td>75</td>\n      <td>3457.38</td>\n      <td>2016-12-30 12:31:25</td>\n      <td>2017-01-01 02:00:00</td>\n    </tr>\n  </tbody>\n</table>\n</div>"
     },
     "execution_count": 4,
     "metadata": {},
     "output_type": "execute_result"
    }
   ],
   "source": [
    "%%time\n",
    "vic_forecast_demand.head()"
   ],
   "metadata": {
    "collapsed": false,
    "ExecuteTime": {
     "end_time": "2024-03-21T12:37:46.449142Z",
     "start_time": "2024-03-21T12:37:46.414457Z"
    }
   },
   "id": "4995830024a0bb03",
   "execution_count": 4
  },
  {
   "cell_type": "code",
   "outputs": [
    {
     "name": "stdout",
     "output_type": "stream",
     "text": [
      "<class 'pandas.core.frame.DataFrame'>\n",
      "RangeIndex: 4095592 entries, 0 to 4095591\n",
      "Data columns (total 6 columns):\n",
      " #   Column            Dtype         \n",
      "---  ------            -----         \n",
      " 0   PREDISPATCHSEQNO  int64         \n",
      " 1   REGIONID          object        \n",
      " 2   PERIODID          int64         \n",
      " 3   FORECASTDEMAND    float64       \n",
      " 4   LASTCHANGED       datetime64[ns]\n",
      " 5   DATETIME          datetime64[ns]\n",
      "dtypes: datetime64[ns](2), float64(1), int64(2), object(1)\n",
      "memory usage: 187.5+ MB\n",
      "CPU times: user 0 ns, sys: 3.41 ms, total: 3.41 ms\n",
      "Wall time: 3.65 ms\n"
     ]
    }
   ],
   "source": [
    "%%time\n",
    "vic_forecast_demand.info()"
   ],
   "metadata": {
    "collapsed": false,
    "ExecuteTime": {
     "end_time": "2024-03-21T12:37:46.458575Z",
     "start_time": "2024-03-21T12:37:46.449711Z"
    }
   },
   "id": "994dbcc22219a50e",
   "execution_count": 5
  },
  {
   "cell_type": "code",
   "outputs": [
    {
     "name": "stdout",
     "output_type": "stream",
     "text": [
      "CPU times: user 72.8 ms, sys: 0 ns, total: 72.8 ms\n",
      "Wall time: 74.6 ms\n"
     ]
    },
    {
     "data": {
      "text/plain": "count    4.095592e+06\nmean     4.862913e+03\nstd      8.704415e+02\nmin      2.354240e+03\n25%      4.213920e+03\n50%      4.749945e+03\n75%      5.383632e+03\nmax      9.738030e+03\nName: FORECASTDEMAND, dtype: float64"
     },
     "execution_count": 6,
     "metadata": {},
     "output_type": "execute_result"
    }
   ],
   "source": [
    "%%time\n",
    "vic_forecast_demand['FORECASTDEMAND'].describe()"
   ],
   "metadata": {
    "collapsed": false,
    "ExecuteTime": {
     "end_time": "2024-03-21T12:37:46.550339Z",
     "start_time": "2024-03-21T12:37:46.459331Z"
    }
   },
   "id": "f108624efb1f314e",
   "execution_count": 6
  },
  {
   "cell_type": "code",
   "outputs": [
    {
     "name": "stdout",
     "output_type": "stream",
     "text": [
      "CPU times: user 8 µs, sys: 0 ns, total: 8 µs\n",
      "Wall time: 10 µs\n"
     ]
    },
    {
     "data": {
      "text/plain": "(4095592, 6)"
     },
     "execution_count": 7,
     "metadata": {},
     "output_type": "execute_result"
    }
   ],
   "source": [
    "%%time\n",
    "vic_forecast_demand.shape"
   ],
   "metadata": {
    "collapsed": false,
    "ExecuteTime": {
     "end_time": "2024-03-21T12:37:46.553405Z",
     "start_time": "2024-03-21T12:37:46.550938Z"
    }
   },
   "id": "6d5cf7f3a7110617",
   "execution_count": 7
  },
  {
   "cell_type": "code",
   "outputs": [
    {
     "name": "stdout",
     "output_type": "stream",
     "text": [
      "CPU times: user 134 ms, sys: 0 ns, total: 134 ms\n",
      "Wall time: 133 ms\n"
     ]
    },
    {
     "data": {
      "text/plain": "PREDISPATCHSEQNO             2016123018\nREGIONID                           VIC1\nPERIODID                              1\nFORECASTDEMAND                  2354.24\nLASTCHANGED         2016-12-30 12:31:25\nDATETIME            2017-01-01 00:00:00\ndtype: object"
     },
     "execution_count": 8,
     "metadata": {},
     "output_type": "execute_result"
    }
   ],
   "source": [
    "%%time\n",
    "vic_forecast_demand.min()"
   ],
   "metadata": {
    "collapsed": false,
    "ExecuteTime": {
     "end_time": "2024-03-21T12:37:46.695031Z",
     "start_time": "2024-03-21T12:37:46.553935Z"
    }
   },
   "id": "911135ec51ed1cec",
   "execution_count": 8
  },
  {
   "cell_type": "code",
   "outputs": [
    {
     "name": "stdout",
     "output_type": "stream",
     "text": [
      "CPU times: user 132 ms, sys: 0 ns, total: 132 ms\n",
      "Wall time: 132 ms\n"
     ]
    },
    {
     "data": {
      "text/plain": "PREDISPATCHSEQNO             2021031740\nREGIONID                           VIC1\nPERIODID                             79\nFORECASTDEMAND                  9738.03\nLASTCHANGED         2021-03-17 23:31:33\nDATETIME            2021-03-19 04:00:00\ndtype: object"
     },
     "execution_count": 9,
     "metadata": {},
     "output_type": "execute_result"
    }
   ],
   "source": [
    "%%time\n",
    "vic_forecast_demand.max()"
   ],
   "metadata": {
    "collapsed": false,
    "ExecuteTime": {
     "end_time": "2024-03-21T12:37:46.830136Z",
     "start_time": "2024-03-21T12:37:46.695651Z"
    }
   },
   "id": "4d29ea3ecf3d1a83",
   "execution_count": 9
  },
  {
   "cell_type": "markdown",
   "source": [
    "check for nulls"
   ],
   "metadata": {
    "collapsed": false
   },
   "id": "8b736b1ec16a363"
  },
  {
   "cell_type": "code",
   "outputs": [
    {
     "name": "stdout",
     "output_type": "stream",
     "text": [
      "CPU times: user 90 ms, sys: 0 ns, total: 90 ms\n",
      "Wall time: 89.1 ms\n"
     ]
    },
    {
     "data": {
      "text/plain": "PREDISPATCHSEQNO    0\nREGIONID            0\nPERIODID            0\nFORECASTDEMAND      0\nLASTCHANGED         0\nDATETIME            0\ndtype: int64"
     },
     "execution_count": 10,
     "metadata": {},
     "output_type": "execute_result"
    }
   ],
   "source": [
    "%%time\n",
    "vic_forecast_demand.isnull().sum()"
   ],
   "metadata": {
    "collapsed": false,
    "ExecuteTime": {
     "end_time": "2024-03-21T12:37:46.923468Z",
     "start_time": "2024-03-21T12:37:46.831498Z"
    }
   },
   "id": "7839a3208008a160",
   "execution_count": 10
  },
  {
   "cell_type": "code",
   "outputs": [
    {
     "name": "stdout",
     "output_type": "stream",
     "text": [
      "CPU times: user 89.6 ms, sys: 0 ns, total: 89.6 ms\n",
      "Wall time: 88.6 ms\n"
     ]
    },
    {
     "data": {
      "text/plain": "PREDISPATCHSEQNO    0\nREGIONID            0\nPERIODID            0\nFORECASTDEMAND      0\nLASTCHANGED         0\nDATETIME            0\ndtype: int64"
     },
     "execution_count": 11,
     "metadata": {},
     "output_type": "execute_result"
    }
   ],
   "source": [
    "%%time\n",
    "vic_forecast_demand.isna().sum()"
   ],
   "metadata": {
    "collapsed": false,
    "ExecuteTime": {
     "end_time": "2024-03-21T12:37:47.015549Z",
     "start_time": "2024-03-21T12:37:46.924123Z"
    }
   },
   "id": "d5d2e341feb4827b",
   "execution_count": 11
  },
  {
   "cell_type": "markdown",
   "source": [
    "number of unique values"
   ],
   "metadata": {
    "collapsed": false
   },
   "id": "f78f7addd9456b13"
  },
  {
   "cell_type": "code",
   "outputs": [
    {
     "data": {
      "text/plain": "PREDISPATCHSEQNO     73836\nREGIONID                 1\nPERIODID                79\nFORECASTDEMAND      430091\nLASTCHANGED          73836\nDATETIME             73833\ndtype: int64"
     },
     "execution_count": 12,
     "metadata": {},
     "output_type": "execute_result"
    }
   ],
   "source": [
    "vic_forecast_demand.nunique()"
   ],
   "metadata": {
    "collapsed": false,
    "ExecuteTime": {
     "end_time": "2024-03-21T12:37:47.215830Z",
     "start_time": "2024-03-21T12:37:47.016197Z"
    }
   },
   "id": "79810cf215c482db",
   "execution_count": 12
  },
  {
   "cell_type": "markdown",
   "source": [
    "check for regular intervals"
   ],
   "metadata": {
    "collapsed": false
   },
   "id": "34de60dacd1c7ab5"
  },
  {
   "cell_type": "markdown",
   "source": [
    "checking timestamps"
   ],
   "metadata": {
    "collapsed": false
   },
   "id": "d9e5a12dabd58905"
  },
  {
   "cell_type": "markdown",
   "source": [
    "visual inspection"
   ],
   "metadata": {
    "collapsed": false
   },
   "id": "47a28caa78a668b4"
  },
  {
   "cell_type": "markdown",
   "source": [
    "check data types & do required conversions"
   ],
   "metadata": {
    "collapsed": false
   },
   "id": "87a5a4235bd05d51"
  },
  {
   "cell_type": "markdown",
   "source": [
    "check time stamps"
   ],
   "metadata": {
    "collapsed": false
   },
   "id": "13a853dbf7d11e36"
  },
  {
   "cell_type": "markdown",
   "source": [
    "<a id=\"2\"></a>\n",
    "## SA Forecast Demand"
   ],
   "metadata": {
    "collapsed": false
   },
   "id": "75a633fdee928fc0"
  },
  {
   "cell_type": "code",
   "outputs": [
    {
     "name": "stdout",
     "output_type": "stream",
     "text": [
      "CPU times: user 1.98 s, sys: 223 ms, total: 2.2 s\n",
      "Wall time: 2.54 s\n"
     ]
    }
   ],
   "source": [
    "%%time\n",
    "sa_forecast_demand = pd.read_csv(os.path.join(data_path, 'Australia', 'b', 'forecastdemand_sa.csv'), parse_dates=['LASTCHANGED', 'DATETIME'])"
   ],
   "metadata": {
    "collapsed": false,
    "ExecuteTime": {
     "end_time": "2024-03-21T12:37:49.759017Z",
     "start_time": "2024-03-21T12:37:47.216449Z"
    }
   },
   "id": "5dafe7e46f0e5720",
   "execution_count": 13
  },
  {
   "cell_type": "code",
   "outputs": [
    {
     "name": "stdout",
     "output_type": "stream",
     "text": [
      "CPU times: user 77 µs, sys: 38 µs, total: 115 µs\n",
      "Wall time: 104 µs\n"
     ]
    },
    {
     "data": {
      "text/plain": "   PREDISPATCHSEQNO REGIONID  PERIODID  FORECASTDEMAND         LASTCHANGED  \\\n0        2016123018      SA1        71         1394.41 2016-12-30 12:31:25   \n1        2016123018      SA1        72         1285.07 2016-12-30 12:31:25   \n2        2016123018      SA1        73         1221.70 2016-12-30 12:31:25   \n3        2016123018      SA1        74         1141.86 2016-12-30 12:31:25   \n4        2016123018      SA1        75         1087.78 2016-12-30 12:31:25   \n\n             DATETIME  \n0 2017-01-01 00:00:00  \n1 2017-01-01 00:30:00  \n2 2017-01-01 01:00:00  \n3 2017-01-01 01:30:00  \n4 2017-01-01 02:00:00  ",
      "text/html": "<div>\n<style scoped>\n    .dataframe tbody tr th:only-of-type {\n        vertical-align: middle;\n    }\n\n    .dataframe tbody tr th {\n        vertical-align: top;\n    }\n\n    .dataframe thead th {\n        text-align: right;\n    }\n</style>\n<table border=\"1\" class=\"dataframe\">\n  <thead>\n    <tr style=\"text-align: right;\">\n      <th></th>\n      <th>PREDISPATCHSEQNO</th>\n      <th>REGIONID</th>\n      <th>PERIODID</th>\n      <th>FORECASTDEMAND</th>\n      <th>LASTCHANGED</th>\n      <th>DATETIME</th>\n    </tr>\n  </thead>\n  <tbody>\n    <tr>\n      <th>0</th>\n      <td>2016123018</td>\n      <td>SA1</td>\n      <td>71</td>\n      <td>1394.41</td>\n      <td>2016-12-30 12:31:25</td>\n      <td>2017-01-01 00:00:00</td>\n    </tr>\n    <tr>\n      <th>1</th>\n      <td>2016123018</td>\n      <td>SA1</td>\n      <td>72</td>\n      <td>1285.07</td>\n      <td>2016-12-30 12:31:25</td>\n      <td>2017-01-01 00:30:00</td>\n    </tr>\n    <tr>\n      <th>2</th>\n      <td>2016123018</td>\n      <td>SA1</td>\n      <td>73</td>\n      <td>1221.70</td>\n      <td>2016-12-30 12:31:25</td>\n      <td>2017-01-01 01:00:00</td>\n    </tr>\n    <tr>\n      <th>3</th>\n      <td>2016123018</td>\n      <td>SA1</td>\n      <td>74</td>\n      <td>1141.86</td>\n      <td>2016-12-30 12:31:25</td>\n      <td>2017-01-01 01:30:00</td>\n    </tr>\n    <tr>\n      <th>4</th>\n      <td>2016123018</td>\n      <td>SA1</td>\n      <td>75</td>\n      <td>1087.78</td>\n      <td>2016-12-30 12:31:25</td>\n      <td>2017-01-01 02:00:00</td>\n    </tr>\n  </tbody>\n</table>\n</div>"
     },
     "execution_count": 14,
     "metadata": {},
     "output_type": "execute_result"
    }
   ],
   "source": [
    "%%time\n",
    "sa_forecast_demand.head()"
   ],
   "metadata": {
    "collapsed": false,
    "ExecuteTime": {
     "end_time": "2024-03-21T12:37:49.764609Z",
     "start_time": "2024-03-21T12:37:49.759767Z"
    }
   },
   "id": "85ca104fc5687f92",
   "execution_count": 14
  },
  {
   "cell_type": "code",
   "outputs": [
    {
     "name": "stdout",
     "output_type": "stream",
     "text": [
      "CPU times: user 72 µs, sys: 35 µs, total: 107 µs\n",
      "Wall time: 102 µs\n"
     ]
    },
    {
     "data": {
      "text/plain": "         PREDISPATCHSEQNO REGIONID  PERIODID  FORECASTDEMAND  \\\n4095587        2021031740      SA1        53         1228.07   \n4095588        2021031740      SA1        54         1208.17   \n4095589        2021031740      SA1        55         1199.27   \n4095590        2021031740      SA1        56         1194.31   \n4095591        2021031740      SA1        57         1190.41   \n\n                LASTCHANGED            DATETIME  \n4095587 2021-03-17 23:31:33 2021-03-19 02:00:00  \n4095588 2021-03-17 23:31:33 2021-03-19 02:30:00  \n4095589 2021-03-17 23:31:33 2021-03-19 03:00:00  \n4095590 2021-03-17 23:31:33 2021-03-19 03:30:00  \n4095591 2021-03-17 23:31:33 2021-03-19 04:00:00  ",
      "text/html": "<div>\n<style scoped>\n    .dataframe tbody tr th:only-of-type {\n        vertical-align: middle;\n    }\n\n    .dataframe tbody tr th {\n        vertical-align: top;\n    }\n\n    .dataframe thead th {\n        text-align: right;\n    }\n</style>\n<table border=\"1\" class=\"dataframe\">\n  <thead>\n    <tr style=\"text-align: right;\">\n      <th></th>\n      <th>PREDISPATCHSEQNO</th>\n      <th>REGIONID</th>\n      <th>PERIODID</th>\n      <th>FORECASTDEMAND</th>\n      <th>LASTCHANGED</th>\n      <th>DATETIME</th>\n    </tr>\n  </thead>\n  <tbody>\n    <tr>\n      <th>4095587</th>\n      <td>2021031740</td>\n      <td>SA1</td>\n      <td>53</td>\n      <td>1228.07</td>\n      <td>2021-03-17 23:31:33</td>\n      <td>2021-03-19 02:00:00</td>\n    </tr>\n    <tr>\n      <th>4095588</th>\n      <td>2021031740</td>\n      <td>SA1</td>\n      <td>54</td>\n      <td>1208.17</td>\n      <td>2021-03-17 23:31:33</td>\n      <td>2021-03-19 02:30:00</td>\n    </tr>\n    <tr>\n      <th>4095589</th>\n      <td>2021031740</td>\n      <td>SA1</td>\n      <td>55</td>\n      <td>1199.27</td>\n      <td>2021-03-17 23:31:33</td>\n      <td>2021-03-19 03:00:00</td>\n    </tr>\n    <tr>\n      <th>4095590</th>\n      <td>2021031740</td>\n      <td>SA1</td>\n      <td>56</td>\n      <td>1194.31</td>\n      <td>2021-03-17 23:31:33</td>\n      <td>2021-03-19 03:30:00</td>\n    </tr>\n    <tr>\n      <th>4095591</th>\n      <td>2021031740</td>\n      <td>SA1</td>\n      <td>57</td>\n      <td>1190.41</td>\n      <td>2021-03-17 23:31:33</td>\n      <td>2021-03-19 04:00:00</td>\n    </tr>\n  </tbody>\n</table>\n</div>"
     },
     "execution_count": 15,
     "metadata": {},
     "output_type": "execute_result"
    }
   ],
   "source": [
    "%%time\n",
    "sa_forecast_demand.tail()"
   ],
   "metadata": {
    "collapsed": false,
    "ExecuteTime": {
     "end_time": "2024-03-21T12:37:49.852383Z",
     "start_time": "2024-03-21T12:37:49.765193Z"
    }
   },
   "id": "82cfaf848949ad11",
   "execution_count": 15
  },
  {
   "cell_type": "code",
   "outputs": [
    {
     "name": "stdout",
     "output_type": "stream",
     "text": [
      "<class 'pandas.core.frame.DataFrame'>\n",
      "RangeIndex: 4095592 entries, 0 to 4095591\n",
      "Data columns (total 6 columns):\n",
      " #   Column            Dtype         \n",
      "---  ------            -----         \n",
      " 0   PREDISPATCHSEQNO  int64         \n",
      " 1   REGIONID          object        \n",
      " 2   PERIODID          int64         \n",
      " 3   FORECASTDEMAND    float64       \n",
      " 4   LASTCHANGED       datetime64[ns]\n",
      " 5   DATETIME          datetime64[ns]\n",
      "dtypes: datetime64[ns](2), float64(1), int64(2), object(1)\n",
      "memory usage: 187.5+ MB\n",
      "CPU times: user 1.36 ms, sys: 661 µs, total: 2.02 ms\n",
      "Wall time: 1.91 ms\n"
     ]
    }
   ],
   "source": [
    "%%time\n",
    "sa_forecast_demand.info()"
   ],
   "metadata": {
    "collapsed": false,
    "ExecuteTime": {
     "end_time": "2024-03-21T12:37:49.864363Z",
     "start_time": "2024-03-21T12:37:49.853049Z"
    }
   },
   "id": "f46b251f40c7f959",
   "execution_count": 16
  },
  {
   "cell_type": "code",
   "outputs": [
    {
     "name": "stdout",
     "output_type": "stream",
     "text": [
      "CPU times: user 76.7 ms, sys: 145 µs, total: 76.8 ms\n",
      "Wall time: 76.3 ms\n"
     ]
    },
    {
     "data": {
      "text/plain": "count    4.095592e+06\nmean     1.299720e+03\nstd      3.293395e+02\nmin      1.198300e+02\n25%      1.103100e+03\n50%      1.269130e+03\n75%      1.463940e+03\nmax      3.161750e+03\nName: FORECASTDEMAND, dtype: float64"
     },
     "execution_count": 17,
     "metadata": {},
     "output_type": "execute_result"
    }
   ],
   "source": [
    "%%time\n",
    "sa_forecast_demand['FORECASTDEMAND'].describe()"
   ],
   "metadata": {
    "collapsed": false,
    "ExecuteTime": {
     "end_time": "2024-03-21T12:37:49.954716Z",
     "start_time": "2024-03-21T12:37:49.865046Z"
    }
   },
   "id": "6d7d573982c5f7ee",
   "execution_count": 17
  },
  {
   "cell_type": "code",
   "outputs": [
    {
     "name": "stdout",
     "output_type": "stream",
     "text": [
      "CPU times: user 10 µs, sys: 0 ns, total: 10 µs\n",
      "Wall time: 11.9 µs\n"
     ]
    },
    {
     "data": {
      "text/plain": "(4095592, 6)"
     },
     "execution_count": 18,
     "metadata": {},
     "output_type": "execute_result"
    }
   ],
   "source": [
    "%%time\n",
    "sa_forecast_demand.shape"
   ],
   "metadata": {
    "collapsed": false,
    "ExecuteTime": {
     "end_time": "2024-03-21T12:37:49.958143Z",
     "start_time": "2024-03-21T12:37:49.955383Z"
    }
   },
   "id": "a9621125501dad6c",
   "execution_count": 18
  },
  {
   "cell_type": "code",
   "outputs": [
    {
     "name": "stdout",
     "output_type": "stream",
     "text": [
      "CPU times: user 131 ms, sys: 3.4 ms, total: 135 ms\n",
      "Wall time: 134 ms\n"
     ]
    },
    {
     "data": {
      "text/plain": "PREDISPATCHSEQNO             2016123018\nREGIONID                            SA1\nPERIODID                              1\nFORECASTDEMAND                   119.83\nLASTCHANGED         2016-12-30 12:31:25\nDATETIME            2017-01-01 00:00:00\ndtype: object"
     },
     "execution_count": 19,
     "metadata": {},
     "output_type": "execute_result"
    }
   ],
   "source": [
    "%%time\n",
    "sa_forecast_demand.min()"
   ],
   "metadata": {
    "collapsed": false,
    "ExecuteTime": {
     "end_time": "2024-03-21T12:37:50.104311Z",
     "start_time": "2024-03-21T12:37:49.958848Z"
    }
   },
   "id": "1b789fc675407f28",
   "execution_count": 19
  },
  {
   "cell_type": "code",
   "outputs": [
    {
     "name": "stdout",
     "output_type": "stream",
     "text": [
      "CPU times: user 133 ms, sys: 0 ns, total: 133 ms\n",
      "Wall time: 132 ms\n"
     ]
    },
    {
     "data": {
      "text/plain": "PREDISPATCHSEQNO             2021031740\nREGIONID                            SA1\nPERIODID                             79\nFORECASTDEMAND                  3161.75\nLASTCHANGED         2021-03-17 23:31:33\nDATETIME            2021-03-19 04:00:00\ndtype: object"
     },
     "execution_count": 20,
     "metadata": {},
     "output_type": "execute_result"
    }
   ],
   "source": [
    "%%time\n",
    "sa_forecast_demand.max()"
   ],
   "metadata": {
    "collapsed": false,
    "ExecuteTime": {
     "end_time": "2024-03-21T12:37:50.240389Z",
     "start_time": "2024-03-21T12:37:50.104924Z"
    }
   },
   "id": "bd8c91af09352ce2",
   "execution_count": 20
  },
  {
   "cell_type": "code",
   "outputs": [
    {
     "name": "stdout",
     "output_type": "stream",
     "text": [
      "CPU times: user 89.9 ms, sys: 0 ns, total: 89.9 ms\n",
      "Wall time: 88.9 ms\n"
     ]
    },
    {
     "data": {
      "text/plain": "PREDISPATCHSEQNO    0\nREGIONID            0\nPERIODID            0\nFORECASTDEMAND      0\nLASTCHANGED         0\nDATETIME            0\ndtype: int64"
     },
     "execution_count": 21,
     "metadata": {},
     "output_type": "execute_result"
    }
   ],
   "source": [
    "%%time\n",
    "sa_forecast_demand.isnull().sum()"
   ],
   "metadata": {
    "collapsed": false,
    "ExecuteTime": {
     "end_time": "2024-03-21T12:37:50.332761Z",
     "start_time": "2024-03-21T12:37:50.241036Z"
    }
   },
   "id": "32a94037ea4c4bf",
   "execution_count": 21
  },
  {
   "cell_type": "code",
   "outputs": [
    {
     "name": "stdout",
     "output_type": "stream",
     "text": [
      "CPU times: user 89.3 ms, sys: 0 ns, total: 89.3 ms\n",
      "Wall time: 88.1 ms\n"
     ]
    },
    {
     "data": {
      "text/plain": "PREDISPATCHSEQNO    0\nREGIONID            0\nPERIODID            0\nFORECASTDEMAND      0\nLASTCHANGED         0\nDATETIME            0\ndtype: int64"
     },
     "execution_count": 22,
     "metadata": {},
     "output_type": "execute_result"
    }
   ],
   "source": [
    "%%time\n",
    "sa_forecast_demand.isna().sum()"
   ],
   "metadata": {
    "collapsed": false,
    "ExecuteTime": {
     "end_time": "2024-03-21T12:37:50.424463Z",
     "start_time": "2024-03-21T12:37:50.333410Z"
    }
   },
   "id": "a0d0f50327313aec",
   "execution_count": 22
  },
  {
   "cell_type": "code",
   "outputs": [
    {
     "name": "stdout",
     "output_type": "stream",
     "text": [
      "CPU times: user 183 ms, sys: 0 ns, total: 183 ms\n",
      "Wall time: 182 ms\n"
     ]
    },
    {
     "data": {
      "text/plain": "PREDISPATCHSEQNO     73836\nREGIONID                 1\nPERIODID                79\nFORECASTDEMAND      215933\nLASTCHANGED          73836\nDATETIME             73833\ndtype: int64"
     },
     "execution_count": 23,
     "metadata": {},
     "output_type": "execute_result"
    }
   ],
   "source": [
    "%%time\n",
    "sa_forecast_demand.nunique()"
   ],
   "metadata": {
    "collapsed": false,
    "ExecuteTime": {
     "end_time": "2024-03-21T12:37:50.610296Z",
     "start_time": "2024-03-21T12:37:50.425118Z"
    }
   },
   "id": "9748f6b66eb19498",
   "execution_count": 23
  },
  {
   "cell_type": "code",
   "outputs": [
    {
     "data": {
      "text/plain": "PREDISPATCHSEQNO             int64\nREGIONID                    object\nPERIODID                     int64\nFORECASTDEMAND             float64\nLASTCHANGED         datetime64[ns]\nDATETIME            datetime64[ns]\ndtype: object"
     },
     "execution_count": 24,
     "metadata": {},
     "output_type": "execute_result"
    }
   ],
   "source": [
    "sa_forecast_demand.dtypes"
   ],
   "metadata": {
    "collapsed": false,
    "ExecuteTime": {
     "end_time": "2024-03-21T12:37:50.613929Z",
     "start_time": "2024-03-21T12:37:50.611037Z"
    }
   },
   "id": "352e4d105874fb02",
   "execution_count": 24
  },
  {
   "cell_type": "markdown",
   "source": [
    "<a id=\"3\"></a>\n",
    "## QLD Forecast Demand"
   ],
   "metadata": {
    "collapsed": false
   },
   "id": "bc959cebfeff5380"
  },
  {
   "cell_type": "code",
   "outputs": [],
   "source": [
    "qld_forecast_demand = pd.read_csv(os.path.join(data_path, 'Australia', 'c', 'forecastdemand_qld.csv'), parse_dates=['LASTCHANGED', 'DATETIME'])"
   ],
   "metadata": {
    "collapsed": false,
    "ExecuteTime": {
     "end_time": "2024-03-21T12:37:53.083685Z",
     "start_time": "2024-03-21T12:37:50.614539Z"
    }
   },
   "id": "45c6da34745864fc",
   "execution_count": 25
  },
  {
   "cell_type": "code",
   "outputs": [
    {
     "data": {
      "text/plain": "   PREDISPATCHSEQNO REGIONID  PERIODID  FORECASTDEMAND         LASTCHANGED  \\\n0        2016123018     QLD1        71         6425.36 2016-12-30 12:31:25   \n1        2016123018     QLD1        72         6193.34 2016-12-30 12:31:25   \n2        2016123018     QLD1        73         6016.45 2016-12-30 12:31:25   \n3        2016123018     QLD1        74         5859.23 2016-12-30 12:31:25   \n4        2016123018     QLD1        75         5767.15 2016-12-30 12:31:25   \n\n             DATETIME  \n0 2017-01-01 00:00:00  \n1 2017-01-01 00:30:00  \n2 2017-01-01 01:00:00  \n3 2017-01-01 01:30:00  \n4 2017-01-01 02:00:00  ",
      "text/html": "<div>\n<style scoped>\n    .dataframe tbody tr th:only-of-type {\n        vertical-align: middle;\n    }\n\n    .dataframe tbody tr th {\n        vertical-align: top;\n    }\n\n    .dataframe thead th {\n        text-align: right;\n    }\n</style>\n<table border=\"1\" class=\"dataframe\">\n  <thead>\n    <tr style=\"text-align: right;\">\n      <th></th>\n      <th>PREDISPATCHSEQNO</th>\n      <th>REGIONID</th>\n      <th>PERIODID</th>\n      <th>FORECASTDEMAND</th>\n      <th>LASTCHANGED</th>\n      <th>DATETIME</th>\n    </tr>\n  </thead>\n  <tbody>\n    <tr>\n      <th>0</th>\n      <td>2016123018</td>\n      <td>QLD1</td>\n      <td>71</td>\n      <td>6425.36</td>\n      <td>2016-12-30 12:31:25</td>\n      <td>2017-01-01 00:00:00</td>\n    </tr>\n    <tr>\n      <th>1</th>\n      <td>2016123018</td>\n      <td>QLD1</td>\n      <td>72</td>\n      <td>6193.34</td>\n      <td>2016-12-30 12:31:25</td>\n      <td>2017-01-01 00:30:00</td>\n    </tr>\n    <tr>\n      <th>2</th>\n      <td>2016123018</td>\n      <td>QLD1</td>\n      <td>73</td>\n      <td>6016.45</td>\n      <td>2016-12-30 12:31:25</td>\n      <td>2017-01-01 01:00:00</td>\n    </tr>\n    <tr>\n      <th>3</th>\n      <td>2016123018</td>\n      <td>QLD1</td>\n      <td>74</td>\n      <td>5859.23</td>\n      <td>2016-12-30 12:31:25</td>\n      <td>2017-01-01 01:30:00</td>\n    </tr>\n    <tr>\n      <th>4</th>\n      <td>2016123018</td>\n      <td>QLD1</td>\n      <td>75</td>\n      <td>5767.15</td>\n      <td>2016-12-30 12:31:25</td>\n      <td>2017-01-01 02:00:00</td>\n    </tr>\n  </tbody>\n</table>\n</div>"
     },
     "execution_count": 26,
     "metadata": {},
     "output_type": "execute_result"
    }
   ],
   "source": [
    "qld_forecast_demand.head()"
   ],
   "metadata": {
    "collapsed": false,
    "ExecuteTime": {
     "end_time": "2024-03-21T12:37:53.088780Z",
     "start_time": "2024-03-21T12:37:53.084497Z"
    }
   },
   "id": "ec887d9cbaaf9b1e",
   "execution_count": 26
  },
  {
   "cell_type": "code",
   "outputs": [
    {
     "data": {
      "text/plain": "         PREDISPATCHSEQNO REGIONID  PERIODID  FORECASTDEMAND  \\\n4095587        2021031740     QLD1        53         5600.29   \n4095588        2021031740     QLD1        54         5570.50   \n4095589        2021031740     QLD1        55         5549.37   \n4095590        2021031740     QLD1        56         5545.07   \n4095591        2021031740     QLD1        57         5564.29   \n\n                LASTCHANGED            DATETIME  \n4095587 2021-03-17 23:31:33 2021-03-19 02:00:00  \n4095588 2021-03-17 23:31:33 2021-03-19 02:30:00  \n4095589 2021-03-17 23:31:33 2021-03-19 03:00:00  \n4095590 2021-03-17 23:31:33 2021-03-19 03:30:00  \n4095591 2021-03-17 23:31:33 2021-03-19 04:00:00  ",
      "text/html": "<div>\n<style scoped>\n    .dataframe tbody tr th:only-of-type {\n        vertical-align: middle;\n    }\n\n    .dataframe tbody tr th {\n        vertical-align: top;\n    }\n\n    .dataframe thead th {\n        text-align: right;\n    }\n</style>\n<table border=\"1\" class=\"dataframe\">\n  <thead>\n    <tr style=\"text-align: right;\">\n      <th></th>\n      <th>PREDISPATCHSEQNO</th>\n      <th>REGIONID</th>\n      <th>PERIODID</th>\n      <th>FORECASTDEMAND</th>\n      <th>LASTCHANGED</th>\n      <th>DATETIME</th>\n    </tr>\n  </thead>\n  <tbody>\n    <tr>\n      <th>4095587</th>\n      <td>2021031740</td>\n      <td>QLD1</td>\n      <td>53</td>\n      <td>5600.29</td>\n      <td>2021-03-17 23:31:33</td>\n      <td>2021-03-19 02:00:00</td>\n    </tr>\n    <tr>\n      <th>4095588</th>\n      <td>2021031740</td>\n      <td>QLD1</td>\n      <td>54</td>\n      <td>5570.50</td>\n      <td>2021-03-17 23:31:33</td>\n      <td>2021-03-19 02:30:00</td>\n    </tr>\n    <tr>\n      <th>4095589</th>\n      <td>2021031740</td>\n      <td>QLD1</td>\n      <td>55</td>\n      <td>5549.37</td>\n      <td>2021-03-17 23:31:33</td>\n      <td>2021-03-19 03:00:00</td>\n    </tr>\n    <tr>\n      <th>4095590</th>\n      <td>2021031740</td>\n      <td>QLD1</td>\n      <td>56</td>\n      <td>5545.07</td>\n      <td>2021-03-17 23:31:33</td>\n      <td>2021-03-19 03:30:00</td>\n    </tr>\n    <tr>\n      <th>4095591</th>\n      <td>2021031740</td>\n      <td>QLD1</td>\n      <td>57</td>\n      <td>5564.29</td>\n      <td>2021-03-17 23:31:33</td>\n      <td>2021-03-19 04:00:00</td>\n    </tr>\n  </tbody>\n</table>\n</div>"
     },
     "execution_count": 27,
     "metadata": {},
     "output_type": "execute_result"
    }
   ],
   "source": [
    "qld_forecast_demand.tail()"
   ],
   "metadata": {
    "collapsed": false,
    "ExecuteTime": {
     "end_time": "2024-03-21T12:37:53.174269Z",
     "start_time": "2024-03-21T12:37:53.089238Z"
    }
   },
   "id": "555e731cc7d0668a",
   "execution_count": 27
  },
  {
   "cell_type": "code",
   "outputs": [
    {
     "name": "stdout",
     "output_type": "stream",
     "text": [
      "<class 'pandas.core.frame.DataFrame'>\n",
      "RangeIndex: 4095592 entries, 0 to 4095591\n",
      "Data columns (total 6 columns):\n",
      " #   Column            Dtype         \n",
      "---  ------            -----         \n",
      " 0   PREDISPATCHSEQNO  int64         \n",
      " 1   REGIONID          object        \n",
      " 2   PERIODID          int64         \n",
      " 3   FORECASTDEMAND    float64       \n",
      " 4   LASTCHANGED       datetime64[ns]\n",
      " 5   DATETIME          datetime64[ns]\n",
      "dtypes: datetime64[ns](2), float64(1), int64(2), object(1)\n",
      "memory usage: 187.5+ MB\n"
     ]
    }
   ],
   "source": [
    "qld_forecast_demand.info()"
   ],
   "metadata": {
    "collapsed": false,
    "ExecuteTime": {
     "end_time": "2024-03-21T12:37:53.194909Z",
     "start_time": "2024-03-21T12:37:53.176622Z"
    }
   },
   "id": "6d1346901554c9bc",
   "execution_count": 28
  },
  {
   "cell_type": "code",
   "outputs": [
    {
     "data": {
      "text/plain": "count    4.095592e+06\nmean     6.217552e+03\nstd      8.990330e+02\nmin      3.634990e+03\n25%      5.493320e+03\n50%      6.105220e+03\n75%      6.833010e+03\nmax      1.004541e+04\nName: FORECASTDEMAND, dtype: float64"
     },
     "execution_count": 29,
     "metadata": {},
     "output_type": "execute_result"
    }
   ],
   "source": [
    "qld_forecast_demand['FORECASTDEMAND'].describe()"
   ],
   "metadata": {
    "collapsed": false,
    "ExecuteTime": {
     "end_time": "2024-03-21T12:37:53.274979Z",
     "start_time": "2024-03-21T12:37:53.195386Z"
    }
   },
   "id": "c8b1c9b67a4aa423",
   "execution_count": 29
  },
  {
   "cell_type": "code",
   "outputs": [
    {
     "data": {
      "text/plain": "(4095592, 6)"
     },
     "execution_count": 30,
     "metadata": {},
     "output_type": "execute_result"
    }
   ],
   "source": [
    "qld_forecast_demand.shape"
   ],
   "metadata": {
    "collapsed": false,
    "ExecuteTime": {
     "end_time": "2024-03-21T12:37:53.277556Z",
     "start_time": "2024-03-21T12:37:53.275520Z"
    }
   },
   "id": "6044c5437ea3e726",
   "execution_count": 30
  },
  {
   "cell_type": "code",
   "outputs": [
    {
     "data": {
      "text/plain": "PREDISPATCHSEQNO             2016123018\nREGIONID                           QLD1\nPERIODID                              1\nFORECASTDEMAND                  3634.99\nLASTCHANGED         2016-12-30 12:31:25\nDATETIME            2017-01-01 00:00:00\ndtype: object"
     },
     "execution_count": 31,
     "metadata": {},
     "output_type": "execute_result"
    }
   ],
   "source": [
    "qld_forecast_demand.min()"
   ],
   "metadata": {
    "collapsed": false,
    "ExecuteTime": {
     "end_time": "2024-03-21T12:37:53.425094Z",
     "start_time": "2024-03-21T12:37:53.278024Z"
    }
   },
   "id": "2ad2681fd7190a8b",
   "execution_count": 31
  },
  {
   "cell_type": "code",
   "outputs": [
    {
     "data": {
      "text/plain": "PREDISPATCHSEQNO             2021031740\nREGIONID                           QLD1\nPERIODID                             79\nFORECASTDEMAND                 10045.41\nLASTCHANGED         2021-03-17 23:31:33\nDATETIME            2021-03-19 04:00:00\ndtype: object"
     },
     "execution_count": 32,
     "metadata": {},
     "output_type": "execute_result"
    }
   ],
   "source": [
    "qld_forecast_demand.max()"
   ],
   "metadata": {
    "collapsed": false,
    "ExecuteTime": {
     "end_time": "2024-03-21T12:37:53.561535Z",
     "start_time": "2024-03-21T12:37:53.425630Z"
    }
   },
   "id": "6a9243f189b698e7",
   "execution_count": 32
  },
  {
   "cell_type": "code",
   "outputs": [
    {
     "data": {
      "text/plain": "PREDISPATCHSEQNO    0\nREGIONID            0\nPERIODID            0\nFORECASTDEMAND      0\nLASTCHANGED         0\nDATETIME            0\ndtype: int64"
     },
     "execution_count": 33,
     "metadata": {},
     "output_type": "execute_result"
    }
   ],
   "source": [
    "qld_forecast_demand.isnull().sum()"
   ],
   "metadata": {
    "collapsed": false,
    "ExecuteTime": {
     "end_time": "2024-03-21T12:37:53.651514Z",
     "start_time": "2024-03-21T12:37:53.562124Z"
    }
   },
   "id": "4ce8c077206d6d4d",
   "execution_count": 33
  },
  {
   "cell_type": "code",
   "outputs": [
    {
     "data": {
      "text/plain": "PREDISPATCHSEQNO    0\nREGIONID            0\nPERIODID            0\nFORECASTDEMAND      0\nLASTCHANGED         0\nDATETIME            0\ndtype: int64"
     },
     "execution_count": 34,
     "metadata": {},
     "output_type": "execute_result"
    }
   ],
   "source": [
    "qld_forecast_demand.isna().sum()"
   ],
   "metadata": {
    "collapsed": false,
    "ExecuteTime": {
     "end_time": "2024-03-21T12:37:53.741873Z",
     "start_time": "2024-03-21T12:37:53.652075Z"
    }
   },
   "id": "39ccb862a2e09f72",
   "execution_count": 34
  },
  {
   "cell_type": "code",
   "outputs": [
    {
     "data": {
      "text/plain": "PREDISPATCHSEQNO     73836\nREGIONID                 1\nPERIODID                79\nFORECASTDEMAND      432543\nLASTCHANGED          73836\nDATETIME             73833\ndtype: int64"
     },
     "execution_count": 35,
     "metadata": {},
     "output_type": "execute_result"
    }
   ],
   "source": [
    "qld_forecast_demand.nunique()"
   ],
   "metadata": {
    "collapsed": false,
    "ExecuteTime": {
     "end_time": "2024-03-21T12:37:53.937080Z",
     "start_time": "2024-03-21T12:37:53.742435Z"
    }
   },
   "id": "27cb70ae8ce11144",
   "execution_count": 35
  },
  {
   "cell_type": "code",
   "outputs": [
    {
     "data": {
      "text/plain": "PREDISPATCHSEQNO             int64\nREGIONID                    object\nPERIODID                     int64\nFORECASTDEMAND             float64\nLASTCHANGED         datetime64[ns]\nDATETIME            datetime64[ns]\ndtype: object"
     },
     "execution_count": 36,
     "metadata": {},
     "output_type": "execute_result"
    }
   ],
   "source": [
    "qld_forecast_demand.dtypes"
   ],
   "metadata": {
    "collapsed": false,
    "ExecuteTime": {
     "end_time": "2024-03-21T12:37:53.940196Z",
     "start_time": "2024-03-21T12:37:53.937685Z"
    }
   },
   "id": "e4c6d2370c875841",
   "execution_count": 36
  },
  {
   "cell_type": "markdown",
   "source": [
    "<a id=\"4\"></a>\n",
    "## QLD Temperatures"
   ],
   "metadata": {
    "collapsed": false
   },
   "id": "15aa2a5e27b420d"
  },
  {
   "cell_type": "code",
   "outputs": [],
   "source": [
    "qld_temperature = pd.read_csv(os.path.join(data_path, 'Australia', 'd', 'temprature_qld.csv'), parse_dates=['DATETIME'], dayfirst=True)"
   ],
   "metadata": {
    "collapsed": false,
    "ExecuteTime": {
     "end_time": "2024-03-21T12:37:54.461590Z",
     "start_time": "2024-03-21T12:37:53.940692Z"
    }
   },
   "id": "eb5ba8fcecb3681f",
   "execution_count": 37
  },
  {
   "cell_type": "code",
   "outputs": [
    {
     "data": {
      "text/plain": "                       LOCATION            DATETIME  TEMPERATURE\n0  Brisbane Archerfield Airport 2010-01-01 00:00:00         23.6\n1  Brisbane Archerfield Airport 2010-01-01 00:30:00         23.7\n2  Brisbane Archerfield Airport 2010-01-01 01:00:00         23.5\n3  Brisbane Archerfield Airport 2010-01-01 01:30:00         22.6\n4  Brisbane Archerfield Airport 2010-01-01 02:00:00         22.0",
      "text/html": "<div>\n<style scoped>\n    .dataframe tbody tr th:only-of-type {\n        vertical-align: middle;\n    }\n\n    .dataframe tbody tr th {\n        vertical-align: top;\n    }\n\n    .dataframe thead th {\n        text-align: right;\n    }\n</style>\n<table border=\"1\" class=\"dataframe\">\n  <thead>\n    <tr style=\"text-align: right;\">\n      <th></th>\n      <th>LOCATION</th>\n      <th>DATETIME</th>\n      <th>TEMPERATURE</th>\n    </tr>\n  </thead>\n  <tbody>\n    <tr>\n      <th>0</th>\n      <td>Brisbane Archerfield Airport</td>\n      <td>2010-01-01 00:00:00</td>\n      <td>23.6</td>\n    </tr>\n    <tr>\n      <th>1</th>\n      <td>Brisbane Archerfield Airport</td>\n      <td>2010-01-01 00:30:00</td>\n      <td>23.7</td>\n    </tr>\n    <tr>\n      <th>2</th>\n      <td>Brisbane Archerfield Airport</td>\n      <td>2010-01-01 01:00:00</td>\n      <td>23.5</td>\n    </tr>\n    <tr>\n      <th>3</th>\n      <td>Brisbane Archerfield Airport</td>\n      <td>2010-01-01 01:30:00</td>\n      <td>22.6</td>\n    </tr>\n    <tr>\n      <th>4</th>\n      <td>Brisbane Archerfield Airport</td>\n      <td>2010-01-01 02:00:00</td>\n      <td>22.0</td>\n    </tr>\n  </tbody>\n</table>\n</div>"
     },
     "execution_count": 38,
     "metadata": {},
     "output_type": "execute_result"
    }
   ],
   "source": [
    "qld_temperature.head()"
   ],
   "metadata": {
    "collapsed": false,
    "ExecuteTime": {
     "end_time": "2024-03-21T12:37:54.466194Z",
     "start_time": "2024-03-21T12:37:54.462257Z"
    }
   },
   "id": "43c7ea242169d3c7",
   "execution_count": 38
  },
  {
   "cell_type": "code",
   "outputs": [
    {
     "data": {
      "text/plain": "                            LOCATION            DATETIME  TEMPERATURE\n208080  Brisbane Archerfield Airport 2021-03-17 22:00:00         19.6\n208081  Brisbane Archerfield Airport 2021-03-17 22:30:00         19.5\n208082  Brisbane Archerfield Airport 2021-03-17 23:00:00         19.4\n208083  Brisbane Archerfield Airport 2021-03-17 23:30:00         19.6\n208084  Brisbane Archerfield Airport 2021-03-18 00:00:00         19.5",
      "text/html": "<div>\n<style scoped>\n    .dataframe tbody tr th:only-of-type {\n        vertical-align: middle;\n    }\n\n    .dataframe tbody tr th {\n        vertical-align: top;\n    }\n\n    .dataframe thead th {\n        text-align: right;\n    }\n</style>\n<table border=\"1\" class=\"dataframe\">\n  <thead>\n    <tr style=\"text-align: right;\">\n      <th></th>\n      <th>LOCATION</th>\n      <th>DATETIME</th>\n      <th>TEMPERATURE</th>\n    </tr>\n  </thead>\n  <tbody>\n    <tr>\n      <th>208080</th>\n      <td>Brisbane Archerfield Airport</td>\n      <td>2021-03-17 22:00:00</td>\n      <td>19.6</td>\n    </tr>\n    <tr>\n      <th>208081</th>\n      <td>Brisbane Archerfield Airport</td>\n      <td>2021-03-17 22:30:00</td>\n      <td>19.5</td>\n    </tr>\n    <tr>\n      <th>208082</th>\n      <td>Brisbane Archerfield Airport</td>\n      <td>2021-03-17 23:00:00</td>\n      <td>19.4</td>\n    </tr>\n    <tr>\n      <th>208083</th>\n      <td>Brisbane Archerfield Airport</td>\n      <td>2021-03-17 23:30:00</td>\n      <td>19.6</td>\n    </tr>\n    <tr>\n      <th>208084</th>\n      <td>Brisbane Archerfield Airport</td>\n      <td>2021-03-18 00:00:00</td>\n      <td>19.5</td>\n    </tr>\n  </tbody>\n</table>\n</div>"
     },
     "execution_count": 39,
     "metadata": {},
     "output_type": "execute_result"
    }
   ],
   "source": [
    "qld_temperature.tail()"
   ],
   "metadata": {
    "collapsed": false,
    "ExecuteTime": {
     "end_time": "2024-03-21T12:37:54.551921Z",
     "start_time": "2024-03-21T12:37:54.466670Z"
    }
   },
   "id": "5bbc4e4094ed4fdf",
   "execution_count": 39
  },
  {
   "cell_type": "code",
   "outputs": [
    {
     "name": "stdout",
     "output_type": "stream",
     "text": [
      "<class 'pandas.core.frame.DataFrame'>\n",
      "RangeIndex: 208085 entries, 0 to 208084\n",
      "Data columns (total 3 columns):\n",
      " #   Column       Non-Null Count   Dtype         \n",
      "---  ------       --------------   -----         \n",
      " 0   LOCATION     208085 non-null  object        \n",
      " 1   DATETIME     208085 non-null  datetime64[ns]\n",
      " 2   TEMPERATURE  208085 non-null  float64       \n",
      "dtypes: datetime64[ns](1), float64(1), object(1)\n",
      "memory usage: 4.8+ MB\n"
     ]
    }
   ],
   "source": [
    "qld_temperature.info()"
   ],
   "metadata": {
    "collapsed": false,
    "ExecuteTime": {
     "end_time": "2024-03-21T12:37:54.568051Z",
     "start_time": "2024-03-21T12:37:54.552554Z"
    }
   },
   "id": "2f60f67eccf0b1a8",
   "execution_count": 40
  },
  {
   "cell_type": "code",
   "outputs": [
    {
     "data": {
      "text/plain": "                            DATETIME    TEMPERATURE\ncount                         208085  208085.000000\nmean   2015-08-14 23:20:54.126438912      20.375972\nmin              2010-01-01 00:00:00       1.300000\n25%              2012-10-18 19:30:00      16.600000\n50%              2015-08-11 07:30:00      20.900000\n75%              2018-06-13 01:00:00      24.300000\nmax              2021-03-18 00:00:00      42.400000\nstd                              NaN       5.586945",
      "text/html": "<div>\n<style scoped>\n    .dataframe tbody tr th:only-of-type {\n        vertical-align: middle;\n    }\n\n    .dataframe tbody tr th {\n        vertical-align: top;\n    }\n\n    .dataframe thead th {\n        text-align: right;\n    }\n</style>\n<table border=\"1\" class=\"dataframe\">\n  <thead>\n    <tr style=\"text-align: right;\">\n      <th></th>\n      <th>DATETIME</th>\n      <th>TEMPERATURE</th>\n    </tr>\n  </thead>\n  <tbody>\n    <tr>\n      <th>count</th>\n      <td>208085</td>\n      <td>208085.000000</td>\n    </tr>\n    <tr>\n      <th>mean</th>\n      <td>2015-08-14 23:20:54.126438912</td>\n      <td>20.375972</td>\n    </tr>\n    <tr>\n      <th>min</th>\n      <td>2010-01-01 00:00:00</td>\n      <td>1.300000</td>\n    </tr>\n    <tr>\n      <th>25%</th>\n      <td>2012-10-18 19:30:00</td>\n      <td>16.600000</td>\n    </tr>\n    <tr>\n      <th>50%</th>\n      <td>2015-08-11 07:30:00</td>\n      <td>20.900000</td>\n    </tr>\n    <tr>\n      <th>75%</th>\n      <td>2018-06-13 01:00:00</td>\n      <td>24.300000</td>\n    </tr>\n    <tr>\n      <th>max</th>\n      <td>2021-03-18 00:00:00</td>\n      <td>42.400000</td>\n    </tr>\n    <tr>\n      <th>std</th>\n      <td>NaN</td>\n      <td>5.586945</td>\n    </tr>\n  </tbody>\n</table>\n</div>"
     },
     "execution_count": 41,
     "metadata": {},
     "output_type": "execute_result"
    }
   ],
   "source": [
    "qld_temperature.describe()"
   ],
   "metadata": {
    "collapsed": false,
    "ExecuteTime": {
     "end_time": "2024-03-21T12:37:54.584386Z",
     "start_time": "2024-03-21T12:37:54.568649Z"
    }
   },
   "id": "3375c6ba50ac06dd",
   "execution_count": 41
  },
  {
   "cell_type": "code",
   "outputs": [
    {
     "data": {
      "text/plain": "(208085, 3)"
     },
     "execution_count": 42,
     "metadata": {},
     "output_type": "execute_result"
    }
   ],
   "source": [
    "qld_temperature.shape"
   ],
   "metadata": {
    "collapsed": false,
    "ExecuteTime": {
     "end_time": "2024-03-21T12:37:54.587040Z",
     "start_time": "2024-03-21T12:37:54.584978Z"
    }
   },
   "id": "b87e0dae797c3c02",
   "execution_count": 42
  },
  {
   "cell_type": "code",
   "outputs": [
    {
     "data": {
      "text/plain": "LOCATION       Brisbane Archerfield Airport\nDATETIME                2010-01-01 00:00:00\nTEMPERATURE                             1.3\ndtype: object"
     },
     "execution_count": 43,
     "metadata": {},
     "output_type": "execute_result"
    }
   ],
   "source": [
    "qld_temperature.min()"
   ],
   "metadata": {
    "collapsed": false,
    "ExecuteTime": {
     "end_time": "2024-03-21T12:37:54.604899Z",
     "start_time": "2024-03-21T12:37:54.587517Z"
    }
   },
   "id": "f7bc8ed0cf367ac0",
   "execution_count": 43
  },
  {
   "cell_type": "code",
   "outputs": [
    {
     "data": {
      "text/plain": "LOCATION       Brisbane Archerfield Airport\nDATETIME                2021-03-18 00:00:00\nTEMPERATURE                            42.4\ndtype: object"
     },
     "execution_count": 44,
     "metadata": {},
     "output_type": "execute_result"
    }
   ],
   "source": [
    "qld_temperature.max()"
   ],
   "metadata": {
    "collapsed": false,
    "ExecuteTime": {
     "end_time": "2024-03-21T12:37:54.620616Z",
     "start_time": "2024-03-21T12:37:54.605438Z"
    }
   },
   "id": "2e51f02c3f3acc0e",
   "execution_count": 44
  },
  {
   "cell_type": "code",
   "outputs": [
    {
     "data": {
      "text/plain": "LOCATION       0\nDATETIME       0\nTEMPERATURE    0\ndtype: int64"
     },
     "execution_count": 45,
     "metadata": {},
     "output_type": "execute_result"
    }
   ],
   "source": [
    "qld_temperature.isnull().sum()"
   ],
   "metadata": {
    "collapsed": false,
    "ExecuteTime": {
     "end_time": "2024-03-21T12:37:54.634570Z",
     "start_time": "2024-03-21T12:37:54.621167Z"
    }
   },
   "id": "e16bd8d0bf8a28bb",
   "execution_count": 45
  },
  {
   "cell_type": "code",
   "outputs": [
    {
     "data": {
      "text/plain": "LOCATION       0\nDATETIME       0\nTEMPERATURE    0\ndtype: int64"
     },
     "execution_count": 46,
     "metadata": {},
     "output_type": "execute_result"
    }
   ],
   "source": [
    "qld_temperature.isna().sum()"
   ],
   "metadata": {
    "collapsed": false,
    "ExecuteTime": {
     "end_time": "2024-03-21T12:37:54.649083Z",
     "start_time": "2024-03-21T12:37:54.635062Z"
    }
   },
   "id": "fcf3f580efc05d21",
   "execution_count": 46
  },
  {
   "cell_type": "code",
   "outputs": [
    {
     "data": {
      "text/plain": "LOCATION            1\nDATETIME       208085\nTEMPERATURE       391\ndtype: int64"
     },
     "execution_count": 47,
     "metadata": {},
     "output_type": "execute_result"
    }
   ],
   "source": [
    "qld_temperature.nunique()"
   ],
   "metadata": {
    "collapsed": false,
    "ExecuteTime": {
     "end_time": "2024-03-21T12:37:54.664516Z",
     "start_time": "2024-03-21T12:37:54.649605Z"
    }
   },
   "id": "edf3a3620ab853f9",
   "execution_count": 47
  },
  {
   "cell_type": "code",
   "outputs": [
    {
     "data": {
      "text/plain": "LOCATION               object\nDATETIME       datetime64[ns]\nTEMPERATURE           float64\ndtype: object"
     },
     "execution_count": 48,
     "metadata": {},
     "output_type": "execute_result"
    }
   ],
   "source": [
    "qld_temperature.dtypes"
   ],
   "metadata": {
    "collapsed": false,
    "ExecuteTime": {
     "end_time": "2024-03-21T12:37:54.667603Z",
     "start_time": "2024-03-21T12:37:54.665137Z"
    }
   },
   "id": "2085d8400f4c6f42",
   "execution_count": 48
  },
  {
   "cell_type": "markdown",
   "source": [
    "<a id=\"5\"></a>\n",
    "## SA Temperatures"
   ],
   "metadata": {
    "collapsed": false
   },
   "id": "842327a6d18ecea9"
  },
  {
   "cell_type": "code",
   "outputs": [],
   "source": [
    "sa_temperature = pd.read_csv(os.path.join(data_path, 'Australia', 'd', 'temprature_sa.csv'), parse_dates=['DATETIME'], index_col=0)"
   ],
   "metadata": {
    "collapsed": false,
    "ExecuteTime": {
     "end_time": "2024-03-21T12:37:54.856677Z",
     "start_time": "2024-03-21T12:37:54.668156Z"
    }
   },
   "id": "fa25c091d839b212",
   "execution_count": 49
  },
  {
   "cell_type": "code",
   "outputs": [
    {
     "data": {
      "text/plain": "               LOCATION            DATETIME  TEMPERATURE\n0  Adelaide (Kent Town) 2010-01-01 00:00:00         23.6\n1  Adelaide (Kent Town) 2010-01-01 00:30:00         23.7\n2  Adelaide (Kent Town) 2010-01-01 01:00:00         23.5\n3  Adelaide (Kent Town) 2010-01-01 01:30:00         22.6\n4  Adelaide (Kent Town) 2010-01-01 02:00:00         22.0",
      "text/html": "<div>\n<style scoped>\n    .dataframe tbody tr th:only-of-type {\n        vertical-align: middle;\n    }\n\n    .dataframe tbody tr th {\n        vertical-align: top;\n    }\n\n    .dataframe thead th {\n        text-align: right;\n    }\n</style>\n<table border=\"1\" class=\"dataframe\">\n  <thead>\n    <tr style=\"text-align: right;\">\n      <th></th>\n      <th>LOCATION</th>\n      <th>DATETIME</th>\n      <th>TEMPERATURE</th>\n    </tr>\n  </thead>\n  <tbody>\n    <tr>\n      <th>0</th>\n      <td>Adelaide (Kent Town)</td>\n      <td>2010-01-01 00:00:00</td>\n      <td>23.6</td>\n    </tr>\n    <tr>\n      <th>1</th>\n      <td>Adelaide (Kent Town)</td>\n      <td>2010-01-01 00:30:00</td>\n      <td>23.7</td>\n    </tr>\n    <tr>\n      <th>2</th>\n      <td>Adelaide (Kent Town)</td>\n      <td>2010-01-01 01:00:00</td>\n      <td>23.5</td>\n    </tr>\n    <tr>\n      <th>3</th>\n      <td>Adelaide (Kent Town)</td>\n      <td>2010-01-01 01:30:00</td>\n      <td>22.6</td>\n    </tr>\n    <tr>\n      <th>4</th>\n      <td>Adelaide (Kent Town)</td>\n      <td>2010-01-01 02:00:00</td>\n      <td>22.0</td>\n    </tr>\n  </tbody>\n</table>\n</div>"
     },
     "execution_count": 50,
     "metadata": {},
     "output_type": "execute_result"
    }
   ],
   "source": [
    "sa_temperature.head()"
   ],
   "metadata": {
    "collapsed": false,
    "ExecuteTime": {
     "end_time": "2024-03-21T12:37:54.861189Z",
     "start_time": "2024-03-21T12:37:54.857364Z"
    }
   },
   "id": "3b7632fe88ea525a",
   "execution_count": 50
  },
  {
   "cell_type": "code",
   "outputs": [
    {
     "data": {
      "text/plain": "                    LOCATION            DATETIME  TEMPERATURE\n208080  Adelaide (Kent Town) 2021-03-17 22:00:00         19.6\n208081  Adelaide (Kent Town) 2021-03-17 22:30:00         19.5\n208082  Adelaide (Kent Town) 2021-03-17 23:00:00         19.4\n208083  Adelaide (Kent Town) 2021-03-17 23:30:00         19.6\n208084  Adelaide (Kent Town) 2021-03-18 00:00:00         19.5",
      "text/html": "<div>\n<style scoped>\n    .dataframe tbody tr th:only-of-type {\n        vertical-align: middle;\n    }\n\n    .dataframe tbody tr th {\n        vertical-align: top;\n    }\n\n    .dataframe thead th {\n        text-align: right;\n    }\n</style>\n<table border=\"1\" class=\"dataframe\">\n  <thead>\n    <tr style=\"text-align: right;\">\n      <th></th>\n      <th>LOCATION</th>\n      <th>DATETIME</th>\n      <th>TEMPERATURE</th>\n    </tr>\n  </thead>\n  <tbody>\n    <tr>\n      <th>208080</th>\n      <td>Adelaide (Kent Town)</td>\n      <td>2021-03-17 22:00:00</td>\n      <td>19.6</td>\n    </tr>\n    <tr>\n      <th>208081</th>\n      <td>Adelaide (Kent Town)</td>\n      <td>2021-03-17 22:30:00</td>\n      <td>19.5</td>\n    </tr>\n    <tr>\n      <th>208082</th>\n      <td>Adelaide (Kent Town)</td>\n      <td>2021-03-17 23:00:00</td>\n      <td>19.4</td>\n    </tr>\n    <tr>\n      <th>208083</th>\n      <td>Adelaide (Kent Town)</td>\n      <td>2021-03-17 23:30:00</td>\n      <td>19.6</td>\n    </tr>\n    <tr>\n      <th>208084</th>\n      <td>Adelaide (Kent Town)</td>\n      <td>2021-03-18 00:00:00</td>\n      <td>19.5</td>\n    </tr>\n  </tbody>\n</table>\n</div>"
     },
     "execution_count": 51,
     "metadata": {},
     "output_type": "execute_result"
    }
   ],
   "source": [
    "sa_temperature.tail()"
   ],
   "metadata": {
    "collapsed": false,
    "ExecuteTime": {
     "end_time": "2024-03-21T12:37:54.866210Z",
     "start_time": "2024-03-21T12:37:54.861722Z"
    }
   },
   "id": "79b6bf38812fad04",
   "execution_count": 51
  },
  {
   "cell_type": "code",
   "outputs": [
    {
     "name": "stdout",
     "output_type": "stream",
     "text": [
      "<class 'pandas.core.frame.DataFrame'>\n",
      "Index: 208085 entries, 0 to 208084\n",
      "Data columns (total 3 columns):\n",
      " #   Column       Non-Null Count   Dtype         \n",
      "---  ------       --------------   -----         \n",
      " 0   LOCATION     208085 non-null  object        \n",
      " 1   DATETIME     208085 non-null  datetime64[ns]\n",
      " 2   TEMPERATURE  208085 non-null  float64       \n",
      "dtypes: datetime64[ns](1), float64(1), object(1)\n",
      "memory usage: 6.4+ MB\n"
     ]
    }
   ],
   "source": [
    "sa_temperature.info()"
   ],
   "metadata": {
    "collapsed": false,
    "ExecuteTime": {
     "end_time": "2024-03-21T12:37:54.875796Z",
     "start_time": "2024-03-21T12:37:54.866706Z"
    }
   },
   "id": "101d8f64763b0821",
   "execution_count": 52
  },
  {
   "cell_type": "code",
   "outputs": [
    {
     "data": {
      "text/plain": "count    208085.000000\nmean         20.375972\nstd           5.586945\nmin           1.300000\n25%          16.600000\n50%          20.900000\n75%          24.300000\nmax          42.400000\nName: TEMPERATURE, dtype: float64"
     },
     "execution_count": 53,
     "metadata": {},
     "output_type": "execute_result"
    }
   ],
   "source": [
    "sa_temperature['TEMPERATURE'].describe()"
   ],
   "metadata": {
    "collapsed": false,
    "ExecuteTime": {
     "end_time": "2024-03-21T12:37:54.882835Z",
     "start_time": "2024-03-21T12:37:54.876383Z"
    }
   },
   "id": "db818fa9f0103061",
   "execution_count": 53
  },
  {
   "cell_type": "code",
   "outputs": [
    {
     "data": {
      "text/plain": "(208085, 3)"
     },
     "execution_count": 54,
     "metadata": {},
     "output_type": "execute_result"
    }
   ],
   "source": [
    "sa_temperature.shape"
   ],
   "metadata": {
    "collapsed": false,
    "ExecuteTime": {
     "end_time": "2024-03-21T12:37:54.889406Z",
     "start_time": "2024-03-21T12:37:54.883362Z"
    }
   },
   "id": "d06abbfb86da04f1",
   "execution_count": 54
  },
  {
   "cell_type": "code",
   "outputs": [
    {
     "data": {
      "text/plain": "LOCATION       Adelaide (Kent Town)\nDATETIME        2010-01-01 00:00:00\nTEMPERATURE                     1.3\ndtype: object"
     },
     "execution_count": 55,
     "metadata": {},
     "output_type": "execute_result"
    }
   ],
   "source": [
    "sa_temperature.min()"
   ],
   "metadata": {
    "collapsed": false,
    "ExecuteTime": {
     "end_time": "2024-03-21T12:37:54.906711Z",
     "start_time": "2024-03-21T12:37:54.889866Z"
    }
   },
   "id": "b5b62b4631d3a57",
   "execution_count": 55
  },
  {
   "cell_type": "code",
   "outputs": [
    {
     "data": {
      "text/plain": "LOCATION       Adelaide (Kent Town)\nDATETIME        2021-03-18 00:00:00\nTEMPERATURE                    42.4\ndtype: object"
     },
     "execution_count": 56,
     "metadata": {},
     "output_type": "execute_result"
    }
   ],
   "source": [
    "sa_temperature.max()"
   ],
   "metadata": {
    "collapsed": false,
    "ExecuteTime": {
     "end_time": "2024-03-21T12:37:54.922709Z",
     "start_time": "2024-03-21T12:37:54.907253Z"
    }
   },
   "id": "cd1225b419a53d81",
   "execution_count": 56
  },
  {
   "cell_type": "code",
   "outputs": [
    {
     "data": {
      "text/plain": "LOCATION       0\nDATETIME       0\nTEMPERATURE    0\ndtype: int64"
     },
     "execution_count": 57,
     "metadata": {},
     "output_type": "execute_result"
    }
   ],
   "source": [
    "sa_temperature.isnull().sum()"
   ],
   "metadata": {
    "collapsed": false,
    "ExecuteTime": {
     "end_time": "2024-03-21T12:37:54.936937Z",
     "start_time": "2024-03-21T12:37:54.923267Z"
    }
   },
   "id": "bd9e0cf7ac3f2d6e",
   "execution_count": 57
  },
  {
   "cell_type": "code",
   "outputs": [
    {
     "data": {
      "text/plain": "LOCATION       0\nDATETIME       0\nTEMPERATURE    0\ndtype: int64"
     },
     "execution_count": 58,
     "metadata": {},
     "output_type": "execute_result"
    }
   ],
   "source": [
    "sa_temperature.isna().sum()"
   ],
   "metadata": {
    "collapsed": false,
    "ExecuteTime": {
     "end_time": "2024-03-21T12:37:54.956269Z",
     "start_time": "2024-03-21T12:37:54.937544Z"
    }
   },
   "id": "7ccd7affccb4c900",
   "execution_count": 58
  },
  {
   "cell_type": "code",
   "outputs": [
    {
     "data": {
      "text/plain": "LOCATION            1\nDATETIME       208085\nTEMPERATURE       391\ndtype: int64"
     },
     "execution_count": 59,
     "metadata": {},
     "output_type": "execute_result"
    }
   ],
   "source": [
    "sa_temperature.nunique()"
   ],
   "metadata": {
    "collapsed": false,
    "ExecuteTime": {
     "end_time": "2024-03-21T12:37:54.977580Z",
     "start_time": "2024-03-21T12:37:54.956856Z"
    }
   },
   "id": "bf2bfb0e59e80941",
   "execution_count": 59
  },
  {
   "cell_type": "code",
   "outputs": [
    {
     "data": {
      "text/plain": "LOCATION               object\nDATETIME       datetime64[ns]\nTEMPERATURE           float64\ndtype: object"
     },
     "execution_count": 60,
     "metadata": {},
     "output_type": "execute_result"
    }
   ],
   "source": [
    "sa_temperature.dtypes"
   ],
   "metadata": {
    "collapsed": false,
    "ExecuteTime": {
     "end_time": "2024-03-21T12:37:54.980585Z",
     "start_time": "2024-03-21T12:37:54.978140Z"
    }
   },
   "id": "258e3608509aeee8",
   "execution_count": 60
  },
  {
   "cell_type": "markdown",
   "source": [
    "<a id=\"6\"></a>\n",
    "## Victoria Temperature"
   ],
   "metadata": {
    "collapsed": false
   },
   "id": "4b6a0150c78d5dcf"
  },
  {
   "cell_type": "code",
   "outputs": [],
   "source": [
    "vic_temperature = pd.read_csv(os.path.join(data_path, 'Australia', 'd', 'temprature_vic.csv'), parse_dates=['DATETIME'], dayfirst=True)"
   ],
   "metadata": {
    "collapsed": false,
    "ExecuteTime": {
     "end_time": "2024-03-21T12:37:55.256649Z",
     "start_time": "2024-03-21T12:37:54.981122Z"
    }
   },
   "id": "de740b5c40b6d60b",
   "execution_count": 61
  },
  {
   "cell_type": "code",
   "outputs": [
    {
     "data": {
      "text/plain": "                   LOCATION            DATETIME  TEMPERATURE\n0  Melbourne (Olympic Park) 2013-05-31 15:00:00         18.2\n1  Melbourne (Olympic Park) 2013-05-31 15:30:00         18.3\n2  Melbourne (Olympic Park) 2013-05-31 16:00:00         18.3\n3  Melbourne (Olympic Park) 2013-05-31 16:30:00         18.3\n4  Melbourne (Olympic Park) 2013-05-31 17:00:00         18.2",
      "text/html": "<div>\n<style scoped>\n    .dataframe tbody tr th:only-of-type {\n        vertical-align: middle;\n    }\n\n    .dataframe tbody tr th {\n        vertical-align: top;\n    }\n\n    .dataframe thead th {\n        text-align: right;\n    }\n</style>\n<table border=\"1\" class=\"dataframe\">\n  <thead>\n    <tr style=\"text-align: right;\">\n      <th></th>\n      <th>LOCATION</th>\n      <th>DATETIME</th>\n      <th>TEMPERATURE</th>\n    </tr>\n  </thead>\n  <tbody>\n    <tr>\n      <th>0</th>\n      <td>Melbourne (Olympic Park)</td>\n      <td>2013-05-31 15:00:00</td>\n      <td>18.2</td>\n    </tr>\n    <tr>\n      <th>1</th>\n      <td>Melbourne (Olympic Park)</td>\n      <td>2013-05-31 15:30:00</td>\n      <td>18.3</td>\n    </tr>\n    <tr>\n      <th>2</th>\n      <td>Melbourne (Olympic Park)</td>\n      <td>2013-05-31 16:00:00</td>\n      <td>18.3</td>\n    </tr>\n    <tr>\n      <th>3</th>\n      <td>Melbourne (Olympic Park)</td>\n      <td>2013-05-31 16:30:00</td>\n      <td>18.3</td>\n    </tr>\n    <tr>\n      <th>4</th>\n      <td>Melbourne (Olympic Park)</td>\n      <td>2013-05-31 17:00:00</td>\n      <td>18.2</td>\n    </tr>\n  </tbody>\n</table>\n</div>"
     },
     "execution_count": 62,
     "metadata": {},
     "output_type": "execute_result"
    }
   ],
   "source": [
    "vic_temperature.head()"
   ],
   "metadata": {
    "collapsed": false,
    "ExecuteTime": {
     "end_time": "2024-03-21T12:37:55.261114Z",
     "start_time": "2024-03-21T12:37:55.257398Z"
    }
   },
   "id": "70c891e186020566",
   "execution_count": 62
  },
  {
   "cell_type": "code",
   "outputs": [
    {
     "data": {
      "text/plain": "                        LOCATION            DATETIME  TEMPERATURE\n141676  Melbourne (Olympic Park) 2021-03-17 22:00:00         18.9\n141677  Melbourne (Olympic Park) 2021-03-17 22:30:00         17.9\n141678  Melbourne (Olympic Park) 2021-03-17 23:00:00         17.3\n141679  Melbourne (Olympic Park) 2021-03-17 23:30:00         16.6\n141680  Melbourne (Olympic Park) 2021-03-18 00:00:00         15.8",
      "text/html": "<div>\n<style scoped>\n    .dataframe tbody tr th:only-of-type {\n        vertical-align: middle;\n    }\n\n    .dataframe tbody tr th {\n        vertical-align: top;\n    }\n\n    .dataframe thead th {\n        text-align: right;\n    }\n</style>\n<table border=\"1\" class=\"dataframe\">\n  <thead>\n    <tr style=\"text-align: right;\">\n      <th></th>\n      <th>LOCATION</th>\n      <th>DATETIME</th>\n      <th>TEMPERATURE</th>\n    </tr>\n  </thead>\n  <tbody>\n    <tr>\n      <th>141676</th>\n      <td>Melbourne (Olympic Park)</td>\n      <td>2021-03-17 22:00:00</td>\n      <td>18.9</td>\n    </tr>\n    <tr>\n      <th>141677</th>\n      <td>Melbourne (Olympic Park)</td>\n      <td>2021-03-17 22:30:00</td>\n      <td>17.9</td>\n    </tr>\n    <tr>\n      <th>141678</th>\n      <td>Melbourne (Olympic Park)</td>\n      <td>2021-03-17 23:00:00</td>\n      <td>17.3</td>\n    </tr>\n    <tr>\n      <th>141679</th>\n      <td>Melbourne (Olympic Park)</td>\n      <td>2021-03-17 23:30:00</td>\n      <td>16.6</td>\n    </tr>\n    <tr>\n      <th>141680</th>\n      <td>Melbourne (Olympic Park)</td>\n      <td>2021-03-18 00:00:00</td>\n      <td>15.8</td>\n    </tr>\n  </tbody>\n</table>\n</div>"
     },
     "execution_count": 63,
     "metadata": {},
     "output_type": "execute_result"
    }
   ],
   "source": [
    "vic_temperature.tail()"
   ],
   "metadata": {
    "collapsed": false,
    "ExecuteTime": {
     "end_time": "2024-03-21T12:37:55.339607Z",
     "start_time": "2024-03-21T12:37:55.261681Z"
    }
   },
   "id": "cad113d642a23bd4",
   "execution_count": 63
  },
  {
   "cell_type": "code",
   "outputs": [
    {
     "name": "stdout",
     "output_type": "stream",
     "text": [
      "<class 'pandas.core.frame.DataFrame'>\n",
      "RangeIndex: 141681 entries, 0 to 141680\n",
      "Data columns (total 3 columns):\n",
      " #   Column       Non-Null Count   Dtype         \n",
      "---  ------       --------------   -----         \n",
      " 0   LOCATION     141681 non-null  object        \n",
      " 1   DATETIME     141681 non-null  datetime64[ns]\n",
      " 2   TEMPERATURE  141681 non-null  float64       \n",
      "dtypes: datetime64[ns](1), float64(1), object(1)\n",
      "memory usage: 3.2+ MB\n"
     ]
    }
   ],
   "source": [
    "vic_temperature.info()"
   ],
   "metadata": {
    "collapsed": false,
    "ExecuteTime": {
     "end_time": "2024-03-21T12:37:55.347827Z",
     "start_time": "2024-03-21T12:37:55.340248Z"
    }
   },
   "id": "35e447770d8fee3c",
   "execution_count": 64
  },
  {
   "cell_type": "code",
   "outputs": [
    {
     "data": {
      "text/plain": "count    141681.000000\nmean         15.711337\nstd           5.637641\nmin           0.800000\n25%          11.800000\n50%          14.900000\n75%          18.700000\nmax          43.300000\nName: TEMPERATURE, dtype: float64"
     },
     "execution_count": 65,
     "metadata": {},
     "output_type": "execute_result"
    }
   ],
   "source": [
    "vic_temperature['TEMPERATURE'].describe()"
   ],
   "metadata": {
    "collapsed": false,
    "ExecuteTime": {
     "end_time": "2024-03-21T12:37:55.353440Z",
     "start_time": "2024-03-21T12:37:55.348358Z"
    }
   },
   "id": "4b34f60260060330",
   "execution_count": 65
  },
  {
   "cell_type": "code",
   "outputs": [
    {
     "data": {
      "text/plain": "(141681, 3)"
     },
     "execution_count": 66,
     "metadata": {},
     "output_type": "execute_result"
    }
   ],
   "source": [
    "vic_temperature.shape"
   ],
   "metadata": {
    "collapsed": false,
    "ExecuteTime": {
     "end_time": "2024-03-21T12:37:55.356158Z",
     "start_time": "2024-03-21T12:37:55.354051Z"
    }
   },
   "id": "b0fef9283d61fba8",
   "execution_count": 66
  },
  {
   "cell_type": "code",
   "outputs": [
    {
     "data": {
      "text/plain": "LOCATION       Melbourne (Olympic Park)\nDATETIME            2013-05-31 15:00:00\nTEMPERATURE                         0.8\ndtype: object"
     },
     "execution_count": 67,
     "metadata": {},
     "output_type": "execute_result"
    }
   ],
   "source": [
    "vic_temperature.min()"
   ],
   "metadata": {
    "collapsed": false,
    "ExecuteTime": {
     "end_time": "2024-03-21T12:37:55.364491Z",
     "start_time": "2024-03-21T12:37:55.356739Z"
    }
   },
   "id": "2f703d39d6aebe82",
   "execution_count": 67
  },
  {
   "cell_type": "code",
   "outputs": [
    {
     "data": {
      "text/plain": "LOCATION       Melbourne (Olympic Park)\nDATETIME            2021-03-18 00:00:00\nTEMPERATURE                        43.3\ndtype: object"
     },
     "execution_count": 68,
     "metadata": {},
     "output_type": "execute_result"
    }
   ],
   "source": [
    "vic_temperature.max()"
   ],
   "metadata": {
    "collapsed": false,
    "ExecuteTime": {
     "end_time": "2024-03-21T12:37:55.383368Z",
     "start_time": "2024-03-21T12:37:55.364967Z"
    }
   },
   "id": "e6f3c616c9851906",
   "execution_count": 68
  },
  {
   "cell_type": "code",
   "outputs": [
    {
     "data": {
      "text/plain": "LOCATION       0\nDATETIME       0\nTEMPERATURE    0\ndtype: int64"
     },
     "execution_count": 69,
     "metadata": {},
     "output_type": "execute_result"
    }
   ],
   "source": [
    "vic_temperature.isnull().sum()"
   ],
   "metadata": {
    "collapsed": false,
    "ExecuteTime": {
     "end_time": "2024-03-21T12:37:55.397177Z",
     "start_time": "2024-03-21T12:37:55.383967Z"
    }
   },
   "id": "9a6a87d9bc367223",
   "execution_count": 69
  },
  {
   "cell_type": "code",
   "outputs": [
    {
     "data": {
      "text/plain": "LOCATION       0\nDATETIME       0\nTEMPERATURE    0\ndtype: int64"
     },
     "execution_count": 70,
     "metadata": {},
     "output_type": "execute_result"
    }
   ],
   "source": [
    "vic_temperature.isna().sum()"
   ],
   "metadata": {
    "collapsed": false,
    "ExecuteTime": {
     "end_time": "2024-03-21T12:37:55.410558Z",
     "start_time": "2024-03-21T12:37:55.397847Z"
    }
   },
   "id": "22b22a29aa039bc0",
   "execution_count": 70
  },
  {
   "cell_type": "code",
   "outputs": [
    {
     "data": {
      "text/plain": "LOCATION            1\nDATETIME       141681\nTEMPERATURE       424\ndtype: int64"
     },
     "execution_count": 71,
     "metadata": {},
     "output_type": "execute_result"
    }
   ],
   "source": [
    "vic_temperature.nunique()"
   ],
   "metadata": {
    "collapsed": false,
    "ExecuteTime": {
     "end_time": "2024-03-21T12:37:55.429872Z",
     "start_time": "2024-03-21T12:37:55.411174Z"
    }
   },
   "id": "d6cc129d2837af82",
   "execution_count": 71
  },
  {
   "cell_type": "code",
   "outputs": [
    {
     "data": {
      "text/plain": "LOCATION               object\nDATETIME       datetime64[ns]\nTEMPERATURE           float64\ndtype: object"
     },
     "execution_count": 72,
     "metadata": {},
     "output_type": "execute_result"
    }
   ],
   "source": [
    "vic_temperature.dtypes"
   ],
   "metadata": {
    "collapsed": false,
    "ExecuteTime": {
     "end_time": "2024-03-21T12:37:55.433638Z",
     "start_time": "2024-03-21T12:37:55.430438Z"
    }
   },
   "id": "99cc85a417da565c",
   "execution_count": 72
  },
  {
   "cell_type": "markdown",
   "source": [
    "## QLD Total Demand"
   ],
   "metadata": {
    "collapsed": false
   },
   "id": "f20d638f38e23992"
  },
  {
   "cell_type": "code",
   "outputs": [],
   "source": [
    "qld_totaldemand = pd.read_csv(os.path.join(data_path, 'Australia', 'd', 'totaldemand_qld.csv'), parse_dates=['DATETIME'])"
   ],
   "metadata": {
    "collapsed": false,
    "ExecuteTime": {
     "end_time": "2024-03-21T12:37:55.616518Z",
     "start_time": "2024-03-21T12:37:55.434178Z"
    }
   },
   "id": "bf47836f1c34ec11",
   "execution_count": 73
  },
  {
   "cell_type": "code",
   "outputs": [
    {
     "data": {
      "text/plain": "             DATETIME  TOTALDEMAND REGIONID\n0 2010-01-01 00:00:00      5561.21     QLD1\n1 2010-01-01 00:30:00      5422.25     QLD1\n2 2010-01-01 01:00:00      5315.98     QLD1\n3 2010-01-01 01:30:00      5186.70     QLD1\n4 2010-01-01 02:00:00      5050.83     QLD1",
      "text/html": "<div>\n<style scoped>\n    .dataframe tbody tr th:only-of-type {\n        vertical-align: middle;\n    }\n\n    .dataframe tbody tr th {\n        vertical-align: top;\n    }\n\n    .dataframe thead th {\n        text-align: right;\n    }\n</style>\n<table border=\"1\" class=\"dataframe\">\n  <thead>\n    <tr style=\"text-align: right;\">\n      <th></th>\n      <th>DATETIME</th>\n      <th>TOTALDEMAND</th>\n      <th>REGIONID</th>\n    </tr>\n  </thead>\n  <tbody>\n    <tr>\n      <th>0</th>\n      <td>2010-01-01 00:00:00</td>\n      <td>5561.21</td>\n      <td>QLD1</td>\n    </tr>\n    <tr>\n      <th>1</th>\n      <td>2010-01-01 00:30:00</td>\n      <td>5422.25</td>\n      <td>QLD1</td>\n    </tr>\n    <tr>\n      <th>2</th>\n      <td>2010-01-01 01:00:00</td>\n      <td>5315.98</td>\n      <td>QLD1</td>\n    </tr>\n    <tr>\n      <th>3</th>\n      <td>2010-01-01 01:30:00</td>\n      <td>5186.70</td>\n      <td>QLD1</td>\n    </tr>\n    <tr>\n      <th>4</th>\n      <td>2010-01-01 02:00:00</td>\n      <td>5050.83</td>\n      <td>QLD1</td>\n    </tr>\n  </tbody>\n</table>\n</div>"
     },
     "execution_count": 74,
     "metadata": {},
     "output_type": "execute_result"
    }
   ],
   "source": [
    "qld_totaldemand.head()"
   ],
   "metadata": {
    "collapsed": false,
    "ExecuteTime": {
     "end_time": "2024-03-21T12:37:55.620935Z",
     "start_time": "2024-03-21T12:37:55.617178Z"
    }
   },
   "id": "2d741356595a9191",
   "execution_count": 74
  },
  {
   "cell_type": "code",
   "outputs": [
    {
     "data": {
      "text/plain": "                  DATETIME  TOTALDEMAND REGIONID\n196508 2021-03-17 22:00:00      6443.62     QLD1\n196509 2021-03-17 22:30:00      6264.63     QLD1\n196510 2021-03-17 23:00:00      6144.16     QLD1\n196511 2021-03-17 23:30:00      5897.64     QLD1\n196512 2021-03-18 00:00:00      5737.03     QLD1",
      "text/html": "<div>\n<style scoped>\n    .dataframe tbody tr th:only-of-type {\n        vertical-align: middle;\n    }\n\n    .dataframe tbody tr th {\n        vertical-align: top;\n    }\n\n    .dataframe thead th {\n        text-align: right;\n    }\n</style>\n<table border=\"1\" class=\"dataframe\">\n  <thead>\n    <tr style=\"text-align: right;\">\n      <th></th>\n      <th>DATETIME</th>\n      <th>TOTALDEMAND</th>\n      <th>REGIONID</th>\n    </tr>\n  </thead>\n  <tbody>\n    <tr>\n      <th>196508</th>\n      <td>2021-03-17 22:00:00</td>\n      <td>6443.62</td>\n      <td>QLD1</td>\n    </tr>\n    <tr>\n      <th>196509</th>\n      <td>2021-03-17 22:30:00</td>\n      <td>6264.63</td>\n      <td>QLD1</td>\n    </tr>\n    <tr>\n      <th>196510</th>\n      <td>2021-03-17 23:00:00</td>\n      <td>6144.16</td>\n      <td>QLD1</td>\n    </tr>\n    <tr>\n      <th>196511</th>\n      <td>2021-03-17 23:30:00</td>\n      <td>5897.64</td>\n      <td>QLD1</td>\n    </tr>\n    <tr>\n      <th>196512</th>\n      <td>2021-03-18 00:00:00</td>\n      <td>5737.03</td>\n      <td>QLD1</td>\n    </tr>\n  </tbody>\n</table>\n</div>"
     },
     "execution_count": 75,
     "metadata": {},
     "output_type": "execute_result"
    }
   ],
   "source": [
    "qld_totaldemand.tail()"
   ],
   "metadata": {
    "collapsed": false,
    "ExecuteTime": {
     "end_time": "2024-03-21T12:37:55.629637Z",
     "start_time": "2024-03-21T12:37:55.621492Z"
    }
   },
   "id": "52e89422d6050c4b",
   "execution_count": 75
  },
  {
   "cell_type": "code",
   "outputs": [
    {
     "name": "stdout",
     "output_type": "stream",
     "text": [
      "<class 'pandas.core.frame.DataFrame'>\n",
      "RangeIndex: 196513 entries, 0 to 196512\n",
      "Data columns (total 3 columns):\n",
      " #   Column       Non-Null Count   Dtype         \n",
      "---  ------       --------------   -----         \n",
      " 0   DATETIME     196513 non-null  datetime64[ns]\n",
      " 1   TOTALDEMAND  196513 non-null  float64       \n",
      " 2   REGIONID     196513 non-null  object        \n",
      "dtypes: datetime64[ns](1), float64(1), object(1)\n",
      "memory usage: 4.5+ MB\n"
     ]
    }
   ],
   "source": [
    "qld_totaldemand.info()"
   ],
   "metadata": {
    "collapsed": false,
    "ExecuteTime": {
     "end_time": "2024-03-21T12:37:55.638881Z",
     "start_time": "2024-03-21T12:37:55.630123Z"
    }
   },
   "id": "86afe48fd55ccdc",
   "execution_count": 76
  },
  {
   "cell_type": "code",
   "outputs": [
    {
     "data": {
      "text/plain": "count    196513.000000\nmean       6026.545773\nstd         868.481406\nmin        3748.240000\n25%        5368.770000\n50%        5993.590000\n75%        6601.290000\nmax        9988.090000\nName: TOTALDEMAND, dtype: float64"
     },
     "execution_count": 77,
     "metadata": {},
     "output_type": "execute_result"
    }
   ],
   "source": [
    "qld_totaldemand['TOTALDEMAND'].describe()"
   ],
   "metadata": {
    "collapsed": false,
    "ExecuteTime": {
     "end_time": "2024-03-21T12:37:55.645758Z",
     "start_time": "2024-03-21T12:37:55.639448Z"
    }
   },
   "id": "c6fddd6f866f5ca1",
   "execution_count": 77
  },
  {
   "cell_type": "code",
   "outputs": [
    {
     "data": {
      "text/plain": "(196513, 3)"
     },
     "execution_count": 78,
     "metadata": {},
     "output_type": "execute_result"
    }
   ],
   "source": [
    "qld_totaldemand.shape"
   ],
   "metadata": {
    "collapsed": false,
    "ExecuteTime": {
     "end_time": "2024-03-21T12:37:55.648280Z",
     "start_time": "2024-03-21T12:37:55.646268Z"
    }
   },
   "id": "f95f761b73b3653b",
   "execution_count": 78
  },
  {
   "cell_type": "code",
   "outputs": [
    {
     "data": {
      "text/plain": "DATETIME       2010-01-01 00:00:00\nTOTALDEMAND                3748.24\nREGIONID                      QLD1\ndtype: object"
     },
     "execution_count": 79,
     "metadata": {},
     "output_type": "execute_result"
    }
   ],
   "source": [
    "qld_totaldemand.min()"
   ],
   "metadata": {
    "collapsed": false,
    "ExecuteTime": {
     "end_time": "2024-03-21T12:37:55.657910Z",
     "start_time": "2024-03-21T12:37:55.648835Z"
    }
   },
   "id": "271ff63c6d26c3e5",
   "execution_count": 79
  },
  {
   "cell_type": "code",
   "outputs": [
    {
     "data": {
      "text/plain": "DATETIME       2021-03-18 00:00:00\nTOTALDEMAND                9988.09\nREGIONID                      QLD1\ndtype: object"
     },
     "execution_count": 80,
     "metadata": {},
     "output_type": "execute_result"
    }
   ],
   "source": [
    "qld_totaldemand.max()"
   ],
   "metadata": {
    "collapsed": false,
    "ExecuteTime": {
     "end_time": "2024-03-21T12:37:55.666285Z",
     "start_time": "2024-03-21T12:37:55.658385Z"
    }
   },
   "id": "6152177e0f02b07c",
   "execution_count": 80
  },
  {
   "cell_type": "code",
   "outputs": [
    {
     "data": {
      "text/plain": "DATETIME       0\nTOTALDEMAND    0\nREGIONID       0\ndtype: int64"
     },
     "execution_count": 81,
     "metadata": {},
     "output_type": "execute_result"
    }
   ],
   "source": [
    "qld_totaldemand.isnull().sum()"
   ],
   "metadata": {
    "collapsed": false,
    "ExecuteTime": {
     "end_time": "2024-03-21T12:37:55.673040Z",
     "start_time": "2024-03-21T12:37:55.666751Z"
    }
   },
   "id": "c7b39e151f95c7df",
   "execution_count": 81
  },
  {
   "cell_type": "code",
   "outputs": [
    {
     "data": {
      "text/plain": "DATETIME       0\nTOTALDEMAND    0\nREGIONID       0\ndtype: int64"
     },
     "execution_count": 82,
     "metadata": {},
     "output_type": "execute_result"
    }
   ],
   "source": [
    "qld_totaldemand.isna().sum()"
   ],
   "metadata": {
    "collapsed": false,
    "ExecuteTime": {
     "end_time": "2024-03-21T12:37:55.686603Z",
     "start_time": "2024-03-21T12:37:55.677275Z"
    }
   },
   "id": "d671939c1db5c31d",
   "execution_count": 82
  },
  {
   "cell_type": "code",
   "outputs": [
    {
     "data": {
      "text/plain": "DATETIME       196513\nTOTALDEMAND    146678\nREGIONID            1\ndtype: int64"
     },
     "execution_count": 83,
     "metadata": {},
     "output_type": "execute_result"
    }
   ],
   "source": [
    "qld_totaldemand.nunique()"
   ],
   "metadata": {
    "collapsed": false,
    "ExecuteTime": {
     "end_time": "2024-03-21T12:37:55.714482Z",
     "start_time": "2024-03-21T12:37:55.687205Z"
    }
   },
   "id": "3ebd9e1551d5d033",
   "execution_count": 83
  },
  {
   "cell_type": "code",
   "outputs": [
    {
     "data": {
      "text/plain": "DATETIME       datetime64[ns]\nTOTALDEMAND           float64\nREGIONID               object\ndtype: object"
     },
     "execution_count": 84,
     "metadata": {},
     "output_type": "execute_result"
    }
   ],
   "source": [
    "qld_totaldemand.dtypes"
   ],
   "metadata": {
    "collapsed": false,
    "ExecuteTime": {
     "end_time": "2024-03-21T12:37:55.717487Z",
     "start_time": "2024-03-21T12:37:55.715082Z"
    }
   },
   "id": "7e9929b26f76ec45",
   "execution_count": 84
  },
  {
   "cell_type": "markdown",
   "source": [
    "## SA Total Demand"
   ],
   "metadata": {
    "collapsed": false
   },
   "id": "aa04570f6bad42f3"
  },
  {
   "cell_type": "code",
   "outputs": [],
   "source": [
    "sa_totaldemand = pd.read_csv(os.path.join(data_path, 'Australia', 'd', 'totaldemand_sa.csv'), parse_dates=['DATETIME'])"
   ],
   "metadata": {
    "collapsed": false,
    "ExecuteTime": {
     "end_time": "2024-03-21T12:37:55.899397Z",
     "start_time": "2024-03-21T12:37:55.717970Z"
    }
   },
   "id": "809033d96c1e868",
   "execution_count": 85
  },
  {
   "cell_type": "code",
   "outputs": [
    {
     "data": {
      "text/plain": "             DATETIME  TOTALDEMAND REGIONID\n0 2010-01-01 00:30:00      1385.23      SA1\n1 2010-01-01 01:00:00      1338.53      SA1\n2 2010-01-01 01:30:00      1260.39      SA1\n3 2010-01-01 02:00:00      1189.31      SA1\n4 2010-01-01 02:30:00      1141.12      SA1",
      "text/html": "<div>\n<style scoped>\n    .dataframe tbody tr th:only-of-type {\n        vertical-align: middle;\n    }\n\n    .dataframe tbody tr th {\n        vertical-align: top;\n    }\n\n    .dataframe thead th {\n        text-align: right;\n    }\n</style>\n<table border=\"1\" class=\"dataframe\">\n  <thead>\n    <tr style=\"text-align: right;\">\n      <th></th>\n      <th>DATETIME</th>\n      <th>TOTALDEMAND</th>\n      <th>REGIONID</th>\n    </tr>\n  </thead>\n  <tbody>\n    <tr>\n      <th>0</th>\n      <td>2010-01-01 00:30:00</td>\n      <td>1385.23</td>\n      <td>SA1</td>\n    </tr>\n    <tr>\n      <th>1</th>\n      <td>2010-01-01 01:00:00</td>\n      <td>1338.53</td>\n      <td>SA1</td>\n    </tr>\n    <tr>\n      <th>2</th>\n      <td>2010-01-01 01:30:00</td>\n      <td>1260.39</td>\n      <td>SA1</td>\n    </tr>\n    <tr>\n      <th>3</th>\n      <td>2010-01-01 02:00:00</td>\n      <td>1189.31</td>\n      <td>SA1</td>\n    </tr>\n    <tr>\n      <th>4</th>\n      <td>2010-01-01 02:30:00</td>\n      <td>1141.12</td>\n      <td>SA1</td>\n    </tr>\n  </tbody>\n</table>\n</div>"
     },
     "execution_count": 86,
     "metadata": {},
     "output_type": "execute_result"
    }
   ],
   "source": [
    "sa_totaldemand.head()"
   ],
   "metadata": {
    "collapsed": false,
    "ExecuteTime": {
     "end_time": "2024-03-21T12:37:55.903699Z",
     "start_time": "2024-03-21T12:37:55.900059Z"
    }
   },
   "id": "7972e25dc1e7d0b1",
   "execution_count": 86
  },
  {
   "cell_type": "code",
   "outputs": [
    {
     "data": {
      "text/plain": "                  DATETIME  TOTALDEMAND REGIONID\n196507 2021-03-17 22:00:00      1277.91      SA1\n196508 2021-03-17 22:30:00      1226.81      SA1\n196509 2021-03-17 23:00:00      1202.62      SA1\n196510 2021-03-17 23:30:00      1194.34      SA1\n196511 2021-03-18 00:00:00      1340.58      SA1",
      "text/html": "<div>\n<style scoped>\n    .dataframe tbody tr th:only-of-type {\n        vertical-align: middle;\n    }\n\n    .dataframe tbody tr th {\n        vertical-align: top;\n    }\n\n    .dataframe thead th {\n        text-align: right;\n    }\n</style>\n<table border=\"1\" class=\"dataframe\">\n  <thead>\n    <tr style=\"text-align: right;\">\n      <th></th>\n      <th>DATETIME</th>\n      <th>TOTALDEMAND</th>\n      <th>REGIONID</th>\n    </tr>\n  </thead>\n  <tbody>\n    <tr>\n      <th>196507</th>\n      <td>2021-03-17 22:00:00</td>\n      <td>1277.91</td>\n      <td>SA1</td>\n    </tr>\n    <tr>\n      <th>196508</th>\n      <td>2021-03-17 22:30:00</td>\n      <td>1226.81</td>\n      <td>SA1</td>\n    </tr>\n    <tr>\n      <th>196509</th>\n      <td>2021-03-17 23:00:00</td>\n      <td>1202.62</td>\n      <td>SA1</td>\n    </tr>\n    <tr>\n      <th>196510</th>\n      <td>2021-03-17 23:30:00</td>\n      <td>1194.34</td>\n      <td>SA1</td>\n    </tr>\n    <tr>\n      <th>196511</th>\n      <td>2021-03-18 00:00:00</td>\n      <td>1340.58</td>\n      <td>SA1</td>\n    </tr>\n  </tbody>\n</table>\n</div>"
     },
     "execution_count": 87,
     "metadata": {},
     "output_type": "execute_result"
    }
   ],
   "source": [
    "sa_totaldemand.tail()"
   ],
   "metadata": {
    "collapsed": false,
    "ExecuteTime": {
     "end_time": "2024-03-21T12:37:55.915056Z",
     "start_time": "2024-03-21T12:37:55.904185Z"
    }
   },
   "id": "f37386c9159737b",
   "execution_count": 87
  },
  {
   "cell_type": "code",
   "outputs": [
    {
     "name": "stdout",
     "output_type": "stream",
     "text": [
      "<class 'pandas.core.frame.DataFrame'>\n",
      "RangeIndex: 196512 entries, 0 to 196511\n",
      "Data columns (total 3 columns):\n",
      " #   Column       Non-Null Count   Dtype         \n",
      "---  ------       --------------   -----         \n",
      " 0   DATETIME     196512 non-null  datetime64[ns]\n",
      " 1   TOTALDEMAND  196512 non-null  float64       \n",
      " 2   REGIONID     196512 non-null  object        \n",
      "dtypes: datetime64[ns](1), float64(1), object(1)\n",
      "memory usage: 4.5+ MB\n"
     ]
    }
   ],
   "source": [
    "sa_totaldemand.info()"
   ],
   "metadata": {
    "collapsed": false,
    "ExecuteTime": {
     "end_time": "2024-03-21T12:37:55.926147Z",
     "start_time": "2024-03-21T12:37:55.915609Z"
    }
   },
   "id": "92be34c822d062bd",
   "execution_count": 88
  },
  {
   "cell_type": "code",
   "outputs": [
    {
     "data": {
      "text/plain": "count    196512.000000\nmean       1383.901566\nstd         326.494153\nmin          21.890000\n25%        1164.480000\n50%        1346.140000\n75%        1567.342500\nmax        3385.420000\nName: TOTALDEMAND, dtype: float64"
     },
     "execution_count": 89,
     "metadata": {},
     "output_type": "execute_result"
    }
   ],
   "source": [
    "sa_totaldemand['TOTALDEMAND'].describe()"
   ],
   "metadata": {
    "collapsed": false,
    "ExecuteTime": {
     "end_time": "2024-03-21T12:37:55.932381Z",
     "start_time": "2024-03-21T12:37:55.926694Z"
    }
   },
   "id": "49968faa5518d3a5",
   "execution_count": 89
  },
  {
   "cell_type": "code",
   "outputs": [
    {
     "data": {
      "text/plain": "(196512, 3)"
     },
     "execution_count": 90,
     "metadata": {},
     "output_type": "execute_result"
    }
   ],
   "source": [
    "sa_totaldemand.shape"
   ],
   "metadata": {
    "collapsed": false,
    "ExecuteTime": {
     "end_time": "2024-03-21T12:37:55.934748Z",
     "start_time": "2024-03-21T12:37:55.932872Z"
    }
   },
   "id": "6c01eebb7dd52c62",
   "execution_count": 90
  },
  {
   "cell_type": "code",
   "outputs": [
    {
     "data": {
      "text/plain": "DATETIME       2010-01-01 00:30:00\nTOTALDEMAND                  21.89\nREGIONID                       SA1\ndtype: object"
     },
     "execution_count": 91,
     "metadata": {},
     "output_type": "execute_result"
    }
   ],
   "source": [
    "sa_totaldemand.min()"
   ],
   "metadata": {
    "collapsed": false,
    "ExecuteTime": {
     "end_time": "2024-03-21T12:37:55.946258Z",
     "start_time": "2024-03-21T12:37:55.935258Z"
    }
   },
   "id": "10daa7f0389295c0",
   "execution_count": 91
  },
  {
   "cell_type": "code",
   "outputs": [
    {
     "data": {
      "text/plain": "DATETIME       2021-03-18 00:00:00\nTOTALDEMAND                3385.42\nREGIONID                       SA1\ndtype: object"
     },
     "execution_count": 92,
     "metadata": {},
     "output_type": "execute_result"
    }
   ],
   "source": [
    "sa_totaldemand.max()"
   ],
   "metadata": {
    "collapsed": false,
    "ExecuteTime": {
     "end_time": "2024-03-21T12:37:55.954587Z",
     "start_time": "2024-03-21T12:37:55.946749Z"
    }
   },
   "id": "282a3d9e2e47d14a",
   "execution_count": 92
  },
  {
   "cell_type": "code",
   "outputs": [
    {
     "data": {
      "text/plain": "DATETIME       0\nTOTALDEMAND    0\nREGIONID       0\ndtype: int64"
     },
     "execution_count": 93,
     "metadata": {},
     "output_type": "execute_result"
    }
   ],
   "source": [
    "sa_totaldemand.isnull().sum()"
   ],
   "metadata": {
    "collapsed": false,
    "ExecuteTime": {
     "end_time": "2024-03-21T12:37:55.961319Z",
     "start_time": "2024-03-21T12:37:55.955116Z"
    }
   },
   "id": "5053d71deeb557ad",
   "execution_count": 93
  },
  {
   "cell_type": "code",
   "outputs": [
    {
     "data": {
      "text/plain": "DATETIME       0\nTOTALDEMAND    0\nREGIONID       0\ndtype: int64"
     },
     "execution_count": 94,
     "metadata": {},
     "output_type": "execute_result"
    }
   ],
   "source": [
    "sa_totaldemand.isna().sum()"
   ],
   "metadata": {
    "collapsed": false,
    "ExecuteTime": {
     "end_time": "2024-03-21T12:37:55.970526Z",
     "start_time": "2024-03-21T12:37:55.961792Z"
    }
   },
   "id": "78254dea96713374",
   "execution_count": 94
  },
  {
   "cell_type": "code",
   "outputs": [
    {
     "data": {
      "text/plain": "DATETIME       196512\nTOTALDEMAND     95534\nREGIONID            1\ndtype: int64"
     },
     "execution_count": 95,
     "metadata": {},
     "output_type": "execute_result"
    }
   ],
   "source": [
    "sa_totaldemand.nunique()"
   ],
   "metadata": {
    "collapsed": false,
    "ExecuteTime": {
     "end_time": "2024-03-21T12:37:55.983799Z",
     "start_time": "2024-03-21T12:37:55.971055Z"
    }
   },
   "id": "dc5b2683235183fd",
   "execution_count": 95
  },
  {
   "cell_type": "code",
   "outputs": [
    {
     "data": {
      "text/plain": "DATETIME       datetime64[ns]\nTOTALDEMAND           float64\nREGIONID               object\ndtype: object"
     },
     "execution_count": 96,
     "metadata": {},
     "output_type": "execute_result"
    }
   ],
   "source": [
    "sa_totaldemand.dtypes"
   ],
   "metadata": {
    "collapsed": false,
    "ExecuteTime": {
     "end_time": "2024-03-21T12:37:55.986618Z",
     "start_time": "2024-03-21T12:37:55.984373Z"
    }
   },
   "id": "36bbae2be871d283",
   "execution_count": 96
  },
  {
   "cell_type": "markdown",
   "source": [
    "## Victoria Total Demand"
   ],
   "metadata": {
    "collapsed": false
   },
   "id": "a72f68529954d5ca"
  },
  {
   "cell_type": "code",
   "outputs": [],
   "source": [
    "vic_total_demand = pd.read_csv(os.path.join(data_path, 'Australia', 'd', 'totaldemand_vic.csv'), parse_dates=['DATETIME'])"
   ],
   "metadata": {
    "collapsed": false,
    "ExecuteTime": {
     "end_time": "2024-03-21T12:37:56.164843Z",
     "start_time": "2024-03-21T12:37:55.987080Z"
    }
   },
   "id": "8071b62d4914e9d6",
   "execution_count": 97
  },
  {
   "cell_type": "code",
   "outputs": [
    {
     "data": {
      "text/plain": "             DATETIME  TOTALDEMAND REGIONID\n0 2010-01-01 00:00:00      5426.12     VIC1\n1 2010-01-01 00:30:00      5111.02     VIC1\n2 2010-01-01 01:00:00      4960.03     VIC1\n3 2010-01-01 01:30:00      5283.40     VIC1\n4 2010-01-01 02:00:00      5046.15     VIC1",
      "text/html": "<div>\n<style scoped>\n    .dataframe tbody tr th:only-of-type {\n        vertical-align: middle;\n    }\n\n    .dataframe tbody tr th {\n        vertical-align: top;\n    }\n\n    .dataframe thead th {\n        text-align: right;\n    }\n</style>\n<table border=\"1\" class=\"dataframe\">\n  <thead>\n    <tr style=\"text-align: right;\">\n      <th></th>\n      <th>DATETIME</th>\n      <th>TOTALDEMAND</th>\n      <th>REGIONID</th>\n    </tr>\n  </thead>\n  <tbody>\n    <tr>\n      <th>0</th>\n      <td>2010-01-01 00:00:00</td>\n      <td>5426.12</td>\n      <td>VIC1</td>\n    </tr>\n    <tr>\n      <th>1</th>\n      <td>2010-01-01 00:30:00</td>\n      <td>5111.02</td>\n      <td>VIC1</td>\n    </tr>\n    <tr>\n      <th>2</th>\n      <td>2010-01-01 01:00:00</td>\n      <td>4960.03</td>\n      <td>VIC1</td>\n    </tr>\n    <tr>\n      <th>3</th>\n      <td>2010-01-01 01:30:00</td>\n      <td>5283.40</td>\n      <td>VIC1</td>\n    </tr>\n    <tr>\n      <th>4</th>\n      <td>2010-01-01 02:00:00</td>\n      <td>5046.15</td>\n      <td>VIC1</td>\n    </tr>\n  </tbody>\n</table>\n</div>"
     },
     "execution_count": 98,
     "metadata": {},
     "output_type": "execute_result"
    }
   ],
   "source": [
    "vic_total_demand.head()"
   ],
   "metadata": {
    "collapsed": false,
    "ExecuteTime": {
     "end_time": "2024-03-21T12:37:56.169194Z",
     "start_time": "2024-03-21T12:37:56.165493Z"
    }
   },
   "id": "da49618bfec487ab",
   "execution_count": 98
  },
  {
   "cell_type": "code",
   "outputs": [
    {
     "data": {
      "text/plain": "                  DATETIME  TOTALDEMAND REGIONID\n196508 2021-03-17 22:00:00      4557.56     VIC1\n196509 2021-03-17 22:30:00      4485.95     VIC1\n196510 2021-03-17 23:00:00      4434.62     VIC1\n196511 2021-03-17 23:30:00      4660.85     VIC1\n196512 2021-03-18 00:00:00      4608.85     VIC1",
      "text/html": "<div>\n<style scoped>\n    .dataframe tbody tr th:only-of-type {\n        vertical-align: middle;\n    }\n\n    .dataframe tbody tr th {\n        vertical-align: top;\n    }\n\n    .dataframe thead th {\n        text-align: right;\n    }\n</style>\n<table border=\"1\" class=\"dataframe\">\n  <thead>\n    <tr style=\"text-align: right;\">\n      <th></th>\n      <th>DATETIME</th>\n      <th>TOTALDEMAND</th>\n      <th>REGIONID</th>\n    </tr>\n  </thead>\n  <tbody>\n    <tr>\n      <th>196508</th>\n      <td>2021-03-17 22:00:00</td>\n      <td>4557.56</td>\n      <td>VIC1</td>\n    </tr>\n    <tr>\n      <th>196509</th>\n      <td>2021-03-17 22:30:00</td>\n      <td>4485.95</td>\n      <td>VIC1</td>\n    </tr>\n    <tr>\n      <th>196510</th>\n      <td>2021-03-17 23:00:00</td>\n      <td>4434.62</td>\n      <td>VIC1</td>\n    </tr>\n    <tr>\n      <th>196511</th>\n      <td>2021-03-17 23:30:00</td>\n      <td>4660.85</td>\n      <td>VIC1</td>\n    </tr>\n    <tr>\n      <th>196512</th>\n      <td>2021-03-18 00:00:00</td>\n      <td>4608.85</td>\n      <td>VIC1</td>\n    </tr>\n  </tbody>\n</table>\n</div>"
     },
     "execution_count": 99,
     "metadata": {},
     "output_type": "execute_result"
    }
   ],
   "source": [
    "vic_total_demand.tail()"
   ],
   "metadata": {
    "collapsed": false,
    "ExecuteTime": {
     "end_time": "2024-03-21T12:37:56.180733Z",
     "start_time": "2024-03-21T12:37:56.169778Z"
    }
   },
   "id": "d69248191cecbfbc",
   "execution_count": 99
  },
  {
   "cell_type": "code",
   "outputs": [
    {
     "name": "stdout",
     "output_type": "stream",
     "text": [
      "<class 'pandas.core.frame.DataFrame'>\n",
      "RangeIndex: 196513 entries, 0 to 196512\n",
      "Data columns (total 3 columns):\n",
      " #   Column       Non-Null Count   Dtype         \n",
      "---  ------       --------------   -----         \n",
      " 0   DATETIME     196513 non-null  datetime64[ns]\n",
      " 1   TOTALDEMAND  196513 non-null  float64       \n",
      " 2   REGIONID     196513 non-null  object        \n",
      "dtypes: datetime64[ns](1), float64(1), object(1)\n",
      "memory usage: 4.5+ MB\n"
     ]
    }
   ],
   "source": [
    "vic_total_demand.info()"
   ],
   "metadata": {
    "collapsed": false,
    "ExecuteTime": {
     "end_time": "2024-03-21T12:37:56.195893Z",
     "start_time": "2024-03-21T12:37:56.181224Z"
    }
   },
   "id": "fc45a989ca613566",
   "execution_count": 100
  },
  {
   "cell_type": "code",
   "outputs": [
    {
     "data": {
      "text/plain": "count    196513.000000\nmean       5252.950834\nstd         946.281304\nmin        2307.070000\n25%        4535.420000\n50%        5157.760000\n75%        5909.540000\nmax       10240.220000\nName: TOTALDEMAND, dtype: float64"
     },
     "execution_count": 101,
     "metadata": {},
     "output_type": "execute_result"
    }
   ],
   "source": [
    "vic_total_demand['TOTALDEMAND'].describe()"
   ],
   "metadata": {
    "collapsed": false,
    "ExecuteTime": {
     "end_time": "2024-03-21T12:37:56.207546Z",
     "start_time": "2024-03-21T12:37:56.196436Z"
    }
   },
   "id": "acf59b1aeb79a169",
   "execution_count": 101
  },
  {
   "cell_type": "code",
   "outputs": [
    {
     "data": {
      "text/plain": "(196513, 3)"
     },
     "execution_count": 102,
     "metadata": {},
     "output_type": "execute_result"
    }
   ],
   "source": [
    "vic_total_demand.shape"
   ],
   "metadata": {
    "collapsed": false,
    "ExecuteTime": {
     "end_time": "2024-03-21T12:37:56.212396Z",
     "start_time": "2024-03-21T12:37:56.208131Z"
    }
   },
   "id": "56e70d520d1db9c6",
   "execution_count": 102
  },
  {
   "cell_type": "code",
   "outputs": [
    {
     "data": {
      "text/plain": "DATETIME       2010-01-01 00:00:00\nTOTALDEMAND                2307.07\nREGIONID                      VIC1\ndtype: object"
     },
     "execution_count": 103,
     "metadata": {},
     "output_type": "execute_result"
    }
   ],
   "source": [
    "vic_total_demand.min()"
   ],
   "metadata": {
    "collapsed": false,
    "ExecuteTime": {
     "end_time": "2024-03-21T12:37:56.228027Z",
     "start_time": "2024-03-21T12:37:56.212855Z"
    }
   },
   "id": "bef5da5a832a7f8f",
   "execution_count": 103
  },
  {
   "cell_type": "code",
   "outputs": [
    {
     "data": {
      "text/plain": "DATETIME       2021-03-18 00:00:00\nTOTALDEMAND               10240.22\nREGIONID                      VIC1\ndtype: object"
     },
     "execution_count": 104,
     "metadata": {},
     "output_type": "execute_result"
    }
   ],
   "source": [
    "vic_total_demand.max()"
   ],
   "metadata": {
    "collapsed": false,
    "ExecuteTime": {
     "end_time": "2024-03-21T12:37:56.236564Z",
     "start_time": "2024-03-21T12:37:56.228575Z"
    }
   },
   "id": "430c7e53c6fb48dc",
   "execution_count": 104
  },
  {
   "cell_type": "code",
   "outputs": [
    {
     "data": {
      "text/plain": "DATETIME       0\nTOTALDEMAND    0\nREGIONID       0\ndtype: int64"
     },
     "execution_count": 105,
     "metadata": {},
     "output_type": "execute_result"
    }
   ],
   "source": [
    "vic_total_demand.isnull().sum()"
   ],
   "metadata": {
    "collapsed": false,
    "ExecuteTime": {
     "end_time": "2024-03-21T12:37:56.243604Z",
     "start_time": "2024-03-21T12:37:56.237128Z"
    }
   },
   "id": "fba0584917acccde",
   "execution_count": 105
  },
  {
   "cell_type": "code",
   "outputs": [
    {
     "data": {
      "text/plain": "DATETIME       0\nTOTALDEMAND    0\nREGIONID       0\ndtype: int64"
     },
     "execution_count": 106,
     "metadata": {},
     "output_type": "execute_result"
    }
   ],
   "source": [
    "vic_total_demand.isna().sum()"
   ],
   "metadata": {
    "collapsed": false,
    "ExecuteTime": {
     "end_time": "2024-03-21T12:37:56.252445Z",
     "start_time": "2024-03-21T12:37:56.244275Z"
    }
   },
   "id": "1421e5afd11229be",
   "execution_count": 106
  },
  {
   "cell_type": "code",
   "outputs": [
    {
     "data": {
      "text/plain": "DATETIME       196513\nTOTALDEMAND    149442\nREGIONID            1\ndtype: int64"
     },
     "execution_count": 107,
     "metadata": {},
     "output_type": "execute_result"
    }
   ],
   "source": [
    "vic_total_demand.nunique()"
   ],
   "metadata": {
    "collapsed": false,
    "ExecuteTime": {
     "end_time": "2024-03-21T12:37:56.267826Z",
     "start_time": "2024-03-21T12:37:56.253015Z"
    }
   },
   "id": "eb42249510174393",
   "execution_count": 107
  },
  {
   "cell_type": "code",
   "outputs": [
    {
     "data": {
      "text/plain": "DATETIME       datetime64[ns]\nTOTALDEMAND           float64\nREGIONID               object\ndtype: object"
     },
     "execution_count": 108,
     "metadata": {},
     "output_type": "execute_result"
    }
   ],
   "source": [
    "vic_total_demand.dtypes"
   ],
   "metadata": {
    "collapsed": false,
    "ExecuteTime": {
     "end_time": "2024-03-21T12:37:56.270762Z",
     "start_time": "2024-03-21T12:37:56.268418Z"
    }
   },
   "id": "d590818ef2a976b8",
   "execution_count": 108
  },
  {
   "cell_type": "markdown",
   "source": [
    "# 1: operational demand actual, half-hourly, consolidated"
   ],
   "metadata": {
    "collapsed": false
   },
   "id": "764841b4cdf350f7"
  },
  {
   "cell_type": "code",
   "outputs": [
    {
     "data": {
      "text/plain": "   I  OPERATIONAL_DEMAND  ACTUAL  3 REGIONID   INTERVAL_DATETIME  \\\n0  D  OPERATIONAL_DEMAND  ACTUAL  3     NSW1 2023-09-19 08:00:00   \n1  D  OPERATIONAL_DEMAND  ACTUAL  3     QLD1 2023-09-19 08:00:00   \n2  D  OPERATIONAL_DEMAND  ACTUAL  3      SA1 2023-09-19 08:00:00   \n3  D  OPERATIONAL_DEMAND  ACTUAL  3     TAS1 2023-09-19 08:00:00   \n4  D  OPERATIONAL_DEMAND  ACTUAL  3     VIC1 2023-09-19 08:00:00   \n\n   OPERATIONAL_DEMAND.1  OPERATIONAL_DEMAND_ADJUSTMENT  WDR_ESTIMATE  \\\n0                  6860                              0             0   \n1                  5745                              0             0   \n2                  1290                              0             0   \n3                  1253                              0             0   \n4                  4896                              0             0   \n\n          LASTCHANGED  \n0 2023-09-19 08:00:01  \n1 2023-09-19 08:00:01  \n2 2023-09-19 08:00:01  \n3 2023-09-19 08:00:01  \n4 2023-09-19 08:00:01  ",
      "text/html": "<div>\n<style scoped>\n    .dataframe tbody tr th:only-of-type {\n        vertical-align: middle;\n    }\n\n    .dataframe tbody tr th {\n        vertical-align: top;\n    }\n\n    .dataframe thead th {\n        text-align: right;\n    }\n</style>\n<table border=\"1\" class=\"dataframe\">\n  <thead>\n    <tr style=\"text-align: right;\">\n      <th></th>\n      <th>I</th>\n      <th>OPERATIONAL_DEMAND</th>\n      <th>ACTUAL</th>\n      <th>3</th>\n      <th>REGIONID</th>\n      <th>INTERVAL_DATETIME</th>\n      <th>OPERATIONAL_DEMAND.1</th>\n      <th>OPERATIONAL_DEMAND_ADJUSTMENT</th>\n      <th>WDR_ESTIMATE</th>\n      <th>LASTCHANGED</th>\n    </tr>\n  </thead>\n  <tbody>\n    <tr>\n      <th>0</th>\n      <td>D</td>\n      <td>OPERATIONAL_DEMAND</td>\n      <td>ACTUAL</td>\n      <td>3</td>\n      <td>NSW1</td>\n      <td>2023-09-19 08:00:00</td>\n      <td>6860</td>\n      <td>0</td>\n      <td>0</td>\n      <td>2023-09-19 08:00:01</td>\n    </tr>\n    <tr>\n      <th>1</th>\n      <td>D</td>\n      <td>OPERATIONAL_DEMAND</td>\n      <td>ACTUAL</td>\n      <td>3</td>\n      <td>QLD1</td>\n      <td>2023-09-19 08:00:00</td>\n      <td>5745</td>\n      <td>0</td>\n      <td>0</td>\n      <td>2023-09-19 08:00:01</td>\n    </tr>\n    <tr>\n      <th>2</th>\n      <td>D</td>\n      <td>OPERATIONAL_DEMAND</td>\n      <td>ACTUAL</td>\n      <td>3</td>\n      <td>SA1</td>\n      <td>2023-09-19 08:00:00</td>\n      <td>1290</td>\n      <td>0</td>\n      <td>0</td>\n      <td>2023-09-19 08:00:01</td>\n    </tr>\n    <tr>\n      <th>3</th>\n      <td>D</td>\n      <td>OPERATIONAL_DEMAND</td>\n      <td>ACTUAL</td>\n      <td>3</td>\n      <td>TAS1</td>\n      <td>2023-09-19 08:00:00</td>\n      <td>1253</td>\n      <td>0</td>\n      <td>0</td>\n      <td>2023-09-19 08:00:01</td>\n    </tr>\n    <tr>\n      <th>4</th>\n      <td>D</td>\n      <td>OPERATIONAL_DEMAND</td>\n      <td>ACTUAL</td>\n      <td>3</td>\n      <td>VIC1</td>\n      <td>2023-09-19 08:00:00</td>\n      <td>4896</td>\n      <td>0</td>\n      <td>0</td>\n      <td>2023-09-19 08:00:01</td>\n    </tr>\n  </tbody>\n</table>\n</div>"
     },
     "execution_count": 145,
     "metadata": {},
     "output_type": "execute_result"
    }
   ],
   "source": [
    "df1 = pd.read_csv(os.path.join(data_path, 'operational_demand_actual_hh_consolidated.csv'), parse_dates=['INTERVAL_DATETIME', 'LASTCHANGED'], )\n",
    "df1.head()"
   ],
   "metadata": {
    "collapsed": false,
    "ExecuteTime": {
     "end_time": "2024-03-21T12:38:07.044193Z",
     "start_time": "2024-03-21T12:38:06.889843Z"
    }
   },
   "id": "3c08bdb2145ee986",
   "execution_count": 145
  },
  {
   "cell_type": "code",
   "outputs": [
    {
     "data": {
      "text/plain": "       I  OPERATIONAL_DEMAND  ACTUAL  3 REGIONID   INTERVAL_DATETIME  \\\n96900  D  OPERATIONAL_DEMAND  ACTUAL  3     NSW1 2023-03-04 03:00:00   \n96901  D  OPERATIONAL_DEMAND  ACTUAL  3     QLD1 2023-03-04 03:00:00   \n96902  D  OPERATIONAL_DEMAND  ACTUAL  3      SA1 2023-03-04 03:00:00   \n96903  D  OPERATIONAL_DEMAND  ACTUAL  3     TAS1 2023-03-04 03:00:00   \n96904  D  OPERATIONAL_DEMAND  ACTUAL  3     VIC1 2023-03-04 03:00:00   \n\n       OPERATIONAL_DEMAND.1  OPERATIONAL_DEMAND_ADJUSTMENT  WDR_ESTIMATE  \\\n96900                  6392                              0             0   \n96901                  5680                              0             0   \n96902                  1197                              0             0   \n96903                   999                              0             0   \n96904                  3981                              0             0   \n\n              LASTCHANGED  \n96900 2023-03-04 03:00:01  \n96901 2023-03-04 03:00:01  \n96902 2023-03-04 03:00:01  \n96903 2023-03-04 03:00:01  \n96904 2023-03-04 03:00:01  ",
      "text/html": "<div>\n<style scoped>\n    .dataframe tbody tr th:only-of-type {\n        vertical-align: middle;\n    }\n\n    .dataframe tbody tr th {\n        vertical-align: top;\n    }\n\n    .dataframe thead th {\n        text-align: right;\n    }\n</style>\n<table border=\"1\" class=\"dataframe\">\n  <thead>\n    <tr style=\"text-align: right;\">\n      <th></th>\n      <th>I</th>\n      <th>OPERATIONAL_DEMAND</th>\n      <th>ACTUAL</th>\n      <th>3</th>\n      <th>REGIONID</th>\n      <th>INTERVAL_DATETIME</th>\n      <th>OPERATIONAL_DEMAND.1</th>\n      <th>OPERATIONAL_DEMAND_ADJUSTMENT</th>\n      <th>WDR_ESTIMATE</th>\n      <th>LASTCHANGED</th>\n    </tr>\n  </thead>\n  <tbody>\n    <tr>\n      <th>96900</th>\n      <td>D</td>\n      <td>OPERATIONAL_DEMAND</td>\n      <td>ACTUAL</td>\n      <td>3</td>\n      <td>NSW1</td>\n      <td>2023-03-04 03:00:00</td>\n      <td>6392</td>\n      <td>0</td>\n      <td>0</td>\n      <td>2023-03-04 03:00:01</td>\n    </tr>\n    <tr>\n      <th>96901</th>\n      <td>D</td>\n      <td>OPERATIONAL_DEMAND</td>\n      <td>ACTUAL</td>\n      <td>3</td>\n      <td>QLD1</td>\n      <td>2023-03-04 03:00:00</td>\n      <td>5680</td>\n      <td>0</td>\n      <td>0</td>\n      <td>2023-03-04 03:00:01</td>\n    </tr>\n    <tr>\n      <th>96902</th>\n      <td>D</td>\n      <td>OPERATIONAL_DEMAND</td>\n      <td>ACTUAL</td>\n      <td>3</td>\n      <td>SA1</td>\n      <td>2023-03-04 03:00:00</td>\n      <td>1197</td>\n      <td>0</td>\n      <td>0</td>\n      <td>2023-03-04 03:00:01</td>\n    </tr>\n    <tr>\n      <th>96903</th>\n      <td>D</td>\n      <td>OPERATIONAL_DEMAND</td>\n      <td>ACTUAL</td>\n      <td>3</td>\n      <td>TAS1</td>\n      <td>2023-03-04 03:00:00</td>\n      <td>999</td>\n      <td>0</td>\n      <td>0</td>\n      <td>2023-03-04 03:00:01</td>\n    </tr>\n    <tr>\n      <th>96904</th>\n      <td>D</td>\n      <td>OPERATIONAL_DEMAND</td>\n      <td>ACTUAL</td>\n      <td>3</td>\n      <td>VIC1</td>\n      <td>2023-03-04 03:00:00</td>\n      <td>3981</td>\n      <td>0</td>\n      <td>0</td>\n      <td>2023-03-04 03:00:01</td>\n    </tr>\n  </tbody>\n</table>\n</div>"
     },
     "execution_count": 146,
     "metadata": {},
     "output_type": "execute_result"
    }
   ],
   "source": [
    "df1.tail()"
   ],
   "metadata": {
    "collapsed": false,
    "ExecuteTime": {
     "end_time": "2024-03-21T12:38:07.048928Z",
     "start_time": "2024-03-21T12:38:07.044744Z"
    }
   },
   "id": "2d570bc2d600d9a",
   "execution_count": 146
  },
  {
   "cell_type": "code",
   "outputs": [
    {
     "name": "stdout",
     "output_type": "stream",
     "text": [
      "<class 'pandas.core.frame.DataFrame'>\n",
      "RangeIndex: 96905 entries, 0 to 96904\n",
      "Data columns (total 10 columns):\n",
      " #   Column                         Non-Null Count  Dtype         \n",
      "---  ------                         --------------  -----         \n",
      " 0   I                              96905 non-null  object        \n",
      " 1   OPERATIONAL_DEMAND             96905 non-null  object        \n",
      " 2   ACTUAL                         96905 non-null  object        \n",
      " 3   3                              96905 non-null  int64         \n",
      " 4   REGIONID                       96905 non-null  object        \n",
      " 5   INTERVAL_DATETIME              96905 non-null  datetime64[ns]\n",
      " 6   OPERATIONAL_DEMAND.1           96905 non-null  int64         \n",
      " 7   OPERATIONAL_DEMAND_ADJUSTMENT  96905 non-null  int64         \n",
      " 8   WDR_ESTIMATE                   96905 non-null  int64         \n",
      " 9   LASTCHANGED                    96905 non-null  datetime64[ns]\n",
      "dtypes: datetime64[ns](2), int64(4), object(4)\n",
      "memory usage: 7.4+ MB\n"
     ]
    }
   ],
   "source": [
    "df1.info()"
   ],
   "metadata": {
    "collapsed": false,
    "ExecuteTime": {
     "end_time": "2024-03-21T12:38:07.061954Z",
     "start_time": "2024-03-21T12:38:07.049393Z"
    }
   },
   "id": "d82263b3d289e984",
   "execution_count": 147
  },
  {
   "cell_type": "code",
   "outputs": [
    {
     "data": {
      "text/plain": "             3              INTERVAL_DATETIME  OPERATIONAL_DEMAND.1  \\\ncount  96905.0                          96905          96905.000000   \nmean       3.0  2023-08-28 17:02:50.889015040           4229.114256   \nmin        3.0            2023-02-05 00:00:00            -26.000000   \n25%        3.0            2023-05-20 00:30:00           1287.000000   \n50%        3.0            2023-08-28 23:00:00           4591.000000   \n75%        3.0            2023-12-07 21:30:00           6472.000000   \nmax        3.0            2024-03-17 20:00:00          13643.000000   \nstd        0.0                            NaN           2763.717754   \n\n       OPERATIONAL_DEMAND_ADJUSTMENT  WDR_ESTIMATE  \\\ncount                        96905.0  96905.000000   \nmean                             0.0      0.005913   \nmin                              0.0      0.000000   \n25%                              0.0      0.000000   \n50%                              0.0      0.000000   \n75%                              0.0      0.000000   \nmax                              0.0     21.000000   \nstd                              0.0      0.242607   \n\n                         LASTCHANGED  \ncount                          96905  \nmean   2023-08-28 17:02:52.190919424  \nmin              2023-02-05 00:00:02  \n25%              2023-05-20 00:30:01  \n50%              2023-08-28 23:00:01  \n75%              2023-12-07 21:30:01  \nmax              2024-03-17 20:00:01  \nstd                              NaN  ",
      "text/html": "<div>\n<style scoped>\n    .dataframe tbody tr th:only-of-type {\n        vertical-align: middle;\n    }\n\n    .dataframe tbody tr th {\n        vertical-align: top;\n    }\n\n    .dataframe thead th {\n        text-align: right;\n    }\n</style>\n<table border=\"1\" class=\"dataframe\">\n  <thead>\n    <tr style=\"text-align: right;\">\n      <th></th>\n      <th>3</th>\n      <th>INTERVAL_DATETIME</th>\n      <th>OPERATIONAL_DEMAND.1</th>\n      <th>OPERATIONAL_DEMAND_ADJUSTMENT</th>\n      <th>WDR_ESTIMATE</th>\n      <th>LASTCHANGED</th>\n    </tr>\n  </thead>\n  <tbody>\n    <tr>\n      <th>count</th>\n      <td>96905.0</td>\n      <td>96905</td>\n      <td>96905.000000</td>\n      <td>96905.0</td>\n      <td>96905.000000</td>\n      <td>96905</td>\n    </tr>\n    <tr>\n      <th>mean</th>\n      <td>3.0</td>\n      <td>2023-08-28 17:02:50.889015040</td>\n      <td>4229.114256</td>\n      <td>0.0</td>\n      <td>0.005913</td>\n      <td>2023-08-28 17:02:52.190919424</td>\n    </tr>\n    <tr>\n      <th>min</th>\n      <td>3.0</td>\n      <td>2023-02-05 00:00:00</td>\n      <td>-26.000000</td>\n      <td>0.0</td>\n      <td>0.000000</td>\n      <td>2023-02-05 00:00:02</td>\n    </tr>\n    <tr>\n      <th>25%</th>\n      <td>3.0</td>\n      <td>2023-05-20 00:30:00</td>\n      <td>1287.000000</td>\n      <td>0.0</td>\n      <td>0.000000</td>\n      <td>2023-05-20 00:30:01</td>\n    </tr>\n    <tr>\n      <th>50%</th>\n      <td>3.0</td>\n      <td>2023-08-28 23:00:00</td>\n      <td>4591.000000</td>\n      <td>0.0</td>\n      <td>0.000000</td>\n      <td>2023-08-28 23:00:01</td>\n    </tr>\n    <tr>\n      <th>75%</th>\n      <td>3.0</td>\n      <td>2023-12-07 21:30:00</td>\n      <td>6472.000000</td>\n      <td>0.0</td>\n      <td>0.000000</td>\n      <td>2023-12-07 21:30:01</td>\n    </tr>\n    <tr>\n      <th>max</th>\n      <td>3.0</td>\n      <td>2024-03-17 20:00:00</td>\n      <td>13643.000000</td>\n      <td>0.0</td>\n      <td>21.000000</td>\n      <td>2024-03-17 20:00:01</td>\n    </tr>\n    <tr>\n      <th>std</th>\n      <td>0.0</td>\n      <td>NaN</td>\n      <td>2763.717754</td>\n      <td>0.0</td>\n      <td>0.242607</td>\n      <td>NaN</td>\n    </tr>\n  </tbody>\n</table>\n</div>"
     },
     "execution_count": 148,
     "metadata": {},
     "output_type": "execute_result"
    }
   ],
   "source": [
    "df1.describe()"
   ],
   "metadata": {
    "collapsed": false,
    "ExecuteTime": {
     "end_time": "2024-03-21T12:38:07.076377Z",
     "start_time": "2024-03-21T12:38:07.062449Z"
    }
   },
   "id": "968af03092a49be4",
   "execution_count": 148
  },
  {
   "cell_type": "code",
   "outputs": [
    {
     "data": {
      "text/plain": "(96905, 10)"
     },
     "execution_count": 149,
     "metadata": {},
     "output_type": "execute_result"
    }
   ],
   "source": [
    "df1.shape"
   ],
   "metadata": {
    "collapsed": false,
    "ExecuteTime": {
     "end_time": "2024-03-21T12:38:07.078718Z",
     "start_time": "2024-03-21T12:38:07.076871Z"
    }
   },
   "id": "4cbe81ca7420caa",
   "execution_count": 149
  },
  {
   "cell_type": "code",
   "outputs": [
    {
     "data": {
      "text/plain": "I                                0\nOPERATIONAL_DEMAND               0\nACTUAL                           0\n3                                0\nREGIONID                         0\nINTERVAL_DATETIME                0\nOPERATIONAL_DEMAND.1             0\nOPERATIONAL_DEMAND_ADJUSTMENT    0\nWDR_ESTIMATE                     0\nLASTCHANGED                      0\ndtype: int64"
     },
     "execution_count": 150,
     "metadata": {},
     "output_type": "execute_result"
    }
   ],
   "source": [
    "df1.isnull().sum()"
   ],
   "metadata": {
    "collapsed": false,
    "ExecuteTime": {
     "end_time": "2024-03-21T12:38:07.090744Z",
     "start_time": "2024-03-21T12:38:07.079183Z"
    }
   },
   "id": "dfd3044c650deec",
   "execution_count": 150
  },
  {
   "cell_type": "code",
   "outputs": [
    {
     "data": {
      "text/plain": "I                                0\nOPERATIONAL_DEMAND               0\nACTUAL                           0\n3                                0\nREGIONID                         0\nINTERVAL_DATETIME                0\nOPERATIONAL_DEMAND.1             0\nOPERATIONAL_DEMAND_ADJUSTMENT    0\nWDR_ESTIMATE                     0\nLASTCHANGED                      0\ndtype: int64"
     },
     "execution_count": 151,
     "metadata": {},
     "output_type": "execute_result"
    }
   ],
   "source": [
    "df1.isna().sum()"
   ],
   "metadata": {
    "collapsed": false,
    "ExecuteTime": {
     "end_time": "2024-03-21T12:38:07.101216Z",
     "start_time": "2024-03-21T12:38:07.091237Z"
    }
   },
   "id": "4f49526a4065d08a",
   "execution_count": 151
  },
  {
   "cell_type": "markdown",
   "source": [
    "# 2: operational demand forecast, half-hourly, consolidated"
   ],
   "metadata": {
    "collapsed": false
   },
   "id": "9d2c264cb16b023b"
  },
  {
   "cell_type": "code",
   "outputs": [
    {
     "data": {
      "text/plain": "   I  OPERATIONAL_DEMAND  FORECAST  1 REGIONID   INTERVAL_DATETIME  \\\n0  D  OPERATIONAL_DEMAND  FORECAST  1     NSW1 2023-07-10 23:00:00   \n1  D  OPERATIONAL_DEMAND  FORECAST  1     NSW1 2023-07-10 23:30:00   \n2  D  OPERATIONAL_DEMAND  FORECAST  1     NSW1 2023-07-11 00:00:00   \n3  D  OPERATIONAL_DEMAND  FORECAST  1     NSW1 2023-07-11 00:30:00   \n4  D  OPERATIONAL_DEMAND  FORECAST  1     NSW1 2023-07-11 01:00:00   \n\n            LOAD_DATE  OPERATIONAL_DEMAND_POE10  OPERATIONAL_DEMAND_POE50  \\\n0 2023-07-10 22:27:39                    9090.0                      8950   \n1 2023-07-10 22:27:39                    8912.0                      8753   \n2 2023-07-10 22:27:39                    8788.0                      8608   \n3 2023-07-10 22:27:39                    8642.0                      8444   \n4 2023-07-10 22:27:39                    8486.0                      8270   \n\n   OPERATIONAL_DEMAND_POE90         LASTCHANGED  \n0                    8810.0 2023-07-10 22:27:39  \n1                    8593.0 2023-07-10 22:27:39  \n2                    8429.0 2023-07-10 22:27:39  \n3                    8246.0 2023-07-10 22:27:39  \n4                    8055.0 2023-07-10 22:27:39  ",
      "text/html": "<div>\n<style scoped>\n    .dataframe tbody tr th:only-of-type {\n        vertical-align: middle;\n    }\n\n    .dataframe tbody tr th {\n        vertical-align: top;\n    }\n\n    .dataframe thead th {\n        text-align: right;\n    }\n</style>\n<table border=\"1\" class=\"dataframe\">\n  <thead>\n    <tr style=\"text-align: right;\">\n      <th></th>\n      <th>I</th>\n      <th>OPERATIONAL_DEMAND</th>\n      <th>FORECAST</th>\n      <th>1</th>\n      <th>REGIONID</th>\n      <th>INTERVAL_DATETIME</th>\n      <th>LOAD_DATE</th>\n      <th>OPERATIONAL_DEMAND_POE10</th>\n      <th>OPERATIONAL_DEMAND_POE50</th>\n      <th>OPERATIONAL_DEMAND_POE90</th>\n      <th>LASTCHANGED</th>\n    </tr>\n  </thead>\n  <tbody>\n    <tr>\n      <th>0</th>\n      <td>D</td>\n      <td>OPERATIONAL_DEMAND</td>\n      <td>FORECAST</td>\n      <td>1</td>\n      <td>NSW1</td>\n      <td>2023-07-10 23:00:00</td>\n      <td>2023-07-10 22:27:39</td>\n      <td>9090.0</td>\n      <td>8950</td>\n      <td>8810.0</td>\n      <td>2023-07-10 22:27:39</td>\n    </tr>\n    <tr>\n      <th>1</th>\n      <td>D</td>\n      <td>OPERATIONAL_DEMAND</td>\n      <td>FORECAST</td>\n      <td>1</td>\n      <td>NSW1</td>\n      <td>2023-07-10 23:30:00</td>\n      <td>2023-07-10 22:27:39</td>\n      <td>8912.0</td>\n      <td>8753</td>\n      <td>8593.0</td>\n      <td>2023-07-10 22:27:39</td>\n    </tr>\n    <tr>\n      <th>2</th>\n      <td>D</td>\n      <td>OPERATIONAL_DEMAND</td>\n      <td>FORECAST</td>\n      <td>1</td>\n      <td>NSW1</td>\n      <td>2023-07-11 00:00:00</td>\n      <td>2023-07-10 22:27:39</td>\n      <td>8788.0</td>\n      <td>8608</td>\n      <td>8429.0</td>\n      <td>2023-07-10 22:27:39</td>\n    </tr>\n    <tr>\n      <th>3</th>\n      <td>D</td>\n      <td>OPERATIONAL_DEMAND</td>\n      <td>FORECAST</td>\n      <td>1</td>\n      <td>NSW1</td>\n      <td>2023-07-11 00:30:00</td>\n      <td>2023-07-10 22:27:39</td>\n      <td>8642.0</td>\n      <td>8444</td>\n      <td>8246.0</td>\n      <td>2023-07-10 22:27:39</td>\n    </tr>\n    <tr>\n      <th>4</th>\n      <td>D</td>\n      <td>OPERATIONAL_DEMAND</td>\n      <td>FORECAST</td>\n      <td>1</td>\n      <td>NSW1</td>\n      <td>2023-07-11 01:00:00</td>\n      <td>2023-07-10 22:27:39</td>\n      <td>8486.0</td>\n      <td>8270</td>\n      <td>8055.0</td>\n      <td>2023-07-10 22:27:39</td>\n    </tr>\n  </tbody>\n</table>\n</div>"
     },
     "execution_count": 152,
     "metadata": {},
     "output_type": "execute_result"
    }
   ],
   "source": [
    "df2 = pd.read_csv(\n",
    "    os.path.join(data_path, 'operational_demand_forecast_hh_consolidated.csv'), \n",
    "    parse_dates=['INTERVAL_DATETIME', 'LOAD_DATE', 'LASTCHANGED'],\n",
    ")\n",
    "df2.head()"
   ],
   "metadata": {
    "collapsed": false,
    "ExecuteTime": {
     "end_time": "2024-03-21T12:38:48.262306Z",
     "start_time": "2024-03-21T12:38:07.101678Z"
    }
   },
   "id": "ac09edf4d1f6f297",
   "execution_count": 152
  },
  {
   "cell_type": "code",
   "outputs": [
    {
     "data": {
      "text/plain": "          I  OPERATIONAL_DEMAND  FORECAST  1 REGIONID   INTERVAL_DATETIME  \\\n39982240  D  OPERATIONAL_DEMAND  FORECAST  1     VIC1 2023-12-29 22:00:00   \n39982241  D  OPERATIONAL_DEMAND  FORECAST  1     VIC1 2023-12-29 22:30:00   \n39982242  D  OPERATIONAL_DEMAND  FORECAST  1     VIC1 2023-12-29 23:00:00   \n39982243  D  OPERATIONAL_DEMAND  FORECAST  1     VIC1 2023-12-29 23:30:00   \n39982244  D  OPERATIONAL_DEMAND  FORECAST  1     VIC1 2023-12-30 00:00:00   \n\n                   LOAD_DATE  OPERATIONAL_DEMAND_POE10  \\\n39982240 2023-12-21 06:57:31                    4707.0   \n39982241 2023-12-21 06:57:31                    4641.0   \n39982242 2023-12-21 06:57:31                    4604.0   \n39982243 2023-12-21 06:57:31                    4705.0   \n39982244 2023-12-21 06:57:31                    4677.0   \n\n          OPERATIONAL_DEMAND_POE50  OPERATIONAL_DEMAND_POE90  \\\n39982240                      4376                    4044.0   \n39982241                      4314                    3987.0   \n39982242                      4280                    3956.0   \n39982243                      4374                    4043.0   \n39982244                      4348                    4018.0   \n\n                 LASTCHANGED  \n39982240 2023-12-21 06:57:31  \n39982241 2023-12-21 06:57:31  \n39982242 2023-12-21 06:57:31  \n39982243 2023-12-21 06:57:31  \n39982244 2023-12-21 06:57:31  ",
      "text/html": "<div>\n<style scoped>\n    .dataframe tbody tr th:only-of-type {\n        vertical-align: middle;\n    }\n\n    .dataframe tbody tr th {\n        vertical-align: top;\n    }\n\n    .dataframe thead th {\n        text-align: right;\n    }\n</style>\n<table border=\"1\" class=\"dataframe\">\n  <thead>\n    <tr style=\"text-align: right;\">\n      <th></th>\n      <th>I</th>\n      <th>OPERATIONAL_DEMAND</th>\n      <th>FORECAST</th>\n      <th>1</th>\n      <th>REGIONID</th>\n      <th>INTERVAL_DATETIME</th>\n      <th>LOAD_DATE</th>\n      <th>OPERATIONAL_DEMAND_POE10</th>\n      <th>OPERATIONAL_DEMAND_POE50</th>\n      <th>OPERATIONAL_DEMAND_POE90</th>\n      <th>LASTCHANGED</th>\n    </tr>\n  </thead>\n  <tbody>\n    <tr>\n      <th>39982240</th>\n      <td>D</td>\n      <td>OPERATIONAL_DEMAND</td>\n      <td>FORECAST</td>\n      <td>1</td>\n      <td>VIC1</td>\n      <td>2023-12-29 22:00:00</td>\n      <td>2023-12-21 06:57:31</td>\n      <td>4707.0</td>\n      <td>4376</td>\n      <td>4044.0</td>\n      <td>2023-12-21 06:57:31</td>\n    </tr>\n    <tr>\n      <th>39982241</th>\n      <td>D</td>\n      <td>OPERATIONAL_DEMAND</td>\n      <td>FORECAST</td>\n      <td>1</td>\n      <td>VIC1</td>\n      <td>2023-12-29 22:30:00</td>\n      <td>2023-12-21 06:57:31</td>\n      <td>4641.0</td>\n      <td>4314</td>\n      <td>3987.0</td>\n      <td>2023-12-21 06:57:31</td>\n    </tr>\n    <tr>\n      <th>39982242</th>\n      <td>D</td>\n      <td>OPERATIONAL_DEMAND</td>\n      <td>FORECAST</td>\n      <td>1</td>\n      <td>VIC1</td>\n      <td>2023-12-29 23:00:00</td>\n      <td>2023-12-21 06:57:31</td>\n      <td>4604.0</td>\n      <td>4280</td>\n      <td>3956.0</td>\n      <td>2023-12-21 06:57:31</td>\n    </tr>\n    <tr>\n      <th>39982243</th>\n      <td>D</td>\n      <td>OPERATIONAL_DEMAND</td>\n      <td>FORECAST</td>\n      <td>1</td>\n      <td>VIC1</td>\n      <td>2023-12-29 23:30:00</td>\n      <td>2023-12-21 06:57:31</td>\n      <td>4705.0</td>\n      <td>4374</td>\n      <td>4043.0</td>\n      <td>2023-12-21 06:57:31</td>\n    </tr>\n    <tr>\n      <th>39982244</th>\n      <td>D</td>\n      <td>OPERATIONAL_DEMAND</td>\n      <td>FORECAST</td>\n      <td>1</td>\n      <td>VIC1</td>\n      <td>2023-12-30 00:00:00</td>\n      <td>2023-12-21 06:57:31</td>\n      <td>4677.0</td>\n      <td>4348</td>\n      <td>4018.0</td>\n      <td>2023-12-21 06:57:31</td>\n    </tr>\n  </tbody>\n</table>\n</div>"
     },
     "execution_count": 153,
     "metadata": {},
     "output_type": "execute_result"
    }
   ],
   "source": [
    "df2.tail()"
   ],
   "metadata": {
    "collapsed": false,
    "ExecuteTime": {
     "end_time": "2024-03-21T12:38:48.268069Z",
     "start_time": "2024-03-21T12:38:48.263008Z"
    }
   },
   "id": "3c81d98c0d43e955",
   "execution_count": 153
  },
  {
   "cell_type": "code",
   "outputs": [
    {
     "name": "stdout",
     "output_type": "stream",
     "text": [
      "<class 'pandas.core.frame.DataFrame'>\n",
      "RangeIndex: 39982245 entries, 0 to 39982244\n",
      "Data columns (total 11 columns):\n",
      " #   Column                    Dtype         \n",
      "---  ------                    -----         \n",
      " 0   I                         object        \n",
      " 1   OPERATIONAL_DEMAND        object        \n",
      " 2   FORECAST                  object        \n",
      " 3   1                         int64         \n",
      " 4   REGIONID                  object        \n",
      " 5   INTERVAL_DATETIME         datetime64[ns]\n",
      " 6   LOAD_DATE                 datetime64[ns]\n",
      " 7   OPERATIONAL_DEMAND_POE10  float64       \n",
      " 8   OPERATIONAL_DEMAND_POE50  int64         \n",
      " 9   OPERATIONAL_DEMAND_POE90  float64       \n",
      " 10  LASTCHANGED               datetime64[ns]\n",
      "dtypes: datetime64[ns](3), float64(2), int64(2), object(4)\n",
      "memory usage: 3.3+ GB\n"
     ]
    }
   ],
   "source": [
    "df2.info()"
   ],
   "metadata": {
    "collapsed": false,
    "ExecuteTime": {
     "end_time": "2024-03-21T12:38:48.354594Z",
     "start_time": "2024-03-21T12:38:48.268635Z"
    }
   },
   "id": "a50469a260218bae",
   "execution_count": 154
  },
  {
   "cell_type": "code",
   "outputs": [
    {
     "data": {
      "text/plain": "                1              INTERVAL_DATETIME  \\\ncount  39982245.0                       39982245   \nmean          1.0  2023-08-31 16:04:20.799421440   \nmin           1.0            2023-02-05 00:30:00   \n25%           1.0            2023-05-21 22:30:00   \n50%           1.0            2023-08-31 16:00:00   \n75%           1.0            2023-12-11 09:30:00   \nmax           1.0            2024-03-26 00:00:00   \nstd           0.0                            NaN   \n\n                           LOAD_DATE  OPERATIONAL_DEMAND_POE10  \\\ncount                       39982245              3.998224e+07   \nmean   2023-08-27 09:16:58.416956416              4.457400e+03   \nmin              2023-02-04 23:27:41             -3.150000e+02   \n25%              2023-05-17 15:57:58              1.383000e+03   \n50%              2023-08-27 08:57:32              4.867000e+03   \n75%              2023-12-07 02:27:32              6.755000e+03   \nmax              2024-03-17 19:57:42              1.472900e+04   \nstd                              NaN              2.884793e+03   \n\n       OPERATIONAL_DEMAND_POE50  OPERATIONAL_DEMAND_POE90  \\\ncount              3.998224e+07              3.998224e+07   \nmean               4.229406e+03              4.001412e+03   \nmin               -3.020000e+02             -2.890000e+02   \n25%                1.291000e+03              1.202000e+03   \n50%                4.600000e+03              4.326000e+03   \n75%                6.444000e+03              6.136000e+03   \nmax                1.393900e+04              1.340800e+04   \nstd                2.757393e+03              2.633886e+03   \n\n                         LASTCHANGED  \ncount                       39982245  \nmean   2023-08-27 09:16:58.416956416  \nmin              2023-02-04 23:27:41  \n25%              2023-05-17 15:57:58  \n50%              2023-08-27 08:57:32  \n75%              2023-12-07 02:27:32  \nmax              2024-03-17 19:57:42  \nstd                              NaN  ",
      "text/html": "<div>\n<style scoped>\n    .dataframe tbody tr th:only-of-type {\n        vertical-align: middle;\n    }\n\n    .dataframe tbody tr th {\n        vertical-align: top;\n    }\n\n    .dataframe thead th {\n        text-align: right;\n    }\n</style>\n<table border=\"1\" class=\"dataframe\">\n  <thead>\n    <tr style=\"text-align: right;\">\n      <th></th>\n      <th>1</th>\n      <th>INTERVAL_DATETIME</th>\n      <th>LOAD_DATE</th>\n      <th>OPERATIONAL_DEMAND_POE10</th>\n      <th>OPERATIONAL_DEMAND_POE50</th>\n      <th>OPERATIONAL_DEMAND_POE90</th>\n      <th>LASTCHANGED</th>\n    </tr>\n  </thead>\n  <tbody>\n    <tr>\n      <th>count</th>\n      <td>39982245.0</td>\n      <td>39982245</td>\n      <td>39982245</td>\n      <td>3.998224e+07</td>\n      <td>3.998224e+07</td>\n      <td>3.998224e+07</td>\n      <td>39982245</td>\n    </tr>\n    <tr>\n      <th>mean</th>\n      <td>1.0</td>\n      <td>2023-08-31 16:04:20.799421440</td>\n      <td>2023-08-27 09:16:58.416956416</td>\n      <td>4.457400e+03</td>\n      <td>4.229406e+03</td>\n      <td>4.001412e+03</td>\n      <td>2023-08-27 09:16:58.416956416</td>\n    </tr>\n    <tr>\n      <th>min</th>\n      <td>1.0</td>\n      <td>2023-02-05 00:30:00</td>\n      <td>2023-02-04 23:27:41</td>\n      <td>-3.150000e+02</td>\n      <td>-3.020000e+02</td>\n      <td>-2.890000e+02</td>\n      <td>2023-02-04 23:27:41</td>\n    </tr>\n    <tr>\n      <th>25%</th>\n      <td>1.0</td>\n      <td>2023-05-21 22:30:00</td>\n      <td>2023-05-17 15:57:58</td>\n      <td>1.383000e+03</td>\n      <td>1.291000e+03</td>\n      <td>1.202000e+03</td>\n      <td>2023-05-17 15:57:58</td>\n    </tr>\n    <tr>\n      <th>50%</th>\n      <td>1.0</td>\n      <td>2023-08-31 16:00:00</td>\n      <td>2023-08-27 08:57:32</td>\n      <td>4.867000e+03</td>\n      <td>4.600000e+03</td>\n      <td>4.326000e+03</td>\n      <td>2023-08-27 08:57:32</td>\n    </tr>\n    <tr>\n      <th>75%</th>\n      <td>1.0</td>\n      <td>2023-12-11 09:30:00</td>\n      <td>2023-12-07 02:27:32</td>\n      <td>6.755000e+03</td>\n      <td>6.444000e+03</td>\n      <td>6.136000e+03</td>\n      <td>2023-12-07 02:27:32</td>\n    </tr>\n    <tr>\n      <th>max</th>\n      <td>1.0</td>\n      <td>2024-03-26 00:00:00</td>\n      <td>2024-03-17 19:57:42</td>\n      <td>1.472900e+04</td>\n      <td>1.393900e+04</td>\n      <td>1.340800e+04</td>\n      <td>2024-03-17 19:57:42</td>\n    </tr>\n    <tr>\n      <th>std</th>\n      <td>0.0</td>\n      <td>NaN</td>\n      <td>NaN</td>\n      <td>2.884793e+03</td>\n      <td>2.757393e+03</td>\n      <td>2.633886e+03</td>\n      <td>NaN</td>\n    </tr>\n  </tbody>\n</table>\n</div>"
     },
     "execution_count": 155,
     "metadata": {},
     "output_type": "execute_result"
    }
   ],
   "source": [
    "df2.describe()"
   ],
   "metadata": {
    "collapsed": false,
    "ExecuteTime": {
     "end_time": "2024-03-21T12:38:51.450049Z",
     "start_time": "2024-03-21T12:38:48.355192Z"
    }
   },
   "id": "10eff878dbf19f03",
   "execution_count": 155
  },
  {
   "cell_type": "code",
   "outputs": [
    {
     "data": {
      "text/plain": "(39982245, 11)"
     },
     "execution_count": 156,
     "metadata": {},
     "output_type": "execute_result"
    }
   ],
   "source": [
    "df2.shape"
   ],
   "metadata": {
    "collapsed": false,
    "ExecuteTime": {
     "end_time": "2024-03-21T12:38:51.453336Z",
     "start_time": "2024-03-21T12:38:51.450794Z"
    }
   },
   "id": "7488dbd1e49cc0c3",
   "execution_count": 156
  },
  {
   "cell_type": "code",
   "outputs": [
    {
     "data": {
      "text/plain": "I                           0\nOPERATIONAL_DEMAND          0\nFORECAST                    0\n1                           0\nREGIONID                    0\nINTERVAL_DATETIME           0\nLOAD_DATE                   0\nOPERATIONAL_DEMAND_POE10    0\nOPERATIONAL_DEMAND_POE50    0\nOPERATIONAL_DEMAND_POE90    0\nLASTCHANGED                 0\ndtype: int64"
     },
     "execution_count": 157,
     "metadata": {},
     "output_type": "execute_result"
    }
   ],
   "source": [
    "df2.isnull().sum()"
   ],
   "metadata": {
    "collapsed": false,
    "ExecuteTime": {
     "end_time": "2024-03-21T12:38:54.800231Z",
     "start_time": "2024-03-21T12:38:51.453943Z"
    }
   },
   "id": "dd756da93004d2f7",
   "execution_count": 157
  },
  {
   "cell_type": "code",
   "outputs": [
    {
     "data": {
      "text/plain": "I                           0\nOPERATIONAL_DEMAND          0\nFORECAST                    0\n1                           0\nREGIONID                    0\nINTERVAL_DATETIME           0\nLOAD_DATE                   0\nOPERATIONAL_DEMAND_POE10    0\nOPERATIONAL_DEMAND_POE50    0\nOPERATIONAL_DEMAND_POE90    0\nLASTCHANGED                 0\ndtype: int64"
     },
     "execution_count": 158,
     "metadata": {},
     "output_type": "execute_result"
    }
   ],
   "source": [
    "df2.isna().sum()"
   ],
   "metadata": {
    "collapsed": false,
    "ExecuteTime": {
     "end_time": "2024-03-21T12:38:58.113984Z",
     "start_time": "2024-03-21T12:38:54.800938Z"
    }
   },
   "id": "726b03ca3fe34b71",
   "execution_count": 158
  },
  {
   "cell_type": "markdown",
   "source": [
    "# 3"
   ],
   "metadata": {
    "collapsed": false
   },
   "id": "323a6f63624ae55"
  },
  {
   "cell_type": "code",
   "outputs": [],
   "source": [
    "df3 = pd.read_csv(\n",
    "    os.path.join(data_path, 'public_actual_operational_demand_five_min_consolidated.csv'), \n",
    "    parse_dates=['INTERVAL_DATETIME', 'LASTCHANGED']\n",
    ")"
   ],
   "metadata": {
    "collapsed": false,
    "ExecuteTime": {
     "end_time": "2024-03-21T12:39:23.874578Z",
     "start_time": "2024-03-21T12:38:58.114662Z"
    }
   },
   "id": "a5a9d60cbcb93f46",
   "execution_count": 159
  },
  {
   "cell_type": "code",
   "outputs": [
    {
     "data": {
      "text/plain": "   I  OPERATIONAL_DEMAND  ACTUAL5M  1 REGIONID   INTERVAL_DATETIME  \\\n0  D  OPERATIONAL_DEMAND  ACTUAL5M  1     NSW1 2023-03-17 00:05:00   \n1  D  OPERATIONAL_DEMAND  ACTUAL5M  1     NSW1 2023-03-17 00:10:00   \n2  D  OPERATIONAL_DEMAND  ACTUAL5M  1     NSW1 2023-03-17 00:15:00   \n3  D  OPERATIONAL_DEMAND  ACTUAL5M  1     NSW1 2023-03-17 00:20:00   \n4  D  OPERATIONAL_DEMAND  ACTUAL5M  1     NSW1 2023-03-17 00:25:00   \n\n   OPERATIONAL_DEMAND.1  OPERATIONAL_DEMAND_ADJUSTMENT  WDR_ESTIMATE  \\\n0                  7886                              0             0   \n1                  7836                              0             0   \n2                  7786                              0             0   \n3                  7735                              0             0   \n4                  7685                              0             0   \n\n          LASTCHANGED  \n0 2023-03-17 00:30:01  \n1 2023-03-17 00:30:01  \n2 2023-03-17 00:30:01  \n3 2023-03-17 00:30:01  \n4 2023-03-17 00:30:01  ",
      "text/html": "<div>\n<style scoped>\n    .dataframe tbody tr th:only-of-type {\n        vertical-align: middle;\n    }\n\n    .dataframe tbody tr th {\n        vertical-align: top;\n    }\n\n    .dataframe thead th {\n        text-align: right;\n    }\n</style>\n<table border=\"1\" class=\"dataframe\">\n  <thead>\n    <tr style=\"text-align: right;\">\n      <th></th>\n      <th>I</th>\n      <th>OPERATIONAL_DEMAND</th>\n      <th>ACTUAL5M</th>\n      <th>1</th>\n      <th>REGIONID</th>\n      <th>INTERVAL_DATETIME</th>\n      <th>OPERATIONAL_DEMAND.1</th>\n      <th>OPERATIONAL_DEMAND_ADJUSTMENT</th>\n      <th>WDR_ESTIMATE</th>\n      <th>LASTCHANGED</th>\n    </tr>\n  </thead>\n  <tbody>\n    <tr>\n      <th>0</th>\n      <td>D</td>\n      <td>OPERATIONAL_DEMAND</td>\n      <td>ACTUAL5M</td>\n      <td>1</td>\n      <td>NSW1</td>\n      <td>2023-03-17 00:05:00</td>\n      <td>7886</td>\n      <td>0</td>\n      <td>0</td>\n      <td>2023-03-17 00:30:01</td>\n    </tr>\n    <tr>\n      <th>1</th>\n      <td>D</td>\n      <td>OPERATIONAL_DEMAND</td>\n      <td>ACTUAL5M</td>\n      <td>1</td>\n      <td>NSW1</td>\n      <td>2023-03-17 00:10:00</td>\n      <td>7836</td>\n      <td>0</td>\n      <td>0</td>\n      <td>2023-03-17 00:30:01</td>\n    </tr>\n    <tr>\n      <th>2</th>\n      <td>D</td>\n      <td>OPERATIONAL_DEMAND</td>\n      <td>ACTUAL5M</td>\n      <td>1</td>\n      <td>NSW1</td>\n      <td>2023-03-17 00:15:00</td>\n      <td>7786</td>\n      <td>0</td>\n      <td>0</td>\n      <td>2023-03-17 00:30:01</td>\n    </tr>\n    <tr>\n      <th>3</th>\n      <td>D</td>\n      <td>OPERATIONAL_DEMAND</td>\n      <td>ACTUAL5M</td>\n      <td>1</td>\n      <td>NSW1</td>\n      <td>2023-03-17 00:20:00</td>\n      <td>7735</td>\n      <td>0</td>\n      <td>0</td>\n      <td>2023-03-17 00:30:01</td>\n    </tr>\n    <tr>\n      <th>4</th>\n      <td>D</td>\n      <td>OPERATIONAL_DEMAND</td>\n      <td>ACTUAL5M</td>\n      <td>1</td>\n      <td>NSW1</td>\n      <td>2023-03-17 00:25:00</td>\n      <td>7685</td>\n      <td>0</td>\n      <td>0</td>\n      <td>2023-03-17 00:30:01</td>\n    </tr>\n  </tbody>\n</table>\n</div>"
     },
     "execution_count": 160,
     "metadata": {},
     "output_type": "execute_result"
    }
   ],
   "source": [
    "df3.head()"
   ],
   "metadata": {
    "collapsed": false,
    "ExecuteTime": {
     "end_time": "2024-03-21T12:39:23.880239Z",
     "start_time": "2024-03-21T12:39:23.875286Z"
    }
   },
   "id": "905c557ce5f253",
   "execution_count": 160
  },
  {
   "cell_type": "code",
   "outputs": [
    {
     "data": {
      "text/plain": "          I  OPERATIONAL_DEMAND  ACTUAL5M  1 REGIONID   INTERVAL_DATETIME  \\\n25331755  D  OPERATIONAL_DEMAND  ACTUAL5M  1     VIC1 2024-03-16 20:10:00   \n25331756  D  OPERATIONAL_DEMAND  ACTUAL5M  1     VIC1 2024-03-16 20:15:00   \n25331757  D  OPERATIONAL_DEMAND  ACTUAL5M  1     VIC1 2024-03-16 20:20:00   \n25331758  D  OPERATIONAL_DEMAND  ACTUAL5M  1     VIC1 2024-03-16 20:25:00   \n25331759  D  OPERATIONAL_DEMAND  ACTUAL5M  1     VIC1 2024-03-16 20:30:00   \n\n          OPERATIONAL_DEMAND.1  OPERATIONAL_DEMAND_ADJUSTMENT  WDR_ESTIMATE  \\\n25331755                  5375                              0             0   \n25331756                  5343                              0             0   \n25331757                  5311                              0             0   \n25331758                  5279                              0             0   \n25331759                  5247                              0             0   \n\n                 LASTCHANGED  \n25331755 2024-03-16 20:30:02  \n25331756 2024-03-16 20:30:02  \n25331757 2024-03-16 20:30:02  \n25331758 2024-03-16 20:30:02  \n25331759 2024-03-16 20:30:02  ",
      "text/html": "<div>\n<style scoped>\n    .dataframe tbody tr th:only-of-type {\n        vertical-align: middle;\n    }\n\n    .dataframe tbody tr th {\n        vertical-align: top;\n    }\n\n    .dataframe thead th {\n        text-align: right;\n    }\n</style>\n<table border=\"1\" class=\"dataframe\">\n  <thead>\n    <tr style=\"text-align: right;\">\n      <th></th>\n      <th>I</th>\n      <th>OPERATIONAL_DEMAND</th>\n      <th>ACTUAL5M</th>\n      <th>1</th>\n      <th>REGIONID</th>\n      <th>INTERVAL_DATETIME</th>\n      <th>OPERATIONAL_DEMAND.1</th>\n      <th>OPERATIONAL_DEMAND_ADJUSTMENT</th>\n      <th>WDR_ESTIMATE</th>\n      <th>LASTCHANGED</th>\n    </tr>\n  </thead>\n  <tbody>\n    <tr>\n      <th>25331755</th>\n      <td>D</td>\n      <td>OPERATIONAL_DEMAND</td>\n      <td>ACTUAL5M</td>\n      <td>1</td>\n      <td>VIC1</td>\n      <td>2024-03-16 20:10:00</td>\n      <td>5375</td>\n      <td>0</td>\n      <td>0</td>\n      <td>2024-03-16 20:30:02</td>\n    </tr>\n    <tr>\n      <th>25331756</th>\n      <td>D</td>\n      <td>OPERATIONAL_DEMAND</td>\n      <td>ACTUAL5M</td>\n      <td>1</td>\n      <td>VIC1</td>\n      <td>2024-03-16 20:15:00</td>\n      <td>5343</td>\n      <td>0</td>\n      <td>0</td>\n      <td>2024-03-16 20:30:02</td>\n    </tr>\n    <tr>\n      <th>25331757</th>\n      <td>D</td>\n      <td>OPERATIONAL_DEMAND</td>\n      <td>ACTUAL5M</td>\n      <td>1</td>\n      <td>VIC1</td>\n      <td>2024-03-16 20:20:00</td>\n      <td>5311</td>\n      <td>0</td>\n      <td>0</td>\n      <td>2024-03-16 20:30:02</td>\n    </tr>\n    <tr>\n      <th>25331758</th>\n      <td>D</td>\n      <td>OPERATIONAL_DEMAND</td>\n      <td>ACTUAL5M</td>\n      <td>1</td>\n      <td>VIC1</td>\n      <td>2024-03-16 20:25:00</td>\n      <td>5279</td>\n      <td>0</td>\n      <td>0</td>\n      <td>2024-03-16 20:30:02</td>\n    </tr>\n    <tr>\n      <th>25331759</th>\n      <td>D</td>\n      <td>OPERATIONAL_DEMAND</td>\n      <td>ACTUAL5M</td>\n      <td>1</td>\n      <td>VIC1</td>\n      <td>2024-03-16 20:30:00</td>\n      <td>5247</td>\n      <td>0</td>\n      <td>0</td>\n      <td>2024-03-16 20:30:02</td>\n    </tr>\n  </tbody>\n</table>\n</div>"
     },
     "execution_count": 161,
     "metadata": {},
     "output_type": "execute_result"
    }
   ],
   "source": [
    "df3.tail()"
   ],
   "metadata": {
    "collapsed": false,
    "ExecuteTime": {
     "end_time": "2024-03-21T12:39:23.977483Z",
     "start_time": "2024-03-21T12:39:23.880796Z"
    }
   },
   "id": "f1ccba4173426ecb",
   "execution_count": 161
  },
  {
   "cell_type": "code",
   "outputs": [
    {
     "name": "stdout",
     "output_type": "stream",
     "text": [
      "<class 'pandas.core.frame.DataFrame'>\n",
      "RangeIndex: 25331760 entries, 0 to 25331759\n",
      "Data columns (total 10 columns):\n",
      " #   Column                         Dtype         \n",
      "---  ------                         -----         \n",
      " 0   I                              object        \n",
      " 1   OPERATIONAL_DEMAND             object        \n",
      " 2   ACTUAL5M                       object        \n",
      " 3   1                              int64         \n",
      " 4   REGIONID                       object        \n",
      " 5   INTERVAL_DATETIME              datetime64[ns]\n",
      " 6   OPERATIONAL_DEMAND.1           int64         \n",
      " 7   OPERATIONAL_DEMAND_ADJUSTMENT  int64         \n",
      " 8   WDR_ESTIMATE                   int64         \n",
      " 9   LASTCHANGED                    datetime64[ns]\n",
      "dtypes: datetime64[ns](2), int64(4), object(4)\n",
      "memory usage: 1.9+ GB\n"
     ]
    }
   ],
   "source": [
    "df3.info()"
   ],
   "metadata": {
    "collapsed": false,
    "ExecuteTime": {
     "end_time": "2024-03-21T12:39:23.989457Z",
     "start_time": "2024-03-21T12:39:23.978123Z"
    }
   },
   "id": "7f3f053eec222517",
   "execution_count": 162
  },
  {
   "cell_type": "code",
   "outputs": [
    {
     "data": {
      "text/plain": "                1              INTERVAL_DATETIME  OPERATIONAL_DEMAND.1  \\\ncount  25331760.0                       25331760          2.533176e+07   \nmean          1.0  2023-09-16 02:24:55.135422720          4.222741e+03   \nmin           1.0            2023-03-16 00:05:00         -2.600000e+01   \n25%           1.0            2023-06-16 11:30:00          1.294000e+03   \n50%           1.0            2023-09-16 02:25:00          4.588000e+03   \n75%           1.0            2023-12-16 17:20:00          6.458000e+03   \nmax           1.0            2024-03-17 20:00:00          1.364300e+04   \nstd           0.0                            NaN          2.756310e+03   \n\n       OPERATIONAL_DEMAND_ADJUSTMENT  WDR_ESTIMATE  \\\ncount                     25331760.0  2.533176e+07   \nmean                             0.0  5.305277e-03   \nmin                              0.0  0.000000e+00   \n25%                              0.0  0.000000e+00   \n50%                              0.0  0.000000e+00   \n75%                              0.0  0.000000e+00   \nmax                              0.0  2.100000e+01   \nstd                              0.0  2.150852e-01   \n\n                         LASTCHANGED  \ncount                       25331760  \nmean   2023-09-16 02:37:26.451251456  \nmin              2023-03-16 00:30:01  \n25%              2023-06-16 11:30:03  \n50%              2023-09-16 02:30:01  \n75%              2023-12-16 17:30:01  \nmax              2024-03-17 20:00:01  \nstd                              NaN  ",
      "text/html": "<div>\n<style scoped>\n    .dataframe tbody tr th:only-of-type {\n        vertical-align: middle;\n    }\n\n    .dataframe tbody tr th {\n        vertical-align: top;\n    }\n\n    .dataframe thead th {\n        text-align: right;\n    }\n</style>\n<table border=\"1\" class=\"dataframe\">\n  <thead>\n    <tr style=\"text-align: right;\">\n      <th></th>\n      <th>1</th>\n      <th>INTERVAL_DATETIME</th>\n      <th>OPERATIONAL_DEMAND.1</th>\n      <th>OPERATIONAL_DEMAND_ADJUSTMENT</th>\n      <th>WDR_ESTIMATE</th>\n      <th>LASTCHANGED</th>\n    </tr>\n  </thead>\n  <tbody>\n    <tr>\n      <th>count</th>\n      <td>25331760.0</td>\n      <td>25331760</td>\n      <td>2.533176e+07</td>\n      <td>25331760.0</td>\n      <td>2.533176e+07</td>\n      <td>25331760</td>\n    </tr>\n    <tr>\n      <th>mean</th>\n      <td>1.0</td>\n      <td>2023-09-16 02:24:55.135422720</td>\n      <td>4.222741e+03</td>\n      <td>0.0</td>\n      <td>5.305277e-03</td>\n      <td>2023-09-16 02:37:26.451251456</td>\n    </tr>\n    <tr>\n      <th>min</th>\n      <td>1.0</td>\n      <td>2023-03-16 00:05:00</td>\n      <td>-2.600000e+01</td>\n      <td>0.0</td>\n      <td>0.000000e+00</td>\n      <td>2023-03-16 00:30:01</td>\n    </tr>\n    <tr>\n      <th>25%</th>\n      <td>1.0</td>\n      <td>2023-06-16 11:30:00</td>\n      <td>1.294000e+03</td>\n      <td>0.0</td>\n      <td>0.000000e+00</td>\n      <td>2023-06-16 11:30:03</td>\n    </tr>\n    <tr>\n      <th>50%</th>\n      <td>1.0</td>\n      <td>2023-09-16 02:25:00</td>\n      <td>4.588000e+03</td>\n      <td>0.0</td>\n      <td>0.000000e+00</td>\n      <td>2023-09-16 02:30:01</td>\n    </tr>\n    <tr>\n      <th>75%</th>\n      <td>1.0</td>\n      <td>2023-12-16 17:20:00</td>\n      <td>6.458000e+03</td>\n      <td>0.0</td>\n      <td>0.000000e+00</td>\n      <td>2023-12-16 17:30:01</td>\n    </tr>\n    <tr>\n      <th>max</th>\n      <td>1.0</td>\n      <td>2024-03-17 20:00:00</td>\n      <td>1.364300e+04</td>\n      <td>0.0</td>\n      <td>2.100000e+01</td>\n      <td>2024-03-17 20:00:01</td>\n    </tr>\n    <tr>\n      <th>std</th>\n      <td>0.0</td>\n      <td>NaN</td>\n      <td>2.756310e+03</td>\n      <td>0.0</td>\n      <td>2.150852e-01</td>\n      <td>NaN</td>\n    </tr>\n  </tbody>\n</table>\n</div>"
     },
     "execution_count": 163,
     "metadata": {},
     "output_type": "execute_result"
    }
   ],
   "source": [
    "df3.describe()"
   ],
   "metadata": {
    "collapsed": false,
    "ExecuteTime": {
     "end_time": "2024-03-21T12:39:25.333218Z",
     "start_time": "2024-03-21T12:39:23.990070Z"
    }
   },
   "id": "254df0d6cfb160bd",
   "execution_count": 163
  },
  {
   "cell_type": "code",
   "outputs": [
    {
     "data": {
      "text/plain": "(25331760, 10)"
     },
     "execution_count": 164,
     "metadata": {},
     "output_type": "execute_result"
    }
   ],
   "source": [
    "df3.shape"
   ],
   "metadata": {
    "collapsed": false,
    "ExecuteTime": {
     "end_time": "2024-03-21T12:39:25.335976Z",
     "start_time": "2024-03-21T12:39:25.333849Z"
    }
   },
   "id": "ab4c7312ece16ddb",
   "execution_count": 164
  },
  {
   "cell_type": "code",
   "outputs": [
    {
     "data": {
      "text/plain": "I                                0\nOPERATIONAL_DEMAND               0\nACTUAL5M                         0\n1                                0\nREGIONID                         0\nINTERVAL_DATETIME                0\nOPERATIONAL_DEMAND.1             0\nOPERATIONAL_DEMAND_ADJUSTMENT    0\nWDR_ESTIMATE                     0\nLASTCHANGED                      0\ndtype: int64"
     },
     "execution_count": 165,
     "metadata": {},
     "output_type": "execute_result"
    }
   ],
   "source": [
    "df3.isnull().sum()"
   ],
   "metadata": {
    "collapsed": false,
    "ExecuteTime": {
     "end_time": "2024-03-21T12:39:27.478152Z",
     "start_time": "2024-03-21T12:39:25.336535Z"
    }
   },
   "id": "3a697c47a36fac1b",
   "execution_count": 165
  },
  {
   "cell_type": "code",
   "outputs": [
    {
     "data": {
      "text/plain": "I                                0\nOPERATIONAL_DEMAND               0\nACTUAL5M                         0\n1                                0\nREGIONID                         0\nINTERVAL_DATETIME                0\nOPERATIONAL_DEMAND.1             0\nOPERATIONAL_DEMAND_ADJUSTMENT    0\nWDR_ESTIMATE                     0\nLASTCHANGED                      0\ndtype: int64"
     },
     "execution_count": 166,
     "metadata": {},
     "output_type": "execute_result"
    }
   ],
   "source": [
    "df3.isna().sum()"
   ],
   "metadata": {
    "collapsed": false,
    "ExecuteTime": {
     "end_time": "2024-03-21T12:39:29.480909Z",
     "start_time": "2024-03-21T12:39:27.478888Z"
    }
   },
   "id": "341c7b37850e6ff9",
   "execution_count": 166
  },
  {
   "cell_type": "markdown",
   "source": [
    "# 4"
   ],
   "metadata": {
    "collapsed": false
   },
   "id": "7def59034c1bb7b4"
  },
  {
   "cell_type": "code",
   "outputs": [],
   "source": [
    "df4 = pd.read_csv(\n",
    "    os.path.join(data_path, 'public_prices_consolidated.csv'), \n",
    "    parse_dates=['SETTLEMENTDATE']\n",
    ")"
   ],
   "metadata": {
    "collapsed": false,
    "ExecuteTime": {
     "end_time": "2024-03-21T12:39:31.930969Z",
     "start_time": "2024-03-21T12:39:29.481626Z"
    }
   },
   "id": "918482740ad78951",
   "execution_count": 167
  },
  {
   "cell_type": "code",
   "outputs": [
    {
     "data": {
      "text/plain": "   I  DREGION  Unnamed: 2  2      SETTLEMENTDATE  RUNNO REGIONID  \\\n0  D  DREGION         NaN  2 2024-01-23 04:05:00      1     NSW1   \n1  D  DREGION         NaN  2 2024-01-23 04:05:00      1     QLD1   \n2  D  DREGION         NaN  2 2024-01-23 04:05:00      1      SA1   \n3  D  DREGION         NaN  2 2024-01-23 04:05:00      1     TAS1   \n4  D  DREGION         NaN  2 2024-01-23 04:05:00      1     VIC1   \n\n   INTERVENTION       RRP  EEP  ...  LOWER6SECAPCFLAG  LOWER60SECRRP  \\\n0             0  41.81844    0  ...                 0           0.45   \n1             0  62.73000    0  ...                 0           0.45   \n2             0  34.16184    0  ...                 0           0.45   \n3             0  53.71593    0  ...                 0           0.45   \n4             0  34.94000    0  ...                 0           0.45   \n\n   LOWER60SECROP  LOWER60SECAPCFLAG  LOWER5MINRRP  LOWER5MINROP  \\\n0           0.45                  0           0.0           0.0   \n1           0.45                  0           0.0           0.0   \n2           0.45                  0           0.0           0.0   \n3           0.45                  0           0.0           0.0   \n4           0.45                  0           0.0           0.0   \n\n   LOWER5MINAPCFLAG  LOWERREGRRP  LOWERREGROP  LOWERREGAPCFLAG  \n0                 0         3.76         3.76                0  \n1                 0         3.76         3.76                0  \n2                 0         3.76         3.76                0  \n3                 0         2.65         2.65                0  \n4                 0         3.76         3.76                0  \n\n[5 rows x 120 columns]",
      "text/html": "<div>\n<style scoped>\n    .dataframe tbody tr th:only-of-type {\n        vertical-align: middle;\n    }\n\n    .dataframe tbody tr th {\n        vertical-align: top;\n    }\n\n    .dataframe thead th {\n        text-align: right;\n    }\n</style>\n<table border=\"1\" class=\"dataframe\">\n  <thead>\n    <tr style=\"text-align: right;\">\n      <th></th>\n      <th>I</th>\n      <th>DREGION</th>\n      <th>Unnamed: 2</th>\n      <th>2</th>\n      <th>SETTLEMENTDATE</th>\n      <th>RUNNO</th>\n      <th>REGIONID</th>\n      <th>INTERVENTION</th>\n      <th>RRP</th>\n      <th>EEP</th>\n      <th>...</th>\n      <th>LOWER6SECAPCFLAG</th>\n      <th>LOWER60SECRRP</th>\n      <th>LOWER60SECROP</th>\n      <th>LOWER60SECAPCFLAG</th>\n      <th>LOWER5MINRRP</th>\n      <th>LOWER5MINROP</th>\n      <th>LOWER5MINAPCFLAG</th>\n      <th>LOWERREGRRP</th>\n      <th>LOWERREGROP</th>\n      <th>LOWERREGAPCFLAG</th>\n    </tr>\n  </thead>\n  <tbody>\n    <tr>\n      <th>0</th>\n      <td>D</td>\n      <td>DREGION</td>\n      <td>NaN</td>\n      <td>2</td>\n      <td>2024-01-23 04:05:00</td>\n      <td>1</td>\n      <td>NSW1</td>\n      <td>0</td>\n      <td>41.81844</td>\n      <td>0</td>\n      <td>...</td>\n      <td>0</td>\n      <td>0.45</td>\n      <td>0.45</td>\n      <td>0</td>\n      <td>0.0</td>\n      <td>0.0</td>\n      <td>0</td>\n      <td>3.76</td>\n      <td>3.76</td>\n      <td>0</td>\n    </tr>\n    <tr>\n      <th>1</th>\n      <td>D</td>\n      <td>DREGION</td>\n      <td>NaN</td>\n      <td>2</td>\n      <td>2024-01-23 04:05:00</td>\n      <td>1</td>\n      <td>QLD1</td>\n      <td>0</td>\n      <td>62.73000</td>\n      <td>0</td>\n      <td>...</td>\n      <td>0</td>\n      <td>0.45</td>\n      <td>0.45</td>\n      <td>0</td>\n      <td>0.0</td>\n      <td>0.0</td>\n      <td>0</td>\n      <td>3.76</td>\n      <td>3.76</td>\n      <td>0</td>\n    </tr>\n    <tr>\n      <th>2</th>\n      <td>D</td>\n      <td>DREGION</td>\n      <td>NaN</td>\n      <td>2</td>\n      <td>2024-01-23 04:05:00</td>\n      <td>1</td>\n      <td>SA1</td>\n      <td>0</td>\n      <td>34.16184</td>\n      <td>0</td>\n      <td>...</td>\n      <td>0</td>\n      <td>0.45</td>\n      <td>0.45</td>\n      <td>0</td>\n      <td>0.0</td>\n      <td>0.0</td>\n      <td>0</td>\n      <td>3.76</td>\n      <td>3.76</td>\n      <td>0</td>\n    </tr>\n    <tr>\n      <th>3</th>\n      <td>D</td>\n      <td>DREGION</td>\n      <td>NaN</td>\n      <td>2</td>\n      <td>2024-01-23 04:05:00</td>\n      <td>1</td>\n      <td>TAS1</td>\n      <td>0</td>\n      <td>53.71593</td>\n      <td>0</td>\n      <td>...</td>\n      <td>0</td>\n      <td>0.45</td>\n      <td>0.45</td>\n      <td>0</td>\n      <td>0.0</td>\n      <td>0.0</td>\n      <td>0</td>\n      <td>2.65</td>\n      <td>2.65</td>\n      <td>0</td>\n    </tr>\n    <tr>\n      <th>4</th>\n      <td>D</td>\n      <td>DREGION</td>\n      <td>NaN</td>\n      <td>2</td>\n      <td>2024-01-23 04:05:00</td>\n      <td>1</td>\n      <td>VIC1</td>\n      <td>0</td>\n      <td>34.94000</td>\n      <td>0</td>\n      <td>...</td>\n      <td>0</td>\n      <td>0.45</td>\n      <td>0.45</td>\n      <td>0</td>\n      <td>0.0</td>\n      <td>0.0</td>\n      <td>0</td>\n      <td>3.76</td>\n      <td>3.76</td>\n      <td>0</td>\n    </tr>\n  </tbody>\n</table>\n<p>5 rows × 120 columns</p>\n</div>"
     },
     "execution_count": 168,
     "metadata": {},
     "output_type": "execute_result"
    }
   ],
   "source": [
    "df4.head()"
   ],
   "metadata": {
    "collapsed": false,
    "ExecuteTime": {
     "end_time": "2024-03-21T12:39:31.940202Z",
     "start_time": "2024-03-21T12:39:31.931676Z"
    }
   },
   "id": "dd18f7148187136d",
   "execution_count": 168
  },
  {
   "cell_type": "code",
   "outputs": [
    {
     "data": {
      "text/plain": "        I  DREGION  Unnamed: 2  2      SETTLEMENTDATE  RUNNO REGIONID  \\\n633745  D  DREGION         NaN  2 2024-02-26 04:00:00      1     NSW1   \n633746  D  DREGION         NaN  2 2024-02-26 04:00:00      1     QLD1   \n633747  D  DREGION         NaN  2 2024-02-26 04:00:00      1      SA1   \n633748  D  DREGION         NaN  2 2024-02-26 04:00:00      1     TAS1   \n633749  D  DREGION         NaN  2 2024-02-26 04:00:00      1     VIC1   \n\n        INTERVENTION       RRP  EEP  ...  LOWER6SECAPCFLAG  LOWER60SECRRP  \\\n633745             0  68.00000    0  ...                 0           0.39   \n633746             0  70.92975    0  ...                 0           0.39   \n633747             0  50.43366    0  ...                 0           0.39   \n633748             0  68.21000    0  ...                 0           0.39   \n633749             0  35.95003    0  ...                 0           0.39   \n\n        LOWER60SECROP  LOWER60SECAPCFLAG  LOWER5MINRRP  LOWER5MINROP  \\\n633745           0.39                  0           0.0           0.0   \n633746           0.39                  0           0.0           0.0   \n633747           0.39                  0           0.0           0.0   \n633748           0.39                  0           0.0           0.0   \n633749           0.39                  0           0.0           0.0   \n\n        LOWER5MINAPCFLAG  LOWERREGRRP  LOWERREGROP  LOWERREGAPCFLAG  \n633745                 0         3.75         3.75                0  \n633746                 0         3.75         3.75                0  \n633747                 0         3.75         3.75                0  \n633748                 0         3.70         3.70                0  \n633749                 0         3.75         3.75                0  \n\n[5 rows x 120 columns]",
      "text/html": "<div>\n<style scoped>\n    .dataframe tbody tr th:only-of-type {\n        vertical-align: middle;\n    }\n\n    .dataframe tbody tr th {\n        vertical-align: top;\n    }\n\n    .dataframe thead th {\n        text-align: right;\n    }\n</style>\n<table border=\"1\" class=\"dataframe\">\n  <thead>\n    <tr style=\"text-align: right;\">\n      <th></th>\n      <th>I</th>\n      <th>DREGION</th>\n      <th>Unnamed: 2</th>\n      <th>2</th>\n      <th>SETTLEMENTDATE</th>\n      <th>RUNNO</th>\n      <th>REGIONID</th>\n      <th>INTERVENTION</th>\n      <th>RRP</th>\n      <th>EEP</th>\n      <th>...</th>\n      <th>LOWER6SECAPCFLAG</th>\n      <th>LOWER60SECRRP</th>\n      <th>LOWER60SECROP</th>\n      <th>LOWER60SECAPCFLAG</th>\n      <th>LOWER5MINRRP</th>\n      <th>LOWER5MINROP</th>\n      <th>LOWER5MINAPCFLAG</th>\n      <th>LOWERREGRRP</th>\n      <th>LOWERREGROP</th>\n      <th>LOWERREGAPCFLAG</th>\n    </tr>\n  </thead>\n  <tbody>\n    <tr>\n      <th>633745</th>\n      <td>D</td>\n      <td>DREGION</td>\n      <td>NaN</td>\n      <td>2</td>\n      <td>2024-02-26 04:00:00</td>\n      <td>1</td>\n      <td>NSW1</td>\n      <td>0</td>\n      <td>68.00000</td>\n      <td>0</td>\n      <td>...</td>\n      <td>0</td>\n      <td>0.39</td>\n      <td>0.39</td>\n      <td>0</td>\n      <td>0.0</td>\n      <td>0.0</td>\n      <td>0</td>\n      <td>3.75</td>\n      <td>3.75</td>\n      <td>0</td>\n    </tr>\n    <tr>\n      <th>633746</th>\n      <td>D</td>\n      <td>DREGION</td>\n      <td>NaN</td>\n      <td>2</td>\n      <td>2024-02-26 04:00:00</td>\n      <td>1</td>\n      <td>QLD1</td>\n      <td>0</td>\n      <td>70.92975</td>\n      <td>0</td>\n      <td>...</td>\n      <td>0</td>\n      <td>0.39</td>\n      <td>0.39</td>\n      <td>0</td>\n      <td>0.0</td>\n      <td>0.0</td>\n      <td>0</td>\n      <td>3.75</td>\n      <td>3.75</td>\n      <td>0</td>\n    </tr>\n    <tr>\n      <th>633747</th>\n      <td>D</td>\n      <td>DREGION</td>\n      <td>NaN</td>\n      <td>2</td>\n      <td>2024-02-26 04:00:00</td>\n      <td>1</td>\n      <td>SA1</td>\n      <td>0</td>\n      <td>50.43366</td>\n      <td>0</td>\n      <td>...</td>\n      <td>0</td>\n      <td>0.39</td>\n      <td>0.39</td>\n      <td>0</td>\n      <td>0.0</td>\n      <td>0.0</td>\n      <td>0</td>\n      <td>3.75</td>\n      <td>3.75</td>\n      <td>0</td>\n    </tr>\n    <tr>\n      <th>633748</th>\n      <td>D</td>\n      <td>DREGION</td>\n      <td>NaN</td>\n      <td>2</td>\n      <td>2024-02-26 04:00:00</td>\n      <td>1</td>\n      <td>TAS1</td>\n      <td>0</td>\n      <td>68.21000</td>\n      <td>0</td>\n      <td>...</td>\n      <td>0</td>\n      <td>0.39</td>\n      <td>0.39</td>\n      <td>0</td>\n      <td>0.0</td>\n      <td>0.0</td>\n      <td>0</td>\n      <td>3.70</td>\n      <td>3.70</td>\n      <td>0</td>\n    </tr>\n    <tr>\n      <th>633749</th>\n      <td>D</td>\n      <td>DREGION</td>\n      <td>NaN</td>\n      <td>2</td>\n      <td>2024-02-26 04:00:00</td>\n      <td>1</td>\n      <td>VIC1</td>\n      <td>0</td>\n      <td>35.95003</td>\n      <td>0</td>\n      <td>...</td>\n      <td>0</td>\n      <td>0.39</td>\n      <td>0.39</td>\n      <td>0</td>\n      <td>0.0</td>\n      <td>0.0</td>\n      <td>0</td>\n      <td>3.75</td>\n      <td>3.75</td>\n      <td>0</td>\n    </tr>\n  </tbody>\n</table>\n<p>5 rows × 120 columns</p>\n</div>"
     },
     "execution_count": 169,
     "metadata": {},
     "output_type": "execute_result"
    }
   ],
   "source": [
    "df4.tail()"
   ],
   "metadata": {
    "collapsed": false,
    "ExecuteTime": {
     "end_time": "2024-03-21T12:39:31.951879Z",
     "start_time": "2024-03-21T12:39:31.940802Z"
    }
   },
   "id": "901d5c165be1a750",
   "execution_count": 169
  },
  {
   "cell_type": "code",
   "outputs": [
    {
     "data": {
      "text/plain": "I                           object\nDREGION                     object\nUnnamed: 2                 float64\n2                            int64\nSETTLEMENTDATE      datetime64[ns]\n                         ...      \nLOWER5MINROP               float64\nLOWER5MINAPCFLAG             int64\nLOWERREGRRP                float64\nLOWERREGROP                float64\nLOWERREGAPCFLAG              int64\nLength: 120, dtype: object"
     },
     "execution_count": 170,
     "metadata": {},
     "output_type": "execute_result"
    }
   ],
   "source": [
    "df4.dtypes"
   ],
   "metadata": {
    "collapsed": false,
    "ExecuteTime": {
     "end_time": "2024-03-21T12:39:31.957686Z",
     "start_time": "2024-03-21T12:39:31.952332Z"
    }
   },
   "id": "1f784d63c64af7fa",
   "execution_count": 170
  },
  {
   "cell_type": "code",
   "outputs": [
    {
     "data": {
      "text/plain": "(633750, 120)"
     },
     "execution_count": 171,
     "metadata": {},
     "output_type": "execute_result"
    }
   ],
   "source": [
    "df4.shape"
   ],
   "metadata": {
    "collapsed": false,
    "ExecuteTime": {
     "end_time": "2024-03-21T12:39:31.967304Z",
     "start_time": "2024-03-21T12:39:31.958122Z"
    }
   },
   "id": "ccdeac53d0b61538",
   "execution_count": 171
  },
  {
   "cell_type": "code",
   "outputs": [
    {
     "name": "stdout",
     "output_type": "stream",
     "text": [
      "<class 'pandas.core.frame.DataFrame'>\n",
      "RangeIndex: 633750 entries, 0 to 633749\n",
      "Columns: 120 entries, I to LOWERREGAPCFLAG\n",
      "dtypes: datetime64[ns](1), float64(101), int64(15), object(3)\n",
      "memory usage: 580.2+ MB\n"
     ]
    }
   ],
   "source": [
    "df4.info()"
   ],
   "metadata": {
    "collapsed": false,
    "ExecuteTime": {
     "end_time": "2024-03-21T12:39:31.988131Z",
     "start_time": "2024-03-21T12:39:31.967832Z"
    }
   },
   "id": "6a03aae6135ee80c",
   "execution_count": 172
  },
  {
   "cell_type": "code",
   "outputs": [
    {
     "data": {
      "text/plain": "       Unnamed: 2         2                 SETTLEMENTDATE     RUNNO  \\\ncount         0.0  633750.0                         633750  633750.0   \nmean          NaN       2.0  2023-08-09 23:19:24.347929344       1.0   \nmin           NaN       2.0            2023-01-01 04:05:00       1.0   \n25%           NaN       2.0            2023-04-22 02:10:00       1.0   \n50%           NaN       2.0            2023-08-10 02:47:30       1.0   \n75%           NaN       2.0            2023-11-28 03:25:00       1.0   \nmax           NaN       2.0            2024-03-17 04:00:00       1.0   \nstd           NaN       0.0                            NaN       0.0   \n\n        INTERVENTION            RRP       EEP           ROP        APCFLAG  \\\ncount  633750.000000  633750.000000  633750.0  6.337500e+05  633750.000000   \nmean        0.000237      76.137472       0.0  9.643399e+01       0.005901   \nmin         0.000000    -999.999470       0.0 -9.999995e+02       0.000000   \n25%         0.000000      19.120000       0.0  1.912000e+01       0.000000   \n50%         0.000000      62.611005       0.0  6.261016e+01       0.000000   \n75%         0.000000     100.020000       0.0  1.000200e+02       0.000000   \nmax         1.000000   16600.000000       0.0  2.325000e+06      20.000000   \nstd         0.015383     330.481367       0.0  4.183949e+03       0.297604   \n\n       MARKETSUSPENDEDFLAG  ...  LOWER6SECAPCFLAG  LOWER60SECRRP  \\\ncount        633750.000000  ...     633750.000000  633750.000000   \nmean              0.000732  ...          0.000013       3.615498   \nmin               0.000000  ...          0.000000       0.000000   \n25%               0.000000  ...          0.000000       0.380000   \n50%               0.000000  ...          0.000000       0.390000   \n75%               0.000000  ...          0.000000       1.400000   \nmax               2.000000  ...          4.000000   16600.000000   \nstd               0.035030  ...          0.007106      59.854095   \n\n       LOWER60SECROP  LOWER60SECAPCFLAG   LOWER5MINRRP   LOWER5MINROP  \\\ncount  633750.000000           633750.0  633750.000000  633750.000000   \nmean        3.615225                0.0       1.655954       1.655891   \nmin         0.000000                0.0       0.000000       0.000000   \n25%         0.380000                0.0       0.150000       0.150000   \n50%         0.390000                0.0       0.390000       0.390000   \n75%         1.400000                0.0       0.410000       0.410000   \nmax     16600.000000                0.0     999.000000     999.000000   \nstd        59.854106                0.0       5.647249       5.647262   \n\n       LOWER5MINAPCFLAG    LOWERREGRRP    LOWERREGROP  LOWERREGAPCFLAG  \ncount          633750.0  633750.000000  633750.000000    633750.000000  \nmean                0.0       8.262021       8.497738         0.000006  \nmin                 0.0       0.000000       0.000000         0.000000  \n25%                 0.0       3.610000       3.610000         0.000000  \n50%                 0.0       3.990000       3.990000         0.000000  \n75%                 0.0       7.120000       7.120000         0.000000  \nmax                 0.0   16600.000000  166009.880000         4.000000  \nstd                 0.0      27.012011     209.229543         0.005025  \n\n[8 rows x 117 columns]",
      "text/html": "<div>\n<style scoped>\n    .dataframe tbody tr th:only-of-type {\n        vertical-align: middle;\n    }\n\n    .dataframe tbody tr th {\n        vertical-align: top;\n    }\n\n    .dataframe thead th {\n        text-align: right;\n    }\n</style>\n<table border=\"1\" class=\"dataframe\">\n  <thead>\n    <tr style=\"text-align: right;\">\n      <th></th>\n      <th>Unnamed: 2</th>\n      <th>2</th>\n      <th>SETTLEMENTDATE</th>\n      <th>RUNNO</th>\n      <th>INTERVENTION</th>\n      <th>RRP</th>\n      <th>EEP</th>\n      <th>ROP</th>\n      <th>APCFLAG</th>\n      <th>MARKETSUSPENDEDFLAG</th>\n      <th>...</th>\n      <th>LOWER6SECAPCFLAG</th>\n      <th>LOWER60SECRRP</th>\n      <th>LOWER60SECROP</th>\n      <th>LOWER60SECAPCFLAG</th>\n      <th>LOWER5MINRRP</th>\n      <th>LOWER5MINROP</th>\n      <th>LOWER5MINAPCFLAG</th>\n      <th>LOWERREGRRP</th>\n      <th>LOWERREGROP</th>\n      <th>LOWERREGAPCFLAG</th>\n    </tr>\n  </thead>\n  <tbody>\n    <tr>\n      <th>count</th>\n      <td>0.0</td>\n      <td>633750.0</td>\n      <td>633750</td>\n      <td>633750.0</td>\n      <td>633750.000000</td>\n      <td>633750.000000</td>\n      <td>633750.0</td>\n      <td>6.337500e+05</td>\n      <td>633750.000000</td>\n      <td>633750.000000</td>\n      <td>...</td>\n      <td>633750.000000</td>\n      <td>633750.000000</td>\n      <td>633750.000000</td>\n      <td>633750.0</td>\n      <td>633750.000000</td>\n      <td>633750.000000</td>\n      <td>633750.0</td>\n      <td>633750.000000</td>\n      <td>633750.000000</td>\n      <td>633750.000000</td>\n    </tr>\n    <tr>\n      <th>mean</th>\n      <td>NaN</td>\n      <td>2.0</td>\n      <td>2023-08-09 23:19:24.347929344</td>\n      <td>1.0</td>\n      <td>0.000237</td>\n      <td>76.137472</td>\n      <td>0.0</td>\n      <td>9.643399e+01</td>\n      <td>0.005901</td>\n      <td>0.000732</td>\n      <td>...</td>\n      <td>0.000013</td>\n      <td>3.615498</td>\n      <td>3.615225</td>\n      <td>0.0</td>\n      <td>1.655954</td>\n      <td>1.655891</td>\n      <td>0.0</td>\n      <td>8.262021</td>\n      <td>8.497738</td>\n      <td>0.000006</td>\n    </tr>\n    <tr>\n      <th>min</th>\n      <td>NaN</td>\n      <td>2.0</td>\n      <td>2023-01-01 04:05:00</td>\n      <td>1.0</td>\n      <td>0.000000</td>\n      <td>-999.999470</td>\n      <td>0.0</td>\n      <td>-9.999995e+02</td>\n      <td>0.000000</td>\n      <td>0.000000</td>\n      <td>...</td>\n      <td>0.000000</td>\n      <td>0.000000</td>\n      <td>0.000000</td>\n      <td>0.0</td>\n      <td>0.000000</td>\n      <td>0.000000</td>\n      <td>0.0</td>\n      <td>0.000000</td>\n      <td>0.000000</td>\n      <td>0.000000</td>\n    </tr>\n    <tr>\n      <th>25%</th>\n      <td>NaN</td>\n      <td>2.0</td>\n      <td>2023-04-22 02:10:00</td>\n      <td>1.0</td>\n      <td>0.000000</td>\n      <td>19.120000</td>\n      <td>0.0</td>\n      <td>1.912000e+01</td>\n      <td>0.000000</td>\n      <td>0.000000</td>\n      <td>...</td>\n      <td>0.000000</td>\n      <td>0.380000</td>\n      <td>0.380000</td>\n      <td>0.0</td>\n      <td>0.150000</td>\n      <td>0.150000</td>\n      <td>0.0</td>\n      <td>3.610000</td>\n      <td>3.610000</td>\n      <td>0.000000</td>\n    </tr>\n    <tr>\n      <th>50%</th>\n      <td>NaN</td>\n      <td>2.0</td>\n      <td>2023-08-10 02:47:30</td>\n      <td>1.0</td>\n      <td>0.000000</td>\n      <td>62.611005</td>\n      <td>0.0</td>\n      <td>6.261016e+01</td>\n      <td>0.000000</td>\n      <td>0.000000</td>\n      <td>...</td>\n      <td>0.000000</td>\n      <td>0.390000</td>\n      <td>0.390000</td>\n      <td>0.0</td>\n      <td>0.390000</td>\n      <td>0.390000</td>\n      <td>0.0</td>\n      <td>3.990000</td>\n      <td>3.990000</td>\n      <td>0.000000</td>\n    </tr>\n    <tr>\n      <th>75%</th>\n      <td>NaN</td>\n      <td>2.0</td>\n      <td>2023-11-28 03:25:00</td>\n      <td>1.0</td>\n      <td>0.000000</td>\n      <td>100.020000</td>\n      <td>0.0</td>\n      <td>1.000200e+02</td>\n      <td>0.000000</td>\n      <td>0.000000</td>\n      <td>...</td>\n      <td>0.000000</td>\n      <td>1.400000</td>\n      <td>1.400000</td>\n      <td>0.0</td>\n      <td>0.410000</td>\n      <td>0.410000</td>\n      <td>0.0</td>\n      <td>7.120000</td>\n      <td>7.120000</td>\n      <td>0.000000</td>\n    </tr>\n    <tr>\n      <th>max</th>\n      <td>NaN</td>\n      <td>2.0</td>\n      <td>2024-03-17 04:00:00</td>\n      <td>1.0</td>\n      <td>1.000000</td>\n      <td>16600.000000</td>\n      <td>0.0</td>\n      <td>2.325000e+06</td>\n      <td>20.000000</td>\n      <td>2.000000</td>\n      <td>...</td>\n      <td>4.000000</td>\n      <td>16600.000000</td>\n      <td>16600.000000</td>\n      <td>0.0</td>\n      <td>999.000000</td>\n      <td>999.000000</td>\n      <td>0.0</td>\n      <td>16600.000000</td>\n      <td>166009.880000</td>\n      <td>4.000000</td>\n    </tr>\n    <tr>\n      <th>std</th>\n      <td>NaN</td>\n      <td>0.0</td>\n      <td>NaN</td>\n      <td>0.0</td>\n      <td>0.015383</td>\n      <td>330.481367</td>\n      <td>0.0</td>\n      <td>4.183949e+03</td>\n      <td>0.297604</td>\n      <td>0.035030</td>\n      <td>...</td>\n      <td>0.007106</td>\n      <td>59.854095</td>\n      <td>59.854106</td>\n      <td>0.0</td>\n      <td>5.647249</td>\n      <td>5.647262</td>\n      <td>0.0</td>\n      <td>27.012011</td>\n      <td>209.229543</td>\n      <td>0.005025</td>\n    </tr>\n  </tbody>\n</table>\n<p>8 rows × 117 columns</p>\n</div>"
     },
     "execution_count": 173,
     "metadata": {},
     "output_type": "execute_result"
    }
   ],
   "source": [
    "df4.describe()"
   ],
   "metadata": {
    "collapsed": false,
    "ExecuteTime": {
     "end_time": "2024-03-21T12:39:33.004356Z",
     "start_time": "2024-03-21T12:39:31.988632Z"
    }
   },
   "id": "d314539848416b3e",
   "execution_count": 173
  },
  {
   "cell_type": "code",
   "outputs": [
    {
     "data": {
      "text/plain": "I                        0\nDREGION                  0\nUnnamed: 2          633750\n2                        0\nSETTLEMENTDATE           0\n                     ...  \nLOWER5MINROP             0\nLOWER5MINAPCFLAG         0\nLOWERREGRRP              0\nLOWERREGROP              0\nLOWERREGAPCFLAG          0\nLength: 120, dtype: int64"
     },
     "execution_count": 174,
     "metadata": {},
     "output_type": "execute_result"
    }
   ],
   "source": [
    "df4.isnull().sum()"
   ],
   "metadata": {
    "collapsed": false,
    "ExecuteTime": {
     "end_time": "2024-03-21T12:39:33.081801Z",
     "start_time": "2024-03-21T12:39:33.004967Z"
    }
   },
   "id": "75c83355605bc285",
   "execution_count": 174
  },
  {
   "cell_type": "code",
   "outputs": [
    {
     "data": {
      "text/plain": "I                        0\nDREGION                  0\nUnnamed: 2          633750\n2                        0\nSETTLEMENTDATE           0\n                     ...  \nLOWER5MINROP             0\nLOWER5MINAPCFLAG         0\nLOWERREGRRP              0\nLOWERREGROP              0\nLOWERREGAPCFLAG          0\nLength: 120, dtype: int64"
     },
     "execution_count": 175,
     "metadata": {},
     "output_type": "execute_result"
    }
   ],
   "source": [
    "df4.isna().sum()"
   ],
   "metadata": {
    "collapsed": false,
    "ExecuteTime": {
     "end_time": "2024-03-21T12:39:33.159846Z",
     "start_time": "2024-03-21T12:39:33.082449Z"
    }
   },
   "id": "76f780292fe2c730",
   "execution_count": 175
  }
 ],
 "metadata": {
  "kernelspec": {
   "display_name": "Python 3",
   "language": "python",
   "name": "python3"
  },
  "language_info": {
   "codemirror_mode": {
    "name": "ipython",
    "version": 2
   },
   "file_extension": ".py",
   "mimetype": "text/x-python",
   "name": "python",
   "nbconvert_exporter": "python",
   "pygments_lexer": "ipython2",
   "version": "2.7.6"
  }
 },
 "nbformat": 4,
 "nbformat_minor": 5
}
