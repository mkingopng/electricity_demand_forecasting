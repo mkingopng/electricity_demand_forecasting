{
 "cells": [
  {
   "cell_type": "code",
   "execution_count": 876,
   "id": "initial_id",
   "metadata": {
    "collapsed": true,
    "ExecuteTime": {
     "end_time": "2024-03-14T12:32:22.538403Z",
     "start_time": "2024-03-14T12:32:22.536695Z"
    }
   },
   "outputs": [],
   "source": [
    "import pandas as pd\n",
    "import os"
   ]
  },
  {
   "cell_type": "code",
   "outputs": [],
   "source": [
    "data_path = './../data'"
   ],
   "metadata": {
    "collapsed": false,
    "ExecuteTime": {
     "end_time": "2024-03-14T12:32:24.098739Z",
     "start_time": "2024-03-14T12:32:24.096788Z"
    }
   },
   "id": "a2f8fff9d34b72cf",
   "execution_count": 877
  },
  {
   "cell_type": "markdown",
   "source": [
    "# Table of Contents\n",
    "1. [Victoria Forecast Demand](#1)\n",
    "2. [SA Forecast Demand](#2)\n",
    "3. [QLD Forecast Demand](#3)\n",
    "4. [QLD Temperatures](#4)\n",
    "5. [SA Temperatures](#5)\n",
    "6. [Victoria Temperature](#6)\n",
    "7. [QLD Total Demand](#qld-total-demand)\n",
    "8. [SA Total Demand](#sa-total-demand)\n",
    "9. [Victoria Total Demand](#victoria-total-demand)\n",
    "10. [NSW Forecast Demand](#nsw-forecast-demand)\n",
    "11. [NSW temperature](#nsw-temperature)\n",
    "12. [NSW Total Demand](#nsw-total-demand)\n"
   ],
   "metadata": {
    "collapsed": false
   },
   "id": "e89b4b94139327df"
  },
  {
   "cell_type": "markdown",
   "source": [],
   "metadata": {
    "collapsed": false
   },
   "id": "2d2de0c89e49ba19"
  },
  {
   "cell_type": "markdown",
   "source": [
    "<a id=\"1\"></a>\n",
    "## Victoria Forecast Demand"
   ],
   "metadata": {
    "collapsed": false
   },
   "id": "6c3f17187f74423c"
  },
  {
   "cell_type": "code",
   "outputs": [
    {
     "name": "stdout",
     "output_type": "stream",
     "text": [
      "CPU times: user 1.97 s, sys: 96 ms, total: 2.07 s\n",
      "Wall time: 2.06 s\n"
     ]
    }
   ],
   "source": [
    "%%time\n",
    "vic_forecast_demand = pd.read_csv(os.path.join(data_path, 'Australia', 'a', 'forecastdemand_vic.csv'), parse_dates=['LASTCHANGED', 'DATETIME'])"
   ],
   "metadata": {
    "collapsed": false,
    "ExecuteTime": {
     "end_time": "2024-03-14T12:32:26.229647Z",
     "start_time": "2024-03-14T12:32:24.164478Z"
    }
   },
   "id": "693d10134a52051d",
   "execution_count": 878
  },
  {
   "cell_type": "code",
   "outputs": [
    {
     "name": "stdout",
     "output_type": "stream",
     "text": [
      "CPU times: user 116 µs, sys: 9 µs, total: 125 µs\n",
      "Wall time: 123 µs\n"
     ]
    },
    {
     "data": {
      "text/plain": "   PREDISPATCHSEQNO REGIONID  PERIODID  FORECASTDEMAND         LASTCHANGED  \\\n0        2016123018     VIC1        71         4160.74 2016-12-30 12:31:25   \n1        2016123018     VIC1        72         3999.64 2016-12-30 12:31:25   \n2        2016123018     VIC1        73         3836.30 2016-12-30 12:31:25   \n3        2016123018     VIC1        74         3681.87 2016-12-30 12:31:25   \n4        2016123018     VIC1        75         3457.38 2016-12-30 12:31:25   \n\n             DATETIME  \n0 2017-01-01 00:00:00  \n1 2017-01-01 00:30:00  \n2 2017-01-01 01:00:00  \n3 2017-01-01 01:30:00  \n4 2017-01-01 02:00:00  ",
      "text/html": "<div>\n<style scoped>\n    .dataframe tbody tr th:only-of-type {\n        vertical-align: middle;\n    }\n\n    .dataframe tbody tr th {\n        vertical-align: top;\n    }\n\n    .dataframe thead th {\n        text-align: right;\n    }\n</style>\n<table border=\"1\" class=\"dataframe\">\n  <thead>\n    <tr style=\"text-align: right;\">\n      <th></th>\n      <th>PREDISPATCHSEQNO</th>\n      <th>REGIONID</th>\n      <th>PERIODID</th>\n      <th>FORECASTDEMAND</th>\n      <th>LASTCHANGED</th>\n      <th>DATETIME</th>\n    </tr>\n  </thead>\n  <tbody>\n    <tr>\n      <th>0</th>\n      <td>2016123018</td>\n      <td>VIC1</td>\n      <td>71</td>\n      <td>4160.74</td>\n      <td>2016-12-30 12:31:25</td>\n      <td>2017-01-01 00:00:00</td>\n    </tr>\n    <tr>\n      <th>1</th>\n      <td>2016123018</td>\n      <td>VIC1</td>\n      <td>72</td>\n      <td>3999.64</td>\n      <td>2016-12-30 12:31:25</td>\n      <td>2017-01-01 00:30:00</td>\n    </tr>\n    <tr>\n      <th>2</th>\n      <td>2016123018</td>\n      <td>VIC1</td>\n      <td>73</td>\n      <td>3836.30</td>\n      <td>2016-12-30 12:31:25</td>\n      <td>2017-01-01 01:00:00</td>\n    </tr>\n    <tr>\n      <th>3</th>\n      <td>2016123018</td>\n      <td>VIC1</td>\n      <td>74</td>\n      <td>3681.87</td>\n      <td>2016-12-30 12:31:25</td>\n      <td>2017-01-01 01:30:00</td>\n    </tr>\n    <tr>\n      <th>4</th>\n      <td>2016123018</td>\n      <td>VIC1</td>\n      <td>75</td>\n      <td>3457.38</td>\n      <td>2016-12-30 12:31:25</td>\n      <td>2017-01-01 02:00:00</td>\n    </tr>\n  </tbody>\n</table>\n</div>"
     },
     "execution_count": 879,
     "metadata": {},
     "output_type": "execute_result"
    }
   ],
   "source": [
    "%%time\n",
    "vic_forecast_demand.head()"
   ],
   "metadata": {
    "collapsed": false,
    "ExecuteTime": {
     "end_time": "2024-03-14T12:32:26.235813Z",
     "start_time": "2024-03-14T12:32:26.230701Z"
    }
   },
   "id": "4995830024a0bb03",
   "execution_count": 879
  },
  {
   "cell_type": "code",
   "outputs": [
    {
     "name": "stdout",
     "output_type": "stream",
     "text": [
      "<class 'pandas.core.frame.DataFrame'>\n",
      "RangeIndex: 4095592 entries, 0 to 4095591\n",
      "Data columns (total 6 columns):\n",
      " #   Column            Dtype         \n",
      "---  ------            -----         \n",
      " 0   PREDISPATCHSEQNO  int64         \n",
      " 1   REGIONID          object        \n",
      " 2   PERIODID          int64         \n",
      " 3   FORECASTDEMAND    float64       \n",
      " 4   LASTCHANGED       datetime64[ns]\n",
      " 5   DATETIME          datetime64[ns]\n",
      "dtypes: datetime64[ns](2), float64(1), int64(2), object(1)\n",
      "memory usage: 187.5+ MB\n",
      "CPU times: user 1.85 ms, sys: 0 ns, total: 1.85 ms\n",
      "Wall time: 1.75 ms\n"
     ]
    }
   ],
   "source": [
    "%%time\n",
    "vic_forecast_demand.info()"
   ],
   "metadata": {
    "collapsed": false,
    "ExecuteTime": {
     "end_time": "2024-03-14T12:32:26.250969Z",
     "start_time": "2024-03-14T12:32:26.236381Z"
    }
   },
   "id": "994dbcc22219a50e",
   "execution_count": 880
  },
  {
   "cell_type": "code",
   "outputs": [
    {
     "name": "stdout",
     "output_type": "stream",
     "text": [
      "CPU times: user 75.4 ms, sys: 0 ns, total: 75.4 ms\n",
      "Wall time: 75.1 ms\n"
     ]
    },
    {
     "data": {
      "text/plain": "count    4.095592e+06\nmean     4.862913e+03\nstd      8.704415e+02\nmin      2.354240e+03\n25%      4.213920e+03\n50%      4.749945e+03\n75%      5.383632e+03\nmax      9.738030e+03\nName: FORECASTDEMAND, dtype: float64"
     },
     "execution_count": 881,
     "metadata": {},
     "output_type": "execute_result"
    }
   ],
   "source": [
    "%%time\n",
    "vic_forecast_demand['FORECASTDEMAND'].describe()"
   ],
   "metadata": {
    "collapsed": false,
    "ExecuteTime": {
     "end_time": "2024-03-14T12:32:26.330987Z",
     "start_time": "2024-03-14T12:32:26.251872Z"
    }
   },
   "id": "f108624efb1f314e",
   "execution_count": 881
  },
  {
   "cell_type": "code",
   "outputs": [
    {
     "name": "stdout",
     "output_type": "stream",
     "text": [
      "CPU times: user 9 µs, sys: 0 ns, total: 9 µs\n",
      "Wall time: 10.5 µs\n"
     ]
    },
    {
     "data": {
      "text/plain": "(4095592, 6)"
     },
     "execution_count": 882,
     "metadata": {},
     "output_type": "execute_result"
    }
   ],
   "source": [
    "%%time\n",
    "vic_forecast_demand.shape"
   ],
   "metadata": {
    "collapsed": false,
    "ExecuteTime": {
     "end_time": "2024-03-14T12:32:26.334273Z",
     "start_time": "2024-03-14T12:32:26.331658Z"
    }
   },
   "id": "6d5cf7f3a7110617",
   "execution_count": 882
  },
  {
   "cell_type": "code",
   "outputs": [
    {
     "name": "stdout",
     "output_type": "stream",
     "text": [
      "CPU times: user 140 ms, sys: 0 ns, total: 140 ms\n",
      "Wall time: 139 ms\n"
     ]
    },
    {
     "data": {
      "text/plain": "PREDISPATCHSEQNO             2016123018\nREGIONID                           VIC1\nPERIODID                              1\nFORECASTDEMAND                  2354.24\nLASTCHANGED         2016-12-30 12:31:25\nDATETIME            2017-01-01 00:00:00\ndtype: object"
     },
     "execution_count": 883,
     "metadata": {},
     "output_type": "execute_result"
    }
   ],
   "source": [
    "%%time\n",
    "vic_forecast_demand.min()"
   ],
   "metadata": {
    "collapsed": false,
    "ExecuteTime": {
     "end_time": "2024-03-14T12:32:26.478078Z",
     "start_time": "2024-03-14T12:32:26.334834Z"
    }
   },
   "id": "911135ec51ed1cec",
   "execution_count": 883
  },
  {
   "cell_type": "code",
   "outputs": [
    {
     "name": "stdout",
     "output_type": "stream",
     "text": [
      "CPU times: user 141 ms, sys: 0 ns, total: 141 ms\n",
      "Wall time: 139 ms\n"
     ]
    },
    {
     "data": {
      "text/plain": "PREDISPATCHSEQNO             2021031740\nREGIONID                           VIC1\nPERIODID                             79\nFORECASTDEMAND                  9738.03\nLASTCHANGED         2021-03-17 23:31:33\nDATETIME            2021-03-19 04:00:00\ndtype: object"
     },
     "execution_count": 884,
     "metadata": {},
     "output_type": "execute_result"
    }
   ],
   "source": [
    "%%time\n",
    "vic_forecast_demand.max()"
   ],
   "metadata": {
    "collapsed": false,
    "ExecuteTime": {
     "end_time": "2024-03-14T12:32:26.621206Z",
     "start_time": "2024-03-14T12:32:26.478826Z"
    }
   },
   "id": "4d29ea3ecf3d1a83",
   "execution_count": 884
  },
  {
   "cell_type": "markdown",
   "source": [
    "check for nulls"
   ],
   "metadata": {
    "collapsed": false
   },
   "id": "8b736b1ec16a363"
  },
  {
   "cell_type": "code",
   "outputs": [
    {
     "name": "stdout",
     "output_type": "stream",
     "text": [
      "CPU times: user 92.2 ms, sys: 0 ns, total: 92.2 ms\n",
      "Wall time: 91.2 ms\n"
     ]
    },
    {
     "data": {
      "text/plain": "PREDISPATCHSEQNO    0\nREGIONID            0\nPERIODID            0\nFORECASTDEMAND      0\nLASTCHANGED         0\nDATETIME            0\ndtype: int64"
     },
     "execution_count": 885,
     "metadata": {},
     "output_type": "execute_result"
    }
   ],
   "source": [
    "%%time\n",
    "vic_forecast_demand.isnull().sum()"
   ],
   "metadata": {
    "collapsed": false,
    "ExecuteTime": {
     "end_time": "2024-03-14T12:32:26.716137Z",
     "start_time": "2024-03-14T12:32:26.621822Z"
    }
   },
   "id": "7839a3208008a160",
   "execution_count": 885
  },
  {
   "cell_type": "code",
   "outputs": [
    {
     "name": "stdout",
     "output_type": "stream",
     "text": [
      "CPU times: user 93.6 ms, sys: 0 ns, total: 93.6 ms\n",
      "Wall time: 92.6 ms\n"
     ]
    },
    {
     "data": {
      "text/plain": "PREDISPATCHSEQNO    0\nREGIONID            0\nPERIODID            0\nFORECASTDEMAND      0\nLASTCHANGED         0\nDATETIME            0\ndtype: int64"
     },
     "execution_count": 886,
     "metadata": {},
     "output_type": "execute_result"
    }
   ],
   "source": [
    "%%time\n",
    "vic_forecast_demand.isna().sum()"
   ],
   "metadata": {
    "collapsed": false,
    "ExecuteTime": {
     "end_time": "2024-03-14T12:32:26.812792Z",
     "start_time": "2024-03-14T12:32:26.716921Z"
    }
   },
   "id": "d5d2e341feb4827b",
   "execution_count": 886
  },
  {
   "cell_type": "markdown",
   "source": [
    "number of unique values"
   ],
   "metadata": {
    "collapsed": false
   },
   "id": "f78f7addd9456b13"
  },
  {
   "cell_type": "code",
   "outputs": [
    {
     "data": {
      "text/plain": "PREDISPATCHSEQNO     73836\nREGIONID                 1\nPERIODID                79\nFORECASTDEMAND      430091\nLASTCHANGED          73836\nDATETIME             73833\ndtype: int64"
     },
     "execution_count": 887,
     "metadata": {},
     "output_type": "execute_result"
    }
   ],
   "source": [
    "vic_forecast_demand.nunique()"
   ],
   "metadata": {
    "collapsed": false,
    "ExecuteTime": {
     "end_time": "2024-03-14T12:32:27.031660Z",
     "start_time": "2024-03-14T12:32:26.814310Z"
    }
   },
   "id": "79810cf215c482db",
   "execution_count": 887
  },
  {
   "cell_type": "markdown",
   "source": [
    "check for regular intervals"
   ],
   "metadata": {
    "collapsed": false
   },
   "id": "34de60dacd1c7ab5"
  },
  {
   "cell_type": "markdown",
   "source": [
    "checking timestamps"
   ],
   "metadata": {
    "collapsed": false
   },
   "id": "d9e5a12dabd58905"
  },
  {
   "cell_type": "markdown",
   "source": [
    "visual inspection"
   ],
   "metadata": {
    "collapsed": false
   },
   "id": "47a28caa78a668b4"
  },
  {
   "cell_type": "markdown",
   "source": [
    "check data types & do required conversions"
   ],
   "metadata": {
    "collapsed": false
   },
   "id": "87a5a4235bd05d51"
  },
  {
   "cell_type": "markdown",
   "source": [
    "check time stamps"
   ],
   "metadata": {
    "collapsed": false
   },
   "id": "13a853dbf7d11e36"
  },
  {
   "cell_type": "markdown",
   "source": [
    "<a id=\"2\"></a>\n",
    "## SA Forecast Demand"
   ],
   "metadata": {
    "collapsed": false
   },
   "id": "75a633fdee928fc0"
  },
  {
   "cell_type": "code",
   "outputs": [
    {
     "name": "stdout",
     "output_type": "stream",
     "text": [
      "CPU times: user 2.02 s, sys: 88 ms, total: 2.11 s\n",
      "Wall time: 2.1 s\n"
     ]
    }
   ],
   "source": [
    "%%time\n",
    "sa_forecast_demand = pd.read_csv(os.path.join(data_path, 'Australia', 'b', 'forecastdemand_sa.csv'), parse_dates=['LASTCHANGED', 'DATETIME'])"
   ],
   "metadata": {
    "collapsed": false,
    "ExecuteTime": {
     "end_time": "2024-03-14T12:32:29.139479Z",
     "start_time": "2024-03-14T12:32:27.032437Z"
    }
   },
   "id": "5dafe7e46f0e5720",
   "execution_count": 888
  },
  {
   "cell_type": "code",
   "outputs": [
    {
     "name": "stdout",
     "output_type": "stream",
     "text": [
      "CPU times: user 107 µs, sys: 0 ns, total: 107 µs\n",
      "Wall time: 97.3 µs\n"
     ]
    },
    {
     "data": {
      "text/plain": "   PREDISPATCHSEQNO REGIONID  PERIODID  FORECASTDEMAND         LASTCHANGED  \\\n0        2016123018      SA1        71         1394.41 2016-12-30 12:31:25   \n1        2016123018      SA1        72         1285.07 2016-12-30 12:31:25   \n2        2016123018      SA1        73         1221.70 2016-12-30 12:31:25   \n3        2016123018      SA1        74         1141.86 2016-12-30 12:31:25   \n4        2016123018      SA1        75         1087.78 2016-12-30 12:31:25   \n\n             DATETIME  \n0 2017-01-01 00:00:00  \n1 2017-01-01 00:30:00  \n2 2017-01-01 01:00:00  \n3 2017-01-01 01:30:00  \n4 2017-01-01 02:00:00  ",
      "text/html": "<div>\n<style scoped>\n    .dataframe tbody tr th:only-of-type {\n        vertical-align: middle;\n    }\n\n    .dataframe tbody tr th {\n        vertical-align: top;\n    }\n\n    .dataframe thead th {\n        text-align: right;\n    }\n</style>\n<table border=\"1\" class=\"dataframe\">\n  <thead>\n    <tr style=\"text-align: right;\">\n      <th></th>\n      <th>PREDISPATCHSEQNO</th>\n      <th>REGIONID</th>\n      <th>PERIODID</th>\n      <th>FORECASTDEMAND</th>\n      <th>LASTCHANGED</th>\n      <th>DATETIME</th>\n    </tr>\n  </thead>\n  <tbody>\n    <tr>\n      <th>0</th>\n      <td>2016123018</td>\n      <td>SA1</td>\n      <td>71</td>\n      <td>1394.41</td>\n      <td>2016-12-30 12:31:25</td>\n      <td>2017-01-01 00:00:00</td>\n    </tr>\n    <tr>\n      <th>1</th>\n      <td>2016123018</td>\n      <td>SA1</td>\n      <td>72</td>\n      <td>1285.07</td>\n      <td>2016-12-30 12:31:25</td>\n      <td>2017-01-01 00:30:00</td>\n    </tr>\n    <tr>\n      <th>2</th>\n      <td>2016123018</td>\n      <td>SA1</td>\n      <td>73</td>\n      <td>1221.70</td>\n      <td>2016-12-30 12:31:25</td>\n      <td>2017-01-01 01:00:00</td>\n    </tr>\n    <tr>\n      <th>3</th>\n      <td>2016123018</td>\n      <td>SA1</td>\n      <td>74</td>\n      <td>1141.86</td>\n      <td>2016-12-30 12:31:25</td>\n      <td>2017-01-01 01:30:00</td>\n    </tr>\n    <tr>\n      <th>4</th>\n      <td>2016123018</td>\n      <td>SA1</td>\n      <td>75</td>\n      <td>1087.78</td>\n      <td>2016-12-30 12:31:25</td>\n      <td>2017-01-01 02:00:00</td>\n    </tr>\n  </tbody>\n</table>\n</div>"
     },
     "execution_count": 889,
     "metadata": {},
     "output_type": "execute_result"
    }
   ],
   "source": [
    "%%time\n",
    "sa_forecast_demand.head()"
   ],
   "metadata": {
    "collapsed": false,
    "ExecuteTime": {
     "end_time": "2024-03-14T12:32:29.145683Z",
     "start_time": "2024-03-14T12:32:29.140230Z"
    }
   },
   "id": "85ca104fc5687f92",
   "execution_count": 889
  },
  {
   "cell_type": "code",
   "outputs": [
    {
     "name": "stdout",
     "output_type": "stream",
     "text": [
      "CPU times: user 117 µs, sys: 10 µs, total: 127 µs\n",
      "Wall time: 127 µs\n"
     ]
    },
    {
     "data": {
      "text/plain": "         PREDISPATCHSEQNO REGIONID  PERIODID  FORECASTDEMAND  \\\n4095587        2021031740      SA1        53         1228.07   \n4095588        2021031740      SA1        54         1208.17   \n4095589        2021031740      SA1        55         1199.27   \n4095590        2021031740      SA1        56         1194.31   \n4095591        2021031740      SA1        57         1190.41   \n\n                LASTCHANGED            DATETIME  \n4095587 2021-03-17 23:31:33 2021-03-19 02:00:00  \n4095588 2021-03-17 23:31:33 2021-03-19 02:30:00  \n4095589 2021-03-17 23:31:33 2021-03-19 03:00:00  \n4095590 2021-03-17 23:31:33 2021-03-19 03:30:00  \n4095591 2021-03-17 23:31:33 2021-03-19 04:00:00  ",
      "text/html": "<div>\n<style scoped>\n    .dataframe tbody tr th:only-of-type {\n        vertical-align: middle;\n    }\n\n    .dataframe tbody tr th {\n        vertical-align: top;\n    }\n\n    .dataframe thead th {\n        text-align: right;\n    }\n</style>\n<table border=\"1\" class=\"dataframe\">\n  <thead>\n    <tr style=\"text-align: right;\">\n      <th></th>\n      <th>PREDISPATCHSEQNO</th>\n      <th>REGIONID</th>\n      <th>PERIODID</th>\n      <th>FORECASTDEMAND</th>\n      <th>LASTCHANGED</th>\n      <th>DATETIME</th>\n    </tr>\n  </thead>\n  <tbody>\n    <tr>\n      <th>4095587</th>\n      <td>2021031740</td>\n      <td>SA1</td>\n      <td>53</td>\n      <td>1228.07</td>\n      <td>2021-03-17 23:31:33</td>\n      <td>2021-03-19 02:00:00</td>\n    </tr>\n    <tr>\n      <th>4095588</th>\n      <td>2021031740</td>\n      <td>SA1</td>\n      <td>54</td>\n      <td>1208.17</td>\n      <td>2021-03-17 23:31:33</td>\n      <td>2021-03-19 02:30:00</td>\n    </tr>\n    <tr>\n      <th>4095589</th>\n      <td>2021031740</td>\n      <td>SA1</td>\n      <td>55</td>\n      <td>1199.27</td>\n      <td>2021-03-17 23:31:33</td>\n      <td>2021-03-19 03:00:00</td>\n    </tr>\n    <tr>\n      <th>4095590</th>\n      <td>2021031740</td>\n      <td>SA1</td>\n      <td>56</td>\n      <td>1194.31</td>\n      <td>2021-03-17 23:31:33</td>\n      <td>2021-03-19 03:30:00</td>\n    </tr>\n    <tr>\n      <th>4095591</th>\n      <td>2021031740</td>\n      <td>SA1</td>\n      <td>57</td>\n      <td>1190.41</td>\n      <td>2021-03-17 23:31:33</td>\n      <td>2021-03-19 04:00:00</td>\n    </tr>\n  </tbody>\n</table>\n</div>"
     },
     "execution_count": 890,
     "metadata": {},
     "output_type": "execute_result"
    }
   ],
   "source": [
    "%%time\n",
    "sa_forecast_demand.tail()"
   ],
   "metadata": {
    "collapsed": false,
    "ExecuteTime": {
     "end_time": "2024-03-14T12:32:29.227553Z",
     "start_time": "2024-03-14T12:32:29.146239Z"
    }
   },
   "id": "82cfaf848949ad11",
   "execution_count": 890
  },
  {
   "cell_type": "code",
   "outputs": [
    {
     "name": "stdout",
     "output_type": "stream",
     "text": [
      "<class 'pandas.core.frame.DataFrame'>\n",
      "RangeIndex: 4095592 entries, 0 to 4095591\n",
      "Data columns (total 6 columns):\n",
      " #   Column            Dtype         \n",
      "---  ------            -----         \n",
      " 0   PREDISPATCHSEQNO  int64         \n",
      " 1   REGIONID          object        \n",
      " 2   PERIODID          int64         \n",
      " 3   FORECASTDEMAND    float64       \n",
      " 4   LASTCHANGED       datetime64[ns]\n",
      " 5   DATETIME          datetime64[ns]\n",
      "dtypes: datetime64[ns](2), float64(1), int64(2), object(1)\n",
      "memory usage: 187.5+ MB\n",
      "CPU times: user 2.29 ms, sys: 0 ns, total: 2.29 ms\n",
      "Wall time: 2.18 ms\n"
     ]
    }
   ],
   "source": [
    "%%time\n",
    "sa_forecast_demand.info()"
   ],
   "metadata": {
    "collapsed": false,
    "ExecuteTime": {
     "end_time": "2024-03-14T12:32:29.245699Z",
     "start_time": "2024-03-14T12:32:29.228184Z"
    }
   },
   "id": "f46b251f40c7f959",
   "execution_count": 891
  },
  {
   "cell_type": "code",
   "outputs": [
    {
     "name": "stdout",
     "output_type": "stream",
     "text": [
      "CPU times: user 80.3 ms, sys: 0 ns, total: 80.3 ms\n",
      "Wall time: 79.9 ms\n"
     ]
    },
    {
     "data": {
      "text/plain": "count    4.095592e+06\nmean     1.299720e+03\nstd      3.293395e+02\nmin      1.198300e+02\n25%      1.103100e+03\n50%      1.269130e+03\n75%      1.463940e+03\nmax      3.161750e+03\nName: FORECASTDEMAND, dtype: float64"
     },
     "execution_count": 892,
     "metadata": {},
     "output_type": "execute_result"
    }
   ],
   "source": [
    "%%time\n",
    "sa_forecast_demand['FORECASTDEMAND'].describe()"
   ],
   "metadata": {
    "collapsed": false,
    "ExecuteTime": {
     "end_time": "2024-03-14T12:32:29.345663Z",
     "start_time": "2024-03-14T12:32:29.246401Z"
    }
   },
   "id": "6d7d573982c5f7ee",
   "execution_count": 892
  },
  {
   "cell_type": "code",
   "outputs": [
    {
     "name": "stdout",
     "output_type": "stream",
     "text": [
      "CPU times: user 9 µs, sys: 0 ns, total: 9 µs\n",
      "Wall time: 10.3 µs\n"
     ]
    },
    {
     "data": {
      "text/plain": "(4095592, 6)"
     },
     "execution_count": 893,
     "metadata": {},
     "output_type": "execute_result"
    }
   ],
   "source": [
    "%%time\n",
    "sa_forecast_demand.shape"
   ],
   "metadata": {
    "collapsed": false,
    "ExecuteTime": {
     "end_time": "2024-03-14T12:32:29.348572Z",
     "start_time": "2024-03-14T12:32:29.346210Z"
    }
   },
   "id": "a9621125501dad6c",
   "execution_count": 893
  },
  {
   "cell_type": "code",
   "outputs": [
    {
     "name": "stdout",
     "output_type": "stream",
     "text": [
      "CPU times: user 139 ms, sys: 0 ns, total: 139 ms\n",
      "Wall time: 139 ms\n"
     ]
    },
    {
     "data": {
      "text/plain": "PREDISPATCHSEQNO             2016123018\nREGIONID                            SA1\nPERIODID                              1\nFORECASTDEMAND                   119.83\nLASTCHANGED         2016-12-30 12:31:25\nDATETIME            2017-01-01 00:00:00\ndtype: object"
     },
     "execution_count": 894,
     "metadata": {},
     "output_type": "execute_result"
    }
   ],
   "source": [
    "%%time\n",
    "sa_forecast_demand.min()"
   ],
   "metadata": {
    "collapsed": false,
    "ExecuteTime": {
     "end_time": "2024-03-14T12:32:29.491367Z",
     "start_time": "2024-03-14T12:32:29.349080Z"
    }
   },
   "id": "1b789fc675407f28",
   "execution_count": 894
  },
  {
   "cell_type": "code",
   "outputs": [
    {
     "name": "stdout",
     "output_type": "stream",
     "text": [
      "CPU times: user 140 ms, sys: 112 µs, total: 140 ms\n",
      "Wall time: 139 ms\n"
     ]
    },
    {
     "data": {
      "text/plain": "PREDISPATCHSEQNO             2021031740\nREGIONID                            SA1\nPERIODID                             79\nFORECASTDEMAND                  3161.75\nLASTCHANGED         2021-03-17 23:31:33\nDATETIME            2021-03-19 04:00:00\ndtype: object"
     },
     "execution_count": 895,
     "metadata": {},
     "output_type": "execute_result"
    }
   ],
   "source": [
    "%%time\n",
    "sa_forecast_demand.max()"
   ],
   "metadata": {
    "collapsed": false,
    "ExecuteTime": {
     "end_time": "2024-03-14T12:32:29.633601Z",
     "start_time": "2024-03-14T12:32:29.491913Z"
    }
   },
   "id": "bd8c91af09352ce2",
   "execution_count": 895
  },
  {
   "cell_type": "code",
   "outputs": [
    {
     "name": "stdout",
     "output_type": "stream",
     "text": [
      "CPU times: user 92.6 ms, sys: 0 ns, total: 92.6 ms\n",
      "Wall time: 91.5 ms\n"
     ]
    },
    {
     "data": {
      "text/plain": "PREDISPATCHSEQNO    0\nREGIONID            0\nPERIODID            0\nFORECASTDEMAND      0\nLASTCHANGED         0\nDATETIME            0\ndtype: int64"
     },
     "execution_count": 896,
     "metadata": {},
     "output_type": "execute_result"
    }
   ],
   "source": [
    "%%time\n",
    "sa_forecast_demand.isnull().sum()"
   ],
   "metadata": {
    "collapsed": false,
    "ExecuteTime": {
     "end_time": "2024-03-14T12:32:29.728427Z",
     "start_time": "2024-03-14T12:32:29.634211Z"
    }
   },
   "id": "32a94037ea4c4bf",
   "execution_count": 896
  },
  {
   "cell_type": "code",
   "outputs": [
    {
     "name": "stdout",
     "output_type": "stream",
     "text": [
      "CPU times: user 92.5 ms, sys: 27 µs, total: 92.5 ms\n",
      "Wall time: 91.1 ms\n"
     ]
    },
    {
     "data": {
      "text/plain": "PREDISPATCHSEQNO    0\nREGIONID            0\nPERIODID            0\nFORECASTDEMAND      0\nLASTCHANGED         0\nDATETIME            0\ndtype: int64"
     },
     "execution_count": 897,
     "metadata": {},
     "output_type": "execute_result"
    }
   ],
   "source": [
    "%%time\n",
    "sa_forecast_demand.isna().sum()"
   ],
   "metadata": {
    "collapsed": false,
    "ExecuteTime": {
     "end_time": "2024-03-14T12:32:29.822624Z",
     "start_time": "2024-03-14T12:32:29.729Z"
    }
   },
   "id": "a0d0f50327313aec",
   "execution_count": 897
  },
  {
   "cell_type": "code",
   "outputs": [
    {
     "name": "stdout",
     "output_type": "stream",
     "text": [
      "CPU times: user 198 ms, sys: 3.5 ms, total: 201 ms\n",
      "Wall time: 201 ms\n"
     ]
    },
    {
     "data": {
      "text/plain": "PREDISPATCHSEQNO     73836\nREGIONID                 1\nPERIODID                79\nFORECASTDEMAND      215933\nLASTCHANGED          73836\nDATETIME             73833\ndtype: int64"
     },
     "execution_count": 898,
     "metadata": {},
     "output_type": "execute_result"
    }
   ],
   "source": [
    "%%time\n",
    "sa_forecast_demand.nunique()"
   ],
   "metadata": {
    "collapsed": false,
    "ExecuteTime": {
     "end_time": "2024-03-14T12:32:30.026383Z",
     "start_time": "2024-03-14T12:32:29.823123Z"
    }
   },
   "id": "9748f6b66eb19498",
   "execution_count": 898
  },
  {
   "cell_type": "code",
   "outputs": [
    {
     "data": {
      "text/plain": "PREDISPATCHSEQNO             int64\nREGIONID                    object\nPERIODID                     int64\nFORECASTDEMAND             float64\nLASTCHANGED         datetime64[ns]\nDATETIME            datetime64[ns]\ndtype: object"
     },
     "execution_count": 899,
     "metadata": {},
     "output_type": "execute_result"
    }
   ],
   "source": [
    "sa_forecast_demand.dtypes"
   ],
   "metadata": {
    "collapsed": false,
    "ExecuteTime": {
     "end_time": "2024-03-14T12:32:30.029262Z",
     "start_time": "2024-03-14T12:32:30.026934Z"
    }
   },
   "id": "352e4d105874fb02",
   "execution_count": 899
  },
  {
   "cell_type": "markdown",
   "source": [
    "<a id=\"3\"></a>\n",
    "## QLD Forecast Demand"
   ],
   "metadata": {
    "collapsed": false
   },
   "id": "bc959cebfeff5380"
  },
  {
   "cell_type": "code",
   "outputs": [],
   "source": [
    "qld_forecast_demand = pd.read_csv(os.path.join(data_path, 'Australia', 'c', 'forecastdemand_qld.csv'), parse_dates=['LASTCHANGED', 'DATETIME'])"
   ],
   "metadata": {
    "collapsed": false,
    "ExecuteTime": {
     "end_time": "2024-03-14T12:32:32.153695Z",
     "start_time": "2024-03-14T12:32:30.029707Z"
    }
   },
   "id": "45c6da34745864fc",
   "execution_count": 900
  },
  {
   "cell_type": "code",
   "outputs": [
    {
     "data": {
      "text/plain": "   PREDISPATCHSEQNO REGIONID  PERIODID  FORECASTDEMAND         LASTCHANGED  \\\n0        2016123018     QLD1        71         6425.36 2016-12-30 12:31:25   \n1        2016123018     QLD1        72         6193.34 2016-12-30 12:31:25   \n2        2016123018     QLD1        73         6016.45 2016-12-30 12:31:25   \n3        2016123018     QLD1        74         5859.23 2016-12-30 12:31:25   \n4        2016123018     QLD1        75         5767.15 2016-12-30 12:31:25   \n\n             DATETIME  \n0 2017-01-01 00:00:00  \n1 2017-01-01 00:30:00  \n2 2017-01-01 01:00:00  \n3 2017-01-01 01:30:00  \n4 2017-01-01 02:00:00  ",
      "text/html": "<div>\n<style scoped>\n    .dataframe tbody tr th:only-of-type {\n        vertical-align: middle;\n    }\n\n    .dataframe tbody tr th {\n        vertical-align: top;\n    }\n\n    .dataframe thead th {\n        text-align: right;\n    }\n</style>\n<table border=\"1\" class=\"dataframe\">\n  <thead>\n    <tr style=\"text-align: right;\">\n      <th></th>\n      <th>PREDISPATCHSEQNO</th>\n      <th>REGIONID</th>\n      <th>PERIODID</th>\n      <th>FORECASTDEMAND</th>\n      <th>LASTCHANGED</th>\n      <th>DATETIME</th>\n    </tr>\n  </thead>\n  <tbody>\n    <tr>\n      <th>0</th>\n      <td>2016123018</td>\n      <td>QLD1</td>\n      <td>71</td>\n      <td>6425.36</td>\n      <td>2016-12-30 12:31:25</td>\n      <td>2017-01-01 00:00:00</td>\n    </tr>\n    <tr>\n      <th>1</th>\n      <td>2016123018</td>\n      <td>QLD1</td>\n      <td>72</td>\n      <td>6193.34</td>\n      <td>2016-12-30 12:31:25</td>\n      <td>2017-01-01 00:30:00</td>\n    </tr>\n    <tr>\n      <th>2</th>\n      <td>2016123018</td>\n      <td>QLD1</td>\n      <td>73</td>\n      <td>6016.45</td>\n      <td>2016-12-30 12:31:25</td>\n      <td>2017-01-01 01:00:00</td>\n    </tr>\n    <tr>\n      <th>3</th>\n      <td>2016123018</td>\n      <td>QLD1</td>\n      <td>74</td>\n      <td>5859.23</td>\n      <td>2016-12-30 12:31:25</td>\n      <td>2017-01-01 01:30:00</td>\n    </tr>\n    <tr>\n      <th>4</th>\n      <td>2016123018</td>\n      <td>QLD1</td>\n      <td>75</td>\n      <td>5767.15</td>\n      <td>2016-12-30 12:31:25</td>\n      <td>2017-01-01 02:00:00</td>\n    </tr>\n  </tbody>\n</table>\n</div>"
     },
     "execution_count": 901,
     "metadata": {},
     "output_type": "execute_result"
    }
   ],
   "source": [
    "qld_forecast_demand.head()"
   ],
   "metadata": {
    "collapsed": false,
    "ExecuteTime": {
     "end_time": "2024-03-14T12:32:32.158749Z",
     "start_time": "2024-03-14T12:32:32.154361Z"
    }
   },
   "id": "ec887d9cbaaf9b1e",
   "execution_count": 901
  },
  {
   "cell_type": "code",
   "outputs": [
    {
     "data": {
      "text/plain": "         PREDISPATCHSEQNO REGIONID  PERIODID  FORECASTDEMAND  \\\n4095587        2021031740     QLD1        53         5600.29   \n4095588        2021031740     QLD1        54         5570.50   \n4095589        2021031740     QLD1        55         5549.37   \n4095590        2021031740     QLD1        56         5545.07   \n4095591        2021031740     QLD1        57         5564.29   \n\n                LASTCHANGED            DATETIME  \n4095587 2021-03-17 23:31:33 2021-03-19 02:00:00  \n4095588 2021-03-17 23:31:33 2021-03-19 02:30:00  \n4095589 2021-03-17 23:31:33 2021-03-19 03:00:00  \n4095590 2021-03-17 23:31:33 2021-03-19 03:30:00  \n4095591 2021-03-17 23:31:33 2021-03-19 04:00:00  ",
      "text/html": "<div>\n<style scoped>\n    .dataframe tbody tr th:only-of-type {\n        vertical-align: middle;\n    }\n\n    .dataframe tbody tr th {\n        vertical-align: top;\n    }\n\n    .dataframe thead th {\n        text-align: right;\n    }\n</style>\n<table border=\"1\" class=\"dataframe\">\n  <thead>\n    <tr style=\"text-align: right;\">\n      <th></th>\n      <th>PREDISPATCHSEQNO</th>\n      <th>REGIONID</th>\n      <th>PERIODID</th>\n      <th>FORECASTDEMAND</th>\n      <th>LASTCHANGED</th>\n      <th>DATETIME</th>\n    </tr>\n  </thead>\n  <tbody>\n    <tr>\n      <th>4095587</th>\n      <td>2021031740</td>\n      <td>QLD1</td>\n      <td>53</td>\n      <td>5600.29</td>\n      <td>2021-03-17 23:31:33</td>\n      <td>2021-03-19 02:00:00</td>\n    </tr>\n    <tr>\n      <th>4095588</th>\n      <td>2021031740</td>\n      <td>QLD1</td>\n      <td>54</td>\n      <td>5570.50</td>\n      <td>2021-03-17 23:31:33</td>\n      <td>2021-03-19 02:30:00</td>\n    </tr>\n    <tr>\n      <th>4095589</th>\n      <td>2021031740</td>\n      <td>QLD1</td>\n      <td>55</td>\n      <td>5549.37</td>\n      <td>2021-03-17 23:31:33</td>\n      <td>2021-03-19 03:00:00</td>\n    </tr>\n    <tr>\n      <th>4095590</th>\n      <td>2021031740</td>\n      <td>QLD1</td>\n      <td>56</td>\n      <td>5545.07</td>\n      <td>2021-03-17 23:31:33</td>\n      <td>2021-03-19 03:30:00</td>\n    </tr>\n    <tr>\n      <th>4095591</th>\n      <td>2021031740</td>\n      <td>QLD1</td>\n      <td>57</td>\n      <td>5564.29</td>\n      <td>2021-03-17 23:31:33</td>\n      <td>2021-03-19 04:00:00</td>\n    </tr>\n  </tbody>\n</table>\n</div>"
     },
     "execution_count": 902,
     "metadata": {},
     "output_type": "execute_result"
    }
   ],
   "source": [
    "qld_forecast_demand.tail()"
   ],
   "metadata": {
    "collapsed": false,
    "ExecuteTime": {
     "end_time": "2024-03-14T12:32:32.229961Z",
     "start_time": "2024-03-14T12:32:32.159237Z"
    }
   },
   "id": "555e731cc7d0668a",
   "execution_count": 902
  },
  {
   "cell_type": "code",
   "outputs": [
    {
     "name": "stdout",
     "output_type": "stream",
     "text": [
      "<class 'pandas.core.frame.DataFrame'>\n",
      "RangeIndex: 4095592 entries, 0 to 4095591\n",
      "Data columns (total 6 columns):\n",
      " #   Column            Dtype         \n",
      "---  ------            -----         \n",
      " 0   PREDISPATCHSEQNO  int64         \n",
      " 1   REGIONID          object        \n",
      " 2   PERIODID          int64         \n",
      " 3   FORECASTDEMAND    float64       \n",
      " 4   LASTCHANGED       datetime64[ns]\n",
      " 5   DATETIME          datetime64[ns]\n",
      "dtypes: datetime64[ns](2), float64(1), int64(2), object(1)\n",
      "memory usage: 187.5+ MB\n"
     ]
    }
   ],
   "source": [
    "qld_forecast_demand.info()"
   ],
   "metadata": {
    "collapsed": false,
    "ExecuteTime": {
     "end_time": "2024-03-14T12:32:32.234650Z",
     "start_time": "2024-03-14T12:32:32.230400Z"
    }
   },
   "id": "6d1346901554c9bc",
   "execution_count": 903
  },
  {
   "cell_type": "code",
   "outputs": [
    {
     "data": {
      "text/plain": "count    4.095592e+06\nmean     6.217552e+03\nstd      8.990330e+02\nmin      3.634990e+03\n25%      5.493320e+03\n50%      6.105220e+03\n75%      6.833010e+03\nmax      1.004541e+04\nName: FORECASTDEMAND, dtype: float64"
     },
     "execution_count": 904,
     "metadata": {},
     "output_type": "execute_result"
    }
   ],
   "source": [
    "qld_forecast_demand['FORECASTDEMAND'].describe()"
   ],
   "metadata": {
    "collapsed": false,
    "ExecuteTime": {
     "end_time": "2024-03-14T12:32:32.315145Z",
     "start_time": "2024-03-14T12:32:32.235077Z"
    }
   },
   "id": "c8b1c9b67a4aa423",
   "execution_count": 904
  },
  {
   "cell_type": "code",
   "outputs": [
    {
     "data": {
      "text/plain": "(4095592, 6)"
     },
     "execution_count": 905,
     "metadata": {},
     "output_type": "execute_result"
    }
   ],
   "source": [
    "qld_forecast_demand.shape"
   ],
   "metadata": {
    "collapsed": false,
    "ExecuteTime": {
     "end_time": "2024-03-14T12:32:32.319564Z",
     "start_time": "2024-03-14T12:32:32.317492Z"
    }
   },
   "id": "6044c5437ea3e726",
   "execution_count": 905
  },
  {
   "cell_type": "code",
   "outputs": [
    {
     "data": {
      "text/plain": "PREDISPATCHSEQNO             2016123018\nREGIONID                           QLD1\nPERIODID                              1\nFORECASTDEMAND                  3634.99\nLASTCHANGED         2016-12-30 12:31:25\nDATETIME            2017-01-01 00:00:00\ndtype: object"
     },
     "execution_count": 906,
     "metadata": {},
     "output_type": "execute_result"
    }
   ],
   "source": [
    "qld_forecast_demand.min()"
   ],
   "metadata": {
    "collapsed": false,
    "ExecuteTime": {
     "end_time": "2024-03-14T12:32:32.468795Z",
     "start_time": "2024-03-14T12:32:32.320166Z"
    }
   },
   "id": "2ad2681fd7190a8b",
   "execution_count": 906
  },
  {
   "cell_type": "code",
   "outputs": [
    {
     "data": {
      "text/plain": "PREDISPATCHSEQNO             2021031740\nREGIONID                           QLD1\nPERIODID                             79\nFORECASTDEMAND                 10045.41\nLASTCHANGED         2021-03-17 23:31:33\nDATETIME            2021-03-19 04:00:00\ndtype: object"
     },
     "execution_count": 907,
     "metadata": {},
     "output_type": "execute_result"
    }
   ],
   "source": [
    "qld_forecast_demand.max()"
   ],
   "metadata": {
    "collapsed": false,
    "ExecuteTime": {
     "end_time": "2024-03-14T12:32:32.609929Z",
     "start_time": "2024-03-14T12:32:32.469417Z"
    }
   },
   "id": "6a9243f189b698e7",
   "execution_count": 907
  },
  {
   "cell_type": "code",
   "outputs": [
    {
     "data": {
      "text/plain": "PREDISPATCHSEQNO    0\nREGIONID            0\nPERIODID            0\nFORECASTDEMAND      0\nLASTCHANGED         0\nDATETIME            0\ndtype: int64"
     },
     "execution_count": 908,
     "metadata": {},
     "output_type": "execute_result"
    }
   ],
   "source": [
    "qld_forecast_demand.isnull().sum()"
   ],
   "metadata": {
    "collapsed": false,
    "ExecuteTime": {
     "end_time": "2024-03-14T12:32:32.702240Z",
     "start_time": "2024-03-14T12:32:32.610554Z"
    }
   },
   "id": "4ce8c077206d6d4d",
   "execution_count": 908
  },
  {
   "cell_type": "code",
   "outputs": [
    {
     "data": {
      "text/plain": "PREDISPATCHSEQNO    0\nREGIONID            0\nPERIODID            0\nFORECASTDEMAND      0\nLASTCHANGED         0\nDATETIME            0\ndtype: int64"
     },
     "execution_count": 909,
     "metadata": {},
     "output_type": "execute_result"
    }
   ],
   "source": [
    "qld_forecast_demand.isna().sum()"
   ],
   "metadata": {
    "collapsed": false,
    "ExecuteTime": {
     "end_time": "2024-03-14T12:32:32.794237Z",
     "start_time": "2024-03-14T12:32:32.702770Z"
    }
   },
   "id": "39ccb862a2e09f72",
   "execution_count": 909
  },
  {
   "cell_type": "code",
   "outputs": [
    {
     "data": {
      "text/plain": "PREDISPATCHSEQNO     73836\nREGIONID                 1\nPERIODID                79\nFORECASTDEMAND      432543\nLASTCHANGED          73836\nDATETIME             73833\ndtype: int64"
     },
     "execution_count": 910,
     "metadata": {},
     "output_type": "execute_result"
    }
   ],
   "source": [
    "qld_forecast_demand.nunique()"
   ],
   "metadata": {
    "collapsed": false,
    "ExecuteTime": {
     "end_time": "2024-03-14T12:32:33.001363Z",
     "start_time": "2024-03-14T12:32:32.794767Z"
    }
   },
   "id": "27cb70ae8ce11144",
   "execution_count": 910
  },
  {
   "cell_type": "code",
   "outputs": [
    {
     "data": {
      "text/plain": "PREDISPATCHSEQNO             int64\nREGIONID                    object\nPERIODID                     int64\nFORECASTDEMAND             float64\nLASTCHANGED         datetime64[ns]\nDATETIME            datetime64[ns]\ndtype: object"
     },
     "execution_count": 911,
     "metadata": {},
     "output_type": "execute_result"
    }
   ],
   "source": [
    "qld_forecast_demand.dtypes"
   ],
   "metadata": {
    "collapsed": false,
    "ExecuteTime": {
     "end_time": "2024-03-14T12:32:33.004328Z",
     "start_time": "2024-03-14T12:32:33.001921Z"
    }
   },
   "id": "e4c6d2370c875841",
   "execution_count": 911
  },
  {
   "cell_type": "markdown",
   "source": [
    "<a id=\"4\"></a>\n",
    "## QLD Temperatures"
   ],
   "metadata": {
    "collapsed": false
   },
   "id": "15aa2a5e27b420d"
  },
  {
   "cell_type": "code",
   "outputs": [],
   "source": [
    "qld_temperature = pd.read_csv(os.path.join(data_path, 'Australia', 'd', 'temprature_qld.csv'), parse_dates=['DATETIME'], dayfirst=True)"
   ],
   "metadata": {
    "collapsed": false,
    "ExecuteTime": {
     "end_time": "2024-03-14T12:32:33.521759Z",
     "start_time": "2024-03-14T12:32:33.004802Z"
    }
   },
   "id": "eb5ba8fcecb3681f",
   "execution_count": 912
  },
  {
   "cell_type": "code",
   "outputs": [
    {
     "data": {
      "text/plain": "                       LOCATION            DATETIME  TEMPERATURE\n0  Brisbane Archerfield Airport 2010-01-01 00:00:00         23.6\n1  Brisbane Archerfield Airport 2010-01-01 00:30:00         23.7\n2  Brisbane Archerfield Airport 2010-01-01 01:00:00         23.5\n3  Brisbane Archerfield Airport 2010-01-01 01:30:00         22.6\n4  Brisbane Archerfield Airport 2010-01-01 02:00:00         22.0",
      "text/html": "<div>\n<style scoped>\n    .dataframe tbody tr th:only-of-type {\n        vertical-align: middle;\n    }\n\n    .dataframe tbody tr th {\n        vertical-align: top;\n    }\n\n    .dataframe thead th {\n        text-align: right;\n    }\n</style>\n<table border=\"1\" class=\"dataframe\">\n  <thead>\n    <tr style=\"text-align: right;\">\n      <th></th>\n      <th>LOCATION</th>\n      <th>DATETIME</th>\n      <th>TEMPERATURE</th>\n    </tr>\n  </thead>\n  <tbody>\n    <tr>\n      <th>0</th>\n      <td>Brisbane Archerfield Airport</td>\n      <td>2010-01-01 00:00:00</td>\n      <td>23.6</td>\n    </tr>\n    <tr>\n      <th>1</th>\n      <td>Brisbane Archerfield Airport</td>\n      <td>2010-01-01 00:30:00</td>\n      <td>23.7</td>\n    </tr>\n    <tr>\n      <th>2</th>\n      <td>Brisbane Archerfield Airport</td>\n      <td>2010-01-01 01:00:00</td>\n      <td>23.5</td>\n    </tr>\n    <tr>\n      <th>3</th>\n      <td>Brisbane Archerfield Airport</td>\n      <td>2010-01-01 01:30:00</td>\n      <td>22.6</td>\n    </tr>\n    <tr>\n      <th>4</th>\n      <td>Brisbane Archerfield Airport</td>\n      <td>2010-01-01 02:00:00</td>\n      <td>22.0</td>\n    </tr>\n  </tbody>\n</table>\n</div>"
     },
     "execution_count": 913,
     "metadata": {},
     "output_type": "execute_result"
    }
   ],
   "source": [
    "qld_temperature.head()"
   ],
   "metadata": {
    "collapsed": false,
    "ExecuteTime": {
     "end_time": "2024-03-14T12:32:33.526236Z",
     "start_time": "2024-03-14T12:32:33.522456Z"
    }
   },
   "id": "43c7ea242169d3c7",
   "execution_count": 913
  },
  {
   "cell_type": "code",
   "outputs": [
    {
     "data": {
      "text/plain": "                            LOCATION            DATETIME  TEMPERATURE\n208080  Brisbane Archerfield Airport 2021-03-17 22:00:00         19.6\n208081  Brisbane Archerfield Airport 2021-03-17 22:30:00         19.5\n208082  Brisbane Archerfield Airport 2021-03-17 23:00:00         19.4\n208083  Brisbane Archerfield Airport 2021-03-17 23:30:00         19.6\n208084  Brisbane Archerfield Airport 2021-03-18 00:00:00         19.5",
      "text/html": "<div>\n<style scoped>\n    .dataframe tbody tr th:only-of-type {\n        vertical-align: middle;\n    }\n\n    .dataframe tbody tr th {\n        vertical-align: top;\n    }\n\n    .dataframe thead th {\n        text-align: right;\n    }\n</style>\n<table border=\"1\" class=\"dataframe\">\n  <thead>\n    <tr style=\"text-align: right;\">\n      <th></th>\n      <th>LOCATION</th>\n      <th>DATETIME</th>\n      <th>TEMPERATURE</th>\n    </tr>\n  </thead>\n  <tbody>\n    <tr>\n      <th>208080</th>\n      <td>Brisbane Archerfield Airport</td>\n      <td>2021-03-17 22:00:00</td>\n      <td>19.6</td>\n    </tr>\n    <tr>\n      <th>208081</th>\n      <td>Brisbane Archerfield Airport</td>\n      <td>2021-03-17 22:30:00</td>\n      <td>19.5</td>\n    </tr>\n    <tr>\n      <th>208082</th>\n      <td>Brisbane Archerfield Airport</td>\n      <td>2021-03-17 23:00:00</td>\n      <td>19.4</td>\n    </tr>\n    <tr>\n      <th>208083</th>\n      <td>Brisbane Archerfield Airport</td>\n      <td>2021-03-17 23:30:00</td>\n      <td>19.6</td>\n    </tr>\n    <tr>\n      <th>208084</th>\n      <td>Brisbane Archerfield Airport</td>\n      <td>2021-03-18 00:00:00</td>\n      <td>19.5</td>\n    </tr>\n  </tbody>\n</table>\n</div>"
     },
     "execution_count": 914,
     "metadata": {},
     "output_type": "execute_result"
    }
   ],
   "source": [
    "qld_temperature.tail()"
   ],
   "metadata": {
    "collapsed": false,
    "ExecuteTime": {
     "end_time": "2024-03-14T12:32:33.537456Z",
     "start_time": "2024-03-14T12:32:33.526700Z"
    }
   },
   "id": "5bbc4e4094ed4fdf",
   "execution_count": 914
  },
  {
   "cell_type": "code",
   "outputs": [
    {
     "name": "stdout",
     "output_type": "stream",
     "text": [
      "<class 'pandas.core.frame.DataFrame'>\n",
      "RangeIndex: 208085 entries, 0 to 208084\n",
      "Data columns (total 3 columns):\n",
      " #   Column       Non-Null Count   Dtype         \n",
      "---  ------       --------------   -----         \n",
      " 0   LOCATION     208085 non-null  object        \n",
      " 1   DATETIME     208085 non-null  datetime64[ns]\n",
      " 2   TEMPERATURE  208085 non-null  float64       \n",
      "dtypes: datetime64[ns](1), float64(1), object(1)\n",
      "memory usage: 4.8+ MB\n"
     ]
    }
   ],
   "source": [
    "qld_temperature.info()"
   ],
   "metadata": {
    "collapsed": false,
    "ExecuteTime": {
     "end_time": "2024-03-14T12:32:33.552613Z",
     "start_time": "2024-03-14T12:32:33.537915Z"
    }
   },
   "id": "2f60f67eccf0b1a8",
   "execution_count": 915
  },
  {
   "cell_type": "code",
   "outputs": [
    {
     "data": {
      "text/plain": "                            DATETIME    TEMPERATURE\ncount                         208085  208085.000000\nmean   2015-08-14 23:20:54.126438912      20.375972\nmin              2010-01-01 00:00:00       1.300000\n25%              2012-10-18 19:30:00      16.600000\n50%              2015-08-11 07:30:00      20.900000\n75%              2018-06-13 01:00:00      24.300000\nmax              2021-03-18 00:00:00      42.400000\nstd                              NaN       5.586945",
      "text/html": "<div>\n<style scoped>\n    .dataframe tbody tr th:only-of-type {\n        vertical-align: middle;\n    }\n\n    .dataframe tbody tr th {\n        vertical-align: top;\n    }\n\n    .dataframe thead th {\n        text-align: right;\n    }\n</style>\n<table border=\"1\" class=\"dataframe\">\n  <thead>\n    <tr style=\"text-align: right;\">\n      <th></th>\n      <th>DATETIME</th>\n      <th>TEMPERATURE</th>\n    </tr>\n  </thead>\n  <tbody>\n    <tr>\n      <th>count</th>\n      <td>208085</td>\n      <td>208085.000000</td>\n    </tr>\n    <tr>\n      <th>mean</th>\n      <td>2015-08-14 23:20:54.126438912</td>\n      <td>20.375972</td>\n    </tr>\n    <tr>\n      <th>min</th>\n      <td>2010-01-01 00:00:00</td>\n      <td>1.300000</td>\n    </tr>\n    <tr>\n      <th>25%</th>\n      <td>2012-10-18 19:30:00</td>\n      <td>16.600000</td>\n    </tr>\n    <tr>\n      <th>50%</th>\n      <td>2015-08-11 07:30:00</td>\n      <td>20.900000</td>\n    </tr>\n    <tr>\n      <th>75%</th>\n      <td>2018-06-13 01:00:00</td>\n      <td>24.300000</td>\n    </tr>\n    <tr>\n      <th>max</th>\n      <td>2021-03-18 00:00:00</td>\n      <td>42.400000</td>\n    </tr>\n    <tr>\n      <th>std</th>\n      <td>NaN</td>\n      <td>5.586945</td>\n    </tr>\n  </tbody>\n</table>\n</div>"
     },
     "execution_count": 916,
     "metadata": {},
     "output_type": "execute_result"
    }
   ],
   "source": [
    "qld_temperature.describe()"
   ],
   "metadata": {
    "collapsed": false,
    "ExecuteTime": {
     "end_time": "2024-03-14T12:32:33.567742Z",
     "start_time": "2024-03-14T12:32:33.553089Z"
    }
   },
   "id": "3375c6ba50ac06dd",
   "execution_count": 916
  },
  {
   "cell_type": "code",
   "outputs": [
    {
     "data": {
      "text/plain": "(208085, 3)"
     },
     "execution_count": 917,
     "metadata": {},
     "output_type": "execute_result"
    }
   ],
   "source": [
    "qld_temperature.shape"
   ],
   "metadata": {
    "collapsed": false,
    "ExecuteTime": {
     "end_time": "2024-03-14T12:32:33.569975Z",
     "start_time": "2024-03-14T12:32:33.568208Z"
    }
   },
   "id": "b87e0dae797c3c02",
   "execution_count": 917
  },
  {
   "cell_type": "code",
   "outputs": [
    {
     "data": {
      "text/plain": "LOCATION       Brisbane Archerfield Airport\nDATETIME                2010-01-01 00:00:00\nTEMPERATURE                             1.3\ndtype: object"
     },
     "execution_count": 918,
     "metadata": {},
     "output_type": "execute_result"
    }
   ],
   "source": [
    "qld_temperature.min()"
   ],
   "metadata": {
    "collapsed": false,
    "ExecuteTime": {
     "end_time": "2024-03-14T12:32:33.584745Z",
     "start_time": "2024-03-14T12:32:33.570429Z"
    }
   },
   "id": "f7bc8ed0cf367ac0",
   "execution_count": 918
  },
  {
   "cell_type": "code",
   "outputs": [
    {
     "data": {
      "text/plain": "LOCATION       Brisbane Archerfield Airport\nDATETIME                2021-03-18 00:00:00\nTEMPERATURE                            42.4\ndtype: object"
     },
     "execution_count": 919,
     "metadata": {},
     "output_type": "execute_result"
    }
   ],
   "source": [
    "qld_temperature.max()"
   ],
   "metadata": {
    "collapsed": false,
    "ExecuteTime": {
     "end_time": "2024-03-14T12:32:33.593496Z",
     "start_time": "2024-03-14T12:32:33.585192Z"
    }
   },
   "id": "2e51f02c3f3acc0e",
   "execution_count": 919
  },
  {
   "cell_type": "code",
   "outputs": [
    {
     "data": {
      "text/plain": "LOCATION       0\nDATETIME       0\nTEMPERATURE    0\ndtype: int64"
     },
     "execution_count": 920,
     "metadata": {},
     "output_type": "execute_result"
    }
   ],
   "source": [
    "qld_temperature.isnull().sum()"
   ],
   "metadata": {
    "collapsed": false,
    "ExecuteTime": {
     "end_time": "2024-03-14T12:32:33.600502Z",
     "start_time": "2024-03-14T12:32:33.593964Z"
    }
   },
   "id": "e16bd8d0bf8a28bb",
   "execution_count": 920
  },
  {
   "cell_type": "code",
   "outputs": [
    {
     "data": {
      "text/plain": "LOCATION       0\nDATETIME       0\nTEMPERATURE    0\ndtype: int64"
     },
     "execution_count": 921,
     "metadata": {},
     "output_type": "execute_result"
    }
   ],
   "source": [
    "qld_temperature.isna().sum()"
   ],
   "metadata": {
    "collapsed": false,
    "ExecuteTime": {
     "end_time": "2024-03-14T12:32:33.607965Z",
     "start_time": "2024-03-14T12:32:33.601003Z"
    }
   },
   "id": "fcf3f580efc05d21",
   "execution_count": 921
  },
  {
   "cell_type": "code",
   "outputs": [
    {
     "data": {
      "text/plain": "LOCATION            1\nDATETIME       208085\nTEMPERATURE       391\ndtype: int64"
     },
     "execution_count": 922,
     "metadata": {},
     "output_type": "execute_result"
    }
   ],
   "source": [
    "qld_temperature.nunique()"
   ],
   "metadata": {
    "collapsed": false,
    "ExecuteTime": {
     "end_time": "2024-03-14T12:32:33.622717Z",
     "start_time": "2024-03-14T12:32:33.608430Z"
    }
   },
   "id": "edf3a3620ab853f9",
   "execution_count": 922
  },
  {
   "cell_type": "code",
   "outputs": [
    {
     "data": {
      "text/plain": "LOCATION               object\nDATETIME       datetime64[ns]\nTEMPERATURE           float64\ndtype: object"
     },
     "execution_count": 923,
     "metadata": {},
     "output_type": "execute_result"
    }
   ],
   "source": [
    "qld_temperature.dtypes"
   ],
   "metadata": {
    "collapsed": false,
    "ExecuteTime": {
     "end_time": "2024-03-14T12:32:33.625327Z",
     "start_time": "2024-03-14T12:32:33.623179Z"
    }
   },
   "id": "2085d8400f4c6f42",
   "execution_count": 923
  },
  {
   "cell_type": "markdown",
   "source": [
    "<a id=\"5\"></a>\n",
    "## SA Temperatures"
   ],
   "metadata": {
    "collapsed": false
   },
   "id": "842327a6d18ecea9"
  },
  {
   "cell_type": "code",
   "outputs": [],
   "source": [
    "sa_temperature = pd.read_csv(os.path.join(data_path, 'Australia', 'd', 'temprature_sa.csv'), parse_dates=['DATETIME'])"
   ],
   "metadata": {
    "collapsed": false,
    "ExecuteTime": {
     "end_time": "2024-03-14T12:32:33.730639Z",
     "start_time": "2024-03-14T12:32:33.625796Z"
    }
   },
   "id": "fa25c091d839b212",
   "execution_count": 924
  },
  {
   "cell_type": "code",
   "outputs": [
    {
     "data": {
      "text/plain": "   Unnamed: 0              LOCATION            DATETIME  TEMPERATURE\n0           0  Adelaide (Kent Town) 2010-01-01 00:00:00         23.6\n1           1  Adelaide (Kent Town) 2010-01-01 00:30:00         23.7\n2           2  Adelaide (Kent Town) 2010-01-01 01:00:00         23.5\n3           3  Adelaide (Kent Town) 2010-01-01 01:30:00         22.6\n4           4  Adelaide (Kent Town) 2010-01-01 02:00:00         22.0",
      "text/html": "<div>\n<style scoped>\n    .dataframe tbody tr th:only-of-type {\n        vertical-align: middle;\n    }\n\n    .dataframe tbody tr th {\n        vertical-align: top;\n    }\n\n    .dataframe thead th {\n        text-align: right;\n    }\n</style>\n<table border=\"1\" class=\"dataframe\">\n  <thead>\n    <tr style=\"text-align: right;\">\n      <th></th>\n      <th>Unnamed: 0</th>\n      <th>LOCATION</th>\n      <th>DATETIME</th>\n      <th>TEMPERATURE</th>\n    </tr>\n  </thead>\n  <tbody>\n    <tr>\n      <th>0</th>\n      <td>0</td>\n      <td>Adelaide (Kent Town)</td>\n      <td>2010-01-01 00:00:00</td>\n      <td>23.6</td>\n    </tr>\n    <tr>\n      <th>1</th>\n      <td>1</td>\n      <td>Adelaide (Kent Town)</td>\n      <td>2010-01-01 00:30:00</td>\n      <td>23.7</td>\n    </tr>\n    <tr>\n      <th>2</th>\n      <td>2</td>\n      <td>Adelaide (Kent Town)</td>\n      <td>2010-01-01 01:00:00</td>\n      <td>23.5</td>\n    </tr>\n    <tr>\n      <th>3</th>\n      <td>3</td>\n      <td>Adelaide (Kent Town)</td>\n      <td>2010-01-01 01:30:00</td>\n      <td>22.6</td>\n    </tr>\n    <tr>\n      <th>4</th>\n      <td>4</td>\n      <td>Adelaide (Kent Town)</td>\n      <td>2010-01-01 02:00:00</td>\n      <td>22.0</td>\n    </tr>\n  </tbody>\n</table>\n</div>"
     },
     "execution_count": 925,
     "metadata": {},
     "output_type": "execute_result"
    }
   ],
   "source": [
    "sa_temperature.head()"
   ],
   "metadata": {
    "collapsed": false,
    "ExecuteTime": {
     "end_time": "2024-03-14T12:32:33.735019Z",
     "start_time": "2024-03-14T12:32:33.731237Z"
    }
   },
   "id": "3b7632fe88ea525a",
   "execution_count": 925
  },
  {
   "cell_type": "code",
   "outputs": [
    {
     "data": {
      "text/plain": "        Unnamed: 0              LOCATION            DATETIME  TEMPERATURE\n208080      208080  Adelaide (Kent Town) 2021-03-17 22:00:00         19.6\n208081      208081  Adelaide (Kent Town) 2021-03-17 22:30:00         19.5\n208082      208082  Adelaide (Kent Town) 2021-03-17 23:00:00         19.4\n208083      208083  Adelaide (Kent Town) 2021-03-17 23:30:00         19.6\n208084      208084  Adelaide (Kent Town) 2021-03-18 00:00:00         19.5",
      "text/html": "<div>\n<style scoped>\n    .dataframe tbody tr th:only-of-type {\n        vertical-align: middle;\n    }\n\n    .dataframe tbody tr th {\n        vertical-align: top;\n    }\n\n    .dataframe thead th {\n        text-align: right;\n    }\n</style>\n<table border=\"1\" class=\"dataframe\">\n  <thead>\n    <tr style=\"text-align: right;\">\n      <th></th>\n      <th>Unnamed: 0</th>\n      <th>LOCATION</th>\n      <th>DATETIME</th>\n      <th>TEMPERATURE</th>\n    </tr>\n  </thead>\n  <tbody>\n    <tr>\n      <th>208080</th>\n      <td>208080</td>\n      <td>Adelaide (Kent Town)</td>\n      <td>2021-03-17 22:00:00</td>\n      <td>19.6</td>\n    </tr>\n    <tr>\n      <th>208081</th>\n      <td>208081</td>\n      <td>Adelaide (Kent Town)</td>\n      <td>2021-03-17 22:30:00</td>\n      <td>19.5</td>\n    </tr>\n    <tr>\n      <th>208082</th>\n      <td>208082</td>\n      <td>Adelaide (Kent Town)</td>\n      <td>2021-03-17 23:00:00</td>\n      <td>19.4</td>\n    </tr>\n    <tr>\n      <th>208083</th>\n      <td>208083</td>\n      <td>Adelaide (Kent Town)</td>\n      <td>2021-03-17 23:30:00</td>\n      <td>19.6</td>\n    </tr>\n    <tr>\n      <th>208084</th>\n      <td>208084</td>\n      <td>Adelaide (Kent Town)</td>\n      <td>2021-03-18 00:00:00</td>\n      <td>19.5</td>\n    </tr>\n  </tbody>\n</table>\n</div>"
     },
     "execution_count": 926,
     "metadata": {},
     "output_type": "execute_result"
    }
   ],
   "source": [
    "sa_temperature.tail()"
   ],
   "metadata": {
    "collapsed": false,
    "ExecuteTime": {
     "end_time": "2024-03-14T12:32:33.750200Z",
     "start_time": "2024-03-14T12:32:33.735487Z"
    }
   },
   "id": "79b6bf38812fad04",
   "execution_count": 926
  },
  {
   "cell_type": "code",
   "outputs": [
    {
     "name": "stdout",
     "output_type": "stream",
     "text": [
      "<class 'pandas.core.frame.DataFrame'>\n",
      "RangeIndex: 208085 entries, 0 to 208084\n",
      "Data columns (total 4 columns):\n",
      " #   Column       Non-Null Count   Dtype         \n",
      "---  ------       --------------   -----         \n",
      " 0   Unnamed: 0   208085 non-null  int64         \n",
      " 1   LOCATION     208085 non-null  object        \n",
      " 2   DATETIME     208085 non-null  datetime64[ns]\n",
      " 3   TEMPERATURE  208085 non-null  float64       \n",
      "dtypes: datetime64[ns](1), float64(1), int64(1), object(1)\n",
      "memory usage: 6.4+ MB\n"
     ]
    }
   ],
   "source": [
    "sa_temperature.info()"
   ],
   "metadata": {
    "collapsed": false,
    "ExecuteTime": {
     "end_time": "2024-03-14T12:32:33.769637Z",
     "start_time": "2024-03-14T12:32:33.750696Z"
    }
   },
   "id": "101d8f64763b0821",
   "execution_count": 927
  },
  {
   "cell_type": "code",
   "outputs": [
    {
     "data": {
      "text/plain": "count    208085.000000\nmean         20.375972\nstd           5.586945\nmin           1.300000\n25%          16.600000\n50%          20.900000\n75%          24.300000\nmax          42.400000\nName: TEMPERATURE, dtype: float64"
     },
     "execution_count": 928,
     "metadata": {},
     "output_type": "execute_result"
    }
   ],
   "source": [
    "sa_temperature['TEMPERATURE'].describe()"
   ],
   "metadata": {
    "collapsed": false,
    "ExecuteTime": {
     "end_time": "2024-03-14T12:32:33.780130Z",
     "start_time": "2024-03-14T12:32:33.770104Z"
    }
   },
   "id": "db818fa9f0103061",
   "execution_count": 928
  },
  {
   "cell_type": "code",
   "outputs": [
    {
     "data": {
      "text/plain": "(208085, 4)"
     },
     "execution_count": 929,
     "metadata": {},
     "output_type": "execute_result"
    }
   ],
   "source": [
    "sa_temperature.shape"
   ],
   "metadata": {
    "collapsed": false,
    "ExecuteTime": {
     "end_time": "2024-03-14T12:32:33.782504Z",
     "start_time": "2024-03-14T12:32:33.780655Z"
    }
   },
   "id": "d06abbfb86da04f1",
   "execution_count": 929
  },
  {
   "cell_type": "code",
   "outputs": [
    {
     "data": {
      "text/plain": "Unnamed: 0                        0\nLOCATION       Adelaide (Kent Town)\nDATETIME        2010-01-01 00:00:00\nTEMPERATURE                     1.3\ndtype: object"
     },
     "execution_count": 930,
     "metadata": {},
     "output_type": "execute_result"
    }
   ],
   "source": [
    "sa_temperature.min()"
   ],
   "metadata": {
    "collapsed": false,
    "ExecuteTime": {
     "end_time": "2024-03-14T12:32:33.794853Z",
     "start_time": "2024-03-14T12:32:33.782972Z"
    }
   },
   "id": "b5b62b4631d3a57",
   "execution_count": 930
  },
  {
   "cell_type": "code",
   "outputs": [
    {
     "data": {
      "text/plain": "Unnamed: 0                   208084\nLOCATION       Adelaide (Kent Town)\nDATETIME        2021-03-18 00:00:00\nTEMPERATURE                    42.4\ndtype: object"
     },
     "execution_count": 931,
     "metadata": {},
     "output_type": "execute_result"
    }
   ],
   "source": [
    "sa_temperature.max()"
   ],
   "metadata": {
    "collapsed": false,
    "ExecuteTime": {
     "end_time": "2024-03-14T12:32:33.805909Z",
     "start_time": "2024-03-14T12:32:33.795361Z"
    }
   },
   "id": "cd1225b419a53d81",
   "execution_count": 931
  },
  {
   "cell_type": "code",
   "outputs": [
    {
     "data": {
      "text/plain": "Unnamed: 0     0\nLOCATION       0\nDATETIME       0\nTEMPERATURE    0\ndtype: int64"
     },
     "execution_count": 932,
     "metadata": {},
     "output_type": "execute_result"
    }
   ],
   "source": [
    "sa_temperature.isnull().sum()"
   ],
   "metadata": {
    "collapsed": false,
    "ExecuteTime": {
     "end_time": "2024-03-14T12:32:33.814884Z",
     "start_time": "2024-03-14T12:32:33.806376Z"
    }
   },
   "id": "bd9e0cf7ac3f2d6e",
   "execution_count": 932
  },
  {
   "cell_type": "code",
   "outputs": [
    {
     "data": {
      "text/plain": "Unnamed: 0     0\nLOCATION       0\nDATETIME       0\nTEMPERATURE    0\ndtype: int64"
     },
     "execution_count": 933,
     "metadata": {},
     "output_type": "execute_result"
    }
   ],
   "source": [
    "sa_temperature.isna().sum()"
   ],
   "metadata": {
    "collapsed": false,
    "ExecuteTime": {
     "end_time": "2024-03-14T12:32:33.824034Z",
     "start_time": "2024-03-14T12:32:33.815345Z"
    }
   },
   "id": "7ccd7affccb4c900",
   "execution_count": 933
  },
  {
   "cell_type": "code",
   "outputs": [
    {
     "data": {
      "text/plain": "Unnamed: 0     208085\nLOCATION            1\nDATETIME       208085\nTEMPERATURE       391\ndtype: int64"
     },
     "execution_count": 934,
     "metadata": {},
     "output_type": "execute_result"
    }
   ],
   "source": [
    "sa_temperature.nunique()"
   ],
   "metadata": {
    "collapsed": false,
    "ExecuteTime": {
     "end_time": "2024-03-14T12:32:33.842116Z",
     "start_time": "2024-03-14T12:32:33.824515Z"
    }
   },
   "id": "bf2bfb0e59e80941",
   "execution_count": 934
  },
  {
   "cell_type": "code",
   "outputs": [
    {
     "data": {
      "text/plain": "Unnamed: 0              int64\nLOCATION               object\nDATETIME       datetime64[ns]\nTEMPERATURE           float64\ndtype: object"
     },
     "execution_count": 935,
     "metadata": {},
     "output_type": "execute_result"
    }
   ],
   "source": [
    "sa_temperature.dtypes"
   ],
   "metadata": {
    "collapsed": false,
    "ExecuteTime": {
     "end_time": "2024-03-14T12:32:33.844799Z",
     "start_time": "2024-03-14T12:32:33.842594Z"
    }
   },
   "id": "258e3608509aeee8",
   "execution_count": 935
  },
  {
   "cell_type": "markdown",
   "source": [
    "<a id=\"6\"></a>\n",
    "## Victoria Temperature"
   ],
   "metadata": {
    "collapsed": false
   },
   "id": "4b6a0150c78d5dcf"
  },
  {
   "cell_type": "code",
   "outputs": [],
   "source": [
    "vic_temperature = pd.read_csv(os.path.join(data_path, 'Australia', 'd', 'temprature_vic.csv'), parse_dates=['DATETIME'], dayfirst=True)"
   ],
   "metadata": {
    "collapsed": false,
    "ExecuteTime": {
     "end_time": "2024-03-14T12:32:34.118606Z",
     "start_time": "2024-03-14T12:32:33.845245Z"
    }
   },
   "id": "de740b5c40b6d60b",
   "execution_count": 936
  },
  {
   "cell_type": "code",
   "outputs": [
    {
     "data": {
      "text/plain": "                   LOCATION            DATETIME  TEMPERATURE\n0  Melbourne (Olympic Park) 2013-05-31 15:00:00         18.2\n1  Melbourne (Olympic Park) 2013-05-31 15:30:00         18.3\n2  Melbourne (Olympic Park) 2013-05-31 16:00:00         18.3\n3  Melbourne (Olympic Park) 2013-05-31 16:30:00         18.3\n4  Melbourne (Olympic Park) 2013-05-31 17:00:00         18.2",
      "text/html": "<div>\n<style scoped>\n    .dataframe tbody tr th:only-of-type {\n        vertical-align: middle;\n    }\n\n    .dataframe tbody tr th {\n        vertical-align: top;\n    }\n\n    .dataframe thead th {\n        text-align: right;\n    }\n</style>\n<table border=\"1\" class=\"dataframe\">\n  <thead>\n    <tr style=\"text-align: right;\">\n      <th></th>\n      <th>LOCATION</th>\n      <th>DATETIME</th>\n      <th>TEMPERATURE</th>\n    </tr>\n  </thead>\n  <tbody>\n    <tr>\n      <th>0</th>\n      <td>Melbourne (Olympic Park)</td>\n      <td>2013-05-31 15:00:00</td>\n      <td>18.2</td>\n    </tr>\n    <tr>\n      <th>1</th>\n      <td>Melbourne (Olympic Park)</td>\n      <td>2013-05-31 15:30:00</td>\n      <td>18.3</td>\n    </tr>\n    <tr>\n      <th>2</th>\n      <td>Melbourne (Olympic Park)</td>\n      <td>2013-05-31 16:00:00</td>\n      <td>18.3</td>\n    </tr>\n    <tr>\n      <th>3</th>\n      <td>Melbourne (Olympic Park)</td>\n      <td>2013-05-31 16:30:00</td>\n      <td>18.3</td>\n    </tr>\n    <tr>\n      <th>4</th>\n      <td>Melbourne (Olympic Park)</td>\n      <td>2013-05-31 17:00:00</td>\n      <td>18.2</td>\n    </tr>\n  </tbody>\n</table>\n</div>"
     },
     "execution_count": 937,
     "metadata": {},
     "output_type": "execute_result"
    }
   ],
   "source": [
    "vic_temperature.head()"
   ],
   "metadata": {
    "collapsed": false,
    "ExecuteTime": {
     "end_time": "2024-03-14T12:32:34.122861Z",
     "start_time": "2024-03-14T12:32:34.119189Z"
    }
   },
   "id": "70c891e186020566",
   "execution_count": 937
  },
  {
   "cell_type": "code",
   "outputs": [
    {
     "data": {
      "text/plain": "                        LOCATION            DATETIME  TEMPERATURE\n141676  Melbourne (Olympic Park) 2021-03-17 22:00:00         18.9\n141677  Melbourne (Olympic Park) 2021-03-17 22:30:00         17.9\n141678  Melbourne (Olympic Park) 2021-03-17 23:00:00         17.3\n141679  Melbourne (Olympic Park) 2021-03-17 23:30:00         16.6\n141680  Melbourne (Olympic Park) 2021-03-18 00:00:00         15.8",
      "text/html": "<div>\n<style scoped>\n    .dataframe tbody tr th:only-of-type {\n        vertical-align: middle;\n    }\n\n    .dataframe tbody tr th {\n        vertical-align: top;\n    }\n\n    .dataframe thead th {\n        text-align: right;\n    }\n</style>\n<table border=\"1\" class=\"dataframe\">\n  <thead>\n    <tr style=\"text-align: right;\">\n      <th></th>\n      <th>LOCATION</th>\n      <th>DATETIME</th>\n      <th>TEMPERATURE</th>\n    </tr>\n  </thead>\n  <tbody>\n    <tr>\n      <th>141676</th>\n      <td>Melbourne (Olympic Park)</td>\n      <td>2021-03-17 22:00:00</td>\n      <td>18.9</td>\n    </tr>\n    <tr>\n      <th>141677</th>\n      <td>Melbourne (Olympic Park)</td>\n      <td>2021-03-17 22:30:00</td>\n      <td>17.9</td>\n    </tr>\n    <tr>\n      <th>141678</th>\n      <td>Melbourne (Olympic Park)</td>\n      <td>2021-03-17 23:00:00</td>\n      <td>17.3</td>\n    </tr>\n    <tr>\n      <th>141679</th>\n      <td>Melbourne (Olympic Park)</td>\n      <td>2021-03-17 23:30:00</td>\n      <td>16.6</td>\n    </tr>\n    <tr>\n      <th>141680</th>\n      <td>Melbourne (Olympic Park)</td>\n      <td>2021-03-18 00:00:00</td>\n      <td>15.8</td>\n    </tr>\n  </tbody>\n</table>\n</div>"
     },
     "execution_count": 938,
     "metadata": {},
     "output_type": "execute_result"
    }
   ],
   "source": [
    "vic_temperature.tail()"
   ],
   "metadata": {
    "collapsed": false,
    "ExecuteTime": {
     "end_time": "2024-03-14T12:32:34.133642Z",
     "start_time": "2024-03-14T12:32:34.123327Z"
    }
   },
   "id": "cad113d642a23bd4",
   "execution_count": 938
  },
  {
   "cell_type": "code",
   "outputs": [
    {
     "name": "stdout",
     "output_type": "stream",
     "text": [
      "<class 'pandas.core.frame.DataFrame'>\n",
      "RangeIndex: 141681 entries, 0 to 141680\n",
      "Data columns (total 3 columns):\n",
      " #   Column       Non-Null Count   Dtype         \n",
      "---  ------       --------------   -----         \n",
      " 0   LOCATION     141681 non-null  object        \n",
      " 1   DATETIME     141681 non-null  datetime64[ns]\n",
      " 2   TEMPERATURE  141681 non-null  float64       \n",
      "dtypes: datetime64[ns](1), float64(1), object(1)\n",
      "memory usage: 3.2+ MB\n"
     ]
    }
   ],
   "source": [
    "vic_temperature.info()"
   ],
   "metadata": {
    "collapsed": false,
    "ExecuteTime": {
     "end_time": "2024-03-14T12:32:34.147753Z",
     "start_time": "2024-03-14T12:32:34.134100Z"
    }
   },
   "id": "35e447770d8fee3c",
   "execution_count": 939
  },
  {
   "cell_type": "code",
   "outputs": [
    {
     "data": {
      "text/plain": "count    141681.000000\nmean         15.711337\nstd           5.637641\nmin           0.800000\n25%          11.800000\n50%          14.900000\n75%          18.700000\nmax          43.300000\nName: TEMPERATURE, dtype: float64"
     },
     "execution_count": 940,
     "metadata": {},
     "output_type": "execute_result"
    }
   ],
   "source": [
    "vic_temperature['TEMPERATURE'].describe()"
   ],
   "metadata": {
    "collapsed": false,
    "ExecuteTime": {
     "end_time": "2024-03-14T12:32:34.158047Z",
     "start_time": "2024-03-14T12:32:34.148209Z"
    }
   },
   "id": "4b34f60260060330",
   "execution_count": 940
  },
  {
   "cell_type": "code",
   "outputs": [
    {
     "data": {
      "text/plain": "(141681, 3)"
     },
     "execution_count": 941,
     "metadata": {},
     "output_type": "execute_result"
    }
   ],
   "source": [
    "vic_temperature.shape"
   ],
   "metadata": {
    "collapsed": false,
    "ExecuteTime": {
     "end_time": "2024-03-14T12:32:34.164276Z",
     "start_time": "2024-03-14T12:32:34.158485Z"
    }
   },
   "id": "b0fef9283d61fba8",
   "execution_count": 941
  },
  {
   "cell_type": "code",
   "outputs": [
    {
     "data": {
      "text/plain": "LOCATION       Melbourne (Olympic Park)\nDATETIME            2013-05-31 15:00:00\nTEMPERATURE                         0.8\ndtype: object"
     },
     "execution_count": 942,
     "metadata": {},
     "output_type": "execute_result"
    }
   ],
   "source": [
    "vic_temperature.min()"
   ],
   "metadata": {
    "collapsed": false,
    "ExecuteTime": {
     "end_time": "2024-03-14T12:32:34.171732Z",
     "start_time": "2024-03-14T12:32:34.164708Z"
    }
   },
   "id": "2f703d39d6aebe82",
   "execution_count": 942
  },
  {
   "cell_type": "code",
   "outputs": [
    {
     "data": {
      "text/plain": "LOCATION       Melbourne (Olympic Park)\nDATETIME            2021-03-18 00:00:00\nTEMPERATURE                        43.3\ndtype: object"
     },
     "execution_count": 943,
     "metadata": {},
     "output_type": "execute_result"
    }
   ],
   "source": [
    "vic_temperature.max()"
   ],
   "metadata": {
    "collapsed": false,
    "ExecuteTime": {
     "end_time": "2024-03-14T12:32:34.179412Z",
     "start_time": "2024-03-14T12:32:34.172195Z"
    }
   },
   "id": "e6f3c616c9851906",
   "execution_count": 943
  },
  {
   "cell_type": "code",
   "outputs": [
    {
     "data": {
      "text/plain": "LOCATION       0\nDATETIME       0\nTEMPERATURE    0\ndtype: int64"
     },
     "execution_count": 944,
     "metadata": {},
     "output_type": "execute_result"
    }
   ],
   "source": [
    "vic_temperature.isnull().sum()"
   ],
   "metadata": {
    "collapsed": false,
    "ExecuteTime": {
     "end_time": "2024-03-14T12:32:34.185111Z",
     "start_time": "2024-03-14T12:32:34.179889Z"
    }
   },
   "id": "9a6a87d9bc367223",
   "execution_count": 944
  },
  {
   "cell_type": "code",
   "outputs": [
    {
     "data": {
      "text/plain": "LOCATION       0\nDATETIME       0\nTEMPERATURE    0\ndtype: int64"
     },
     "execution_count": 945,
     "metadata": {},
     "output_type": "execute_result"
    }
   ],
   "source": [
    "vic_temperature.isna().sum()"
   ],
   "metadata": {
    "collapsed": false,
    "ExecuteTime": {
     "end_time": "2024-03-14T12:32:34.191443Z",
     "start_time": "2024-03-14T12:32:34.185539Z"
    }
   },
   "id": "22b22a29aa039bc0",
   "execution_count": 945
  },
  {
   "cell_type": "code",
   "outputs": [
    {
     "data": {
      "text/plain": "LOCATION            1\nDATETIME       141681\nTEMPERATURE       424\ndtype: int64"
     },
     "execution_count": 946,
     "metadata": {},
     "output_type": "execute_result"
    }
   ],
   "source": [
    "vic_temperature.nunique()"
   ],
   "metadata": {
    "collapsed": false,
    "ExecuteTime": {
     "end_time": "2024-03-14T12:32:34.202378Z",
     "start_time": "2024-03-14T12:32:34.191995Z"
    }
   },
   "id": "d6cc129d2837af82",
   "execution_count": 946
  },
  {
   "cell_type": "code",
   "outputs": [
    {
     "data": {
      "text/plain": "LOCATION               object\nDATETIME       datetime64[ns]\nTEMPERATURE           float64\ndtype: object"
     },
     "execution_count": 947,
     "metadata": {},
     "output_type": "execute_result"
    }
   ],
   "source": [
    "vic_temperature.dtypes"
   ],
   "metadata": {
    "collapsed": false,
    "ExecuteTime": {
     "end_time": "2024-03-14T12:32:34.205080Z",
     "start_time": "2024-03-14T12:32:34.202835Z"
    }
   },
   "id": "99cc85a417da565c",
   "execution_count": 947
  },
  {
   "cell_type": "markdown",
   "source": [
    "## QLD Total Demand"
   ],
   "metadata": {
    "collapsed": false
   },
   "id": "f20d638f38e23992"
  },
  {
   "cell_type": "code",
   "outputs": [],
   "source": [
    "qld_totaldemand = pd.read_csv(os.path.join(data_path, 'Australia', 'd', 'totaldemand_qld.csv'), parse_dates=['DATETIME'])"
   ],
   "metadata": {
    "collapsed": false,
    "ExecuteTime": {
     "end_time": "2024-03-14T12:32:34.295175Z",
     "start_time": "2024-03-14T12:32:34.205527Z"
    }
   },
   "id": "bf47836f1c34ec11",
   "execution_count": 948
  },
  {
   "cell_type": "code",
   "outputs": [
    {
     "data": {
      "text/plain": "             DATETIME  TOTALDEMAND REGIONID\n0 2010-01-01 00:00:00      5561.21     QLD1\n1 2010-01-01 00:30:00      5422.25     QLD1\n2 2010-01-01 01:00:00      5315.98     QLD1\n3 2010-01-01 01:30:00      5186.70     QLD1\n4 2010-01-01 02:00:00      5050.83     QLD1",
      "text/html": "<div>\n<style scoped>\n    .dataframe tbody tr th:only-of-type {\n        vertical-align: middle;\n    }\n\n    .dataframe tbody tr th {\n        vertical-align: top;\n    }\n\n    .dataframe thead th {\n        text-align: right;\n    }\n</style>\n<table border=\"1\" class=\"dataframe\">\n  <thead>\n    <tr style=\"text-align: right;\">\n      <th></th>\n      <th>DATETIME</th>\n      <th>TOTALDEMAND</th>\n      <th>REGIONID</th>\n    </tr>\n  </thead>\n  <tbody>\n    <tr>\n      <th>0</th>\n      <td>2010-01-01 00:00:00</td>\n      <td>5561.21</td>\n      <td>QLD1</td>\n    </tr>\n    <tr>\n      <th>1</th>\n      <td>2010-01-01 00:30:00</td>\n      <td>5422.25</td>\n      <td>QLD1</td>\n    </tr>\n    <tr>\n      <th>2</th>\n      <td>2010-01-01 01:00:00</td>\n      <td>5315.98</td>\n      <td>QLD1</td>\n    </tr>\n    <tr>\n      <th>3</th>\n      <td>2010-01-01 01:30:00</td>\n      <td>5186.70</td>\n      <td>QLD1</td>\n    </tr>\n    <tr>\n      <th>4</th>\n      <td>2010-01-01 02:00:00</td>\n      <td>5050.83</td>\n      <td>QLD1</td>\n    </tr>\n  </tbody>\n</table>\n</div>"
     },
     "execution_count": 949,
     "metadata": {},
     "output_type": "execute_result"
    }
   ],
   "source": [
    "qld_totaldemand.head()"
   ],
   "metadata": {
    "collapsed": false,
    "ExecuteTime": {
     "end_time": "2024-03-14T12:32:34.299534Z",
     "start_time": "2024-03-14T12:32:34.295767Z"
    }
   },
   "id": "2d741356595a9191",
   "execution_count": 949
  },
  {
   "cell_type": "code",
   "outputs": [
    {
     "data": {
      "text/plain": "                  DATETIME  TOTALDEMAND REGIONID\n196508 2021-03-17 22:00:00      6443.62     QLD1\n196509 2021-03-17 22:30:00      6264.63     QLD1\n196510 2021-03-17 23:00:00      6144.16     QLD1\n196511 2021-03-17 23:30:00      5897.64     QLD1\n196512 2021-03-18 00:00:00      5737.03     QLD1",
      "text/html": "<div>\n<style scoped>\n    .dataframe tbody tr th:only-of-type {\n        vertical-align: middle;\n    }\n\n    .dataframe tbody tr th {\n        vertical-align: top;\n    }\n\n    .dataframe thead th {\n        text-align: right;\n    }\n</style>\n<table border=\"1\" class=\"dataframe\">\n  <thead>\n    <tr style=\"text-align: right;\">\n      <th></th>\n      <th>DATETIME</th>\n      <th>TOTALDEMAND</th>\n      <th>REGIONID</th>\n    </tr>\n  </thead>\n  <tbody>\n    <tr>\n      <th>196508</th>\n      <td>2021-03-17 22:00:00</td>\n      <td>6443.62</td>\n      <td>QLD1</td>\n    </tr>\n    <tr>\n      <th>196509</th>\n      <td>2021-03-17 22:30:00</td>\n      <td>6264.63</td>\n      <td>QLD1</td>\n    </tr>\n    <tr>\n      <th>196510</th>\n      <td>2021-03-17 23:00:00</td>\n      <td>6144.16</td>\n      <td>QLD1</td>\n    </tr>\n    <tr>\n      <th>196511</th>\n      <td>2021-03-17 23:30:00</td>\n      <td>5897.64</td>\n      <td>QLD1</td>\n    </tr>\n    <tr>\n      <th>196512</th>\n      <td>2021-03-18 00:00:00</td>\n      <td>5737.03</td>\n      <td>QLD1</td>\n    </tr>\n  </tbody>\n</table>\n</div>"
     },
     "execution_count": 950,
     "metadata": {},
     "output_type": "execute_result"
    }
   ],
   "source": [
    "qld_totaldemand.tail()"
   ],
   "metadata": {
    "collapsed": false,
    "ExecuteTime": {
     "end_time": "2024-03-14T12:32:34.310433Z",
     "start_time": "2024-03-14T12:32:34.300024Z"
    }
   },
   "id": "52e89422d6050c4b",
   "execution_count": 950
  },
  {
   "cell_type": "code",
   "outputs": [
    {
     "name": "stdout",
     "output_type": "stream",
     "text": [
      "<class 'pandas.core.frame.DataFrame'>\n",
      "RangeIndex: 196513 entries, 0 to 196512\n",
      "Data columns (total 3 columns):\n",
      " #   Column       Non-Null Count   Dtype         \n",
      "---  ------       --------------   -----         \n",
      " 0   DATETIME     196513 non-null  datetime64[ns]\n",
      " 1   TOTALDEMAND  196513 non-null  float64       \n",
      " 2   REGIONID     196513 non-null  object        \n",
      "dtypes: datetime64[ns](1), float64(1), object(1)\n",
      "memory usage: 4.5+ MB\n"
     ]
    }
   ],
   "source": [
    "qld_totaldemand.info()"
   ],
   "metadata": {
    "collapsed": false,
    "ExecuteTime": {
     "end_time": "2024-03-14T12:32:34.325207Z",
     "start_time": "2024-03-14T12:32:34.310883Z"
    }
   },
   "id": "86afe48fd55ccdc",
   "execution_count": 951
  },
  {
   "cell_type": "code",
   "outputs": [
    {
     "data": {
      "text/plain": "                            DATETIME    TOTALDEMAND\ncount                         196513  196513.000000\nmean   2015-08-10 00:00:00.000000512    6026.545773\nmin              2010-01-01 00:00:00    3748.240000\n25%              2012-10-20 12:00:00    5368.770000\n50%              2015-08-10 00:00:00    5993.590000\n75%              2018-05-29 12:00:00    6601.290000\nmax              2021-03-18 00:00:00    9988.090000\nstd                              NaN     868.481406",
      "text/html": "<div>\n<style scoped>\n    .dataframe tbody tr th:only-of-type {\n        vertical-align: middle;\n    }\n\n    .dataframe tbody tr th {\n        vertical-align: top;\n    }\n\n    .dataframe thead th {\n        text-align: right;\n    }\n</style>\n<table border=\"1\" class=\"dataframe\">\n  <thead>\n    <tr style=\"text-align: right;\">\n      <th></th>\n      <th>DATETIME</th>\n      <th>TOTALDEMAND</th>\n    </tr>\n  </thead>\n  <tbody>\n    <tr>\n      <th>count</th>\n      <td>196513</td>\n      <td>196513.000000</td>\n    </tr>\n    <tr>\n      <th>mean</th>\n      <td>2015-08-10 00:00:00.000000512</td>\n      <td>6026.545773</td>\n    </tr>\n    <tr>\n      <th>min</th>\n      <td>2010-01-01 00:00:00</td>\n      <td>3748.240000</td>\n    </tr>\n    <tr>\n      <th>25%</th>\n      <td>2012-10-20 12:00:00</td>\n      <td>5368.770000</td>\n    </tr>\n    <tr>\n      <th>50%</th>\n      <td>2015-08-10 00:00:00</td>\n      <td>5993.590000</td>\n    </tr>\n    <tr>\n      <th>75%</th>\n      <td>2018-05-29 12:00:00</td>\n      <td>6601.290000</td>\n    </tr>\n    <tr>\n      <th>max</th>\n      <td>2021-03-18 00:00:00</td>\n      <td>9988.090000</td>\n    </tr>\n    <tr>\n      <th>std</th>\n      <td>NaN</td>\n      <td>868.481406</td>\n    </tr>\n  </tbody>\n</table>\n</div>"
     },
     "execution_count": 952,
     "metadata": {},
     "output_type": "execute_result"
    }
   ],
   "source": [
    "qld_totaldemand.describe()"
   ],
   "metadata": {
    "collapsed": false,
    "ExecuteTime": {
     "end_time": "2024-03-14T12:32:34.340021Z",
     "start_time": "2024-03-14T12:32:34.325717Z"
    }
   },
   "id": "c6fddd6f866f5ca1",
   "execution_count": 952
  },
  {
   "cell_type": "code",
   "outputs": [
    {
     "data": {
      "text/plain": "(196513, 3)"
     },
     "execution_count": 953,
     "metadata": {},
     "output_type": "execute_result"
    }
   ],
   "source": [
    "qld_totaldemand.shape"
   ],
   "metadata": {
    "collapsed": false,
    "ExecuteTime": {
     "end_time": "2024-03-14T12:32:34.342691Z",
     "start_time": "2024-03-14T12:32:34.340653Z"
    }
   },
   "id": "f95f761b73b3653b",
   "execution_count": 953
  },
  {
   "cell_type": "code",
   "outputs": [
    {
     "data": {
      "text/plain": "DATETIME       2010-01-01 00:00:00\nTOTALDEMAND                3748.24\nREGIONID                      QLD1\ndtype: object"
     },
     "execution_count": 954,
     "metadata": {},
     "output_type": "execute_result"
    }
   ],
   "source": [
    "qld_totaldemand.min()"
   ],
   "metadata": {
    "collapsed": false,
    "ExecuteTime": {
     "end_time": "2024-03-14T12:32:34.352780Z",
     "start_time": "2024-03-14T12:32:34.343188Z"
    }
   },
   "id": "271ff63c6d26c3e5",
   "execution_count": 954
  },
  {
   "cell_type": "code",
   "outputs": [
    {
     "data": {
      "text/plain": "DATETIME       2021-03-18 00:00:00\nTOTALDEMAND                9988.09\nREGIONID                      QLD1\ndtype: object"
     },
     "execution_count": 955,
     "metadata": {},
     "output_type": "execute_result"
    }
   ],
   "source": [
    "qld_totaldemand.max()"
   ],
   "metadata": {
    "collapsed": false,
    "ExecuteTime": {
     "end_time": "2024-03-14T12:32:34.361302Z",
     "start_time": "2024-03-14T12:32:34.353274Z"
    }
   },
   "id": "6152177e0f02b07c",
   "execution_count": 955
  },
  {
   "cell_type": "code",
   "outputs": [
    {
     "data": {
      "text/plain": "DATETIME       0\nTOTALDEMAND    0\nREGIONID       0\ndtype: int64"
     },
     "execution_count": 956,
     "metadata": {},
     "output_type": "execute_result"
    }
   ],
   "source": [
    "qld_totaldemand.isnull().sum()"
   ],
   "metadata": {
    "collapsed": false,
    "ExecuteTime": {
     "end_time": "2024-03-14T12:32:34.369024Z",
     "start_time": "2024-03-14T12:32:34.361873Z"
    }
   },
   "id": "c7b39e151f95c7df",
   "execution_count": 956
  },
  {
   "cell_type": "code",
   "outputs": [
    {
     "data": {
      "text/plain": "DATETIME       0\nTOTALDEMAND    0\nREGIONID       0\ndtype: int64"
     },
     "execution_count": 957,
     "metadata": {},
     "output_type": "execute_result"
    }
   ],
   "source": [
    "qld_totaldemand.isna().sum()"
   ],
   "metadata": {
    "collapsed": false,
    "ExecuteTime": {
     "end_time": "2024-03-14T12:32:34.377583Z",
     "start_time": "2024-03-14T12:32:34.369653Z"
    }
   },
   "id": "d671939c1db5c31d",
   "execution_count": 957
  },
  {
   "cell_type": "code",
   "outputs": [
    {
     "data": {
      "text/plain": "DATETIME       196513\nTOTALDEMAND    146678\nREGIONID            1\ndtype: int64"
     },
     "execution_count": 958,
     "metadata": {},
     "output_type": "execute_result"
    }
   ],
   "source": [
    "qld_totaldemand.nunique()"
   ],
   "metadata": {
    "collapsed": false,
    "ExecuteTime": {
     "end_time": "2024-03-14T12:32:34.394764Z",
     "start_time": "2024-03-14T12:32:34.378152Z"
    }
   },
   "id": "3ebd9e1551d5d033",
   "execution_count": 958
  },
  {
   "cell_type": "code",
   "outputs": [
    {
     "data": {
      "text/plain": "DATETIME       datetime64[ns]\nTOTALDEMAND           float64\nREGIONID               object\ndtype: object"
     },
     "execution_count": 959,
     "metadata": {},
     "output_type": "execute_result"
    }
   ],
   "source": [
    "qld_totaldemand.dtypes"
   ],
   "metadata": {
    "collapsed": false,
    "ExecuteTime": {
     "end_time": "2024-03-14T12:32:34.401484Z",
     "start_time": "2024-03-14T12:32:34.399024Z"
    }
   },
   "id": "7e9929b26f76ec45",
   "execution_count": 959
  },
  {
   "cell_type": "markdown",
   "source": [
    "## SA Total Demand"
   ],
   "metadata": {
    "collapsed": false
   },
   "id": "aa04570f6bad42f3"
  },
  {
   "cell_type": "code",
   "outputs": [],
   "source": [
    "sa_totaldemand = pd.read_csv(os.path.join(data_path, 'Australia', 'd', 'totaldemand_sa.csv'), parse_dates=['DATETIME'])"
   ],
   "metadata": {
    "collapsed": false,
    "ExecuteTime": {
     "end_time": "2024-03-14T12:32:34.497232Z",
     "start_time": "2024-03-14T12:32:34.401965Z"
    }
   },
   "id": "809033d96c1e868",
   "execution_count": 960
  },
  {
   "cell_type": "code",
   "outputs": [
    {
     "data": {
      "text/plain": "             DATETIME  TOTALDEMAND REGIONID\n0 2010-01-01 00:30:00      1385.23      SA1\n1 2010-01-01 01:00:00      1338.53      SA1\n2 2010-01-01 01:30:00      1260.39      SA1\n3 2010-01-01 02:00:00      1189.31      SA1\n4 2010-01-01 02:30:00      1141.12      SA1",
      "text/html": "<div>\n<style scoped>\n    .dataframe tbody tr th:only-of-type {\n        vertical-align: middle;\n    }\n\n    .dataframe tbody tr th {\n        vertical-align: top;\n    }\n\n    .dataframe thead th {\n        text-align: right;\n    }\n</style>\n<table border=\"1\" class=\"dataframe\">\n  <thead>\n    <tr style=\"text-align: right;\">\n      <th></th>\n      <th>DATETIME</th>\n      <th>TOTALDEMAND</th>\n      <th>REGIONID</th>\n    </tr>\n  </thead>\n  <tbody>\n    <tr>\n      <th>0</th>\n      <td>2010-01-01 00:30:00</td>\n      <td>1385.23</td>\n      <td>SA1</td>\n    </tr>\n    <tr>\n      <th>1</th>\n      <td>2010-01-01 01:00:00</td>\n      <td>1338.53</td>\n      <td>SA1</td>\n    </tr>\n    <tr>\n      <th>2</th>\n      <td>2010-01-01 01:30:00</td>\n      <td>1260.39</td>\n      <td>SA1</td>\n    </tr>\n    <tr>\n      <th>3</th>\n      <td>2010-01-01 02:00:00</td>\n      <td>1189.31</td>\n      <td>SA1</td>\n    </tr>\n    <tr>\n      <th>4</th>\n      <td>2010-01-01 02:30:00</td>\n      <td>1141.12</td>\n      <td>SA1</td>\n    </tr>\n  </tbody>\n</table>\n</div>"
     },
     "execution_count": 961,
     "metadata": {},
     "output_type": "execute_result"
    }
   ],
   "source": [
    "sa_totaldemand.head()"
   ],
   "metadata": {
    "collapsed": false,
    "ExecuteTime": {
     "end_time": "2024-03-14T12:32:34.501843Z",
     "start_time": "2024-03-14T12:32:34.497859Z"
    }
   },
   "id": "7972e25dc1e7d0b1",
   "execution_count": 961
  },
  {
   "cell_type": "code",
   "outputs": [
    {
     "data": {
      "text/plain": "                  DATETIME  TOTALDEMAND REGIONID\n196507 2021-03-17 22:00:00      1277.91      SA1\n196508 2021-03-17 22:30:00      1226.81      SA1\n196509 2021-03-17 23:00:00      1202.62      SA1\n196510 2021-03-17 23:30:00      1194.34      SA1\n196511 2021-03-18 00:00:00      1340.58      SA1",
      "text/html": "<div>\n<style scoped>\n    .dataframe tbody tr th:only-of-type {\n        vertical-align: middle;\n    }\n\n    .dataframe tbody tr th {\n        vertical-align: top;\n    }\n\n    .dataframe thead th {\n        text-align: right;\n    }\n</style>\n<table border=\"1\" class=\"dataframe\">\n  <thead>\n    <tr style=\"text-align: right;\">\n      <th></th>\n      <th>DATETIME</th>\n      <th>TOTALDEMAND</th>\n      <th>REGIONID</th>\n    </tr>\n  </thead>\n  <tbody>\n    <tr>\n      <th>196507</th>\n      <td>2021-03-17 22:00:00</td>\n      <td>1277.91</td>\n      <td>SA1</td>\n    </tr>\n    <tr>\n      <th>196508</th>\n      <td>2021-03-17 22:30:00</td>\n      <td>1226.81</td>\n      <td>SA1</td>\n    </tr>\n    <tr>\n      <th>196509</th>\n      <td>2021-03-17 23:00:00</td>\n      <td>1202.62</td>\n      <td>SA1</td>\n    </tr>\n    <tr>\n      <th>196510</th>\n      <td>2021-03-17 23:30:00</td>\n      <td>1194.34</td>\n      <td>SA1</td>\n    </tr>\n    <tr>\n      <th>196511</th>\n      <td>2021-03-18 00:00:00</td>\n      <td>1340.58</td>\n      <td>SA1</td>\n    </tr>\n  </tbody>\n</table>\n</div>"
     },
     "execution_count": 962,
     "metadata": {},
     "output_type": "execute_result"
    }
   ],
   "source": [
    "sa_totaldemand.tail()"
   ],
   "metadata": {
    "collapsed": false,
    "ExecuteTime": {
     "end_time": "2024-03-14T12:32:34.514374Z",
     "start_time": "2024-03-14T12:32:34.502371Z"
    }
   },
   "id": "f37386c9159737b",
   "execution_count": 962
  },
  {
   "cell_type": "code",
   "outputs": [
    {
     "name": "stdout",
     "output_type": "stream",
     "text": [
      "<class 'pandas.core.frame.DataFrame'>\n",
      "RangeIndex: 196512 entries, 0 to 196511\n",
      "Data columns (total 3 columns):\n",
      " #   Column       Non-Null Count   Dtype         \n",
      "---  ------       --------------   -----         \n",
      " 0   DATETIME     196512 non-null  datetime64[ns]\n",
      " 1   TOTALDEMAND  196512 non-null  float64       \n",
      " 2   REGIONID     196512 non-null  object        \n",
      "dtypes: datetime64[ns](1), float64(1), object(1)\n",
      "memory usage: 4.5+ MB\n"
     ]
    }
   ],
   "source": [
    "sa_totaldemand.info()"
   ],
   "metadata": {
    "collapsed": false,
    "ExecuteTime": {
     "end_time": "2024-03-14T12:32:34.529463Z",
     "start_time": "2024-03-14T12:32:34.514867Z"
    }
   },
   "id": "92be34c822d062bd",
   "execution_count": 963
  },
  {
   "cell_type": "code",
   "outputs": [
    {
     "data": {
      "text/plain": "count    196512.000000\nmean       1383.901566\nstd         326.494153\nmin          21.890000\n25%        1164.480000\n50%        1346.140000\n75%        1567.342500\nmax        3385.420000\nName: TOTALDEMAND, dtype: float64"
     },
     "execution_count": 964,
     "metadata": {},
     "output_type": "execute_result"
    }
   ],
   "source": [
    "sa_totaldemand['TOTALDEMAND'].describe()"
   ],
   "metadata": {
    "collapsed": false,
    "ExecuteTime": {
     "end_time": "2024-03-14T12:32:34.536503Z",
     "start_time": "2024-03-14T12:32:34.529973Z"
    }
   },
   "id": "49968faa5518d3a5",
   "execution_count": 964
  },
  {
   "cell_type": "code",
   "outputs": [
    {
     "data": {
      "text/plain": "(196512, 3)"
     },
     "execution_count": 965,
     "metadata": {},
     "output_type": "execute_result"
    }
   ],
   "source": [
    "sa_totaldemand.shape"
   ],
   "metadata": {
    "collapsed": false,
    "ExecuteTime": {
     "end_time": "2024-03-14T12:32:34.539920Z",
     "start_time": "2024-03-14T12:32:34.537018Z"
    }
   },
   "id": "6c01eebb7dd52c62",
   "execution_count": 965
  },
  {
   "cell_type": "code",
   "outputs": [
    {
     "data": {
      "text/plain": "DATETIME       2010-01-01 00:30:00\nTOTALDEMAND                  21.89\nREGIONID                       SA1\ndtype: object"
     },
     "execution_count": 966,
     "metadata": {},
     "output_type": "execute_result"
    }
   ],
   "source": [
    "sa_totaldemand.min()"
   ],
   "metadata": {
    "collapsed": false,
    "ExecuteTime": {
     "end_time": "2024-03-14T12:32:34.549799Z",
     "start_time": "2024-03-14T12:32:34.540402Z"
    }
   },
   "id": "10daa7f0389295c0",
   "execution_count": 966
  },
  {
   "cell_type": "code",
   "outputs": [
    {
     "data": {
      "text/plain": "DATETIME       2021-03-18 00:00:00\nTOTALDEMAND                3385.42\nREGIONID                       SA1\ndtype: object"
     },
     "execution_count": 967,
     "metadata": {},
     "output_type": "execute_result"
    }
   ],
   "source": [
    "sa_totaldemand.max()"
   ],
   "metadata": {
    "collapsed": false,
    "ExecuteTime": {
     "end_time": "2024-03-14T12:32:34.558900Z",
     "start_time": "2024-03-14T12:32:34.550343Z"
    }
   },
   "id": "282a3d9e2e47d14a",
   "execution_count": 967
  },
  {
   "cell_type": "code",
   "outputs": [
    {
     "data": {
      "text/plain": "DATETIME       0\nTOTALDEMAND    0\nREGIONID       0\ndtype: int64"
     },
     "execution_count": 968,
     "metadata": {},
     "output_type": "execute_result"
    }
   ],
   "source": [
    "sa_totaldemand.isnull().sum()"
   ],
   "metadata": {
    "collapsed": false,
    "ExecuteTime": {
     "end_time": "2024-03-14T12:32:34.566349Z",
     "start_time": "2024-03-14T12:32:34.559549Z"
    }
   },
   "id": "5053d71deeb557ad",
   "execution_count": 968
  },
  {
   "cell_type": "code",
   "outputs": [
    {
     "data": {
      "text/plain": "DATETIME       0\nTOTALDEMAND    0\nREGIONID       0\ndtype: int64"
     },
     "execution_count": 969,
     "metadata": {},
     "output_type": "execute_result"
    }
   ],
   "source": [
    "sa_totaldemand.isna().sum()"
   ],
   "metadata": {
    "collapsed": false,
    "ExecuteTime": {
     "end_time": "2024-03-14T12:32:34.573774Z",
     "start_time": "2024-03-14T12:32:34.566847Z"
    }
   },
   "id": "78254dea96713374",
   "execution_count": 969
  },
  {
   "cell_type": "code",
   "outputs": [
    {
     "data": {
      "text/plain": "DATETIME       196512\nTOTALDEMAND     95534\nREGIONID            1\ndtype: int64"
     },
     "execution_count": 970,
     "metadata": {},
     "output_type": "execute_result"
    }
   ],
   "source": [
    "sa_totaldemand.nunique()"
   ],
   "metadata": {
    "collapsed": false,
    "ExecuteTime": {
     "end_time": "2024-03-14T12:32:34.588275Z",
     "start_time": "2024-03-14T12:32:34.574280Z"
    }
   },
   "id": "dc5b2683235183fd",
   "execution_count": 970
  },
  {
   "cell_type": "code",
   "outputs": [
    {
     "data": {
      "text/plain": "DATETIME       datetime64[ns]\nTOTALDEMAND           float64\nREGIONID               object\ndtype: object"
     },
     "execution_count": 971,
     "metadata": {},
     "output_type": "execute_result"
    }
   ],
   "source": [
    "sa_totaldemand.dtypes"
   ],
   "metadata": {
    "collapsed": false,
    "ExecuteTime": {
     "end_time": "2024-03-14T12:32:34.591520Z",
     "start_time": "2024-03-14T12:32:34.588980Z"
    }
   },
   "id": "36bbae2be871d283",
   "execution_count": 971
  },
  {
   "cell_type": "markdown",
   "source": [
    "## Victoria Total Demand"
   ],
   "metadata": {
    "collapsed": false
   },
   "id": "a72f68529954d5ca"
  },
  {
   "cell_type": "code",
   "outputs": [],
   "source": [
    "vic_total_demand = pd.read_csv(os.path.join(data_path, 'Australia', 'd', 'totaldemand_vic.csv'), parse_dates=['DATETIME'])"
   ],
   "metadata": {
    "collapsed": false,
    "ExecuteTime": {
     "end_time": "2024-03-14T12:32:34.679249Z",
     "start_time": "2024-03-14T12:32:34.591997Z"
    }
   },
   "id": "8071b62d4914e9d6",
   "execution_count": 972
  },
  {
   "cell_type": "code",
   "outputs": [
    {
     "data": {
      "text/plain": "             DATETIME  TOTALDEMAND REGIONID\n0 2010-01-01 00:00:00      5426.12     VIC1\n1 2010-01-01 00:30:00      5111.02     VIC1\n2 2010-01-01 01:00:00      4960.03     VIC1\n3 2010-01-01 01:30:00      5283.40     VIC1\n4 2010-01-01 02:00:00      5046.15     VIC1",
      "text/html": "<div>\n<style scoped>\n    .dataframe tbody tr th:only-of-type {\n        vertical-align: middle;\n    }\n\n    .dataframe tbody tr th {\n        vertical-align: top;\n    }\n\n    .dataframe thead th {\n        text-align: right;\n    }\n</style>\n<table border=\"1\" class=\"dataframe\">\n  <thead>\n    <tr style=\"text-align: right;\">\n      <th></th>\n      <th>DATETIME</th>\n      <th>TOTALDEMAND</th>\n      <th>REGIONID</th>\n    </tr>\n  </thead>\n  <tbody>\n    <tr>\n      <th>0</th>\n      <td>2010-01-01 00:00:00</td>\n      <td>5426.12</td>\n      <td>VIC1</td>\n    </tr>\n    <tr>\n      <th>1</th>\n      <td>2010-01-01 00:30:00</td>\n      <td>5111.02</td>\n      <td>VIC1</td>\n    </tr>\n    <tr>\n      <th>2</th>\n      <td>2010-01-01 01:00:00</td>\n      <td>4960.03</td>\n      <td>VIC1</td>\n    </tr>\n    <tr>\n      <th>3</th>\n      <td>2010-01-01 01:30:00</td>\n      <td>5283.40</td>\n      <td>VIC1</td>\n    </tr>\n    <tr>\n      <th>4</th>\n      <td>2010-01-01 02:00:00</td>\n      <td>5046.15</td>\n      <td>VIC1</td>\n    </tr>\n  </tbody>\n</table>\n</div>"
     },
     "execution_count": 973,
     "metadata": {},
     "output_type": "execute_result"
    }
   ],
   "source": [
    "vic_total_demand.head()"
   ],
   "metadata": {
    "collapsed": false,
    "ExecuteTime": {
     "end_time": "2024-03-14T12:32:34.683958Z",
     "start_time": "2024-03-14T12:32:34.679897Z"
    }
   },
   "id": "da49618bfec487ab",
   "execution_count": 973
  },
  {
   "cell_type": "code",
   "outputs": [
    {
     "data": {
      "text/plain": "                  DATETIME  TOTALDEMAND REGIONID\n196508 2021-03-17 22:00:00      4557.56     VIC1\n196509 2021-03-17 22:30:00      4485.95     VIC1\n196510 2021-03-17 23:00:00      4434.62     VIC1\n196511 2021-03-17 23:30:00      4660.85     VIC1\n196512 2021-03-18 00:00:00      4608.85     VIC1",
      "text/html": "<div>\n<style scoped>\n    .dataframe tbody tr th:only-of-type {\n        vertical-align: middle;\n    }\n\n    .dataframe tbody tr th {\n        vertical-align: top;\n    }\n\n    .dataframe thead th {\n        text-align: right;\n    }\n</style>\n<table border=\"1\" class=\"dataframe\">\n  <thead>\n    <tr style=\"text-align: right;\">\n      <th></th>\n      <th>DATETIME</th>\n      <th>TOTALDEMAND</th>\n      <th>REGIONID</th>\n    </tr>\n  </thead>\n  <tbody>\n    <tr>\n      <th>196508</th>\n      <td>2021-03-17 22:00:00</td>\n      <td>4557.56</td>\n      <td>VIC1</td>\n    </tr>\n    <tr>\n      <th>196509</th>\n      <td>2021-03-17 22:30:00</td>\n      <td>4485.95</td>\n      <td>VIC1</td>\n    </tr>\n    <tr>\n      <th>196510</th>\n      <td>2021-03-17 23:00:00</td>\n      <td>4434.62</td>\n      <td>VIC1</td>\n    </tr>\n    <tr>\n      <th>196511</th>\n      <td>2021-03-17 23:30:00</td>\n      <td>4660.85</td>\n      <td>VIC1</td>\n    </tr>\n    <tr>\n      <th>196512</th>\n      <td>2021-03-18 00:00:00</td>\n      <td>4608.85</td>\n      <td>VIC1</td>\n    </tr>\n  </tbody>\n</table>\n</div>"
     },
     "execution_count": 974,
     "metadata": {},
     "output_type": "execute_result"
    }
   ],
   "source": [
    "vic_total_demand.tail()"
   ],
   "metadata": {
    "collapsed": false,
    "ExecuteTime": {
     "end_time": "2024-03-14T12:32:34.696647Z",
     "start_time": "2024-03-14T12:32:34.684451Z"
    }
   },
   "id": "d69248191cecbfbc",
   "execution_count": 974
  },
  {
   "cell_type": "code",
   "outputs": [
    {
     "name": "stdout",
     "output_type": "stream",
     "text": [
      "<class 'pandas.core.frame.DataFrame'>\n",
      "RangeIndex: 196513 entries, 0 to 196512\n",
      "Data columns (total 3 columns):\n",
      " #   Column       Non-Null Count   Dtype         \n",
      "---  ------       --------------   -----         \n",
      " 0   DATETIME     196513 non-null  datetime64[ns]\n",
      " 1   TOTALDEMAND  196513 non-null  float64       \n",
      " 2   REGIONID     196513 non-null  object        \n",
      "dtypes: datetime64[ns](1), float64(1), object(1)\n",
      "memory usage: 4.5+ MB\n"
     ]
    }
   ],
   "source": [
    "vic_total_demand.info()"
   ],
   "metadata": {
    "collapsed": false,
    "ExecuteTime": {
     "end_time": "2024-03-14T12:32:34.711395Z",
     "start_time": "2024-03-14T12:32:34.697239Z"
    }
   },
   "id": "fc45a989ca613566",
   "execution_count": 975
  },
  {
   "cell_type": "code",
   "outputs": [
    {
     "data": {
      "text/plain": "count    196513.000000\nmean       5252.950834\nstd         946.281304\nmin        2307.070000\n25%        4535.420000\n50%        5157.760000\n75%        5909.540000\nmax       10240.220000\nName: TOTALDEMAND, dtype: float64"
     },
     "execution_count": 976,
     "metadata": {},
     "output_type": "execute_result"
    }
   ],
   "source": [
    "vic_total_demand['TOTALDEMAND'].describe()"
   ],
   "metadata": {
    "collapsed": false,
    "ExecuteTime": {
     "end_time": "2024-03-14T12:32:34.719033Z",
     "start_time": "2024-03-14T12:32:34.711954Z"
    }
   },
   "id": "acf59b1aeb79a169",
   "execution_count": 976
  },
  {
   "cell_type": "code",
   "outputs": [
    {
     "data": {
      "text/plain": "(196513, 3)"
     },
     "execution_count": 977,
     "metadata": {},
     "output_type": "execute_result"
    }
   ],
   "source": [
    "vic_total_demand.shape"
   ],
   "metadata": {
    "collapsed": false,
    "ExecuteTime": {
     "end_time": "2024-03-14T12:32:34.722932Z",
     "start_time": "2024-03-14T12:32:34.719578Z"
    }
   },
   "id": "56e70d520d1db9c6",
   "execution_count": 977
  },
  {
   "cell_type": "code",
   "outputs": [
    {
     "data": {
      "text/plain": "DATETIME       2010-01-01 00:00:00\nTOTALDEMAND                2307.07\nREGIONID                      VIC1\ndtype: object"
     },
     "execution_count": 978,
     "metadata": {},
     "output_type": "execute_result"
    }
   ],
   "source": [
    "vic_total_demand.min()"
   ],
   "metadata": {
    "collapsed": false,
    "ExecuteTime": {
     "end_time": "2024-03-14T12:32:34.738249Z",
     "start_time": "2024-03-14T12:32:34.723426Z"
    }
   },
   "id": "bef5da5a832a7f8f",
   "execution_count": 978
  },
  {
   "cell_type": "code",
   "outputs": [
    {
     "data": {
      "text/plain": "DATETIME       2021-03-18 00:00:00\nTOTALDEMAND               10240.22\nREGIONID                      VIC1\ndtype: object"
     },
     "execution_count": 979,
     "metadata": {},
     "output_type": "execute_result"
    }
   ],
   "source": [
    "vic_total_demand.max()"
   ],
   "metadata": {
    "collapsed": false,
    "ExecuteTime": {
     "end_time": "2024-03-14T12:32:34.747454Z",
     "start_time": "2024-03-14T12:32:34.738741Z"
    }
   },
   "id": "430c7e53c6fb48dc",
   "execution_count": 979
  },
  {
   "cell_type": "code",
   "outputs": [
    {
     "data": {
      "text/plain": "DATETIME       0\nTOTALDEMAND    0\nREGIONID       0\ndtype: int64"
     },
     "execution_count": 980,
     "metadata": {},
     "output_type": "execute_result"
    }
   ],
   "source": [
    "vic_total_demand.isnull().sum()"
   ],
   "metadata": {
    "collapsed": false,
    "ExecuteTime": {
     "end_time": "2024-03-14T12:32:34.755295Z",
     "start_time": "2024-03-14T12:32:34.747995Z"
    }
   },
   "id": "fba0584917acccde",
   "execution_count": 980
  },
  {
   "cell_type": "code",
   "outputs": [
    {
     "data": {
      "text/plain": "DATETIME       0\nTOTALDEMAND    0\nREGIONID       0\ndtype: int64"
     },
     "execution_count": 981,
     "metadata": {},
     "output_type": "execute_result"
    }
   ],
   "source": [
    "vic_total_demand.isna().sum()"
   ],
   "metadata": {
    "collapsed": false,
    "ExecuteTime": {
     "end_time": "2024-03-14T12:32:34.763781Z",
     "start_time": "2024-03-14T12:32:34.755810Z"
    }
   },
   "id": "1421e5afd11229be",
   "execution_count": 981
  },
  {
   "cell_type": "code",
   "outputs": [
    {
     "data": {
      "text/plain": "DATETIME       196513\nTOTALDEMAND    149442\nREGIONID            1\ndtype: int64"
     },
     "execution_count": 982,
     "metadata": {},
     "output_type": "execute_result"
    }
   ],
   "source": [
    "vic_total_demand.nunique()"
   ],
   "metadata": {
    "collapsed": false,
    "ExecuteTime": {
     "end_time": "2024-03-14T12:32:34.779296Z",
     "start_time": "2024-03-14T12:32:34.764312Z"
    }
   },
   "id": "eb42249510174393",
   "execution_count": 982
  },
  {
   "cell_type": "code",
   "outputs": [
    {
     "data": {
      "text/plain": "DATETIME       datetime64[ns]\nTOTALDEMAND           float64\nREGIONID               object\ndtype: object"
     },
     "execution_count": 983,
     "metadata": {},
     "output_type": "execute_result"
    }
   ],
   "source": [
    "vic_total_demand.dtypes"
   ],
   "metadata": {
    "collapsed": false,
    "ExecuteTime": {
     "end_time": "2024-03-14T12:32:34.783236Z",
     "start_time": "2024-03-14T12:32:34.779938Z"
    }
   },
   "id": "d590818ef2a976b8",
   "execution_count": 983
  },
  {
   "cell_type": "markdown",
   "source": [
    "## NSW Forecast Demand"
   ],
   "metadata": {
    "collapsed": false
   },
   "id": "4d5cf7f80f9c834c"
  },
  {
   "cell_type": "code",
   "outputs": [],
   "source": [
    "nsw_forecastdemand = pd.read_csv(os.path.join(data_path, 'NSW', 'forecastdemand_nsw.csv'), parse_dates=['LASTCHANGED', 'DATETIME'])"
   ],
   "metadata": {
    "collapsed": false,
    "ExecuteTime": {
     "end_time": "2024-03-14T12:32:40.563727Z",
     "start_time": "2024-03-14T12:32:34.783959Z"
    }
   },
   "id": "714fb3f4bd4e097d",
   "execution_count": 984
  },
  {
   "cell_type": "code",
   "outputs": [
    {
     "data": {
      "text/plain": "   PREDISPATCHSEQNO REGIONID  PERIODID  FORECASTDEMAND         LASTCHANGED  \\\n0        2009123018     NSW1        71         7832.04 2009-12-30 12:31:49   \n1        2009123019     NSW1        70         7832.04 2009-12-30 13:01:43   \n2        2009123020     NSW1        69         7832.03 2009-12-30 13:31:36   \n3        2009123021     NSW1        68         7832.03 2009-12-30 14:01:44   \n4        2009123022     NSW1        67         7830.96 2009-12-30 14:31:35   \n\n    DATETIME  \n0 2010-01-01  \n1 2010-01-01  \n2 2010-01-01  \n3 2010-01-01  \n4 2010-01-01  ",
      "text/html": "<div>\n<style scoped>\n    .dataframe tbody tr th:only-of-type {\n        vertical-align: middle;\n    }\n\n    .dataframe tbody tr th {\n        vertical-align: top;\n    }\n\n    .dataframe thead th {\n        text-align: right;\n    }\n</style>\n<table border=\"1\" class=\"dataframe\">\n  <thead>\n    <tr style=\"text-align: right;\">\n      <th></th>\n      <th>PREDISPATCHSEQNO</th>\n      <th>REGIONID</th>\n      <th>PERIODID</th>\n      <th>FORECASTDEMAND</th>\n      <th>LASTCHANGED</th>\n      <th>DATETIME</th>\n    </tr>\n  </thead>\n  <tbody>\n    <tr>\n      <th>0</th>\n      <td>2009123018</td>\n      <td>NSW1</td>\n      <td>71</td>\n      <td>7832.04</td>\n      <td>2009-12-30 12:31:49</td>\n      <td>2010-01-01</td>\n    </tr>\n    <tr>\n      <th>1</th>\n      <td>2009123019</td>\n      <td>NSW1</td>\n      <td>70</td>\n      <td>7832.04</td>\n      <td>2009-12-30 13:01:43</td>\n      <td>2010-01-01</td>\n    </tr>\n    <tr>\n      <th>2</th>\n      <td>2009123020</td>\n      <td>NSW1</td>\n      <td>69</td>\n      <td>7832.03</td>\n      <td>2009-12-30 13:31:36</td>\n      <td>2010-01-01</td>\n    </tr>\n    <tr>\n      <th>3</th>\n      <td>2009123021</td>\n      <td>NSW1</td>\n      <td>68</td>\n      <td>7832.03</td>\n      <td>2009-12-30 14:01:44</td>\n      <td>2010-01-01</td>\n    </tr>\n    <tr>\n      <th>4</th>\n      <td>2009123022</td>\n      <td>NSW1</td>\n      <td>67</td>\n      <td>7830.96</td>\n      <td>2009-12-30 14:31:35</td>\n      <td>2010-01-01</td>\n    </tr>\n  </tbody>\n</table>\n</div>"
     },
     "execution_count": 985,
     "metadata": {},
     "output_type": "execute_result"
    }
   ],
   "source": [
    "nsw_forecastdemand.head()"
   ],
   "metadata": {
    "collapsed": false,
    "ExecuteTime": {
     "end_time": "2024-03-14T12:32:40.568839Z",
     "start_time": "2024-03-14T12:32:40.564372Z"
    }
   },
   "id": "738cf2feb7fe6ef4",
   "execution_count": 985
  },
  {
   "cell_type": "code",
   "outputs": [
    {
     "data": {
      "text/plain": "          PREDISPATCHSEQNO REGIONID  PERIODID  FORECASTDEMAND  \\\n10906014        2021031736     NSW1         5         7028.45   \n10906015        2021031737     NSW1         4         7041.65   \n10906016        2021031738     NSW1         3         7087.60   \n10906017        2021031739     NSW1         2         7087.28   \n10906018        2021031740     NSW1         1         7126.37   \n\n                 LASTCHANGED   DATETIME  \n10906014 2021-03-17 21:31:31 2021-03-18  \n10906015 2021-03-17 22:01:34 2021-03-18  \n10906016 2021-03-17 22:31:36 2021-03-18  \n10906017 2021-03-17 23:01:36 2021-03-18  \n10906018 2021-03-17 23:31:33 2021-03-18  ",
      "text/html": "<div>\n<style scoped>\n    .dataframe tbody tr th:only-of-type {\n        vertical-align: middle;\n    }\n\n    .dataframe tbody tr th {\n        vertical-align: top;\n    }\n\n    .dataframe thead th {\n        text-align: right;\n    }\n</style>\n<table border=\"1\" class=\"dataframe\">\n  <thead>\n    <tr style=\"text-align: right;\">\n      <th></th>\n      <th>PREDISPATCHSEQNO</th>\n      <th>REGIONID</th>\n      <th>PERIODID</th>\n      <th>FORECASTDEMAND</th>\n      <th>LASTCHANGED</th>\n      <th>DATETIME</th>\n    </tr>\n  </thead>\n  <tbody>\n    <tr>\n      <th>10906014</th>\n      <td>2021031736</td>\n      <td>NSW1</td>\n      <td>5</td>\n      <td>7028.45</td>\n      <td>2021-03-17 21:31:31</td>\n      <td>2021-03-18</td>\n    </tr>\n    <tr>\n      <th>10906015</th>\n      <td>2021031737</td>\n      <td>NSW1</td>\n      <td>4</td>\n      <td>7041.65</td>\n      <td>2021-03-17 22:01:34</td>\n      <td>2021-03-18</td>\n    </tr>\n    <tr>\n      <th>10906016</th>\n      <td>2021031738</td>\n      <td>NSW1</td>\n      <td>3</td>\n      <td>7087.60</td>\n      <td>2021-03-17 22:31:36</td>\n      <td>2021-03-18</td>\n    </tr>\n    <tr>\n      <th>10906017</th>\n      <td>2021031739</td>\n      <td>NSW1</td>\n      <td>2</td>\n      <td>7087.28</td>\n      <td>2021-03-17 23:01:36</td>\n      <td>2021-03-18</td>\n    </tr>\n    <tr>\n      <th>10906018</th>\n      <td>2021031740</td>\n      <td>NSW1</td>\n      <td>1</td>\n      <td>7126.37</td>\n      <td>2021-03-17 23:31:33</td>\n      <td>2021-03-18</td>\n    </tr>\n  </tbody>\n</table>\n</div>"
     },
     "execution_count": 986,
     "metadata": {},
     "output_type": "execute_result"
    }
   ],
   "source": [
    "nsw_forecastdemand.tail()"
   ],
   "metadata": {
    "collapsed": false,
    "ExecuteTime": {
     "end_time": "2024-03-14T12:32:40.647501Z",
     "start_time": "2024-03-14T12:32:40.569371Z"
    }
   },
   "id": "95d4b96b1b0a636e",
   "execution_count": 986
  },
  {
   "cell_type": "code",
   "outputs": [
    {
     "name": "stdout",
     "output_type": "stream",
     "text": [
      "<class 'pandas.core.frame.DataFrame'>\n",
      "RangeIndex: 10906019 entries, 0 to 10906018\n",
      "Data columns (total 6 columns):\n",
      " #   Column            Dtype         \n",
      "---  ------            -----         \n",
      " 0   PREDISPATCHSEQNO  int64         \n",
      " 1   REGIONID          object        \n",
      " 2   PERIODID          int64         \n",
      " 3   FORECASTDEMAND    float64       \n",
      " 4   LASTCHANGED       datetime64[ns]\n",
      " 5   DATETIME          datetime64[ns]\n",
      "dtypes: datetime64[ns](2), float64(1), int64(2), object(1)\n",
      "memory usage: 499.2+ MB\n"
     ]
    }
   ],
   "source": [
    "nsw_forecastdemand.info()"
   ],
   "metadata": {
    "collapsed": false,
    "ExecuteTime": {
     "end_time": "2024-03-14T12:32:40.662987Z",
     "start_time": "2024-03-14T12:32:40.648015Z"
    }
   },
   "id": "807338f77241801a",
   "execution_count": 987
  },
  {
   "cell_type": "code",
   "outputs": [
    {
     "data": {
      "text/plain": "count    1.090602e+07\nmean     8.066719e+03\nstd      1.315959e+03\nmin      4.422460e+03\n25%      7.077970e+03\n50%      8.007550e+03\n75%      8.925610e+03\nmax      1.473666e+04\nName: FORECASTDEMAND, dtype: float64"
     },
     "execution_count": 988,
     "metadata": {},
     "output_type": "execute_result"
    }
   ],
   "source": [
    "nsw_forecastdemand['FORECASTDEMAND'].describe()"
   ],
   "metadata": {
    "collapsed": false,
    "ExecuteTime": {
     "end_time": "2024-03-14T12:32:40.845948Z",
     "start_time": "2024-03-14T12:32:40.663495Z"
    }
   },
   "id": "230b5e85ede77e40",
   "execution_count": 988
  },
  {
   "cell_type": "code",
   "outputs": [
    {
     "data": {
      "text/plain": "(10906019, 6)"
     },
     "execution_count": 989,
     "metadata": {},
     "output_type": "execute_result"
    }
   ],
   "source": [
    "nsw_forecastdemand.shape"
   ],
   "metadata": {
    "collapsed": false,
    "ExecuteTime": {
     "end_time": "2024-03-14T12:32:40.848627Z",
     "start_time": "2024-03-14T12:32:40.846548Z"
    }
   },
   "id": "ed0a7020b50243f4",
   "execution_count": 989
  },
  {
   "cell_type": "code",
   "outputs": [
    {
     "data": {
      "text/plain": "PREDISPATCHSEQNO             2009123018\nREGIONID                           NSW1\nPERIODID                              1\nFORECASTDEMAND                  4422.46\nLASTCHANGED         2009-12-30 12:31:49\nDATETIME            2010-01-01 00:00:00\ndtype: object"
     },
     "execution_count": 990,
     "metadata": {},
     "output_type": "execute_result"
    }
   ],
   "source": [
    "nsw_forecastdemand.min()"
   ],
   "metadata": {
    "collapsed": false,
    "ExecuteTime": {
     "end_time": "2024-03-14T12:32:41.218940Z",
     "start_time": "2024-03-14T12:32:40.849111Z"
    }
   },
   "id": "38c1071e18c36e9f",
   "execution_count": 990
  },
  {
   "cell_type": "code",
   "outputs": [
    {
     "data": {
      "text/plain": "PREDISPATCHSEQNO             2021031740\nREGIONID                           NSW1\nPERIODID                             79\nFORECASTDEMAND                 14736.66\nLASTCHANGED         2021-03-17 23:31:33\nDATETIME            2021-03-18 00:00:00\ndtype: object"
     },
     "execution_count": 991,
     "metadata": {},
     "output_type": "execute_result"
    }
   ],
   "source": [
    "nsw_forecastdemand.max()"
   ],
   "metadata": {
    "collapsed": false,
    "ExecuteTime": {
     "end_time": "2024-03-14T12:32:41.609827Z",
     "start_time": "2024-03-14T12:32:41.219552Z"
    }
   },
   "id": "5c9358fe34f093f4",
   "execution_count": 991
  },
  {
   "cell_type": "code",
   "outputs": [
    {
     "data": {
      "text/plain": "PREDISPATCHSEQNO    0\nREGIONID            0\nPERIODID            0\nFORECASTDEMAND      0\nLASTCHANGED         0\nDATETIME            0\ndtype: int64"
     },
     "execution_count": 992,
     "metadata": {},
     "output_type": "execute_result"
    }
   ],
   "source": [
    "nsw_forecastdemand.isnull().sum()"
   ],
   "metadata": {
    "collapsed": false,
    "ExecuteTime": {
     "end_time": "2024-03-14T12:32:41.852824Z",
     "start_time": "2024-03-14T12:32:41.610793Z"
    }
   },
   "id": "14ff921264c8f66f",
   "execution_count": 992
  },
  {
   "cell_type": "code",
   "outputs": [
    {
     "data": {
      "text/plain": "PREDISPATCHSEQNO    0\nREGIONID            0\nPERIODID            0\nFORECASTDEMAND      0\nLASTCHANGED         0\nDATETIME            0\ndtype: int64"
     },
     "execution_count": 993,
     "metadata": {},
     "output_type": "execute_result"
    }
   ],
   "source": [
    "nsw_forecastdemand.isna().sum()"
   ],
   "metadata": {
    "collapsed": false,
    "ExecuteTime": {
     "end_time": "2024-03-14T12:32:42.089698Z",
     "start_time": "2024-03-14T12:32:41.853359Z"
    }
   },
   "id": "55011353fab20d65",
   "execution_count": 993
  },
  {
   "cell_type": "code",
   "outputs": [
    {
     "data": {
      "text/plain": "PREDISPATCHSEQNO    196571\nREGIONID                 1\nPERIODID                79\nFORECASTDEMAND      681384\nLASTCHANGED         196571\nDATETIME            196513\ndtype: int64"
     },
     "execution_count": 994,
     "metadata": {},
     "output_type": "execute_result"
    }
   ],
   "source": [
    "nsw_forecastdemand.nunique()"
   ],
   "metadata": {
    "collapsed": false,
    "ExecuteTime": {
     "end_time": "2024-03-14T12:32:42.713509Z",
     "start_time": "2024-03-14T12:32:42.090268Z"
    }
   },
   "id": "a296e9a8690f05",
   "execution_count": 994
  },
  {
   "cell_type": "code",
   "outputs": [
    {
     "data": {
      "text/plain": "PREDISPATCHSEQNO             int64\nREGIONID                    object\nPERIODID                     int64\nFORECASTDEMAND             float64\nLASTCHANGED         datetime64[ns]\nDATETIME            datetime64[ns]\ndtype: object"
     },
     "execution_count": 995,
     "metadata": {},
     "output_type": "execute_result"
    }
   ],
   "source": [
    "nsw_forecastdemand.dtypes"
   ],
   "metadata": {
    "collapsed": false,
    "ExecuteTime": {
     "end_time": "2024-03-14T12:32:42.716562Z",
     "start_time": "2024-03-14T12:32:42.714095Z"
    }
   },
   "id": "76336b1a517dbc8f",
   "execution_count": 995
  },
  {
   "cell_type": "markdown",
   "source": [
    "## NSW temperature"
   ],
   "metadata": {
    "collapsed": false
   },
   "id": "99d38818860ccd38"
  },
  {
   "cell_type": "code",
   "outputs": [],
   "source": [
    "nsw_temperature = pd.read_csv(os.path.join(data_path, 'NSW', 'temperature_nsw.csv'), parse_dates=['DATETIME'], dayfirst=True)"
   ],
   "metadata": {
    "collapsed": false,
    "ExecuteTime": {
     "end_time": "2024-03-14T12:32:43.186593Z",
     "start_time": "2024-03-14T12:32:42.717045Z"
    }
   },
   "id": "b598cb193002a8d4",
   "execution_count": 996
  },
  {
   "cell_type": "code",
   "outputs": [
    {
     "data": {
      "text/plain": "    LOCATION            DATETIME  TEMPERATURE\n0  Bankstown 2010-01-01 00:00:00         23.1\n1  Bankstown 2010-01-01 00:01:00         23.1\n2  Bankstown 2010-01-01 00:30:00         22.9\n3  Bankstown 2010-01-01 00:50:00         22.7\n4  Bankstown 2010-01-01 01:00:00         22.6",
      "text/html": "<div>\n<style scoped>\n    .dataframe tbody tr th:only-of-type {\n        vertical-align: middle;\n    }\n\n    .dataframe tbody tr th {\n        vertical-align: top;\n    }\n\n    .dataframe thead th {\n        text-align: right;\n    }\n</style>\n<table border=\"1\" class=\"dataframe\">\n  <thead>\n    <tr style=\"text-align: right;\">\n      <th></th>\n      <th>LOCATION</th>\n      <th>DATETIME</th>\n      <th>TEMPERATURE</th>\n    </tr>\n  </thead>\n  <tbody>\n    <tr>\n      <th>0</th>\n      <td>Bankstown</td>\n      <td>2010-01-01 00:00:00</td>\n      <td>23.1</td>\n    </tr>\n    <tr>\n      <th>1</th>\n      <td>Bankstown</td>\n      <td>2010-01-01 00:01:00</td>\n      <td>23.1</td>\n    </tr>\n    <tr>\n      <th>2</th>\n      <td>Bankstown</td>\n      <td>2010-01-01 00:30:00</td>\n      <td>22.9</td>\n    </tr>\n    <tr>\n      <th>3</th>\n      <td>Bankstown</td>\n      <td>2010-01-01 00:50:00</td>\n      <td>22.7</td>\n    </tr>\n    <tr>\n      <th>4</th>\n      <td>Bankstown</td>\n      <td>2010-01-01 01:00:00</td>\n      <td>22.6</td>\n    </tr>\n  </tbody>\n</table>\n</div>"
     },
     "execution_count": 997,
     "metadata": {},
     "output_type": "execute_result"
    }
   ],
   "source": [
    "nsw_temperature.head()"
   ],
   "metadata": {
    "collapsed": false,
    "ExecuteTime": {
     "end_time": "2024-03-14T12:32:43.190857Z",
     "start_time": "2024-03-14T12:32:43.187176Z"
    }
   },
   "id": "8db601dfe413b494",
   "execution_count": 997
  },
  {
   "cell_type": "code",
   "outputs": [
    {
     "data": {
      "text/plain": "         LOCATION            DATETIME  TEMPERATURE\n220321  Bankstown 2021-03-17 23:00:00         19.1\n220322  Bankstown 2021-03-17 23:20:00         19.0\n220323  Bankstown 2021-03-17 23:30:00         18.8\n220324  Bankstown 2021-03-17 23:34:00         18.8\n220325  Bankstown 2021-03-18 00:00:00         18.6",
      "text/html": "<div>\n<style scoped>\n    .dataframe tbody tr th:only-of-type {\n        vertical-align: middle;\n    }\n\n    .dataframe tbody tr th {\n        vertical-align: top;\n    }\n\n    .dataframe thead th {\n        text-align: right;\n    }\n</style>\n<table border=\"1\" class=\"dataframe\">\n  <thead>\n    <tr style=\"text-align: right;\">\n      <th></th>\n      <th>LOCATION</th>\n      <th>DATETIME</th>\n      <th>TEMPERATURE</th>\n    </tr>\n  </thead>\n  <tbody>\n    <tr>\n      <th>220321</th>\n      <td>Bankstown</td>\n      <td>2021-03-17 23:00:00</td>\n      <td>19.1</td>\n    </tr>\n    <tr>\n      <th>220322</th>\n      <td>Bankstown</td>\n      <td>2021-03-17 23:20:00</td>\n      <td>19.0</td>\n    </tr>\n    <tr>\n      <th>220323</th>\n      <td>Bankstown</td>\n      <td>2021-03-17 23:30:00</td>\n      <td>18.8</td>\n    </tr>\n    <tr>\n      <th>220324</th>\n      <td>Bankstown</td>\n      <td>2021-03-17 23:34:00</td>\n      <td>18.8</td>\n    </tr>\n    <tr>\n      <th>220325</th>\n      <td>Bankstown</td>\n      <td>2021-03-18 00:00:00</td>\n      <td>18.6</td>\n    </tr>\n  </tbody>\n</table>\n</div>"
     },
     "execution_count": 998,
     "metadata": {},
     "output_type": "execute_result"
    }
   ],
   "source": [
    "nsw_temperature.tail()"
   ],
   "metadata": {
    "collapsed": false,
    "ExecuteTime": {
     "end_time": "2024-03-14T12:32:43.195957Z",
     "start_time": "2024-03-14T12:32:43.191311Z"
    }
   },
   "id": "f393b5cbde7f1e18",
   "execution_count": 998
  },
  {
   "cell_type": "code",
   "outputs": [
    {
     "name": "stdout",
     "output_type": "stream",
     "text": [
      "<class 'pandas.core.frame.DataFrame'>\n",
      "RangeIndex: 220326 entries, 0 to 220325\n",
      "Data columns (total 3 columns):\n",
      " #   Column       Non-Null Count   Dtype         \n",
      "---  ------       --------------   -----         \n",
      " 0   LOCATION     220326 non-null  object        \n",
      " 1   DATETIME     220326 non-null  datetime64[ns]\n",
      " 2   TEMPERATURE  220326 non-null  float64       \n",
      "dtypes: datetime64[ns](1), float64(1), object(1)\n",
      "memory usage: 5.0+ MB\n"
     ]
    }
   ],
   "source": [
    "nsw_temperature.info()"
   ],
   "metadata": {
    "collapsed": false,
    "ExecuteTime": {
     "end_time": "2024-03-14T12:32:43.205583Z",
     "start_time": "2024-03-14T12:32:43.196415Z"
    }
   },
   "id": "613af6013635909e",
   "execution_count": 999
  },
  {
   "cell_type": "code",
   "outputs": [
    {
     "data": {
      "text/plain": "                            DATETIME    TEMPERATURE\ncount                         220326  220326.000000\nmean   2015-08-16 07:59:12.964243712      17.418827\nmin              2010-01-01 00:00:00      -1.300000\n25%              2012-11-02 23:07:30      13.400000\n50%              2015-08-16 13:45:00      17.700000\n75%              2018-06-03 14:22:30      21.300000\nmax              2021-03-18 00:00:00      44.700000\nstd                              NaN       5.849763",
      "text/html": "<div>\n<style scoped>\n    .dataframe tbody tr th:only-of-type {\n        vertical-align: middle;\n    }\n\n    .dataframe tbody tr th {\n        vertical-align: top;\n    }\n\n    .dataframe thead th {\n        text-align: right;\n    }\n</style>\n<table border=\"1\" class=\"dataframe\">\n  <thead>\n    <tr style=\"text-align: right;\">\n      <th></th>\n      <th>DATETIME</th>\n      <th>TEMPERATURE</th>\n    </tr>\n  </thead>\n  <tbody>\n    <tr>\n      <th>count</th>\n      <td>220326</td>\n      <td>220326.000000</td>\n    </tr>\n    <tr>\n      <th>mean</th>\n      <td>2015-08-16 07:59:12.964243712</td>\n      <td>17.418827</td>\n    </tr>\n    <tr>\n      <th>min</th>\n      <td>2010-01-01 00:00:00</td>\n      <td>-1.300000</td>\n    </tr>\n    <tr>\n      <th>25%</th>\n      <td>2012-11-02 23:07:30</td>\n      <td>13.400000</td>\n    </tr>\n    <tr>\n      <th>50%</th>\n      <td>2015-08-16 13:45:00</td>\n      <td>17.700000</td>\n    </tr>\n    <tr>\n      <th>75%</th>\n      <td>2018-06-03 14:22:30</td>\n      <td>21.300000</td>\n    </tr>\n    <tr>\n      <th>max</th>\n      <td>2021-03-18 00:00:00</td>\n      <td>44.700000</td>\n    </tr>\n    <tr>\n      <th>std</th>\n      <td>NaN</td>\n      <td>5.849763</td>\n    </tr>\n  </tbody>\n</table>\n</div>"
     },
     "execution_count": 1000,
     "metadata": {},
     "output_type": "execute_result"
    }
   ],
   "source": [
    "nsw_temperature.describe()"
   ],
   "metadata": {
    "collapsed": false,
    "ExecuteTime": {
     "end_time": "2024-03-14T12:32:43.215319Z",
     "start_time": "2024-03-14T12:32:43.206187Z"
    }
   },
   "id": "464f7f1c4f6b349e",
   "execution_count": 1000
  },
  {
   "cell_type": "code",
   "outputs": [
    {
     "data": {
      "text/plain": "(220326, 3)"
     },
     "execution_count": 1001,
     "metadata": {},
     "output_type": "execute_result"
    }
   ],
   "source": [
    "nsw_temperature.shape"
   ],
   "metadata": {
    "collapsed": false,
    "ExecuteTime": {
     "end_time": "2024-03-14T12:32:43.217670Z",
     "start_time": "2024-03-14T12:32:43.215805Z"
    }
   },
   "id": "c3acba3c6c3c2afa",
   "execution_count": 1001
  },
  {
   "cell_type": "code",
   "outputs": [
    {
     "data": {
      "text/plain": "LOCATION                 Bankstown\nDATETIME       2010-01-01 00:00:00\nTEMPERATURE                   -1.3\ndtype: object"
     },
     "execution_count": 1002,
     "metadata": {},
     "output_type": "execute_result"
    }
   ],
   "source": [
    "nsw_temperature.min()"
   ],
   "metadata": {
    "collapsed": false,
    "ExecuteTime": {
     "end_time": "2024-03-14T12:32:43.227866Z",
     "start_time": "2024-03-14T12:32:43.218124Z"
    }
   },
   "id": "1eec95181ac5e7cb",
   "execution_count": 1002
  },
  {
   "cell_type": "code",
   "outputs": [
    {
     "data": {
      "text/plain": "LOCATION                 Bankstown\nDATETIME       2021-03-18 00:00:00\nTEMPERATURE                   44.7\ndtype: object"
     },
     "execution_count": 1003,
     "metadata": {},
     "output_type": "execute_result"
    }
   ],
   "source": [
    "nsw_temperature.max()"
   ],
   "metadata": {
    "collapsed": false,
    "ExecuteTime": {
     "end_time": "2024-03-14T12:32:43.236943Z",
     "start_time": "2024-03-14T12:32:43.228432Z"
    }
   },
   "id": "795cc9ceb73a1c33",
   "execution_count": 1003
  },
  {
   "cell_type": "code",
   "outputs": [
    {
     "data": {
      "text/plain": "LOCATION       0\nDATETIME       0\nTEMPERATURE    0\ndtype: int64"
     },
     "execution_count": 1004,
     "metadata": {},
     "output_type": "execute_result"
    }
   ],
   "source": [
    "nsw_temperature.isnull().sum()"
   ],
   "metadata": {
    "collapsed": false,
    "ExecuteTime": {
     "end_time": "2024-03-14T12:32:43.244131Z",
     "start_time": "2024-03-14T12:32:43.237396Z"
    }
   },
   "id": "b12a917928cc5bb",
   "execution_count": 1004
  },
  {
   "cell_type": "code",
   "outputs": [
    {
     "data": {
      "text/plain": "LOCATION       0\nDATETIME       0\nTEMPERATURE    0\ndtype: int64"
     },
     "execution_count": 1005,
     "metadata": {},
     "output_type": "execute_result"
    }
   ],
   "source": [
    "nsw_temperature.isna().sum()"
   ],
   "metadata": {
    "collapsed": false,
    "ExecuteTime": {
     "end_time": "2024-03-14T12:32:43.253188Z",
     "start_time": "2024-03-14T12:32:43.244616Z"
    }
   },
   "id": "3a052dc37be7b9da",
   "execution_count": 1005
  },
  {
   "cell_type": "code",
   "outputs": [
    {
     "data": {
      "text/plain": "LOCATION            1\nDATETIME       220313\nTEMPERATURE       439\ndtype: int64"
     },
     "execution_count": 1006,
     "metadata": {},
     "output_type": "execute_result"
    }
   ],
   "source": [
    "nsw_temperature.nunique()"
   ],
   "metadata": {
    "collapsed": false,
    "ExecuteTime": {
     "end_time": "2024-03-14T12:32:43.272477Z",
     "start_time": "2024-03-14T12:32:43.253660Z"
    }
   },
   "id": "940aa95937db4361",
   "execution_count": 1006
  },
  {
   "cell_type": "code",
   "outputs": [
    {
     "data": {
      "text/plain": "LOCATION               object\nDATETIME       datetime64[ns]\nTEMPERATURE           float64\ndtype: object"
     },
     "execution_count": 1007,
     "metadata": {},
     "output_type": "execute_result"
    }
   ],
   "source": [
    "nsw_temperature.dtypes"
   ],
   "metadata": {
    "collapsed": false,
    "ExecuteTime": {
     "end_time": "2024-03-14T12:32:43.275317Z",
     "start_time": "2024-03-14T12:32:43.273027Z"
    }
   },
   "id": "f2e044ccaec071e7",
   "execution_count": 1007
  },
  {
   "cell_type": "markdown",
   "source": [
    "## NSW Total Demand"
   ],
   "metadata": {
    "collapsed": false
   },
   "id": "fddeec55bae13a78"
  },
  {
   "cell_type": "code",
   "outputs": [],
   "source": [
    "nsw_totaldemand = pd.read_csv(os.path.join(data_path, 'NSW', 'totaldemand_nsw.csv'), parse_dates=['DATETIME'], dayfirst=True)"
   ],
   "metadata": {
    "collapsed": false,
    "ExecuteTime": {
     "end_time": "2024-03-14T12:32:43.638095Z",
     "start_time": "2024-03-14T12:32:43.275868Z"
    }
   },
   "id": "520c0d5a18b723db",
   "execution_count": 1008
  },
  {
   "cell_type": "code",
   "outputs": [
    {
     "data": {
      "text/plain": "             DATETIME  TOTALDEMAND REGIONID\n0 2010-01-01 00:00:00      8038.00     NSW1\n1 2010-01-01 00:30:00      7809.31     NSW1\n2 2010-01-01 01:00:00      7483.69     NSW1\n3 2010-01-01 01:30:00      7117.23     NSW1\n4 2010-01-01 02:00:00      6812.03     NSW1",
      "text/html": "<div>\n<style scoped>\n    .dataframe tbody tr th:only-of-type {\n        vertical-align: middle;\n    }\n\n    .dataframe tbody tr th {\n        vertical-align: top;\n    }\n\n    .dataframe thead th {\n        text-align: right;\n    }\n</style>\n<table border=\"1\" class=\"dataframe\">\n  <thead>\n    <tr style=\"text-align: right;\">\n      <th></th>\n      <th>DATETIME</th>\n      <th>TOTALDEMAND</th>\n      <th>REGIONID</th>\n    </tr>\n  </thead>\n  <tbody>\n    <tr>\n      <th>0</th>\n      <td>2010-01-01 00:00:00</td>\n      <td>8038.00</td>\n      <td>NSW1</td>\n    </tr>\n    <tr>\n      <th>1</th>\n      <td>2010-01-01 00:30:00</td>\n      <td>7809.31</td>\n      <td>NSW1</td>\n    </tr>\n    <tr>\n      <th>2</th>\n      <td>2010-01-01 01:00:00</td>\n      <td>7483.69</td>\n      <td>NSW1</td>\n    </tr>\n    <tr>\n      <th>3</th>\n      <td>2010-01-01 01:30:00</td>\n      <td>7117.23</td>\n      <td>NSW1</td>\n    </tr>\n    <tr>\n      <th>4</th>\n      <td>2010-01-01 02:00:00</td>\n      <td>6812.03</td>\n      <td>NSW1</td>\n    </tr>\n  </tbody>\n</table>\n</div>"
     },
     "execution_count": 1009,
     "metadata": {},
     "output_type": "execute_result"
    }
   ],
   "source": [
    "nsw_totaldemand.head()"
   ],
   "metadata": {
    "collapsed": false,
    "ExecuteTime": {
     "end_time": "2024-03-14T12:32:43.642302Z",
     "start_time": "2024-03-14T12:32:43.638692Z"
    }
   },
   "id": "803af382d328c77f",
   "execution_count": 1009
  },
  {
   "cell_type": "code",
   "outputs": [
    {
     "data": {
      "text/plain": "                  DATETIME  TOTALDEMAND REGIONID\n196508 2021-03-17 22:00:00      7419.77     NSW1\n196509 2021-03-17 22:30:00      7417.91     NSW1\n196510 2021-03-17 23:00:00      7287.32     NSW1\n196511 2021-03-17 23:30:00      7172.39     NSW1\n196512 2021-03-18 00:00:00      7094.51     NSW1",
      "text/html": "<div>\n<style scoped>\n    .dataframe tbody tr th:only-of-type {\n        vertical-align: middle;\n    }\n\n    .dataframe tbody tr th {\n        vertical-align: top;\n    }\n\n    .dataframe thead th {\n        text-align: right;\n    }\n</style>\n<table border=\"1\" class=\"dataframe\">\n  <thead>\n    <tr style=\"text-align: right;\">\n      <th></th>\n      <th>DATETIME</th>\n      <th>TOTALDEMAND</th>\n      <th>REGIONID</th>\n    </tr>\n  </thead>\n  <tbody>\n    <tr>\n      <th>196508</th>\n      <td>2021-03-17 22:00:00</td>\n      <td>7419.77</td>\n      <td>NSW1</td>\n    </tr>\n    <tr>\n      <th>196509</th>\n      <td>2021-03-17 22:30:00</td>\n      <td>7417.91</td>\n      <td>NSW1</td>\n    </tr>\n    <tr>\n      <th>196510</th>\n      <td>2021-03-17 23:00:00</td>\n      <td>7287.32</td>\n      <td>NSW1</td>\n    </tr>\n    <tr>\n      <th>196511</th>\n      <td>2021-03-17 23:30:00</td>\n      <td>7172.39</td>\n      <td>NSW1</td>\n    </tr>\n    <tr>\n      <th>196512</th>\n      <td>2021-03-18 00:00:00</td>\n      <td>7094.51</td>\n      <td>NSW1</td>\n    </tr>\n  </tbody>\n</table>\n</div>"
     },
     "execution_count": 1010,
     "metadata": {},
     "output_type": "execute_result"
    }
   ],
   "source": [
    "nsw_totaldemand.tail()"
   ],
   "metadata": {
    "collapsed": false,
    "ExecuteTime": {
     "end_time": "2024-03-14T12:32:43.713476Z",
     "start_time": "2024-03-14T12:32:43.642760Z"
    }
   },
   "id": "6f28b772bf6f0e3d",
   "execution_count": 1010
  },
  {
   "cell_type": "code",
   "outputs": [
    {
     "name": "stdout",
     "output_type": "stream",
     "text": [
      "<class 'pandas.core.frame.DataFrame'>\n",
      "RangeIndex: 196513 entries, 0 to 196512\n",
      "Data columns (total 3 columns):\n",
      " #   Column       Non-Null Count   Dtype         \n",
      "---  ------       --------------   -----         \n",
      " 0   DATETIME     196513 non-null  datetime64[ns]\n",
      " 1   TOTALDEMAND  196513 non-null  float64       \n",
      " 2   REGIONID     196513 non-null  object        \n",
      "dtypes: datetime64[ns](1), float64(1), object(1)\n",
      "memory usage: 4.5+ MB\n"
     ]
    }
   ],
   "source": [
    "nsw_totaldemand.info()"
   ],
   "metadata": {
    "collapsed": false,
    "ExecuteTime": {
     "end_time": "2024-03-14T12:32:43.738172Z",
     "start_time": "2024-03-14T12:32:43.713943Z"
    }
   },
   "id": "1f4d2cfb03fb670b",
   "execution_count": 1011
  },
  {
   "cell_type": "code",
   "outputs": [
    {
     "data": {
      "text/plain": "count    196513.000000\nmean       8113.145859\nstd        1299.532774\nmin        5074.630000\n25%        7150.070000\n50%        8053.230000\n75%        8958.550000\nmax       14579.860000\nName: TOTALDEMAND, dtype: float64"
     },
     "execution_count": 1012,
     "metadata": {},
     "output_type": "execute_result"
    }
   ],
   "source": [
    "nsw_totaldemand['TOTALDEMAND'].describe()"
   ],
   "metadata": {
    "collapsed": false,
    "ExecuteTime": {
     "end_time": "2024-03-14T12:32:43.753064Z",
     "start_time": "2024-03-14T12:32:43.738657Z"
    }
   },
   "id": "22d877c31ac861d3",
   "execution_count": 1012
  },
  {
   "cell_type": "code",
   "outputs": [
    {
     "data": {
      "text/plain": "(196513, 3)"
     },
     "execution_count": 1013,
     "metadata": {},
     "output_type": "execute_result"
    }
   ],
   "source": [
    "nsw_totaldemand.shape"
   ],
   "metadata": {
    "collapsed": false,
    "ExecuteTime": {
     "end_time": "2024-03-14T12:32:43.763671Z",
     "start_time": "2024-03-14T12:32:43.753737Z"
    }
   },
   "id": "7d357c1d8c977aa2",
   "execution_count": 1013
  },
  {
   "cell_type": "code",
   "outputs": [
    {
     "data": {
      "text/plain": "DATETIME       2010-01-01 00:00:00\nTOTALDEMAND                5074.63\nREGIONID                      NSW1\ndtype: object"
     },
     "execution_count": 1014,
     "metadata": {},
     "output_type": "execute_result"
    }
   ],
   "source": [
    "nsw_totaldemand.min()"
   ],
   "metadata": {
    "collapsed": false,
    "ExecuteTime": {
     "end_time": "2024-03-14T12:32:43.782411Z",
     "start_time": "2024-03-14T12:32:43.764484Z"
    }
   },
   "id": "aa26edff9e6bcee9",
   "execution_count": 1014
  },
  {
   "cell_type": "code",
   "outputs": [
    {
     "data": {
      "text/plain": "DATETIME       2021-03-18 00:00:00\nTOTALDEMAND               14579.86\nREGIONID                      NSW1\ndtype: object"
     },
     "execution_count": 1015,
     "metadata": {},
     "output_type": "execute_result"
    }
   ],
   "source": [
    "nsw_totaldemand.max()"
   ],
   "metadata": {
    "collapsed": false,
    "ExecuteTime": {
     "end_time": "2024-03-14T12:32:43.792093Z",
     "start_time": "2024-03-14T12:32:43.782846Z"
    }
   },
   "id": "508d2afe0bd71767",
   "execution_count": 1015
  },
  {
   "cell_type": "code",
   "outputs": [
    {
     "data": {
      "text/plain": "DATETIME       0\nTOTALDEMAND    0\nREGIONID       0\ndtype: int64"
     },
     "execution_count": 1016,
     "metadata": {},
     "output_type": "execute_result"
    }
   ],
   "source": [
    "nsw_totaldemand.isnull().sum()"
   ],
   "metadata": {
    "collapsed": false,
    "ExecuteTime": {
     "end_time": "2024-03-14T12:32:43.801726Z",
     "start_time": "2024-03-14T12:32:43.792734Z"
    }
   },
   "id": "83b3c21f622d2417",
   "execution_count": 1016
  },
  {
   "cell_type": "code",
   "outputs": [
    {
     "data": {
      "text/plain": "DATETIME       0\nTOTALDEMAND    0\nREGIONID       0\ndtype: int64"
     },
     "execution_count": 1017,
     "metadata": {},
     "output_type": "execute_result"
    }
   ],
   "source": [
    "nsw_totaldemand.isna().sum()"
   ],
   "metadata": {
    "collapsed": false,
    "ExecuteTime": {
     "end_time": "2024-03-14T12:32:43.808650Z",
     "start_time": "2024-03-14T12:32:43.802191Z"
    }
   },
   "id": "46c6cf0be4a89d4c",
   "execution_count": 1017
  },
  {
   "cell_type": "code",
   "outputs": [
    {
     "data": {
      "text/plain": "DATETIME       196513\nTOTALDEMAND    160515\nREGIONID            1\ndtype: int64"
     },
     "execution_count": 1018,
     "metadata": {},
     "output_type": "execute_result"
    }
   ],
   "source": [
    "nsw_totaldemand.nunique()"
   ],
   "metadata": {
    "collapsed": false,
    "ExecuteTime": {
     "end_time": "2024-03-14T12:32:43.824170Z",
     "start_time": "2024-03-14T12:32:43.809119Z"
    }
   },
   "id": "af7e24871b188530",
   "execution_count": 1018
  },
  {
   "cell_type": "code",
   "outputs": [
    {
     "data": {
      "text/plain": "DATETIME       datetime64[ns]\nTOTALDEMAND           float64\nREGIONID               object\ndtype: object"
     },
     "execution_count": 1019,
     "metadata": {},
     "output_type": "execute_result"
    }
   ],
   "source": [
    "nsw_totaldemand.dtypes"
   ],
   "metadata": {
    "collapsed": false,
    "ExecuteTime": {
     "end_time": "2024-03-14T12:32:43.827264Z",
     "start_time": "2024-03-14T12:32:43.824747Z"
    }
   },
   "id": "87552e73732bfe1f",
   "execution_count": 1019
  }
 ],
 "metadata": {
  "kernelspec": {
   "display_name": "Python 3",
   "language": "python",
   "name": "python3"
  },
  "language_info": {
   "codemirror_mode": {
    "name": "ipython",
    "version": 2
   },
   "file_extension": ".py",
   "mimetype": "text/x-python",
   "name": "python",
   "nbconvert_exporter": "python",
   "pygments_lexer": "ipython2",
   "version": "2.7.6"
  }
 },
 "nbformat": 4,
 "nbformat_minor": 5
}
