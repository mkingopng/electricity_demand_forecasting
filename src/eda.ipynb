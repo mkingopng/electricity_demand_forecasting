{
 "cells": [
  {
   "cell_type": "code",
   "execution_count": 1072,
   "id": "initial_id",
   "metadata": {
    "collapsed": true,
    "ExecuteTime": {
     "end_time": "2024-03-17T10:29:41.317197Z",
     "start_time": "2024-03-17T10:29:41.314759Z"
    }
   },
   "outputs": [],
   "source": [
    "import pandas as pd\n",
    "import os"
   ]
  },
  {
   "cell_type": "code",
   "outputs": [],
   "source": [
    "data_path = './../data'"
   ],
   "metadata": {
    "collapsed": false,
    "ExecuteTime": {
     "end_time": "2024-03-17T10:29:44.342208Z",
     "start_time": "2024-03-17T10:29:44.340387Z"
    }
   },
   "id": "a2f8fff9d34b72cf",
   "execution_count": 1073
  },
  {
   "cell_type": "markdown",
   "source": [
    "# Table of Contents\n",
    "1. [Victoria Forecast Demand](#1)\n",
    "2. [SA Forecast Demand](#2)\n",
    "3. [QLD Forecast Demand](#3)\n",
    "4. [QLD Temperatures](#4)\n",
    "5. [SA Temperatures](#5)\n",
    "6. [Victoria Temperature](#6)\n",
    "7. [QLD Total Demand](#qld-total-demand)\n",
    "8. [SA Total Demand](#sa-total-demand)\n",
    "9. [Victoria Total Demand](#victoria-total-demand)\n",
    "10. [NSW Forecast Demand](#nsw-forecast-demand)\n",
    "11. [NSW temperature](#nsw-temperature)\n",
    "12. [NSW Total Demand](#nsw-total-demand)\n"
   ],
   "metadata": {
    "collapsed": false
   },
   "id": "e89b4b94139327df"
  },
  {
   "cell_type": "markdown",
   "source": [],
   "metadata": {
    "collapsed": false
   },
   "id": "2d2de0c89e49ba19"
  },
  {
   "cell_type": "markdown",
   "source": [
    "<a id=\"1\"></a>\n",
    "## Victoria Forecast Demand"
   ],
   "metadata": {
    "collapsed": false
   },
   "id": "6c3f17187f74423c"
  },
  {
   "cell_type": "code",
   "outputs": [
    {
     "ename": "FileNotFoundError",
     "evalue": "[Errno 2] No such file or directory: './../data/Australia/a/forecastdemand_vic.csv'",
     "output_type": "error",
     "traceback": [
      "\u001B[0;31m---------------------------------------------------------------------------\u001B[0m",
      "\u001B[0;31mFileNotFoundError\u001B[0m                         Traceback (most recent call last)",
      "File \u001B[0;32m<timed exec>:1\u001B[0m\n",
      "File \u001B[0;32m~/.cache/pypoetry/virtualenvs/team-0-5QTAbJ9E-py3.12/lib/python3.12/site-packages/pandas/io/parsers/readers.py:1026\u001B[0m, in \u001B[0;36mread_csv\u001B[0;34m(filepath_or_buffer, sep, delimiter, header, names, index_col, usecols, dtype, engine, converters, true_values, false_values, skipinitialspace, skiprows, skipfooter, nrows, na_values, keep_default_na, na_filter, verbose, skip_blank_lines, parse_dates, infer_datetime_format, keep_date_col, date_parser, date_format, dayfirst, cache_dates, iterator, chunksize, compression, thousands, decimal, lineterminator, quotechar, quoting, doublequote, escapechar, comment, encoding, encoding_errors, dialect, on_bad_lines, delim_whitespace, low_memory, memory_map, float_precision, storage_options, dtype_backend)\u001B[0m\n\u001B[1;32m   1013\u001B[0m kwds_defaults \u001B[38;5;241m=\u001B[39m _refine_defaults_read(\n\u001B[1;32m   1014\u001B[0m     dialect,\n\u001B[1;32m   1015\u001B[0m     delimiter,\n\u001B[0;32m   (...)\u001B[0m\n\u001B[1;32m   1022\u001B[0m     dtype_backend\u001B[38;5;241m=\u001B[39mdtype_backend,\n\u001B[1;32m   1023\u001B[0m )\n\u001B[1;32m   1024\u001B[0m kwds\u001B[38;5;241m.\u001B[39mupdate(kwds_defaults)\n\u001B[0;32m-> 1026\u001B[0m \u001B[38;5;28;01mreturn\u001B[39;00m \u001B[43m_read\u001B[49m\u001B[43m(\u001B[49m\u001B[43mfilepath_or_buffer\u001B[49m\u001B[43m,\u001B[49m\u001B[43m \u001B[49m\u001B[43mkwds\u001B[49m\u001B[43m)\u001B[49m\n",
      "File \u001B[0;32m~/.cache/pypoetry/virtualenvs/team-0-5QTAbJ9E-py3.12/lib/python3.12/site-packages/pandas/io/parsers/readers.py:620\u001B[0m, in \u001B[0;36m_read\u001B[0;34m(filepath_or_buffer, kwds)\u001B[0m\n\u001B[1;32m    617\u001B[0m _validate_names(kwds\u001B[38;5;241m.\u001B[39mget(\u001B[38;5;124m\"\u001B[39m\u001B[38;5;124mnames\u001B[39m\u001B[38;5;124m\"\u001B[39m, \u001B[38;5;28;01mNone\u001B[39;00m))\n\u001B[1;32m    619\u001B[0m \u001B[38;5;66;03m# Create the parser.\u001B[39;00m\n\u001B[0;32m--> 620\u001B[0m parser \u001B[38;5;241m=\u001B[39m \u001B[43mTextFileReader\u001B[49m\u001B[43m(\u001B[49m\u001B[43mfilepath_or_buffer\u001B[49m\u001B[43m,\u001B[49m\u001B[43m \u001B[49m\u001B[38;5;241;43m*\u001B[39;49m\u001B[38;5;241;43m*\u001B[39;49m\u001B[43mkwds\u001B[49m\u001B[43m)\u001B[49m\n\u001B[1;32m    622\u001B[0m \u001B[38;5;28;01mif\u001B[39;00m chunksize \u001B[38;5;129;01mor\u001B[39;00m iterator:\n\u001B[1;32m    623\u001B[0m     \u001B[38;5;28;01mreturn\u001B[39;00m parser\n",
      "File \u001B[0;32m~/.cache/pypoetry/virtualenvs/team-0-5QTAbJ9E-py3.12/lib/python3.12/site-packages/pandas/io/parsers/readers.py:1620\u001B[0m, in \u001B[0;36mTextFileReader.__init__\u001B[0;34m(self, f, engine, **kwds)\u001B[0m\n\u001B[1;32m   1617\u001B[0m     \u001B[38;5;28mself\u001B[39m\u001B[38;5;241m.\u001B[39moptions[\u001B[38;5;124m\"\u001B[39m\u001B[38;5;124mhas_index_names\u001B[39m\u001B[38;5;124m\"\u001B[39m] \u001B[38;5;241m=\u001B[39m kwds[\u001B[38;5;124m\"\u001B[39m\u001B[38;5;124mhas_index_names\u001B[39m\u001B[38;5;124m\"\u001B[39m]\n\u001B[1;32m   1619\u001B[0m \u001B[38;5;28mself\u001B[39m\u001B[38;5;241m.\u001B[39mhandles: IOHandles \u001B[38;5;241m|\u001B[39m \u001B[38;5;28;01mNone\u001B[39;00m \u001B[38;5;241m=\u001B[39m \u001B[38;5;28;01mNone\u001B[39;00m\n\u001B[0;32m-> 1620\u001B[0m \u001B[38;5;28mself\u001B[39m\u001B[38;5;241m.\u001B[39m_engine \u001B[38;5;241m=\u001B[39m \u001B[38;5;28;43mself\u001B[39;49m\u001B[38;5;241;43m.\u001B[39;49m\u001B[43m_make_engine\u001B[49m\u001B[43m(\u001B[49m\u001B[43mf\u001B[49m\u001B[43m,\u001B[49m\u001B[43m \u001B[49m\u001B[38;5;28;43mself\u001B[39;49m\u001B[38;5;241;43m.\u001B[39;49m\u001B[43mengine\u001B[49m\u001B[43m)\u001B[49m\n",
      "File \u001B[0;32m~/.cache/pypoetry/virtualenvs/team-0-5QTAbJ9E-py3.12/lib/python3.12/site-packages/pandas/io/parsers/readers.py:1880\u001B[0m, in \u001B[0;36mTextFileReader._make_engine\u001B[0;34m(self, f, engine)\u001B[0m\n\u001B[1;32m   1878\u001B[0m     \u001B[38;5;28;01mif\u001B[39;00m \u001B[38;5;124m\"\u001B[39m\u001B[38;5;124mb\u001B[39m\u001B[38;5;124m\"\u001B[39m \u001B[38;5;129;01mnot\u001B[39;00m \u001B[38;5;129;01min\u001B[39;00m mode:\n\u001B[1;32m   1879\u001B[0m         mode \u001B[38;5;241m+\u001B[39m\u001B[38;5;241m=\u001B[39m \u001B[38;5;124m\"\u001B[39m\u001B[38;5;124mb\u001B[39m\u001B[38;5;124m\"\u001B[39m\n\u001B[0;32m-> 1880\u001B[0m \u001B[38;5;28mself\u001B[39m\u001B[38;5;241m.\u001B[39mhandles \u001B[38;5;241m=\u001B[39m \u001B[43mget_handle\u001B[49m\u001B[43m(\u001B[49m\n\u001B[1;32m   1881\u001B[0m \u001B[43m    \u001B[49m\u001B[43mf\u001B[49m\u001B[43m,\u001B[49m\n\u001B[1;32m   1882\u001B[0m \u001B[43m    \u001B[49m\u001B[43mmode\u001B[49m\u001B[43m,\u001B[49m\n\u001B[1;32m   1883\u001B[0m \u001B[43m    \u001B[49m\u001B[43mencoding\u001B[49m\u001B[38;5;241;43m=\u001B[39;49m\u001B[38;5;28;43mself\u001B[39;49m\u001B[38;5;241;43m.\u001B[39;49m\u001B[43moptions\u001B[49m\u001B[38;5;241;43m.\u001B[39;49m\u001B[43mget\u001B[49m\u001B[43m(\u001B[49m\u001B[38;5;124;43m\"\u001B[39;49m\u001B[38;5;124;43mencoding\u001B[39;49m\u001B[38;5;124;43m\"\u001B[39;49m\u001B[43m,\u001B[49m\u001B[43m \u001B[49m\u001B[38;5;28;43;01mNone\u001B[39;49;00m\u001B[43m)\u001B[49m\u001B[43m,\u001B[49m\n\u001B[1;32m   1884\u001B[0m \u001B[43m    \u001B[49m\u001B[43mcompression\u001B[49m\u001B[38;5;241;43m=\u001B[39;49m\u001B[38;5;28;43mself\u001B[39;49m\u001B[38;5;241;43m.\u001B[39;49m\u001B[43moptions\u001B[49m\u001B[38;5;241;43m.\u001B[39;49m\u001B[43mget\u001B[49m\u001B[43m(\u001B[49m\u001B[38;5;124;43m\"\u001B[39;49m\u001B[38;5;124;43mcompression\u001B[39;49m\u001B[38;5;124;43m\"\u001B[39;49m\u001B[43m,\u001B[49m\u001B[43m \u001B[49m\u001B[38;5;28;43;01mNone\u001B[39;49;00m\u001B[43m)\u001B[49m\u001B[43m,\u001B[49m\n\u001B[1;32m   1885\u001B[0m \u001B[43m    \u001B[49m\u001B[43mmemory_map\u001B[49m\u001B[38;5;241;43m=\u001B[39;49m\u001B[38;5;28;43mself\u001B[39;49m\u001B[38;5;241;43m.\u001B[39;49m\u001B[43moptions\u001B[49m\u001B[38;5;241;43m.\u001B[39;49m\u001B[43mget\u001B[49m\u001B[43m(\u001B[49m\u001B[38;5;124;43m\"\u001B[39;49m\u001B[38;5;124;43mmemory_map\u001B[39;49m\u001B[38;5;124;43m\"\u001B[39;49m\u001B[43m,\u001B[49m\u001B[43m \u001B[49m\u001B[38;5;28;43;01mFalse\u001B[39;49;00m\u001B[43m)\u001B[49m\u001B[43m,\u001B[49m\n\u001B[1;32m   1886\u001B[0m \u001B[43m    \u001B[49m\u001B[43mis_text\u001B[49m\u001B[38;5;241;43m=\u001B[39;49m\u001B[43mis_text\u001B[49m\u001B[43m,\u001B[49m\n\u001B[1;32m   1887\u001B[0m \u001B[43m    \u001B[49m\u001B[43merrors\u001B[49m\u001B[38;5;241;43m=\u001B[39;49m\u001B[38;5;28;43mself\u001B[39;49m\u001B[38;5;241;43m.\u001B[39;49m\u001B[43moptions\u001B[49m\u001B[38;5;241;43m.\u001B[39;49m\u001B[43mget\u001B[49m\u001B[43m(\u001B[49m\u001B[38;5;124;43m\"\u001B[39;49m\u001B[38;5;124;43mencoding_errors\u001B[39;49m\u001B[38;5;124;43m\"\u001B[39;49m\u001B[43m,\u001B[49m\u001B[43m \u001B[49m\u001B[38;5;124;43m\"\u001B[39;49m\u001B[38;5;124;43mstrict\u001B[39;49m\u001B[38;5;124;43m\"\u001B[39;49m\u001B[43m)\u001B[49m\u001B[43m,\u001B[49m\n\u001B[1;32m   1888\u001B[0m \u001B[43m    \u001B[49m\u001B[43mstorage_options\u001B[49m\u001B[38;5;241;43m=\u001B[39;49m\u001B[38;5;28;43mself\u001B[39;49m\u001B[38;5;241;43m.\u001B[39;49m\u001B[43moptions\u001B[49m\u001B[38;5;241;43m.\u001B[39;49m\u001B[43mget\u001B[49m\u001B[43m(\u001B[49m\u001B[38;5;124;43m\"\u001B[39;49m\u001B[38;5;124;43mstorage_options\u001B[39;49m\u001B[38;5;124;43m\"\u001B[39;49m\u001B[43m,\u001B[49m\u001B[43m \u001B[49m\u001B[38;5;28;43;01mNone\u001B[39;49;00m\u001B[43m)\u001B[49m\u001B[43m,\u001B[49m\n\u001B[1;32m   1889\u001B[0m \u001B[43m\u001B[49m\u001B[43m)\u001B[49m\n\u001B[1;32m   1890\u001B[0m \u001B[38;5;28;01massert\u001B[39;00m \u001B[38;5;28mself\u001B[39m\u001B[38;5;241m.\u001B[39mhandles \u001B[38;5;129;01mis\u001B[39;00m \u001B[38;5;129;01mnot\u001B[39;00m \u001B[38;5;28;01mNone\u001B[39;00m\n\u001B[1;32m   1891\u001B[0m f \u001B[38;5;241m=\u001B[39m \u001B[38;5;28mself\u001B[39m\u001B[38;5;241m.\u001B[39mhandles\u001B[38;5;241m.\u001B[39mhandle\n",
      "File \u001B[0;32m~/.cache/pypoetry/virtualenvs/team-0-5QTAbJ9E-py3.12/lib/python3.12/site-packages/pandas/io/common.py:873\u001B[0m, in \u001B[0;36mget_handle\u001B[0;34m(path_or_buf, mode, encoding, compression, memory_map, is_text, errors, storage_options)\u001B[0m\n\u001B[1;32m    868\u001B[0m \u001B[38;5;28;01melif\u001B[39;00m \u001B[38;5;28misinstance\u001B[39m(handle, \u001B[38;5;28mstr\u001B[39m):\n\u001B[1;32m    869\u001B[0m     \u001B[38;5;66;03m# Check whether the filename is to be opened in binary mode.\u001B[39;00m\n\u001B[1;32m    870\u001B[0m     \u001B[38;5;66;03m# Binary mode does not support 'encoding' and 'newline'.\u001B[39;00m\n\u001B[1;32m    871\u001B[0m     \u001B[38;5;28;01mif\u001B[39;00m ioargs\u001B[38;5;241m.\u001B[39mencoding \u001B[38;5;129;01mand\u001B[39;00m \u001B[38;5;124m\"\u001B[39m\u001B[38;5;124mb\u001B[39m\u001B[38;5;124m\"\u001B[39m \u001B[38;5;129;01mnot\u001B[39;00m \u001B[38;5;129;01min\u001B[39;00m ioargs\u001B[38;5;241m.\u001B[39mmode:\n\u001B[1;32m    872\u001B[0m         \u001B[38;5;66;03m# Encoding\u001B[39;00m\n\u001B[0;32m--> 873\u001B[0m         handle \u001B[38;5;241m=\u001B[39m \u001B[38;5;28;43mopen\u001B[39;49m\u001B[43m(\u001B[49m\n\u001B[1;32m    874\u001B[0m \u001B[43m            \u001B[49m\u001B[43mhandle\u001B[49m\u001B[43m,\u001B[49m\n\u001B[1;32m    875\u001B[0m \u001B[43m            \u001B[49m\u001B[43mioargs\u001B[49m\u001B[38;5;241;43m.\u001B[39;49m\u001B[43mmode\u001B[49m\u001B[43m,\u001B[49m\n\u001B[1;32m    876\u001B[0m \u001B[43m            \u001B[49m\u001B[43mencoding\u001B[49m\u001B[38;5;241;43m=\u001B[39;49m\u001B[43mioargs\u001B[49m\u001B[38;5;241;43m.\u001B[39;49m\u001B[43mencoding\u001B[49m\u001B[43m,\u001B[49m\n\u001B[1;32m    877\u001B[0m \u001B[43m            \u001B[49m\u001B[43merrors\u001B[49m\u001B[38;5;241;43m=\u001B[39;49m\u001B[43merrors\u001B[49m\u001B[43m,\u001B[49m\n\u001B[1;32m    878\u001B[0m \u001B[43m            \u001B[49m\u001B[43mnewline\u001B[49m\u001B[38;5;241;43m=\u001B[39;49m\u001B[38;5;124;43m\"\u001B[39;49m\u001B[38;5;124;43m\"\u001B[39;49m\u001B[43m,\u001B[49m\n\u001B[1;32m    879\u001B[0m \u001B[43m        \u001B[49m\u001B[43m)\u001B[49m\n\u001B[1;32m    880\u001B[0m     \u001B[38;5;28;01melse\u001B[39;00m:\n\u001B[1;32m    881\u001B[0m         \u001B[38;5;66;03m# Binary mode\u001B[39;00m\n\u001B[1;32m    882\u001B[0m         handle \u001B[38;5;241m=\u001B[39m \u001B[38;5;28mopen\u001B[39m(handle, ioargs\u001B[38;5;241m.\u001B[39mmode)\n",
      "\u001B[0;31mFileNotFoundError\u001B[0m: [Errno 2] No such file or directory: './../data/Australia/a/forecastdemand_vic.csv'"
     ]
    }
   ],
   "source": [
    "%%time\n",
    "vic_forecast_demand = pd.read_csv(os.path.join(data_path, 'Australia', 'a', 'forecastdemand_vic.csv'), parse_dates=['LASTCHANGED', 'DATETIME'])"
   ],
   "metadata": {
    "collapsed": false,
    "ExecuteTime": {
     "end_time": "2024-03-17T10:29:44.504996Z",
     "start_time": "2024-03-17T10:29:44.427420Z"
    }
   },
   "id": "693d10134a52051d",
   "execution_count": 1074
  },
  {
   "cell_type": "code",
   "outputs": [
    {
     "name": "stdout",
     "output_type": "stream",
     "text": [
      "CPU times: user 112 µs, sys: 14 µs, total: 126 µs\n",
      "Wall time: 122 µs\n"
     ]
    },
    {
     "data": {
      "text/plain": "   PREDISPATCHSEQNO REGIONID  PERIODID  FORECASTDEMAND         LASTCHANGED  \\\n0        2016123018     VIC1        71         4160.74 2016-12-30 12:31:25   \n1        2016123018     VIC1        72         3999.64 2016-12-30 12:31:25   \n2        2016123018     VIC1        73         3836.30 2016-12-30 12:31:25   \n3        2016123018     VIC1        74         3681.87 2016-12-30 12:31:25   \n4        2016123018     VIC1        75         3457.38 2016-12-30 12:31:25   \n\n             DATETIME  \n0 2017-01-01 00:00:00  \n1 2017-01-01 00:30:00  \n2 2017-01-01 01:00:00  \n3 2017-01-01 01:30:00  \n4 2017-01-01 02:00:00  ",
      "text/html": "<div>\n<style scoped>\n    .dataframe tbody tr th:only-of-type {\n        vertical-align: middle;\n    }\n\n    .dataframe tbody tr th {\n        vertical-align: top;\n    }\n\n    .dataframe thead th {\n        text-align: right;\n    }\n</style>\n<table border=\"1\" class=\"dataframe\">\n  <thead>\n    <tr style=\"text-align: right;\">\n      <th></th>\n      <th>PREDISPATCHSEQNO</th>\n      <th>REGIONID</th>\n      <th>PERIODID</th>\n      <th>FORECASTDEMAND</th>\n      <th>LASTCHANGED</th>\n      <th>DATETIME</th>\n    </tr>\n  </thead>\n  <tbody>\n    <tr>\n      <th>0</th>\n      <td>2016123018</td>\n      <td>VIC1</td>\n      <td>71</td>\n      <td>4160.74</td>\n      <td>2016-12-30 12:31:25</td>\n      <td>2017-01-01 00:00:00</td>\n    </tr>\n    <tr>\n      <th>1</th>\n      <td>2016123018</td>\n      <td>VIC1</td>\n      <td>72</td>\n      <td>3999.64</td>\n      <td>2016-12-30 12:31:25</td>\n      <td>2017-01-01 00:30:00</td>\n    </tr>\n    <tr>\n      <th>2</th>\n      <td>2016123018</td>\n      <td>VIC1</td>\n      <td>73</td>\n      <td>3836.30</td>\n      <td>2016-12-30 12:31:25</td>\n      <td>2017-01-01 01:00:00</td>\n    </tr>\n    <tr>\n      <th>3</th>\n      <td>2016123018</td>\n      <td>VIC1</td>\n      <td>74</td>\n      <td>3681.87</td>\n      <td>2016-12-30 12:31:25</td>\n      <td>2017-01-01 01:30:00</td>\n    </tr>\n    <tr>\n      <th>4</th>\n      <td>2016123018</td>\n      <td>VIC1</td>\n      <td>75</td>\n      <td>3457.38</td>\n      <td>2016-12-30 12:31:25</td>\n      <td>2017-01-01 02:00:00</td>\n    </tr>\n  </tbody>\n</table>\n</div>"
     },
     "execution_count": 1075,
     "metadata": {},
     "output_type": "execute_result"
    }
   ],
   "source": [
    "%%time\n",
    "vic_forecast_demand.head()"
   ],
   "metadata": {
    "collapsed": false,
    "ExecuteTime": {
     "end_time": "2024-03-17T10:29:44.510868Z",
     "start_time": "2024-03-17T10:29:44.505850Z"
    }
   },
   "id": "4995830024a0bb03",
   "execution_count": 1075
  },
  {
   "cell_type": "code",
   "outputs": [
    {
     "name": "stdout",
     "output_type": "stream",
     "text": [
      "<class 'pandas.core.frame.DataFrame'>\n",
      "RangeIndex: 4095592 entries, 0 to 4095591\n",
      "Data columns (total 6 columns):\n",
      " #   Column            Dtype         \n",
      "---  ------            -----         \n",
      " 0   PREDISPATCHSEQNO  int64         \n",
      " 1   REGIONID          object        \n",
      " 2   PERIODID          int64         \n",
      " 3   FORECASTDEMAND    float64       \n",
      " 4   LASTCHANGED       datetime64[ns]\n",
      " 5   DATETIME          datetime64[ns]\n",
      "dtypes: datetime64[ns](2), float64(1), int64(2), object(1)\n",
      "memory usage: 187.5+ MB\n",
      "CPU times: user 1.53 ms, sys: 186 µs, total: 1.71 ms\n",
      "Wall time: 1.64 ms\n"
     ]
    }
   ],
   "source": [
    "%%time\n",
    "vic_forecast_demand.info()"
   ],
   "metadata": {
    "collapsed": false,
    "ExecuteTime": {
     "end_time": "2024-03-17T10:29:44.572967Z",
     "start_time": "2024-03-17T10:29:44.569315Z"
    }
   },
   "id": "994dbcc22219a50e",
   "execution_count": 1076
  },
  {
   "cell_type": "code",
   "outputs": [
    {
     "name": "stdout",
     "output_type": "stream",
     "text": [
      "CPU times: user 76.8 ms, sys: 0 ns, total: 76.8 ms\n",
      "Wall time: 76.1 ms\n"
     ]
    },
    {
     "data": {
      "text/plain": "count    4.095592e+06\nmean     4.862913e+03\nstd      8.704415e+02\nmin      2.354240e+03\n25%      4.213920e+03\n50%      4.749945e+03\n75%      5.383632e+03\nmax      9.738030e+03\nName: FORECASTDEMAND, dtype: float64"
     },
     "execution_count": 1077,
     "metadata": {},
     "output_type": "execute_result"
    }
   ],
   "source": [
    "%%time\n",
    "vic_forecast_demand['FORECASTDEMAND'].describe()"
   ],
   "metadata": {
    "collapsed": false,
    "ExecuteTime": {
     "end_time": "2024-03-17T10:29:44.747888Z",
     "start_time": "2024-03-17T10:29:44.668679Z"
    }
   },
   "id": "f108624efb1f314e",
   "execution_count": 1077
  },
  {
   "cell_type": "code",
   "outputs": [
    {
     "name": "stdout",
     "output_type": "stream",
     "text": [
      "CPU times: user 11 µs, sys: 1e+03 ns, total: 12 µs\n",
      "Wall time: 14.1 µs\n"
     ]
    },
    {
     "data": {
      "text/plain": "(4095592, 6)"
     },
     "execution_count": 1078,
     "metadata": {},
     "output_type": "execute_result"
    }
   ],
   "source": [
    "%%time\n",
    "vic_forecast_demand.shape"
   ],
   "metadata": {
    "collapsed": false,
    "ExecuteTime": {
     "end_time": "2024-03-17T10:29:44.786491Z",
     "start_time": "2024-03-17T10:29:44.783924Z"
    }
   },
   "id": "6d5cf7f3a7110617",
   "execution_count": 1078
  },
  {
   "cell_type": "code",
   "outputs": [
    {
     "name": "stdout",
     "output_type": "stream",
     "text": [
      "CPU times: user 141 ms, sys: 150 µs, total: 141 ms\n",
      "Wall time: 141 ms\n"
     ]
    },
    {
     "data": {
      "text/plain": "PREDISPATCHSEQNO             2016123018\nREGIONID                           VIC1\nPERIODID                              1\nFORECASTDEMAND                  2354.24\nLASTCHANGED         2016-12-30 12:31:25\nDATETIME            2017-01-01 00:00:00\ndtype: object"
     },
     "execution_count": 1079,
     "metadata": {},
     "output_type": "execute_result"
    }
   ],
   "source": [
    "%%time\n",
    "vic_forecast_demand.min()"
   ],
   "metadata": {
    "collapsed": false,
    "ExecuteTime": {
     "end_time": "2024-03-17T10:29:45.006093Z",
     "start_time": "2024-03-17T10:29:44.862116Z"
    }
   },
   "id": "911135ec51ed1cec",
   "execution_count": 1079
  },
  {
   "cell_type": "code",
   "outputs": [
    {
     "name": "stdout",
     "output_type": "stream",
     "text": [
      "CPU times: user 140 ms, sys: 0 ns, total: 140 ms\n",
      "Wall time: 139 ms\n"
     ]
    },
    {
     "data": {
      "text/plain": "PREDISPATCHSEQNO             2021031740\nREGIONID                           VIC1\nPERIODID                             79\nFORECASTDEMAND                  9738.03\nLASTCHANGED         2021-03-17 23:31:33\nDATETIME            2021-03-19 04:00:00\ndtype: object"
     },
     "execution_count": 1080,
     "metadata": {},
     "output_type": "execute_result"
    }
   ],
   "source": [
    "%%time\n",
    "vic_forecast_demand.max()"
   ],
   "metadata": {
    "collapsed": false,
    "ExecuteTime": {
     "end_time": "2024-03-17T10:29:45.148886Z",
     "start_time": "2024-03-17T10:29:45.006873Z"
    }
   },
   "id": "4d29ea3ecf3d1a83",
   "execution_count": 1080
  },
  {
   "cell_type": "markdown",
   "source": [
    "check for nulls"
   ],
   "metadata": {
    "collapsed": false
   },
   "id": "8b736b1ec16a363"
  },
  {
   "cell_type": "code",
   "outputs": [
    {
     "name": "stdout",
     "output_type": "stream",
     "text": [
      "CPU times: user 90 ms, sys: 519 µs, total: 90.6 ms\n",
      "Wall time: 89.9 ms\n"
     ]
    },
    {
     "data": {
      "text/plain": "PREDISPATCHSEQNO    0\nREGIONID            0\nPERIODID            0\nFORECASTDEMAND      0\nLASTCHANGED         0\nDATETIME            0\ndtype: int64"
     },
     "execution_count": 1081,
     "metadata": {},
     "output_type": "execute_result"
    }
   ],
   "source": [
    "%%time\n",
    "vic_forecast_demand.isnull().sum()"
   ],
   "metadata": {
    "collapsed": false,
    "ExecuteTime": {
     "end_time": "2024-03-17T10:29:45.242149Z",
     "start_time": "2024-03-17T10:29:45.149570Z"
    }
   },
   "id": "7839a3208008a160",
   "execution_count": 1081
  },
  {
   "cell_type": "code",
   "outputs": [
    {
     "name": "stdout",
     "output_type": "stream",
     "text": [
      "CPU times: user 90.7 ms, sys: 203 µs, total: 90.9 ms\n",
      "Wall time: 90 ms\n"
     ]
    },
    {
     "data": {
      "text/plain": "PREDISPATCHSEQNO    0\nREGIONID            0\nPERIODID            0\nFORECASTDEMAND      0\nLASTCHANGED         0\nDATETIME            0\ndtype: int64"
     },
     "execution_count": 1082,
     "metadata": {},
     "output_type": "execute_result"
    }
   ],
   "source": [
    "%%time\n",
    "vic_forecast_demand.isna().sum()"
   ],
   "metadata": {
    "collapsed": false,
    "ExecuteTime": {
     "end_time": "2024-03-17T10:29:45.335418Z",
     "start_time": "2024-03-17T10:29:45.242779Z"
    }
   },
   "id": "d5d2e341feb4827b",
   "execution_count": 1082
  },
  {
   "cell_type": "markdown",
   "source": [
    "number of unique values"
   ],
   "metadata": {
    "collapsed": false
   },
   "id": "f78f7addd9456b13"
  },
  {
   "cell_type": "code",
   "outputs": [
    {
     "data": {
      "text/plain": "PREDISPATCHSEQNO     73836\nREGIONID                 1\nPERIODID                79\nFORECASTDEMAND      430091\nLASTCHANGED          73836\nDATETIME             73833\ndtype: int64"
     },
     "execution_count": 1083,
     "metadata": {},
     "output_type": "execute_result"
    }
   ],
   "source": [
    "vic_forecast_demand.nunique()"
   ],
   "metadata": {
    "collapsed": false,
    "ExecuteTime": {
     "end_time": "2024-03-17T10:29:45.541041Z",
     "start_time": "2024-03-17T10:29:45.336149Z"
    }
   },
   "id": "79810cf215c482db",
   "execution_count": 1083
  },
  {
   "cell_type": "markdown",
   "source": [
    "check for regular intervals"
   ],
   "metadata": {
    "collapsed": false
   },
   "id": "34de60dacd1c7ab5"
  },
  {
   "cell_type": "markdown",
   "source": [
    "checking timestamps"
   ],
   "metadata": {
    "collapsed": false
   },
   "id": "d9e5a12dabd58905"
  },
  {
   "cell_type": "markdown",
   "source": [
    "visual inspection"
   ],
   "metadata": {
    "collapsed": false
   },
   "id": "47a28caa78a668b4"
  },
  {
   "cell_type": "markdown",
   "source": [
    "check data types & do required conversions"
   ],
   "metadata": {
    "collapsed": false
   },
   "id": "87a5a4235bd05d51"
  },
  {
   "cell_type": "markdown",
   "source": [
    "check time stamps"
   ],
   "metadata": {
    "collapsed": false
   },
   "id": "13a853dbf7d11e36"
  },
  {
   "cell_type": "markdown",
   "source": [
    "<a id=\"2\"></a>\n",
    "## SA Forecast Demand"
   ],
   "metadata": {
    "collapsed": false
   },
   "id": "75a633fdee928fc0"
  },
  {
   "cell_type": "code",
   "outputs": [
    {
     "ename": "FileNotFoundError",
     "evalue": "[Errno 2] No such file or directory: './../data/Australia/b/forecastdemand_sa.csv'",
     "output_type": "error",
     "traceback": [
      "\u001B[0;31m---------------------------------------------------------------------------\u001B[0m",
      "\u001B[0;31mFileNotFoundError\u001B[0m                         Traceback (most recent call last)",
      "File \u001B[0;32m<timed exec>:1\u001B[0m\n",
      "File \u001B[0;32m~/.cache/pypoetry/virtualenvs/team-0-5QTAbJ9E-py3.12/lib/python3.12/site-packages/pandas/io/parsers/readers.py:1026\u001B[0m, in \u001B[0;36mread_csv\u001B[0;34m(filepath_or_buffer, sep, delimiter, header, names, index_col, usecols, dtype, engine, converters, true_values, false_values, skipinitialspace, skiprows, skipfooter, nrows, na_values, keep_default_na, na_filter, verbose, skip_blank_lines, parse_dates, infer_datetime_format, keep_date_col, date_parser, date_format, dayfirst, cache_dates, iterator, chunksize, compression, thousands, decimal, lineterminator, quotechar, quoting, doublequote, escapechar, comment, encoding, encoding_errors, dialect, on_bad_lines, delim_whitespace, low_memory, memory_map, float_precision, storage_options, dtype_backend)\u001B[0m\n\u001B[1;32m   1013\u001B[0m kwds_defaults \u001B[38;5;241m=\u001B[39m _refine_defaults_read(\n\u001B[1;32m   1014\u001B[0m     dialect,\n\u001B[1;32m   1015\u001B[0m     delimiter,\n\u001B[0;32m   (...)\u001B[0m\n\u001B[1;32m   1022\u001B[0m     dtype_backend\u001B[38;5;241m=\u001B[39mdtype_backend,\n\u001B[1;32m   1023\u001B[0m )\n\u001B[1;32m   1024\u001B[0m kwds\u001B[38;5;241m.\u001B[39mupdate(kwds_defaults)\n\u001B[0;32m-> 1026\u001B[0m \u001B[38;5;28;01mreturn\u001B[39;00m \u001B[43m_read\u001B[49m\u001B[43m(\u001B[49m\u001B[43mfilepath_or_buffer\u001B[49m\u001B[43m,\u001B[49m\u001B[43m \u001B[49m\u001B[43mkwds\u001B[49m\u001B[43m)\u001B[49m\n",
      "File \u001B[0;32m~/.cache/pypoetry/virtualenvs/team-0-5QTAbJ9E-py3.12/lib/python3.12/site-packages/pandas/io/parsers/readers.py:620\u001B[0m, in \u001B[0;36m_read\u001B[0;34m(filepath_or_buffer, kwds)\u001B[0m\n\u001B[1;32m    617\u001B[0m _validate_names(kwds\u001B[38;5;241m.\u001B[39mget(\u001B[38;5;124m\"\u001B[39m\u001B[38;5;124mnames\u001B[39m\u001B[38;5;124m\"\u001B[39m, \u001B[38;5;28;01mNone\u001B[39;00m))\n\u001B[1;32m    619\u001B[0m \u001B[38;5;66;03m# Create the parser.\u001B[39;00m\n\u001B[0;32m--> 620\u001B[0m parser \u001B[38;5;241m=\u001B[39m \u001B[43mTextFileReader\u001B[49m\u001B[43m(\u001B[49m\u001B[43mfilepath_or_buffer\u001B[49m\u001B[43m,\u001B[49m\u001B[43m \u001B[49m\u001B[38;5;241;43m*\u001B[39;49m\u001B[38;5;241;43m*\u001B[39;49m\u001B[43mkwds\u001B[49m\u001B[43m)\u001B[49m\n\u001B[1;32m    622\u001B[0m \u001B[38;5;28;01mif\u001B[39;00m chunksize \u001B[38;5;129;01mor\u001B[39;00m iterator:\n\u001B[1;32m    623\u001B[0m     \u001B[38;5;28;01mreturn\u001B[39;00m parser\n",
      "File \u001B[0;32m~/.cache/pypoetry/virtualenvs/team-0-5QTAbJ9E-py3.12/lib/python3.12/site-packages/pandas/io/parsers/readers.py:1620\u001B[0m, in \u001B[0;36mTextFileReader.__init__\u001B[0;34m(self, f, engine, **kwds)\u001B[0m\n\u001B[1;32m   1617\u001B[0m     \u001B[38;5;28mself\u001B[39m\u001B[38;5;241m.\u001B[39moptions[\u001B[38;5;124m\"\u001B[39m\u001B[38;5;124mhas_index_names\u001B[39m\u001B[38;5;124m\"\u001B[39m] \u001B[38;5;241m=\u001B[39m kwds[\u001B[38;5;124m\"\u001B[39m\u001B[38;5;124mhas_index_names\u001B[39m\u001B[38;5;124m\"\u001B[39m]\n\u001B[1;32m   1619\u001B[0m \u001B[38;5;28mself\u001B[39m\u001B[38;5;241m.\u001B[39mhandles: IOHandles \u001B[38;5;241m|\u001B[39m \u001B[38;5;28;01mNone\u001B[39;00m \u001B[38;5;241m=\u001B[39m \u001B[38;5;28;01mNone\u001B[39;00m\n\u001B[0;32m-> 1620\u001B[0m \u001B[38;5;28mself\u001B[39m\u001B[38;5;241m.\u001B[39m_engine \u001B[38;5;241m=\u001B[39m \u001B[38;5;28;43mself\u001B[39;49m\u001B[38;5;241;43m.\u001B[39;49m\u001B[43m_make_engine\u001B[49m\u001B[43m(\u001B[49m\u001B[43mf\u001B[49m\u001B[43m,\u001B[49m\u001B[43m \u001B[49m\u001B[38;5;28;43mself\u001B[39;49m\u001B[38;5;241;43m.\u001B[39;49m\u001B[43mengine\u001B[49m\u001B[43m)\u001B[49m\n",
      "File \u001B[0;32m~/.cache/pypoetry/virtualenvs/team-0-5QTAbJ9E-py3.12/lib/python3.12/site-packages/pandas/io/parsers/readers.py:1880\u001B[0m, in \u001B[0;36mTextFileReader._make_engine\u001B[0;34m(self, f, engine)\u001B[0m\n\u001B[1;32m   1878\u001B[0m     \u001B[38;5;28;01mif\u001B[39;00m \u001B[38;5;124m\"\u001B[39m\u001B[38;5;124mb\u001B[39m\u001B[38;5;124m\"\u001B[39m \u001B[38;5;129;01mnot\u001B[39;00m \u001B[38;5;129;01min\u001B[39;00m mode:\n\u001B[1;32m   1879\u001B[0m         mode \u001B[38;5;241m+\u001B[39m\u001B[38;5;241m=\u001B[39m \u001B[38;5;124m\"\u001B[39m\u001B[38;5;124mb\u001B[39m\u001B[38;5;124m\"\u001B[39m\n\u001B[0;32m-> 1880\u001B[0m \u001B[38;5;28mself\u001B[39m\u001B[38;5;241m.\u001B[39mhandles \u001B[38;5;241m=\u001B[39m \u001B[43mget_handle\u001B[49m\u001B[43m(\u001B[49m\n\u001B[1;32m   1881\u001B[0m \u001B[43m    \u001B[49m\u001B[43mf\u001B[49m\u001B[43m,\u001B[49m\n\u001B[1;32m   1882\u001B[0m \u001B[43m    \u001B[49m\u001B[43mmode\u001B[49m\u001B[43m,\u001B[49m\n\u001B[1;32m   1883\u001B[0m \u001B[43m    \u001B[49m\u001B[43mencoding\u001B[49m\u001B[38;5;241;43m=\u001B[39;49m\u001B[38;5;28;43mself\u001B[39;49m\u001B[38;5;241;43m.\u001B[39;49m\u001B[43moptions\u001B[49m\u001B[38;5;241;43m.\u001B[39;49m\u001B[43mget\u001B[49m\u001B[43m(\u001B[49m\u001B[38;5;124;43m\"\u001B[39;49m\u001B[38;5;124;43mencoding\u001B[39;49m\u001B[38;5;124;43m\"\u001B[39;49m\u001B[43m,\u001B[49m\u001B[43m \u001B[49m\u001B[38;5;28;43;01mNone\u001B[39;49;00m\u001B[43m)\u001B[49m\u001B[43m,\u001B[49m\n\u001B[1;32m   1884\u001B[0m \u001B[43m    \u001B[49m\u001B[43mcompression\u001B[49m\u001B[38;5;241;43m=\u001B[39;49m\u001B[38;5;28;43mself\u001B[39;49m\u001B[38;5;241;43m.\u001B[39;49m\u001B[43moptions\u001B[49m\u001B[38;5;241;43m.\u001B[39;49m\u001B[43mget\u001B[49m\u001B[43m(\u001B[49m\u001B[38;5;124;43m\"\u001B[39;49m\u001B[38;5;124;43mcompression\u001B[39;49m\u001B[38;5;124;43m\"\u001B[39;49m\u001B[43m,\u001B[49m\u001B[43m \u001B[49m\u001B[38;5;28;43;01mNone\u001B[39;49;00m\u001B[43m)\u001B[49m\u001B[43m,\u001B[49m\n\u001B[1;32m   1885\u001B[0m \u001B[43m    \u001B[49m\u001B[43mmemory_map\u001B[49m\u001B[38;5;241;43m=\u001B[39;49m\u001B[38;5;28;43mself\u001B[39;49m\u001B[38;5;241;43m.\u001B[39;49m\u001B[43moptions\u001B[49m\u001B[38;5;241;43m.\u001B[39;49m\u001B[43mget\u001B[49m\u001B[43m(\u001B[49m\u001B[38;5;124;43m\"\u001B[39;49m\u001B[38;5;124;43mmemory_map\u001B[39;49m\u001B[38;5;124;43m\"\u001B[39;49m\u001B[43m,\u001B[49m\u001B[43m \u001B[49m\u001B[38;5;28;43;01mFalse\u001B[39;49;00m\u001B[43m)\u001B[49m\u001B[43m,\u001B[49m\n\u001B[1;32m   1886\u001B[0m \u001B[43m    \u001B[49m\u001B[43mis_text\u001B[49m\u001B[38;5;241;43m=\u001B[39;49m\u001B[43mis_text\u001B[49m\u001B[43m,\u001B[49m\n\u001B[1;32m   1887\u001B[0m \u001B[43m    \u001B[49m\u001B[43merrors\u001B[49m\u001B[38;5;241;43m=\u001B[39;49m\u001B[38;5;28;43mself\u001B[39;49m\u001B[38;5;241;43m.\u001B[39;49m\u001B[43moptions\u001B[49m\u001B[38;5;241;43m.\u001B[39;49m\u001B[43mget\u001B[49m\u001B[43m(\u001B[49m\u001B[38;5;124;43m\"\u001B[39;49m\u001B[38;5;124;43mencoding_errors\u001B[39;49m\u001B[38;5;124;43m\"\u001B[39;49m\u001B[43m,\u001B[49m\u001B[43m \u001B[49m\u001B[38;5;124;43m\"\u001B[39;49m\u001B[38;5;124;43mstrict\u001B[39;49m\u001B[38;5;124;43m\"\u001B[39;49m\u001B[43m)\u001B[49m\u001B[43m,\u001B[49m\n\u001B[1;32m   1888\u001B[0m \u001B[43m    \u001B[49m\u001B[43mstorage_options\u001B[49m\u001B[38;5;241;43m=\u001B[39;49m\u001B[38;5;28;43mself\u001B[39;49m\u001B[38;5;241;43m.\u001B[39;49m\u001B[43moptions\u001B[49m\u001B[38;5;241;43m.\u001B[39;49m\u001B[43mget\u001B[49m\u001B[43m(\u001B[49m\u001B[38;5;124;43m\"\u001B[39;49m\u001B[38;5;124;43mstorage_options\u001B[39;49m\u001B[38;5;124;43m\"\u001B[39;49m\u001B[43m,\u001B[49m\u001B[43m \u001B[49m\u001B[38;5;28;43;01mNone\u001B[39;49;00m\u001B[43m)\u001B[49m\u001B[43m,\u001B[49m\n\u001B[1;32m   1889\u001B[0m \u001B[43m\u001B[49m\u001B[43m)\u001B[49m\n\u001B[1;32m   1890\u001B[0m \u001B[38;5;28;01massert\u001B[39;00m \u001B[38;5;28mself\u001B[39m\u001B[38;5;241m.\u001B[39mhandles \u001B[38;5;129;01mis\u001B[39;00m \u001B[38;5;129;01mnot\u001B[39;00m \u001B[38;5;28;01mNone\u001B[39;00m\n\u001B[1;32m   1891\u001B[0m f \u001B[38;5;241m=\u001B[39m \u001B[38;5;28mself\u001B[39m\u001B[38;5;241m.\u001B[39mhandles\u001B[38;5;241m.\u001B[39mhandle\n",
      "File \u001B[0;32m~/.cache/pypoetry/virtualenvs/team-0-5QTAbJ9E-py3.12/lib/python3.12/site-packages/pandas/io/common.py:873\u001B[0m, in \u001B[0;36mget_handle\u001B[0;34m(path_or_buf, mode, encoding, compression, memory_map, is_text, errors, storage_options)\u001B[0m\n\u001B[1;32m    868\u001B[0m \u001B[38;5;28;01melif\u001B[39;00m \u001B[38;5;28misinstance\u001B[39m(handle, \u001B[38;5;28mstr\u001B[39m):\n\u001B[1;32m    869\u001B[0m     \u001B[38;5;66;03m# Check whether the filename is to be opened in binary mode.\u001B[39;00m\n\u001B[1;32m    870\u001B[0m     \u001B[38;5;66;03m# Binary mode does not support 'encoding' and 'newline'.\u001B[39;00m\n\u001B[1;32m    871\u001B[0m     \u001B[38;5;28;01mif\u001B[39;00m ioargs\u001B[38;5;241m.\u001B[39mencoding \u001B[38;5;129;01mand\u001B[39;00m \u001B[38;5;124m\"\u001B[39m\u001B[38;5;124mb\u001B[39m\u001B[38;5;124m\"\u001B[39m \u001B[38;5;129;01mnot\u001B[39;00m \u001B[38;5;129;01min\u001B[39;00m ioargs\u001B[38;5;241m.\u001B[39mmode:\n\u001B[1;32m    872\u001B[0m         \u001B[38;5;66;03m# Encoding\u001B[39;00m\n\u001B[0;32m--> 873\u001B[0m         handle \u001B[38;5;241m=\u001B[39m \u001B[38;5;28;43mopen\u001B[39;49m\u001B[43m(\u001B[49m\n\u001B[1;32m    874\u001B[0m \u001B[43m            \u001B[49m\u001B[43mhandle\u001B[49m\u001B[43m,\u001B[49m\n\u001B[1;32m    875\u001B[0m \u001B[43m            \u001B[49m\u001B[43mioargs\u001B[49m\u001B[38;5;241;43m.\u001B[39;49m\u001B[43mmode\u001B[49m\u001B[43m,\u001B[49m\n\u001B[1;32m    876\u001B[0m \u001B[43m            \u001B[49m\u001B[43mencoding\u001B[49m\u001B[38;5;241;43m=\u001B[39;49m\u001B[43mioargs\u001B[49m\u001B[38;5;241;43m.\u001B[39;49m\u001B[43mencoding\u001B[49m\u001B[43m,\u001B[49m\n\u001B[1;32m    877\u001B[0m \u001B[43m            \u001B[49m\u001B[43merrors\u001B[49m\u001B[38;5;241;43m=\u001B[39;49m\u001B[43merrors\u001B[49m\u001B[43m,\u001B[49m\n\u001B[1;32m    878\u001B[0m \u001B[43m            \u001B[49m\u001B[43mnewline\u001B[49m\u001B[38;5;241;43m=\u001B[39;49m\u001B[38;5;124;43m\"\u001B[39;49m\u001B[38;5;124;43m\"\u001B[39;49m\u001B[43m,\u001B[49m\n\u001B[1;32m    879\u001B[0m \u001B[43m        \u001B[49m\u001B[43m)\u001B[49m\n\u001B[1;32m    880\u001B[0m     \u001B[38;5;28;01melse\u001B[39;00m:\n\u001B[1;32m    881\u001B[0m         \u001B[38;5;66;03m# Binary mode\u001B[39;00m\n\u001B[1;32m    882\u001B[0m         handle \u001B[38;5;241m=\u001B[39m \u001B[38;5;28mopen\u001B[39m(handle, ioargs\u001B[38;5;241m.\u001B[39mmode)\n",
      "\u001B[0;31mFileNotFoundError\u001B[0m: [Errno 2] No such file or directory: './../data/Australia/b/forecastdemand_sa.csv'"
     ]
    }
   ],
   "source": [
    "%%time\n",
    "sa_forecast_demand = pd.read_csv(os.path.join(data_path, 'Australia', 'b', 'forecastdemand_sa.csv'), parse_dates=['LASTCHANGED', 'DATETIME'])"
   ],
   "metadata": {
    "collapsed": false,
    "ExecuteTime": {
     "end_time": "2024-03-17T10:29:45.582896Z",
     "start_time": "2024-03-17T10:29:45.541751Z"
    }
   },
   "id": "5dafe7e46f0e5720",
   "execution_count": 1084
  },
  {
   "cell_type": "code",
   "outputs": [
    {
     "name": "stdout",
     "output_type": "stream",
     "text": [
      "CPU times: user 102 µs, sys: 0 ns, total: 102 µs\n",
      "Wall time: 100 µs\n"
     ]
    },
    {
     "data": {
      "text/plain": "   PREDISPATCHSEQNO REGIONID  PERIODID  FORECASTDEMAND         LASTCHANGED  \\\n0        2016123018      SA1        71         1394.41 2016-12-30 12:31:25   \n1        2016123018      SA1        72         1285.07 2016-12-30 12:31:25   \n2        2016123018      SA1        73         1221.70 2016-12-30 12:31:25   \n3        2016123018      SA1        74         1141.86 2016-12-30 12:31:25   \n4        2016123018      SA1        75         1087.78 2016-12-30 12:31:25   \n\n             DATETIME  \n0 2017-01-01 00:00:00  \n1 2017-01-01 00:30:00  \n2 2017-01-01 01:00:00  \n3 2017-01-01 01:30:00  \n4 2017-01-01 02:00:00  ",
      "text/html": "<div>\n<style scoped>\n    .dataframe tbody tr th:only-of-type {\n        vertical-align: middle;\n    }\n\n    .dataframe tbody tr th {\n        vertical-align: top;\n    }\n\n    .dataframe thead th {\n        text-align: right;\n    }\n</style>\n<table border=\"1\" class=\"dataframe\">\n  <thead>\n    <tr style=\"text-align: right;\">\n      <th></th>\n      <th>PREDISPATCHSEQNO</th>\n      <th>REGIONID</th>\n      <th>PERIODID</th>\n      <th>FORECASTDEMAND</th>\n      <th>LASTCHANGED</th>\n      <th>DATETIME</th>\n    </tr>\n  </thead>\n  <tbody>\n    <tr>\n      <th>0</th>\n      <td>2016123018</td>\n      <td>SA1</td>\n      <td>71</td>\n      <td>1394.41</td>\n      <td>2016-12-30 12:31:25</td>\n      <td>2017-01-01 00:00:00</td>\n    </tr>\n    <tr>\n      <th>1</th>\n      <td>2016123018</td>\n      <td>SA1</td>\n      <td>72</td>\n      <td>1285.07</td>\n      <td>2016-12-30 12:31:25</td>\n      <td>2017-01-01 00:30:00</td>\n    </tr>\n    <tr>\n      <th>2</th>\n      <td>2016123018</td>\n      <td>SA1</td>\n      <td>73</td>\n      <td>1221.70</td>\n      <td>2016-12-30 12:31:25</td>\n      <td>2017-01-01 01:00:00</td>\n    </tr>\n    <tr>\n      <th>3</th>\n      <td>2016123018</td>\n      <td>SA1</td>\n      <td>74</td>\n      <td>1141.86</td>\n      <td>2016-12-30 12:31:25</td>\n      <td>2017-01-01 01:30:00</td>\n    </tr>\n    <tr>\n      <th>4</th>\n      <td>2016123018</td>\n      <td>SA1</td>\n      <td>75</td>\n      <td>1087.78</td>\n      <td>2016-12-30 12:31:25</td>\n      <td>2017-01-01 02:00:00</td>\n    </tr>\n  </tbody>\n</table>\n</div>"
     },
     "execution_count": 1085,
     "metadata": {},
     "output_type": "execute_result"
    }
   ],
   "source": [
    "%%time\n",
    "sa_forecast_demand.head()"
   ],
   "metadata": {
    "collapsed": false,
    "ExecuteTime": {
     "end_time": "2024-03-17T10:29:45.633357Z",
     "start_time": "2024-03-17T10:29:45.583379Z"
    }
   },
   "id": "85ca104fc5687f92",
   "execution_count": 1085
  },
  {
   "cell_type": "code",
   "outputs": [
    {
     "name": "stdout",
     "output_type": "stream",
     "text": [
      "CPU times: user 46 µs, sys: 0 ns, total: 46 µs\n",
      "Wall time: 45.3 µs\n"
     ]
    },
    {
     "data": {
      "text/plain": "         PREDISPATCHSEQNO REGIONID  PERIODID  FORECASTDEMAND  \\\n4095587        2021031740      SA1        53         1228.07   \n4095588        2021031740      SA1        54         1208.17   \n4095589        2021031740      SA1        55         1199.27   \n4095590        2021031740      SA1        56         1194.31   \n4095591        2021031740      SA1        57         1190.41   \n\n                LASTCHANGED            DATETIME  \n4095587 2021-03-17 23:31:33 2021-03-19 02:00:00  \n4095588 2021-03-17 23:31:33 2021-03-19 02:30:00  \n4095589 2021-03-17 23:31:33 2021-03-19 03:00:00  \n4095590 2021-03-17 23:31:33 2021-03-19 03:30:00  \n4095591 2021-03-17 23:31:33 2021-03-19 04:00:00  ",
      "text/html": "<div>\n<style scoped>\n    .dataframe tbody tr th:only-of-type {\n        vertical-align: middle;\n    }\n\n    .dataframe tbody tr th {\n        vertical-align: top;\n    }\n\n    .dataframe thead th {\n        text-align: right;\n    }\n</style>\n<table border=\"1\" class=\"dataframe\">\n  <thead>\n    <tr style=\"text-align: right;\">\n      <th></th>\n      <th>PREDISPATCHSEQNO</th>\n      <th>REGIONID</th>\n      <th>PERIODID</th>\n      <th>FORECASTDEMAND</th>\n      <th>LASTCHANGED</th>\n      <th>DATETIME</th>\n    </tr>\n  </thead>\n  <tbody>\n    <tr>\n      <th>4095587</th>\n      <td>2021031740</td>\n      <td>SA1</td>\n      <td>53</td>\n      <td>1228.07</td>\n      <td>2021-03-17 23:31:33</td>\n      <td>2021-03-19 02:00:00</td>\n    </tr>\n    <tr>\n      <th>4095588</th>\n      <td>2021031740</td>\n      <td>SA1</td>\n      <td>54</td>\n      <td>1208.17</td>\n      <td>2021-03-17 23:31:33</td>\n      <td>2021-03-19 02:30:00</td>\n    </tr>\n    <tr>\n      <th>4095589</th>\n      <td>2021031740</td>\n      <td>SA1</td>\n      <td>55</td>\n      <td>1199.27</td>\n      <td>2021-03-17 23:31:33</td>\n      <td>2021-03-19 03:00:00</td>\n    </tr>\n    <tr>\n      <th>4095590</th>\n      <td>2021031740</td>\n      <td>SA1</td>\n      <td>56</td>\n      <td>1194.31</td>\n      <td>2021-03-17 23:31:33</td>\n      <td>2021-03-19 03:30:00</td>\n    </tr>\n    <tr>\n      <th>4095591</th>\n      <td>2021031740</td>\n      <td>SA1</td>\n      <td>57</td>\n      <td>1190.41</td>\n      <td>2021-03-17 23:31:33</td>\n      <td>2021-03-19 04:00:00</td>\n    </tr>\n  </tbody>\n</table>\n</div>"
     },
     "execution_count": 1086,
     "metadata": {},
     "output_type": "execute_result"
    }
   ],
   "source": [
    "%%time\n",
    "sa_forecast_demand.tail()"
   ],
   "metadata": {
    "collapsed": false,
    "ExecuteTime": {
     "end_time": "2024-03-17T10:29:45.639007Z",
     "start_time": "2024-03-17T10:29:45.634005Z"
    }
   },
   "id": "82cfaf848949ad11",
   "execution_count": 1086
  },
  {
   "cell_type": "code",
   "outputs": [
    {
     "name": "stdout",
     "output_type": "stream",
     "text": [
      "<class 'pandas.core.frame.DataFrame'>\n",
      "RangeIndex: 4095592 entries, 0 to 4095591\n",
      "Data columns (total 6 columns):\n",
      " #   Column            Dtype         \n",
      "---  ------            -----         \n",
      " 0   PREDISPATCHSEQNO  int64         \n",
      " 1   REGIONID          object        \n",
      " 2   PERIODID          int64         \n",
      " 3   FORECASTDEMAND    float64       \n",
      " 4   LASTCHANGED       datetime64[ns]\n",
      " 5   DATETIME          datetime64[ns]\n",
      "dtypes: datetime64[ns](2), float64(1), int64(2), object(1)\n",
      "memory usage: 187.5+ MB\n",
      "CPU times: user 1.64 ms, sys: 0 ns, total: 1.64 ms\n",
      "Wall time: 1.56 ms\n"
     ]
    }
   ],
   "source": [
    "%%time\n",
    "sa_forecast_demand.info()"
   ],
   "metadata": {
    "collapsed": false,
    "ExecuteTime": {
     "end_time": "2024-03-17T10:29:45.665502Z",
     "start_time": "2024-03-17T10:29:45.662073Z"
    }
   },
   "id": "f46b251f40c7f959",
   "execution_count": 1087
  },
  {
   "cell_type": "code",
   "outputs": [
    {
     "name": "stdout",
     "output_type": "stream",
     "text": [
      "CPU times: user 80.7 ms, sys: 0 ns, total: 80.7 ms\n",
      "Wall time: 79.7 ms\n"
     ]
    },
    {
     "data": {
      "text/plain": "count    4.095592e+06\nmean     1.299720e+03\nstd      3.293395e+02\nmin      1.198300e+02\n25%      1.103100e+03\n50%      1.269130e+03\n75%      1.463940e+03\nmax      3.161750e+03\nName: FORECASTDEMAND, dtype: float64"
     },
     "execution_count": 1088,
     "metadata": {},
     "output_type": "execute_result"
    }
   ],
   "source": [
    "%%time\n",
    "sa_forecast_demand['FORECASTDEMAND'].describe()"
   ],
   "metadata": {
    "collapsed": false,
    "ExecuteTime": {
     "end_time": "2024-03-17T10:29:45.895962Z",
     "start_time": "2024-03-17T10:29:45.813061Z"
    }
   },
   "id": "6d7d573982c5f7ee",
   "execution_count": 1088
  },
  {
   "cell_type": "code",
   "outputs": [
    {
     "name": "stdout",
     "output_type": "stream",
     "text": [
      "CPU times: user 9 µs, sys: 0 ns, total: 9 µs\n",
      "Wall time: 10.7 µs\n"
     ]
    },
    {
     "data": {
      "text/plain": "(4095592, 6)"
     },
     "execution_count": 1089,
     "metadata": {},
     "output_type": "execute_result"
    }
   ],
   "source": [
    "%%time\n",
    "sa_forecast_demand.shape"
   ],
   "metadata": {
    "collapsed": false,
    "ExecuteTime": {
     "end_time": "2024-03-17T10:29:45.928084Z",
     "start_time": "2024-03-17T10:29:45.925609Z"
    }
   },
   "id": "a9621125501dad6c",
   "execution_count": 1089
  },
  {
   "cell_type": "code",
   "outputs": [
    {
     "name": "stdout",
     "output_type": "stream",
     "text": [
      "CPU times: user 140 ms, sys: 0 ns, total: 140 ms\n",
      "Wall time: 140 ms\n"
     ]
    },
    {
     "data": {
      "text/plain": "PREDISPATCHSEQNO             2016123018\nREGIONID                            SA1\nPERIODID                              1\nFORECASTDEMAND                   119.83\nLASTCHANGED         2016-12-30 12:31:25\nDATETIME            2017-01-01 00:00:00\ndtype: object"
     },
     "execution_count": 1090,
     "metadata": {},
     "output_type": "execute_result"
    }
   ],
   "source": [
    "%%time\n",
    "sa_forecast_demand.min()"
   ],
   "metadata": {
    "collapsed": false,
    "ExecuteTime": {
     "end_time": "2024-03-17T10:29:46.181312Z",
     "start_time": "2024-03-17T10:29:46.038597Z"
    }
   },
   "id": "1b789fc675407f28",
   "execution_count": 1090
  },
  {
   "cell_type": "code",
   "outputs": [
    {
     "name": "stdout",
     "output_type": "stream",
     "text": [
      "CPU times: user 140 ms, sys: 0 ns, total: 140 ms\n",
      "Wall time: 139 ms\n"
     ]
    },
    {
     "data": {
      "text/plain": "PREDISPATCHSEQNO             2021031740\nREGIONID                            SA1\nPERIODID                             79\nFORECASTDEMAND                  3161.75\nLASTCHANGED         2021-03-17 23:31:33\nDATETIME            2021-03-19 04:00:00\ndtype: object"
     },
     "execution_count": 1091,
     "metadata": {},
     "output_type": "execute_result"
    }
   ],
   "source": [
    "%%time\n",
    "sa_forecast_demand.max()"
   ],
   "metadata": {
    "collapsed": false,
    "ExecuteTime": {
     "end_time": "2024-03-17T10:29:46.367098Z",
     "start_time": "2024-03-17T10:29:46.225472Z"
    }
   },
   "id": "bd8c91af09352ce2",
   "execution_count": 1091
  },
  {
   "cell_type": "code",
   "outputs": [
    {
     "name": "stdout",
     "output_type": "stream",
     "text": [
      "CPU times: user 92.5 ms, sys: 0 ns, total: 92.5 ms\n",
      "Wall time: 91.5 ms\n"
     ]
    },
    {
     "data": {
      "text/plain": "PREDISPATCHSEQNO    0\nREGIONID            0\nPERIODID            0\nFORECASTDEMAND      0\nLASTCHANGED         0\nDATETIME            0\ndtype: int64"
     },
     "execution_count": 1092,
     "metadata": {},
     "output_type": "execute_result"
    }
   ],
   "source": [
    "%%time\n",
    "sa_forecast_demand.isnull().sum()"
   ],
   "metadata": {
    "collapsed": false,
    "ExecuteTime": {
     "end_time": "2024-03-17T10:29:46.461965Z",
     "start_time": "2024-03-17T10:29:46.367785Z"
    }
   },
   "id": "32a94037ea4c4bf",
   "execution_count": 1092
  },
  {
   "cell_type": "code",
   "outputs": [
    {
     "name": "stdout",
     "output_type": "stream",
     "text": [
      "CPU times: user 92.3 ms, sys: 36 µs, total: 92.3 ms\n",
      "Wall time: 91.5 ms\n"
     ]
    },
    {
     "data": {
      "text/plain": "PREDISPATCHSEQNO    0\nREGIONID            0\nPERIODID            0\nFORECASTDEMAND      0\nLASTCHANGED         0\nDATETIME            0\ndtype: int64"
     },
     "execution_count": 1093,
     "metadata": {},
     "output_type": "execute_result"
    }
   ],
   "source": [
    "%%time\n",
    "sa_forecast_demand.isna().sum()"
   ],
   "metadata": {
    "collapsed": false,
    "ExecuteTime": {
     "end_time": "2024-03-17T10:29:46.556924Z",
     "start_time": "2024-03-17T10:29:46.462722Z"
    }
   },
   "id": "a0d0f50327313aec",
   "execution_count": 1093
  },
  {
   "cell_type": "code",
   "outputs": [
    {
     "name": "stdout",
     "output_type": "stream",
     "text": [
      "CPU times: user 199 ms, sys: 212 µs, total: 199 ms\n",
      "Wall time: 198 ms\n"
     ]
    },
    {
     "data": {
      "text/plain": "PREDISPATCHSEQNO     73836\nREGIONID                 1\nPERIODID                79\nFORECASTDEMAND      215933\nLASTCHANGED          73836\nDATETIME             73833\ndtype: int64"
     },
     "execution_count": 1094,
     "metadata": {},
     "output_type": "execute_result"
    }
   ],
   "source": [
    "%%time\n",
    "sa_forecast_demand.nunique()"
   ],
   "metadata": {
    "collapsed": false,
    "ExecuteTime": {
     "end_time": "2024-03-17T10:29:46.758513Z",
     "start_time": "2024-03-17T10:29:46.557611Z"
    }
   },
   "id": "9748f6b66eb19498",
   "execution_count": 1094
  },
  {
   "cell_type": "code",
   "outputs": [
    {
     "data": {
      "text/plain": "PREDISPATCHSEQNO             int64\nREGIONID                    object\nPERIODID                     int64\nFORECASTDEMAND             float64\nLASTCHANGED         datetime64[ns]\nDATETIME            datetime64[ns]\ndtype: object"
     },
     "execution_count": 1095,
     "metadata": {},
     "output_type": "execute_result"
    }
   ],
   "source": [
    "sa_forecast_demand.dtypes"
   ],
   "metadata": {
    "collapsed": false,
    "ExecuteTime": {
     "end_time": "2024-03-17T10:29:46.761512Z",
     "start_time": "2024-03-17T10:29:46.759224Z"
    }
   },
   "id": "352e4d105874fb02",
   "execution_count": 1095
  },
  {
   "cell_type": "markdown",
   "source": [
    "<a id=\"3\"></a>\n",
    "## QLD Forecast Demand"
   ],
   "metadata": {
    "collapsed": false
   },
   "id": "bc959cebfeff5380"
  },
  {
   "cell_type": "code",
   "outputs": [
    {
     "ename": "FileNotFoundError",
     "evalue": "[Errno 2] No such file or directory: './../data/Australia/c/forecastdemand_qld.csv'",
     "output_type": "error",
     "traceback": [
      "\u001B[0;31m---------------------------------------------------------------------------\u001B[0m",
      "\u001B[0;31mFileNotFoundError\u001B[0m                         Traceback (most recent call last)",
      "Cell \u001B[0;32mIn[1096], line 1\u001B[0m\n\u001B[0;32m----> 1\u001B[0m qld_forecast_demand \u001B[38;5;241m=\u001B[39m \u001B[43mpd\u001B[49m\u001B[38;5;241;43m.\u001B[39;49m\u001B[43mread_csv\u001B[49m\u001B[43m(\u001B[49m\u001B[43mos\u001B[49m\u001B[38;5;241;43m.\u001B[39;49m\u001B[43mpath\u001B[49m\u001B[38;5;241;43m.\u001B[39;49m\u001B[43mjoin\u001B[49m\u001B[43m(\u001B[49m\u001B[43mdata_path\u001B[49m\u001B[43m,\u001B[49m\u001B[43m \u001B[49m\u001B[38;5;124;43m'\u001B[39;49m\u001B[38;5;124;43mAustralia\u001B[39;49m\u001B[38;5;124;43m'\u001B[39;49m\u001B[43m,\u001B[49m\u001B[43m \u001B[49m\u001B[38;5;124;43m'\u001B[39;49m\u001B[38;5;124;43mc\u001B[39;49m\u001B[38;5;124;43m'\u001B[39;49m\u001B[43m,\u001B[49m\u001B[43m \u001B[49m\u001B[38;5;124;43m'\u001B[39;49m\u001B[38;5;124;43mforecastdemand_qld.csv\u001B[39;49m\u001B[38;5;124;43m'\u001B[39;49m\u001B[43m)\u001B[49m\u001B[43m,\u001B[49m\u001B[43m \u001B[49m\u001B[43mparse_dates\u001B[49m\u001B[38;5;241;43m=\u001B[39;49m\u001B[43m[\u001B[49m\u001B[38;5;124;43m'\u001B[39;49m\u001B[38;5;124;43mLASTCHANGED\u001B[39;49m\u001B[38;5;124;43m'\u001B[39;49m\u001B[43m,\u001B[49m\u001B[43m \u001B[49m\u001B[38;5;124;43m'\u001B[39;49m\u001B[38;5;124;43mDATETIME\u001B[39;49m\u001B[38;5;124;43m'\u001B[39;49m\u001B[43m]\u001B[49m\u001B[43m)\u001B[49m\n",
      "File \u001B[0;32m~/.cache/pypoetry/virtualenvs/team-0-5QTAbJ9E-py3.12/lib/python3.12/site-packages/pandas/io/parsers/readers.py:1026\u001B[0m, in \u001B[0;36mread_csv\u001B[0;34m(filepath_or_buffer, sep, delimiter, header, names, index_col, usecols, dtype, engine, converters, true_values, false_values, skipinitialspace, skiprows, skipfooter, nrows, na_values, keep_default_na, na_filter, verbose, skip_blank_lines, parse_dates, infer_datetime_format, keep_date_col, date_parser, date_format, dayfirst, cache_dates, iterator, chunksize, compression, thousands, decimal, lineterminator, quotechar, quoting, doublequote, escapechar, comment, encoding, encoding_errors, dialect, on_bad_lines, delim_whitespace, low_memory, memory_map, float_precision, storage_options, dtype_backend)\u001B[0m\n\u001B[1;32m   1013\u001B[0m kwds_defaults \u001B[38;5;241m=\u001B[39m _refine_defaults_read(\n\u001B[1;32m   1014\u001B[0m     dialect,\n\u001B[1;32m   1015\u001B[0m     delimiter,\n\u001B[0;32m   (...)\u001B[0m\n\u001B[1;32m   1022\u001B[0m     dtype_backend\u001B[38;5;241m=\u001B[39mdtype_backend,\n\u001B[1;32m   1023\u001B[0m )\n\u001B[1;32m   1024\u001B[0m kwds\u001B[38;5;241m.\u001B[39mupdate(kwds_defaults)\n\u001B[0;32m-> 1026\u001B[0m \u001B[38;5;28;01mreturn\u001B[39;00m \u001B[43m_read\u001B[49m\u001B[43m(\u001B[49m\u001B[43mfilepath_or_buffer\u001B[49m\u001B[43m,\u001B[49m\u001B[43m \u001B[49m\u001B[43mkwds\u001B[49m\u001B[43m)\u001B[49m\n",
      "File \u001B[0;32m~/.cache/pypoetry/virtualenvs/team-0-5QTAbJ9E-py3.12/lib/python3.12/site-packages/pandas/io/parsers/readers.py:620\u001B[0m, in \u001B[0;36m_read\u001B[0;34m(filepath_or_buffer, kwds)\u001B[0m\n\u001B[1;32m    617\u001B[0m _validate_names(kwds\u001B[38;5;241m.\u001B[39mget(\u001B[38;5;124m\"\u001B[39m\u001B[38;5;124mnames\u001B[39m\u001B[38;5;124m\"\u001B[39m, \u001B[38;5;28;01mNone\u001B[39;00m))\n\u001B[1;32m    619\u001B[0m \u001B[38;5;66;03m# Create the parser.\u001B[39;00m\n\u001B[0;32m--> 620\u001B[0m parser \u001B[38;5;241m=\u001B[39m \u001B[43mTextFileReader\u001B[49m\u001B[43m(\u001B[49m\u001B[43mfilepath_or_buffer\u001B[49m\u001B[43m,\u001B[49m\u001B[43m \u001B[49m\u001B[38;5;241;43m*\u001B[39;49m\u001B[38;5;241;43m*\u001B[39;49m\u001B[43mkwds\u001B[49m\u001B[43m)\u001B[49m\n\u001B[1;32m    622\u001B[0m \u001B[38;5;28;01mif\u001B[39;00m chunksize \u001B[38;5;129;01mor\u001B[39;00m iterator:\n\u001B[1;32m    623\u001B[0m     \u001B[38;5;28;01mreturn\u001B[39;00m parser\n",
      "File \u001B[0;32m~/.cache/pypoetry/virtualenvs/team-0-5QTAbJ9E-py3.12/lib/python3.12/site-packages/pandas/io/parsers/readers.py:1620\u001B[0m, in \u001B[0;36mTextFileReader.__init__\u001B[0;34m(self, f, engine, **kwds)\u001B[0m\n\u001B[1;32m   1617\u001B[0m     \u001B[38;5;28mself\u001B[39m\u001B[38;5;241m.\u001B[39moptions[\u001B[38;5;124m\"\u001B[39m\u001B[38;5;124mhas_index_names\u001B[39m\u001B[38;5;124m\"\u001B[39m] \u001B[38;5;241m=\u001B[39m kwds[\u001B[38;5;124m\"\u001B[39m\u001B[38;5;124mhas_index_names\u001B[39m\u001B[38;5;124m\"\u001B[39m]\n\u001B[1;32m   1619\u001B[0m \u001B[38;5;28mself\u001B[39m\u001B[38;5;241m.\u001B[39mhandles: IOHandles \u001B[38;5;241m|\u001B[39m \u001B[38;5;28;01mNone\u001B[39;00m \u001B[38;5;241m=\u001B[39m \u001B[38;5;28;01mNone\u001B[39;00m\n\u001B[0;32m-> 1620\u001B[0m \u001B[38;5;28mself\u001B[39m\u001B[38;5;241m.\u001B[39m_engine \u001B[38;5;241m=\u001B[39m \u001B[38;5;28;43mself\u001B[39;49m\u001B[38;5;241;43m.\u001B[39;49m\u001B[43m_make_engine\u001B[49m\u001B[43m(\u001B[49m\u001B[43mf\u001B[49m\u001B[43m,\u001B[49m\u001B[43m \u001B[49m\u001B[38;5;28;43mself\u001B[39;49m\u001B[38;5;241;43m.\u001B[39;49m\u001B[43mengine\u001B[49m\u001B[43m)\u001B[49m\n",
      "File \u001B[0;32m~/.cache/pypoetry/virtualenvs/team-0-5QTAbJ9E-py3.12/lib/python3.12/site-packages/pandas/io/parsers/readers.py:1880\u001B[0m, in \u001B[0;36mTextFileReader._make_engine\u001B[0;34m(self, f, engine)\u001B[0m\n\u001B[1;32m   1878\u001B[0m     \u001B[38;5;28;01mif\u001B[39;00m \u001B[38;5;124m\"\u001B[39m\u001B[38;5;124mb\u001B[39m\u001B[38;5;124m\"\u001B[39m \u001B[38;5;129;01mnot\u001B[39;00m \u001B[38;5;129;01min\u001B[39;00m mode:\n\u001B[1;32m   1879\u001B[0m         mode \u001B[38;5;241m+\u001B[39m\u001B[38;5;241m=\u001B[39m \u001B[38;5;124m\"\u001B[39m\u001B[38;5;124mb\u001B[39m\u001B[38;5;124m\"\u001B[39m\n\u001B[0;32m-> 1880\u001B[0m \u001B[38;5;28mself\u001B[39m\u001B[38;5;241m.\u001B[39mhandles \u001B[38;5;241m=\u001B[39m \u001B[43mget_handle\u001B[49m\u001B[43m(\u001B[49m\n\u001B[1;32m   1881\u001B[0m \u001B[43m    \u001B[49m\u001B[43mf\u001B[49m\u001B[43m,\u001B[49m\n\u001B[1;32m   1882\u001B[0m \u001B[43m    \u001B[49m\u001B[43mmode\u001B[49m\u001B[43m,\u001B[49m\n\u001B[1;32m   1883\u001B[0m \u001B[43m    \u001B[49m\u001B[43mencoding\u001B[49m\u001B[38;5;241;43m=\u001B[39;49m\u001B[38;5;28;43mself\u001B[39;49m\u001B[38;5;241;43m.\u001B[39;49m\u001B[43moptions\u001B[49m\u001B[38;5;241;43m.\u001B[39;49m\u001B[43mget\u001B[49m\u001B[43m(\u001B[49m\u001B[38;5;124;43m\"\u001B[39;49m\u001B[38;5;124;43mencoding\u001B[39;49m\u001B[38;5;124;43m\"\u001B[39;49m\u001B[43m,\u001B[49m\u001B[43m \u001B[49m\u001B[38;5;28;43;01mNone\u001B[39;49;00m\u001B[43m)\u001B[49m\u001B[43m,\u001B[49m\n\u001B[1;32m   1884\u001B[0m \u001B[43m    \u001B[49m\u001B[43mcompression\u001B[49m\u001B[38;5;241;43m=\u001B[39;49m\u001B[38;5;28;43mself\u001B[39;49m\u001B[38;5;241;43m.\u001B[39;49m\u001B[43moptions\u001B[49m\u001B[38;5;241;43m.\u001B[39;49m\u001B[43mget\u001B[49m\u001B[43m(\u001B[49m\u001B[38;5;124;43m\"\u001B[39;49m\u001B[38;5;124;43mcompression\u001B[39;49m\u001B[38;5;124;43m\"\u001B[39;49m\u001B[43m,\u001B[49m\u001B[43m \u001B[49m\u001B[38;5;28;43;01mNone\u001B[39;49;00m\u001B[43m)\u001B[49m\u001B[43m,\u001B[49m\n\u001B[1;32m   1885\u001B[0m \u001B[43m    \u001B[49m\u001B[43mmemory_map\u001B[49m\u001B[38;5;241;43m=\u001B[39;49m\u001B[38;5;28;43mself\u001B[39;49m\u001B[38;5;241;43m.\u001B[39;49m\u001B[43moptions\u001B[49m\u001B[38;5;241;43m.\u001B[39;49m\u001B[43mget\u001B[49m\u001B[43m(\u001B[49m\u001B[38;5;124;43m\"\u001B[39;49m\u001B[38;5;124;43mmemory_map\u001B[39;49m\u001B[38;5;124;43m\"\u001B[39;49m\u001B[43m,\u001B[49m\u001B[43m \u001B[49m\u001B[38;5;28;43;01mFalse\u001B[39;49;00m\u001B[43m)\u001B[49m\u001B[43m,\u001B[49m\n\u001B[1;32m   1886\u001B[0m \u001B[43m    \u001B[49m\u001B[43mis_text\u001B[49m\u001B[38;5;241;43m=\u001B[39;49m\u001B[43mis_text\u001B[49m\u001B[43m,\u001B[49m\n\u001B[1;32m   1887\u001B[0m \u001B[43m    \u001B[49m\u001B[43merrors\u001B[49m\u001B[38;5;241;43m=\u001B[39;49m\u001B[38;5;28;43mself\u001B[39;49m\u001B[38;5;241;43m.\u001B[39;49m\u001B[43moptions\u001B[49m\u001B[38;5;241;43m.\u001B[39;49m\u001B[43mget\u001B[49m\u001B[43m(\u001B[49m\u001B[38;5;124;43m\"\u001B[39;49m\u001B[38;5;124;43mencoding_errors\u001B[39;49m\u001B[38;5;124;43m\"\u001B[39;49m\u001B[43m,\u001B[49m\u001B[43m \u001B[49m\u001B[38;5;124;43m\"\u001B[39;49m\u001B[38;5;124;43mstrict\u001B[39;49m\u001B[38;5;124;43m\"\u001B[39;49m\u001B[43m)\u001B[49m\u001B[43m,\u001B[49m\n\u001B[1;32m   1888\u001B[0m \u001B[43m    \u001B[49m\u001B[43mstorage_options\u001B[49m\u001B[38;5;241;43m=\u001B[39;49m\u001B[38;5;28;43mself\u001B[39;49m\u001B[38;5;241;43m.\u001B[39;49m\u001B[43moptions\u001B[49m\u001B[38;5;241;43m.\u001B[39;49m\u001B[43mget\u001B[49m\u001B[43m(\u001B[49m\u001B[38;5;124;43m\"\u001B[39;49m\u001B[38;5;124;43mstorage_options\u001B[39;49m\u001B[38;5;124;43m\"\u001B[39;49m\u001B[43m,\u001B[49m\u001B[43m \u001B[49m\u001B[38;5;28;43;01mNone\u001B[39;49;00m\u001B[43m)\u001B[49m\u001B[43m,\u001B[49m\n\u001B[1;32m   1889\u001B[0m \u001B[43m\u001B[49m\u001B[43m)\u001B[49m\n\u001B[1;32m   1890\u001B[0m \u001B[38;5;28;01massert\u001B[39;00m \u001B[38;5;28mself\u001B[39m\u001B[38;5;241m.\u001B[39mhandles \u001B[38;5;129;01mis\u001B[39;00m \u001B[38;5;129;01mnot\u001B[39;00m \u001B[38;5;28;01mNone\u001B[39;00m\n\u001B[1;32m   1891\u001B[0m f \u001B[38;5;241m=\u001B[39m \u001B[38;5;28mself\u001B[39m\u001B[38;5;241m.\u001B[39mhandles\u001B[38;5;241m.\u001B[39mhandle\n",
      "File \u001B[0;32m~/.cache/pypoetry/virtualenvs/team-0-5QTAbJ9E-py3.12/lib/python3.12/site-packages/pandas/io/common.py:873\u001B[0m, in \u001B[0;36mget_handle\u001B[0;34m(path_or_buf, mode, encoding, compression, memory_map, is_text, errors, storage_options)\u001B[0m\n\u001B[1;32m    868\u001B[0m \u001B[38;5;28;01melif\u001B[39;00m \u001B[38;5;28misinstance\u001B[39m(handle, \u001B[38;5;28mstr\u001B[39m):\n\u001B[1;32m    869\u001B[0m     \u001B[38;5;66;03m# Check whether the filename is to be opened in binary mode.\u001B[39;00m\n\u001B[1;32m    870\u001B[0m     \u001B[38;5;66;03m# Binary mode does not support 'encoding' and 'newline'.\u001B[39;00m\n\u001B[1;32m    871\u001B[0m     \u001B[38;5;28;01mif\u001B[39;00m ioargs\u001B[38;5;241m.\u001B[39mencoding \u001B[38;5;129;01mand\u001B[39;00m \u001B[38;5;124m\"\u001B[39m\u001B[38;5;124mb\u001B[39m\u001B[38;5;124m\"\u001B[39m \u001B[38;5;129;01mnot\u001B[39;00m \u001B[38;5;129;01min\u001B[39;00m ioargs\u001B[38;5;241m.\u001B[39mmode:\n\u001B[1;32m    872\u001B[0m         \u001B[38;5;66;03m# Encoding\u001B[39;00m\n\u001B[0;32m--> 873\u001B[0m         handle \u001B[38;5;241m=\u001B[39m \u001B[38;5;28;43mopen\u001B[39;49m\u001B[43m(\u001B[49m\n\u001B[1;32m    874\u001B[0m \u001B[43m            \u001B[49m\u001B[43mhandle\u001B[49m\u001B[43m,\u001B[49m\n\u001B[1;32m    875\u001B[0m \u001B[43m            \u001B[49m\u001B[43mioargs\u001B[49m\u001B[38;5;241;43m.\u001B[39;49m\u001B[43mmode\u001B[49m\u001B[43m,\u001B[49m\n\u001B[1;32m    876\u001B[0m \u001B[43m            \u001B[49m\u001B[43mencoding\u001B[49m\u001B[38;5;241;43m=\u001B[39;49m\u001B[43mioargs\u001B[49m\u001B[38;5;241;43m.\u001B[39;49m\u001B[43mencoding\u001B[49m\u001B[43m,\u001B[49m\n\u001B[1;32m    877\u001B[0m \u001B[43m            \u001B[49m\u001B[43merrors\u001B[49m\u001B[38;5;241;43m=\u001B[39;49m\u001B[43merrors\u001B[49m\u001B[43m,\u001B[49m\n\u001B[1;32m    878\u001B[0m \u001B[43m            \u001B[49m\u001B[43mnewline\u001B[49m\u001B[38;5;241;43m=\u001B[39;49m\u001B[38;5;124;43m\"\u001B[39;49m\u001B[38;5;124;43m\"\u001B[39;49m\u001B[43m,\u001B[49m\n\u001B[1;32m    879\u001B[0m \u001B[43m        \u001B[49m\u001B[43m)\u001B[49m\n\u001B[1;32m    880\u001B[0m     \u001B[38;5;28;01melse\u001B[39;00m:\n\u001B[1;32m    881\u001B[0m         \u001B[38;5;66;03m# Binary mode\u001B[39;00m\n\u001B[1;32m    882\u001B[0m         handle \u001B[38;5;241m=\u001B[39m \u001B[38;5;28mopen\u001B[39m(handle, ioargs\u001B[38;5;241m.\u001B[39mmode)\n",
      "\u001B[0;31mFileNotFoundError\u001B[0m: [Errno 2] No such file or directory: './../data/Australia/c/forecastdemand_qld.csv'"
     ]
    }
   ],
   "source": [
    "qld_forecast_demand = pd.read_csv(os.path.join(data_path, 'Australia', 'c', 'forecastdemand_qld.csv'), parse_dates=['LASTCHANGED', 'DATETIME'])"
   ],
   "metadata": {
    "collapsed": false,
    "ExecuteTime": {
     "end_time": "2024-03-17T10:29:46.814064Z",
     "start_time": "2024-03-17T10:29:46.761959Z"
    }
   },
   "id": "45c6da34745864fc",
   "execution_count": 1096
  },
  {
   "cell_type": "code",
   "outputs": [],
   "source": [
    "qld_forecast_demand.head()"
   ],
   "metadata": {
    "collapsed": false
   },
   "id": "ec887d9cbaaf9b1e",
   "execution_count": null
  },
  {
   "cell_type": "code",
   "outputs": [],
   "source": [
    "qld_forecast_demand.tail()"
   ],
   "metadata": {
    "collapsed": false
   },
   "id": "555e731cc7d0668a",
   "execution_count": null
  },
  {
   "cell_type": "code",
   "outputs": [
    {
     "name": "stdout",
     "output_type": "stream",
     "text": [
      "<class 'pandas.core.frame.DataFrame'>\n",
      "RangeIndex: 4095592 entries, 0 to 4095591\n",
      "Data columns (total 6 columns):\n",
      " #   Column            Dtype         \n",
      "---  ------            -----         \n",
      " 0   PREDISPATCHSEQNO  int64         \n",
      " 1   REGIONID          object        \n",
      " 2   PERIODID          int64         \n",
      " 3   FORECASTDEMAND    float64       \n",
      " 4   LASTCHANGED       datetime64[ns]\n",
      " 5   DATETIME          datetime64[ns]\n",
      "dtypes: datetime64[ns](2), float64(1), int64(2), object(1)\n",
      "memory usage: 187.5+ MB\n"
     ]
    }
   ],
   "source": [
    "qld_forecast_demand.info()"
   ],
   "metadata": {
    "collapsed": false,
    "ExecuteTime": {
     "end_time": "2024-03-17T10:29:46.915352Z",
     "start_time": "2024-03-17T10:29:46.910508Z"
    }
   },
   "id": "6d1346901554c9bc",
   "execution_count": 1097
  },
  {
   "cell_type": "code",
   "outputs": [
    {
     "data": {
      "text/plain": "count    4.095592e+06\nmean     6.217552e+03\nstd      8.990330e+02\nmin      3.634990e+03\n25%      5.493320e+03\n50%      6.105220e+03\n75%      6.833010e+03\nmax      1.004541e+04\nName: FORECASTDEMAND, dtype: float64"
     },
     "execution_count": 1098,
     "metadata": {},
     "output_type": "execute_result"
    }
   ],
   "source": [
    "qld_forecast_demand['FORECASTDEMAND'].describe()"
   ],
   "metadata": {
    "collapsed": false,
    "ExecuteTime": {
     "end_time": "2024-03-17T10:29:47.062762Z",
     "start_time": "2024-03-17T10:29:46.987106Z"
    }
   },
   "id": "c8b1c9b67a4aa423",
   "execution_count": 1098
  },
  {
   "cell_type": "code",
   "outputs": [
    {
     "data": {
      "text/plain": "(4095592, 6)"
     },
     "execution_count": 1099,
     "metadata": {},
     "output_type": "execute_result"
    }
   ],
   "source": [
    "qld_forecast_demand.shape"
   ],
   "metadata": {
    "collapsed": false,
    "ExecuteTime": {
     "end_time": "2024-03-17T10:29:48.400501Z",
     "start_time": "2024-03-17T10:29:48.398132Z"
    }
   },
   "id": "6044c5437ea3e726",
   "execution_count": 1099
  },
  {
   "cell_type": "code",
   "outputs": [
    {
     "data": {
      "text/plain": "PREDISPATCHSEQNO             2016123018\nREGIONID                           QLD1\nPERIODID                              1\nFORECASTDEMAND                  3634.99\nLASTCHANGED         2016-12-30 12:31:25\nDATETIME            2017-01-01 00:00:00\ndtype: object"
     },
     "execution_count": 1100,
     "metadata": {},
     "output_type": "execute_result"
    }
   ],
   "source": [
    "qld_forecast_demand.min()"
   ],
   "metadata": {
    "collapsed": false,
    "ExecuteTime": {
     "end_time": "2024-03-17T10:29:48.578257Z",
     "start_time": "2024-03-17T10:29:48.431300Z"
    }
   },
   "id": "2ad2681fd7190a8b",
   "execution_count": 1100
  },
  {
   "cell_type": "code",
   "outputs": [
    {
     "data": {
      "text/plain": "PREDISPATCHSEQNO             2021031740\nREGIONID                           QLD1\nPERIODID                             79\nFORECASTDEMAND                 10045.41\nLASTCHANGED         2021-03-17 23:31:33\nDATETIME            2021-03-19 04:00:00\ndtype: object"
     },
     "execution_count": 1101,
     "metadata": {},
     "output_type": "execute_result"
    }
   ],
   "source": [
    "qld_forecast_demand.max()"
   ],
   "metadata": {
    "collapsed": false,
    "ExecuteTime": {
     "end_time": "2024-03-17T10:29:48.721956Z",
     "start_time": "2024-03-17T10:29:48.583367Z"
    }
   },
   "id": "6a9243f189b698e7",
   "execution_count": 1101
  },
  {
   "cell_type": "code",
   "outputs": [
    {
     "data": {
      "text/plain": "PREDISPATCHSEQNO    0\nREGIONID            0\nPERIODID            0\nFORECASTDEMAND      0\nLASTCHANGED         0\nDATETIME            0\ndtype: int64"
     },
     "execution_count": 1102,
     "metadata": {},
     "output_type": "execute_result"
    }
   ],
   "source": [
    "qld_forecast_demand.isnull().sum()"
   ],
   "metadata": {
    "collapsed": false,
    "ExecuteTime": {
     "end_time": "2024-03-17T10:29:48.815439Z",
     "start_time": "2024-03-17T10:29:48.722647Z"
    }
   },
   "id": "4ce8c077206d6d4d",
   "execution_count": 1102
  },
  {
   "cell_type": "code",
   "outputs": [
    {
     "data": {
      "text/plain": "PREDISPATCHSEQNO    0\nREGIONID            0\nPERIODID            0\nFORECASTDEMAND      0\nLASTCHANGED         0\nDATETIME            0\ndtype: int64"
     },
     "execution_count": 1103,
     "metadata": {},
     "output_type": "execute_result"
    }
   ],
   "source": [
    "qld_forecast_demand.isna().sum()"
   ],
   "metadata": {
    "collapsed": false,
    "ExecuteTime": {
     "end_time": "2024-03-17T10:29:48.909230Z",
     "start_time": "2024-03-17T10:29:48.816157Z"
    }
   },
   "id": "39ccb862a2e09f72",
   "execution_count": 1103
  },
  {
   "cell_type": "code",
   "outputs": [
    {
     "data": {
      "text/plain": "PREDISPATCHSEQNO     73836\nREGIONID                 1\nPERIODID                79\nFORECASTDEMAND      432543\nLASTCHANGED          73836\nDATETIME             73833\ndtype: int64"
     },
     "execution_count": 1104,
     "metadata": {},
     "output_type": "execute_result"
    }
   ],
   "source": [
    "qld_forecast_demand.nunique()"
   ],
   "metadata": {
    "collapsed": false,
    "ExecuteTime": {
     "end_time": "2024-03-17T10:29:49.119126Z",
     "start_time": "2024-03-17T10:29:48.909819Z"
    }
   },
   "id": "27cb70ae8ce11144",
   "execution_count": 1104
  },
  {
   "cell_type": "code",
   "outputs": [
    {
     "data": {
      "text/plain": "PREDISPATCHSEQNO             int64\nREGIONID                    object\nPERIODID                     int64\nFORECASTDEMAND             float64\nLASTCHANGED         datetime64[ns]\nDATETIME            datetime64[ns]\ndtype: object"
     },
     "execution_count": 1105,
     "metadata": {},
     "output_type": "execute_result"
    }
   ],
   "source": [
    "qld_forecast_demand.dtypes"
   ],
   "metadata": {
    "collapsed": false,
    "ExecuteTime": {
     "end_time": "2024-03-17T10:29:49.122354Z",
     "start_time": "2024-03-17T10:29:49.119980Z"
    }
   },
   "id": "e4c6d2370c875841",
   "execution_count": 1105
  },
  {
   "cell_type": "markdown",
   "source": [
    "<a id=\"4\"></a>\n",
    "## QLD Temperatures"
   ],
   "metadata": {
    "collapsed": false
   },
   "id": "15aa2a5e27b420d"
  },
  {
   "cell_type": "code",
   "outputs": [
    {
     "ename": "FileNotFoundError",
     "evalue": "[Errno 2] No such file or directory: './../data/Australia/d/temprature_qld.csv'",
     "output_type": "error",
     "traceback": [
      "\u001B[0;31m---------------------------------------------------------------------------\u001B[0m",
      "\u001B[0;31mFileNotFoundError\u001B[0m                         Traceback (most recent call last)",
      "Cell \u001B[0;32mIn[1106], line 1\u001B[0m\n\u001B[0;32m----> 1\u001B[0m qld_temperature \u001B[38;5;241m=\u001B[39m \u001B[43mpd\u001B[49m\u001B[38;5;241;43m.\u001B[39;49m\u001B[43mread_csv\u001B[49m\u001B[43m(\u001B[49m\u001B[43mos\u001B[49m\u001B[38;5;241;43m.\u001B[39;49m\u001B[43mpath\u001B[49m\u001B[38;5;241;43m.\u001B[39;49m\u001B[43mjoin\u001B[49m\u001B[43m(\u001B[49m\u001B[43mdata_path\u001B[49m\u001B[43m,\u001B[49m\u001B[43m \u001B[49m\u001B[38;5;124;43m'\u001B[39;49m\u001B[38;5;124;43mAustralia\u001B[39;49m\u001B[38;5;124;43m'\u001B[39;49m\u001B[43m,\u001B[49m\u001B[43m \u001B[49m\u001B[38;5;124;43m'\u001B[39;49m\u001B[38;5;124;43md\u001B[39;49m\u001B[38;5;124;43m'\u001B[39;49m\u001B[43m,\u001B[49m\u001B[43m \u001B[49m\u001B[38;5;124;43m'\u001B[39;49m\u001B[38;5;124;43mtemprature_qld.csv\u001B[39;49m\u001B[38;5;124;43m'\u001B[39;49m\u001B[43m)\u001B[49m\u001B[43m,\u001B[49m\u001B[43m \u001B[49m\u001B[43mparse_dates\u001B[49m\u001B[38;5;241;43m=\u001B[39;49m\u001B[43m[\u001B[49m\u001B[38;5;124;43m'\u001B[39;49m\u001B[38;5;124;43mDATETIME\u001B[39;49m\u001B[38;5;124;43m'\u001B[39;49m\u001B[43m]\u001B[49m\u001B[43m,\u001B[49m\u001B[43m \u001B[49m\u001B[43mdayfirst\u001B[49m\u001B[38;5;241;43m=\u001B[39;49m\u001B[38;5;28;43;01mTrue\u001B[39;49;00m\u001B[43m)\u001B[49m\n",
      "File \u001B[0;32m~/.cache/pypoetry/virtualenvs/team-0-5QTAbJ9E-py3.12/lib/python3.12/site-packages/pandas/io/parsers/readers.py:1026\u001B[0m, in \u001B[0;36mread_csv\u001B[0;34m(filepath_or_buffer, sep, delimiter, header, names, index_col, usecols, dtype, engine, converters, true_values, false_values, skipinitialspace, skiprows, skipfooter, nrows, na_values, keep_default_na, na_filter, verbose, skip_blank_lines, parse_dates, infer_datetime_format, keep_date_col, date_parser, date_format, dayfirst, cache_dates, iterator, chunksize, compression, thousands, decimal, lineterminator, quotechar, quoting, doublequote, escapechar, comment, encoding, encoding_errors, dialect, on_bad_lines, delim_whitespace, low_memory, memory_map, float_precision, storage_options, dtype_backend)\u001B[0m\n\u001B[1;32m   1013\u001B[0m kwds_defaults \u001B[38;5;241m=\u001B[39m _refine_defaults_read(\n\u001B[1;32m   1014\u001B[0m     dialect,\n\u001B[1;32m   1015\u001B[0m     delimiter,\n\u001B[0;32m   (...)\u001B[0m\n\u001B[1;32m   1022\u001B[0m     dtype_backend\u001B[38;5;241m=\u001B[39mdtype_backend,\n\u001B[1;32m   1023\u001B[0m )\n\u001B[1;32m   1024\u001B[0m kwds\u001B[38;5;241m.\u001B[39mupdate(kwds_defaults)\n\u001B[0;32m-> 1026\u001B[0m \u001B[38;5;28;01mreturn\u001B[39;00m \u001B[43m_read\u001B[49m\u001B[43m(\u001B[49m\u001B[43mfilepath_or_buffer\u001B[49m\u001B[43m,\u001B[49m\u001B[43m \u001B[49m\u001B[43mkwds\u001B[49m\u001B[43m)\u001B[49m\n",
      "File \u001B[0;32m~/.cache/pypoetry/virtualenvs/team-0-5QTAbJ9E-py3.12/lib/python3.12/site-packages/pandas/io/parsers/readers.py:620\u001B[0m, in \u001B[0;36m_read\u001B[0;34m(filepath_or_buffer, kwds)\u001B[0m\n\u001B[1;32m    617\u001B[0m _validate_names(kwds\u001B[38;5;241m.\u001B[39mget(\u001B[38;5;124m\"\u001B[39m\u001B[38;5;124mnames\u001B[39m\u001B[38;5;124m\"\u001B[39m, \u001B[38;5;28;01mNone\u001B[39;00m))\n\u001B[1;32m    619\u001B[0m \u001B[38;5;66;03m# Create the parser.\u001B[39;00m\n\u001B[0;32m--> 620\u001B[0m parser \u001B[38;5;241m=\u001B[39m \u001B[43mTextFileReader\u001B[49m\u001B[43m(\u001B[49m\u001B[43mfilepath_or_buffer\u001B[49m\u001B[43m,\u001B[49m\u001B[43m \u001B[49m\u001B[38;5;241;43m*\u001B[39;49m\u001B[38;5;241;43m*\u001B[39;49m\u001B[43mkwds\u001B[49m\u001B[43m)\u001B[49m\n\u001B[1;32m    622\u001B[0m \u001B[38;5;28;01mif\u001B[39;00m chunksize \u001B[38;5;129;01mor\u001B[39;00m iterator:\n\u001B[1;32m    623\u001B[0m     \u001B[38;5;28;01mreturn\u001B[39;00m parser\n",
      "File \u001B[0;32m~/.cache/pypoetry/virtualenvs/team-0-5QTAbJ9E-py3.12/lib/python3.12/site-packages/pandas/io/parsers/readers.py:1620\u001B[0m, in \u001B[0;36mTextFileReader.__init__\u001B[0;34m(self, f, engine, **kwds)\u001B[0m\n\u001B[1;32m   1617\u001B[0m     \u001B[38;5;28mself\u001B[39m\u001B[38;5;241m.\u001B[39moptions[\u001B[38;5;124m\"\u001B[39m\u001B[38;5;124mhas_index_names\u001B[39m\u001B[38;5;124m\"\u001B[39m] \u001B[38;5;241m=\u001B[39m kwds[\u001B[38;5;124m\"\u001B[39m\u001B[38;5;124mhas_index_names\u001B[39m\u001B[38;5;124m\"\u001B[39m]\n\u001B[1;32m   1619\u001B[0m \u001B[38;5;28mself\u001B[39m\u001B[38;5;241m.\u001B[39mhandles: IOHandles \u001B[38;5;241m|\u001B[39m \u001B[38;5;28;01mNone\u001B[39;00m \u001B[38;5;241m=\u001B[39m \u001B[38;5;28;01mNone\u001B[39;00m\n\u001B[0;32m-> 1620\u001B[0m \u001B[38;5;28mself\u001B[39m\u001B[38;5;241m.\u001B[39m_engine \u001B[38;5;241m=\u001B[39m \u001B[38;5;28;43mself\u001B[39;49m\u001B[38;5;241;43m.\u001B[39;49m\u001B[43m_make_engine\u001B[49m\u001B[43m(\u001B[49m\u001B[43mf\u001B[49m\u001B[43m,\u001B[49m\u001B[43m \u001B[49m\u001B[38;5;28;43mself\u001B[39;49m\u001B[38;5;241;43m.\u001B[39;49m\u001B[43mengine\u001B[49m\u001B[43m)\u001B[49m\n",
      "File \u001B[0;32m~/.cache/pypoetry/virtualenvs/team-0-5QTAbJ9E-py3.12/lib/python3.12/site-packages/pandas/io/parsers/readers.py:1880\u001B[0m, in \u001B[0;36mTextFileReader._make_engine\u001B[0;34m(self, f, engine)\u001B[0m\n\u001B[1;32m   1878\u001B[0m     \u001B[38;5;28;01mif\u001B[39;00m \u001B[38;5;124m\"\u001B[39m\u001B[38;5;124mb\u001B[39m\u001B[38;5;124m\"\u001B[39m \u001B[38;5;129;01mnot\u001B[39;00m \u001B[38;5;129;01min\u001B[39;00m mode:\n\u001B[1;32m   1879\u001B[0m         mode \u001B[38;5;241m+\u001B[39m\u001B[38;5;241m=\u001B[39m \u001B[38;5;124m\"\u001B[39m\u001B[38;5;124mb\u001B[39m\u001B[38;5;124m\"\u001B[39m\n\u001B[0;32m-> 1880\u001B[0m \u001B[38;5;28mself\u001B[39m\u001B[38;5;241m.\u001B[39mhandles \u001B[38;5;241m=\u001B[39m \u001B[43mget_handle\u001B[49m\u001B[43m(\u001B[49m\n\u001B[1;32m   1881\u001B[0m \u001B[43m    \u001B[49m\u001B[43mf\u001B[49m\u001B[43m,\u001B[49m\n\u001B[1;32m   1882\u001B[0m \u001B[43m    \u001B[49m\u001B[43mmode\u001B[49m\u001B[43m,\u001B[49m\n\u001B[1;32m   1883\u001B[0m \u001B[43m    \u001B[49m\u001B[43mencoding\u001B[49m\u001B[38;5;241;43m=\u001B[39;49m\u001B[38;5;28;43mself\u001B[39;49m\u001B[38;5;241;43m.\u001B[39;49m\u001B[43moptions\u001B[49m\u001B[38;5;241;43m.\u001B[39;49m\u001B[43mget\u001B[49m\u001B[43m(\u001B[49m\u001B[38;5;124;43m\"\u001B[39;49m\u001B[38;5;124;43mencoding\u001B[39;49m\u001B[38;5;124;43m\"\u001B[39;49m\u001B[43m,\u001B[49m\u001B[43m \u001B[49m\u001B[38;5;28;43;01mNone\u001B[39;49;00m\u001B[43m)\u001B[49m\u001B[43m,\u001B[49m\n\u001B[1;32m   1884\u001B[0m \u001B[43m    \u001B[49m\u001B[43mcompression\u001B[49m\u001B[38;5;241;43m=\u001B[39;49m\u001B[38;5;28;43mself\u001B[39;49m\u001B[38;5;241;43m.\u001B[39;49m\u001B[43moptions\u001B[49m\u001B[38;5;241;43m.\u001B[39;49m\u001B[43mget\u001B[49m\u001B[43m(\u001B[49m\u001B[38;5;124;43m\"\u001B[39;49m\u001B[38;5;124;43mcompression\u001B[39;49m\u001B[38;5;124;43m\"\u001B[39;49m\u001B[43m,\u001B[49m\u001B[43m \u001B[49m\u001B[38;5;28;43;01mNone\u001B[39;49;00m\u001B[43m)\u001B[49m\u001B[43m,\u001B[49m\n\u001B[1;32m   1885\u001B[0m \u001B[43m    \u001B[49m\u001B[43mmemory_map\u001B[49m\u001B[38;5;241;43m=\u001B[39;49m\u001B[38;5;28;43mself\u001B[39;49m\u001B[38;5;241;43m.\u001B[39;49m\u001B[43moptions\u001B[49m\u001B[38;5;241;43m.\u001B[39;49m\u001B[43mget\u001B[49m\u001B[43m(\u001B[49m\u001B[38;5;124;43m\"\u001B[39;49m\u001B[38;5;124;43mmemory_map\u001B[39;49m\u001B[38;5;124;43m\"\u001B[39;49m\u001B[43m,\u001B[49m\u001B[43m \u001B[49m\u001B[38;5;28;43;01mFalse\u001B[39;49;00m\u001B[43m)\u001B[49m\u001B[43m,\u001B[49m\n\u001B[1;32m   1886\u001B[0m \u001B[43m    \u001B[49m\u001B[43mis_text\u001B[49m\u001B[38;5;241;43m=\u001B[39;49m\u001B[43mis_text\u001B[49m\u001B[43m,\u001B[49m\n\u001B[1;32m   1887\u001B[0m \u001B[43m    \u001B[49m\u001B[43merrors\u001B[49m\u001B[38;5;241;43m=\u001B[39;49m\u001B[38;5;28;43mself\u001B[39;49m\u001B[38;5;241;43m.\u001B[39;49m\u001B[43moptions\u001B[49m\u001B[38;5;241;43m.\u001B[39;49m\u001B[43mget\u001B[49m\u001B[43m(\u001B[49m\u001B[38;5;124;43m\"\u001B[39;49m\u001B[38;5;124;43mencoding_errors\u001B[39;49m\u001B[38;5;124;43m\"\u001B[39;49m\u001B[43m,\u001B[49m\u001B[43m \u001B[49m\u001B[38;5;124;43m\"\u001B[39;49m\u001B[38;5;124;43mstrict\u001B[39;49m\u001B[38;5;124;43m\"\u001B[39;49m\u001B[43m)\u001B[49m\u001B[43m,\u001B[49m\n\u001B[1;32m   1888\u001B[0m \u001B[43m    \u001B[49m\u001B[43mstorage_options\u001B[49m\u001B[38;5;241;43m=\u001B[39;49m\u001B[38;5;28;43mself\u001B[39;49m\u001B[38;5;241;43m.\u001B[39;49m\u001B[43moptions\u001B[49m\u001B[38;5;241;43m.\u001B[39;49m\u001B[43mget\u001B[49m\u001B[43m(\u001B[49m\u001B[38;5;124;43m\"\u001B[39;49m\u001B[38;5;124;43mstorage_options\u001B[39;49m\u001B[38;5;124;43m\"\u001B[39;49m\u001B[43m,\u001B[49m\u001B[43m \u001B[49m\u001B[38;5;28;43;01mNone\u001B[39;49;00m\u001B[43m)\u001B[49m\u001B[43m,\u001B[49m\n\u001B[1;32m   1889\u001B[0m \u001B[43m\u001B[49m\u001B[43m)\u001B[49m\n\u001B[1;32m   1890\u001B[0m \u001B[38;5;28;01massert\u001B[39;00m \u001B[38;5;28mself\u001B[39m\u001B[38;5;241m.\u001B[39mhandles \u001B[38;5;129;01mis\u001B[39;00m \u001B[38;5;129;01mnot\u001B[39;00m \u001B[38;5;28;01mNone\u001B[39;00m\n\u001B[1;32m   1891\u001B[0m f \u001B[38;5;241m=\u001B[39m \u001B[38;5;28mself\u001B[39m\u001B[38;5;241m.\u001B[39mhandles\u001B[38;5;241m.\u001B[39mhandle\n",
      "File \u001B[0;32m~/.cache/pypoetry/virtualenvs/team-0-5QTAbJ9E-py3.12/lib/python3.12/site-packages/pandas/io/common.py:873\u001B[0m, in \u001B[0;36mget_handle\u001B[0;34m(path_or_buf, mode, encoding, compression, memory_map, is_text, errors, storage_options)\u001B[0m\n\u001B[1;32m    868\u001B[0m \u001B[38;5;28;01melif\u001B[39;00m \u001B[38;5;28misinstance\u001B[39m(handle, \u001B[38;5;28mstr\u001B[39m):\n\u001B[1;32m    869\u001B[0m     \u001B[38;5;66;03m# Check whether the filename is to be opened in binary mode.\u001B[39;00m\n\u001B[1;32m    870\u001B[0m     \u001B[38;5;66;03m# Binary mode does not support 'encoding' and 'newline'.\u001B[39;00m\n\u001B[1;32m    871\u001B[0m     \u001B[38;5;28;01mif\u001B[39;00m ioargs\u001B[38;5;241m.\u001B[39mencoding \u001B[38;5;129;01mand\u001B[39;00m \u001B[38;5;124m\"\u001B[39m\u001B[38;5;124mb\u001B[39m\u001B[38;5;124m\"\u001B[39m \u001B[38;5;129;01mnot\u001B[39;00m \u001B[38;5;129;01min\u001B[39;00m ioargs\u001B[38;5;241m.\u001B[39mmode:\n\u001B[1;32m    872\u001B[0m         \u001B[38;5;66;03m# Encoding\u001B[39;00m\n\u001B[0;32m--> 873\u001B[0m         handle \u001B[38;5;241m=\u001B[39m \u001B[38;5;28;43mopen\u001B[39;49m\u001B[43m(\u001B[49m\n\u001B[1;32m    874\u001B[0m \u001B[43m            \u001B[49m\u001B[43mhandle\u001B[49m\u001B[43m,\u001B[49m\n\u001B[1;32m    875\u001B[0m \u001B[43m            \u001B[49m\u001B[43mioargs\u001B[49m\u001B[38;5;241;43m.\u001B[39;49m\u001B[43mmode\u001B[49m\u001B[43m,\u001B[49m\n\u001B[1;32m    876\u001B[0m \u001B[43m            \u001B[49m\u001B[43mencoding\u001B[49m\u001B[38;5;241;43m=\u001B[39;49m\u001B[43mioargs\u001B[49m\u001B[38;5;241;43m.\u001B[39;49m\u001B[43mencoding\u001B[49m\u001B[43m,\u001B[49m\n\u001B[1;32m    877\u001B[0m \u001B[43m            \u001B[49m\u001B[43merrors\u001B[49m\u001B[38;5;241;43m=\u001B[39;49m\u001B[43merrors\u001B[49m\u001B[43m,\u001B[49m\n\u001B[1;32m    878\u001B[0m \u001B[43m            \u001B[49m\u001B[43mnewline\u001B[49m\u001B[38;5;241;43m=\u001B[39;49m\u001B[38;5;124;43m\"\u001B[39;49m\u001B[38;5;124;43m\"\u001B[39;49m\u001B[43m,\u001B[49m\n\u001B[1;32m    879\u001B[0m \u001B[43m        \u001B[49m\u001B[43m)\u001B[49m\n\u001B[1;32m    880\u001B[0m     \u001B[38;5;28;01melse\u001B[39;00m:\n\u001B[1;32m    881\u001B[0m         \u001B[38;5;66;03m# Binary mode\u001B[39;00m\n\u001B[1;32m    882\u001B[0m         handle \u001B[38;5;241m=\u001B[39m \u001B[38;5;28mopen\u001B[39m(handle, ioargs\u001B[38;5;241m.\u001B[39mmode)\n",
      "\u001B[0;31mFileNotFoundError\u001B[0m: [Errno 2] No such file or directory: './../data/Australia/d/temprature_qld.csv'"
     ]
    }
   ],
   "source": [
    "qld_temperature = pd.read_csv(os.path.join(data_path, 'Australia', 'd', 'temprature_qld.csv'), parse_dates=['DATETIME'], dayfirst=True)"
   ],
   "metadata": {
    "collapsed": false,
    "ExecuteTime": {
     "end_time": "2024-03-17T10:29:49.254178Z",
     "start_time": "2024-03-17T10:29:49.122774Z"
    }
   },
   "id": "eb5ba8fcecb3681f",
   "execution_count": 1106
  },
  {
   "cell_type": "code",
   "outputs": [],
   "source": [
    "qld_temperature.head()"
   ],
   "metadata": {
    "collapsed": false
   },
   "id": "43c7ea242169d3c7",
   "execution_count": null
  },
  {
   "cell_type": "code",
   "outputs": [],
   "source": [
    "qld_temperature.tail()"
   ],
   "metadata": {
    "collapsed": false
   },
   "id": "5bbc4e4094ed4fdf",
   "execution_count": null
  },
  {
   "cell_type": "code",
   "outputs": [],
   "source": [
    "qld_temperature.info()"
   ],
   "metadata": {
    "collapsed": false
   },
   "id": "2f60f67eccf0b1a8",
   "execution_count": null
  },
  {
   "cell_type": "code",
   "outputs": [],
   "source": [
    "qld_temperature.describe()"
   ],
   "metadata": {
    "collapsed": false
   },
   "id": "3375c6ba50ac06dd",
   "execution_count": null
  },
  {
   "cell_type": "code",
   "outputs": [
    {
     "data": {
      "text/plain": "(208085, 3)"
     },
     "execution_count": 1107,
     "metadata": {},
     "output_type": "execute_result"
    }
   ],
   "source": [
    "qld_temperature.shape"
   ],
   "metadata": {
    "collapsed": false,
    "ExecuteTime": {
     "end_time": "2024-03-17T10:29:49.299625Z",
     "start_time": "2024-03-17T10:29:49.297398Z"
    }
   },
   "id": "b87e0dae797c3c02",
   "execution_count": 1107
  },
  {
   "cell_type": "code",
   "outputs": [
    {
     "data": {
      "text/plain": "LOCATION       Brisbane Archerfield Airport\nDATETIME                2010-01-01 00:00:00\nTEMPERATURE                             1.3\ndtype: object"
     },
     "execution_count": 1108,
     "metadata": {},
     "output_type": "execute_result"
    }
   ],
   "source": [
    "qld_temperature.min()"
   ],
   "metadata": {
    "collapsed": false,
    "ExecuteTime": {
     "end_time": "2024-03-17T10:29:49.355206Z",
     "start_time": "2024-03-17T10:29:49.344498Z"
    }
   },
   "id": "f7bc8ed0cf367ac0",
   "execution_count": 1108
  },
  {
   "cell_type": "code",
   "outputs": [
    {
     "data": {
      "text/plain": "LOCATION       Brisbane Archerfield Airport\nDATETIME                2021-03-18 00:00:00\nTEMPERATURE                            42.4\ndtype: object"
     },
     "execution_count": 1109,
     "metadata": {},
     "output_type": "execute_result"
    }
   ],
   "source": [
    "qld_temperature.max()"
   ],
   "metadata": {
    "collapsed": false,
    "ExecuteTime": {
     "end_time": "2024-03-17T10:29:49.443788Z",
     "start_time": "2024-03-17T10:29:49.432961Z"
    }
   },
   "id": "2e51f02c3f3acc0e",
   "execution_count": 1109
  },
  {
   "cell_type": "code",
   "outputs": [
    {
     "data": {
      "text/plain": "LOCATION       0\nDATETIME       0\nTEMPERATURE    0\ndtype: int64"
     },
     "execution_count": 1110,
     "metadata": {},
     "output_type": "execute_result"
    }
   ],
   "source": [
    "qld_temperature.isnull().sum()"
   ],
   "metadata": {
    "collapsed": false,
    "ExecuteTime": {
     "end_time": "2024-03-17T10:29:49.538384Z",
     "start_time": "2024-03-17T10:29:49.530643Z"
    }
   },
   "id": "e16bd8d0bf8a28bb",
   "execution_count": 1110
  },
  {
   "cell_type": "code",
   "outputs": [
    {
     "data": {
      "text/plain": "LOCATION       0\nDATETIME       0\nTEMPERATURE    0\ndtype: int64"
     },
     "execution_count": 1111,
     "metadata": {},
     "output_type": "execute_result"
    }
   ],
   "source": [
    "qld_temperature.isna().sum()"
   ],
   "metadata": {
    "collapsed": false,
    "ExecuteTime": {
     "end_time": "2024-03-17T10:29:49.595280Z",
     "start_time": "2024-03-17T10:29:49.587955Z"
    }
   },
   "id": "fcf3f580efc05d21",
   "execution_count": 1111
  },
  {
   "cell_type": "code",
   "outputs": [
    {
     "data": {
      "text/plain": "LOCATION            1\nDATETIME       208085\nTEMPERATURE       391\ndtype: int64"
     },
     "execution_count": 1112,
     "metadata": {},
     "output_type": "execute_result"
    }
   ],
   "source": [
    "qld_temperature.nunique()"
   ],
   "metadata": {
    "collapsed": false,
    "ExecuteTime": {
     "end_time": "2024-03-17T10:29:49.723737Z",
     "start_time": "2024-03-17T10:29:49.703309Z"
    }
   },
   "id": "edf3a3620ab853f9",
   "execution_count": 1112
  },
  {
   "cell_type": "code",
   "outputs": [
    {
     "data": {
      "text/plain": "LOCATION               object\nDATETIME       datetime64[ns]\nTEMPERATURE           float64\ndtype: object"
     },
     "execution_count": 1113,
     "metadata": {},
     "output_type": "execute_result"
    }
   ],
   "source": [
    "qld_temperature.dtypes"
   ],
   "metadata": {
    "collapsed": false,
    "ExecuteTime": {
     "end_time": "2024-03-17T10:29:49.761552Z",
     "start_time": "2024-03-17T10:29:49.757667Z"
    }
   },
   "id": "2085d8400f4c6f42",
   "execution_count": 1113
  },
  {
   "cell_type": "markdown",
   "source": [
    "<a id=\"5\"></a>\n",
    "## SA Temperatures"
   ],
   "metadata": {
    "collapsed": false
   },
   "id": "842327a6d18ecea9"
  },
  {
   "cell_type": "code",
   "outputs": [
    {
     "ename": "FileNotFoundError",
     "evalue": "[Errno 2] No such file or directory: './../data/Australia/d/temprature_sa.csv'",
     "output_type": "error",
     "traceback": [
      "\u001B[0;31m---------------------------------------------------------------------------\u001B[0m",
      "\u001B[0;31mFileNotFoundError\u001B[0m                         Traceback (most recent call last)",
      "Cell \u001B[0;32mIn[1114], line 1\u001B[0m\n\u001B[0;32m----> 1\u001B[0m sa_temperature \u001B[38;5;241m=\u001B[39m \u001B[43mpd\u001B[49m\u001B[38;5;241;43m.\u001B[39;49m\u001B[43mread_csv\u001B[49m\u001B[43m(\u001B[49m\u001B[43mos\u001B[49m\u001B[38;5;241;43m.\u001B[39;49m\u001B[43mpath\u001B[49m\u001B[38;5;241;43m.\u001B[39;49m\u001B[43mjoin\u001B[49m\u001B[43m(\u001B[49m\u001B[43mdata_path\u001B[49m\u001B[43m,\u001B[49m\u001B[43m \u001B[49m\u001B[38;5;124;43m'\u001B[39;49m\u001B[38;5;124;43mAustralia\u001B[39;49m\u001B[38;5;124;43m'\u001B[39;49m\u001B[43m,\u001B[49m\u001B[43m \u001B[49m\u001B[38;5;124;43m'\u001B[39;49m\u001B[38;5;124;43md\u001B[39;49m\u001B[38;5;124;43m'\u001B[39;49m\u001B[43m,\u001B[49m\u001B[43m \u001B[49m\u001B[38;5;124;43m'\u001B[39;49m\u001B[38;5;124;43mtemprature_sa.csv\u001B[39;49m\u001B[38;5;124;43m'\u001B[39;49m\u001B[43m)\u001B[49m\u001B[43m,\u001B[49m\u001B[43m \u001B[49m\u001B[43mparse_dates\u001B[49m\u001B[38;5;241;43m=\u001B[39;49m\u001B[43m[\u001B[49m\u001B[38;5;124;43m'\u001B[39;49m\u001B[38;5;124;43mDATETIME\u001B[39;49m\u001B[38;5;124;43m'\u001B[39;49m\u001B[43m]\u001B[49m\u001B[43m,\u001B[49m\u001B[43m \u001B[49m\u001B[43mindex_col\u001B[49m\u001B[38;5;241;43m=\u001B[39;49m\u001B[38;5;241;43m0\u001B[39;49m\u001B[43m)\u001B[49m\n",
      "File \u001B[0;32m~/.cache/pypoetry/virtualenvs/team-0-5QTAbJ9E-py3.12/lib/python3.12/site-packages/pandas/io/parsers/readers.py:1026\u001B[0m, in \u001B[0;36mread_csv\u001B[0;34m(filepath_or_buffer, sep, delimiter, header, names, index_col, usecols, dtype, engine, converters, true_values, false_values, skipinitialspace, skiprows, skipfooter, nrows, na_values, keep_default_na, na_filter, verbose, skip_blank_lines, parse_dates, infer_datetime_format, keep_date_col, date_parser, date_format, dayfirst, cache_dates, iterator, chunksize, compression, thousands, decimal, lineterminator, quotechar, quoting, doublequote, escapechar, comment, encoding, encoding_errors, dialect, on_bad_lines, delim_whitespace, low_memory, memory_map, float_precision, storage_options, dtype_backend)\u001B[0m\n\u001B[1;32m   1013\u001B[0m kwds_defaults \u001B[38;5;241m=\u001B[39m _refine_defaults_read(\n\u001B[1;32m   1014\u001B[0m     dialect,\n\u001B[1;32m   1015\u001B[0m     delimiter,\n\u001B[0;32m   (...)\u001B[0m\n\u001B[1;32m   1022\u001B[0m     dtype_backend\u001B[38;5;241m=\u001B[39mdtype_backend,\n\u001B[1;32m   1023\u001B[0m )\n\u001B[1;32m   1024\u001B[0m kwds\u001B[38;5;241m.\u001B[39mupdate(kwds_defaults)\n\u001B[0;32m-> 1026\u001B[0m \u001B[38;5;28;01mreturn\u001B[39;00m \u001B[43m_read\u001B[49m\u001B[43m(\u001B[49m\u001B[43mfilepath_or_buffer\u001B[49m\u001B[43m,\u001B[49m\u001B[43m \u001B[49m\u001B[43mkwds\u001B[49m\u001B[43m)\u001B[49m\n",
      "File \u001B[0;32m~/.cache/pypoetry/virtualenvs/team-0-5QTAbJ9E-py3.12/lib/python3.12/site-packages/pandas/io/parsers/readers.py:620\u001B[0m, in \u001B[0;36m_read\u001B[0;34m(filepath_or_buffer, kwds)\u001B[0m\n\u001B[1;32m    617\u001B[0m _validate_names(kwds\u001B[38;5;241m.\u001B[39mget(\u001B[38;5;124m\"\u001B[39m\u001B[38;5;124mnames\u001B[39m\u001B[38;5;124m\"\u001B[39m, \u001B[38;5;28;01mNone\u001B[39;00m))\n\u001B[1;32m    619\u001B[0m \u001B[38;5;66;03m# Create the parser.\u001B[39;00m\n\u001B[0;32m--> 620\u001B[0m parser \u001B[38;5;241m=\u001B[39m \u001B[43mTextFileReader\u001B[49m\u001B[43m(\u001B[49m\u001B[43mfilepath_or_buffer\u001B[49m\u001B[43m,\u001B[49m\u001B[43m \u001B[49m\u001B[38;5;241;43m*\u001B[39;49m\u001B[38;5;241;43m*\u001B[39;49m\u001B[43mkwds\u001B[49m\u001B[43m)\u001B[49m\n\u001B[1;32m    622\u001B[0m \u001B[38;5;28;01mif\u001B[39;00m chunksize \u001B[38;5;129;01mor\u001B[39;00m iterator:\n\u001B[1;32m    623\u001B[0m     \u001B[38;5;28;01mreturn\u001B[39;00m parser\n",
      "File \u001B[0;32m~/.cache/pypoetry/virtualenvs/team-0-5QTAbJ9E-py3.12/lib/python3.12/site-packages/pandas/io/parsers/readers.py:1620\u001B[0m, in \u001B[0;36mTextFileReader.__init__\u001B[0;34m(self, f, engine, **kwds)\u001B[0m\n\u001B[1;32m   1617\u001B[0m     \u001B[38;5;28mself\u001B[39m\u001B[38;5;241m.\u001B[39moptions[\u001B[38;5;124m\"\u001B[39m\u001B[38;5;124mhas_index_names\u001B[39m\u001B[38;5;124m\"\u001B[39m] \u001B[38;5;241m=\u001B[39m kwds[\u001B[38;5;124m\"\u001B[39m\u001B[38;5;124mhas_index_names\u001B[39m\u001B[38;5;124m\"\u001B[39m]\n\u001B[1;32m   1619\u001B[0m \u001B[38;5;28mself\u001B[39m\u001B[38;5;241m.\u001B[39mhandles: IOHandles \u001B[38;5;241m|\u001B[39m \u001B[38;5;28;01mNone\u001B[39;00m \u001B[38;5;241m=\u001B[39m \u001B[38;5;28;01mNone\u001B[39;00m\n\u001B[0;32m-> 1620\u001B[0m \u001B[38;5;28mself\u001B[39m\u001B[38;5;241m.\u001B[39m_engine \u001B[38;5;241m=\u001B[39m \u001B[38;5;28;43mself\u001B[39;49m\u001B[38;5;241;43m.\u001B[39;49m\u001B[43m_make_engine\u001B[49m\u001B[43m(\u001B[49m\u001B[43mf\u001B[49m\u001B[43m,\u001B[49m\u001B[43m \u001B[49m\u001B[38;5;28;43mself\u001B[39;49m\u001B[38;5;241;43m.\u001B[39;49m\u001B[43mengine\u001B[49m\u001B[43m)\u001B[49m\n",
      "File \u001B[0;32m~/.cache/pypoetry/virtualenvs/team-0-5QTAbJ9E-py3.12/lib/python3.12/site-packages/pandas/io/parsers/readers.py:1880\u001B[0m, in \u001B[0;36mTextFileReader._make_engine\u001B[0;34m(self, f, engine)\u001B[0m\n\u001B[1;32m   1878\u001B[0m     \u001B[38;5;28;01mif\u001B[39;00m \u001B[38;5;124m\"\u001B[39m\u001B[38;5;124mb\u001B[39m\u001B[38;5;124m\"\u001B[39m \u001B[38;5;129;01mnot\u001B[39;00m \u001B[38;5;129;01min\u001B[39;00m mode:\n\u001B[1;32m   1879\u001B[0m         mode \u001B[38;5;241m+\u001B[39m\u001B[38;5;241m=\u001B[39m \u001B[38;5;124m\"\u001B[39m\u001B[38;5;124mb\u001B[39m\u001B[38;5;124m\"\u001B[39m\n\u001B[0;32m-> 1880\u001B[0m \u001B[38;5;28mself\u001B[39m\u001B[38;5;241m.\u001B[39mhandles \u001B[38;5;241m=\u001B[39m \u001B[43mget_handle\u001B[49m\u001B[43m(\u001B[49m\n\u001B[1;32m   1881\u001B[0m \u001B[43m    \u001B[49m\u001B[43mf\u001B[49m\u001B[43m,\u001B[49m\n\u001B[1;32m   1882\u001B[0m \u001B[43m    \u001B[49m\u001B[43mmode\u001B[49m\u001B[43m,\u001B[49m\n\u001B[1;32m   1883\u001B[0m \u001B[43m    \u001B[49m\u001B[43mencoding\u001B[49m\u001B[38;5;241;43m=\u001B[39;49m\u001B[38;5;28;43mself\u001B[39;49m\u001B[38;5;241;43m.\u001B[39;49m\u001B[43moptions\u001B[49m\u001B[38;5;241;43m.\u001B[39;49m\u001B[43mget\u001B[49m\u001B[43m(\u001B[49m\u001B[38;5;124;43m\"\u001B[39;49m\u001B[38;5;124;43mencoding\u001B[39;49m\u001B[38;5;124;43m\"\u001B[39;49m\u001B[43m,\u001B[49m\u001B[43m \u001B[49m\u001B[38;5;28;43;01mNone\u001B[39;49;00m\u001B[43m)\u001B[49m\u001B[43m,\u001B[49m\n\u001B[1;32m   1884\u001B[0m \u001B[43m    \u001B[49m\u001B[43mcompression\u001B[49m\u001B[38;5;241;43m=\u001B[39;49m\u001B[38;5;28;43mself\u001B[39;49m\u001B[38;5;241;43m.\u001B[39;49m\u001B[43moptions\u001B[49m\u001B[38;5;241;43m.\u001B[39;49m\u001B[43mget\u001B[49m\u001B[43m(\u001B[49m\u001B[38;5;124;43m\"\u001B[39;49m\u001B[38;5;124;43mcompression\u001B[39;49m\u001B[38;5;124;43m\"\u001B[39;49m\u001B[43m,\u001B[49m\u001B[43m \u001B[49m\u001B[38;5;28;43;01mNone\u001B[39;49;00m\u001B[43m)\u001B[49m\u001B[43m,\u001B[49m\n\u001B[1;32m   1885\u001B[0m \u001B[43m    \u001B[49m\u001B[43mmemory_map\u001B[49m\u001B[38;5;241;43m=\u001B[39;49m\u001B[38;5;28;43mself\u001B[39;49m\u001B[38;5;241;43m.\u001B[39;49m\u001B[43moptions\u001B[49m\u001B[38;5;241;43m.\u001B[39;49m\u001B[43mget\u001B[49m\u001B[43m(\u001B[49m\u001B[38;5;124;43m\"\u001B[39;49m\u001B[38;5;124;43mmemory_map\u001B[39;49m\u001B[38;5;124;43m\"\u001B[39;49m\u001B[43m,\u001B[49m\u001B[43m \u001B[49m\u001B[38;5;28;43;01mFalse\u001B[39;49;00m\u001B[43m)\u001B[49m\u001B[43m,\u001B[49m\n\u001B[1;32m   1886\u001B[0m \u001B[43m    \u001B[49m\u001B[43mis_text\u001B[49m\u001B[38;5;241;43m=\u001B[39;49m\u001B[43mis_text\u001B[49m\u001B[43m,\u001B[49m\n\u001B[1;32m   1887\u001B[0m \u001B[43m    \u001B[49m\u001B[43merrors\u001B[49m\u001B[38;5;241;43m=\u001B[39;49m\u001B[38;5;28;43mself\u001B[39;49m\u001B[38;5;241;43m.\u001B[39;49m\u001B[43moptions\u001B[49m\u001B[38;5;241;43m.\u001B[39;49m\u001B[43mget\u001B[49m\u001B[43m(\u001B[49m\u001B[38;5;124;43m\"\u001B[39;49m\u001B[38;5;124;43mencoding_errors\u001B[39;49m\u001B[38;5;124;43m\"\u001B[39;49m\u001B[43m,\u001B[49m\u001B[43m \u001B[49m\u001B[38;5;124;43m\"\u001B[39;49m\u001B[38;5;124;43mstrict\u001B[39;49m\u001B[38;5;124;43m\"\u001B[39;49m\u001B[43m)\u001B[49m\u001B[43m,\u001B[49m\n\u001B[1;32m   1888\u001B[0m \u001B[43m    \u001B[49m\u001B[43mstorage_options\u001B[49m\u001B[38;5;241;43m=\u001B[39;49m\u001B[38;5;28;43mself\u001B[39;49m\u001B[38;5;241;43m.\u001B[39;49m\u001B[43moptions\u001B[49m\u001B[38;5;241;43m.\u001B[39;49m\u001B[43mget\u001B[49m\u001B[43m(\u001B[49m\u001B[38;5;124;43m\"\u001B[39;49m\u001B[38;5;124;43mstorage_options\u001B[39;49m\u001B[38;5;124;43m\"\u001B[39;49m\u001B[43m,\u001B[49m\u001B[43m \u001B[49m\u001B[38;5;28;43;01mNone\u001B[39;49;00m\u001B[43m)\u001B[49m\u001B[43m,\u001B[49m\n\u001B[1;32m   1889\u001B[0m \u001B[43m\u001B[49m\u001B[43m)\u001B[49m\n\u001B[1;32m   1890\u001B[0m \u001B[38;5;28;01massert\u001B[39;00m \u001B[38;5;28mself\u001B[39m\u001B[38;5;241m.\u001B[39mhandles \u001B[38;5;129;01mis\u001B[39;00m \u001B[38;5;129;01mnot\u001B[39;00m \u001B[38;5;28;01mNone\u001B[39;00m\n\u001B[1;32m   1891\u001B[0m f \u001B[38;5;241m=\u001B[39m \u001B[38;5;28mself\u001B[39m\u001B[38;5;241m.\u001B[39mhandles\u001B[38;5;241m.\u001B[39mhandle\n",
      "File \u001B[0;32m~/.cache/pypoetry/virtualenvs/team-0-5QTAbJ9E-py3.12/lib/python3.12/site-packages/pandas/io/common.py:873\u001B[0m, in \u001B[0;36mget_handle\u001B[0;34m(path_or_buf, mode, encoding, compression, memory_map, is_text, errors, storage_options)\u001B[0m\n\u001B[1;32m    868\u001B[0m \u001B[38;5;28;01melif\u001B[39;00m \u001B[38;5;28misinstance\u001B[39m(handle, \u001B[38;5;28mstr\u001B[39m):\n\u001B[1;32m    869\u001B[0m     \u001B[38;5;66;03m# Check whether the filename is to be opened in binary mode.\u001B[39;00m\n\u001B[1;32m    870\u001B[0m     \u001B[38;5;66;03m# Binary mode does not support 'encoding' and 'newline'.\u001B[39;00m\n\u001B[1;32m    871\u001B[0m     \u001B[38;5;28;01mif\u001B[39;00m ioargs\u001B[38;5;241m.\u001B[39mencoding \u001B[38;5;129;01mand\u001B[39;00m \u001B[38;5;124m\"\u001B[39m\u001B[38;5;124mb\u001B[39m\u001B[38;5;124m\"\u001B[39m \u001B[38;5;129;01mnot\u001B[39;00m \u001B[38;5;129;01min\u001B[39;00m ioargs\u001B[38;5;241m.\u001B[39mmode:\n\u001B[1;32m    872\u001B[0m         \u001B[38;5;66;03m# Encoding\u001B[39;00m\n\u001B[0;32m--> 873\u001B[0m         handle \u001B[38;5;241m=\u001B[39m \u001B[38;5;28;43mopen\u001B[39;49m\u001B[43m(\u001B[49m\n\u001B[1;32m    874\u001B[0m \u001B[43m            \u001B[49m\u001B[43mhandle\u001B[49m\u001B[43m,\u001B[49m\n\u001B[1;32m    875\u001B[0m \u001B[43m            \u001B[49m\u001B[43mioargs\u001B[49m\u001B[38;5;241;43m.\u001B[39;49m\u001B[43mmode\u001B[49m\u001B[43m,\u001B[49m\n\u001B[1;32m    876\u001B[0m \u001B[43m            \u001B[49m\u001B[43mencoding\u001B[49m\u001B[38;5;241;43m=\u001B[39;49m\u001B[43mioargs\u001B[49m\u001B[38;5;241;43m.\u001B[39;49m\u001B[43mencoding\u001B[49m\u001B[43m,\u001B[49m\n\u001B[1;32m    877\u001B[0m \u001B[43m            \u001B[49m\u001B[43merrors\u001B[49m\u001B[38;5;241;43m=\u001B[39;49m\u001B[43merrors\u001B[49m\u001B[43m,\u001B[49m\n\u001B[1;32m    878\u001B[0m \u001B[43m            \u001B[49m\u001B[43mnewline\u001B[49m\u001B[38;5;241;43m=\u001B[39;49m\u001B[38;5;124;43m\"\u001B[39;49m\u001B[38;5;124;43m\"\u001B[39;49m\u001B[43m,\u001B[49m\n\u001B[1;32m    879\u001B[0m \u001B[43m        \u001B[49m\u001B[43m)\u001B[49m\n\u001B[1;32m    880\u001B[0m     \u001B[38;5;28;01melse\u001B[39;00m:\n\u001B[1;32m    881\u001B[0m         \u001B[38;5;66;03m# Binary mode\u001B[39;00m\n\u001B[1;32m    882\u001B[0m         handle \u001B[38;5;241m=\u001B[39m \u001B[38;5;28mopen\u001B[39m(handle, ioargs\u001B[38;5;241m.\u001B[39mmode)\n",
      "\u001B[0;31mFileNotFoundError\u001B[0m: [Errno 2] No such file or directory: './../data/Australia/d/temprature_sa.csv'"
     ]
    }
   ],
   "source": [
    "sa_temperature = pd.read_csv(os.path.join(data_path, 'Australia', 'd', 'temprature_sa.csv'), parse_dates=['DATETIME'], index_col=0)"
   ],
   "metadata": {
    "collapsed": false,
    "ExecuteTime": {
     "end_time": "2024-03-17T10:29:49.888847Z",
     "start_time": "2024-03-17T10:29:49.832614Z"
    }
   },
   "id": "fa25c091d839b212",
   "execution_count": 1114
  },
  {
   "cell_type": "code",
   "outputs": [],
   "source": [
    "sa_temperature.head()"
   ],
   "metadata": {
    "collapsed": false
   },
   "id": "3b7632fe88ea525a",
   "execution_count": null
  },
  {
   "cell_type": "code",
   "outputs": [
    {
     "data": {
      "text/plain": "                    LOCATION            DATETIME  TEMPERATURE\n208080  Adelaide (Kent Town) 2021-03-17 22:00:00         19.6\n208081  Adelaide (Kent Town) 2021-03-17 22:30:00         19.5\n208082  Adelaide (Kent Town) 2021-03-17 23:00:00         19.4\n208083  Adelaide (Kent Town) 2021-03-17 23:30:00         19.6\n208084  Adelaide (Kent Town) 2021-03-18 00:00:00         19.5",
      "text/html": "<div>\n<style scoped>\n    .dataframe tbody tr th:only-of-type {\n        vertical-align: middle;\n    }\n\n    .dataframe tbody tr th {\n        vertical-align: top;\n    }\n\n    .dataframe thead th {\n        text-align: right;\n    }\n</style>\n<table border=\"1\" class=\"dataframe\">\n  <thead>\n    <tr style=\"text-align: right;\">\n      <th></th>\n      <th>LOCATION</th>\n      <th>DATETIME</th>\n      <th>TEMPERATURE</th>\n    </tr>\n  </thead>\n  <tbody>\n    <tr>\n      <th>208080</th>\n      <td>Adelaide (Kent Town)</td>\n      <td>2021-03-17 22:00:00</td>\n      <td>19.6</td>\n    </tr>\n    <tr>\n      <th>208081</th>\n      <td>Adelaide (Kent Town)</td>\n      <td>2021-03-17 22:30:00</td>\n      <td>19.5</td>\n    </tr>\n    <tr>\n      <th>208082</th>\n      <td>Adelaide (Kent Town)</td>\n      <td>2021-03-17 23:00:00</td>\n      <td>19.4</td>\n    </tr>\n    <tr>\n      <th>208083</th>\n      <td>Adelaide (Kent Town)</td>\n      <td>2021-03-17 23:30:00</td>\n      <td>19.6</td>\n    </tr>\n    <tr>\n      <th>208084</th>\n      <td>Adelaide (Kent Town)</td>\n      <td>2021-03-18 00:00:00</td>\n      <td>19.5</td>\n    </tr>\n  </tbody>\n</table>\n</div>"
     },
     "execution_count": 1115,
     "metadata": {},
     "output_type": "execute_result"
    }
   ],
   "source": [
    "sa_temperature.tail()"
   ],
   "metadata": {
    "collapsed": false,
    "ExecuteTime": {
     "end_time": "2024-03-17T10:29:49.970742Z",
     "start_time": "2024-03-17T10:29:49.966324Z"
    }
   },
   "id": "79b6bf38812fad04",
   "execution_count": 1115
  },
  {
   "cell_type": "code",
   "outputs": [
    {
     "name": "stdout",
     "output_type": "stream",
     "text": [
      "<class 'pandas.core.frame.DataFrame'>\n",
      "Index: 208085 entries, 0 to 208084\n",
      "Data columns (total 3 columns):\n",
      " #   Column       Non-Null Count   Dtype         \n",
      "---  ------       --------------   -----         \n",
      " 0   LOCATION     208085 non-null  object        \n",
      " 1   DATETIME     208085 non-null  datetime64[ns]\n",
      " 2   TEMPERATURE  208085 non-null  float64       \n",
      "dtypes: datetime64[ns](1), float64(1), object(1)\n",
      "memory usage: 6.4+ MB\n"
     ]
    }
   ],
   "source": [
    "sa_temperature.info()"
   ],
   "metadata": {
    "collapsed": false,
    "ExecuteTime": {
     "end_time": "2024-03-17T10:29:50.048345Z",
     "start_time": "2024-03-17T10:29:50.008070Z"
    }
   },
   "id": "101d8f64763b0821",
   "execution_count": 1116
  },
  {
   "cell_type": "code",
   "outputs": [
    {
     "data": {
      "text/plain": "count    208085.000000\nmean         20.375972\nstd           5.586945\nmin           1.300000\n25%          16.600000\n50%          20.900000\n75%          24.300000\nmax          42.400000\nName: TEMPERATURE, dtype: float64"
     },
     "execution_count": 1117,
     "metadata": {},
     "output_type": "execute_result"
    }
   ],
   "source": [
    "sa_temperature['TEMPERATURE'].describe()"
   ],
   "metadata": {
    "collapsed": false,
    "ExecuteTime": {
     "end_time": "2024-03-17T10:29:50.102841Z",
     "start_time": "2024-03-17T10:29:50.092287Z"
    }
   },
   "id": "db818fa9f0103061",
   "execution_count": 1117
  },
  {
   "cell_type": "code",
   "outputs": [
    {
     "data": {
      "text/plain": "(208085, 3)"
     },
     "execution_count": 1118,
     "metadata": {},
     "output_type": "execute_result"
    }
   ],
   "source": [
    "sa_temperature.shape"
   ],
   "metadata": {
    "collapsed": false,
    "ExecuteTime": {
     "end_time": "2024-03-17T10:29:50.138215Z",
     "start_time": "2024-03-17T10:29:50.135152Z"
    }
   },
   "id": "d06abbfb86da04f1",
   "execution_count": 1118
  },
  {
   "cell_type": "code",
   "outputs": [
    {
     "data": {
      "text/plain": "LOCATION       Adelaide (Kent Town)\nDATETIME        2010-01-01 00:00:00\nTEMPERATURE                     1.3\ndtype: object"
     },
     "execution_count": 1119,
     "metadata": {},
     "output_type": "execute_result"
    }
   ],
   "source": [
    "sa_temperature.min()"
   ],
   "metadata": {
    "collapsed": false,
    "ExecuteTime": {
     "end_time": "2024-03-17T10:29:50.257864Z",
     "start_time": "2024-03-17T10:29:50.243216Z"
    }
   },
   "id": "b5b62b4631d3a57",
   "execution_count": 1119
  },
  {
   "cell_type": "code",
   "outputs": [
    {
     "data": {
      "text/plain": "LOCATION       Adelaide (Kent Town)\nDATETIME        2021-03-18 00:00:00\nTEMPERATURE                    42.4\ndtype: object"
     },
     "execution_count": 1120,
     "metadata": {},
     "output_type": "execute_result"
    }
   ],
   "source": [
    "sa_temperature.max()"
   ],
   "metadata": {
    "collapsed": false,
    "ExecuteTime": {
     "end_time": "2024-03-17T10:29:50.355797Z",
     "start_time": "2024-03-17T10:29:50.342736Z"
    }
   },
   "id": "cd1225b419a53d81",
   "execution_count": 1120
  },
  {
   "cell_type": "code",
   "outputs": [
    {
     "data": {
      "text/plain": "LOCATION       0\nDATETIME       0\nTEMPERATURE    0\ndtype: int64"
     },
     "execution_count": 1121,
     "metadata": {},
     "output_type": "execute_result"
    }
   ],
   "source": [
    "sa_temperature.isnull().sum()"
   ],
   "metadata": {
    "collapsed": false,
    "ExecuteTime": {
     "end_time": "2024-03-17T10:29:50.511575Z",
     "start_time": "2024-03-17T10:29:50.499825Z"
    }
   },
   "id": "bd9e0cf7ac3f2d6e",
   "execution_count": 1121
  },
  {
   "cell_type": "code",
   "outputs": [
    {
     "data": {
      "text/plain": "LOCATION       0\nDATETIME       0\nTEMPERATURE    0\ndtype: int64"
     },
     "execution_count": 1122,
     "metadata": {},
     "output_type": "execute_result"
    }
   ],
   "source": [
    "sa_temperature.isna().sum()"
   ],
   "metadata": {
    "collapsed": false,
    "ExecuteTime": {
     "end_time": "2024-03-17T10:29:50.532655Z",
     "start_time": "2024-03-17T10:29:50.521957Z"
    }
   },
   "id": "7ccd7affccb4c900",
   "execution_count": 1122
  },
  {
   "cell_type": "code",
   "outputs": [
    {
     "data": {
      "text/plain": "LOCATION            1\nDATETIME       208085\nTEMPERATURE       391\ndtype: int64"
     },
     "execution_count": 1123,
     "metadata": {},
     "output_type": "execute_result"
    }
   ],
   "source": [
    "sa_temperature.nunique()"
   ],
   "metadata": {
    "collapsed": false,
    "ExecuteTime": {
     "end_time": "2024-03-17T10:29:50.622801Z",
     "start_time": "2024-03-17T10:29:50.599406Z"
    }
   },
   "id": "bf2bfb0e59e80941",
   "execution_count": 1123
  },
  {
   "cell_type": "code",
   "outputs": [
    {
     "data": {
      "text/plain": "LOCATION               object\nDATETIME       datetime64[ns]\nTEMPERATURE           float64\ndtype: object"
     },
     "execution_count": 1124,
     "metadata": {},
     "output_type": "execute_result"
    }
   ],
   "source": [
    "sa_temperature.dtypes"
   ],
   "metadata": {
    "collapsed": false,
    "ExecuteTime": {
     "end_time": "2024-03-17T10:29:50.657699Z",
     "start_time": "2024-03-17T10:29:50.653753Z"
    }
   },
   "id": "258e3608509aeee8",
   "execution_count": 1124
  },
  {
   "cell_type": "markdown",
   "source": [
    "<a id=\"6\"></a>\n",
    "## Victoria Temperature"
   ],
   "metadata": {
    "collapsed": false
   },
   "id": "4b6a0150c78d5dcf"
  },
  {
   "cell_type": "code",
   "outputs": [
    {
     "ename": "FileNotFoundError",
     "evalue": "[Errno 2] No such file or directory: './../data/Australia/d/temprature_vic.csv'",
     "output_type": "error",
     "traceback": [
      "\u001B[0;31m---------------------------------------------------------------------------\u001B[0m",
      "\u001B[0;31mFileNotFoundError\u001B[0m                         Traceback (most recent call last)",
      "Cell \u001B[0;32mIn[1125], line 1\u001B[0m\n\u001B[0;32m----> 1\u001B[0m vic_temperature \u001B[38;5;241m=\u001B[39m \u001B[43mpd\u001B[49m\u001B[38;5;241;43m.\u001B[39;49m\u001B[43mread_csv\u001B[49m\u001B[43m(\u001B[49m\u001B[43mos\u001B[49m\u001B[38;5;241;43m.\u001B[39;49m\u001B[43mpath\u001B[49m\u001B[38;5;241;43m.\u001B[39;49m\u001B[43mjoin\u001B[49m\u001B[43m(\u001B[49m\u001B[43mdata_path\u001B[49m\u001B[43m,\u001B[49m\u001B[43m \u001B[49m\u001B[38;5;124;43m'\u001B[39;49m\u001B[38;5;124;43mAustralia\u001B[39;49m\u001B[38;5;124;43m'\u001B[39;49m\u001B[43m,\u001B[49m\u001B[43m \u001B[49m\u001B[38;5;124;43m'\u001B[39;49m\u001B[38;5;124;43md\u001B[39;49m\u001B[38;5;124;43m'\u001B[39;49m\u001B[43m,\u001B[49m\u001B[43m \u001B[49m\u001B[38;5;124;43m'\u001B[39;49m\u001B[38;5;124;43mtemprature_vic.csv\u001B[39;49m\u001B[38;5;124;43m'\u001B[39;49m\u001B[43m)\u001B[49m\u001B[43m,\u001B[49m\u001B[43m \u001B[49m\u001B[43mparse_dates\u001B[49m\u001B[38;5;241;43m=\u001B[39;49m\u001B[43m[\u001B[49m\u001B[38;5;124;43m'\u001B[39;49m\u001B[38;5;124;43mDATETIME\u001B[39;49m\u001B[38;5;124;43m'\u001B[39;49m\u001B[43m]\u001B[49m\u001B[43m,\u001B[49m\u001B[43m \u001B[49m\u001B[43mdayfirst\u001B[49m\u001B[38;5;241;43m=\u001B[39;49m\u001B[38;5;28;43;01mTrue\u001B[39;49;00m\u001B[43m)\u001B[49m\n",
      "File \u001B[0;32m~/.cache/pypoetry/virtualenvs/team-0-5QTAbJ9E-py3.12/lib/python3.12/site-packages/pandas/io/parsers/readers.py:1026\u001B[0m, in \u001B[0;36mread_csv\u001B[0;34m(filepath_or_buffer, sep, delimiter, header, names, index_col, usecols, dtype, engine, converters, true_values, false_values, skipinitialspace, skiprows, skipfooter, nrows, na_values, keep_default_na, na_filter, verbose, skip_blank_lines, parse_dates, infer_datetime_format, keep_date_col, date_parser, date_format, dayfirst, cache_dates, iterator, chunksize, compression, thousands, decimal, lineterminator, quotechar, quoting, doublequote, escapechar, comment, encoding, encoding_errors, dialect, on_bad_lines, delim_whitespace, low_memory, memory_map, float_precision, storage_options, dtype_backend)\u001B[0m\n\u001B[1;32m   1013\u001B[0m kwds_defaults \u001B[38;5;241m=\u001B[39m _refine_defaults_read(\n\u001B[1;32m   1014\u001B[0m     dialect,\n\u001B[1;32m   1015\u001B[0m     delimiter,\n\u001B[0;32m   (...)\u001B[0m\n\u001B[1;32m   1022\u001B[0m     dtype_backend\u001B[38;5;241m=\u001B[39mdtype_backend,\n\u001B[1;32m   1023\u001B[0m )\n\u001B[1;32m   1024\u001B[0m kwds\u001B[38;5;241m.\u001B[39mupdate(kwds_defaults)\n\u001B[0;32m-> 1026\u001B[0m \u001B[38;5;28;01mreturn\u001B[39;00m \u001B[43m_read\u001B[49m\u001B[43m(\u001B[49m\u001B[43mfilepath_or_buffer\u001B[49m\u001B[43m,\u001B[49m\u001B[43m \u001B[49m\u001B[43mkwds\u001B[49m\u001B[43m)\u001B[49m\n",
      "File \u001B[0;32m~/.cache/pypoetry/virtualenvs/team-0-5QTAbJ9E-py3.12/lib/python3.12/site-packages/pandas/io/parsers/readers.py:620\u001B[0m, in \u001B[0;36m_read\u001B[0;34m(filepath_or_buffer, kwds)\u001B[0m\n\u001B[1;32m    617\u001B[0m _validate_names(kwds\u001B[38;5;241m.\u001B[39mget(\u001B[38;5;124m\"\u001B[39m\u001B[38;5;124mnames\u001B[39m\u001B[38;5;124m\"\u001B[39m, \u001B[38;5;28;01mNone\u001B[39;00m))\n\u001B[1;32m    619\u001B[0m \u001B[38;5;66;03m# Create the parser.\u001B[39;00m\n\u001B[0;32m--> 620\u001B[0m parser \u001B[38;5;241m=\u001B[39m \u001B[43mTextFileReader\u001B[49m\u001B[43m(\u001B[49m\u001B[43mfilepath_or_buffer\u001B[49m\u001B[43m,\u001B[49m\u001B[43m \u001B[49m\u001B[38;5;241;43m*\u001B[39;49m\u001B[38;5;241;43m*\u001B[39;49m\u001B[43mkwds\u001B[49m\u001B[43m)\u001B[49m\n\u001B[1;32m    622\u001B[0m \u001B[38;5;28;01mif\u001B[39;00m chunksize \u001B[38;5;129;01mor\u001B[39;00m iterator:\n\u001B[1;32m    623\u001B[0m     \u001B[38;5;28;01mreturn\u001B[39;00m parser\n",
      "File \u001B[0;32m~/.cache/pypoetry/virtualenvs/team-0-5QTAbJ9E-py3.12/lib/python3.12/site-packages/pandas/io/parsers/readers.py:1620\u001B[0m, in \u001B[0;36mTextFileReader.__init__\u001B[0;34m(self, f, engine, **kwds)\u001B[0m\n\u001B[1;32m   1617\u001B[0m     \u001B[38;5;28mself\u001B[39m\u001B[38;5;241m.\u001B[39moptions[\u001B[38;5;124m\"\u001B[39m\u001B[38;5;124mhas_index_names\u001B[39m\u001B[38;5;124m\"\u001B[39m] \u001B[38;5;241m=\u001B[39m kwds[\u001B[38;5;124m\"\u001B[39m\u001B[38;5;124mhas_index_names\u001B[39m\u001B[38;5;124m\"\u001B[39m]\n\u001B[1;32m   1619\u001B[0m \u001B[38;5;28mself\u001B[39m\u001B[38;5;241m.\u001B[39mhandles: IOHandles \u001B[38;5;241m|\u001B[39m \u001B[38;5;28;01mNone\u001B[39;00m \u001B[38;5;241m=\u001B[39m \u001B[38;5;28;01mNone\u001B[39;00m\n\u001B[0;32m-> 1620\u001B[0m \u001B[38;5;28mself\u001B[39m\u001B[38;5;241m.\u001B[39m_engine \u001B[38;5;241m=\u001B[39m \u001B[38;5;28;43mself\u001B[39;49m\u001B[38;5;241;43m.\u001B[39;49m\u001B[43m_make_engine\u001B[49m\u001B[43m(\u001B[49m\u001B[43mf\u001B[49m\u001B[43m,\u001B[49m\u001B[43m \u001B[49m\u001B[38;5;28;43mself\u001B[39;49m\u001B[38;5;241;43m.\u001B[39;49m\u001B[43mengine\u001B[49m\u001B[43m)\u001B[49m\n",
      "File \u001B[0;32m~/.cache/pypoetry/virtualenvs/team-0-5QTAbJ9E-py3.12/lib/python3.12/site-packages/pandas/io/parsers/readers.py:1880\u001B[0m, in \u001B[0;36mTextFileReader._make_engine\u001B[0;34m(self, f, engine)\u001B[0m\n\u001B[1;32m   1878\u001B[0m     \u001B[38;5;28;01mif\u001B[39;00m \u001B[38;5;124m\"\u001B[39m\u001B[38;5;124mb\u001B[39m\u001B[38;5;124m\"\u001B[39m \u001B[38;5;129;01mnot\u001B[39;00m \u001B[38;5;129;01min\u001B[39;00m mode:\n\u001B[1;32m   1879\u001B[0m         mode \u001B[38;5;241m+\u001B[39m\u001B[38;5;241m=\u001B[39m \u001B[38;5;124m\"\u001B[39m\u001B[38;5;124mb\u001B[39m\u001B[38;5;124m\"\u001B[39m\n\u001B[0;32m-> 1880\u001B[0m \u001B[38;5;28mself\u001B[39m\u001B[38;5;241m.\u001B[39mhandles \u001B[38;5;241m=\u001B[39m \u001B[43mget_handle\u001B[49m\u001B[43m(\u001B[49m\n\u001B[1;32m   1881\u001B[0m \u001B[43m    \u001B[49m\u001B[43mf\u001B[49m\u001B[43m,\u001B[49m\n\u001B[1;32m   1882\u001B[0m \u001B[43m    \u001B[49m\u001B[43mmode\u001B[49m\u001B[43m,\u001B[49m\n\u001B[1;32m   1883\u001B[0m \u001B[43m    \u001B[49m\u001B[43mencoding\u001B[49m\u001B[38;5;241;43m=\u001B[39;49m\u001B[38;5;28;43mself\u001B[39;49m\u001B[38;5;241;43m.\u001B[39;49m\u001B[43moptions\u001B[49m\u001B[38;5;241;43m.\u001B[39;49m\u001B[43mget\u001B[49m\u001B[43m(\u001B[49m\u001B[38;5;124;43m\"\u001B[39;49m\u001B[38;5;124;43mencoding\u001B[39;49m\u001B[38;5;124;43m\"\u001B[39;49m\u001B[43m,\u001B[49m\u001B[43m \u001B[49m\u001B[38;5;28;43;01mNone\u001B[39;49;00m\u001B[43m)\u001B[49m\u001B[43m,\u001B[49m\n\u001B[1;32m   1884\u001B[0m \u001B[43m    \u001B[49m\u001B[43mcompression\u001B[49m\u001B[38;5;241;43m=\u001B[39;49m\u001B[38;5;28;43mself\u001B[39;49m\u001B[38;5;241;43m.\u001B[39;49m\u001B[43moptions\u001B[49m\u001B[38;5;241;43m.\u001B[39;49m\u001B[43mget\u001B[49m\u001B[43m(\u001B[49m\u001B[38;5;124;43m\"\u001B[39;49m\u001B[38;5;124;43mcompression\u001B[39;49m\u001B[38;5;124;43m\"\u001B[39;49m\u001B[43m,\u001B[49m\u001B[43m \u001B[49m\u001B[38;5;28;43;01mNone\u001B[39;49;00m\u001B[43m)\u001B[49m\u001B[43m,\u001B[49m\n\u001B[1;32m   1885\u001B[0m \u001B[43m    \u001B[49m\u001B[43mmemory_map\u001B[49m\u001B[38;5;241;43m=\u001B[39;49m\u001B[38;5;28;43mself\u001B[39;49m\u001B[38;5;241;43m.\u001B[39;49m\u001B[43moptions\u001B[49m\u001B[38;5;241;43m.\u001B[39;49m\u001B[43mget\u001B[49m\u001B[43m(\u001B[49m\u001B[38;5;124;43m\"\u001B[39;49m\u001B[38;5;124;43mmemory_map\u001B[39;49m\u001B[38;5;124;43m\"\u001B[39;49m\u001B[43m,\u001B[49m\u001B[43m \u001B[49m\u001B[38;5;28;43;01mFalse\u001B[39;49;00m\u001B[43m)\u001B[49m\u001B[43m,\u001B[49m\n\u001B[1;32m   1886\u001B[0m \u001B[43m    \u001B[49m\u001B[43mis_text\u001B[49m\u001B[38;5;241;43m=\u001B[39;49m\u001B[43mis_text\u001B[49m\u001B[43m,\u001B[49m\n\u001B[1;32m   1887\u001B[0m \u001B[43m    \u001B[49m\u001B[43merrors\u001B[49m\u001B[38;5;241;43m=\u001B[39;49m\u001B[38;5;28;43mself\u001B[39;49m\u001B[38;5;241;43m.\u001B[39;49m\u001B[43moptions\u001B[49m\u001B[38;5;241;43m.\u001B[39;49m\u001B[43mget\u001B[49m\u001B[43m(\u001B[49m\u001B[38;5;124;43m\"\u001B[39;49m\u001B[38;5;124;43mencoding_errors\u001B[39;49m\u001B[38;5;124;43m\"\u001B[39;49m\u001B[43m,\u001B[49m\u001B[43m \u001B[49m\u001B[38;5;124;43m\"\u001B[39;49m\u001B[38;5;124;43mstrict\u001B[39;49m\u001B[38;5;124;43m\"\u001B[39;49m\u001B[43m)\u001B[49m\u001B[43m,\u001B[49m\n\u001B[1;32m   1888\u001B[0m \u001B[43m    \u001B[49m\u001B[43mstorage_options\u001B[49m\u001B[38;5;241;43m=\u001B[39;49m\u001B[38;5;28;43mself\u001B[39;49m\u001B[38;5;241;43m.\u001B[39;49m\u001B[43moptions\u001B[49m\u001B[38;5;241;43m.\u001B[39;49m\u001B[43mget\u001B[49m\u001B[43m(\u001B[49m\u001B[38;5;124;43m\"\u001B[39;49m\u001B[38;5;124;43mstorage_options\u001B[39;49m\u001B[38;5;124;43m\"\u001B[39;49m\u001B[43m,\u001B[49m\u001B[43m \u001B[49m\u001B[38;5;28;43;01mNone\u001B[39;49;00m\u001B[43m)\u001B[49m\u001B[43m,\u001B[49m\n\u001B[1;32m   1889\u001B[0m \u001B[43m\u001B[49m\u001B[43m)\u001B[49m\n\u001B[1;32m   1890\u001B[0m \u001B[38;5;28;01massert\u001B[39;00m \u001B[38;5;28mself\u001B[39m\u001B[38;5;241m.\u001B[39mhandles \u001B[38;5;129;01mis\u001B[39;00m \u001B[38;5;129;01mnot\u001B[39;00m \u001B[38;5;28;01mNone\u001B[39;00m\n\u001B[1;32m   1891\u001B[0m f \u001B[38;5;241m=\u001B[39m \u001B[38;5;28mself\u001B[39m\u001B[38;5;241m.\u001B[39mhandles\u001B[38;5;241m.\u001B[39mhandle\n",
      "File \u001B[0;32m~/.cache/pypoetry/virtualenvs/team-0-5QTAbJ9E-py3.12/lib/python3.12/site-packages/pandas/io/common.py:873\u001B[0m, in \u001B[0;36mget_handle\u001B[0;34m(path_or_buf, mode, encoding, compression, memory_map, is_text, errors, storage_options)\u001B[0m\n\u001B[1;32m    868\u001B[0m \u001B[38;5;28;01melif\u001B[39;00m \u001B[38;5;28misinstance\u001B[39m(handle, \u001B[38;5;28mstr\u001B[39m):\n\u001B[1;32m    869\u001B[0m     \u001B[38;5;66;03m# Check whether the filename is to be opened in binary mode.\u001B[39;00m\n\u001B[1;32m    870\u001B[0m     \u001B[38;5;66;03m# Binary mode does not support 'encoding' and 'newline'.\u001B[39;00m\n\u001B[1;32m    871\u001B[0m     \u001B[38;5;28;01mif\u001B[39;00m ioargs\u001B[38;5;241m.\u001B[39mencoding \u001B[38;5;129;01mand\u001B[39;00m \u001B[38;5;124m\"\u001B[39m\u001B[38;5;124mb\u001B[39m\u001B[38;5;124m\"\u001B[39m \u001B[38;5;129;01mnot\u001B[39;00m \u001B[38;5;129;01min\u001B[39;00m ioargs\u001B[38;5;241m.\u001B[39mmode:\n\u001B[1;32m    872\u001B[0m         \u001B[38;5;66;03m# Encoding\u001B[39;00m\n\u001B[0;32m--> 873\u001B[0m         handle \u001B[38;5;241m=\u001B[39m \u001B[38;5;28;43mopen\u001B[39;49m\u001B[43m(\u001B[49m\n\u001B[1;32m    874\u001B[0m \u001B[43m            \u001B[49m\u001B[43mhandle\u001B[49m\u001B[43m,\u001B[49m\n\u001B[1;32m    875\u001B[0m \u001B[43m            \u001B[49m\u001B[43mioargs\u001B[49m\u001B[38;5;241;43m.\u001B[39;49m\u001B[43mmode\u001B[49m\u001B[43m,\u001B[49m\n\u001B[1;32m    876\u001B[0m \u001B[43m            \u001B[49m\u001B[43mencoding\u001B[49m\u001B[38;5;241;43m=\u001B[39;49m\u001B[43mioargs\u001B[49m\u001B[38;5;241;43m.\u001B[39;49m\u001B[43mencoding\u001B[49m\u001B[43m,\u001B[49m\n\u001B[1;32m    877\u001B[0m \u001B[43m            \u001B[49m\u001B[43merrors\u001B[49m\u001B[38;5;241;43m=\u001B[39;49m\u001B[43merrors\u001B[49m\u001B[43m,\u001B[49m\n\u001B[1;32m    878\u001B[0m \u001B[43m            \u001B[49m\u001B[43mnewline\u001B[49m\u001B[38;5;241;43m=\u001B[39;49m\u001B[38;5;124;43m\"\u001B[39;49m\u001B[38;5;124;43m\"\u001B[39;49m\u001B[43m,\u001B[49m\n\u001B[1;32m    879\u001B[0m \u001B[43m        \u001B[49m\u001B[43m)\u001B[49m\n\u001B[1;32m    880\u001B[0m     \u001B[38;5;28;01melse\u001B[39;00m:\n\u001B[1;32m    881\u001B[0m         \u001B[38;5;66;03m# Binary mode\u001B[39;00m\n\u001B[1;32m    882\u001B[0m         handle \u001B[38;5;241m=\u001B[39m \u001B[38;5;28mopen\u001B[39m(handle, ioargs\u001B[38;5;241m.\u001B[39mmode)\n",
      "\u001B[0;31mFileNotFoundError\u001B[0m: [Errno 2] No such file or directory: './../data/Australia/d/temprature_vic.csv'"
     ]
    }
   ],
   "source": [
    "vic_temperature = pd.read_csv(os.path.join(data_path, 'Australia', 'd', 'temprature_vic.csv'), parse_dates=['DATETIME'], dayfirst=True)"
   ],
   "metadata": {
    "collapsed": false,
    "ExecuteTime": {
     "end_time": "2024-03-17T10:29:50.826604Z",
     "start_time": "2024-03-17T10:29:50.764904Z"
    }
   },
   "id": "de740b5c40b6d60b",
   "execution_count": 1125
  },
  {
   "cell_type": "code",
   "outputs": [
    {
     "data": {
      "text/plain": "                   LOCATION            DATETIME  TEMPERATURE\n0  Melbourne (Olympic Park) 2013-05-31 15:00:00         18.2\n1  Melbourne (Olympic Park) 2013-05-31 15:30:00         18.3\n2  Melbourne (Olympic Park) 2013-05-31 16:00:00         18.3\n3  Melbourne (Olympic Park) 2013-05-31 16:30:00         18.3\n4  Melbourne (Olympic Park) 2013-05-31 17:00:00         18.2",
      "text/html": "<div>\n<style scoped>\n    .dataframe tbody tr th:only-of-type {\n        vertical-align: middle;\n    }\n\n    .dataframe tbody tr th {\n        vertical-align: top;\n    }\n\n    .dataframe thead th {\n        text-align: right;\n    }\n</style>\n<table border=\"1\" class=\"dataframe\">\n  <thead>\n    <tr style=\"text-align: right;\">\n      <th></th>\n      <th>LOCATION</th>\n      <th>DATETIME</th>\n      <th>TEMPERATURE</th>\n    </tr>\n  </thead>\n  <tbody>\n    <tr>\n      <th>0</th>\n      <td>Melbourne (Olympic Park)</td>\n      <td>2013-05-31 15:00:00</td>\n      <td>18.2</td>\n    </tr>\n    <tr>\n      <th>1</th>\n      <td>Melbourne (Olympic Park)</td>\n      <td>2013-05-31 15:30:00</td>\n      <td>18.3</td>\n    </tr>\n    <tr>\n      <th>2</th>\n      <td>Melbourne (Olympic Park)</td>\n      <td>2013-05-31 16:00:00</td>\n      <td>18.3</td>\n    </tr>\n    <tr>\n      <th>3</th>\n      <td>Melbourne (Olympic Park)</td>\n      <td>2013-05-31 16:30:00</td>\n      <td>18.3</td>\n    </tr>\n    <tr>\n      <th>4</th>\n      <td>Melbourne (Olympic Park)</td>\n      <td>2013-05-31 17:00:00</td>\n      <td>18.2</td>\n    </tr>\n  </tbody>\n</table>\n</div>"
     },
     "execution_count": 1126,
     "metadata": {},
     "output_type": "execute_result"
    }
   ],
   "source": [
    "vic_temperature.head()"
   ],
   "metadata": {
    "collapsed": false,
    "ExecuteTime": {
     "end_time": "2024-03-17T10:29:50.831952Z",
     "start_time": "2024-03-17T10:29:50.828271Z"
    }
   },
   "id": "70c891e186020566",
   "execution_count": 1126
  },
  {
   "cell_type": "code",
   "outputs": [
    {
     "data": {
      "text/plain": "                        LOCATION            DATETIME  TEMPERATURE\n141676  Melbourne (Olympic Park) 2021-03-17 22:00:00         18.9\n141677  Melbourne (Olympic Park) 2021-03-17 22:30:00         17.9\n141678  Melbourne (Olympic Park) 2021-03-17 23:00:00         17.3\n141679  Melbourne (Olympic Park) 2021-03-17 23:30:00         16.6\n141680  Melbourne (Olympic Park) 2021-03-18 00:00:00         15.8",
      "text/html": "<div>\n<style scoped>\n    .dataframe tbody tr th:only-of-type {\n        vertical-align: middle;\n    }\n\n    .dataframe tbody tr th {\n        vertical-align: top;\n    }\n\n    .dataframe thead th {\n        text-align: right;\n    }\n</style>\n<table border=\"1\" class=\"dataframe\">\n  <thead>\n    <tr style=\"text-align: right;\">\n      <th></th>\n      <th>LOCATION</th>\n      <th>DATETIME</th>\n      <th>TEMPERATURE</th>\n    </tr>\n  </thead>\n  <tbody>\n    <tr>\n      <th>141676</th>\n      <td>Melbourne (Olympic Park)</td>\n      <td>2021-03-17 22:00:00</td>\n      <td>18.9</td>\n    </tr>\n    <tr>\n      <th>141677</th>\n      <td>Melbourne (Olympic Park)</td>\n      <td>2021-03-17 22:30:00</td>\n      <td>17.9</td>\n    </tr>\n    <tr>\n      <th>141678</th>\n      <td>Melbourne (Olympic Park)</td>\n      <td>2021-03-17 23:00:00</td>\n      <td>17.3</td>\n    </tr>\n    <tr>\n      <th>141679</th>\n      <td>Melbourne (Olympic Park)</td>\n      <td>2021-03-17 23:30:00</td>\n      <td>16.6</td>\n    </tr>\n    <tr>\n      <th>141680</th>\n      <td>Melbourne (Olympic Park)</td>\n      <td>2021-03-18 00:00:00</td>\n      <td>15.8</td>\n    </tr>\n  </tbody>\n</table>\n</div>"
     },
     "execution_count": 1127,
     "metadata": {},
     "output_type": "execute_result"
    }
   ],
   "source": [
    "vic_temperature.tail()"
   ],
   "metadata": {
    "collapsed": false,
    "ExecuteTime": {
     "end_time": "2024-03-17T10:29:50.927550Z",
     "start_time": "2024-03-17T10:29:50.922805Z"
    }
   },
   "id": "cad113d642a23bd4",
   "execution_count": 1127
  },
  {
   "cell_type": "code",
   "outputs": [
    {
     "name": "stdout",
     "output_type": "stream",
     "text": [
      "<class 'pandas.core.frame.DataFrame'>\n",
      "RangeIndex: 141681 entries, 0 to 141680\n",
      "Data columns (total 3 columns):\n",
      " #   Column       Non-Null Count   Dtype         \n",
      "---  ------       --------------   -----         \n",
      " 0   LOCATION     141681 non-null  object        \n",
      " 1   DATETIME     141681 non-null  datetime64[ns]\n",
      " 2   TEMPERATURE  141681 non-null  float64       \n",
      "dtypes: datetime64[ns](1), float64(1), object(1)\n",
      "memory usage: 3.2+ MB\n"
     ]
    }
   ],
   "source": [
    "vic_temperature.info()"
   ],
   "metadata": {
    "collapsed": false,
    "ExecuteTime": {
     "end_time": "2024-03-17T10:29:51.040252Z",
     "start_time": "2024-03-17T10:29:51.030859Z"
    }
   },
   "id": "35e447770d8fee3c",
   "execution_count": 1128
  },
  {
   "cell_type": "code",
   "outputs": [
    {
     "data": {
      "text/plain": "count    141681.000000\nmean         15.711337\nstd           5.637641\nmin           0.800000\n25%          11.800000\n50%          14.900000\n75%          18.700000\nmax          43.300000\nName: TEMPERATURE, dtype: float64"
     },
     "execution_count": 1129,
     "metadata": {},
     "output_type": "execute_result"
    }
   ],
   "source": [
    "vic_temperature['TEMPERATURE'].describe()"
   ],
   "metadata": {
    "collapsed": false,
    "ExecuteTime": {
     "end_time": "2024-03-17T10:29:51.116763Z",
     "start_time": "2024-03-17T10:29:51.109528Z"
    }
   },
   "id": "4b34f60260060330",
   "execution_count": 1129
  },
  {
   "cell_type": "code",
   "outputs": [
    {
     "data": {
      "text/plain": "(141681, 3)"
     },
     "execution_count": 1130,
     "metadata": {},
     "output_type": "execute_result"
    }
   ],
   "source": [
    "vic_temperature.shape"
   ],
   "metadata": {
    "collapsed": false,
    "ExecuteTime": {
     "end_time": "2024-03-17T10:29:51.227086Z",
     "start_time": "2024-03-17T10:29:51.224348Z"
    }
   },
   "id": "b0fef9283d61fba8",
   "execution_count": 1130
  },
  {
   "cell_type": "code",
   "outputs": [
    {
     "data": {
      "text/plain": "LOCATION       Melbourne (Olympic Park)\nDATETIME            2013-05-31 15:00:00\nTEMPERATURE                         0.8\ndtype: object"
     },
     "execution_count": 1131,
     "metadata": {},
     "output_type": "execute_result"
    }
   ],
   "source": [
    "vic_temperature.min()"
   ],
   "metadata": {
    "collapsed": false,
    "ExecuteTime": {
     "end_time": "2024-03-17T10:29:51.343439Z",
     "start_time": "2024-03-17T10:29:51.332364Z"
    }
   },
   "id": "2f703d39d6aebe82",
   "execution_count": 1131
  },
  {
   "cell_type": "code",
   "outputs": [
    {
     "data": {
      "text/plain": "LOCATION       Melbourne (Olympic Park)\nDATETIME            2021-03-18 00:00:00\nTEMPERATURE                        43.3\ndtype: object"
     },
     "execution_count": 1132,
     "metadata": {},
     "output_type": "execute_result"
    }
   ],
   "source": [
    "vic_temperature.max()"
   ],
   "metadata": {
    "collapsed": false,
    "ExecuteTime": {
     "end_time": "2024-03-17T10:29:51.522263Z",
     "start_time": "2024-03-17T10:29:51.515166Z"
    }
   },
   "id": "e6f3c616c9851906",
   "execution_count": 1132
  },
  {
   "cell_type": "code",
   "outputs": [
    {
     "data": {
      "text/plain": "LOCATION       0\nDATETIME       0\nTEMPERATURE    0\ndtype: int64"
     },
     "execution_count": 1133,
     "metadata": {},
     "output_type": "execute_result"
    }
   ],
   "source": [
    "vic_temperature.isnull().sum()"
   ],
   "metadata": {
    "collapsed": false,
    "ExecuteTime": {
     "end_time": "2024-03-17T10:29:51.617210Z",
     "start_time": "2024-03-17T10:29:51.610194Z"
    }
   },
   "id": "9a6a87d9bc367223",
   "execution_count": 1133
  },
  {
   "cell_type": "code",
   "outputs": [
    {
     "data": {
      "text/plain": "LOCATION       0\nDATETIME       0\nTEMPERATURE    0\ndtype: int64"
     },
     "execution_count": 1134,
     "metadata": {},
     "output_type": "execute_result"
    }
   ],
   "source": [
    "vic_temperature.isna().sum()"
   ],
   "metadata": {
    "collapsed": false,
    "ExecuteTime": {
     "end_time": "2024-03-17T10:29:51.656345Z",
     "start_time": "2024-03-17T10:29:51.649696Z"
    }
   },
   "id": "22b22a29aa039bc0",
   "execution_count": 1134
  },
  {
   "cell_type": "code",
   "outputs": [
    {
     "data": {
      "text/plain": "LOCATION            1\nDATETIME       141681\nTEMPERATURE       424\ndtype: int64"
     },
     "execution_count": 1135,
     "metadata": {},
     "output_type": "execute_result"
    }
   ],
   "source": [
    "vic_temperature.nunique()"
   ],
   "metadata": {
    "collapsed": false,
    "ExecuteTime": {
     "end_time": "2024-03-17T10:29:51.737653Z",
     "start_time": "2024-03-17T10:29:51.724542Z"
    }
   },
   "id": "d6cc129d2837af82",
   "execution_count": 1135
  },
  {
   "cell_type": "code",
   "outputs": [
    {
     "data": {
      "text/plain": "LOCATION               object\nDATETIME       datetime64[ns]\nTEMPERATURE           float64\ndtype: object"
     },
     "execution_count": 1136,
     "metadata": {},
     "output_type": "execute_result"
    }
   ],
   "source": [
    "vic_temperature.dtypes"
   ],
   "metadata": {
    "collapsed": false,
    "ExecuteTime": {
     "end_time": "2024-03-17T10:29:51.781233Z",
     "start_time": "2024-03-17T10:29:51.778313Z"
    }
   },
   "id": "99cc85a417da565c",
   "execution_count": 1136
  },
  {
   "cell_type": "markdown",
   "source": [
    "## QLD Total Demand"
   ],
   "metadata": {
    "collapsed": false
   },
   "id": "f20d638f38e23992"
  },
  {
   "cell_type": "code",
   "outputs": [
    {
     "ename": "FileNotFoundError",
     "evalue": "[Errno 2] No such file or directory: './../data/Australia/d/totaldemand_qld.csv'",
     "output_type": "error",
     "traceback": [
      "\u001B[0;31m---------------------------------------------------------------------------\u001B[0m",
      "\u001B[0;31mFileNotFoundError\u001B[0m                         Traceback (most recent call last)",
      "Cell \u001B[0;32mIn[1137], line 1\u001B[0m\n\u001B[0;32m----> 1\u001B[0m qld_totaldemand \u001B[38;5;241m=\u001B[39m \u001B[43mpd\u001B[49m\u001B[38;5;241;43m.\u001B[39;49m\u001B[43mread_csv\u001B[49m\u001B[43m(\u001B[49m\u001B[43mos\u001B[49m\u001B[38;5;241;43m.\u001B[39;49m\u001B[43mpath\u001B[49m\u001B[38;5;241;43m.\u001B[39;49m\u001B[43mjoin\u001B[49m\u001B[43m(\u001B[49m\u001B[43mdata_path\u001B[49m\u001B[43m,\u001B[49m\u001B[43m \u001B[49m\u001B[38;5;124;43m'\u001B[39;49m\u001B[38;5;124;43mAustralia\u001B[39;49m\u001B[38;5;124;43m'\u001B[39;49m\u001B[43m,\u001B[49m\u001B[43m \u001B[49m\u001B[38;5;124;43m'\u001B[39;49m\u001B[38;5;124;43md\u001B[39;49m\u001B[38;5;124;43m'\u001B[39;49m\u001B[43m,\u001B[49m\u001B[43m \u001B[49m\u001B[38;5;124;43m'\u001B[39;49m\u001B[38;5;124;43mtotaldemand_qld.csv\u001B[39;49m\u001B[38;5;124;43m'\u001B[39;49m\u001B[43m)\u001B[49m\u001B[43m,\u001B[49m\u001B[43m \u001B[49m\u001B[43mparse_dates\u001B[49m\u001B[38;5;241;43m=\u001B[39;49m\u001B[43m[\u001B[49m\u001B[38;5;124;43m'\u001B[39;49m\u001B[38;5;124;43mDATETIME\u001B[39;49m\u001B[38;5;124;43m'\u001B[39;49m\u001B[43m]\u001B[49m\u001B[43m)\u001B[49m\n",
      "File \u001B[0;32m~/.cache/pypoetry/virtualenvs/team-0-5QTAbJ9E-py3.12/lib/python3.12/site-packages/pandas/io/parsers/readers.py:1026\u001B[0m, in \u001B[0;36mread_csv\u001B[0;34m(filepath_or_buffer, sep, delimiter, header, names, index_col, usecols, dtype, engine, converters, true_values, false_values, skipinitialspace, skiprows, skipfooter, nrows, na_values, keep_default_na, na_filter, verbose, skip_blank_lines, parse_dates, infer_datetime_format, keep_date_col, date_parser, date_format, dayfirst, cache_dates, iterator, chunksize, compression, thousands, decimal, lineterminator, quotechar, quoting, doublequote, escapechar, comment, encoding, encoding_errors, dialect, on_bad_lines, delim_whitespace, low_memory, memory_map, float_precision, storage_options, dtype_backend)\u001B[0m\n\u001B[1;32m   1013\u001B[0m kwds_defaults \u001B[38;5;241m=\u001B[39m _refine_defaults_read(\n\u001B[1;32m   1014\u001B[0m     dialect,\n\u001B[1;32m   1015\u001B[0m     delimiter,\n\u001B[0;32m   (...)\u001B[0m\n\u001B[1;32m   1022\u001B[0m     dtype_backend\u001B[38;5;241m=\u001B[39mdtype_backend,\n\u001B[1;32m   1023\u001B[0m )\n\u001B[1;32m   1024\u001B[0m kwds\u001B[38;5;241m.\u001B[39mupdate(kwds_defaults)\n\u001B[0;32m-> 1026\u001B[0m \u001B[38;5;28;01mreturn\u001B[39;00m \u001B[43m_read\u001B[49m\u001B[43m(\u001B[49m\u001B[43mfilepath_or_buffer\u001B[49m\u001B[43m,\u001B[49m\u001B[43m \u001B[49m\u001B[43mkwds\u001B[49m\u001B[43m)\u001B[49m\n",
      "File \u001B[0;32m~/.cache/pypoetry/virtualenvs/team-0-5QTAbJ9E-py3.12/lib/python3.12/site-packages/pandas/io/parsers/readers.py:620\u001B[0m, in \u001B[0;36m_read\u001B[0;34m(filepath_or_buffer, kwds)\u001B[0m\n\u001B[1;32m    617\u001B[0m _validate_names(kwds\u001B[38;5;241m.\u001B[39mget(\u001B[38;5;124m\"\u001B[39m\u001B[38;5;124mnames\u001B[39m\u001B[38;5;124m\"\u001B[39m, \u001B[38;5;28;01mNone\u001B[39;00m))\n\u001B[1;32m    619\u001B[0m \u001B[38;5;66;03m# Create the parser.\u001B[39;00m\n\u001B[0;32m--> 620\u001B[0m parser \u001B[38;5;241m=\u001B[39m \u001B[43mTextFileReader\u001B[49m\u001B[43m(\u001B[49m\u001B[43mfilepath_or_buffer\u001B[49m\u001B[43m,\u001B[49m\u001B[43m \u001B[49m\u001B[38;5;241;43m*\u001B[39;49m\u001B[38;5;241;43m*\u001B[39;49m\u001B[43mkwds\u001B[49m\u001B[43m)\u001B[49m\n\u001B[1;32m    622\u001B[0m \u001B[38;5;28;01mif\u001B[39;00m chunksize \u001B[38;5;129;01mor\u001B[39;00m iterator:\n\u001B[1;32m    623\u001B[0m     \u001B[38;5;28;01mreturn\u001B[39;00m parser\n",
      "File \u001B[0;32m~/.cache/pypoetry/virtualenvs/team-0-5QTAbJ9E-py3.12/lib/python3.12/site-packages/pandas/io/parsers/readers.py:1620\u001B[0m, in \u001B[0;36mTextFileReader.__init__\u001B[0;34m(self, f, engine, **kwds)\u001B[0m\n\u001B[1;32m   1617\u001B[0m     \u001B[38;5;28mself\u001B[39m\u001B[38;5;241m.\u001B[39moptions[\u001B[38;5;124m\"\u001B[39m\u001B[38;5;124mhas_index_names\u001B[39m\u001B[38;5;124m\"\u001B[39m] \u001B[38;5;241m=\u001B[39m kwds[\u001B[38;5;124m\"\u001B[39m\u001B[38;5;124mhas_index_names\u001B[39m\u001B[38;5;124m\"\u001B[39m]\n\u001B[1;32m   1619\u001B[0m \u001B[38;5;28mself\u001B[39m\u001B[38;5;241m.\u001B[39mhandles: IOHandles \u001B[38;5;241m|\u001B[39m \u001B[38;5;28;01mNone\u001B[39;00m \u001B[38;5;241m=\u001B[39m \u001B[38;5;28;01mNone\u001B[39;00m\n\u001B[0;32m-> 1620\u001B[0m \u001B[38;5;28mself\u001B[39m\u001B[38;5;241m.\u001B[39m_engine \u001B[38;5;241m=\u001B[39m \u001B[38;5;28;43mself\u001B[39;49m\u001B[38;5;241;43m.\u001B[39;49m\u001B[43m_make_engine\u001B[49m\u001B[43m(\u001B[49m\u001B[43mf\u001B[49m\u001B[43m,\u001B[49m\u001B[43m \u001B[49m\u001B[38;5;28;43mself\u001B[39;49m\u001B[38;5;241;43m.\u001B[39;49m\u001B[43mengine\u001B[49m\u001B[43m)\u001B[49m\n",
      "File \u001B[0;32m~/.cache/pypoetry/virtualenvs/team-0-5QTAbJ9E-py3.12/lib/python3.12/site-packages/pandas/io/parsers/readers.py:1880\u001B[0m, in \u001B[0;36mTextFileReader._make_engine\u001B[0;34m(self, f, engine)\u001B[0m\n\u001B[1;32m   1878\u001B[0m     \u001B[38;5;28;01mif\u001B[39;00m \u001B[38;5;124m\"\u001B[39m\u001B[38;5;124mb\u001B[39m\u001B[38;5;124m\"\u001B[39m \u001B[38;5;129;01mnot\u001B[39;00m \u001B[38;5;129;01min\u001B[39;00m mode:\n\u001B[1;32m   1879\u001B[0m         mode \u001B[38;5;241m+\u001B[39m\u001B[38;5;241m=\u001B[39m \u001B[38;5;124m\"\u001B[39m\u001B[38;5;124mb\u001B[39m\u001B[38;5;124m\"\u001B[39m\n\u001B[0;32m-> 1880\u001B[0m \u001B[38;5;28mself\u001B[39m\u001B[38;5;241m.\u001B[39mhandles \u001B[38;5;241m=\u001B[39m \u001B[43mget_handle\u001B[49m\u001B[43m(\u001B[49m\n\u001B[1;32m   1881\u001B[0m \u001B[43m    \u001B[49m\u001B[43mf\u001B[49m\u001B[43m,\u001B[49m\n\u001B[1;32m   1882\u001B[0m \u001B[43m    \u001B[49m\u001B[43mmode\u001B[49m\u001B[43m,\u001B[49m\n\u001B[1;32m   1883\u001B[0m \u001B[43m    \u001B[49m\u001B[43mencoding\u001B[49m\u001B[38;5;241;43m=\u001B[39;49m\u001B[38;5;28;43mself\u001B[39;49m\u001B[38;5;241;43m.\u001B[39;49m\u001B[43moptions\u001B[49m\u001B[38;5;241;43m.\u001B[39;49m\u001B[43mget\u001B[49m\u001B[43m(\u001B[49m\u001B[38;5;124;43m\"\u001B[39;49m\u001B[38;5;124;43mencoding\u001B[39;49m\u001B[38;5;124;43m\"\u001B[39;49m\u001B[43m,\u001B[49m\u001B[43m \u001B[49m\u001B[38;5;28;43;01mNone\u001B[39;49;00m\u001B[43m)\u001B[49m\u001B[43m,\u001B[49m\n\u001B[1;32m   1884\u001B[0m \u001B[43m    \u001B[49m\u001B[43mcompression\u001B[49m\u001B[38;5;241;43m=\u001B[39;49m\u001B[38;5;28;43mself\u001B[39;49m\u001B[38;5;241;43m.\u001B[39;49m\u001B[43moptions\u001B[49m\u001B[38;5;241;43m.\u001B[39;49m\u001B[43mget\u001B[49m\u001B[43m(\u001B[49m\u001B[38;5;124;43m\"\u001B[39;49m\u001B[38;5;124;43mcompression\u001B[39;49m\u001B[38;5;124;43m\"\u001B[39;49m\u001B[43m,\u001B[49m\u001B[43m \u001B[49m\u001B[38;5;28;43;01mNone\u001B[39;49;00m\u001B[43m)\u001B[49m\u001B[43m,\u001B[49m\n\u001B[1;32m   1885\u001B[0m \u001B[43m    \u001B[49m\u001B[43mmemory_map\u001B[49m\u001B[38;5;241;43m=\u001B[39;49m\u001B[38;5;28;43mself\u001B[39;49m\u001B[38;5;241;43m.\u001B[39;49m\u001B[43moptions\u001B[49m\u001B[38;5;241;43m.\u001B[39;49m\u001B[43mget\u001B[49m\u001B[43m(\u001B[49m\u001B[38;5;124;43m\"\u001B[39;49m\u001B[38;5;124;43mmemory_map\u001B[39;49m\u001B[38;5;124;43m\"\u001B[39;49m\u001B[43m,\u001B[49m\u001B[43m \u001B[49m\u001B[38;5;28;43;01mFalse\u001B[39;49;00m\u001B[43m)\u001B[49m\u001B[43m,\u001B[49m\n\u001B[1;32m   1886\u001B[0m \u001B[43m    \u001B[49m\u001B[43mis_text\u001B[49m\u001B[38;5;241;43m=\u001B[39;49m\u001B[43mis_text\u001B[49m\u001B[43m,\u001B[49m\n\u001B[1;32m   1887\u001B[0m \u001B[43m    \u001B[49m\u001B[43merrors\u001B[49m\u001B[38;5;241;43m=\u001B[39;49m\u001B[38;5;28;43mself\u001B[39;49m\u001B[38;5;241;43m.\u001B[39;49m\u001B[43moptions\u001B[49m\u001B[38;5;241;43m.\u001B[39;49m\u001B[43mget\u001B[49m\u001B[43m(\u001B[49m\u001B[38;5;124;43m\"\u001B[39;49m\u001B[38;5;124;43mencoding_errors\u001B[39;49m\u001B[38;5;124;43m\"\u001B[39;49m\u001B[43m,\u001B[49m\u001B[43m \u001B[49m\u001B[38;5;124;43m\"\u001B[39;49m\u001B[38;5;124;43mstrict\u001B[39;49m\u001B[38;5;124;43m\"\u001B[39;49m\u001B[43m)\u001B[49m\u001B[43m,\u001B[49m\n\u001B[1;32m   1888\u001B[0m \u001B[43m    \u001B[49m\u001B[43mstorage_options\u001B[49m\u001B[38;5;241;43m=\u001B[39;49m\u001B[38;5;28;43mself\u001B[39;49m\u001B[38;5;241;43m.\u001B[39;49m\u001B[43moptions\u001B[49m\u001B[38;5;241;43m.\u001B[39;49m\u001B[43mget\u001B[49m\u001B[43m(\u001B[49m\u001B[38;5;124;43m\"\u001B[39;49m\u001B[38;5;124;43mstorage_options\u001B[39;49m\u001B[38;5;124;43m\"\u001B[39;49m\u001B[43m,\u001B[49m\u001B[43m \u001B[49m\u001B[38;5;28;43;01mNone\u001B[39;49;00m\u001B[43m)\u001B[49m\u001B[43m,\u001B[49m\n\u001B[1;32m   1889\u001B[0m \u001B[43m\u001B[49m\u001B[43m)\u001B[49m\n\u001B[1;32m   1890\u001B[0m \u001B[38;5;28;01massert\u001B[39;00m \u001B[38;5;28mself\u001B[39m\u001B[38;5;241m.\u001B[39mhandles \u001B[38;5;129;01mis\u001B[39;00m \u001B[38;5;129;01mnot\u001B[39;00m \u001B[38;5;28;01mNone\u001B[39;00m\n\u001B[1;32m   1891\u001B[0m f \u001B[38;5;241m=\u001B[39m \u001B[38;5;28mself\u001B[39m\u001B[38;5;241m.\u001B[39mhandles\u001B[38;5;241m.\u001B[39mhandle\n",
      "File \u001B[0;32m~/.cache/pypoetry/virtualenvs/team-0-5QTAbJ9E-py3.12/lib/python3.12/site-packages/pandas/io/common.py:873\u001B[0m, in \u001B[0;36mget_handle\u001B[0;34m(path_or_buf, mode, encoding, compression, memory_map, is_text, errors, storage_options)\u001B[0m\n\u001B[1;32m    868\u001B[0m \u001B[38;5;28;01melif\u001B[39;00m \u001B[38;5;28misinstance\u001B[39m(handle, \u001B[38;5;28mstr\u001B[39m):\n\u001B[1;32m    869\u001B[0m     \u001B[38;5;66;03m# Check whether the filename is to be opened in binary mode.\u001B[39;00m\n\u001B[1;32m    870\u001B[0m     \u001B[38;5;66;03m# Binary mode does not support 'encoding' and 'newline'.\u001B[39;00m\n\u001B[1;32m    871\u001B[0m     \u001B[38;5;28;01mif\u001B[39;00m ioargs\u001B[38;5;241m.\u001B[39mencoding \u001B[38;5;129;01mand\u001B[39;00m \u001B[38;5;124m\"\u001B[39m\u001B[38;5;124mb\u001B[39m\u001B[38;5;124m\"\u001B[39m \u001B[38;5;129;01mnot\u001B[39;00m \u001B[38;5;129;01min\u001B[39;00m ioargs\u001B[38;5;241m.\u001B[39mmode:\n\u001B[1;32m    872\u001B[0m         \u001B[38;5;66;03m# Encoding\u001B[39;00m\n\u001B[0;32m--> 873\u001B[0m         handle \u001B[38;5;241m=\u001B[39m \u001B[38;5;28;43mopen\u001B[39;49m\u001B[43m(\u001B[49m\n\u001B[1;32m    874\u001B[0m \u001B[43m            \u001B[49m\u001B[43mhandle\u001B[49m\u001B[43m,\u001B[49m\n\u001B[1;32m    875\u001B[0m \u001B[43m            \u001B[49m\u001B[43mioargs\u001B[49m\u001B[38;5;241;43m.\u001B[39;49m\u001B[43mmode\u001B[49m\u001B[43m,\u001B[49m\n\u001B[1;32m    876\u001B[0m \u001B[43m            \u001B[49m\u001B[43mencoding\u001B[49m\u001B[38;5;241;43m=\u001B[39;49m\u001B[43mioargs\u001B[49m\u001B[38;5;241;43m.\u001B[39;49m\u001B[43mencoding\u001B[49m\u001B[43m,\u001B[49m\n\u001B[1;32m    877\u001B[0m \u001B[43m            \u001B[49m\u001B[43merrors\u001B[49m\u001B[38;5;241;43m=\u001B[39;49m\u001B[43merrors\u001B[49m\u001B[43m,\u001B[49m\n\u001B[1;32m    878\u001B[0m \u001B[43m            \u001B[49m\u001B[43mnewline\u001B[49m\u001B[38;5;241;43m=\u001B[39;49m\u001B[38;5;124;43m\"\u001B[39;49m\u001B[38;5;124;43m\"\u001B[39;49m\u001B[43m,\u001B[49m\n\u001B[1;32m    879\u001B[0m \u001B[43m        \u001B[49m\u001B[43m)\u001B[49m\n\u001B[1;32m    880\u001B[0m     \u001B[38;5;28;01melse\u001B[39;00m:\n\u001B[1;32m    881\u001B[0m         \u001B[38;5;66;03m# Binary mode\u001B[39;00m\n\u001B[1;32m    882\u001B[0m         handle \u001B[38;5;241m=\u001B[39m \u001B[38;5;28mopen\u001B[39m(handle, ioargs\u001B[38;5;241m.\u001B[39mmode)\n",
      "\u001B[0;31mFileNotFoundError\u001B[0m: [Errno 2] No such file or directory: './../data/Australia/d/totaldemand_qld.csv'"
     ]
    }
   ],
   "source": [
    "qld_totaldemand = pd.read_csv(os.path.join(data_path, 'Australia', 'd', 'totaldemand_qld.csv'), parse_dates=['DATETIME'])"
   ],
   "metadata": {
    "collapsed": false,
    "ExecuteTime": {
     "end_time": "2024-03-17T10:29:51.948255Z",
     "start_time": "2024-03-17T10:29:51.894299Z"
    }
   },
   "id": "bf47836f1c34ec11",
   "execution_count": 1137
  },
  {
   "cell_type": "code",
   "outputs": [
    {
     "data": {
      "text/plain": "             DATETIME  TOTALDEMAND REGIONID\n0 2010-01-01 00:00:00      5561.21     QLD1\n1 2010-01-01 00:30:00      5422.25     QLD1\n2 2010-01-01 01:00:00      5315.98     QLD1\n3 2010-01-01 01:30:00      5186.70     QLD1\n4 2010-01-01 02:00:00      5050.83     QLD1",
      "text/html": "<div>\n<style scoped>\n    .dataframe tbody tr th:only-of-type {\n        vertical-align: middle;\n    }\n\n    .dataframe tbody tr th {\n        vertical-align: top;\n    }\n\n    .dataframe thead th {\n        text-align: right;\n    }\n</style>\n<table border=\"1\" class=\"dataframe\">\n  <thead>\n    <tr style=\"text-align: right;\">\n      <th></th>\n      <th>DATETIME</th>\n      <th>TOTALDEMAND</th>\n      <th>REGIONID</th>\n    </tr>\n  </thead>\n  <tbody>\n    <tr>\n      <th>0</th>\n      <td>2010-01-01 00:00:00</td>\n      <td>5561.21</td>\n      <td>QLD1</td>\n    </tr>\n    <tr>\n      <th>1</th>\n      <td>2010-01-01 00:30:00</td>\n      <td>5422.25</td>\n      <td>QLD1</td>\n    </tr>\n    <tr>\n      <th>2</th>\n      <td>2010-01-01 01:00:00</td>\n      <td>5315.98</td>\n      <td>QLD1</td>\n    </tr>\n    <tr>\n      <th>3</th>\n      <td>2010-01-01 01:30:00</td>\n      <td>5186.70</td>\n      <td>QLD1</td>\n    </tr>\n    <tr>\n      <th>4</th>\n      <td>2010-01-01 02:00:00</td>\n      <td>5050.83</td>\n      <td>QLD1</td>\n    </tr>\n  </tbody>\n</table>\n</div>"
     },
     "execution_count": 1138,
     "metadata": {},
     "output_type": "execute_result"
    }
   ],
   "source": [
    "qld_totaldemand.head()"
   ],
   "metadata": {
    "collapsed": false,
    "ExecuteTime": {
     "end_time": "2024-03-17T10:29:51.997931Z",
     "start_time": "2024-03-17T10:29:51.988617Z"
    }
   },
   "id": "2d741356595a9191",
   "execution_count": 1138
  },
  {
   "cell_type": "code",
   "outputs": [
    {
     "data": {
      "text/plain": "                  DATETIME  TOTALDEMAND REGIONID\n196508 2021-03-17 22:00:00      6443.62     QLD1\n196509 2021-03-17 22:30:00      6264.63     QLD1\n196510 2021-03-17 23:00:00      6144.16     QLD1\n196511 2021-03-17 23:30:00      5897.64     QLD1\n196512 2021-03-18 00:00:00      5737.03     QLD1",
      "text/html": "<div>\n<style scoped>\n    .dataframe tbody tr th:only-of-type {\n        vertical-align: middle;\n    }\n\n    .dataframe tbody tr th {\n        vertical-align: top;\n    }\n\n    .dataframe thead th {\n        text-align: right;\n    }\n</style>\n<table border=\"1\" class=\"dataframe\">\n  <thead>\n    <tr style=\"text-align: right;\">\n      <th></th>\n      <th>DATETIME</th>\n      <th>TOTALDEMAND</th>\n      <th>REGIONID</th>\n    </tr>\n  </thead>\n  <tbody>\n    <tr>\n      <th>196508</th>\n      <td>2021-03-17 22:00:00</td>\n      <td>6443.62</td>\n      <td>QLD1</td>\n    </tr>\n    <tr>\n      <th>196509</th>\n      <td>2021-03-17 22:30:00</td>\n      <td>6264.63</td>\n      <td>QLD1</td>\n    </tr>\n    <tr>\n      <th>196510</th>\n      <td>2021-03-17 23:00:00</td>\n      <td>6144.16</td>\n      <td>QLD1</td>\n    </tr>\n    <tr>\n      <th>196511</th>\n      <td>2021-03-17 23:30:00</td>\n      <td>5897.64</td>\n      <td>QLD1</td>\n    </tr>\n    <tr>\n      <th>196512</th>\n      <td>2021-03-18 00:00:00</td>\n      <td>5737.03</td>\n      <td>QLD1</td>\n    </tr>\n  </tbody>\n</table>\n</div>"
     },
     "execution_count": 1139,
     "metadata": {},
     "output_type": "execute_result"
    }
   ],
   "source": [
    "qld_totaldemand.tail()"
   ],
   "metadata": {
    "collapsed": false,
    "ExecuteTime": {
     "end_time": "2024-03-17T10:29:52.042152Z",
     "start_time": "2024-03-17T10:29:52.037880Z"
    }
   },
   "id": "52e89422d6050c4b",
   "execution_count": 1139
  },
  {
   "cell_type": "code",
   "outputs": [
    {
     "name": "stdout",
     "output_type": "stream",
     "text": [
      "<class 'pandas.core.frame.DataFrame'>\n",
      "RangeIndex: 196513 entries, 0 to 196512\n",
      "Data columns (total 3 columns):\n",
      " #   Column       Non-Null Count   Dtype         \n",
      "---  ------       --------------   -----         \n",
      " 0   DATETIME     196513 non-null  datetime64[ns]\n",
      " 1   TOTALDEMAND  196513 non-null  float64       \n",
      " 2   REGIONID     196513 non-null  object        \n",
      "dtypes: datetime64[ns](1), float64(1), object(1)\n",
      "memory usage: 4.5+ MB\n"
     ]
    }
   ],
   "source": [
    "qld_totaldemand.info()"
   ],
   "metadata": {
    "collapsed": false,
    "ExecuteTime": {
     "end_time": "2024-03-17T10:29:52.146017Z",
     "start_time": "2024-03-17T10:29:52.136738Z"
    }
   },
   "id": "86afe48fd55ccdc",
   "execution_count": 1140
  },
  {
   "cell_type": "code",
   "outputs": [
    {
     "data": {
      "text/plain": "count    196513.000000\nmean       6026.545773\nstd         868.481406\nmin        3748.240000\n25%        5368.770000\n50%        5993.590000\n75%        6601.290000\nmax        9988.090000\nName: TOTALDEMAND, dtype: float64"
     },
     "execution_count": 1141,
     "metadata": {},
     "output_type": "execute_result"
    }
   ],
   "source": [
    "qld_totaldemand['TOTALDEMAND'].describe()"
   ],
   "metadata": {
    "collapsed": false,
    "ExecuteTime": {
     "end_time": "2024-03-17T10:29:52.219592Z",
     "start_time": "2024-03-17T10:29:52.211934Z"
    }
   },
   "id": "c6fddd6f866f5ca1",
   "execution_count": 1141
  },
  {
   "cell_type": "code",
   "outputs": [
    {
     "data": {
      "text/plain": "(196513, 3)"
     },
     "execution_count": 1142,
     "metadata": {},
     "output_type": "execute_result"
    }
   ],
   "source": [
    "qld_totaldemand.shape"
   ],
   "metadata": {
    "collapsed": false,
    "ExecuteTime": {
     "end_time": "2024-03-17T10:29:52.289449Z",
     "start_time": "2024-03-17T10:29:52.287Z"
    }
   },
   "id": "f95f761b73b3653b",
   "execution_count": 1142
  },
  {
   "cell_type": "code",
   "outputs": [
    {
     "data": {
      "text/plain": "DATETIME       2010-01-01 00:00:00\nTOTALDEMAND                3748.24\nREGIONID                      QLD1\ndtype: object"
     },
     "execution_count": 1143,
     "metadata": {},
     "output_type": "execute_result"
    }
   ],
   "source": [
    "qld_totaldemand.min()"
   ],
   "metadata": {
    "collapsed": false,
    "ExecuteTime": {
     "end_time": "2024-03-17T10:29:52.471236Z",
     "start_time": "2024-03-17T10:29:52.460940Z"
    }
   },
   "id": "271ff63c6d26c3e5",
   "execution_count": 1143
  },
  {
   "cell_type": "code",
   "outputs": [
    {
     "data": {
      "text/plain": "DATETIME       2021-03-18 00:00:00\nTOTALDEMAND                9988.09\nREGIONID                      QLD1\ndtype: object"
     },
     "execution_count": 1144,
     "metadata": {},
     "output_type": "execute_result"
    }
   ],
   "source": [
    "qld_totaldemand.max()"
   ],
   "metadata": {
    "collapsed": false,
    "ExecuteTime": {
     "end_time": "2024-03-17T10:29:52.574768Z",
     "start_time": "2024-03-17T10:29:52.564967Z"
    }
   },
   "id": "6152177e0f02b07c",
   "execution_count": 1144
  },
  {
   "cell_type": "code",
   "outputs": [
    {
     "data": {
      "text/plain": "DATETIME       0\nTOTALDEMAND    0\nREGIONID       0\ndtype: int64"
     },
     "execution_count": 1145,
     "metadata": {},
     "output_type": "execute_result"
    }
   ],
   "source": [
    "qld_totaldemand.isnull().sum()"
   ],
   "metadata": {
    "collapsed": false,
    "ExecuteTime": {
     "end_time": "2024-03-17T10:29:52.608274Z",
     "start_time": "2024-03-17T10:29:52.601056Z"
    }
   },
   "id": "c7b39e151f95c7df",
   "execution_count": 1145
  },
  {
   "cell_type": "code",
   "outputs": [
    {
     "data": {
      "text/plain": "DATETIME       0\nTOTALDEMAND    0\nREGIONID       0\ndtype: int64"
     },
     "execution_count": 1146,
     "metadata": {},
     "output_type": "execute_result"
    }
   ],
   "source": [
    "qld_totaldemand.isna().sum()"
   ],
   "metadata": {
    "collapsed": false,
    "ExecuteTime": {
     "end_time": "2024-03-17T10:29:52.704176Z",
     "start_time": "2024-03-17T10:29:52.694206Z"
    }
   },
   "id": "d671939c1db5c31d",
   "execution_count": 1146
  },
  {
   "cell_type": "code",
   "outputs": [
    {
     "data": {
      "text/plain": "DATETIME       196513\nTOTALDEMAND    146678\nREGIONID            1\ndtype: int64"
     },
     "execution_count": 1147,
     "metadata": {},
     "output_type": "execute_result"
    }
   ],
   "source": [
    "qld_totaldemand.nunique()"
   ],
   "metadata": {
    "collapsed": false,
    "ExecuteTime": {
     "end_time": "2024-03-17T10:29:52.760952Z",
     "start_time": "2024-03-17T10:29:52.741747Z"
    }
   },
   "id": "3ebd9e1551d5d033",
   "execution_count": 1147
  },
  {
   "cell_type": "code",
   "outputs": [
    {
     "data": {
      "text/plain": "DATETIME       datetime64[ns]\nTOTALDEMAND           float64\nREGIONID               object\ndtype: object"
     },
     "execution_count": 1148,
     "metadata": {},
     "output_type": "execute_result"
    }
   ],
   "source": [
    "qld_totaldemand.dtypes"
   ],
   "metadata": {
    "collapsed": false,
    "ExecuteTime": {
     "end_time": "2024-03-17T10:29:52.837985Z",
     "start_time": "2024-03-17T10:29:52.834690Z"
    }
   },
   "id": "7e9929b26f76ec45",
   "execution_count": 1148
  },
  {
   "cell_type": "markdown",
   "source": [
    "## SA Total Demand"
   ],
   "metadata": {
    "collapsed": false
   },
   "id": "aa04570f6bad42f3"
  },
  {
   "cell_type": "code",
   "outputs": [
    {
     "ename": "FileNotFoundError",
     "evalue": "[Errno 2] No such file or directory: './../data/Australia/d/totaldemand_sa.csv'",
     "output_type": "error",
     "traceback": [
      "\u001B[0;31m---------------------------------------------------------------------------\u001B[0m",
      "\u001B[0;31mFileNotFoundError\u001B[0m                         Traceback (most recent call last)",
      "Cell \u001B[0;32mIn[1149], line 1\u001B[0m\n\u001B[0;32m----> 1\u001B[0m sa_totaldemand \u001B[38;5;241m=\u001B[39m \u001B[43mpd\u001B[49m\u001B[38;5;241;43m.\u001B[39;49m\u001B[43mread_csv\u001B[49m\u001B[43m(\u001B[49m\u001B[43mos\u001B[49m\u001B[38;5;241;43m.\u001B[39;49m\u001B[43mpath\u001B[49m\u001B[38;5;241;43m.\u001B[39;49m\u001B[43mjoin\u001B[49m\u001B[43m(\u001B[49m\u001B[43mdata_path\u001B[49m\u001B[43m,\u001B[49m\u001B[43m \u001B[49m\u001B[38;5;124;43m'\u001B[39;49m\u001B[38;5;124;43mAustralia\u001B[39;49m\u001B[38;5;124;43m'\u001B[39;49m\u001B[43m,\u001B[49m\u001B[43m \u001B[49m\u001B[38;5;124;43m'\u001B[39;49m\u001B[38;5;124;43md\u001B[39;49m\u001B[38;5;124;43m'\u001B[39;49m\u001B[43m,\u001B[49m\u001B[43m \u001B[49m\u001B[38;5;124;43m'\u001B[39;49m\u001B[38;5;124;43mtotaldemand_sa.csv\u001B[39;49m\u001B[38;5;124;43m'\u001B[39;49m\u001B[43m)\u001B[49m\u001B[43m,\u001B[49m\u001B[43m \u001B[49m\u001B[43mparse_dates\u001B[49m\u001B[38;5;241;43m=\u001B[39;49m\u001B[43m[\u001B[49m\u001B[38;5;124;43m'\u001B[39;49m\u001B[38;5;124;43mDATETIME\u001B[39;49m\u001B[38;5;124;43m'\u001B[39;49m\u001B[43m]\u001B[49m\u001B[43m)\u001B[49m\n",
      "File \u001B[0;32m~/.cache/pypoetry/virtualenvs/team-0-5QTAbJ9E-py3.12/lib/python3.12/site-packages/pandas/io/parsers/readers.py:1026\u001B[0m, in \u001B[0;36mread_csv\u001B[0;34m(filepath_or_buffer, sep, delimiter, header, names, index_col, usecols, dtype, engine, converters, true_values, false_values, skipinitialspace, skiprows, skipfooter, nrows, na_values, keep_default_na, na_filter, verbose, skip_blank_lines, parse_dates, infer_datetime_format, keep_date_col, date_parser, date_format, dayfirst, cache_dates, iterator, chunksize, compression, thousands, decimal, lineterminator, quotechar, quoting, doublequote, escapechar, comment, encoding, encoding_errors, dialect, on_bad_lines, delim_whitespace, low_memory, memory_map, float_precision, storage_options, dtype_backend)\u001B[0m\n\u001B[1;32m   1013\u001B[0m kwds_defaults \u001B[38;5;241m=\u001B[39m _refine_defaults_read(\n\u001B[1;32m   1014\u001B[0m     dialect,\n\u001B[1;32m   1015\u001B[0m     delimiter,\n\u001B[0;32m   (...)\u001B[0m\n\u001B[1;32m   1022\u001B[0m     dtype_backend\u001B[38;5;241m=\u001B[39mdtype_backend,\n\u001B[1;32m   1023\u001B[0m )\n\u001B[1;32m   1024\u001B[0m kwds\u001B[38;5;241m.\u001B[39mupdate(kwds_defaults)\n\u001B[0;32m-> 1026\u001B[0m \u001B[38;5;28;01mreturn\u001B[39;00m \u001B[43m_read\u001B[49m\u001B[43m(\u001B[49m\u001B[43mfilepath_or_buffer\u001B[49m\u001B[43m,\u001B[49m\u001B[43m \u001B[49m\u001B[43mkwds\u001B[49m\u001B[43m)\u001B[49m\n",
      "File \u001B[0;32m~/.cache/pypoetry/virtualenvs/team-0-5QTAbJ9E-py3.12/lib/python3.12/site-packages/pandas/io/parsers/readers.py:620\u001B[0m, in \u001B[0;36m_read\u001B[0;34m(filepath_or_buffer, kwds)\u001B[0m\n\u001B[1;32m    617\u001B[0m _validate_names(kwds\u001B[38;5;241m.\u001B[39mget(\u001B[38;5;124m\"\u001B[39m\u001B[38;5;124mnames\u001B[39m\u001B[38;5;124m\"\u001B[39m, \u001B[38;5;28;01mNone\u001B[39;00m))\n\u001B[1;32m    619\u001B[0m \u001B[38;5;66;03m# Create the parser.\u001B[39;00m\n\u001B[0;32m--> 620\u001B[0m parser \u001B[38;5;241m=\u001B[39m \u001B[43mTextFileReader\u001B[49m\u001B[43m(\u001B[49m\u001B[43mfilepath_or_buffer\u001B[49m\u001B[43m,\u001B[49m\u001B[43m \u001B[49m\u001B[38;5;241;43m*\u001B[39;49m\u001B[38;5;241;43m*\u001B[39;49m\u001B[43mkwds\u001B[49m\u001B[43m)\u001B[49m\n\u001B[1;32m    622\u001B[0m \u001B[38;5;28;01mif\u001B[39;00m chunksize \u001B[38;5;129;01mor\u001B[39;00m iterator:\n\u001B[1;32m    623\u001B[0m     \u001B[38;5;28;01mreturn\u001B[39;00m parser\n",
      "File \u001B[0;32m~/.cache/pypoetry/virtualenvs/team-0-5QTAbJ9E-py3.12/lib/python3.12/site-packages/pandas/io/parsers/readers.py:1620\u001B[0m, in \u001B[0;36mTextFileReader.__init__\u001B[0;34m(self, f, engine, **kwds)\u001B[0m\n\u001B[1;32m   1617\u001B[0m     \u001B[38;5;28mself\u001B[39m\u001B[38;5;241m.\u001B[39moptions[\u001B[38;5;124m\"\u001B[39m\u001B[38;5;124mhas_index_names\u001B[39m\u001B[38;5;124m\"\u001B[39m] \u001B[38;5;241m=\u001B[39m kwds[\u001B[38;5;124m\"\u001B[39m\u001B[38;5;124mhas_index_names\u001B[39m\u001B[38;5;124m\"\u001B[39m]\n\u001B[1;32m   1619\u001B[0m \u001B[38;5;28mself\u001B[39m\u001B[38;5;241m.\u001B[39mhandles: IOHandles \u001B[38;5;241m|\u001B[39m \u001B[38;5;28;01mNone\u001B[39;00m \u001B[38;5;241m=\u001B[39m \u001B[38;5;28;01mNone\u001B[39;00m\n\u001B[0;32m-> 1620\u001B[0m \u001B[38;5;28mself\u001B[39m\u001B[38;5;241m.\u001B[39m_engine \u001B[38;5;241m=\u001B[39m \u001B[38;5;28;43mself\u001B[39;49m\u001B[38;5;241;43m.\u001B[39;49m\u001B[43m_make_engine\u001B[49m\u001B[43m(\u001B[49m\u001B[43mf\u001B[49m\u001B[43m,\u001B[49m\u001B[43m \u001B[49m\u001B[38;5;28;43mself\u001B[39;49m\u001B[38;5;241;43m.\u001B[39;49m\u001B[43mengine\u001B[49m\u001B[43m)\u001B[49m\n",
      "File \u001B[0;32m~/.cache/pypoetry/virtualenvs/team-0-5QTAbJ9E-py3.12/lib/python3.12/site-packages/pandas/io/parsers/readers.py:1880\u001B[0m, in \u001B[0;36mTextFileReader._make_engine\u001B[0;34m(self, f, engine)\u001B[0m\n\u001B[1;32m   1878\u001B[0m     \u001B[38;5;28;01mif\u001B[39;00m \u001B[38;5;124m\"\u001B[39m\u001B[38;5;124mb\u001B[39m\u001B[38;5;124m\"\u001B[39m \u001B[38;5;129;01mnot\u001B[39;00m \u001B[38;5;129;01min\u001B[39;00m mode:\n\u001B[1;32m   1879\u001B[0m         mode \u001B[38;5;241m+\u001B[39m\u001B[38;5;241m=\u001B[39m \u001B[38;5;124m\"\u001B[39m\u001B[38;5;124mb\u001B[39m\u001B[38;5;124m\"\u001B[39m\n\u001B[0;32m-> 1880\u001B[0m \u001B[38;5;28mself\u001B[39m\u001B[38;5;241m.\u001B[39mhandles \u001B[38;5;241m=\u001B[39m \u001B[43mget_handle\u001B[49m\u001B[43m(\u001B[49m\n\u001B[1;32m   1881\u001B[0m \u001B[43m    \u001B[49m\u001B[43mf\u001B[49m\u001B[43m,\u001B[49m\n\u001B[1;32m   1882\u001B[0m \u001B[43m    \u001B[49m\u001B[43mmode\u001B[49m\u001B[43m,\u001B[49m\n\u001B[1;32m   1883\u001B[0m \u001B[43m    \u001B[49m\u001B[43mencoding\u001B[49m\u001B[38;5;241;43m=\u001B[39;49m\u001B[38;5;28;43mself\u001B[39;49m\u001B[38;5;241;43m.\u001B[39;49m\u001B[43moptions\u001B[49m\u001B[38;5;241;43m.\u001B[39;49m\u001B[43mget\u001B[49m\u001B[43m(\u001B[49m\u001B[38;5;124;43m\"\u001B[39;49m\u001B[38;5;124;43mencoding\u001B[39;49m\u001B[38;5;124;43m\"\u001B[39;49m\u001B[43m,\u001B[49m\u001B[43m \u001B[49m\u001B[38;5;28;43;01mNone\u001B[39;49;00m\u001B[43m)\u001B[49m\u001B[43m,\u001B[49m\n\u001B[1;32m   1884\u001B[0m \u001B[43m    \u001B[49m\u001B[43mcompression\u001B[49m\u001B[38;5;241;43m=\u001B[39;49m\u001B[38;5;28;43mself\u001B[39;49m\u001B[38;5;241;43m.\u001B[39;49m\u001B[43moptions\u001B[49m\u001B[38;5;241;43m.\u001B[39;49m\u001B[43mget\u001B[49m\u001B[43m(\u001B[49m\u001B[38;5;124;43m\"\u001B[39;49m\u001B[38;5;124;43mcompression\u001B[39;49m\u001B[38;5;124;43m\"\u001B[39;49m\u001B[43m,\u001B[49m\u001B[43m \u001B[49m\u001B[38;5;28;43;01mNone\u001B[39;49;00m\u001B[43m)\u001B[49m\u001B[43m,\u001B[49m\n\u001B[1;32m   1885\u001B[0m \u001B[43m    \u001B[49m\u001B[43mmemory_map\u001B[49m\u001B[38;5;241;43m=\u001B[39;49m\u001B[38;5;28;43mself\u001B[39;49m\u001B[38;5;241;43m.\u001B[39;49m\u001B[43moptions\u001B[49m\u001B[38;5;241;43m.\u001B[39;49m\u001B[43mget\u001B[49m\u001B[43m(\u001B[49m\u001B[38;5;124;43m\"\u001B[39;49m\u001B[38;5;124;43mmemory_map\u001B[39;49m\u001B[38;5;124;43m\"\u001B[39;49m\u001B[43m,\u001B[49m\u001B[43m \u001B[49m\u001B[38;5;28;43;01mFalse\u001B[39;49;00m\u001B[43m)\u001B[49m\u001B[43m,\u001B[49m\n\u001B[1;32m   1886\u001B[0m \u001B[43m    \u001B[49m\u001B[43mis_text\u001B[49m\u001B[38;5;241;43m=\u001B[39;49m\u001B[43mis_text\u001B[49m\u001B[43m,\u001B[49m\n\u001B[1;32m   1887\u001B[0m \u001B[43m    \u001B[49m\u001B[43merrors\u001B[49m\u001B[38;5;241;43m=\u001B[39;49m\u001B[38;5;28;43mself\u001B[39;49m\u001B[38;5;241;43m.\u001B[39;49m\u001B[43moptions\u001B[49m\u001B[38;5;241;43m.\u001B[39;49m\u001B[43mget\u001B[49m\u001B[43m(\u001B[49m\u001B[38;5;124;43m\"\u001B[39;49m\u001B[38;5;124;43mencoding_errors\u001B[39;49m\u001B[38;5;124;43m\"\u001B[39;49m\u001B[43m,\u001B[49m\u001B[43m \u001B[49m\u001B[38;5;124;43m\"\u001B[39;49m\u001B[38;5;124;43mstrict\u001B[39;49m\u001B[38;5;124;43m\"\u001B[39;49m\u001B[43m)\u001B[49m\u001B[43m,\u001B[49m\n\u001B[1;32m   1888\u001B[0m \u001B[43m    \u001B[49m\u001B[43mstorage_options\u001B[49m\u001B[38;5;241;43m=\u001B[39;49m\u001B[38;5;28;43mself\u001B[39;49m\u001B[38;5;241;43m.\u001B[39;49m\u001B[43moptions\u001B[49m\u001B[38;5;241;43m.\u001B[39;49m\u001B[43mget\u001B[49m\u001B[43m(\u001B[49m\u001B[38;5;124;43m\"\u001B[39;49m\u001B[38;5;124;43mstorage_options\u001B[39;49m\u001B[38;5;124;43m\"\u001B[39;49m\u001B[43m,\u001B[49m\u001B[43m \u001B[49m\u001B[38;5;28;43;01mNone\u001B[39;49;00m\u001B[43m)\u001B[49m\u001B[43m,\u001B[49m\n\u001B[1;32m   1889\u001B[0m \u001B[43m\u001B[49m\u001B[43m)\u001B[49m\n\u001B[1;32m   1890\u001B[0m \u001B[38;5;28;01massert\u001B[39;00m \u001B[38;5;28mself\u001B[39m\u001B[38;5;241m.\u001B[39mhandles \u001B[38;5;129;01mis\u001B[39;00m \u001B[38;5;129;01mnot\u001B[39;00m \u001B[38;5;28;01mNone\u001B[39;00m\n\u001B[1;32m   1891\u001B[0m f \u001B[38;5;241m=\u001B[39m \u001B[38;5;28mself\u001B[39m\u001B[38;5;241m.\u001B[39mhandles\u001B[38;5;241m.\u001B[39mhandle\n",
      "File \u001B[0;32m~/.cache/pypoetry/virtualenvs/team-0-5QTAbJ9E-py3.12/lib/python3.12/site-packages/pandas/io/common.py:873\u001B[0m, in \u001B[0;36mget_handle\u001B[0;34m(path_or_buf, mode, encoding, compression, memory_map, is_text, errors, storage_options)\u001B[0m\n\u001B[1;32m    868\u001B[0m \u001B[38;5;28;01melif\u001B[39;00m \u001B[38;5;28misinstance\u001B[39m(handle, \u001B[38;5;28mstr\u001B[39m):\n\u001B[1;32m    869\u001B[0m     \u001B[38;5;66;03m# Check whether the filename is to be opened in binary mode.\u001B[39;00m\n\u001B[1;32m    870\u001B[0m     \u001B[38;5;66;03m# Binary mode does not support 'encoding' and 'newline'.\u001B[39;00m\n\u001B[1;32m    871\u001B[0m     \u001B[38;5;28;01mif\u001B[39;00m ioargs\u001B[38;5;241m.\u001B[39mencoding \u001B[38;5;129;01mand\u001B[39;00m \u001B[38;5;124m\"\u001B[39m\u001B[38;5;124mb\u001B[39m\u001B[38;5;124m\"\u001B[39m \u001B[38;5;129;01mnot\u001B[39;00m \u001B[38;5;129;01min\u001B[39;00m ioargs\u001B[38;5;241m.\u001B[39mmode:\n\u001B[1;32m    872\u001B[0m         \u001B[38;5;66;03m# Encoding\u001B[39;00m\n\u001B[0;32m--> 873\u001B[0m         handle \u001B[38;5;241m=\u001B[39m \u001B[38;5;28;43mopen\u001B[39;49m\u001B[43m(\u001B[49m\n\u001B[1;32m    874\u001B[0m \u001B[43m            \u001B[49m\u001B[43mhandle\u001B[49m\u001B[43m,\u001B[49m\n\u001B[1;32m    875\u001B[0m \u001B[43m            \u001B[49m\u001B[43mioargs\u001B[49m\u001B[38;5;241;43m.\u001B[39;49m\u001B[43mmode\u001B[49m\u001B[43m,\u001B[49m\n\u001B[1;32m    876\u001B[0m \u001B[43m            \u001B[49m\u001B[43mencoding\u001B[49m\u001B[38;5;241;43m=\u001B[39;49m\u001B[43mioargs\u001B[49m\u001B[38;5;241;43m.\u001B[39;49m\u001B[43mencoding\u001B[49m\u001B[43m,\u001B[49m\n\u001B[1;32m    877\u001B[0m \u001B[43m            \u001B[49m\u001B[43merrors\u001B[49m\u001B[38;5;241;43m=\u001B[39;49m\u001B[43merrors\u001B[49m\u001B[43m,\u001B[49m\n\u001B[1;32m    878\u001B[0m \u001B[43m            \u001B[49m\u001B[43mnewline\u001B[49m\u001B[38;5;241;43m=\u001B[39;49m\u001B[38;5;124;43m\"\u001B[39;49m\u001B[38;5;124;43m\"\u001B[39;49m\u001B[43m,\u001B[49m\n\u001B[1;32m    879\u001B[0m \u001B[43m        \u001B[49m\u001B[43m)\u001B[49m\n\u001B[1;32m    880\u001B[0m     \u001B[38;5;28;01melse\u001B[39;00m:\n\u001B[1;32m    881\u001B[0m         \u001B[38;5;66;03m# Binary mode\u001B[39;00m\n\u001B[1;32m    882\u001B[0m         handle \u001B[38;5;241m=\u001B[39m \u001B[38;5;28mopen\u001B[39m(handle, ioargs\u001B[38;5;241m.\u001B[39mmode)\n",
      "\u001B[0;31mFileNotFoundError\u001B[0m: [Errno 2] No such file or directory: './../data/Australia/d/totaldemand_sa.csv'"
     ]
    }
   ],
   "source": [
    "sa_totaldemand = pd.read_csv(os.path.join(data_path, 'Australia', 'd', 'totaldemand_sa.csv'), parse_dates=['DATETIME'])"
   ],
   "metadata": {
    "collapsed": false,
    "ExecuteTime": {
     "end_time": "2024-03-17T10:29:52.924669Z",
     "start_time": "2024-03-17T10:29:52.859181Z"
    }
   },
   "id": "809033d96c1e868",
   "execution_count": 1149
  },
  {
   "cell_type": "code",
   "outputs": [
    {
     "data": {
      "text/plain": "             DATETIME  TOTALDEMAND REGIONID\n0 2010-01-01 00:30:00      1385.23      SA1\n1 2010-01-01 01:00:00      1338.53      SA1\n2 2010-01-01 01:30:00      1260.39      SA1\n3 2010-01-01 02:00:00      1189.31      SA1\n4 2010-01-01 02:30:00      1141.12      SA1",
      "text/html": "<div>\n<style scoped>\n    .dataframe tbody tr th:only-of-type {\n        vertical-align: middle;\n    }\n\n    .dataframe tbody tr th {\n        vertical-align: top;\n    }\n\n    .dataframe thead th {\n        text-align: right;\n    }\n</style>\n<table border=\"1\" class=\"dataframe\">\n  <thead>\n    <tr style=\"text-align: right;\">\n      <th></th>\n      <th>DATETIME</th>\n      <th>TOTALDEMAND</th>\n      <th>REGIONID</th>\n    </tr>\n  </thead>\n  <tbody>\n    <tr>\n      <th>0</th>\n      <td>2010-01-01 00:30:00</td>\n      <td>1385.23</td>\n      <td>SA1</td>\n    </tr>\n    <tr>\n      <th>1</th>\n      <td>2010-01-01 01:00:00</td>\n      <td>1338.53</td>\n      <td>SA1</td>\n    </tr>\n    <tr>\n      <th>2</th>\n      <td>2010-01-01 01:30:00</td>\n      <td>1260.39</td>\n      <td>SA1</td>\n    </tr>\n    <tr>\n      <th>3</th>\n      <td>2010-01-01 02:00:00</td>\n      <td>1189.31</td>\n      <td>SA1</td>\n    </tr>\n    <tr>\n      <th>4</th>\n      <td>2010-01-01 02:30:00</td>\n      <td>1141.12</td>\n      <td>SA1</td>\n    </tr>\n  </tbody>\n</table>\n</div>"
     },
     "execution_count": 1150,
     "metadata": {},
     "output_type": "execute_result"
    }
   ],
   "source": [
    "sa_totaldemand.head()"
   ],
   "metadata": {
    "collapsed": false,
    "ExecuteTime": {
     "end_time": "2024-03-17T10:29:52.987144Z",
     "start_time": "2024-03-17T10:29:52.982507Z"
    }
   },
   "id": "7972e25dc1e7d0b1",
   "execution_count": 1150
  },
  {
   "cell_type": "code",
   "outputs": [
    {
     "data": {
      "text/plain": "                  DATETIME  TOTALDEMAND REGIONID\n196507 2021-03-17 22:00:00      1277.91      SA1\n196508 2021-03-17 22:30:00      1226.81      SA1\n196509 2021-03-17 23:00:00      1202.62      SA1\n196510 2021-03-17 23:30:00      1194.34      SA1\n196511 2021-03-18 00:00:00      1340.58      SA1",
      "text/html": "<div>\n<style scoped>\n    .dataframe tbody tr th:only-of-type {\n        vertical-align: middle;\n    }\n\n    .dataframe tbody tr th {\n        vertical-align: top;\n    }\n\n    .dataframe thead th {\n        text-align: right;\n    }\n</style>\n<table border=\"1\" class=\"dataframe\">\n  <thead>\n    <tr style=\"text-align: right;\">\n      <th></th>\n      <th>DATETIME</th>\n      <th>TOTALDEMAND</th>\n      <th>REGIONID</th>\n    </tr>\n  </thead>\n  <tbody>\n    <tr>\n      <th>196507</th>\n      <td>2021-03-17 22:00:00</td>\n      <td>1277.91</td>\n      <td>SA1</td>\n    </tr>\n    <tr>\n      <th>196508</th>\n      <td>2021-03-17 22:30:00</td>\n      <td>1226.81</td>\n      <td>SA1</td>\n    </tr>\n    <tr>\n      <th>196509</th>\n      <td>2021-03-17 23:00:00</td>\n      <td>1202.62</td>\n      <td>SA1</td>\n    </tr>\n    <tr>\n      <th>196510</th>\n      <td>2021-03-17 23:30:00</td>\n      <td>1194.34</td>\n      <td>SA1</td>\n    </tr>\n    <tr>\n      <th>196511</th>\n      <td>2021-03-18 00:00:00</td>\n      <td>1340.58</td>\n      <td>SA1</td>\n    </tr>\n  </tbody>\n</table>\n</div>"
     },
     "execution_count": 1151,
     "metadata": {},
     "output_type": "execute_result"
    }
   ],
   "source": [
    "sa_totaldemand.tail()"
   ],
   "metadata": {
    "collapsed": false,
    "ExecuteTime": {
     "end_time": "2024-03-17T10:29:53.066737Z",
     "start_time": "2024-03-17T10:29:53.062331Z"
    }
   },
   "id": "f37386c9159737b",
   "execution_count": 1151
  },
  {
   "cell_type": "code",
   "outputs": [
    {
     "name": "stdout",
     "output_type": "stream",
     "text": [
      "<class 'pandas.core.frame.DataFrame'>\n",
      "RangeIndex: 196512 entries, 0 to 196511\n",
      "Data columns (total 3 columns):\n",
      " #   Column       Non-Null Count   Dtype         \n",
      "---  ------       --------------   -----         \n",
      " 0   DATETIME     196512 non-null  datetime64[ns]\n",
      " 1   TOTALDEMAND  196512 non-null  float64       \n",
      " 2   REGIONID     196512 non-null  object        \n",
      "dtypes: datetime64[ns](1), float64(1), object(1)\n",
      "memory usage: 4.5+ MB\n"
     ]
    }
   ],
   "source": [
    "sa_totaldemand.info()"
   ],
   "metadata": {
    "collapsed": false,
    "ExecuteTime": {
     "end_time": "2024-03-17T10:29:53.178283Z",
     "start_time": "2024-03-17T10:29:53.168663Z"
    }
   },
   "id": "92be34c822d062bd",
   "execution_count": 1152
  },
  {
   "cell_type": "code",
   "outputs": [
    {
     "data": {
      "text/plain": "count    196512.000000\nmean       1383.901566\nstd         326.494153\nmin          21.890000\n25%        1164.480000\n50%        1346.140000\n75%        1567.342500\nmax        3385.420000\nName: TOTALDEMAND, dtype: float64"
     },
     "execution_count": 1153,
     "metadata": {},
     "output_type": "execute_result"
    }
   ],
   "source": [
    "sa_totaldemand['TOTALDEMAND'].describe()"
   ],
   "metadata": {
    "collapsed": false,
    "ExecuteTime": {
     "end_time": "2024-03-17T10:29:53.253083Z",
     "start_time": "2024-03-17T10:29:53.206808Z"
    }
   },
   "id": "49968faa5518d3a5",
   "execution_count": 1153
  },
  {
   "cell_type": "code",
   "outputs": [
    {
     "data": {
      "text/plain": "(196512, 3)"
     },
     "execution_count": 1154,
     "metadata": {},
     "output_type": "execute_result"
    }
   ],
   "source": [
    "sa_totaldemand.shape"
   ],
   "metadata": {
    "collapsed": false,
    "ExecuteTime": {
     "end_time": "2024-03-17T10:29:53.329855Z",
     "start_time": "2024-03-17T10:29:53.327310Z"
    }
   },
   "id": "6c01eebb7dd52c62",
   "execution_count": 1154
  },
  {
   "cell_type": "code",
   "outputs": [
    {
     "data": {
      "text/plain": "DATETIME       2010-01-01 00:30:00\nTOTALDEMAND                  21.89\nREGIONID                       SA1\ndtype: object"
     },
     "execution_count": 1155,
     "metadata": {},
     "output_type": "execute_result"
    }
   ],
   "source": [
    "sa_totaldemand.min()"
   ],
   "metadata": {
    "collapsed": false,
    "ExecuteTime": {
     "end_time": "2024-03-17T10:29:53.388850Z",
     "start_time": "2024-03-17T10:29:53.378211Z"
    }
   },
   "id": "10daa7f0389295c0",
   "execution_count": 1155
  },
  {
   "cell_type": "code",
   "outputs": [
    {
     "data": {
      "text/plain": "DATETIME       2021-03-18 00:00:00\nTOTALDEMAND                3385.42\nREGIONID                       SA1\ndtype: object"
     },
     "execution_count": 1156,
     "metadata": {},
     "output_type": "execute_result"
    }
   ],
   "source": [
    "sa_totaldemand.max()"
   ],
   "metadata": {
    "collapsed": false,
    "ExecuteTime": {
     "end_time": "2024-03-17T10:29:53.502893Z",
     "start_time": "2024-03-17T10:29:53.492304Z"
    }
   },
   "id": "282a3d9e2e47d14a",
   "execution_count": 1156
  },
  {
   "cell_type": "code",
   "outputs": [
    {
     "data": {
      "text/plain": "DATETIME       0\nTOTALDEMAND    0\nREGIONID       0\ndtype: int64"
     },
     "execution_count": 1157,
     "metadata": {},
     "output_type": "execute_result"
    }
   ],
   "source": [
    "sa_totaldemand.isnull().sum()"
   ],
   "metadata": {
    "collapsed": false,
    "ExecuteTime": {
     "end_time": "2024-03-17T10:29:53.572643Z",
     "start_time": "2024-03-17T10:29:53.564228Z"
    }
   },
   "id": "5053d71deeb557ad",
   "execution_count": 1157
  },
  {
   "cell_type": "code",
   "outputs": [
    {
     "data": {
      "text/plain": "DATETIME       0\nTOTALDEMAND    0\nREGIONID       0\ndtype: int64"
     },
     "execution_count": 1158,
     "metadata": {},
     "output_type": "execute_result"
    }
   ],
   "source": [
    "sa_totaldemand.isna().sum()"
   ],
   "metadata": {
    "collapsed": false,
    "ExecuteTime": {
     "end_time": "2024-03-17T10:29:53.632393Z",
     "start_time": "2024-03-17T10:29:53.623830Z"
    }
   },
   "id": "78254dea96713374",
   "execution_count": 1158
  },
  {
   "cell_type": "code",
   "outputs": [
    {
     "data": {
      "text/plain": "DATETIME       196512\nTOTALDEMAND     95534\nREGIONID            1\ndtype: int64"
     },
     "execution_count": 1159,
     "metadata": {},
     "output_type": "execute_result"
    }
   ],
   "source": [
    "sa_totaldemand.nunique()"
   ],
   "metadata": {
    "collapsed": false,
    "ExecuteTime": {
     "end_time": "2024-03-17T10:29:53.736762Z",
     "start_time": "2024-03-17T10:29:53.717850Z"
    }
   },
   "id": "dc5b2683235183fd",
   "execution_count": 1159
  },
  {
   "cell_type": "code",
   "outputs": [
    {
     "data": {
      "text/plain": "DATETIME       datetime64[ns]\nTOTALDEMAND           float64\nREGIONID               object\ndtype: object"
     },
     "execution_count": 1160,
     "metadata": {},
     "output_type": "execute_result"
    }
   ],
   "source": [
    "sa_totaldemand.dtypes"
   ],
   "metadata": {
    "collapsed": false,
    "ExecuteTime": {
     "end_time": "2024-03-17T10:29:53.778066Z",
     "start_time": "2024-03-17T10:29:53.775031Z"
    }
   },
   "id": "36bbae2be871d283",
   "execution_count": 1160
  },
  {
   "cell_type": "markdown",
   "source": [
    "## Victoria Total Demand"
   ],
   "metadata": {
    "collapsed": false
   },
   "id": "a72f68529954d5ca"
  },
  {
   "cell_type": "code",
   "outputs": [
    {
     "ename": "FileNotFoundError",
     "evalue": "[Errno 2] No such file or directory: './../data/Australia/d/totaldemand_vic.csv'",
     "output_type": "error",
     "traceback": [
      "\u001B[0;31m---------------------------------------------------------------------------\u001B[0m",
      "\u001B[0;31mFileNotFoundError\u001B[0m                         Traceback (most recent call last)",
      "Cell \u001B[0;32mIn[1161], line 1\u001B[0m\n\u001B[0;32m----> 1\u001B[0m vic_total_demand \u001B[38;5;241m=\u001B[39m \u001B[43mpd\u001B[49m\u001B[38;5;241;43m.\u001B[39;49m\u001B[43mread_csv\u001B[49m\u001B[43m(\u001B[49m\u001B[43mos\u001B[49m\u001B[38;5;241;43m.\u001B[39;49m\u001B[43mpath\u001B[49m\u001B[38;5;241;43m.\u001B[39;49m\u001B[43mjoin\u001B[49m\u001B[43m(\u001B[49m\u001B[43mdata_path\u001B[49m\u001B[43m,\u001B[49m\u001B[43m \u001B[49m\u001B[38;5;124;43m'\u001B[39;49m\u001B[38;5;124;43mAustralia\u001B[39;49m\u001B[38;5;124;43m'\u001B[39;49m\u001B[43m,\u001B[49m\u001B[43m \u001B[49m\u001B[38;5;124;43m'\u001B[39;49m\u001B[38;5;124;43md\u001B[39;49m\u001B[38;5;124;43m'\u001B[39;49m\u001B[43m,\u001B[49m\u001B[43m \u001B[49m\u001B[38;5;124;43m'\u001B[39;49m\u001B[38;5;124;43mtotaldemand_vic.csv\u001B[39;49m\u001B[38;5;124;43m'\u001B[39;49m\u001B[43m)\u001B[49m\u001B[43m,\u001B[49m\u001B[43m \u001B[49m\u001B[43mparse_dates\u001B[49m\u001B[38;5;241;43m=\u001B[39;49m\u001B[43m[\u001B[49m\u001B[38;5;124;43m'\u001B[39;49m\u001B[38;5;124;43mDATETIME\u001B[39;49m\u001B[38;5;124;43m'\u001B[39;49m\u001B[43m]\u001B[49m\u001B[43m)\u001B[49m\n",
      "File \u001B[0;32m~/.cache/pypoetry/virtualenvs/team-0-5QTAbJ9E-py3.12/lib/python3.12/site-packages/pandas/io/parsers/readers.py:1026\u001B[0m, in \u001B[0;36mread_csv\u001B[0;34m(filepath_or_buffer, sep, delimiter, header, names, index_col, usecols, dtype, engine, converters, true_values, false_values, skipinitialspace, skiprows, skipfooter, nrows, na_values, keep_default_na, na_filter, verbose, skip_blank_lines, parse_dates, infer_datetime_format, keep_date_col, date_parser, date_format, dayfirst, cache_dates, iterator, chunksize, compression, thousands, decimal, lineterminator, quotechar, quoting, doublequote, escapechar, comment, encoding, encoding_errors, dialect, on_bad_lines, delim_whitespace, low_memory, memory_map, float_precision, storage_options, dtype_backend)\u001B[0m\n\u001B[1;32m   1013\u001B[0m kwds_defaults \u001B[38;5;241m=\u001B[39m _refine_defaults_read(\n\u001B[1;32m   1014\u001B[0m     dialect,\n\u001B[1;32m   1015\u001B[0m     delimiter,\n\u001B[0;32m   (...)\u001B[0m\n\u001B[1;32m   1022\u001B[0m     dtype_backend\u001B[38;5;241m=\u001B[39mdtype_backend,\n\u001B[1;32m   1023\u001B[0m )\n\u001B[1;32m   1024\u001B[0m kwds\u001B[38;5;241m.\u001B[39mupdate(kwds_defaults)\n\u001B[0;32m-> 1026\u001B[0m \u001B[38;5;28;01mreturn\u001B[39;00m \u001B[43m_read\u001B[49m\u001B[43m(\u001B[49m\u001B[43mfilepath_or_buffer\u001B[49m\u001B[43m,\u001B[49m\u001B[43m \u001B[49m\u001B[43mkwds\u001B[49m\u001B[43m)\u001B[49m\n",
      "File \u001B[0;32m~/.cache/pypoetry/virtualenvs/team-0-5QTAbJ9E-py3.12/lib/python3.12/site-packages/pandas/io/parsers/readers.py:620\u001B[0m, in \u001B[0;36m_read\u001B[0;34m(filepath_or_buffer, kwds)\u001B[0m\n\u001B[1;32m    617\u001B[0m _validate_names(kwds\u001B[38;5;241m.\u001B[39mget(\u001B[38;5;124m\"\u001B[39m\u001B[38;5;124mnames\u001B[39m\u001B[38;5;124m\"\u001B[39m, \u001B[38;5;28;01mNone\u001B[39;00m))\n\u001B[1;32m    619\u001B[0m \u001B[38;5;66;03m# Create the parser.\u001B[39;00m\n\u001B[0;32m--> 620\u001B[0m parser \u001B[38;5;241m=\u001B[39m \u001B[43mTextFileReader\u001B[49m\u001B[43m(\u001B[49m\u001B[43mfilepath_or_buffer\u001B[49m\u001B[43m,\u001B[49m\u001B[43m \u001B[49m\u001B[38;5;241;43m*\u001B[39;49m\u001B[38;5;241;43m*\u001B[39;49m\u001B[43mkwds\u001B[49m\u001B[43m)\u001B[49m\n\u001B[1;32m    622\u001B[0m \u001B[38;5;28;01mif\u001B[39;00m chunksize \u001B[38;5;129;01mor\u001B[39;00m iterator:\n\u001B[1;32m    623\u001B[0m     \u001B[38;5;28;01mreturn\u001B[39;00m parser\n",
      "File \u001B[0;32m~/.cache/pypoetry/virtualenvs/team-0-5QTAbJ9E-py3.12/lib/python3.12/site-packages/pandas/io/parsers/readers.py:1620\u001B[0m, in \u001B[0;36mTextFileReader.__init__\u001B[0;34m(self, f, engine, **kwds)\u001B[0m\n\u001B[1;32m   1617\u001B[0m     \u001B[38;5;28mself\u001B[39m\u001B[38;5;241m.\u001B[39moptions[\u001B[38;5;124m\"\u001B[39m\u001B[38;5;124mhas_index_names\u001B[39m\u001B[38;5;124m\"\u001B[39m] \u001B[38;5;241m=\u001B[39m kwds[\u001B[38;5;124m\"\u001B[39m\u001B[38;5;124mhas_index_names\u001B[39m\u001B[38;5;124m\"\u001B[39m]\n\u001B[1;32m   1619\u001B[0m \u001B[38;5;28mself\u001B[39m\u001B[38;5;241m.\u001B[39mhandles: IOHandles \u001B[38;5;241m|\u001B[39m \u001B[38;5;28;01mNone\u001B[39;00m \u001B[38;5;241m=\u001B[39m \u001B[38;5;28;01mNone\u001B[39;00m\n\u001B[0;32m-> 1620\u001B[0m \u001B[38;5;28mself\u001B[39m\u001B[38;5;241m.\u001B[39m_engine \u001B[38;5;241m=\u001B[39m \u001B[38;5;28;43mself\u001B[39;49m\u001B[38;5;241;43m.\u001B[39;49m\u001B[43m_make_engine\u001B[49m\u001B[43m(\u001B[49m\u001B[43mf\u001B[49m\u001B[43m,\u001B[49m\u001B[43m \u001B[49m\u001B[38;5;28;43mself\u001B[39;49m\u001B[38;5;241;43m.\u001B[39;49m\u001B[43mengine\u001B[49m\u001B[43m)\u001B[49m\n",
      "File \u001B[0;32m~/.cache/pypoetry/virtualenvs/team-0-5QTAbJ9E-py3.12/lib/python3.12/site-packages/pandas/io/parsers/readers.py:1880\u001B[0m, in \u001B[0;36mTextFileReader._make_engine\u001B[0;34m(self, f, engine)\u001B[0m\n\u001B[1;32m   1878\u001B[0m     \u001B[38;5;28;01mif\u001B[39;00m \u001B[38;5;124m\"\u001B[39m\u001B[38;5;124mb\u001B[39m\u001B[38;5;124m\"\u001B[39m \u001B[38;5;129;01mnot\u001B[39;00m \u001B[38;5;129;01min\u001B[39;00m mode:\n\u001B[1;32m   1879\u001B[0m         mode \u001B[38;5;241m+\u001B[39m\u001B[38;5;241m=\u001B[39m \u001B[38;5;124m\"\u001B[39m\u001B[38;5;124mb\u001B[39m\u001B[38;5;124m\"\u001B[39m\n\u001B[0;32m-> 1880\u001B[0m \u001B[38;5;28mself\u001B[39m\u001B[38;5;241m.\u001B[39mhandles \u001B[38;5;241m=\u001B[39m \u001B[43mget_handle\u001B[49m\u001B[43m(\u001B[49m\n\u001B[1;32m   1881\u001B[0m \u001B[43m    \u001B[49m\u001B[43mf\u001B[49m\u001B[43m,\u001B[49m\n\u001B[1;32m   1882\u001B[0m \u001B[43m    \u001B[49m\u001B[43mmode\u001B[49m\u001B[43m,\u001B[49m\n\u001B[1;32m   1883\u001B[0m \u001B[43m    \u001B[49m\u001B[43mencoding\u001B[49m\u001B[38;5;241;43m=\u001B[39;49m\u001B[38;5;28;43mself\u001B[39;49m\u001B[38;5;241;43m.\u001B[39;49m\u001B[43moptions\u001B[49m\u001B[38;5;241;43m.\u001B[39;49m\u001B[43mget\u001B[49m\u001B[43m(\u001B[49m\u001B[38;5;124;43m\"\u001B[39;49m\u001B[38;5;124;43mencoding\u001B[39;49m\u001B[38;5;124;43m\"\u001B[39;49m\u001B[43m,\u001B[49m\u001B[43m \u001B[49m\u001B[38;5;28;43;01mNone\u001B[39;49;00m\u001B[43m)\u001B[49m\u001B[43m,\u001B[49m\n\u001B[1;32m   1884\u001B[0m \u001B[43m    \u001B[49m\u001B[43mcompression\u001B[49m\u001B[38;5;241;43m=\u001B[39;49m\u001B[38;5;28;43mself\u001B[39;49m\u001B[38;5;241;43m.\u001B[39;49m\u001B[43moptions\u001B[49m\u001B[38;5;241;43m.\u001B[39;49m\u001B[43mget\u001B[49m\u001B[43m(\u001B[49m\u001B[38;5;124;43m\"\u001B[39;49m\u001B[38;5;124;43mcompression\u001B[39;49m\u001B[38;5;124;43m\"\u001B[39;49m\u001B[43m,\u001B[49m\u001B[43m \u001B[49m\u001B[38;5;28;43;01mNone\u001B[39;49;00m\u001B[43m)\u001B[49m\u001B[43m,\u001B[49m\n\u001B[1;32m   1885\u001B[0m \u001B[43m    \u001B[49m\u001B[43mmemory_map\u001B[49m\u001B[38;5;241;43m=\u001B[39;49m\u001B[38;5;28;43mself\u001B[39;49m\u001B[38;5;241;43m.\u001B[39;49m\u001B[43moptions\u001B[49m\u001B[38;5;241;43m.\u001B[39;49m\u001B[43mget\u001B[49m\u001B[43m(\u001B[49m\u001B[38;5;124;43m\"\u001B[39;49m\u001B[38;5;124;43mmemory_map\u001B[39;49m\u001B[38;5;124;43m\"\u001B[39;49m\u001B[43m,\u001B[49m\u001B[43m \u001B[49m\u001B[38;5;28;43;01mFalse\u001B[39;49;00m\u001B[43m)\u001B[49m\u001B[43m,\u001B[49m\n\u001B[1;32m   1886\u001B[0m \u001B[43m    \u001B[49m\u001B[43mis_text\u001B[49m\u001B[38;5;241;43m=\u001B[39;49m\u001B[43mis_text\u001B[49m\u001B[43m,\u001B[49m\n\u001B[1;32m   1887\u001B[0m \u001B[43m    \u001B[49m\u001B[43merrors\u001B[49m\u001B[38;5;241;43m=\u001B[39;49m\u001B[38;5;28;43mself\u001B[39;49m\u001B[38;5;241;43m.\u001B[39;49m\u001B[43moptions\u001B[49m\u001B[38;5;241;43m.\u001B[39;49m\u001B[43mget\u001B[49m\u001B[43m(\u001B[49m\u001B[38;5;124;43m\"\u001B[39;49m\u001B[38;5;124;43mencoding_errors\u001B[39;49m\u001B[38;5;124;43m\"\u001B[39;49m\u001B[43m,\u001B[49m\u001B[43m \u001B[49m\u001B[38;5;124;43m\"\u001B[39;49m\u001B[38;5;124;43mstrict\u001B[39;49m\u001B[38;5;124;43m\"\u001B[39;49m\u001B[43m)\u001B[49m\u001B[43m,\u001B[49m\n\u001B[1;32m   1888\u001B[0m \u001B[43m    \u001B[49m\u001B[43mstorage_options\u001B[49m\u001B[38;5;241;43m=\u001B[39;49m\u001B[38;5;28;43mself\u001B[39;49m\u001B[38;5;241;43m.\u001B[39;49m\u001B[43moptions\u001B[49m\u001B[38;5;241;43m.\u001B[39;49m\u001B[43mget\u001B[49m\u001B[43m(\u001B[49m\u001B[38;5;124;43m\"\u001B[39;49m\u001B[38;5;124;43mstorage_options\u001B[39;49m\u001B[38;5;124;43m\"\u001B[39;49m\u001B[43m,\u001B[49m\u001B[43m \u001B[49m\u001B[38;5;28;43;01mNone\u001B[39;49;00m\u001B[43m)\u001B[49m\u001B[43m,\u001B[49m\n\u001B[1;32m   1889\u001B[0m \u001B[43m\u001B[49m\u001B[43m)\u001B[49m\n\u001B[1;32m   1890\u001B[0m \u001B[38;5;28;01massert\u001B[39;00m \u001B[38;5;28mself\u001B[39m\u001B[38;5;241m.\u001B[39mhandles \u001B[38;5;129;01mis\u001B[39;00m \u001B[38;5;129;01mnot\u001B[39;00m \u001B[38;5;28;01mNone\u001B[39;00m\n\u001B[1;32m   1891\u001B[0m f \u001B[38;5;241m=\u001B[39m \u001B[38;5;28mself\u001B[39m\u001B[38;5;241m.\u001B[39mhandles\u001B[38;5;241m.\u001B[39mhandle\n",
      "File \u001B[0;32m~/.cache/pypoetry/virtualenvs/team-0-5QTAbJ9E-py3.12/lib/python3.12/site-packages/pandas/io/common.py:873\u001B[0m, in \u001B[0;36mget_handle\u001B[0;34m(path_or_buf, mode, encoding, compression, memory_map, is_text, errors, storage_options)\u001B[0m\n\u001B[1;32m    868\u001B[0m \u001B[38;5;28;01melif\u001B[39;00m \u001B[38;5;28misinstance\u001B[39m(handle, \u001B[38;5;28mstr\u001B[39m):\n\u001B[1;32m    869\u001B[0m     \u001B[38;5;66;03m# Check whether the filename is to be opened in binary mode.\u001B[39;00m\n\u001B[1;32m    870\u001B[0m     \u001B[38;5;66;03m# Binary mode does not support 'encoding' and 'newline'.\u001B[39;00m\n\u001B[1;32m    871\u001B[0m     \u001B[38;5;28;01mif\u001B[39;00m ioargs\u001B[38;5;241m.\u001B[39mencoding \u001B[38;5;129;01mand\u001B[39;00m \u001B[38;5;124m\"\u001B[39m\u001B[38;5;124mb\u001B[39m\u001B[38;5;124m\"\u001B[39m \u001B[38;5;129;01mnot\u001B[39;00m \u001B[38;5;129;01min\u001B[39;00m ioargs\u001B[38;5;241m.\u001B[39mmode:\n\u001B[1;32m    872\u001B[0m         \u001B[38;5;66;03m# Encoding\u001B[39;00m\n\u001B[0;32m--> 873\u001B[0m         handle \u001B[38;5;241m=\u001B[39m \u001B[38;5;28;43mopen\u001B[39;49m\u001B[43m(\u001B[49m\n\u001B[1;32m    874\u001B[0m \u001B[43m            \u001B[49m\u001B[43mhandle\u001B[49m\u001B[43m,\u001B[49m\n\u001B[1;32m    875\u001B[0m \u001B[43m            \u001B[49m\u001B[43mioargs\u001B[49m\u001B[38;5;241;43m.\u001B[39;49m\u001B[43mmode\u001B[49m\u001B[43m,\u001B[49m\n\u001B[1;32m    876\u001B[0m \u001B[43m            \u001B[49m\u001B[43mencoding\u001B[49m\u001B[38;5;241;43m=\u001B[39;49m\u001B[43mioargs\u001B[49m\u001B[38;5;241;43m.\u001B[39;49m\u001B[43mencoding\u001B[49m\u001B[43m,\u001B[49m\n\u001B[1;32m    877\u001B[0m \u001B[43m            \u001B[49m\u001B[43merrors\u001B[49m\u001B[38;5;241;43m=\u001B[39;49m\u001B[43merrors\u001B[49m\u001B[43m,\u001B[49m\n\u001B[1;32m    878\u001B[0m \u001B[43m            \u001B[49m\u001B[43mnewline\u001B[49m\u001B[38;5;241;43m=\u001B[39;49m\u001B[38;5;124;43m\"\u001B[39;49m\u001B[38;5;124;43m\"\u001B[39;49m\u001B[43m,\u001B[49m\n\u001B[1;32m    879\u001B[0m \u001B[43m        \u001B[49m\u001B[43m)\u001B[49m\n\u001B[1;32m    880\u001B[0m     \u001B[38;5;28;01melse\u001B[39;00m:\n\u001B[1;32m    881\u001B[0m         \u001B[38;5;66;03m# Binary mode\u001B[39;00m\n\u001B[1;32m    882\u001B[0m         handle \u001B[38;5;241m=\u001B[39m \u001B[38;5;28mopen\u001B[39m(handle, ioargs\u001B[38;5;241m.\u001B[39mmode)\n",
      "\u001B[0;31mFileNotFoundError\u001B[0m: [Errno 2] No such file or directory: './../data/Australia/d/totaldemand_vic.csv'"
     ]
    }
   ],
   "source": [
    "vic_total_demand = pd.read_csv(os.path.join(data_path, 'Australia', 'd', 'totaldemand_vic.csv'), parse_dates=['DATETIME'])"
   ],
   "metadata": {
    "collapsed": false,
    "ExecuteTime": {
     "end_time": "2024-03-17T10:29:53.910948Z",
     "start_time": "2024-03-17T10:29:53.855144Z"
    }
   },
   "id": "8071b62d4914e9d6",
   "execution_count": 1161
  },
  {
   "cell_type": "code",
   "outputs": [
    {
     "data": {
      "text/plain": "             DATETIME  TOTALDEMAND REGIONID\n0 2010-01-01 00:00:00      5426.12     VIC1\n1 2010-01-01 00:30:00      5111.02     VIC1\n2 2010-01-01 01:00:00      4960.03     VIC1\n3 2010-01-01 01:30:00      5283.40     VIC1\n4 2010-01-01 02:00:00      5046.15     VIC1",
      "text/html": "<div>\n<style scoped>\n    .dataframe tbody tr th:only-of-type {\n        vertical-align: middle;\n    }\n\n    .dataframe tbody tr th {\n        vertical-align: top;\n    }\n\n    .dataframe thead th {\n        text-align: right;\n    }\n</style>\n<table border=\"1\" class=\"dataframe\">\n  <thead>\n    <tr style=\"text-align: right;\">\n      <th></th>\n      <th>DATETIME</th>\n      <th>TOTALDEMAND</th>\n      <th>REGIONID</th>\n    </tr>\n  </thead>\n  <tbody>\n    <tr>\n      <th>0</th>\n      <td>2010-01-01 00:00:00</td>\n      <td>5426.12</td>\n      <td>VIC1</td>\n    </tr>\n    <tr>\n      <th>1</th>\n      <td>2010-01-01 00:30:00</td>\n      <td>5111.02</td>\n      <td>VIC1</td>\n    </tr>\n    <tr>\n      <th>2</th>\n      <td>2010-01-01 01:00:00</td>\n      <td>4960.03</td>\n      <td>VIC1</td>\n    </tr>\n    <tr>\n      <th>3</th>\n      <td>2010-01-01 01:30:00</td>\n      <td>5283.40</td>\n      <td>VIC1</td>\n    </tr>\n    <tr>\n      <th>4</th>\n      <td>2010-01-01 02:00:00</td>\n      <td>5046.15</td>\n      <td>VIC1</td>\n    </tr>\n  </tbody>\n</table>\n</div>"
     },
     "execution_count": 1162,
     "metadata": {},
     "output_type": "execute_result"
    }
   ],
   "source": [
    "vic_total_demand.head()"
   ],
   "metadata": {
    "collapsed": false,
    "ExecuteTime": {
     "end_time": "2024-03-17T10:29:53.942424Z",
     "start_time": "2024-03-17T10:29:53.938251Z"
    }
   },
   "id": "da49618bfec487ab",
   "execution_count": 1162
  },
  {
   "cell_type": "code",
   "outputs": [
    {
     "data": {
      "text/plain": "                  DATETIME  TOTALDEMAND REGIONID\n196508 2021-03-17 22:00:00      4557.56     VIC1\n196509 2021-03-17 22:30:00      4485.95     VIC1\n196510 2021-03-17 23:00:00      4434.62     VIC1\n196511 2021-03-17 23:30:00      4660.85     VIC1\n196512 2021-03-18 00:00:00      4608.85     VIC1",
      "text/html": "<div>\n<style scoped>\n    .dataframe tbody tr th:only-of-type {\n        vertical-align: middle;\n    }\n\n    .dataframe tbody tr th {\n        vertical-align: top;\n    }\n\n    .dataframe thead th {\n        text-align: right;\n    }\n</style>\n<table border=\"1\" class=\"dataframe\">\n  <thead>\n    <tr style=\"text-align: right;\">\n      <th></th>\n      <th>DATETIME</th>\n      <th>TOTALDEMAND</th>\n      <th>REGIONID</th>\n    </tr>\n  </thead>\n  <tbody>\n    <tr>\n      <th>196508</th>\n      <td>2021-03-17 22:00:00</td>\n      <td>4557.56</td>\n      <td>VIC1</td>\n    </tr>\n    <tr>\n      <th>196509</th>\n      <td>2021-03-17 22:30:00</td>\n      <td>4485.95</td>\n      <td>VIC1</td>\n    </tr>\n    <tr>\n      <th>196510</th>\n      <td>2021-03-17 23:00:00</td>\n      <td>4434.62</td>\n      <td>VIC1</td>\n    </tr>\n    <tr>\n      <th>196511</th>\n      <td>2021-03-17 23:30:00</td>\n      <td>4660.85</td>\n      <td>VIC1</td>\n    </tr>\n    <tr>\n      <th>196512</th>\n      <td>2021-03-18 00:00:00</td>\n      <td>4608.85</td>\n      <td>VIC1</td>\n    </tr>\n  </tbody>\n</table>\n</div>"
     },
     "execution_count": 1163,
     "metadata": {},
     "output_type": "execute_result"
    }
   ],
   "source": [
    "vic_total_demand.tail()"
   ],
   "metadata": {
    "collapsed": false,
    "ExecuteTime": {
     "end_time": "2024-03-17T10:29:53.984514Z",
     "start_time": "2024-03-17T10:29:53.980180Z"
    }
   },
   "id": "d69248191cecbfbc",
   "execution_count": 1163
  },
  {
   "cell_type": "code",
   "outputs": [
    {
     "name": "stdout",
     "output_type": "stream",
     "text": [
      "<class 'pandas.core.frame.DataFrame'>\n",
      "RangeIndex: 196513 entries, 0 to 196512\n",
      "Data columns (total 3 columns):\n",
      " #   Column       Non-Null Count   Dtype         \n",
      "---  ------       --------------   -----         \n",
      " 0   DATETIME     196513 non-null  datetime64[ns]\n",
      " 1   TOTALDEMAND  196513 non-null  float64       \n",
      " 2   REGIONID     196513 non-null  object        \n",
      "dtypes: datetime64[ns](1), float64(1), object(1)\n",
      "memory usage: 4.5+ MB\n"
     ]
    }
   ],
   "source": [
    "vic_total_demand.info()"
   ],
   "metadata": {
    "collapsed": false,
    "ExecuteTime": {
     "end_time": "2024-03-17T10:29:54.095800Z",
     "start_time": "2024-03-17T10:29:54.087710Z"
    }
   },
   "id": "fc45a989ca613566",
   "execution_count": 1164
  },
  {
   "cell_type": "code",
   "outputs": [
    {
     "data": {
      "text/plain": "count    196513.000000\nmean       5252.950834\nstd         946.281304\nmin        2307.070000\n25%        4535.420000\n50%        5157.760000\n75%        5909.540000\nmax       10240.220000\nName: TOTALDEMAND, dtype: float64"
     },
     "execution_count": 1165,
     "metadata": {},
     "output_type": "execute_result"
    }
   ],
   "source": [
    "vic_total_demand['TOTALDEMAND'].describe()"
   ],
   "metadata": {
    "collapsed": false,
    "ExecuteTime": {
     "end_time": "2024-03-17T10:29:54.140398Z",
     "start_time": "2024-03-17T10:29:54.132686Z"
    }
   },
   "id": "acf59b1aeb79a169",
   "execution_count": 1165
  },
  {
   "cell_type": "code",
   "outputs": [
    {
     "data": {
      "text/plain": "(196513, 3)"
     },
     "execution_count": 1166,
     "metadata": {},
     "output_type": "execute_result"
    }
   ],
   "source": [
    "vic_total_demand.shape"
   ],
   "metadata": {
    "collapsed": false,
    "ExecuteTime": {
     "end_time": "2024-03-17T10:29:54.232634Z",
     "start_time": "2024-03-17T10:29:54.230360Z"
    }
   },
   "id": "56e70d520d1db9c6",
   "execution_count": 1166
  },
  {
   "cell_type": "code",
   "outputs": [
    {
     "data": {
      "text/plain": "DATETIME       2010-01-01 00:00:00\nTOTALDEMAND                2307.07\nREGIONID                      VIC1\ndtype: object"
     },
     "execution_count": 1167,
     "metadata": {},
     "output_type": "execute_result"
    }
   ],
   "source": [
    "vic_total_demand.min()"
   ],
   "metadata": {
    "collapsed": false,
    "ExecuteTime": {
     "end_time": "2024-03-17T10:29:54.313061Z",
     "start_time": "2024-03-17T10:29:54.302739Z"
    }
   },
   "id": "bef5da5a832a7f8f",
   "execution_count": 1167
  },
  {
   "cell_type": "code",
   "outputs": [
    {
     "data": {
      "text/plain": "DATETIME       2021-03-18 00:00:00\nTOTALDEMAND               10240.22\nREGIONID                      VIC1\ndtype: object"
     },
     "execution_count": 1168,
     "metadata": {},
     "output_type": "execute_result"
    }
   ],
   "source": [
    "vic_total_demand.max()"
   ],
   "metadata": {
    "collapsed": false,
    "ExecuteTime": {
     "end_time": "2024-03-17T10:29:54.419750Z",
     "start_time": "2024-03-17T10:29:54.410956Z"
    }
   },
   "id": "430c7e53c6fb48dc",
   "execution_count": 1168
  },
  {
   "cell_type": "code",
   "outputs": [
    {
     "data": {
      "text/plain": "DATETIME       0\nTOTALDEMAND    0\nREGIONID       0\ndtype: int64"
     },
     "execution_count": 1169,
     "metadata": {},
     "output_type": "execute_result"
    }
   ],
   "source": [
    "vic_total_demand.isnull().sum()"
   ],
   "metadata": {
    "collapsed": false,
    "ExecuteTime": {
     "end_time": "2024-03-17T10:29:54.468860Z",
     "start_time": "2024-03-17T10:29:54.460544Z"
    }
   },
   "id": "fba0584917acccde",
   "execution_count": 1169
  },
  {
   "cell_type": "code",
   "outputs": [
    {
     "data": {
      "text/plain": "DATETIME       0\nTOTALDEMAND    0\nREGIONID       0\ndtype: int64"
     },
     "execution_count": 1170,
     "metadata": {},
     "output_type": "execute_result"
    }
   ],
   "source": [
    "vic_total_demand.isna().sum()"
   ],
   "metadata": {
    "collapsed": false,
    "ExecuteTime": {
     "end_time": "2024-03-17T10:29:54.574303Z",
     "start_time": "2024-03-17T10:29:54.567283Z"
    }
   },
   "id": "1421e5afd11229be",
   "execution_count": 1170
  },
  {
   "cell_type": "code",
   "outputs": [
    {
     "data": {
      "text/plain": "DATETIME       196513\nTOTALDEMAND    149442\nREGIONID            1\ndtype: int64"
     },
     "execution_count": 1171,
     "metadata": {},
     "output_type": "execute_result"
    }
   ],
   "source": [
    "vic_total_demand.nunique()"
   ],
   "metadata": {
    "collapsed": false,
    "ExecuteTime": {
     "end_time": "2024-03-17T10:29:54.709889Z",
     "start_time": "2024-03-17T10:29:54.688544Z"
    }
   },
   "id": "eb42249510174393",
   "execution_count": 1171
  },
  {
   "cell_type": "code",
   "outputs": [
    {
     "data": {
      "text/plain": "DATETIME       datetime64[ns]\nTOTALDEMAND           float64\nREGIONID               object\ndtype: object"
     },
     "execution_count": 1172,
     "metadata": {},
     "output_type": "execute_result"
    }
   ],
   "source": [
    "vic_total_demand.dtypes"
   ],
   "metadata": {
    "collapsed": false,
    "ExecuteTime": {
     "end_time": "2024-03-17T10:29:54.724997Z",
     "start_time": "2024-03-17T10:29:54.722027Z"
    }
   },
   "id": "d590818ef2a976b8",
   "execution_count": 1172
  },
  {
   "cell_type": "markdown",
   "source": [
    "## NSW Forecast Demand"
   ],
   "metadata": {
    "collapsed": false
   },
   "id": "4d5cf7f80f9c834c"
  },
  {
   "cell_type": "code",
   "outputs": [],
   "source": [
    "nsw_forecastdemand = pd.read_csv(os.path.join(data_path, 'NSW', 'forecastdemand_nsw.csv'), parse_dates=['LASTCHANGED', 'DATETIME'])"
   ],
   "metadata": {
    "collapsed": false,
    "ExecuteTime": {
     "end_time": "2024-03-17T10:30:00.639946Z",
     "start_time": "2024-03-17T10:29:54.805964Z"
    }
   },
   "id": "714fb3f4bd4e097d",
   "execution_count": 1173
  },
  {
   "cell_type": "code",
   "outputs": [
    {
     "data": {
      "text/plain": "   PREDISPATCHSEQNO REGIONID  PERIODID  FORECASTDEMAND         LASTCHANGED  \\\n0        2009123018     NSW1        71         7832.04 2009-12-30 12:31:49   \n1        2009123019     NSW1        70         7832.04 2009-12-30 13:01:43   \n2        2009123020     NSW1        69         7832.03 2009-12-30 13:31:36   \n3        2009123021     NSW1        68         7832.03 2009-12-30 14:01:44   \n4        2009123022     NSW1        67         7830.96 2009-12-30 14:31:35   \n\n    DATETIME  \n0 2010-01-01  \n1 2010-01-01  \n2 2010-01-01  \n3 2010-01-01  \n4 2010-01-01  ",
      "text/html": "<div>\n<style scoped>\n    .dataframe tbody tr th:only-of-type {\n        vertical-align: middle;\n    }\n\n    .dataframe tbody tr th {\n        vertical-align: top;\n    }\n\n    .dataframe thead th {\n        text-align: right;\n    }\n</style>\n<table border=\"1\" class=\"dataframe\">\n  <thead>\n    <tr style=\"text-align: right;\">\n      <th></th>\n      <th>PREDISPATCHSEQNO</th>\n      <th>REGIONID</th>\n      <th>PERIODID</th>\n      <th>FORECASTDEMAND</th>\n      <th>LASTCHANGED</th>\n      <th>DATETIME</th>\n    </tr>\n  </thead>\n  <tbody>\n    <tr>\n      <th>0</th>\n      <td>2009123018</td>\n      <td>NSW1</td>\n      <td>71</td>\n      <td>7832.04</td>\n      <td>2009-12-30 12:31:49</td>\n      <td>2010-01-01</td>\n    </tr>\n    <tr>\n      <th>1</th>\n      <td>2009123019</td>\n      <td>NSW1</td>\n      <td>70</td>\n      <td>7832.04</td>\n      <td>2009-12-30 13:01:43</td>\n      <td>2010-01-01</td>\n    </tr>\n    <tr>\n      <th>2</th>\n      <td>2009123020</td>\n      <td>NSW1</td>\n      <td>69</td>\n      <td>7832.03</td>\n      <td>2009-12-30 13:31:36</td>\n      <td>2010-01-01</td>\n    </tr>\n    <tr>\n      <th>3</th>\n      <td>2009123021</td>\n      <td>NSW1</td>\n      <td>68</td>\n      <td>7832.03</td>\n      <td>2009-12-30 14:01:44</td>\n      <td>2010-01-01</td>\n    </tr>\n    <tr>\n      <th>4</th>\n      <td>2009123022</td>\n      <td>NSW1</td>\n      <td>67</td>\n      <td>7830.96</td>\n      <td>2009-12-30 14:31:35</td>\n      <td>2010-01-01</td>\n    </tr>\n  </tbody>\n</table>\n</div>"
     },
     "execution_count": 1174,
     "metadata": {},
     "output_type": "execute_result"
    }
   ],
   "source": [
    "nsw_forecastdemand.head()"
   ],
   "metadata": {
    "collapsed": false,
    "ExecuteTime": {
     "end_time": "2024-03-17T10:30:00.645184Z",
     "start_time": "2024-03-17T10:30:00.640777Z"
    }
   },
   "id": "738cf2feb7fe6ef4",
   "execution_count": 1174
  },
  {
   "cell_type": "code",
   "outputs": [
    {
     "data": {
      "text/plain": "          PREDISPATCHSEQNO REGIONID  PERIODID  FORECASTDEMAND  \\\n10906014        2021031736     NSW1         5         7028.45   \n10906015        2021031737     NSW1         4         7041.65   \n10906016        2021031738     NSW1         3         7087.60   \n10906017        2021031739     NSW1         2         7087.28   \n10906018        2021031740     NSW1         1         7126.37   \n\n                 LASTCHANGED   DATETIME  \n10906014 2021-03-17 21:31:31 2021-03-18  \n10906015 2021-03-17 22:01:34 2021-03-18  \n10906016 2021-03-17 22:31:36 2021-03-18  \n10906017 2021-03-17 23:01:36 2021-03-18  \n10906018 2021-03-17 23:31:33 2021-03-18  ",
      "text/html": "<div>\n<style scoped>\n    .dataframe tbody tr th:only-of-type {\n        vertical-align: middle;\n    }\n\n    .dataframe tbody tr th {\n        vertical-align: top;\n    }\n\n    .dataframe thead th {\n        text-align: right;\n    }\n</style>\n<table border=\"1\" class=\"dataframe\">\n  <thead>\n    <tr style=\"text-align: right;\">\n      <th></th>\n      <th>PREDISPATCHSEQNO</th>\n      <th>REGIONID</th>\n      <th>PERIODID</th>\n      <th>FORECASTDEMAND</th>\n      <th>LASTCHANGED</th>\n      <th>DATETIME</th>\n    </tr>\n  </thead>\n  <tbody>\n    <tr>\n      <th>10906014</th>\n      <td>2021031736</td>\n      <td>NSW1</td>\n      <td>5</td>\n      <td>7028.45</td>\n      <td>2021-03-17 21:31:31</td>\n      <td>2021-03-18</td>\n    </tr>\n    <tr>\n      <th>10906015</th>\n      <td>2021031737</td>\n      <td>NSW1</td>\n      <td>4</td>\n      <td>7041.65</td>\n      <td>2021-03-17 22:01:34</td>\n      <td>2021-03-18</td>\n    </tr>\n    <tr>\n      <th>10906016</th>\n      <td>2021031738</td>\n      <td>NSW1</td>\n      <td>3</td>\n      <td>7087.60</td>\n      <td>2021-03-17 22:31:36</td>\n      <td>2021-03-18</td>\n    </tr>\n    <tr>\n      <th>10906017</th>\n      <td>2021031739</td>\n      <td>NSW1</td>\n      <td>2</td>\n      <td>7087.28</td>\n      <td>2021-03-17 23:01:36</td>\n      <td>2021-03-18</td>\n    </tr>\n    <tr>\n      <th>10906018</th>\n      <td>2021031740</td>\n      <td>NSW1</td>\n      <td>1</td>\n      <td>7126.37</td>\n      <td>2021-03-17 23:31:33</td>\n      <td>2021-03-18</td>\n    </tr>\n  </tbody>\n</table>\n</div>"
     },
     "execution_count": 1175,
     "metadata": {},
     "output_type": "execute_result"
    }
   ],
   "source": [
    "nsw_forecastdemand.tail()"
   ],
   "metadata": {
    "collapsed": false,
    "ExecuteTime": {
     "end_time": "2024-03-17T10:30:00.766850Z",
     "start_time": "2024-03-17T10:30:00.645698Z"
    }
   },
   "id": "95d4b96b1b0a636e",
   "execution_count": 1175
  },
  {
   "cell_type": "code",
   "outputs": [
    {
     "name": "stdout",
     "output_type": "stream",
     "text": [
      "<class 'pandas.core.frame.DataFrame'>\n",
      "RangeIndex: 10906019 entries, 0 to 10906018\n",
      "Data columns (total 6 columns):\n",
      " #   Column            Dtype         \n",
      "---  ------            -----         \n",
      " 0   PREDISPATCHSEQNO  int64         \n",
      " 1   REGIONID          object        \n",
      " 2   PERIODID          int64         \n",
      " 3   FORECASTDEMAND    float64       \n",
      " 4   LASTCHANGED       datetime64[ns]\n",
      " 5   DATETIME          datetime64[ns]\n",
      "dtypes: datetime64[ns](2), float64(1), int64(2), object(1)\n",
      "memory usage: 499.2+ MB\n"
     ]
    }
   ],
   "source": [
    "nsw_forecastdemand.info()"
   ],
   "metadata": {
    "collapsed": false,
    "ExecuteTime": {
     "end_time": "2024-03-17T10:30:00.771774Z",
     "start_time": "2024-03-17T10:30:00.767694Z"
    }
   },
   "id": "807338f77241801a",
   "execution_count": 1176
  },
  {
   "cell_type": "code",
   "outputs": [
    {
     "data": {
      "text/plain": "count    1.090602e+07\nmean     8.066719e+03\nstd      1.315959e+03\nmin      4.422460e+03\n25%      7.077970e+03\n50%      8.007550e+03\n75%      8.925610e+03\nmax      1.473666e+04\nName: FORECASTDEMAND, dtype: float64"
     },
     "execution_count": 1177,
     "metadata": {},
     "output_type": "execute_result"
    }
   ],
   "source": [
    "nsw_forecastdemand['FORECASTDEMAND'].describe()"
   ],
   "metadata": {
    "collapsed": false,
    "ExecuteTime": {
     "end_time": "2024-03-17T10:30:00.916697Z",
     "start_time": "2024-03-17T10:30:00.772327Z"
    }
   },
   "id": "230b5e85ede77e40",
   "execution_count": 1177
  },
  {
   "cell_type": "code",
   "outputs": [
    {
     "data": {
      "text/plain": "(10906019, 6)"
     },
     "execution_count": 1178,
     "metadata": {},
     "output_type": "execute_result"
    }
   ],
   "source": [
    "nsw_forecastdemand.shape"
   ],
   "metadata": {
    "collapsed": false,
    "ExecuteTime": {
     "end_time": "2024-03-17T10:30:00.919943Z",
     "start_time": "2024-03-17T10:30:00.917274Z"
    }
   },
   "id": "ed0a7020b50243f4",
   "execution_count": 1178
  },
  {
   "cell_type": "code",
   "outputs": [
    {
     "data": {
      "text/plain": "PREDISPATCHSEQNO             2009123018\nREGIONID                           NSW1\nPERIODID                              1\nFORECASTDEMAND                  4422.46\nLASTCHANGED         2009-12-30 12:31:49\nDATETIME            2010-01-01 00:00:00\ndtype: object"
     },
     "execution_count": 1179,
     "metadata": {},
     "output_type": "execute_result"
    }
   ],
   "source": [
    "nsw_forecastdemand.min()"
   ],
   "metadata": {
    "collapsed": false,
    "ExecuteTime": {
     "end_time": "2024-03-17T10:30:01.356780Z",
     "start_time": "2024-03-17T10:30:00.920557Z"
    }
   },
   "id": "38c1071e18c36e9f",
   "execution_count": 1179
  },
  {
   "cell_type": "code",
   "outputs": [
    {
     "data": {
      "text/plain": "PREDISPATCHSEQNO             2021031740\nREGIONID                           NSW1\nPERIODID                             79\nFORECASTDEMAND                 14736.66\nLASTCHANGED         2021-03-17 23:31:33\nDATETIME            2021-03-18 00:00:00\ndtype: object"
     },
     "execution_count": 1180,
     "metadata": {},
     "output_type": "execute_result"
    }
   ],
   "source": [
    "nsw_forecastdemand.max()"
   ],
   "metadata": {
    "collapsed": false,
    "ExecuteTime": {
     "end_time": "2024-03-17T10:30:01.752804Z",
     "start_time": "2024-03-17T10:30:01.357402Z"
    }
   },
   "id": "5c9358fe34f093f4",
   "execution_count": 1180
  },
  {
   "cell_type": "code",
   "outputs": [
    {
     "data": {
      "text/plain": "PREDISPATCHSEQNO    0\nREGIONID            0\nPERIODID            0\nFORECASTDEMAND      0\nLASTCHANGED         0\nDATETIME            0\ndtype: int64"
     },
     "execution_count": 1181,
     "metadata": {},
     "output_type": "execute_result"
    }
   ],
   "source": [
    "nsw_forecastdemand.isnull().sum()"
   ],
   "metadata": {
    "collapsed": false,
    "ExecuteTime": {
     "end_time": "2024-03-17T10:30:01.996189Z",
     "start_time": "2024-03-17T10:30:01.753588Z"
    }
   },
   "id": "14ff921264c8f66f",
   "execution_count": 1181
  },
  {
   "cell_type": "code",
   "outputs": [
    {
     "data": {
      "text/plain": "PREDISPATCHSEQNO    0\nREGIONID            0\nPERIODID            0\nFORECASTDEMAND      0\nLASTCHANGED         0\nDATETIME            0\ndtype: int64"
     },
     "execution_count": 1182,
     "metadata": {},
     "output_type": "execute_result"
    }
   ],
   "source": [
    "nsw_forecastdemand.isna().sum()"
   ],
   "metadata": {
    "collapsed": false,
    "ExecuteTime": {
     "end_time": "2024-03-17T10:30:02.235902Z",
     "start_time": "2024-03-17T10:30:01.997460Z"
    }
   },
   "id": "55011353fab20d65",
   "execution_count": 1182
  },
  {
   "cell_type": "code",
   "outputs": [
    {
     "data": {
      "text/plain": "PREDISPATCHSEQNO    196571\nREGIONID                 1\nPERIODID                79\nFORECASTDEMAND      681384\nLASTCHANGED         196571\nDATETIME            196513\ndtype: int64"
     },
     "execution_count": 1183,
     "metadata": {},
     "output_type": "execute_result"
    }
   ],
   "source": [
    "nsw_forecastdemand.nunique()"
   ],
   "metadata": {
    "collapsed": false,
    "ExecuteTime": {
     "end_time": "2024-03-17T10:30:02.850410Z",
     "start_time": "2024-03-17T10:30:02.236613Z"
    }
   },
   "id": "a296e9a8690f05",
   "execution_count": 1183
  },
  {
   "cell_type": "code",
   "outputs": [
    {
     "data": {
      "text/plain": "PREDISPATCHSEQNO             int64\nREGIONID                    object\nPERIODID                     int64\nFORECASTDEMAND             float64\nLASTCHANGED         datetime64[ns]\nDATETIME            datetime64[ns]\ndtype: object"
     },
     "execution_count": 1184,
     "metadata": {},
     "output_type": "execute_result"
    }
   ],
   "source": [
    "nsw_forecastdemand.dtypes"
   ],
   "metadata": {
    "collapsed": false,
    "ExecuteTime": {
     "end_time": "2024-03-17T10:30:02.853314Z",
     "start_time": "2024-03-17T10:30:02.850940Z"
    }
   },
   "id": "76336b1a517dbc8f",
   "execution_count": 1184
  },
  {
   "cell_type": "markdown",
   "source": [
    "## NSW temperature"
   ],
   "metadata": {
    "collapsed": false
   },
   "id": "99d38818860ccd38"
  },
  {
   "cell_type": "code",
   "outputs": [],
   "source": [
    "nsw_temperature = pd.read_csv(os.path.join(data_path, 'NSW', 'temperature_nsw.csv'), parse_dates=['DATETIME'], dayfirst=True)"
   ],
   "metadata": {
    "collapsed": false,
    "ExecuteTime": {
     "end_time": "2024-03-17T10:30:03.324170Z",
     "start_time": "2024-03-17T10:30:02.853803Z"
    }
   },
   "id": "b598cb193002a8d4",
   "execution_count": 1185
  },
  {
   "cell_type": "code",
   "outputs": [
    {
     "data": {
      "text/plain": "    LOCATION            DATETIME  TEMPERATURE\n0  Bankstown 2010-01-01 00:00:00         23.1\n1  Bankstown 2010-01-01 00:01:00         23.1\n2  Bankstown 2010-01-01 00:30:00         22.9\n3  Bankstown 2010-01-01 00:50:00         22.7\n4  Bankstown 2010-01-01 01:00:00         22.6",
      "text/html": "<div>\n<style scoped>\n    .dataframe tbody tr th:only-of-type {\n        vertical-align: middle;\n    }\n\n    .dataframe tbody tr th {\n        vertical-align: top;\n    }\n\n    .dataframe thead th {\n        text-align: right;\n    }\n</style>\n<table border=\"1\" class=\"dataframe\">\n  <thead>\n    <tr style=\"text-align: right;\">\n      <th></th>\n      <th>LOCATION</th>\n      <th>DATETIME</th>\n      <th>TEMPERATURE</th>\n    </tr>\n  </thead>\n  <tbody>\n    <tr>\n      <th>0</th>\n      <td>Bankstown</td>\n      <td>2010-01-01 00:00:00</td>\n      <td>23.1</td>\n    </tr>\n    <tr>\n      <th>1</th>\n      <td>Bankstown</td>\n      <td>2010-01-01 00:01:00</td>\n      <td>23.1</td>\n    </tr>\n    <tr>\n      <th>2</th>\n      <td>Bankstown</td>\n      <td>2010-01-01 00:30:00</td>\n      <td>22.9</td>\n    </tr>\n    <tr>\n      <th>3</th>\n      <td>Bankstown</td>\n      <td>2010-01-01 00:50:00</td>\n      <td>22.7</td>\n    </tr>\n    <tr>\n      <th>4</th>\n      <td>Bankstown</td>\n      <td>2010-01-01 01:00:00</td>\n      <td>22.6</td>\n    </tr>\n  </tbody>\n</table>\n</div>"
     },
     "execution_count": 1186,
     "metadata": {},
     "output_type": "execute_result"
    }
   ],
   "source": [
    "nsw_temperature.head()"
   ],
   "metadata": {
    "collapsed": false,
    "ExecuteTime": {
     "end_time": "2024-03-17T10:30:03.328433Z",
     "start_time": "2024-03-17T10:30:03.324779Z"
    }
   },
   "id": "8db601dfe413b494",
   "execution_count": 1186
  },
  {
   "cell_type": "code",
   "outputs": [
    {
     "data": {
      "text/plain": "         LOCATION            DATETIME  TEMPERATURE\n220321  Bankstown 2021-03-17 23:00:00         19.1\n220322  Bankstown 2021-03-17 23:20:00         19.0\n220323  Bankstown 2021-03-17 23:30:00         18.8\n220324  Bankstown 2021-03-17 23:34:00         18.8\n220325  Bankstown 2021-03-18 00:00:00         18.6",
      "text/html": "<div>\n<style scoped>\n    .dataframe tbody tr th:only-of-type {\n        vertical-align: middle;\n    }\n\n    .dataframe tbody tr th {\n        vertical-align: top;\n    }\n\n    .dataframe thead th {\n        text-align: right;\n    }\n</style>\n<table border=\"1\" class=\"dataframe\">\n  <thead>\n    <tr style=\"text-align: right;\">\n      <th></th>\n      <th>LOCATION</th>\n      <th>DATETIME</th>\n      <th>TEMPERATURE</th>\n    </tr>\n  </thead>\n  <tbody>\n    <tr>\n      <th>220321</th>\n      <td>Bankstown</td>\n      <td>2021-03-17 23:00:00</td>\n      <td>19.1</td>\n    </tr>\n    <tr>\n      <th>220322</th>\n      <td>Bankstown</td>\n      <td>2021-03-17 23:20:00</td>\n      <td>19.0</td>\n    </tr>\n    <tr>\n      <th>220323</th>\n      <td>Bankstown</td>\n      <td>2021-03-17 23:30:00</td>\n      <td>18.8</td>\n    </tr>\n    <tr>\n      <th>220324</th>\n      <td>Bankstown</td>\n      <td>2021-03-17 23:34:00</td>\n      <td>18.8</td>\n    </tr>\n    <tr>\n      <th>220325</th>\n      <td>Bankstown</td>\n      <td>2021-03-18 00:00:00</td>\n      <td>18.6</td>\n    </tr>\n  </tbody>\n</table>\n</div>"
     },
     "execution_count": 1187,
     "metadata": {},
     "output_type": "execute_result"
    }
   ],
   "source": [
    "nsw_temperature.tail()"
   ],
   "metadata": {
    "collapsed": false,
    "ExecuteTime": {
     "end_time": "2024-03-17T10:30:03.399971Z",
     "start_time": "2024-03-17T10:30:03.328908Z"
    }
   },
   "id": "f393b5cbde7f1e18",
   "execution_count": 1187
  },
  {
   "cell_type": "code",
   "outputs": [
    {
     "name": "stdout",
     "output_type": "stream",
     "text": [
      "<class 'pandas.core.frame.DataFrame'>\n",
      "RangeIndex: 220326 entries, 0 to 220325\n",
      "Data columns (total 3 columns):\n",
      " #   Column       Non-Null Count   Dtype         \n",
      "---  ------       --------------   -----         \n",
      " 0   LOCATION     220326 non-null  object        \n",
      " 1   DATETIME     220326 non-null  datetime64[ns]\n",
      " 2   TEMPERATURE  220326 non-null  float64       \n",
      "dtypes: datetime64[ns](1), float64(1), object(1)\n",
      "memory usage: 5.0+ MB\n"
     ]
    }
   ],
   "source": [
    "nsw_temperature.info()"
   ],
   "metadata": {
    "collapsed": false,
    "ExecuteTime": {
     "end_time": "2024-03-17T10:30:03.409104Z",
     "start_time": "2024-03-17T10:30:03.400500Z"
    }
   },
   "id": "613af6013635909e",
   "execution_count": 1188
  },
  {
   "cell_type": "code",
   "outputs": [
    {
     "data": {
      "text/plain": "                            DATETIME    TEMPERATURE\ncount                         220326  220326.000000\nmean   2015-08-16 07:59:12.964243712      17.418827\nmin              2010-01-01 00:00:00      -1.300000\n25%              2012-11-02 23:07:30      13.400000\n50%              2015-08-16 13:45:00      17.700000\n75%              2018-06-03 14:22:30      21.300000\nmax              2021-03-18 00:00:00      44.700000\nstd                              NaN       5.849763",
      "text/html": "<div>\n<style scoped>\n    .dataframe tbody tr th:only-of-type {\n        vertical-align: middle;\n    }\n\n    .dataframe tbody tr th {\n        vertical-align: top;\n    }\n\n    .dataframe thead th {\n        text-align: right;\n    }\n</style>\n<table border=\"1\" class=\"dataframe\">\n  <thead>\n    <tr style=\"text-align: right;\">\n      <th></th>\n      <th>DATETIME</th>\n      <th>TEMPERATURE</th>\n    </tr>\n  </thead>\n  <tbody>\n    <tr>\n      <th>count</th>\n      <td>220326</td>\n      <td>220326.000000</td>\n    </tr>\n    <tr>\n      <th>mean</th>\n      <td>2015-08-16 07:59:12.964243712</td>\n      <td>17.418827</td>\n    </tr>\n    <tr>\n      <th>min</th>\n      <td>2010-01-01 00:00:00</td>\n      <td>-1.300000</td>\n    </tr>\n    <tr>\n      <th>25%</th>\n      <td>2012-11-02 23:07:30</td>\n      <td>13.400000</td>\n    </tr>\n    <tr>\n      <th>50%</th>\n      <td>2015-08-16 13:45:00</td>\n      <td>17.700000</td>\n    </tr>\n    <tr>\n      <th>75%</th>\n      <td>2018-06-03 14:22:30</td>\n      <td>21.300000</td>\n    </tr>\n    <tr>\n      <th>max</th>\n      <td>2021-03-18 00:00:00</td>\n      <td>44.700000</td>\n    </tr>\n    <tr>\n      <th>std</th>\n      <td>NaN</td>\n      <td>5.849763</td>\n    </tr>\n  </tbody>\n</table>\n</div>"
     },
     "execution_count": 1189,
     "metadata": {},
     "output_type": "execute_result"
    }
   ],
   "source": [
    "nsw_temperature.describe()"
   ],
   "metadata": {
    "collapsed": false,
    "ExecuteTime": {
     "end_time": "2024-03-17T10:30:03.418566Z",
     "start_time": "2024-03-17T10:30:03.409615Z"
    }
   },
   "id": "464f7f1c4f6b349e",
   "execution_count": 1189
  },
  {
   "cell_type": "code",
   "outputs": [
    {
     "data": {
      "text/plain": "(220326, 3)"
     },
     "execution_count": 1190,
     "metadata": {},
     "output_type": "execute_result"
    }
   ],
   "source": [
    "nsw_temperature.shape"
   ],
   "metadata": {
    "collapsed": false,
    "ExecuteTime": {
     "end_time": "2024-03-17T10:30:03.420906Z",
     "start_time": "2024-03-17T10:30:03.419054Z"
    }
   },
   "id": "c3acba3c6c3c2afa",
   "execution_count": 1190
  },
  {
   "cell_type": "code",
   "outputs": [
    {
     "data": {
      "text/plain": "LOCATION                 Bankstown\nDATETIME       2010-01-01 00:00:00\nTEMPERATURE                   -1.3\ndtype: object"
     },
     "execution_count": 1191,
     "metadata": {},
     "output_type": "execute_result"
    }
   ],
   "source": [
    "nsw_temperature.min()"
   ],
   "metadata": {
    "collapsed": false,
    "ExecuteTime": {
     "end_time": "2024-03-17T10:30:03.434279Z",
     "start_time": "2024-03-17T10:30:03.421395Z"
    }
   },
   "id": "1eec95181ac5e7cb",
   "execution_count": 1191
  },
  {
   "cell_type": "code",
   "outputs": [
    {
     "data": {
      "text/plain": "LOCATION                 Bankstown\nDATETIME       2021-03-18 00:00:00\nTEMPERATURE                   44.7\ndtype: object"
     },
     "execution_count": 1192,
     "metadata": {},
     "output_type": "execute_result"
    }
   ],
   "source": [
    "nsw_temperature.max()"
   ],
   "metadata": {
    "collapsed": false,
    "ExecuteTime": {
     "end_time": "2024-03-17T10:30:03.448975Z",
     "start_time": "2024-03-17T10:30:03.434758Z"
    }
   },
   "id": "795cc9ceb73a1c33",
   "execution_count": 1192
  },
  {
   "cell_type": "code",
   "outputs": [
    {
     "data": {
      "text/plain": "LOCATION       0\nDATETIME       0\nTEMPERATURE    0\ndtype: int64"
     },
     "execution_count": 1193,
     "metadata": {},
     "output_type": "execute_result"
    }
   ],
   "source": [
    "nsw_temperature.isnull().sum()"
   ],
   "metadata": {
    "collapsed": false,
    "ExecuteTime": {
     "end_time": "2024-03-17T10:30:03.466026Z",
     "start_time": "2024-03-17T10:30:03.449492Z"
    }
   },
   "id": "b12a917928cc5bb",
   "execution_count": 1193
  },
  {
   "cell_type": "code",
   "outputs": [
    {
     "data": {
      "text/plain": "LOCATION       0\nDATETIME       0\nTEMPERATURE    0\ndtype: int64"
     },
     "execution_count": 1194,
     "metadata": {},
     "output_type": "execute_result"
    }
   ],
   "source": [
    "nsw_temperature.isna().sum()"
   ],
   "metadata": {
    "collapsed": false,
    "ExecuteTime": {
     "end_time": "2024-03-17T10:30:03.484857Z",
     "start_time": "2024-03-17T10:30:03.466533Z"
    }
   },
   "id": "3a052dc37be7b9da",
   "execution_count": 1194
  },
  {
   "cell_type": "code",
   "outputs": [
    {
     "data": {
      "text/plain": "LOCATION            1\nDATETIME       220313\nTEMPERATURE       439\ndtype: int64"
     },
     "execution_count": 1195,
     "metadata": {},
     "output_type": "execute_result"
    }
   ],
   "source": [
    "nsw_temperature.nunique()"
   ],
   "metadata": {
    "collapsed": false,
    "ExecuteTime": {
     "end_time": "2024-03-17T10:30:03.507794Z",
     "start_time": "2024-03-17T10:30:03.485346Z"
    }
   },
   "id": "940aa95937db4361",
   "execution_count": 1195
  },
  {
   "cell_type": "code",
   "outputs": [
    {
     "data": {
      "text/plain": "LOCATION               object\nDATETIME       datetime64[ns]\nTEMPERATURE           float64\ndtype: object"
     },
     "execution_count": 1196,
     "metadata": {},
     "output_type": "execute_result"
    }
   ],
   "source": [
    "nsw_temperature.dtypes"
   ],
   "metadata": {
    "collapsed": false,
    "ExecuteTime": {
     "end_time": "2024-03-17T10:30:03.513125Z",
     "start_time": "2024-03-17T10:30:03.508311Z"
    }
   },
   "id": "f2e044ccaec071e7",
   "execution_count": 1196
  },
  {
   "cell_type": "markdown",
   "source": [
    "## NSW Total Demand"
   ],
   "metadata": {
    "collapsed": false
   },
   "id": "fddeec55bae13a78"
  },
  {
   "cell_type": "code",
   "outputs": [],
   "source": [
    "nsw_totaldemand = pd.read_csv(os.path.join(data_path, 'NSW', 'totaldemand_nsw.csv'), parse_dates=['DATETIME'], dayfirst=True)"
   ],
   "metadata": {
    "collapsed": false,
    "ExecuteTime": {
     "end_time": "2024-03-17T10:30:03.879141Z",
     "start_time": "2024-03-17T10:30:03.513619Z"
    }
   },
   "id": "520c0d5a18b723db",
   "execution_count": 1197
  },
  {
   "cell_type": "code",
   "outputs": [
    {
     "data": {
      "text/plain": "             DATETIME  TOTALDEMAND REGIONID\n0 2010-01-01 00:00:00      8038.00     NSW1\n1 2010-01-01 00:30:00      7809.31     NSW1\n2 2010-01-01 01:00:00      7483.69     NSW1\n3 2010-01-01 01:30:00      7117.23     NSW1\n4 2010-01-01 02:00:00      6812.03     NSW1",
      "text/html": "<div>\n<style scoped>\n    .dataframe tbody tr th:only-of-type {\n        vertical-align: middle;\n    }\n\n    .dataframe tbody tr th {\n        vertical-align: top;\n    }\n\n    .dataframe thead th {\n        text-align: right;\n    }\n</style>\n<table border=\"1\" class=\"dataframe\">\n  <thead>\n    <tr style=\"text-align: right;\">\n      <th></th>\n      <th>DATETIME</th>\n      <th>TOTALDEMAND</th>\n      <th>REGIONID</th>\n    </tr>\n  </thead>\n  <tbody>\n    <tr>\n      <th>0</th>\n      <td>2010-01-01 00:00:00</td>\n      <td>8038.00</td>\n      <td>NSW1</td>\n    </tr>\n    <tr>\n      <th>1</th>\n      <td>2010-01-01 00:30:00</td>\n      <td>7809.31</td>\n      <td>NSW1</td>\n    </tr>\n    <tr>\n      <th>2</th>\n      <td>2010-01-01 01:00:00</td>\n      <td>7483.69</td>\n      <td>NSW1</td>\n    </tr>\n    <tr>\n      <th>3</th>\n      <td>2010-01-01 01:30:00</td>\n      <td>7117.23</td>\n      <td>NSW1</td>\n    </tr>\n    <tr>\n      <th>4</th>\n      <td>2010-01-01 02:00:00</td>\n      <td>6812.03</td>\n      <td>NSW1</td>\n    </tr>\n  </tbody>\n</table>\n</div>"
     },
     "execution_count": 1198,
     "metadata": {},
     "output_type": "execute_result"
    }
   ],
   "source": [
    "nsw_totaldemand.head()"
   ],
   "metadata": {
    "collapsed": false,
    "ExecuteTime": {
     "end_time": "2024-03-17T10:30:03.883377Z",
     "start_time": "2024-03-17T10:30:03.879753Z"
    }
   },
   "id": "803af382d328c77f",
   "execution_count": 1198
  },
  {
   "cell_type": "code",
   "outputs": [
    {
     "data": {
      "text/plain": "                  DATETIME  TOTALDEMAND REGIONID\n196508 2021-03-17 22:00:00      7419.77     NSW1\n196509 2021-03-17 22:30:00      7417.91     NSW1\n196510 2021-03-17 23:00:00      7287.32     NSW1\n196511 2021-03-17 23:30:00      7172.39     NSW1\n196512 2021-03-18 00:00:00      7094.51     NSW1",
      "text/html": "<div>\n<style scoped>\n    .dataframe tbody tr th:only-of-type {\n        vertical-align: middle;\n    }\n\n    .dataframe tbody tr th {\n        vertical-align: top;\n    }\n\n    .dataframe thead th {\n        text-align: right;\n    }\n</style>\n<table border=\"1\" class=\"dataframe\">\n  <thead>\n    <tr style=\"text-align: right;\">\n      <th></th>\n      <th>DATETIME</th>\n      <th>TOTALDEMAND</th>\n      <th>REGIONID</th>\n    </tr>\n  </thead>\n  <tbody>\n    <tr>\n      <th>196508</th>\n      <td>2021-03-17 22:00:00</td>\n      <td>7419.77</td>\n      <td>NSW1</td>\n    </tr>\n    <tr>\n      <th>196509</th>\n      <td>2021-03-17 22:30:00</td>\n      <td>7417.91</td>\n      <td>NSW1</td>\n    </tr>\n    <tr>\n      <th>196510</th>\n      <td>2021-03-17 23:00:00</td>\n      <td>7287.32</td>\n      <td>NSW1</td>\n    </tr>\n    <tr>\n      <th>196511</th>\n      <td>2021-03-17 23:30:00</td>\n      <td>7172.39</td>\n      <td>NSW1</td>\n    </tr>\n    <tr>\n      <th>196512</th>\n      <td>2021-03-18 00:00:00</td>\n      <td>7094.51</td>\n      <td>NSW1</td>\n    </tr>\n  </tbody>\n</table>\n</div>"
     },
     "execution_count": 1199,
     "metadata": {},
     "output_type": "execute_result"
    }
   ],
   "source": [
    "nsw_totaldemand.tail()"
   ],
   "metadata": {
    "collapsed": false,
    "ExecuteTime": {
     "end_time": "2024-03-17T10:30:03.956384Z",
     "start_time": "2024-03-17T10:30:03.883845Z"
    }
   },
   "id": "6f28b772bf6f0e3d",
   "execution_count": 1199
  },
  {
   "cell_type": "code",
   "outputs": [
    {
     "name": "stdout",
     "output_type": "stream",
     "text": [
      "<class 'pandas.core.frame.DataFrame'>\n",
      "RangeIndex: 196513 entries, 0 to 196512\n",
      "Data columns (total 3 columns):\n",
      " #   Column       Non-Null Count   Dtype         \n",
      "---  ------       --------------   -----         \n",
      " 0   DATETIME     196513 non-null  datetime64[ns]\n",
      " 1   TOTALDEMAND  196513 non-null  float64       \n",
      " 2   REGIONID     196513 non-null  object        \n",
      "dtypes: datetime64[ns](1), float64(1), object(1)\n",
      "memory usage: 4.5+ MB\n"
     ]
    }
   ],
   "source": [
    "nsw_totaldemand.info()"
   ],
   "metadata": {
    "collapsed": false,
    "ExecuteTime": {
     "end_time": "2024-03-17T10:30:03.965936Z",
     "start_time": "2024-03-17T10:30:03.958475Z"
    }
   },
   "id": "1f4d2cfb03fb670b",
   "execution_count": 1200
  },
  {
   "cell_type": "code",
   "outputs": [
    {
     "data": {
      "text/plain": "count    196513.000000\nmean       8113.145859\nstd        1299.532774\nmin        5074.630000\n25%        7150.070000\n50%        8053.230000\n75%        8958.550000\nmax       14579.860000\nName: TOTALDEMAND, dtype: float64"
     },
     "execution_count": 1201,
     "metadata": {},
     "output_type": "execute_result"
    }
   ],
   "source": [
    "nsw_totaldemand['TOTALDEMAND'].describe()"
   ],
   "metadata": {
    "collapsed": false,
    "ExecuteTime": {
     "end_time": "2024-03-17T10:30:03.982206Z",
     "start_time": "2024-03-17T10:30:03.966428Z"
    }
   },
   "id": "22d877c31ac861d3",
   "execution_count": 1201
  },
  {
   "cell_type": "code",
   "outputs": [
    {
     "data": {
      "text/plain": "(196513, 3)"
     },
     "execution_count": 1202,
     "metadata": {},
     "output_type": "execute_result"
    }
   ],
   "source": [
    "nsw_totaldemand.shape"
   ],
   "metadata": {
    "collapsed": false,
    "ExecuteTime": {
     "end_time": "2024-03-17T10:30:03.986762Z",
     "start_time": "2024-03-17T10:30:03.982701Z"
    }
   },
   "id": "7d357c1d8c977aa2",
   "execution_count": 1202
  },
  {
   "cell_type": "code",
   "outputs": [
    {
     "data": {
      "text/plain": "DATETIME       2010-01-01 00:00:00\nTOTALDEMAND                5074.63\nREGIONID                      NSW1\ndtype: object"
     },
     "execution_count": 1203,
     "metadata": {},
     "output_type": "execute_result"
    }
   ],
   "source": [
    "nsw_totaldemand.min()"
   ],
   "metadata": {
    "collapsed": false,
    "ExecuteTime": {
     "end_time": "2024-03-17T10:30:04.006563Z",
     "start_time": "2024-03-17T10:30:03.987235Z"
    }
   },
   "id": "aa26edff9e6bcee9",
   "execution_count": 1203
  },
  {
   "cell_type": "code",
   "outputs": [
    {
     "data": {
      "text/plain": "DATETIME       2021-03-18 00:00:00\nTOTALDEMAND               14579.86\nREGIONID                      NSW1\ndtype: object"
     },
     "execution_count": 1204,
     "metadata": {},
     "output_type": "execute_result"
    }
   ],
   "source": [
    "nsw_totaldemand.max()"
   ],
   "metadata": {
    "collapsed": false,
    "ExecuteTime": {
     "end_time": "2024-03-17T10:30:04.025335Z",
     "start_time": "2024-03-17T10:30:04.007142Z"
    }
   },
   "id": "508d2afe0bd71767",
   "execution_count": 1204
  },
  {
   "cell_type": "code",
   "outputs": [
    {
     "data": {
      "text/plain": "DATETIME       0\nTOTALDEMAND    0\nREGIONID       0\ndtype: int64"
     },
     "execution_count": 1205,
     "metadata": {},
     "output_type": "execute_result"
    }
   ],
   "source": [
    "nsw_totaldemand.isnull().sum()"
   ],
   "metadata": {
    "collapsed": false,
    "ExecuteTime": {
     "end_time": "2024-03-17T10:30:04.033530Z",
     "start_time": "2024-03-17T10:30:04.025887Z"
    }
   },
   "id": "83b3c21f622d2417",
   "execution_count": 1205
  },
  {
   "cell_type": "code",
   "outputs": [
    {
     "data": {
      "text/plain": "DATETIME       0\nTOTALDEMAND    0\nREGIONID       0\ndtype: int64"
     },
     "execution_count": 1206,
     "metadata": {},
     "output_type": "execute_result"
    }
   ],
   "source": [
    "nsw_totaldemand.isna().sum()"
   ],
   "metadata": {
    "collapsed": false,
    "ExecuteTime": {
     "end_time": "2024-03-17T10:30:04.051548Z",
     "start_time": "2024-03-17T10:30:04.034183Z"
    }
   },
   "id": "46c6cf0be4a89d4c",
   "execution_count": 1206
  },
  {
   "cell_type": "code",
   "outputs": [
    {
     "data": {
      "text/plain": "DATETIME       196513\nTOTALDEMAND    160515\nREGIONID            1\ndtype: int64"
     },
     "execution_count": 1207,
     "metadata": {},
     "output_type": "execute_result"
    }
   ],
   "source": [
    "nsw_totaldemand.nunique()"
   ],
   "metadata": {
    "collapsed": false,
    "ExecuteTime": {
     "end_time": "2024-03-17T10:30:04.074753Z",
     "start_time": "2024-03-17T10:30:04.052201Z"
    }
   },
   "id": "af7e24871b188530",
   "execution_count": 1207
  },
  {
   "cell_type": "code",
   "outputs": [
    {
     "data": {
      "text/plain": "DATETIME       datetime64[ns]\nTOTALDEMAND           float64\nREGIONID               object\ndtype: object"
     },
     "execution_count": 1208,
     "metadata": {},
     "output_type": "execute_result"
    }
   ],
   "source": [
    "nsw_totaldemand.dtypes"
   ],
   "metadata": {
    "collapsed": false,
    "ExecuteTime": {
     "end_time": "2024-03-17T10:30:04.078478Z",
     "start_time": "2024-03-17T10:30:04.075479Z"
    }
   },
   "id": "87552e73732bfe1f",
   "execution_count": 1208
  },
  {
   "cell_type": "markdown",
   "source": [
    "# 1: operational demand actual, half-hourly, consolidated"
   ],
   "metadata": {
    "collapsed": false
   },
   "id": "764841b4cdf350f7"
  },
  {
   "cell_type": "code",
   "outputs": [
    {
     "data": {
      "text/plain": "   I  OPERATIONAL_DEMAND  ACTUAL  3 REGIONID   INTERVAL_DATETIME  \\\n0  D  OPERATIONAL_DEMAND  ACTUAL  3     NSW1 2023-09-19 08:00:00   \n1  D  OPERATIONAL_DEMAND  ACTUAL  3     QLD1 2023-09-19 08:00:00   \n2  D  OPERATIONAL_DEMAND  ACTUAL  3      SA1 2023-09-19 08:00:00   \n3  D  OPERATIONAL_DEMAND  ACTUAL  3     TAS1 2023-09-19 08:00:00   \n4  D  OPERATIONAL_DEMAND  ACTUAL  3     VIC1 2023-09-19 08:00:00   \n\n   OPERATIONAL_DEMAND.1  OPERATIONAL_DEMAND_ADJUSTMENT  WDR_ESTIMATE  \\\n0                  6860                              0             0   \n1                  5745                              0             0   \n2                  1290                              0             0   \n3                  1253                              0             0   \n4                  4896                              0             0   \n\n          LASTCHANGED  \n0 2023-09-19 08:00:01  \n1 2023-09-19 08:00:01  \n2 2023-09-19 08:00:01  \n3 2023-09-19 08:00:01  \n4 2023-09-19 08:00:01  ",
      "text/html": "<div>\n<style scoped>\n    .dataframe tbody tr th:only-of-type {\n        vertical-align: middle;\n    }\n\n    .dataframe tbody tr th {\n        vertical-align: top;\n    }\n\n    .dataframe thead th {\n        text-align: right;\n    }\n</style>\n<table border=\"1\" class=\"dataframe\">\n  <thead>\n    <tr style=\"text-align: right;\">\n      <th></th>\n      <th>I</th>\n      <th>OPERATIONAL_DEMAND</th>\n      <th>ACTUAL</th>\n      <th>3</th>\n      <th>REGIONID</th>\n      <th>INTERVAL_DATETIME</th>\n      <th>OPERATIONAL_DEMAND.1</th>\n      <th>OPERATIONAL_DEMAND_ADJUSTMENT</th>\n      <th>WDR_ESTIMATE</th>\n      <th>LASTCHANGED</th>\n    </tr>\n  </thead>\n  <tbody>\n    <tr>\n      <th>0</th>\n      <td>D</td>\n      <td>OPERATIONAL_DEMAND</td>\n      <td>ACTUAL</td>\n      <td>3</td>\n      <td>NSW1</td>\n      <td>2023-09-19 08:00:00</td>\n      <td>6860</td>\n      <td>0</td>\n      <td>0</td>\n      <td>2023-09-19 08:00:01</td>\n    </tr>\n    <tr>\n      <th>1</th>\n      <td>D</td>\n      <td>OPERATIONAL_DEMAND</td>\n      <td>ACTUAL</td>\n      <td>3</td>\n      <td>QLD1</td>\n      <td>2023-09-19 08:00:00</td>\n      <td>5745</td>\n      <td>0</td>\n      <td>0</td>\n      <td>2023-09-19 08:00:01</td>\n    </tr>\n    <tr>\n      <th>2</th>\n      <td>D</td>\n      <td>OPERATIONAL_DEMAND</td>\n      <td>ACTUAL</td>\n      <td>3</td>\n      <td>SA1</td>\n      <td>2023-09-19 08:00:00</td>\n      <td>1290</td>\n      <td>0</td>\n      <td>0</td>\n      <td>2023-09-19 08:00:01</td>\n    </tr>\n    <tr>\n      <th>3</th>\n      <td>D</td>\n      <td>OPERATIONAL_DEMAND</td>\n      <td>ACTUAL</td>\n      <td>3</td>\n      <td>TAS1</td>\n      <td>2023-09-19 08:00:00</td>\n      <td>1253</td>\n      <td>0</td>\n      <td>0</td>\n      <td>2023-09-19 08:00:01</td>\n    </tr>\n    <tr>\n      <th>4</th>\n      <td>D</td>\n      <td>OPERATIONAL_DEMAND</td>\n      <td>ACTUAL</td>\n      <td>3</td>\n      <td>VIC1</td>\n      <td>2023-09-19 08:00:00</td>\n      <td>4896</td>\n      <td>0</td>\n      <td>0</td>\n      <td>2023-09-19 08:00:01</td>\n    </tr>\n  </tbody>\n</table>\n</div>"
     },
     "execution_count": 1209,
     "metadata": {},
     "output_type": "execute_result"
    }
   ],
   "source": [
    "df1 = pd.read_csv(os.path.join(data_path, 'operational_demand_actual_hh_consolidated.csv'), parse_dates=['INTERVAL_DATETIME', 'LASTCHANGED'], )\n",
    "df1.head()"
   ],
   "metadata": {
    "collapsed": false,
    "ExecuteTime": {
     "end_time": "2024-03-17T10:30:04.157083Z",
     "start_time": "2024-03-17T10:30:04.079131Z"
    }
   },
   "id": "3c08bdb2145ee986",
   "execution_count": 1209
  },
  {
   "cell_type": "code",
   "outputs": [
    {
     "data": {
      "text/plain": "       I  OPERATIONAL_DEMAND  ACTUAL  3 REGIONID   INTERVAL_DATETIME  \\\n96890  D  OPERATIONAL_DEMAND  ACTUAL  3     NSW1 2023-03-04 03:00:00   \n96891  D  OPERATIONAL_DEMAND  ACTUAL  3     QLD1 2023-03-04 03:00:00   \n96892  D  OPERATIONAL_DEMAND  ACTUAL  3      SA1 2023-03-04 03:00:00   \n96893  D  OPERATIONAL_DEMAND  ACTUAL  3     TAS1 2023-03-04 03:00:00   \n96894  D  OPERATIONAL_DEMAND  ACTUAL  3     VIC1 2023-03-04 03:00:00   \n\n       OPERATIONAL_DEMAND.1  OPERATIONAL_DEMAND_ADJUSTMENT  WDR_ESTIMATE  \\\n96890                  6392                              0             0   \n96891                  5680                              0             0   \n96892                  1197                              0             0   \n96893                   999                              0             0   \n96894                  3981                              0             0   \n\n              LASTCHANGED  \n96890 2023-03-04 03:00:01  \n96891 2023-03-04 03:00:01  \n96892 2023-03-04 03:00:01  \n96893 2023-03-04 03:00:01  \n96894 2023-03-04 03:00:01  ",
      "text/html": "<div>\n<style scoped>\n    .dataframe tbody tr th:only-of-type {\n        vertical-align: middle;\n    }\n\n    .dataframe tbody tr th {\n        vertical-align: top;\n    }\n\n    .dataframe thead th {\n        text-align: right;\n    }\n</style>\n<table border=\"1\" class=\"dataframe\">\n  <thead>\n    <tr style=\"text-align: right;\">\n      <th></th>\n      <th>I</th>\n      <th>OPERATIONAL_DEMAND</th>\n      <th>ACTUAL</th>\n      <th>3</th>\n      <th>REGIONID</th>\n      <th>INTERVAL_DATETIME</th>\n      <th>OPERATIONAL_DEMAND.1</th>\n      <th>OPERATIONAL_DEMAND_ADJUSTMENT</th>\n      <th>WDR_ESTIMATE</th>\n      <th>LASTCHANGED</th>\n    </tr>\n  </thead>\n  <tbody>\n    <tr>\n      <th>96890</th>\n      <td>D</td>\n      <td>OPERATIONAL_DEMAND</td>\n      <td>ACTUAL</td>\n      <td>3</td>\n      <td>NSW1</td>\n      <td>2023-03-04 03:00:00</td>\n      <td>6392</td>\n      <td>0</td>\n      <td>0</td>\n      <td>2023-03-04 03:00:01</td>\n    </tr>\n    <tr>\n      <th>96891</th>\n      <td>D</td>\n      <td>OPERATIONAL_DEMAND</td>\n      <td>ACTUAL</td>\n      <td>3</td>\n      <td>QLD1</td>\n      <td>2023-03-04 03:00:00</td>\n      <td>5680</td>\n      <td>0</td>\n      <td>0</td>\n      <td>2023-03-04 03:00:01</td>\n    </tr>\n    <tr>\n      <th>96892</th>\n      <td>D</td>\n      <td>OPERATIONAL_DEMAND</td>\n      <td>ACTUAL</td>\n      <td>3</td>\n      <td>SA1</td>\n      <td>2023-03-04 03:00:00</td>\n      <td>1197</td>\n      <td>0</td>\n      <td>0</td>\n      <td>2023-03-04 03:00:01</td>\n    </tr>\n    <tr>\n      <th>96893</th>\n      <td>D</td>\n      <td>OPERATIONAL_DEMAND</td>\n      <td>ACTUAL</td>\n      <td>3</td>\n      <td>TAS1</td>\n      <td>2023-03-04 03:00:00</td>\n      <td>999</td>\n      <td>0</td>\n      <td>0</td>\n      <td>2023-03-04 03:00:01</td>\n    </tr>\n    <tr>\n      <th>96894</th>\n      <td>D</td>\n      <td>OPERATIONAL_DEMAND</td>\n      <td>ACTUAL</td>\n      <td>3</td>\n      <td>VIC1</td>\n      <td>2023-03-04 03:00:00</td>\n      <td>3981</td>\n      <td>0</td>\n      <td>0</td>\n      <td>2023-03-04 03:00:01</td>\n    </tr>\n  </tbody>\n</table>\n</div>"
     },
     "execution_count": 1210,
     "metadata": {},
     "output_type": "execute_result"
    }
   ],
   "source": [
    "df1.tail()"
   ],
   "metadata": {
    "collapsed": false,
    "ExecuteTime": {
     "end_time": "2024-03-17T10:30:04.162122Z",
     "start_time": "2024-03-17T10:30:04.157665Z"
    }
   },
   "id": "2d570bc2d600d9a",
   "execution_count": 1210
  },
  {
   "cell_type": "code",
   "outputs": [
    {
     "name": "stdout",
     "output_type": "stream",
     "text": [
      "<class 'pandas.core.frame.DataFrame'>\n",
      "RangeIndex: 96895 entries, 0 to 96894\n",
      "Data columns (total 10 columns):\n",
      " #   Column                         Non-Null Count  Dtype         \n",
      "---  ------                         --------------  -----         \n",
      " 0   I                              96895 non-null  object        \n",
      " 1   OPERATIONAL_DEMAND             96895 non-null  object        \n",
      " 2   ACTUAL                         96895 non-null  object        \n",
      " 3   3                              96895 non-null  int64         \n",
      " 4   REGIONID                       96895 non-null  object        \n",
      " 5   INTERVAL_DATETIME              96895 non-null  datetime64[ns]\n",
      " 6   OPERATIONAL_DEMAND.1           96895 non-null  int64         \n",
      " 7   OPERATIONAL_DEMAND_ADJUSTMENT  96895 non-null  int64         \n",
      " 8   WDR_ESTIMATE                   96895 non-null  int64         \n",
      " 9   LASTCHANGED                    96895 non-null  datetime64[ns]\n",
      "dtypes: datetime64[ns](2), int64(4), object(4)\n",
      "memory usage: 7.4+ MB\n"
     ]
    }
   ],
   "source": [
    "df1.info()"
   ],
   "metadata": {
    "collapsed": false,
    "ExecuteTime": {
     "end_time": "2024-03-17T10:30:04.235352Z",
     "start_time": "2024-03-17T10:30:04.162629Z"
    }
   },
   "id": "d82263b3d289e984",
   "execution_count": 1211
  },
  {
   "cell_type": "code",
   "outputs": [
    {
     "data": {
      "text/plain": "             3              INTERVAL_DATETIME  OPERATIONAL_DEMAND.1  \\\ncount  96895.0                          96895          96895.000000   \nmean       3.0  2023-08-28 16:32:48.677434112           4229.047299   \nmin        3.0            2023-02-05 00:00:00            -26.000000   \n25%        3.0            2023-05-20 00:00:00           1287.000000   \n50%        3.0            2023-08-28 22:30:00           4591.000000   \n75%        3.0            2023-12-07 21:00:00           6471.000000   \nmax        3.0            2024-03-17 19:00:00          13643.000000   \nstd        0.0                            NaN           2763.699228   \n\n       OPERATIONAL_DEMAND_ADJUSTMENT  WDR_ESTIMATE  \\\ncount                        96895.0  96895.000000   \nmean                             0.0      0.005914   \nmin                              0.0      0.000000   \n25%                              0.0      0.000000   \n50%                              0.0      0.000000   \n75%                              0.0      0.000000   \nmax                              0.0     21.000000   \nstd                              0.0      0.242620   \n\n                         LASTCHANGED  \ncount                          96895  \nmean   2023-08-28 16:32:49.979317760  \nmin              2023-02-05 00:00:02  \n25%              2023-05-20 00:00:02  \n50%              2023-08-28 22:30:01  \n75%              2023-12-07 21:00:01  \nmax              2024-03-17 19:00:01  \nstd                              NaN  ",
      "text/html": "<div>\n<style scoped>\n    .dataframe tbody tr th:only-of-type {\n        vertical-align: middle;\n    }\n\n    .dataframe tbody tr th {\n        vertical-align: top;\n    }\n\n    .dataframe thead th {\n        text-align: right;\n    }\n</style>\n<table border=\"1\" class=\"dataframe\">\n  <thead>\n    <tr style=\"text-align: right;\">\n      <th></th>\n      <th>3</th>\n      <th>INTERVAL_DATETIME</th>\n      <th>OPERATIONAL_DEMAND.1</th>\n      <th>OPERATIONAL_DEMAND_ADJUSTMENT</th>\n      <th>WDR_ESTIMATE</th>\n      <th>LASTCHANGED</th>\n    </tr>\n  </thead>\n  <tbody>\n    <tr>\n      <th>count</th>\n      <td>96895.0</td>\n      <td>96895</td>\n      <td>96895.000000</td>\n      <td>96895.0</td>\n      <td>96895.000000</td>\n      <td>96895</td>\n    </tr>\n    <tr>\n      <th>mean</th>\n      <td>3.0</td>\n      <td>2023-08-28 16:32:48.677434112</td>\n      <td>4229.047299</td>\n      <td>0.0</td>\n      <td>0.005914</td>\n      <td>2023-08-28 16:32:49.979317760</td>\n    </tr>\n    <tr>\n      <th>min</th>\n      <td>3.0</td>\n      <td>2023-02-05 00:00:00</td>\n      <td>-26.000000</td>\n      <td>0.0</td>\n      <td>0.000000</td>\n      <td>2023-02-05 00:00:02</td>\n    </tr>\n    <tr>\n      <th>25%</th>\n      <td>3.0</td>\n      <td>2023-05-20 00:00:00</td>\n      <td>1287.000000</td>\n      <td>0.0</td>\n      <td>0.000000</td>\n      <td>2023-05-20 00:00:02</td>\n    </tr>\n    <tr>\n      <th>50%</th>\n      <td>3.0</td>\n      <td>2023-08-28 22:30:00</td>\n      <td>4591.000000</td>\n      <td>0.0</td>\n      <td>0.000000</td>\n      <td>2023-08-28 22:30:01</td>\n    </tr>\n    <tr>\n      <th>75%</th>\n      <td>3.0</td>\n      <td>2023-12-07 21:00:00</td>\n      <td>6471.000000</td>\n      <td>0.0</td>\n      <td>0.000000</td>\n      <td>2023-12-07 21:00:01</td>\n    </tr>\n    <tr>\n      <th>max</th>\n      <td>3.0</td>\n      <td>2024-03-17 19:00:00</td>\n      <td>13643.000000</td>\n      <td>0.0</td>\n      <td>21.000000</td>\n      <td>2024-03-17 19:00:01</td>\n    </tr>\n    <tr>\n      <th>std</th>\n      <td>0.0</td>\n      <td>NaN</td>\n      <td>2763.699228</td>\n      <td>0.0</td>\n      <td>0.242620</td>\n      <td>NaN</td>\n    </tr>\n  </tbody>\n</table>\n</div>"
     },
     "execution_count": 1212,
     "metadata": {},
     "output_type": "execute_result"
    }
   ],
   "source": [
    "df1.describe()"
   ],
   "metadata": {
    "collapsed": false,
    "ExecuteTime": {
     "end_time": "2024-03-17T10:30:04.259244Z",
     "start_time": "2024-03-17T10:30:04.235951Z"
    }
   },
   "id": "968af03092a49be4",
   "execution_count": 1212
  },
  {
   "cell_type": "code",
   "outputs": [
    {
     "data": {
      "text/plain": "(96895, 10)"
     },
     "execution_count": 1213,
     "metadata": {},
     "output_type": "execute_result"
    }
   ],
   "source": [
    "df1.shape"
   ],
   "metadata": {
    "collapsed": false,
    "ExecuteTime": {
     "end_time": "2024-03-17T10:30:04.261760Z",
     "start_time": "2024-03-17T10:30:04.259788Z"
    }
   },
   "id": "4cbe81ca7420caa",
   "execution_count": 1213
  },
  {
   "cell_type": "code",
   "outputs": [
    {
     "data": {
      "text/plain": "I                                0\nOPERATIONAL_DEMAND               0\nACTUAL                           0\n3                                0\nREGIONID                         0\nINTERVAL_DATETIME                0\nOPERATIONAL_DEMAND.1             0\nOPERATIONAL_DEMAND_ADJUSTMENT    0\nWDR_ESTIMATE                     0\nLASTCHANGED                      0\ndtype: int64"
     },
     "execution_count": 1214,
     "metadata": {},
     "output_type": "execute_result"
    }
   ],
   "source": [
    "df1.isnull().sum()"
   ],
   "metadata": {
    "collapsed": false,
    "ExecuteTime": {
     "end_time": "2024-03-17T10:30:04.280733Z",
     "start_time": "2024-03-17T10:30:04.262259Z"
    }
   },
   "id": "dfd3044c650deec",
   "execution_count": 1214
  },
  {
   "cell_type": "code",
   "outputs": [
    {
     "data": {
      "text/plain": "I                                0\nOPERATIONAL_DEMAND               0\nACTUAL                           0\n3                                0\nREGIONID                         0\nINTERVAL_DATETIME                0\nOPERATIONAL_DEMAND.1             0\nOPERATIONAL_DEMAND_ADJUSTMENT    0\nWDR_ESTIMATE                     0\nLASTCHANGED                      0\ndtype: int64"
     },
     "execution_count": 1215,
     "metadata": {},
     "output_type": "execute_result"
    }
   ],
   "source": [
    "df1.isna().sum()"
   ],
   "metadata": {
    "collapsed": false,
    "ExecuteTime": {
     "end_time": "2024-03-17T10:30:04.296049Z",
     "start_time": "2024-03-17T10:30:04.281622Z"
    }
   },
   "id": "4f49526a4065d08a",
   "execution_count": 1215
  },
  {
   "cell_type": "markdown",
   "source": [
    "# 2: operational demand forecast, half-hourly, consolidated"
   ],
   "metadata": {
    "collapsed": false
   },
   "id": "9d2c264cb16b023b"
  },
  {
   "cell_type": "code",
   "outputs": [
    {
     "data": {
      "text/plain": "   I  OPERATIONAL_DEMAND  FORECAST  1 REGIONID   INTERVAL_DATETIME  \\\n0  D  OPERATIONAL_DEMAND  FORECAST  1     NSW1 2023-07-10 23:00:00   \n1  D  OPERATIONAL_DEMAND  FORECAST  1     NSW1 2023-07-10 23:30:00   \n2  D  OPERATIONAL_DEMAND  FORECAST  1     NSW1 2023-07-11 00:00:00   \n3  D  OPERATIONAL_DEMAND  FORECAST  1     NSW1 2023-07-11 00:30:00   \n4  D  OPERATIONAL_DEMAND  FORECAST  1     NSW1 2023-07-11 01:00:00   \n\n            LOAD_DATE  OPERATIONAL_DEMAND_POE10  OPERATIONAL_DEMAND_POE50  \\\n0 2023-07-10 22:27:39                    9090.0                      8950   \n1 2023-07-10 22:27:39                    8912.0                      8753   \n2 2023-07-10 22:27:39                    8788.0                      8608   \n3 2023-07-10 22:27:39                    8642.0                      8444   \n4 2023-07-10 22:27:39                    8486.0                      8270   \n\n   OPERATIONAL_DEMAND_POE90         LASTCHANGED  \n0                    8810.0 2023-07-10 22:27:39  \n1                    8593.0 2023-07-10 22:27:39  \n2                    8429.0 2023-07-10 22:27:39  \n3                    8246.0 2023-07-10 22:27:39  \n4                    8055.0 2023-07-10 22:27:39  ",
      "text/html": "<div>\n<style scoped>\n    .dataframe tbody tr th:only-of-type {\n        vertical-align: middle;\n    }\n\n    .dataframe tbody tr th {\n        vertical-align: top;\n    }\n\n    .dataframe thead th {\n        text-align: right;\n    }\n</style>\n<table border=\"1\" class=\"dataframe\">\n  <thead>\n    <tr style=\"text-align: right;\">\n      <th></th>\n      <th>I</th>\n      <th>OPERATIONAL_DEMAND</th>\n      <th>FORECAST</th>\n      <th>1</th>\n      <th>REGIONID</th>\n      <th>INTERVAL_DATETIME</th>\n      <th>LOAD_DATE</th>\n      <th>OPERATIONAL_DEMAND_POE10</th>\n      <th>OPERATIONAL_DEMAND_POE50</th>\n      <th>OPERATIONAL_DEMAND_POE90</th>\n      <th>LASTCHANGED</th>\n    </tr>\n  </thead>\n  <tbody>\n    <tr>\n      <th>0</th>\n      <td>D</td>\n      <td>OPERATIONAL_DEMAND</td>\n      <td>FORECAST</td>\n      <td>1</td>\n      <td>NSW1</td>\n      <td>2023-07-10 23:00:00</td>\n      <td>2023-07-10 22:27:39</td>\n      <td>9090.0</td>\n      <td>8950</td>\n      <td>8810.0</td>\n      <td>2023-07-10 22:27:39</td>\n    </tr>\n    <tr>\n      <th>1</th>\n      <td>D</td>\n      <td>OPERATIONAL_DEMAND</td>\n      <td>FORECAST</td>\n      <td>1</td>\n      <td>NSW1</td>\n      <td>2023-07-10 23:30:00</td>\n      <td>2023-07-10 22:27:39</td>\n      <td>8912.0</td>\n      <td>8753</td>\n      <td>8593.0</td>\n      <td>2023-07-10 22:27:39</td>\n    </tr>\n    <tr>\n      <th>2</th>\n      <td>D</td>\n      <td>OPERATIONAL_DEMAND</td>\n      <td>FORECAST</td>\n      <td>1</td>\n      <td>NSW1</td>\n      <td>2023-07-11 00:00:00</td>\n      <td>2023-07-10 22:27:39</td>\n      <td>8788.0</td>\n      <td>8608</td>\n      <td>8429.0</td>\n      <td>2023-07-10 22:27:39</td>\n    </tr>\n    <tr>\n      <th>3</th>\n      <td>D</td>\n      <td>OPERATIONAL_DEMAND</td>\n      <td>FORECAST</td>\n      <td>1</td>\n      <td>NSW1</td>\n      <td>2023-07-11 00:30:00</td>\n      <td>2023-07-10 22:27:39</td>\n      <td>8642.0</td>\n      <td>8444</td>\n      <td>8246.0</td>\n      <td>2023-07-10 22:27:39</td>\n    </tr>\n    <tr>\n      <th>4</th>\n      <td>D</td>\n      <td>OPERATIONAL_DEMAND</td>\n      <td>FORECAST</td>\n      <td>1</td>\n      <td>NSW1</td>\n      <td>2023-07-11 01:00:00</td>\n      <td>2023-07-10 22:27:39</td>\n      <td>8486.0</td>\n      <td>8270</td>\n      <td>8055.0</td>\n      <td>2023-07-10 22:27:39</td>\n    </tr>\n  </tbody>\n</table>\n</div>"
     },
     "execution_count": 1216,
     "metadata": {},
     "output_type": "execute_result"
    }
   ],
   "source": [
    "df2 = pd.read_csv(\n",
    "    os.path.join(data_path, 'operational_demand_forecast_hh_consolidated.csv'), \n",
    "    parse_dates=['INTERVAL_DATETIME', 'LOAD_DATE', 'LASTCHANGED'],\n",
    ")\n",
    "df2.head()"
   ],
   "metadata": {
    "collapsed": false,
    "ExecuteTime": {
     "end_time": "2024-03-17T10:30:40.474863Z",
     "start_time": "2024-03-17T10:30:04.296646Z"
    }
   },
   "id": "ac09edf4d1f6f297",
   "execution_count": 1216
  },
  {
   "cell_type": "code",
   "outputs": [
    {
     "data": {
      "text/plain": "          I  OPERATIONAL_DEMAND  FORECAST  1 REGIONID   INTERVAL_DATETIME  \\\n39982240  D  OPERATIONAL_DEMAND  FORECAST  1     VIC1 2023-12-29 22:00:00   \n39982241  D  OPERATIONAL_DEMAND  FORECAST  1     VIC1 2023-12-29 22:30:00   \n39982242  D  OPERATIONAL_DEMAND  FORECAST  1     VIC1 2023-12-29 23:00:00   \n39982243  D  OPERATIONAL_DEMAND  FORECAST  1     VIC1 2023-12-29 23:30:00   \n39982244  D  OPERATIONAL_DEMAND  FORECAST  1     VIC1 2023-12-30 00:00:00   \n\n                   LOAD_DATE  OPERATIONAL_DEMAND_POE10  \\\n39982240 2023-12-21 06:57:31                    4707.0   \n39982241 2023-12-21 06:57:31                    4641.0   \n39982242 2023-12-21 06:57:31                    4604.0   \n39982243 2023-12-21 06:57:31                    4705.0   \n39982244 2023-12-21 06:57:31                    4677.0   \n\n          OPERATIONAL_DEMAND_POE50  OPERATIONAL_DEMAND_POE90  \\\n39982240                      4376                    4044.0   \n39982241                      4314                    3987.0   \n39982242                      4280                    3956.0   \n39982243                      4374                    4043.0   \n39982244                      4348                    4018.0   \n\n                 LASTCHANGED  \n39982240 2023-12-21 06:57:31  \n39982241 2023-12-21 06:57:31  \n39982242 2023-12-21 06:57:31  \n39982243 2023-12-21 06:57:31  \n39982244 2023-12-21 06:57:31  ",
      "text/html": "<div>\n<style scoped>\n    .dataframe tbody tr th:only-of-type {\n        vertical-align: middle;\n    }\n\n    .dataframe tbody tr th {\n        vertical-align: top;\n    }\n\n    .dataframe thead th {\n        text-align: right;\n    }\n</style>\n<table border=\"1\" class=\"dataframe\">\n  <thead>\n    <tr style=\"text-align: right;\">\n      <th></th>\n      <th>I</th>\n      <th>OPERATIONAL_DEMAND</th>\n      <th>FORECAST</th>\n      <th>1</th>\n      <th>REGIONID</th>\n      <th>INTERVAL_DATETIME</th>\n      <th>LOAD_DATE</th>\n      <th>OPERATIONAL_DEMAND_POE10</th>\n      <th>OPERATIONAL_DEMAND_POE50</th>\n      <th>OPERATIONAL_DEMAND_POE90</th>\n      <th>LASTCHANGED</th>\n    </tr>\n  </thead>\n  <tbody>\n    <tr>\n      <th>39982240</th>\n      <td>D</td>\n      <td>OPERATIONAL_DEMAND</td>\n      <td>FORECAST</td>\n      <td>1</td>\n      <td>VIC1</td>\n      <td>2023-12-29 22:00:00</td>\n      <td>2023-12-21 06:57:31</td>\n      <td>4707.0</td>\n      <td>4376</td>\n      <td>4044.0</td>\n      <td>2023-12-21 06:57:31</td>\n    </tr>\n    <tr>\n      <th>39982241</th>\n      <td>D</td>\n      <td>OPERATIONAL_DEMAND</td>\n      <td>FORECAST</td>\n      <td>1</td>\n      <td>VIC1</td>\n      <td>2023-12-29 22:30:00</td>\n      <td>2023-12-21 06:57:31</td>\n      <td>4641.0</td>\n      <td>4314</td>\n      <td>3987.0</td>\n      <td>2023-12-21 06:57:31</td>\n    </tr>\n    <tr>\n      <th>39982242</th>\n      <td>D</td>\n      <td>OPERATIONAL_DEMAND</td>\n      <td>FORECAST</td>\n      <td>1</td>\n      <td>VIC1</td>\n      <td>2023-12-29 23:00:00</td>\n      <td>2023-12-21 06:57:31</td>\n      <td>4604.0</td>\n      <td>4280</td>\n      <td>3956.0</td>\n      <td>2023-12-21 06:57:31</td>\n    </tr>\n    <tr>\n      <th>39982243</th>\n      <td>D</td>\n      <td>OPERATIONAL_DEMAND</td>\n      <td>FORECAST</td>\n      <td>1</td>\n      <td>VIC1</td>\n      <td>2023-12-29 23:30:00</td>\n      <td>2023-12-21 06:57:31</td>\n      <td>4705.0</td>\n      <td>4374</td>\n      <td>4043.0</td>\n      <td>2023-12-21 06:57:31</td>\n    </tr>\n    <tr>\n      <th>39982244</th>\n      <td>D</td>\n      <td>OPERATIONAL_DEMAND</td>\n      <td>FORECAST</td>\n      <td>1</td>\n      <td>VIC1</td>\n      <td>2023-12-30 00:00:00</td>\n      <td>2023-12-21 06:57:31</td>\n      <td>4677.0</td>\n      <td>4348</td>\n      <td>4018.0</td>\n      <td>2023-12-21 06:57:31</td>\n    </tr>\n  </tbody>\n</table>\n</div>"
     },
     "execution_count": 1217,
     "metadata": {},
     "output_type": "execute_result"
    }
   ],
   "source": [
    "df2.tail()"
   ],
   "metadata": {
    "collapsed": false,
    "ExecuteTime": {
     "end_time": "2024-03-17T10:30:40.482963Z",
     "start_time": "2024-03-17T10:30:40.475712Z"
    }
   },
   "id": "3c81d98c0d43e955",
   "execution_count": 1217
  },
  {
   "cell_type": "code",
   "outputs": [
    {
     "name": "stdout",
     "output_type": "stream",
     "text": [
      "<class 'pandas.core.frame.DataFrame'>\n",
      "RangeIndex: 39982245 entries, 0 to 39982244\n",
      "Data columns (total 11 columns):\n",
      " #   Column                    Dtype         \n",
      "---  ------                    -----         \n",
      " 0   I                         object        \n",
      " 1   OPERATIONAL_DEMAND        object        \n",
      " 2   FORECAST                  object        \n",
      " 3   1                         int64         \n",
      " 4   REGIONID                  object        \n",
      " 5   INTERVAL_DATETIME         datetime64[ns]\n",
      " 6   LOAD_DATE                 datetime64[ns]\n",
      " 7   OPERATIONAL_DEMAND_POE10  float64       \n",
      " 8   OPERATIONAL_DEMAND_POE50  int64         \n",
      " 9   OPERATIONAL_DEMAND_POE90  float64       \n",
      " 10  LASTCHANGED               datetime64[ns]\n",
      "dtypes: datetime64[ns](3), float64(2), int64(2), object(4)\n",
      "memory usage: 3.3+ GB\n"
     ]
    }
   ],
   "source": [
    "df2.info()"
   ],
   "metadata": {
    "collapsed": false,
    "ExecuteTime": {
     "end_time": "2024-03-17T10:30:40.560163Z",
     "start_time": "2024-03-17T10:30:40.483780Z"
    }
   },
   "id": "a50469a260218bae",
   "execution_count": 1218
  },
  {
   "cell_type": "code",
   "outputs": [
    {
     "data": {
      "text/plain": "                1              INTERVAL_DATETIME  \\\ncount  39982245.0                       39982245   \nmean          1.0  2023-08-31 16:04:20.799421440   \nmin           1.0            2023-02-05 00:30:00   \n25%           1.0            2023-05-21 22:30:00   \n50%           1.0            2023-08-31 16:00:00   \n75%           1.0            2023-12-11 09:30:00   \nmax           1.0            2024-03-26 00:00:00   \nstd           0.0                            NaN   \n\n                           LOAD_DATE  OPERATIONAL_DEMAND_POE10  \\\ncount                       39982245              3.998224e+07   \nmean   2023-08-27 09:16:58.416956416              4.457400e+03   \nmin              2023-02-04 23:27:41             -3.150000e+02   \n25%              2023-05-17 15:57:58              1.383000e+03   \n50%              2023-08-27 08:57:32              4.867000e+03   \n75%              2023-12-07 02:27:32              6.755000e+03   \nmax              2024-03-17 19:57:42              1.472900e+04   \nstd                              NaN              2.884793e+03   \n\n       OPERATIONAL_DEMAND_POE50  OPERATIONAL_DEMAND_POE90  \\\ncount              3.998224e+07              3.998224e+07   \nmean               4.229406e+03              4.001412e+03   \nmin               -3.020000e+02             -2.890000e+02   \n25%                1.291000e+03              1.202000e+03   \n50%                4.600000e+03              4.326000e+03   \n75%                6.444000e+03              6.136000e+03   \nmax                1.393900e+04              1.340800e+04   \nstd                2.757393e+03              2.633886e+03   \n\n                         LASTCHANGED  \ncount                       39982245  \nmean   2023-08-27 09:16:58.416956416  \nmin              2023-02-04 23:27:41  \n25%              2023-05-17 15:57:58  \n50%              2023-08-27 08:57:32  \n75%              2023-12-07 02:27:32  \nmax              2024-03-17 19:57:42  \nstd                              NaN  ",
      "text/html": "<div>\n<style scoped>\n    .dataframe tbody tr th:only-of-type {\n        vertical-align: middle;\n    }\n\n    .dataframe tbody tr th {\n        vertical-align: top;\n    }\n\n    .dataframe thead th {\n        text-align: right;\n    }\n</style>\n<table border=\"1\" class=\"dataframe\">\n  <thead>\n    <tr style=\"text-align: right;\">\n      <th></th>\n      <th>1</th>\n      <th>INTERVAL_DATETIME</th>\n      <th>LOAD_DATE</th>\n      <th>OPERATIONAL_DEMAND_POE10</th>\n      <th>OPERATIONAL_DEMAND_POE50</th>\n      <th>OPERATIONAL_DEMAND_POE90</th>\n      <th>LASTCHANGED</th>\n    </tr>\n  </thead>\n  <tbody>\n    <tr>\n      <th>count</th>\n      <td>39982245.0</td>\n      <td>39982245</td>\n      <td>39982245</td>\n      <td>3.998224e+07</td>\n      <td>3.998224e+07</td>\n      <td>3.998224e+07</td>\n      <td>39982245</td>\n    </tr>\n    <tr>\n      <th>mean</th>\n      <td>1.0</td>\n      <td>2023-08-31 16:04:20.799421440</td>\n      <td>2023-08-27 09:16:58.416956416</td>\n      <td>4.457400e+03</td>\n      <td>4.229406e+03</td>\n      <td>4.001412e+03</td>\n      <td>2023-08-27 09:16:58.416956416</td>\n    </tr>\n    <tr>\n      <th>min</th>\n      <td>1.0</td>\n      <td>2023-02-05 00:30:00</td>\n      <td>2023-02-04 23:27:41</td>\n      <td>-3.150000e+02</td>\n      <td>-3.020000e+02</td>\n      <td>-2.890000e+02</td>\n      <td>2023-02-04 23:27:41</td>\n    </tr>\n    <tr>\n      <th>25%</th>\n      <td>1.0</td>\n      <td>2023-05-21 22:30:00</td>\n      <td>2023-05-17 15:57:58</td>\n      <td>1.383000e+03</td>\n      <td>1.291000e+03</td>\n      <td>1.202000e+03</td>\n      <td>2023-05-17 15:57:58</td>\n    </tr>\n    <tr>\n      <th>50%</th>\n      <td>1.0</td>\n      <td>2023-08-31 16:00:00</td>\n      <td>2023-08-27 08:57:32</td>\n      <td>4.867000e+03</td>\n      <td>4.600000e+03</td>\n      <td>4.326000e+03</td>\n      <td>2023-08-27 08:57:32</td>\n    </tr>\n    <tr>\n      <th>75%</th>\n      <td>1.0</td>\n      <td>2023-12-11 09:30:00</td>\n      <td>2023-12-07 02:27:32</td>\n      <td>6.755000e+03</td>\n      <td>6.444000e+03</td>\n      <td>6.136000e+03</td>\n      <td>2023-12-07 02:27:32</td>\n    </tr>\n    <tr>\n      <th>max</th>\n      <td>1.0</td>\n      <td>2024-03-26 00:00:00</td>\n      <td>2024-03-17 19:57:42</td>\n      <td>1.472900e+04</td>\n      <td>1.393900e+04</td>\n      <td>1.340800e+04</td>\n      <td>2024-03-17 19:57:42</td>\n    </tr>\n    <tr>\n      <th>std</th>\n      <td>0.0</td>\n      <td>NaN</td>\n      <td>NaN</td>\n      <td>2.884793e+03</td>\n      <td>2.757393e+03</td>\n      <td>2.633886e+03</td>\n      <td>NaN</td>\n    </tr>\n  </tbody>\n</table>\n</div>"
     },
     "execution_count": 1219,
     "metadata": {},
     "output_type": "execute_result"
    }
   ],
   "source": [
    "df2.describe()"
   ],
   "metadata": {
    "collapsed": false,
    "ExecuteTime": {
     "end_time": "2024-03-17T10:30:43.884404Z",
     "start_time": "2024-03-17T10:30:40.560756Z"
    }
   },
   "id": "10eff878dbf19f03",
   "execution_count": 1219
  },
  {
   "cell_type": "code",
   "outputs": [
    {
     "data": {
      "text/plain": "(39982245, 11)"
     },
     "execution_count": 1220,
     "metadata": {},
     "output_type": "execute_result"
    }
   ],
   "source": [
    "df2.shape"
   ],
   "metadata": {
    "collapsed": false,
    "ExecuteTime": {
     "end_time": "2024-03-17T10:30:43.887204Z",
     "start_time": "2024-03-17T10:30:43.885064Z"
    }
   },
   "id": "7488dbd1e49cc0c3",
   "execution_count": 1220
  },
  {
   "cell_type": "code",
   "outputs": [
    {
     "data": {
      "text/plain": "I                           0\nOPERATIONAL_DEMAND          0\nFORECAST                    0\n1                           0\nREGIONID                    0\nINTERVAL_DATETIME           0\nLOAD_DATE                   0\nOPERATIONAL_DEMAND_POE10    0\nOPERATIONAL_DEMAND_POE50    0\nOPERATIONAL_DEMAND_POE90    0\nLASTCHANGED                 0\ndtype: int64"
     },
     "execution_count": 1221,
     "metadata": {},
     "output_type": "execute_result"
    }
   ],
   "source": [
    "df2.isnull().sum()"
   ],
   "metadata": {
    "collapsed": false,
    "ExecuteTime": {
     "end_time": "2024-03-17T10:30:47.289051Z",
     "start_time": "2024-03-17T10:30:43.887739Z"
    }
   },
   "id": "dd756da93004d2f7",
   "execution_count": 1221
  },
  {
   "cell_type": "code",
   "outputs": [
    {
     "data": {
      "text/plain": "I                           0\nOPERATIONAL_DEMAND          0\nFORECAST                    0\n1                           0\nREGIONID                    0\nINTERVAL_DATETIME           0\nLOAD_DATE                   0\nOPERATIONAL_DEMAND_POE10    0\nOPERATIONAL_DEMAND_POE50    0\nOPERATIONAL_DEMAND_POE90    0\nLASTCHANGED                 0\ndtype: int64"
     },
     "execution_count": 1222,
     "metadata": {},
     "output_type": "execute_result"
    }
   ],
   "source": [
    "df2.isna().sum()"
   ],
   "metadata": {
    "collapsed": false,
    "ExecuteTime": {
     "end_time": "2024-03-17T10:30:50.597196Z",
     "start_time": "2024-03-17T10:30:47.289731Z"
    }
   },
   "id": "726b03ca3fe34b71",
   "execution_count": 1222
  },
  {
   "cell_type": "markdown",
   "source": [
    "# 3"
   ],
   "metadata": {
    "collapsed": false
   },
   "id": "323a6f63624ae55"
  },
  {
   "cell_type": "code",
   "outputs": [],
   "source": [
    "df3 = pd.read_csv(\n",
    "    os.path.join(data_path, 'public_actual_operational_demand_five_min_consolidated.csv'), \n",
    "    parse_dates=['INTERVAL_DATETIME', 'LASTCHANGED']\n",
    ")"
   ],
   "metadata": {
    "collapsed": false,
    "ExecuteTime": {
     "end_time": "2024-03-17T10:31:12.651010Z",
     "start_time": "2024-03-17T10:30:50.597911Z"
    }
   },
   "id": "a5a9d60cbcb93f46",
   "execution_count": 1223
  },
  {
   "cell_type": "code",
   "outputs": [
    {
     "data": {
      "text/plain": "   I  OPERATIONAL_DEMAND  ACTUAL5M  1 REGIONID   INTERVAL_DATETIME  \\\n0  D  OPERATIONAL_DEMAND  ACTUAL5M  1     NSW1 2023-03-17 00:05:00   \n1  D  OPERATIONAL_DEMAND  ACTUAL5M  1     NSW1 2023-03-17 00:10:00   \n2  D  OPERATIONAL_DEMAND  ACTUAL5M  1     NSW1 2023-03-17 00:15:00   \n3  D  OPERATIONAL_DEMAND  ACTUAL5M  1     NSW1 2023-03-17 00:20:00   \n4  D  OPERATIONAL_DEMAND  ACTUAL5M  1     NSW1 2023-03-17 00:25:00   \n\n   OPERATIONAL_DEMAND.1  OPERATIONAL_DEMAND_ADJUSTMENT  WDR_ESTIMATE  \\\n0                  7886                              0             0   \n1                  7836                              0             0   \n2                  7786                              0             0   \n3                  7735                              0             0   \n4                  7685                              0             0   \n\n          LASTCHANGED  \n0 2023-03-17 00:30:01  \n1 2023-03-17 00:30:01  \n2 2023-03-17 00:30:01  \n3 2023-03-17 00:30:01  \n4 2023-03-17 00:30:01  ",
      "text/html": "<div>\n<style scoped>\n    .dataframe tbody tr th:only-of-type {\n        vertical-align: middle;\n    }\n\n    .dataframe tbody tr th {\n        vertical-align: top;\n    }\n\n    .dataframe thead th {\n        text-align: right;\n    }\n</style>\n<table border=\"1\" class=\"dataframe\">\n  <thead>\n    <tr style=\"text-align: right;\">\n      <th></th>\n      <th>I</th>\n      <th>OPERATIONAL_DEMAND</th>\n      <th>ACTUAL5M</th>\n      <th>1</th>\n      <th>REGIONID</th>\n      <th>INTERVAL_DATETIME</th>\n      <th>OPERATIONAL_DEMAND.1</th>\n      <th>OPERATIONAL_DEMAND_ADJUSTMENT</th>\n      <th>WDR_ESTIMATE</th>\n      <th>LASTCHANGED</th>\n    </tr>\n  </thead>\n  <tbody>\n    <tr>\n      <th>0</th>\n      <td>D</td>\n      <td>OPERATIONAL_DEMAND</td>\n      <td>ACTUAL5M</td>\n      <td>1</td>\n      <td>NSW1</td>\n      <td>2023-03-17 00:05:00</td>\n      <td>7886</td>\n      <td>0</td>\n      <td>0</td>\n      <td>2023-03-17 00:30:01</td>\n    </tr>\n    <tr>\n      <th>1</th>\n      <td>D</td>\n      <td>OPERATIONAL_DEMAND</td>\n      <td>ACTUAL5M</td>\n      <td>1</td>\n      <td>NSW1</td>\n      <td>2023-03-17 00:10:00</td>\n      <td>7836</td>\n      <td>0</td>\n      <td>0</td>\n      <td>2023-03-17 00:30:01</td>\n    </tr>\n    <tr>\n      <th>2</th>\n      <td>D</td>\n      <td>OPERATIONAL_DEMAND</td>\n      <td>ACTUAL5M</td>\n      <td>1</td>\n      <td>NSW1</td>\n      <td>2023-03-17 00:15:00</td>\n      <td>7786</td>\n      <td>0</td>\n      <td>0</td>\n      <td>2023-03-17 00:30:01</td>\n    </tr>\n    <tr>\n      <th>3</th>\n      <td>D</td>\n      <td>OPERATIONAL_DEMAND</td>\n      <td>ACTUAL5M</td>\n      <td>1</td>\n      <td>NSW1</td>\n      <td>2023-03-17 00:20:00</td>\n      <td>7735</td>\n      <td>0</td>\n      <td>0</td>\n      <td>2023-03-17 00:30:01</td>\n    </tr>\n    <tr>\n      <th>4</th>\n      <td>D</td>\n      <td>OPERATIONAL_DEMAND</td>\n      <td>ACTUAL5M</td>\n      <td>1</td>\n      <td>NSW1</td>\n      <td>2023-03-17 00:25:00</td>\n      <td>7685</td>\n      <td>0</td>\n      <td>0</td>\n      <td>2023-03-17 00:30:01</td>\n    </tr>\n  </tbody>\n</table>\n</div>"
     },
     "execution_count": 1224,
     "metadata": {},
     "output_type": "execute_result"
    }
   ],
   "source": [
    "df3.head()"
   ],
   "metadata": {
    "collapsed": false,
    "ExecuteTime": {
     "end_time": "2024-03-17T10:31:12.657205Z",
     "start_time": "2024-03-17T10:31:12.651878Z"
    }
   },
   "id": "905c557ce5f253",
   "execution_count": 1224
  },
  {
   "cell_type": "code",
   "outputs": [
    {
     "data": {
      "text/plain": "          I  OPERATIONAL_DEMAND  ACTUAL5M  1 REGIONID   INTERVAL_DATETIME  \\\n25331755  D  OPERATIONAL_DEMAND  ACTUAL5M  1     VIC1 2024-03-16 20:10:00   \n25331756  D  OPERATIONAL_DEMAND  ACTUAL5M  1     VIC1 2024-03-16 20:15:00   \n25331757  D  OPERATIONAL_DEMAND  ACTUAL5M  1     VIC1 2024-03-16 20:20:00   \n25331758  D  OPERATIONAL_DEMAND  ACTUAL5M  1     VIC1 2024-03-16 20:25:00   \n25331759  D  OPERATIONAL_DEMAND  ACTUAL5M  1     VIC1 2024-03-16 20:30:00   \n\n          OPERATIONAL_DEMAND.1  OPERATIONAL_DEMAND_ADJUSTMENT  WDR_ESTIMATE  \\\n25331755                  5375                              0             0   \n25331756                  5343                              0             0   \n25331757                  5311                              0             0   \n25331758                  5279                              0             0   \n25331759                  5247                              0             0   \n\n                 LASTCHANGED  \n25331755 2024-03-16 20:30:02  \n25331756 2024-03-16 20:30:02  \n25331757 2024-03-16 20:30:02  \n25331758 2024-03-16 20:30:02  \n25331759 2024-03-16 20:30:02  ",
      "text/html": "<div>\n<style scoped>\n    .dataframe tbody tr th:only-of-type {\n        vertical-align: middle;\n    }\n\n    .dataframe tbody tr th {\n        vertical-align: top;\n    }\n\n    .dataframe thead th {\n        text-align: right;\n    }\n</style>\n<table border=\"1\" class=\"dataframe\">\n  <thead>\n    <tr style=\"text-align: right;\">\n      <th></th>\n      <th>I</th>\n      <th>OPERATIONAL_DEMAND</th>\n      <th>ACTUAL5M</th>\n      <th>1</th>\n      <th>REGIONID</th>\n      <th>INTERVAL_DATETIME</th>\n      <th>OPERATIONAL_DEMAND.1</th>\n      <th>OPERATIONAL_DEMAND_ADJUSTMENT</th>\n      <th>WDR_ESTIMATE</th>\n      <th>LASTCHANGED</th>\n    </tr>\n  </thead>\n  <tbody>\n    <tr>\n      <th>25331755</th>\n      <td>D</td>\n      <td>OPERATIONAL_DEMAND</td>\n      <td>ACTUAL5M</td>\n      <td>1</td>\n      <td>VIC1</td>\n      <td>2024-03-16 20:10:00</td>\n      <td>5375</td>\n      <td>0</td>\n      <td>0</td>\n      <td>2024-03-16 20:30:02</td>\n    </tr>\n    <tr>\n      <th>25331756</th>\n      <td>D</td>\n      <td>OPERATIONAL_DEMAND</td>\n      <td>ACTUAL5M</td>\n      <td>1</td>\n      <td>VIC1</td>\n      <td>2024-03-16 20:15:00</td>\n      <td>5343</td>\n      <td>0</td>\n      <td>0</td>\n      <td>2024-03-16 20:30:02</td>\n    </tr>\n    <tr>\n      <th>25331757</th>\n      <td>D</td>\n      <td>OPERATIONAL_DEMAND</td>\n      <td>ACTUAL5M</td>\n      <td>1</td>\n      <td>VIC1</td>\n      <td>2024-03-16 20:20:00</td>\n      <td>5311</td>\n      <td>0</td>\n      <td>0</td>\n      <td>2024-03-16 20:30:02</td>\n    </tr>\n    <tr>\n      <th>25331758</th>\n      <td>D</td>\n      <td>OPERATIONAL_DEMAND</td>\n      <td>ACTUAL5M</td>\n      <td>1</td>\n      <td>VIC1</td>\n      <td>2024-03-16 20:25:00</td>\n      <td>5279</td>\n      <td>0</td>\n      <td>0</td>\n      <td>2024-03-16 20:30:02</td>\n    </tr>\n    <tr>\n      <th>25331759</th>\n      <td>D</td>\n      <td>OPERATIONAL_DEMAND</td>\n      <td>ACTUAL5M</td>\n      <td>1</td>\n      <td>VIC1</td>\n      <td>2024-03-16 20:30:00</td>\n      <td>5247</td>\n      <td>0</td>\n      <td>0</td>\n      <td>2024-03-16 20:30:02</td>\n    </tr>\n  </tbody>\n</table>\n</div>"
     },
     "execution_count": 1225,
     "metadata": {},
     "output_type": "execute_result"
    }
   ],
   "source": [
    "df3.tail()"
   ],
   "metadata": {
    "collapsed": false,
    "ExecuteTime": {
     "end_time": "2024-03-17T10:31:12.666056Z",
     "start_time": "2024-03-17T10:31:12.657841Z"
    }
   },
   "id": "f1ccba4173426ecb",
   "execution_count": 1225
  },
  {
   "cell_type": "code",
   "outputs": [
    {
     "name": "stdout",
     "output_type": "stream",
     "text": [
      "<class 'pandas.core.frame.DataFrame'>\n",
      "RangeIndex: 25331760 entries, 0 to 25331759\n",
      "Data columns (total 10 columns):\n",
      " #   Column                         Dtype         \n",
      "---  ------                         -----         \n",
      " 0   I                              object        \n",
      " 1   OPERATIONAL_DEMAND             object        \n",
      " 2   ACTUAL5M                       object        \n",
      " 3   1                              int64         \n",
      " 4   REGIONID                       object        \n",
      " 5   INTERVAL_DATETIME              datetime64[ns]\n",
      " 6   OPERATIONAL_DEMAND.1           int64         \n",
      " 7   OPERATIONAL_DEMAND_ADJUSTMENT  int64         \n",
      " 8   WDR_ESTIMATE                   int64         \n",
      " 9   LASTCHANGED                    datetime64[ns]\n",
      "dtypes: datetime64[ns](2), int64(4), object(4)\n",
      "memory usage: 1.9+ GB\n"
     ]
    }
   ],
   "source": [
    "df3.info()"
   ],
   "metadata": {
    "collapsed": false,
    "ExecuteTime": {
     "end_time": "2024-03-17T10:31:12.672956Z",
     "start_time": "2024-03-17T10:31:12.666651Z"
    }
   },
   "id": "7f3f053eec222517",
   "execution_count": 1226
  },
  {
   "cell_type": "code",
   "outputs": [
    {
     "name": "stderr",
     "output_type": "stream",
     "text": [
      "/home/noone/.cache/pypoetry/virtualenvs/team-0-5QTAbJ9E-py3.12/lib/python3.12/site-packages/IPython/core/displayhook.py:281: UserWarning: Output cache limit (currently 1000 entries) hit.\n",
      "Flushing oldest 200 entries.\n",
      "  warn('Output cache limit (currently {sz} entries) hit.\\n'\n"
     ]
    },
    {
     "data": {
      "text/plain": "                1              INTERVAL_DATETIME  OPERATIONAL_DEMAND.1  \\\ncount  25331760.0                       25331760          2.533176e+07   \nmean          1.0  2023-09-16 01:24:51.861134080          4.222819e+03   \nmin           1.0            2023-03-16 00:05:00         -2.600000e+01   \n25%           1.0            2023-06-16 10:30:00          1.294000e+03   \n50%           1.0            2023-09-16 01:25:00          4.588000e+03   \n75%           1.0            2023-12-16 16:20:00          6.458000e+03   \nmax           1.0            2024-03-17 19:00:00          1.364300e+04   \nstd           0.0                            NaN          2.756399e+03   \n\n       OPERATIONAL_DEMAND_ADJUSTMENT  WDR_ESTIMATE  \\\ncount                     25331760.0  2.533176e+07   \nmean                             0.0  5.334963e-03   \nmin                              0.0  0.000000e+00   \n25%                              0.0  0.000000e+00   \n50%                              0.0  0.000000e+00   \n75%                              0.0  0.000000e+00   \nmax                              0.0  2.100000e+01   \nstd                              0.0  2.162045e-01   \n\n                         LASTCHANGED  \ncount                       25331760  \nmean   2023-09-16 01:37:23.176875776  \nmin              2023-03-16 00:30:01  \n25%              2023-06-16 10:30:01  \n50%              2023-09-16 01:30:01  \n75%              2023-12-16 16:30:01  \nmax              2024-03-17 19:00:01  \nstd                              NaN  ",
      "text/html": "<div>\n<style scoped>\n    .dataframe tbody tr th:only-of-type {\n        vertical-align: middle;\n    }\n\n    .dataframe tbody tr th {\n        vertical-align: top;\n    }\n\n    .dataframe thead th {\n        text-align: right;\n    }\n</style>\n<table border=\"1\" class=\"dataframe\">\n  <thead>\n    <tr style=\"text-align: right;\">\n      <th></th>\n      <th>1</th>\n      <th>INTERVAL_DATETIME</th>\n      <th>OPERATIONAL_DEMAND.1</th>\n      <th>OPERATIONAL_DEMAND_ADJUSTMENT</th>\n      <th>WDR_ESTIMATE</th>\n      <th>LASTCHANGED</th>\n    </tr>\n  </thead>\n  <tbody>\n    <tr>\n      <th>count</th>\n      <td>25331760.0</td>\n      <td>25331760</td>\n      <td>2.533176e+07</td>\n      <td>25331760.0</td>\n      <td>2.533176e+07</td>\n      <td>25331760</td>\n    </tr>\n    <tr>\n      <th>mean</th>\n      <td>1.0</td>\n      <td>2023-09-16 01:24:51.861134080</td>\n      <td>4.222819e+03</td>\n      <td>0.0</td>\n      <td>5.334963e-03</td>\n      <td>2023-09-16 01:37:23.176875776</td>\n    </tr>\n    <tr>\n      <th>min</th>\n      <td>1.0</td>\n      <td>2023-03-16 00:05:00</td>\n      <td>-2.600000e+01</td>\n      <td>0.0</td>\n      <td>0.000000e+00</td>\n      <td>2023-03-16 00:30:01</td>\n    </tr>\n    <tr>\n      <th>25%</th>\n      <td>1.0</td>\n      <td>2023-06-16 10:30:00</td>\n      <td>1.294000e+03</td>\n      <td>0.0</td>\n      <td>0.000000e+00</td>\n      <td>2023-06-16 10:30:01</td>\n    </tr>\n    <tr>\n      <th>50%</th>\n      <td>1.0</td>\n      <td>2023-09-16 01:25:00</td>\n      <td>4.588000e+03</td>\n      <td>0.0</td>\n      <td>0.000000e+00</td>\n      <td>2023-09-16 01:30:01</td>\n    </tr>\n    <tr>\n      <th>75%</th>\n      <td>1.0</td>\n      <td>2023-12-16 16:20:00</td>\n      <td>6.458000e+03</td>\n      <td>0.0</td>\n      <td>0.000000e+00</td>\n      <td>2023-12-16 16:30:01</td>\n    </tr>\n    <tr>\n      <th>max</th>\n      <td>1.0</td>\n      <td>2024-03-17 19:00:00</td>\n      <td>1.364300e+04</td>\n      <td>0.0</td>\n      <td>2.100000e+01</td>\n      <td>2024-03-17 19:00:01</td>\n    </tr>\n    <tr>\n      <th>std</th>\n      <td>0.0</td>\n      <td>NaN</td>\n      <td>2.756399e+03</td>\n      <td>0.0</td>\n      <td>2.162045e-01</td>\n      <td>NaN</td>\n    </tr>\n  </tbody>\n</table>\n</div>"
     },
     "execution_count": 1227,
     "metadata": {},
     "output_type": "execute_result"
    }
   ],
   "source": [
    "df3.describe()"
   ],
   "metadata": {
    "collapsed": false,
    "ExecuteTime": {
     "end_time": "2024-03-17T10:31:14.239297Z",
     "start_time": "2024-03-17T10:31:12.673533Z"
    }
   },
   "id": "254df0d6cfb160bd",
   "execution_count": 1227
  },
  {
   "cell_type": "code",
   "outputs": [
    {
     "data": {
      "text/plain": "(25331760, 10)"
     },
     "execution_count": 1228,
     "metadata": {},
     "output_type": "execute_result"
    }
   ],
   "source": [
    "df3.shape"
   ],
   "metadata": {
    "collapsed": false,
    "ExecuteTime": {
     "end_time": "2024-03-17T10:31:14.242067Z",
     "start_time": "2024-03-17T10:31:14.239983Z"
    }
   },
   "id": "ab4c7312ece16ddb",
   "execution_count": 1228
  },
  {
   "cell_type": "code",
   "outputs": [
    {
     "data": {
      "text/plain": "I                                0\nOPERATIONAL_DEMAND               0\nACTUAL5M                         0\n1                                0\nREGIONID                         0\nINTERVAL_DATETIME                0\nOPERATIONAL_DEMAND.1             0\nOPERATIONAL_DEMAND_ADJUSTMENT    0\nWDR_ESTIMATE                     0\nLASTCHANGED                      0\ndtype: int64"
     },
     "execution_count": 1229,
     "metadata": {},
     "output_type": "execute_result"
    }
   ],
   "source": [
    "df3.isnull().sum()"
   ],
   "metadata": {
    "collapsed": false,
    "ExecuteTime": {
     "end_time": "2024-03-17T10:31:16.353517Z",
     "start_time": "2024-03-17T10:31:14.242690Z"
    }
   },
   "id": "3a697c47a36fac1b",
   "execution_count": 1229
  },
  {
   "cell_type": "code",
   "outputs": [
    {
     "data": {
      "text/plain": "I                                0\nOPERATIONAL_DEMAND               0\nACTUAL5M                         0\n1                                0\nREGIONID                         0\nINTERVAL_DATETIME                0\nOPERATIONAL_DEMAND.1             0\nOPERATIONAL_DEMAND_ADJUSTMENT    0\nWDR_ESTIMATE                     0\nLASTCHANGED                      0\ndtype: int64"
     },
     "execution_count": 1230,
     "metadata": {},
     "output_type": "execute_result"
    }
   ],
   "source": [
    "df3.isna().sum()"
   ],
   "metadata": {
    "collapsed": false,
    "ExecuteTime": {
     "end_time": "2024-03-17T10:31:18.419712Z",
     "start_time": "2024-03-17T10:31:16.354150Z"
    }
   },
   "id": "341c7b37850e6ff9",
   "execution_count": 1230
  },
  {
   "cell_type": "markdown",
   "source": [
    "# 4"
   ],
   "metadata": {
    "collapsed": false
   },
   "id": "7def59034c1bb7b4"
  },
  {
   "cell_type": "code",
   "outputs": [],
   "source": [
    "df4 = pd.read_csv(\n",
    "    os.path.join(data_path, 'public_prices_consolidated.csv'), \n",
    "    parse_dates=['SETTLEMENTDATE']\n",
    ")"
   ],
   "metadata": {
    "collapsed": false,
    "ExecuteTime": {
     "end_time": "2024-03-17T10:31:20.346309Z",
     "start_time": "2024-03-17T10:31:18.420381Z"
    }
   },
   "id": "918482740ad78951",
   "execution_count": 1231
  },
  {
   "cell_type": "code",
   "outputs": [
    {
     "data": {
      "text/plain": "   I  DREGION  Unnamed: 2  2      SETTLEMENTDATE  RUNNO REGIONID  \\\n0  D  DREGION         NaN  2 2024-01-23 04:05:00      1     NSW1   \n1  D  DREGION         NaN  2 2024-01-23 04:05:00      1     QLD1   \n2  D  DREGION         NaN  2 2024-01-23 04:05:00      1      SA1   \n3  D  DREGION         NaN  2 2024-01-23 04:05:00      1     TAS1   \n4  D  DREGION         NaN  2 2024-01-23 04:05:00      1     VIC1   \n\n   INTERVENTION       RRP  EEP  ...  LOWER6SECAPCFLAG  LOWER60SECRRP  \\\n0             0  41.81844    0  ...                 0           0.45   \n1             0  62.73000    0  ...                 0           0.45   \n2             0  34.16184    0  ...                 0           0.45   \n3             0  53.71593    0  ...                 0           0.45   \n4             0  34.94000    0  ...                 0           0.45   \n\n   LOWER60SECROP  LOWER60SECAPCFLAG  LOWER5MINRRP  LOWER5MINROP  \\\n0           0.45                  0           0.0           0.0   \n1           0.45                  0           0.0           0.0   \n2           0.45                  0           0.0           0.0   \n3           0.45                  0           0.0           0.0   \n4           0.45                  0           0.0           0.0   \n\n   LOWER5MINAPCFLAG  LOWERREGRRP  LOWERREGROP  LOWERREGAPCFLAG  \n0                 0         3.76         3.76                0  \n1                 0         3.76         3.76                0  \n2                 0         3.76         3.76                0  \n3                 0         2.65         2.65                0  \n4                 0         3.76         3.76                0  \n\n[5 rows x 120 columns]",
      "text/html": "<div>\n<style scoped>\n    .dataframe tbody tr th:only-of-type {\n        vertical-align: middle;\n    }\n\n    .dataframe tbody tr th {\n        vertical-align: top;\n    }\n\n    .dataframe thead th {\n        text-align: right;\n    }\n</style>\n<table border=\"1\" class=\"dataframe\">\n  <thead>\n    <tr style=\"text-align: right;\">\n      <th></th>\n      <th>I</th>\n      <th>DREGION</th>\n      <th>Unnamed: 2</th>\n      <th>2</th>\n      <th>SETTLEMENTDATE</th>\n      <th>RUNNO</th>\n      <th>REGIONID</th>\n      <th>INTERVENTION</th>\n      <th>RRP</th>\n      <th>EEP</th>\n      <th>...</th>\n      <th>LOWER6SECAPCFLAG</th>\n      <th>LOWER60SECRRP</th>\n      <th>LOWER60SECROP</th>\n      <th>LOWER60SECAPCFLAG</th>\n      <th>LOWER5MINRRP</th>\n      <th>LOWER5MINROP</th>\n      <th>LOWER5MINAPCFLAG</th>\n      <th>LOWERREGRRP</th>\n      <th>LOWERREGROP</th>\n      <th>LOWERREGAPCFLAG</th>\n    </tr>\n  </thead>\n  <tbody>\n    <tr>\n      <th>0</th>\n      <td>D</td>\n      <td>DREGION</td>\n      <td>NaN</td>\n      <td>2</td>\n      <td>2024-01-23 04:05:00</td>\n      <td>1</td>\n      <td>NSW1</td>\n      <td>0</td>\n      <td>41.81844</td>\n      <td>0</td>\n      <td>...</td>\n      <td>0</td>\n      <td>0.45</td>\n      <td>0.45</td>\n      <td>0</td>\n      <td>0.0</td>\n      <td>0.0</td>\n      <td>0</td>\n      <td>3.76</td>\n      <td>3.76</td>\n      <td>0</td>\n    </tr>\n    <tr>\n      <th>1</th>\n      <td>D</td>\n      <td>DREGION</td>\n      <td>NaN</td>\n      <td>2</td>\n      <td>2024-01-23 04:05:00</td>\n      <td>1</td>\n      <td>QLD1</td>\n      <td>0</td>\n      <td>62.73000</td>\n      <td>0</td>\n      <td>...</td>\n      <td>0</td>\n      <td>0.45</td>\n      <td>0.45</td>\n      <td>0</td>\n      <td>0.0</td>\n      <td>0.0</td>\n      <td>0</td>\n      <td>3.76</td>\n      <td>3.76</td>\n      <td>0</td>\n    </tr>\n    <tr>\n      <th>2</th>\n      <td>D</td>\n      <td>DREGION</td>\n      <td>NaN</td>\n      <td>2</td>\n      <td>2024-01-23 04:05:00</td>\n      <td>1</td>\n      <td>SA1</td>\n      <td>0</td>\n      <td>34.16184</td>\n      <td>0</td>\n      <td>...</td>\n      <td>0</td>\n      <td>0.45</td>\n      <td>0.45</td>\n      <td>0</td>\n      <td>0.0</td>\n      <td>0.0</td>\n      <td>0</td>\n      <td>3.76</td>\n      <td>3.76</td>\n      <td>0</td>\n    </tr>\n    <tr>\n      <th>3</th>\n      <td>D</td>\n      <td>DREGION</td>\n      <td>NaN</td>\n      <td>2</td>\n      <td>2024-01-23 04:05:00</td>\n      <td>1</td>\n      <td>TAS1</td>\n      <td>0</td>\n      <td>53.71593</td>\n      <td>0</td>\n      <td>...</td>\n      <td>0</td>\n      <td>0.45</td>\n      <td>0.45</td>\n      <td>0</td>\n      <td>0.0</td>\n      <td>0.0</td>\n      <td>0</td>\n      <td>2.65</td>\n      <td>2.65</td>\n      <td>0</td>\n    </tr>\n    <tr>\n      <th>4</th>\n      <td>D</td>\n      <td>DREGION</td>\n      <td>NaN</td>\n      <td>2</td>\n      <td>2024-01-23 04:05:00</td>\n      <td>1</td>\n      <td>VIC1</td>\n      <td>0</td>\n      <td>34.94000</td>\n      <td>0</td>\n      <td>...</td>\n      <td>0</td>\n      <td>0.45</td>\n      <td>0.45</td>\n      <td>0</td>\n      <td>0.0</td>\n      <td>0.0</td>\n      <td>0</td>\n      <td>3.76</td>\n      <td>3.76</td>\n      <td>0</td>\n    </tr>\n  </tbody>\n</table>\n<p>5 rows × 120 columns</p>\n</div>"
     },
     "execution_count": 1232,
     "metadata": {},
     "output_type": "execute_result"
    }
   ],
   "source": [
    "df4.head()"
   ],
   "metadata": {
    "collapsed": false,
    "ExecuteTime": {
     "end_time": "2024-03-17T10:31:20.355620Z",
     "start_time": "2024-03-17T10:31:20.347019Z"
    }
   },
   "id": "dd18f7148187136d",
   "execution_count": 1232
  },
  {
   "cell_type": "code",
   "outputs": [
    {
     "data": {
      "text/plain": "        I  DREGION  Unnamed: 2  2      SETTLEMENTDATE  RUNNO REGIONID  \\\n633745  D  DREGION         NaN  2 2024-02-26 04:00:00      1     NSW1   \n633746  D  DREGION         NaN  2 2024-02-26 04:00:00      1     QLD1   \n633747  D  DREGION         NaN  2 2024-02-26 04:00:00      1      SA1   \n633748  D  DREGION         NaN  2 2024-02-26 04:00:00      1     TAS1   \n633749  D  DREGION         NaN  2 2024-02-26 04:00:00      1     VIC1   \n\n        INTERVENTION       RRP  EEP  ...  LOWER6SECAPCFLAG  LOWER60SECRRP  \\\n633745             0  68.00000    0  ...                 0           0.39   \n633746             0  70.92975    0  ...                 0           0.39   \n633747             0  50.43366    0  ...                 0           0.39   \n633748             0  68.21000    0  ...                 0           0.39   \n633749             0  35.95003    0  ...                 0           0.39   \n\n        LOWER60SECROP  LOWER60SECAPCFLAG  LOWER5MINRRP  LOWER5MINROP  \\\n633745           0.39                  0           0.0           0.0   \n633746           0.39                  0           0.0           0.0   \n633747           0.39                  0           0.0           0.0   \n633748           0.39                  0           0.0           0.0   \n633749           0.39                  0           0.0           0.0   \n\n        LOWER5MINAPCFLAG  LOWERREGRRP  LOWERREGROP  LOWERREGAPCFLAG  \n633745                 0         3.75         3.75                0  \n633746                 0         3.75         3.75                0  \n633747                 0         3.75         3.75                0  \n633748                 0         3.70         3.70                0  \n633749                 0         3.75         3.75                0  \n\n[5 rows x 120 columns]",
      "text/html": "<div>\n<style scoped>\n    .dataframe tbody tr th:only-of-type {\n        vertical-align: middle;\n    }\n\n    .dataframe tbody tr th {\n        vertical-align: top;\n    }\n\n    .dataframe thead th {\n        text-align: right;\n    }\n</style>\n<table border=\"1\" class=\"dataframe\">\n  <thead>\n    <tr style=\"text-align: right;\">\n      <th></th>\n      <th>I</th>\n      <th>DREGION</th>\n      <th>Unnamed: 2</th>\n      <th>2</th>\n      <th>SETTLEMENTDATE</th>\n      <th>RUNNO</th>\n      <th>REGIONID</th>\n      <th>INTERVENTION</th>\n      <th>RRP</th>\n      <th>EEP</th>\n      <th>...</th>\n      <th>LOWER6SECAPCFLAG</th>\n      <th>LOWER60SECRRP</th>\n      <th>LOWER60SECROP</th>\n      <th>LOWER60SECAPCFLAG</th>\n      <th>LOWER5MINRRP</th>\n      <th>LOWER5MINROP</th>\n      <th>LOWER5MINAPCFLAG</th>\n      <th>LOWERREGRRP</th>\n      <th>LOWERREGROP</th>\n      <th>LOWERREGAPCFLAG</th>\n    </tr>\n  </thead>\n  <tbody>\n    <tr>\n      <th>633745</th>\n      <td>D</td>\n      <td>DREGION</td>\n      <td>NaN</td>\n      <td>2</td>\n      <td>2024-02-26 04:00:00</td>\n      <td>1</td>\n      <td>NSW1</td>\n      <td>0</td>\n      <td>68.00000</td>\n      <td>0</td>\n      <td>...</td>\n      <td>0</td>\n      <td>0.39</td>\n      <td>0.39</td>\n      <td>0</td>\n      <td>0.0</td>\n      <td>0.0</td>\n      <td>0</td>\n      <td>3.75</td>\n      <td>3.75</td>\n      <td>0</td>\n    </tr>\n    <tr>\n      <th>633746</th>\n      <td>D</td>\n      <td>DREGION</td>\n      <td>NaN</td>\n      <td>2</td>\n      <td>2024-02-26 04:00:00</td>\n      <td>1</td>\n      <td>QLD1</td>\n      <td>0</td>\n      <td>70.92975</td>\n      <td>0</td>\n      <td>...</td>\n      <td>0</td>\n      <td>0.39</td>\n      <td>0.39</td>\n      <td>0</td>\n      <td>0.0</td>\n      <td>0.0</td>\n      <td>0</td>\n      <td>3.75</td>\n      <td>3.75</td>\n      <td>0</td>\n    </tr>\n    <tr>\n      <th>633747</th>\n      <td>D</td>\n      <td>DREGION</td>\n      <td>NaN</td>\n      <td>2</td>\n      <td>2024-02-26 04:00:00</td>\n      <td>1</td>\n      <td>SA1</td>\n      <td>0</td>\n      <td>50.43366</td>\n      <td>0</td>\n      <td>...</td>\n      <td>0</td>\n      <td>0.39</td>\n      <td>0.39</td>\n      <td>0</td>\n      <td>0.0</td>\n      <td>0.0</td>\n      <td>0</td>\n      <td>3.75</td>\n      <td>3.75</td>\n      <td>0</td>\n    </tr>\n    <tr>\n      <th>633748</th>\n      <td>D</td>\n      <td>DREGION</td>\n      <td>NaN</td>\n      <td>2</td>\n      <td>2024-02-26 04:00:00</td>\n      <td>1</td>\n      <td>TAS1</td>\n      <td>0</td>\n      <td>68.21000</td>\n      <td>0</td>\n      <td>...</td>\n      <td>0</td>\n      <td>0.39</td>\n      <td>0.39</td>\n      <td>0</td>\n      <td>0.0</td>\n      <td>0.0</td>\n      <td>0</td>\n      <td>3.70</td>\n      <td>3.70</td>\n      <td>0</td>\n    </tr>\n    <tr>\n      <th>633749</th>\n      <td>D</td>\n      <td>DREGION</td>\n      <td>NaN</td>\n      <td>2</td>\n      <td>2024-02-26 04:00:00</td>\n      <td>1</td>\n      <td>VIC1</td>\n      <td>0</td>\n      <td>35.95003</td>\n      <td>0</td>\n      <td>...</td>\n      <td>0</td>\n      <td>0.39</td>\n      <td>0.39</td>\n      <td>0</td>\n      <td>0.0</td>\n      <td>0.0</td>\n      <td>0</td>\n      <td>3.75</td>\n      <td>3.75</td>\n      <td>0</td>\n    </tr>\n  </tbody>\n</table>\n<p>5 rows × 120 columns</p>\n</div>"
     },
     "execution_count": 1233,
     "metadata": {},
     "output_type": "execute_result"
    }
   ],
   "source": [
    "df4.tail()"
   ],
   "metadata": {
    "collapsed": false,
    "ExecuteTime": {
     "end_time": "2024-03-17T10:31:20.431943Z",
     "start_time": "2024-03-17T10:31:20.356169Z"
    }
   },
   "id": "901d5c165be1a750",
   "execution_count": 1233
  },
  {
   "cell_type": "code",
   "outputs": [
    {
     "data": {
      "text/plain": "I                           object\nDREGION                     object\nUnnamed: 2                 float64\n2                            int64\nSETTLEMENTDATE      datetime64[ns]\n                         ...      \nLOWER5MINROP               float64\nLOWER5MINAPCFLAG             int64\nLOWERREGRRP                float64\nLOWERREGROP                float64\nLOWERREGAPCFLAG              int64\nLength: 120, dtype: object"
     },
     "execution_count": 1234,
     "metadata": {},
     "output_type": "execute_result"
    }
   ],
   "source": [
    "df4.dtypes"
   ],
   "metadata": {
    "collapsed": false,
    "ExecuteTime": {
     "end_time": "2024-03-17T10:31:20.442256Z",
     "start_time": "2024-03-17T10:31:20.432590Z"
    }
   },
   "id": "1f784d63c64af7fa",
   "execution_count": 1234
  },
  {
   "cell_type": "code",
   "outputs": [
    {
     "data": {
      "text/plain": "(633750, 120)"
     },
     "execution_count": 1237,
     "metadata": {},
     "output_type": "execute_result"
    }
   ],
   "source": [
    "df4.shape"
   ],
   "metadata": {
    "collapsed": false,
    "ExecuteTime": {
     "end_time": "2024-03-17T10:31:21.448246Z",
     "start_time": "2024-03-17T10:31:21.446125Z"
    }
   },
   "id": "ccdeac53d0b61538",
   "execution_count": 1237
  },
  {
   "cell_type": "code",
   "outputs": [
    {
     "name": "stdout",
     "output_type": "stream",
     "text": [
      "<class 'pandas.core.frame.DataFrame'>\n",
      "RangeIndex: 633750 entries, 0 to 633749\n",
      "Columns: 120 entries, I to LOWERREGAPCFLAG\n",
      "dtypes: datetime64[ns](1), float64(101), int64(15), object(3)\n",
      "memory usage: 580.2+ MB\n"
     ]
    }
   ],
   "source": [
    "df4.info()"
   ],
   "metadata": {
    "collapsed": false,
    "ExecuteTime": {
     "end_time": "2024-03-17T10:31:20.455016Z",
     "start_time": "2024-03-17T10:31:20.442817Z"
    }
   },
   "id": "6a03aae6135ee80c",
   "execution_count": 1235
  },
  {
   "cell_type": "code",
   "outputs": [
    {
     "data": {
      "text/plain": "       Unnamed: 2         2                 SETTLEMENTDATE     RUNNO  \\\ncount         0.0  633750.0                         633750  633750.0   \nmean          NaN       2.0  2023-08-09 23:19:24.347929344       1.0   \nmin           NaN       2.0            2023-01-01 04:05:00       1.0   \n25%           NaN       2.0            2023-04-22 02:10:00       1.0   \n50%           NaN       2.0            2023-08-10 02:47:30       1.0   \n75%           NaN       2.0            2023-11-28 03:25:00       1.0   \nmax           NaN       2.0            2024-03-17 04:00:00       1.0   \nstd           NaN       0.0                            NaN       0.0   \n\n        INTERVENTION            RRP       EEP           ROP        APCFLAG  \\\ncount  633750.000000  633750.000000  633750.0  6.337500e+05  633750.000000   \nmean        0.000237      76.137472       0.0  9.643399e+01       0.005901   \nmin         0.000000    -999.999470       0.0 -9.999995e+02       0.000000   \n25%         0.000000      19.120000       0.0  1.912000e+01       0.000000   \n50%         0.000000      62.611005       0.0  6.261016e+01       0.000000   \n75%         0.000000     100.020000       0.0  1.000200e+02       0.000000   \nmax         1.000000   16600.000000       0.0  2.325000e+06      20.000000   \nstd         0.015383     330.481367       0.0  4.183949e+03       0.297604   \n\n       MARKETSUSPENDEDFLAG  ...  LOWER6SECAPCFLAG  LOWER60SECRRP  \\\ncount        633750.000000  ...     633750.000000  633750.000000   \nmean              0.000732  ...          0.000013       3.615498   \nmin               0.000000  ...          0.000000       0.000000   \n25%               0.000000  ...          0.000000       0.380000   \n50%               0.000000  ...          0.000000       0.390000   \n75%               0.000000  ...          0.000000       1.400000   \nmax               2.000000  ...          4.000000   16600.000000   \nstd               0.035030  ...          0.007106      59.854095   \n\n       LOWER60SECROP  LOWER60SECAPCFLAG   LOWER5MINRRP   LOWER5MINROP  \\\ncount  633750.000000           633750.0  633750.000000  633750.000000   \nmean        3.615225                0.0       1.655954       1.655891   \nmin         0.000000                0.0       0.000000       0.000000   \n25%         0.380000                0.0       0.150000       0.150000   \n50%         0.390000                0.0       0.390000       0.390000   \n75%         1.400000                0.0       0.410000       0.410000   \nmax     16600.000000                0.0     999.000000     999.000000   \nstd        59.854106                0.0       5.647249       5.647262   \n\n       LOWER5MINAPCFLAG    LOWERREGRRP    LOWERREGROP  LOWERREGAPCFLAG  \ncount          633750.0  633750.000000  633750.000000    633750.000000  \nmean                0.0       8.262021       8.497738         0.000006  \nmin                 0.0       0.000000       0.000000         0.000000  \n25%                 0.0       3.610000       3.610000         0.000000  \n50%                 0.0       3.990000       3.990000         0.000000  \n75%                 0.0       7.120000       7.120000         0.000000  \nmax                 0.0   16600.000000  166009.880000         4.000000  \nstd                 0.0      27.012011     209.229543         0.005025  \n\n[8 rows x 117 columns]",
      "text/html": "<div>\n<style scoped>\n    .dataframe tbody tr th:only-of-type {\n        vertical-align: middle;\n    }\n\n    .dataframe tbody tr th {\n        vertical-align: top;\n    }\n\n    .dataframe thead th {\n        text-align: right;\n    }\n</style>\n<table border=\"1\" class=\"dataframe\">\n  <thead>\n    <tr style=\"text-align: right;\">\n      <th></th>\n      <th>Unnamed: 2</th>\n      <th>2</th>\n      <th>SETTLEMENTDATE</th>\n      <th>RUNNO</th>\n      <th>INTERVENTION</th>\n      <th>RRP</th>\n      <th>EEP</th>\n      <th>ROP</th>\n      <th>APCFLAG</th>\n      <th>MARKETSUSPENDEDFLAG</th>\n      <th>...</th>\n      <th>LOWER6SECAPCFLAG</th>\n      <th>LOWER60SECRRP</th>\n      <th>LOWER60SECROP</th>\n      <th>LOWER60SECAPCFLAG</th>\n      <th>LOWER5MINRRP</th>\n      <th>LOWER5MINROP</th>\n      <th>LOWER5MINAPCFLAG</th>\n      <th>LOWERREGRRP</th>\n      <th>LOWERREGROP</th>\n      <th>LOWERREGAPCFLAG</th>\n    </tr>\n  </thead>\n  <tbody>\n    <tr>\n      <th>count</th>\n      <td>0.0</td>\n      <td>633750.0</td>\n      <td>633750</td>\n      <td>633750.0</td>\n      <td>633750.000000</td>\n      <td>633750.000000</td>\n      <td>633750.0</td>\n      <td>6.337500e+05</td>\n      <td>633750.000000</td>\n      <td>633750.000000</td>\n      <td>...</td>\n      <td>633750.000000</td>\n      <td>633750.000000</td>\n      <td>633750.000000</td>\n      <td>633750.0</td>\n      <td>633750.000000</td>\n      <td>633750.000000</td>\n      <td>633750.0</td>\n      <td>633750.000000</td>\n      <td>633750.000000</td>\n      <td>633750.000000</td>\n    </tr>\n    <tr>\n      <th>mean</th>\n      <td>NaN</td>\n      <td>2.0</td>\n      <td>2023-08-09 23:19:24.347929344</td>\n      <td>1.0</td>\n      <td>0.000237</td>\n      <td>76.137472</td>\n      <td>0.0</td>\n      <td>9.643399e+01</td>\n      <td>0.005901</td>\n      <td>0.000732</td>\n      <td>...</td>\n      <td>0.000013</td>\n      <td>3.615498</td>\n      <td>3.615225</td>\n      <td>0.0</td>\n      <td>1.655954</td>\n      <td>1.655891</td>\n      <td>0.0</td>\n      <td>8.262021</td>\n      <td>8.497738</td>\n      <td>0.000006</td>\n    </tr>\n    <tr>\n      <th>min</th>\n      <td>NaN</td>\n      <td>2.0</td>\n      <td>2023-01-01 04:05:00</td>\n      <td>1.0</td>\n      <td>0.000000</td>\n      <td>-999.999470</td>\n      <td>0.0</td>\n      <td>-9.999995e+02</td>\n      <td>0.000000</td>\n      <td>0.000000</td>\n      <td>...</td>\n      <td>0.000000</td>\n      <td>0.000000</td>\n      <td>0.000000</td>\n      <td>0.0</td>\n      <td>0.000000</td>\n      <td>0.000000</td>\n      <td>0.0</td>\n      <td>0.000000</td>\n      <td>0.000000</td>\n      <td>0.000000</td>\n    </tr>\n    <tr>\n      <th>25%</th>\n      <td>NaN</td>\n      <td>2.0</td>\n      <td>2023-04-22 02:10:00</td>\n      <td>1.0</td>\n      <td>0.000000</td>\n      <td>19.120000</td>\n      <td>0.0</td>\n      <td>1.912000e+01</td>\n      <td>0.000000</td>\n      <td>0.000000</td>\n      <td>...</td>\n      <td>0.000000</td>\n      <td>0.380000</td>\n      <td>0.380000</td>\n      <td>0.0</td>\n      <td>0.150000</td>\n      <td>0.150000</td>\n      <td>0.0</td>\n      <td>3.610000</td>\n      <td>3.610000</td>\n      <td>0.000000</td>\n    </tr>\n    <tr>\n      <th>50%</th>\n      <td>NaN</td>\n      <td>2.0</td>\n      <td>2023-08-10 02:47:30</td>\n      <td>1.0</td>\n      <td>0.000000</td>\n      <td>62.611005</td>\n      <td>0.0</td>\n      <td>6.261016e+01</td>\n      <td>0.000000</td>\n      <td>0.000000</td>\n      <td>...</td>\n      <td>0.000000</td>\n      <td>0.390000</td>\n      <td>0.390000</td>\n      <td>0.0</td>\n      <td>0.390000</td>\n      <td>0.390000</td>\n      <td>0.0</td>\n      <td>3.990000</td>\n      <td>3.990000</td>\n      <td>0.000000</td>\n    </tr>\n    <tr>\n      <th>75%</th>\n      <td>NaN</td>\n      <td>2.0</td>\n      <td>2023-11-28 03:25:00</td>\n      <td>1.0</td>\n      <td>0.000000</td>\n      <td>100.020000</td>\n      <td>0.0</td>\n      <td>1.000200e+02</td>\n      <td>0.000000</td>\n      <td>0.000000</td>\n      <td>...</td>\n      <td>0.000000</td>\n      <td>1.400000</td>\n      <td>1.400000</td>\n      <td>0.0</td>\n      <td>0.410000</td>\n      <td>0.410000</td>\n      <td>0.0</td>\n      <td>7.120000</td>\n      <td>7.120000</td>\n      <td>0.000000</td>\n    </tr>\n    <tr>\n      <th>max</th>\n      <td>NaN</td>\n      <td>2.0</td>\n      <td>2024-03-17 04:00:00</td>\n      <td>1.0</td>\n      <td>1.000000</td>\n      <td>16600.000000</td>\n      <td>0.0</td>\n      <td>2.325000e+06</td>\n      <td>20.000000</td>\n      <td>2.000000</td>\n      <td>...</td>\n      <td>4.000000</td>\n      <td>16600.000000</td>\n      <td>16600.000000</td>\n      <td>0.0</td>\n      <td>999.000000</td>\n      <td>999.000000</td>\n      <td>0.0</td>\n      <td>16600.000000</td>\n      <td>166009.880000</td>\n      <td>4.000000</td>\n    </tr>\n    <tr>\n      <th>std</th>\n      <td>NaN</td>\n      <td>0.0</td>\n      <td>NaN</td>\n      <td>0.0</td>\n      <td>0.015383</td>\n      <td>330.481367</td>\n      <td>0.0</td>\n      <td>4.183949e+03</td>\n      <td>0.297604</td>\n      <td>0.035030</td>\n      <td>...</td>\n      <td>0.007106</td>\n      <td>59.854095</td>\n      <td>59.854106</td>\n      <td>0.0</td>\n      <td>5.647249</td>\n      <td>5.647262</td>\n      <td>0.0</td>\n      <td>27.012011</td>\n      <td>209.229543</td>\n      <td>0.005025</td>\n    </tr>\n  </tbody>\n</table>\n<p>8 rows × 117 columns</p>\n</div>"
     },
     "execution_count": 1240,
     "metadata": {},
     "output_type": "execute_result"
    }
   ],
   "source": [
    "df4.describe()"
   ],
   "metadata": {
    "collapsed": false,
    "ExecuteTime": {
     "end_time": "2024-03-17T10:37:17.768700Z",
     "start_time": "2024-03-17T10:37:16.913369Z"
    }
   },
   "id": "d314539848416b3e",
   "execution_count": 1240
  },
  {
   "cell_type": "code",
   "outputs": [
    {
     "data": {
      "text/plain": "I                        0\nDREGION                  0\nUnnamed: 2          633750\n2                        0\nSETTLEMENTDATE           0\n                     ...  \nLOWER5MINROP             0\nLOWER5MINAPCFLAG         0\nLOWERREGRRP              0\nLOWERREGROP              0\nLOWERREGAPCFLAG          0\nLength: 120, dtype: int64"
     },
     "execution_count": 1238,
     "metadata": {},
     "output_type": "execute_result"
    }
   ],
   "source": [
    "df4.isnull().sum()"
   ],
   "metadata": {
    "collapsed": false,
    "ExecuteTime": {
     "end_time": "2024-03-17T10:31:21.539568Z",
     "start_time": "2024-03-17T10:31:21.448745Z"
    }
   },
   "id": "75c83355605bc285",
   "execution_count": 1238
  },
  {
   "cell_type": "code",
   "outputs": [
    {
     "data": {
      "text/plain": "I                        0\nDREGION                  0\nUnnamed: 2          633750\n2                        0\nSETTLEMENTDATE           0\n                     ...  \nLOWER5MINROP             0\nLOWER5MINAPCFLAG         0\nLOWERREGRRP              0\nLOWERREGROP              0\nLOWERREGAPCFLAG          0\nLength: 120, dtype: int64"
     },
     "execution_count": 1239,
     "metadata": {},
     "output_type": "execute_result"
    }
   ],
   "source": [
    "df4.isna().sum()"
   ],
   "metadata": {
    "collapsed": false,
    "ExecuteTime": {
     "end_time": "2024-03-17T10:31:21.617276Z",
     "start_time": "2024-03-17T10:31:21.540193Z"
    }
   },
   "id": "76f780292fe2c730",
   "execution_count": 1239
  }
 ],
 "metadata": {
  "kernelspec": {
   "display_name": "Python 3",
   "language": "python",
   "name": "python3"
  },
  "language_info": {
   "codemirror_mode": {
    "name": "ipython",
    "version": 2
   },
   "file_extension": ".py",
   "mimetype": "text/x-python",
   "name": "python",
   "nbconvert_exporter": "python",
   "pygments_lexer": "ipython2",
   "version": "2.7.6"
  }
 },
 "nbformat": 4,
 "nbformat_minor": 5
}
