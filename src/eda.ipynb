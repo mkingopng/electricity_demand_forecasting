{
 "cells": [
  {
   "cell_type": "code",
   "execution_count": 1,
   "id": "initial_id",
   "metadata": {
    "collapsed": true,
    "ExecuteTime": {
     "end_time": "2024-03-14T11:35:52.237166Z",
     "start_time": "2024-03-14T11:35:51.998121Z"
    }
   },
   "outputs": [],
   "source": [
    "import pandas as pd\n",
    "import os"
   ]
  },
  {
   "cell_type": "code",
   "outputs": [],
   "source": [
    "data_path = './../data'"
   ],
   "metadata": {
    "collapsed": false,
    "ExecuteTime": {
     "end_time": "2024-03-14T11:35:52.479088Z",
     "start_time": "2024-03-14T11:35:52.476950Z"
    }
   },
   "id": "a2f8fff9d34b72cf",
   "execution_count": 2
  },
  {
   "cell_type": "markdown",
   "source": [
    "# Table of Contents\n",
    "1. [Victoria Forecast Demand](#victoria-forecast-demand)\n",
    "2. [SA Forecast Demand](#sa-forecast-demand)\n",
    "3. [QLD Forecast Demand](#qld-forecast-demand)\n",
    "4. [QLD Temperatures](#qld-temperatures)\n",
    "5. [SA Temperatures](#sa-temperatures)\n",
    "6. [Victoria Temperature](#victoria-temperature)\n",
    "7. [QLD Total Demand](#qld-total-demand)\n",
    "8. [SA Total Demand](#sa-total-demand)\n",
    "9. [Victoria Total Demand](#victoria-total-demand)\n",
    "10. [NSW Forecast Demand](#nsw-forecast-demand)\n",
    "11. [NSW temperature](#nsw-temperature)\n",
    "12. [NSW Total Demand](#nsw-total-demand)\n"
   ],
   "metadata": {
    "collapsed": false
   },
   "id": "e89b4b94139327df"
  },
  {
   "cell_type": "markdown",
   "source": [],
   "metadata": {
    "collapsed": false
   },
   "id": "2d2de0c89e49ba19"
  },
  {
   "cell_type": "markdown",
   "source": [
    "## Victoria Forecast Demand"
   ],
   "metadata": {
    "collapsed": false
   },
   "id": "6c3f17187f74423c"
  },
  {
   "cell_type": "code",
   "outputs": [
    {
     "name": "stdout",
     "output_type": "stream",
     "text": [
      "CPU times: user 1.51 s, sys: 329 ms, total: 1.84 s\n",
      "Wall time: 1.83 s\n"
     ]
    }
   ],
   "source": [
    "%%time\n",
    "vic_forecast_demand = pd.read_csv(os.path.join(data_path, 'Australia', 'a', 'forecastdemand_vic.csv'))"
   ],
   "metadata": {
    "collapsed": false,
    "ExecuteTime": {
     "end_time": "2024-03-14T11:35:54.336545Z",
     "start_time": "2024-03-14T11:35:52.502014Z"
    }
   },
   "id": "693d10134a52051d",
   "execution_count": 3
  },
  {
   "cell_type": "code",
   "outputs": [
    {
     "name": "stdout",
     "output_type": "stream",
     "text": [
      "CPU times: user 51 µs, sys: 54 µs, total: 105 µs\n",
      "Wall time: 102 µs\n"
     ]
    },
    {
     "data": {
      "text/plain": "   PREDISPATCHSEQNO REGIONID  PERIODID  FORECASTDEMAND          LASTCHANGED  \\\n0        2016123018     VIC1        71         4160.74  2016-12-30 12:31:25   \n1        2016123018     VIC1        72         3999.64  2016-12-30 12:31:25   \n2        2016123018     VIC1        73         3836.30  2016-12-30 12:31:25   \n3        2016123018     VIC1        74         3681.87  2016-12-30 12:31:25   \n4        2016123018     VIC1        75         3457.38  2016-12-30 12:31:25   \n\n              DATETIME  \n0  2017-01-01 00:00:00  \n1  2017-01-01 00:30:00  \n2  2017-01-01 01:00:00  \n3  2017-01-01 01:30:00  \n4  2017-01-01 02:00:00  ",
      "text/html": "<div>\n<style scoped>\n    .dataframe tbody tr th:only-of-type {\n        vertical-align: middle;\n    }\n\n    .dataframe tbody tr th {\n        vertical-align: top;\n    }\n\n    .dataframe thead th {\n        text-align: right;\n    }\n</style>\n<table border=\"1\" class=\"dataframe\">\n  <thead>\n    <tr style=\"text-align: right;\">\n      <th></th>\n      <th>PREDISPATCHSEQNO</th>\n      <th>REGIONID</th>\n      <th>PERIODID</th>\n      <th>FORECASTDEMAND</th>\n      <th>LASTCHANGED</th>\n      <th>DATETIME</th>\n    </tr>\n  </thead>\n  <tbody>\n    <tr>\n      <th>0</th>\n      <td>2016123018</td>\n      <td>VIC1</td>\n      <td>71</td>\n      <td>4160.74</td>\n      <td>2016-12-30 12:31:25</td>\n      <td>2017-01-01 00:00:00</td>\n    </tr>\n    <tr>\n      <th>1</th>\n      <td>2016123018</td>\n      <td>VIC1</td>\n      <td>72</td>\n      <td>3999.64</td>\n      <td>2016-12-30 12:31:25</td>\n      <td>2017-01-01 00:30:00</td>\n    </tr>\n    <tr>\n      <th>2</th>\n      <td>2016123018</td>\n      <td>VIC1</td>\n      <td>73</td>\n      <td>3836.30</td>\n      <td>2016-12-30 12:31:25</td>\n      <td>2017-01-01 01:00:00</td>\n    </tr>\n    <tr>\n      <th>3</th>\n      <td>2016123018</td>\n      <td>VIC1</td>\n      <td>74</td>\n      <td>3681.87</td>\n      <td>2016-12-30 12:31:25</td>\n      <td>2017-01-01 01:30:00</td>\n    </tr>\n    <tr>\n      <th>4</th>\n      <td>2016123018</td>\n      <td>VIC1</td>\n      <td>75</td>\n      <td>3457.38</td>\n      <td>2016-12-30 12:31:25</td>\n      <td>2017-01-01 02:00:00</td>\n    </tr>\n  </tbody>\n</table>\n</div>"
     },
     "execution_count": 4,
     "metadata": {},
     "output_type": "execute_result"
    }
   ],
   "source": [
    "%%time\n",
    "vic_forecast_demand.head()"
   ],
   "metadata": {
    "collapsed": false,
    "ExecuteTime": {
     "end_time": "2024-03-14T11:35:54.344308Z",
     "start_time": "2024-03-14T11:35:54.337411Z"
    }
   },
   "id": "4995830024a0bb03",
   "execution_count": 4
  },
  {
   "cell_type": "code",
   "outputs": [
    {
     "name": "stdout",
     "output_type": "stream",
     "text": [
      "<class 'pandas.core.frame.DataFrame'>\n",
      "RangeIndex: 4095592 entries, 0 to 4095591\n",
      "Data columns (total 6 columns):\n",
      " #   Column            Dtype  \n",
      "---  ------            -----  \n",
      " 0   PREDISPATCHSEQNO  int64  \n",
      " 1   REGIONID          object \n",
      " 2   PERIODID          int64  \n",
      " 3   FORECASTDEMAND    float64\n",
      " 4   LASTCHANGED       object \n",
      " 5   DATETIME          object \n",
      "dtypes: float64(1), int64(2), object(3)\n",
      "memory usage: 187.5+ MB\n",
      "CPU times: user 1.19 ms, sys: 1.26 ms, total: 2.44 ms\n",
      "Wall time: 2.36 ms\n"
     ]
    }
   ],
   "source": [
    "%%time\n",
    "vic_forecast_demand.info()"
   ],
   "metadata": {
    "collapsed": false,
    "ExecuteTime": {
     "end_time": "2024-03-14T11:35:54.356325Z",
     "start_time": "2024-03-14T11:35:54.344797Z"
    }
   },
   "id": "994dbcc22219a50e",
   "execution_count": 5
  },
  {
   "cell_type": "code",
   "outputs": [
    {
     "name": "stdout",
     "output_type": "stream",
     "text": [
      "CPU times: user 157 ms, sys: 9.64 ms, total: 167 ms\n",
      "Wall time: 166 ms\n"
     ]
    },
    {
     "data": {
      "text/plain": "       PREDISPATCHSEQNO      PERIODID  FORECASTDEMAND\ncount      4.095592e+06  4.095592e+06    4.095592e+06\nmean       2.018688e+09  2.998370e+01    4.862913e+03\nstd        1.214396e+06  1.869790e+01    8.704415e+02\nmin        2.016123e+09  1.000000e+00    2.354240e+03\n25%        2.018012e+09  1.400000e+01    4.213920e+03\n50%        2.019021e+09  2.800000e+01    4.749945e+03\n75%        2.020023e+09  4.400000e+01    5.383632e+03\nmax        2.021032e+09  7.900000e+01    9.738030e+03",
      "text/html": "<div>\n<style scoped>\n    .dataframe tbody tr th:only-of-type {\n        vertical-align: middle;\n    }\n\n    .dataframe tbody tr th {\n        vertical-align: top;\n    }\n\n    .dataframe thead th {\n        text-align: right;\n    }\n</style>\n<table border=\"1\" class=\"dataframe\">\n  <thead>\n    <tr style=\"text-align: right;\">\n      <th></th>\n      <th>PREDISPATCHSEQNO</th>\n      <th>PERIODID</th>\n      <th>FORECASTDEMAND</th>\n    </tr>\n  </thead>\n  <tbody>\n    <tr>\n      <th>count</th>\n      <td>4.095592e+06</td>\n      <td>4.095592e+06</td>\n      <td>4.095592e+06</td>\n    </tr>\n    <tr>\n      <th>mean</th>\n      <td>2.018688e+09</td>\n      <td>2.998370e+01</td>\n      <td>4.862913e+03</td>\n    </tr>\n    <tr>\n      <th>std</th>\n      <td>1.214396e+06</td>\n      <td>1.869790e+01</td>\n      <td>8.704415e+02</td>\n    </tr>\n    <tr>\n      <th>min</th>\n      <td>2.016123e+09</td>\n      <td>1.000000e+00</td>\n      <td>2.354240e+03</td>\n    </tr>\n    <tr>\n      <th>25%</th>\n      <td>2.018012e+09</td>\n      <td>1.400000e+01</td>\n      <td>4.213920e+03</td>\n    </tr>\n    <tr>\n      <th>50%</th>\n      <td>2.019021e+09</td>\n      <td>2.800000e+01</td>\n      <td>4.749945e+03</td>\n    </tr>\n    <tr>\n      <th>75%</th>\n      <td>2.020023e+09</td>\n      <td>4.400000e+01</td>\n      <td>5.383632e+03</td>\n    </tr>\n    <tr>\n      <th>max</th>\n      <td>2.021032e+09</td>\n      <td>7.900000e+01</td>\n      <td>9.738030e+03</td>\n    </tr>\n  </tbody>\n</table>\n</div>"
     },
     "execution_count": 6,
     "metadata": {},
     "output_type": "execute_result"
    }
   ],
   "source": [
    "%%time\n",
    "vic_forecast_demand.describe()"
   ],
   "metadata": {
    "collapsed": false,
    "ExecuteTime": {
     "end_time": "2024-03-14T11:35:54.535979Z",
     "start_time": "2024-03-14T11:35:54.357118Z"
    }
   },
   "id": "f108624efb1f314e",
   "execution_count": 6
  },
  {
   "cell_type": "code",
   "outputs": [
    {
     "name": "stdout",
     "output_type": "stream",
     "text": [
      "CPU times: user 6 µs, sys: 0 ns, total: 6 µs\n",
      "Wall time: 7.63 µs\n"
     ]
    },
    {
     "data": {
      "text/plain": "(4095592, 6)"
     },
     "execution_count": 7,
     "metadata": {},
     "output_type": "execute_result"
    }
   ],
   "source": [
    "%%time\n",
    "vic_forecast_demand.shape"
   ],
   "metadata": {
    "collapsed": false,
    "ExecuteTime": {
     "end_time": "2024-03-14T11:35:54.538860Z",
     "start_time": "2024-03-14T11:35:54.536574Z"
    }
   },
   "id": "6d5cf7f3a7110617",
   "execution_count": 7
  },
  {
   "cell_type": "code",
   "outputs": [
    {
     "name": "stdout",
     "output_type": "stream",
     "text": [
      "CPU times: user 377 ms, sys: 0 ns, total: 377 ms\n",
      "Wall time: 376 ms\n"
     ]
    },
    {
     "data": {
      "text/plain": "PREDISPATCHSEQNO             2016123018\nREGIONID                           VIC1\nPERIODID                              1\nFORECASTDEMAND                  2354.24\nLASTCHANGED         2016-12-30 12:31:25\nDATETIME            2017-01-01 00:00:00\ndtype: object"
     },
     "execution_count": 8,
     "metadata": {},
     "output_type": "execute_result"
    }
   ],
   "source": [
    "%%time\n",
    "vic_forecast_demand.min()"
   ],
   "metadata": {
    "collapsed": false,
    "ExecuteTime": {
     "end_time": "2024-03-14T11:35:54.929631Z",
     "start_time": "2024-03-14T11:35:54.539347Z"
    }
   },
   "id": "911135ec51ed1cec",
   "execution_count": 8
  },
  {
   "cell_type": "code",
   "outputs": [
    {
     "name": "stdout",
     "output_type": "stream",
     "text": [
      "CPU times: user 370 ms, sys: 0 ns, total: 370 ms\n",
      "Wall time: 369 ms\n"
     ]
    },
    {
     "data": {
      "text/plain": "PREDISPATCHSEQNO             2021031740\nREGIONID                           VIC1\nPERIODID                             79\nFORECASTDEMAND                  9738.03\nLASTCHANGED         2021-03-17 23:31:33\nDATETIME            2021-03-19 04:00:00\ndtype: object"
     },
     "execution_count": 9,
     "metadata": {},
     "output_type": "execute_result"
    }
   ],
   "source": [
    "%%time\n",
    "vic_forecast_demand.max()"
   ],
   "metadata": {
    "collapsed": false,
    "ExecuteTime": {
     "end_time": "2024-03-14T11:35:55.302326Z",
     "start_time": "2024-03-14T11:35:54.930173Z"
    }
   },
   "id": "4d29ea3ecf3d1a83",
   "execution_count": 9
  },
  {
   "cell_type": "markdown",
   "source": [
    "check for nulls"
   ],
   "metadata": {
    "collapsed": false
   },
   "id": "8b736b1ec16a363"
  },
  {
   "cell_type": "code",
   "outputs": [
    {
     "name": "stdout",
     "output_type": "stream",
     "text": [
      "CPU times: user 250 ms, sys: 480 µs, total: 250 ms\n",
      "Wall time: 249 ms\n"
     ]
    },
    {
     "data": {
      "text/plain": "PREDISPATCHSEQNO    0\nREGIONID            0\nPERIODID            0\nFORECASTDEMAND      0\nLASTCHANGED         0\nDATETIME            0\ndtype: int64"
     },
     "execution_count": 10,
     "metadata": {},
     "output_type": "execute_result"
    }
   ],
   "source": [
    "%%time\n",
    "vic_forecast_demand.isnull().sum()"
   ],
   "metadata": {
    "collapsed": false,
    "ExecuteTime": {
     "end_time": "2024-03-14T11:35:55.554878Z",
     "start_time": "2024-03-14T11:35:55.302873Z"
    }
   },
   "id": "7839a3208008a160",
   "execution_count": 10
  },
  {
   "cell_type": "code",
   "outputs": [
    {
     "name": "stdout",
     "output_type": "stream",
     "text": [
      "CPU times: user 249 ms, sys: 2.49 ms, total: 251 ms\n",
      "Wall time: 250 ms\n"
     ]
    },
    {
     "data": {
      "text/plain": "PREDISPATCHSEQNO    0\nREGIONID            0\nPERIODID            0\nFORECASTDEMAND      0\nLASTCHANGED         0\nDATETIME            0\ndtype: int64"
     },
     "execution_count": 11,
     "metadata": {},
     "output_type": "execute_result"
    }
   ],
   "source": [
    "%%time\n",
    "vic_forecast_demand.isna().sum()"
   ],
   "metadata": {
    "collapsed": false,
    "ExecuteTime": {
     "end_time": "2024-03-14T11:35:55.808170Z",
     "start_time": "2024-03-14T11:35:55.555425Z"
    }
   },
   "id": "d5d2e341feb4827b",
   "execution_count": 11
  },
  {
   "cell_type": "markdown",
   "source": [
    "number of unique values"
   ],
   "metadata": {
    "collapsed": false
   },
   "id": "f78f7addd9456b13"
  },
  {
   "cell_type": "code",
   "outputs": [
    {
     "data": {
      "text/plain": "PREDISPATCHSEQNO     73836\nREGIONID                 1\nPERIODID                79\nFORECASTDEMAND      430091\nLASTCHANGED          73836\nDATETIME             73833\ndtype: int64"
     },
     "execution_count": 12,
     "metadata": {},
     "output_type": "execute_result"
    }
   ],
   "source": [
    "vic_forecast_demand.nunique()"
   ],
   "metadata": {
    "collapsed": false,
    "ExecuteTime": {
     "end_time": "2024-03-14T11:35:56.272915Z",
     "start_time": "2024-03-14T11:35:55.809371Z"
    }
   },
   "id": "79810cf215c482db",
   "execution_count": 12
  },
  {
   "cell_type": "markdown",
   "source": [
    "check for regular intervals"
   ],
   "metadata": {
    "collapsed": false
   },
   "id": "34de60dacd1c7ab5"
  },
  {
   "cell_type": "markdown",
   "source": [
    "checking timestamps"
   ],
   "metadata": {
    "collapsed": false
   },
   "id": "d9e5a12dabd58905"
  },
  {
   "cell_type": "markdown",
   "source": [
    "visual inspection"
   ],
   "metadata": {
    "collapsed": false
   },
   "id": "47a28caa78a668b4"
  },
  {
   "cell_type": "markdown",
   "source": [
    "check data types & do required conversions"
   ],
   "metadata": {
    "collapsed": false
   },
   "id": "87a5a4235bd05d51"
  },
  {
   "cell_type": "markdown",
   "source": [
    "check time stamps"
   ],
   "metadata": {
    "collapsed": false
   },
   "id": "13a853dbf7d11e36"
  },
  {
   "cell_type": "markdown",
   "source": [
    "## SA Forecast Demand"
   ],
   "metadata": {
    "collapsed": false
   },
   "id": "75a633fdee928fc0"
  },
  {
   "cell_type": "code",
   "outputs": [
    {
     "name": "stdout",
     "output_type": "stream",
     "text": [
      "CPU times: user 1.46 s, sys: 305 ms, total: 1.76 s\n",
      "Wall time: 1.76 s\n"
     ]
    }
   ],
   "source": [
    "%%time\n",
    "sa_forecast_demand = pd.read_csv(os.path.join(data_path, 'Australia', 'b', 'forecastdemand_sa.csv'))"
   ],
   "metadata": {
    "collapsed": false,
    "ExecuteTime": {
     "end_time": "2024-03-14T11:35:58.039182Z",
     "start_time": "2024-03-14T11:35:56.273506Z"
    }
   },
   "id": "5dafe7e46f0e5720",
   "execution_count": 13
  },
  {
   "cell_type": "code",
   "outputs": [
    {
     "name": "stdout",
     "output_type": "stream",
     "text": [
      "CPU times: user 241 µs, sys: 0 ns, total: 241 µs\n",
      "Wall time: 238 µs\n"
     ]
    },
    {
     "data": {
      "text/plain": "   PREDISPATCHSEQNO REGIONID  PERIODID  FORECASTDEMAND          LASTCHANGED  \\\n0        2016123018      SA1        71         1394.41  2016-12-30 12:31:25   \n1        2016123018      SA1        72         1285.07  2016-12-30 12:31:25   \n2        2016123018      SA1        73         1221.70  2016-12-30 12:31:25   \n3        2016123018      SA1        74         1141.86  2016-12-30 12:31:25   \n4        2016123018      SA1        75         1087.78  2016-12-30 12:31:25   \n\n              DATETIME  \n0  2017-01-01 00:00:00  \n1  2017-01-01 00:30:00  \n2  2017-01-01 01:00:00  \n3  2017-01-01 01:30:00  \n4  2017-01-01 02:00:00  ",
      "text/html": "<div>\n<style scoped>\n    .dataframe tbody tr th:only-of-type {\n        vertical-align: middle;\n    }\n\n    .dataframe tbody tr th {\n        vertical-align: top;\n    }\n\n    .dataframe thead th {\n        text-align: right;\n    }\n</style>\n<table border=\"1\" class=\"dataframe\">\n  <thead>\n    <tr style=\"text-align: right;\">\n      <th></th>\n      <th>PREDISPATCHSEQNO</th>\n      <th>REGIONID</th>\n      <th>PERIODID</th>\n      <th>FORECASTDEMAND</th>\n      <th>LASTCHANGED</th>\n      <th>DATETIME</th>\n    </tr>\n  </thead>\n  <tbody>\n    <tr>\n      <th>0</th>\n      <td>2016123018</td>\n      <td>SA1</td>\n      <td>71</td>\n      <td>1394.41</td>\n      <td>2016-12-30 12:31:25</td>\n      <td>2017-01-01 00:00:00</td>\n    </tr>\n    <tr>\n      <th>1</th>\n      <td>2016123018</td>\n      <td>SA1</td>\n      <td>72</td>\n      <td>1285.07</td>\n      <td>2016-12-30 12:31:25</td>\n      <td>2017-01-01 00:30:00</td>\n    </tr>\n    <tr>\n      <th>2</th>\n      <td>2016123018</td>\n      <td>SA1</td>\n      <td>73</td>\n      <td>1221.70</td>\n      <td>2016-12-30 12:31:25</td>\n      <td>2017-01-01 01:00:00</td>\n    </tr>\n    <tr>\n      <th>3</th>\n      <td>2016123018</td>\n      <td>SA1</td>\n      <td>74</td>\n      <td>1141.86</td>\n      <td>2016-12-30 12:31:25</td>\n      <td>2017-01-01 01:30:00</td>\n    </tr>\n    <tr>\n      <th>4</th>\n      <td>2016123018</td>\n      <td>SA1</td>\n      <td>75</td>\n      <td>1087.78</td>\n      <td>2016-12-30 12:31:25</td>\n      <td>2017-01-01 02:00:00</td>\n    </tr>\n  </tbody>\n</table>\n</div>"
     },
     "execution_count": 14,
     "metadata": {},
     "output_type": "execute_result"
    }
   ],
   "source": [
    "%%time\n",
    "sa_forecast_demand.head()"
   ],
   "metadata": {
    "collapsed": false,
    "ExecuteTime": {
     "end_time": "2024-03-14T11:35:58.045037Z",
     "start_time": "2024-03-14T11:35:58.039778Z"
    }
   },
   "id": "85ca104fc5687f92",
   "execution_count": 14
  },
  {
   "cell_type": "code",
   "outputs": [
    {
     "name": "stdout",
     "output_type": "stream",
     "text": [
      "CPU times: user 37 µs, sys: 18 µs, total: 55 µs\n",
      "Wall time: 54.6 µs\n"
     ]
    },
    {
     "data": {
      "text/plain": "         PREDISPATCHSEQNO REGIONID  PERIODID  FORECASTDEMAND  \\\n4095587        2021031740      SA1        53         1228.07   \n4095588        2021031740      SA1        54         1208.17   \n4095589        2021031740      SA1        55         1199.27   \n4095590        2021031740      SA1        56         1194.31   \n4095591        2021031740      SA1        57         1190.41   \n\n                 LASTCHANGED             DATETIME  \n4095587  2021-03-17 23:31:33  2021-03-19 02:00:00  \n4095588  2021-03-17 23:31:33  2021-03-19 02:30:00  \n4095589  2021-03-17 23:31:33  2021-03-19 03:00:00  \n4095590  2021-03-17 23:31:33  2021-03-19 03:30:00  \n4095591  2021-03-17 23:31:33  2021-03-19 04:00:00  ",
      "text/html": "<div>\n<style scoped>\n    .dataframe tbody tr th:only-of-type {\n        vertical-align: middle;\n    }\n\n    .dataframe tbody tr th {\n        vertical-align: top;\n    }\n\n    .dataframe thead th {\n        text-align: right;\n    }\n</style>\n<table border=\"1\" class=\"dataframe\">\n  <thead>\n    <tr style=\"text-align: right;\">\n      <th></th>\n      <th>PREDISPATCHSEQNO</th>\n      <th>REGIONID</th>\n      <th>PERIODID</th>\n      <th>FORECASTDEMAND</th>\n      <th>LASTCHANGED</th>\n      <th>DATETIME</th>\n    </tr>\n  </thead>\n  <tbody>\n    <tr>\n      <th>4095587</th>\n      <td>2021031740</td>\n      <td>SA1</td>\n      <td>53</td>\n      <td>1228.07</td>\n      <td>2021-03-17 23:31:33</td>\n      <td>2021-03-19 02:00:00</td>\n    </tr>\n    <tr>\n      <th>4095588</th>\n      <td>2021031740</td>\n      <td>SA1</td>\n      <td>54</td>\n      <td>1208.17</td>\n      <td>2021-03-17 23:31:33</td>\n      <td>2021-03-19 02:30:00</td>\n    </tr>\n    <tr>\n      <th>4095589</th>\n      <td>2021031740</td>\n      <td>SA1</td>\n      <td>55</td>\n      <td>1199.27</td>\n      <td>2021-03-17 23:31:33</td>\n      <td>2021-03-19 03:00:00</td>\n    </tr>\n    <tr>\n      <th>4095590</th>\n      <td>2021031740</td>\n      <td>SA1</td>\n      <td>56</td>\n      <td>1194.31</td>\n      <td>2021-03-17 23:31:33</td>\n      <td>2021-03-19 03:30:00</td>\n    </tr>\n    <tr>\n      <th>4095591</th>\n      <td>2021031740</td>\n      <td>SA1</td>\n      <td>57</td>\n      <td>1190.41</td>\n      <td>2021-03-17 23:31:33</td>\n      <td>2021-03-19 04:00:00</td>\n    </tr>\n  </tbody>\n</table>\n</div>"
     },
     "execution_count": 15,
     "metadata": {},
     "output_type": "execute_result"
    }
   ],
   "source": [
    "%%time\n",
    "sa_forecast_demand.tail()"
   ],
   "metadata": {
    "collapsed": false,
    "ExecuteTime": {
     "end_time": "2024-03-14T11:35:58.057423Z",
     "start_time": "2024-03-14T11:35:58.045631Z"
    }
   },
   "id": "82cfaf848949ad11",
   "execution_count": 15
  },
  {
   "cell_type": "code",
   "outputs": [
    {
     "name": "stdout",
     "output_type": "stream",
     "text": [
      "<class 'pandas.core.frame.DataFrame'>\n",
      "RangeIndex: 4095592 entries, 0 to 4095591\n",
      "Data columns (total 6 columns):\n",
      " #   Column            Dtype  \n",
      "---  ------            -----  \n",
      " 0   PREDISPATCHSEQNO  int64  \n",
      " 1   REGIONID          object \n",
      " 2   PERIODID          int64  \n",
      " 3   FORECASTDEMAND    float64\n",
      " 4   LASTCHANGED       object \n",
      " 5   DATETIME          object \n",
      "dtypes: float64(1), int64(2), object(3)\n",
      "memory usage: 187.5+ MB\n",
      "CPU times: user 1.28 ms, sys: 623 µs, total: 1.9 ms\n",
      "Wall time: 1.83 ms\n"
     ]
    }
   ],
   "source": [
    "%%time\n",
    "sa_forecast_demand.info()"
   ],
   "metadata": {
    "collapsed": false,
    "ExecuteTime": {
     "end_time": "2024-03-14T11:35:58.068766Z",
     "start_time": "2024-03-14T11:35:58.057855Z"
    }
   },
   "id": "f46b251f40c7f959",
   "execution_count": 16
  },
  {
   "cell_type": "code",
   "outputs": [
    {
     "name": "stdout",
     "output_type": "stream",
     "text": [
      "CPU times: user 145 ms, sys: 4.57 ms, total: 149 ms\n",
      "Wall time: 149 ms\n"
     ]
    },
    {
     "data": {
      "text/plain": "       PREDISPATCHSEQNO      PERIODID  FORECASTDEMAND\ncount      4.095592e+06  4.095592e+06    4.095592e+06\nmean       2.018688e+09  2.998370e+01    1.299720e+03\nstd        1.214396e+06  1.869790e+01    3.293395e+02\nmin        2.016123e+09  1.000000e+00    1.198300e+02\n25%        2.018012e+09  1.400000e+01    1.103100e+03\n50%        2.019021e+09  2.800000e+01    1.269130e+03\n75%        2.020023e+09  4.400000e+01    1.463940e+03\nmax        2.021032e+09  7.900000e+01    3.161750e+03",
      "text/html": "<div>\n<style scoped>\n    .dataframe tbody tr th:only-of-type {\n        vertical-align: middle;\n    }\n\n    .dataframe tbody tr th {\n        vertical-align: top;\n    }\n\n    .dataframe thead th {\n        text-align: right;\n    }\n</style>\n<table border=\"1\" class=\"dataframe\">\n  <thead>\n    <tr style=\"text-align: right;\">\n      <th></th>\n      <th>PREDISPATCHSEQNO</th>\n      <th>PERIODID</th>\n      <th>FORECASTDEMAND</th>\n    </tr>\n  </thead>\n  <tbody>\n    <tr>\n      <th>count</th>\n      <td>4.095592e+06</td>\n      <td>4.095592e+06</td>\n      <td>4.095592e+06</td>\n    </tr>\n    <tr>\n      <th>mean</th>\n      <td>2.018688e+09</td>\n      <td>2.998370e+01</td>\n      <td>1.299720e+03</td>\n    </tr>\n    <tr>\n      <th>std</th>\n      <td>1.214396e+06</td>\n      <td>1.869790e+01</td>\n      <td>3.293395e+02</td>\n    </tr>\n    <tr>\n      <th>min</th>\n      <td>2.016123e+09</td>\n      <td>1.000000e+00</td>\n      <td>1.198300e+02</td>\n    </tr>\n    <tr>\n      <th>25%</th>\n      <td>2.018012e+09</td>\n      <td>1.400000e+01</td>\n      <td>1.103100e+03</td>\n    </tr>\n    <tr>\n      <th>50%</th>\n      <td>2.019021e+09</td>\n      <td>2.800000e+01</td>\n      <td>1.269130e+03</td>\n    </tr>\n    <tr>\n      <th>75%</th>\n      <td>2.020023e+09</td>\n      <td>4.400000e+01</td>\n      <td>1.463940e+03</td>\n    </tr>\n    <tr>\n      <th>max</th>\n      <td>2.021032e+09</td>\n      <td>7.900000e+01</td>\n      <td>3.161750e+03</td>\n    </tr>\n  </tbody>\n</table>\n</div>"
     },
     "execution_count": 17,
     "metadata": {},
     "output_type": "execute_result"
    }
   ],
   "source": [
    "%%time\n",
    "sa_forecast_demand.describe()"
   ],
   "metadata": {
    "collapsed": false,
    "ExecuteTime": {
     "end_time": "2024-03-14T11:35:58.229037Z",
     "start_time": "2024-03-14T11:35:58.069214Z"
    }
   },
   "id": "6d7d573982c5f7ee",
   "execution_count": 17
  },
  {
   "cell_type": "code",
   "outputs": [
    {
     "name": "stdout",
     "output_type": "stream",
     "text": [
      "CPU times: user 4 µs, sys: 2 µs, total: 6 µs\n",
      "Wall time: 7.63 µs\n"
     ]
    },
    {
     "data": {
      "text/plain": "(4095592, 6)"
     },
     "execution_count": 18,
     "metadata": {},
     "output_type": "execute_result"
    }
   ],
   "source": [
    "%%time\n",
    "sa_forecast_demand.shape"
   ],
   "metadata": {
    "collapsed": false,
    "ExecuteTime": {
     "end_time": "2024-03-14T11:35:58.232042Z",
     "start_time": "2024-03-14T11:35:58.229588Z"
    }
   },
   "id": "a9621125501dad6c",
   "execution_count": 18
  },
  {
   "cell_type": "code",
   "outputs": [
    {
     "name": "stdout",
     "output_type": "stream",
     "text": [
      "CPU times: user 380 ms, sys: 144 µs, total: 380 ms\n",
      "Wall time: 379 ms\n"
     ]
    },
    {
     "data": {
      "text/plain": "PREDISPATCHSEQNO             2016123018\nREGIONID                            SA1\nPERIODID                              1\nFORECASTDEMAND                   119.83\nLASTCHANGED         2016-12-30 12:31:25\nDATETIME            2017-01-01 00:00:00\ndtype: object"
     },
     "execution_count": 19,
     "metadata": {},
     "output_type": "execute_result"
    }
   ],
   "source": [
    "%%time\n",
    "sa_forecast_demand.min()"
   ],
   "metadata": {
    "collapsed": false,
    "ExecuteTime": {
     "end_time": "2024-03-14T11:35:58.615756Z",
     "start_time": "2024-03-14T11:35:58.232537Z"
    }
   },
   "id": "1b789fc675407f28",
   "execution_count": 19
  },
  {
   "cell_type": "code",
   "outputs": [
    {
     "name": "stdout",
     "output_type": "stream",
     "text": [
      "CPU times: user 386 ms, sys: 1.29 ms, total: 387 ms\n",
      "Wall time: 386 ms\n"
     ]
    },
    {
     "data": {
      "text/plain": "PREDISPATCHSEQNO             2021031740\nREGIONID                            SA1\nPERIODID                             79\nFORECASTDEMAND                  3161.75\nLASTCHANGED         2021-03-17 23:31:33\nDATETIME            2021-03-19 04:00:00\ndtype: object"
     },
     "execution_count": 20,
     "metadata": {},
     "output_type": "execute_result"
    }
   ],
   "source": [
    "%%time\n",
    "sa_forecast_demand.max()"
   ],
   "metadata": {
    "collapsed": false,
    "ExecuteTime": {
     "end_time": "2024-03-14T11:35:59.007182Z",
     "start_time": "2024-03-14T11:35:58.616351Z"
    }
   },
   "id": "bd8c91af09352ce2",
   "execution_count": 20
  },
  {
   "cell_type": "code",
   "outputs": [
    {
     "name": "stdout",
     "output_type": "stream",
     "text": [
      "CPU times: user 244 ms, sys: 2.17 ms, total: 247 ms\n",
      "Wall time: 246 ms\n"
     ]
    },
    {
     "data": {
      "text/plain": "PREDISPATCHSEQNO    0\nREGIONID            0\nPERIODID            0\nFORECASTDEMAND      0\nLASTCHANGED         0\nDATETIME            0\ndtype: int64"
     },
     "execution_count": 21,
     "metadata": {},
     "output_type": "execute_result"
    }
   ],
   "source": [
    "%%time\n",
    "sa_forecast_demand.isnull().sum()"
   ],
   "metadata": {
    "collapsed": false,
    "ExecuteTime": {
     "end_time": "2024-03-14T11:35:59.256584Z",
     "start_time": "2024-03-14T11:35:59.007800Z"
    }
   },
   "id": "32a94037ea4c4bf",
   "execution_count": 21
  },
  {
   "cell_type": "code",
   "outputs": [
    {
     "name": "stdout",
     "output_type": "stream",
     "text": [
      "CPU times: user 245 ms, sys: 833 µs, total: 246 ms\n",
      "Wall time: 245 ms\n"
     ]
    },
    {
     "data": {
      "text/plain": "PREDISPATCHSEQNO    0\nREGIONID            0\nPERIODID            0\nFORECASTDEMAND      0\nLASTCHANGED         0\nDATETIME            0\ndtype: int64"
     },
     "execution_count": 22,
     "metadata": {},
     "output_type": "execute_result"
    }
   ],
   "source": [
    "%%time\n",
    "sa_forecast_demand.isna().sum()"
   ],
   "metadata": {
    "collapsed": false,
    "ExecuteTime": {
     "end_time": "2024-03-14T11:35:59.505026Z",
     "start_time": "2024-03-14T11:35:59.257132Z"
    }
   },
   "id": "a0d0f50327313aec",
   "execution_count": 22
  },
  {
   "cell_type": "code",
   "outputs": [
    {
     "name": "stdout",
     "output_type": "stream",
     "text": [
      "CPU times: user 440 ms, sys: 8 µs, total: 440 ms\n",
      "Wall time: 439 ms\n"
     ]
    },
    {
     "data": {
      "text/plain": "PREDISPATCHSEQNO     73836\nREGIONID                 1\nPERIODID                79\nFORECASTDEMAND      215933\nLASTCHANGED          73836\nDATETIME             73833\ndtype: int64"
     },
     "execution_count": 23,
     "metadata": {},
     "output_type": "execute_result"
    }
   ],
   "source": [
    "%%time\n",
    "sa_forecast_demand.nunique()"
   ],
   "metadata": {
    "collapsed": false,
    "ExecuteTime": {
     "end_time": "2024-03-14T11:35:59.947446Z",
     "start_time": "2024-03-14T11:35:59.505558Z"
    }
   },
   "id": "9748f6b66eb19498",
   "execution_count": 23
  },
  {
   "cell_type": "code",
   "outputs": [
    {
     "data": {
      "text/plain": "PREDISPATCHSEQNO      int64\nREGIONID             object\nPERIODID              int64\nFORECASTDEMAND      float64\nLASTCHANGED          object\nDATETIME             object\ndtype: object"
     },
     "execution_count": 24,
     "metadata": {},
     "output_type": "execute_result"
    }
   ],
   "source": [
    "sa_forecast_demand.dtypes"
   ],
   "metadata": {
    "collapsed": false,
    "ExecuteTime": {
     "end_time": "2024-03-14T11:35:59.950415Z",
     "start_time": "2024-03-14T11:35:59.947971Z"
    }
   },
   "id": "352e4d105874fb02",
   "execution_count": 24
  },
  {
   "cell_type": "markdown",
   "source": [
    "## QLD Forecast Demand"
   ],
   "metadata": {
    "collapsed": false
   },
   "id": "bc959cebfeff5380"
  },
  {
   "cell_type": "code",
   "outputs": [],
   "source": [
    "qld_forecast_demand = pd.read_csv(os.path.join(data_path, 'Australia', 'c', 'forecastdemand_qld.csv'))"
   ],
   "metadata": {
    "collapsed": false,
    "ExecuteTime": {
     "end_time": "2024-03-14T11:36:01.666679Z",
     "start_time": "2024-03-14T11:35:59.950907Z"
    }
   },
   "id": "45c6da34745864fc",
   "execution_count": 25
  },
  {
   "cell_type": "code",
   "outputs": [
    {
     "data": {
      "text/plain": "   PREDISPATCHSEQNO REGIONID  PERIODID  FORECASTDEMAND          LASTCHANGED  \\\n0        2016123018     QLD1        71         6425.36  2016-12-30 12:31:25   \n1        2016123018     QLD1        72         6193.34  2016-12-30 12:31:25   \n2        2016123018     QLD1        73         6016.45  2016-12-30 12:31:25   \n3        2016123018     QLD1        74         5859.23  2016-12-30 12:31:25   \n4        2016123018     QLD1        75         5767.15  2016-12-30 12:31:25   \n\n              DATETIME  \n0  2017-01-01 00:00:00  \n1  2017-01-01 00:30:00  \n2  2017-01-01 01:00:00  \n3  2017-01-01 01:30:00  \n4  2017-01-01 02:00:00  ",
      "text/html": "<div>\n<style scoped>\n    .dataframe tbody tr th:only-of-type {\n        vertical-align: middle;\n    }\n\n    .dataframe tbody tr th {\n        vertical-align: top;\n    }\n\n    .dataframe thead th {\n        text-align: right;\n    }\n</style>\n<table border=\"1\" class=\"dataframe\">\n  <thead>\n    <tr style=\"text-align: right;\">\n      <th></th>\n      <th>PREDISPATCHSEQNO</th>\n      <th>REGIONID</th>\n      <th>PERIODID</th>\n      <th>FORECASTDEMAND</th>\n      <th>LASTCHANGED</th>\n      <th>DATETIME</th>\n    </tr>\n  </thead>\n  <tbody>\n    <tr>\n      <th>0</th>\n      <td>2016123018</td>\n      <td>QLD1</td>\n      <td>71</td>\n      <td>6425.36</td>\n      <td>2016-12-30 12:31:25</td>\n      <td>2017-01-01 00:00:00</td>\n    </tr>\n    <tr>\n      <th>1</th>\n      <td>2016123018</td>\n      <td>QLD1</td>\n      <td>72</td>\n      <td>6193.34</td>\n      <td>2016-12-30 12:31:25</td>\n      <td>2017-01-01 00:30:00</td>\n    </tr>\n    <tr>\n      <th>2</th>\n      <td>2016123018</td>\n      <td>QLD1</td>\n      <td>73</td>\n      <td>6016.45</td>\n      <td>2016-12-30 12:31:25</td>\n      <td>2017-01-01 01:00:00</td>\n    </tr>\n    <tr>\n      <th>3</th>\n      <td>2016123018</td>\n      <td>QLD1</td>\n      <td>74</td>\n      <td>5859.23</td>\n      <td>2016-12-30 12:31:25</td>\n      <td>2017-01-01 01:30:00</td>\n    </tr>\n    <tr>\n      <th>4</th>\n      <td>2016123018</td>\n      <td>QLD1</td>\n      <td>75</td>\n      <td>5767.15</td>\n      <td>2016-12-30 12:31:25</td>\n      <td>2017-01-01 02:00:00</td>\n    </tr>\n  </tbody>\n</table>\n</div>"
     },
     "execution_count": 26,
     "metadata": {},
     "output_type": "execute_result"
    }
   ],
   "source": [
    "qld_forecast_demand.head()"
   ],
   "metadata": {
    "collapsed": false,
    "ExecuteTime": {
     "end_time": "2024-03-14T11:36:01.671745Z",
     "start_time": "2024-03-14T11:36:01.667352Z"
    }
   },
   "id": "ec887d9cbaaf9b1e",
   "execution_count": 26
  },
  {
   "cell_type": "code",
   "outputs": [
    {
     "data": {
      "text/plain": "         PREDISPATCHSEQNO REGIONID  PERIODID  FORECASTDEMAND  \\\n4095587        2021031740     QLD1        53         5600.29   \n4095588        2021031740     QLD1        54         5570.50   \n4095589        2021031740     QLD1        55         5549.37   \n4095590        2021031740     QLD1        56         5545.07   \n4095591        2021031740     QLD1        57         5564.29   \n\n                 LASTCHANGED             DATETIME  \n4095587  2021-03-17 23:31:33  2021-03-19 02:00:00  \n4095588  2021-03-17 23:31:33  2021-03-19 02:30:00  \n4095589  2021-03-17 23:31:33  2021-03-19 03:00:00  \n4095590  2021-03-17 23:31:33  2021-03-19 03:30:00  \n4095591  2021-03-17 23:31:33  2021-03-19 04:00:00  ",
      "text/html": "<div>\n<style scoped>\n    .dataframe tbody tr th:only-of-type {\n        vertical-align: middle;\n    }\n\n    .dataframe tbody tr th {\n        vertical-align: top;\n    }\n\n    .dataframe thead th {\n        text-align: right;\n    }\n</style>\n<table border=\"1\" class=\"dataframe\">\n  <thead>\n    <tr style=\"text-align: right;\">\n      <th></th>\n      <th>PREDISPATCHSEQNO</th>\n      <th>REGIONID</th>\n      <th>PERIODID</th>\n      <th>FORECASTDEMAND</th>\n      <th>LASTCHANGED</th>\n      <th>DATETIME</th>\n    </tr>\n  </thead>\n  <tbody>\n    <tr>\n      <th>4095587</th>\n      <td>2021031740</td>\n      <td>QLD1</td>\n      <td>53</td>\n      <td>5600.29</td>\n      <td>2021-03-17 23:31:33</td>\n      <td>2021-03-19 02:00:00</td>\n    </tr>\n    <tr>\n      <th>4095588</th>\n      <td>2021031740</td>\n      <td>QLD1</td>\n      <td>54</td>\n      <td>5570.50</td>\n      <td>2021-03-17 23:31:33</td>\n      <td>2021-03-19 02:30:00</td>\n    </tr>\n    <tr>\n      <th>4095589</th>\n      <td>2021031740</td>\n      <td>QLD1</td>\n      <td>55</td>\n      <td>5549.37</td>\n      <td>2021-03-17 23:31:33</td>\n      <td>2021-03-19 03:00:00</td>\n    </tr>\n    <tr>\n      <th>4095590</th>\n      <td>2021031740</td>\n      <td>QLD1</td>\n      <td>56</td>\n      <td>5545.07</td>\n      <td>2021-03-17 23:31:33</td>\n      <td>2021-03-19 03:30:00</td>\n    </tr>\n    <tr>\n      <th>4095591</th>\n      <td>2021031740</td>\n      <td>QLD1</td>\n      <td>57</td>\n      <td>5564.29</td>\n      <td>2021-03-17 23:31:33</td>\n      <td>2021-03-19 04:00:00</td>\n    </tr>\n  </tbody>\n</table>\n</div>"
     },
     "execution_count": 27,
     "metadata": {},
     "output_type": "execute_result"
    }
   ],
   "source": [
    "qld_forecast_demand.tail()"
   ],
   "metadata": {
    "collapsed": false,
    "ExecuteTime": {
     "end_time": "2024-03-14T11:36:01.678044Z",
     "start_time": "2024-03-14T11:36:01.672258Z"
    }
   },
   "id": "555e731cc7d0668a",
   "execution_count": 27
  },
  {
   "cell_type": "code",
   "outputs": [
    {
     "name": "stdout",
     "output_type": "stream",
     "text": [
      "<class 'pandas.core.frame.DataFrame'>\n",
      "RangeIndex: 4095592 entries, 0 to 4095591\n",
      "Data columns (total 6 columns):\n",
      " #   Column            Dtype  \n",
      "---  ------            -----  \n",
      " 0   PREDISPATCHSEQNO  int64  \n",
      " 1   REGIONID          object \n",
      " 2   PERIODID          int64  \n",
      " 3   FORECASTDEMAND    float64\n",
      " 4   LASTCHANGED       object \n",
      " 5   DATETIME          object \n",
      "dtypes: float64(1), int64(2), object(3)\n",
      "memory usage: 187.5+ MB\n"
     ]
    }
   ],
   "source": [
    "qld_forecast_demand.info()"
   ],
   "metadata": {
    "collapsed": false,
    "ExecuteTime": {
     "end_time": "2024-03-14T11:36:01.683355Z",
     "start_time": "2024-03-14T11:36:01.678525Z"
    }
   },
   "id": "6d1346901554c9bc",
   "execution_count": 28
  },
  {
   "cell_type": "code",
   "outputs": [
    {
     "data": {
      "text/plain": "       PREDISPATCHSEQNO      PERIODID  FORECASTDEMAND\ncount      4.095592e+06  4.095592e+06    4.095592e+06\nmean       2.018688e+09  2.998370e+01    6.217552e+03\nstd        1.214396e+06  1.869790e+01    8.990330e+02\nmin        2.016123e+09  1.000000e+00    3.634990e+03\n25%        2.018012e+09  1.400000e+01    5.493320e+03\n50%        2.019021e+09  2.800000e+01    6.105220e+03\n75%        2.020023e+09  4.400000e+01    6.833010e+03\nmax        2.021032e+09  7.900000e+01    1.004541e+04",
      "text/html": "<div>\n<style scoped>\n    .dataframe tbody tr th:only-of-type {\n        vertical-align: middle;\n    }\n\n    .dataframe tbody tr th {\n        vertical-align: top;\n    }\n\n    .dataframe thead th {\n        text-align: right;\n    }\n</style>\n<table border=\"1\" class=\"dataframe\">\n  <thead>\n    <tr style=\"text-align: right;\">\n      <th></th>\n      <th>PREDISPATCHSEQNO</th>\n      <th>PERIODID</th>\n      <th>FORECASTDEMAND</th>\n    </tr>\n  </thead>\n  <tbody>\n    <tr>\n      <th>count</th>\n      <td>4.095592e+06</td>\n      <td>4.095592e+06</td>\n      <td>4.095592e+06</td>\n    </tr>\n    <tr>\n      <th>mean</th>\n      <td>2.018688e+09</td>\n      <td>2.998370e+01</td>\n      <td>6.217552e+03</td>\n    </tr>\n    <tr>\n      <th>std</th>\n      <td>1.214396e+06</td>\n      <td>1.869790e+01</td>\n      <td>8.990330e+02</td>\n    </tr>\n    <tr>\n      <th>min</th>\n      <td>2.016123e+09</td>\n      <td>1.000000e+00</td>\n      <td>3.634990e+03</td>\n    </tr>\n    <tr>\n      <th>25%</th>\n      <td>2.018012e+09</td>\n      <td>1.400000e+01</td>\n      <td>5.493320e+03</td>\n    </tr>\n    <tr>\n      <th>50%</th>\n      <td>2.019021e+09</td>\n      <td>2.800000e+01</td>\n      <td>6.105220e+03</td>\n    </tr>\n    <tr>\n      <th>75%</th>\n      <td>2.020023e+09</td>\n      <td>4.400000e+01</td>\n      <td>6.833010e+03</td>\n    </tr>\n    <tr>\n      <th>max</th>\n      <td>2.021032e+09</td>\n      <td>7.900000e+01</td>\n      <td>1.004541e+04</td>\n    </tr>\n  </tbody>\n</table>\n</div>"
     },
     "execution_count": 29,
     "metadata": {},
     "output_type": "execute_result"
    }
   ],
   "source": [
    "qld_forecast_demand.describe()"
   ],
   "metadata": {
    "collapsed": false,
    "ExecuteTime": {
     "end_time": "2024-03-14T11:36:01.830984Z",
     "start_time": "2024-03-14T11:36:01.683834Z"
    }
   },
   "id": "c8b1c9b67a4aa423",
   "execution_count": 29
  },
  {
   "cell_type": "code",
   "outputs": [
    {
     "data": {
      "text/plain": "(4095592, 6)"
     },
     "execution_count": 30,
     "metadata": {},
     "output_type": "execute_result"
    }
   ],
   "source": [
    "qld_forecast_demand.shape"
   ],
   "metadata": {
    "collapsed": false,
    "ExecuteTime": {
     "end_time": "2024-03-14T11:36:01.835462Z",
     "start_time": "2024-03-14T11:36:01.833514Z"
    }
   },
   "id": "6044c5437ea3e726",
   "execution_count": 30
  },
  {
   "cell_type": "code",
   "outputs": [
    {
     "data": {
      "text/plain": "PREDISPATCHSEQNO             2016123018\nREGIONID                           QLD1\nPERIODID                              1\nFORECASTDEMAND                  3634.99\nLASTCHANGED         2016-12-30 12:31:25\nDATETIME            2017-01-01 00:00:00\ndtype: object"
     },
     "execution_count": 31,
     "metadata": {},
     "output_type": "execute_result"
    }
   ],
   "source": [
    "qld_forecast_demand.min()"
   ],
   "metadata": {
    "collapsed": false,
    "ExecuteTime": {
     "end_time": "2024-03-14T11:36:02.226755Z",
     "start_time": "2024-03-14T11:36:01.835922Z"
    }
   },
   "id": "2ad2681fd7190a8b",
   "execution_count": 31
  },
  {
   "cell_type": "code",
   "outputs": [
    {
     "data": {
      "text/plain": "PREDISPATCHSEQNO             2021031740\nREGIONID                           QLD1\nPERIODID                             79\nFORECASTDEMAND                 10045.41\nLASTCHANGED         2021-03-17 23:31:33\nDATETIME            2021-03-19 04:00:00\ndtype: object"
     },
     "execution_count": 32,
     "metadata": {},
     "output_type": "execute_result"
    }
   ],
   "source": [
    "qld_forecast_demand.max()"
   ],
   "metadata": {
    "collapsed": false,
    "ExecuteTime": {
     "end_time": "2024-03-14T11:36:02.618491Z",
     "start_time": "2024-03-14T11:36:02.227340Z"
    }
   },
   "id": "6a9243f189b698e7",
   "execution_count": 32
  },
  {
   "cell_type": "code",
   "outputs": [
    {
     "data": {
      "text/plain": "PREDISPATCHSEQNO    0\nREGIONID            0\nPERIODID            0\nFORECASTDEMAND      0\nLASTCHANGED         0\nDATETIME            0\ndtype: int64"
     },
     "execution_count": 33,
     "metadata": {},
     "output_type": "execute_result"
    }
   ],
   "source": [
    "qld_forecast_demand.isnull().sum()"
   ],
   "metadata": {
    "collapsed": false,
    "ExecuteTime": {
     "end_time": "2024-03-14T11:36:02.872401Z",
     "start_time": "2024-03-14T11:36:02.619372Z"
    }
   },
   "id": "4ce8c077206d6d4d",
   "execution_count": 33
  },
  {
   "cell_type": "code",
   "outputs": [
    {
     "data": {
      "text/plain": "PREDISPATCHSEQNO    0\nREGIONID            0\nPERIODID            0\nFORECASTDEMAND      0\nLASTCHANGED         0\nDATETIME            0\ndtype: int64"
     },
     "execution_count": 34,
     "metadata": {},
     "output_type": "execute_result"
    }
   ],
   "source": [
    "qld_forecast_demand.isna().sum()"
   ],
   "metadata": {
    "collapsed": false,
    "ExecuteTime": {
     "end_time": "2024-03-14T11:36:03.120856Z",
     "start_time": "2024-03-14T11:36:02.873047Z"
    }
   },
   "id": "39ccb862a2e09f72",
   "execution_count": 34
  },
  {
   "cell_type": "code",
   "outputs": [
    {
     "data": {
      "text/plain": "PREDISPATCHSEQNO     73836\nREGIONID                 1\nPERIODID                79\nFORECASTDEMAND      432543\nLASTCHANGED          73836\nDATETIME             73833\ndtype: int64"
     },
     "execution_count": 35,
     "metadata": {},
     "output_type": "execute_result"
    }
   ],
   "source": [
    "qld_forecast_demand.nunique()"
   ],
   "metadata": {
    "collapsed": false,
    "ExecuteTime": {
     "end_time": "2024-03-14T11:36:03.574412Z",
     "start_time": "2024-03-14T11:36:03.121414Z"
    }
   },
   "id": "27cb70ae8ce11144",
   "execution_count": 35
  },
  {
   "cell_type": "code",
   "outputs": [
    {
     "data": {
      "text/plain": "PREDISPATCHSEQNO      int64\nREGIONID             object\nPERIODID              int64\nFORECASTDEMAND      float64\nLASTCHANGED          object\nDATETIME             object\ndtype: object"
     },
     "execution_count": 36,
     "metadata": {},
     "output_type": "execute_result"
    }
   ],
   "source": [
    "qld_forecast_demand.dtypes"
   ],
   "metadata": {
    "collapsed": false,
    "ExecuteTime": {
     "end_time": "2024-03-14T11:36:03.577352Z",
     "start_time": "2024-03-14T11:36:03.574921Z"
    }
   },
   "id": "e4c6d2370c875841",
   "execution_count": 36
  },
  {
   "cell_type": "markdown",
   "source": [
    "## QLD Temperatures"
   ],
   "metadata": {
    "collapsed": false
   },
   "id": "15aa2a5e27b420d"
  },
  {
   "cell_type": "code",
   "outputs": [],
   "source": [
    "qld_temperature = pd.read_csv(os.path.join(data_path, 'Australia', 'd', 'temprature_qld.csv'))"
   ],
   "metadata": {
    "collapsed": false,
    "ExecuteTime": {
     "end_time": "2024-03-14T11:36:03.671924Z",
     "start_time": "2024-03-14T11:36:03.577774Z"
    }
   },
   "id": "eb5ba8fcecb3681f",
   "execution_count": 37
  },
  {
   "cell_type": "code",
   "outputs": [
    {
     "data": {
      "text/plain": "                       LOCATION        DATETIME  TEMPERATURE\n0  Brisbane Archerfield Airport  1/01/2010 0:00         23.6\n1  Brisbane Archerfield Airport  1/01/2010 0:30         23.7\n2  Brisbane Archerfield Airport  1/01/2010 1:00         23.5\n3  Brisbane Archerfield Airport  1/01/2010 1:30         22.6\n4  Brisbane Archerfield Airport  1/01/2010 2:00         22.0",
      "text/html": "<div>\n<style scoped>\n    .dataframe tbody tr th:only-of-type {\n        vertical-align: middle;\n    }\n\n    .dataframe tbody tr th {\n        vertical-align: top;\n    }\n\n    .dataframe thead th {\n        text-align: right;\n    }\n</style>\n<table border=\"1\" class=\"dataframe\">\n  <thead>\n    <tr style=\"text-align: right;\">\n      <th></th>\n      <th>LOCATION</th>\n      <th>DATETIME</th>\n      <th>TEMPERATURE</th>\n    </tr>\n  </thead>\n  <tbody>\n    <tr>\n      <th>0</th>\n      <td>Brisbane Archerfield Airport</td>\n      <td>1/01/2010 0:00</td>\n      <td>23.6</td>\n    </tr>\n    <tr>\n      <th>1</th>\n      <td>Brisbane Archerfield Airport</td>\n      <td>1/01/2010 0:30</td>\n      <td>23.7</td>\n    </tr>\n    <tr>\n      <th>2</th>\n      <td>Brisbane Archerfield Airport</td>\n      <td>1/01/2010 1:00</td>\n      <td>23.5</td>\n    </tr>\n    <tr>\n      <th>3</th>\n      <td>Brisbane Archerfield Airport</td>\n      <td>1/01/2010 1:30</td>\n      <td>22.6</td>\n    </tr>\n    <tr>\n      <th>4</th>\n      <td>Brisbane Archerfield Airport</td>\n      <td>1/01/2010 2:00</td>\n      <td>22.0</td>\n    </tr>\n  </tbody>\n</table>\n</div>"
     },
     "execution_count": 38,
     "metadata": {},
     "output_type": "execute_result"
    }
   ],
   "source": [
    "qld_temperature.head()"
   ],
   "metadata": {
    "collapsed": false,
    "ExecuteTime": {
     "end_time": "2024-03-14T11:36:03.676781Z",
     "start_time": "2024-03-14T11:36:03.672737Z"
    }
   },
   "id": "43c7ea242169d3c7",
   "execution_count": 38
  },
  {
   "cell_type": "code",
   "outputs": [
    {
     "data": {
      "text/plain": "                            LOCATION          DATETIME  TEMPERATURE\n208080  Brisbane Archerfield Airport  17/03/2021 22:00         19.6\n208081  Brisbane Archerfield Airport  17/03/2021 22:30         19.5\n208082  Brisbane Archerfield Airport  17/03/2021 23:00         19.4\n208083  Brisbane Archerfield Airport  17/03/2021 23:30         19.6\n208084  Brisbane Archerfield Airport   18/03/2021 0:00         19.5",
      "text/html": "<div>\n<style scoped>\n    .dataframe tbody tr th:only-of-type {\n        vertical-align: middle;\n    }\n\n    .dataframe tbody tr th {\n        vertical-align: top;\n    }\n\n    .dataframe thead th {\n        text-align: right;\n    }\n</style>\n<table border=\"1\" class=\"dataframe\">\n  <thead>\n    <tr style=\"text-align: right;\">\n      <th></th>\n      <th>LOCATION</th>\n      <th>DATETIME</th>\n      <th>TEMPERATURE</th>\n    </tr>\n  </thead>\n  <tbody>\n    <tr>\n      <th>208080</th>\n      <td>Brisbane Archerfield Airport</td>\n      <td>17/03/2021 22:00</td>\n      <td>19.6</td>\n    </tr>\n    <tr>\n      <th>208081</th>\n      <td>Brisbane Archerfield Airport</td>\n      <td>17/03/2021 22:30</td>\n      <td>19.5</td>\n    </tr>\n    <tr>\n      <th>208082</th>\n      <td>Brisbane Archerfield Airport</td>\n      <td>17/03/2021 23:00</td>\n      <td>19.4</td>\n    </tr>\n    <tr>\n      <th>208083</th>\n      <td>Brisbane Archerfield Airport</td>\n      <td>17/03/2021 23:30</td>\n      <td>19.6</td>\n    </tr>\n    <tr>\n      <th>208084</th>\n      <td>Brisbane Archerfield Airport</td>\n      <td>18/03/2021 0:00</td>\n      <td>19.5</td>\n    </tr>\n  </tbody>\n</table>\n</div>"
     },
     "execution_count": 39,
     "metadata": {},
     "output_type": "execute_result"
    }
   ],
   "source": [
    "qld_temperature.tail()"
   ],
   "metadata": {
    "collapsed": false,
    "ExecuteTime": {
     "end_time": "2024-03-14T11:36:03.688344Z",
     "start_time": "2024-03-14T11:36:03.677270Z"
    }
   },
   "id": "5bbc4e4094ed4fdf",
   "execution_count": 39
  },
  {
   "cell_type": "code",
   "outputs": [
    {
     "name": "stdout",
     "output_type": "stream",
     "text": [
      "<class 'pandas.core.frame.DataFrame'>\n",
      "RangeIndex: 208085 entries, 0 to 208084\n",
      "Data columns (total 3 columns):\n",
      " #   Column       Non-Null Count   Dtype  \n",
      "---  ------       --------------   -----  \n",
      " 0   LOCATION     208085 non-null  object \n",
      " 1   DATETIME     208085 non-null  object \n",
      " 2   TEMPERATURE  208085 non-null  float64\n",
      "dtypes: float64(1), object(2)\n",
      "memory usage: 4.8+ MB\n"
     ]
    }
   ],
   "source": [
    "qld_temperature.info()"
   ],
   "metadata": {
    "collapsed": false,
    "ExecuteTime": {
     "end_time": "2024-03-14T11:36:03.708086Z",
     "start_time": "2024-03-14T11:36:03.688859Z"
    }
   },
   "id": "2f60f67eccf0b1a8",
   "execution_count": 40
  },
  {
   "cell_type": "code",
   "outputs": [
    {
     "data": {
      "text/plain": "         TEMPERATURE\ncount  208085.000000\nmean       20.375972\nstd         5.586945\nmin         1.300000\n25%        16.600000\n50%        20.900000\n75%        24.300000\nmax        42.400000",
      "text/html": "<div>\n<style scoped>\n    .dataframe tbody tr th:only-of-type {\n        vertical-align: middle;\n    }\n\n    .dataframe tbody tr th {\n        vertical-align: top;\n    }\n\n    .dataframe thead th {\n        text-align: right;\n    }\n</style>\n<table border=\"1\" class=\"dataframe\">\n  <thead>\n    <tr style=\"text-align: right;\">\n      <th></th>\n      <th>TEMPERATURE</th>\n    </tr>\n  </thead>\n  <tbody>\n    <tr>\n      <th>count</th>\n      <td>208085.000000</td>\n    </tr>\n    <tr>\n      <th>mean</th>\n      <td>20.375972</td>\n    </tr>\n    <tr>\n      <th>std</th>\n      <td>5.586945</td>\n    </tr>\n    <tr>\n      <th>min</th>\n      <td>1.300000</td>\n    </tr>\n    <tr>\n      <th>25%</th>\n      <td>16.600000</td>\n    </tr>\n    <tr>\n      <th>50%</th>\n      <td>20.900000</td>\n    </tr>\n    <tr>\n      <th>75%</th>\n      <td>24.300000</td>\n    </tr>\n    <tr>\n      <th>max</th>\n      <td>42.400000</td>\n    </tr>\n  </tbody>\n</table>\n</div>"
     },
     "execution_count": 41,
     "metadata": {},
     "output_type": "execute_result"
    }
   ],
   "source": [
    "qld_temperature.describe()"
   ],
   "metadata": {
    "collapsed": false,
    "ExecuteTime": {
     "end_time": "2024-03-14T11:36:03.720754Z",
     "start_time": "2024-03-14T11:36:03.708625Z"
    }
   },
   "id": "3375c6ba50ac06dd",
   "execution_count": 41
  },
  {
   "cell_type": "code",
   "outputs": [
    {
     "data": {
      "text/plain": "(208085, 3)"
     },
     "execution_count": 42,
     "metadata": {},
     "output_type": "execute_result"
    }
   ],
   "source": [
    "qld_temperature.shape"
   ],
   "metadata": {
    "collapsed": false,
    "ExecuteTime": {
     "end_time": "2024-03-14T11:36:03.725155Z",
     "start_time": "2024-03-14T11:36:03.721216Z"
    }
   },
   "id": "b87e0dae797c3c02",
   "execution_count": 42
  },
  {
   "cell_type": "code",
   "outputs": [
    {
     "data": {
      "text/plain": "LOCATION       Brisbane Archerfield Airport\nDATETIME                     1/01/2010 0:00\nTEMPERATURE                             1.3\ndtype: object"
     },
     "execution_count": 43,
     "metadata": {},
     "output_type": "execute_result"
    }
   ],
   "source": [
    "qld_temperature.min()"
   ],
   "metadata": {
    "collapsed": false,
    "ExecuteTime": {
     "end_time": "2024-03-14T11:36:03.747848Z",
     "start_time": "2024-03-14T11:36:03.725629Z"
    }
   },
   "id": "f7bc8ed0cf367ac0",
   "execution_count": 43
  },
  {
   "cell_type": "code",
   "outputs": [
    {
     "data": {
      "text/plain": "LOCATION       Brisbane Archerfield Airport\nDATETIME                     9/12/2020 9:30\nTEMPERATURE                            42.4\ndtype: object"
     },
     "execution_count": 44,
     "metadata": {},
     "output_type": "execute_result"
    }
   ],
   "source": [
    "qld_temperature.max()"
   ],
   "metadata": {
    "collapsed": false,
    "ExecuteTime": {
     "end_time": "2024-03-14T11:36:03.775396Z",
     "start_time": "2024-03-14T11:36:03.748403Z"
    }
   },
   "id": "2e51f02c3f3acc0e",
   "execution_count": 44
  },
  {
   "cell_type": "code",
   "outputs": [
    {
     "data": {
      "text/plain": "LOCATION       0\nDATETIME       0\nTEMPERATURE    0\ndtype: int64"
     },
     "execution_count": 45,
     "metadata": {},
     "output_type": "execute_result"
    }
   ],
   "source": [
    "qld_temperature.isnull().sum()"
   ],
   "metadata": {
    "collapsed": false,
    "ExecuteTime": {
     "end_time": "2024-03-14T11:36:03.786988Z",
     "start_time": "2024-03-14T11:36:03.775934Z"
    }
   },
   "id": "e16bd8d0bf8a28bb",
   "execution_count": 45
  },
  {
   "cell_type": "code",
   "outputs": [
    {
     "data": {
      "text/plain": "LOCATION       0\nDATETIME       0\nTEMPERATURE    0\ndtype: int64"
     },
     "execution_count": 46,
     "metadata": {},
     "output_type": "execute_result"
    }
   ],
   "source": [
    "qld_temperature.isna().sum()"
   ],
   "metadata": {
    "collapsed": false,
    "ExecuteTime": {
     "end_time": "2024-03-14T11:36:03.801139Z",
     "start_time": "2024-03-14T11:36:03.787454Z"
    }
   },
   "id": "fcf3f580efc05d21",
   "execution_count": 46
  },
  {
   "cell_type": "code",
   "outputs": [
    {
     "data": {
      "text/plain": "LOCATION            1\nDATETIME       208085\nTEMPERATURE       391\ndtype: int64"
     },
     "execution_count": 47,
     "metadata": {},
     "output_type": "execute_result"
    }
   ],
   "source": [
    "qld_temperature.nunique()"
   ],
   "metadata": {
    "collapsed": false,
    "ExecuteTime": {
     "end_time": "2024-03-14T11:36:03.833380Z",
     "start_time": "2024-03-14T11:36:03.801709Z"
    }
   },
   "id": "edf3a3620ab853f9",
   "execution_count": 47
  },
  {
   "cell_type": "code",
   "outputs": [
    {
     "data": {
      "text/plain": "LOCATION        object\nDATETIME        object\nTEMPERATURE    float64\ndtype: object"
     },
     "execution_count": 48,
     "metadata": {},
     "output_type": "execute_result"
    }
   ],
   "source": [
    "qld_temperature.dtypes"
   ],
   "metadata": {
    "collapsed": false,
    "ExecuteTime": {
     "end_time": "2024-03-14T11:36:03.836536Z",
     "start_time": "2024-03-14T11:36:03.833981Z"
    }
   },
   "id": "2085d8400f4c6f42",
   "execution_count": 48
  },
  {
   "cell_type": "markdown",
   "source": [
    "## SA Temperatures"
   ],
   "metadata": {
    "collapsed": false
   },
   "id": "842327a6d18ecea9"
  },
  {
   "cell_type": "code",
   "outputs": [],
   "source": [
    "sa_temperature = pd.read_csv(os.path.join(data_path, 'Australia', 'd', 'temprature_sa.csv'))"
   ],
   "metadata": {
    "collapsed": false,
    "ExecuteTime": {
     "end_time": "2024-03-14T11:36:03.929115Z",
     "start_time": "2024-03-14T11:36:03.837056Z"
    }
   },
   "id": "fa25c091d839b212",
   "execution_count": 49
  },
  {
   "cell_type": "code",
   "outputs": [
    {
     "data": {
      "text/plain": "   Unnamed: 0              LOCATION             DATETIME  TEMPERATURE\n0           0  Adelaide (Kent Town)  2010-01-01 00:00:00         23.6\n1           1  Adelaide (Kent Town)  2010-01-01 00:30:00         23.7\n2           2  Adelaide (Kent Town)  2010-01-01 01:00:00         23.5\n3           3  Adelaide (Kent Town)  2010-01-01 01:30:00         22.6\n4           4  Adelaide (Kent Town)  2010-01-01 02:00:00         22.0",
      "text/html": "<div>\n<style scoped>\n    .dataframe tbody tr th:only-of-type {\n        vertical-align: middle;\n    }\n\n    .dataframe tbody tr th {\n        vertical-align: top;\n    }\n\n    .dataframe thead th {\n        text-align: right;\n    }\n</style>\n<table border=\"1\" class=\"dataframe\">\n  <thead>\n    <tr style=\"text-align: right;\">\n      <th></th>\n      <th>Unnamed: 0</th>\n      <th>LOCATION</th>\n      <th>DATETIME</th>\n      <th>TEMPERATURE</th>\n    </tr>\n  </thead>\n  <tbody>\n    <tr>\n      <th>0</th>\n      <td>0</td>\n      <td>Adelaide (Kent Town)</td>\n      <td>2010-01-01 00:00:00</td>\n      <td>23.6</td>\n    </tr>\n    <tr>\n      <th>1</th>\n      <td>1</td>\n      <td>Adelaide (Kent Town)</td>\n      <td>2010-01-01 00:30:00</td>\n      <td>23.7</td>\n    </tr>\n    <tr>\n      <th>2</th>\n      <td>2</td>\n      <td>Adelaide (Kent Town)</td>\n      <td>2010-01-01 01:00:00</td>\n      <td>23.5</td>\n    </tr>\n    <tr>\n      <th>3</th>\n      <td>3</td>\n      <td>Adelaide (Kent Town)</td>\n      <td>2010-01-01 01:30:00</td>\n      <td>22.6</td>\n    </tr>\n    <tr>\n      <th>4</th>\n      <td>4</td>\n      <td>Adelaide (Kent Town)</td>\n      <td>2010-01-01 02:00:00</td>\n      <td>22.0</td>\n    </tr>\n  </tbody>\n</table>\n</div>"
     },
     "execution_count": 50,
     "metadata": {},
     "output_type": "execute_result"
    }
   ],
   "source": [
    "sa_temperature.head()"
   ],
   "metadata": {
    "collapsed": false,
    "ExecuteTime": {
     "end_time": "2024-03-14T11:36:03.933707Z",
     "start_time": "2024-03-14T11:36:03.929731Z"
    }
   },
   "id": "3b7632fe88ea525a",
   "execution_count": 50
  },
  {
   "cell_type": "code",
   "outputs": [
    {
     "data": {
      "text/plain": "        Unnamed: 0              LOCATION             DATETIME  TEMPERATURE\n208080      208080  Adelaide (Kent Town)  2021-03-17 22:00:00         19.6\n208081      208081  Adelaide (Kent Town)  2021-03-17 22:30:00         19.5\n208082      208082  Adelaide (Kent Town)  2021-03-17 23:00:00         19.4\n208083      208083  Adelaide (Kent Town)  2021-03-17 23:30:00         19.6\n208084      208084  Adelaide (Kent Town)  2021-03-18 00:00:00         19.5",
      "text/html": "<div>\n<style scoped>\n    .dataframe tbody tr th:only-of-type {\n        vertical-align: middle;\n    }\n\n    .dataframe tbody tr th {\n        vertical-align: top;\n    }\n\n    .dataframe thead th {\n        text-align: right;\n    }\n</style>\n<table border=\"1\" class=\"dataframe\">\n  <thead>\n    <tr style=\"text-align: right;\">\n      <th></th>\n      <th>Unnamed: 0</th>\n      <th>LOCATION</th>\n      <th>DATETIME</th>\n      <th>TEMPERATURE</th>\n    </tr>\n  </thead>\n  <tbody>\n    <tr>\n      <th>208080</th>\n      <td>208080</td>\n      <td>Adelaide (Kent Town)</td>\n      <td>2021-03-17 22:00:00</td>\n      <td>19.6</td>\n    </tr>\n    <tr>\n      <th>208081</th>\n      <td>208081</td>\n      <td>Adelaide (Kent Town)</td>\n      <td>2021-03-17 22:30:00</td>\n      <td>19.5</td>\n    </tr>\n    <tr>\n      <th>208082</th>\n      <td>208082</td>\n      <td>Adelaide (Kent Town)</td>\n      <td>2021-03-17 23:00:00</td>\n      <td>19.4</td>\n    </tr>\n    <tr>\n      <th>208083</th>\n      <td>208083</td>\n      <td>Adelaide (Kent Town)</td>\n      <td>2021-03-17 23:30:00</td>\n      <td>19.6</td>\n    </tr>\n    <tr>\n      <th>208084</th>\n      <td>208084</td>\n      <td>Adelaide (Kent Town)</td>\n      <td>2021-03-18 00:00:00</td>\n      <td>19.5</td>\n    </tr>\n  </tbody>\n</table>\n</div>"
     },
     "execution_count": 51,
     "metadata": {},
     "output_type": "execute_result"
    }
   ],
   "source": [
    "sa_temperature.tail()"
   ],
   "metadata": {
    "collapsed": false,
    "ExecuteTime": {
     "end_time": "2024-03-14T11:36:03.942287Z",
     "start_time": "2024-03-14T11:36:03.934168Z"
    }
   },
   "id": "79b6bf38812fad04",
   "execution_count": 51
  },
  {
   "cell_type": "code",
   "outputs": [
    {
     "name": "stdout",
     "output_type": "stream",
     "text": [
      "<class 'pandas.core.frame.DataFrame'>\n",
      "RangeIndex: 208085 entries, 0 to 208084\n",
      "Data columns (total 4 columns):\n",
      " #   Column       Non-Null Count   Dtype  \n",
      "---  ------       --------------   -----  \n",
      " 0   Unnamed: 0   208085 non-null  int64  \n",
      " 1   LOCATION     208085 non-null  object \n",
      " 2   DATETIME     208085 non-null  object \n",
      " 3   TEMPERATURE  208085 non-null  float64\n",
      "dtypes: float64(1), int64(1), object(2)\n",
      "memory usage: 6.4+ MB\n"
     ]
    }
   ],
   "source": [
    "sa_temperature.info()"
   ],
   "metadata": {
    "collapsed": false,
    "ExecuteTime": {
     "end_time": "2024-03-14T11:36:03.962439Z",
     "start_time": "2024-03-14T11:36:03.942728Z"
    }
   },
   "id": "101d8f64763b0821",
   "execution_count": 52
  },
  {
   "cell_type": "code",
   "outputs": [
    {
     "data": {
      "text/plain": "         Unnamed: 0    TEMPERATURE\ncount  208085.00000  208085.000000\nmean   104042.00000      20.375972\nstd     60069.10972       5.586945\nmin         0.00000       1.300000\n25%     52021.00000      16.600000\n50%    104042.00000      20.900000\n75%    156063.00000      24.300000\nmax    208084.00000      42.400000",
      "text/html": "<div>\n<style scoped>\n    .dataframe tbody tr th:only-of-type {\n        vertical-align: middle;\n    }\n\n    .dataframe tbody tr th {\n        vertical-align: top;\n    }\n\n    .dataframe thead th {\n        text-align: right;\n    }\n</style>\n<table border=\"1\" class=\"dataframe\">\n  <thead>\n    <tr style=\"text-align: right;\">\n      <th></th>\n      <th>Unnamed: 0</th>\n      <th>TEMPERATURE</th>\n    </tr>\n  </thead>\n  <tbody>\n    <tr>\n      <th>count</th>\n      <td>208085.00000</td>\n      <td>208085.000000</td>\n    </tr>\n    <tr>\n      <th>mean</th>\n      <td>104042.00000</td>\n      <td>20.375972</td>\n    </tr>\n    <tr>\n      <th>std</th>\n      <td>60069.10972</td>\n      <td>5.586945</td>\n    </tr>\n    <tr>\n      <th>min</th>\n      <td>0.00000</td>\n      <td>1.300000</td>\n    </tr>\n    <tr>\n      <th>25%</th>\n      <td>52021.00000</td>\n      <td>16.600000</td>\n    </tr>\n    <tr>\n      <th>50%</th>\n      <td>104042.00000</td>\n      <td>20.900000</td>\n    </tr>\n    <tr>\n      <th>75%</th>\n      <td>156063.00000</td>\n      <td>24.300000</td>\n    </tr>\n    <tr>\n      <th>max</th>\n      <td>208084.00000</td>\n      <td>42.400000</td>\n    </tr>\n  </tbody>\n</table>\n</div>"
     },
     "execution_count": 53,
     "metadata": {},
     "output_type": "execute_result"
    }
   ],
   "source": [
    "sa_temperature.describe()"
   ],
   "metadata": {
    "collapsed": false,
    "ExecuteTime": {
     "end_time": "2024-03-14T11:36:03.978476Z",
     "start_time": "2024-03-14T11:36:03.962932Z"
    }
   },
   "id": "db818fa9f0103061",
   "execution_count": 53
  },
  {
   "cell_type": "code",
   "outputs": [
    {
     "data": {
      "text/plain": "(208085, 4)"
     },
     "execution_count": 54,
     "metadata": {},
     "output_type": "execute_result"
    }
   ],
   "source": [
    "sa_temperature.shape"
   ],
   "metadata": {
    "collapsed": false,
    "ExecuteTime": {
     "end_time": "2024-03-14T11:36:03.980974Z",
     "start_time": "2024-03-14T11:36:03.978997Z"
    }
   },
   "id": "d06abbfb86da04f1",
   "execution_count": 54
  },
  {
   "cell_type": "code",
   "outputs": [
    {
     "data": {
      "text/plain": "Unnamed: 0                        0\nLOCATION       Adelaide (Kent Town)\nDATETIME        2010-01-01 00:00:00\nTEMPERATURE                     1.3\ndtype: object"
     },
     "execution_count": 55,
     "metadata": {},
     "output_type": "execute_result"
    }
   ],
   "source": [
    "sa_temperature.min()"
   ],
   "metadata": {
    "collapsed": false,
    "ExecuteTime": {
     "end_time": "2024-03-14T11:36:04.010252Z",
     "start_time": "2024-03-14T11:36:03.981406Z"
    }
   },
   "id": "b5b62b4631d3a57",
   "execution_count": 55
  },
  {
   "cell_type": "code",
   "outputs": [
    {
     "data": {
      "text/plain": "Unnamed: 0                   208084\nLOCATION       Adelaide (Kent Town)\nDATETIME        2021-03-18 00:00:00\nTEMPERATURE                    42.4\ndtype: object"
     },
     "execution_count": 56,
     "metadata": {},
     "output_type": "execute_result"
    }
   ],
   "source": [
    "sa_temperature.max()"
   ],
   "metadata": {
    "collapsed": false,
    "ExecuteTime": {
     "end_time": "2024-03-14T11:36:04.030122Z",
     "start_time": "2024-03-14T11:36:04.010762Z"
    }
   },
   "id": "cd1225b419a53d81",
   "execution_count": 56
  },
  {
   "cell_type": "code",
   "outputs": [
    {
     "data": {
      "text/plain": "Unnamed: 0     0\nLOCATION       0\nDATETIME       0\nTEMPERATURE    0\ndtype: int64"
     },
     "execution_count": 57,
     "metadata": {},
     "output_type": "execute_result"
    }
   ],
   "source": [
    "sa_temperature.isnull().sum()"
   ],
   "metadata": {
    "collapsed": false,
    "ExecuteTime": {
     "end_time": "2024-03-14T11:36:04.041326Z",
     "start_time": "2024-03-14T11:36:04.030652Z"
    }
   },
   "id": "bd9e0cf7ac3f2d6e",
   "execution_count": 57
  },
  {
   "cell_type": "code",
   "outputs": [
    {
     "data": {
      "text/plain": "Unnamed: 0     0\nLOCATION       0\nDATETIME       0\nTEMPERATURE    0\ndtype: int64"
     },
     "execution_count": 58,
     "metadata": {},
     "output_type": "execute_result"
    }
   ],
   "source": [
    "sa_temperature.isna().sum()"
   ],
   "metadata": {
    "collapsed": false,
    "ExecuteTime": {
     "end_time": "2024-03-14T11:36:04.053309Z",
     "start_time": "2024-03-14T11:36:04.041867Z"
    }
   },
   "id": "7ccd7affccb4c900",
   "execution_count": 58
  },
  {
   "cell_type": "code",
   "outputs": [
    {
     "data": {
      "text/plain": "Unnamed: 0     208085\nLOCATION            1\nDATETIME       208085\nTEMPERATURE       391\ndtype: int64"
     },
     "execution_count": 59,
     "metadata": {},
     "output_type": "execute_result"
    }
   ],
   "source": [
    "sa_temperature.nunique()"
   ],
   "metadata": {
    "collapsed": false,
    "ExecuteTime": {
     "end_time": "2024-03-14T11:36:04.087417Z",
     "start_time": "2024-03-14T11:36:04.053937Z"
    }
   },
   "id": "bf2bfb0e59e80941",
   "execution_count": 59
  },
  {
   "cell_type": "code",
   "outputs": [
    {
     "data": {
      "text/plain": "Unnamed: 0       int64\nLOCATION        object\nDATETIME        object\nTEMPERATURE    float64\ndtype: object"
     },
     "execution_count": 60,
     "metadata": {},
     "output_type": "execute_result"
    }
   ],
   "source": [
    "sa_temperature.dtypes"
   ],
   "metadata": {
    "collapsed": false,
    "ExecuteTime": {
     "end_time": "2024-03-14T11:36:04.090345Z",
     "start_time": "2024-03-14T11:36:04.087999Z"
    }
   },
   "id": "258e3608509aeee8",
   "execution_count": 60
  },
  {
   "cell_type": "markdown",
   "source": [
    "## Victoria Temperature"
   ],
   "metadata": {
    "collapsed": false
   },
   "id": "4b6a0150c78d5dcf"
  },
  {
   "cell_type": "code",
   "outputs": [],
   "source": [
    "vic_temperature = pd.read_csv(os.path.join(data_path, 'Australia', 'd', 'temprature_vic.csv'))"
   ],
   "metadata": {
    "collapsed": false,
    "ExecuteTime": {
     "end_time": "2024-03-14T11:36:04.147039Z",
     "start_time": "2024-03-14T11:36:04.090804Z"
    }
   },
   "id": "de740b5c40b6d60b",
   "execution_count": 61
  },
  {
   "cell_type": "code",
   "outputs": [
    {
     "data": {
      "text/plain": "                   LOCATION          DATETIME  TEMPERATURE\n0  Melbourne (Olympic Park)  31/05/2013 15:00         18.2\n1  Melbourne (Olympic Park)  31/05/2013 15:30         18.3\n2  Melbourne (Olympic Park)  31/05/2013 16:00         18.3\n3  Melbourne (Olympic Park)  31/05/2013 16:30         18.3\n4  Melbourne (Olympic Park)  31/05/2013 17:00         18.2",
      "text/html": "<div>\n<style scoped>\n    .dataframe tbody tr th:only-of-type {\n        vertical-align: middle;\n    }\n\n    .dataframe tbody tr th {\n        vertical-align: top;\n    }\n\n    .dataframe thead th {\n        text-align: right;\n    }\n</style>\n<table border=\"1\" class=\"dataframe\">\n  <thead>\n    <tr style=\"text-align: right;\">\n      <th></th>\n      <th>LOCATION</th>\n      <th>DATETIME</th>\n      <th>TEMPERATURE</th>\n    </tr>\n  </thead>\n  <tbody>\n    <tr>\n      <th>0</th>\n      <td>Melbourne (Olympic Park)</td>\n      <td>31/05/2013 15:00</td>\n      <td>18.2</td>\n    </tr>\n    <tr>\n      <th>1</th>\n      <td>Melbourne (Olympic Park)</td>\n      <td>31/05/2013 15:30</td>\n      <td>18.3</td>\n    </tr>\n    <tr>\n      <th>2</th>\n      <td>Melbourne (Olympic Park)</td>\n      <td>31/05/2013 16:00</td>\n      <td>18.3</td>\n    </tr>\n    <tr>\n      <th>3</th>\n      <td>Melbourne (Olympic Park)</td>\n      <td>31/05/2013 16:30</td>\n      <td>18.3</td>\n    </tr>\n    <tr>\n      <th>4</th>\n      <td>Melbourne (Olympic Park)</td>\n      <td>31/05/2013 17:00</td>\n      <td>18.2</td>\n    </tr>\n  </tbody>\n</table>\n</div>"
     },
     "execution_count": 62,
     "metadata": {},
     "output_type": "execute_result"
    }
   ],
   "source": [
    "vic_temperature.head()"
   ],
   "metadata": {
    "collapsed": false,
    "ExecuteTime": {
     "end_time": "2024-03-14T11:36:04.151304Z",
     "start_time": "2024-03-14T11:36:04.147632Z"
    }
   },
   "id": "70c891e186020566",
   "execution_count": 62
  },
  {
   "cell_type": "code",
   "outputs": [
    {
     "data": {
      "text/plain": "                        LOCATION          DATETIME  TEMPERATURE\n141676  Melbourne (Olympic Park)  17/03/2021 22:00         18.9\n141677  Melbourne (Olympic Park)  17/03/2021 22:30         17.9\n141678  Melbourne (Olympic Park)  17/03/2021 23:00         17.3\n141679  Melbourne (Olympic Park)  17/03/2021 23:30         16.6\n141680  Melbourne (Olympic Park)   18/03/2021 0:00         15.8",
      "text/html": "<div>\n<style scoped>\n    .dataframe tbody tr th:only-of-type {\n        vertical-align: middle;\n    }\n\n    .dataframe tbody tr th {\n        vertical-align: top;\n    }\n\n    .dataframe thead th {\n        text-align: right;\n    }\n</style>\n<table border=\"1\" class=\"dataframe\">\n  <thead>\n    <tr style=\"text-align: right;\">\n      <th></th>\n      <th>LOCATION</th>\n      <th>DATETIME</th>\n      <th>TEMPERATURE</th>\n    </tr>\n  </thead>\n  <tbody>\n    <tr>\n      <th>141676</th>\n      <td>Melbourne (Olympic Park)</td>\n      <td>17/03/2021 22:00</td>\n      <td>18.9</td>\n    </tr>\n    <tr>\n      <th>141677</th>\n      <td>Melbourne (Olympic Park)</td>\n      <td>17/03/2021 22:30</td>\n      <td>17.9</td>\n    </tr>\n    <tr>\n      <th>141678</th>\n      <td>Melbourne (Olympic Park)</td>\n      <td>17/03/2021 23:00</td>\n      <td>17.3</td>\n    </tr>\n    <tr>\n      <th>141679</th>\n      <td>Melbourne (Olympic Park)</td>\n      <td>17/03/2021 23:30</td>\n      <td>16.6</td>\n    </tr>\n    <tr>\n      <th>141680</th>\n      <td>Melbourne (Olympic Park)</td>\n      <td>18/03/2021 0:00</td>\n      <td>15.8</td>\n    </tr>\n  </tbody>\n</table>\n</div>"
     },
     "execution_count": 63,
     "metadata": {},
     "output_type": "execute_result"
    }
   ],
   "source": [
    "vic_temperature.tail()"
   ],
   "metadata": {
    "collapsed": false,
    "ExecuteTime": {
     "end_time": "2024-03-14T11:36:04.156381Z",
     "start_time": "2024-03-14T11:36:04.151771Z"
    }
   },
   "id": "cad113d642a23bd4",
   "execution_count": 63
  },
  {
   "cell_type": "code",
   "outputs": [
    {
     "name": "stdout",
     "output_type": "stream",
     "text": [
      "<class 'pandas.core.frame.DataFrame'>\n",
      "RangeIndex: 141681 entries, 0 to 141680\n",
      "Data columns (total 3 columns):\n",
      " #   Column       Non-Null Count   Dtype  \n",
      "---  ------       --------------   -----  \n",
      " 0   LOCATION     141681 non-null  object \n",
      " 1   DATETIME     141681 non-null  object \n",
      " 2   TEMPERATURE  141681 non-null  float64\n",
      "dtypes: float64(1), object(2)\n",
      "memory usage: 3.2+ MB\n"
     ]
    }
   ],
   "source": [
    "vic_temperature.info()"
   ],
   "metadata": {
    "collapsed": false,
    "ExecuteTime": {
     "end_time": "2024-03-14T11:36:04.167204Z",
     "start_time": "2024-03-14T11:36:04.156837Z"
    }
   },
   "id": "35e447770d8fee3c",
   "execution_count": 64
  },
  {
   "cell_type": "code",
   "outputs": [
    {
     "data": {
      "text/plain": "         TEMPERATURE\ncount  141681.000000\nmean       15.711337\nstd         5.637641\nmin         0.800000\n25%        11.800000\n50%        14.900000\n75%        18.700000\nmax        43.300000",
      "text/html": "<div>\n<style scoped>\n    .dataframe tbody tr th:only-of-type {\n        vertical-align: middle;\n    }\n\n    .dataframe tbody tr th {\n        vertical-align: top;\n    }\n\n    .dataframe thead th {\n        text-align: right;\n    }\n</style>\n<table border=\"1\" class=\"dataframe\">\n  <thead>\n    <tr style=\"text-align: right;\">\n      <th></th>\n      <th>TEMPERATURE</th>\n    </tr>\n  </thead>\n  <tbody>\n    <tr>\n      <th>count</th>\n      <td>141681.000000</td>\n    </tr>\n    <tr>\n      <th>mean</th>\n      <td>15.711337</td>\n    </tr>\n    <tr>\n      <th>std</th>\n      <td>5.637641</td>\n    </tr>\n    <tr>\n      <th>min</th>\n      <td>0.800000</td>\n    </tr>\n    <tr>\n      <th>25%</th>\n      <td>11.800000</td>\n    </tr>\n    <tr>\n      <th>50%</th>\n      <td>14.900000</td>\n    </tr>\n    <tr>\n      <th>75%</th>\n      <td>18.700000</td>\n    </tr>\n    <tr>\n      <th>max</th>\n      <td>43.300000</td>\n    </tr>\n  </tbody>\n</table>\n</div>"
     },
     "execution_count": 65,
     "metadata": {},
     "output_type": "execute_result"
    }
   ],
   "source": [
    "vic_temperature.describe()"
   ],
   "metadata": {
    "collapsed": false,
    "ExecuteTime": {
     "end_time": "2024-03-14T11:36:04.179206Z",
     "start_time": "2024-03-14T11:36:04.167756Z"
    }
   },
   "id": "4b34f60260060330",
   "execution_count": 65
  },
  {
   "cell_type": "code",
   "outputs": [
    {
     "data": {
      "text/plain": "(141681, 3)"
     },
     "execution_count": 66,
     "metadata": {},
     "output_type": "execute_result"
    }
   ],
   "source": [
    "vic_temperature.shape"
   ],
   "metadata": {
    "collapsed": false,
    "ExecuteTime": {
     "end_time": "2024-03-14T11:36:04.184927Z",
     "start_time": "2024-03-14T11:36:04.179701Z"
    }
   },
   "id": "b0fef9283d61fba8",
   "execution_count": 66
  },
  {
   "cell_type": "code",
   "outputs": [
    {
     "data": {
      "text/plain": "LOCATION       Melbourne (Olympic Park)\nDATETIME                 1/01/2014 0:00\nTEMPERATURE                         0.8\ndtype: object"
     },
     "execution_count": 67,
     "metadata": {},
     "output_type": "execute_result"
    }
   ],
   "source": [
    "vic_temperature.min()"
   ],
   "metadata": {
    "collapsed": false,
    "ExecuteTime": {
     "end_time": "2024-03-14T11:36:04.205765Z",
     "start_time": "2024-03-14T11:36:04.185371Z"
    }
   },
   "id": "2f703d39d6aebe82",
   "execution_count": 67
  },
  {
   "cell_type": "code",
   "outputs": [
    {
     "data": {
      "text/plain": "LOCATION       Melbourne (Olympic Park)\nDATETIME                 9/12/2020 9:30\nTEMPERATURE                        43.3\ndtype: object"
     },
     "execution_count": 68,
     "metadata": {},
     "output_type": "execute_result"
    }
   ],
   "source": [
    "vic_temperature.max()"
   ],
   "metadata": {
    "collapsed": false,
    "ExecuteTime": {
     "end_time": "2024-03-14T11:36:04.223791Z",
     "start_time": "2024-03-14T11:36:04.206261Z"
    }
   },
   "id": "e6f3c616c9851906",
   "execution_count": 68
  },
  {
   "cell_type": "code",
   "outputs": [
    {
     "data": {
      "text/plain": "LOCATION       0\nDATETIME       0\nTEMPERATURE    0\ndtype: int64"
     },
     "execution_count": 69,
     "metadata": {},
     "output_type": "execute_result"
    }
   ],
   "source": [
    "vic_temperature.isnull().sum()"
   ],
   "metadata": {
    "collapsed": false,
    "ExecuteTime": {
     "end_time": "2024-03-14T11:36:04.238792Z",
     "start_time": "2024-03-14T11:36:04.224324Z"
    }
   },
   "id": "9a6a87d9bc367223",
   "execution_count": 69
  },
  {
   "cell_type": "code",
   "outputs": [
    {
     "data": {
      "text/plain": "LOCATION       0\nDATETIME       0\nTEMPERATURE    0\ndtype: int64"
     },
     "execution_count": 70,
     "metadata": {},
     "output_type": "execute_result"
    }
   ],
   "source": [
    "vic_temperature.isna().sum()"
   ],
   "metadata": {
    "collapsed": false,
    "ExecuteTime": {
     "end_time": "2024-03-14T11:36:04.254345Z",
     "start_time": "2024-03-14T11:36:04.239467Z"
    }
   },
   "id": "22b22a29aa039bc0",
   "execution_count": 70
  },
  {
   "cell_type": "code",
   "outputs": [
    {
     "data": {
      "text/plain": "LOCATION            1\nDATETIME       141681\nTEMPERATURE       424\ndtype: int64"
     },
     "execution_count": 71,
     "metadata": {},
     "output_type": "execute_result"
    }
   ],
   "source": [
    "vic_temperature.nunique()"
   ],
   "metadata": {
    "collapsed": false,
    "ExecuteTime": {
     "end_time": "2024-03-14T11:36:04.282171Z",
     "start_time": "2024-03-14T11:36:04.254884Z"
    }
   },
   "id": "d6cc129d2837af82",
   "execution_count": 71
  },
  {
   "cell_type": "code",
   "outputs": [
    {
     "data": {
      "text/plain": "LOCATION        object\nDATETIME        object\nTEMPERATURE    float64\ndtype: object"
     },
     "execution_count": 72,
     "metadata": {},
     "output_type": "execute_result"
    }
   ],
   "source": [
    "vic_temperature.dtypes"
   ],
   "metadata": {
    "collapsed": false,
    "ExecuteTime": {
     "end_time": "2024-03-14T11:36:04.284834Z",
     "start_time": "2024-03-14T11:36:04.282671Z"
    }
   },
   "id": "99cc85a417da565c",
   "execution_count": 72
  },
  {
   "cell_type": "markdown",
   "source": [
    "## QLD Total Demand"
   ],
   "metadata": {
    "collapsed": false
   },
   "id": "f20d638f38e23992"
  },
  {
   "cell_type": "code",
   "outputs": [],
   "source": [
    "qld_totaldemand = pd.read_csv(os.path.join(data_path, 'Australia', 'd', 'totaldemand_qld.csv'))"
   ],
   "metadata": {
    "collapsed": false,
    "ExecuteTime": {
     "end_time": "2024-03-14T11:36:04.355617Z",
     "start_time": "2024-03-14T11:36:04.285277Z"
    }
   },
   "id": "bf47836f1c34ec11",
   "execution_count": 73
  },
  {
   "cell_type": "code",
   "outputs": [
    {
     "data": {
      "text/plain": "              DATETIME  TOTALDEMAND REGIONID\n0  2010-01-01 00:00:00      5561.21     QLD1\n1  2010-01-01 00:30:00      5422.25     QLD1\n2  2010-01-01 01:00:00      5315.98     QLD1\n3  2010-01-01 01:30:00      5186.70     QLD1\n4  2010-01-01 02:00:00      5050.83     QLD1",
      "text/html": "<div>\n<style scoped>\n    .dataframe tbody tr th:only-of-type {\n        vertical-align: middle;\n    }\n\n    .dataframe tbody tr th {\n        vertical-align: top;\n    }\n\n    .dataframe thead th {\n        text-align: right;\n    }\n</style>\n<table border=\"1\" class=\"dataframe\">\n  <thead>\n    <tr style=\"text-align: right;\">\n      <th></th>\n      <th>DATETIME</th>\n      <th>TOTALDEMAND</th>\n      <th>REGIONID</th>\n    </tr>\n  </thead>\n  <tbody>\n    <tr>\n      <th>0</th>\n      <td>2010-01-01 00:00:00</td>\n      <td>5561.21</td>\n      <td>QLD1</td>\n    </tr>\n    <tr>\n      <th>1</th>\n      <td>2010-01-01 00:30:00</td>\n      <td>5422.25</td>\n      <td>QLD1</td>\n    </tr>\n    <tr>\n      <th>2</th>\n      <td>2010-01-01 01:00:00</td>\n      <td>5315.98</td>\n      <td>QLD1</td>\n    </tr>\n    <tr>\n      <th>3</th>\n      <td>2010-01-01 01:30:00</td>\n      <td>5186.70</td>\n      <td>QLD1</td>\n    </tr>\n    <tr>\n      <th>4</th>\n      <td>2010-01-01 02:00:00</td>\n      <td>5050.83</td>\n      <td>QLD1</td>\n    </tr>\n  </tbody>\n</table>\n</div>"
     },
     "execution_count": 74,
     "metadata": {},
     "output_type": "execute_result"
    }
   ],
   "source": [
    "qld_totaldemand.head()"
   ],
   "metadata": {
    "collapsed": false,
    "ExecuteTime": {
     "end_time": "2024-03-14T11:36:04.359909Z",
     "start_time": "2024-03-14T11:36:04.356222Z"
    }
   },
   "id": "2d741356595a9191",
   "execution_count": 74
  },
  {
   "cell_type": "code",
   "outputs": [
    {
     "data": {
      "text/plain": "                   DATETIME  TOTALDEMAND REGIONID\n196508  2021-03-17 22:00:00      6443.62     QLD1\n196509  2021-03-17 22:30:00      6264.63     QLD1\n196510  2021-03-17 23:00:00      6144.16     QLD1\n196511  2021-03-17 23:30:00      5897.64     QLD1\n196512  2021-03-18 00:00:00      5737.03     QLD1",
      "text/html": "<div>\n<style scoped>\n    .dataframe tbody tr th:only-of-type {\n        vertical-align: middle;\n    }\n\n    .dataframe tbody tr th {\n        vertical-align: top;\n    }\n\n    .dataframe thead th {\n        text-align: right;\n    }\n</style>\n<table border=\"1\" class=\"dataframe\">\n  <thead>\n    <tr style=\"text-align: right;\">\n      <th></th>\n      <th>DATETIME</th>\n      <th>TOTALDEMAND</th>\n      <th>REGIONID</th>\n    </tr>\n  </thead>\n  <tbody>\n    <tr>\n      <th>196508</th>\n      <td>2021-03-17 22:00:00</td>\n      <td>6443.62</td>\n      <td>QLD1</td>\n    </tr>\n    <tr>\n      <th>196509</th>\n      <td>2021-03-17 22:30:00</td>\n      <td>6264.63</td>\n      <td>QLD1</td>\n    </tr>\n    <tr>\n      <th>196510</th>\n      <td>2021-03-17 23:00:00</td>\n      <td>6144.16</td>\n      <td>QLD1</td>\n    </tr>\n    <tr>\n      <th>196511</th>\n      <td>2021-03-17 23:30:00</td>\n      <td>5897.64</td>\n      <td>QLD1</td>\n    </tr>\n    <tr>\n      <th>196512</th>\n      <td>2021-03-18 00:00:00</td>\n      <td>5737.03</td>\n      <td>QLD1</td>\n    </tr>\n  </tbody>\n</table>\n</div>"
     },
     "execution_count": 75,
     "metadata": {},
     "output_type": "execute_result"
    }
   ],
   "source": [
    "qld_totaldemand.tail()"
   ],
   "metadata": {
    "collapsed": false,
    "ExecuteTime": {
     "end_time": "2024-03-14T11:36:04.364836Z",
     "start_time": "2024-03-14T11:36:04.360364Z"
    }
   },
   "id": "52e89422d6050c4b",
   "execution_count": 75
  },
  {
   "cell_type": "code",
   "outputs": [
    {
     "name": "stdout",
     "output_type": "stream",
     "text": [
      "<class 'pandas.core.frame.DataFrame'>\n",
      "RangeIndex: 196513 entries, 0 to 196512\n",
      "Data columns (total 3 columns):\n",
      " #   Column       Non-Null Count   Dtype  \n",
      "---  ------       --------------   -----  \n",
      " 0   DATETIME     196513 non-null  object \n",
      " 1   TOTALDEMAND  196513 non-null  float64\n",
      " 2   REGIONID     196513 non-null  object \n",
      "dtypes: float64(1), object(2)\n",
      "memory usage: 4.5+ MB\n"
     ]
    }
   ],
   "source": [
    "qld_totaldemand.info()"
   ],
   "metadata": {
    "collapsed": false,
    "ExecuteTime": {
     "end_time": "2024-03-14T11:36:04.377912Z",
     "start_time": "2024-03-14T11:36:04.365282Z"
    }
   },
   "id": "86afe48fd55ccdc",
   "execution_count": 76
  },
  {
   "cell_type": "code",
   "outputs": [
    {
     "data": {
      "text/plain": "         TOTALDEMAND\ncount  196513.000000\nmean     6026.545773\nstd       868.481406\nmin      3748.240000\n25%      5368.770000\n50%      5993.590000\n75%      6601.290000\nmax      9988.090000",
      "text/html": "<div>\n<style scoped>\n    .dataframe tbody tr th:only-of-type {\n        vertical-align: middle;\n    }\n\n    .dataframe tbody tr th {\n        vertical-align: top;\n    }\n\n    .dataframe thead th {\n        text-align: right;\n    }\n</style>\n<table border=\"1\" class=\"dataframe\">\n  <thead>\n    <tr style=\"text-align: right;\">\n      <th></th>\n      <th>TOTALDEMAND</th>\n    </tr>\n  </thead>\n  <tbody>\n    <tr>\n      <th>count</th>\n      <td>196513.000000</td>\n    </tr>\n    <tr>\n      <th>mean</th>\n      <td>6026.545773</td>\n    </tr>\n    <tr>\n      <th>std</th>\n      <td>868.481406</td>\n    </tr>\n    <tr>\n      <th>min</th>\n      <td>3748.240000</td>\n    </tr>\n    <tr>\n      <th>25%</th>\n      <td>5368.770000</td>\n    </tr>\n    <tr>\n      <th>50%</th>\n      <td>5993.590000</td>\n    </tr>\n    <tr>\n      <th>75%</th>\n      <td>6601.290000</td>\n    </tr>\n    <tr>\n      <th>max</th>\n      <td>9988.090000</td>\n    </tr>\n  </tbody>\n</table>\n</div>"
     },
     "execution_count": 77,
     "metadata": {},
     "output_type": "execute_result"
    }
   ],
   "source": [
    "qld_totaldemand.describe()"
   ],
   "metadata": {
    "collapsed": false,
    "ExecuteTime": {
     "end_time": "2024-03-14T11:36:04.385577Z",
     "start_time": "2024-03-14T11:36:04.378441Z"
    }
   },
   "id": "c6fddd6f866f5ca1",
   "execution_count": 77
  },
  {
   "cell_type": "code",
   "outputs": [
    {
     "data": {
      "text/plain": "(196513, 3)"
     },
     "execution_count": 78,
     "metadata": {},
     "output_type": "execute_result"
    }
   ],
   "source": [
    "qld_totaldemand.shape"
   ],
   "metadata": {
    "collapsed": false,
    "ExecuteTime": {
     "end_time": "2024-03-14T11:36:04.387979Z",
     "start_time": "2024-03-14T11:36:04.386191Z"
    }
   },
   "id": "f95f761b73b3653b",
   "execution_count": 78
  },
  {
   "cell_type": "code",
   "outputs": [
    {
     "data": {
      "text/plain": "DATETIME       2010-01-01 00:00:00\nTOTALDEMAND                3748.24\nREGIONID                      QLD1\ndtype: object"
     },
     "execution_count": 79,
     "metadata": {},
     "output_type": "execute_result"
    }
   ],
   "source": [
    "qld_totaldemand.min()"
   ],
   "metadata": {
    "collapsed": false,
    "ExecuteTime": {
     "end_time": "2024-03-14T11:36:04.403686Z",
     "start_time": "2024-03-14T11:36:04.388535Z"
    }
   },
   "id": "271ff63c6d26c3e5",
   "execution_count": 79
  },
  {
   "cell_type": "code",
   "outputs": [
    {
     "data": {
      "text/plain": "DATETIME       2021-03-18 00:00:00\nTOTALDEMAND                9988.09\nREGIONID                      QLD1\ndtype: object"
     },
     "execution_count": 80,
     "metadata": {},
     "output_type": "execute_result"
    }
   ],
   "source": [
    "qld_totaldemand.max()"
   ],
   "metadata": {
    "collapsed": false,
    "ExecuteTime": {
     "end_time": "2024-03-14T11:36:04.418573Z",
     "start_time": "2024-03-14T11:36:04.404283Z"
    }
   },
   "id": "6152177e0f02b07c",
   "execution_count": 80
  },
  {
   "cell_type": "code",
   "outputs": [
    {
     "data": {
      "text/plain": "DATETIME       0\nTOTALDEMAND    0\nREGIONID       0\ndtype: int64"
     },
     "execution_count": 81,
     "metadata": {},
     "output_type": "execute_result"
    }
   ],
   "source": [
    "qld_totaldemand.isnull().sum()"
   ],
   "metadata": {
    "collapsed": false,
    "ExecuteTime": {
     "end_time": "2024-03-14T11:36:04.429994Z",
     "start_time": "2024-03-14T11:36:04.419256Z"
    }
   },
   "id": "c7b39e151f95c7df",
   "execution_count": 81
  },
  {
   "cell_type": "code",
   "outputs": [
    {
     "data": {
      "text/plain": "DATETIME       0\nTOTALDEMAND    0\nREGIONID       0\ndtype: int64"
     },
     "execution_count": 82,
     "metadata": {},
     "output_type": "execute_result"
    }
   ],
   "source": [
    "qld_totaldemand.isna().sum()"
   ],
   "metadata": {
    "collapsed": false,
    "ExecuteTime": {
     "end_time": "2024-03-14T11:36:04.447200Z",
     "start_time": "2024-03-14T11:36:04.430612Z"
    }
   },
   "id": "d671939c1db5c31d",
   "execution_count": 82
  },
  {
   "cell_type": "code",
   "outputs": [
    {
     "data": {
      "text/plain": "DATETIME       196513\nTOTALDEMAND    146678\nREGIONID            1\ndtype: int64"
     },
     "execution_count": 83,
     "metadata": {},
     "output_type": "execute_result"
    }
   ],
   "source": [
    "qld_totaldemand.nunique()"
   ],
   "metadata": {
    "collapsed": false,
    "ExecuteTime": {
     "end_time": "2024-03-14T11:36:04.490354Z",
     "start_time": "2024-03-14T11:36:04.447792Z"
    }
   },
   "id": "3ebd9e1551d5d033",
   "execution_count": 83
  },
  {
   "cell_type": "code",
   "outputs": [
    {
     "data": {
      "text/plain": "DATETIME        object\nTOTALDEMAND    float64\nREGIONID        object\ndtype: object"
     },
     "execution_count": 84,
     "metadata": {},
     "output_type": "execute_result"
    }
   ],
   "source": [
    "qld_totaldemand.dtypes"
   ],
   "metadata": {
    "collapsed": false,
    "ExecuteTime": {
     "end_time": "2024-03-14T11:36:04.496712Z",
     "start_time": "2024-03-14T11:36:04.494218Z"
    }
   },
   "id": "7e9929b26f76ec45",
   "execution_count": 84
  },
  {
   "cell_type": "markdown",
   "source": [
    "## SA Total Demand"
   ],
   "metadata": {
    "collapsed": false
   },
   "id": "aa04570f6bad42f3"
  },
  {
   "cell_type": "code",
   "outputs": [],
   "source": [
    "sa_totaldemand = pd.read_csv(os.path.join(data_path, 'Australia', 'd', 'totaldemand_sa.csv'))"
   ],
   "metadata": {
    "collapsed": false,
    "ExecuteTime": {
     "end_time": "2024-03-14T11:36:04.575202Z",
     "start_time": "2024-03-14T11:36:04.497227Z"
    }
   },
   "id": "809033d96c1e868",
   "execution_count": 85
  },
  {
   "cell_type": "code",
   "outputs": [
    {
     "data": {
      "text/plain": "              DATETIME  TOTALDEMAND REGIONID\n0  2010-01-01 00:30:00      1385.23      SA1\n1  2010-01-01 01:00:00      1338.53      SA1\n2  2010-01-01 01:30:00      1260.39      SA1\n3  2010-01-01 02:00:00      1189.31      SA1\n4  2010-01-01 02:30:00      1141.12      SA1",
      "text/html": "<div>\n<style scoped>\n    .dataframe tbody tr th:only-of-type {\n        vertical-align: middle;\n    }\n\n    .dataframe tbody tr th {\n        vertical-align: top;\n    }\n\n    .dataframe thead th {\n        text-align: right;\n    }\n</style>\n<table border=\"1\" class=\"dataframe\">\n  <thead>\n    <tr style=\"text-align: right;\">\n      <th></th>\n      <th>DATETIME</th>\n      <th>TOTALDEMAND</th>\n      <th>REGIONID</th>\n    </tr>\n  </thead>\n  <tbody>\n    <tr>\n      <th>0</th>\n      <td>2010-01-01 00:30:00</td>\n      <td>1385.23</td>\n      <td>SA1</td>\n    </tr>\n    <tr>\n      <th>1</th>\n      <td>2010-01-01 01:00:00</td>\n      <td>1338.53</td>\n      <td>SA1</td>\n    </tr>\n    <tr>\n      <th>2</th>\n      <td>2010-01-01 01:30:00</td>\n      <td>1260.39</td>\n      <td>SA1</td>\n    </tr>\n    <tr>\n      <th>3</th>\n      <td>2010-01-01 02:00:00</td>\n      <td>1189.31</td>\n      <td>SA1</td>\n    </tr>\n    <tr>\n      <th>4</th>\n      <td>2010-01-01 02:30:00</td>\n      <td>1141.12</td>\n      <td>SA1</td>\n    </tr>\n  </tbody>\n</table>\n</div>"
     },
     "execution_count": 86,
     "metadata": {},
     "output_type": "execute_result"
    }
   ],
   "source": [
    "sa_totaldemand.head()"
   ],
   "metadata": {
    "collapsed": false,
    "ExecuteTime": {
     "end_time": "2024-03-14T11:36:04.579685Z",
     "start_time": "2024-03-14T11:36:04.575836Z"
    }
   },
   "id": "7972e25dc1e7d0b1",
   "execution_count": 86
  },
  {
   "cell_type": "code",
   "outputs": [
    {
     "data": {
      "text/plain": "                   DATETIME  TOTALDEMAND REGIONID\n196507  2021-03-17 22:00:00      1277.91      SA1\n196508  2021-03-17 22:30:00      1226.81      SA1\n196509  2021-03-17 23:00:00      1202.62      SA1\n196510  2021-03-17 23:30:00      1194.34      SA1\n196511  2021-03-18 00:00:00      1340.58      SA1",
      "text/html": "<div>\n<style scoped>\n    .dataframe tbody tr th:only-of-type {\n        vertical-align: middle;\n    }\n\n    .dataframe tbody tr th {\n        vertical-align: top;\n    }\n\n    .dataframe thead th {\n        text-align: right;\n    }\n</style>\n<table border=\"1\" class=\"dataframe\">\n  <thead>\n    <tr style=\"text-align: right;\">\n      <th></th>\n      <th>DATETIME</th>\n      <th>TOTALDEMAND</th>\n      <th>REGIONID</th>\n    </tr>\n  </thead>\n  <tbody>\n    <tr>\n      <th>196507</th>\n      <td>2021-03-17 22:00:00</td>\n      <td>1277.91</td>\n      <td>SA1</td>\n    </tr>\n    <tr>\n      <th>196508</th>\n      <td>2021-03-17 22:30:00</td>\n      <td>1226.81</td>\n      <td>SA1</td>\n    </tr>\n    <tr>\n      <th>196509</th>\n      <td>2021-03-17 23:00:00</td>\n      <td>1202.62</td>\n      <td>SA1</td>\n    </tr>\n    <tr>\n      <th>196510</th>\n      <td>2021-03-17 23:30:00</td>\n      <td>1194.34</td>\n      <td>SA1</td>\n    </tr>\n    <tr>\n      <th>196511</th>\n      <td>2021-03-18 00:00:00</td>\n      <td>1340.58</td>\n      <td>SA1</td>\n    </tr>\n  </tbody>\n</table>\n</div>"
     },
     "execution_count": 87,
     "metadata": {},
     "output_type": "execute_result"
    }
   ],
   "source": [
    "sa_totaldemand.tail()"
   ],
   "metadata": {
    "collapsed": false,
    "ExecuteTime": {
     "end_time": "2024-03-14T11:36:04.584911Z",
     "start_time": "2024-03-14T11:36:04.580135Z"
    }
   },
   "id": "f37386c9159737b",
   "execution_count": 87
  },
  {
   "cell_type": "code",
   "outputs": [
    {
     "name": "stdout",
     "output_type": "stream",
     "text": [
      "<class 'pandas.core.frame.DataFrame'>\n",
      "RangeIndex: 196512 entries, 0 to 196511\n",
      "Data columns (total 3 columns):\n",
      " #   Column       Non-Null Count   Dtype  \n",
      "---  ------       --------------   -----  \n",
      " 0   DATETIME     196512 non-null  object \n",
      " 1   TOTALDEMAND  196512 non-null  float64\n",
      " 2   REGIONID     196512 non-null  object \n",
      "dtypes: float64(1), object(2)\n",
      "memory usage: 4.5+ MB\n"
     ]
    }
   ],
   "source": [
    "sa_totaldemand.info()"
   ],
   "metadata": {
    "collapsed": false,
    "ExecuteTime": {
     "end_time": "2024-03-14T11:36:04.598099Z",
     "start_time": "2024-03-14T11:36:04.585364Z"
    }
   },
   "id": "92be34c822d062bd",
   "execution_count": 88
  },
  {
   "cell_type": "code",
   "outputs": [
    {
     "data": {
      "text/plain": "         TOTALDEMAND\ncount  196512.000000\nmean     1383.901566\nstd       326.494153\nmin        21.890000\n25%      1164.480000\n50%      1346.140000\n75%      1567.342500\nmax      3385.420000",
      "text/html": "<div>\n<style scoped>\n    .dataframe tbody tr th:only-of-type {\n        vertical-align: middle;\n    }\n\n    .dataframe tbody tr th {\n        vertical-align: top;\n    }\n\n    .dataframe thead th {\n        text-align: right;\n    }\n</style>\n<table border=\"1\" class=\"dataframe\">\n  <thead>\n    <tr style=\"text-align: right;\">\n      <th></th>\n      <th>TOTALDEMAND</th>\n    </tr>\n  </thead>\n  <tbody>\n    <tr>\n      <th>count</th>\n      <td>196512.000000</td>\n    </tr>\n    <tr>\n      <th>mean</th>\n      <td>1383.901566</td>\n    </tr>\n    <tr>\n      <th>std</th>\n      <td>326.494153</td>\n    </tr>\n    <tr>\n      <th>min</th>\n      <td>21.890000</td>\n    </tr>\n    <tr>\n      <th>25%</th>\n      <td>1164.480000</td>\n    </tr>\n    <tr>\n      <th>50%</th>\n      <td>1346.140000</td>\n    </tr>\n    <tr>\n      <th>75%</th>\n      <td>1567.342500</td>\n    </tr>\n    <tr>\n      <th>max</th>\n      <td>3385.420000</td>\n    </tr>\n  </tbody>\n</table>\n</div>"
     },
     "execution_count": 89,
     "metadata": {},
     "output_type": "execute_result"
    }
   ],
   "source": [
    "sa_totaldemand.describe()"
   ],
   "metadata": {
    "collapsed": false,
    "ExecuteTime": {
     "end_time": "2024-03-14T11:36:04.605310Z",
     "start_time": "2024-03-14T11:36:04.598582Z"
    }
   },
   "id": "49968faa5518d3a5",
   "execution_count": 89
  },
  {
   "cell_type": "code",
   "outputs": [
    {
     "data": {
      "text/plain": "(196512, 3)"
     },
     "execution_count": 90,
     "metadata": {},
     "output_type": "execute_result"
    }
   ],
   "source": [
    "sa_totaldemand.shape"
   ],
   "metadata": {
    "collapsed": false,
    "ExecuteTime": {
     "end_time": "2024-03-14T11:36:04.607600Z",
     "start_time": "2024-03-14T11:36:04.605766Z"
    }
   },
   "id": "6c01eebb7dd52c62",
   "execution_count": 90
  },
  {
   "cell_type": "code",
   "outputs": [
    {
     "data": {
      "text/plain": "DATETIME       2010-01-01 00:30:00\nTOTALDEMAND                  21.89\nREGIONID                       SA1\ndtype: object"
     },
     "execution_count": 91,
     "metadata": {},
     "output_type": "execute_result"
    }
   ],
   "source": [
    "sa_totaldemand.min()"
   ],
   "metadata": {
    "collapsed": false,
    "ExecuteTime": {
     "end_time": "2024-03-14T11:36:04.623110Z",
     "start_time": "2024-03-14T11:36:04.608058Z"
    }
   },
   "id": "10daa7f0389295c0",
   "execution_count": 91
  },
  {
   "cell_type": "code",
   "outputs": [
    {
     "data": {
      "text/plain": "DATETIME       2021-03-18 00:00:00\nTOTALDEMAND                3385.42\nREGIONID                       SA1\ndtype: object"
     },
     "execution_count": 92,
     "metadata": {},
     "output_type": "execute_result"
    }
   ],
   "source": [
    "sa_totaldemand.max()"
   ],
   "metadata": {
    "collapsed": false,
    "ExecuteTime": {
     "end_time": "2024-03-14T11:36:04.637493Z",
     "start_time": "2024-03-14T11:36:04.623624Z"
    }
   },
   "id": "282a3d9e2e47d14a",
   "execution_count": 92
  },
  {
   "cell_type": "code",
   "outputs": [
    {
     "data": {
      "text/plain": "DATETIME       0\nTOTALDEMAND    0\nREGIONID       0\ndtype: int64"
     },
     "execution_count": 93,
     "metadata": {},
     "output_type": "execute_result"
    }
   ],
   "source": [
    "sa_totaldemand.isnull().sum()"
   ],
   "metadata": {
    "collapsed": false,
    "ExecuteTime": {
     "end_time": "2024-03-14T11:36:04.651198Z",
     "start_time": "2024-03-14T11:36:04.637999Z"
    }
   },
   "id": "5053d71deeb557ad",
   "execution_count": 93
  },
  {
   "cell_type": "code",
   "outputs": [
    {
     "data": {
      "text/plain": "DATETIME       0\nTOTALDEMAND    0\nREGIONID       0\ndtype: int64"
     },
     "execution_count": 94,
     "metadata": {},
     "output_type": "execute_result"
    }
   ],
   "source": [
    "sa_totaldemand.isna().sum()"
   ],
   "metadata": {
    "collapsed": false,
    "ExecuteTime": {
     "end_time": "2024-03-14T11:36:04.668573Z",
     "start_time": "2024-03-14T11:36:04.651667Z"
    }
   },
   "id": "78254dea96713374",
   "execution_count": 94
  },
  {
   "cell_type": "code",
   "outputs": [
    {
     "data": {
      "text/plain": "DATETIME       196512\nTOTALDEMAND     95534\nREGIONID            1\ndtype: int64"
     },
     "execution_count": 95,
     "metadata": {},
     "output_type": "execute_result"
    }
   ],
   "source": [
    "sa_totaldemand.nunique()"
   ],
   "metadata": {
    "collapsed": false,
    "ExecuteTime": {
     "end_time": "2024-03-14T11:36:04.704518Z",
     "start_time": "2024-03-14T11:36:04.669052Z"
    }
   },
   "id": "dc5b2683235183fd",
   "execution_count": 95
  },
  {
   "cell_type": "code",
   "outputs": [
    {
     "data": {
      "text/plain": "DATETIME        object\nTOTALDEMAND    float64\nREGIONID        object\ndtype: object"
     },
     "execution_count": 96,
     "metadata": {},
     "output_type": "execute_result"
    }
   ],
   "source": [
    "sa_totaldemand.dtypes"
   ],
   "metadata": {
    "collapsed": false,
    "ExecuteTime": {
     "end_time": "2024-03-14T11:36:04.707327Z",
     "start_time": "2024-03-14T11:36:04.705062Z"
    }
   },
   "id": "36bbae2be871d283",
   "execution_count": 96
  },
  {
   "cell_type": "markdown",
   "source": [
    "## Victoria Total Demand"
   ],
   "metadata": {
    "collapsed": false
   },
   "id": "a72f68529954d5ca"
  },
  {
   "cell_type": "code",
   "outputs": [],
   "source": [
    "vic_total_demand = pd.read_csv(os.path.join(data_path, 'Australia', 'd', 'totaldemand_vic.csv'))"
   ],
   "metadata": {
    "collapsed": false,
    "ExecuteTime": {
     "end_time": "2024-03-14T11:36:04.783586Z",
     "start_time": "2024-03-14T11:36:04.707799Z"
    }
   },
   "id": "8071b62d4914e9d6",
   "execution_count": 97
  },
  {
   "cell_type": "code",
   "outputs": [
    {
     "data": {
      "text/plain": "              DATETIME  TOTALDEMAND REGIONID\n0  2010-01-01 00:00:00      5426.12     VIC1\n1  2010-01-01 00:30:00      5111.02     VIC1\n2  2010-01-01 01:00:00      4960.03     VIC1\n3  2010-01-01 01:30:00      5283.40     VIC1\n4  2010-01-01 02:00:00      5046.15     VIC1",
      "text/html": "<div>\n<style scoped>\n    .dataframe tbody tr th:only-of-type {\n        vertical-align: middle;\n    }\n\n    .dataframe tbody tr th {\n        vertical-align: top;\n    }\n\n    .dataframe thead th {\n        text-align: right;\n    }\n</style>\n<table border=\"1\" class=\"dataframe\">\n  <thead>\n    <tr style=\"text-align: right;\">\n      <th></th>\n      <th>DATETIME</th>\n      <th>TOTALDEMAND</th>\n      <th>REGIONID</th>\n    </tr>\n  </thead>\n  <tbody>\n    <tr>\n      <th>0</th>\n      <td>2010-01-01 00:00:00</td>\n      <td>5426.12</td>\n      <td>VIC1</td>\n    </tr>\n    <tr>\n      <th>1</th>\n      <td>2010-01-01 00:30:00</td>\n      <td>5111.02</td>\n      <td>VIC1</td>\n    </tr>\n    <tr>\n      <th>2</th>\n      <td>2010-01-01 01:00:00</td>\n      <td>4960.03</td>\n      <td>VIC1</td>\n    </tr>\n    <tr>\n      <th>3</th>\n      <td>2010-01-01 01:30:00</td>\n      <td>5283.40</td>\n      <td>VIC1</td>\n    </tr>\n    <tr>\n      <th>4</th>\n      <td>2010-01-01 02:00:00</td>\n      <td>5046.15</td>\n      <td>VIC1</td>\n    </tr>\n  </tbody>\n</table>\n</div>"
     },
     "execution_count": 98,
     "metadata": {},
     "output_type": "execute_result"
    }
   ],
   "source": [
    "vic_total_demand.head()"
   ],
   "metadata": {
    "collapsed": false,
    "ExecuteTime": {
     "end_time": "2024-03-14T11:36:04.788083Z",
     "start_time": "2024-03-14T11:36:04.784209Z"
    }
   },
   "id": "da49618bfec487ab",
   "execution_count": 98
  },
  {
   "cell_type": "code",
   "outputs": [
    {
     "data": {
      "text/plain": "                   DATETIME  TOTALDEMAND REGIONID\n196508  2021-03-17 22:00:00      4557.56     VIC1\n196509  2021-03-17 22:30:00      4485.95     VIC1\n196510  2021-03-17 23:00:00      4434.62     VIC1\n196511  2021-03-17 23:30:00      4660.85     VIC1\n196512  2021-03-18 00:00:00      4608.85     VIC1",
      "text/html": "<div>\n<style scoped>\n    .dataframe tbody tr th:only-of-type {\n        vertical-align: middle;\n    }\n\n    .dataframe tbody tr th {\n        vertical-align: top;\n    }\n\n    .dataframe thead th {\n        text-align: right;\n    }\n</style>\n<table border=\"1\" class=\"dataframe\">\n  <thead>\n    <tr style=\"text-align: right;\">\n      <th></th>\n      <th>DATETIME</th>\n      <th>TOTALDEMAND</th>\n      <th>REGIONID</th>\n    </tr>\n  </thead>\n  <tbody>\n    <tr>\n      <th>196508</th>\n      <td>2021-03-17 22:00:00</td>\n      <td>4557.56</td>\n      <td>VIC1</td>\n    </tr>\n    <tr>\n      <th>196509</th>\n      <td>2021-03-17 22:30:00</td>\n      <td>4485.95</td>\n      <td>VIC1</td>\n    </tr>\n    <tr>\n      <th>196510</th>\n      <td>2021-03-17 23:00:00</td>\n      <td>4434.62</td>\n      <td>VIC1</td>\n    </tr>\n    <tr>\n      <th>196511</th>\n      <td>2021-03-17 23:30:00</td>\n      <td>4660.85</td>\n      <td>VIC1</td>\n    </tr>\n    <tr>\n      <th>196512</th>\n      <td>2021-03-18 00:00:00</td>\n      <td>4608.85</td>\n      <td>VIC1</td>\n    </tr>\n  </tbody>\n</table>\n</div>"
     },
     "execution_count": 99,
     "metadata": {},
     "output_type": "execute_result"
    }
   ],
   "source": [
    "vic_total_demand.tail()"
   ],
   "metadata": {
    "collapsed": false,
    "ExecuteTime": {
     "end_time": "2024-03-14T11:36:04.799280Z",
     "start_time": "2024-03-14T11:36:04.788572Z"
    }
   },
   "id": "d69248191cecbfbc",
   "execution_count": 99
  },
  {
   "cell_type": "code",
   "outputs": [
    {
     "name": "stdout",
     "output_type": "stream",
     "text": [
      "<class 'pandas.core.frame.DataFrame'>\n",
      "RangeIndex: 196513 entries, 0 to 196512\n",
      "Data columns (total 3 columns):\n",
      " #   Column       Non-Null Count   Dtype  \n",
      "---  ------       --------------   -----  \n",
      " 0   DATETIME     196513 non-null  object \n",
      " 1   TOTALDEMAND  196513 non-null  float64\n",
      " 2   REGIONID     196513 non-null  object \n",
      "dtypes: float64(1), object(2)\n",
      "memory usage: 4.5+ MB\n"
     ]
    }
   ],
   "source": [
    "vic_total_demand.info()"
   ],
   "metadata": {
    "collapsed": false,
    "ExecuteTime": {
     "end_time": "2024-03-14T11:36:04.814355Z",
     "start_time": "2024-03-14T11:36:04.799750Z"
    }
   },
   "id": "fc45a989ca613566",
   "execution_count": 100
  },
  {
   "cell_type": "code",
   "outputs": [
    {
     "data": {
      "text/plain": "         TOTALDEMAND\ncount  196513.000000\nmean     5252.950834\nstd       946.281304\nmin      2307.070000\n25%      4535.420000\n50%      5157.760000\n75%      5909.540000\nmax     10240.220000",
      "text/html": "<div>\n<style scoped>\n    .dataframe tbody tr th:only-of-type {\n        vertical-align: middle;\n    }\n\n    .dataframe tbody tr th {\n        vertical-align: top;\n    }\n\n    .dataframe thead th {\n        text-align: right;\n    }\n</style>\n<table border=\"1\" class=\"dataframe\">\n  <thead>\n    <tr style=\"text-align: right;\">\n      <th></th>\n      <th>TOTALDEMAND</th>\n    </tr>\n  </thead>\n  <tbody>\n    <tr>\n      <th>count</th>\n      <td>196513.000000</td>\n    </tr>\n    <tr>\n      <th>mean</th>\n      <td>5252.950834</td>\n    </tr>\n    <tr>\n      <th>std</th>\n      <td>946.281304</td>\n    </tr>\n    <tr>\n      <th>min</th>\n      <td>2307.070000</td>\n    </tr>\n    <tr>\n      <th>25%</th>\n      <td>4535.420000</td>\n    </tr>\n    <tr>\n      <th>50%</th>\n      <td>5157.760000</td>\n    </tr>\n    <tr>\n      <th>75%</th>\n      <td>5909.540000</td>\n    </tr>\n    <tr>\n      <th>max</th>\n      <td>10240.220000</td>\n    </tr>\n  </tbody>\n</table>\n</div>"
     },
     "execution_count": 101,
     "metadata": {},
     "output_type": "execute_result"
    }
   ],
   "source": [
    "vic_total_demand.describe()"
   ],
   "metadata": {
    "collapsed": false,
    "ExecuteTime": {
     "end_time": "2024-03-14T11:36:04.823522Z",
     "start_time": "2024-03-14T11:36:04.814812Z"
    }
   },
   "id": "acf59b1aeb79a169",
   "execution_count": 101
  },
  {
   "cell_type": "code",
   "outputs": [
    {
     "data": {
      "text/plain": "(196513, 3)"
     },
     "execution_count": 102,
     "metadata": {},
     "output_type": "execute_result"
    }
   ],
   "source": [
    "vic_total_demand.shape"
   ],
   "metadata": {
    "collapsed": false,
    "ExecuteTime": {
     "end_time": "2024-03-14T11:36:04.825790Z",
     "start_time": "2024-03-14T11:36:04.823987Z"
    }
   },
   "id": "56e70d520d1db9c6",
   "execution_count": 102
  },
  {
   "cell_type": "code",
   "outputs": [
    {
     "data": {
      "text/plain": "DATETIME       2010-01-01 00:00:00\nTOTALDEMAND                2307.07\nREGIONID                      VIC1\ndtype: object"
     },
     "execution_count": 103,
     "metadata": {},
     "output_type": "execute_result"
    }
   ],
   "source": [
    "vic_total_demand.min()"
   ],
   "metadata": {
    "collapsed": false,
    "ExecuteTime": {
     "end_time": "2024-03-14T11:36:04.843245Z",
     "start_time": "2024-03-14T11:36:04.826212Z"
    }
   },
   "id": "bef5da5a832a7f8f",
   "execution_count": 103
  },
  {
   "cell_type": "code",
   "outputs": [
    {
     "data": {
      "text/plain": "DATETIME       2021-03-18 00:00:00\nTOTALDEMAND               10240.22\nREGIONID                      VIC1\ndtype: object"
     },
     "execution_count": 104,
     "metadata": {},
     "output_type": "execute_result"
    }
   ],
   "source": [
    "vic_total_demand.max()"
   ],
   "metadata": {
    "collapsed": false,
    "ExecuteTime": {
     "end_time": "2024-03-14T11:36:04.857427Z",
     "start_time": "2024-03-14T11:36:04.843752Z"
    }
   },
   "id": "430c7e53c6fb48dc",
   "execution_count": 104
  },
  {
   "cell_type": "code",
   "outputs": [
    {
     "data": {
      "text/plain": "DATETIME       0\nTOTALDEMAND    0\nREGIONID       0\ndtype: int64"
     },
     "execution_count": 105,
     "metadata": {},
     "output_type": "execute_result"
    }
   ],
   "source": [
    "vic_total_demand.isnull().sum()"
   ],
   "metadata": {
    "collapsed": false,
    "ExecuteTime": {
     "end_time": "2024-03-14T11:36:04.879068Z",
     "start_time": "2024-03-14T11:36:04.857942Z"
    }
   },
   "id": "fba0584917acccde",
   "execution_count": 105
  },
  {
   "cell_type": "code",
   "outputs": [
    {
     "data": {
      "text/plain": "DATETIME       0\nTOTALDEMAND    0\nREGIONID       0\ndtype: int64"
     },
     "execution_count": 106,
     "metadata": {},
     "output_type": "execute_result"
    }
   ],
   "source": [
    "vic_total_demand.isna().sum()"
   ],
   "metadata": {
    "collapsed": false,
    "ExecuteTime": {
     "end_time": "2024-03-14T11:36:04.896170Z",
     "start_time": "2024-03-14T11:36:04.879607Z"
    }
   },
   "id": "1421e5afd11229be",
   "execution_count": 106
  },
  {
   "cell_type": "code",
   "outputs": [
    {
     "data": {
      "text/plain": "DATETIME       196513\nTOTALDEMAND    149442\nREGIONID            1\ndtype: int64"
     },
     "execution_count": 107,
     "metadata": {},
     "output_type": "execute_result"
    }
   ],
   "source": [
    "vic_total_demand.nunique()"
   ],
   "metadata": {
    "collapsed": false,
    "ExecuteTime": {
     "end_time": "2024-03-14T11:36:04.935528Z",
     "start_time": "2024-03-14T11:36:04.896686Z"
    }
   },
   "id": "eb42249510174393",
   "execution_count": 107
  },
  {
   "cell_type": "code",
   "outputs": [
    {
     "data": {
      "text/plain": "DATETIME        object\nTOTALDEMAND    float64\nREGIONID        object\ndtype: object"
     },
     "execution_count": 108,
     "metadata": {},
     "output_type": "execute_result"
    }
   ],
   "source": [
    "vic_total_demand.dtypes"
   ],
   "metadata": {
    "collapsed": false,
    "ExecuteTime": {
     "end_time": "2024-03-14T11:36:04.938517Z",
     "start_time": "2024-03-14T11:36:04.936065Z"
    }
   },
   "id": "d590818ef2a976b8",
   "execution_count": 108
  },
  {
   "cell_type": "markdown",
   "source": [
    "## NSW Forecast Demand"
   ],
   "metadata": {
    "collapsed": false
   },
   "id": "4d5cf7f80f9c834c"
  },
  {
   "cell_type": "code",
   "outputs": [],
   "source": [
    "nsw_forecastdemand = pd.read_csv(os.path.join(data_path, 'NSW', 'forecastdemand_nsw.csv'))"
   ],
   "metadata": {
    "collapsed": false,
    "is_executing": true,
    "ExecuteTime": {
     "start_time": "2024-03-14T11:36:04.938992Z"
    }
   },
   "id": "714fb3f4bd4e097d",
   "execution_count": null
  },
  {
   "cell_type": "code",
   "outputs": [],
   "source": [
    "nsw_forecastdemand.head()"
   ],
   "metadata": {
    "collapsed": false,
    "is_executing": true
   },
   "id": "738cf2feb7fe6ef4",
   "execution_count": null
  },
  {
   "cell_type": "code",
   "outputs": [],
   "source": [
    "nsw_forecastdemand.tail()"
   ],
   "metadata": {
    "collapsed": false,
    "is_executing": true
   },
   "id": "95d4b96b1b0a636e",
   "execution_count": null
  },
  {
   "cell_type": "code",
   "outputs": [],
   "source": [
    "nsw_forecastdemand.info()"
   ],
   "metadata": {
    "collapsed": false,
    "is_executing": true
   },
   "id": "807338f77241801a",
   "execution_count": null
  },
  {
   "cell_type": "code",
   "outputs": [],
   "source": [
    "nsw_forecastdemand.describe()"
   ],
   "metadata": {
    "collapsed": false,
    "is_executing": true
   },
   "id": "230b5e85ede77e40",
   "execution_count": null
  },
  {
   "cell_type": "code",
   "outputs": [],
   "source": [
    "nsw_forecastdemand.shape"
   ],
   "metadata": {
    "collapsed": false,
    "is_executing": true
   },
   "id": "ed0a7020b50243f4",
   "execution_count": null
  },
  {
   "cell_type": "code",
   "outputs": [],
   "source": [
    "nsw_forecastdemand.min()"
   ],
   "metadata": {
    "collapsed": false,
    "is_executing": true
   },
   "id": "38c1071e18c36e9f",
   "execution_count": null
  },
  {
   "cell_type": "code",
   "outputs": [],
   "source": [
    "nsw_forecastdemand.max()"
   ],
   "metadata": {
    "collapsed": false,
    "is_executing": true
   },
   "id": "5c9358fe34f093f4",
   "execution_count": null
  },
  {
   "cell_type": "code",
   "outputs": [],
   "source": [
    "nsw_forecastdemand.isnull().sum()"
   ],
   "metadata": {
    "collapsed": false,
    "is_executing": true
   },
   "id": "14ff921264c8f66f",
   "execution_count": null
  },
  {
   "cell_type": "code",
   "outputs": [],
   "source": [
    "nsw_forecastdemand.isna().sum()"
   ],
   "metadata": {
    "collapsed": false,
    "is_executing": true
   },
   "id": "55011353fab20d65",
   "execution_count": null
  },
  {
   "cell_type": "code",
   "outputs": [],
   "source": [
    "nsw_forecastdemand.nunique()"
   ],
   "metadata": {
    "collapsed": false,
    "is_executing": true
   },
   "id": "a296e9a8690f05",
   "execution_count": null
  },
  {
   "cell_type": "code",
   "outputs": [],
   "source": [
    "nsw_forecastdemand.dtypes"
   ],
   "metadata": {
    "collapsed": false,
    "is_executing": true
   },
   "id": "76336b1a517dbc8f",
   "execution_count": null
  },
  {
   "cell_type": "markdown",
   "source": [
    "## NSW temperature"
   ],
   "metadata": {
    "collapsed": false
   },
   "id": "99d38818860ccd38"
  },
  {
   "cell_type": "code",
   "outputs": [],
   "source": [
    "nsw_temperature = pd.read_csv(os.path.join(data_path, 'NSW', 'temperature_nsw.csv'))"
   ],
   "metadata": {
    "collapsed": false,
    "is_executing": true
   },
   "id": "b598cb193002a8d4",
   "execution_count": null
  },
  {
   "cell_type": "code",
   "outputs": [],
   "source": [
    "nsw_temperature.head()"
   ],
   "metadata": {
    "collapsed": false,
    "is_executing": true
   },
   "id": "8db601dfe413b494",
   "execution_count": null
  },
  {
   "cell_type": "code",
   "outputs": [],
   "source": [
    "nsw_temperature.tail()"
   ],
   "metadata": {
    "collapsed": false,
    "is_executing": true
   },
   "id": "f393b5cbde7f1e18",
   "execution_count": null
  },
  {
   "cell_type": "code",
   "outputs": [],
   "source": [
    "nsw_temperature.info()"
   ],
   "metadata": {
    "collapsed": false,
    "is_executing": true
   },
   "id": "613af6013635909e",
   "execution_count": null
  },
  {
   "cell_type": "code",
   "outputs": [],
   "source": [
    "nsw_temperature.describe()"
   ],
   "metadata": {
    "collapsed": false,
    "is_executing": true
   },
   "id": "464f7f1c4f6b349e",
   "execution_count": null
  },
  {
   "cell_type": "code",
   "outputs": [],
   "source": [
    "nsw_temperature.shape"
   ],
   "metadata": {
    "collapsed": false,
    "is_executing": true
   },
   "id": "c3acba3c6c3c2afa",
   "execution_count": null
  },
  {
   "cell_type": "code",
   "outputs": [],
   "source": [
    "nsw_temperature.min()"
   ],
   "metadata": {
    "collapsed": false,
    "is_executing": true
   },
   "id": "1eec95181ac5e7cb",
   "execution_count": null
  },
  {
   "cell_type": "code",
   "outputs": [],
   "source": [
    "nsw_temperature.max()"
   ],
   "metadata": {
    "collapsed": false,
    "is_executing": true
   },
   "id": "795cc9ceb73a1c33",
   "execution_count": null
  },
  {
   "cell_type": "code",
   "outputs": [],
   "source": [
    "nsw_temperature.isnull().sum()"
   ],
   "metadata": {
    "collapsed": false,
    "is_executing": true
   },
   "id": "b12a917928cc5bb",
   "execution_count": null
  },
  {
   "cell_type": "code",
   "outputs": [],
   "source": [
    "nsw_temperature.isna().sum()"
   ],
   "metadata": {
    "collapsed": false,
    "is_executing": true
   },
   "id": "3a052dc37be7b9da",
   "execution_count": null
  },
  {
   "cell_type": "code",
   "outputs": [],
   "source": [
    "nsw_temperature.nunique()"
   ],
   "metadata": {
    "collapsed": false,
    "is_executing": true
   },
   "id": "940aa95937db4361",
   "execution_count": null
  },
  {
   "cell_type": "code",
   "outputs": [],
   "source": [
    "nsw_temperature.dtypes"
   ],
   "metadata": {
    "collapsed": false,
    "is_executing": true
   },
   "id": "f2e044ccaec071e7",
   "execution_count": null
  },
  {
   "cell_type": "markdown",
   "source": [
    "## NSW Total Demand"
   ],
   "metadata": {
    "collapsed": false
   },
   "id": "fddeec55bae13a78"
  },
  {
   "cell_type": "code",
   "outputs": [],
   "source": [
    "nsw_totaldemand = pd.read_csv(os.path.join(data_path, 'NSW', 'totaldemand_nsw.csv'))"
   ],
   "metadata": {
    "collapsed": false,
    "is_executing": true
   },
   "id": "520c0d5a18b723db",
   "execution_count": null
  },
  {
   "cell_type": "code",
   "outputs": [],
   "source": [
    "nsw_totaldemand.head()"
   ],
   "metadata": {
    "collapsed": false,
    "is_executing": true
   },
   "id": "803af382d328c77f",
   "execution_count": null
  },
  {
   "cell_type": "code",
   "outputs": [],
   "source": [
    "nsw_totaldemand.tail()"
   ],
   "metadata": {
    "collapsed": false,
    "is_executing": true
   },
   "id": "6f28b772bf6f0e3d",
   "execution_count": null
  },
  {
   "cell_type": "code",
   "outputs": [],
   "source": [
    "nsw_totaldemand.info()"
   ],
   "metadata": {
    "collapsed": false,
    "is_executing": true
   },
   "id": "1f4d2cfb03fb670b",
   "execution_count": null
  },
  {
   "cell_type": "code",
   "outputs": [],
   "source": [
    "nsw_totaldemand.describe()"
   ],
   "metadata": {
    "collapsed": false,
    "is_executing": true
   },
   "id": "22d877c31ac861d3",
   "execution_count": null
  },
  {
   "cell_type": "code",
   "outputs": [],
   "source": [
    "nsw_totaldemand.shape"
   ],
   "metadata": {
    "collapsed": false,
    "is_executing": true
   },
   "id": "7d357c1d8c977aa2",
   "execution_count": null
  },
  {
   "cell_type": "code",
   "outputs": [],
   "source": [
    "nsw_totaldemand.min()"
   ],
   "metadata": {
    "collapsed": false,
    "is_executing": true
   },
   "id": "aa26edff9e6bcee9",
   "execution_count": null
  },
  {
   "cell_type": "code",
   "outputs": [],
   "source": [
    "nsw_totaldemand.max()"
   ],
   "metadata": {
    "collapsed": false,
    "is_executing": true
   },
   "id": "508d2afe0bd71767",
   "execution_count": null
  },
  {
   "cell_type": "code",
   "outputs": [],
   "source": [
    "nsw_totaldemand.isnull().sum()"
   ],
   "metadata": {
    "collapsed": false,
    "is_executing": true
   },
   "id": "83b3c21f622d2417",
   "execution_count": null
  },
  {
   "cell_type": "code",
   "outputs": [],
   "source": [
    "nsw_totaldemand.isna().sum()"
   ],
   "metadata": {
    "collapsed": false,
    "is_executing": true
   },
   "id": "46c6cf0be4a89d4c",
   "execution_count": null
  },
  {
   "cell_type": "code",
   "outputs": [],
   "source": [
    "nsw_totaldemand.nunique()"
   ],
   "metadata": {
    "collapsed": false,
    "is_executing": true
   },
   "id": "af7e24871b188530",
   "execution_count": null
  },
  {
   "cell_type": "code",
   "outputs": [],
   "source": [
    "nsw_totaldemand.dtypes"
   ],
   "metadata": {
    "collapsed": false,
    "is_executing": true
   },
   "id": "87552e73732bfe1f",
   "execution_count": null
  }
 ],
 "metadata": {
  "kernelspec": {
   "display_name": "Python 3",
   "language": "python",
   "name": "python3"
  },
  "language_info": {
   "codemirror_mode": {
    "name": "ipython",
    "version": 2
   },
   "file_extension": ".py",
   "mimetype": "text/x-python",
   "name": "python",
   "nbconvert_exporter": "python",
   "pygments_lexer": "ipython2",
   "version": "2.7.6"
  }
 },
 "nbformat": 4,
 "nbformat_minor": 5
}
