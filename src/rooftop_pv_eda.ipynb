{
 "cells": [
  {
   "cell_type": "code",
   "execution_count": 1,
   "id": "initial_id",
   "metadata": {
    "collapsed": true,
    "ExecuteTime": {
     "end_time": "2024-03-27T00:11:50.012809Z",
     "start_time": "2024-03-27T00:11:50.011169Z"
    }
   },
   "outputs": [],
   "source": [
    "import pandas as pd\n",
    "import os\n",
    "import matplotlib.pyplot as plt\n",
    "import seaborn as sns\n",
    "from pandas.plotting import autocorrelation_plot"
   ]
  },
  {
   "cell_type": "code",
   "outputs": [],
   "source": [
    "# general settings\n",
    "class CFG:\n",
    "    data_path = './../data'\n",
    "    img_dim1 = 14\n",
    "    img_dim2 = 7"
   ],
   "metadata": {
    "collapsed": false,
    "ExecuteTime": {
     "end_time": "2024-03-27T00:11:50.017183Z",
     "start_time": "2024-03-27T00:11:50.013311Z"
    }
   },
   "id": "4a4474fa8a514f4f",
   "execution_count": 2
  },
  {
   "cell_type": "code",
   "outputs": [],
   "source": [
    "# adjust params for figs\n",
    "plt.style.use('fivethirtyeight')\n",
    "plt.rcParams.update({'figure.figsize': (CFG.img_dim1, CFG.img_dim2)})"
   ],
   "metadata": {
    "collapsed": false,
    "ExecuteTime": {
     "end_time": "2024-03-27T00:11:50.020543Z",
     "start_time": "2024-03-27T00:11:50.017680Z"
    }
   },
   "id": "7483dae5bcbd77a8",
   "execution_count": 3
  },
  {
   "cell_type": "code",
   "outputs": [
    {
     "data": {
      "text/plain": "   I  ROOFTOP  ACTUAL  2    INTERVAL_DATETIME REGIONID     POWER   QI  \\\n0  D  ROOFTOP  ACTUAL  2  2023/03/05 10:30:00     NSW1  3294.058  0.6   \n1  D  ROOFTOP  ACTUAL  2  2023/03/05 10:30:00     QLD1  3011.525  0.6   \n2  D  ROOFTOP  ACTUAL  2  2023/03/05 10:30:00     QLDC   275.472  0.6   \n3  D  ROOFTOP  ACTUAL  2  2023/03/05 10:30:00     QLDN   351.034  0.6   \n4  D  ROOFTOP  ACTUAL  2  2023/03/05 10:30:00     QLDS  2385.019  0.6   \n\n        TYPE          LASTCHANGED  \n0  SATELLITE  2023/03/05 10:50:19  \n1  SATELLITE  2023/03/05 10:50:19  \n2  SATELLITE  2023/03/05 10:50:19  \n3  SATELLITE  2023/03/05 10:50:19  \n4  SATELLITE  2023/03/05 10:50:19  ",
      "text/html": "<div>\n<style scoped>\n    .dataframe tbody tr th:only-of-type {\n        vertical-align: middle;\n    }\n\n    .dataframe tbody tr th {\n        vertical-align: top;\n    }\n\n    .dataframe thead th {\n        text-align: right;\n    }\n</style>\n<table border=\"1\" class=\"dataframe\">\n  <thead>\n    <tr style=\"text-align: right;\">\n      <th></th>\n      <th>I</th>\n      <th>ROOFTOP</th>\n      <th>ACTUAL</th>\n      <th>2</th>\n      <th>INTERVAL_DATETIME</th>\n      <th>REGIONID</th>\n      <th>POWER</th>\n      <th>QI</th>\n      <th>TYPE</th>\n      <th>LASTCHANGED</th>\n    </tr>\n  </thead>\n  <tbody>\n    <tr>\n      <th>0</th>\n      <td>D</td>\n      <td>ROOFTOP</td>\n      <td>ACTUAL</td>\n      <td>2</td>\n      <td>2023/03/05 10:30:00</td>\n      <td>NSW1</td>\n      <td>3294.058</td>\n      <td>0.6</td>\n      <td>SATELLITE</td>\n      <td>2023/03/05 10:50:19</td>\n    </tr>\n    <tr>\n      <th>1</th>\n      <td>D</td>\n      <td>ROOFTOP</td>\n      <td>ACTUAL</td>\n      <td>2</td>\n      <td>2023/03/05 10:30:00</td>\n      <td>QLD1</td>\n      <td>3011.525</td>\n      <td>0.6</td>\n      <td>SATELLITE</td>\n      <td>2023/03/05 10:50:19</td>\n    </tr>\n    <tr>\n      <th>2</th>\n      <td>D</td>\n      <td>ROOFTOP</td>\n      <td>ACTUAL</td>\n      <td>2</td>\n      <td>2023/03/05 10:30:00</td>\n      <td>QLDC</td>\n      <td>275.472</td>\n      <td>0.6</td>\n      <td>SATELLITE</td>\n      <td>2023/03/05 10:50:19</td>\n    </tr>\n    <tr>\n      <th>3</th>\n      <td>D</td>\n      <td>ROOFTOP</td>\n      <td>ACTUAL</td>\n      <td>2</td>\n      <td>2023/03/05 10:30:00</td>\n      <td>QLDN</td>\n      <td>351.034</td>\n      <td>0.6</td>\n      <td>SATELLITE</td>\n      <td>2023/03/05 10:50:19</td>\n    </tr>\n    <tr>\n      <th>4</th>\n      <td>D</td>\n      <td>ROOFTOP</td>\n      <td>ACTUAL</td>\n      <td>2</td>\n      <td>2023/03/05 10:30:00</td>\n      <td>QLDS</td>\n      <td>2385.019</td>\n      <td>0.6</td>\n      <td>SATELLITE</td>\n      <td>2023/03/05 10:50:19</td>\n    </tr>\n  </tbody>\n</table>\n</div>"
     },
     "execution_count": 4,
     "metadata": {},
     "output_type": "execute_result"
    }
   ],
   "source": [
    "rooftop_pv_actual_consolidated_df = pd.read_csv(os.path.join(CFG.data_path, 'rooftop_pv_actual_consolidated.csv'))\n",
    "rooftop_pv_actual_consolidated_df.head()"
   ],
   "metadata": {
    "collapsed": false,
    "ExecuteTime": {
     "end_time": "2024-03-27T00:11:50.280096Z",
     "start_time": "2024-03-27T00:11:50.021018Z"
    }
   },
   "id": "4514d11daebc6273",
   "execution_count": 4
  }
 ],
 "metadata": {
  "kernelspec": {
   "display_name": "Python 3",
   "language": "python",
   "name": "python3"
  },
  "language_info": {
   "codemirror_mode": {
    "name": "ipython",
    "version": 2
   },
   "file_extension": ".py",
   "mimetype": "text/x-python",
   "name": "python",
   "nbconvert_exporter": "python",
   "pygments_lexer": "ipython2",
   "version": "2.7.6"
  }
 },
 "nbformat": 4,
 "nbformat_minor": 5
}
