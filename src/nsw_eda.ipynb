{
 "cells": [
  {
   "cell_type": "markdown",
   "source": [
    "We have \n",
    "\n",
    "\n",
    "# Potential new features:\n",
    "- additional forecast demand\n",
    "- additional total demand\n",
    "- additional temperature??\n",
    "- "
   ],
   "metadata": {
    "collapsed": false
   },
   "id": "b278e2ed8b632dfd"
  },
  {
   "cell_type": "code",
   "outputs": [],
   "source": [
    "import pandas as pd\n",
    "import matplotlib.pyplot as plt\n",
    "import os\n",
    "import seaborn as sns"
   ],
   "metadata": {
    "collapsed": false
   },
   "id": "35bc7b1615c8168e",
   "execution_count": null
  },
  {
   "cell_type": "code",
   "outputs": [],
   "source": [
    "# general settings\n",
    "class CFG:\n",
    "    data_path = './../data'\n",
    "    img_dim1 = 20\n",
    "    img_dim2 = 10"
   ],
   "metadata": {
    "collapsed": false
   },
   "id": "acaded3b5f642a77",
   "execution_count": null
  },
  {
   "cell_type": "code",
   "outputs": [],
   "source": [
    "plt.style.use('fivethirtyeight')  \n",
    "plt.rcParams.update({'figure.figsize': (CFG.img_dim1, CFG.img_dim2)})  "
   ],
   "metadata": {
    "collapsed": false
   },
   "id": "4761354c87e23fd8",
   "execution_count": null
  },
  {
   "cell_type": "code",
   "execution_count": null,
   "id": "initial_id",
   "metadata": {
    "collapsed": true
   },
   "outputs": [],
   "source": [
    "nsw_df = pd.read_parquet(os.path.join(CFG.data_path, 'NSW',  'nsw_df.parquet'))"
   ]
  },
  {
   "cell_type": "code",
   "outputs": [],
   "source": [
    "plt.figure(figsize=(CFG.img_dim1, CFG.img_dim2))\n",
    "plt.plot(nsw_df['DATETIME'], nsw_df['FORECASTDEMAND'], label='Forecast Demand')\n",
    "plt.plot(nsw_df['DATETIME'], nsw_df['TOTALDEMAND'], label='Actual Demand', alpha=0.7)\n",
    "plt.xlabel('Datetime')\n",
    "plt.ylabel('Demand')\n",
    "plt.title('Forecast vs Actual Price Over Time')\n",
    "plt.legend()\n",
    "plt.show()"
   ],
   "metadata": {
    "collapsed": false
   },
   "id": "c39b5d2f83247c41",
   "execution_count": null
  },
  {
   "cell_type": "code",
   "outputs": [],
   "source": [
    "plt.figure(figsize=(CFG.img_dim1, CFG.img_dim2))\n",
    "plt.plot(nsw_df['DATETIME'], nsw_df['TEMPERATURE'], color='orange', label='TEMPERATURE')\n",
    "plt.xlabel('Datetime')\n",
    "plt.ylabel('Temperature')\n",
    "plt.title('Temperature Over Time')\n",
    "plt.legend()\n",
    "plt.show()"
   ],
   "metadata": {
    "collapsed": false
   },
   "id": "b94603e74dcd8da1",
   "execution_count": null
  },
  {
   "cell_type": "code",
   "outputs": [],
   "source": [
    "plt.figure(figsize=(CFG.img_dim1, CFG.img_dim2))\n",
    "plt.scatter(nsw_df['TEMPERATURE'], nsw_df['TOTALDEMAND'], label='Actual Demand', alpha=0.5)\n",
    "plt.scatter(nsw_df['TEMPERATURE'], nsw_df['FORECASTDEMAND'], label='Forecast Demand', alpha=0.5)\n",
    "plt.xlabel('Temperature')\n",
    "plt.ylabel('Demand')\n",
    "plt.title('Temperature vs Demand')\n",
    "plt.legend()\n",
    "plt.show()"
   ],
   "metadata": {
    "collapsed": false
   },
   "id": "38575fad742c253a",
   "execution_count": null
  },
  {
   "cell_type": "code",
   "outputs": [],
   "source": [
    "plt.figure(figsize=(CFG.img_dim1, CFG.img_dim2))\n",
    "nsw_df[['FORECASTDEMAND', 'TOTALDEMAND', 'TEMPERATURE']].plot(kind='box')\n",
    "plt.title('Distribution of Prices and Temperature')\n",
    "plt.show()"
   ],
   "metadata": {
    "collapsed": false
   },
   "id": "c5af1f01abc51398",
   "execution_count": null
  },
  {
   "cell_type": "code",
   "outputs": [],
   "source": [
    "plt.figure(figsize=(CFG.img_dim1, CFG.img_dim2))\n",
    "nsw_df['TOTALDEMAND'].hist(alpha=0.7, label='Actual Price', bins=20)\n",
    "nsw_df['FORECASTDEMAND'].hist(alpha=0.5, label='Forecast Price', bins=20)\n",
    "plt.xlabel('Demand')\n",
    "plt.ylabel('Frequency')\n",
    "plt.title('Frequency Distribution of Demand')\n",
    "plt.legend()\n",
    "plt.show()"
   ],
   "metadata": {
    "collapsed": false
   },
   "id": "28a7eaf57081c28e",
   "execution_count": null
  },
  {
   "cell_type": "code",
   "outputs": [],
   "source": [
    "plt.figure(figsize=(CFG.img_dim1, CFG.img_dim2))\n",
    "nsw_df['TEMPERATURE'].hist(color='orange', bins=20)\n",
    "plt.xlabel('Temperature')\n",
    "plt.ylabel('Frequency')\n",
    "plt.title('Frequency Distribution of Temperature')\n",
    "plt.show()"
   ],
   "metadata": {
    "collapsed": false
   },
   "id": "5f85b3476bf7c7d0",
   "execution_count": null
  },
  {
   "cell_type": "code",
   "outputs": [],
   "source": [
    "plt.figure(figsize=(CFG.img_dim1, CFG.img_dim2))\n",
    "sns.heatmap(nsw_df[['FORECASTDEMAND', 'TOTALDEMAND', 'TEMPERATURE']].corr(), annot=True, cmap='coolwarm')\n",
    "plt.title('Correlation Heatmap')\n",
    "plt.show()"
   ],
   "metadata": {
    "collapsed": false
   },
   "id": "e619c43f4afebc2d",
   "execution_count": null
  }
 ],
 "metadata": {
  "kernelspec": {
   "display_name": "Python 3",
   "language": "python",
   "name": "python3"
  },
  "language_info": {
   "codemirror_mode": {
    "name": "ipython",
    "version": 2
   },
   "file_extension": ".py",
   "mimetype": "text/x-python",
   "name": "python",
   "nbconvert_exporter": "python",
   "pygments_lexer": "ipython2",
   "version": "2.7.6"
  }
 },
 "nbformat": 4,
 "nbformat_minor": 5
}
