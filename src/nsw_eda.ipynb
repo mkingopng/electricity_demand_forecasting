{
 "cells": [
  {
   "cell_type": "code",
   "execution_count": 1,
   "id": "initial_id",
   "metadata": {
    "collapsed": true,
    "ExecuteTime": {
     "end_time": "2024-03-21T13:44:37.132093Z",
     "start_time": "2024-03-21T13:44:36.877014Z"
    }
   },
   "outputs": [],
   "source": [
    "import pandas as pd\n",
    "import os"
   ]
  },
  {
   "cell_type": "code",
   "outputs": [],
   "source": [
    "data_path = './../data'"
   ],
   "metadata": {
    "collapsed": false,
    "ExecuteTime": {
     "end_time": "2024-03-21T13:44:37.134690Z",
     "start_time": "2024-03-21T13:44:37.132997Z"
    }
   },
   "id": "11717ac933a769fa",
   "execution_count": 2
  },
  {
   "cell_type": "code",
   "outputs": [],
   "source": [
    "nsw_forecastdemand = pd.read_csv(os.path.join(data_path, 'NSW', 'forecastdemand_nsw.csv'), parse_dates=['LASTCHANGED', 'DATETIME'])"
   ],
   "metadata": {
    "collapsed": false,
    "ExecuteTime": {
     "end_time": "2024-03-21T13:44:43.317177Z",
     "start_time": "2024-03-21T13:44:37.135238Z"
    }
   },
   "id": "2aca373f3db6f9ad",
   "execution_count": 3
  },
  {
   "cell_type": "code",
   "outputs": [
    {
     "data": {
      "text/plain": "   PREDISPATCHSEQNO REGIONID  PERIODID  FORECASTDEMAND         LASTCHANGED  \\\n0        2009123018     NSW1        71         7832.04 2009-12-30 12:31:49   \n1        2009123019     NSW1        70         7832.04 2009-12-30 13:01:43   \n2        2009123020     NSW1        69         7832.03 2009-12-30 13:31:36   \n3        2009123021     NSW1        68         7832.03 2009-12-30 14:01:44   \n4        2009123022     NSW1        67         7830.96 2009-12-30 14:31:35   \n\n    DATETIME  \n0 2010-01-01  \n1 2010-01-01  \n2 2010-01-01  \n3 2010-01-01  \n4 2010-01-01  ",
      "text/html": "<div>\n<style scoped>\n    .dataframe tbody tr th:only-of-type {\n        vertical-align: middle;\n    }\n\n    .dataframe tbody tr th {\n        vertical-align: top;\n    }\n\n    .dataframe thead th {\n        text-align: right;\n    }\n</style>\n<table border=\"1\" class=\"dataframe\">\n  <thead>\n    <tr style=\"text-align: right;\">\n      <th></th>\n      <th>PREDISPATCHSEQNO</th>\n      <th>REGIONID</th>\n      <th>PERIODID</th>\n      <th>FORECASTDEMAND</th>\n      <th>LASTCHANGED</th>\n      <th>DATETIME</th>\n    </tr>\n  </thead>\n  <tbody>\n    <tr>\n      <th>0</th>\n      <td>2009123018</td>\n      <td>NSW1</td>\n      <td>71</td>\n      <td>7832.04</td>\n      <td>2009-12-30 12:31:49</td>\n      <td>2010-01-01</td>\n    </tr>\n    <tr>\n      <th>1</th>\n      <td>2009123019</td>\n      <td>NSW1</td>\n      <td>70</td>\n      <td>7832.04</td>\n      <td>2009-12-30 13:01:43</td>\n      <td>2010-01-01</td>\n    </tr>\n    <tr>\n      <th>2</th>\n      <td>2009123020</td>\n      <td>NSW1</td>\n      <td>69</td>\n      <td>7832.03</td>\n      <td>2009-12-30 13:31:36</td>\n      <td>2010-01-01</td>\n    </tr>\n    <tr>\n      <th>3</th>\n      <td>2009123021</td>\n      <td>NSW1</td>\n      <td>68</td>\n      <td>7832.03</td>\n      <td>2009-12-30 14:01:44</td>\n      <td>2010-01-01</td>\n    </tr>\n    <tr>\n      <th>4</th>\n      <td>2009123022</td>\n      <td>NSW1</td>\n      <td>67</td>\n      <td>7830.96</td>\n      <td>2009-12-30 14:31:35</td>\n      <td>2010-01-01</td>\n    </tr>\n  </tbody>\n</table>\n</div>"
     },
     "execution_count": 4,
     "metadata": {},
     "output_type": "execute_result"
    }
   ],
   "source": [
    "nsw_forecastdemand.head()"
   ],
   "metadata": {
    "collapsed": false,
    "ExecuteTime": {
     "end_time": "2024-03-21T13:44:43.324909Z",
     "start_time": "2024-03-21T13:44:43.318136Z"
    }
   },
   "id": "53bb74339eefcd46",
   "execution_count": 4
  },
  {
   "cell_type": "code",
   "outputs": [
    {
     "data": {
      "text/plain": "          PREDISPATCHSEQNO REGIONID  PERIODID  FORECASTDEMAND  \\\n10906014        2021031736     NSW1         5         7028.45   \n10906015        2021031737     NSW1         4         7041.65   \n10906016        2021031738     NSW1         3         7087.60   \n10906017        2021031739     NSW1         2         7087.28   \n10906018        2021031740     NSW1         1         7126.37   \n\n                 LASTCHANGED   DATETIME  \n10906014 2021-03-17 21:31:31 2021-03-18  \n10906015 2021-03-17 22:01:34 2021-03-18  \n10906016 2021-03-17 22:31:36 2021-03-18  \n10906017 2021-03-17 23:01:36 2021-03-18  \n10906018 2021-03-17 23:31:33 2021-03-18  ",
      "text/html": "<div>\n<style scoped>\n    .dataframe tbody tr th:only-of-type {\n        vertical-align: middle;\n    }\n\n    .dataframe tbody tr th {\n        vertical-align: top;\n    }\n\n    .dataframe thead th {\n        text-align: right;\n    }\n</style>\n<table border=\"1\" class=\"dataframe\">\n  <thead>\n    <tr style=\"text-align: right;\">\n      <th></th>\n      <th>PREDISPATCHSEQNO</th>\n      <th>REGIONID</th>\n      <th>PERIODID</th>\n      <th>FORECASTDEMAND</th>\n      <th>LASTCHANGED</th>\n      <th>DATETIME</th>\n    </tr>\n  </thead>\n  <tbody>\n    <tr>\n      <th>10906014</th>\n      <td>2021031736</td>\n      <td>NSW1</td>\n      <td>5</td>\n      <td>7028.45</td>\n      <td>2021-03-17 21:31:31</td>\n      <td>2021-03-18</td>\n    </tr>\n    <tr>\n      <th>10906015</th>\n      <td>2021031737</td>\n      <td>NSW1</td>\n      <td>4</td>\n      <td>7041.65</td>\n      <td>2021-03-17 22:01:34</td>\n      <td>2021-03-18</td>\n    </tr>\n    <tr>\n      <th>10906016</th>\n      <td>2021031738</td>\n      <td>NSW1</td>\n      <td>3</td>\n      <td>7087.60</td>\n      <td>2021-03-17 22:31:36</td>\n      <td>2021-03-18</td>\n    </tr>\n    <tr>\n      <th>10906017</th>\n      <td>2021031739</td>\n      <td>NSW1</td>\n      <td>2</td>\n      <td>7087.28</td>\n      <td>2021-03-17 23:01:36</td>\n      <td>2021-03-18</td>\n    </tr>\n    <tr>\n      <th>10906018</th>\n      <td>2021031740</td>\n      <td>NSW1</td>\n      <td>1</td>\n      <td>7126.37</td>\n      <td>2021-03-17 23:31:33</td>\n      <td>2021-03-18</td>\n    </tr>\n  </tbody>\n</table>\n</div>"
     },
     "execution_count": 5,
     "metadata": {},
     "output_type": "execute_result"
    }
   ],
   "source": [
    "nsw_forecastdemand.tail()"
   ],
   "metadata": {
    "collapsed": false,
    "ExecuteTime": {
     "end_time": "2024-03-21T13:44:43.341915Z",
     "start_time": "2024-03-21T13:44:43.325991Z"
    }
   },
   "id": "136002d88e82ee85",
   "execution_count": 5
  },
  {
   "cell_type": "code",
   "outputs": [
    {
     "name": "stdout",
     "output_type": "stream",
     "text": [
      "<class 'pandas.core.frame.DataFrame'>\n",
      "RangeIndex: 10906019 entries, 0 to 10906018\n",
      "Data columns (total 6 columns):\n",
      " #   Column            Dtype         \n",
      "---  ------            -----         \n",
      " 0   PREDISPATCHSEQNO  int64         \n",
      " 1   REGIONID          object        \n",
      " 2   PERIODID          int64         \n",
      " 3   FORECASTDEMAND    float64       \n",
      " 4   LASTCHANGED       datetime64[ns]\n",
      " 5   DATETIME          datetime64[ns]\n",
      "dtypes: datetime64[ns](2), float64(1), int64(2), object(1)\n",
      "memory usage: 499.2+ MB\n"
     ]
    }
   ],
   "source": [
    "nsw_forecastdemand.info()"
   ],
   "metadata": {
    "collapsed": false,
    "ExecuteTime": {
     "end_time": "2024-03-21T13:44:43.354081Z",
     "start_time": "2024-03-21T13:44:43.342502Z"
    }
   },
   "id": "b82dc3c30b78f0e5",
   "execution_count": 6
  },
  {
   "cell_type": "code",
   "outputs": [
    {
     "data": {
      "text/plain": "count    1.090602e+07\nmean     8.066719e+03\nstd      1.315959e+03\nmin      4.422460e+03\n25%      7.077970e+03\n50%      8.007550e+03\n75%      8.925610e+03\nmax      1.473666e+04\nName: FORECASTDEMAND, dtype: float64"
     },
     "execution_count": 7,
     "metadata": {},
     "output_type": "execute_result"
    }
   ],
   "source": [
    "nsw_forecastdemand['FORECASTDEMAND'].describe()"
   ],
   "metadata": {
    "collapsed": false,
    "ExecuteTime": {
     "end_time": "2024-03-21T13:44:43.518751Z",
     "start_time": "2024-03-21T13:44:43.354748Z"
    }
   },
   "id": "f497e772d6dda571",
   "execution_count": 7
  },
  {
   "cell_type": "code",
   "outputs": [
    {
     "data": {
      "text/plain": "(10906019, 6)"
     },
     "execution_count": 8,
     "metadata": {},
     "output_type": "execute_result"
    }
   ],
   "source": [
    "nsw_forecastdemand.shape"
   ],
   "metadata": {
    "collapsed": false,
    "ExecuteTime": {
     "end_time": "2024-03-21T13:44:43.521581Z",
     "start_time": "2024-03-21T13:44:43.519426Z"
    }
   },
   "id": "f84660284a900dbf",
   "execution_count": 8
  },
  {
   "cell_type": "code",
   "outputs": [
    {
     "data": {
      "text/plain": "PREDISPATCHSEQNO             2009123018\nREGIONID                           NSW1\nPERIODID                              1\nFORECASTDEMAND                  4422.46\nLASTCHANGED         2009-12-30 12:31:49\nDATETIME            2010-01-01 00:00:00\ndtype: object"
     },
     "execution_count": 9,
     "metadata": {},
     "output_type": "execute_result"
    }
   ],
   "source": [
    "nsw_forecastdemand.min()"
   ],
   "metadata": {
    "collapsed": false,
    "ExecuteTime": {
     "end_time": "2024-03-21T13:44:43.891008Z",
     "start_time": "2024-03-21T13:44:43.522167Z"
    }
   },
   "id": "6fffbd35c5fe6398",
   "execution_count": 9
  },
  {
   "cell_type": "code",
   "outputs": [
    {
     "data": {
      "text/plain": "PREDISPATCHSEQNO             2021031740\nREGIONID                           NSW1\nPERIODID                             79\nFORECASTDEMAND                 14736.66\nLASTCHANGED         2021-03-17 23:31:33\nDATETIME            2021-03-18 00:00:00\ndtype: object"
     },
     "execution_count": 10,
     "metadata": {},
     "output_type": "execute_result"
    }
   ],
   "source": [
    "nsw_forecastdemand.max()"
   ],
   "metadata": {
    "collapsed": false,
    "ExecuteTime": {
     "end_time": "2024-03-21T13:44:44.267369Z",
     "start_time": "2024-03-21T13:44:43.892055Z"
    }
   },
   "id": "1ea21f2cbadbecb5",
   "execution_count": 10
  },
  {
   "cell_type": "code",
   "outputs": [
    {
     "data": {
      "text/plain": "PREDISPATCHSEQNO    0\nREGIONID            0\nPERIODID            0\nFORECASTDEMAND      0\nLASTCHANGED         0\nDATETIME            0\ndtype: int64"
     },
     "execution_count": 11,
     "metadata": {},
     "output_type": "execute_result"
    }
   ],
   "source": [
    "nsw_forecastdemand.isnull().sum()"
   ],
   "metadata": {
    "collapsed": false,
    "ExecuteTime": {
     "end_time": "2024-03-21T13:44:44.513459Z",
     "start_time": "2024-03-21T13:44:44.268408Z"
    }
   },
   "id": "797134c7ed9dd4b9",
   "execution_count": 11
  },
  {
   "cell_type": "code",
   "outputs": [
    {
     "data": {
      "text/plain": "PREDISPATCHSEQNO    0\nREGIONID            0\nPERIODID            0\nFORECASTDEMAND      0\nLASTCHANGED         0\nDATETIME            0\ndtype: int64"
     },
     "execution_count": 12,
     "metadata": {},
     "output_type": "execute_result"
    }
   ],
   "source": [
    "nsw_forecastdemand.isna().sum()"
   ],
   "metadata": {
    "collapsed": false,
    "ExecuteTime": {
     "end_time": "2024-03-21T13:44:44.753928Z",
     "start_time": "2024-03-21T13:44:44.514043Z"
    }
   },
   "id": "c0b341526a3af11b",
   "execution_count": 12
  },
  {
   "cell_type": "code",
   "outputs": [
    {
     "data": {
      "text/plain": "PREDISPATCHSEQNO    196571\nREGIONID                 1\nPERIODID                79\nFORECASTDEMAND      681384\nLASTCHANGED         196571\nDATETIME            196513\ndtype: int64"
     },
     "execution_count": 13,
     "metadata": {},
     "output_type": "execute_result"
    }
   ],
   "source": [
    "nsw_forecastdemand.nunique()"
   ],
   "metadata": {
    "collapsed": false,
    "ExecuteTime": {
     "end_time": "2024-03-21T13:44:45.396094Z",
     "start_time": "2024-03-21T13:44:44.754521Z"
    }
   },
   "id": "2deb11cffe2a65fa",
   "execution_count": 13
  },
  {
   "cell_type": "code",
   "outputs": [
    {
     "data": {
      "text/plain": "PREDISPATCHSEQNO             int64\nREGIONID                    object\nPERIODID                     int64\nFORECASTDEMAND             float64\nLASTCHANGED         datetime64[ns]\nDATETIME            datetime64[ns]\ndtype: object"
     },
     "execution_count": 14,
     "metadata": {},
     "output_type": "execute_result"
    }
   ],
   "source": [
    "nsw_forecastdemand.dtypes"
   ],
   "metadata": {
    "collapsed": false,
    "ExecuteTime": {
     "end_time": "2024-03-21T13:44:45.400081Z",
     "start_time": "2024-03-21T13:44:45.397577Z"
    }
   },
   "id": "849e624285690d07",
   "execution_count": 14
  },
  {
   "cell_type": "markdown",
   "source": [
    "## NSW temperature"
   ],
   "metadata": {
    "collapsed": false
   },
   "id": "cc08193babded221"
  },
  {
   "cell_type": "code",
   "outputs": [],
   "source": [
    "nsw_temperature = pd.read_csv(os.path.join(data_path, 'NSW', 'temperature_nsw.csv'), parse_dates=['DATETIME'], dayfirst=True)"
   ],
   "metadata": {
    "collapsed": false,
    "ExecuteTime": {
     "end_time": "2024-03-21T13:44:45.896945Z",
     "start_time": "2024-03-21T13:44:45.400584Z"
    }
   },
   "id": "a640330de9e81684",
   "execution_count": 15
  },
  {
   "cell_type": "code",
   "outputs": [
    {
     "data": {
      "text/plain": "    LOCATION            DATETIME  TEMPERATURE\n0  Bankstown 2010-01-01 00:00:00         23.1\n1  Bankstown 2010-01-01 00:01:00         23.1\n2  Bankstown 2010-01-01 00:30:00         22.9\n3  Bankstown 2010-01-01 00:50:00         22.7\n4  Bankstown 2010-01-01 01:00:00         22.6",
      "text/html": "<div>\n<style scoped>\n    .dataframe tbody tr th:only-of-type {\n        vertical-align: middle;\n    }\n\n    .dataframe tbody tr th {\n        vertical-align: top;\n    }\n\n    .dataframe thead th {\n        text-align: right;\n    }\n</style>\n<table border=\"1\" class=\"dataframe\">\n  <thead>\n    <tr style=\"text-align: right;\">\n      <th></th>\n      <th>LOCATION</th>\n      <th>DATETIME</th>\n      <th>TEMPERATURE</th>\n    </tr>\n  </thead>\n  <tbody>\n    <tr>\n      <th>0</th>\n      <td>Bankstown</td>\n      <td>2010-01-01 00:00:00</td>\n      <td>23.1</td>\n    </tr>\n    <tr>\n      <th>1</th>\n      <td>Bankstown</td>\n      <td>2010-01-01 00:01:00</td>\n      <td>23.1</td>\n    </tr>\n    <tr>\n      <th>2</th>\n      <td>Bankstown</td>\n      <td>2010-01-01 00:30:00</td>\n      <td>22.9</td>\n    </tr>\n    <tr>\n      <th>3</th>\n      <td>Bankstown</td>\n      <td>2010-01-01 00:50:00</td>\n      <td>22.7</td>\n    </tr>\n    <tr>\n      <th>4</th>\n      <td>Bankstown</td>\n      <td>2010-01-01 01:00:00</td>\n      <td>22.6</td>\n    </tr>\n  </tbody>\n</table>\n</div>"
     },
     "execution_count": 16,
     "metadata": {},
     "output_type": "execute_result"
    }
   ],
   "source": [
    "nsw_temperature.head()"
   ],
   "metadata": {
    "collapsed": false,
    "ExecuteTime": {
     "end_time": "2024-03-21T13:44:45.901144Z",
     "start_time": "2024-03-21T13:44:45.897508Z"
    }
   },
   "id": "7576c21900c45ed3",
   "execution_count": 16
  },
  {
   "cell_type": "code",
   "outputs": [
    {
     "data": {
      "text/plain": "         LOCATION            DATETIME  TEMPERATURE\n220321  Bankstown 2021-03-17 23:00:00         19.1\n220322  Bankstown 2021-03-17 23:20:00         19.0\n220323  Bankstown 2021-03-17 23:30:00         18.8\n220324  Bankstown 2021-03-17 23:34:00         18.8\n220325  Bankstown 2021-03-18 00:00:00         18.6",
      "text/html": "<div>\n<style scoped>\n    .dataframe tbody tr th:only-of-type {\n        vertical-align: middle;\n    }\n\n    .dataframe tbody tr th {\n        vertical-align: top;\n    }\n\n    .dataframe thead th {\n        text-align: right;\n    }\n</style>\n<table border=\"1\" class=\"dataframe\">\n  <thead>\n    <tr style=\"text-align: right;\">\n      <th></th>\n      <th>LOCATION</th>\n      <th>DATETIME</th>\n      <th>TEMPERATURE</th>\n    </tr>\n  </thead>\n  <tbody>\n    <tr>\n      <th>220321</th>\n      <td>Bankstown</td>\n      <td>2021-03-17 23:00:00</td>\n      <td>19.1</td>\n    </tr>\n    <tr>\n      <th>220322</th>\n      <td>Bankstown</td>\n      <td>2021-03-17 23:20:00</td>\n      <td>19.0</td>\n    </tr>\n    <tr>\n      <th>220323</th>\n      <td>Bankstown</td>\n      <td>2021-03-17 23:30:00</td>\n      <td>18.8</td>\n    </tr>\n    <tr>\n      <th>220324</th>\n      <td>Bankstown</td>\n      <td>2021-03-17 23:34:00</td>\n      <td>18.8</td>\n    </tr>\n    <tr>\n      <th>220325</th>\n      <td>Bankstown</td>\n      <td>2021-03-18 00:00:00</td>\n      <td>18.6</td>\n    </tr>\n  </tbody>\n</table>\n</div>"
     },
     "execution_count": 17,
     "metadata": {},
     "output_type": "execute_result"
    }
   ],
   "source": [
    "nsw_temperature.tail()"
   ],
   "metadata": {
    "collapsed": false,
    "ExecuteTime": {
     "end_time": "2024-03-21T13:44:45.983388Z",
     "start_time": "2024-03-21T13:44:45.901604Z"
    }
   },
   "id": "db7ae64dd3bb99ad",
   "execution_count": 17
  },
  {
   "cell_type": "code",
   "outputs": [
    {
     "name": "stdout",
     "output_type": "stream",
     "text": [
      "<class 'pandas.core.frame.DataFrame'>\n",
      "RangeIndex: 220326 entries, 0 to 220325\n",
      "Data columns (total 3 columns):\n",
      " #   Column       Non-Null Count   Dtype         \n",
      "---  ------       --------------   -----         \n",
      " 0   LOCATION     220326 non-null  object        \n",
      " 1   DATETIME     220326 non-null  datetime64[ns]\n",
      " 2   TEMPERATURE  220326 non-null  float64       \n",
      "dtypes: datetime64[ns](1), float64(1), object(1)\n",
      "memory usage: 5.0+ MB\n"
     ]
    }
   ],
   "source": [
    "nsw_temperature.info()"
   ],
   "metadata": {
    "collapsed": false,
    "ExecuteTime": {
     "end_time": "2024-03-21T13:44:46.006630Z",
     "start_time": "2024-03-21T13:44:45.983882Z"
    }
   },
   "id": "f3bf79281129fb56",
   "execution_count": 18
  },
  {
   "cell_type": "code",
   "outputs": [
    {
     "data": {
      "text/plain": "                            DATETIME    TEMPERATURE\ncount                         220326  220326.000000\nmean   2015-08-16 07:59:12.964243712      17.418827\nmin              2010-01-01 00:00:00      -1.300000\n25%              2012-11-02 23:07:30      13.400000\n50%              2015-08-16 13:45:00      17.700000\n75%              2018-06-03 14:22:30      21.300000\nmax              2021-03-18 00:00:00      44.700000\nstd                              NaN       5.849763",
      "text/html": "<div>\n<style scoped>\n    .dataframe tbody tr th:only-of-type {\n        vertical-align: middle;\n    }\n\n    .dataframe tbody tr th {\n        vertical-align: top;\n    }\n\n    .dataframe thead th {\n        text-align: right;\n    }\n</style>\n<table border=\"1\" class=\"dataframe\">\n  <thead>\n    <tr style=\"text-align: right;\">\n      <th></th>\n      <th>DATETIME</th>\n      <th>TEMPERATURE</th>\n    </tr>\n  </thead>\n  <tbody>\n    <tr>\n      <th>count</th>\n      <td>220326</td>\n      <td>220326.000000</td>\n    </tr>\n    <tr>\n      <th>mean</th>\n      <td>2015-08-16 07:59:12.964243712</td>\n      <td>17.418827</td>\n    </tr>\n    <tr>\n      <th>min</th>\n      <td>2010-01-01 00:00:00</td>\n      <td>-1.300000</td>\n    </tr>\n    <tr>\n      <th>25%</th>\n      <td>2012-11-02 23:07:30</td>\n      <td>13.400000</td>\n    </tr>\n    <tr>\n      <th>50%</th>\n      <td>2015-08-16 13:45:00</td>\n      <td>17.700000</td>\n    </tr>\n    <tr>\n      <th>75%</th>\n      <td>2018-06-03 14:22:30</td>\n      <td>21.300000</td>\n    </tr>\n    <tr>\n      <th>max</th>\n      <td>2021-03-18 00:00:00</td>\n      <td>44.700000</td>\n    </tr>\n    <tr>\n      <th>std</th>\n      <td>NaN</td>\n      <td>5.849763</td>\n    </tr>\n  </tbody>\n</table>\n</div>"
     },
     "execution_count": 19,
     "metadata": {},
     "output_type": "execute_result"
    }
   ],
   "source": [
    "nsw_temperature.describe()"
   ],
   "metadata": {
    "collapsed": false,
    "ExecuteTime": {
     "end_time": "2024-03-21T13:44:46.019675Z",
     "start_time": "2024-03-21T13:44:46.007286Z"
    }
   },
   "id": "354f6fedc12bc206",
   "execution_count": 19
  },
  {
   "cell_type": "code",
   "outputs": [
    {
     "data": {
      "text/plain": "(220326, 3)"
     },
     "execution_count": 20,
     "metadata": {},
     "output_type": "execute_result"
    }
   ],
   "source": [
    "nsw_temperature.shape"
   ],
   "metadata": {
    "collapsed": false,
    "ExecuteTime": {
     "end_time": "2024-03-21T13:44:46.022261Z",
     "start_time": "2024-03-21T13:44:46.020243Z"
    }
   },
   "id": "3ada1a9a636fa4d2",
   "execution_count": 20
  },
  {
   "cell_type": "code",
   "outputs": [
    {
     "data": {
      "text/plain": "LOCATION                 Bankstown\nDATETIME       2010-01-01 00:00:00\nTEMPERATURE                   -1.3\ndtype: object"
     },
     "execution_count": 21,
     "metadata": {},
     "output_type": "execute_result"
    }
   ],
   "source": [
    "nsw_temperature.min()"
   ],
   "metadata": {
    "collapsed": false,
    "ExecuteTime": {
     "end_time": "2024-03-21T13:44:46.035368Z",
     "start_time": "2024-03-21T13:44:46.022867Z"
    }
   },
   "id": "e9e151649e0d5d11",
   "execution_count": 21
  },
  {
   "cell_type": "code",
   "outputs": [
    {
     "data": {
      "text/plain": "LOCATION                 Bankstown\nDATETIME       2021-03-18 00:00:00\nTEMPERATURE                   44.7\ndtype: object"
     },
     "execution_count": 22,
     "metadata": {},
     "output_type": "execute_result"
    }
   ],
   "source": [
    "nsw_temperature.max()"
   ],
   "metadata": {
    "collapsed": false,
    "ExecuteTime": {
     "end_time": "2024-03-21T13:44:46.044957Z",
     "start_time": "2024-03-21T13:44:46.035906Z"
    }
   },
   "id": "5b62417f3ff514f",
   "execution_count": 22
  },
  {
   "cell_type": "code",
   "outputs": [
    {
     "data": {
      "text/plain": "LOCATION       0\nDATETIME       0\nTEMPERATURE    0\ndtype: int64"
     },
     "execution_count": 23,
     "metadata": {},
     "output_type": "execute_result"
    }
   ],
   "source": [
    "nsw_temperature.isnull().sum()"
   ],
   "metadata": {
    "collapsed": false,
    "ExecuteTime": {
     "end_time": "2024-03-21T13:44:46.052545Z",
     "start_time": "2024-03-21T13:44:46.045499Z"
    }
   },
   "id": "8be3f6070e9182d6",
   "execution_count": 23
  },
  {
   "cell_type": "code",
   "outputs": [
    {
     "data": {
      "text/plain": "LOCATION       0\nDATETIME       0\nTEMPERATURE    0\ndtype: int64"
     },
     "execution_count": 24,
     "metadata": {},
     "output_type": "execute_result"
    }
   ],
   "source": [
    "nsw_temperature.isna().sum()"
   ],
   "metadata": {
    "collapsed": false,
    "ExecuteTime": {
     "end_time": "2024-03-21T13:44:46.059872Z",
     "start_time": "2024-03-21T13:44:46.053047Z"
    }
   },
   "id": "c6cad7ed839ef51",
   "execution_count": 24
  },
  {
   "cell_type": "code",
   "outputs": [
    {
     "data": {
      "text/plain": "LOCATION            1\nDATETIME       220313\nTEMPERATURE       439\ndtype: int64"
     },
     "execution_count": 25,
     "metadata": {},
     "output_type": "execute_result"
    }
   ],
   "source": [
    "nsw_temperature.nunique()"
   ],
   "metadata": {
    "collapsed": false,
    "ExecuteTime": {
     "end_time": "2024-03-21T13:44:46.073067Z",
     "start_time": "2024-03-21T13:44:46.060336Z"
    }
   },
   "id": "5c0e6c3e16f2f338",
   "execution_count": 25
  },
  {
   "cell_type": "code",
   "outputs": [
    {
     "data": {
      "text/plain": "LOCATION               object\nDATETIME       datetime64[ns]\nTEMPERATURE           float64\ndtype: object"
     },
     "execution_count": 26,
     "metadata": {},
     "output_type": "execute_result"
    }
   ],
   "source": [
    "nsw_temperature.dtypes"
   ],
   "metadata": {
    "collapsed": false,
    "ExecuteTime": {
     "end_time": "2024-03-21T13:44:46.075652Z",
     "start_time": "2024-03-21T13:44:46.073522Z"
    }
   },
   "id": "370b68fae58fb6bb",
   "execution_count": 26
  },
  {
   "cell_type": "markdown",
   "source": [
    "## NSW Total Demand"
   ],
   "metadata": {
    "collapsed": false
   },
   "id": "f2b679e6da2a678e"
  },
  {
   "cell_type": "code",
   "outputs": [],
   "source": [
    "nsw_totaldemand = pd.read_csv(os.path.join(data_path, 'NSW', 'totaldemand_nsw.csv'), parse_dates=['DATETIME'], dayfirst=True)"
   ],
   "metadata": {
    "collapsed": false,
    "ExecuteTime": {
     "end_time": "2024-03-21T13:44:46.437689Z",
     "start_time": "2024-03-21T13:44:46.076099Z"
    }
   },
   "id": "8558a6cdf94fb75e",
   "execution_count": 27
  },
  {
   "cell_type": "code",
   "outputs": [
    {
     "data": {
      "text/plain": "             DATETIME  TOTALDEMAND REGIONID\n0 2010-01-01 00:00:00      8038.00     NSW1\n1 2010-01-01 00:30:00      7809.31     NSW1\n2 2010-01-01 01:00:00      7483.69     NSW1\n3 2010-01-01 01:30:00      7117.23     NSW1\n4 2010-01-01 02:00:00      6812.03     NSW1",
      "text/html": "<div>\n<style scoped>\n    .dataframe tbody tr th:only-of-type {\n        vertical-align: middle;\n    }\n\n    .dataframe tbody tr th {\n        vertical-align: top;\n    }\n\n    .dataframe thead th {\n        text-align: right;\n    }\n</style>\n<table border=\"1\" class=\"dataframe\">\n  <thead>\n    <tr style=\"text-align: right;\">\n      <th></th>\n      <th>DATETIME</th>\n      <th>TOTALDEMAND</th>\n      <th>REGIONID</th>\n    </tr>\n  </thead>\n  <tbody>\n    <tr>\n      <th>0</th>\n      <td>2010-01-01 00:00:00</td>\n      <td>8038.00</td>\n      <td>NSW1</td>\n    </tr>\n    <tr>\n      <th>1</th>\n      <td>2010-01-01 00:30:00</td>\n      <td>7809.31</td>\n      <td>NSW1</td>\n    </tr>\n    <tr>\n      <th>2</th>\n      <td>2010-01-01 01:00:00</td>\n      <td>7483.69</td>\n      <td>NSW1</td>\n    </tr>\n    <tr>\n      <th>3</th>\n      <td>2010-01-01 01:30:00</td>\n      <td>7117.23</td>\n      <td>NSW1</td>\n    </tr>\n    <tr>\n      <th>4</th>\n      <td>2010-01-01 02:00:00</td>\n      <td>6812.03</td>\n      <td>NSW1</td>\n    </tr>\n  </tbody>\n</table>\n</div>"
     },
     "execution_count": 28,
     "metadata": {},
     "output_type": "execute_result"
    }
   ],
   "source": [
    "nsw_totaldemand.head()"
   ],
   "metadata": {
    "collapsed": false,
    "ExecuteTime": {
     "end_time": "2024-03-21T13:44:46.441934Z",
     "start_time": "2024-03-21T13:44:46.438282Z"
    }
   },
   "id": "f4e72c07eb99b07b",
   "execution_count": 28
  },
  {
   "cell_type": "code",
   "outputs": [
    {
     "data": {
      "text/plain": "                  DATETIME  TOTALDEMAND REGIONID\n196508 2021-03-17 22:00:00      7419.77     NSW1\n196509 2021-03-17 22:30:00      7417.91     NSW1\n196510 2021-03-17 23:00:00      7287.32     NSW1\n196511 2021-03-17 23:30:00      7172.39     NSW1\n196512 2021-03-18 00:00:00      7094.51     NSW1",
      "text/html": "<div>\n<style scoped>\n    .dataframe tbody tr th:only-of-type {\n        vertical-align: middle;\n    }\n\n    .dataframe tbody tr th {\n        vertical-align: top;\n    }\n\n    .dataframe thead th {\n        text-align: right;\n    }\n</style>\n<table border=\"1\" class=\"dataframe\">\n  <thead>\n    <tr style=\"text-align: right;\">\n      <th></th>\n      <th>DATETIME</th>\n      <th>TOTALDEMAND</th>\n      <th>REGIONID</th>\n    </tr>\n  </thead>\n  <tbody>\n    <tr>\n      <th>196508</th>\n      <td>2021-03-17 22:00:00</td>\n      <td>7419.77</td>\n      <td>NSW1</td>\n    </tr>\n    <tr>\n      <th>196509</th>\n      <td>2021-03-17 22:30:00</td>\n      <td>7417.91</td>\n      <td>NSW1</td>\n    </tr>\n    <tr>\n      <th>196510</th>\n      <td>2021-03-17 23:00:00</td>\n      <td>7287.32</td>\n      <td>NSW1</td>\n    </tr>\n    <tr>\n      <th>196511</th>\n      <td>2021-03-17 23:30:00</td>\n      <td>7172.39</td>\n      <td>NSW1</td>\n    </tr>\n    <tr>\n      <th>196512</th>\n      <td>2021-03-18 00:00:00</td>\n      <td>7094.51</td>\n      <td>NSW1</td>\n    </tr>\n  </tbody>\n</table>\n</div>"
     },
     "execution_count": 29,
     "metadata": {},
     "output_type": "execute_result"
    }
   ],
   "source": [
    "nsw_totaldemand.tail()"
   ],
   "metadata": {
    "collapsed": false,
    "ExecuteTime": {
     "end_time": "2024-03-21T13:44:46.523784Z",
     "start_time": "2024-03-21T13:44:46.442420Z"
    }
   },
   "id": "e2d3468d5061cf41",
   "execution_count": 29
  },
  {
   "cell_type": "code",
   "outputs": [
    {
     "name": "stdout",
     "output_type": "stream",
     "text": [
      "<class 'pandas.core.frame.DataFrame'>\n",
      "RangeIndex: 196513 entries, 0 to 196512\n",
      "Data columns (total 3 columns):\n",
      " #   Column       Non-Null Count   Dtype         \n",
      "---  ------       --------------   -----         \n",
      " 0   DATETIME     196513 non-null  datetime64[ns]\n",
      " 1   TOTALDEMAND  196513 non-null  float64       \n",
      " 2   REGIONID     196513 non-null  object        \n",
      "dtypes: datetime64[ns](1), float64(1), object(1)\n",
      "memory usage: 4.5+ MB\n"
     ]
    }
   ],
   "source": [
    "nsw_totaldemand.info()"
   ],
   "metadata": {
    "collapsed": false,
    "ExecuteTime": {
     "end_time": "2024-03-21T13:44:46.539048Z",
     "start_time": "2024-03-21T13:44:46.524289Z"
    }
   },
   "id": "681e4062d87c3776",
   "execution_count": 30
  },
  {
   "cell_type": "code",
   "outputs": [
    {
     "data": {
      "text/plain": "count    196513.000000\nmean       8113.145859\nstd        1299.532774\nmin        5074.630000\n25%        7150.070000\n50%        8053.230000\n75%        8958.550000\nmax       14579.860000\nName: TOTALDEMAND, dtype: float64"
     },
     "execution_count": 31,
     "metadata": {},
     "output_type": "execute_result"
    }
   ],
   "source": [
    "nsw_totaldemand['TOTALDEMAND'].describe()"
   ],
   "metadata": {
    "collapsed": false,
    "ExecuteTime": {
     "end_time": "2024-03-21T13:44:46.548042Z",
     "start_time": "2024-03-21T13:44:46.539544Z"
    }
   },
   "id": "e55c534c0b180b3d",
   "execution_count": 31
  },
  {
   "cell_type": "code",
   "outputs": [
    {
     "data": {
      "text/plain": "(196513, 3)"
     },
     "execution_count": 32,
     "metadata": {},
     "output_type": "execute_result"
    }
   ],
   "source": [
    "nsw_totaldemand.shape"
   ],
   "metadata": {
    "collapsed": false,
    "ExecuteTime": {
     "end_time": "2024-03-21T13:44:46.553559Z",
     "start_time": "2024-03-21T13:44:46.548491Z"
    }
   },
   "id": "fc750c3c10fa1728",
   "execution_count": 32
  },
  {
   "cell_type": "code",
   "outputs": [
    {
     "data": {
      "text/plain": "DATETIME       2010-01-01 00:00:00\nTOTALDEMAND                5074.63\nREGIONID                      NSW1\ndtype: object"
     },
     "execution_count": 33,
     "metadata": {},
     "output_type": "execute_result"
    }
   ],
   "source": [
    "nsw_totaldemand.min()"
   ],
   "metadata": {
    "collapsed": false,
    "ExecuteTime": {
     "end_time": "2024-03-21T13:44:46.576025Z",
     "start_time": "2024-03-21T13:44:46.554131Z"
    }
   },
   "id": "71f63695bf4e1b8f",
   "execution_count": 33
  },
  {
   "cell_type": "code",
   "outputs": [
    {
     "data": {
      "text/plain": "DATETIME       2021-03-18 00:00:00\nTOTALDEMAND               14579.86\nREGIONID                      NSW1\ndtype: object"
     },
     "execution_count": 34,
     "metadata": {},
     "output_type": "execute_result"
    }
   ],
   "source": [
    "nsw_totaldemand.max()"
   ],
   "metadata": {
    "collapsed": false,
    "ExecuteTime": {
     "end_time": "2024-03-21T13:44:46.586988Z",
     "start_time": "2024-03-21T13:44:46.576687Z"
    }
   },
   "id": "d9cfce3032926002",
   "execution_count": 34
  },
  {
   "cell_type": "code",
   "outputs": [
    {
     "data": {
      "text/plain": "DATETIME       0\nTOTALDEMAND    0\nREGIONID       0\ndtype: int64"
     },
     "execution_count": 35,
     "metadata": {},
     "output_type": "execute_result"
    }
   ],
   "source": [
    "nsw_totaldemand.isnull().sum()"
   ],
   "metadata": {
    "collapsed": false,
    "ExecuteTime": {
     "end_time": "2024-03-21T13:44:46.596457Z",
     "start_time": "2024-03-21T13:44:46.587626Z"
    }
   },
   "id": "b23744a8dc6b5376",
   "execution_count": 35
  },
  {
   "cell_type": "code",
   "outputs": [
    {
     "data": {
      "text/plain": "DATETIME       0\nTOTALDEMAND    0\nREGIONID       0\ndtype: int64"
     },
     "execution_count": 36,
     "metadata": {},
     "output_type": "execute_result"
    }
   ],
   "source": [
    "nsw_totaldemand.isna().sum()"
   ],
   "metadata": {
    "collapsed": false,
    "ExecuteTime": {
     "end_time": "2024-03-21T13:44:46.606244Z",
     "start_time": "2024-03-21T13:44:46.597133Z"
    }
   },
   "id": "ffa4adc5a6c74292",
   "execution_count": 36
  },
  {
   "cell_type": "code",
   "outputs": [
    {
     "data": {
      "text/plain": "DATETIME       196513\nTOTALDEMAND    160515\nREGIONID            1\ndtype: int64"
     },
     "execution_count": 37,
     "metadata": {},
     "output_type": "execute_result"
    }
   ],
   "source": [
    "nsw_totaldemand.nunique()"
   ],
   "metadata": {
    "collapsed": false,
    "ExecuteTime": {
     "end_time": "2024-03-21T13:44:46.621498Z",
     "start_time": "2024-03-21T13:44:46.606838Z"
    }
   },
   "id": "3a4e45db53d1f985",
   "execution_count": 37
  },
  {
   "cell_type": "code",
   "outputs": [
    {
     "data": {
      "text/plain": "DATETIME       datetime64[ns]\nTOTALDEMAND           float64\nREGIONID               object\ndtype: object"
     },
     "execution_count": 38,
     "metadata": {},
     "output_type": "execute_result"
    }
   ],
   "source": [
    "nsw_totaldemand.dtypes"
   ],
   "metadata": {
    "collapsed": false,
    "ExecuteTime": {
     "end_time": "2024-03-21T13:44:46.624448Z",
     "start_time": "2024-03-21T13:44:46.622128Z"
    }
   },
   "id": "674217cbe3f28c3",
   "execution_count": 38
  },
  {
   "cell_type": "code",
   "outputs": [],
   "source": [],
   "metadata": {
    "collapsed": false,
    "ExecuteTime": {
     "end_time": "2024-03-21T13:44:46.626029Z",
     "start_time": "2024-03-21T13:44:46.624913Z"
    }
   },
   "id": "8711c4a72379037f",
   "execution_count": 38
  }
 ],
 "metadata": {
  "kernelspec": {
   "display_name": "Python 3",
   "language": "python",
   "name": "python3"
  },
  "language_info": {
   "codemirror_mode": {
    "name": "ipython",
    "version": 2
   },
   "file_extension": ".py",
   "mimetype": "text/x-python",
   "name": "python",
   "nbconvert_exporter": "python",
   "pygments_lexer": "ipython2",
   "version": "2.7.6"
  }
 },
 "nbformat": 4,
 "nbformat_minor": 5
}
