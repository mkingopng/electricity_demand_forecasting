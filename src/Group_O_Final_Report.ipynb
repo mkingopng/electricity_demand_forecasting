{
 "cells": [
  {
   "cell_type": "markdown",
   "id": "d3d2854e",
   "metadata": {},
   "source": [
    "# A Data Science Approach to Forecast Electricity Consumption in Australia\n",
    "- Noel Singh (zID1) - role tbc\n",
    "- Reuben Bowell (z5382909) - role tbc\n",
    "- William Stephan (z3403800) - role tbc\n",
    "- Michael Kingston (z5372750) - role tbc"
   ]
  },
  {
   "cell_type": "markdown",
   "id": "f1f1fff9",
   "metadata": {},
   "source": [
    "## Introduction"
   ]
  },
  {
   "cell_type": "markdown",
   "id": "3a4af999",
   "metadata": {},
   "source": []
  },
  {
   "cell_type": "markdown",
   "id": "41c820c0",
   "metadata": {},
   "source": [
    "## Literature Review"
   ]
  },
  {
   "cell_type": "markdown",
   "id": "f5b8d95b",
   "metadata": {},
   "source": []
  },
  {
   "cell_type": "markdown",
   "id": "f043d46c",
   "metadata": {},
   "source": [
    "## Materials and Methods"
   ]
  },
  {
   "cell_type": "markdown",
   "id": "12972af8",
   "metadata": {},
   "source": [
    "### Data Description"
   ]
  },
  {
   "cell_type": "markdown",
   "id": "78732b3c",
   "metadata": {},
   "source": [
    "### Pre-processing Steps"
   ]
  },
  {
   "cell_type": "markdown",
   "id": "63790b71",
   "metadata": {},
   "source": [
    "### Data Cleaning"
   ]
  },
  {
   "cell_type": "markdown",
   "id": "05efebc6",
   "metadata": {},
   "source": [
    "### Assumptions\n"
   ]
  },
  {
   "cell_type": "markdown",
   "id": "5929d732",
   "metadata": {},
   "source": [
    "### Modelling Methods"
   ]
  },
  {
   "cell_type": "markdown",
   "id": "33fab50b",
   "metadata": {},
   "source": [
    "## Explorartory Data Analysis"
   ]
  },
  {
   "cell_type": "markdown",
   "id": "a36173af",
   "metadata": {},
   "source": []
  },
  {
   "cell_type": "markdown",
   "id": "819eb59b",
   "metadata": {},
   "source": [
    "## Analysis and Results"
   ]
  },
  {
   "cell_type": "markdown",
   "id": "739acf00",
   "metadata": {},
   "source": []
  },
  {
   "cell_type": "markdown",
   "id": "f5802b08",
   "metadata": {},
   "source": [
    "## Discussion"
   ]
  },
  {
   "cell_type": "markdown",
   "id": "9cc514ec",
   "metadata": {},
   "source": []
  },
  {
   "cell_type": "markdown",
   "id": "aae4bd66",
   "metadata": {},
   "source": [
    "## Conclusion"
   ]
  },
  {
   "cell_type": "markdown",
   "id": "6ffe9c7d",
   "metadata": {},
   "source": []
  }
 ],
 "metadata": {
  "kernelspec": {
   "display_name": "Python 3 (ipykernel)",
   "language": "python",
   "name": "python3"
  },
  "language_info": {
   "codemirror_mode": {
    "name": "ipython",
    "version": 3
   },
   "file_extension": ".py",
   "mimetype": "text/x-python",
   "name": "python",
   "nbconvert_exporter": "python",
   "pygments_lexer": "ipython3",
   "version": "3.9.12"
  }
 },
 "nbformat": 4,
 "nbformat_minor": 5
}
