{
 "cells": [
  {
   "cell_type": "code",
   "execution_count": 1,
   "id": "initial_id",
   "metadata": {
    "collapsed": true,
    "ExecuteTime": {
     "end_time": "2024-03-28T05:43:07.454827Z",
     "start_time": "2024-03-28T05:43:07.087522Z"
    }
   },
   "outputs": [],
   "source": [
    "import pandas as pd\n",
    "import os\n",
    "import matplotlib.pyplot as plt"
   ]
  },
  {
   "cell_type": "code",
   "outputs": [],
   "source": [
    "# general settings\n",
    "class CFG:\n",
    "    data_path = './../data'\n",
    "    img_dim1 = 20\n",
    "    img_dim2 = 10\n",
    "    \n",
    "    \n",
    "plt.style.use('fivethirtyeight')   \n",
    "plt.rcParams.update({'figure.figsize': (CFG.img_dim1, CFG.img_dim2)}) "
   ],
   "metadata": {
    "collapsed": false,
    "ExecuteTime": {
     "end_time": "2024-03-28T05:43:07.458108Z",
     "start_time": "2024-03-28T05:43:07.455794Z"
    }
   },
   "id": "b3d1435080627870",
   "execution_count": 2
  },
  {
   "cell_type": "code",
   "outputs": [],
   "source": [
    "df = pd.read_parquet(os.path.join(CFG.data_path, 'Combined_PUBLIC_DVD_PERDEMAND.parquet'))"
   ],
   "metadata": {
    "collapsed": false,
    "ExecuteTime": {
     "end_time": "2024-03-28T05:43:13.423598Z",
     "start_time": "2024-03-28T05:43:07.458715Z"
    }
   },
   "id": "38d6447225bb5c28",
   "execution_count": 3
  },
  {
   "cell_type": "code",
   "outputs": [
    {
     "data": {
      "text/plain": "   I  DEMAND  PERIOD  1 EFFECTIVEDATE SETTLEMENTDATE REGIONID  OFFERDATE  \\\n0  D  DEMAND  PERIOD  1    2022-05-01     2022-05-01     VIC1 2022-04-24   \n1  D  DEMAND  PERIOD  1    2022-05-01     2022-05-01     VIC1 2022-04-24   \n2  D  DEMAND  PERIOD  1    2022-05-01     2022-05-01     VIC1 2022-04-24   \n3  D  DEMAND  PERIOD  1    2022-05-01     2022-05-01     VIC1 2022-04-24   \n4  D  DEMAND  PERIOD  1    2022-05-01     2022-05-01     VIC1 2022-04-24   \n\n   PERIODID  VERSIONNO  RESDEMAND  DEMAND90PROBABILITY  DEMAND10PROBABILITY  \\\n0        11          6       3992                 3686                 4298   \n1        12          6       3876                 3578                 4173   \n2        13          6       3746                 3458                 4034   \n3        14          6       3631                 3351                 3910   \n4        15          6       3545                 3271                 3818   \n\n           LASTCHANGED  MR_SCHEDULE  \n0  2022/04/24 02:58:48            0  \n1  2022/04/24 02:58:48            0  \n2  2022/04/24 02:58:48            0  \n3  2022/04/24 02:58:48            0  \n4  2022/04/24 02:58:48            0  ",
      "text/html": "<div>\n<style scoped>\n    .dataframe tbody tr th:only-of-type {\n        vertical-align: middle;\n    }\n\n    .dataframe tbody tr th {\n        vertical-align: top;\n    }\n\n    .dataframe thead th {\n        text-align: right;\n    }\n</style>\n<table border=\"1\" class=\"dataframe\">\n  <thead>\n    <tr style=\"text-align: right;\">\n      <th></th>\n      <th>I</th>\n      <th>DEMAND</th>\n      <th>PERIOD</th>\n      <th>1</th>\n      <th>EFFECTIVEDATE</th>\n      <th>SETTLEMENTDATE</th>\n      <th>REGIONID</th>\n      <th>OFFERDATE</th>\n      <th>PERIODID</th>\n      <th>VERSIONNO</th>\n      <th>RESDEMAND</th>\n      <th>DEMAND90PROBABILITY</th>\n      <th>DEMAND10PROBABILITY</th>\n      <th>LASTCHANGED</th>\n      <th>MR_SCHEDULE</th>\n    </tr>\n  </thead>\n  <tbody>\n    <tr>\n      <th>0</th>\n      <td>D</td>\n      <td>DEMAND</td>\n      <td>PERIOD</td>\n      <td>1</td>\n      <td>2022-05-01</td>\n      <td>2022-05-01</td>\n      <td>VIC1</td>\n      <td>2022-04-24</td>\n      <td>11</td>\n      <td>6</td>\n      <td>3992</td>\n      <td>3686</td>\n      <td>4298</td>\n      <td>2022/04/24 02:58:48</td>\n      <td>0</td>\n    </tr>\n    <tr>\n      <th>1</th>\n      <td>D</td>\n      <td>DEMAND</td>\n      <td>PERIOD</td>\n      <td>1</td>\n      <td>2022-05-01</td>\n      <td>2022-05-01</td>\n      <td>VIC1</td>\n      <td>2022-04-24</td>\n      <td>12</td>\n      <td>6</td>\n      <td>3876</td>\n      <td>3578</td>\n      <td>4173</td>\n      <td>2022/04/24 02:58:48</td>\n      <td>0</td>\n    </tr>\n    <tr>\n      <th>2</th>\n      <td>D</td>\n      <td>DEMAND</td>\n      <td>PERIOD</td>\n      <td>1</td>\n      <td>2022-05-01</td>\n      <td>2022-05-01</td>\n      <td>VIC1</td>\n      <td>2022-04-24</td>\n      <td>13</td>\n      <td>6</td>\n      <td>3746</td>\n      <td>3458</td>\n      <td>4034</td>\n      <td>2022/04/24 02:58:48</td>\n      <td>0</td>\n    </tr>\n    <tr>\n      <th>3</th>\n      <td>D</td>\n      <td>DEMAND</td>\n      <td>PERIOD</td>\n      <td>1</td>\n      <td>2022-05-01</td>\n      <td>2022-05-01</td>\n      <td>VIC1</td>\n      <td>2022-04-24</td>\n      <td>14</td>\n      <td>6</td>\n      <td>3631</td>\n      <td>3351</td>\n      <td>3910</td>\n      <td>2022/04/24 02:58:48</td>\n      <td>0</td>\n    </tr>\n    <tr>\n      <th>4</th>\n      <td>D</td>\n      <td>DEMAND</td>\n      <td>PERIOD</td>\n      <td>1</td>\n      <td>2022-05-01</td>\n      <td>2022-05-01</td>\n      <td>VIC1</td>\n      <td>2022-04-24</td>\n      <td>15</td>\n      <td>6</td>\n      <td>3545</td>\n      <td>3271</td>\n      <td>3818</td>\n      <td>2022/04/24 02:58:48</td>\n      <td>0</td>\n    </tr>\n  </tbody>\n</table>\n</div>"
     },
     "execution_count": 4,
     "metadata": {},
     "output_type": "execute_result"
    }
   ],
   "source": [
    "df.head()"
   ],
   "metadata": {
    "collapsed": false,
    "ExecuteTime": {
     "end_time": "2024-03-28T05:43:13.433244Z",
     "start_time": "2024-03-28T05:43:13.424379Z"
    }
   },
   "id": "8562b771c64c58f4",
   "execution_count": 4
  },
  {
   "cell_type": "code",
   "outputs": [
    {
     "data": {
      "text/plain": "          I  DEMAND  PERIOD  1 EFFECTIVEDATE SETTLEMENTDATE REGIONID  \\\n74279419  D  DEMAND  PERIOD  1    2023-04-30     2023-04-30     NSW1   \n74279420  D  DEMAND  PERIOD  1    2023-04-30     2023-04-30     NSW1   \n74279421  D  DEMAND  PERIOD  1    2023-04-30     2023-04-30     NSW1   \n74279422  D  DEMAND  PERIOD  1    2023-04-30     2023-04-30     NSW1   \n74279423  D  DEMAND  PERIOD  1    2023-04-30     2023-04-30     NSW1   \n\n          OFFERDATE  PERIODID  VERSIONNO  RESDEMAND  DEMAND90PROBABILITY  \\\n74279419 2023-04-30        29         37       8979                 8831   \n74279420 2023-04-30        30         37       8734                 8590   \n74279421 2023-04-30        31         37       8521                 8362   \n74279422 2023-04-30        32         37       8386                 8212   \n74279423 2023-04-30        33         37       8249                 8060   \n\n          DEMAND10PROBABILITY          LASTCHANGED  MR_SCHEDULE  \n74279419                 9126  2023/04/30 18:28:10            0  \n74279420                 8877  2023/04/30 18:28:10            0  \n74279421                 8680  2023/04/30 18:28:10            0  \n74279422                 8561  2023/04/30 18:28:10            0  \n74279423                 8439  2023/04/30 18:28:10            0  ",
      "text/html": "<div>\n<style scoped>\n    .dataframe tbody tr th:only-of-type {\n        vertical-align: middle;\n    }\n\n    .dataframe tbody tr th {\n        vertical-align: top;\n    }\n\n    .dataframe thead th {\n        text-align: right;\n    }\n</style>\n<table border=\"1\" class=\"dataframe\">\n  <thead>\n    <tr style=\"text-align: right;\">\n      <th></th>\n      <th>I</th>\n      <th>DEMAND</th>\n      <th>PERIOD</th>\n      <th>1</th>\n      <th>EFFECTIVEDATE</th>\n      <th>SETTLEMENTDATE</th>\n      <th>REGIONID</th>\n      <th>OFFERDATE</th>\n      <th>PERIODID</th>\n      <th>VERSIONNO</th>\n      <th>RESDEMAND</th>\n      <th>DEMAND90PROBABILITY</th>\n      <th>DEMAND10PROBABILITY</th>\n      <th>LASTCHANGED</th>\n      <th>MR_SCHEDULE</th>\n    </tr>\n  </thead>\n  <tbody>\n    <tr>\n      <th>74279419</th>\n      <td>D</td>\n      <td>DEMAND</td>\n      <td>PERIOD</td>\n      <td>1</td>\n      <td>2023-04-30</td>\n      <td>2023-04-30</td>\n      <td>NSW1</td>\n      <td>2023-04-30</td>\n      <td>29</td>\n      <td>37</td>\n      <td>8979</td>\n      <td>8831</td>\n      <td>9126</td>\n      <td>2023/04/30 18:28:10</td>\n      <td>0</td>\n    </tr>\n    <tr>\n      <th>74279420</th>\n      <td>D</td>\n      <td>DEMAND</td>\n      <td>PERIOD</td>\n      <td>1</td>\n      <td>2023-04-30</td>\n      <td>2023-04-30</td>\n      <td>NSW1</td>\n      <td>2023-04-30</td>\n      <td>30</td>\n      <td>37</td>\n      <td>8734</td>\n      <td>8590</td>\n      <td>8877</td>\n      <td>2023/04/30 18:28:10</td>\n      <td>0</td>\n    </tr>\n    <tr>\n      <th>74279421</th>\n      <td>D</td>\n      <td>DEMAND</td>\n      <td>PERIOD</td>\n      <td>1</td>\n      <td>2023-04-30</td>\n      <td>2023-04-30</td>\n      <td>NSW1</td>\n      <td>2023-04-30</td>\n      <td>31</td>\n      <td>37</td>\n      <td>8521</td>\n      <td>8362</td>\n      <td>8680</td>\n      <td>2023/04/30 18:28:10</td>\n      <td>0</td>\n    </tr>\n    <tr>\n      <th>74279422</th>\n      <td>D</td>\n      <td>DEMAND</td>\n      <td>PERIOD</td>\n      <td>1</td>\n      <td>2023-04-30</td>\n      <td>2023-04-30</td>\n      <td>NSW1</td>\n      <td>2023-04-30</td>\n      <td>32</td>\n      <td>37</td>\n      <td>8386</td>\n      <td>8212</td>\n      <td>8561</td>\n      <td>2023/04/30 18:28:10</td>\n      <td>0</td>\n    </tr>\n    <tr>\n      <th>74279423</th>\n      <td>D</td>\n      <td>DEMAND</td>\n      <td>PERIOD</td>\n      <td>1</td>\n      <td>2023-04-30</td>\n      <td>2023-04-30</td>\n      <td>NSW1</td>\n      <td>2023-04-30</td>\n      <td>33</td>\n      <td>37</td>\n      <td>8249</td>\n      <td>8060</td>\n      <td>8439</td>\n      <td>2023/04/30 18:28:10</td>\n      <td>0</td>\n    </tr>\n  </tbody>\n</table>\n</div>"
     },
     "execution_count": 5,
     "metadata": {},
     "output_type": "execute_result"
    }
   ],
   "source": [
    "df.tail()"
   ],
   "metadata": {
    "collapsed": false,
    "ExecuteTime": {
     "end_time": "2024-03-28T05:43:13.444857Z",
     "start_time": "2024-03-28T05:43:13.434178Z"
    }
   },
   "id": "bd29fda8ed0ebfcc",
   "execution_count": 5
  },
  {
   "cell_type": "code",
   "outputs": [
    {
     "data": {
      "text/plain": "I                              object\nDEMAND                         object\nPERIOD                         object\n1                               int64\nEFFECTIVEDATE          datetime64[ns]\nSETTLEMENTDATE         datetime64[ns]\nREGIONID                       object\nOFFERDATE              datetime64[ns]\nPERIODID                        int64\nVERSIONNO                       int64\nRESDEMAND                       int64\nDEMAND90PROBABILITY             int64\nDEMAND10PROBABILITY             int64\nLASTCHANGED                    object\nMR_SCHEDULE                     int64\ndtype: object"
     },
     "execution_count": 6,
     "metadata": {},
     "output_type": "execute_result"
    }
   ],
   "source": [
    "df.dtypes"
   ],
   "metadata": {
    "collapsed": false,
    "ExecuteTime": {
     "end_time": "2024-03-28T05:43:13.451249Z",
     "start_time": "2024-03-28T05:43:13.445418Z"
    }
   },
   "id": "8fd3ed23e3bb1329",
   "execution_count": 6
  },
  {
   "cell_type": "code",
   "outputs": [],
   "source": [],
   "metadata": {
    "collapsed": false,
    "ExecuteTime": {
     "end_time": "2024-03-28T05:43:13.453050Z",
     "start_time": "2024-03-28T05:43:13.451837Z"
    }
   },
   "id": "96ba56eb2d74d862",
   "execution_count": 6
  }
 ],
 "metadata": {
  "kernelspec": {
   "display_name": "Python 3",
   "language": "python",
   "name": "python3"
  },
  "language_info": {
   "codemirror_mode": {
    "name": "ipython",
    "version": 2
   },
   "file_extension": ".py",
   "mimetype": "text/x-python",
   "name": "python",
   "nbconvert_exporter": "python",
   "pygments_lexer": "ipython2",
   "version": "2.7.6"
  }
 },
 "nbformat": 4,
 "nbformat_minor": 5
}
