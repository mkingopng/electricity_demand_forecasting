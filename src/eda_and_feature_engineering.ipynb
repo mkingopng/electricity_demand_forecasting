{
 "cells": [
  {
   "cell_type": "code",
   "outputs": [],
   "source": [
    "# todo: housekeeping. get rid of obsolete data and files\n",
    "# todo: Modelling: SARIMA, Prophet, LSTM, \n",
    "# todo: Metrics, MAE, RMSE, \n",
    "# todo: plots for train error and test error\n",
    "# todo: definition of accuracy - MSE, RMSE, MAPE, MAE\n",
    "# Todo: how accurate is the current forecast by these metrics?\n",
    "# question: do we have all the temperature index is consistent. Temp is missing values for certain months and we're trying to merge on it\n",
    "# question: "
   ],
   "metadata": {
    "collapsed": false,
    "is_executing": true
   },
   "id": "e20e38e057e0c245",
   "execution_count": null
  },
  {
   "cell_type": "code",
   "execution_count": null,
   "id": "initial_id",
   "metadata": {
    "collapsed": true
   },
   "outputs": [],
   "source": [
    "import pandas as pd\n",
    "import numpy as np\n",
    "from pandas.plotting import autocorrelation_plot\n",
    "import os\n",
    "import matplotlib.pyplot as plt\n",
    "import functools\n",
    "import seaborn as sns\n",
    "from scipy.stats import zscore\n",
    "from statsmodels.tsa.seasonal import seasonal_decompose\n",
    "import statsmodels.graphics.tsaplots as tsa\n",
    "import statsmodels.api as sm\n",
    "import statsmodels.formula.api as smf\n",
    "from config import CFG\n",
    "from sklearn.preprocessing import StandardScaler\n",
    "from sklearn.ensemble import IsolationForest\n",
    "from utils import csv_to_parquet, normalize_columns, month_to_season, plot_correlation_heatmap"
   ]
  },
  {
   "cell_type": "code",
   "execution_count": null,
   "id": "ba303a9914e81f1d",
   "metadata": {
    "collapsed": false
   },
   "outputs": [],
   "source": [
    "CFG = CFG()\n",
    "\n",
    "plt.style.use('fivethirtyeight')\n",
    "plt.rcParams.update({'figure.figsize': (CFG.img_dim1, CFG.img_dim2)})"
   ]
  },
  {
   "cell_type": "markdown",
   "source": [
    "# preprocess data"
   ],
   "metadata": {
    "collapsed": false
   },
   "id": "772c16486aa647dc"
  },
  {
   "cell_type": "code",
   "outputs": [],
   "source": [
    "csv_to_parquet(\n",
    "    csv_folder=CFG.data_path, \n",
    "    parquet_folder=CFG.data_path\n",
    ")"
   ],
   "metadata": {
    "collapsed": false
   },
   "id": "2ee71ea759a77647",
   "execution_count": null
  },
  {
   "cell_type": "markdown",
   "source": [
    "# load data"
   ],
   "metadata": {
    "collapsed": false
   },
   "id": "9dfecca48785eac6"
  },
  {
   "cell_type": "code",
   "execution_count": null,
   "id": "b007dd8673e54f80",
   "metadata": {
    "collapsed": false
   },
   "outputs": [],
   "source": [
    "nsw_forecastdemand = pd.read_parquet(\n",
    "    os.path.join(CFG.data_path, 'forecastdemand_nsw.parquet'),\n",
    ").groupby('DATETIME').agg({'FORECASTDEMAND': 'mean'})"
   ]
  },
  {
   "cell_type": "markdown",
   "source": [
    "- we should try to understand what `periodid` represents\n",
    "- for now we will `groupby` datetime and use `mean()` as the agg function"
   ],
   "metadata": {
    "collapsed": false
   },
   "id": "89680299339ccc20"
  },
  {
   "cell_type": "code",
   "execution_count": null,
   "id": "f41d1bf3a1a7bd",
   "metadata": {
    "collapsed": false
   },
   "outputs": [],
   "source": [
    "nsw_totaldemand = pd.read_parquet(\n",
    "    os.path.join(CFG.data_path, 'totaldemand_nsw.parquet'),\n",
    ")"
   ]
  },
  {
   "cell_type": "code",
   "execution_count": null,
   "id": "bd512c503be41066",
   "metadata": {
    "collapsed": false
   },
   "outputs": [],
   "source": [
    "nsw_temperature = pd.read_parquet(\n",
    "    os.path.join(CFG.data_path, 'temperature_nsw.parquet'),\n",
    ").resample('30min').mean()\n",
    "nsw_temperature['TEMPERATURE'] = nsw_temperature['TEMPERATURE'].interpolate(method='time')"
   ]
  },
  {
   "cell_type": "code",
   "outputs": [],
   "source": [
    "price_df = pd.read_parquet(\n",
    "    os.path.join(CFG.data_path, 'price_cleaned_data.parquet'), \n",
    ")\n",
    "price_df['rrp'] = price_df['rrp'].interpolate(method='time')"
   ],
   "metadata": {
    "collapsed": false
   },
   "id": "d3e2e9f21749b389",
   "execution_count": null
  },
  {
   "cell_type": "markdown",
   "id": "7824094120a03b7c",
   "metadata": {
    "collapsed": false
   },
   "source": [
    "# merge"
   ]
  },
  {
   "cell_type": "code",
   "execution_count": null,
   "id": "ba35b216e823d60c",
   "metadata": {
    "collapsed": false
   },
   "outputs": [],
   "source": [
    "dfs = [\n",
    "    nsw_totaldemand, \n",
    "    nsw_forecastdemand, \n",
    "    nsw_temperature, \n",
    "    price_df\n",
    "]\n",
    "\n",
    "nsw_df = functools.reduce(\n",
    "    lambda left, right: \n",
    "    pd.merge(\n",
    "        left, \n",
    "        right, \n",
    "        left_index=True, \n",
    "        right_index=True, \n",
    "        how='inner'\n",
    "    ), dfs\n",
    ")"
   ]
  },
  {
   "cell_type": "markdown",
   "id": "19f21040121e70d2",
   "metadata": {
    "collapsed": false
   },
   "source": [
    "# EDA"
   ]
  },
  {
   "cell_type": "code",
   "execution_count": null,
   "id": "ad032d93149abc16",
   "metadata": {
    "collapsed": false
   },
   "outputs": [],
   "source": [
    "nsw_df.describe()"
   ]
  },
  {
   "cell_type": "code",
   "execution_count": null,
   "id": "a69442b9c176d0b7",
   "metadata": {
    "collapsed": false
   },
   "outputs": [],
   "source": [
    "nsw_df.corr()"
   ]
  },
  {
   "cell_type": "code",
   "execution_count": null,
   "id": "203feef92437089f",
   "metadata": {
    "collapsed": false
   },
   "outputs": [],
   "source": [
    "sns.heatmap(nsw_df.corr(), annot=True, cmap='coolwarm')"
   ]
  },
  {
   "cell_type": "code",
   "execution_count": null,
   "id": "dfc72cf3",
   "metadata": {},
   "outputs": [],
   "source": [
    "plot_correlation_heatmap(nsw_df)"
   ]
  },
  {
   "cell_type": "markdown",
   "id": "be970c6b201afeba",
   "metadata": {
    "collapsed": false
   },
   "source": [
    "# Forecast and actual demand over time"
   ]
  },
  {
   "cell_type": "code",
   "execution_count": null,
   "id": "bbf2d0c68fbfc0a9",
   "metadata": {
    "collapsed": false
   },
   "outputs": [],
   "source": [
    "plt.figure(figsize=(CFG.img_dim1, CFG.img_dim2))\n",
    "\n",
    "daily_avg_actual = nsw_df['TOTALDEMAND'].resample('D').mean()\n",
    "daily_avg_forecast = nsw_df['FORECASTDEMAND'].resample('D').mean()\n",
    "\n",
    "plt.plot(\n",
    "    daily_avg_actual.index, \n",
    "    daily_avg_actual, \n",
    "    label='Actual Demand - Daily Avg', \n",
    "    color='red', \n",
    "    alpha=0.5\n",
    ")\n",
    "\n",
    "plt.plot(\n",
    "    daily_avg_forecast.index, \n",
    "    daily_avg_forecast, \n",
    "    label='Forecast Demand - Daily Avg', \n",
    "    color='blue', \n",
    "    alpha=0.5\n",
    ")\n",
    "\n",
    "plt.plot(\n",
    "    daily_avg_forecast.index, \n",
    "    daily_avg_forecast - daily_avg_actual, \n",
    "    label='Difference (Forecast - Actual)', \n",
    "    color='green', \n",
    "    alpha=0.5\n",
    ")\n",
    "\n",
    "plt.xlabel('Datetime')\n",
    "plt.ylabel('Demand')\n",
    "plt.title('Forecast vs Actual Demand Over Time - Daily Averages')\n",
    "plt.legend()\n",
    "plt.show()"
   ]
  },
  {
   "cell_type": "code",
   "outputs": [],
   "source": [
    "daily_avg_actual_reindexed = daily_avg_actual.reindex(nsw_df.index)\n",
    "daily_avg_actua = daily_avg_actual_reindexed\n",
    "nsw_df['daily_avg_actual'] = daily_avg_actual\n",
    "# nsw_df['daily_avg_actual']"
   ],
   "metadata": {
    "collapsed": false
   },
   "id": "11a84e8f4c81c978",
   "execution_count": null
  },
  {
   "cell_type": "markdown",
   "source": [
    "## backfill daily average reindexed"
   ],
   "metadata": {
    "collapsed": false
   },
   "id": "a7997fc3bd48577f"
  },
  {
   "cell_type": "code",
   "outputs": [],
   "source": [
    "daily_avg_forecast_reindexed = daily_avg_forecast.reindex(nsw_df.index)\n",
    "daily_avg_forecast = daily_avg_forecast_reindexed\n",
    "nsw_df['daily_avg_forecast'] = daily_avg_forecast\n",
    "# question: is backfill the correct treatment?"
   ],
   "metadata": {
    "collapsed": false
   },
   "id": "3346602b32fe353f",
   "execution_count": null
  },
  {
   "cell_type": "markdown",
   "source": [
    "# calculate average error"
   ],
   "metadata": {
    "collapsed": false
   },
   "id": "82df9a3014546dec"
  },
  {
   "cell_type": "code",
   "outputs": [],
   "source": [
    "daily_avg_error = daily_avg_forecast - daily_avg_actual\n",
    "daily_avg_error_reindexed = daily_avg_error.reindex(nsw_df.index)\n",
    "daily_avg_error_filled = daily_avg_error_reindexed.bfill()\n",
    "nsw_df['forecast_error'] = daily_avg_error_filled"
   ],
   "metadata": {
    "collapsed": false
   },
   "id": "2349573fc3374191",
   "execution_count": null
  },
  {
   "cell_type": "code",
   "outputs": [],
   "source": [
    "nsw_df"
   ],
   "metadata": {
    "collapsed": false
   },
   "id": "ff861ec70f4daa67",
   "execution_count": null
  },
  {
   "cell_type": "markdown",
   "id": "e927024d808b6fb2",
   "metadata": {
    "collapsed": false
   },
   "source": [
    "# Forecast Demand over time\n",
    "I've made some changes to try to improve this plot:\n",
    "- **Smoothing**: The plot is quite noisy, so applying a rolling mean (moving average) can help to smooth out short-term fluctuations and highlight longer-term trends.\n",
    "- **Highlighting Peaks and Troughs**: You could programmatically identify and annotate significant peaks and troughs to draw attention to them.\n",
    "- **Resampling**: If the data is too dense, consider resampling it to a larger time frame, such as daily or weekly averages."
   ]
  },
  {
   "cell_type": "code",
   "outputs": [],
   "source": [
    "rolling_window = 48\n",
    "nsw_df['smoothed_forecast_demand'] = nsw_df['FORECASTDEMAND'].rolling(window=rolling_window).mean()\n",
    "index_range = nsw_df.index[:rolling_window]\n",
    "nsw_df.loc[index_range, 'smoothed_forecast_demand'] = nsw_df['smoothed_forecast_demand'][rolling_window:].bfill().head(rolling_window)"
   ],
   "metadata": {
    "collapsed": false
   },
   "id": "d6f49a2433092df7",
   "execution_count": null
  },
  {
   "cell_type": "code",
   "outputs": [],
   "source": [
    "# calculate the index of the 50th entry\n",
    "fifty_index = nsw_df.head(50).index[-1]"
   ],
   "metadata": {
    "collapsed": false
   },
   "id": "bb5d201290ec17ef",
   "execution_count": null
  },
  {
   "cell_type": "code",
   "outputs": [],
   "source": [
    "# perform backfill on the first 50 entries\n",
    "nsw_df.loc[:fifty_index, 'smoothed_forecast_demand'] = nsw_df.loc[:fifty_index, 'smoothed_forecast_demand'].bfill()"
   ],
   "metadata": {
    "collapsed": false
   },
   "id": "583fbf6c348a3b2e",
   "execution_count": null
  },
  {
   "cell_type": "code",
   "outputs": [],
   "source": [
    "nsw_df_daily = nsw_df['FORECASTDEMAND'].resample('D').mean()\n",
    "# nsw_df_daily  # daily average forecast demand"
   ],
   "metadata": {
    "collapsed": false
   },
   "id": "ca3ec4c3b2d5b871",
   "execution_count": null
  },
  {
   "cell_type": "code",
   "execution_count": null,
   "id": "742ce6ebe68d2b8e",
   "metadata": {
    "collapsed": false
   },
   "outputs": [],
   "source": [
    "plt.figure(figsize=(CFG.img_dim1, CFG.img_dim2))\n",
    "\n",
    "plt.plot(\n",
    "    nsw_df['FORECASTDEMAND'], \n",
    "    label='Original Forecast Demand', \n",
    "    alpha=0.5\n",
    ")\n",
    "\n",
    "# \n",
    "plt.plot(\n",
    "    nsw_df['smoothed_forecast_demand'], \n",
    "    label='Smoothed Forecast Demand', \n",
    "    color='red', \n",
    "    alpha=0.8\n",
    ")\n",
    "\n",
    "# \n",
    "plt.plot(\n",
    "    nsw_df_daily.index, \n",
    "    nsw_df_daily, \n",
    "    label='Daily Average Forecast Demand', \n",
    "    color='orange', \n",
    "    alpha=0.8\n",
    ")\n",
    "\n",
    "plt.xlabel('Datetime')\n",
    "plt.ylabel('Demand')\n",
    "plt.title('Forecast Demand Over Time - daily averages and smoothed')\n",
    "plt.grid(True)\n",
    "plt.legend()\n",
    "plt.show()"
   ]
  },
  {
   "cell_type": "code",
   "outputs": [],
   "source": [
    "nsw_df"
   ],
   "metadata": {
    "collapsed": false
   },
   "id": "73cae1d4deca19ff",
   "execution_count": null
  },
  {
   "cell_type": "code",
   "outputs": [],
   "source": [
    "# Add new time-related columns directly to nsw_df\n",
    "nsw_df['year'] = nsw_df.index.year\n",
    "nsw_df['quarter'] = nsw_df.index.quarter\n",
    "nsw_df['month'] = nsw_df.index.month\n",
    "nsw_df['dow'] = nsw_df.index.dayofweek\n",
    "nsw_df['doy'] = nsw_df.index.dayofyear\n",
    "nsw_df['hour'] = nsw_df.index.hour\n",
    "# todo: week of the year, holidays & other special days"
   ],
   "metadata": {
    "collapsed": false
   },
   "id": "9e8c23a090a75d81",
   "execution_count": null
  },
  {
   "cell_type": "code",
   "outputs": [],
   "source": [
    "# Apply the function to create the 'season' column\n",
    "nsw_df['season'] = nsw_df['month'].apply(month_to_season)"
   ],
   "metadata": {
    "collapsed": false
   },
   "id": "20277a8b94778930",
   "execution_count": null
  },
  {
   "cell_type": "code",
   "outputs": [],
   "source": [
    "nsw_df"
   ],
   "metadata": {
    "collapsed": false
   },
   "id": "b09773a714509f8c",
   "execution_count": null
  },
  {
   "cell_type": "markdown",
   "id": "c0ba1da7746d91b3",
   "metadata": {
    "collapsed": false
   },
   "source": [
    "## Observations\n",
    "The plot layers three time series: \n",
    "- the original forecast demand, \n",
    "- the smoothed forecast demand, \n",
    "- and the daily average forecast demand. \n",
    "\n",
    "Here are some potential conclusions and observations I draw from this plot:\n",
    "\n",
    "1. **Volatility**: The original forecast demand shows significant volatility, as indicated by the frequent and sometimes sharp peaks and valleys.\n",
    "\n",
    "2. **Smoothing Effect**: The smoothed forecast demand (the line in red) has reduced the short-term fluctuations, making the underlying trends more visible. It appears to follow the central tendency of the original forecast, reducing the impact of extreme values.\n",
    "\n",
    "3. **Daily Patterns**: The daily average forecast demand (the line in yellow) simplifies the data to show the trend within each day, abstracting away the half-hourly variations. This line highlights the overall daily movement in demand without the noise of intra-day fluctuations.\n",
    "\n",
    "4. **Long-term Trends**: Despite the daily and smoothed variations, there seems to be a consistent pattern that repeats over a longer cycle, perhaps weekly or seasonally, which would be worth investigating further.\n",
    "\n",
    "5. **Comparative Analysis**: By overlaying the smoothed and daily averaged data over the original forecast demand, it's possible to compare short-term variations to longer-term patterns. This can be crucial for understanding both normal daily operations and the impact of specific events or anomalies.\n",
    "\n",
    "6. **Anomaly Identification**: The points where the original demand significantly diverges from its smoothed or daily average counterpart may indicate anomalies or special events that caused unusual demand (such as holidays, heatwaves, etc.).\n",
    "\n",
    "For further analysis, I should investigate the causes of the peaks and troughs in more detail, especially the outliers. For example, examining corresponding temperature data, special events, or other external factors could provide insights into why demand might spike or dip at various points in time."
   ]
  },
  {
   "cell_type": "markdown",
   "id": "c513a37255a3d611",
   "metadata": {
    "collapsed": false
   },
   "source": [
    "# Total Demand over time"
   ]
  },
  {
   "cell_type": "code",
   "execution_count": null,
   "id": "c18defdcdc1ca7b1",
   "metadata": {
    "collapsed": false
   },
   "outputs": [],
   "source": [
    "plt.figure(figsize=(CFG.img_dim1, CFG.img_dim2))\n",
    "\n",
    "nsw_df_daily = nsw_df['TOTALDEMAND'].resample('D').mean()\n",
    "rolling_window = 48\n",
    "nsw_df['smoothed_total_demand'] = nsw_df['TOTALDEMAND'].rolling(window=rolling_window).mean()\n",
    "\n",
    "plt.plot(\n",
    "    nsw_df['TOTALDEMAND'], \n",
    "    label='Actual Demand', \n",
    "    color='red', \n",
    "    alpha=0.3\n",
    ")\n",
    "\n",
    "plt.plot(\n",
    "    nsw_df.index, \n",
    "    nsw_df['smoothed_total_demand'], \n",
    "    label='Smoothed Actual Demand', \n",
    "    color='blue', \n",
    "    alpha=0.7\n",
    ")\n",
    "\n",
    "plt.plot(\n",
    "    nsw_df_daily.index, \n",
    "    nsw_df_daily, \n",
    "    label='Daily Average Demand', \n",
    "    color='yellow', \n",
    "    alpha=1.0, \n",
    "    linewidth=2\n",
    ")\n",
    "\n",
    "plt.xlabel('Datetime')\n",
    "plt.ylabel('Demand')\n",
    "plt.title('Actual Demand Over Time - Daily Averages and Smoothed')\n",
    "\n",
    "plt.grid(True)\n",
    "plt.legend()\n",
    "plt.show()"
   ]
  },
  {
   "cell_type": "markdown",
   "id": "a427b48a4f84d83",
   "metadata": {
    "collapsed": false
   },
   "source": [
    "## Observations\n",
    "This plot, which shows actual demand over time along with its daily average and smoothed version, include:\n",
    "\n",
    "1. **Cyclical Patterns**: There are visible patterns that repeat over time, which may correspond to weekly, monthly, or seasonal cycles in electricity demand.\n",
    "\n",
    "2. **Daily Variations**: The daily average demand (in yellow) shows how demand fluctuates on a day-to-day basis. This line smooths out the intraday variations and reveals the general movement of demand throughout the dataset's timeline.\n",
    "\n",
    "3. **Trend Indication**: The smoothed actual demand (in blue) helps to identify the underlying trend by minimizing the impact of short-term fluctuations. This can provide insights into longer-term movements in demand, such as gradual increases or decreases over the years.\n",
    "\n",
    "4. **Peak Demand Periods**: There are significant spikes in actual demand (in red) that stand out above the smoothed and daily average trends. These peaks could indicate days of particularly high demand, which could be due to extreme weather, special events, or other factors.\n",
    "\n",
    "5. **Volatility**: The red peaks suggest periods of high volatility in actual demand. Understanding the factors contributing to this volatility could be crucial for grid management and planning.\n",
    "\n",
    "6. **Data Density**: The plot is dense and hard to interpret in detail, particularly over such a long timeframe. A more granular view (e.g., looking at shorter periods) is likely provide more actionable insights. This should be the next task for me\n",
    "\n",
    "7. **Anomalies and Outliers**: The actual demand has several outliers which are significantly different from the smoothed trend and daily average. These could represent data anomalies that may need to be investigated further.\n",
    "\n",
    "To better understand the demand patterns and to make informed decisions, I should segment the data into different periods (such as by year, season, week and day), and analyse it in conjunction with other relevant data (like temperature or economic activity)."
   ]
  },
  {
   "cell_type": "markdown",
   "id": "2650edd006db1434",
   "metadata": {
    "collapsed": false
   },
   "source": [
    "# Temperature over time"
   ]
  },
  {
   "cell_type": "code",
   "execution_count": null,
   "id": "971b30c5f60a442c",
   "metadata": {
    "collapsed": false
   },
   "outputs": [],
   "source": [
    "rolling_window = 48  # this should be changed. 48 represents 24 hours\n",
    "# todo: kalman filter doesn't need us to specify threshold, so its less arbitrary \n",
    "nsw_df['smoothed_temperature'] = nsw_df['TEMPERATURE'].rolling(window=rolling_window).mean()\n",
    "\n",
    "plt.figure(figsize=(CFG.img_dim1, CFG.img_dim2))\n",
    "\n",
    "# original temperature\n",
    "plt.plot(\n",
    "    nsw_df.index, \n",
    "    nsw_df['TEMPERATURE'], \n",
    "    color='orange', \n",
    "    alpha=0.5, \n",
    "    label='Original Temperature'\n",
    ")\n",
    "\n",
    "# smoothed temperature\n",
    "plt.plot(\n",
    "    nsw_df.index, \n",
    "    nsw_df['smoothed_temperature'], \n",
    "    color='red', \n",
    "    label='Smoothed Temperature'\n",
    ")\n",
    "\n",
    "plt.xlabel('Datetime')\n",
    "plt.ylabel('Temperature (°C)')\n",
    "plt.title('Temperature Over Time with Smoothed Curve')\n",
    "plt.legend()\n",
    "plt.show()"
   ]
  },
  {
   "cell_type": "markdown",
   "id": "2b8f78b6bf1a2e5d",
   "metadata": {
    "collapsed": false
   },
   "source": [
    "## Observations\n",
    "- tbc"
   ]
  },
  {
   "cell_type": "markdown",
   "id": "444a82d5e721894d",
   "metadata": {
    "collapsed": false
   },
   "source": [
    "# Scatter Plot: Temperature vs Demand\n",
    "- to see if higher or lower temperatures correlate with higher or lower demand\n",
    "- it looks like the line of best fit is quadratic to me"
   ]
  },
  {
   "cell_type": "code",
   "execution_count": null,
   "id": "b49cbb3ad651638f",
   "metadata": {
    "collapsed": false
   },
   "outputs": [],
   "source": [
    "plt.figure(figsize=(CFG.img_dim1, CFG.img_dim2))\n",
    "\n",
    "# temperature vs total demand\n",
    "sns.scatterplot(\n",
    "    x='TEMPERATURE', \n",
    "    y='TOTALDEMAND', \n",
    "    data=nsw_df, \n",
    "    alpha=0.3\n",
    ")\n",
    "\n",
    "# fit and plot a polynomial regression with order 2 (quadratic)\n",
    "sns.regplot(\n",
    "    x='TEMPERATURE', \n",
    "    y='TOTALDEMAND', \n",
    "    data=nsw_df, \n",
    "    order=2, \n",
    "    scatter=False, \n",
    "    color='red'\n",
    ")\n",
    "\n",
    "plt.xlabel('Temperature (°C)', fontsize=12)\n",
    "plt.ylabel('Total Demand (MW)', fontsize=12)\n",
    "plt.title('Total Demand vs. Temperature', fontsize=14)\n",
    "plt.grid(True)\n",
    "plt.tight_layout()\n",
    "plt.show()"
   ]
  },
  {
   "cell_type": "markdown",
   "id": "5d3b85faca9c5443",
   "metadata": {
    "collapsed": false
   },
   "source": [
    "## Observations\n",
    "The scatter plot shows Total Demand plotted against Temperature, with a quadratic trend line indicating the general pattern of the relationship between these two variables. Here are some observations we can infer from this plot:\n",
    "\n",
    "1. **Non-linear Relationship**: There appears to be a non-linear, possibly quadratic relationship between temperature and total demand. Demand increases with temperature up to a certain point, after which it seems to plateau or even decline slightly.\n",
    "\n",
    "2. **Increased Demand at Moderate Temperatures**: The highest total demand occurs at moderate temperatures, not at the extremes. This could indicate that the most energy-intensive activities (like heating and cooling) occur in a moderate temperature range.\n",
    "\n",
    "3. **Lower Demand at Temperature Extremes**: There is a spread of demand at lower and higher temperatures, but the peaks are not as pronounced as in the moderate range. At low temperatures, this might mean adequate insulation or less need for electric heating. At high temperatures, it could imply that not all cooling is electric, or there may be a cap on how much cooling can be achieved.\n",
    "\n",
    "4. **Possible Threshold Effect**: The trend line suggests that after a certain temperature threshold, increases in temperature do not result in significant increases in demand. This could be due to behavioral changes, energy-efficiency measures, or the saturation of cooling systems.\n",
    "\n",
    "5. **Data Spread**: The considerable spread of data points at all temperature levels suggests that factors other than temperature also significantly influence total demand.\n",
    "\n",
    "6. **High Variability**: There's significant variability in demand at specific temperatures, indicated by the vertical spread of points. This could be due to time-of-day effects, different days of the week, or other variables not accounted for in this two-dimensional plot."
   ]
  },
  {
   "cell_type": "code",
   "execution_count": null,
   "id": "cbd62e2981d2b6dc",
   "metadata": {
    "collapsed": false
   },
   "outputs": [],
   "source": [
    "# new feature\n",
    "nsw_df['minutes_past_midnight'] = nsw_df.index.hour * 60 + nsw_df.index.minute"
   ]
  },
  {
   "cell_type": "markdown",
   "source": [
    "# Scatter plot: Total demand vs time of day (temp as color)\n",
    "To visualize demand patterns at different times of the day."
   ],
   "metadata": {
    "collapsed": false
   },
   "id": "b3f122a73045624b"
  },
  {
   "cell_type": "code",
   "execution_count": null,
   "id": "c3620d10f6e3328a",
   "metadata": {
    "collapsed": false
   },
   "outputs": [],
   "source": [
    "plt.figure(figsize=(CFG.img_dim1, CFG.img_dim2))\n",
    "\n",
    "# temperature, time and total demand\n",
    "plt.scatter(\n",
    "    nsw_df['minutes_past_midnight'], \n",
    "    nsw_df['TOTALDEMAND'], \n",
    "    c=nsw_df['TEMPERATURE'], \n",
    "    alpha=0.6, \n",
    "    cmap='coolwarm', \n",
    "    s=20\n",
    ")  \n",
    "\n",
    "plt.colorbar(label='Temperature (°C)')\n",
    "plt.xlabel('Time of Day', fontsize=12)\n",
    "plt.ylabel('Total Demand (MW)', fontsize=12)\n",
    "plt.title('Total Demand vs. Time of Day', fontsize=14)\n",
    "plt.grid(True)\n",
    "tick_positions = range(0, 1441, 60)\n",
    "tick_labels = [f'{h: 02d}:00' for h in range(24)] + ['00:00']\n",
    "plt.xticks(ticks=tick_positions, labels=tick_labels, rotation=45)\n",
    "plt.tight_layout()\n",
    "plt.show()\n",
    "plt.savefig(os.path.join('./../images', 'file_name_here.png'))"
   ]
  },
  {
   "cell_type": "markdown",
   "id": "e23477e1e7a081c8",
   "metadata": {
    "collapsed": false
   },
   "source": [
    "## Observations\n",
    "1. **Demand Peaks**: It appears that there are two distinct peaks in electricity demand, likely corresponding to morning and evening hours. This is a common pattern in electricity usage, often related to increased activity as people prepare for work and school, and then again as they come home and use more appliances.\n",
    "\n",
    "2. **Temperature Influence**: The color gradient indicates a relationship between temperature and total demand. Warmer colors at higher demand levels could suggest higher energy usage during warmer temperatures, which might be due to air conditioning and cooling systems.\n",
    "\n",
    "3. **Cooler Temperatures**: At cooler temperatures (blue points), demand seems less intense compared to warmer temperatures, which might indicate less energy usage for heating compared to cooling, or it could suggest that the data is from a region where cooling needs are greater than heating needs.\n",
    "\n",
    "4. **Demand Troughs**: There are clear periods where demand is lower, likely during the night when most activities cease, and there's little need for lighting and appliances.\n",
    "\n",
    "5. **Midday Patterns**: There's a visible increase in demand around midday, which could be due to usage in commercial buildings or by industrial processes.\n",
    "\n",
    "6. **Temperature Variability**: There's a spread of temperature values across all times, but particularly so during the times of peak demand. This suggests that on days with higher temperatures, the peaks in demand might be more pronounced.\n",
    "\n",
    "7. **Intraday Variability**: There's significant variability in demand at any given time, which could be influenced by various factors including but not limited to temperature, such as the day of the week, holidays, or specific events."
   ]
  },
  {
   "cell_type": "markdown",
   "id": "cd9180929ce52b8",
   "metadata": {
    "collapsed": false
   },
   "source": [
    "# Histogram: total demand distribution\n",
    "to get an idea of the most common demand levels"
   ]
  },
  {
   "cell_type": "code",
   "execution_count": null,
   "id": "d5597d94b9c55468",
   "metadata": {
    "collapsed": false
   },
   "outputs": [],
   "source": [
    "nsw_df['TOTALDEMAND'].hist(bins=50)\n",
    "plt.xlabel('Total Demand')\n",
    "plt.ylabel('Frequency')\n",
    "plt.title('Distribution of Total Demand')\n",
    "plt.show()"
   ]
  },
  {
   "cell_type": "markdown",
   "id": "b4a07f85662d2b6b",
   "metadata": {
    "collapsed": false
   },
   "source": [
    "## Histogram: temperature distribution"
   ]
  },
  {
   "cell_type": "code",
   "execution_count": null,
   "id": "258d203218fce478",
   "metadata": {
    "collapsed": false
   },
   "outputs": [],
   "source": [
    "nsw_df['TEMPERATURE'].hist(bins=50, color='orange')\n",
    "plt.xlabel('Total Demand')\n",
    "plt.ylabel('Frequency')\n",
    "plt.title('Distribution of Total Demand')\n",
    "plt.show()"
   ]
  },
  {
   "cell_type": "markdown",
   "id": "2847e71b9803e7fb",
   "metadata": {
    "collapsed": false
   },
   "source": [
    "# KDE of Total demand\n",
    "to see the probability density of the total demand levels"
   ]
  },
  {
   "cell_type": "code",
   "execution_count": null,
   "id": "8845f8c8e2215f91",
   "metadata": {
    "collapsed": false
   },
   "outputs": [],
   "source": [
    "nsw_df['TOTALDEMAND'].plot(kind='kde')\n",
    "plt.xlabel('Total Demand')\n",
    "plt.title('KDE of Total Demand')\n",
    "plt.show()"
   ]
  },
  {
   "cell_type": "markdown",
   "id": "82bc1e37be93a724",
   "metadata": {
    "collapsed": false
   },
   "source": [
    "# Autocorrelation plot"
   ]
  },
  {
   "cell_type": "code",
   "execution_count": null,
   "id": "10138da8cf68f173",
   "metadata": {
    "collapsed": false
   },
   "outputs": [],
   "source": [
    "plt.figure(figsize=(CFG.img_dim1, CFG.img_dim2))\n",
    "max_lags = 96\n",
    "autocorrelation_values = [nsw_df['TOTALDEMAND'].autocorr(lag=i) for i in range(max_lags)]\n",
    "plt.plot(autocorrelation_values, marker='o')\n",
    "plt.xlabel('Lags')\n",
    "plt.ylabel('Autocorrelation')\n",
    "plt.title('Autocorrelation of Total Demand up to lag {}'.format(max_lags))\n",
    "plt.show()"
   ]
  },
  {
   "cell_type": "markdown",
   "id": "3fee2e85b2e08e45",
   "metadata": {
    "collapsed": false
   },
   "source": [
    "## Observations\n",
    "For half-hourly data, 96 lags represent a full two days. From the autocorrelation plot, we can make some key interpretations:\n",
    "\n",
    "1. **High Initial Autocorrelation**: The autocorrelation starts at 1 (as it must, since this represents correlation with itself at lag 0) and remains high over the initial lags, which suggests that the demand data is strongly influenced by its immediate past values. This could be due to consistent patterns of demand across adjacent time intervals.\n",
    "\n",
    "2. **Daily Seasonality**: The peak in autocorrelation at lag 48 (which represents a full day's lag for half-hourly data) indicates a strong daily seasonal pattern. The demand at the same time on one day is highly correlated with the demand at the same time on the next day.\n",
    "\n",
    "3. **Two-Day Cycle**: The second peak at lag 96 shows that the demand also correlates with itself two days apart. This reinforces the daily seasonality and suggests a stable pattern of demand that repeats every 48 half-hour period.\n",
    "\n",
    "4. **Troughs at Intermediate Lags**: The troughs at lags that are halfway between the peaks (around 24 and 72) may suggest a less significant correlation at these intermediate points. This could be due to the contrast between daytime and nighttime demand or the differences in demand patterns between workdays and non-workdays.\n",
    "\n",
    "This autocorrelation structure indicates that any models for forecasting or analysis should account for daily seasonality. Time series models such as ARIMA with seasonal components or machine learning models with lagged features might be well-suited to capture and predict these patterns."
   ]
  },
  {
   "cell_type": "markdown",
   "source": [
    "# normalisation / standardisation\n",
    "I'm using z-score normalisation instead of log transform because temperature contains zero and negative values. I started out using scipy.stats implementation but have moved to sklearn StandardScaler"
   ],
   "metadata": {
    "collapsed": false
   },
   "id": "7c37bd6ab174ce64"
  },
  {
   "cell_type": "code",
   "outputs": [],
   "source": [
    "# dict = {\n",
    "#     \"TOTALDEMAND\": \"normalised_total_demand\",\n",
    "#     \"FORECASTDEMAND\": \"normalised_forecast_demand\",\n",
    "#     'TEMPERATURE': 'normalised_temperature'\n",
    "# }\n",
    "# nsw_df = normalize_columns(nsw_df, dict)"
   ],
   "metadata": {
    "collapsed": false
   },
   "id": "35799b0396f31628",
   "execution_count": null
  },
  {
   "cell_type": "markdown",
   "source": [
    "# Boxplot\n",
    "plot the box plots for the normalised values"
   ],
   "metadata": {
    "collapsed": false
   },
   "id": "6798ce49348059a8"
  },
  {
   "cell_type": "code",
   "execution_count": null,
   "id": "46f393702f125806",
   "metadata": {
    "collapsed": false
   },
   "outputs": [],
   "source": [
    "# plt.figure(figsize=(CFG.img_dim1, CFG.img_dim2))\n",
    "# plt.boxplot(\n",
    "#     [\n",
    "#         nsw_df['normalised_total_demand'], \n",
    "#         nsw_df['normalised_forecast_demand'],\n",
    "#         nsw_df['normalised_temperature']\n",
    "#     ],\n",
    "#     labels=[\n",
    "#         'Normalised Total Demand', \n",
    "#         'Normalised Forecast Demand', \n",
    "#         'Normalised Temperature'\n",
    "#     ]\n",
    "# )\n",
    "# plt.title('Normalised Distributions of Demand and Temperature')\n",
    "# plt.show()"
   ]
  },
  {
   "cell_type": "markdown",
   "id": "2490b9d76d5d2821",
   "metadata": {
    "collapsed": false
   },
   "source": [
    "## Observations\n",
    "Based on the box plot for the normalised distributions of Total Demand, Forecast Demand, and Temperature:\n",
    "\n",
    "1. **Central Tendency**: The median of the Total Demand and Forecast Demand (indicated by the line in the middle of the box) are at or near zero, which is expected after normalization. It seems the median for Temperature is also close to zero after normalization.\n",
    "\n",
    "2. **Variability**: The interquartile range (IQR, represented by the box) is more extended for Total Demand compared to Forecast Demand, indicating greater variability in actual demand. The IQR for Temperature appears much smaller, suggesting less variability relative to its mean.\n",
    "\n",
    "3. **Outliers**: The presence of outliers is indicated by the points beyond the whiskers in both Total Demand and Forecast Demand. These are individual data points that lie beyond the typical range (1.5 times the IQR).\n",
    "\n",
    "4. **Symmetry**: The distributions for both demand variables appear reasonably symmetrical around their median, though Total Demand has a notable number of high outliers.\n",
    "\n",
    "5. **Comparison of Distributions**: The fact that both demands have similar box heights (IQRs) but Total Demand has more outliers could indicate that extreme values are more common in the actual demand than forecasted. \n",
    "\n",
    "6. **Temperature Distribution**: Even though the temperature is normalized, the small IQR and the presence of outliers suggest that there are times when the temperature is significantly different from the mean temperature."
   ]
  },
  {
   "cell_type": "markdown",
   "id": "d4fdfc9b3d113aee",
   "metadata": {
    "collapsed": false
   },
   "source": [
    "# Decomposition"
   ]
  },
  {
   "cell_type": "code",
   "execution_count": null,
   "id": "dea125d5c1525742",
   "metadata": {
    "collapsed": false
   },
   "outputs": [],
   "source": [
    "res = seasonal_decompose(\n",
    "    nsw_df['TOTALDEMAND'], \n",
    "    model='additive', \n",
    "    period=48\n",
    ")\n",
    "\n",
    "res.plot()"
   ]
  },
  {
   "cell_type": "markdown",
   "id": "aa9e4bc78cebe669",
   "metadata": {
    "collapsed": false
   },
   "source": [
    "# Decomposition of 1 year of data"
   ]
  },
  {
   "cell_type": "code",
   "execution_count": null,
   "id": "e3ca9be15fa8ceef",
   "metadata": {
    "collapsed": false
   },
   "outputs": [],
   "source": [
    "one_year_data = nsw_df.loc['2020']\n",
    "\n",
    "res_one_year = seasonal_decompose(\n",
    "    one_year_data['TOTALDEMAND'], \n",
    "    model='additive', \n",
    "    period=48\n",
    ")\n",
    "\n",
    "res_one_year.plot()"
   ]
  },
  {
   "cell_type": "markdown",
   "id": "6b23a3237158dc0d",
   "metadata": {
    "collapsed": false
   },
   "source": [
    "### decompose for one week"
   ]
  },
  {
   "cell_type": "code",
   "execution_count": null,
   "id": "5cc07c582ab524ae",
   "metadata": {
    "collapsed": false
   },
   "outputs": [],
   "source": [
    "one_week_data = nsw_df['2020-01-01':'2020-01-07']\n",
    "\n",
    "res_one_week = seasonal_decompose(\n",
    "    one_week_data['TOTALDEMAND'], \n",
    "    model='additive', \n",
    "    period=48\n",
    ")\n",
    "\n",
    "res_one_week.plot()"
   ]
  },
  {
   "cell_type": "markdown",
   "id": "46b68201dab65f71",
   "metadata": {
    "collapsed": false
   },
   "source": [
    "### Decompose for 2 days"
   ]
  },
  {
   "cell_type": "code",
   "execution_count": null,
   "id": "a5de48f78476e2c2",
   "metadata": {
    "collapsed": false
   },
   "outputs": [],
   "source": [
    "one_day_data = nsw_df['2020-01-01 00:00:00': '2020-01-02 23:30:00']\n",
    "\n",
    "res_one_day = seasonal_decompose(\n",
    "    one_day_data['TOTALDEMAND'], \n",
    "    model='additive',\n",
    "    period=48\n",
    ")\n",
    "\n",
    "res_one_day.plot()"
   ]
  },
  {
   "cell_type": "markdown",
   "id": "7d2915d075f0e0d7",
   "metadata": {
    "collapsed": false
   },
   "source": [
    "# Autocorrelation analysis (ACF and PACF)"
   ]
  },
  {
   "cell_type": "code",
   "execution_count": null,
   "id": "fedfaac11408a47",
   "metadata": {
    "collapsed": false
   },
   "outputs": [],
   "source": [
    "tsa.plot_acf(nsw_df['TOTALDEMAND'])\n",
    "plt.show()"
   ]
  },
  {
   "cell_type": "markdown",
   "source": [
    "Here's what we can interpret from the ACF plot to inform the sequence length for an LSTM:\n",
    "- **Significant Lags**: The plot shows peaks at regular intervals, which suggests seasonality in the data. These significant lags indicate that the data points are correlated with their past values at these intervals.\n",
    "- **Seasonality Intervals**: The distances between the peaks can help identify the seasonality interval. In the context of sequence length for an LSTM, you might want to ensure that the sequence length covers at least one full seasonal cycle to capture the seasonality pattern.\n",
    "- **Decay of Correlation**: The strength of the correlation generally seems to decay as the lag increases, but there is a repeating pattern of rising and falling, which is typical in time series with seasonal effects.\n",
    "- **Cut-off Point**: There isn't a clear cut-off point where the correlation drops to near zero, which suggests the influence of past values might extend quite far back. This could imply that a longer sequence might be beneficial for the LSTM to learn from.\n",
    "- **Practical Considerations**: While the ACF plot suggests that data is seasonally correlated over several lags, practical constraints such as the availability of data, computational power, and the risk of overfitting with very long sequences should also be considered.\n",
    "- **Optimal Sequence Length**: The optimal sequence length would likely be a multiple of the seasonality interval identified from the plot, ensuring that at least one, or possibly multiple, full seasonal patterns are included within each sequence."
   ],
   "metadata": {
    "collapsed": false
   },
   "id": "4391b414fb2af98c"
  },
  {
   "cell_type": "code",
   "outputs": [],
   "source": [
    "tsa.plot_pacf(nsw_df['TOTALDEMAND'])\n",
    "plt.show()"
   ],
   "metadata": {
    "collapsed": false
   },
   "id": "9d02487e9ab5a921",
   "execution_count": null
  },
  {
   "cell_type": "markdown",
   "source": [
    "# Observations\n",
    "The Partial Autocorrelation Function (PACF) plot provides insight into the relationship between a time series and its lags after removing the effects of earlier lags. It's helpful for identifying the order of an autoregressive (AR) process.\n",
    "\n",
    "From the PACF plot you've provided, we observe a few things:\n",
    "\n",
    "- There is a significant spike at lag 1, which quickly diminishes after lag 2 and stays within what would typically be the confidence interval (not shown on this plot but usually at around +/- 0.2 for large datasets).\n",
    "- Beyond the initial lags, most of the partial autocorrelations appear to be insignificant, as they are relatively small in magnitude and seem to be within the expected range of random fluctuation.\n",
    "- The spikes that do occur at later lags appear somewhat sporadic and do not show a clear repeating pattern that would indicate seasonality.\n",
    "\n",
    "This pattern suggests that the time series may be well modeled by an AR process of order 1 or possibly 2, since the partial autocorrelation is significant at lag 1 and possibly at lag 2. After these initial lags, the partial autocorrelations are not consistently significant, which indicates that incorporating additional lags into the model may not provide additional value."
   ],
   "metadata": {
    "collapsed": false
   },
   "id": "e3701340e6734282"
  },
  {
   "cell_type": "code",
   "outputs": [],
   "source": [
    "nsw_df"
   ],
   "metadata": {},
   "id": "78df602e",
   "execution_count": null
  },
  {
   "cell_type": "code",
   "outputs": [],
   "source": [
    "nsw_df['TEMPERATURE'].isna().sum()"
   ],
   "metadata": {
    "collapsed": false
   },
   "id": "1eb4cd492f9fb5",
   "execution_count": null
  },
  {
   "cell_type": "code",
   "outputs": [],
   "source": [
    "nsw_df.isna().sum()"
   ],
   "metadata": {
    "collapsed": false
   },
   "id": "2483271c9abc132",
   "execution_count": null
  },
  {
   "cell_type": "code",
   "outputs": [],
   "source": [
    "nsw_df.columns"
   ],
   "metadata": {
    "collapsed": false
   },
   "id": "5f3b66931cc2e143",
   "execution_count": null
  },
  {
   "cell_type": "code",
   "outputs": [],
   "source": [
    "nsw_df.dtypes"
   ],
   "metadata": {
    "collapsed": false
   },
   "id": "ebfc8ba19d1af27a",
   "execution_count": null
  },
  {
   "cell_type": "code",
   "outputs": [],
   "source": [
    "nsw_df.isna().sum()"
   ],
   "metadata": {
    "collapsed": false
   },
   "id": "e9dc5d8ceaea17fd",
   "execution_count": null
  },
  {
   "cell_type": "code",
   "outputs": [],
   "source": [
    "def Degree_Days2(df, HDD_ct=17, CDD_ct=19.5):\n",
    "    Tbar = df.resample('24H', offset='21H').mean() # mean from 9pm (day i-1) - 9pm (day i)\n",
    "    DD = pd.DataFrame(index=df.index, columns=['HDD', 'CDD'])\n",
    "    for i in range(0,Tbar.shape[0]):\n",
    "        DD['HDD'].iloc[48*(i):48*(i+1)] = max(0, HDD_ct-Tbar.iloc[i])\n",
    "        DD['CDD'].iloc[48*(i):48*(i+1)] = max(0, Tbar.iloc[i]-CDD_ct)\n",
    "    return Tbar, DD"
   ],
   "metadata": {
    "collapsed": false
   },
   "id": "a65825ca15674d61",
   "execution_count": null
  },
  {
   "cell_type": "code",
   "outputs": [],
   "source": [
    "Degree_Days2(nsw_df['TEMPERATURE'])"
   ],
   "metadata": {
    "collapsed": false
   },
   "id": "bdc6852a8ffbaec4",
   "execution_count": null
  },
  {
   "cell_type": "code",
   "outputs": [],
   "source": [
    "Tbar, DD = Degree_Days2(nsw_df['TEMPERATURE'])\n",
    "# final_df['HDD'] = DD['HDD']\n",
    "# final_df['CDD'] = DD['CDD']\n",
    "# fix_me: this is a daily metric for now. repeat same value for each 30 min sample on that day\n",
    "# fix_me: can we combine these so we don't have 0 values?"
   ],
   "metadata": {
    "collapsed": false
   },
   "id": "6f13d18864bdda33",
   "execution_count": null
  },
  {
   "cell_type": "code",
   "outputs": [],
   "source": [
    "plt.plot(DD.iloc[1: 10000])\n",
    "plt.title(\"Degree Days\")\n",
    "plt.xlabel(\"Time\")\n",
    "plt.ylabel(\"Degrees °C\")\n",
    "plt.legend()\n",
    "plt.show()\n",
    "# todo: fix warnings\n",
    "# todo: these are the plotted CDD and HDD vars"
   ],
   "metadata": {
    "collapsed": false
   },
   "id": "c3496709efbaffc5",
   "execution_count": null
  },
  {
   "cell_type": "code",
   "outputs": [],
   "source": [
    "temp_df = nsw_df[['TEMPERATURE', 'month', 'season']]"
   ],
   "metadata": {
    "collapsed": false
   },
   "id": "dad2df2ca5449e03",
   "execution_count": null
  },
  {
   "cell_type": "code",
   "outputs": [],
   "source": [
    "plt.figure(figsize=(CFG.img_dim1, CFG.img_dim2))\n",
    "sns.scatterplot(data=temp_df, x=temp_df.index, y='TEMPERATURE', hue='season')\n",
    "plt.title('Temperature ScatterPlot')\n",
    "plt.xlabel('Date')\n",
    "plt.ylabel('Temperature')\n",
    "plt.show()"
   ],
   "metadata": {
    "collapsed": false
   },
   "id": "90993b1e274886a9",
   "execution_count": null
  },
  {
   "cell_type": "code",
   "outputs": [],
   "source": [
    "plt.figure(figsize=(CFG.img_dim1, CFG.img_dim2))\n",
    "sns.boxplot(data=temp_df, x='season', y='TEMPERATURE', hue='season')\n",
    "plt.show()"
   ],
   "metadata": {
    "collapsed": false
   },
   "id": "529392df1995a952",
   "execution_count": null
  },
  {
   "cell_type": "code",
   "outputs": [],
   "source": [
    "temp_highest_allowed = round(temp_df['TEMPERATURE'].mean() + 3 * temp_df['TEMPERATURE'].std(), 2)\n",
    "temp_lowest_allowed = round(temp_df['TEMPERATURE'].mean() - 3 * temp_df['TEMPERATURE'].std(), 2)\n",
    "print('Highest Allowed:', temp_highest_allowed)\n",
    "print('Lowest Allowed:', temp_lowest_allowed)"
   ],
   "metadata": {
    "collapsed": false
   },
   "id": "22e1ba5b44cb0fb2",
   "execution_count": null
  },
  {
   "cell_type": "code",
   "outputs": [],
   "source": [
    "temp_outliers = temp_df[(temp_df['TEMPERATURE'] > temp_highest_allowed) | (temp_df['TEMPERATURE'] < temp_lowest_allowed)]\n",
    "print('Total Rows:', len(temp_outliers))"
   ],
   "metadata": {
    "collapsed": false
   },
   "id": "dd678d0b0c9ff667",
   "execution_count": null
  },
  {
   "cell_type": "code",
   "outputs": [],
   "source": [
    "# todo: create a separate temp column, check with if statement, cap values if outside threshold\n",
    "# final_df.loc['2013-02-01']  # problem\n",
    "# final_df.loc['2016-07-15']  # there is a problem from 16 - 18\n",
    "# todo: somehow we need to check that that each day has 48 samples"
   ],
   "metadata": {
    "collapsed": false
   },
   "id": "608c1f86ded96058",
   "execution_count": null
  },
  {
   "cell_type": "code",
   "outputs": [],
   "source": [
    "plt.figure(figsize=(CFG.img_dim1, CFG.img_dim2))\n",
    "sns.scatterplot(data=temp_outliers, x=temp_outliers.index, y='TEMPERATURE', hue='season')\n",
    "plt.title('Temperature Outliers ScatterPlot')\n",
    "plt.xlabel('Date')\n",
    "plt.ylabel('Temperature')\n",
    "plt.show()"
   ],
   "metadata": {
    "collapsed": false
   },
   "id": "8528f067403d8820",
   "execution_count": null
  },
  {
   "cell_type": "code",
   "outputs": [],
   "source": [
    "high_outliers = temp_outliers.loc[temp_outliers['TEMPERATURE'] > temp_highest_allowed]\n",
    "t_high_df = high_outliers['month'].value_counts()\n",
    "t_high_df = t_high_df.reset_index()\n",
    "t_high_df.columns = ['Month', 'Count']\n",
    "t_high_df_sorted = t_high_df.sort_values(by='Month', ascending=True)\n",
    "print(t_high_df_sorted)"
   ],
   "metadata": {
    "collapsed": false
   },
   "id": "34090f246da929e6",
   "execution_count": null
  },
  {
   "cell_type": "code",
   "outputs": [],
   "source": [
    "# histogram\n",
    "plt.figure(figsize=(CFG.img_dim1, CFG.img_dim2))\n",
    "sns.barplot(data=t_high_df_sorted, x='Month', y='Count')\n",
    "plt.title('Distribution of High Temperature Outliers')\n",
    "plt.show()"
   ],
   "metadata": {
    "collapsed": false
   },
   "id": "8db69edaa8d4ea96",
   "execution_count": null
  },
  {
   "cell_type": "code",
   "outputs": [],
   "source": [
    "low_outliers = temp_outliers.loc[temp_outliers['TEMPERATURE'] < temp_lowest_allowed]\n",
    "t_low_df = low_outliers['month'].value_counts()\n",
    "t_low_df = t_low_df.reset_index()\n",
    "t_low_df.columns = ['Month','Count']\n",
    "t_low_df_sorted = t_low_df.sort_values(by='Month', ascending=True)\n",
    "print(t_low_df_sorted)"
   ],
   "metadata": {
    "collapsed": false
   },
   "id": "a053317afc402911",
   "execution_count": null
  },
  {
   "cell_type": "code",
   "outputs": [],
   "source": [
    "# Histogram\n",
    "plt.figure(figsize=(CFG.img_dim1, CFG.img_dim2))\n",
    "sns.barplot(data=t_low_df, x='Month', y='Count')\n",
    "plt.title('Distribution of Low Temperature Outliers')\n",
    "plt.show()"
   ],
   "metadata": {
    "collapsed": false
   },
   "id": "6513fc53b8750f4f",
   "execution_count": null
  },
  {
   "cell_type": "code",
   "outputs": [],
   "source": [
    "price_outlier_df = nsw_df[['rrp', 'month', 'season']]"
   ],
   "metadata": {
    "collapsed": false
   },
   "id": "f44e4ef2db28df6e",
   "execution_count": null
  },
  {
   "cell_type": "code",
   "outputs": [],
   "source": [
    "plt.figure(figsize=(CFG.img_dim1, CFG.img_dim2))\n",
    "sns.scatterplot(data=price_outlier_df, x=price_outlier_df.index, y='rrp', hue='season')\n",
    "plt.title('Price ScatterPlot')\n",
    "plt.xlabel('Date')\n",
    "plt.ylabel('Price')\n",
    "plt.show()"
   ],
   "metadata": {
    "collapsed": false
   },
   "id": "635e690ac53694b0",
   "execution_count": null
  },
  {
   "cell_type": "code",
   "outputs": [],
   "source": [
    "nsw_df.head()"
   ],
   "metadata": {
    "collapsed": false
   },
   "id": "1e6faf6ddd700cf2",
   "execution_count": null
  },
  {
   "cell_type": "code",
   "outputs": [],
   "source": [
    "price_highest_allowed = round(price_outlier_df['rrp'].mean() + 3 * price_outlier_df['rrp'].std(), 2)\n",
    "price_lowest_allowed = round(price_outlier_df['rrp'].mean() - 3 * price_outlier_df['rrp'].std(), 2)"
   ],
   "metadata": {
    "collapsed": false
   },
   "id": "44790f9b57333254",
   "execution_count": null
  },
  {
   "cell_type": "code",
   "outputs": [],
   "source": [
    "price_outliers = price_outlier_df[(price_outlier_df['rrp']>price_highest_allowed) | (price_outlier_df['rrp']<price_lowest_allowed)]\n",
    "print(len(price_outliers))"
   ],
   "metadata": {
    "collapsed": false
   },
   "id": "59d42c7e0fcb553e",
   "execution_count": null
  },
  {
   "cell_type": "code",
   "outputs": [],
   "source": [
    "plt.figure(figsize=(20, 10))\n",
    "sns.scatterplot(data=price_outliers,x='month', y='rrp', hue='season')\n",
    "plt.title('Scatterplot of Price by Month')\n",
    "plt.legend()\n",
    "plt.show()"
   ],
   "metadata": {
    "collapsed": false
   },
   "id": "560ace0d00fee924",
   "execution_count": null
  },
  {
   "cell_type": "code",
   "outputs": [],
   "source": [
    "# low_outliers = temp_outliers.loc[temp_outliers['TEMPERATURE']<temp_lowest_allowed]\n",
    "price_out_df = price_outliers['month'].value_counts()\n",
    "price_out_df = price_out_df.reset_index()\n",
    "price_out_df.columns = ['Month', 'Count']\n",
    "price_out_df_sorted = price_out_df.sort_values(by='Month', ascending=True)\n",
    "# print(price_out_df_sorted)"
   ],
   "metadata": {
    "collapsed": false
   },
   "id": "88003ef0d3257668",
   "execution_count": null
  },
  {
   "cell_type": "code",
   "outputs": [],
   "source": [
    "# Histogram\n",
    "plt.figure(figsize=(15, 10))\n",
    "sns.barplot(data=price_out_df_sorted, x='Month', y='Count')\n",
    "plt.title('Distribution of Price Outliers')\n",
    "plt.show()"
   ],
   "metadata": {
    "collapsed": false
   },
   "id": "2e5dca01ac96634e",
   "execution_count": null
  },
  {
   "cell_type": "code",
   "outputs": [],
   "source": [
    "total_demand_highest_allowed = round(nsw_df['TOTALDEMAND'].mean() + 3 * nsw_df['TOTALDEMAND'].std(), 2)\n",
    "total_demand_lowest_allowed = round(nsw_df['TOTALDEMAND'].mean() - 3 * nsw_df['TOTALDEMAND'].std(), 2)\n",
    "print(total_demand_highest_allowed)\n",
    "print(total_demand_lowest_allowed)\n",
    "# fix_me: we have misalignment between this and NS_test"
   ],
   "metadata": {
    "collapsed": false
   },
   "id": "4306b1d448162846",
   "execution_count": null
  },
  {
   "cell_type": "code",
   "outputs": [],
   "source": [
    "total_demand_outliers = nsw_df[(nsw_df['TOTALDEMAND'] > total_demand_highest_allowed) | (nsw_df['TOTALDEMAND'] < total_demand_lowest_allowed)]\n",
    "print(len(total_demand_outliers))"
   ],
   "metadata": {
    "collapsed": false
   },
   "id": "1dc5b928a6d422a3",
   "execution_count": null
  },
  {
   "cell_type": "code",
   "outputs": [],
   "source": [
    "plt.figure(figsize=(20, 10))\n",
    "plt.scatter(\n",
    "    total_demand_outliers.index, \n",
    "    total_demand_outliers['TOTALDEMAND'], \n",
    "    c=total_demand_outliers['month']\n",
    ")\n",
    "plt.legend()\n",
    "plt.show()"
   ],
   "metadata": {
    "collapsed": false
   },
   "id": "90452b83e87138af",
   "execution_count": null
  },
  {
   "cell_type": "code",
   "outputs": [],
   "source": [
    "print(total_demand_outliers['month'].value_counts())"
   ],
   "metadata": {
    "collapsed": false
   },
   "id": "a5a9fd52ca169b98",
   "execution_count": null
  },
  {
   "cell_type": "markdown",
   "source": [
    "# Outlier handling Isolation Forest"
   ],
   "metadata": {
    "collapsed": false
   },
   "id": "3bdfa25737a6a6ad"
  },
  {
   "cell_type": "code",
   "outputs": [],
   "source": [
    "handle_outliers = nsw_df[['TEMPERATURE', 'rrp', 'TOTALDEMAND', 'month', 'season']]\n",
    "# fix_me: deal with Nans"
   ],
   "metadata": {
    "collapsed": false
   },
   "id": "34ba2188a5235422",
   "execution_count": null
  },
  {
   "cell_type": "code",
   "outputs": [],
   "source": [
    "nsw_df = nsw_df.iloc[48:]"
   ],
   "metadata": {
    "collapsed": false
   },
   "id": "aded64164fed78f6",
   "execution_count": null
  },
  {
   "cell_type": "code",
   "outputs": [],
   "source": [
    "nsw_df.head()"
   ],
   "metadata": {
    "collapsed": false
   },
   "id": "cc08f76d216aa67e",
   "execution_count": null
  },
  {
   "cell_type": "code",
   "outputs": [],
   "source": [
    "nsw_df.to_parquet(os.path.join(CFG.data_path, 'nsw_df_2.parquet'))"
   ],
   "metadata": {
    "collapsed": false
   },
   "id": "7f36687e623e422b",
   "execution_count": null
  },
  {
   "cell_type": "code",
   "outputs": [],
   "source": [
    "random_state = np.random.RandomState(42)\n",
    "\n",
    "model = IsolationForest(\n",
    "    n_estimators=100, \n",
    "    max_samples='auto', \n",
    "    contamination=float(0.003)\n",
    ")\n",
    "\n",
    "model.fit(handle_outliers[['TEMPERATURE']])\n",
    "print(model.get_params())\n",
    "handle_outliers['Iso_forest_scores'] = model.decision_function(handle_outliers[['TEMPERATURE']])\n",
    "handle_outliers['anomaly_score'] = model.predict(handle_outliers[['TEMPERATURE']])\n",
    "handle_outliers[handle_outliers['anomaly_score'] == -1].head()\n",
    "anomaly_df = handle_outliers[handle_outliers['anomaly_score'] == -1]\n",
    "no_anomaly_df = handle_outliers[handle_outliers['anomaly_score'] == 1]"
   ],
   "metadata": {
    "collapsed": false
   },
   "id": "4cf46e5c6344e3ad",
   "execution_count": null
  },
  {
   "cell_type": "code",
   "outputs": [],
   "source": [
    "anomaly_df.columns"
   ],
   "metadata": {
    "collapsed": false
   },
   "id": "1048022bafb8d57c",
   "execution_count": null
  },
  {
   "cell_type": "code",
   "outputs": [],
   "source": [
    "anomaly_df"
   ],
   "metadata": {
    "collapsed": false
   },
   "id": "9ad902b92541c184",
   "execution_count": null
  },
  {
   "cell_type": "code",
   "outputs": [],
   "source": [
    "print('Total Anomalies:', len(anomaly_df))\n",
    "print('Total non-Anomaly:', len(no_anomaly_df))\n",
    "# fix_me: we have an inconsistency here"
   ],
   "metadata": {
    "collapsed": false
   },
   "id": "6d27c809c0282036",
   "execution_count": null
  },
  {
   "cell_type": "code",
   "outputs": [],
   "source": [
    "lag_test = nsw_df['TEMPERATURE'].shift(2)\n",
    "lag_test"
   ],
   "metadata": {
    "collapsed": false
   },
   "id": "6b3b03f2a316589d",
   "execution_count": null
  },
  {
   "cell_type": "code",
   "outputs": [],
   "source": [
    "varShifted = nsw_df['TEMPERATURE'].shift(2)\n",
    "varShifted = varShifted.interpolate(\n",
    "    method='linear', \n",
    "    limit_direction='both', \n",
    "    axis=0\n",
    ")\n",
    "varShifted"
   ],
   "metadata": {
    "collapsed": false
   },
   "id": "306e3872cf199237",
   "execution_count": null
  },
  {
   "cell_type": "code",
   "outputs": [],
   "source": [
    "from utils import KalmanFilterAverage, KalmanFilterRegression, half_life\n",
    "# state_means, _ = KalmanFilterRegression(self.KalmanFilterAverage(x),\n",
    "#                                     self.KalmanFilterAverage(y), delta=1e-7)\n",
    "from pykalman import KalmanFilter\n",
    "test = nsw_df['TOTALDEMAND']\n",
    "\n",
    "# Smoothing the input data helps to reduce the impact of random noise in the \n",
    "# data and produce a more stable estimate of the underlying trend, \n",
    "# which can lead to more accurate and reliable estimates of the system's state.\n",
    "\n",
    "# Construct a Kalman filter\n",
    "kf = KalmanFilter(transition_matrices = [1],\n",
    "    observation_matrices = [1],\n",
    "    initial_state_mean = 0,\n",
    "    initial_state_covariance = 1,\n",
    "    observation_covariance=1,\n",
    "    transition_covariance=.01\n",
    "    )\n",
    "# use the observed values of the price to get a rolling mean\n",
    "state_means, _ = kf.filter(test.values)\n",
    "state_means = pd.Series(state_means.flatten(), index=test.index)\n",
    "\n",
    "nsw_df['TOTALDEMAND'].plot(alpha=0.5, label='Real Demand Data')\n",
    "state_means.plot(label='Kalman Smoothed')\n",
    "plt.legend()"
   ],
   "metadata": {},
   "id": "ead61bb5",
   "execution_count": null
  },
  {
   "cell_type": "markdown",
   "source": [
    "# Rolling & lagged statistics"
   ],
   "metadata": {
    "collapsed": false
   },
   "id": "8421e8eae80b7ec7"
  },
  {
   "cell_type": "code",
   "outputs": [],
   "source": [],
   "metadata": {
    "collapsed": false
   },
   "id": "e1cf1c540017771f",
   "execution_count": null
  },
  {
   "cell_type": "markdown",
   "id": "cac54eac0c7b6e3f",
   "metadata": {
    "collapsed": false
   },
   "source": [
    "# Feature Engineering - Date-Time Features"
   ]
  },
  {
   "cell_type": "code",
   "execution_count": null,
   "id": "2b3c7f7d",
   "metadata": {},
   "outputs": [],
   "source": [
    "demand = nsw_df[['TOTALDEMAND']].copy()\n",
    "demand.loc[:, 'dow'] = demand.index.dayofweek\n",
    "demand.loc[:, 'doy'] = demand.index.dayofyear\n",
    "demand.loc[:, 'year'] = demand.index.year\n",
    "demand.loc[:, 'month'] = demand.index.month\n",
    "demand.loc[:, 'quarter'] = demand.index.quarter\n",
    "demand.loc[:, 'hour'] = demand.index.hour\n",
    "# todo: half hour\n",
    "# demand.loc[:, 'weekday'] = demand.index.weekday_names  ## errors\n",
    "# demand.loc[:, 'woy'] = demand.index.weekofyear  ## errors\n",
    "demand.loc[:, 'dom'] = demand.index.day"
   ]
  }
 ],
 "metadata": {
  "kernelspec": {
   "display_name": "Python 3",
   "language": "python",
   "name": "python3"
  },
  "language_info": {
   "codemirror_mode": {
    "name": "ipython",
    "version": 3
   },
   "file_extension": ".py",
   "mimetype": "text/x-python",
   "name": "python",
   "nbconvert_exporter": "python",
   "pygments_lexer": "ipython3",
   "version": "3.10.11"
  }
 },
 "nbformat": 4,
 "nbformat_minor": 5
}
