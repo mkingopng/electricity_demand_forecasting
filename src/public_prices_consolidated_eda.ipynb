{
 "cells": [
  {
   "cell_type": "code",
   "execution_count": 12,
   "id": "initial_id",
   "metadata": {
    "collapsed": true,
    "ExecuteTime": {
     "end_time": "2024-03-27T06:24:14.939399Z",
     "start_time": "2024-03-27T06:24:14.937522Z"
    }
   },
   "outputs": [],
   "source": [
    "import pandas as pd\n",
    "import os\n",
    "import matplotlib.pyplot as plt"
   ]
  },
  {
   "cell_type": "code",
   "outputs": [],
   "source": [
    "# general settings\n",
    "class CFG:\n",
    "    data_path = './../data'\n",
    "    img_dim1 = 20\n",
    "    img_dim2 = 10\n",
    "    \n",
    "    \n",
    "plt.style.use('fivethirtyeight')   \n",
    "plt.rcParams.update({'figure.figsize': (CFG.img_dim1, CFG.img_dim2)}) "
   ],
   "metadata": {
    "collapsed": false,
    "ExecuteTime": {
     "end_time": "2024-03-27T06:24:14.958672Z",
     "start_time": "2024-03-27T06:24:14.945088Z"
    }
   },
   "id": "b0fc4a4a19af5d88",
   "execution_count": 13
  },
  {
   "cell_type": "code",
   "outputs": [
    {
     "data": {
      "text/plain": "   I  DREGION  Unnamed: 2  2      SETTLEMENTDATE  RUNNO REGIONID  \\\n0  D  DREGION         NaN  2 2024-01-23 04:05:00      1     NSW1   \n1  D  DREGION         NaN  2 2024-01-23 04:05:00      1     QLD1   \n2  D  DREGION         NaN  2 2024-01-23 04:05:00      1      SA1   \n3  D  DREGION         NaN  2 2024-01-23 04:05:00      1     TAS1   \n4  D  DREGION         NaN  2 2024-01-23 04:05:00      1     VIC1   \n\n   INTERVENTION       RRP  EEP  ...  LOWER6SECAPCFLAG  LOWER60SECRRP  \\\n0             0  41.81844    0  ...                 0           0.45   \n1             0  62.73000    0  ...                 0           0.45   \n2             0  34.16184    0  ...                 0           0.45   \n3             0  53.71593    0  ...                 0           0.45   \n4             0  34.94000    0  ...                 0           0.45   \n\n   LOWER60SECROP  LOWER60SECAPCFLAG  LOWER5MINRRP  LOWER5MINROP  \\\n0           0.45                  0           0.0           0.0   \n1           0.45                  0           0.0           0.0   \n2           0.45                  0           0.0           0.0   \n3           0.45                  0           0.0           0.0   \n4           0.45                  0           0.0           0.0   \n\n   LOWER5MINAPCFLAG  LOWERREGRRP  LOWERREGROP  LOWERREGAPCFLAG  \n0                 0         3.76         3.76                0  \n1                 0         3.76         3.76                0  \n2                 0         3.76         3.76                0  \n3                 0         2.65         2.65                0  \n4                 0         3.76         3.76                0  \n\n[5 rows x 120 columns]",
      "text/html": "<div>\n<style scoped>\n    .dataframe tbody tr th:only-of-type {\n        vertical-align: middle;\n    }\n\n    .dataframe tbody tr th {\n        vertical-align: top;\n    }\n\n    .dataframe thead th {\n        text-align: right;\n    }\n</style>\n<table border=\"1\" class=\"dataframe\">\n  <thead>\n    <tr style=\"text-align: right;\">\n      <th></th>\n      <th>I</th>\n      <th>DREGION</th>\n      <th>Unnamed: 2</th>\n      <th>2</th>\n      <th>SETTLEMENTDATE</th>\n      <th>RUNNO</th>\n      <th>REGIONID</th>\n      <th>INTERVENTION</th>\n      <th>RRP</th>\n      <th>EEP</th>\n      <th>...</th>\n      <th>LOWER6SECAPCFLAG</th>\n      <th>LOWER60SECRRP</th>\n      <th>LOWER60SECROP</th>\n      <th>LOWER60SECAPCFLAG</th>\n      <th>LOWER5MINRRP</th>\n      <th>LOWER5MINROP</th>\n      <th>LOWER5MINAPCFLAG</th>\n      <th>LOWERREGRRP</th>\n      <th>LOWERREGROP</th>\n      <th>LOWERREGAPCFLAG</th>\n    </tr>\n  </thead>\n  <tbody>\n    <tr>\n      <th>0</th>\n      <td>D</td>\n      <td>DREGION</td>\n      <td>NaN</td>\n      <td>2</td>\n      <td>2024-01-23 04:05:00</td>\n      <td>1</td>\n      <td>NSW1</td>\n      <td>0</td>\n      <td>41.81844</td>\n      <td>0</td>\n      <td>...</td>\n      <td>0</td>\n      <td>0.45</td>\n      <td>0.45</td>\n      <td>0</td>\n      <td>0.0</td>\n      <td>0.0</td>\n      <td>0</td>\n      <td>3.76</td>\n      <td>3.76</td>\n      <td>0</td>\n    </tr>\n    <tr>\n      <th>1</th>\n      <td>D</td>\n      <td>DREGION</td>\n      <td>NaN</td>\n      <td>2</td>\n      <td>2024-01-23 04:05:00</td>\n      <td>1</td>\n      <td>QLD1</td>\n      <td>0</td>\n      <td>62.73000</td>\n      <td>0</td>\n      <td>...</td>\n      <td>0</td>\n      <td>0.45</td>\n      <td>0.45</td>\n      <td>0</td>\n      <td>0.0</td>\n      <td>0.0</td>\n      <td>0</td>\n      <td>3.76</td>\n      <td>3.76</td>\n      <td>0</td>\n    </tr>\n    <tr>\n      <th>2</th>\n      <td>D</td>\n      <td>DREGION</td>\n      <td>NaN</td>\n      <td>2</td>\n      <td>2024-01-23 04:05:00</td>\n      <td>1</td>\n      <td>SA1</td>\n      <td>0</td>\n      <td>34.16184</td>\n      <td>0</td>\n      <td>...</td>\n      <td>0</td>\n      <td>0.45</td>\n      <td>0.45</td>\n      <td>0</td>\n      <td>0.0</td>\n      <td>0.0</td>\n      <td>0</td>\n      <td>3.76</td>\n      <td>3.76</td>\n      <td>0</td>\n    </tr>\n    <tr>\n      <th>3</th>\n      <td>D</td>\n      <td>DREGION</td>\n      <td>NaN</td>\n      <td>2</td>\n      <td>2024-01-23 04:05:00</td>\n      <td>1</td>\n      <td>TAS1</td>\n      <td>0</td>\n      <td>53.71593</td>\n      <td>0</td>\n      <td>...</td>\n      <td>0</td>\n      <td>0.45</td>\n      <td>0.45</td>\n      <td>0</td>\n      <td>0.0</td>\n      <td>0.0</td>\n      <td>0</td>\n      <td>2.65</td>\n      <td>2.65</td>\n      <td>0</td>\n    </tr>\n    <tr>\n      <th>4</th>\n      <td>D</td>\n      <td>DREGION</td>\n      <td>NaN</td>\n      <td>2</td>\n      <td>2024-01-23 04:05:00</td>\n      <td>1</td>\n      <td>VIC1</td>\n      <td>0</td>\n      <td>34.94000</td>\n      <td>0</td>\n      <td>...</td>\n      <td>0</td>\n      <td>0.45</td>\n      <td>0.45</td>\n      <td>0</td>\n      <td>0.0</td>\n      <td>0.0</td>\n      <td>0</td>\n      <td>3.76</td>\n      <td>3.76</td>\n      <td>0</td>\n    </tr>\n  </tbody>\n</table>\n<p>5 rows × 120 columns</p>\n</div>"
     },
     "execution_count": 14,
     "metadata": {},
     "output_type": "execute_result"
    }
   ],
   "source": [
    "df = pd.read_csv(os.path.join(CFG.data_path, 'public_prices_consolidated.csv'), parse_dates=['SETTLEMENTDATE'])\n",
    "df.head()"
   ],
   "metadata": {
    "collapsed": false,
    "ExecuteTime": {
     "end_time": "2024-03-27T06:24:16.853752Z",
     "start_time": "2024-03-27T06:24:14.959867Z"
    }
   },
   "id": "d3693bd978a85a64",
   "execution_count": 14
  },
  {
   "cell_type": "code",
   "outputs": [
    {
     "data": {
      "text/plain": "        I  DREGION  Unnamed: 2  2      SETTLEMENTDATE  RUNNO REGIONID  \\\n645265  D  DREGION         NaN  2 2024-02-26 04:00:00      1     NSW1   \n645266  D  DREGION         NaN  2 2024-02-26 04:00:00      1     QLD1   \n645267  D  DREGION         NaN  2 2024-02-26 04:00:00      1      SA1   \n645268  D  DREGION         NaN  2 2024-02-26 04:00:00      1     TAS1   \n645269  D  DREGION         NaN  2 2024-02-26 04:00:00      1     VIC1   \n\n        INTERVENTION       RRP  EEP  ...  LOWER6SECAPCFLAG  LOWER60SECRRP  \\\n645265             0  68.00000    0  ...                 0           0.39   \n645266             0  70.92975    0  ...                 0           0.39   \n645267             0  50.43366    0  ...                 0           0.39   \n645268             0  68.21000    0  ...                 0           0.39   \n645269             0  35.95003    0  ...                 0           0.39   \n\n        LOWER60SECROP  LOWER60SECAPCFLAG  LOWER5MINRRP  LOWER5MINROP  \\\n645265           0.39                  0           0.0           0.0   \n645266           0.39                  0           0.0           0.0   \n645267           0.39                  0           0.0           0.0   \n645268           0.39                  0           0.0           0.0   \n645269           0.39                  0           0.0           0.0   \n\n        LOWER5MINAPCFLAG  LOWERREGRRP  LOWERREGROP  LOWERREGAPCFLAG  \n645265                 0         3.75         3.75                0  \n645266                 0         3.75         3.75                0  \n645267                 0         3.75         3.75                0  \n645268                 0         3.70         3.70                0  \n645269                 0         3.75         3.75                0  \n\n[5 rows x 120 columns]",
      "text/html": "<div>\n<style scoped>\n    .dataframe tbody tr th:only-of-type {\n        vertical-align: middle;\n    }\n\n    .dataframe tbody tr th {\n        vertical-align: top;\n    }\n\n    .dataframe thead th {\n        text-align: right;\n    }\n</style>\n<table border=\"1\" class=\"dataframe\">\n  <thead>\n    <tr style=\"text-align: right;\">\n      <th></th>\n      <th>I</th>\n      <th>DREGION</th>\n      <th>Unnamed: 2</th>\n      <th>2</th>\n      <th>SETTLEMENTDATE</th>\n      <th>RUNNO</th>\n      <th>REGIONID</th>\n      <th>INTERVENTION</th>\n      <th>RRP</th>\n      <th>EEP</th>\n      <th>...</th>\n      <th>LOWER6SECAPCFLAG</th>\n      <th>LOWER60SECRRP</th>\n      <th>LOWER60SECROP</th>\n      <th>LOWER60SECAPCFLAG</th>\n      <th>LOWER5MINRRP</th>\n      <th>LOWER5MINROP</th>\n      <th>LOWER5MINAPCFLAG</th>\n      <th>LOWERREGRRP</th>\n      <th>LOWERREGROP</th>\n      <th>LOWERREGAPCFLAG</th>\n    </tr>\n  </thead>\n  <tbody>\n    <tr>\n      <th>645265</th>\n      <td>D</td>\n      <td>DREGION</td>\n      <td>NaN</td>\n      <td>2</td>\n      <td>2024-02-26 04:00:00</td>\n      <td>1</td>\n      <td>NSW1</td>\n      <td>0</td>\n      <td>68.00000</td>\n      <td>0</td>\n      <td>...</td>\n      <td>0</td>\n      <td>0.39</td>\n      <td>0.39</td>\n      <td>0</td>\n      <td>0.0</td>\n      <td>0.0</td>\n      <td>0</td>\n      <td>3.75</td>\n      <td>3.75</td>\n      <td>0</td>\n    </tr>\n    <tr>\n      <th>645266</th>\n      <td>D</td>\n      <td>DREGION</td>\n      <td>NaN</td>\n      <td>2</td>\n      <td>2024-02-26 04:00:00</td>\n      <td>1</td>\n      <td>QLD1</td>\n      <td>0</td>\n      <td>70.92975</td>\n      <td>0</td>\n      <td>...</td>\n      <td>0</td>\n      <td>0.39</td>\n      <td>0.39</td>\n      <td>0</td>\n      <td>0.0</td>\n      <td>0.0</td>\n      <td>0</td>\n      <td>3.75</td>\n      <td>3.75</td>\n      <td>0</td>\n    </tr>\n    <tr>\n      <th>645267</th>\n      <td>D</td>\n      <td>DREGION</td>\n      <td>NaN</td>\n      <td>2</td>\n      <td>2024-02-26 04:00:00</td>\n      <td>1</td>\n      <td>SA1</td>\n      <td>0</td>\n      <td>50.43366</td>\n      <td>0</td>\n      <td>...</td>\n      <td>0</td>\n      <td>0.39</td>\n      <td>0.39</td>\n      <td>0</td>\n      <td>0.0</td>\n      <td>0.0</td>\n      <td>0</td>\n      <td>3.75</td>\n      <td>3.75</td>\n      <td>0</td>\n    </tr>\n    <tr>\n      <th>645268</th>\n      <td>D</td>\n      <td>DREGION</td>\n      <td>NaN</td>\n      <td>2</td>\n      <td>2024-02-26 04:00:00</td>\n      <td>1</td>\n      <td>TAS1</td>\n      <td>0</td>\n      <td>68.21000</td>\n      <td>0</td>\n      <td>...</td>\n      <td>0</td>\n      <td>0.39</td>\n      <td>0.39</td>\n      <td>0</td>\n      <td>0.0</td>\n      <td>0.0</td>\n      <td>0</td>\n      <td>3.70</td>\n      <td>3.70</td>\n      <td>0</td>\n    </tr>\n    <tr>\n      <th>645269</th>\n      <td>D</td>\n      <td>DREGION</td>\n      <td>NaN</td>\n      <td>2</td>\n      <td>2024-02-26 04:00:00</td>\n      <td>1</td>\n      <td>VIC1</td>\n      <td>0</td>\n      <td>35.95003</td>\n      <td>0</td>\n      <td>...</td>\n      <td>0</td>\n      <td>0.39</td>\n      <td>0.39</td>\n      <td>0</td>\n      <td>0.0</td>\n      <td>0.0</td>\n      <td>0</td>\n      <td>3.75</td>\n      <td>3.75</td>\n      <td>0</td>\n    </tr>\n  </tbody>\n</table>\n<p>5 rows × 120 columns</p>\n</div>"
     },
     "execution_count": 15,
     "metadata": {},
     "output_type": "execute_result"
    }
   ],
   "source": [
    "df.tail()"
   ],
   "metadata": {
    "collapsed": false,
    "ExecuteTime": {
     "end_time": "2024-03-27T06:24:16.861943Z",
     "start_time": "2024-03-27T06:24:16.854340Z"
    }
   },
   "id": "eca345128b2c5815",
   "execution_count": 15
  },
  {
   "cell_type": "code",
   "outputs": [
    {
     "data": {
      "text/plain": "       Unnamed: 2         2                 SETTLEMENTDATE     RUNNO  \\\ncount         0.0  645270.0                         645270  645270.0   \nmean          NaN       2.0  2023-08-13 23:23:07.254172928       1.0   \nmin           NaN       2.0            2023-01-01 04:05:00       1.0   \n25%           NaN       2.0            2023-04-24 02:10:00       1.0   \n50%           NaN       2.0            2023-08-14 02:47:30       1.0   \n75%           NaN       2.0            2023-12-04 03:25:00       1.0   \nmax           NaN       2.0            2024-03-25 04:00:00       1.0   \nstd           NaN       0.0                            NaN       0.0   \n\n        INTERVENTION            RRP       EEP           ROP        APCFLAG  \\\ncount  645270.000000  645270.000000  645270.0  6.452700e+05  645270.000000   \nmean        0.000232      75.747799       0.0  9.568197e+01       0.005796   \nmin         0.000000    -999.999470       0.0 -9.999995e+02       0.000000   \n25%         0.000000      19.141135       0.0  1.914007e+01       0.000000   \n50%         0.000000      62.362000       0.0  6.236033e+01       0.000000   \n75%         0.000000     100.000000       0.0  1.000000e+02       0.000000   \nmax         1.000000   16600.000000       0.0  2.325000e+06      20.000000   \nstd         0.015245     327.590204       0.0  4.146441e+03       0.294936   \n\n       MARKETSUSPENDEDFLAG  ...  LOWER6SECAPCFLAG  LOWER60SECRRP  \\\ncount        645270.000000  ...     645270.000000  645270.000000   \nmean              0.000719  ...          0.000012       3.585216   \nmin               0.000000  ...          0.000000       0.000000   \n25%               0.000000  ...          0.000000       0.380000   \n50%               0.000000  ...          0.000000       0.390000   \n75%               0.000000  ...          0.000000       1.400000   \nmax               2.000000  ...          4.000000   16600.000000   \nstd               0.034716  ...          0.007042      59.320874   \n\n       LOWER60SECROP  LOWER60SECAPCFLAG   LOWER5MINRRP   LOWER5MINROP  \\\ncount  645270.000000           645270.0  645270.000000  645270.000000   \nmean        3.584948                0.0       1.631049       1.630987   \nmin         0.000000                0.0       0.000000       0.000000   \n25%         0.380000                0.0       0.150000       0.150000   \n50%         0.390000                0.0       0.390000       0.390000   \n75%         1.400000                0.0       0.410000       0.410000   \nmax     16600.000000                0.0     999.000000     999.000000   \nstd        59.320884                0.0       5.600570       5.600582   \n\n       LOWER5MINAPCFLAG    LOWERREGRRP    LOWERREGROP  LOWERREGAPCFLAG  \ncount          645270.0  645270.000000  645270.000000    645270.000000  \nmean                0.0       8.186769       8.418277         0.000006  \nmin                 0.0       0.000000       0.000000         0.000000  \n25%                 0.0       3.610000       3.610000         0.000000  \n50%                 0.0       3.990000       3.990000         0.000000  \n75%                 0.0       7.120000       7.120000         0.000000  \nmax                 0.0   16600.000000  166009.880000         4.000000  \nstd                 0.0      26.800020     207.357432         0.004980  \n\n[8 rows x 117 columns]",
      "text/html": "<div>\n<style scoped>\n    .dataframe tbody tr th:only-of-type {\n        vertical-align: middle;\n    }\n\n    .dataframe tbody tr th {\n        vertical-align: top;\n    }\n\n    .dataframe thead th {\n        text-align: right;\n    }\n</style>\n<table border=\"1\" class=\"dataframe\">\n  <thead>\n    <tr style=\"text-align: right;\">\n      <th></th>\n      <th>Unnamed: 2</th>\n      <th>2</th>\n      <th>SETTLEMENTDATE</th>\n      <th>RUNNO</th>\n      <th>INTERVENTION</th>\n      <th>RRP</th>\n      <th>EEP</th>\n      <th>ROP</th>\n      <th>APCFLAG</th>\n      <th>MARKETSUSPENDEDFLAG</th>\n      <th>...</th>\n      <th>LOWER6SECAPCFLAG</th>\n      <th>LOWER60SECRRP</th>\n      <th>LOWER60SECROP</th>\n      <th>LOWER60SECAPCFLAG</th>\n      <th>LOWER5MINRRP</th>\n      <th>LOWER5MINROP</th>\n      <th>LOWER5MINAPCFLAG</th>\n      <th>LOWERREGRRP</th>\n      <th>LOWERREGROP</th>\n      <th>LOWERREGAPCFLAG</th>\n    </tr>\n  </thead>\n  <tbody>\n    <tr>\n      <th>count</th>\n      <td>0.0</td>\n      <td>645270.0</td>\n      <td>645270</td>\n      <td>645270.0</td>\n      <td>645270.000000</td>\n      <td>645270.000000</td>\n      <td>645270.0</td>\n      <td>6.452700e+05</td>\n      <td>645270.000000</td>\n      <td>645270.000000</td>\n      <td>...</td>\n      <td>645270.000000</td>\n      <td>645270.000000</td>\n      <td>645270.000000</td>\n      <td>645270.0</td>\n      <td>645270.000000</td>\n      <td>645270.000000</td>\n      <td>645270.0</td>\n      <td>645270.000000</td>\n      <td>645270.000000</td>\n      <td>645270.000000</td>\n    </tr>\n    <tr>\n      <th>mean</th>\n      <td>NaN</td>\n      <td>2.0</td>\n      <td>2023-08-13 23:23:07.254172928</td>\n      <td>1.0</td>\n      <td>0.000232</td>\n      <td>75.747799</td>\n      <td>0.0</td>\n      <td>9.568197e+01</td>\n      <td>0.005796</td>\n      <td>0.000719</td>\n      <td>...</td>\n      <td>0.000012</td>\n      <td>3.585216</td>\n      <td>3.584948</td>\n      <td>0.0</td>\n      <td>1.631049</td>\n      <td>1.630987</td>\n      <td>0.0</td>\n      <td>8.186769</td>\n      <td>8.418277</td>\n      <td>0.000006</td>\n    </tr>\n    <tr>\n      <th>min</th>\n      <td>NaN</td>\n      <td>2.0</td>\n      <td>2023-01-01 04:05:00</td>\n      <td>1.0</td>\n      <td>0.000000</td>\n      <td>-999.999470</td>\n      <td>0.0</td>\n      <td>-9.999995e+02</td>\n      <td>0.000000</td>\n      <td>0.000000</td>\n      <td>...</td>\n      <td>0.000000</td>\n      <td>0.000000</td>\n      <td>0.000000</td>\n      <td>0.0</td>\n      <td>0.000000</td>\n      <td>0.000000</td>\n      <td>0.0</td>\n      <td>0.000000</td>\n      <td>0.000000</td>\n      <td>0.000000</td>\n    </tr>\n    <tr>\n      <th>25%</th>\n      <td>NaN</td>\n      <td>2.0</td>\n      <td>2023-04-24 02:10:00</td>\n      <td>1.0</td>\n      <td>0.000000</td>\n      <td>19.141135</td>\n      <td>0.0</td>\n      <td>1.914007e+01</td>\n      <td>0.000000</td>\n      <td>0.000000</td>\n      <td>...</td>\n      <td>0.000000</td>\n      <td>0.380000</td>\n      <td>0.380000</td>\n      <td>0.0</td>\n      <td>0.150000</td>\n      <td>0.150000</td>\n      <td>0.0</td>\n      <td>3.610000</td>\n      <td>3.610000</td>\n      <td>0.000000</td>\n    </tr>\n    <tr>\n      <th>50%</th>\n      <td>NaN</td>\n      <td>2.0</td>\n      <td>2023-08-14 02:47:30</td>\n      <td>1.0</td>\n      <td>0.000000</td>\n      <td>62.362000</td>\n      <td>0.0</td>\n      <td>6.236033e+01</td>\n      <td>0.000000</td>\n      <td>0.000000</td>\n      <td>...</td>\n      <td>0.000000</td>\n      <td>0.390000</td>\n      <td>0.390000</td>\n      <td>0.0</td>\n      <td>0.390000</td>\n      <td>0.390000</td>\n      <td>0.0</td>\n      <td>3.990000</td>\n      <td>3.990000</td>\n      <td>0.000000</td>\n    </tr>\n    <tr>\n      <th>75%</th>\n      <td>NaN</td>\n      <td>2.0</td>\n      <td>2023-12-04 03:25:00</td>\n      <td>1.0</td>\n      <td>0.000000</td>\n      <td>100.000000</td>\n      <td>0.0</td>\n      <td>1.000000e+02</td>\n      <td>0.000000</td>\n      <td>0.000000</td>\n      <td>...</td>\n      <td>0.000000</td>\n      <td>1.400000</td>\n      <td>1.400000</td>\n      <td>0.0</td>\n      <td>0.410000</td>\n      <td>0.410000</td>\n      <td>0.0</td>\n      <td>7.120000</td>\n      <td>7.120000</td>\n      <td>0.000000</td>\n    </tr>\n    <tr>\n      <th>max</th>\n      <td>NaN</td>\n      <td>2.0</td>\n      <td>2024-03-25 04:00:00</td>\n      <td>1.0</td>\n      <td>1.000000</td>\n      <td>16600.000000</td>\n      <td>0.0</td>\n      <td>2.325000e+06</td>\n      <td>20.000000</td>\n      <td>2.000000</td>\n      <td>...</td>\n      <td>4.000000</td>\n      <td>16600.000000</td>\n      <td>16600.000000</td>\n      <td>0.0</td>\n      <td>999.000000</td>\n      <td>999.000000</td>\n      <td>0.0</td>\n      <td>16600.000000</td>\n      <td>166009.880000</td>\n      <td>4.000000</td>\n    </tr>\n    <tr>\n      <th>std</th>\n      <td>NaN</td>\n      <td>0.0</td>\n      <td>NaN</td>\n      <td>0.0</td>\n      <td>0.015245</td>\n      <td>327.590204</td>\n      <td>0.0</td>\n      <td>4.146441e+03</td>\n      <td>0.294936</td>\n      <td>0.034716</td>\n      <td>...</td>\n      <td>0.007042</td>\n      <td>59.320874</td>\n      <td>59.320884</td>\n      <td>0.0</td>\n      <td>5.600570</td>\n      <td>5.600582</td>\n      <td>0.0</td>\n      <td>26.800020</td>\n      <td>207.357432</td>\n      <td>0.004980</td>\n    </tr>\n  </tbody>\n</table>\n<p>8 rows × 117 columns</p>\n</div>"
     },
     "execution_count": 16,
     "metadata": {},
     "output_type": "execute_result"
    }
   ],
   "source": [
    "df.describe()"
   ],
   "metadata": {
    "collapsed": false,
    "ExecuteTime": {
     "end_time": "2024-03-27T06:24:17.726765Z",
     "start_time": "2024-03-27T06:24:16.862635Z"
    }
   },
   "id": "5bd260ee9ac518b",
   "execution_count": 16
  },
  {
   "cell_type": "code",
   "outputs": [
    {
     "data": {
      "text/plain": "I                           object\nDREGION                     object\nUnnamed: 2                 float64\n2                            int64\nSETTLEMENTDATE      datetime64[ns]\n                         ...      \nLOWER5MINROP               float64\nLOWER5MINAPCFLAG             int64\nLOWERREGRRP                float64\nLOWERREGROP                float64\nLOWERREGAPCFLAG              int64\nLength: 120, dtype: object"
     },
     "execution_count": 17,
     "metadata": {},
     "output_type": "execute_result"
    }
   ],
   "source": [
    "df.dtypes"
   ],
   "metadata": {
    "collapsed": false,
    "ExecuteTime": {
     "end_time": "2024-03-27T06:24:17.729921Z",
     "start_time": "2024-03-27T06:24:17.727361Z"
    }
   },
   "id": "f0f9f956fc5456df",
   "execution_count": 17
  },
  {
   "cell_type": "code",
   "outputs": [
    {
     "data": {
      "text/plain": "(645270, 120)"
     },
     "execution_count": 18,
     "metadata": {},
     "output_type": "execute_result"
    }
   ],
   "source": [
    "df.shape"
   ],
   "metadata": {
    "collapsed": false,
    "ExecuteTime": {
     "end_time": "2024-03-27T06:24:17.736679Z",
     "start_time": "2024-03-27T06:24:17.730381Z"
    }
   },
   "id": "5f3cc8d0d7e21ce0",
   "execution_count": 18
  }
 ],
 "metadata": {
  "kernelspec": {
   "display_name": "Python 3",
   "language": "python",
   "name": "python3"
  },
  "language_info": {
   "codemirror_mode": {
    "name": "ipython",
    "version": 2
   },
   "file_extension": ".py",
   "mimetype": "text/x-python",
   "name": "python",
   "nbconvert_exporter": "python",
   "pygments_lexer": "ipython2",
   "version": "2.7.6"
  }
 },
 "nbformat": 4,
 "nbformat_minor": 5
}
