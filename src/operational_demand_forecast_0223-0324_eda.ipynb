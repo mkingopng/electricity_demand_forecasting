{
 "cells": [
  {
   "cell_type": "code",
   "execution_count": 6,
   "id": "initial_id",
   "metadata": {
    "collapsed": true,
    "ExecuteTime": {
     "end_time": "2024-03-28T05:37:26.781627Z",
     "start_time": "2024-03-28T05:37:26.779321Z"
    }
   },
   "outputs": [],
   "source": [
    "import pandas as pd\n",
    "import os\n",
    "import matplotlib.pyplot as plt\n",
    "import seaborn as sns"
   ]
  },
  {
   "cell_type": "code",
   "outputs": [],
   "source": [
    "# general settings\n",
    "class CFG:\n",
    "    \"\"\"\n",
    "    Configuration class\n",
    "    \"\"\"\n",
    "    data_path = './../data'\n",
    "    img_dim1 = 20\n",
    "    img_dim2 = 10\n",
    "    \n",
    "    \n",
    "plt.style.use('fivethirtyeight')   \n",
    "plt.rcParams.update({'figure.figsize': (CFG.img_dim1, CFG.img_dim2)}) "
   ],
   "metadata": {
    "collapsed": false,
    "ExecuteTime": {
     "end_time": "2024-03-28T05:37:26.792455Z",
     "start_time": "2024-03-28T05:37:26.788315Z"
    }
   },
   "id": "c8ee5b0977530fd5",
   "execution_count": 7
  },
  {
   "cell_type": "code",
   "outputs": [
    {
     "data": {
      "text/plain": "   I  OPERATIONAL_DEMAND  FORECAST  1 REGIONID   INTERVAL_DATETIME  \\\n0  D  OPERATIONAL_DEMAND  FORECAST  1     NSW1 2023-07-10 23:00:00   \n1  D  OPERATIONAL_DEMAND  FORECAST  1     NSW1 2023-07-10 23:30:00   \n2  D  OPERATIONAL_DEMAND  FORECAST  1     NSW1 2023-07-11 00:00:00   \n3  D  OPERATIONAL_DEMAND  FORECAST  1     NSW1 2023-07-11 00:30:00   \n4  D  OPERATIONAL_DEMAND  FORECAST  1     NSW1 2023-07-11 01:00:00   \n\n            LOAD_DATE  OPERATIONAL_DEMAND_POE10  OPERATIONAL_DEMAND_POE50  \\\n0 2023-07-10 22:27:39                    9090.0                      8950   \n1 2023-07-10 22:27:39                    8912.0                      8753   \n2 2023-07-10 22:27:39                    8788.0                      8608   \n3 2023-07-10 22:27:39                    8642.0                      8444   \n4 2023-07-10 22:27:39                    8486.0                      8270   \n\n   OPERATIONAL_DEMAND_POE90         LASTCHANGED  \n0                    8810.0 2023-07-10 22:27:39  \n1                    8593.0 2023-07-10 22:27:39  \n2                    8429.0 2023-07-10 22:27:39  \n3                    8246.0 2023-07-10 22:27:39  \n4                    8055.0 2023-07-10 22:27:39  ",
      "text/html": "<div>\n<style scoped>\n    .dataframe tbody tr th:only-of-type {\n        vertical-align: middle;\n    }\n\n    .dataframe tbody tr th {\n        vertical-align: top;\n    }\n\n    .dataframe thead th {\n        text-align: right;\n    }\n</style>\n<table border=\"1\" class=\"dataframe\">\n  <thead>\n    <tr style=\"text-align: right;\">\n      <th></th>\n      <th>I</th>\n      <th>OPERATIONAL_DEMAND</th>\n      <th>FORECAST</th>\n      <th>1</th>\n      <th>REGIONID</th>\n      <th>INTERVAL_DATETIME</th>\n      <th>LOAD_DATE</th>\n      <th>OPERATIONAL_DEMAND_POE10</th>\n      <th>OPERATIONAL_DEMAND_POE50</th>\n      <th>OPERATIONAL_DEMAND_POE90</th>\n      <th>LASTCHANGED</th>\n    </tr>\n  </thead>\n  <tbody>\n    <tr>\n      <th>0</th>\n      <td>D</td>\n      <td>OPERATIONAL_DEMAND</td>\n      <td>FORECAST</td>\n      <td>1</td>\n      <td>NSW1</td>\n      <td>2023-07-10 23:00:00</td>\n      <td>2023-07-10 22:27:39</td>\n      <td>9090.0</td>\n      <td>8950</td>\n      <td>8810.0</td>\n      <td>2023-07-10 22:27:39</td>\n    </tr>\n    <tr>\n      <th>1</th>\n      <td>D</td>\n      <td>OPERATIONAL_DEMAND</td>\n      <td>FORECAST</td>\n      <td>1</td>\n      <td>NSW1</td>\n      <td>2023-07-10 23:30:00</td>\n      <td>2023-07-10 22:27:39</td>\n      <td>8912.0</td>\n      <td>8753</td>\n      <td>8593.0</td>\n      <td>2023-07-10 22:27:39</td>\n    </tr>\n    <tr>\n      <th>2</th>\n      <td>D</td>\n      <td>OPERATIONAL_DEMAND</td>\n      <td>FORECAST</td>\n      <td>1</td>\n      <td>NSW1</td>\n      <td>2023-07-11 00:00:00</td>\n      <td>2023-07-10 22:27:39</td>\n      <td>8788.0</td>\n      <td>8608</td>\n      <td>8429.0</td>\n      <td>2023-07-10 22:27:39</td>\n    </tr>\n    <tr>\n      <th>3</th>\n      <td>D</td>\n      <td>OPERATIONAL_DEMAND</td>\n      <td>FORECAST</td>\n      <td>1</td>\n      <td>NSW1</td>\n      <td>2023-07-11 00:30:00</td>\n      <td>2023-07-10 22:27:39</td>\n      <td>8642.0</td>\n      <td>8444</td>\n      <td>8246.0</td>\n      <td>2023-07-10 22:27:39</td>\n    </tr>\n    <tr>\n      <th>4</th>\n      <td>D</td>\n      <td>OPERATIONAL_DEMAND</td>\n      <td>FORECAST</td>\n      <td>1</td>\n      <td>NSW1</td>\n      <td>2023-07-11 01:00:00</td>\n      <td>2023-07-10 22:27:39</td>\n      <td>8486.0</td>\n      <td>8270</td>\n      <td>8055.0</td>\n      <td>2023-07-10 22:27:39</td>\n    </tr>\n  </tbody>\n</table>\n</div>"
     },
     "execution_count": 8,
     "metadata": {},
     "output_type": "execute_result"
    }
   ],
   "source": [
    "df = pd.read_parquet(os.path.join(CFG.data_path, 'operational_demand_forecast_hh_consolidated.parquet'))\n",
    "df.head()"
   ],
   "metadata": {
    "collapsed": false,
    "ExecuteTime": {
     "end_time": "2024-03-28T05:37:29.238493Z",
     "start_time": "2024-03-28T05:37:26.793380Z"
    }
   },
   "id": "f5c6abb8adc91440",
   "execution_count": 8
  },
  {
   "cell_type": "code",
   "outputs": [
    {
     "data": {
      "text/plain": "I                                   object\nOPERATIONAL_DEMAND                  object\nFORECAST                            object\n1                                    int64\nREGIONID                            object\nINTERVAL_DATETIME           datetime64[ns]\nLOAD_DATE                   datetime64[ns]\nOPERATIONAL_DEMAND_POE10           float64\nOPERATIONAL_DEMAND_POE50             int64\nOPERATIONAL_DEMAND_POE90           float64\nLASTCHANGED                 datetime64[ns]\ndtype: object"
     },
     "execution_count": 9,
     "metadata": {},
     "output_type": "execute_result"
    }
   ],
   "source": [
    "df.dtypes"
   ],
   "metadata": {
    "collapsed": false,
    "ExecuteTime": {
     "end_time": "2024-03-28T05:37:29.241534Z",
     "start_time": "2024-03-28T05:37:29.239056Z"
    }
   },
   "id": "97326ff5579cdad",
   "execution_count": 9
  },
  {
   "cell_type": "code",
   "outputs": [
    {
     "data": {
      "text/plain": "Timestamp('2023-02-05 00:30:00')"
     },
     "execution_count": 10,
     "metadata": {},
     "output_type": "execute_result"
    }
   ],
   "source": [
    "df['INTERVAL_DATETIME'].min()"
   ],
   "metadata": {
    "collapsed": false,
    "ExecuteTime": {
     "end_time": "2024-03-28T05:37:29.287431Z",
     "start_time": "2024-03-28T05:37:29.242310Z"
    }
   },
   "id": "40cd32532f57b8b7",
   "execution_count": 10
  },
  {
   "cell_type": "code",
   "outputs": [
    {
     "data": {
      "text/plain": "Timestamp('2024-03-26 00:00:00')"
     },
     "execution_count": 11,
     "metadata": {},
     "output_type": "execute_result"
    }
   ],
   "source": [
    "df['INTERVAL_DATETIME'].max()"
   ],
   "metadata": {
    "collapsed": false,
    "ExecuteTime": {
     "end_time": "2024-03-28T05:37:29.327032Z",
     "start_time": "2024-03-28T05:37:29.287964Z"
    }
   },
   "id": "90467cdc54a4f8",
   "execution_count": 11
  }
 ],
 "metadata": {
  "kernelspec": {
   "display_name": "Python 3",
   "language": "python",
   "name": "python3"
  },
  "language_info": {
   "codemirror_mode": {
    "name": "ipython",
    "version": 2
   },
   "file_extension": ".py",
   "mimetype": "text/x-python",
   "name": "python",
   "nbconvert_exporter": "python",
   "pygments_lexer": "ipython2",
   "version": "2.7.6"
  }
 },
 "nbformat": 4,
 "nbformat_minor": 5
}
