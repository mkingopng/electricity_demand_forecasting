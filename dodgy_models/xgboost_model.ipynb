{
 "cells": [
  {
   "cell_type": "code",
   "execution_count": 1,
   "id": "initial_id",
   "metadata": {
    "collapsed": true,
    "ExecuteTime": {
     "end_time": "2024-04-04T02:58:09.209237Z",
     "start_time": "2024-04-04T02:58:08.499718Z"
    }
   },
   "outputs": [],
   "source": [
    "import xgboost as xgb\n",
    "from xgboost.callback import TrainingCallback\n",
    "import pandas as pd\n",
    "import numpy as np\n",
    "from sklearn.metrics import mean_absolute_error\n",
    "from sklearn.model_selection import TimeSeriesSplit, GridSearchCV, ParameterGrid\n",
    "from sklearn.base import clone\n",
    "# import wandb\n",
    "import matplotlib.pyplot as plt"
   ]
  },
  {
   "cell_type": "code",
   "outputs": [],
   "source": [
    "class CFG:\n",
    "    n_in = 1\n",
    "    n_test = 336\n",
    "    wandb_project_name = 'electricity_demand_forecasting'\n",
    "    wandb_run_name = 'xgboost'"
   ],
   "metadata": {
    "collapsed": false,
    "ExecuteTime": {
     "end_time": "2024-04-04T02:58:09.212895Z",
     "start_time": "2024-04-04T02:58:09.211189Z"
    }
   },
   "id": "87b77842828a092a",
   "execution_count": 2
  },
  {
   "cell_type": "code",
   "outputs": [],
   "source": [
    "class WandbCallback(TrainingCallback):\n",
    "    def __init__(self, period=1):\n",
    "        self.period = period\n",
    "\n",
    "    def after_iteration(self, model, epoch, evals_log):\n",
    "        if epoch % self.period == 0:\n",
    "            # Assuming 'mae' is being logged. Adjust if a different metric name is used.\n",
    "            mae = evals_log['train']['mae'][-1]\n",
    "            # wandb.log({'train-mae': mae})\n",
    "        return False"
   ],
   "metadata": {
    "collapsed": false,
    "ExecuteTime": {
     "end_time": "2024-04-04T02:58:09.285826Z",
     "start_time": "2024-04-04T02:58:09.213408Z"
    }
   },
   "id": "7ce9c90da54b643c",
   "execution_count": 3
  },
  {
   "cell_type": "code",
   "outputs": [],
   "source": [
    "def series_to_supervised(data, n_in=1, n_out=1, dropnan=True, target_var='TOTALDEMAND'):\n",
    "    n_vars = 1 if type(data) is list else data.shape[1]\n",
    "    df = pd.DataFrame(data)\n",
    "    cols, names = list(), list()\n",
    "    \n",
    "    # Input sequence (t-n, ... t-1)\n",
    "    for i in range(n_in, 0, -1):\n",
    "        cols.append(df.drop(columns=target_var).shift(i))\n",
    "        names += [('%s(t-%d)' % (df.columns[j], i)) for j in range(n_vars) if df.columns[j] != target_var]\n",
    "    \n",
    "    # Forecast sequence (t+1, ... t+n_out-1), only for predictors, not target\n",
    "    # Note: We adjust n_out to n_out-1 to make room for the actual target variable at t\n",
    "    for i in range(1, n_out):\n",
    "        cols.append(df.drop(columns=target_var).shift(-i))\n",
    "        names += [('%s(t+%d)' % (df.columns[j], i)) for j in range(n_vars) if df.columns[j] != target_var]\n",
    "\n",
    "    # Add the target variable column at t (current timestep)\n",
    "    cols.append(df[[target_var]])\n",
    "    names.append('%s(t)' % target_var)\n",
    "    \n",
    "    # Combine everything\n",
    "    agg = pd.concat(cols, axis=1)\n",
    "    agg.columns = names\n",
    "    \n",
    "    # Drop rows with NaN values\n",
    "    if dropnan:\n",
    "        agg.dropna(inplace=True)\n",
    "    \n",
    "    return agg"
   ],
   "metadata": {
    "collapsed": false,
    "ExecuteTime": {
     "end_time": "2024-04-04T02:58:09.290312Z",
     "start_time": "2024-04-04T02:58:09.286379Z"
    }
   },
   "id": "da3b8ed39caecef",
   "execution_count": 4
  },
  {
   "cell_type": "code",
   "outputs": [],
   "source": [
    "def train_test_split(data, n_test):\n",
    "    return data[:-n_test, :], data[-n_test:, :]"
   ],
   "metadata": {
    "collapsed": false,
    "ExecuteTime": {
     "end_time": "2024-04-04T02:58:09.293377Z",
     "start_time": "2024-04-04T02:58:09.291157Z"
    }
   },
   "id": "eb283db89d320ad5",
   "execution_count": 5
  },
  {
   "cell_type": "code",
   "outputs": [],
   "source": [
    "def diy_cv(model, param_grid, splits, trainX, trainy):\n",
    "    best_score = float(\"inf\")\n",
    "    best_params = None\n",
    "    for params in ParameterGrid(param_grid):\n",
    "        scores = []\n",
    "        for train_idx, val_idx in splits.split(trainX):\n",
    "            clone_model = clone(model)\n",
    "            clone_model.set_params(**params)\n",
    "            X_train_fold, y_train_fold = trainX.iloc[train_idx], trainy.iloc[train_idx]  # Corrected to use .iloc for trainy\n",
    "            X_val_fold, y_val_fold = trainX.iloc[val_idx], trainy.iloc[val_idx]  # Corrected to use .iloc for trainy\n",
    "            clone_model.fit(X_train_fold, y_train_fold)\n",
    "            predictions = clone_model.predict(X_val_fold)\n",
    "            score = mean_absolute_error(y_val_fold, predictions)\n",
    "            scores.append(score)\n",
    "        avg_score = np.mean(scores)\n",
    "        if avg_score < best_score:\n",
    "            best_score = avg_score\n",
    "            best_params = params\n",
    "        print(f\"Params: {params}, Avg MAE: {avg_score}\")\n",
    "    return best_params, best_score"
   ],
   "metadata": {
    "collapsed": false,
    "ExecuteTime": {
     "end_time": "2024-04-04T02:58:09.296785Z",
     "start_time": "2024-04-04T02:58:09.293855Z"
    }
   },
   "id": "a19eb561b7e08f39",
   "execution_count": 6
  },
  {
   "cell_type": "code",
   "outputs": [],
   "source": [
    "# def log_evaluation(period=1, show_stdv=True):\n",
    "#     def callback(env):\n",
    "#         if env.iteration % period == 0:\n",
    "#             # wandb.log({\"Training MAE\": env.evaluation_result_list[0][1], \"Validation MAE\": env.evaluation_result_list[1][1]})\n",
    "#     return callback"
   ],
   "metadata": {
    "collapsed": false,
    "ExecuteTime": {
     "end_time": "2024-04-04T02:58:09.300714Z",
     "start_time": "2024-04-04T02:58:09.297276Z"
    }
   },
   "id": "830434d798a0b030",
   "execution_count": 7
  },
  {
   "cell_type": "code",
   "outputs": [],
   "source": [
    "# def wandb_callback():\n",
    "#     def callback(env):\n",
    "#         for i, eval_result in enumerate(env.evaluation_result_list):# wandb.log({f\"{eval_result[0]}-{eval_result[1]}\": eval_result[2]})\n",
    "#     return callback"
   ],
   "metadata": {
    "collapsed": false,
    "ExecuteTime": {
     "end_time": "2024-04-04T02:58:09.303874Z",
     "start_time": "2024-04-04T02:58:09.301182Z"
    }
   },
   "id": "d5baa1d24987bfc7",
   "execution_count": 8
  },
  {
   "cell_type": "code",
   "outputs": [],
   "source": [
    "CFG = CFG()"
   ],
   "metadata": {
    "collapsed": false,
    "ExecuteTime": {
     "end_time": "2024-04-04T02:58:09.306850Z",
     "start_time": "2024-04-04T02:58:09.304375Z"
    }
   },
   "id": "69a3feab2d20334e",
   "execution_count": 9
  },
  {
   "cell_type": "code",
   "outputs": [],
   "source": [
    "config_dict = {\n",
    "        \"n_in\": 6,\n",
    "        \"n_test\": 30,\n",
    "        \"wandb_project_name\": 'electricity_demand_forecasting',\n",
    "        \"wandb_run_name\": 'xgboost',\n",
    "        \"param_grid\": {\n",
    "            'max_depth': [3, 5, 7],\n",
    "            'learning_rate': [0.01, 0.1, 0.3],\n",
    "            'n_estimators': [100, 500, 1000],\n",
    "        }\n",
    "    }"
   ],
   "metadata": {
    "collapsed": false,
    "ExecuteTime": {
     "end_time": "2024-04-04T02:58:09.316145Z",
     "start_time": "2024-04-04T02:58:09.307295Z"
    }
   },
   "id": "d46900943db9958e",
   "execution_count": 10
  },
  {
   "cell_type": "code",
   "outputs": [],
   "source": [
    "# initialize W&B\n",
    "# wandb.init(\n",
    "#     project=CFG.wandb_project_name,\n",
    "#     name=CFG.wandb_run_name,\n",
    "#     config=config_dict\n",
    "# )"
   ],
   "metadata": {
    "collapsed": false,
    "ExecuteTime": {
     "end_time": "2024-04-04T02:58:09.324975Z",
     "start_time": "2024-04-04T02:58:09.316659Z"
    }
   },
   "id": "f8975f6d5d97e818",
   "execution_count": 11
  },
  {
   "cell_type": "code",
   "outputs": [],
   "source": [
    "# load data\n",
    "df = pd.read_csv('./../data/NSW/final_df.csv', index_col=0)"
   ],
   "metadata": {
    "collapsed": false,
    "ExecuteTime": {
     "end_time": "2024-04-04T02:58:09.610822Z",
     "start_time": "2024-04-04T02:58:09.325509Z"
    }
   },
   "id": "86593834b67c9f0d",
   "execution_count": 12
  },
  {
   "cell_type": "code",
   "outputs": [
    {
     "data": {
      "text/plain": "                     PREDISPATCHSEQNO  PERIODID  FORECASTDEMAND  TOTALDEMAND  \\\nUnnamed: 0                                                                     \n2010-01-01 00:30:00      2.009123e+09      36.5     7680.510417      7809.31   \n2010-01-01 01:00:00      2.009123e+09      37.0     7428.971370      7483.69   \n2010-01-01 01:30:00      2.009123e+09      37.5     7084.802162      7117.23   \n2010-01-01 02:00:00      2.009123e+09      38.0     6751.369600      6812.03   \n2010-01-01 02:30:00      2.009123e+09      38.5     6484.270789      6544.33   \n...                               ...       ...             ...          ...   \n2021-03-17 22:00:00      2.021032e+09      34.0     7317.702687      7419.77   \n2021-03-17 22:30:00      2.021032e+09      34.5     7266.887647      7417.91   \n2021-03-17 23:00:00      2.021032e+09      35.0     7173.866522      7287.32   \n2021-03-17 23:30:00      2.021032e+09      35.5     7043.236857      7172.39   \n2021-03-18 00:00:00      2.021032e+09      36.0     6961.076901      7094.51   \n\n                     TEMPERATURE  totaldemand_x    rrp  \\\nUnnamed: 0                                               \n2010-01-01 00:30:00         22.9        7809.31  21.50   \n2010-01-01 01:00:00         22.6        7483.69  20.98   \n2010-01-01 01:30:00         22.5        7117.23  20.06   \n2010-01-01 02:00:00         22.5        6812.03  17.93   \n2010-01-01 02:30:00         22.4        6544.33  17.43   \n...                          ...            ...    ...   \n2021-03-17 22:00:00         19.7        7419.77  32.00   \n2021-03-17 22:30:00         19.5        7417.91  37.01   \n2021-03-17 23:00:00         19.1        7287.32  34.49   \n2021-03-17 23:30:00         18.8        7172.39  32.55   \n2021-03-18 00:00:00         18.6        7094.51  32.63   \n\n                     smoothed_FORECASTDEMAND  smoothed_TOTALDEMAND  \\\nUnnamed: 0                                                           \n2010-01-01 00:30:00              7699.974365           7781.995417   \n2010-01-01 01:00:00              7690.566078           7773.996250   \n2010-01-01 01:30:00              7681.336748           7766.966458   \n2010-01-01 02:00:00              7672.747139           7760.413125   \n2010-01-01 02:30:00              7665.716673           7756.316458   \n...                                      ...                   ...   \n2021-03-17 22:00:00              7400.366626           7422.855208   \n2021-03-17 22:30:00              7399.723912           7424.357917   \n2021-03-17 23:00:00              7399.132502           7425.781458   \n2021-03-17 23:30:00              7398.573481           7428.187917   \n2021-03-18 00:00:00              7398.131553           7430.172917   \n\n                     smoothed_TEMPERATURE  ...  normalized_FORECASTDEMAND  \\\nUnnamed: 0                                 ...                              \n2010-01-01 00:30:00             25.233333  ...                  -0.325943   \n2010-01-01 01:00:00             25.266667  ...                  -0.518995   \n2010-01-01 01:30:00             25.302083  ...                  -0.783139   \n2010-01-01 02:00:00             25.335417  ...                  -1.039043   \n2010-01-01 02:30:00             25.366667  ...                  -1.244036   \n...                                   ...  ...                        ...   \n2021-03-17 22:00:00             19.712500  ...                  -0.604392   \n2021-03-17 22:30:00             19.691667  ...                  -0.643392   \n2021-03-17 23:00:00             19.666667  ...                  -0.714784   \n2021-03-17 23:30:00             19.647917  ...                  -0.815040   \n2021-03-18 00:00:00             19.633333  ...                  -0.878096   \n\n                     normalized_TEMPERATURE  totaldemand_y  dow  doy  year  \\\nUnnamed: 0                                                                   \n2010-01-01 00:30:00                0.916251        7809.31    4    1  2010   \n2010-01-01 01:00:00                0.865312        7483.69    4    1  2010   \n2010-01-01 01:30:00                0.848332        7117.23    4    1  2010   \n2010-01-01 02:00:00                0.848332        6812.03    4    1  2010   \n2010-01-01 02:30:00                0.831352        6544.33    4    1  2010   \n...                                     ...            ...  ...  ...   ...   \n2021-03-17 22:00:00                0.372894        7419.77    2   76  2021   \n2021-03-17 22:30:00                0.338934        7417.91    2   76  2021   \n2021-03-17 23:00:00                0.271015        7287.32    2   76  2021   \n2021-03-17 23:30:00                0.220075        7172.39    2   76  2021   \n2021-03-18 00:00:00                0.186115        7094.51    3   77  2021   \n\n                     month  quarter  hour  season  \nUnnamed: 0                                         \n2010-01-01 00:30:00      1        1     0       1  \n2010-01-01 01:00:00      1        1     1       1  \n2010-01-01 01:30:00      1        1     1       1  \n2010-01-01 02:00:00      1        1     2       1  \n2010-01-01 02:30:00      1        1     2       1  \n...                    ...      ...   ...     ...  \n2021-03-17 22:00:00      3        1    22       2  \n2021-03-17 22:30:00      3        1    22       2  \n2021-03-17 23:00:00      3        1    23       2  \n2021-03-17 23:30:00      3        1    23       2  \n2021-03-18 00:00:00      3        1     0       2  \n\n[194589 rows x 21 columns]",
      "text/html": "<div>\n<style scoped>\n    .dataframe tbody tr th:only-of-type {\n        vertical-align: middle;\n    }\n\n    .dataframe tbody tr th {\n        vertical-align: top;\n    }\n\n    .dataframe thead th {\n        text-align: right;\n    }\n</style>\n<table border=\"1\" class=\"dataframe\">\n  <thead>\n    <tr style=\"text-align: right;\">\n      <th></th>\n      <th>PREDISPATCHSEQNO</th>\n      <th>PERIODID</th>\n      <th>FORECASTDEMAND</th>\n      <th>TOTALDEMAND</th>\n      <th>TEMPERATURE</th>\n      <th>totaldemand_x</th>\n      <th>rrp</th>\n      <th>smoothed_FORECASTDEMAND</th>\n      <th>smoothed_TOTALDEMAND</th>\n      <th>smoothed_TEMPERATURE</th>\n      <th>...</th>\n      <th>normalized_FORECASTDEMAND</th>\n      <th>normalized_TEMPERATURE</th>\n      <th>totaldemand_y</th>\n      <th>dow</th>\n      <th>doy</th>\n      <th>year</th>\n      <th>month</th>\n      <th>quarter</th>\n      <th>hour</th>\n      <th>season</th>\n    </tr>\n    <tr>\n      <th>Unnamed: 0</th>\n      <th></th>\n      <th></th>\n      <th></th>\n      <th></th>\n      <th></th>\n      <th></th>\n      <th></th>\n      <th></th>\n      <th></th>\n      <th></th>\n      <th></th>\n      <th></th>\n      <th></th>\n      <th></th>\n      <th></th>\n      <th></th>\n      <th></th>\n      <th></th>\n      <th></th>\n      <th></th>\n      <th></th>\n    </tr>\n  </thead>\n  <tbody>\n    <tr>\n      <th>2010-01-01 00:30:00</th>\n      <td>2.009123e+09</td>\n      <td>36.5</td>\n      <td>7680.510417</td>\n      <td>7809.31</td>\n      <td>22.9</td>\n      <td>7809.31</td>\n      <td>21.50</td>\n      <td>7699.974365</td>\n      <td>7781.995417</td>\n      <td>25.233333</td>\n      <td>...</td>\n      <td>-0.325943</td>\n      <td>0.916251</td>\n      <td>7809.31</td>\n      <td>4</td>\n      <td>1</td>\n      <td>2010</td>\n      <td>1</td>\n      <td>1</td>\n      <td>0</td>\n      <td>1</td>\n    </tr>\n    <tr>\n      <th>2010-01-01 01:00:00</th>\n      <td>2.009123e+09</td>\n      <td>37.0</td>\n      <td>7428.971370</td>\n      <td>7483.69</td>\n      <td>22.6</td>\n      <td>7483.69</td>\n      <td>20.98</td>\n      <td>7690.566078</td>\n      <td>7773.996250</td>\n      <td>25.266667</td>\n      <td>...</td>\n      <td>-0.518995</td>\n      <td>0.865312</td>\n      <td>7483.69</td>\n      <td>4</td>\n      <td>1</td>\n      <td>2010</td>\n      <td>1</td>\n      <td>1</td>\n      <td>1</td>\n      <td>1</td>\n    </tr>\n    <tr>\n      <th>2010-01-01 01:30:00</th>\n      <td>2.009123e+09</td>\n      <td>37.5</td>\n      <td>7084.802162</td>\n      <td>7117.23</td>\n      <td>22.5</td>\n      <td>7117.23</td>\n      <td>20.06</td>\n      <td>7681.336748</td>\n      <td>7766.966458</td>\n      <td>25.302083</td>\n      <td>...</td>\n      <td>-0.783139</td>\n      <td>0.848332</td>\n      <td>7117.23</td>\n      <td>4</td>\n      <td>1</td>\n      <td>2010</td>\n      <td>1</td>\n      <td>1</td>\n      <td>1</td>\n      <td>1</td>\n    </tr>\n    <tr>\n      <th>2010-01-01 02:00:00</th>\n      <td>2.009123e+09</td>\n      <td>38.0</td>\n      <td>6751.369600</td>\n      <td>6812.03</td>\n      <td>22.5</td>\n      <td>6812.03</td>\n      <td>17.93</td>\n      <td>7672.747139</td>\n      <td>7760.413125</td>\n      <td>25.335417</td>\n      <td>...</td>\n      <td>-1.039043</td>\n      <td>0.848332</td>\n      <td>6812.03</td>\n      <td>4</td>\n      <td>1</td>\n      <td>2010</td>\n      <td>1</td>\n      <td>1</td>\n      <td>2</td>\n      <td>1</td>\n    </tr>\n    <tr>\n      <th>2010-01-01 02:30:00</th>\n      <td>2.009123e+09</td>\n      <td>38.5</td>\n      <td>6484.270789</td>\n      <td>6544.33</td>\n      <td>22.4</td>\n      <td>6544.33</td>\n      <td>17.43</td>\n      <td>7665.716673</td>\n      <td>7756.316458</td>\n      <td>25.366667</td>\n      <td>...</td>\n      <td>-1.244036</td>\n      <td>0.831352</td>\n      <td>6544.33</td>\n      <td>4</td>\n      <td>1</td>\n      <td>2010</td>\n      <td>1</td>\n      <td>1</td>\n      <td>2</td>\n      <td>1</td>\n    </tr>\n    <tr>\n      <th>...</th>\n      <td>...</td>\n      <td>...</td>\n      <td>...</td>\n      <td>...</td>\n      <td>...</td>\n      <td>...</td>\n      <td>...</td>\n      <td>...</td>\n      <td>...</td>\n      <td>...</td>\n      <td>...</td>\n      <td>...</td>\n      <td>...</td>\n      <td>...</td>\n      <td>...</td>\n      <td>...</td>\n      <td>...</td>\n      <td>...</td>\n      <td>...</td>\n      <td>...</td>\n      <td>...</td>\n    </tr>\n    <tr>\n      <th>2021-03-17 22:00:00</th>\n      <td>2.021032e+09</td>\n      <td>34.0</td>\n      <td>7317.702687</td>\n      <td>7419.77</td>\n      <td>19.7</td>\n      <td>7419.77</td>\n      <td>32.00</td>\n      <td>7400.366626</td>\n      <td>7422.855208</td>\n      <td>19.712500</td>\n      <td>...</td>\n      <td>-0.604392</td>\n      <td>0.372894</td>\n      <td>7419.77</td>\n      <td>2</td>\n      <td>76</td>\n      <td>2021</td>\n      <td>3</td>\n      <td>1</td>\n      <td>22</td>\n      <td>2</td>\n    </tr>\n    <tr>\n      <th>2021-03-17 22:30:00</th>\n      <td>2.021032e+09</td>\n      <td>34.5</td>\n      <td>7266.887647</td>\n      <td>7417.91</td>\n      <td>19.5</td>\n      <td>7417.91</td>\n      <td>37.01</td>\n      <td>7399.723912</td>\n      <td>7424.357917</td>\n      <td>19.691667</td>\n      <td>...</td>\n      <td>-0.643392</td>\n      <td>0.338934</td>\n      <td>7417.91</td>\n      <td>2</td>\n      <td>76</td>\n      <td>2021</td>\n      <td>3</td>\n      <td>1</td>\n      <td>22</td>\n      <td>2</td>\n    </tr>\n    <tr>\n      <th>2021-03-17 23:00:00</th>\n      <td>2.021032e+09</td>\n      <td>35.0</td>\n      <td>7173.866522</td>\n      <td>7287.32</td>\n      <td>19.1</td>\n      <td>7287.32</td>\n      <td>34.49</td>\n      <td>7399.132502</td>\n      <td>7425.781458</td>\n      <td>19.666667</td>\n      <td>...</td>\n      <td>-0.714784</td>\n      <td>0.271015</td>\n      <td>7287.32</td>\n      <td>2</td>\n      <td>76</td>\n      <td>2021</td>\n      <td>3</td>\n      <td>1</td>\n      <td>23</td>\n      <td>2</td>\n    </tr>\n    <tr>\n      <th>2021-03-17 23:30:00</th>\n      <td>2.021032e+09</td>\n      <td>35.5</td>\n      <td>7043.236857</td>\n      <td>7172.39</td>\n      <td>18.8</td>\n      <td>7172.39</td>\n      <td>32.55</td>\n      <td>7398.573481</td>\n      <td>7428.187917</td>\n      <td>19.647917</td>\n      <td>...</td>\n      <td>-0.815040</td>\n      <td>0.220075</td>\n      <td>7172.39</td>\n      <td>2</td>\n      <td>76</td>\n      <td>2021</td>\n      <td>3</td>\n      <td>1</td>\n      <td>23</td>\n      <td>2</td>\n    </tr>\n    <tr>\n      <th>2021-03-18 00:00:00</th>\n      <td>2.021032e+09</td>\n      <td>36.0</td>\n      <td>6961.076901</td>\n      <td>7094.51</td>\n      <td>18.6</td>\n      <td>7094.51</td>\n      <td>32.63</td>\n      <td>7398.131553</td>\n      <td>7430.172917</td>\n      <td>19.633333</td>\n      <td>...</td>\n      <td>-0.878096</td>\n      <td>0.186115</td>\n      <td>7094.51</td>\n      <td>3</td>\n      <td>77</td>\n      <td>2021</td>\n      <td>3</td>\n      <td>1</td>\n      <td>0</td>\n      <td>2</td>\n    </tr>\n  </tbody>\n</table>\n<p>194589 rows × 21 columns</p>\n</div>"
     },
     "execution_count": 13,
     "metadata": {},
     "output_type": "execute_result"
    }
   ],
   "source": [
    "df"
   ],
   "metadata": {
    "collapsed": false,
    "ExecuteTime": {
     "end_time": "2024-04-04T02:58:09.663564Z",
     "start_time": "2024-04-04T02:58:09.611412Z"
    }
   },
   "id": "907efcaced7d9a02",
   "execution_count": 13
  },
  {
   "cell_type": "code",
   "outputs": [
    {
     "data": {
      "text/plain": "                     PREDISPATCHSEQNO(t-1)  PERIODID(t-1)  \\\nUnnamed: 0                                                  \n2010-01-01 01:00:00           2.009123e+09           36.5   \n2010-01-01 01:30:00           2.009123e+09           37.0   \n2010-01-01 02:00:00           2.009123e+09           37.5   \n2010-01-01 02:30:00           2.009123e+09           38.0   \n2010-01-01 03:00:00           2.009123e+09           38.5   \n...                                    ...            ...   \n2021-03-17 22:00:00           2.021032e+09           33.5   \n2021-03-17 22:30:00           2.021032e+09           34.0   \n2021-03-17 23:00:00           2.021032e+09           34.5   \n2021-03-17 23:30:00           2.021032e+09           35.0   \n2021-03-18 00:00:00           2.021032e+09           35.5   \n\n                     FORECASTDEMAND(t-1)  TEMPERATURE(t-1)  \\\nUnnamed: 0                                                   \n2010-01-01 01:00:00          7680.510417              22.9   \n2010-01-01 01:30:00          7428.971370              22.6   \n2010-01-01 02:00:00          7084.802162              22.5   \n2010-01-01 02:30:00          6751.369600              22.5   \n2010-01-01 03:00:00          6484.270789              22.4   \n...                                  ...               ...   \n2021-03-17 22:00:00          7396.625303              19.7   \n2021-03-17 22:30:00          7317.702687              19.7   \n2021-03-17 23:00:00          7266.887647              19.5   \n2021-03-17 23:30:00          7173.866522              19.1   \n2021-03-18 00:00:00          7043.236857              18.8   \n\n                     totaldemand_x(t-1)  rrp(t-1)  \\\nUnnamed: 0                                          \n2010-01-01 01:00:00             7809.31     21.50   \n2010-01-01 01:30:00             7483.69     20.98   \n2010-01-01 02:00:00             7117.23     20.06   \n2010-01-01 02:30:00             6812.03     17.93   \n2010-01-01 03:00:00             6544.33     17.43   \n...                                 ...       ...   \n2021-03-17 22:00:00             7503.12     32.41   \n2021-03-17 22:30:00             7419.77     32.00   \n2021-03-17 23:00:00             7417.91     37.01   \n2021-03-17 23:30:00             7287.32     34.49   \n2021-03-18 00:00:00             7172.39     32.55   \n\n                     smoothed_FORECASTDEMAND(t-1)  smoothed_TOTALDEMAND(t-1)  \\\nUnnamed: 0                                                                     \n2010-01-01 01:00:00                   7699.974365                7781.995417   \n2010-01-01 01:30:00                   7690.566078                7773.996250   \n2010-01-01 02:00:00                   7681.336748                7766.966458   \n2010-01-01 02:30:00                   7672.747139                7760.413125   \n2010-01-01 03:00:00                   7665.716673                7756.316458   \n...                                           ...                        ...   \n2021-03-17 22:00:00                   7400.825986                7421.898125   \n2021-03-17 22:30:00                   7400.366626                7422.855208   \n2021-03-17 23:00:00                   7399.723912                7424.357917   \n2021-03-17 23:30:00                   7399.132502                7425.781458   \n2021-03-18 00:00:00                   7398.573481                7428.187917   \n\n                     smoothed_TEMPERATURE(t-1)  normalized_TOTALDEMAND(t-1)  \\\nUnnamed: 0                                                                    \n2010-01-01 01:00:00                  25.233333                    -0.232608   \n2010-01-01 01:30:00                  25.266667                    -0.483133   \n2010-01-01 02:00:00                  25.302083                    -0.765079   \n2010-01-01 02:30:00                  25.335417                    -0.999894   \n2010-01-01 03:00:00                  25.366667                    -1.205856   \n...                                        ...                          ...   \n2021-03-17 22:00:00                  19.727083                    -0.468184   \n2021-03-17 22:30:00                  19.712500                    -0.532312   \n2021-03-17 23:00:00                  19.691667                    -0.533743   \n2021-03-17 23:30:00                  19.666667                    -0.634216   \n2021-03-18 00:00:00                  19.647917                    -0.722640   \n\n                     ...  normalized_TEMPERATURE(t-1)  totaldemand_y(t-1)  \\\nUnnamed: 0           ...                                                    \n2010-01-01 01:00:00  ...                     0.916251             7809.31   \n2010-01-01 01:30:00  ...                     0.865312             7483.69   \n2010-01-01 02:00:00  ...                     0.848332             7117.23   \n2010-01-01 02:30:00  ...                     0.848332             6812.03   \n2010-01-01 03:00:00  ...                     0.831352             6544.33   \n...                  ...                          ...                 ...   \n2021-03-17 22:00:00  ...                     0.372894             7503.12   \n2021-03-17 22:30:00  ...                     0.372894             7419.77   \n2021-03-17 23:00:00  ...                     0.338934             7417.91   \n2021-03-17 23:30:00  ...                     0.271015             7287.32   \n2021-03-18 00:00:00  ...                     0.220075             7172.39   \n\n                     dow(t-1)  doy(t-1)  year(t-1)  month(t-1)  quarter(t-1)  \\\nUnnamed: 0                                                                     \n2010-01-01 01:00:00       4.0       1.0     2010.0         1.0           1.0   \n2010-01-01 01:30:00       4.0       1.0     2010.0         1.0           1.0   \n2010-01-01 02:00:00       4.0       1.0     2010.0         1.0           1.0   \n2010-01-01 02:30:00       4.0       1.0     2010.0         1.0           1.0   \n2010-01-01 03:00:00       4.0       1.0     2010.0         1.0           1.0   \n...                       ...       ...        ...         ...           ...   \n2021-03-17 22:00:00       2.0      76.0     2021.0         3.0           1.0   \n2021-03-17 22:30:00       2.0      76.0     2021.0         3.0           1.0   \n2021-03-17 23:00:00       2.0      76.0     2021.0         3.0           1.0   \n2021-03-17 23:30:00       2.0      76.0     2021.0         3.0           1.0   \n2021-03-18 00:00:00       2.0      76.0     2021.0         3.0           1.0   \n\n                     hour(t-1)  season(t-1)  TOTALDEMAND(t)  \nUnnamed: 0                                                   \n2010-01-01 01:00:00        0.0          1.0         7483.69  \n2010-01-01 01:30:00        1.0          1.0         7117.23  \n2010-01-01 02:00:00        1.0          1.0         6812.03  \n2010-01-01 02:30:00        2.0          1.0         6544.33  \n2010-01-01 03:00:00        2.0          1.0         6377.32  \n...                        ...          ...             ...  \n2021-03-17 22:00:00       21.0          2.0         7419.77  \n2021-03-17 22:30:00       22.0          2.0         7417.91  \n2021-03-17 23:00:00       22.0          2.0         7287.32  \n2021-03-17 23:30:00       23.0          2.0         7172.39  \n2021-03-18 00:00:00       23.0          2.0         7094.51  \n\n[194588 rows x 21 columns]",
      "text/html": "<div>\n<style scoped>\n    .dataframe tbody tr th:only-of-type {\n        vertical-align: middle;\n    }\n\n    .dataframe tbody tr th {\n        vertical-align: top;\n    }\n\n    .dataframe thead th {\n        text-align: right;\n    }\n</style>\n<table border=\"1\" class=\"dataframe\">\n  <thead>\n    <tr style=\"text-align: right;\">\n      <th></th>\n      <th>PREDISPATCHSEQNO(t-1)</th>\n      <th>PERIODID(t-1)</th>\n      <th>FORECASTDEMAND(t-1)</th>\n      <th>TEMPERATURE(t-1)</th>\n      <th>totaldemand_x(t-1)</th>\n      <th>rrp(t-1)</th>\n      <th>smoothed_FORECASTDEMAND(t-1)</th>\n      <th>smoothed_TOTALDEMAND(t-1)</th>\n      <th>smoothed_TEMPERATURE(t-1)</th>\n      <th>normalized_TOTALDEMAND(t-1)</th>\n      <th>...</th>\n      <th>normalized_TEMPERATURE(t-1)</th>\n      <th>totaldemand_y(t-1)</th>\n      <th>dow(t-1)</th>\n      <th>doy(t-1)</th>\n      <th>year(t-1)</th>\n      <th>month(t-1)</th>\n      <th>quarter(t-1)</th>\n      <th>hour(t-1)</th>\n      <th>season(t-1)</th>\n      <th>TOTALDEMAND(t)</th>\n    </tr>\n    <tr>\n      <th>Unnamed: 0</th>\n      <th></th>\n      <th></th>\n      <th></th>\n      <th></th>\n      <th></th>\n      <th></th>\n      <th></th>\n      <th></th>\n      <th></th>\n      <th></th>\n      <th></th>\n      <th></th>\n      <th></th>\n      <th></th>\n      <th></th>\n      <th></th>\n      <th></th>\n      <th></th>\n      <th></th>\n      <th></th>\n      <th></th>\n    </tr>\n  </thead>\n  <tbody>\n    <tr>\n      <th>2010-01-01 01:00:00</th>\n      <td>2.009123e+09</td>\n      <td>36.5</td>\n      <td>7680.510417</td>\n      <td>22.9</td>\n      <td>7809.31</td>\n      <td>21.50</td>\n      <td>7699.974365</td>\n      <td>7781.995417</td>\n      <td>25.233333</td>\n      <td>-0.232608</td>\n      <td>...</td>\n      <td>0.916251</td>\n      <td>7809.31</td>\n      <td>4.0</td>\n      <td>1.0</td>\n      <td>2010.0</td>\n      <td>1.0</td>\n      <td>1.0</td>\n      <td>0.0</td>\n      <td>1.0</td>\n      <td>7483.69</td>\n    </tr>\n    <tr>\n      <th>2010-01-01 01:30:00</th>\n      <td>2.009123e+09</td>\n      <td>37.0</td>\n      <td>7428.971370</td>\n      <td>22.6</td>\n      <td>7483.69</td>\n      <td>20.98</td>\n      <td>7690.566078</td>\n      <td>7773.996250</td>\n      <td>25.266667</td>\n      <td>-0.483133</td>\n      <td>...</td>\n      <td>0.865312</td>\n      <td>7483.69</td>\n      <td>4.0</td>\n      <td>1.0</td>\n      <td>2010.0</td>\n      <td>1.0</td>\n      <td>1.0</td>\n      <td>1.0</td>\n      <td>1.0</td>\n      <td>7117.23</td>\n    </tr>\n    <tr>\n      <th>2010-01-01 02:00:00</th>\n      <td>2.009123e+09</td>\n      <td>37.5</td>\n      <td>7084.802162</td>\n      <td>22.5</td>\n      <td>7117.23</td>\n      <td>20.06</td>\n      <td>7681.336748</td>\n      <td>7766.966458</td>\n      <td>25.302083</td>\n      <td>-0.765079</td>\n      <td>...</td>\n      <td>0.848332</td>\n      <td>7117.23</td>\n      <td>4.0</td>\n      <td>1.0</td>\n      <td>2010.0</td>\n      <td>1.0</td>\n      <td>1.0</td>\n      <td>1.0</td>\n      <td>1.0</td>\n      <td>6812.03</td>\n    </tr>\n    <tr>\n      <th>2010-01-01 02:30:00</th>\n      <td>2.009123e+09</td>\n      <td>38.0</td>\n      <td>6751.369600</td>\n      <td>22.5</td>\n      <td>6812.03</td>\n      <td>17.93</td>\n      <td>7672.747139</td>\n      <td>7760.413125</td>\n      <td>25.335417</td>\n      <td>-0.999894</td>\n      <td>...</td>\n      <td>0.848332</td>\n      <td>6812.03</td>\n      <td>4.0</td>\n      <td>1.0</td>\n      <td>2010.0</td>\n      <td>1.0</td>\n      <td>1.0</td>\n      <td>2.0</td>\n      <td>1.0</td>\n      <td>6544.33</td>\n    </tr>\n    <tr>\n      <th>2010-01-01 03:00:00</th>\n      <td>2.009123e+09</td>\n      <td>38.5</td>\n      <td>6484.270789</td>\n      <td>22.4</td>\n      <td>6544.33</td>\n      <td>17.43</td>\n      <td>7665.716673</td>\n      <td>7756.316458</td>\n      <td>25.366667</td>\n      <td>-1.205856</td>\n      <td>...</td>\n      <td>0.831352</td>\n      <td>6544.33</td>\n      <td>4.0</td>\n      <td>1.0</td>\n      <td>2010.0</td>\n      <td>1.0</td>\n      <td>1.0</td>\n      <td>2.0</td>\n      <td>1.0</td>\n      <td>6377.32</td>\n    </tr>\n    <tr>\n      <th>...</th>\n      <td>...</td>\n      <td>...</td>\n      <td>...</td>\n      <td>...</td>\n      <td>...</td>\n      <td>...</td>\n      <td>...</td>\n      <td>...</td>\n      <td>...</td>\n      <td>...</td>\n      <td>...</td>\n      <td>...</td>\n      <td>...</td>\n      <td>...</td>\n      <td>...</td>\n      <td>...</td>\n      <td>...</td>\n      <td>...</td>\n      <td>...</td>\n      <td>...</td>\n      <td>...</td>\n    </tr>\n    <tr>\n      <th>2021-03-17 22:00:00</th>\n      <td>2.021032e+09</td>\n      <td>33.5</td>\n      <td>7396.625303</td>\n      <td>19.7</td>\n      <td>7503.12</td>\n      <td>32.41</td>\n      <td>7400.825986</td>\n      <td>7421.898125</td>\n      <td>19.727083</td>\n      <td>-0.468184</td>\n      <td>...</td>\n      <td>0.372894</td>\n      <td>7503.12</td>\n      <td>2.0</td>\n      <td>76.0</td>\n      <td>2021.0</td>\n      <td>3.0</td>\n      <td>1.0</td>\n      <td>21.0</td>\n      <td>2.0</td>\n      <td>7419.77</td>\n    </tr>\n    <tr>\n      <th>2021-03-17 22:30:00</th>\n      <td>2.021032e+09</td>\n      <td>34.0</td>\n      <td>7317.702687</td>\n      <td>19.7</td>\n      <td>7419.77</td>\n      <td>32.00</td>\n      <td>7400.366626</td>\n      <td>7422.855208</td>\n      <td>19.712500</td>\n      <td>-0.532312</td>\n      <td>...</td>\n      <td>0.372894</td>\n      <td>7419.77</td>\n      <td>2.0</td>\n      <td>76.0</td>\n      <td>2021.0</td>\n      <td>3.0</td>\n      <td>1.0</td>\n      <td>22.0</td>\n      <td>2.0</td>\n      <td>7417.91</td>\n    </tr>\n    <tr>\n      <th>2021-03-17 23:00:00</th>\n      <td>2.021032e+09</td>\n      <td>34.5</td>\n      <td>7266.887647</td>\n      <td>19.5</td>\n      <td>7417.91</td>\n      <td>37.01</td>\n      <td>7399.723912</td>\n      <td>7424.357917</td>\n      <td>19.691667</td>\n      <td>-0.533743</td>\n      <td>...</td>\n      <td>0.338934</td>\n      <td>7417.91</td>\n      <td>2.0</td>\n      <td>76.0</td>\n      <td>2021.0</td>\n      <td>3.0</td>\n      <td>1.0</td>\n      <td>22.0</td>\n      <td>2.0</td>\n      <td>7287.32</td>\n    </tr>\n    <tr>\n      <th>2021-03-17 23:30:00</th>\n      <td>2.021032e+09</td>\n      <td>35.0</td>\n      <td>7173.866522</td>\n      <td>19.1</td>\n      <td>7287.32</td>\n      <td>34.49</td>\n      <td>7399.132502</td>\n      <td>7425.781458</td>\n      <td>19.666667</td>\n      <td>-0.634216</td>\n      <td>...</td>\n      <td>0.271015</td>\n      <td>7287.32</td>\n      <td>2.0</td>\n      <td>76.0</td>\n      <td>2021.0</td>\n      <td>3.0</td>\n      <td>1.0</td>\n      <td>23.0</td>\n      <td>2.0</td>\n      <td>7172.39</td>\n    </tr>\n    <tr>\n      <th>2021-03-18 00:00:00</th>\n      <td>2.021032e+09</td>\n      <td>35.5</td>\n      <td>7043.236857</td>\n      <td>18.8</td>\n      <td>7172.39</td>\n      <td>32.55</td>\n      <td>7398.573481</td>\n      <td>7428.187917</td>\n      <td>19.647917</td>\n      <td>-0.722640</td>\n      <td>...</td>\n      <td>0.220075</td>\n      <td>7172.39</td>\n      <td>2.0</td>\n      <td>76.0</td>\n      <td>2021.0</td>\n      <td>3.0</td>\n      <td>1.0</td>\n      <td>23.0</td>\n      <td>2.0</td>\n      <td>7094.51</td>\n    </tr>\n  </tbody>\n</table>\n<p>194588 rows × 21 columns</p>\n</div>"
     },
     "execution_count": 14,
     "metadata": {},
     "output_type": "execute_result"
    }
   ],
   "source": [
    "# prepare data\n",
    "data = series_to_supervised(df, n_in=CFG.n_in, n_out=1, dropnan=True, target_var='TOTALDEMAND')\n",
    "data"
   ],
   "metadata": {
    "collapsed": false,
    "ExecuteTime": {
     "end_time": "2024-04-04T02:58:09.808192Z",
     "start_time": "2024-04-04T02:58:09.665146Z"
    }
   },
   "id": "588fccf197e2d17f",
   "execution_count": 14
  },
  {
   "cell_type": "code",
   "outputs": [
    {
     "name": "stdout",
     "output_type": "stream",
     "text": [
      "The target variable is in the right position.\n"
     ]
    }
   ],
   "source": [
    "# Assuming `data` is your DataFrame after calling series_to_supervised\n",
    "last_column = data.columns[-1]\n",
    "\n",
    "if last_column == 'TOTALDEMAND(t)':\n",
    "    print(\"The target variable is in the right position.\")\n",
    "else:\n",
    "    print(f\"The target variable is not in the right position, the last column is: {last_column}\")"
   ],
   "metadata": {
    "collapsed": false,
    "ExecuteTime": {
     "end_time": "2024-04-04T02:58:09.810829Z",
     "start_time": "2024-04-04T02:58:09.808857Z"
    }
   },
   "id": "1097394b3f27d056",
   "execution_count": 15
  },
  {
   "cell_type": "code",
   "outputs": [
    {
     "data": {
      "text/plain": "21"
     },
     "execution_count": 16,
     "metadata": {},
     "output_type": "execute_result"
    }
   ],
   "source": [
    "n_obs = CFG.n_in * len(df.columns)\n",
    "n_obs"
   ],
   "metadata": {
    "collapsed": false,
    "ExecuteTime": {
     "end_time": "2024-04-04T02:58:09.891586Z",
     "start_time": "2024-04-04T02:58:09.811309Z"
    }
   },
   "id": "45078c3d526e1469",
   "execution_count": 16
  },
  {
   "cell_type": "code",
   "outputs": [],
   "source": [
    "# split into input and outputs, with the last CFG.n_test rows for testing\n",
    "train, test = train_test_split(data.values, CFG.n_test)\n",
    "trainX, trainy = train[:, :-1], train[:, -1]\n",
    "testX, testy = test[:, :-1], test[:, -1]"
   ],
   "metadata": {
    "collapsed": false,
    "ExecuteTime": {
     "end_time": "2024-04-04T02:58:09.907677Z",
     "start_time": "2024-04-04T02:58:09.892092Z"
    }
   },
   "id": "1bdeaca98e0ff107",
   "execution_count": 17
  },
  {
   "cell_type": "code",
   "outputs": [
    {
     "data": {
      "text/plain": "array([[2.00912308e+09, 3.65000000e+01, 7.68051042e+03, ...,\n        0.00000000e+00, 1.00000000e+00, 7.48369000e+03],\n       [2.00912308e+09, 3.70000000e+01, 7.42897137e+03, ...,\n        1.00000000e+00, 1.00000000e+00, 7.11723000e+03],\n       [2.00912308e+09, 3.75000000e+01, 7.08480216e+03, ...,\n        1.00000000e+00, 1.00000000e+00, 6.81203000e+03],\n       ...,\n       [2.02103098e+09, 3.45000000e+01, 7.57508441e+03, ...,\n        2.20000000e+01, 2.00000000e+00, 7.46171000e+03],\n       [2.02103098e+09, 3.50000000e+01, 7.45781667e+03, ...,\n        2.30000000e+01, 2.00000000e+00, 7.33309000e+03],\n       [2.02103098e+09, 3.55000000e+01, 7.28280971e+03, ...,\n        2.30000000e+01, 2.00000000e+00, 7.26008000e+03]])"
     },
     "execution_count": 18,
     "metadata": {},
     "output_type": "execute_result"
    }
   ],
   "source": [
    "train"
   ],
   "metadata": {
    "collapsed": false,
    "ExecuteTime": {
     "end_time": "2024-04-04T02:58:09.911009Z",
     "start_time": "2024-04-04T02:58:09.908340Z"
    }
   },
   "id": "9d628662be47f9cd",
   "execution_count": 18
  },
  {
   "cell_type": "code",
   "outputs": [
    {
     "data": {
      "text/plain": "array([[2.02103098e+09, 3.60000000e+01, 7.17448282e+03, ...,\n        0.00000000e+00, 2.00000000e+00, 7.04749000e+03],\n       [2.02103098e+09, 3.65000000e+01, 7.01718500e+03, ...,\n        0.00000000e+00, 2.00000000e+00, 6.82460000e+03],\n       [2.02103098e+09, 3.70000000e+01, 6.82562027e+03, ...,\n        1.00000000e+00, 2.00000000e+00, 6.53974000e+03],\n       ...,\n       [2.02103168e+09, 3.45000000e+01, 7.26688765e+03, ...,\n        2.20000000e+01, 2.00000000e+00, 7.28732000e+03],\n       [2.02103168e+09, 3.50000000e+01, 7.17386652e+03, ...,\n        2.30000000e+01, 2.00000000e+00, 7.17239000e+03],\n       [2.02103168e+09, 3.55000000e+01, 7.04323686e+03, ...,\n        2.30000000e+01, 2.00000000e+00, 7.09451000e+03]])"
     },
     "execution_count": 19,
     "metadata": {},
     "output_type": "execute_result"
    }
   ],
   "source": [
    "test"
   ],
   "metadata": {
    "collapsed": false,
    "ExecuteTime": {
     "end_time": "2024-04-04T02:58:09.914235Z",
     "start_time": "2024-04-04T02:58:09.911519Z"
    }
   },
   "id": "ecdcefef7ad14f1c",
   "execution_count": 19
  },
  {
   "cell_type": "code",
   "outputs": [],
   "source": [
    "# further split training into train and validation sets for early stopping\n",
    "# nominally use the last 10% of the training data as validation\n",
    "n_val = int(len(trainX) * 0.1)\n",
    "trainX, valX = trainX[:-n_val], trainX[-n_val:]\n",
    "trainy, valy = trainy[:-n_val], trainy[-n_val:]"
   ],
   "metadata": {
    "collapsed": false,
    "ExecuteTime": {
     "end_time": "2024-04-04T02:58:09.917109Z",
     "start_time": "2024-04-04T02:58:09.914799Z"
    }
   },
   "id": "41aa99873826789e",
   "execution_count": 20
  },
  {
   "cell_type": "code",
   "outputs": [
    {
     "data": {
      "text/plain": "19425"
     },
     "execution_count": 21,
     "metadata": {},
     "output_type": "execute_result"
    }
   ],
   "source": [
    "n_val"
   ],
   "metadata": {
    "collapsed": false,
    "ExecuteTime": {
     "end_time": "2024-04-04T02:58:09.920695Z",
     "start_time": "2024-04-04T02:58:09.917688Z"
    }
   },
   "id": "c9ac598f2af50606",
   "execution_count": 21
  },
  {
   "cell_type": "code",
   "outputs": [
    {
     "data": {
      "text/plain": "array([[2.00912308e+09, 3.65000000e+01, 7.68051042e+03, ...,\n        1.00000000e+00, 0.00000000e+00, 1.00000000e+00],\n       [2.00912308e+09, 3.70000000e+01, 7.42897137e+03, ...,\n        1.00000000e+00, 1.00000000e+00, 1.00000000e+00],\n       [2.00912308e+09, 3.75000000e+01, 7.08480216e+03, ...,\n        1.00000000e+00, 1.00000000e+00, 1.00000000e+00],\n       ...,\n       [2.02001304e+09, 1.70000000e+01, 7.39736636e+03, ...,\n        1.00000000e+00, 5.00000000e+00, 1.00000000e+00],\n       [2.02001304e+09, 1.75000000e+01, 7.79420529e+03, ...,\n        1.00000000e+00, 5.00000000e+00, 1.00000000e+00],\n       [2.02001304e+09, 1.80000000e+01, 8.20285686e+03, ...,\n        1.00000000e+00, 6.00000000e+00, 1.00000000e+00]])"
     },
     "execution_count": 22,
     "metadata": {},
     "output_type": "execute_result"
    }
   ],
   "source": [
    "trainX"
   ],
   "metadata": {
    "collapsed": false,
    "ExecuteTime": {
     "end_time": "2024-04-04T02:58:09.924862Z",
     "start_time": "2024-04-04T02:58:09.921145Z"
    }
   },
   "id": "1424444e5a55ee6a",
   "execution_count": 22
  },
  {
   "cell_type": "code",
   "outputs": [
    {
     "data": {
      "text/plain": "array([[2.02001304e+09, 1.85000000e+01, 8.62109639e+03, ...,\n        1.00000000e+00, 6.00000000e+00, 1.00000000e+00],\n       [2.02001304e+09, 1.90000000e+01, 8.96286243e+03, ...,\n        1.00000000e+00, 7.00000000e+00, 1.00000000e+00],\n       [2.02001305e+09, 1.95000000e+01, 9.16718474e+03, ...,\n        1.00000000e+00, 7.00000000e+00, 1.00000000e+00],\n       ...,\n       [2.02103098e+09, 3.45000000e+01, 7.57508441e+03, ...,\n        1.00000000e+00, 2.20000000e+01, 2.00000000e+00],\n       [2.02103098e+09, 3.50000000e+01, 7.45781667e+03, ...,\n        1.00000000e+00, 2.30000000e+01, 2.00000000e+00],\n       [2.02103098e+09, 3.55000000e+01, 7.28280971e+03, ...,\n        1.00000000e+00, 2.30000000e+01, 2.00000000e+00]])"
     },
     "execution_count": 23,
     "metadata": {},
     "output_type": "execute_result"
    }
   ],
   "source": [
    "valX"
   ],
   "metadata": {
    "collapsed": false,
    "ExecuteTime": {
     "end_time": "2024-04-04T02:58:09.930010Z",
     "start_time": "2024-04-04T02:58:09.925294Z"
    }
   },
   "id": "4a6847391300abc2",
   "execution_count": 23
  },
  {
   "cell_type": "code",
   "outputs": [
    {
     "data": {
      "text/plain": "array([7483.69, 7117.23, 6812.03, ..., 7878.78, 8321.65, 8769.52])"
     },
     "execution_count": 24,
     "metadata": {},
     "output_type": "execute_result"
    }
   ],
   "source": [
    "trainy"
   ],
   "metadata": {
    "collapsed": false,
    "ExecuteTime": {
     "end_time": "2024-04-04T02:58:09.939674Z",
     "start_time": "2024-04-04T02:58:09.930532Z"
    }
   },
   "id": "cdd0632c910f526f",
   "execution_count": 24
  },
  {
   "cell_type": "code",
   "outputs": [
    {
     "data": {
      "text/plain": "array([9072.87, 9396.38, 9493.16, ..., 7461.71, 7333.09, 7260.08])"
     },
     "execution_count": 25,
     "metadata": {},
     "output_type": "execute_result"
    }
   ],
   "source": [
    "valy"
   ],
   "metadata": {
    "collapsed": false,
    "ExecuteTime": {
     "end_time": "2024-04-04T02:58:09.948877Z",
     "start_time": "2024-04-04T02:58:09.940131Z"
    }
   },
   "id": "86ded59299f6437f",
   "execution_count": 25
  },
  {
   "cell_type": "code",
   "outputs": [],
   "source": [
    "# Convert the datasets into DMatrix format\n",
    "dtrain = xgb.DMatrix(trainX, label=trainy)\n",
    "dval = xgb.DMatrix(valX, label=valy)  # validation set\n",
    "dtest = xgb.DMatrix(testX)  # test set for final evaluation"
   ],
   "metadata": {
    "collapsed": false,
    "ExecuteTime": {
     "end_time": "2024-04-04T02:58:10.052956Z",
     "start_time": "2024-04-04T02:58:09.949420Z"
    }
   },
   "id": "4f9df66dc51412f2",
   "execution_count": 26
  },
  {
   "cell_type": "code",
   "outputs": [
    {
     "data": {
      "text/plain": "<xgboost.core.DMatrix at 0x71a843bef1d0>"
     },
     "execution_count": 27,
     "metadata": {},
     "output_type": "execute_result"
    }
   ],
   "source": [
    "dtrain"
   ],
   "metadata": {
    "collapsed": false,
    "ExecuteTime": {
     "end_time": "2024-04-04T02:58:10.056961Z",
     "start_time": "2024-04-04T02:58:10.054277Z"
    }
   },
   "id": "154b4ef1ad4a4719",
   "execution_count": 27
  },
  {
   "cell_type": "code",
   "outputs": [
    {
     "data": {
      "text/plain": "<xgboost.core.DMatrix at 0x71a8633bb5c0>"
     },
     "execution_count": 28,
     "metadata": {},
     "output_type": "execute_result"
    }
   ],
   "source": [
    "dval"
   ],
   "metadata": {
    "collapsed": false,
    "ExecuteTime": {
     "end_time": "2024-04-04T02:58:10.066802Z",
     "start_time": "2024-04-04T02:58:10.057566Z"
    }
   },
   "id": "9f59901fa7945258",
   "execution_count": 28
  },
  {
   "cell_type": "code",
   "outputs": [
    {
     "data": {
      "text/plain": "<xgboost.core.DMatrix at 0x71a863388e00>"
     },
     "execution_count": 29,
     "metadata": {},
     "output_type": "execute_result"
    }
   ],
   "source": [
    "dtest"
   ],
   "metadata": {
    "collapsed": false,
    "ExecuteTime": {
     "end_time": "2024-04-04T02:58:10.075933Z",
     "start_time": "2024-04-04T02:58:10.067257Z"
    }
   },
   "id": "40c4af8b4e4d1d23",
   "execution_count": 29
  },
  {
   "cell_type": "code",
   "outputs": [],
   "source": [
    "# def model parameters\n",
    "params = {\n",
    "    'max_depth': 3,\n",
    "    'learning_rate': 0.01,\n",
    "    'n_estimators': 1000,\n",
    "    'objective': 'reg:squarederror',\n",
    "    'eval_metric': 'mae'\n",
    "}  # example params, adjust based on best_params if you're using them"
   ],
   "metadata": {
    "collapsed": false,
    "ExecuteTime": {
     "end_time": "2024-04-04T02:58:10.084846Z",
     "start_time": "2024-04-04T02:58:10.076340Z"
    }
   },
   "id": "c668707d1e67ac7a",
   "execution_count": 30
  },
  {
   "cell_type": "code",
   "outputs": [
    {
     "name": "stdout",
     "output_type": "stream",
     "text": [
      "[0]\ttrain-mae:1029.72506\teval-mae:1085.39801\n",
      "[1]\ttrain-mae:1019.85347\teval-mae:1075.04486\n",
      "[2]\ttrain-mae:1010.09096\teval-mae:1064.80605\n"
     ]
    },
    {
     "name": "stderr",
     "output_type": "stream",
     "text": [
      "/home/noone/.cache/pypoetry/virtualenvs/team-0-5QTAbJ9E-py3.12/lib/python3.12/site-packages/xgboost/core.py:160: UserWarning: [12:58:10] WARNING: /workspace/src/learner.cc:742: \n",
      "Parameters: { \"n_estimators\" } are not used.\n",
      "\n",
      "  warnings.warn(smsg, UserWarning)\n"
     ]
    },
    {
     "name": "stdout",
     "output_type": "stream",
     "text": [
      "[3]\ttrain-mae:1000.43067\teval-mae:1054.68283\n",
      "[4]\ttrain-mae:990.87508\teval-mae:1044.64166\n",
      "[5]\ttrain-mae:981.41390\teval-mae:1034.72090\n",
      "[6]\ttrain-mae:972.03523\teval-mae:1024.86975\n",
      "[7]\ttrain-mae:962.76339\teval-mae:1015.14279\n",
      "[8]\ttrain-mae:953.57919\teval-mae:1005.48854\n",
      "[9]\ttrain-mae:944.49564\teval-mae:995.95146\n",
      "[10]\ttrain-mae:935.49227\teval-mae:986.48393\n",
      "[11]\ttrain-mae:926.60645\teval-mae:977.14606\n",
      "[12]\ttrain-mae:917.80025\teval-mae:967.88623\n",
      "[13]\ttrain-mae:909.08006\teval-mae:958.70393\n",
      "[14]\ttrain-mae:900.46437\teval-mae:949.63271\n",
      "[15]\ttrain-mae:891.92000\teval-mae:940.63748\n",
      "[16]\ttrain-mae:883.46184\teval-mae:931.73455\n",
      "[17]\ttrain-mae:875.09748\teval-mae:922.92382\n",
      "[18]\ttrain-mae:866.82089\teval-mae:914.21108\n",
      "[19]\ttrain-mae:858.61553\teval-mae:905.57814\n",
      "[20]\ttrain-mae:850.52038\teval-mae:897.05318\n",
      "[21]\ttrain-mae:842.49516\teval-mae:888.60375\n",
      "[22]\ttrain-mae:834.54284\teval-mae:880.23464\n",
      "[23]\ttrain-mae:826.67289\teval-mae:871.94438\n",
      "[24]\ttrain-mae:818.88662\teval-mae:863.74480\n",
      "[25]\ttrain-mae:811.16954\teval-mae:855.61022\n",
      "[26]\ttrain-mae:803.57173\teval-mae:847.62017\n",
      "[27]\ttrain-mae:796.01869\teval-mae:839.65569\n",
      "[28]\ttrain-mae:788.54189\teval-mae:831.77516\n",
      "[29]\ttrain-mae:781.15160\teval-mae:823.97965\n",
      "[30]\ttrain-mae:773.82467\teval-mae:816.25091\n",
      "[31]\ttrain-mae:766.62294\teval-mae:808.66459\n",
      "[32]\ttrain-mae:759.48015\teval-mae:801.12402\n",
      "[33]\ttrain-mae:752.38397\teval-mae:793.62993\n",
      "[34]\ttrain-mae:745.36579\teval-mae:786.23715\n",
      "[35]\ttrain-mae:738.40024\teval-mae:778.88302\n",
      "[36]\ttrain-mae:731.56477\teval-mae:771.66925\n",
      "[37]\ttrain-mae:724.74836\teval-mae:764.50590\n",
      "[38]\ttrain-mae:717.99759\teval-mae:757.37491\n",
      "[39]\ttrain-mae:711.33709\teval-mae:750.35422\n",
      "[40]\ttrain-mae:704.77145\teval-mae:743.39778\n",
      "[41]\ttrain-mae:698.28070\teval-mae:736.55045\n",
      "[42]\ttrain-mae:691.80875\teval-mae:729.70988\n",
      "[43]\ttrain-mae:685.41000\teval-mae:722.98657\n",
      "[44]\ttrain-mae:679.06501\teval-mae:716.28770\n",
      "[45]\ttrain-mae:672.84659\teval-mae:709.71655\n",
      "[46]\ttrain-mae:666.64012\teval-mae:703.20005\n",
      "[47]\ttrain-mae:660.49751\teval-mae:696.74179\n",
      "[48]\ttrain-mae:654.45416\teval-mae:690.34840\n",
      "[49]\ttrain-mae:648.46385\teval-mae:684.02724\n",
      "[50]\ttrain-mae:642.56956\teval-mae:677.79767\n",
      "[51]\ttrain-mae:636.66242\teval-mae:671.82665\n",
      "[52]\ttrain-mae:630.83684\teval-mae:665.69552\n",
      "[53]\ttrain-mae:625.12604\teval-mae:659.65562\n",
      "[54]\ttrain-mae:619.41252\teval-mae:653.90365\n",
      "[55]\ttrain-mae:613.75737\teval-mae:648.06061\n",
      "[56]\ttrain-mae:608.14857\teval-mae:642.36849\n",
      "[57]\ttrain-mae:602.65359\teval-mae:636.52694\n",
      "[58]\ttrain-mae:597.16482\teval-mae:630.99331\n",
      "[59]\ttrain-mae:591.80499\teval-mae:625.31416\n",
      "[60]\ttrain-mae:586.42272\teval-mae:619.87889\n",
      "[61]\ttrain-mae:581.10234\teval-mae:614.37748\n",
      "[62]\ttrain-mae:575.83292\teval-mae:609.05933\n",
      "[63]\ttrain-mae:570.62575\teval-mae:603.74524\n",
      "[64]\ttrain-mae:565.46883\teval-mae:598.54201\n",
      "[65]\ttrain-mae:560.42785\teval-mae:593.19487\n",
      "[66]\ttrain-mae:555.39905\teval-mae:588.12317\n",
      "[67]\ttrain-mae:550.39043\teval-mae:582.93185\n",
      "[68]\ttrain-mae:545.44408\teval-mae:577.90313\n",
      "[69]\ttrain-mae:540.56276\teval-mae:572.92213\n",
      "[70]\ttrain-mae:535.70890\teval-mae:568.01468\n",
      "[71]\ttrain-mae:530.90748\teval-mae:563.16939\n",
      "[72]\ttrain-mae:526.15451\teval-mae:558.22434\n",
      "[73]\ttrain-mae:521.45235\teval-mae:553.45747\n",
      "[74]\ttrain-mae:516.79949\teval-mae:548.69523\n",
      "[75]\ttrain-mae:512.20825\teval-mae:544.00431\n",
      "[76]\ttrain-mae:507.65322\teval-mae:539.38169\n",
      "[77]\ttrain-mae:503.13135\teval-mae:535.00414\n",
      "[78]\ttrain-mae:498.65544\teval-mae:530.43533\n",
      "[79]\ttrain-mae:494.24717\teval-mae:525.94690\n",
      "[80]\ttrain-mae:489.88411\teval-mae:521.72793\n",
      "[81]\ttrain-mae:485.56810\teval-mae:517.33943\n",
      "[82]\ttrain-mae:481.25700\teval-mae:513.05551\n",
      "[83]\ttrain-mae:477.02238\teval-mae:508.64806\n",
      "[84]\ttrain-mae:472.85917\teval-mae:504.19108\n",
      "[85]\ttrain-mae:468.67743\teval-mae:499.85378\n",
      "[86]\ttrain-mae:464.53989\teval-mae:495.80503\n",
      "[87]\ttrain-mae:460.43093\teval-mae:491.54216\n",
      "[88]\ttrain-mae:456.38909\teval-mae:487.61170\n",
      "[89]\ttrain-mae:452.38869\teval-mae:483.46558\n",
      "[90]\ttrain-mae:448.46915\teval-mae:479.48479\n",
      "[91]\ttrain-mae:444.56324\teval-mae:475.72772\n",
      "[92]\ttrain-mae:440.72674\teval-mae:471.81725\n",
      "[93]\ttrain-mae:436.87641\teval-mae:467.79736\n",
      "[94]\ttrain-mae:433.08427\teval-mae:464.03395\n",
      "[95]\ttrain-mae:429.30875\teval-mae:460.36116\n",
      "[96]\ttrain-mae:425.59742\teval-mae:456.75817\n",
      "[97]\ttrain-mae:421.90593\teval-mae:452.89750\n",
      "[98]\ttrain-mae:418.25772\teval-mae:449.07349\n",
      "[99]\ttrain-mae:414.65379\teval-mae:445.29388\n",
      "[100]\ttrain-mae:411.08868\teval-mae:441.83188\n",
      "[101]\ttrain-mae:407.55875\teval-mae:438.12520\n",
      "[102]\ttrain-mae:404.06788\teval-mae:434.44314\n",
      "[103]\ttrain-mae:400.61807\teval-mae:431.01575\n",
      "[104]\ttrain-mae:397.20183\teval-mae:427.73217\n",
      "[105]\ttrain-mae:393.82416\teval-mae:424.17630\n",
      "[106]\ttrain-mae:390.54981\teval-mae:420.97618\n",
      "[107]\ttrain-mae:387.24761\teval-mae:417.74692\n",
      "[108]\ttrain-mae:383.98910\teval-mae:414.30662\n",
      "[109]\ttrain-mae:380.79880\teval-mae:411.14238\n",
      "[110]\ttrain-mae:377.59441\teval-mae:408.06107\n",
      "[111]\ttrain-mae:374.42033\teval-mae:405.00618\n",
      "[112]\ttrain-mae:371.30615\teval-mae:401.72850\n",
      "[113]\ttrain-mae:368.24316\teval-mae:398.68588\n",
      "[114]\ttrain-mae:365.12443\teval-mae:395.68426\n",
      "[115]\ttrain-mae:362.03920\teval-mae:392.71984\n",
      "[116]\ttrain-mae:359.04389\teval-mae:389.61382\n",
      "[117]\ttrain-mae:356.06872\teval-mae:386.43480\n",
      "[118]\ttrain-mae:353.07171\teval-mae:383.56210\n",
      "[119]\ttrain-mae:350.12788\teval-mae:380.48381\n",
      "[120]\ttrain-mae:347.24322\teval-mae:377.67538\n",
      "[121]\ttrain-mae:344.42561\teval-mae:374.87199\n",
      "[122]\ttrain-mae:341.58947\teval-mae:372.19974\n",
      "[123]\ttrain-mae:338.82466\teval-mae:369.27781\n",
      "[124]\ttrain-mae:336.06815\teval-mae:366.54696\n",
      "[125]\ttrain-mae:333.37028\teval-mae:363.86166\n",
      "[126]\ttrain-mae:330.68641\teval-mae:361.06716\n",
      "[127]\ttrain-mae:328.03306\teval-mae:358.46775\n",
      "[128]\ttrain-mae:325.39612\teval-mae:355.68929\n",
      "[129]\ttrain-mae:322.79931\teval-mae:352.97972\n",
      "[130]\ttrain-mae:320.22191\teval-mae:350.40632\n",
      "[131]\ttrain-mae:317.62689\teval-mae:347.89026\n",
      "[132]\ttrain-mae:315.09585\teval-mae:345.38940\n",
      "[133]\ttrain-mae:312.64526\teval-mae:342.93314\n",
      "[134]\ttrain-mae:310.17421\teval-mae:340.55433\n",
      "[135]\ttrain-mae:307.72926\teval-mae:338.00094\n",
      "[136]\ttrain-mae:305.32315\teval-mae:335.49485\n",
      "[137]\ttrain-mae:302.93558\teval-mae:332.99810\n",
      "[138]\ttrain-mae:300.56514\teval-mae:330.64661\n",
      "[139]\ttrain-mae:298.22776\teval-mae:328.38146\n",
      "[140]\ttrain-mae:295.90136\teval-mae:326.17892\n",
      "[141]\ttrain-mae:293.65317\teval-mae:323.93812\n",
      "[142]\ttrain-mae:291.39839\teval-mae:321.58983\n",
      "[143]\ttrain-mae:289.13753\teval-mae:319.37169\n",
      "[144]\ttrain-mae:286.92237\teval-mae:317.25172\n",
      "[145]\ttrain-mae:284.71996\teval-mae:315.07959\n",
      "[146]\ttrain-mae:282.56708\teval-mae:312.81301\n",
      "[147]\ttrain-mae:280.41014\teval-mae:310.77814\n",
      "[148]\ttrain-mae:278.28342\teval-mae:308.57167\n",
      "[149]\ttrain-mae:276.16447\teval-mae:306.48025\n",
      "[150]\ttrain-mae:274.07717\teval-mae:304.50500\n",
      "[151]\ttrain-mae:272.01172\teval-mae:302.49591\n",
      "[152]\ttrain-mae:269.90045\teval-mae:300.24228\n",
      "[153]\ttrain-mae:267.91406\teval-mae:298.17395\n",
      "[154]\ttrain-mae:265.97044\teval-mae:296.26344\n",
      "[155]\ttrain-mae:264.02271\teval-mae:294.23812\n",
      "[156]\ttrain-mae:262.07937\teval-mae:292.36544\n",
      "[157]\ttrain-mae:260.13920\teval-mae:290.47555\n",
      "[158]\ttrain-mae:258.25445\teval-mae:288.52033\n",
      "[159]\ttrain-mae:256.40590\teval-mae:286.74225\n",
      "[160]\ttrain-mae:254.57203\teval-mae:284.83378\n",
      "[161]\ttrain-mae:252.76009\teval-mae:283.05942\n",
      "[162]\ttrain-mae:250.94900\teval-mae:281.33477\n",
      "[163]\ttrain-mae:249.13696\teval-mae:279.48806\n",
      "[164]\ttrain-mae:247.37455\teval-mae:277.66994\n",
      "[165]\ttrain-mae:245.63489\teval-mae:275.99622\n",
      "[166]\ttrain-mae:243.89278\teval-mae:274.36257\n",
      "[167]\ttrain-mae:242.19005\teval-mae:272.60397\n",
      "[168]\ttrain-mae:240.47638\teval-mae:270.84317\n",
      "[169]\ttrain-mae:238.82225\teval-mae:269.23915\n",
      "[170]\ttrain-mae:237.16336\teval-mae:267.66962\n",
      "[171]\ttrain-mae:235.50554\teval-mae:265.97952\n",
      "[172]\ttrain-mae:233.90480\teval-mae:264.31152\n",
      "[173]\ttrain-mae:232.33419\teval-mae:262.80840\n",
      "[174]\ttrain-mae:230.74748\teval-mae:261.12113\n",
      "[175]\ttrain-mae:229.18447\teval-mae:259.64446\n",
      "[176]\ttrain-mae:227.64361\teval-mae:258.03232\n",
      "[177]\ttrain-mae:226.13141\teval-mae:256.46414\n",
      "[178]\ttrain-mae:224.63510\teval-mae:254.87581\n",
      "[179]\ttrain-mae:223.13733\teval-mae:253.46908\n",
      "[180]\ttrain-mae:221.60238\teval-mae:251.88129\n",
      "[181]\ttrain-mae:220.12604\teval-mae:250.33257\n",
      "[182]\ttrain-mae:218.73526\teval-mae:248.98434\n",
      "[183]\ttrain-mae:217.30678\teval-mae:247.64326\n",
      "[184]\ttrain-mae:215.87504\teval-mae:246.12701\n",
      "[185]\ttrain-mae:214.50803\teval-mae:244.70979\n",
      "[186]\ttrain-mae:213.13881\teval-mae:243.30210\n",
      "[187]\ttrain-mae:211.73904\teval-mae:241.84167\n",
      "[188]\ttrain-mae:210.34012\teval-mae:240.39080\n",
      "[189]\ttrain-mae:209.04878\teval-mae:239.12990\n",
      "[190]\ttrain-mae:207.74892\teval-mae:237.77363\n",
      "[191]\ttrain-mae:206.44805\teval-mae:236.55811\n",
      "[192]\ttrain-mae:205.14321\teval-mae:235.19753\n",
      "[193]\ttrain-mae:203.87315\teval-mae:234.01062\n",
      "[194]\ttrain-mae:202.65681\teval-mae:232.83758\n",
      "[195]\ttrain-mae:201.38044\teval-mae:231.48658\n",
      "[196]\ttrain-mae:200.17716\teval-mae:230.21514\n",
      "[197]\ttrain-mae:198.89683\teval-mae:228.87139\n",
      "[198]\ttrain-mae:197.65144\teval-mae:227.58411\n",
      "[199]\ttrain-mae:196.46237\teval-mae:226.34380\n",
      "[200]\ttrain-mae:195.31003\teval-mae:225.14006\n",
      "[201]\ttrain-mae:194.11612\teval-mae:223.89260\n",
      "[202]\ttrain-mae:193.00352\teval-mae:222.82457\n",
      "[203]\ttrain-mae:191.82931\teval-mae:221.62117\n",
      "[204]\ttrain-mae:190.65843\teval-mae:220.38273\n",
      "[205]\ttrain-mae:189.59656\teval-mae:219.35793\n",
      "[206]\ttrain-mae:188.46205\teval-mae:218.19621\n",
      "[207]\ttrain-mae:187.42702\teval-mae:217.21173\n",
      "[208]\ttrain-mae:186.35840\teval-mae:216.21770\n",
      "[209]\ttrain-mae:185.28082\teval-mae:215.08875\n",
      "[210]\ttrain-mae:184.21633\teval-mae:213.96167\n",
      "[211]\ttrain-mae:183.13314\teval-mae:212.80404\n",
      "[212]\ttrain-mae:182.14440\teval-mae:211.86206\n",
      "[213]\ttrain-mae:181.09177\teval-mae:210.77026\n",
      "[214]\ttrain-mae:180.11100\teval-mae:209.73988\n",
      "[215]\ttrain-mae:179.09405\teval-mae:208.68399\n",
      "[216]\ttrain-mae:178.11717\teval-mae:207.66742\n",
      "[217]\ttrain-mae:177.12612\teval-mae:206.59229\n",
      "[218]\ttrain-mae:176.20935\teval-mae:205.63187\n",
      "[219]\ttrain-mae:175.29691\teval-mae:204.73638\n",
      "[220]\ttrain-mae:174.34142\teval-mae:203.71031\n",
      "[221]\ttrain-mae:173.44134\teval-mae:202.86375\n",
      "[222]\ttrain-mae:172.56052\teval-mae:202.03112\n",
      "[223]\ttrain-mae:171.63392\teval-mae:201.06648\n",
      "[224]\ttrain-mae:170.74850\teval-mae:200.12302\n",
      "[225]\ttrain-mae:169.91037\teval-mae:199.32287\n",
      "[226]\ttrain-mae:169.02706\teval-mae:198.48396\n",
      "[227]\ttrain-mae:168.15122\teval-mae:197.52601\n",
      "[228]\ttrain-mae:167.32602\teval-mae:196.68032\n",
      "[229]\ttrain-mae:166.51149\teval-mae:195.88351\n",
      "[230]\ttrain-mae:165.65560\teval-mae:194.98421\n",
      "[231]\ttrain-mae:164.85974\teval-mae:194.24391\n",
      "[232]\ttrain-mae:164.06167\teval-mae:193.40502\n",
      "[233]\ttrain-mae:163.26893\teval-mae:192.60530\n",
      "[234]\ttrain-mae:162.51916\teval-mae:191.89248\n",
      "[235]\ttrain-mae:161.71826\teval-mae:191.04887\n",
      "[236]\ttrain-mae:160.95655\teval-mae:190.21798\n",
      "[237]\ttrain-mae:160.21928\teval-mae:189.46402\n",
      "[238]\ttrain-mae:159.49157\teval-mae:188.74114\n",
      "[239]\ttrain-mae:158.73290\teval-mae:188.00555\n",
      "[240]\ttrain-mae:157.99934\teval-mae:187.22650\n",
      "[241]\ttrain-mae:157.28996\teval-mae:186.50093\n",
      "[242]\ttrain-mae:156.60981\teval-mae:185.84486\n",
      "[243]\ttrain-mae:155.90030\teval-mae:185.13809\n",
      "[244]\ttrain-mae:155.17021\teval-mae:184.35592\n",
      "[245]\ttrain-mae:154.50901\teval-mae:183.63665\n",
      "[246]\ttrain-mae:153.80866\teval-mae:182.89512\n",
      "[247]\ttrain-mae:153.16412\teval-mae:182.24832\n",
      "[248]\ttrain-mae:152.50986\teval-mae:181.57427\n",
      "[249]\ttrain-mae:151.88770\teval-mae:180.95285\n",
      "[250]\ttrain-mae:151.18801\teval-mae:180.17018\n",
      "[251]\ttrain-mae:150.53430\teval-mae:179.52763\n",
      "[252]\ttrain-mae:149.90645\teval-mae:178.84327\n",
      "[253]\ttrain-mae:149.27924\teval-mae:178.15115\n",
      "[254]\ttrain-mae:148.68647\teval-mae:177.51707\n",
      "[255]\ttrain-mae:148.08733\teval-mae:176.91599\n",
      "[256]\ttrain-mae:147.47460\teval-mae:176.32261\n",
      "[257]\ttrain-mae:146.91072\teval-mae:175.73175\n",
      "[258]\ttrain-mae:146.34384\teval-mae:175.17899\n",
      "[259]\ttrain-mae:145.73879\teval-mae:174.52103\n",
      "[260]\ttrain-mae:145.17903\teval-mae:173.91616\n",
      "[261]\ttrain-mae:144.59208\teval-mae:173.27611\n",
      "[262]\ttrain-mae:144.02417\teval-mae:172.71503\n",
      "[263]\ttrain-mae:143.43878\teval-mae:172.07281\n",
      "[264]\ttrain-mae:142.87182\teval-mae:171.46174\n",
      "[265]\ttrain-mae:142.35758\teval-mae:170.94720\n",
      "[266]\ttrain-mae:141.79825\teval-mae:170.30975\n",
      "[267]\ttrain-mae:141.26870\teval-mae:169.78590\n",
      "[268]\ttrain-mae:140.76769\teval-mae:169.27144\n",
      "[269]\ttrain-mae:140.25195\teval-mae:168.75827\n",
      "[270]\ttrain-mae:139.72474\teval-mae:168.15147\n",
      "[271]\ttrain-mae:139.25018\teval-mae:167.67429\n",
      "[272]\ttrain-mae:138.73488\teval-mae:167.10594\n",
      "[273]\ttrain-mae:138.25571\teval-mae:166.61483\n",
      "[274]\ttrain-mae:137.74052\teval-mae:166.02207\n",
      "[275]\ttrain-mae:137.26344\teval-mae:165.53814\n",
      "[276]\ttrain-mae:136.79768\teval-mae:165.00958\n",
      "[277]\ttrain-mae:136.31553\teval-mae:164.46916\n",
      "[278]\ttrain-mae:135.86219\teval-mae:163.99930\n",
      "[279]\ttrain-mae:135.41939\teval-mae:163.54555\n",
      "[280]\ttrain-mae:134.94803\teval-mae:162.99005\n",
      "[281]\ttrain-mae:134.50798\teval-mae:162.53930\n",
      "[282]\ttrain-mae:134.06545\teval-mae:162.04125\n",
      "[283]\ttrain-mae:133.64598\teval-mae:161.60317\n",
      "[284]\ttrain-mae:133.22404\teval-mae:161.17143\n",
      "[285]\ttrain-mae:132.81412\teval-mae:160.69626\n",
      "[286]\ttrain-mae:132.41373\teval-mae:160.28189\n",
      "[287]\ttrain-mae:132.00218\teval-mae:159.82246\n",
      "[288]\ttrain-mae:131.60015\teval-mae:159.40948\n",
      "[289]\ttrain-mae:131.18803\teval-mae:158.93682\n",
      "[290]\ttrain-mae:130.78307\teval-mae:158.48088\n",
      "[291]\ttrain-mae:130.40594\teval-mae:158.09188\n",
      "[292]\ttrain-mae:130.02334\teval-mae:157.66000\n",
      "[293]\ttrain-mae:129.64787\teval-mae:157.26975\n",
      "[294]\ttrain-mae:129.28187\teval-mae:156.87345\n",
      "[295]\ttrain-mae:128.91812\teval-mae:156.49592\n",
      "[296]\ttrain-mae:128.56145\teval-mae:156.08105\n",
      "[297]\ttrain-mae:128.21873\teval-mae:155.72005\n",
      "[298]\ttrain-mae:127.85811\teval-mae:155.31518\n",
      "[299]\ttrain-mae:127.51352\teval-mae:154.95250\n",
      "[300]\ttrain-mae:127.15343\teval-mae:154.52425\n",
      "[301]\ttrain-mae:126.81729\teval-mae:154.17223\n",
      "[302]\ttrain-mae:126.46450\teval-mae:153.74886\n",
      "[303]\ttrain-mae:126.14012\teval-mae:153.34933\n",
      "[304]\ttrain-mae:125.80285\teval-mae:152.97277\n",
      "[305]\ttrain-mae:125.49054\teval-mae:152.63364\n",
      "[306]\ttrain-mae:125.18297\teval-mae:152.25175\n",
      "[307]\ttrain-mae:124.86197\teval-mae:151.85547\n",
      "[308]\ttrain-mae:124.53839\teval-mae:151.46487\n",
      "[309]\ttrain-mae:124.24276\teval-mae:151.12639\n",
      "[310]\ttrain-mae:123.91574\teval-mae:150.73379\n",
      "[311]\ttrain-mae:123.61916\teval-mae:150.38221\n",
      "[312]\ttrain-mae:123.33651\teval-mae:150.05577\n",
      "[313]\ttrain-mae:123.03553\teval-mae:149.68670\n",
      "[314]\ttrain-mae:122.72420\teval-mae:149.30645\n",
      "[315]\ttrain-mae:122.45896\teval-mae:148.99887\n",
      "[316]\ttrain-mae:122.17767\teval-mae:148.72226\n",
      "[317]\ttrain-mae:121.90497\teval-mae:148.38046\n",
      "[318]\ttrain-mae:121.61049\teval-mae:148.04713\n",
      "[319]\ttrain-mae:121.35145\teval-mae:147.75812\n",
      "[320]\ttrain-mae:121.08719\teval-mae:147.39786\n",
      "[321]\ttrain-mae:120.83171\teval-mae:147.10718\n",
      "[322]\ttrain-mae:120.56934\teval-mae:146.78045\n",
      "[323]\ttrain-mae:120.32015\teval-mae:146.50082\n",
      "[324]\ttrain-mae:120.04135\teval-mae:146.14226\n",
      "[325]\ttrain-mae:119.79769\teval-mae:145.86389\n",
      "[326]\ttrain-mae:119.54984\teval-mae:145.56515\n",
      "[327]\ttrain-mae:119.28135\teval-mae:145.21674\n",
      "[328]\ttrain-mae:119.05721\teval-mae:144.96096\n",
      "[329]\ttrain-mae:118.82256\teval-mae:144.65189\n",
      "[330]\ttrain-mae:118.59277\teval-mae:144.35407\n",
      "[331]\ttrain-mae:118.36816\teval-mae:144.09174\n",
      "[332]\ttrain-mae:118.13869\teval-mae:143.81180\n",
      "[333]\ttrain-mae:117.90540\teval-mae:143.51825\n",
      "[334]\ttrain-mae:117.68903\teval-mae:143.27791\n",
      "[335]\ttrain-mae:117.46831\teval-mae:142.96362\n",
      "[336]\ttrain-mae:117.24107\teval-mae:142.71396\n",
      "[337]\ttrain-mae:117.03510\teval-mae:142.47197\n",
      "[338]\ttrain-mae:116.80286\teval-mae:142.15302\n",
      "[339]\ttrain-mae:116.58290\teval-mae:141.90956\n",
      "[340]\ttrain-mae:116.35742\teval-mae:141.59798\n",
      "[341]\ttrain-mae:116.14930\teval-mae:141.29925\n",
      "[342]\ttrain-mae:115.93862\teval-mae:141.06083\n",
      "[343]\ttrain-mae:115.72158\teval-mae:140.75744\n",
      "[344]\ttrain-mae:115.52050\teval-mae:140.45256\n",
      "[345]\ttrain-mae:115.32493\teval-mae:140.16824\n",
      "[346]\ttrain-mae:115.12081\teval-mae:139.93784\n",
      "[347]\ttrain-mae:114.91438\teval-mae:139.64586\n",
      "[348]\ttrain-mae:114.71588\teval-mae:139.42481\n",
      "[349]\ttrain-mae:114.51501\teval-mae:139.13864\n",
      "[350]\ttrain-mae:114.31874\teval-mae:138.85861\n",
      "[351]\ttrain-mae:114.12520\teval-mae:138.53991\n",
      "[352]\ttrain-mae:113.93585\teval-mae:138.32168\n",
      "[353]\ttrain-mae:113.75777\teval-mae:138.07630\n",
      "[354]\ttrain-mae:113.57614\teval-mae:137.85014\n",
      "[355]\ttrain-mae:113.38728\teval-mae:137.65422\n",
      "[356]\ttrain-mae:113.19793\teval-mae:137.38422\n",
      "[357]\ttrain-mae:113.01301\teval-mae:137.13672\n",
      "[358]\ttrain-mae:112.81533\teval-mae:136.82131\n",
      "[359]\ttrain-mae:112.63962\teval-mae:136.61803\n",
      "[360]\ttrain-mae:112.48655\teval-mae:136.39392\n",
      "[361]\ttrain-mae:112.30916\teval-mae:136.13779\n",
      "[362]\ttrain-mae:112.14600\teval-mae:135.87560\n",
      "[363]\ttrain-mae:111.97608\teval-mae:135.68399\n",
      "[364]\ttrain-mae:111.80567\teval-mae:135.44658\n",
      "[365]\ttrain-mae:111.65559\teval-mae:135.27178\n",
      "[366]\ttrain-mae:111.48924\teval-mae:135.02811\n",
      "[367]\ttrain-mae:111.31038\teval-mae:134.73783\n",
      "[368]\ttrain-mae:111.15269\teval-mae:134.57105\n",
      "[369]\ttrain-mae:110.97779\teval-mae:134.35846\n",
      "[370]\ttrain-mae:110.81737\teval-mae:134.11633\n",
      "[371]\ttrain-mae:110.66337\teval-mae:133.93981\n",
      "[372]\ttrain-mae:110.50936\teval-mae:133.70961\n",
      "[373]\ttrain-mae:110.35839\teval-mae:133.48863\n",
      "[374]\ttrain-mae:110.19580\teval-mae:133.30541\n",
      "[375]\ttrain-mae:110.04865\teval-mae:133.10154\n",
      "[376]\ttrain-mae:109.88666\teval-mae:132.85517\n",
      "[377]\ttrain-mae:109.74188\teval-mae:132.70276\n",
      "[378]\ttrain-mae:109.58234\teval-mae:132.45719\n",
      "[379]\ttrain-mae:109.43783\teval-mae:132.30917\n",
      "[380]\ttrain-mae:109.29831\teval-mae:132.09697\n",
      "[381]\ttrain-mae:109.15448\teval-mae:131.94679\n",
      "[382]\ttrain-mae:109.00216\teval-mae:131.71283\n",
      "[383]\ttrain-mae:108.86774\teval-mae:131.55650\n",
      "[384]\ttrain-mae:108.65330\teval-mae:131.30681\n",
      "[385]\ttrain-mae:108.52217\teval-mae:131.10564\n",
      "[386]\ttrain-mae:108.39008\teval-mae:130.96687\n",
      "[387]\ttrain-mae:108.25815\teval-mae:130.80945\n",
      "[388]\ttrain-mae:108.05232\teval-mae:130.57031\n",
      "[389]\ttrain-mae:107.91172\teval-mae:130.35473\n",
      "[390]\ttrain-mae:107.78715\teval-mae:130.20896\n",
      "[391]\ttrain-mae:107.58599\teval-mae:129.97662\n",
      "[392]\ttrain-mae:107.46352\teval-mae:129.84647\n",
      "[393]\ttrain-mae:107.32330\teval-mae:129.68308\n",
      "[394]\ttrain-mae:107.18010\teval-mae:129.54775\n",
      "[395]\ttrain-mae:107.06536\teval-mae:129.41248\n",
      "[396]\ttrain-mae:106.87160\teval-mae:129.18702\n",
      "[397]\ttrain-mae:106.66027\teval-mae:128.95617\n",
      "[398]\ttrain-mae:106.52844\teval-mae:128.74650\n",
      "[399]\ttrain-mae:106.39225\teval-mae:128.62454\n",
      "[400]\ttrain-mae:106.27056\teval-mae:128.50399\n",
      "[401]\ttrain-mae:106.16458\teval-mae:128.37772\n",
      "[402]\ttrain-mae:105.96091\teval-mae:128.14841\n",
      "[403]\ttrain-mae:105.74072\teval-mae:127.91306\n",
      "[404]\ttrain-mae:105.61225\teval-mae:127.79863\n",
      "[405]\ttrain-mae:105.46175\teval-mae:127.62491\n",
      "[406]\ttrain-mae:105.34087\teval-mae:127.51491\n",
      "[407]\ttrain-mae:105.13387\teval-mae:127.27673\n",
      "[408]\ttrain-mae:104.99117\teval-mae:127.11826\n",
      "[409]\ttrain-mae:104.87042\teval-mae:127.00983\n",
      "[410]\ttrain-mae:104.77441\teval-mae:126.90661\n",
      "[411]\ttrain-mae:104.57238\teval-mae:126.67304\n",
      "[412]\ttrain-mae:104.43018\teval-mae:126.52916\n",
      "[413]\ttrain-mae:104.31398\teval-mae:126.42339\n",
      "[414]\ttrain-mae:104.11071\teval-mae:126.17904\n",
      "[415]\ttrain-mae:104.00313\teval-mae:126.00454\n",
      "[416]\ttrain-mae:103.86411\teval-mae:125.86492\n",
      "[417]\ttrain-mae:103.76623\teval-mae:125.77277\n",
      "[418]\ttrain-mae:103.63137\teval-mae:125.63651\n",
      "[419]\ttrain-mae:103.54036\teval-mae:125.53916\n",
      "[420]\ttrain-mae:103.43560\teval-mae:125.42820\n",
      "[421]\ttrain-mae:103.34964\teval-mae:125.30918\n",
      "[422]\ttrain-mae:103.14902\teval-mae:125.07451\n",
      "[423]\ttrain-mae:103.06152\teval-mae:124.92589\n",
      "[424]\ttrain-mae:102.97405\teval-mae:124.79540\n",
      "[425]\ttrain-mae:102.84339\teval-mae:124.66333\n",
      "[426]\ttrain-mae:102.75760\teval-mae:124.52468\n",
      "[427]\ttrain-mae:102.66375\teval-mae:124.36478\n",
      "[428]\ttrain-mae:102.57237\teval-mae:124.19780\n",
      "[429]\ttrain-mae:102.48632\teval-mae:124.10678\n",
      "[430]\ttrain-mae:102.40541\teval-mae:123.96711\n",
      "[431]\ttrain-mae:102.30726\teval-mae:123.88610\n",
      "[432]\ttrain-mae:102.21979\teval-mae:123.72598\n",
      "[433]\ttrain-mae:102.12283\teval-mae:123.64900\n",
      "[434]\ttrain-mae:102.00083\teval-mae:123.51187\n",
      "[435]\ttrain-mae:101.90198\teval-mae:123.38704\n",
      "[436]\ttrain-mae:101.82378\teval-mae:123.26535\n",
      "[437]\ttrain-mae:101.73365\teval-mae:123.14069\n",
      "[438]\ttrain-mae:101.64020\teval-mae:123.05946\n",
      "[439]\ttrain-mae:101.44780\teval-mae:122.85651\n",
      "[440]\ttrain-mae:101.35255\teval-mae:122.74607\n",
      "[441]\ttrain-mae:101.26427\teval-mae:122.67414\n",
      "[442]\ttrain-mae:101.17827\teval-mae:122.57643\n",
      "[443]\ttrain-mae:100.98127\teval-mae:122.36907\n",
      "[444]\ttrain-mae:100.89490\teval-mae:122.29934\n",
      "[445]\ttrain-mae:100.80555\teval-mae:122.19720\n",
      "[446]\ttrain-mae:100.71859\teval-mae:122.12007\n",
      "[447]\ttrain-mae:100.62632\teval-mae:122.00056\n",
      "[448]\ttrain-mae:100.55377\teval-mae:121.88184\n",
      "[449]\ttrain-mae:100.47250\teval-mae:121.77953\n",
      "[450]\ttrain-mae:100.39240\teval-mae:121.70895\n",
      "[451]\ttrain-mae:100.20561\teval-mae:121.50920\n",
      "[452]\ttrain-mae:100.13650\teval-mae:121.39433\n",
      "[453]\ttrain-mae:100.06136\teval-mae:121.27950\n",
      "[454]\ttrain-mae:99.97576\teval-mae:121.18019\n",
      "[455]\ttrain-mae:99.90842\teval-mae:121.06750\n",
      "[456]\ttrain-mae:99.83585\teval-mae:120.95587\n",
      "[457]\ttrain-mae:99.75594\teval-mae:120.89364\n",
      "[458]\ttrain-mae:99.69059\teval-mae:120.78341\n",
      "[459]\ttrain-mae:99.60946\teval-mae:120.68693\n",
      "[460]\ttrain-mae:99.53758\teval-mae:120.57448\n",
      "[461]\ttrain-mae:99.47294\teval-mae:120.46741\n",
      "[462]\ttrain-mae:99.39738\teval-mae:120.37568\n",
      "[463]\ttrain-mae:99.32280\teval-mae:120.31861\n",
      "[464]\ttrain-mae:99.26228\teval-mae:120.19996\n",
      "[465]\ttrain-mae:99.20737\teval-mae:120.12287\n",
      "[466]\ttrain-mae:99.13433\teval-mae:120.06136\n",
      "[467]\ttrain-mae:99.07287\teval-mae:119.98065\n",
      "[468]\ttrain-mae:99.00635\teval-mae:119.88271\n",
      "[469]\ttrain-mae:98.90196\teval-mae:119.76861\n",
      "[470]\ttrain-mae:98.72260\teval-mae:119.58127\n",
      "[471]\ttrain-mae:98.66495\teval-mae:119.46792\n",
      "[472]\ttrain-mae:98.60788\teval-mae:119.36576\n",
      "[473]\ttrain-mae:98.53790\teval-mae:119.28033\n",
      "[474]\ttrain-mae:98.43547\teval-mae:119.17346\n",
      "[475]\ttrain-mae:98.36315\teval-mae:119.09150\n",
      "[476]\ttrain-mae:98.30115\teval-mae:119.00642\n",
      "[477]\ttrain-mae:98.12858\teval-mae:118.82284\n",
      "[478]\ttrain-mae:98.03099\teval-mae:118.71623\n",
      "[479]\ttrain-mae:97.86274\teval-mae:118.53933\n",
      "[480]\ttrain-mae:97.79752\teval-mae:118.44636\n",
      "[481]\ttrain-mae:97.74442\teval-mae:118.38485\n",
      "[482]\ttrain-mae:97.57951\teval-mae:118.20648\n",
      "[483]\ttrain-mae:97.51460\teval-mae:118.12793\n",
      "[484]\ttrain-mae:97.46208\teval-mae:118.02244\n",
      "[485]\ttrain-mae:97.40458\teval-mae:117.94348\n",
      "[486]\ttrain-mae:97.35365\teval-mae:117.88381\n",
      "[487]\ttrain-mae:97.26162\teval-mae:117.78204\n",
      "[488]\ttrain-mae:97.10639\teval-mae:117.60443\n",
      "[489]\ttrain-mae:97.03893\teval-mae:117.51748\n",
      "[490]\ttrain-mae:96.88479\teval-mae:117.34838\n",
      "[491]\ttrain-mae:96.83490\teval-mae:117.25601\n",
      "[492]\ttrain-mae:96.78383\teval-mae:117.16087\n",
      "[493]\ttrain-mae:96.73377\teval-mae:117.08827\n",
      "[494]\ttrain-mae:96.68512\teval-mae:116.99770\n",
      "[495]\ttrain-mae:96.62692\teval-mae:116.92960\n",
      "[496]\ttrain-mae:96.56447\teval-mae:116.86576\n",
      "[497]\ttrain-mae:96.50212\teval-mae:116.80179\n",
      "[498]\ttrain-mae:96.35473\teval-mae:116.63418\n",
      "[499]\ttrain-mae:96.20978\teval-mae:116.46905\n",
      "[500]\ttrain-mae:96.15406\teval-mae:116.40091\n",
      "[501]\ttrain-mae:96.11029\teval-mae:116.34977\n",
      "[502]\ttrain-mae:96.06051\teval-mae:116.27751\n",
      "[503]\ttrain-mae:96.01534\teval-mae:116.21169\n",
      "[504]\ttrain-mae:95.88335\teval-mae:116.07569\n",
      "[505]\ttrain-mae:95.84161\teval-mae:116.02612\n",
      "[506]\ttrain-mae:95.78111\teval-mae:115.94779\n",
      "[507]\ttrain-mae:95.72916\teval-mae:115.86920\n",
      "[508]\ttrain-mae:95.66959\teval-mae:115.80980\n",
      "[509]\ttrain-mae:95.53007\teval-mae:115.66930\n",
      "[510]\ttrain-mae:95.39673\teval-mae:115.53253\n",
      "[511]\ttrain-mae:95.35037\teval-mae:115.46457\n",
      "[512]\ttrain-mae:95.30260\teval-mae:115.39010\n",
      "[513]\ttrain-mae:95.25110\teval-mae:115.32575\n",
      "[514]\ttrain-mae:95.11615\teval-mae:115.18902\n",
      "[515]\ttrain-mae:95.06567\teval-mae:115.12330\n",
      "[516]\ttrain-mae:95.01946\teval-mae:115.05017\n",
      "[517]\ttrain-mae:94.96864\teval-mae:115.00104\n",
      "[518]\ttrain-mae:94.93032\teval-mae:114.94971\n",
      "[519]\ttrain-mae:94.80164\teval-mae:114.81528\n",
      "[520]\ttrain-mae:94.75770\teval-mae:114.74591\n",
      "[521]\ttrain-mae:94.71596\teval-mae:114.66515\n",
      "[522]\ttrain-mae:94.65686\teval-mae:114.59971\n",
      "[523]\ttrain-mae:94.62009\teval-mae:114.54977\n",
      "[524]\ttrain-mae:94.49120\teval-mae:114.41864\n",
      "[525]\ttrain-mae:94.44486\teval-mae:114.33668\n",
      "[526]\ttrain-mae:94.32516\teval-mae:114.21459\n",
      "[527]\ttrain-mae:94.28366\teval-mae:114.14891\n",
      "[528]\ttrain-mae:94.23766\teval-mae:114.10566\n",
      "[529]\ttrain-mae:94.11094\teval-mae:113.97760\n",
      "[530]\ttrain-mae:94.06269\teval-mae:113.92981\n",
      "[531]\ttrain-mae:94.02163\teval-mae:113.89075\n",
      "[532]\ttrain-mae:93.90164\teval-mae:113.76936\n",
      "[533]\ttrain-mae:93.85718\teval-mae:113.69084\n",
      "[534]\ttrain-mae:93.73710\teval-mae:113.57194\n",
      "[535]\ttrain-mae:93.69825\teval-mae:113.50586\n",
      "[536]\ttrain-mae:93.66603\teval-mae:113.48477\n",
      "[537]\ttrain-mae:93.62152\teval-mae:113.40922\n",
      "[538]\ttrain-mae:93.49967\teval-mae:113.28628\n",
      "[539]\ttrain-mae:93.45591\teval-mae:113.21904\n",
      "[540]\ttrain-mae:93.40635\teval-mae:113.16849\n",
      "[541]\ttrain-mae:93.29488\teval-mae:113.05492\n",
      "[542]\ttrain-mae:93.16646\teval-mae:112.92162\n",
      "[543]\ttrain-mae:93.12170\teval-mae:112.87819\n",
      "[544]\ttrain-mae:93.01195\teval-mae:112.75916\n",
      "[545]\ttrain-mae:92.96920\teval-mae:112.69516\n",
      "[546]\ttrain-mae:92.92180\teval-mae:112.61044\n",
      "[547]\ttrain-mae:92.87069\teval-mae:112.52861\n",
      "[548]\ttrain-mae:92.83557\teval-mae:112.46636\n",
      "[549]\ttrain-mae:92.72264\teval-mae:112.35442\n",
      "[550]\ttrain-mae:92.69503\teval-mae:112.33500\n",
      "[551]\ttrain-mae:92.65102\teval-mae:112.28939\n",
      "[552]\ttrain-mae:92.60709\teval-mae:112.24775\n",
      "[553]\ttrain-mae:92.49242\teval-mae:112.13326\n",
      "[554]\ttrain-mae:92.45176\teval-mae:112.06506\n",
      "[555]\ttrain-mae:92.41137\teval-mae:111.99329\n",
      "[556]\ttrain-mae:92.30397\teval-mae:111.86947\n",
      "[557]\ttrain-mae:92.28048\teval-mae:111.85558\n",
      "[558]\ttrain-mae:92.22629\teval-mae:111.79088\n",
      "[559]\ttrain-mae:92.17338\teval-mae:111.72709\n",
      "[560]\ttrain-mae:92.13528\teval-mae:111.65406\n",
      "[561]\ttrain-mae:92.09093\teval-mae:111.57295\n",
      "[562]\ttrain-mae:92.02491\teval-mae:111.52022\n",
      "[563]\ttrain-mae:91.99774\teval-mae:111.47352\n",
      "[564]\ttrain-mae:91.93302\teval-mae:111.42191\n",
      "[565]\ttrain-mae:91.89212\teval-mae:111.35532\n",
      "[566]\ttrain-mae:91.84598\teval-mae:111.29328\n",
      "[567]\ttrain-mae:91.81968\teval-mae:111.24738\n",
      "[568]\ttrain-mae:91.78212\teval-mae:111.18248\n",
      "[569]\ttrain-mae:91.74866\teval-mae:111.14996\n",
      "[570]\ttrain-mae:91.68629\teval-mae:111.10036\n",
      "[571]\ttrain-mae:91.64285\teval-mae:111.02251\n",
      "[572]\ttrain-mae:91.59731\teval-mae:110.97498\n",
      "[573]\ttrain-mae:91.49173\teval-mae:110.85153\n",
      "[574]\ttrain-mae:91.42595\teval-mae:110.79494\n",
      "[575]\ttrain-mae:91.38512\teval-mae:110.72556\n",
      "[576]\ttrain-mae:91.36016\teval-mae:110.68129\n",
      "[577]\ttrain-mae:91.25602\teval-mae:110.56328\n",
      "[578]\ttrain-mae:91.19612\teval-mae:110.51772\n",
      "[579]\ttrain-mae:91.15787\teval-mae:110.45466\n",
      "[580]\ttrain-mae:91.13524\teval-mae:110.41378\n",
      "[581]\ttrain-mae:91.07242\teval-mae:110.35998\n",
      "[582]\ttrain-mae:91.03505\teval-mae:110.29798\n",
      "[583]\ttrain-mae:91.01114\teval-mae:110.25539\n",
      "[584]\ttrain-mae:90.94914\teval-mae:110.20356\n",
      "[585]\ttrain-mae:90.90890\teval-mae:110.12561\n",
      "[586]\ttrain-mae:90.87622\teval-mae:110.05826\n",
      "[587]\ttrain-mae:90.84708\teval-mae:110.02788\n",
      "[588]\ttrain-mae:90.79203\teval-mae:109.98479\n",
      "[589]\ttrain-mae:90.77016\teval-mae:109.94551\n",
      "[590]\ttrain-mae:90.73471\teval-mae:109.91102\n",
      "[591]\ttrain-mae:90.67528\teval-mae:109.86116\n",
      "[592]\ttrain-mae:90.63655\teval-mae:109.78323\n",
      "[593]\ttrain-mae:90.53497\teval-mae:109.66420\n",
      "[594]\ttrain-mae:90.49944\teval-mae:109.60505\n",
      "[595]\ttrain-mae:90.44141\teval-mae:109.55650\n",
      "[596]\ttrain-mae:90.42061\teval-mae:109.51954\n",
      "[597]\ttrain-mae:90.36885\teval-mae:109.47913\n",
      "[598]\ttrain-mae:90.33412\teval-mae:109.42097\n",
      "[599]\ttrain-mae:90.31198\teval-mae:109.38102\n",
      "[600]\ttrain-mae:90.28016\teval-mae:109.31750\n",
      "[601]\ttrain-mae:90.24943\teval-mae:109.28729\n",
      "[602]\ttrain-mae:90.19097\teval-mae:109.23990\n",
      "[603]\ttrain-mae:90.15195\teval-mae:109.16230\n",
      "[604]\ttrain-mae:90.09727\teval-mae:109.11676\n",
      "[605]\ttrain-mae:90.07763\teval-mae:109.08010\n",
      "[606]\ttrain-mae:90.04044\teval-mae:109.05757\n",
      "[607]\ttrain-mae:90.01419\teval-mae:109.02940\n",
      "[608]\ttrain-mae:89.95799\teval-mae:108.98388\n",
      "[609]\ttrain-mae:89.92721\teval-mae:108.94076\n",
      "[610]\ttrain-mae:89.89875\teval-mae:108.87604\n",
      "[611]\ttrain-mae:89.79641\teval-mae:108.75734\n",
      "[612]\ttrain-mae:89.74855\teval-mae:108.72120\n",
      "[613]\ttrain-mae:89.72998\teval-mae:108.68577\n",
      "[614]\ttrain-mae:89.67999\teval-mae:108.64975\n",
      "[615]\ttrain-mae:89.64733\teval-mae:108.59473\n",
      "[616]\ttrain-mae:89.62773\teval-mae:108.55783\n",
      "[617]\ttrain-mae:89.57493\teval-mae:108.51546\n",
      "[618]\ttrain-mae:89.53979\teval-mae:108.49457\n",
      "[619]\ttrain-mae:89.50845\teval-mae:108.46348\n",
      "[620]\ttrain-mae:89.48137\teval-mae:108.40610\n",
      "[621]\ttrain-mae:89.37985\teval-mae:108.29338\n",
      "[622]\ttrain-mae:89.35108\teval-mae:108.25271\n",
      "[623]\ttrain-mae:89.30621\teval-mae:108.21907\n",
      "[624]\ttrain-mae:89.29005\teval-mae:108.18879\n",
      "[625]\ttrain-mae:89.24094\teval-mae:108.14890\n",
      "[626]\ttrain-mae:89.21287\teval-mae:108.10872\n",
      "[627]\ttrain-mae:89.18002\teval-mae:108.05375\n",
      "[628]\ttrain-mae:89.13435\teval-mae:108.01455\n",
      "[629]\ttrain-mae:89.11768\teval-mae:107.98145\n",
      "[630]\ttrain-mae:89.09193\teval-mae:107.92551\n",
      "[631]\ttrain-mae:88.99421\teval-mae:107.81035\n",
      "[632]\ttrain-mae:88.96855\teval-mae:107.78479\n",
      "[633]\ttrain-mae:88.91960\teval-mae:107.74600\n",
      "[634]\ttrain-mae:88.90429\teval-mae:107.71738\n",
      "[635]\ttrain-mae:88.88472\teval-mae:107.69907\n",
      "[636]\ttrain-mae:88.83450\teval-mae:107.66274\n",
      "[637]\ttrain-mae:88.79894\teval-mae:107.62517\n",
      "[638]\ttrain-mae:88.75518\teval-mae:107.58800\n",
      "[639]\ttrain-mae:88.72958\teval-mae:107.53074\n",
      "[640]\ttrain-mae:88.63243\teval-mae:107.42143\n",
      "[641]\ttrain-mae:88.60567\teval-mae:107.38318\n",
      "[642]\ttrain-mae:88.55912\teval-mae:107.34807\n",
      "[643]\ttrain-mae:88.46383\teval-mae:107.23615\n",
      "[644]\ttrain-mae:88.44743\teval-mae:107.20134\n",
      "[645]\ttrain-mae:88.41446\teval-mae:107.14118\n",
      "[646]\ttrain-mae:88.37623\teval-mae:107.12258\n",
      "[647]\ttrain-mae:88.36122\teval-mae:107.09153\n",
      "[648]\ttrain-mae:88.34102\teval-mae:107.04492\n",
      "[649]\ttrain-mae:88.30323\teval-mae:107.03312\n",
      "[650]\ttrain-mae:88.27105\teval-mae:106.97622\n",
      "[651]\ttrain-mae:88.25558\teval-mae:106.94332\n",
      "[652]\ttrain-mae:88.21497\teval-mae:106.90880\n",
      "[653]\ttrain-mae:88.18412\teval-mae:106.87882\n",
      "[654]\ttrain-mae:88.16188\teval-mae:106.82804\n",
      "[655]\ttrain-mae:88.12818\teval-mae:106.74894\n",
      "[656]\ttrain-mae:88.09323\teval-mae:106.71087\n",
      "[657]\ttrain-mae:88.00115\teval-mae:106.60499\n",
      "[658]\ttrain-mae:87.96230\teval-mae:106.58882\n",
      "[659]\ttrain-mae:87.94259\teval-mae:106.55490\n",
      "[660]\ttrain-mae:87.85079\teval-mae:106.45046\n",
      "[661]\ttrain-mae:87.83601\teval-mae:106.43139\n",
      "[662]\ttrain-mae:87.79343\teval-mae:106.39964\n",
      "[663]\ttrain-mae:87.75776\teval-mae:106.36475\n",
      "[664]\ttrain-mae:87.73435\teval-mae:106.34179\n",
      "[665]\ttrain-mae:87.71282\teval-mae:106.29266\n",
      "[666]\ttrain-mae:87.62476\teval-mae:106.18591\n",
      "[667]\ttrain-mae:87.58946\teval-mae:106.15838\n",
      "[668]\ttrain-mae:87.49338\teval-mae:106.05563\n",
      "[669]\ttrain-mae:87.48027\teval-mae:106.02788\n",
      "[670]\ttrain-mae:87.46614\teval-mae:106.00108\n",
      "[671]\ttrain-mae:87.42509\teval-mae:105.97098\n",
      "[672]\ttrain-mae:87.39674\teval-mae:105.94371\n",
      "[673]\ttrain-mae:87.37660\teval-mae:105.89607\n",
      "[674]\ttrain-mae:87.28102\teval-mae:105.80397\n",
      "[675]\ttrain-mae:87.26263\teval-mae:105.77163\n",
      "[676]\ttrain-mae:87.22654\teval-mae:105.75769\n",
      "[677]\ttrain-mae:87.19883\teval-mae:105.73084\n",
      "[678]\ttrain-mae:87.17755\teval-mae:105.67463\n",
      "[679]\ttrain-mae:87.09171\teval-mae:105.57175\n",
      "[680]\ttrain-mae:87.05805\teval-mae:105.54635\n",
      "[681]\ttrain-mae:87.03529\teval-mae:105.49811\n",
      "[682]\ttrain-mae:87.02325\teval-mae:105.47513\n",
      "[683]\ttrain-mae:86.99270\teval-mae:105.40095\n",
      "[684]\ttrain-mae:86.96707\teval-mae:105.37645\n",
      "[685]\ttrain-mae:86.90676\teval-mae:105.31776\n",
      "[686]\ttrain-mae:86.86812\teval-mae:105.29009\n",
      "[687]\ttrain-mae:86.85117\teval-mae:105.25976\n",
      "[688]\ttrain-mae:86.79295\teval-mae:105.20407\n",
      "[689]\ttrain-mae:86.76075\teval-mae:105.19117\n",
      "[690]\ttrain-mae:86.74808\teval-mae:105.16204\n",
      "[691]\ttrain-mae:86.69092\teval-mae:105.10690\n",
      "[692]\ttrain-mae:86.66343\teval-mae:105.02524\n",
      "[693]\ttrain-mae:86.62737\teval-mae:104.99834\n",
      "[694]\ttrain-mae:86.61474\teval-mae:104.98147\n",
      "[695]\ttrain-mae:86.58604\teval-mae:104.95174\n",
      "[696]\ttrain-mae:86.54936\teval-mae:104.92578\n",
      "[697]\ttrain-mae:86.53387\teval-mae:104.89441\n",
      "[698]\ttrain-mae:86.47852\teval-mae:104.84090\n",
      "[699]\ttrain-mae:86.45521\teval-mae:104.76619\n",
      "[700]\ttrain-mae:86.42073\teval-mae:104.73089\n",
      "[701]\ttrain-mae:86.39400\teval-mae:104.70629\n",
      "[702]\ttrain-mae:86.36337\teval-mae:104.69429\n",
      "[703]\ttrain-mae:86.30913\teval-mae:104.64141\n",
      "[704]\ttrain-mae:86.28678\teval-mae:104.57509\n",
      "[705]\ttrain-mae:86.27110\teval-mae:104.54669\n",
      "[706]\ttrain-mae:86.23720\teval-mae:104.52107\n",
      "[707]\ttrain-mae:86.22536\teval-mae:104.50492\n",
      "[708]\ttrain-mae:86.20119\teval-mae:104.48118\n",
      "[709]\ttrain-mae:86.14972\teval-mae:104.42991\n",
      "[710]\ttrain-mae:86.11741\teval-mae:104.40368\n",
      "[711]\ttrain-mae:86.10522\teval-mae:104.38621\n",
      "[712]\ttrain-mae:86.08372\teval-mae:104.32181\n",
      "[713]\ttrain-mae:86.05398\teval-mae:104.29145\n",
      "[714]\ttrain-mae:86.02296\teval-mae:104.28153\n",
      "[715]\ttrain-mae:85.97246\teval-mae:104.23173\n",
      "[716]\ttrain-mae:85.95416\teval-mae:104.17118\n",
      "[717]\ttrain-mae:85.94286\teval-mae:104.15562\n",
      "[718]\ttrain-mae:85.91279\teval-mae:104.13092\n",
      "[719]\ttrain-mae:85.89576\teval-mae:104.09033\n",
      "[720]\ttrain-mae:85.87885\teval-mae:104.04825\n",
      "[721]\ttrain-mae:85.85389\teval-mae:104.02298\n",
      "[722]\ttrain-mae:85.83161\teval-mae:103.95722\n",
      "[723]\ttrain-mae:85.80180\teval-mae:103.94818\n",
      "[724]\ttrain-mae:85.75950\teval-mae:103.86479\n",
      "[725]\ttrain-mae:85.74305\teval-mae:103.83004\n",
      "[726]\ttrain-mae:85.72878\teval-mae:103.78562\n",
      "[727]\ttrain-mae:85.71866\teval-mae:103.77514\n",
      "[728]\ttrain-mae:85.68850\teval-mae:103.75264\n",
      "[729]\ttrain-mae:85.66238\teval-mae:103.73684\n",
      "[730]\ttrain-mae:85.61864\teval-mae:103.65043\n",
      "[731]\ttrain-mae:85.59556\teval-mae:103.55019\n",
      "[732]\ttrain-mae:85.58098\teval-mae:103.51289\n",
      "[733]\ttrain-mae:85.55469\teval-mae:103.50268\n",
      "[734]\ttrain-mae:85.52832\teval-mae:103.43009\n",
      "[735]\ttrain-mae:85.51718\teval-mae:103.39663\n",
      "[736]\ttrain-mae:85.48933\teval-mae:103.36808\n",
      "[737]\ttrain-mae:85.46940\teval-mae:103.31183\n",
      "[738]\ttrain-mae:85.43968\teval-mae:103.29420\n",
      "[739]\ttrain-mae:85.41445\teval-mae:103.27895\n",
      "[740]\ttrain-mae:85.39487\teval-mae:103.25952\n",
      "[741]\ttrain-mae:85.34709\teval-mae:103.21386\n",
      "[742]\ttrain-mae:85.32013\teval-mae:103.19252\n",
      "[743]\ttrain-mae:85.30666\teval-mae:103.16312\n",
      "[744]\ttrain-mae:85.25964\teval-mae:103.11722\n",
      "[745]\ttrain-mae:85.24675\teval-mae:103.07583\n",
      "[746]\ttrain-mae:85.23055\teval-mae:103.03715\n",
      "[747]\ttrain-mae:85.20095\teval-mae:103.01813\n",
      "[748]\ttrain-mae:85.15825\teval-mae:102.93841\n",
      "[749]\ttrain-mae:85.13847\teval-mae:102.87566\n",
      "[750]\ttrain-mae:85.12553\teval-mae:102.84701\n",
      "[751]\ttrain-mae:85.10979\teval-mae:102.80918\n",
      "[752]\ttrain-mae:85.06316\teval-mae:102.76572\n",
      "[753]\ttrain-mae:85.03782\teval-mae:102.75748\n",
      "[754]\ttrain-mae:85.02533\teval-mae:102.71680\n",
      "[755]\ttrain-mae:84.98443\teval-mae:102.63986\n",
      "[756]\ttrain-mae:84.96017\teval-mae:102.62523\n",
      "[757]\ttrain-mae:84.94542\teval-mae:102.59237\n",
      "[758]\ttrain-mae:84.91833\teval-mae:102.57389\n",
      "[759]\ttrain-mae:84.90208\teval-mae:102.53972\n",
      "[760]\ttrain-mae:84.84021\teval-mae:102.46741\n",
      "[761]\ttrain-mae:84.81564\teval-mae:102.40377\n",
      "[762]\ttrain-mae:84.79153\teval-mae:102.37818\n",
      "[763]\ttrain-mae:84.77533\teval-mae:102.36085\n",
      "[764]\ttrain-mae:84.74922\teval-mae:102.34221\n",
      "[765]\ttrain-mae:84.73994\teval-mae:102.31344\n",
      "[766]\ttrain-mae:84.72229\teval-mae:102.23455\n",
      "[767]\ttrain-mae:84.68370\teval-mae:102.16012\n",
      "[768]\ttrain-mae:84.65832\teval-mae:102.15413\n",
      "[769]\ttrain-mae:84.63525\teval-mae:102.13968\n",
      "[770]\ttrain-mae:84.62548\teval-mae:102.10812\n",
      "[771]\ttrain-mae:84.60844\teval-mae:102.02933\n",
      "[772]\ttrain-mae:84.57212\teval-mae:101.95465\n",
      "[773]\ttrain-mae:84.55840\teval-mae:101.92238\n",
      "[774]\ttrain-mae:84.54147\teval-mae:101.91063\n",
      "[775]\ttrain-mae:84.52740\teval-mae:101.87875\n",
      "[776]\ttrain-mae:84.50452\teval-mae:101.87049\n",
      "[777]\ttrain-mae:84.48208\teval-mae:101.80744\n",
      "[778]\ttrain-mae:84.44574\teval-mae:101.76750\n",
      "[779]\ttrain-mae:84.42960\teval-mae:101.75360\n",
      "[780]\ttrain-mae:84.40699\teval-mae:101.73972\n",
      "[781]\ttrain-mae:84.38911\teval-mae:101.68839\n",
      "[782]\ttrain-mae:84.35766\teval-mae:101.56093\n",
      "[783]\ttrain-mae:84.34634\teval-mae:101.53435\n",
      "[784]\ttrain-mae:84.32493\teval-mae:101.53041\n",
      "[785]\ttrain-mae:84.28993\teval-mae:101.49186\n",
      "[786]\ttrain-mae:84.24633\teval-mae:101.45233\n",
      "[787]\ttrain-mae:84.22168\teval-mae:101.43247\n",
      "[788]\ttrain-mae:84.21213\teval-mae:101.41573\n",
      "[789]\ttrain-mae:84.16927\teval-mae:101.37753\n",
      "[790]\ttrain-mae:84.15588\teval-mae:101.34641\n",
      "[791]\ttrain-mae:84.11601\teval-mae:101.30925\n",
      "[792]\ttrain-mae:84.09139\teval-mae:101.29395\n",
      "[793]\ttrain-mae:84.07838\teval-mae:101.26357\n",
      "[794]\ttrain-mae:84.06531\teval-mae:101.23277\n",
      "[795]\ttrain-mae:83.98933\teval-mae:101.16784\n",
      "[796]\ttrain-mae:83.96630\teval-mae:101.14979\n",
      "[797]\ttrain-mae:83.95546\teval-mae:101.12307\n",
      "[798]\ttrain-mae:83.88141\teval-mae:101.05974\n",
      "[799]\ttrain-mae:83.80824\teval-mae:100.99836\n",
      "[800]\ttrain-mae:83.79566\teval-mae:100.96885\n",
      "[801]\ttrain-mae:83.77293\teval-mae:100.96434\n",
      "[802]\ttrain-mae:83.76193\teval-mae:100.93030\n",
      "[803]\ttrain-mae:83.74475\teval-mae:100.91026\n",
      "[804]\ttrain-mae:83.72814\teval-mae:100.90023\n",
      "[805]\ttrain-mae:83.70180\teval-mae:100.86257\n",
      "[806]\ttrain-mae:83.68227\teval-mae:100.80410\n",
      "[807]\ttrain-mae:83.65118\teval-mae:100.67710\n",
      "[808]\ttrain-mae:83.64060\teval-mae:100.65146\n",
      "[809]\ttrain-mae:83.62569\teval-mae:100.64230\n",
      "[810]\ttrain-mae:83.59478\teval-mae:100.54743\n",
      "[811]\ttrain-mae:83.57150\teval-mae:100.53398\n",
      "[812]\ttrain-mae:83.55987\teval-mae:100.50175\n",
      "[813]\ttrain-mae:83.54778\teval-mae:100.47383\n",
      "[814]\ttrain-mae:83.53196\teval-mae:100.46072\n",
      "[815]\ttrain-mae:83.50813\teval-mae:100.43578\n",
      "[816]\ttrain-mae:83.47831\teval-mae:100.31233\n",
      "[817]\ttrain-mae:83.45493\teval-mae:100.27953\n",
      "[818]\ttrain-mae:83.42435\teval-mae:100.18902\n",
      "[819]\ttrain-mae:83.38696\teval-mae:100.15500\n",
      "[820]\ttrain-mae:83.37691\teval-mae:100.13068\n",
      "[821]\ttrain-mae:83.34047\teval-mae:100.09755\n",
      "[822]\ttrain-mae:83.27579\teval-mae:100.04105\n",
      "[823]\ttrain-mae:83.25446\teval-mae:100.03752\n",
      "[824]\ttrain-mae:83.24283\teval-mae:100.01042\n",
      "[825]\ttrain-mae:83.22536\teval-mae:99.99749\n",
      "[826]\ttrain-mae:83.20542\teval-mae:99.93973\n",
      "[827]\ttrain-mae:83.18874\teval-mae:99.92411\n",
      "[828]\ttrain-mae:83.12523\teval-mae:99.86864\n",
      "[829]\ttrain-mae:83.10123\teval-mae:99.83187\n",
      "[830]\ttrain-mae:83.08255\teval-mae:99.79900\n",
      "[831]\ttrain-mae:83.06793\teval-mae:99.78440\n",
      "[832]\ttrain-mae:83.05660\teval-mae:99.75799\n",
      "[833]\ttrain-mae:83.04378\teval-mae:99.75077\n",
      "[834]\ttrain-mae:83.01463\teval-mae:99.66480\n",
      "[835]\ttrain-mae:82.99621\teval-mae:99.63262\n",
      "[836]\ttrain-mae:82.93360\teval-mae:99.57870\n",
      "[837]\ttrain-mae:82.91426\teval-mae:99.57365\n",
      "[838]\ttrain-mae:82.89144\teval-mae:99.54567\n",
      "[839]\ttrain-mae:82.87478\teval-mae:99.53322\n",
      "[840]\ttrain-mae:82.84610\teval-mae:99.41847\n",
      "[841]\ttrain-mae:82.82350\teval-mae:99.38984\n",
      "[842]\ttrain-mae:82.80919\teval-mae:99.37525\n",
      "[843]\ttrain-mae:82.74509\teval-mae:99.32120\n",
      "[844]\ttrain-mae:82.72073\teval-mae:99.29304\n",
      "[845]\ttrain-mae:82.71024\teval-mae:99.26094\n",
      "[846]\ttrain-mae:82.69453\teval-mae:99.24636\n",
      "[847]\ttrain-mae:82.67352\teval-mae:99.22822\n",
      "[848]\ttrain-mae:82.61047\teval-mae:99.17458\n",
      "[849]\ttrain-mae:82.58917\teval-mae:99.16883\n",
      "[850]\ttrain-mae:82.56694\teval-mae:99.14070\n",
      "[851]\ttrain-mae:82.55156\teval-mae:99.12686\n",
      "[852]\ttrain-mae:82.47586\teval-mae:99.06105\n",
      "[853]\ttrain-mae:82.45715\teval-mae:99.00582\n",
      "[854]\ttrain-mae:82.44798\teval-mae:98.98175\n",
      "[855]\ttrain-mae:82.41315\teval-mae:98.94411\n",
      "[856]\ttrain-mae:82.35214\teval-mae:98.89232\n",
      "[857]\ttrain-mae:82.33125\teval-mae:98.88074\n",
      "[858]\ttrain-mae:82.31069\teval-mae:98.86299\n",
      "[859]\ttrain-mae:82.30026\teval-mae:98.83876\n",
      "[860]\ttrain-mae:82.28825\teval-mae:98.80554\n",
      "[861]\ttrain-mae:82.21423\teval-mae:98.74394\n",
      "[862]\ttrain-mae:82.17151\teval-mae:98.71022\n",
      "[863]\ttrain-mae:82.10822\teval-mae:98.65821\n",
      "[864]\ttrain-mae:82.08424\teval-mae:98.62620\n",
      "[865]\ttrain-mae:82.06720\teval-mae:98.56881\n",
      "[866]\ttrain-mae:82.04483\teval-mae:98.54325\n",
      "[867]\ttrain-mae:82.03494\teval-mae:98.51772\n",
      "[868]\ttrain-mae:81.97870\teval-mae:98.47030\n",
      "[869]\ttrain-mae:81.95889\teval-mae:98.45324\n",
      "[870]\ttrain-mae:81.94885\teval-mae:98.42993\n",
      "[871]\ttrain-mae:81.93555\teval-mae:98.42292\n",
      "[872]\ttrain-mae:81.92385\teval-mae:98.39052\n",
      "[873]\ttrain-mae:81.85235\teval-mae:98.33087\n",
      "[874]\ttrain-mae:81.83736\teval-mae:98.31988\n",
      "[875]\ttrain-mae:81.81792\teval-mae:98.31683\n",
      "[876]\ttrain-mae:81.80347\teval-mae:98.28600\n",
      "[877]\ttrain-mae:81.77135\teval-mae:98.25276\n",
      "[878]\ttrain-mae:81.71094\teval-mae:98.20321\n",
      "[879]\ttrain-mae:81.69629\teval-mae:98.19249\n",
      "[880]\ttrain-mae:81.68501\teval-mae:98.16061\n",
      "[881]\ttrain-mae:81.61672\teval-mae:98.10303\n",
      "[882]\ttrain-mae:81.59959\teval-mae:98.04377\n",
      "[883]\ttrain-mae:81.55067\teval-mae:97.97406\n",
      "[884]\ttrain-mae:81.53457\teval-mae:97.91928\n",
      "[885]\ttrain-mae:81.46716\teval-mae:97.86298\n",
      "[886]\ttrain-mae:81.44253\teval-mae:97.78458\n",
      "[887]\ttrain-mae:81.41161\teval-mae:97.75002\n",
      "[888]\ttrain-mae:81.39143\teval-mae:97.74888\n",
      "[889]\ttrain-mae:81.37700\teval-mae:97.73815\n",
      "[890]\ttrain-mae:81.36271\teval-mae:97.68855\n",
      "[891]\ttrain-mae:81.30727\teval-mae:97.63953\n",
      "[892]\ttrain-mae:81.29272\teval-mae:97.60789\n",
      "[893]\ttrain-mae:81.27393\teval-mae:97.59166\n",
      "[894]\ttrain-mae:81.25935\teval-mae:97.52855\n",
      "[895]\ttrain-mae:81.24832\teval-mae:97.52199\n",
      "[896]\ttrain-mae:81.22395\teval-mae:97.44588\n",
      "[897]\ttrain-mae:81.20971\teval-mae:97.41499\n",
      "[898]\ttrain-mae:81.19490\teval-mae:97.40752\n",
      "[899]\ttrain-mae:81.18092\teval-mae:97.39709\n",
      "[900]\ttrain-mae:81.16804\teval-mae:97.37225\n",
      "[901]\ttrain-mae:81.10211\teval-mae:97.31890\n",
      "[902]\ttrain-mae:81.09238\teval-mae:97.30698\n",
      "[903]\ttrain-mae:81.06906\teval-mae:97.23405\n",
      "[904]\ttrain-mae:81.05262\teval-mae:97.23471\n",
      "[905]\ttrain-mae:81.04351\teval-mae:97.21325\n",
      "[906]\ttrain-mae:81.02677\teval-mae:97.18363\n",
      "[907]\ttrain-mae:80.99662\teval-mae:97.15181\n",
      "[908]\ttrain-mae:80.98392\teval-mae:97.14427\n",
      "[909]\ttrain-mae:80.96061\teval-mae:97.04600\n",
      "[910]\ttrain-mae:80.94222\teval-mae:97.03020\n",
      "[911]\ttrain-mae:80.93141\teval-mae:96.99988\n",
      "[912]\ttrain-mae:80.91651\teval-mae:96.99550\n",
      "[913]\ttrain-mae:80.89734\teval-mae:96.95266\n",
      "[914]\ttrain-mae:80.87500\teval-mae:96.88092\n",
      "[915]\ttrain-mae:80.82300\teval-mae:96.84023\n",
      "[916]\ttrain-mae:80.80498\teval-mae:96.83697\n",
      "[917]\ttrain-mae:80.79163\teval-mae:96.82696\n",
      "[918]\ttrain-mae:80.78312\teval-mae:96.80295\n",
      "[919]\ttrain-mae:80.76341\teval-mae:96.75317\n",
      "[920]\ttrain-mae:80.74123\teval-mae:96.65848\n",
      "[921]\ttrain-mae:80.72810\teval-mae:96.64850\n",
      "[922]\ttrain-mae:80.71031\teval-mae:96.64872\n",
      "[923]\ttrain-mae:80.70266\teval-mae:96.64300\n",
      "[924]\ttrain-mae:80.68944\teval-mae:96.61734\n",
      "[925]\ttrain-mae:80.66774\teval-mae:96.54652\n",
      "[926]\ttrain-mae:80.63874\teval-mae:96.51584\n",
      "[927]\ttrain-mae:80.57514\teval-mae:96.46396\n",
      "[928]\ttrain-mae:80.56234\teval-mae:96.45417\n",
      "[929]\ttrain-mae:80.54229\teval-mae:96.43938\n",
      "[930]\ttrain-mae:80.53400\teval-mae:96.41584\n",
      "[931]\ttrain-mae:80.52363\teval-mae:96.38653\n",
      "[932]\ttrain-mae:80.50983\teval-mae:96.37970\n",
      "[933]\ttrain-mae:80.49717\teval-mae:96.36940\n",
      "[934]\ttrain-mae:80.47942\teval-mae:96.32916\n",
      "[935]\ttrain-mae:80.41779\teval-mae:96.28011\n",
      "[936]\ttrain-mae:80.39847\teval-mae:96.27670\n",
      "[937]\ttrain-mae:80.37642\teval-mae:96.24659\n",
      "[938]\ttrain-mae:80.34891\teval-mae:96.21680\n",
      "[939]\ttrain-mae:80.33653\teval-mae:96.20757\n",
      "[940]\ttrain-mae:80.31640\teval-mae:96.14016\n",
      "[941]\ttrain-mae:80.26843\teval-mae:96.09852\n",
      "[942]\ttrain-mae:80.26170\teval-mae:96.09530\n",
      "[943]\ttrain-mae:80.24247\teval-mae:96.08111\n",
      "[944]\ttrain-mae:80.22572\teval-mae:96.06638\n",
      "[945]\ttrain-mae:80.21904\teval-mae:96.04690\n",
      "[946]\ttrain-mae:80.20907\teval-mae:96.01811\n",
      "[947]\ttrain-mae:80.14527\teval-mae:95.96581\n",
      "[948]\ttrain-mae:80.13261\teval-mae:95.91287\n",
      "[949]\ttrain-mae:80.12238\teval-mae:95.90751\n",
      "[950]\ttrain-mae:80.10912\teval-mae:95.88207\n",
      "[951]\ttrain-mae:80.09220\teval-mae:95.88191\n",
      "[952]\ttrain-mae:80.08033\teval-mae:95.87268\n",
      "[953]\ttrain-mae:80.05394\teval-mae:95.84386\n",
      "[954]\ttrain-mae:80.03661\teval-mae:95.83119\n",
      "[955]\ttrain-mae:80.02395\teval-mae:95.81883\n",
      "[956]\ttrain-mae:80.01161\teval-mae:95.79429\n",
      "[957]\ttrain-mae:79.96428\teval-mae:95.75635\n",
      "[958]\ttrain-mae:79.95456\teval-mae:95.72810\n",
      "[959]\ttrain-mae:79.93584\teval-mae:95.71468\n",
      "[960]\ttrain-mae:79.92791\teval-mae:95.69150\n",
      "[961]\ttrain-mae:79.90606\teval-mae:95.66166\n",
      "[962]\ttrain-mae:79.84700\teval-mae:95.61403\n",
      "[963]\ttrain-mae:79.82834\teval-mae:95.61100\n",
      "[964]\ttrain-mae:79.81996\teval-mae:95.58474\n",
      "[965]\ttrain-mae:79.80953\teval-mae:95.57886\n",
      "[966]\ttrain-mae:79.79599\teval-mae:95.53028\n",
      "[967]\ttrain-mae:79.78441\teval-mae:95.52082\n",
      "[968]\ttrain-mae:79.76760\teval-mae:95.47142\n",
      "[969]\ttrain-mae:79.75585\teval-mae:95.45865\n",
      "[970]\ttrain-mae:79.72953\teval-mae:95.43222\n",
      "[971]\ttrain-mae:79.71228\teval-mae:95.42011\n",
      "[972]\ttrain-mae:79.70410\teval-mae:95.40973\n",
      "[973]\ttrain-mae:79.69520\teval-mae:95.38267\n",
      "[974]\ttrain-mae:79.67866\teval-mae:95.33285\n",
      "[975]\ttrain-mae:79.67193\teval-mae:95.32782\n",
      "[976]\ttrain-mae:79.65981\teval-mae:95.30349\n",
      "[977]\ttrain-mae:79.63851\teval-mae:95.27426\n",
      "[978]\ttrain-mae:79.61978\teval-mae:95.20454\n",
      "[979]\ttrain-mae:79.57348\teval-mae:95.16936\n",
      "[980]\ttrain-mae:79.56354\teval-mae:95.14647\n",
      "[981]\ttrain-mae:79.55467\teval-mae:95.12009\n",
      "[982]\ttrain-mae:79.53982\teval-mae:95.11237\n",
      "[983]\ttrain-mae:79.52832\teval-mae:95.06183\n",
      "[984]\ttrain-mae:79.50793\teval-mae:95.03404\n",
      "[985]\ttrain-mae:79.46320\teval-mae:94.99701\n",
      "[986]\ttrain-mae:79.44519\teval-mae:94.99424\n",
      "[987]\ttrain-mae:79.43425\teval-mae:94.98520\n",
      "[988]\ttrain-mae:79.42207\teval-mae:94.95844\n",
      "[989]\ttrain-mae:79.41598\teval-mae:94.95640\n",
      "[990]\ttrain-mae:79.39843\teval-mae:94.89402\n",
      "[991]\ttrain-mae:79.38844\teval-mae:94.88881\n",
      "[992]\ttrain-mae:79.37765\teval-mae:94.87997\n",
      "[993]\ttrain-mae:79.36994\teval-mae:94.87002\n",
      "[994]\ttrain-mae:79.35087\teval-mae:94.84945\n",
      "[995]\ttrain-mae:79.33971\teval-mae:94.79981\n",
      "[996]\ttrain-mae:79.32216\teval-mae:94.72482\n",
      "[997]\ttrain-mae:79.30012\teval-mae:94.69850\n",
      "[998]\ttrain-mae:79.28906\teval-mae:94.67559\n",
      "[999]\ttrain-mae:79.28313\teval-mae:94.66189\n"
     ]
    }
   ],
   "source": [
    "# train the model\n",
    "bst = xgb.train(\n",
    "    params,\n",
    "    dtrain,\n",
    "    num_boost_round=1000,\n",
    "    evals=[(dtrain, 'train'), (dval, 'eval')],\n",
    "    # add validation set in evals if available\n",
    "    early_stopping_rounds=50,\n",
    "    callbacks=[WandbCallback()]\n",
    ")"
   ],
   "metadata": {
    "collapsed": false,
    "ExecuteTime": {
     "end_time": "2024-04-04T02:58:30.524655Z",
     "start_time": "2024-04-04T02:58:10.085419Z"
    }
   },
   "id": "73cc599c58a25ad5",
   "execution_count": 31
  },
  {
   "cell_type": "code",
   "outputs": [],
   "source": [
    "# evaluate the model\n",
    "yhat = bst.predict(dtest)\n",
    "error = mean_absolute_error(testy, yhat)"
   ],
   "metadata": {
    "collapsed": false,
    "ExecuteTime": {
     "end_time": "2024-04-04T02:58:30.541869Z",
     "start_time": "2024-04-04T02:58:30.525233Z"
    }
   },
   "id": "26add5041c6bb9b7",
   "execution_count": 32
  },
  {
   "cell_type": "code",
   "outputs": [],
   "source": [
    "# assuming yhat is the prediction array and testy is the actual target\n",
    "# values from the test set\n",
    "actual = testy\n",
    "predicted = yhat"
   ],
   "metadata": {
    "collapsed": false,
    "ExecuteTime": {
     "end_time": "2024-04-04T02:58:30.546995Z",
     "start_time": "2024-04-04T02:58:30.545556Z"
    }
   },
   "id": "a69143576488a944",
   "execution_count": 33
  },
  {
   "cell_type": "code",
   "outputs": [],
   "source": [
    "# generate a time index for plotting.\n",
    "# since we have 30-minute intervals, this can be represented similarly\n",
    "# assuming the test set starts immediately after your training and\n",
    "# val sets, we can calculate the start date as follows\n",
    "# this requires your original DataFrame (df) to have a datetime index\n",
    "test_start_date = df.index[-len(testy)]  # get the start date for test set"
   ],
   "metadata": {
    "collapsed": false,
    "ExecuteTime": {
     "end_time": "2024-04-04T02:58:30.558030Z",
     "start_time": "2024-04-04T02:58:30.547454Z"
    }
   },
   "id": "f85fa300f8bef904",
   "execution_count": 34
  },
  {
   "cell_type": "code",
   "outputs": [],
   "source": [
    "# generate a date range for the test set\n",
    "test_dates = pd.date_range(\n",
    "    start=test_start_date,\n",
    "    periods=len(testy),\n",
    "    freq='30min'\n",
    ")"
   ],
   "metadata": {
    "collapsed": false,
    "ExecuteTime": {
     "end_time": "2024-04-04T02:58:30.567571Z",
     "start_time": "2024-04-04T02:58:30.558465Z"
    }
   },
   "id": "98eeeaa679d3a68",
   "execution_count": 35
  },
  {
   "cell_type": "code",
   "outputs": [
    {
     "data": {
      "text/plain": "<Figure size 1500x700 with 1 Axes>",
      "image/png": "[encoded data removed]"
     },
     "metadata": {},
     "output_type": "display_data"
    }
   ],
   "source": [
    "# Plotting\n",
    "plt.figure(figsize=(15, 7))\n",
    "plt.plot(test_dates, actual, label='Actual', marker='.', linestyle='-',\n",
    "             linewidth=1.0)\n",
    "plt.plot(test_dates, predicted, label='Predicted', marker='.',\n",
    "             linestyle='--', linewidth=1.0)\n",
    "plt.title('Test Set: Actual vs Predicted Demand')\n",
    "plt.xlabel('Date Time')\n",
    "plt.ylabel('Total Demand')\n",
    "plt.legend()\n",
    "plt.tight_layout()"
   ],
   "metadata": {
    "collapsed": false,
    "ExecuteTime": {
     "end_time": "2024-04-04T02:58:30.761422Z",
     "start_time": "2024-04-04T02:58:30.568059Z"
    }
   },
   "id": "31ebd25235cb612d",
   "execution_count": 36
  },
  {
   "cell_type": "code",
   "outputs": [],
   "source": [
    "# can focus on a smaller time frame for a more detailed view\n",
    "# plt.xlim([pd.Timestamp('2010-08-05'), pd.Timestamp('2010-08-12')])"
   ],
   "metadata": {
    "collapsed": false,
    "ExecuteTime": {
     "end_time": "2024-04-04T02:58:30.763499Z",
     "start_time": "2024-04-04T02:58:30.762012Z"
    }
   },
   "id": "4e75a7ccae0752",
   "execution_count": 37
  },
  {
   "cell_type": "code",
   "outputs": [],
   "source": [
    "plt.show()"
   ],
   "metadata": {
    "collapsed": false,
    "ExecuteTime": {
     "end_time": "2024-04-04T02:58:30.839028Z",
     "start_time": "2024-04-04T02:58:30.763917Z"
    }
   },
   "id": "a80ea41bcd8bdeff",
   "execution_count": 38
  },
  {
   "cell_type": "code",
   "outputs": [],
   "source": [
    "# close the plot to free up memory\n",
    "plt.close()"
   ],
   "metadata": {
    "collapsed": false,
    "ExecuteTime": {
     "end_time": "2024-04-04T02:58:30.842145Z",
     "start_time": "2024-04-04T02:58:30.839642Z"
    }
   },
   "id": "7c0f090c6d83720a",
   "execution_count": 39
  },
  {
   "cell_type": "code",
   "outputs": [],
   "source": [
    "# log the test MAE\n",
    "# wandb.log({\"Test MAE\": error})"
   ],
   "metadata": {
    "collapsed": false,
    "ExecuteTime": {
     "end_time": "2024-04-04T02:58:30.845343Z",
     "start_time": "2024-04-04T02:58:30.842687Z"
    }
   },
   "id": "fa7fbb578a992326",
   "execution_count": 40
  },
  {
   "cell_type": "code",
   "outputs": [],
   "source": [
    "# finish the W&B run\n",
    "# wandb.finish()"
   ],
   "metadata": {
    "collapsed": false,
    "ExecuteTime": {
     "end_time": "2024-04-04T02:58:30.848431Z",
     "start_time": "2024-04-04T02:58:30.846906Z"
    }
   },
   "id": "10da23e5074b8600",
   "execution_count": 41
  }
 ],
 "metadata": {
  "kernelspec": {
   "display_name": "Python 3",
   "language": "python",
   "name": "python3"
  },
  "language_info": {
   "codemirror_mode": {
    "name": "ipython",
    "version": 2
   },
   "file_extension": ".py",
   "mimetype": "text/x-python",
   "name": "python",
   "nbconvert_exporter": "python",
   "pygments_lexer": "ipython2",
   "version": "2.7.6"
  }
 },
 "nbformat": 4,
 "nbformat_minor": 5
}
